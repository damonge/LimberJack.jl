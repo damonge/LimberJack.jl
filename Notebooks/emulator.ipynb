{
 "cells": [
  {
   "cell_type": "code",
   "execution_count": 1,
   "id": "41a6f44e",
   "metadata": {},
   "outputs": [],
   "source": [
    "using LimberJack\n",
    "using NPZ\n",
    "using LinearAlgebra\n",
    "using Statistics"
   ]
  },
  {
   "cell_type": "code",
   "execution_count": 2,
   "id": "b53e5336",
   "metadata": {},
   "outputs": [
    {
     "data": {
      "text/plain": [
       "reparametrize (generic function with 1 method)"
      ]
     },
     "execution_count": 2,
     "metadata": {},
     "output_type": "execute_result"
    }
   ],
   "source": [
    "function reparametrize(cosmo::CosmoPar)\n",
    "    Ωc = cosmo.Ωm - cosmo.Ωb \n",
    "    wc = Ωc*cosmo.h^2\n",
    "    wb = cosmo.Ωb*cosmo.h^2\n",
    "    params = [wc, wb, 2.7, cosmo.n_s, cosmo.h]\n",
    "    cosmotype = eltype(params)\n",
    "    return cosmotype, params\n",
    "end"
   ]
  },
  {
   "cell_type": "code",
   "execution_count": 18,
   "id": "cda52cc1",
   "metadata": {},
   "outputs": [],
   "source": [
    "xinputs = npzread(\"../emulator_files/xinputs.npz\")[\"arr_0\"]\n",
    "yinputs = npzread(\"../emulator_files/yinputs.npz\")[\"arr_0\"]\n",
    "hyper = npzread(\"../emulator_files/hypers.npz\")[\"arr_0\"]\n",
    "alphas = npzread(\"../emulator_files/alphas.npz\")[\"arr_0\"]\n",
    "k_arr = npzread(\"../emulator_files/k_arr.npz\")[\"arr_0\"];"
   ]
  },
  {
   "cell_type": "code",
   "execution_count": 3,
   "id": "1ffcf535",
   "metadata": {},
   "outputs": [
    {
     "ename": "LoadError",
     "evalue": "UndefVarError: k_arr not defined",
     "output_type": "error",
     "traceback": [
      "UndefVarError: k_arr not defined",
      "",
      "Stacktrace:",
      " [1] top-level scope",
      "   @ In[3]:3",
      " [2] eval",
      "   @ ./boot.jl:373 [inlined]",
      " [3] include_string(mapexpr::typeof(REPL.softscope), mod::Module, code::String, filename::String)",
      "   @ Base ./loading.jl:1196"
     ]
    }
   ],
   "source": [
    "cosmo1 = Cosmology(0.252, 0.039, 0.75, 1.0, 0.72,\n",
    "                  nk=256, tk_mode=\"EisHu\")\n",
    "Pk_EisHu = lin_Pk(cosmo1, k_arr, 0.0)"
   ]
  },
  {
   "cell_type": "code",
   "execution_count": 4,
   "id": "821719fa",
   "metadata": {},
   "outputs": [],
   "source": [
    "xinputs = npzread(\"../emulator_files/xinputs.npz\")[\"arr_0\"]\n",
    "yinputs = npzread(\"../emulator_files/yinputs.npz\")[\"arr_0\"]\n",
    "hyper = npzread(\"../emulator_files/hypers.npz\")[\"arr_0\"]\n",
    "alphas = npzread(\"../emulator_files/alphas.npz\")[\"arr_0\"]\n",
    "k_arr = npzread(\"../emulator_files/k_arr.npz\")[\"arr_0\"];"
   ]
  },
  {
   "cell_type": "code",
   "execution_count": 5,
   "id": "770c8677",
   "metadata": {},
   "outputs": [
    {
     "data": {
      "text/plain": [
       "5-element Vector{Float64}:\n",
       " 0.1198125\n",
       " 0.0219375\n",
       " 2.7\n",
       " 1.0\n",
       " 0.75"
      ]
     },
     "execution_count": 5,
     "metadata": {},
     "output_type": "execute_result"
    }
   ],
   "source": [
    "nothing, param = reparametrize(cosmo1.cosmo)\n",
    "param"
   ]
  },
  {
   "cell_type": "code",
   "execution_count": 6,
   "id": "b32507a1",
   "metadata": {},
   "outputs": [
    {
     "data": {
      "text/plain": [
       "inv_y_transformation (generic function with 1 method)"
      ]
     },
     "execution_count": 6,
     "metadata": {},
     "output_type": "execute_result"
    }
   ],
   "source": [
    "function x_transformation(point, x_arr)\n",
    "    \"\"\"Pre-whiten the input parameters.\n",
    "\n",
    "    Args:\n",
    "        point (torch.tensor): the input parameters.\n",
    "\n",
    "    Returns:\n",
    "        torch.tensor: the pre-whitened parameters.\n",
    "    \"\"\"\n",
    "\n",
    "    N, M = size(x_arr)\n",
    "    cov_train = cov(x_arr)\n",
    "    chol_train = cholesky(cov_train).U'\n",
    "    mean_train = mean(x_arr, dims=1)\n",
    "    # calculate the transformed training points\n",
    "    transformed = inv(chol_train) * (point .- mean_train)'\n",
    "\n",
    "    return transformed\n",
    "end\n",
    "\n",
    "function y_transformation(point, y_arr)\n",
    "    \"\"\"Transform the outputs.\n",
    "\n",
    "    Args:\n",
    "        yvalues (np.ndarray): the values to be transformed\n",
    "\n",
    "    Returns:\n",
    "        np.ndarray: the transformed outputs\n",
    "    \"\"\"\n",
    "    ylog = log.(y_arr)\n",
    "    ymean = mean(ylog, dims=1)\n",
    "    ystd = std(ylog, dims=1)\n",
    "    return ((point .- ymean) ./ ystd)'\n",
    "end\n",
    "\n",
    "function inv_y_transformation(point, y_arr)\n",
    "    \"\"\"Transform the outputs.\n",
    "\n",
    "    Args:\n",
    "        yvalues (np.ndarray): the values to be transformed\n",
    "\n",
    "    Returns:\n",
    "        np.ndarray: the transformed outputs\n",
    "    \"\"\"\n",
    "    ylog = log.(y_arr)\n",
    "    ystd = std(ylog, dims=1)\n",
    "    ymean = mean(ylog, dims=1)\n",
    "    return exp.(ystd .* point' .+ ymean)\n",
    "end"
   ]
  },
  {
   "cell_type": "code",
   "execution_count": 7,
   "id": "d566800a",
   "metadata": {},
   "outputs": [],
   "source": [
    "xtrain = x_transformation(xinputs, xinputs)\n",
    "ytrain = y_transformation(yinputs, yinputs)\n",
    "param_t = x_transformation(param', xinputs);"
   ]
  },
  {
   "cell_type": "code",
   "execution_count": 8,
   "id": "80ecac1f",
   "metadata": {},
   "outputs": [
    {
     "data": {
      "text/plain": [
       "get_kernel (generic function with 1 method)"
      ]
     },
     "execution_count": 8,
     "metadata": {},
     "output_type": "execute_result"
    }
   ],
   "source": [
    "function get_kernel(arr1, arr2, hyper)\n",
    "    \"\"\"Compute the kernel matrix between the sets of training cosmoligical parameters\n",
    "       and the desired set of cosmological parameters.\n",
    "    Args:\n",
    "        x1 (np.ndarray): [N x d] tensor of points.\n",
    "        x2 (np.ndarray): [M x d] tensor of points.\n",
    "        hyper (np.ndarray): [d+1] tensor of hyperparameters.\n",
    "    Returns:\n",
    "        np.ndarray: a tensor of size [N x M] containing the kernel matrix.\n",
    "    \"\"\"\n",
    "    \n",
    "    arr1_w = @.(arr1/exp(hyper[2:6]))\n",
    "    arr2_w = @.(arr2/exp(hyper[2:6]))\n",
    "    \n",
    "    # compute the pairwise distance\n",
    "    term1 = sum(arr1_w.^2, dims=1)\n",
    "    term2 = 2 * arr1_w' * arr2_w\n",
    "    term3 = sum(arr2_w.^2, dims=1)'\n",
    "    dist = term1 - term2' .+ term3\n",
    "\n",
    "    # compute the kernel\n",
    "    kernel = @.(exp(hyper[1]) * exp(-0.5 * dist))\n",
    "\n",
    "    return kernel\n",
    "end"
   ]
  },
  {
   "cell_type": "code",
   "execution_count": 9,
   "id": "830154cd",
   "metadata": {},
   "outputs": [],
   "source": [
    "preds = []\n",
    "for i in 1:40\n",
    "    kernel = get_kernel(xtrain, param_t, hyper[i, :])\n",
    "    mean = dot(vec(kernel), vec(alphas[i,:]))\n",
    "    push!(preds, mean)\n",
    "end"
   ]
  },
  {
   "cell_type": "code",
   "execution_count": 10,
   "id": "134fe68c",
   "metadata": {},
   "outputs": [
    {
     "data": {
      "text/plain": [
       "40-element Vector{Float64}:\n",
       "  1054.7732239742577\n",
       "  1403.523202242092\n",
       "  1866.3841566166288\n",
       "  2482.2471673134773\n",
       "  3295.700526594644\n",
       "  4371.725593778084\n",
       "  5783.002933767811\n",
       "  7624.304306471797\n",
       " 10017.977031914463\n",
       " 13067.80339925334\n",
       " 16874.99780820971\n",
       " 21567.133800561343\n",
       " 27005.733796489614\n",
       "     ⋮\n",
       "   908.2101919548819\n",
       "   501.7984023396445\n",
       "   270.1218324531926\n",
       "   142.00535917975347\n",
       "    73.48823733734241\n",
       "    37.37635736629521\n",
       "    18.801547121995146\n",
       "     9.639462049475933\n",
       "     4.5904167082225324\n",
       "     2.2352780755777375\n",
       "     1.0808569224143112\n",
       "     0.5221549078413078"
      ]
     },
     "execution_count": 10,
     "metadata": {},
     "output_type": "execute_result"
    }
   ],
   "source": [
    "Pk_emul = vec(inv_y_transformation(preds, yinputs))"
   ]
  },
  {
   "cell_type": "code",
   "execution_count": 11,
   "id": "1ba25f56",
   "metadata": {
    "scrolled": true
   },
   "outputs": [
    {
     "data": {
      "text/plain": [
       "40-element Vector{Float64}:\n",
       "  1052.2269495176104\n",
       "  1400.1006837319496\n",
       "  1861.8911272629182\n",
       "  2476.147176779898\n",
       "  3287.6844973301368\n",
       "  4360.622395935465\n",
       "  5768.246015020227\n",
       "  7605.7093333515595\n",
       "  9991.288475783096\n",
       " 13030.040508769147\n",
       " 16828.967717594118\n",
       " 21509.000599682495\n",
       " 26936.99441050055\n",
       "     ⋮\n",
       "   905.7546263187387\n",
       "   500.33097932666226\n",
       "   269.18044024590733\n",
       "   141.57033834740713\n",
       "    73.30098015698054\n",
       "    37.272061683438956\n",
       "    18.773043316664758\n",
       "     9.594464720728551\n",
       "     4.5807080957265995\n",
       "     2.229203005882387\n",
       "     1.0782035788309499\n",
       "     0.520894400204188"
      ]
     },
     "execution_count": 11,
     "metadata": {},
     "output_type": "execute_result"
    }
   ],
   "source": [
    "cosmo2 = Cosmology(0.252, 0.039, 0.75, 1.0, 0.72,\n",
    "                  nk=256, tk_mode=\"emulator\")\n",
    "Pk_emul_L = lin_Pk(cosmo2, k_arr, 0.0)"
   ]
  },
  {
   "cell_type": "code",
   "execution_count": 12,
   "id": "a404663e",
   "metadata": {},
   "outputs": [
    {
     "ename": "LoadError",
     "evalue": "UndefVarError: cosmo not defined",
     "output_type": "error",
     "traceback": [
      "UndefVarError: cosmo not defined",
      "",
      "Stacktrace:",
      " [1] top-level scope",
      "   @ In[12]:5",
      " [2] eval",
      "   @ ./boot.jl:373 [inlined]",
      " [3] include_string(mapexpr::typeof(REPL.softscope), mod::Module, code::String, filename::String)",
      "   @ Base ./loading.jl:1196"
     ]
    }
   ],
   "source": [
    "using Interpolations\n",
    "ks_emul, pk0_emul = get_emulated_log_pk0(cosmo2.cosmo)\n",
    "pki_emul = LinearInterpolation(log.(ks_emul), log.(pk0_emul),\n",
    "                               extrapolation_bc=Line())\n",
    "pk0 = exp.(pki_emul(log.(cosmo.ks)));"
   ]
  },
  {
   "cell_type": "code",
   "execution_count": 13,
   "id": "c4a3db2b",
   "metadata": {},
   "outputs": [
    {
     "data": {
      "text/plain": [
       "_σR2 (generic function with 1 method)"
      ]
     },
     "execution_count": 13,
     "metadata": {},
     "output_type": "execute_result"
    }
   ],
   "source": [
    "function w_tophat(x::Real)\n",
    "    x2 = x^2\n",
    "\n",
    "    if x < 0.1\n",
    "        w = 1. + x2*(-1.0/10.0 + x2*(1.0/280.0 +\n",
    "            x2*(-1.0/15120.0 + x2*(1.0/1330560.0 +\n",
    "            x2* (-1.0/172972800.0)))));\n",
    "    else\n",
    "        w = 3 * (sin(x)-x*cos(x))/(x2*x)\n",
    "    end\n",
    "    return w\n",
    "end    \n",
    "\n",
    "function _σR2(ks, pk, dlogk, R)\n",
    "    x = ks .* R\n",
    "    wk = w_tophat.(x)\n",
    "    integ = @. pk * wk^2 * ks^3\n",
    "    # OPT: proper integration instead?\n",
    "    return sum(integ)*dlogk/(2*pi^2)\n",
    "end"
   ]
  },
  {
   "cell_type": "code",
   "execution_count": 14,
   "id": "d260f8a5",
   "metadata": {},
   "outputs": [
    {
     "ename": "LoadError",
     "evalue": "UndefVarError: cpar not defined",
     "output_type": "error",
     "traceback": [
      "UndefVarError: cpar not defined",
      "",
      "Stacktrace:",
      " [1] top-level scope",
      "   @ In[14]:1",
      " [2] eval",
      "   @ ./boot.jl:373 [inlined]",
      " [3] include_string(mapexpr::typeof(REPL.softscope), mod::Module, code::String, filename::String)",
      "   @ Base ./loading.jl:1196"
     ]
    }
   ],
   "source": [
    "σ8_2_here = _σR2(ks, pk0, dlogk, 8.0/cosmo1.cosmo.h)\n",
    "norm = cpar.σ8^2 / σ8_2_here\n"
   ]
  },
  {
   "cell_type": "code",
   "execution_count": 15,
   "id": "2d2c7d82",
   "metadata": {},
   "outputs": [],
   "source": [
    "ref = [1.05199810e+03, 1.39972787e+03, 1.86175310e+03, 2.47485290e+03,\n",
    "       3.28678329e+03, 4.35879529e+03, 5.76807365e+03, 7.60883617e+03,\n",
    "       9.99017257e+03, 1.30291073e+04, 1.68341153e+04, 2.14732641e+04,\n",
    "       2.69244140e+04, 3.30028431e+04, 3.92692797e+04, 4.49267904e+04,\n",
    "       4.87473257e+04, 4.91726610e+04, 4.49690394e+04, 3.67747863e+04,\n",
    "       2.82780596e+04, 2.29757121e+04, 1.74933110e+04, 1.07923121e+04,\n",
    "       7.73217085e+03, 4.73490310e+03, 2.81547163e+03, 1.63726622e+03,\n",
    "       9.16888584e+02, 5.03788217e+02, 2.70399989e+02, 1.42297928e+02,\n",
    "       7.35961443e+01, 3.74882941e+01, 1.88420637e+01, 9.35899651e+00,\n",
    "       4.60024344e+00, 2.24010663e+00, 1.08184944e+00, 5.18425752e-01];"
   ]
  },
  {
   "cell_type": "code",
   "execution_count": 17,
   "id": "2a6fb527",
   "metadata": {
    "scrolled": true
   },
   "outputs": [
    {
     "data": {
      "image/svg+xml": [
       "<?xml version=\"1.0\" encoding=\"utf-8\"?>\n",
       "<svg xmlns=\"http://www.w3.org/2000/svg\" xmlns:xlink=\"http://www.w3.org/1999/xlink\" width=\"600\" height=\"400\" viewBox=\"0 0 2400 1600\">\n",
       "<defs>\n",
       "  <clipPath id=\"clip600\">\n",
       "    <rect x=\"0\" y=\"0\" width=\"2400\" height=\"1600\"/>\n",
       "  </clipPath>\n",
       "</defs>\n",
       "<path clip-path=\"url(#clip600)\" d=\"\n",
       "M0 1600 L2400 1600 L2400 0 L0 0  Z\n",
       "  \" fill=\"#ffffff\" fill-rule=\"evenodd\" fill-opacity=\"1\"/>\n",
       "<defs>\n",
       "  <clipPath id=\"clip601\">\n",
       "    <rect x=\"480\" y=\"0\" width=\"1681\" height=\"1600\"/>\n",
       "  </clipPath>\n",
       "</defs>\n",
       "<path clip-path=\"url(#clip600)\" d=\"\n",
       "M159.422 1474.16 L2352.76 1474.16 L2352.76 47.2441 L159.422 47.2441  Z\n",
       "  \" fill=\"#ffffff\" fill-rule=\"evenodd\" fill-opacity=\"1\"/>\n",
       "<defs>\n",
       "  <clipPath id=\"clip602\">\n",
       "    <rect x=\"159\" y=\"47\" width=\"2194\" height=\"1428\"/>\n",
       "  </clipPath>\n",
       "</defs>\n",
       "<polyline clip-path=\"url(#clip602)\" style=\"stroke:#000000; stroke-linecap:butt; stroke-linejoin:round; stroke-width:2; stroke-opacity:0.1; fill:none\" points=\"\n",
       "  221.498,1474.16 221.498,47.2441 \n",
       "  \"/>\n",
       "<polyline clip-path=\"url(#clip602)\" style=\"stroke:#000000; stroke-linecap:butt; stroke-linejoin:round; stroke-width:2; stroke-opacity:0.1; fill:none\" points=\"\n",
       "  648.565,1474.16 648.565,47.2441 \n",
       "  \"/>\n",
       "<polyline clip-path=\"url(#clip602)\" style=\"stroke:#000000; stroke-linecap:butt; stroke-linejoin:round; stroke-width:2; stroke-opacity:0.1; fill:none\" points=\"\n",
       "  1075.63,1474.16 1075.63,47.2441 \n",
       "  \"/>\n",
       "<polyline clip-path=\"url(#clip602)\" style=\"stroke:#000000; stroke-linecap:butt; stroke-linejoin:round; stroke-width:2; stroke-opacity:0.1; fill:none\" points=\"\n",
       "  1502.7,1474.16 1502.7,47.2441 \n",
       "  \"/>\n",
       "<polyline clip-path=\"url(#clip602)\" style=\"stroke:#000000; stroke-linecap:butt; stroke-linejoin:round; stroke-width:2; stroke-opacity:0.1; fill:none\" points=\"\n",
       "  1929.77,1474.16 1929.77,47.2441 \n",
       "  \"/>\n",
       "<polyline clip-path=\"url(#clip600)\" style=\"stroke:#000000; stroke-linecap:butt; stroke-linejoin:round; stroke-width:4; stroke-opacity:1; fill:none\" points=\"\n",
       "  159.422,1474.16 2352.76,1474.16 \n",
       "  \"/>\n",
       "<polyline clip-path=\"url(#clip600)\" style=\"stroke:#000000; stroke-linecap:butt; stroke-linejoin:round; stroke-width:4; stroke-opacity:1; fill:none\" points=\"\n",
       "  221.498,1474.16 221.498,1455.27 \n",
       "  \"/>\n",
       "<polyline clip-path=\"url(#clip600)\" style=\"stroke:#000000; stroke-linecap:butt; stroke-linejoin:round; stroke-width:4; stroke-opacity:1; fill:none\" points=\"\n",
       "  648.565,1474.16 648.565,1455.27 \n",
       "  \"/>\n",
       "<polyline clip-path=\"url(#clip600)\" style=\"stroke:#000000; stroke-linecap:butt; stroke-linejoin:round; stroke-width:4; stroke-opacity:1; fill:none\" points=\"\n",
       "  1075.63,1474.16 1075.63,1455.27 \n",
       "  \"/>\n",
       "<polyline clip-path=\"url(#clip600)\" style=\"stroke:#000000; stroke-linecap:butt; stroke-linejoin:round; stroke-width:4; stroke-opacity:1; fill:none\" points=\"\n",
       "  1502.7,1474.16 1502.7,1455.27 \n",
       "  \"/>\n",
       "<polyline clip-path=\"url(#clip600)\" style=\"stroke:#000000; stroke-linecap:butt; stroke-linejoin:round; stroke-width:4; stroke-opacity:1; fill:none\" points=\"\n",
       "  1929.77,1474.16 1929.77,1455.27 \n",
       "  \"/>\n",
       "<path clip-path=\"url(#clip600)\" d=\"M170.917 1548.29 L178.556 1548.29 L178.556 1521.92 L170.246 1523.59 L170.246 1519.33 L178.51 1517.66 L183.186 1517.66 L183.186 1548.29 L190.824 1548.29 L190.824 1552.22 L170.917 1552.22 L170.917 1548.29 Z\" fill=\"#000000\" fill-rule=\"evenodd\" fill-opacity=\"1\" /><path clip-path=\"url(#clip600)\" d=\"M210.269 1520.74 Q206.658 1520.74 204.829 1524.31 Q203.023 1527.85 203.023 1534.98 Q203.023 1542.09 204.829 1545.65 Q206.658 1549.19 210.269 1549.19 Q213.903 1549.19 215.709 1545.65 Q217.537 1542.09 217.537 1534.98 Q217.537 1527.85 215.709 1524.31 Q213.903 1520.74 210.269 1520.74 M210.269 1517.04 Q216.079 1517.04 219.135 1521.65 Q222.213 1526.23 222.213 1534.98 Q222.213 1543.71 219.135 1548.31 Q216.079 1552.9 210.269 1552.9 Q204.459 1552.9 201.38 1548.31 Q198.324 1543.71 198.324 1534.98 Q198.324 1526.23 201.38 1521.65 Q204.459 1517.04 210.269 1517.04 Z\" fill=\"#000000\" fill-rule=\"evenodd\" fill-opacity=\"1\" /><path clip-path=\"url(#clip600)\" d=\"M222.213 1511.14 L246.325 1511.14 L246.325 1514.34 L222.213 1514.34 L222.213 1511.14 Z\" fill=\"#000000\" fill-rule=\"evenodd\" fill-opacity=\"1\" /><path clip-path=\"url(#clip600)\" d=\"M264.963 1500.04 L255.371 1515.03 L264.963 1515.03 L264.963 1500.04 M263.966 1496.73 L268.744 1496.73 L268.744 1515.03 L272.75 1515.03 L272.75 1518.19 L268.744 1518.19 L268.744 1524.81 L264.963 1524.81 L264.963 1518.19 L252.287 1518.19 L252.287 1514.53 L263.966 1496.73 Z\" fill=\"#000000\" fill-rule=\"evenodd\" fill-opacity=\"1\" /><path clip-path=\"url(#clip600)\" d=\"M598.445 1548.29 L606.084 1548.29 L606.084 1521.92 L597.774 1523.59 L597.774 1519.33 L606.038 1517.66 L610.714 1517.66 L610.714 1548.29 L618.353 1548.29 L618.353 1552.22 L598.445 1552.22 L598.445 1548.29 Z\" fill=\"#000000\" fill-rule=\"evenodd\" fill-opacity=\"1\" /><path clip-path=\"url(#clip600)\" d=\"M637.797 1520.74 Q634.186 1520.74 632.357 1524.31 Q630.552 1527.85 630.552 1534.98 Q630.552 1542.09 632.357 1545.65 Q634.186 1549.19 637.797 1549.19 Q641.431 1549.19 643.237 1545.65 Q645.065 1542.09 645.065 1534.98 Q645.065 1527.85 643.237 1524.31 Q641.431 1520.74 637.797 1520.74 M637.797 1517.04 Q643.607 1517.04 646.663 1521.65 Q649.741 1526.23 649.741 1534.98 Q649.741 1543.71 646.663 1548.31 Q643.607 1552.9 637.797 1552.9 Q631.987 1552.9 628.908 1548.31 Q625.852 1543.71 625.852 1534.98 Q625.852 1526.23 628.908 1521.65 Q631.987 1517.04 637.797 1517.04 Z\" fill=\"#000000\" fill-rule=\"evenodd\" fill-opacity=\"1\" /><path clip-path=\"url(#clip600)\" d=\"M649.741 1511.14 L673.853 1511.14 L673.853 1514.34 L649.741 1514.34 L649.741 1511.14 Z\" fill=\"#000000\" fill-rule=\"evenodd\" fill-opacity=\"1\" /><path clip-path=\"url(#clip600)\" d=\"M693.563 1509.67 Q696.29 1510.26 697.814 1512.1 Q699.356 1513.94 699.356 1516.65 Q699.356 1520.81 696.497 1523.08 Q693.639 1525.36 688.372 1525.36 Q686.604 1525.36 684.724 1525 Q682.862 1524.66 680.868 1523.97 L680.868 1520.3 Q682.448 1521.22 684.329 1521.69 Q686.209 1522.16 688.26 1522.16 Q691.833 1522.16 693.695 1520.75 Q695.576 1519.34 695.576 1516.65 Q695.576 1514.17 693.827 1512.78 Q692.096 1511.37 688.993 1511.37 L685.72 1511.37 L685.72 1508.24 L689.144 1508.24 Q691.946 1508.24 693.432 1507.13 Q694.917 1506.01 694.917 1503.9 Q694.917 1501.74 693.375 1500.59 Q691.852 1499.42 688.993 1499.42 Q687.432 1499.42 685.645 1499.76 Q683.859 1500.1 681.714 1500.82 L681.714 1497.43 Q683.877 1496.83 685.758 1496.53 Q687.658 1496.23 689.332 1496.23 Q693.657 1496.23 696.178 1498.2 Q698.698 1500.16 698.698 1503.51 Q698.698 1505.84 697.362 1507.45 Q696.027 1509.05 693.563 1509.67 Z\" fill=\"#000000\" fill-rule=\"evenodd\" fill-opacity=\"1\" /><path clip-path=\"url(#clip600)\" d=\"M1025.9 1548.29 L1033.54 1548.29 L1033.54 1521.92 L1025.23 1523.59 L1025.23 1519.33 L1033.49 1517.66 L1038.17 1517.66 L1038.17 1548.29 L1045.81 1548.29 L1045.81 1552.22 L1025.9 1552.22 L1025.9 1548.29 Z\" fill=\"#000000\" fill-rule=\"evenodd\" fill-opacity=\"1\" /><path clip-path=\"url(#clip600)\" d=\"M1065.25 1520.74 Q1061.64 1520.74 1059.81 1524.31 Q1058 1527.85 1058 1534.98 Q1058 1542.09 1059.81 1545.65 Q1061.64 1549.19 1065.25 1549.19 Q1068.88 1549.19 1070.69 1545.65 Q1072.52 1542.09 1072.52 1534.98 Q1072.52 1527.85 1070.69 1524.31 Q1068.88 1520.74 1065.25 1520.74 M1065.25 1517.04 Q1071.06 1517.04 1074.12 1521.65 Q1077.19 1526.23 1077.19 1534.98 Q1077.19 1543.71 1074.12 1548.31 Q1071.06 1552.9 1065.25 1552.9 Q1059.44 1552.9 1056.36 1548.31 Q1053.31 1543.71 1053.31 1534.98 Q1053.31 1526.23 1056.36 1521.65 Q1059.44 1517.04 1065.25 1517.04 Z\" fill=\"#000000\" fill-rule=\"evenodd\" fill-opacity=\"1\" /><path clip-path=\"url(#clip600)\" d=\"M1077.19 1511.14 L1101.31 1511.14 L1101.31 1514.34 L1077.19 1514.34 L1077.19 1511.14 Z\" fill=\"#000000\" fill-rule=\"evenodd\" fill-opacity=\"1\" /><path clip-path=\"url(#clip600)\" d=\"M1112.78 1521.62 L1126.04 1521.62 L1126.04 1524.81 L1108.21 1524.81 L1108.21 1521.62 Q1110.37 1519.38 1114.09 1515.62 Q1117.84 1511.84 1118.8 1510.75 Q1120.62 1508.7 1121.34 1507.29 Q1122.07 1505.86 1122.07 1504.48 Q1122.07 1502.24 1120.49 1500.83 Q1118.93 1499.42 1116.41 1499.42 Q1114.62 1499.42 1112.63 1500.04 Q1110.65 1500.67 1108.4 1501.93 L1108.4 1498.09 Q1110.69 1497.17 1112.68 1496.7 Q1114.68 1496.23 1116.33 1496.23 Q1120.7 1496.23 1123.29 1498.41 Q1125.89 1500.59 1125.89 1504.24 Q1125.89 1505.97 1125.23 1507.53 Q1124.59 1509.07 1122.88 1511.18 Q1122.41 1511.72 1119.89 1514.34 Q1117.37 1516.93 1112.78 1521.62 Z\" fill=\"#000000\" fill-rule=\"evenodd\" fill-opacity=\"1\" /><path clip-path=\"url(#clip600)\" d=\"M1452.81 1548.29 L1460.45 1548.29 L1460.45 1521.92 L1452.14 1523.59 L1452.14 1519.33 L1460.41 1517.66 L1465.08 1517.66 L1465.08 1548.29 L1472.72 1548.29 L1472.72 1552.22 L1452.81 1552.22 L1452.81 1548.29 Z\" fill=\"#000000\" fill-rule=\"evenodd\" fill-opacity=\"1\" /><path clip-path=\"url(#clip600)\" d=\"M1492.17 1520.74 Q1488.56 1520.74 1486.73 1524.31 Q1484.92 1527.85 1484.92 1534.98 Q1484.92 1542.09 1486.73 1545.65 Q1488.56 1549.19 1492.17 1549.19 Q1495.8 1549.19 1497.61 1545.65 Q1499.43 1542.09 1499.43 1534.98 Q1499.43 1527.85 1497.61 1524.31 Q1495.8 1520.74 1492.17 1520.74 M1492.17 1517.04 Q1497.98 1517.04 1501.03 1521.65 Q1504.11 1526.23 1504.11 1534.98 Q1504.11 1543.71 1501.03 1548.31 Q1497.98 1552.9 1492.17 1552.9 Q1486.36 1552.9 1483.28 1548.31 Q1480.22 1543.71 1480.22 1534.98 Q1480.22 1526.23 1483.28 1521.65 Q1486.36 1517.04 1492.17 1517.04 Z\" fill=\"#000000\" fill-rule=\"evenodd\" fill-opacity=\"1\" /><path clip-path=\"url(#clip600)\" d=\"M1504.11 1511.14 L1528.22 1511.14 L1528.22 1514.34 L1504.11 1514.34 L1504.11 1511.14 Z\" fill=\"#000000\" fill-rule=\"evenodd\" fill-opacity=\"1\" /><path clip-path=\"url(#clip600)\" d=\"M1537.08 1521.62 L1543.29 1521.62 L1543.29 1500.19 L1536.54 1501.55 L1536.54 1498.09 L1543.25 1496.73 L1547.05 1496.73 L1547.05 1521.62 L1553.26 1521.62 L1553.26 1524.81 L1537.08 1524.81 L1537.08 1521.62 Z\" fill=\"#000000\" fill-rule=\"evenodd\" fill-opacity=\"1\" /><path clip-path=\"url(#clip600)\" d=\"M1894.75 1548.29 L1902.39 1548.29 L1902.39 1521.92 L1894.08 1523.59 L1894.08 1519.33 L1902.34 1517.66 L1907.02 1517.66 L1907.02 1548.29 L1914.66 1548.29 L1914.66 1552.22 L1894.75 1552.22 L1894.75 1548.29 Z\" fill=\"#000000\" fill-rule=\"evenodd\" fill-opacity=\"1\" /><path clip-path=\"url(#clip600)\" d=\"M1934.1 1520.74 Q1930.49 1520.74 1928.66 1524.31 Q1926.86 1527.85 1926.86 1534.98 Q1926.86 1542.09 1928.66 1545.65 Q1930.49 1549.19 1934.1 1549.19 Q1937.74 1549.19 1939.54 1545.65 Q1941.37 1542.09 1941.37 1534.98 Q1941.37 1527.85 1939.54 1524.31 Q1937.74 1520.74 1934.1 1520.74 M1934.1 1517.04 Q1939.91 1517.04 1942.97 1521.65 Q1946.05 1526.23 1946.05 1534.98 Q1946.05 1543.71 1942.97 1548.31 Q1939.91 1552.9 1934.1 1552.9 Q1928.29 1552.9 1925.21 1548.31 Q1922.16 1543.71 1922.16 1534.98 Q1922.16 1526.23 1925.21 1521.65 Q1928.29 1517.04 1934.1 1517.04 Z\" fill=\"#000000\" fill-rule=\"evenodd\" fill-opacity=\"1\" /><path clip-path=\"url(#clip600)\" d=\"M1955.75 1499.24 Q1952.82 1499.24 1951.33 1502.13 Q1949.86 1505.01 1949.86 1510.8 Q1949.86 1516.58 1951.33 1519.47 Q1952.82 1522.35 1955.75 1522.35 Q1958.7 1522.35 1960.17 1519.47 Q1961.66 1516.58 1961.66 1510.8 Q1961.66 1505.01 1960.17 1502.13 Q1958.7 1499.24 1955.75 1499.24 M1955.75 1496.23 Q1960.47 1496.23 1962.95 1499.97 Q1965.46 1503.69 1965.46 1510.8 Q1965.46 1517.89 1962.95 1521.64 Q1960.47 1525.36 1955.75 1525.36 Q1951.03 1525.36 1948.53 1521.64 Q1946.05 1517.89 1946.05 1510.8 Q1946.05 1503.69 1948.53 1499.97 Q1951.03 1496.23 1955.75 1496.23 Z\" fill=\"#000000\" fill-rule=\"evenodd\" fill-opacity=\"1\" /><polyline clip-path=\"url(#clip602)\" style=\"stroke:#000000; stroke-linecap:butt; stroke-linejoin:round; stroke-width:2; stroke-opacity:0.1; fill:none\" points=\"\n",
       "  159.422,1356.61 2352.76,1356.61 \n",
       "  \"/>\n",
       "<polyline clip-path=\"url(#clip602)\" style=\"stroke:#000000; stroke-linecap:butt; stroke-linejoin:round; stroke-width:2; stroke-opacity:0.1; fill:none\" points=\"\n",
       "  159.422,1086.14 2352.76,1086.14 \n",
       "  \"/>\n",
       "<polyline clip-path=\"url(#clip602)\" style=\"stroke:#000000; stroke-linecap:butt; stroke-linejoin:round; stroke-width:2; stroke-opacity:0.1; fill:none\" points=\"\n",
       "  159.422,815.666 2352.76,815.666 \n",
       "  \"/>\n",
       "<polyline clip-path=\"url(#clip602)\" style=\"stroke:#000000; stroke-linecap:butt; stroke-linejoin:round; stroke-width:2; stroke-opacity:0.1; fill:none\" points=\"\n",
       "  159.422,545.193 2352.76,545.193 \n",
       "  \"/>\n",
       "<polyline clip-path=\"url(#clip602)\" style=\"stroke:#000000; stroke-linecap:butt; stroke-linejoin:round; stroke-width:2; stroke-opacity:0.1; fill:none\" points=\"\n",
       "  159.422,274.721 2352.76,274.721 \n",
       "  \"/>\n",
       "<polyline clip-path=\"url(#clip600)\" style=\"stroke:#000000; stroke-linecap:butt; stroke-linejoin:round; stroke-width:4; stroke-opacity:1; fill:none\" points=\"\n",
       "  159.422,1474.16 159.422,47.2441 \n",
       "  \"/>\n",
       "<polyline clip-path=\"url(#clip600)\" style=\"stroke:#000000; stroke-linecap:butt; stroke-linejoin:round; stroke-width:4; stroke-opacity:1; fill:none\" points=\"\n",
       "  159.422,1356.61 178.32,1356.61 \n",
       "  \"/>\n",
       "<polyline clip-path=\"url(#clip600)\" style=\"stroke:#000000; stroke-linecap:butt; stroke-linejoin:round; stroke-width:4; stroke-opacity:1; fill:none\" points=\"\n",
       "  159.422,1086.14 178.32,1086.14 \n",
       "  \"/>\n",
       "<polyline clip-path=\"url(#clip600)\" style=\"stroke:#000000; stroke-linecap:butt; stroke-linejoin:round; stroke-width:4; stroke-opacity:1; fill:none\" points=\"\n",
       "  159.422,815.666 178.32,815.666 \n",
       "  \"/>\n",
       "<polyline clip-path=\"url(#clip600)\" style=\"stroke:#000000; stroke-linecap:butt; stroke-linejoin:round; stroke-width:4; stroke-opacity:1; fill:none\" points=\"\n",
       "  159.422,545.193 178.32,545.193 \n",
       "  \"/>\n",
       "<polyline clip-path=\"url(#clip600)\" style=\"stroke:#000000; stroke-linecap:butt; stroke-linejoin:round; stroke-width:4; stroke-opacity:1; fill:none\" points=\"\n",
       "  159.422,274.721 178.32,274.721 \n",
       "  \"/>\n",
       "<path clip-path=\"url(#clip600)\" d=\"M52.7167 1376.4 L60.3555 1376.4 L60.3555 1350.04 L52.0454 1351.7 L52.0454 1347.44 L60.3092 1345.78 L64.9851 1345.78 L64.9851 1376.4 L72.624 1376.4 L72.624 1380.34 L52.7167 1380.34 L52.7167 1376.4 Z\" fill=\"#000000\" fill-rule=\"evenodd\" fill-opacity=\"1\" /><path clip-path=\"url(#clip600)\" d=\"M92.0683 1348.86 Q88.4572 1348.86 86.6285 1352.42 Q84.823 1355.96 84.823 1363.09 Q84.823 1370.2 86.6285 1373.76 Q88.4572 1377.31 92.0683 1377.31 Q95.7025 1377.31 97.5081 1373.76 Q99.3368 1370.2 99.3368 1363.09 Q99.3368 1355.96 97.5081 1352.42 Q95.7025 1348.86 92.0683 1348.86 M92.0683 1345.15 Q97.8784 1345.15 100.934 1349.76 Q104.013 1354.34 104.013 1363.09 Q104.013 1371.82 100.934 1376.43 Q97.8784 1381.01 92.0683 1381.01 Q86.2581 1381.01 83.1795 1376.43 Q80.1239 1371.82 80.1239 1363.09 Q80.1239 1354.34 83.1795 1349.76 Q86.2581 1345.15 92.0683 1345.15 Z\" fill=\"#000000\" fill-rule=\"evenodd\" fill-opacity=\"1\" /><path clip-path=\"url(#clip600)\" d=\"M113.717 1327.35 Q110.783 1327.35 109.298 1330.25 Q107.831 1333.12 107.831 1338.92 Q107.831 1344.69 109.298 1347.59 Q110.783 1350.46 113.717 1350.46 Q116.67 1350.46 118.137 1347.59 Q119.623 1344.69 119.623 1338.92 Q119.623 1333.12 118.137 1330.25 Q116.67 1327.35 113.717 1327.35 M113.717 1324.34 Q118.438 1324.34 120.921 1328.08 Q123.422 1331.81 123.422 1338.92 Q123.422 1346.01 120.921 1349.75 Q118.438 1353.47 113.717 1353.47 Q108.997 1353.47 106.495 1349.75 Q104.013 1346.01 104.013 1338.92 Q104.013 1331.81 106.495 1328.08 Q108.997 1324.34 113.717 1324.34 Z\" fill=\"#000000\" fill-rule=\"evenodd\" fill-opacity=\"1\" /><path clip-path=\"url(#clip600)\" d=\"M55.4062 1105.93 L63.045 1105.93 L63.045 1079.57 L54.7349 1081.23 L54.7349 1076.97 L62.9987 1075.31 L67.6746 1075.31 L67.6746 1105.93 L75.3135 1105.93 L75.3135 1109.87 L55.4062 1109.87 L55.4062 1105.93 Z\" fill=\"#000000\" fill-rule=\"evenodd\" fill-opacity=\"1\" /><path clip-path=\"url(#clip600)\" d=\"M94.7578 1078.38 Q91.1467 1078.38 89.318 1081.95 Q87.5125 1085.49 87.5125 1092.62 Q87.5125 1099.73 89.318 1103.29 Q91.1467 1106.83 94.7578 1106.83 Q98.392 1106.83 100.198 1103.29 Q102.026 1099.73 102.026 1092.62 Q102.026 1085.49 100.198 1081.95 Q98.392 1078.38 94.7578 1078.38 M94.7578 1074.68 Q100.568 1074.68 103.623 1079.29 Q106.702 1083.87 106.702 1092.62 Q106.702 1101.35 103.623 1105.95 Q100.568 1110.54 94.7578 1110.54 Q88.9477 1110.54 85.869 1105.95 Q82.8134 1101.35 82.8134 1092.62 Q82.8134 1083.87 85.869 1079.29 Q88.9477 1074.68 94.7578 1074.68 Z\" fill=\"#000000\" fill-rule=\"evenodd\" fill-opacity=\"1\" /><path clip-path=\"url(#clip600)\" d=\"M107.248 1079.26 L113.454 1079.26 L113.454 1057.84 L106.702 1059.19 L106.702 1055.73 L113.417 1054.38 L117.216 1054.38 L117.216 1079.26 L123.422 1079.26 L123.422 1082.46 L107.248 1082.46 L107.248 1079.26 Z\" fill=\"#000000\" fill-rule=\"evenodd\" fill-opacity=\"1\" /><path clip-path=\"url(#clip600)\" d=\"M54.2965 835.458 L61.9354 835.458 L61.9354 809.093 L53.6252 810.759 L53.6252 806.5 L61.8891 804.833 L66.565 804.833 L66.565 835.458 L74.2038 835.458 L74.2038 839.393 L54.2965 839.393 L54.2965 835.458 Z\" fill=\"#000000\" fill-rule=\"evenodd\" fill-opacity=\"1\" /><path clip-path=\"url(#clip600)\" d=\"M93.6481 807.912 Q90.0371 807.912 88.2084 811.477 Q86.4028 815.019 86.4028 822.148 Q86.4028 829.255 88.2084 832.819 Q90.0371 836.361 93.6481 836.361 Q97.2824 836.361 99.0879 832.819 Q100.917 829.255 100.917 822.148 Q100.917 815.019 99.0879 811.477 Q97.2824 807.912 93.6481 807.912 M93.6481 804.208 Q99.4583 804.208 102.514 808.815 Q105.593 813.398 105.593 822.148 Q105.593 830.875 102.514 835.481 Q99.4583 840.065 93.6481 840.065 Q87.838 840.065 84.7593 835.481 Q81.7038 830.875 81.7038 822.148 Q81.7038 813.398 84.7593 808.815 Q87.838 804.208 93.6481 804.208 Z\" fill=\"#000000\" fill-rule=\"evenodd\" fill-opacity=\"1\" /><path clip-path=\"url(#clip600)\" d=\"M110.163 808.786 L123.422 808.786 L123.422 811.983 L105.593 811.983 L105.593 808.786 Q107.755 806.548 111.479 802.786 Q115.222 799.006 116.181 797.915 Q118.006 795.865 118.72 794.454 Q119.454 793.025 119.454 791.652 Q119.454 789.414 117.874 788.003 Q116.313 786.592 113.793 786.592 Q112.006 786.592 110.012 787.213 Q108.038 787.834 105.781 789.094 L105.781 785.257 Q108.075 784.336 110.069 783.865 Q112.062 783.395 113.717 783.395 Q118.081 783.395 120.676 785.577 Q123.272 787.759 123.272 791.407 Q123.272 793.138 122.614 794.699 Q121.974 796.241 120.263 798.347 Q119.792 798.893 117.272 801.507 Q114.752 804.103 110.163 808.786 Z\" fill=\"#000000\" fill-rule=\"evenodd\" fill-opacity=\"1\" /><path clip-path=\"url(#clip600)\" d=\"M53.6382 564.986 L61.2771 564.986 L61.2771 538.62 L52.9669 540.287 L52.9669 536.028 L61.2308 534.361 L65.9067 534.361 L65.9067 564.986 L73.5455 564.986 L73.5455 568.921 L53.6382 568.921 L53.6382 564.986 Z\" fill=\"#000000\" fill-rule=\"evenodd\" fill-opacity=\"1\" /><path clip-path=\"url(#clip600)\" d=\"M92.9899 537.44 Q89.3788 537.44 87.5501 541.004 Q85.7445 544.546 85.7445 551.676 Q85.7445 558.782 87.5501 562.347 Q89.3788 565.889 92.9899 565.889 Q96.6241 565.889 98.4297 562.347 Q100.258 558.782 100.258 551.676 Q100.258 544.546 98.4297 541.004 Q96.6241 537.44 92.9899 537.44 M92.9899 533.736 Q98.8 533.736 101.856 538.342 Q104.934 542.926 104.934 551.676 Q104.934 560.402 101.856 565.009 Q98.8 569.592 92.9899 569.592 Q87.1797 569.592 84.101 565.009 Q81.0455 560.402 81.0455 551.676 Q81.0455 542.926 84.101 538.342 Q87.1797 533.736 92.9899 533.736 Z\" fill=\"#000000\" fill-rule=\"evenodd\" fill-opacity=\"1\" /><path clip-path=\"url(#clip600)\" d=\"M117.63 526.37 Q120.357 526.953 121.88 528.796 Q123.422 530.64 123.422 533.348 Q123.422 537.504 120.564 539.78 Q117.705 542.056 112.439 542.056 Q110.671 542.056 108.79 541.699 Q106.928 541.36 104.934 540.664 L104.934 536.997 Q106.514 537.918 108.395 538.388 Q110.276 538.859 112.326 538.859 Q115.899 538.859 117.761 537.448 Q119.642 536.037 119.642 533.348 Q119.642 530.865 117.893 529.474 Q116.162 528.063 113.059 528.063 L109.787 528.063 L109.787 524.941 L113.21 524.941 Q116.012 524.941 117.498 523.831 Q118.984 522.703 118.984 520.596 Q118.984 518.433 117.441 517.286 Q115.918 516.12 113.059 516.12 Q111.498 516.12 109.711 516.459 Q107.925 516.797 105.781 517.512 L105.781 514.126 Q107.943 513.525 109.824 513.224 Q111.724 512.923 113.398 512.923 Q117.724 512.923 120.244 514.898 Q122.764 516.854 122.764 520.201 Q122.764 522.533 121.429 524.151 Q120.093 525.75 117.63 526.37 Z\" fill=\"#000000\" fill-rule=\"evenodd\" fill-opacity=\"1\" /><path clip-path=\"url(#clip600)\" d=\"M51.6634 294.513 L59.3023 294.513 L59.3023 268.148 L50.9921 269.814 L50.9921 265.555 L59.256 263.888 L63.9319 263.888 L63.9319 294.513 L71.5707 294.513 L71.5707 298.448 L51.6634 298.448 L51.6634 294.513 Z\" fill=\"#000000\" fill-rule=\"evenodd\" fill-opacity=\"1\" /><path clip-path=\"url(#clip600)\" d=\"M91.0151 266.967 Q87.404 266.967 85.5753 270.532 Q83.7697 274.074 83.7697 281.203 Q83.7697 288.31 85.5753 291.874 Q87.404 295.416 91.0151 295.416 Q94.6493 295.416 96.4548 291.874 Q98.2835 288.31 98.2835 281.203 Q98.2835 274.074 96.4548 270.532 Q94.6493 266.967 91.0151 266.967 M91.0151 263.263 Q96.8252 263.263 99.8808 267.87 Q102.959 272.453 102.959 281.203 Q102.959 289.93 99.8808 294.536 Q96.8252 299.12 91.0151 299.12 Q85.2049 299.12 82.1262 294.536 Q79.0707 289.93 79.0707 281.203 Q79.0707 272.453 82.1262 267.87 Q85.2049 263.263 91.0151 263.263 Z\" fill=\"#000000\" fill-rule=\"evenodd\" fill-opacity=\"1\" /><path clip-path=\"url(#clip600)\" d=\"M115.636 246.268 L106.044 261.258 L115.636 261.258 L115.636 246.268 M114.639 242.958 L119.416 242.958 L119.416 261.258 L123.422 261.258 L123.422 264.418 L119.416 264.418 L119.416 271.038 L115.636 271.038 L115.636 264.418 L102.959 264.418 L102.959 260.75 L114.639 242.958 Z\" fill=\"#000000\" fill-rule=\"evenodd\" fill-opacity=\"1\" /><polyline clip-path=\"url(#clip602)\" style=\"stroke:#009af9; stroke-linecap:butt; stroke-linejoin:round; stroke-width:4; stroke-opacity:1; fill:none\" points=\"\n",
       "  221.498,539.239 274.554,505.693 327.61,472.187 380.666,438.749 433.722,405.421 486.778,372.262 539.834,339.355 592.89,306.821 645.945,274.836 699.001,243.64 \n",
       "  752.057,213.543 805.113,184.952 858.169,158.378 911.225,134.467 964.281,114.046 1017.34,98.2361 1070.39,88.6491 1123.45,87.6286 1176.51,98.1257 1229.56,121.755 \n",
       "  1282.62,152.616 1335.67,177.008 1388.73,209.031 1441.78,265.764 1494.84,304.932 1547.9,362.54 1600.95,423.602 1654.01,487.28 1707.06,555.386 1760.12,625.727 \n",
       "  1813.18,698.82 1866.23,774.23 1919.29,851.678 1972.34,930.915 2025.4,1011.72 2078.46,1093.92 2131.51,1177.35 2184.57,1261.87 2237.62,1347.37 2290.68,1433.78 \n",
       "  \n",
       "  \"/>\n",
       "<polyline clip-path=\"url(#clip602)\" style=\"stroke:#e26f46; stroke-linecap:butt; stroke-linejoin:round; stroke-width:4; stroke-opacity:1; fill:none\" points=\"\n",
       "  221.498,539.213 274.554,505.661 327.61,472.178 380.666,438.688 433.722,405.389 486.778,372.213 539.834,339.352 592.89,306.869 645.945,274.823 699.001,243.631 \n",
       "  752.057,213.579 805.113,184.756 858.169,158.323 911.225,132.636 964.281,115.095 1017.34,98.6773 1070.39,89.1667 1123.45,88.1665 1176.51,98.8477 1229.56,121.49 \n",
       "  1282.62,152.556 1335.67,177.379 1388.73,209.679 1441.78,265.355 1494.84,306.104 1547.9,363.261 1600.95,424.701 1654.01,488.634 1707.06,556.821 1760.12,626.536 \n",
       "  1813.18,699.351 1866.23,774.832 1919.29,852.15 1972.34,931.595 2025.4,1012.15 2078.46,1091 2131.51,1177.85 2184.57,1262.45 2237.62,1347.77 2290.68,1433.22 \n",
       "  \n",
       "  \"/>\n",
       "<path clip-path=\"url(#clip600)\" d=\"\n",
       "M1825.11 250.328 L2279.64 250.328 L2279.64 94.8081 L1825.11 94.8081  Z\n",
       "  \" fill=\"#ffffff\" fill-rule=\"evenodd\" fill-opacity=\"1\"/>\n",
       "<polyline clip-path=\"url(#clip600)\" style=\"stroke:#000000; stroke-linecap:butt; stroke-linejoin:round; stroke-width:4; stroke-opacity:1; fill:none\" points=\"\n",
       "  1825.11,250.328 2279.64,250.328 2279.64,94.8081 1825.11,94.8081 1825.11,250.328 \n",
       "  \"/>\n",
       "<polyline clip-path=\"url(#clip600)\" style=\"stroke:#009af9; stroke-linecap:butt; stroke-linejoin:round; stroke-width:4; stroke-opacity:1; fill:none\" points=\"\n",
       "  1849.48,146.648 1995.7,146.648 \n",
       "  \"/>\n",
       "<path clip-path=\"url(#clip600)\" d=\"M2035.26 141.984 Q2034.54 141.567 2033.68 141.382 Q2032.85 141.174 2031.83 141.174 Q2028.22 141.174 2026.28 143.535 Q2024.35 145.873 2024.35 150.271 L2024.35 163.928 L2020.07 163.928 L2020.07 138.002 L2024.35 138.002 L2024.35 142.03 Q2025.7 139.669 2027.85 138.535 Q2030 137.377 2033.08 137.377 Q2033.52 137.377 2034.05 137.447 Q2034.59 137.493 2035.23 137.609 L2035.26 141.984 Z\" fill=\"#000000\" fill-rule=\"evenodd\" fill-opacity=\"1\" /><path clip-path=\"url(#clip600)\" d=\"M2060.86 149.9 L2060.86 151.984 L2041.28 151.984 Q2041.55 156.382 2043.91 158.697 Q2046.3 160.988 2050.53 160.988 Q2052.99 160.988 2055.28 160.386 Q2057.59 159.785 2059.86 158.581 L2059.86 162.609 Q2057.57 163.581 2055.16 164.09 Q2052.76 164.599 2050.28 164.599 Q2044.08 164.599 2040.44 160.988 Q2036.83 157.377 2036.83 151.22 Q2036.83 144.854 2040.26 141.127 Q2043.71 137.377 2049.54 137.377 Q2054.77 137.377 2057.8 140.757 Q2060.86 144.113 2060.86 149.9 M2056.6 148.65 Q2056.55 145.155 2054.63 143.072 Q2052.73 140.988 2049.59 140.988 Q2046.02 140.988 2043.87 143.002 Q2041.74 145.016 2041.41 148.674 L2056.6 148.65 Z\" fill=\"#000000\" fill-rule=\"evenodd\" fill-opacity=\"1\" /><path clip-path=\"url(#clip600)\" d=\"M2080.97 127.91 L2080.97 131.451 L2076.9 131.451 Q2074.61 131.451 2073.71 132.377 Q2072.83 133.303 2072.83 135.711 L2072.83 138.002 L2079.84 138.002 L2079.84 141.312 L2072.83 141.312 L2072.83 163.928 L2068.54 163.928 L2068.54 141.312 L2064.47 141.312 L2064.47 138.002 L2068.54 138.002 L2068.54 136.197 Q2068.54 131.868 2070.56 129.901 Q2072.57 127.91 2076.95 127.91 L2080.97 127.91 Z\" fill=\"#000000\" fill-rule=\"evenodd\" fill-opacity=\"1\" /><polyline clip-path=\"url(#clip600)\" style=\"stroke:#e26f46; stroke-linecap:butt; stroke-linejoin:round; stroke-width:4; stroke-opacity:1; fill:none\" points=\"\n",
       "  1849.48,198.488 1995.7,198.488 \n",
       "  \"/>\n",
       "<path clip-path=\"url(#clip600)\" d=\"M2020.07 181.208 L2041.92 181.208 L2041.92 185.143 L2024.75 185.143 L2024.75 195.375 L2041.21 195.375 L2041.21 199.31 L2024.75 199.31 L2024.75 211.833 L2042.34 211.833 L2042.34 215.768 L2020.07 215.768 L2020.07 181.208 Z\" fill=\"#000000\" fill-rule=\"evenodd\" fill-opacity=\"1\" /><path clip-path=\"url(#clip600)\" d=\"M2070.03 194.819 Q2071.62 191.949 2073.84 190.583 Q2076.07 189.217 2079.08 189.217 Q2083.13 189.217 2085.33 192.065 Q2087.53 194.889 2087.53 200.12 L2087.53 215.768 L2083.24 215.768 L2083.24 200.259 Q2083.24 196.532 2081.92 194.727 Q2080.6 192.921 2077.9 192.921 Q2074.59 192.921 2072.66 195.12 Q2070.74 197.319 2070.74 201.115 L2070.74 215.768 L2066.46 215.768 L2066.46 200.259 Q2066.46 196.509 2065.14 194.727 Q2063.82 192.921 2061.07 192.921 Q2057.8 192.921 2055.88 195.143 Q2053.96 197.342 2053.96 201.115 L2053.96 215.768 L2049.68 215.768 L2049.68 189.842 L2053.96 189.842 L2053.96 193.87 Q2055.42 191.486 2057.46 190.352 Q2059.49 189.217 2062.29 189.217 Q2065.12 189.217 2067.09 190.653 Q2069.08 192.088 2070.03 194.819 Z\" fill=\"#000000\" fill-rule=\"evenodd\" fill-opacity=\"1\" /><path clip-path=\"url(#clip600)\" d=\"M2095.58 205.537 L2095.58 189.842 L2099.84 189.842 L2099.84 205.375 Q2099.84 209.055 2101.28 210.907 Q2102.71 212.736 2105.58 212.736 Q2109.03 212.736 2111.02 210.537 Q2113.03 208.338 2113.03 204.541 L2113.03 189.842 L2117.29 189.842 L2117.29 215.768 L2113.03 215.768 L2113.03 211.787 Q2111.48 214.148 2109.42 215.305 Q2107.39 216.439 2104.68 216.439 Q2100.21 216.439 2097.9 213.662 Q2095.58 210.884 2095.58 205.537 M2106.3 189.217 L2106.3 189.217 Z\" fill=\"#000000\" fill-rule=\"evenodd\" fill-opacity=\"1\" /><path clip-path=\"url(#clip600)\" d=\"M2126.07 179.75 L2130.33 179.75 L2130.33 215.768 L2126.07 215.768 L2126.07 179.75 Z\" fill=\"#000000\" fill-rule=\"evenodd\" fill-opacity=\"1\" /><path clip-path=\"url(#clip600)\" d=\"M2151.02 202.736 Q2145.86 202.736 2143.87 203.916 Q2141.88 205.097 2141.88 207.944 Q2141.88 210.213 2143.36 211.555 Q2144.86 212.875 2147.43 212.875 Q2150.97 212.875 2153.1 210.375 Q2155.26 207.851 2155.26 203.685 L2155.26 202.736 L2151.02 202.736 M2159.52 200.977 L2159.52 215.768 L2155.26 215.768 L2155.26 211.833 Q2153.8 214.194 2151.62 215.328 Q2149.45 216.439 2146.3 216.439 Q2142.32 216.439 2139.96 214.217 Q2137.62 211.972 2137.62 208.222 Q2137.62 203.847 2140.53 201.625 Q2143.47 199.402 2149.28 199.402 L2155.26 199.402 L2155.26 198.986 Q2155.26 196.046 2153.31 194.449 Q2151.39 192.828 2147.9 192.828 Q2145.67 192.828 2143.57 193.361 Q2141.46 193.893 2139.52 194.958 L2139.52 191.023 Q2141.85 190.12 2144.05 189.68 Q2146.25 189.217 2148.34 189.217 Q2153.96 189.217 2156.74 192.134 Q2159.52 195.051 2159.52 200.977 Z\" fill=\"#000000\" fill-rule=\"evenodd\" fill-opacity=\"1\" /><path clip-path=\"url(#clip600)\" d=\"M2172.5 182.481 L2172.5 189.842 L2181.27 189.842 L2181.27 193.152 L2172.5 193.152 L2172.5 207.226 Q2172.5 210.398 2173.36 211.301 Q2174.24 212.203 2176.9 212.203 L2181.27 212.203 L2181.27 215.768 L2176.9 215.768 Q2171.97 215.768 2170.09 213.939 Q2168.22 212.088 2168.22 207.226 L2168.22 193.152 L2165.09 193.152 L2165.09 189.842 L2168.22 189.842 L2168.22 182.481 L2172.5 182.481 Z\" fill=\"#000000\" fill-rule=\"evenodd\" fill-opacity=\"1\" /><path clip-path=\"url(#clip600)\" d=\"M2196.92 192.828 Q2193.5 192.828 2191.51 195.514 Q2189.52 198.176 2189.52 202.828 Q2189.52 207.481 2191.48 210.166 Q2193.47 212.828 2196.92 212.828 Q2200.33 212.828 2202.32 210.143 Q2204.31 207.458 2204.31 202.828 Q2204.31 198.222 2202.32 195.537 Q2200.33 192.828 2196.92 192.828 M2196.92 189.217 Q2202.48 189.217 2205.65 192.828 Q2208.82 196.44 2208.82 202.828 Q2208.82 209.194 2205.65 212.828 Q2202.48 216.439 2196.92 216.439 Q2191.34 216.439 2188.17 212.828 Q2185.02 209.194 2185.02 202.828 Q2185.02 196.44 2188.17 192.828 Q2191.34 189.217 2196.92 189.217 Z\" fill=\"#000000\" fill-rule=\"evenodd\" fill-opacity=\"1\" /><path clip-path=\"url(#clip600)\" d=\"M2230.9 193.824 Q2230.19 193.407 2229.33 193.222 Q2228.5 193.014 2227.48 193.014 Q2223.87 193.014 2221.92 195.375 Q2220 197.713 2220 202.111 L2220 215.768 L2215.72 215.768 L2215.72 189.842 L2220 189.842 L2220 193.87 Q2221.34 191.509 2223.5 190.375 Q2225.65 189.217 2228.73 189.217 Q2229.17 189.217 2229.7 189.287 Q2230.23 189.333 2230.88 189.449 L2230.9 193.824 Z\" fill=\"#000000\" fill-rule=\"evenodd\" fill-opacity=\"1\" /></svg>\n"
      ]
     },
     "execution_count": 17,
     "metadata": {},
     "output_type": "execute_result"
    }
   ],
   "source": [
    "using Plots\n",
    "#plot(k_arr, Pk_EisHu, xaxis=:log, yaxis=:log, label=\"EisHu\")\n",
    "plot(k_arr, ref, xaxis=:log, yaxis=:log, label=\"ref\")\n",
    "plot!(k_arr, Pk_emul_L, xaxis=:log, yaxis=:log, label=\"Emulator\")"
   ]
  },
  {
   "cell_type": "code",
   "execution_count": 13,
   "id": "8b73b6a8",
   "metadata": {},
   "outputs": [
    {
     "data": {
      "image/svg+xml": [
       "<?xml version=\"1.0\" encoding=\"utf-8\"?>\n",
       "<svg xmlns=\"http://www.w3.org/2000/svg\" xmlns:xlink=\"http://www.w3.org/1999/xlink\" width=\"600\" height=\"400\" viewBox=\"0 0 2400 1600\">\n",
       "<defs>\n",
       "  <clipPath id=\"clip480\">\n",
       "    <rect x=\"0\" y=\"0\" width=\"2400\" height=\"1600\"/>\n",
       "  </clipPath>\n",
       "</defs>\n",
       "<path clip-path=\"url(#clip480)\" d=\"\n",
       "M0 1600 L2400 1600 L2400 0 L0 0  Z\n",
       "  \" fill=\"#ffffff\" fill-rule=\"evenodd\" fill-opacity=\"1\"/>\n",
       "<defs>\n",
       "  <clipPath id=\"clip481\">\n",
       "    <rect x=\"480\" y=\"0\" width=\"1681\" height=\"1600\"/>\n",
       "  </clipPath>\n",
       "</defs>\n",
       "<path clip-path=\"url(#clip480)\" d=\"\n",
       "M149.191 1474.16 L2352.76 1474.16 L2352.76 47.2441 L149.191 47.2441  Z\n",
       "  \" fill=\"#ffffff\" fill-rule=\"evenodd\" fill-opacity=\"1\"/>\n",
       "<defs>\n",
       "  <clipPath id=\"clip482\">\n",
       "    <rect x=\"149\" y=\"47\" width=\"2205\" height=\"1428\"/>\n",
       "  </clipPath>\n",
       "</defs>\n",
       "<polyline clip-path=\"url(#clip482)\" style=\"stroke:#000000; stroke-linecap:butt; stroke-linejoin:round; stroke-width:2; stroke-opacity:0.1; fill:none\" points=\"\n",
       "  211.556,1474.16 211.556,47.2441 \n",
       "  \"/>\n",
       "<polyline clip-path=\"url(#clip482)\" style=\"stroke:#000000; stroke-linecap:butt; stroke-linejoin:round; stroke-width:2; stroke-opacity:0.1; fill:none\" points=\"\n",
       "  640.615,1474.16 640.615,47.2441 \n",
       "  \"/>\n",
       "<polyline clip-path=\"url(#clip482)\" style=\"stroke:#000000; stroke-linecap:butt; stroke-linejoin:round; stroke-width:2; stroke-opacity:0.1; fill:none\" points=\"\n",
       "  1069.67,1474.16 1069.67,47.2441 \n",
       "  \"/>\n",
       "<polyline clip-path=\"url(#clip482)\" style=\"stroke:#000000; stroke-linecap:butt; stroke-linejoin:round; stroke-width:2; stroke-opacity:0.1; fill:none\" points=\"\n",
       "  1498.73,1474.16 1498.73,47.2441 \n",
       "  \"/>\n",
       "<polyline clip-path=\"url(#clip482)\" style=\"stroke:#000000; stroke-linecap:butt; stroke-linejoin:round; stroke-width:2; stroke-opacity:0.1; fill:none\" points=\"\n",
       "  1927.79,1474.16 1927.79,47.2441 \n",
       "  \"/>\n",
       "<polyline clip-path=\"url(#clip480)\" style=\"stroke:#000000; stroke-linecap:butt; stroke-linejoin:round; stroke-width:4; stroke-opacity:1; fill:none\" points=\"\n",
       "  149.191,1474.16 2352.76,1474.16 \n",
       "  \"/>\n",
       "<polyline clip-path=\"url(#clip480)\" style=\"stroke:#000000; stroke-linecap:butt; stroke-linejoin:round; stroke-width:4; stroke-opacity:1; fill:none\" points=\"\n",
       "  211.556,1474.16 211.556,1455.27 \n",
       "  \"/>\n",
       "<polyline clip-path=\"url(#clip480)\" style=\"stroke:#000000; stroke-linecap:butt; stroke-linejoin:round; stroke-width:4; stroke-opacity:1; fill:none\" points=\"\n",
       "  640.615,1474.16 640.615,1455.27 \n",
       "  \"/>\n",
       "<polyline clip-path=\"url(#clip480)\" style=\"stroke:#000000; stroke-linecap:butt; stroke-linejoin:round; stroke-width:4; stroke-opacity:1; fill:none\" points=\"\n",
       "  1069.67,1474.16 1069.67,1455.27 \n",
       "  \"/>\n",
       "<polyline clip-path=\"url(#clip480)\" style=\"stroke:#000000; stroke-linecap:butt; stroke-linejoin:round; stroke-width:4; stroke-opacity:1; fill:none\" points=\"\n",
       "  1498.73,1474.16 1498.73,1455.27 \n",
       "  \"/>\n",
       "<polyline clip-path=\"url(#clip480)\" style=\"stroke:#000000; stroke-linecap:butt; stroke-linejoin:round; stroke-width:4; stroke-opacity:1; fill:none\" points=\"\n",
       "  1927.79,1474.16 1927.79,1455.27 \n",
       "  \"/>\n",
       "<path clip-path=\"url(#clip480)\" d=\"M160.975 1548.29 L168.614 1548.29 L168.614 1521.92 L160.304 1523.59 L160.304 1519.33 L168.568 1517.66 L173.244 1517.66 L173.244 1548.29 L180.883 1548.29 L180.883 1552.22 L160.975 1552.22 L160.975 1548.29 Z\" fill=\"#000000\" fill-rule=\"evenodd\" fill-opacity=\"1\" /><path clip-path=\"url(#clip480)\" d=\"M200.327 1520.74 Q196.716 1520.74 194.887 1524.31 Q193.082 1527.85 193.082 1534.98 Q193.082 1542.09 194.887 1545.65 Q196.716 1549.19 200.327 1549.19 Q203.961 1549.19 205.767 1545.65 Q207.595 1542.09 207.595 1534.98 Q207.595 1527.85 205.767 1524.31 Q203.961 1520.74 200.327 1520.74 M200.327 1517.04 Q206.137 1517.04 209.193 1521.65 Q212.271 1526.23 212.271 1534.98 Q212.271 1543.71 209.193 1548.31 Q206.137 1552.9 200.327 1552.9 Q194.517 1552.9 191.438 1548.31 Q188.383 1543.71 188.383 1534.98 Q188.383 1526.23 191.438 1521.65 Q194.517 1517.04 200.327 1517.04 Z\" fill=\"#000000\" fill-rule=\"evenodd\" fill-opacity=\"1\" /><path clip-path=\"url(#clip480)\" d=\"M212.271 1511.14 L236.383 1511.14 L236.383 1514.34 L212.271 1514.34 L212.271 1511.14 Z\" fill=\"#000000\" fill-rule=\"evenodd\" fill-opacity=\"1\" /><path clip-path=\"url(#clip480)\" d=\"M255.021 1500.04 L245.429 1515.03 L255.021 1515.03 L255.021 1500.04 M254.025 1496.73 L258.802 1496.73 L258.802 1515.03 L262.808 1515.03 L262.808 1518.19 L258.802 1518.19 L258.802 1524.81 L255.021 1524.81 L255.021 1518.19 L242.345 1518.19 L242.345 1514.53 L254.025 1496.73 Z\" fill=\"#000000\" fill-rule=\"evenodd\" fill-opacity=\"1\" /><path clip-path=\"url(#clip480)\" d=\"M590.496 1548.29 L598.134 1548.29 L598.134 1521.92 L589.824 1523.59 L589.824 1519.33 L598.088 1517.66 L602.764 1517.66 L602.764 1548.29 L610.403 1548.29 L610.403 1552.22 L590.496 1552.22 L590.496 1548.29 Z\" fill=\"#000000\" fill-rule=\"evenodd\" fill-opacity=\"1\" /><path clip-path=\"url(#clip480)\" d=\"M629.847 1520.74 Q626.236 1520.74 624.407 1524.31 Q622.602 1527.85 622.602 1534.98 Q622.602 1542.09 624.407 1545.65 Q626.236 1549.19 629.847 1549.19 Q633.481 1549.19 635.287 1545.65 Q637.116 1542.09 637.116 1534.98 Q637.116 1527.85 635.287 1524.31 Q633.481 1520.74 629.847 1520.74 M629.847 1517.04 Q635.657 1517.04 638.713 1521.65 Q641.792 1526.23 641.792 1534.98 Q641.792 1543.71 638.713 1548.31 Q635.657 1552.9 629.847 1552.9 Q624.037 1552.9 620.958 1548.31 Q617.903 1543.71 617.903 1534.98 Q617.903 1526.23 620.958 1521.65 Q624.037 1517.04 629.847 1517.04 Z\" fill=\"#000000\" fill-rule=\"evenodd\" fill-opacity=\"1\" /><path clip-path=\"url(#clip480)\" d=\"M641.792 1511.14 L665.903 1511.14 L665.903 1514.34 L641.792 1514.34 L641.792 1511.14 Z\" fill=\"#000000\" fill-rule=\"evenodd\" fill-opacity=\"1\" /><path clip-path=\"url(#clip480)\" d=\"M685.614 1509.67 Q688.341 1510.26 689.864 1512.1 Q691.406 1513.94 691.406 1516.65 Q691.406 1520.81 688.548 1523.08 Q685.689 1525.36 680.423 1525.36 Q678.655 1525.36 676.774 1525 Q674.912 1524.66 672.918 1523.97 L672.918 1520.3 Q674.498 1521.22 676.379 1521.69 Q678.26 1522.16 680.31 1522.16 Q683.883 1522.16 685.745 1520.75 Q687.626 1519.34 687.626 1516.65 Q687.626 1514.17 685.877 1512.78 Q684.147 1511.37 681.043 1511.37 L677.771 1511.37 L677.771 1508.24 L681.194 1508.24 Q683.996 1508.24 685.482 1507.13 Q686.968 1506.01 686.968 1503.9 Q686.968 1501.74 685.426 1500.59 Q683.902 1499.42 681.043 1499.42 Q679.482 1499.42 677.696 1499.76 Q675.909 1500.1 673.765 1500.82 L673.765 1497.43 Q675.928 1496.83 677.808 1496.53 Q679.708 1496.23 681.382 1496.23 Q685.708 1496.23 688.228 1498.2 Q690.748 1500.16 690.748 1503.51 Q690.748 1505.84 689.413 1507.45 Q688.077 1509.05 685.614 1509.67 Z\" fill=\"#000000\" fill-rule=\"evenodd\" fill-opacity=\"1\" /><path clip-path=\"url(#clip480)\" d=\"M1019.94 1548.29 L1027.58 1548.29 L1027.58 1521.92 L1019.27 1523.59 L1019.27 1519.33 L1027.53 1517.66 L1032.21 1517.66 L1032.21 1548.29 L1039.85 1548.29 L1039.85 1552.22 L1019.94 1552.22 L1019.94 1548.29 Z\" fill=\"#000000\" fill-rule=\"evenodd\" fill-opacity=\"1\" /><path clip-path=\"url(#clip480)\" d=\"M1059.29 1520.74 Q1055.68 1520.74 1053.85 1524.31 Q1052.05 1527.85 1052.05 1534.98 Q1052.05 1542.09 1053.85 1545.65 Q1055.68 1549.19 1059.29 1549.19 Q1062.93 1549.19 1064.73 1545.65 Q1066.56 1542.09 1066.56 1534.98 Q1066.56 1527.85 1064.73 1524.31 Q1062.93 1520.74 1059.29 1520.74 M1059.29 1517.04 Q1065.1 1517.04 1068.16 1521.65 Q1071.24 1526.23 1071.24 1534.98 Q1071.24 1543.71 1068.16 1548.31 Q1065.1 1552.9 1059.29 1552.9 Q1053.48 1552.9 1050.4 1548.31 Q1047.35 1543.71 1047.35 1534.98 Q1047.35 1526.23 1050.4 1521.65 Q1053.48 1517.04 1059.29 1517.04 Z\" fill=\"#000000\" fill-rule=\"evenodd\" fill-opacity=\"1\" /><path clip-path=\"url(#clip480)\" d=\"M1071.24 1511.14 L1095.35 1511.14 L1095.35 1514.34 L1071.24 1514.34 L1071.24 1511.14 Z\" fill=\"#000000\" fill-rule=\"evenodd\" fill-opacity=\"1\" /><path clip-path=\"url(#clip480)\" d=\"M1106.82 1521.62 L1120.08 1521.62 L1120.08 1524.81 L1102.25 1524.81 L1102.25 1521.62 Q1104.41 1519.38 1108.14 1515.62 Q1111.88 1511.84 1112.84 1510.75 Q1114.66 1508.7 1115.38 1507.29 Q1116.11 1505.86 1116.11 1504.48 Q1116.11 1502.24 1114.53 1500.83 Q1112.97 1499.42 1110.45 1499.42 Q1108.66 1499.42 1106.67 1500.04 Q1104.7 1500.67 1102.44 1501.93 L1102.44 1498.09 Q1104.73 1497.17 1106.73 1496.7 Q1108.72 1496.23 1110.38 1496.23 Q1114.74 1496.23 1117.33 1498.41 Q1119.93 1500.59 1119.93 1504.24 Q1119.93 1505.97 1119.27 1507.53 Q1118.63 1509.07 1116.92 1511.18 Q1116.45 1511.72 1113.93 1514.34 Q1111.41 1516.93 1106.82 1521.62 Z\" fill=\"#000000\" fill-rule=\"evenodd\" fill-opacity=\"1\" /><path clip-path=\"url(#clip480)\" d=\"M1448.85 1548.29 L1456.49 1548.29 L1456.49 1521.92 L1448.18 1523.59 L1448.18 1519.33 L1456.44 1517.66 L1461.12 1517.66 L1461.12 1548.29 L1468.76 1548.29 L1468.76 1552.22 L1448.85 1552.22 L1448.85 1548.29 Z\" fill=\"#000000\" fill-rule=\"evenodd\" fill-opacity=\"1\" /><path clip-path=\"url(#clip480)\" d=\"M1488.2 1520.74 Q1484.59 1520.74 1482.76 1524.31 Q1480.96 1527.85 1480.96 1534.98 Q1480.96 1542.09 1482.76 1545.65 Q1484.59 1549.19 1488.2 1549.19 Q1491.84 1549.19 1493.64 1545.65 Q1495.47 1542.09 1495.47 1534.98 Q1495.47 1527.85 1493.64 1524.31 Q1491.84 1520.74 1488.2 1520.74 M1488.2 1517.04 Q1494.01 1517.04 1497.07 1521.65 Q1500.15 1526.23 1500.15 1534.98 Q1500.15 1543.71 1497.07 1548.31 Q1494.01 1552.9 1488.2 1552.9 Q1482.39 1552.9 1479.31 1548.31 Q1476.26 1543.71 1476.26 1534.98 Q1476.26 1526.23 1479.31 1521.65 Q1482.39 1517.04 1488.2 1517.04 Z\" fill=\"#000000\" fill-rule=\"evenodd\" fill-opacity=\"1\" /><path clip-path=\"url(#clip480)\" d=\"M1500.15 1511.14 L1524.26 1511.14 L1524.26 1514.34 L1500.15 1514.34 L1500.15 1511.14 Z\" fill=\"#000000\" fill-rule=\"evenodd\" fill-opacity=\"1\" /><path clip-path=\"url(#clip480)\" d=\"M1533.12 1521.62 L1539.32 1521.62 L1539.32 1500.19 L1532.57 1501.55 L1532.57 1498.09 L1539.28 1496.73 L1543.08 1496.73 L1543.08 1521.62 L1549.29 1521.62 L1549.29 1524.81 L1533.12 1524.81 L1533.12 1521.62 Z\" fill=\"#000000\" fill-rule=\"evenodd\" fill-opacity=\"1\" /><path clip-path=\"url(#clip480)\" d=\"M1892.78 1548.29 L1900.42 1548.29 L1900.42 1521.92 L1892.11 1523.59 L1892.11 1519.33 L1900.37 1517.66 L1905.04 1517.66 L1905.04 1548.29 L1912.68 1548.29 L1912.68 1552.22 L1892.78 1552.22 L1892.78 1548.29 Z\" fill=\"#000000\" fill-rule=\"evenodd\" fill-opacity=\"1\" /><path clip-path=\"url(#clip480)\" d=\"M1932.13 1520.74 Q1928.52 1520.74 1926.69 1524.31 Q1924.88 1527.85 1924.88 1534.98 Q1924.88 1542.09 1926.69 1545.65 Q1928.52 1549.19 1932.13 1549.19 Q1935.76 1549.19 1937.57 1545.65 Q1939.4 1542.09 1939.4 1534.98 Q1939.4 1527.85 1937.57 1524.31 Q1935.76 1520.74 1932.13 1520.74 M1932.13 1517.04 Q1937.94 1517.04 1940.99 1521.65 Q1944.07 1526.23 1944.07 1534.98 Q1944.07 1543.71 1940.99 1548.31 Q1937.94 1552.9 1932.13 1552.9 Q1926.32 1552.9 1923.24 1548.31 Q1920.18 1543.71 1920.18 1534.98 Q1920.18 1526.23 1923.24 1521.65 Q1926.32 1517.04 1932.13 1517.04 Z\" fill=\"#000000\" fill-rule=\"evenodd\" fill-opacity=\"1\" /><path clip-path=\"url(#clip480)\" d=\"M1953.78 1499.24 Q1950.84 1499.24 1949.36 1502.13 Q1947.89 1505.01 1947.89 1510.8 Q1947.89 1516.58 1949.36 1519.47 Q1950.84 1522.35 1953.78 1522.35 Q1956.73 1522.35 1958.2 1519.47 Q1959.68 1516.58 1959.68 1510.8 Q1959.68 1505.01 1958.2 1502.13 Q1956.73 1499.24 1953.78 1499.24 M1953.78 1496.23 Q1958.5 1496.23 1960.98 1499.97 Q1963.48 1503.69 1963.48 1510.8 Q1963.48 1517.89 1960.98 1521.64 Q1958.5 1525.36 1953.78 1525.36 Q1949.06 1525.36 1946.56 1521.64 Q1944.07 1517.89 1944.07 1510.8 Q1944.07 1503.69 1946.56 1499.97 Q1949.06 1496.23 1953.78 1496.23 Z\" fill=\"#000000\" fill-rule=\"evenodd\" fill-opacity=\"1\" /><polyline clip-path=\"url(#clip482)\" style=\"stroke:#000000; stroke-linecap:butt; stroke-linejoin:round; stroke-width:2; stroke-opacity:0.1; fill:none\" points=\"\n",
       "  149.191,1420.26 2352.76,1420.26 \n",
       "  \"/>\n",
       "<polyline clip-path=\"url(#clip482)\" style=\"stroke:#000000; stroke-linecap:butt; stroke-linejoin:round; stroke-width:2; stroke-opacity:0.1; fill:none\" points=\"\n",
       "  149.191,1039.5 2352.76,1039.5 \n",
       "  \"/>\n",
       "<polyline clip-path=\"url(#clip482)\" style=\"stroke:#000000; stroke-linecap:butt; stroke-linejoin:round; stroke-width:2; stroke-opacity:0.1; fill:none\" points=\"\n",
       "  149.191,658.733 2352.76,658.733 \n",
       "  \"/>\n",
       "<polyline clip-path=\"url(#clip482)\" style=\"stroke:#000000; stroke-linecap:butt; stroke-linejoin:round; stroke-width:2; stroke-opacity:0.1; fill:none\" points=\"\n",
       "  149.191,277.971 2352.76,277.971 \n",
       "  \"/>\n",
       "<polyline clip-path=\"url(#clip480)\" style=\"stroke:#000000; stroke-linecap:butt; stroke-linejoin:round; stroke-width:4; stroke-opacity:1; fill:none\" points=\"\n",
       "  149.191,1474.16 149.191,47.2441 \n",
       "  \"/>\n",
       "<polyline clip-path=\"url(#clip480)\" style=\"stroke:#000000; stroke-linecap:butt; stroke-linejoin:round; stroke-width:4; stroke-opacity:1; fill:none\" points=\"\n",
       "  149.191,1420.26 168.089,1420.26 \n",
       "  \"/>\n",
       "<polyline clip-path=\"url(#clip480)\" style=\"stroke:#000000; stroke-linecap:butt; stroke-linejoin:round; stroke-width:4; stroke-opacity:1; fill:none\" points=\"\n",
       "  149.191,1039.5 168.089,1039.5 \n",
       "  \"/>\n",
       "<polyline clip-path=\"url(#clip480)\" style=\"stroke:#000000; stroke-linecap:butt; stroke-linejoin:round; stroke-width:4; stroke-opacity:1; fill:none\" points=\"\n",
       "  149.191,658.733 168.089,658.733 \n",
       "  \"/>\n",
       "<polyline clip-path=\"url(#clip480)\" style=\"stroke:#000000; stroke-linecap:butt; stroke-linejoin:round; stroke-width:4; stroke-opacity:1; fill:none\" points=\"\n",
       "  149.191,277.971 168.089,277.971 \n",
       "  \"/>\n",
       "<path clip-path=\"url(#clip480)\" d=\"M51.3162 1420.71 L80.992 1420.71 L80.992 1424.64 L51.3162 1424.64 L51.3162 1420.71 Z\" fill=\"#000000\" fill-rule=\"evenodd\" fill-opacity=\"1\" /><path clip-path=\"url(#clip480)\" d=\"M101.663 1418.39 Q98.515 1418.39 96.6632 1420.55 Q94.8345 1422.7 94.8345 1426.45 Q94.8345 1430.18 96.6632 1432.35 Q98.515 1434.5 101.663 1434.5 Q104.811 1434.5 106.64 1432.35 Q108.492 1430.18 108.492 1426.45 Q108.492 1422.7 106.64 1420.55 Q104.811 1418.39 101.663 1418.39 M110.946 1403.74 L110.946 1408 Q109.186 1407.17 107.381 1406.73 Q105.598 1406.29 103.839 1406.29 Q99.2095 1406.29 96.7558 1409.41 Q94.3252 1412.54 93.978 1418.86 Q95.3437 1416.84 97.4039 1415.78 Q99.4641 1414.69 101.941 1414.69 Q107.149 1414.69 110.158 1417.86 Q113.191 1421.01 113.191 1426.45 Q113.191 1431.77 110.043 1434.99 Q106.895 1438.21 101.663 1438.21 Q95.6678 1438.21 92.4965 1433.62 Q89.3253 1429.02 89.3253 1420.29 Q89.3253 1412.1 93.2141 1407.24 Q97.103 1402.35 103.654 1402.35 Q105.413 1402.35 107.196 1402.7 Q109.001 1403.05 110.946 1403.74 Z\" fill=\"#000000\" fill-rule=\"evenodd\" fill-opacity=\"1\" /><path clip-path=\"url(#clip480)\" d=\"M50.9921 1039.95 L80.6679 1039.95 L80.6679 1043.88 L50.9921 1043.88 L50.9921 1039.95 Z\" fill=\"#000000\" fill-rule=\"evenodd\" fill-opacity=\"1\" /><path clip-path=\"url(#clip480)\" d=\"M103.608 1026.29 L91.8021 1044.74 L103.608 1044.74 L103.608 1026.29 M102.381 1022.22 L108.26 1022.22 L108.26 1044.74 L113.191 1044.74 L113.191 1048.63 L108.26 1048.63 L108.26 1056.78 L103.608 1056.78 L103.608 1048.63 L88.0058 1048.63 L88.0058 1044.11 L102.381 1022.22 Z\" fill=\"#000000\" fill-rule=\"evenodd\" fill-opacity=\"1\" /><path clip-path=\"url(#clip480)\" d=\"M53.0754 659.185 L82.7512 659.185 L82.7512 663.12 L53.0754 663.12 L53.0754 659.185 Z\" fill=\"#000000\" fill-rule=\"evenodd\" fill-opacity=\"1\" /><path clip-path=\"url(#clip480)\" d=\"M96.8715 672.078 L113.191 672.078 L113.191 676.013 L91.2465 676.013 L91.2465 672.078 Q93.9086 669.323 98.4919 664.694 Q103.098 660.041 104.279 658.698 Q106.524 656.175 107.404 654.439 Q108.307 652.68 108.307 650.99 Q108.307 648.236 106.362 646.499 Q104.441 644.763 101.339 644.763 Q99.14 644.763 96.6863 645.527 Q94.2558 646.291 91.478 647.842 L91.478 643.12 Q94.3021 641.986 96.7558 641.407 Q99.2095 640.828 101.246 640.828 Q106.617 640.828 109.811 643.513 Q113.006 646.199 113.006 650.689 Q113.006 652.819 112.196 654.74 Q111.408 656.638 109.302 659.231 Q108.723 659.902 105.621 663.12 Q102.52 666.314 96.8715 672.078 Z\" fill=\"#000000\" fill-rule=\"evenodd\" fill-opacity=\"1\" /><path clip-path=\"url(#clip480)\" d=\"M101.246 263.77 Q97.6354 263.77 95.8067 267.335 Q94.0012 270.877 94.0012 278.006 Q94.0012 285.113 95.8067 288.677 Q97.6354 292.219 101.246 292.219 Q104.881 292.219 106.686 288.677 Q108.515 285.113 108.515 278.006 Q108.515 270.877 106.686 267.335 Q104.881 263.77 101.246 263.77 M101.246 260.066 Q107.057 260.066 110.112 264.673 Q113.191 269.256 113.191 278.006 Q113.191 286.733 110.112 291.339 Q107.057 295.923 101.246 295.923 Q95.4363 295.923 92.3576 291.339 Q89.3021 286.733 89.3021 278.006 Q89.3021 269.256 92.3576 264.673 Q95.4363 260.066 101.246 260.066 Z\" fill=\"#000000\" fill-rule=\"evenodd\" fill-opacity=\"1\" /><polyline clip-path=\"url(#clip482)\" style=\"stroke:#009af9; stroke-linecap:butt; stroke-linejoin:round; stroke-width:4; stroke-opacity:1; fill:none\" points=\"\n",
       "  211.556,1002.7 264.859,775.197 318.163,604.355 371.466,476.097 424.77,379.852 478.073,307.68 531.377,253.618 584.68,213.187 637.984,183.025 691.287,160.596 \n",
       "  744.591,143.986 797.894,131.756 851.197,122.824 904.501,116.376 957.804,111.826 1011.11,108.791 1064.41,107.078 1117.71,106.757 1171.02,108.274 1224.32,112.343 \n",
       "  1277.63,118.768 1330.93,125.343 1384.23,134.383 1437.54,160.386 1490.84,184.905 1544.14,236.667 1597.45,315.024 1650.75,433.845 1704.05,602.821 1757.36,827.173 \n",
       "  1810.66,1088.86 1863.96,1343.27 1917.27,1433.78 1970.57,1270.88 2023.87,902.688 2077.18,486.424 2130.48,211.278 2183.78,108.325 2237.09,89.1252 2290.39,87.6286 \n",
       "  \n",
       "  \"/>\n",
       "<path clip-path=\"url(#clip480)\" d=\"\n",
       "M1600.69 198.488 L2279.3 198.488 L2279.3 94.8081 L1600.69 94.8081  Z\n",
       "  \" fill=\"#ffffff\" fill-rule=\"evenodd\" fill-opacity=\"1\"/>\n",
       "<polyline clip-path=\"url(#clip480)\" style=\"stroke:#000000; stroke-linecap:butt; stroke-linejoin:round; stroke-width:4; stroke-opacity:1; fill:none\" points=\"\n",
       "  1600.69,198.488 2279.3,198.488 2279.3,94.8081 1600.69,94.8081 1600.69,198.488 \n",
       "  \"/>\n",
       "<polyline clip-path=\"url(#clip480)\" style=\"stroke:#009af9; stroke-linecap:butt; stroke-linejoin:round; stroke-width:4; stroke-opacity:1; fill:none\" points=\"\n",
       "  1625.18,146.648 1772.08,146.648 \n",
       "  \"/>\n",
       "<path clip-path=\"url(#clip480)\" d=\"M1807.19 127.956 Q1804.09 133.28 1802.58 138.488 Q1801.08 143.697 1801.08 149.044 Q1801.08 154.391 1802.58 159.646 Q1804.11 164.877 1807.19 170.178 L1803.49 170.178 Q1800.01 164.738 1798.28 159.484 Q1796.56 154.229 1796.56 149.044 Q1796.56 143.882 1798.28 138.65 Q1799.99 133.419 1803.49 127.956 L1807.19 127.956 Z\" fill=\"#000000\" fill-rule=\"evenodd\" fill-opacity=\"1\" /><path clip-path=\"url(#clip480)\" d=\"M1815.64 129.368 L1837.49 129.368 L1837.49 133.303 L1820.31 133.303 L1820.31 143.535 L1836.77 143.535 L1836.77 147.47 L1820.31 147.47 L1820.31 159.993 L1837.91 159.993 L1837.91 163.928 L1815.64 163.928 L1815.64 129.368 Z\" fill=\"#000000\" fill-rule=\"evenodd\" fill-opacity=\"1\" /><path clip-path=\"url(#clip480)\" d=\"M1845.41 138.002 L1849.67 138.002 L1849.67 163.928 L1845.41 163.928 L1845.41 138.002 M1845.41 127.91 L1849.67 127.91 L1849.67 133.303 L1845.41 133.303 L1845.41 127.91 Z\" fill=\"#000000\" fill-rule=\"evenodd\" fill-opacity=\"1\" /><path clip-path=\"url(#clip480)\" d=\"M1875.11 138.766 L1875.11 142.794 Q1873.3 141.868 1871.36 141.405 Q1869.41 140.942 1867.33 140.942 Q1864.16 140.942 1862.56 141.914 Q1860.99 142.887 1860.99 144.831 Q1860.99 146.312 1862.12 147.169 Q1863.25 148.002 1866.68 148.766 L1868.14 149.09 Q1872.68 150.062 1874.57 151.845 Q1876.49 153.604 1876.49 156.775 Q1876.49 160.386 1873.62 162.493 Q1870.78 164.599 1865.78 164.599 Q1863.69 164.599 1861.43 164.183 Q1859.18 163.789 1856.68 162.979 L1856.68 158.581 Q1859.04 159.808 1861.33 160.433 Q1863.62 161.035 1865.87 161.035 Q1868.88 161.035 1870.5 160.016 Q1872.12 158.974 1872.12 157.099 Q1872.12 155.363 1870.94 154.437 Q1869.78 153.512 1865.82 152.655 L1864.34 152.308 Q1860.38 151.474 1858.62 149.762 Q1856.87 148.025 1856.87 145.016 Q1856.87 141.359 1859.46 139.368 Q1862.05 137.377 1866.82 137.377 Q1869.18 137.377 1871.26 137.725 Q1873.35 138.072 1875.11 138.766 Z\" fill=\"#000000\" fill-rule=\"evenodd\" fill-opacity=\"1\" /><path clip-path=\"url(#clip480)\" d=\"M1883.46 129.368 L1888.14 129.368 L1888.14 143.535 L1905.13 143.535 L1905.13 129.368 L1909.8 129.368 L1909.8 163.928 L1905.13 163.928 L1905.13 147.47 L1888.14 147.47 L1888.14 163.928 L1883.46 163.928 L1883.46 129.368 Z\" fill=\"#000000\" fill-rule=\"evenodd\" fill-opacity=\"1\" /><path clip-path=\"url(#clip480)\" d=\"M1918.49 153.697 L1918.49 138.002 L1922.74 138.002 L1922.74 153.535 Q1922.74 157.215 1924.18 159.067 Q1925.62 160.896 1928.49 160.896 Q1931.93 160.896 1933.93 158.697 Q1935.94 156.498 1935.94 152.701 L1935.94 138.002 L1940.2 138.002 L1940.2 163.928 L1935.94 163.928 L1935.94 159.947 Q1934.39 162.308 1932.33 163.465 Q1930.29 164.599 1927.58 164.599 Q1923.12 164.599 1920.8 161.822 Q1918.49 159.044 1918.49 153.697 M1929.2 137.377 L1929.2 137.377 Z\" fill=\"#000000\" fill-rule=\"evenodd\" fill-opacity=\"1\" /><path clip-path=\"url(#clip480)\" d=\"M1946.82 149.044 L1959.3 149.044 L1959.3 152.84 L1946.82 152.84 L1946.82 149.044 Z\" fill=\"#000000\" fill-rule=\"evenodd\" fill-opacity=\"1\" /><path clip-path=\"url(#clip480)\" d=\"M1966.26 129.368 L1988.11 129.368 L1988.11 133.303 L1970.94 133.303 L1970.94 143.535 L1987.4 143.535 L1987.4 147.47 L1970.94 147.47 L1970.94 159.993 L1988.53 159.993 L1988.53 163.928 L1966.26 163.928 L1966.26 129.368 Z\" fill=\"#000000\" fill-rule=\"evenodd\" fill-opacity=\"1\" /><path clip-path=\"url(#clip480)\" d=\"M2016.22 142.979 Q2017.81 140.109 2020.04 138.743 Q2022.26 137.377 2025.27 137.377 Q2029.32 137.377 2031.52 140.225 Q2033.72 143.049 2033.72 148.28 L2033.72 163.928 L2029.43 163.928 L2029.43 148.419 Q2029.43 144.692 2028.11 142.887 Q2026.8 141.081 2024.09 141.081 Q2020.78 141.081 2018.86 143.28 Q2016.93 145.479 2016.93 149.275 L2016.93 163.928 L2012.65 163.928 L2012.65 148.419 Q2012.65 144.669 2011.33 142.887 Q2010.01 141.081 2007.26 141.081 Q2003.99 141.081 2002.07 143.303 Q2000.15 145.502 2000.15 149.275 L2000.15 163.928 L1995.87 163.928 L1995.87 138.002 L2000.15 138.002 L2000.15 142.03 Q2001.61 139.646 2003.65 138.512 Q2005.68 137.377 2008.48 137.377 Q2011.31 137.377 2013.28 138.813 Q2015.27 140.248 2016.22 142.979 Z\" fill=\"#000000\" fill-rule=\"evenodd\" fill-opacity=\"1\" /><path clip-path=\"url(#clip480)\" d=\"M2041.77 153.697 L2041.77 138.002 L2046.03 138.002 L2046.03 153.535 Q2046.03 157.215 2047.47 159.067 Q2048.9 160.896 2051.77 160.896 Q2055.22 160.896 2057.21 158.697 Q2059.23 156.498 2059.23 152.701 L2059.23 138.002 L2063.48 138.002 L2063.48 163.928 L2059.23 163.928 L2059.23 159.947 Q2057.67 162.308 2055.61 163.465 Q2053.58 164.599 2050.87 164.599 Q2046.4 164.599 2044.09 161.822 Q2041.77 159.044 2041.77 153.697 M2052.49 137.377 L2052.49 137.377 Z\" fill=\"#000000\" fill-rule=\"evenodd\" fill-opacity=\"1\" /><path clip-path=\"url(#clip480)\" d=\"M2072.26 127.91 L2076.52 127.91 L2076.52 163.928 L2072.26 163.928 L2072.26 127.91 Z\" fill=\"#000000\" fill-rule=\"evenodd\" fill-opacity=\"1\" /><path clip-path=\"url(#clip480)\" d=\"M2084.76 127.956 L2088.46 127.956 Q2091.93 133.419 2093.65 138.65 Q2095.38 143.882 2095.38 149.044 Q2095.38 154.229 2093.65 159.484 Q2091.93 164.738 2088.46 170.178 L2084.76 170.178 Q2087.84 164.877 2089.34 159.646 Q2090.87 154.391 2090.87 149.044 Q2090.87 143.697 2089.34 138.488 Q2087.84 133.28 2084.76 127.956 Z\" fill=\"#000000\" fill-rule=\"evenodd\" fill-opacity=\"1\" /><path clip-path=\"url(#clip480)\" d=\"M2111.49 129.368 L2115.43 129.368 L2103.39 168.326 L2099.46 168.326 L2111.49 129.368 Z\" fill=\"#000000\" fill-rule=\"evenodd\" fill-opacity=\"1\" /><path clip-path=\"url(#clip480)\" d=\"M2120.08 129.368 L2141.93 129.368 L2141.93 133.303 L2124.76 133.303 L2124.76 143.535 L2141.22 143.535 L2141.22 147.47 L2124.76 147.47 L2124.76 159.993 L2142.35 159.993 L2142.35 163.928 L2120.08 163.928 L2120.08 129.368 Z\" fill=\"#000000\" fill-rule=\"evenodd\" fill-opacity=\"1\" /><path clip-path=\"url(#clip480)\" d=\"M2170.04 142.979 Q2171.63 140.109 2173.85 138.743 Q2176.08 137.377 2179.09 137.377 Q2183.14 137.377 2185.34 140.225 Q2187.53 143.049 2187.53 148.28 L2187.53 163.928 L2183.25 163.928 L2183.25 148.419 Q2183.25 144.692 2181.93 142.887 Q2180.61 141.081 2177.91 141.081 Q2174.6 141.081 2172.67 143.28 Q2170.75 145.479 2170.75 149.275 L2170.75 163.928 L2166.47 163.928 L2166.47 148.419 Q2166.47 144.669 2165.15 142.887 Q2163.83 141.081 2161.08 141.081 Q2157.81 141.081 2155.89 143.303 Q2153.97 145.502 2153.97 149.275 L2153.97 163.928 L2149.69 163.928 L2149.69 138.002 L2153.97 138.002 L2153.97 142.03 Q2155.43 139.646 2157.47 138.512 Q2159.5 137.377 2162.3 137.377 Q2165.13 137.377 2167.1 138.813 Q2169.09 140.248 2170.04 142.979 Z\" fill=\"#000000\" fill-rule=\"evenodd\" fill-opacity=\"1\" /><path clip-path=\"url(#clip480)\" d=\"M2195.59 153.697 L2195.59 138.002 L2199.85 138.002 L2199.85 153.535 Q2199.85 157.215 2201.28 159.067 Q2202.72 160.896 2205.59 160.896 Q2209.04 160.896 2211.03 158.697 Q2213.04 156.498 2213.04 152.701 L2213.04 138.002 L2217.3 138.002 L2217.3 163.928 L2213.04 163.928 L2213.04 159.947 Q2211.49 162.308 2209.43 163.465 Q2207.4 164.599 2204.69 164.599 Q2200.22 164.599 2197.91 161.822 Q2195.59 159.044 2195.59 153.697 M2206.31 137.377 L2206.31 137.377 Z\" fill=\"#000000\" fill-rule=\"evenodd\" fill-opacity=\"1\" /><path clip-path=\"url(#clip480)\" d=\"M2226.08 127.91 L2230.34 127.91 L2230.34 163.928 L2226.08 163.928 L2226.08 127.91 Z\" fill=\"#000000\" fill-rule=\"evenodd\" fill-opacity=\"1\" /></svg>\n"
      ]
     },
     "execution_count": 13,
     "metadata": {},
     "output_type": "execute_result"
    }
   ],
   "source": [
    "plot(k_arr, (Pk_EisHu-Pk_emul_L)./Pk_EisHu, xaxis=:log, label=\"(EisHu-Emul)/Emul\")"
   ]
  },
  {
   "cell_type": "code",
   "execution_count": 14,
   "id": "c9a4d7f8",
   "metadata": {},
   "outputs": [
    {
     "data": {
      "image/svg+xml": [
       "<?xml version=\"1.0\" encoding=\"utf-8\"?>\n",
       "<svg xmlns=\"http://www.w3.org/2000/svg\" xmlns:xlink=\"http://www.w3.org/1999/xlink\" width=\"600\" height=\"400\" viewBox=\"0 0 2400 1600\">\n",
       "<defs>\n",
       "  <clipPath id=\"clip520\">\n",
       "    <rect x=\"0\" y=\"0\" width=\"2400\" height=\"1600\"/>\n",
       "  </clipPath>\n",
       "</defs>\n",
       "<path clip-path=\"url(#clip520)\" d=\"\n",
       "M0 1600 L2400 1600 L2400 0 L0 0  Z\n",
       "  \" fill=\"#ffffff\" fill-rule=\"evenodd\" fill-opacity=\"1\"/>\n",
       "<defs>\n",
       "  <clipPath id=\"clip521\">\n",
       "    <rect x=\"480\" y=\"0\" width=\"1681\" height=\"1600\"/>\n",
       "  </clipPath>\n",
       "</defs>\n",
       "<path clip-path=\"url(#clip520)\" d=\"\n",
       "M149.191 1474.16 L2352.76 1474.16 L2352.76 47.2441 L149.191 47.2441  Z\n",
       "  \" fill=\"#ffffff\" fill-rule=\"evenodd\" fill-opacity=\"1\"/>\n",
       "<defs>\n",
       "  <clipPath id=\"clip522\">\n",
       "    <rect x=\"149\" y=\"47\" width=\"2205\" height=\"1428\"/>\n",
       "  </clipPath>\n",
       "</defs>\n",
       "<polyline clip-path=\"url(#clip522)\" style=\"stroke:#000000; stroke-linecap:butt; stroke-linejoin:round; stroke-width:2; stroke-opacity:0.1; fill:none\" points=\"\n",
       "  211.556,1474.16 211.556,47.2441 \n",
       "  \"/>\n",
       "<polyline clip-path=\"url(#clip522)\" style=\"stroke:#000000; stroke-linecap:butt; stroke-linejoin:round; stroke-width:2; stroke-opacity:0.1; fill:none\" points=\"\n",
       "  640.615,1474.16 640.615,47.2441 \n",
       "  \"/>\n",
       "<polyline clip-path=\"url(#clip522)\" style=\"stroke:#000000; stroke-linecap:butt; stroke-linejoin:round; stroke-width:2; stroke-opacity:0.1; fill:none\" points=\"\n",
       "  1069.67,1474.16 1069.67,47.2441 \n",
       "  \"/>\n",
       "<polyline clip-path=\"url(#clip522)\" style=\"stroke:#000000; stroke-linecap:butt; stroke-linejoin:round; stroke-width:2; stroke-opacity:0.1; fill:none\" points=\"\n",
       "  1498.73,1474.16 1498.73,47.2441 \n",
       "  \"/>\n",
       "<polyline clip-path=\"url(#clip522)\" style=\"stroke:#000000; stroke-linecap:butt; stroke-linejoin:round; stroke-width:2; stroke-opacity:0.1; fill:none\" points=\"\n",
       "  1927.79,1474.16 1927.79,47.2441 \n",
       "  \"/>\n",
       "<polyline clip-path=\"url(#clip520)\" style=\"stroke:#000000; stroke-linecap:butt; stroke-linejoin:round; stroke-width:4; stroke-opacity:1; fill:none\" points=\"\n",
       "  149.191,1474.16 2352.76,1474.16 \n",
       "  \"/>\n",
       "<polyline clip-path=\"url(#clip520)\" style=\"stroke:#000000; stroke-linecap:butt; stroke-linejoin:round; stroke-width:4; stroke-opacity:1; fill:none\" points=\"\n",
       "  211.556,1474.16 211.556,1455.27 \n",
       "  \"/>\n",
       "<polyline clip-path=\"url(#clip520)\" style=\"stroke:#000000; stroke-linecap:butt; stroke-linejoin:round; stroke-width:4; stroke-opacity:1; fill:none\" points=\"\n",
       "  640.615,1474.16 640.615,1455.27 \n",
       "  \"/>\n",
       "<polyline clip-path=\"url(#clip520)\" style=\"stroke:#000000; stroke-linecap:butt; stroke-linejoin:round; stroke-width:4; stroke-opacity:1; fill:none\" points=\"\n",
       "  1069.67,1474.16 1069.67,1455.27 \n",
       "  \"/>\n",
       "<polyline clip-path=\"url(#clip520)\" style=\"stroke:#000000; stroke-linecap:butt; stroke-linejoin:round; stroke-width:4; stroke-opacity:1; fill:none\" points=\"\n",
       "  1498.73,1474.16 1498.73,1455.27 \n",
       "  \"/>\n",
       "<polyline clip-path=\"url(#clip520)\" style=\"stroke:#000000; stroke-linecap:butt; stroke-linejoin:round; stroke-width:4; stroke-opacity:1; fill:none\" points=\"\n",
       "  1927.79,1474.16 1927.79,1455.27 \n",
       "  \"/>\n",
       "<path clip-path=\"url(#clip520)\" d=\"M160.975 1548.29 L168.614 1548.29 L168.614 1521.92 L160.304 1523.59 L160.304 1519.33 L168.568 1517.66 L173.244 1517.66 L173.244 1548.29 L180.883 1548.29 L180.883 1552.22 L160.975 1552.22 L160.975 1548.29 Z\" fill=\"#000000\" fill-rule=\"evenodd\" fill-opacity=\"1\" /><path clip-path=\"url(#clip520)\" d=\"M200.327 1520.74 Q196.716 1520.74 194.887 1524.31 Q193.082 1527.85 193.082 1534.98 Q193.082 1542.09 194.887 1545.65 Q196.716 1549.19 200.327 1549.19 Q203.961 1549.19 205.767 1545.65 Q207.595 1542.09 207.595 1534.98 Q207.595 1527.85 205.767 1524.31 Q203.961 1520.74 200.327 1520.74 M200.327 1517.04 Q206.137 1517.04 209.193 1521.65 Q212.271 1526.23 212.271 1534.98 Q212.271 1543.71 209.193 1548.31 Q206.137 1552.9 200.327 1552.9 Q194.517 1552.9 191.438 1548.31 Q188.383 1543.71 188.383 1534.98 Q188.383 1526.23 191.438 1521.65 Q194.517 1517.04 200.327 1517.04 Z\" fill=\"#000000\" fill-rule=\"evenodd\" fill-opacity=\"1\" /><path clip-path=\"url(#clip520)\" d=\"M212.271 1511.14 L236.383 1511.14 L236.383 1514.34 L212.271 1514.34 L212.271 1511.14 Z\" fill=\"#000000\" fill-rule=\"evenodd\" fill-opacity=\"1\" /><path clip-path=\"url(#clip520)\" d=\"M255.021 1500.04 L245.429 1515.03 L255.021 1515.03 L255.021 1500.04 M254.025 1496.73 L258.802 1496.73 L258.802 1515.03 L262.808 1515.03 L262.808 1518.19 L258.802 1518.19 L258.802 1524.81 L255.021 1524.81 L255.021 1518.19 L242.345 1518.19 L242.345 1514.53 L254.025 1496.73 Z\" fill=\"#000000\" fill-rule=\"evenodd\" fill-opacity=\"1\" /><path clip-path=\"url(#clip520)\" d=\"M590.496 1548.29 L598.134 1548.29 L598.134 1521.92 L589.824 1523.59 L589.824 1519.33 L598.088 1517.66 L602.764 1517.66 L602.764 1548.29 L610.403 1548.29 L610.403 1552.22 L590.496 1552.22 L590.496 1548.29 Z\" fill=\"#000000\" fill-rule=\"evenodd\" fill-opacity=\"1\" /><path clip-path=\"url(#clip520)\" d=\"M629.847 1520.74 Q626.236 1520.74 624.407 1524.31 Q622.602 1527.85 622.602 1534.98 Q622.602 1542.09 624.407 1545.65 Q626.236 1549.19 629.847 1549.19 Q633.481 1549.19 635.287 1545.65 Q637.116 1542.09 637.116 1534.98 Q637.116 1527.85 635.287 1524.31 Q633.481 1520.74 629.847 1520.74 M629.847 1517.04 Q635.657 1517.04 638.713 1521.65 Q641.792 1526.23 641.792 1534.98 Q641.792 1543.71 638.713 1548.31 Q635.657 1552.9 629.847 1552.9 Q624.037 1552.9 620.958 1548.31 Q617.903 1543.71 617.903 1534.98 Q617.903 1526.23 620.958 1521.65 Q624.037 1517.04 629.847 1517.04 Z\" fill=\"#000000\" fill-rule=\"evenodd\" fill-opacity=\"1\" /><path clip-path=\"url(#clip520)\" d=\"M641.792 1511.14 L665.903 1511.14 L665.903 1514.34 L641.792 1514.34 L641.792 1511.14 Z\" fill=\"#000000\" fill-rule=\"evenodd\" fill-opacity=\"1\" /><path clip-path=\"url(#clip520)\" d=\"M685.614 1509.67 Q688.341 1510.26 689.864 1512.1 Q691.406 1513.94 691.406 1516.65 Q691.406 1520.81 688.548 1523.08 Q685.689 1525.36 680.423 1525.36 Q678.655 1525.36 676.774 1525 Q674.912 1524.66 672.918 1523.97 L672.918 1520.3 Q674.498 1521.22 676.379 1521.69 Q678.26 1522.16 680.31 1522.16 Q683.883 1522.16 685.745 1520.75 Q687.626 1519.34 687.626 1516.65 Q687.626 1514.17 685.877 1512.78 Q684.147 1511.37 681.043 1511.37 L677.771 1511.37 L677.771 1508.24 L681.194 1508.24 Q683.996 1508.24 685.482 1507.13 Q686.968 1506.01 686.968 1503.9 Q686.968 1501.74 685.426 1500.59 Q683.902 1499.42 681.043 1499.42 Q679.482 1499.42 677.696 1499.76 Q675.909 1500.1 673.765 1500.82 L673.765 1497.43 Q675.928 1496.83 677.808 1496.53 Q679.708 1496.23 681.382 1496.23 Q685.708 1496.23 688.228 1498.2 Q690.748 1500.16 690.748 1503.51 Q690.748 1505.84 689.413 1507.45 Q688.077 1509.05 685.614 1509.67 Z\" fill=\"#000000\" fill-rule=\"evenodd\" fill-opacity=\"1\" /><path clip-path=\"url(#clip520)\" d=\"M1019.94 1548.29 L1027.58 1548.29 L1027.58 1521.92 L1019.27 1523.59 L1019.27 1519.33 L1027.53 1517.66 L1032.21 1517.66 L1032.21 1548.29 L1039.85 1548.29 L1039.85 1552.22 L1019.94 1552.22 L1019.94 1548.29 Z\" fill=\"#000000\" fill-rule=\"evenodd\" fill-opacity=\"1\" /><path clip-path=\"url(#clip520)\" d=\"M1059.29 1520.74 Q1055.68 1520.74 1053.85 1524.31 Q1052.05 1527.85 1052.05 1534.98 Q1052.05 1542.09 1053.85 1545.65 Q1055.68 1549.19 1059.29 1549.19 Q1062.93 1549.19 1064.73 1545.65 Q1066.56 1542.09 1066.56 1534.98 Q1066.56 1527.85 1064.73 1524.31 Q1062.93 1520.74 1059.29 1520.74 M1059.29 1517.04 Q1065.1 1517.04 1068.16 1521.65 Q1071.24 1526.23 1071.24 1534.98 Q1071.24 1543.71 1068.16 1548.31 Q1065.1 1552.9 1059.29 1552.9 Q1053.48 1552.9 1050.4 1548.31 Q1047.35 1543.71 1047.35 1534.98 Q1047.35 1526.23 1050.4 1521.65 Q1053.48 1517.04 1059.29 1517.04 Z\" fill=\"#000000\" fill-rule=\"evenodd\" fill-opacity=\"1\" /><path clip-path=\"url(#clip520)\" d=\"M1071.24 1511.14 L1095.35 1511.14 L1095.35 1514.34 L1071.24 1514.34 L1071.24 1511.14 Z\" fill=\"#000000\" fill-rule=\"evenodd\" fill-opacity=\"1\" /><path clip-path=\"url(#clip520)\" d=\"M1106.82 1521.62 L1120.08 1521.62 L1120.08 1524.81 L1102.25 1524.81 L1102.25 1521.62 Q1104.41 1519.38 1108.14 1515.62 Q1111.88 1511.84 1112.84 1510.75 Q1114.66 1508.7 1115.38 1507.29 Q1116.11 1505.86 1116.11 1504.48 Q1116.11 1502.24 1114.53 1500.83 Q1112.97 1499.42 1110.45 1499.42 Q1108.66 1499.42 1106.67 1500.04 Q1104.7 1500.67 1102.44 1501.93 L1102.44 1498.09 Q1104.73 1497.17 1106.73 1496.7 Q1108.72 1496.23 1110.38 1496.23 Q1114.74 1496.23 1117.33 1498.41 Q1119.93 1500.59 1119.93 1504.24 Q1119.93 1505.97 1119.27 1507.53 Q1118.63 1509.07 1116.92 1511.18 Q1116.45 1511.72 1113.93 1514.34 Q1111.41 1516.93 1106.82 1521.62 Z\" fill=\"#000000\" fill-rule=\"evenodd\" fill-opacity=\"1\" /><path clip-path=\"url(#clip520)\" d=\"M1448.85 1548.29 L1456.49 1548.29 L1456.49 1521.92 L1448.18 1523.59 L1448.18 1519.33 L1456.44 1517.66 L1461.12 1517.66 L1461.12 1548.29 L1468.76 1548.29 L1468.76 1552.22 L1448.85 1552.22 L1448.85 1548.29 Z\" fill=\"#000000\" fill-rule=\"evenodd\" fill-opacity=\"1\" /><path clip-path=\"url(#clip520)\" d=\"M1488.2 1520.74 Q1484.59 1520.74 1482.76 1524.31 Q1480.96 1527.85 1480.96 1534.98 Q1480.96 1542.09 1482.76 1545.65 Q1484.59 1549.19 1488.2 1549.19 Q1491.84 1549.19 1493.64 1545.65 Q1495.47 1542.09 1495.47 1534.98 Q1495.47 1527.85 1493.64 1524.31 Q1491.84 1520.74 1488.2 1520.74 M1488.2 1517.04 Q1494.01 1517.04 1497.07 1521.65 Q1500.15 1526.23 1500.15 1534.98 Q1500.15 1543.71 1497.07 1548.31 Q1494.01 1552.9 1488.2 1552.9 Q1482.39 1552.9 1479.31 1548.31 Q1476.26 1543.71 1476.26 1534.98 Q1476.26 1526.23 1479.31 1521.65 Q1482.39 1517.04 1488.2 1517.04 Z\" fill=\"#000000\" fill-rule=\"evenodd\" fill-opacity=\"1\" /><path clip-path=\"url(#clip520)\" d=\"M1500.15 1511.14 L1524.26 1511.14 L1524.26 1514.34 L1500.15 1514.34 L1500.15 1511.14 Z\" fill=\"#000000\" fill-rule=\"evenodd\" fill-opacity=\"1\" /><path clip-path=\"url(#clip520)\" d=\"M1533.12 1521.62 L1539.32 1521.62 L1539.32 1500.19 L1532.57 1501.55 L1532.57 1498.09 L1539.28 1496.73 L1543.08 1496.73 L1543.08 1521.62 L1549.29 1521.62 L1549.29 1524.81 L1533.12 1524.81 L1533.12 1521.62 Z\" fill=\"#000000\" fill-rule=\"evenodd\" fill-opacity=\"1\" /><path clip-path=\"url(#clip520)\" d=\"M1892.78 1548.29 L1900.42 1548.29 L1900.42 1521.92 L1892.11 1523.59 L1892.11 1519.33 L1900.37 1517.66 L1905.04 1517.66 L1905.04 1548.29 L1912.68 1548.29 L1912.68 1552.22 L1892.78 1552.22 L1892.78 1548.29 Z\" fill=\"#000000\" fill-rule=\"evenodd\" fill-opacity=\"1\" /><path clip-path=\"url(#clip520)\" d=\"M1932.13 1520.74 Q1928.52 1520.74 1926.69 1524.31 Q1924.88 1527.85 1924.88 1534.98 Q1924.88 1542.09 1926.69 1545.65 Q1928.52 1549.19 1932.13 1549.19 Q1935.76 1549.19 1937.57 1545.65 Q1939.4 1542.09 1939.4 1534.98 Q1939.4 1527.85 1937.57 1524.31 Q1935.76 1520.74 1932.13 1520.74 M1932.13 1517.04 Q1937.94 1517.04 1940.99 1521.65 Q1944.07 1526.23 1944.07 1534.98 Q1944.07 1543.71 1940.99 1548.31 Q1937.94 1552.9 1932.13 1552.9 Q1926.32 1552.9 1923.24 1548.31 Q1920.18 1543.71 1920.18 1534.98 Q1920.18 1526.23 1923.24 1521.65 Q1926.32 1517.04 1932.13 1517.04 Z\" fill=\"#000000\" fill-rule=\"evenodd\" fill-opacity=\"1\" /><path clip-path=\"url(#clip520)\" d=\"M1953.78 1499.24 Q1950.84 1499.24 1949.36 1502.13 Q1947.89 1505.01 1947.89 1510.8 Q1947.89 1516.58 1949.36 1519.47 Q1950.84 1522.35 1953.78 1522.35 Q1956.73 1522.35 1958.2 1519.47 Q1959.68 1516.58 1959.68 1510.8 Q1959.68 1505.01 1958.2 1502.13 Q1956.73 1499.24 1953.78 1499.24 M1953.78 1496.23 Q1958.5 1496.23 1960.98 1499.97 Q1963.48 1503.69 1963.48 1510.8 Q1963.48 1517.89 1960.98 1521.64 Q1958.5 1525.36 1953.78 1525.36 Q1949.06 1525.36 1946.56 1521.64 Q1944.07 1517.89 1944.07 1510.8 Q1944.07 1503.69 1946.56 1499.97 Q1949.06 1496.23 1953.78 1496.23 Z\" fill=\"#000000\" fill-rule=\"evenodd\" fill-opacity=\"1\" /><polyline clip-path=\"url(#clip522)\" style=\"stroke:#000000; stroke-linecap:butt; stroke-linejoin:round; stroke-width:2; stroke-opacity:0.1; fill:none\" points=\"\n",
       "  149.191,1434.53 2352.76,1434.53 \n",
       "  \"/>\n",
       "<polyline clip-path=\"url(#clip522)\" style=\"stroke:#000000; stroke-linecap:butt; stroke-linejoin:round; stroke-width:2; stroke-opacity:0.1; fill:none\" points=\"\n",
       "  149.191,1049.69 2352.76,1049.69 \n",
       "  \"/>\n",
       "<polyline clip-path=\"url(#clip522)\" style=\"stroke:#000000; stroke-linecap:butt; stroke-linejoin:round; stroke-width:2; stroke-opacity:0.1; fill:none\" points=\"\n",
       "  149.191,664.851 2352.76,664.851 \n",
       "  \"/>\n",
       "<polyline clip-path=\"url(#clip522)\" style=\"stroke:#000000; stroke-linecap:butt; stroke-linejoin:round; stroke-width:2; stroke-opacity:0.1; fill:none\" points=\"\n",
       "  149.191,280.01 2352.76,280.01 \n",
       "  \"/>\n",
       "<polyline clip-path=\"url(#clip520)\" style=\"stroke:#000000; stroke-linecap:butt; stroke-linejoin:round; stroke-width:4; stroke-opacity:1; fill:none\" points=\"\n",
       "  149.191,1474.16 149.191,47.2441 \n",
       "  \"/>\n",
       "<polyline clip-path=\"url(#clip520)\" style=\"stroke:#000000; stroke-linecap:butt; stroke-linejoin:round; stroke-width:4; stroke-opacity:1; fill:none\" points=\"\n",
       "  149.191,1434.53 168.089,1434.53 \n",
       "  \"/>\n",
       "<polyline clip-path=\"url(#clip520)\" style=\"stroke:#000000; stroke-linecap:butt; stroke-linejoin:round; stroke-width:4; stroke-opacity:1; fill:none\" points=\"\n",
       "  149.191,1049.69 168.089,1049.69 \n",
       "  \"/>\n",
       "<polyline clip-path=\"url(#clip520)\" style=\"stroke:#000000; stroke-linecap:butt; stroke-linejoin:round; stroke-width:4; stroke-opacity:1; fill:none\" points=\"\n",
       "  149.191,664.851 168.089,664.851 \n",
       "  \"/>\n",
       "<polyline clip-path=\"url(#clip520)\" style=\"stroke:#000000; stroke-linecap:butt; stroke-linejoin:round; stroke-width:4; stroke-opacity:1; fill:none\" points=\"\n",
       "  149.191,280.01 168.089,280.01 \n",
       "  \"/>\n",
       "<path clip-path=\"url(#clip520)\" d=\"M51.3162 1434.99 L80.992 1434.99 L80.992 1438.92 L51.3162 1438.92 L51.3162 1434.99 Z\" fill=\"#000000\" fill-rule=\"evenodd\" fill-opacity=\"1\" /><path clip-path=\"url(#clip520)\" d=\"M101.663 1432.67 Q98.515 1432.67 96.6632 1434.82 Q94.8345 1436.98 94.8345 1440.73 Q94.8345 1444.45 96.6632 1446.63 Q98.515 1448.78 101.663 1448.78 Q104.811 1448.78 106.64 1446.63 Q108.492 1444.45 108.492 1440.73 Q108.492 1436.98 106.64 1434.82 Q104.811 1432.67 101.663 1432.67 M110.946 1418.02 L110.946 1422.28 Q109.186 1421.44 107.381 1421 Q105.598 1420.56 103.839 1420.56 Q99.2095 1420.56 96.7558 1423.69 Q94.3252 1426.81 93.978 1433.13 Q95.3437 1431.12 97.4039 1430.05 Q99.4641 1428.97 101.941 1428.97 Q107.149 1428.97 110.158 1432.14 Q113.191 1435.29 113.191 1440.73 Q113.191 1446.05 110.043 1449.27 Q106.895 1452.49 101.663 1452.49 Q95.6678 1452.49 92.4965 1447.9 Q89.3253 1443.3 89.3253 1434.57 Q89.3253 1426.37 93.2141 1421.51 Q97.103 1416.63 103.654 1416.63 Q105.413 1416.63 107.196 1416.98 Q109.001 1417.32 110.946 1418.02 Z\" fill=\"#000000\" fill-rule=\"evenodd\" fill-opacity=\"1\" /><path clip-path=\"url(#clip520)\" d=\"M50.9921 1050.14 L80.6679 1050.14 L80.6679 1054.08 L50.9921 1054.08 L50.9921 1050.14 Z\" fill=\"#000000\" fill-rule=\"evenodd\" fill-opacity=\"1\" /><path clip-path=\"url(#clip520)\" d=\"M103.608 1036.49 L91.8021 1054.94 L103.608 1054.94 L103.608 1036.49 M102.381 1032.41 L108.26 1032.41 L108.26 1054.94 L113.191 1054.94 L113.191 1058.82 L108.26 1058.82 L108.26 1066.97 L103.608 1066.97 L103.608 1058.82 L88.0058 1058.82 L88.0058 1054.31 L102.381 1032.41 Z\" fill=\"#000000\" fill-rule=\"evenodd\" fill-opacity=\"1\" /><path clip-path=\"url(#clip520)\" d=\"M53.0754 665.303 L82.7512 665.303 L82.7512 669.238 L53.0754 669.238 L53.0754 665.303 Z\" fill=\"#000000\" fill-rule=\"evenodd\" fill-opacity=\"1\" /><path clip-path=\"url(#clip520)\" d=\"M96.8715 678.196 L113.191 678.196 L113.191 682.131 L91.2465 682.131 L91.2465 678.196 Q93.9086 675.442 98.4919 670.812 Q103.098 666.159 104.279 664.817 Q106.524 662.294 107.404 660.557 Q108.307 658.798 108.307 657.108 Q108.307 654.354 106.362 652.618 Q104.441 650.882 101.339 650.882 Q99.14 650.882 96.6863 651.645 Q94.2558 652.409 91.478 653.96 L91.478 649.238 Q94.3021 648.104 96.7558 647.525 Q99.2095 646.946 101.246 646.946 Q106.617 646.946 109.811 649.632 Q113.006 652.317 113.006 656.807 Q113.006 658.937 112.196 660.858 Q111.408 662.756 109.302 665.349 Q108.723 666.02 105.621 669.238 Q102.52 672.432 96.8715 678.196 Z\" fill=\"#000000\" fill-rule=\"evenodd\" fill-opacity=\"1\" /><path clip-path=\"url(#clip520)\" d=\"M101.246 265.809 Q97.6354 265.809 95.8067 269.374 Q94.0012 272.915 94.0012 280.045 Q94.0012 287.151 95.8067 290.716 Q97.6354 294.258 101.246 294.258 Q104.881 294.258 106.686 290.716 Q108.515 287.151 108.515 280.045 Q108.515 272.915 106.686 269.374 Q104.881 265.809 101.246 265.809 M101.246 262.105 Q107.057 262.105 110.112 266.712 Q113.191 271.295 113.191 280.045 Q113.191 288.772 110.112 293.378 Q107.057 297.961 101.246 297.961 Q95.4363 297.961 92.3576 293.378 Q89.3021 288.772 89.3021 280.045 Q89.3021 271.295 92.3576 266.712 Q95.4363 262.105 101.246 262.105 Z\" fill=\"#000000\" fill-rule=\"evenodd\" fill-opacity=\"1\" /><polyline clip-path=\"url(#clip522)\" style=\"stroke:#009af9; stroke-linecap:butt; stroke-linejoin:round; stroke-width:4; stroke-opacity:1; fill:none\" points=\"\n",
       "  211.556,998.75 264.859,772.34 318.163,602.354 371.466,474.777 424.77,379.076 478.073,307.333 531.377,253.59 584.68,213.376 637.984,183.337 691.287,160.948 \n",
       "  744.591,144.308 797.894,131.994 851.197,122.939 904.501,116.359 957.804,111.69 1011.11,108.565 1064.41,106.811 1117.71,106.5 1171.02,108.059 1224.32,112.285 \n",
       "  1277.63,119.134 1330.93,125.497 1384.23,135.818 1437.54,162.521 1490.84,186.444 1544.14,237.362 1597.45,315.502 1650.75,430.684 1704.05,599.515 1757.36,820.915 \n",
       "  1810.66,1081.88 1863.96,1338.25 1917.27,1433.78 1970.57,1276.09 2023.87,909.919 2077.18,491.674 2130.48,213.391 2183.78,108.751 2237.09,89.1604 2290.39,87.6286 \n",
       "  \n",
       "  \"/>\n",
       "<path clip-path=\"url(#clip520)\" d=\"\n",
       "M1722.2 198.488 L2279.3 198.488 L2279.3 94.8081 L1722.2 94.8081  Z\n",
       "  \" fill=\"#ffffff\" fill-rule=\"evenodd\" fill-opacity=\"1\"/>\n",
       "<polyline clip-path=\"url(#clip520)\" style=\"stroke:#000000; stroke-linecap:butt; stroke-linejoin:round; stroke-width:4; stroke-opacity:1; fill:none\" points=\"\n",
       "  1722.2,198.488 2279.3,198.488 2279.3,94.8081 1722.2,94.8081 1722.2,198.488 \n",
       "  \"/>\n",
       "<polyline clip-path=\"url(#clip520)\" style=\"stroke:#009af9; stroke-linecap:butt; stroke-linejoin:round; stroke-width:4; stroke-opacity:1; fill:none\" points=\"\n",
       "  1746.68,146.648 1893.58,146.648 \n",
       "  \"/>\n",
       "<path clip-path=\"url(#clip520)\" d=\"M1928.69 127.956 Q1925.59 133.28 1924.09 138.488 Q1922.58 143.697 1922.58 149.044 Q1922.58 154.391 1924.09 159.646 Q1925.62 164.877 1928.69 170.178 L1924.99 170.178 Q1921.52 164.738 1919.78 159.484 Q1918.07 154.229 1918.07 149.044 Q1918.07 143.882 1919.78 138.65 Q1921.49 133.419 1924.99 127.956 L1928.69 127.956 Z\" fill=\"#000000\" fill-rule=\"evenodd\" fill-opacity=\"1\" /><path clip-path=\"url(#clip520)\" d=\"M1951.98 141.984 Q1951.26 141.567 1950.41 141.382 Q1949.57 141.174 1948.55 141.174 Q1944.94 141.174 1943 143.535 Q1941.08 145.873 1941.08 150.271 L1941.08 163.928 L1936.8 163.928 L1936.8 138.002 L1941.08 138.002 L1941.08 142.03 Q1942.42 139.669 1944.57 138.535 Q1946.73 137.377 1949.8 137.377 Q1950.24 137.377 1950.78 137.447 Q1951.31 137.493 1951.96 137.609 L1951.98 141.984 Z\" fill=\"#000000\" fill-rule=\"evenodd\" fill-opacity=\"1\" /><path clip-path=\"url(#clip520)\" d=\"M1977.58 149.9 L1977.58 151.984 L1958 151.984 Q1958.28 156.382 1960.64 158.697 Q1963.02 160.988 1967.26 160.988 Q1969.71 160.988 1972 160.386 Q1974.32 159.785 1976.59 158.581 L1976.59 162.609 Q1974.3 163.581 1971.89 164.09 Q1969.48 164.599 1967 164.599 Q1960.8 164.599 1957.17 160.988 Q1953.55 157.377 1953.55 151.22 Q1953.55 144.854 1956.98 141.127 Q1960.43 137.377 1966.26 137.377 Q1971.49 137.377 1974.53 140.757 Q1977.58 144.113 1977.58 149.9 M1973.32 148.65 Q1973.28 145.155 1971.36 143.072 Q1969.46 140.988 1966.31 140.988 Q1962.74 140.988 1960.59 143.002 Q1958.46 145.016 1958.14 148.674 L1973.32 148.65 Z\" fill=\"#000000\" fill-rule=\"evenodd\" fill-opacity=\"1\" /><path clip-path=\"url(#clip520)\" d=\"M1997.7 127.91 L1997.7 131.451 L1993.62 131.451 Q1991.33 131.451 1990.43 132.377 Q1989.55 133.303 1989.55 135.711 L1989.55 138.002 L1996.56 138.002 L1996.56 141.312 L1989.55 141.312 L1989.55 163.928 L1985.27 163.928 L1985.27 141.312 L1981.19 141.312 L1981.19 138.002 L1985.27 138.002 L1985.27 136.197 Q1985.27 131.868 1987.28 129.901 Q1989.3 127.91 1993.67 127.91 L1997.7 127.91 Z\" fill=\"#000000\" fill-rule=\"evenodd\" fill-opacity=\"1\" /><path clip-path=\"url(#clip520)\" d=\"M1996.52 149.044 L2008.99 149.044 L2008.99 152.84 L1996.52 152.84 L1996.52 149.044 Z\" fill=\"#000000\" fill-rule=\"evenodd\" fill-opacity=\"1\" /><path clip-path=\"url(#clip520)\" d=\"M2015.96 129.368 L2037.81 129.368 L2037.81 133.303 L2020.64 133.303 L2020.64 143.535 L2037.1 143.535 L2037.1 147.47 L2020.64 147.47 L2020.64 159.993 L2038.23 159.993 L2038.23 163.928 L2015.96 163.928 L2015.96 129.368 Z\" fill=\"#000000\" fill-rule=\"evenodd\" fill-opacity=\"1\" /><path clip-path=\"url(#clip520)\" d=\"M2065.92 142.979 Q2067.51 140.109 2069.73 138.743 Q2071.96 137.377 2074.97 137.377 Q2079.02 137.377 2081.22 140.225 Q2083.42 143.049 2083.42 148.28 L2083.42 163.928 L2079.13 163.928 L2079.13 148.419 Q2079.13 144.692 2077.81 142.887 Q2076.49 141.081 2073.79 141.081 Q2070.48 141.081 2068.55 143.28 Q2066.63 145.479 2066.63 149.275 L2066.63 163.928 L2062.35 163.928 L2062.35 148.419 Q2062.35 144.669 2061.03 142.887 Q2059.71 141.081 2056.96 141.081 Q2053.69 141.081 2051.77 143.303 Q2049.85 145.502 2049.85 149.275 L2049.85 163.928 L2045.57 163.928 L2045.57 138.002 L2049.85 138.002 L2049.85 142.03 Q2051.31 139.646 2053.35 138.512 Q2055.38 137.377 2058.18 137.377 Q2061.01 137.377 2062.98 138.813 Q2064.97 140.248 2065.92 142.979 Z\" fill=\"#000000\" fill-rule=\"evenodd\" fill-opacity=\"1\" /><path clip-path=\"url(#clip520)\" d=\"M2091.47 153.697 L2091.47 138.002 L2095.73 138.002 L2095.73 153.535 Q2095.73 157.215 2097.17 159.067 Q2098.6 160.896 2101.47 160.896 Q2104.92 160.896 2106.91 158.697 Q2108.92 156.498 2108.92 152.701 L2108.92 138.002 L2113.18 138.002 L2113.18 163.928 L2108.92 163.928 L2108.92 159.947 Q2107.37 162.308 2105.31 163.465 Q2103.28 164.599 2100.57 164.599 Q2096.1 164.599 2093.79 161.822 Q2091.47 159.044 2091.47 153.697 M2102.19 137.377 L2102.19 137.377 Z\" fill=\"#000000\" fill-rule=\"evenodd\" fill-opacity=\"1\" /><path clip-path=\"url(#clip520)\" d=\"M2121.96 127.91 L2126.22 127.91 L2126.22 163.928 L2121.96 163.928 L2121.96 127.91 Z\" fill=\"#000000\" fill-rule=\"evenodd\" fill-opacity=\"1\" /><path clip-path=\"url(#clip520)\" d=\"M2134.46 127.956 L2138.16 127.956 Q2141.63 133.419 2143.35 138.65 Q2145.08 143.882 2145.08 149.044 Q2145.08 154.229 2143.35 159.484 Q2141.63 164.738 2138.16 170.178 L2134.46 170.178 Q2137.54 164.877 2139.04 159.646 Q2140.57 154.391 2140.57 149.044 Q2140.57 143.697 2139.04 138.488 Q2137.54 133.28 2134.46 127.956 Z\" fill=\"#000000\" fill-rule=\"evenodd\" fill-opacity=\"1\" /><path clip-path=\"url(#clip520)\" d=\"M2161.19 129.368 L2165.13 129.368 L2153.09 168.326 L2149.16 168.326 L2161.19 129.368 Z\" fill=\"#000000\" fill-rule=\"evenodd\" fill-opacity=\"1\" /><path clip-path=\"url(#clip520)\" d=\"M2184.62 141.984 Q2183.9 141.567 2183.04 141.382 Q2182.21 141.174 2181.19 141.174 Q2177.58 141.174 2175.64 143.535 Q2173.72 145.873 2173.72 150.271 L2173.72 163.928 L2169.43 163.928 L2169.43 138.002 L2173.72 138.002 L2173.72 142.03 Q2175.06 139.669 2177.21 138.535 Q2179.36 137.377 2182.44 137.377 Q2182.88 137.377 2183.41 137.447 Q2183.95 137.493 2184.6 137.609 L2184.62 141.984 Z\" fill=\"#000000\" fill-rule=\"evenodd\" fill-opacity=\"1\" /><path clip-path=\"url(#clip520)\" d=\"M2210.22 149.9 L2210.22 151.984 L2190.64 151.984 Q2190.91 156.382 2193.28 158.697 Q2195.66 160.988 2199.9 160.988 Q2202.35 160.988 2204.64 160.386 Q2206.96 159.785 2209.22 158.581 L2209.22 162.609 Q2206.93 163.581 2204.53 164.09 Q2202.12 164.599 2199.64 164.599 Q2193.44 164.599 2189.8 160.988 Q2186.19 157.377 2186.19 151.22 Q2186.19 144.854 2189.62 141.127 Q2193.07 137.377 2198.9 137.377 Q2204.13 137.377 2207.16 140.757 Q2210.22 144.113 2210.22 149.9 M2205.96 148.65 Q2205.91 145.155 2203.99 143.072 Q2202.1 140.988 2198.95 140.988 Q2195.38 140.988 2193.23 143.002 Q2191.1 145.016 2190.78 148.674 L2205.96 148.65 Z\" fill=\"#000000\" fill-rule=\"evenodd\" fill-opacity=\"1\" /><path clip-path=\"url(#clip520)\" d=\"M2230.34 127.91 L2230.34 131.451 L2226.26 131.451 Q2223.97 131.451 2223.07 132.377 Q2222.19 133.303 2222.19 135.711 L2222.19 138.002 L2229.2 138.002 L2229.2 141.312 L2222.19 141.312 L2222.19 163.928 L2217.91 163.928 L2217.91 141.312 L2213.83 141.312 L2213.83 138.002 L2217.91 138.002 L2217.91 136.197 Q2217.91 131.868 2219.92 129.901 Q2221.93 127.91 2226.31 127.91 L2230.34 127.91 Z\" fill=\"#000000\" fill-rule=\"evenodd\" fill-opacity=\"1\" /></svg>\n"
      ]
     },
     "execution_count": 14,
     "metadata": {},
     "output_type": "execute_result"
    }
   ],
   "source": [
    "plot(k_arr, (ref-Pk_emul_L)./ref, xaxis=:log, label=\"(ref-Emul)/ref\")"
   ]
  },
  {
   "cell_type": "code",
   "execution_count": 15,
   "id": "2e32da8f",
   "metadata": {},
   "outputs": [
    {
     "data": {
      "image/svg+xml": [
       "<?xml version=\"1.0\" encoding=\"utf-8\"?>\n",
       "<svg xmlns=\"http://www.w3.org/2000/svg\" xmlns:xlink=\"http://www.w3.org/1999/xlink\" width=\"600\" height=\"400\" viewBox=\"0 0 2400 1600\">\n",
       "<defs>\n",
       "  <clipPath id=\"clip560\">\n",
       "    <rect x=\"0\" y=\"0\" width=\"2400\" height=\"1600\"/>\n",
       "  </clipPath>\n",
       "</defs>\n",
       "<path clip-path=\"url(#clip560)\" d=\"\n",
       "M0 1600 L2400 1600 L2400 0 L0 0  Z\n",
       "  \" fill=\"#ffffff\" fill-rule=\"evenodd\" fill-opacity=\"1\"/>\n",
       "<defs>\n",
       "  <clipPath id=\"clip561\">\n",
       "    <rect x=\"480\" y=\"0\" width=\"1681\" height=\"1600\"/>\n",
       "  </clipPath>\n",
       "</defs>\n",
       "<path clip-path=\"url(#clip560)\" d=\"\n",
       "M222.871 1474.16 L2352.76 1474.16 L2352.76 47.2441 L222.871 47.2441  Z\n",
       "  \" fill=\"#ffffff\" fill-rule=\"evenodd\" fill-opacity=\"1\"/>\n",
       "<defs>\n",
       "  <clipPath id=\"clip562\">\n",
       "    <rect x=\"222\" y=\"47\" width=\"2131\" height=\"1428\"/>\n",
       "  </clipPath>\n",
       "</defs>\n",
       "<polyline clip-path=\"url(#clip562)\" style=\"stroke:#000000; stroke-linecap:butt; stroke-linejoin:round; stroke-width:2; stroke-opacity:0.1; fill:none\" points=\"\n",
       "  283.151,1474.16 283.151,47.2441 \n",
       "  \"/>\n",
       "<polyline clip-path=\"url(#clip562)\" style=\"stroke:#000000; stroke-linecap:butt; stroke-linejoin:round; stroke-width:2; stroke-opacity:0.1; fill:none\" points=\"\n",
       "  697.864,1474.16 697.864,47.2441 \n",
       "  \"/>\n",
       "<polyline clip-path=\"url(#clip562)\" style=\"stroke:#000000; stroke-linecap:butt; stroke-linejoin:round; stroke-width:2; stroke-opacity:0.1; fill:none\" points=\"\n",
       "  1112.58,1474.16 1112.58,47.2441 \n",
       "  \"/>\n",
       "<polyline clip-path=\"url(#clip562)\" style=\"stroke:#000000; stroke-linecap:butt; stroke-linejoin:round; stroke-width:2; stroke-opacity:0.1; fill:none\" points=\"\n",
       "  1527.29,1474.16 1527.29,47.2441 \n",
       "  \"/>\n",
       "<polyline clip-path=\"url(#clip562)\" style=\"stroke:#000000; stroke-linecap:butt; stroke-linejoin:round; stroke-width:2; stroke-opacity:0.1; fill:none\" points=\"\n",
       "  1942,1474.16 1942,47.2441 \n",
       "  \"/>\n",
       "<polyline clip-path=\"url(#clip560)\" style=\"stroke:#000000; stroke-linecap:butt; stroke-linejoin:round; stroke-width:4; stroke-opacity:1; fill:none\" points=\"\n",
       "  222.871,1474.16 2352.76,1474.16 \n",
       "  \"/>\n",
       "<polyline clip-path=\"url(#clip560)\" style=\"stroke:#000000; stroke-linecap:butt; stroke-linejoin:round; stroke-width:4; stroke-opacity:1; fill:none\" points=\"\n",
       "  283.151,1474.16 283.151,1455.27 \n",
       "  \"/>\n",
       "<polyline clip-path=\"url(#clip560)\" style=\"stroke:#000000; stroke-linecap:butt; stroke-linejoin:round; stroke-width:4; stroke-opacity:1; fill:none\" points=\"\n",
       "  697.864,1474.16 697.864,1455.27 \n",
       "  \"/>\n",
       "<polyline clip-path=\"url(#clip560)\" style=\"stroke:#000000; stroke-linecap:butt; stroke-linejoin:round; stroke-width:4; stroke-opacity:1; fill:none\" points=\"\n",
       "  1112.58,1474.16 1112.58,1455.27 \n",
       "  \"/>\n",
       "<polyline clip-path=\"url(#clip560)\" style=\"stroke:#000000; stroke-linecap:butt; stroke-linejoin:round; stroke-width:4; stroke-opacity:1; fill:none\" points=\"\n",
       "  1527.29,1474.16 1527.29,1455.27 \n",
       "  \"/>\n",
       "<polyline clip-path=\"url(#clip560)\" style=\"stroke:#000000; stroke-linecap:butt; stroke-linejoin:round; stroke-width:4; stroke-opacity:1; fill:none\" points=\"\n",
       "  1942,1474.16 1942,1455.27 \n",
       "  \"/>\n",
       "<path clip-path=\"url(#clip560)\" d=\"M232.57 1548.29 L240.209 1548.29 L240.209 1521.92 L231.899 1523.59 L231.899 1519.33 L240.163 1517.66 L244.839 1517.66 L244.839 1548.29 L252.477 1548.29 L252.477 1552.22 L232.57 1552.22 L232.57 1548.29 Z\" fill=\"#000000\" fill-rule=\"evenodd\" fill-opacity=\"1\" /><path clip-path=\"url(#clip560)\" d=\"M271.922 1520.74 Q268.311 1520.74 266.482 1524.31 Q264.676 1527.85 264.676 1534.98 Q264.676 1542.09 266.482 1545.65 Q268.311 1549.19 271.922 1549.19 Q275.556 1549.19 277.362 1545.65 Q279.19 1542.09 279.19 1534.98 Q279.19 1527.85 277.362 1524.31 Q275.556 1520.74 271.922 1520.74 M271.922 1517.04 Q277.732 1517.04 280.788 1521.65 Q283.866 1526.23 283.866 1534.98 Q283.866 1543.71 280.788 1548.31 Q277.732 1552.9 271.922 1552.9 Q266.112 1552.9 263.033 1548.31 Q259.977 1543.71 259.977 1534.98 Q259.977 1526.23 263.033 1521.65 Q266.112 1517.04 271.922 1517.04 Z\" fill=\"#000000\" fill-rule=\"evenodd\" fill-opacity=\"1\" /><path clip-path=\"url(#clip560)\" d=\"M283.866 1511.14 L307.978 1511.14 L307.978 1514.34 L283.866 1514.34 L283.866 1511.14 Z\" fill=\"#000000\" fill-rule=\"evenodd\" fill-opacity=\"1\" /><path clip-path=\"url(#clip560)\" d=\"M326.616 1500.04 L317.024 1515.03 L326.616 1515.03 L326.616 1500.04 M325.619 1496.73 L330.397 1496.73 L330.397 1515.03 L334.403 1515.03 L334.403 1518.19 L330.397 1518.19 L330.397 1524.81 L326.616 1524.81 L326.616 1518.19 L313.94 1518.19 L313.94 1514.53 L325.619 1496.73 Z\" fill=\"#000000\" fill-rule=\"evenodd\" fill-opacity=\"1\" /><path clip-path=\"url(#clip560)\" d=\"M647.744 1548.29 L655.383 1548.29 L655.383 1521.92 L647.073 1523.59 L647.073 1519.33 L655.337 1517.66 L660.012 1517.66 L660.012 1548.29 L667.651 1548.29 L667.651 1552.22 L647.744 1552.22 L647.744 1548.29 Z\" fill=\"#000000\" fill-rule=\"evenodd\" fill-opacity=\"1\" /><path clip-path=\"url(#clip560)\" d=\"M687.096 1520.74 Q683.485 1520.74 681.656 1524.31 Q679.85 1527.85 679.85 1534.98 Q679.85 1542.09 681.656 1545.65 Q683.485 1549.19 687.096 1549.19 Q690.73 1549.19 692.535 1545.65 Q694.364 1542.09 694.364 1534.98 Q694.364 1527.85 692.535 1524.31 Q690.73 1520.74 687.096 1520.74 M687.096 1517.04 Q692.906 1517.04 695.961 1521.65 Q699.04 1526.23 699.04 1534.98 Q699.04 1543.71 695.961 1548.31 Q692.906 1552.9 687.096 1552.9 Q681.286 1552.9 678.207 1548.31 Q675.151 1543.71 675.151 1534.98 Q675.151 1526.23 678.207 1521.65 Q681.286 1517.04 687.096 1517.04 Z\" fill=\"#000000\" fill-rule=\"evenodd\" fill-opacity=\"1\" /><path clip-path=\"url(#clip560)\" d=\"M699.04 1511.14 L723.152 1511.14 L723.152 1514.34 L699.04 1514.34 L699.04 1511.14 Z\" fill=\"#000000\" fill-rule=\"evenodd\" fill-opacity=\"1\" /><path clip-path=\"url(#clip560)\" d=\"M742.862 1509.67 Q745.589 1510.26 747.113 1512.1 Q748.655 1513.94 748.655 1516.65 Q748.655 1520.81 745.796 1523.08 Q742.937 1525.36 737.671 1525.36 Q735.903 1525.36 734.022 1525 Q732.161 1524.66 730.167 1523.97 L730.167 1520.3 Q731.747 1521.22 733.628 1521.69 Q735.508 1522.16 737.558 1522.16 Q741.132 1522.16 742.994 1520.75 Q744.875 1519.34 744.875 1516.65 Q744.875 1514.17 743.125 1512.78 Q741.395 1511.37 738.292 1511.37 L735.019 1511.37 L735.019 1508.24 L738.442 1508.24 Q741.245 1508.24 742.73 1507.13 Q744.216 1506.01 744.216 1503.9 Q744.216 1501.74 742.674 1500.59 Q741.151 1499.42 738.292 1499.42 Q736.731 1499.42 734.944 1499.76 Q733.157 1500.1 731.013 1500.82 L731.013 1497.43 Q733.176 1496.83 735.057 1496.53 Q736.957 1496.23 738.63 1496.23 Q742.956 1496.23 745.476 1498.2 Q747.997 1500.16 747.997 1503.51 Q747.997 1505.84 746.661 1507.45 Q745.326 1509.05 742.862 1509.67 Z\" fill=\"#000000\" fill-rule=\"evenodd\" fill-opacity=\"1\" /><path clip-path=\"url(#clip560)\" d=\"M1062.84 1548.29 L1070.48 1548.29 L1070.48 1521.92 L1062.17 1523.59 L1062.17 1519.33 L1070.44 1517.66 L1075.11 1517.66 L1075.11 1548.29 L1082.75 1548.29 L1082.75 1552.22 L1062.84 1552.22 L1062.84 1548.29 Z\" fill=\"#000000\" fill-rule=\"evenodd\" fill-opacity=\"1\" /><path clip-path=\"url(#clip560)\" d=\"M1102.19 1520.74 Q1098.58 1520.74 1096.75 1524.31 Q1094.95 1527.85 1094.95 1534.98 Q1094.95 1542.09 1096.75 1545.65 Q1098.58 1549.19 1102.19 1549.19 Q1105.83 1549.19 1107.63 1545.65 Q1109.46 1542.09 1109.46 1534.98 Q1109.46 1527.85 1107.63 1524.31 Q1105.83 1520.74 1102.19 1520.74 M1102.19 1517.04 Q1108 1517.04 1111.06 1521.65 Q1114.14 1526.23 1114.14 1534.98 Q1114.14 1543.71 1111.06 1548.31 Q1108 1552.9 1102.19 1552.9 Q1096.38 1552.9 1093.31 1548.31 Q1090.25 1543.71 1090.25 1534.98 Q1090.25 1526.23 1093.31 1521.65 Q1096.38 1517.04 1102.19 1517.04 Z\" fill=\"#000000\" fill-rule=\"evenodd\" fill-opacity=\"1\" /><path clip-path=\"url(#clip560)\" d=\"M1114.14 1511.14 L1138.25 1511.14 L1138.25 1514.34 L1114.14 1514.34 L1114.14 1511.14 Z\" fill=\"#000000\" fill-rule=\"evenodd\" fill-opacity=\"1\" /><path clip-path=\"url(#clip560)\" d=\"M1149.72 1521.62 L1162.98 1521.62 L1162.98 1524.81 L1145.15 1524.81 L1145.15 1521.62 Q1147.32 1519.38 1151.04 1515.62 Q1154.78 1511.84 1155.74 1510.75 Q1157.57 1508.7 1158.28 1507.29 Q1159.01 1505.86 1159.01 1504.48 Q1159.01 1502.24 1157.43 1500.83 Q1155.87 1499.42 1153.35 1499.42 Q1151.57 1499.42 1149.57 1500.04 Q1147.6 1500.67 1145.34 1501.93 L1145.34 1498.09 Q1147.64 1497.17 1149.63 1496.7 Q1151.62 1496.23 1153.28 1496.23 Q1157.64 1496.23 1160.24 1498.41 Q1162.83 1500.59 1162.83 1504.24 Q1162.83 1505.97 1162.17 1507.53 Q1161.53 1509.07 1159.82 1511.18 Q1159.35 1511.72 1156.83 1514.34 Q1154.31 1516.93 1149.72 1521.62 Z\" fill=\"#000000\" fill-rule=\"evenodd\" fill-opacity=\"1\" /><path clip-path=\"url(#clip560)\" d=\"M1477.41 1548.29 L1485.04 1548.29 L1485.04 1521.92 L1476.73 1523.59 L1476.73 1519.33 L1485 1517.66 L1489.67 1517.66 L1489.67 1548.29 L1497.31 1548.29 L1497.31 1552.22 L1477.41 1552.22 L1477.41 1548.29 Z\" fill=\"#000000\" fill-rule=\"evenodd\" fill-opacity=\"1\" /><path clip-path=\"url(#clip560)\" d=\"M1516.76 1520.74 Q1513.15 1520.74 1511.32 1524.31 Q1509.51 1527.85 1509.51 1534.98 Q1509.51 1542.09 1511.32 1545.65 Q1513.15 1549.19 1516.76 1549.19 Q1520.39 1549.19 1522.2 1545.65 Q1524.03 1542.09 1524.03 1534.98 Q1524.03 1527.85 1522.2 1524.31 Q1520.39 1520.74 1516.76 1520.74 M1516.76 1517.04 Q1522.57 1517.04 1525.62 1521.65 Q1528.7 1526.23 1528.7 1534.98 Q1528.7 1543.71 1525.62 1548.31 Q1522.57 1552.9 1516.76 1552.9 Q1510.95 1552.9 1507.87 1548.31 Q1504.81 1543.71 1504.81 1534.98 Q1504.81 1526.23 1507.87 1521.65 Q1510.95 1517.04 1516.76 1517.04 Z\" fill=\"#000000\" fill-rule=\"evenodd\" fill-opacity=\"1\" /><path clip-path=\"url(#clip560)\" d=\"M1528.7 1511.14 L1552.81 1511.14 L1552.81 1514.34 L1528.7 1514.34 L1528.7 1511.14 Z\" fill=\"#000000\" fill-rule=\"evenodd\" fill-opacity=\"1\" /><path clip-path=\"url(#clip560)\" d=\"M1561.67 1521.62 L1567.88 1521.62 L1567.88 1500.19 L1561.13 1501.55 L1561.13 1498.09 L1567.84 1496.73 L1571.64 1496.73 L1571.64 1521.62 L1577.85 1521.62 L1577.85 1524.81 L1561.67 1524.81 L1561.67 1521.62 Z\" fill=\"#000000\" fill-rule=\"evenodd\" fill-opacity=\"1\" /><path clip-path=\"url(#clip560)\" d=\"M1906.99 1548.29 L1914.62 1548.29 L1914.62 1521.92 L1906.31 1523.59 L1906.31 1519.33 L1914.58 1517.66 L1919.25 1517.66 L1919.25 1548.29 L1926.89 1548.29 L1926.89 1552.22 L1906.99 1552.22 L1906.99 1548.29 Z\" fill=\"#000000\" fill-rule=\"evenodd\" fill-opacity=\"1\" /><path clip-path=\"url(#clip560)\" d=\"M1946.34 1520.74 Q1942.73 1520.74 1940.9 1524.31 Q1939.09 1527.85 1939.09 1534.98 Q1939.09 1542.09 1940.9 1545.65 Q1942.73 1549.19 1946.34 1549.19 Q1949.97 1549.19 1951.78 1545.65 Q1953.61 1542.09 1953.61 1534.98 Q1953.61 1527.85 1951.78 1524.31 Q1949.97 1520.74 1946.34 1520.74 M1946.34 1517.04 Q1952.15 1517.04 1955.2 1521.65 Q1958.28 1526.23 1958.28 1534.98 Q1958.28 1543.71 1955.2 1548.31 Q1952.15 1552.9 1946.34 1552.9 Q1940.53 1552.9 1937.45 1548.31 Q1934.39 1543.71 1934.39 1534.98 Q1934.39 1526.23 1937.45 1521.65 Q1940.53 1517.04 1946.34 1517.04 Z\" fill=\"#000000\" fill-rule=\"evenodd\" fill-opacity=\"1\" /><path clip-path=\"url(#clip560)\" d=\"M1967.99 1499.24 Q1965.05 1499.24 1963.57 1502.13 Q1962.1 1505.01 1962.1 1510.8 Q1962.1 1516.58 1963.57 1519.47 Q1965.05 1522.35 1967.99 1522.35 Q1970.94 1522.35 1972.41 1519.47 Q1973.89 1516.58 1973.89 1510.8 Q1973.89 1505.01 1972.41 1502.13 Q1970.94 1499.24 1967.99 1499.24 M1967.99 1496.23 Q1972.71 1496.23 1975.19 1499.97 Q1977.69 1503.69 1977.69 1510.8 Q1977.69 1517.89 1975.19 1521.64 Q1972.71 1525.36 1967.99 1525.36 Q1963.27 1525.36 1960.76 1521.64 Q1958.28 1517.89 1958.28 1510.8 Q1958.28 1503.69 1960.76 1499.97 Q1963.27 1496.23 1967.99 1496.23 Z\" fill=\"#000000\" fill-rule=\"evenodd\" fill-opacity=\"1\" /><polyline clip-path=\"url(#clip562)\" style=\"stroke:#000000; stroke-linecap:butt; stroke-linejoin:round; stroke-width:2; stroke-opacity:0.1; fill:none\" points=\"\n",
       "  222.871,1440.49 2352.76,1440.49 \n",
       "  \"/>\n",
       "<polyline clip-path=\"url(#clip562)\" style=\"stroke:#000000; stroke-linecap:butt; stroke-linejoin:round; stroke-width:2; stroke-opacity:0.1; fill:none\" points=\"\n",
       "  222.871,1134.04 2352.76,1134.04 \n",
       "  \"/>\n",
       "<polyline clip-path=\"url(#clip562)\" style=\"stroke:#000000; stroke-linecap:butt; stroke-linejoin:round; stroke-width:2; stroke-opacity:0.1; fill:none\" points=\"\n",
       "  222.871,827.589 2352.76,827.589 \n",
       "  \"/>\n",
       "<polyline clip-path=\"url(#clip562)\" style=\"stroke:#000000; stroke-linecap:butt; stroke-linejoin:round; stroke-width:2; stroke-opacity:0.1; fill:none\" points=\"\n",
       "  222.871,521.14 2352.76,521.14 \n",
       "  \"/>\n",
       "<polyline clip-path=\"url(#clip562)\" style=\"stroke:#000000; stroke-linecap:butt; stroke-linejoin:round; stroke-width:2; stroke-opacity:0.1; fill:none\" points=\"\n",
       "  222.871,214.691 2352.76,214.691 \n",
       "  \"/>\n",
       "<polyline clip-path=\"url(#clip560)\" style=\"stroke:#000000; stroke-linecap:butt; stroke-linejoin:round; stroke-width:4; stroke-opacity:1; fill:none\" points=\"\n",
       "  222.871,1474.16 222.871,47.2441 \n",
       "  \"/>\n",
       "<polyline clip-path=\"url(#clip560)\" style=\"stroke:#000000; stroke-linecap:butt; stroke-linejoin:round; stroke-width:4; stroke-opacity:1; fill:none\" points=\"\n",
       "  222.871,1440.49 241.769,1440.49 \n",
       "  \"/>\n",
       "<polyline clip-path=\"url(#clip560)\" style=\"stroke:#000000; stroke-linecap:butt; stroke-linejoin:round; stroke-width:4; stroke-opacity:1; fill:none\" points=\"\n",
       "  222.871,1134.04 241.769,1134.04 \n",
       "  \"/>\n",
       "<polyline clip-path=\"url(#clip560)\" style=\"stroke:#000000; stroke-linecap:butt; stroke-linejoin:round; stroke-width:4; stroke-opacity:1; fill:none\" points=\"\n",
       "  222.871,827.589 241.769,827.589 \n",
       "  \"/>\n",
       "<polyline clip-path=\"url(#clip560)\" style=\"stroke:#000000; stroke-linecap:butt; stroke-linejoin:round; stroke-width:4; stroke-opacity:1; fill:none\" points=\"\n",
       "  222.871,521.14 241.769,521.14 \n",
       "  \"/>\n",
       "<polyline clip-path=\"url(#clip560)\" style=\"stroke:#000000; stroke-linecap:butt; stroke-linejoin:round; stroke-width:4; stroke-opacity:1; fill:none\" points=\"\n",
       "  222.871,214.691 241.769,214.691 \n",
       "  \"/>\n",
       "<path clip-path=\"url(#clip560)\" d=\"M51.3625 1440.94 L81.0383 1440.94 L81.0383 1444.87 L51.3625 1444.87 L51.3625 1440.94 Z\" fill=\"#000000\" fill-rule=\"evenodd\" fill-opacity=\"1\" /><path clip-path=\"url(#clip560)\" d=\"M101.131 1426.29 Q97.5197 1426.29 95.691 1429.85 Q93.8854 1433.39 93.8854 1440.52 Q93.8854 1447.63 95.691 1451.19 Q97.5197 1454.73 101.131 1454.73 Q104.765 1454.73 106.571 1451.19 Q108.399 1447.63 108.399 1440.52 Q108.399 1433.39 106.571 1429.85 Q104.765 1426.29 101.131 1426.29 M101.131 1422.58 Q106.941 1422.58 109.996 1427.19 Q113.075 1431.77 113.075 1440.52 Q113.075 1449.25 109.996 1453.85 Q106.941 1458.44 101.131 1458.44 Q95.3206 1458.44 92.2419 1453.85 Q89.1864 1449.25 89.1864 1440.52 Q89.1864 1431.77 92.2419 1427.19 Q95.3206 1422.58 101.131 1422.58 Z\" fill=\"#000000\" fill-rule=\"evenodd\" fill-opacity=\"1\" /><path clip-path=\"url(#clip560)\" d=\"M121.293 1451.89 L126.177 1451.89 L126.177 1457.77 L121.293 1457.77 L121.293 1451.89 Z\" fill=\"#000000\" fill-rule=\"evenodd\" fill-opacity=\"1\" /><path clip-path=\"url(#clip560)\" d=\"M146.362 1426.29 Q142.751 1426.29 140.922 1429.85 Q139.117 1433.39 139.117 1440.52 Q139.117 1447.63 140.922 1451.19 Q142.751 1454.73 146.362 1454.73 Q149.996 1454.73 151.802 1451.19 Q153.63 1447.63 153.63 1440.52 Q153.63 1433.39 151.802 1429.85 Q149.996 1426.29 146.362 1426.29 M146.362 1422.58 Q152.172 1422.58 155.228 1427.19 Q158.306 1431.77 158.306 1440.52 Q158.306 1449.25 155.228 1453.85 Q152.172 1458.44 146.362 1458.44 Q140.552 1458.44 137.473 1453.85 Q134.418 1449.25 134.418 1440.52 Q134.418 1431.77 137.473 1427.19 Q140.552 1422.58 146.362 1422.58 Z\" fill=\"#000000\" fill-rule=\"evenodd\" fill-opacity=\"1\" /><path clip-path=\"url(#clip560)\" d=\"M170.552 1453.83 L186.871 1453.83 L186.871 1457.77 L164.927 1457.77 L164.927 1453.83 Q167.589 1451.08 172.172 1446.45 Q176.778 1441.79 177.959 1440.45 Q180.204 1437.93 181.084 1436.19 Q181.987 1434.43 181.987 1432.74 Q181.987 1429.99 180.042 1428.25 Q178.121 1426.52 175.019 1426.52 Q172.82 1426.52 170.366 1427.28 Q167.936 1428.04 165.158 1429.6 L165.158 1424.87 Q167.982 1423.74 170.436 1423.16 Q172.89 1422.58 174.927 1422.58 Q180.297 1422.58 183.491 1425.27 Q186.686 1427.95 186.686 1432.44 Q186.686 1434.57 185.876 1436.49 Q185.089 1438.39 182.982 1440.98 Q182.403 1441.66 179.302 1444.87 Q176.2 1448.07 170.552 1453.83 Z\" fill=\"#000000\" fill-rule=\"evenodd\" fill-opacity=\"1\" /><path clip-path=\"url(#clip560)\" d=\"M50.9921 1134.49 L80.6679 1134.49 L80.6679 1138.42 L50.9921 1138.42 L50.9921 1134.49 Z\" fill=\"#000000\" fill-rule=\"evenodd\" fill-opacity=\"1\" /><path clip-path=\"url(#clip560)\" d=\"M100.76 1119.84 Q97.1493 1119.84 95.3206 1123.4 Q93.515 1126.94 93.515 1134.07 Q93.515 1141.18 95.3206 1144.74 Q97.1493 1148.29 100.76 1148.29 Q104.395 1148.29 106.2 1144.74 Q108.029 1141.18 108.029 1134.07 Q108.029 1126.94 106.2 1123.4 Q104.395 1119.84 100.76 1119.84 M100.76 1116.13 Q106.571 1116.13 109.626 1120.74 Q112.705 1125.32 112.705 1134.07 Q112.705 1142.8 109.626 1147.41 Q106.571 1151.99 100.76 1151.99 Q94.9502 1151.99 91.8715 1147.41 Q88.816 1142.8 88.816 1134.07 Q88.816 1125.32 91.8715 1120.74 Q94.9502 1116.13 100.76 1116.13 Z\" fill=\"#000000\" fill-rule=\"evenodd\" fill-opacity=\"1\" /><path clip-path=\"url(#clip560)\" d=\"M120.922 1145.44 L125.807 1145.44 L125.807 1151.32 L120.922 1151.32 L120.922 1145.44 Z\" fill=\"#000000\" fill-rule=\"evenodd\" fill-opacity=\"1\" /><path clip-path=\"url(#clip560)\" d=\"M145.992 1119.84 Q142.381 1119.84 140.552 1123.4 Q138.746 1126.94 138.746 1134.07 Q138.746 1141.18 140.552 1144.74 Q142.381 1148.29 145.992 1148.29 Q149.626 1148.29 151.431 1144.74 Q153.26 1141.18 153.26 1134.07 Q153.26 1126.94 151.431 1123.4 Q149.626 1119.84 145.992 1119.84 M145.992 1116.13 Q151.802 1116.13 154.857 1120.74 Q157.936 1125.32 157.936 1134.07 Q157.936 1142.8 154.857 1147.41 Q151.802 1151.99 145.992 1151.99 Q140.181 1151.99 137.103 1147.41 Q134.047 1142.8 134.047 1134.07 Q134.047 1125.32 137.103 1120.74 Q140.181 1116.13 145.992 1116.13 Z\" fill=\"#000000\" fill-rule=\"evenodd\" fill-opacity=\"1\" /><path clip-path=\"url(#clip560)\" d=\"M166.964 1147.38 L174.603 1147.38 L174.603 1121.02 L166.292 1122.68 L166.292 1118.42 L174.556 1116.76 L179.232 1116.76 L179.232 1147.38 L186.871 1147.38 L186.871 1151.32 L166.964 1151.32 L166.964 1147.38 Z\" fill=\"#000000\" fill-rule=\"evenodd\" fill-opacity=\"1\" /><path clip-path=\"url(#clip560)\" d=\"M99.5335 813.388 Q95.9224 813.388 94.0937 816.953 Q92.2882 820.494 92.2882 827.624 Q92.2882 834.73 94.0937 838.295 Q95.9224 841.837 99.5335 841.837 Q103.168 841.837 104.973 838.295 Q106.802 834.73 106.802 827.624 Q106.802 820.494 104.973 816.953 Q103.168 813.388 99.5335 813.388 M99.5335 809.684 Q105.344 809.684 108.399 814.291 Q111.478 818.874 111.478 827.624 Q111.478 836.351 108.399 840.957 Q105.344 845.54 99.5335 845.54 Q93.7234 845.54 90.6447 840.957 Q87.5892 836.351 87.5892 827.624 Q87.5892 818.874 90.6447 814.291 Q93.7234 809.684 99.5335 809.684 Z\" fill=\"#000000\" fill-rule=\"evenodd\" fill-opacity=\"1\" /><path clip-path=\"url(#clip560)\" d=\"M119.695 838.99 L124.58 838.99 L124.58 844.869 L119.695 844.869 L119.695 838.99 Z\" fill=\"#000000\" fill-rule=\"evenodd\" fill-opacity=\"1\" /><path clip-path=\"url(#clip560)\" d=\"M144.765 813.388 Q141.154 813.388 139.325 816.953 Q137.519 820.494 137.519 827.624 Q137.519 834.73 139.325 838.295 Q141.154 841.837 144.765 841.837 Q148.399 841.837 150.205 838.295 Q152.033 834.73 152.033 827.624 Q152.033 820.494 150.205 816.953 Q148.399 813.388 144.765 813.388 M144.765 809.684 Q150.575 809.684 153.63 814.291 Q156.709 818.874 156.709 827.624 Q156.709 836.351 153.63 840.957 Q150.575 845.54 144.765 845.54 Q138.955 845.54 135.876 840.957 Q132.82 836.351 132.82 827.624 Q132.82 818.874 135.876 814.291 Q138.955 809.684 144.765 809.684 Z\" fill=\"#000000\" fill-rule=\"evenodd\" fill-opacity=\"1\" /><path clip-path=\"url(#clip560)\" d=\"M174.927 813.388 Q171.316 813.388 169.487 816.953 Q167.681 820.494 167.681 827.624 Q167.681 834.73 169.487 838.295 Q171.316 841.837 174.927 841.837 Q178.561 841.837 180.366 838.295 Q182.195 834.73 182.195 827.624 Q182.195 820.494 180.366 816.953 Q178.561 813.388 174.927 813.388 M174.927 809.684 Q180.737 809.684 183.792 814.291 Q186.871 818.874 186.871 827.624 Q186.871 836.351 183.792 840.957 Q180.737 845.54 174.927 845.54 Q169.116 845.54 166.038 840.957 Q162.982 836.351 162.982 827.624 Q162.982 818.874 166.038 814.291 Q169.116 809.684 174.927 809.684 Z\" fill=\"#000000\" fill-rule=\"evenodd\" fill-opacity=\"1\" /><path clip-path=\"url(#clip560)\" d=\"M100.76 506.939 Q97.1493 506.939 95.3206 510.504 Q93.515 514.045 93.515 521.175 Q93.515 528.281 95.3206 531.846 Q97.1493 535.388 100.76 535.388 Q104.395 535.388 106.2 531.846 Q108.029 528.281 108.029 521.175 Q108.029 514.045 106.2 510.504 Q104.395 506.939 100.76 506.939 M100.76 503.235 Q106.571 503.235 109.626 507.842 Q112.705 512.425 112.705 521.175 Q112.705 529.902 109.626 534.508 Q106.571 539.092 100.76 539.092 Q94.9502 539.092 91.8715 534.508 Q88.816 529.902 88.816 521.175 Q88.816 512.425 91.8715 507.842 Q94.9502 503.235 100.76 503.235 Z\" fill=\"#000000\" fill-rule=\"evenodd\" fill-opacity=\"1\" /><path clip-path=\"url(#clip560)\" d=\"M120.922 532.541 L125.807 532.541 L125.807 538.42 L120.922 538.42 L120.922 532.541 Z\" fill=\"#000000\" fill-rule=\"evenodd\" fill-opacity=\"1\" /><path clip-path=\"url(#clip560)\" d=\"M145.992 506.939 Q142.381 506.939 140.552 510.504 Q138.746 514.045 138.746 521.175 Q138.746 528.281 140.552 531.846 Q142.381 535.388 145.992 535.388 Q149.626 535.388 151.431 531.846 Q153.26 528.281 153.26 521.175 Q153.26 514.045 151.431 510.504 Q149.626 506.939 145.992 506.939 M145.992 503.235 Q151.802 503.235 154.857 507.842 Q157.936 512.425 157.936 521.175 Q157.936 529.902 154.857 534.508 Q151.802 539.092 145.992 539.092 Q140.181 539.092 137.103 534.508 Q134.047 529.902 134.047 521.175 Q134.047 512.425 137.103 507.842 Q140.181 503.235 145.992 503.235 Z\" fill=\"#000000\" fill-rule=\"evenodd\" fill-opacity=\"1\" /><path clip-path=\"url(#clip560)\" d=\"M166.964 534.485 L174.603 534.485 L174.603 508.12 L166.292 509.786 L166.292 505.527 L174.556 503.86 L179.232 503.86 L179.232 534.485 L186.871 534.485 L186.871 538.42 L166.964 538.42 L166.964 534.485 Z\" fill=\"#000000\" fill-rule=\"evenodd\" fill-opacity=\"1\" /><path clip-path=\"url(#clip560)\" d=\"M101.131 200.49 Q97.5197 200.49 95.691 204.055 Q93.8854 207.597 93.8854 214.726 Q93.8854 221.833 95.691 225.397 Q97.5197 228.939 101.131 228.939 Q104.765 228.939 106.571 225.397 Q108.399 221.833 108.399 214.726 Q108.399 207.597 106.571 204.055 Q104.765 200.49 101.131 200.49 M101.131 196.786 Q106.941 196.786 109.996 201.393 Q113.075 205.976 113.075 214.726 Q113.075 223.453 109.996 228.059 Q106.941 232.643 101.131 232.643 Q95.3206 232.643 92.2419 228.059 Q89.1864 223.453 89.1864 214.726 Q89.1864 205.976 92.2419 201.393 Q95.3206 196.786 101.131 196.786 Z\" fill=\"#000000\" fill-rule=\"evenodd\" fill-opacity=\"1\" /><path clip-path=\"url(#clip560)\" d=\"M121.293 226.092 L126.177 226.092 L126.177 231.971 L121.293 231.971 L121.293 226.092 Z\" fill=\"#000000\" fill-rule=\"evenodd\" fill-opacity=\"1\" /><path clip-path=\"url(#clip560)\" d=\"M146.362 200.49 Q142.751 200.49 140.922 204.055 Q139.117 207.597 139.117 214.726 Q139.117 221.833 140.922 225.397 Q142.751 228.939 146.362 228.939 Q149.996 228.939 151.802 225.397 Q153.63 221.833 153.63 214.726 Q153.63 207.597 151.802 204.055 Q149.996 200.49 146.362 200.49 M146.362 196.786 Q152.172 196.786 155.228 201.393 Q158.306 205.976 158.306 214.726 Q158.306 223.453 155.228 228.059 Q152.172 232.643 146.362 232.643 Q140.552 232.643 137.473 228.059 Q134.418 223.453 134.418 214.726 Q134.418 205.976 137.473 201.393 Q140.552 196.786 146.362 196.786 Z\" fill=\"#000000\" fill-rule=\"evenodd\" fill-opacity=\"1\" /><path clip-path=\"url(#clip560)\" d=\"M170.552 228.036 L186.871 228.036 L186.871 231.971 L164.927 231.971 L164.927 228.036 Q167.589 225.282 172.172 220.652 Q176.778 215.999 177.959 214.657 Q180.204 212.134 181.084 210.397 Q181.987 208.638 181.987 206.948 Q181.987 204.194 180.042 202.458 Q178.121 200.722 175.019 200.722 Q172.82 200.722 170.366 201.485 Q167.936 202.249 165.158 203.8 L165.158 199.078 Q167.982 197.944 170.436 197.365 Q172.89 196.786 174.927 196.786 Q180.297 196.786 183.491 199.472 Q186.686 202.157 186.686 206.647 Q186.686 208.777 185.876 210.698 Q185.089 212.597 182.982 215.189 Q182.403 215.86 179.302 219.078 Q176.2 222.272 170.552 228.036 Z\" fill=\"#000000\" fill-rule=\"evenodd\" fill-opacity=\"1\" /><polyline clip-path=\"url(#clip562)\" style=\"stroke:#009af9; stroke-linecap:butt; stroke-linejoin:round; stroke-width:4; stroke-opacity:1; fill:none\" points=\"\n",
       "  283.151,371.823 334.672,376.805 386.193,385.396 437.714,399.757 489.235,422.395 540.757,455.108 592.278,497.837 643.799,548.555 695.32,602.008 746.841,649.506 \n",
       "  798.362,676.887 849.884,667.053 901.405,602.909 952.926,485.812 1004.45,333.682 1055.97,180.183 1107.49,87.6286 1159.01,98.3559 1210.53,189.768 1262.05,432.925 \n",
       "  1313.57,858.893 1365.1,627.446 1416.62,1433.78 1468.14,1392.05 1519.66,982.485 1571.18,644.359 1622.7,566.695 1674.22,226.047 1725.74,308.253 1777.26,246.248 \n",
       "  1828.79,291.39 1880.31,381.541 1931.83,502.764 1983.35,636.223 2034.87,771.737 2086.39,901.902 2137.91,1021.03 2189.43,1126.84 2240.95,1218.05 2292.48,1306.6 \n",
       "  \n",
       "  \"/>\n",
       "<path clip-path=\"url(#clip560)\" d=\"\n",
       "M1718.67 198.488 L2281.76 198.488 L2281.76 94.8081 L1718.67 94.8081  Z\n",
       "  \" fill=\"#ffffff\" fill-rule=\"evenodd\" fill-opacity=\"1\"/>\n",
       "<polyline clip-path=\"url(#clip560)\" style=\"stroke:#000000; stroke-linecap:butt; stroke-linejoin:round; stroke-width:4; stroke-opacity:1; fill:none\" points=\"\n",
       "  1718.67,198.488 2281.76,198.488 2281.76,94.8081 1718.67,94.8081 1718.67,198.488 \n",
       "  \"/>\n",
       "<polyline clip-path=\"url(#clip560)\" style=\"stroke:#009af9; stroke-linecap:butt; stroke-linejoin:round; stroke-width:4; stroke-opacity:1; fill:none\" points=\"\n",
       "  1742.34,146.648 1884.33,146.648 \n",
       "  \"/>\n",
       "<path clip-path=\"url(#clip560)\" d=\"M1918.62 127.956 Q1915.52 133.28 1914.01 138.488 Q1912.51 143.697 1912.51 149.044 Q1912.51 154.391 1914.01 159.646 Q1915.54 164.877 1918.62 170.178 L1914.92 170.178 Q1911.44 164.738 1909.71 159.484 Q1908 154.229 1908 149.044 Q1908 143.882 1909.71 138.65 Q1911.42 133.419 1914.92 127.956 L1918.62 127.956 Z\" fill=\"#000000\" fill-rule=\"evenodd\" fill-opacity=\"1\" /><path clip-path=\"url(#clip560)\" d=\"M1941.91 141.984 Q1941.19 141.567 1940.33 141.382 Q1939.5 141.174 1938.48 141.174 Q1934.87 141.174 1932.93 143.535 Q1931 145.873 1931 150.271 L1931 163.928 L1926.72 163.928 L1926.72 138.002 L1931 138.002 L1931 142.03 Q1932.35 139.669 1934.5 138.535 Q1936.65 137.377 1939.73 137.377 Q1940.17 137.377 1940.7 137.447 Q1941.24 137.493 1941.88 137.609 L1941.91 141.984 Z\" fill=\"#000000\" fill-rule=\"evenodd\" fill-opacity=\"1\" /><path clip-path=\"url(#clip560)\" d=\"M1967.51 149.9 L1967.51 151.984 L1947.93 151.984 Q1948.2 156.382 1950.56 158.697 Q1952.95 160.988 1957.19 160.988 Q1959.64 160.988 1961.93 160.386 Q1964.25 159.785 1966.51 158.581 L1966.51 162.609 Q1964.22 163.581 1961.81 164.09 Q1959.41 164.599 1956.93 164.599 Q1950.73 164.599 1947.09 160.988 Q1943.48 157.377 1943.48 151.22 Q1943.48 144.854 1946.91 141.127 Q1950.36 137.377 1956.19 137.377 Q1961.42 137.377 1964.45 140.757 Q1967.51 144.113 1967.51 149.9 M1963.25 148.65 Q1963.2 145.155 1961.28 143.072 Q1959.38 140.988 1956.24 140.988 Q1952.67 140.988 1950.52 143.002 Q1948.39 145.016 1948.06 148.674 L1963.25 148.65 Z\" fill=\"#000000\" fill-rule=\"evenodd\" fill-opacity=\"1\" /><path clip-path=\"url(#clip560)\" d=\"M1987.62 127.91 L1987.62 131.451 L1983.55 131.451 Q1981.26 131.451 1980.36 132.377 Q1979.48 133.303 1979.48 135.711 L1979.48 138.002 L1986.49 138.002 L1986.49 141.312 L1979.48 141.312 L1979.48 163.928 L1975.19 163.928 L1975.19 141.312 L1971.12 141.312 L1971.12 138.002 L1975.19 138.002 L1975.19 136.197 Q1975.19 131.868 1977.21 129.901 Q1979.22 127.91 1983.6 127.91 L1987.62 127.91 Z\" fill=\"#000000\" fill-rule=\"evenodd\" fill-opacity=\"1\" /><path clip-path=\"url(#clip560)\" d=\"M1986.44 149.044 L1998.92 149.044 L1998.92 152.84 L1986.44 152.84 L1986.44 149.044 Z\" fill=\"#000000\" fill-rule=\"evenodd\" fill-opacity=\"1\" /><path clip-path=\"url(#clip560)\" d=\"M2005.89 129.368 L2027.74 129.368 L2027.74 133.303 L2010.56 133.303 L2010.56 143.535 L2027.02 143.535 L2027.02 147.47 L2010.56 147.47 L2010.56 159.993 L2028.16 159.993 L2028.16 163.928 L2005.89 163.928 L2005.89 129.368 Z\" fill=\"#000000\" fill-rule=\"evenodd\" fill-opacity=\"1\" /><path clip-path=\"url(#clip560)\" d=\"M2035.66 138.002 L2039.92 138.002 L2039.92 163.928 L2035.66 163.928 L2035.66 138.002 M2035.66 127.91 L2039.92 127.91 L2039.92 133.303 L2035.66 133.303 L2035.66 127.91 Z\" fill=\"#000000\" fill-rule=\"evenodd\" fill-opacity=\"1\" /><path clip-path=\"url(#clip560)\" d=\"M2065.36 138.766 L2065.36 142.794 Q2063.55 141.868 2061.61 141.405 Q2059.66 140.942 2057.58 140.942 Q2054.41 140.942 2052.81 141.914 Q2051.24 142.887 2051.24 144.831 Q2051.24 146.312 2052.37 147.169 Q2053.5 148.002 2056.93 148.766 L2058.39 149.09 Q2062.93 150.062 2064.82 151.845 Q2066.74 153.604 2066.74 156.775 Q2066.74 160.386 2063.87 162.493 Q2061.03 164.599 2056.03 164.599 Q2053.94 164.599 2051.68 164.183 Q2049.43 163.789 2046.93 162.979 L2046.93 158.581 Q2049.29 159.808 2051.58 160.433 Q2053.87 161.035 2056.12 161.035 Q2059.13 161.035 2060.75 160.016 Q2062.37 158.974 2062.37 157.099 Q2062.37 155.363 2061.19 154.437 Q2060.03 153.512 2056.07 152.655 L2054.59 152.308 Q2050.63 151.474 2048.87 149.762 Q2047.12 148.025 2047.12 145.016 Q2047.12 141.359 2049.71 139.368 Q2052.3 137.377 2057.07 137.377 Q2059.43 137.377 2061.51 137.725 Q2063.6 138.072 2065.36 138.766 Z\" fill=\"#000000\" fill-rule=\"evenodd\" fill-opacity=\"1\" /><path clip-path=\"url(#clip560)\" d=\"M2073.71 129.368 L2078.39 129.368 L2078.39 143.535 L2095.38 143.535 L2095.38 129.368 L2100.05 129.368 L2100.05 163.928 L2095.38 163.928 L2095.38 147.47 L2078.39 147.47 L2078.39 163.928 L2073.71 163.928 L2073.71 129.368 Z\" fill=\"#000000\" fill-rule=\"evenodd\" fill-opacity=\"1\" /><path clip-path=\"url(#clip560)\" d=\"M2108.74 153.697 L2108.74 138.002 L2112.99 138.002 L2112.99 153.535 Q2112.99 157.215 2114.43 159.067 Q2115.86 160.896 2118.74 160.896 Q2122.18 160.896 2124.17 158.697 Q2126.19 156.498 2126.19 152.701 L2126.19 138.002 L2130.45 138.002 L2130.45 163.928 L2126.19 163.928 L2126.19 159.947 Q2124.64 162.308 2122.58 163.465 Q2120.54 164.599 2117.83 164.599 Q2113.36 164.599 2111.05 161.822 Q2108.74 159.044 2108.74 153.697 M2119.45 137.377 L2119.45 137.377 Z\" fill=\"#000000\" fill-rule=\"evenodd\" fill-opacity=\"1\" /><path clip-path=\"url(#clip560)\" d=\"M2138.55 127.956 L2142.25 127.956 Q2145.73 133.419 2147.44 138.65 Q2149.17 143.882 2149.17 149.044 Q2149.17 154.229 2147.44 159.484 Q2145.73 164.738 2142.25 170.178 L2138.55 170.178 Q2141.63 164.877 2143.13 159.646 Q2144.66 154.391 2144.66 149.044 Q2144.66 143.697 2143.13 138.488 Q2141.63 133.28 2138.55 127.956 Z\" fill=\"#000000\" fill-rule=\"evenodd\" fill-opacity=\"1\" /><path clip-path=\"url(#clip560)\" d=\"M2165.29 129.368 L2169.22 129.368 L2157.18 168.326 L2153.25 168.326 L2165.29 129.368 Z\" fill=\"#000000\" fill-rule=\"evenodd\" fill-opacity=\"1\" /><path clip-path=\"url(#clip560)\" d=\"M2188.71 141.984 Q2187.99 141.567 2187.14 141.382 Q2186.3 141.174 2185.29 141.174 Q2181.67 141.174 2179.73 143.535 Q2177.81 145.873 2177.81 150.271 L2177.81 163.928 L2173.53 163.928 L2173.53 138.002 L2177.81 138.002 L2177.81 142.03 Q2179.15 139.669 2181.3 138.535 Q2183.46 137.377 2186.54 137.377 Q2186.98 137.377 2187.51 137.447 Q2188.04 137.493 2188.69 137.609 L2188.71 141.984 Z\" fill=\"#000000\" fill-rule=\"evenodd\" fill-opacity=\"1\" /><path clip-path=\"url(#clip560)\" d=\"M2214.31 149.9 L2214.31 151.984 L2194.73 151.984 Q2195.01 156.382 2197.37 158.697 Q2199.75 160.988 2203.99 160.988 Q2206.44 160.988 2208.73 160.386 Q2211.05 159.785 2213.32 158.581 L2213.32 162.609 Q2211.03 163.581 2208.62 164.09 Q2206.21 164.599 2203.73 164.599 Q2197.53 164.599 2193.9 160.988 Q2190.29 157.377 2190.29 151.22 Q2190.29 144.854 2193.71 141.127 Q2197.16 137.377 2202.99 137.377 Q2208.23 137.377 2211.26 140.757 Q2214.31 144.113 2214.31 149.9 M2210.05 148.65 Q2210.01 145.155 2208.09 143.072 Q2206.19 140.988 2203.04 140.988 Q2199.48 140.988 2197.32 143.002 Q2195.19 145.016 2194.87 148.674 L2210.05 148.65 Z\" fill=\"#000000\" fill-rule=\"evenodd\" fill-opacity=\"1\" /><path clip-path=\"url(#clip560)\" d=\"M2234.43 127.91 L2234.43 131.451 L2230.35 131.451 Q2228.06 131.451 2227.16 132.377 Q2226.28 133.303 2226.28 135.711 L2226.28 138.002 L2233.29 138.002 L2233.29 141.312 L2226.28 141.312 L2226.28 163.928 L2222 163.928 L2222 141.312 L2217.92 141.312 L2217.92 138.002 L2222 138.002 L2222 136.197 Q2222 131.868 2224.01 129.901 Q2226.03 127.91 2230.4 127.91 L2234.43 127.91 Z\" fill=\"#000000\" fill-rule=\"evenodd\" fill-opacity=\"1\" /></svg>\n"
      ]
     },
     "execution_count": 15,
     "metadata": {},
     "output_type": "execute_result"
    }
   ],
   "source": [
    "plot(k_arr, (ref-Pk_EisHu)./ref, xaxis=:log, label=\"(ref-EisHu)/ref\")"
   ]
  },
  {
   "cell_type": "code",
   "execution_count": null,
   "id": "67d25d00",
   "metadata": {},
   "outputs": [],
   "source": []
  }
 ],
 "metadata": {
  "kernelspec": {
   "display_name": "Julia 1.7.0",
   "language": "julia",
   "name": "julia-1.7"
  },
  "language_info": {
   "file_extension": ".jl",
   "mimetype": "application/julia",
   "name": "julia",
   "version": "1.7.0"
  }
 },
 "nbformat": 4,
 "nbformat_minor": 5
}
