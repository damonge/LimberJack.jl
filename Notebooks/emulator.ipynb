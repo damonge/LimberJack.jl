{
 "cells": [
  {
   "cell_type": "code",
   "execution_count": 74,
   "id": "41a6f44e",
   "metadata": {},
   "outputs": [],
   "source": [
    "using NPZ\n",
    "using LinearAlgebra\n",
    "using Statistics"
   ]
  },
  {
   "cell_type": "code",
   "execution_count": 59,
   "id": "821719fa",
   "metadata": {},
   "outputs": [],
   "source": [
    "xinputs = npzread(\"../xinputs.npz\")[\"arr_0\"]\n",
    "yinputs = npzread(\"../yinputs.npz\")[\"arr_0\"]\n",
    "hyper = npzread(\"../hypers.npz\")[\"arr_0\"]\n",
    "alphas = npzread(\"../alphas.npz\")[\"arr_0\"];"
   ]
  },
  {
   "cell_type": "code",
   "execution_count": 60,
   "id": "770c8677",
   "metadata": {},
   "outputs": [],
   "source": [
    "param = [0.12, 0.022, 2.7, 1.0, 0.75];"
   ]
  },
  {
   "cell_type": "code",
   "execution_count": 429,
   "id": "b32507a1",
   "metadata": {},
   "outputs": [
    {
     "data": {
      "text/plain": [
       "inv_y_transformation (generic function with 2 methods)"
      ]
     },
     "execution_count": 429,
     "metadata": {},
     "output_type": "execute_result"
    }
   ],
   "source": [
    "function x_transformation(point, x_arr)\n",
    "    \"\"\"Pre-whiten the input parameters.\n",
    "\n",
    "    Args:\n",
    "        point (torch.tensor): the input parameters.\n",
    "\n",
    "    Returns:\n",
    "        torch.tensor: the pre-whitened parameters.\n",
    "    \"\"\"\n",
    "\n",
    "    N, M = size(x_arr)\n",
    "    cov_train = cov(x_arr)\n",
    "    chol_train = cholesky(cov_train).U'\n",
    "    mean_train = mean(x_arr, dims=1)\n",
    "    # calculate the transformed training points\n",
    "    transformed = inv(chol_train) * (point .- mean_train)'\n",
    "\n",
    "    return transformed\n",
    "end\n",
    "\n",
    "function y_transformation(point, y_arr)\n",
    "    \"\"\"Transform the outputs.\n",
    "\n",
    "    Args:\n",
    "        yvalues (np.ndarray): the values to be transformed\n",
    "\n",
    "    Returns:\n",
    "        np.ndarray: the transformed outputs\n",
    "    \"\"\"\n",
    "    ylog = log.(y_arr)\n",
    "    ymean = mean(ylog, dims=1)\n",
    "    ystd = std(ylog, dims=1)\n",
    "    return ((point .- ymean) ./ ystd)'\n",
    "end\n",
    "\n",
    "function inv_y_transformation(point, y_arr)\n",
    "    \"\"\"Transform the outputs.\n",
    "\n",
    "    Args:\n",
    "        yvalues (np.ndarray): the values to be transformed\n",
    "\n",
    "    Returns:\n",
    "        np.ndarray: the transformed outputs\n",
    "    \"\"\"\n",
    "    ylog = log.(y_arr)\n",
    "    ystd = std(ylog, dims=1)\n",
    "    ymean = mean(ylog, dims=1)\n",
    "    return exp.(ystd .* preds' .+ ymean)\n",
    "end"
   ]
  },
  {
   "cell_type": "code",
   "execution_count": 430,
   "id": "d566800a",
   "metadata": {},
   "outputs": [],
   "source": [
    "xtrain = x_transformation(xinputs, xinputs)\n",
    "ytrain = y_transformation(yinputs, yinputs);"
   ]
  },
  {
   "cell_type": "code",
   "execution_count": 431,
   "id": "80ecac1f",
   "metadata": {},
   "outputs": [
    {
     "data": {
      "text/plain": [
       "get_kernel (generic function with 1 method)"
      ]
     },
     "execution_count": 431,
     "metadata": {},
     "output_type": "execute_result"
    }
   ],
   "source": [
    "function get_kernel(arr1, arr2, hyper)\n",
    "    \"\"\"Compute the kernel matrix between the sets of training cosmoligical parameters\n",
    "       and the desired set of cosmological parameters.\n",
    "    Args:\n",
    "        x1 (np.ndarray): [N x d] tensor of points.\n",
    "        x2 (np.ndarray): [M x d] tensor of points.\n",
    "        hyper (np.ndarray): [d+1] tensor of hyperparameters.\n",
    "    Returns:\n",
    "        np.ndarray: a tensor of size [N x M] containing the kernel matrix.\n",
    "    \"\"\"\n",
    "    \n",
    "    arr1_w = @.(arr1/exp(hyper[2:6]))\n",
    "    arr2_w = @.(arr2/exp(hyper[2:6]))\n",
    "    \n",
    "    # compute the pairwise distance\n",
    "    term1 = sum(arr1_w.^2, dims=1)\n",
    "    term2 = 2 * arr1_w' * arr2_w\n",
    "    term3 = sum(arr2_w.^2, dims=1)'\n",
    "    dist = term1 - term2' .+ term3\n",
    "\n",
    "    # compute the kernel\n",
    "    kernel = @.(exp(hyper[1]) * exp(-0.5 * dist))\n",
    "\n",
    "    return kernel\n",
    "end"
   ]
  },
  {
   "cell_type": "code",
   "execution_count": 432,
   "id": "830154cd",
   "metadata": {},
   "outputs": [],
   "source": [
    "preds = []\n",
    "for i in 1:40\n",
    "    kernel = get_kernel(xtrain, param, hyper[i, :])\n",
    "    mean = dot(vec(kernel), vec(alphas[i,:]))\n",
    "    push!(preds, mean)\n",
    "end"
   ]
  },
  {
   "cell_type": "code",
   "execution_count": 435,
   "id": "1c7a86a9",
   "metadata": {},
   "outputs": [
    {
     "data": {
      "text/plain": [
       "40-element Vector{Float64}:\n",
       "   3422.6928962698585\n",
       "   4741.341069854786\n",
       "   6634.357757713101\n",
       "   9269.603527774409\n",
       "  12956.205962219563\n",
       "  18109.700422444228\n",
       "  25012.099818223498\n",
       "  34804.37073537634\n",
       "  48974.04493493459\n",
       "  67959.0526679225\n",
       "  93641.14503262802\n",
       " 130301.78251759238\n",
       " 175338.60489804772\n",
       "      ⋮\n",
       "  88953.1563376307\n",
       "  58205.12326540685\n",
       "  34244.48164934919\n",
       "  20034.96106569752\n",
       "  11576.253737395122\n",
       "   6399.914252942181\n",
       "   3502.4068895960154\n",
       "   2000.2365850867893\n",
       "    998.7537880946642\n",
       "    525.0049265753239\n",
       "    273.67151022613155\n",
       "    139.45020874823427"
      ]
     },
     "execution_count": 435,
     "metadata": {},
     "output_type": "execute_result"
    }
   ],
   "source": [
    "Pk = vec(inv_y_transformation(preds, yinputs))"
   ]
  }
 ],
 "metadata": {
  "kernelspec": {
   "display_name": "Julia 1.7.0",
   "language": "julia",
   "name": "julia-1.7"
  },
  "language_info": {
   "file_extension": ".jl",
   "mimetype": "application/julia",
   "name": "julia",
   "version": "1.7.0"
  }
 },
 "nbformat": 4,
 "nbformat_minor": 5
}
