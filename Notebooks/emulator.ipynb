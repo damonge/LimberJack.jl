{
 "cells": [
  {
   "cell_type": "code",
   "execution_count": 46,
   "id": "41a6f44e",
   "metadata": {},
   "outputs": [],
   "source": [
    "using LimberJack\n",
    "using NPZ\n",
    "using LinearAlgebra\n",
    "using Statistics\n",
    "using PyCall"
   ]
  },
  {
   "cell_type": "code",
   "execution_count": 47,
   "id": "e7c76d92",
   "metadata": {},
   "outputs": [
    {
     "data": {
      "text/plain": [
       "PyObject <module 'pyccl' from '/home/jaime/anaconda3/lib/python3.9/site-packages/pyccl/__init__.py'>"
      ]
     },
     "execution_count": 47,
     "metadata": {},
     "output_type": "execute_result"
    }
   ],
   "source": [
    "ccl = pyimport(\"pyccl\")"
   ]
  },
  {
   "cell_type": "code",
   "execution_count": 58,
   "id": "cf3b3d96",
   "metadata": {},
   "outputs": [
    {
     "data": {
      "text/plain": [
       "5-element Vector{Float64}:\n",
       " 0.0033243894091063986\n",
       " 0.007309968406034928\n",
       " 0.01841064164482109\n",
       " 0.006928438468947751\n",
       " 0.021782503672724607"
      ]
     },
     "execution_count": 58,
     "metadata": {},
     "output_type": "execute_result"
    }
   ],
   "source": [
    "cosmo = Cosmology(0.30, 0.05, 0.67, 0.96, 0.81,\n",
    "                  nk=500, tk_mode=\"emulator\")\n",
    "cosmo_bm = ccl.CosmologyVanillaLCDM(transfer_function=\"boltzmann_class\",\n",
    "                                    matter_power_spectrum=\"linear\",\n",
    "                                    Omega_g=0, Omega_k=0)\n",
    "ks = [0.001, 0.01, 0.1, 1.0, 10.0]\n",
    "pk = nonlin_Pk(cosmo, ks, 0.0)\n",
    "pk_bm = ccl.linear_matter_power(cosmo_bm, ks, 1.);\n",
    "\n",
    "abs.(pk./pk_bm.-1.0)"
   ]
  },
  {
   "cell_type": "code",
   "execution_count": 2,
   "id": "aff1203f",
   "metadata": {},
   "outputs": [],
   "source": [
    "files = npzread(\"../emulator/files.npz\")\n",
    "hypers = files[\"hypers\"]\n",
    "alphas = files[\"alphas\"]\n",
    "k_arr = files[\"training_karr\"];"
   ]
  },
  {
   "cell_type": "code",
   "execution_count": 22,
   "id": "9dd9137d",
   "metadata": {},
   "outputs": [
    {
     "data": {
      "text/plain": [
       "EisHu (generic function with 1 method)"
      ]
     },
     "execution_count": 22,
     "metadata": {},
     "output_type": "execute_result"
    }
   ],
   "source": [
    "function EisHu(Wm)\n",
    "    cosmo1 = Cosmology(Wm, 0.039, 0.75, 1.0, 0.72,\n",
    "                  nk=2000, tk_mode=\"EisHu\")\n",
    "    return lin_Pk(cosmo1, k_arr, 0.0)\n",
    "end"
   ]
  },
  {
   "cell_type": "code",
   "execution_count": null,
   "id": "77d83e07",
   "metadata": {},
   "outputs": [],
   "source": [
    "Pk_EisHu"
   ]
  },
  {
   "cell_type": "code",
   "execution_count": 23,
   "id": "1ba25f56",
   "metadata": {
    "scrolled": true
   },
   "outputs": [
    {
     "data": {
      "text/plain": [
       "Emul (generic function with 1 method)"
      ]
     },
     "execution_count": 23,
     "metadata": {},
     "output_type": "execute_result"
    }
   ],
   "source": [
    "function Emul(Wm)\n",
    "    cosmo2 = Cosmology(Wm, 0.039, 0.75, 1.0, 0.72,\n",
    "                      nk=2000, tk_mode=\"emulator\")\n",
    "    return lin_Pk(cosmo2, k_arr, 0.0)\n",
    "end"
   ]
  },
  {
   "cell_type": "code",
   "execution_count": 42,
   "id": "4973aefb",
   "metadata": {
    "scrolled": true
   },
   "outputs": [
    {
     "data": {
      "text/plain": [
       "Emul2 (generic function with 1 method)"
      ]
     },
     "execution_count": 42,
     "metadata": {},
     "output_type": "execute_result"
    }
   ],
   "source": [
    "function Emul2(Wm)\n",
    "    params = CosmoPar(Wm, 0.039, 0.75, 1.0, 0.72, 2.725/2.7)\n",
    "    return get_emulated_log_pk0(params)\n",
    "end"
   ]
  },
  {
   "cell_type": "code",
   "execution_count": 43,
   "id": "fcf14e24",
   "metadata": {},
   "outputs": [
    {
     "name": "stdout",
     "output_type": "stream",
     "text": [
      "  3.327724 seconds (18.28 M allocations: 1.337 GiB, 6.06% gc time)\n"
     ]
    }
   ],
   "source": [
    "@time begin\n",
    "    for i in 1:100\n",
    "        EisHu(0.2+0.01*i)\n",
    "    end\n",
    "end"
   ]
  },
  {
   "cell_type": "code",
   "execution_count": 44,
   "id": "c756a27f",
   "metadata": {},
   "outputs": [
    {
     "name": "stdout",
     "output_type": "stream",
     "text": [
      "  3.809622 seconds (18.43 M allocations: 1.884 GiB, 5.72% gc time)\n"
     ]
    }
   ],
   "source": [
    "@time begin\n",
    "    for i in 1:100\n",
    "        Emul(0.2+0.01*i)\n",
    "    end\n",
    "end"
   ]
  },
  {
   "cell_type": "code",
   "execution_count": 45,
   "id": "ef7d6120",
   "metadata": {},
   "outputs": [
    {
     "name": "stdout",
     "output_type": "stream",
     "text": [
      "  0.442358 seconds (175.00 k allocations: 598.537 MiB, 6.78% gc time)\n"
     ]
    }
   ],
   "source": [
    "@time begin\n",
    "    for i in 1:100\n",
    "        Emul2(0.2+0.01*i)\n",
    "    end\n",
    "end"
   ]
  },
  {
   "cell_type": "code",
   "execution_count": 7,
   "id": "2d2c7d82",
   "metadata": {},
   "outputs": [],
   "source": [
    "ref = [1.05199810e+03, 1.39972787e+03, 1.86175310e+03, 2.47485290e+03,\n",
    "       3.28678329e+03, 4.35879529e+03, 5.76807365e+03, 7.60883617e+03,\n",
    "       9.99017257e+03, 1.30291073e+04, 1.68341153e+04, 2.14732641e+04,\n",
    "       2.69244140e+04, 3.30028431e+04, 3.92692797e+04, 4.49267904e+04,\n",
    "       4.87473257e+04, 4.91726610e+04, 4.49690394e+04, 3.67747863e+04,\n",
    "       2.82780596e+04, 2.29757121e+04, 1.74933110e+04, 1.07923121e+04,\n",
    "       7.73217085e+03, 4.73490310e+03, 2.81547163e+03, 1.63726622e+03,\n",
    "       9.16888584e+02, 5.03788217e+02, 2.70399989e+02, 1.42297928e+02,\n",
    "       7.35961443e+01, 3.74882941e+01, 1.88420637e+01, 9.35899651e+00,\n",
    "       4.60024344e+00, 2.24010663e+00, 1.08184944e+00, 5.18425752e-01];"
   ]
  },
  {
   "cell_type": "code",
   "execution_count": 8,
   "id": "2a6fb527",
   "metadata": {
    "scrolled": true
   },
   "outputs": [
    {
     "ename": "LoadError",
     "evalue": "UndefVarError: Pk_EisHu not defined",
     "output_type": "error",
     "traceback": [
      "UndefVarError: Pk_EisHu not defined",
      "",
      "Stacktrace:",
      " [1] top-level scope",
      "   @ In[8]:2",
      " [2] eval",
      "   @ ./boot.jl:373 [inlined]",
      " [3] include_string(mapexpr::typeof(REPL.softscope), mod::Module, code::String, filename::String)",
      "   @ Base ./loading.jl:1196"
     ]
    }
   ],
   "source": [
    "using Plots\n",
    "plot(k_arr, Pk_EisHu, xaxis=:log, yaxis=:log, label=\"EisHu\")\n",
    "plot!(k_arr, ref, xaxis=:log, yaxis=:log, label=\"ref\")\n",
    "plot!(k_arr, Pk_emul_L, xaxis=:log, yaxis=:log, label=\"Emulator\")"
   ]
  },
  {
   "cell_type": "code",
   "execution_count": 9,
   "id": "8b73b6a8",
   "metadata": {},
   "outputs": [
    {
     "ename": "LoadError",
     "evalue": "UndefVarError: Pk_EisHu not defined",
     "output_type": "error",
     "traceback": [
      "UndefVarError: Pk_EisHu not defined",
      "",
      "Stacktrace:",
      " [1] top-level scope",
      "   @ In[9]:1",
      " [2] eval",
      "   @ ./boot.jl:373 [inlined]",
      " [3] include_string(mapexpr::typeof(REPL.softscope), mod::Module, code::String, filename::String)",
      "   @ Base ./loading.jl:1196"
     ]
    }
   ],
   "source": [
    "plot(k_arr, (Pk_EisHu-Pk_emul_L)./Pk_EisHu, xaxis=:log, label=\"(EisHu-Emul)/Emul\")"
   ]
  },
  {
   "cell_type": "code",
   "execution_count": 10,
   "id": "c9a4d7f8",
   "metadata": {},
   "outputs": [
    {
     "ename": "LoadError",
     "evalue": "UndefVarError: Pk_emul_L not defined",
     "output_type": "error",
     "traceback": [
      "UndefVarError: Pk_emul_L not defined",
      "",
      "Stacktrace:",
      " [1] top-level scope",
      "   @ In[10]:1",
      " [2] eval",
      "   @ ./boot.jl:373 [inlined]",
      " [3] include_string(mapexpr::typeof(REPL.softscope), mod::Module, code::String, filename::String)",
      "   @ Base ./loading.jl:1196"
     ]
    }
   ],
   "source": [
    "plot(k_arr, (ref-Pk_emul_L)./ref, xaxis=:log, label=\"(ref-Emul)/ref\")"
   ]
  },
  {
   "cell_type": "code",
   "execution_count": 11,
   "id": "2e32da8f",
   "metadata": {},
   "outputs": [
    {
     "ename": "LoadError",
     "evalue": "UndefVarError: Pk_EisHu not defined",
     "output_type": "error",
     "traceback": [
      "UndefVarError: Pk_EisHu not defined",
      "",
      "Stacktrace:",
      " [1] top-level scope",
      "   @ In[11]:1",
      " [2] eval",
      "   @ ./boot.jl:373 [inlined]",
      " [3] include_string(mapexpr::typeof(REPL.softscope), mod::Module, code::String, filename::String)",
      "   @ Base ./loading.jl:1196"
     ]
    }
   ],
   "source": [
    "plot(k_arr, (ref-Pk_EisHu)./ref, xaxis=:log, label=\"(ref-EisHu)/ref\")"
   ]
  },
  {
   "cell_type": "code",
   "execution_count": null,
   "id": "67d25d00",
   "metadata": {},
   "outputs": [],
   "source": []
  }
 ],
 "metadata": {
  "kernelspec": {
   "display_name": "Julia 1.7.0",
   "language": "julia",
   "name": "julia-1.7"
  },
  "language_info": {
   "file_extension": ".jl",
   "mimetype": "application/julia",
   "name": "julia",
   "version": "1.7.0"
  }
 },
 "nbformat": 4,
 "nbformat_minor": 5
}
