{
 "cells": [
  {
   "cell_type": "code",
   "execution_count": 1,
   "id": "41a6f44e",
   "metadata": {},
   "outputs": [],
   "source": [
    "using NPZ\n",
    "using LinearAlgebra\n",
    "using Statistics"
   ]
  },
  {
   "cell_type": "code",
   "execution_count": 2,
   "id": "821719fa",
   "metadata": {},
   "outputs": [],
   "source": [
    "xinputs = npzread(\"../emulator_files/xinputs.npz\")[\"arr_0\"]\n",
    "yinputs = npzread(\"../emulator_files/yinputs.npz\")[\"arr_0\"]\n",
    "hyper = npzread(\"../emulator_files/hypers.npz\")[\"arr_0\"]\n",
    "alphas = npzread(\"../emulator_files/alphas.npz\")[\"arr_0\"]\n",
    "k_arr = npzread(\"../emulator_files/k_arr.npz\")[\"arr_0\"];"
   ]
  },
  {
   "cell_type": "code",
   "execution_count": 3,
   "id": "770c8677",
   "metadata": {},
   "outputs": [],
   "source": [
    "param = [0.12, 0.022, 2.7, 1.0, 0.75];"
   ]
  },
  {
   "cell_type": "code",
   "execution_count": 4,
   "id": "b32507a1",
   "metadata": {},
   "outputs": [
    {
     "data": {
      "text/plain": [
       "inv_y_transformation (generic function with 1 method)"
      ]
     },
     "execution_count": 4,
     "metadata": {},
     "output_type": "execute_result"
    }
   ],
   "source": [
    "function x_transformation(point, x_arr)\n",
    "    \"\"\"Pre-whiten the input parameters.\n",
    "\n",
    "    Args:\n",
    "        point (torch.tensor): the input parameters.\n",
    "\n",
    "    Returns:\n",
    "        torch.tensor: the pre-whitened parameters.\n",
    "    \"\"\"\n",
    "\n",
    "    N, M = size(x_arr)\n",
    "    cov_train = cov(x_arr)\n",
    "    chol_train = cholesky(cov_train).U'\n",
    "    mean_train = mean(x_arr, dims=1)\n",
    "    # calculate the transformed training points\n",
    "    transformed = inv(chol_train) * (point .- mean_train)'\n",
    "\n",
    "    return transformed\n",
    "end\n",
    "\n",
    "function y_transformation(point, y_arr)\n",
    "    \"\"\"Transform the outputs.\n",
    "\n",
    "    Args:\n",
    "        yvalues (np.ndarray): the values to be transformed\n",
    "\n",
    "    Returns:\n",
    "        np.ndarray: the transformed outputs\n",
    "    \"\"\"\n",
    "    ylog = log.(y_arr)\n",
    "    ymean = mean(ylog, dims=1)\n",
    "    ystd = std(ylog, dims=1)\n",
    "    return ((point .- ymean) ./ ystd)'\n",
    "end\n",
    "\n",
    "function inv_y_transformation(point, y_arr)\n",
    "    \"\"\"Transform the outputs.\n",
    "\n",
    "    Args:\n",
    "        yvalues (np.ndarray): the values to be transformed\n",
    "\n",
    "    Returns:\n",
    "        np.ndarray: the transformed outputs\n",
    "    \"\"\"\n",
    "    ylog = log.(y_arr)\n",
    "    ystd = std(ylog, dims=1)\n",
    "    ymean = mean(ylog, dims=1)\n",
    "    return exp.(ystd .* preds' .+ ymean)\n",
    "end"
   ]
  },
  {
   "cell_type": "code",
   "execution_count": 5,
   "id": "d566800a",
   "metadata": {},
   "outputs": [],
   "source": [
    "xtrain = x_transformation(xinputs, xinputs)\n",
    "ytrain = y_transformation(yinputs, yinputs)\n",
    "param_t = x_transformation(param', xinputs);"
   ]
  },
  {
   "cell_type": "code",
   "execution_count": 6,
   "id": "80ecac1f",
   "metadata": {},
   "outputs": [
    {
     "data": {
      "text/plain": [
       "get_kernel (generic function with 1 method)"
      ]
     },
     "execution_count": 6,
     "metadata": {},
     "output_type": "execute_result"
    }
   ],
   "source": [
    "function get_kernel(arr1, arr2, hyper)\n",
    "    \"\"\"Compute the kernel matrix between the sets of training cosmoligical parameters\n",
    "       and the desired set of cosmological parameters.\n",
    "    Args:\n",
    "        x1 (np.ndarray): [N x d] tensor of points.\n",
    "        x2 (np.ndarray): [M x d] tensor of points.\n",
    "        hyper (np.ndarray): [d+1] tensor of hyperparameters.\n",
    "    Returns:\n",
    "        np.ndarray: a tensor of size [N x M] containing the kernel matrix.\n",
    "    \"\"\"\n",
    "    \n",
    "    arr1_w = @.(arr1/exp(hyper[2:6]))\n",
    "    arr2_w = @.(arr2/exp(hyper[2:6]))\n",
    "    \n",
    "    # compute the pairwise distance\n",
    "    term1 = sum(arr1_w.^2, dims=1)\n",
    "    term2 = 2 * arr1_w' * arr2_w\n",
    "    term3 = sum(arr2_w.^2, dims=1)'\n",
    "    dist = term1 - term2' .+ term3\n",
    "\n",
    "    # compute the kernel\n",
    "    kernel = @.(exp(hyper[1]) * exp(-0.5 * dist))\n",
    "\n",
    "    return kernel\n",
    "end"
   ]
  },
  {
   "cell_type": "code",
   "execution_count": 7,
   "id": "830154cd",
   "metadata": {},
   "outputs": [],
   "source": [
    "preds = []\n",
    "for i in 1:40\n",
    "    kernel = get_kernel(xtrain, param_t, hyper[i, :])\n",
    "    mean = dot(vec(kernel), vec(alphas[i,:]))\n",
    "    push!(preds, mean)\n",
    "end"
   ]
  },
  {
   "cell_type": "code",
   "execution_count": 8,
   "id": "134fe68c",
   "metadata": {},
   "outputs": [],
   "source": [
    "Pk_emul = vec(inv_y_transformation(preds, yinputs));"
   ]
  },
  {
   "cell_type": "code",
   "execution_count": 4,
   "id": "79a4ae34",
   "metadata": {},
   "outputs": [
    {
     "name": "stderr",
     "output_type": "stream",
     "text": [
      "┌ Info: Precompiling LimberJack [6b86205d-155a-4b14-b82d-b6a149ea78f2]\n",
      "└ @ Base loading.jl:1423\n"
     ]
    }
   ],
   "source": [
    "using LimberJack\n",
    "cosmo = Cosmology(0.252, 0.039, 0.75, 1.0, 0.72,\n",
    "                  nk=500, tk_mode=\"EisHu\")\n",
    "Pk_EisHu = lin_Pk(cosmo, k_arr, 0.0);"
   ]
  },
  {
   "cell_type": "code",
   "execution_count": 6,
   "id": "1ba25f56",
   "metadata": {},
   "outputs": [
    {
     "ename": "LoadError",
     "evalue": "UndefVarError: emulator not defined",
     "output_type": "error",
     "traceback": [
      "UndefVarError: emulator not defined",
      "",
      "Stacktrace:",
      " [1] get_emulated_log_pk0(cosmo::CosmoPar{Real})",
      "   @ LimberJack ~/PhD/LimberJack.jl/src/emulator.jl:63",
      " [2] Cosmology(cpar::CosmoPar{Real}, settings::Settings)",
      "   @ LimberJack ~/PhD/LimberJack.jl/src/core.jl:89",
      " [3] Cosmology(Ωm::Float64, Ωb::Float64, h::Float64, n_s::Float64, σ8::Float64; θCMB::Float64, nk::Int64, nz::Int64, nz_pk::Int64, tk_mode::String, Pk_mode::String)",
      "   @ LimberJack ~/PhD/LimberJack.jl/src/core.jl:167",
      " [4] top-level scope",
      "   @ In[6]:1",
      " [5] eval",
      "   @ ./boot.jl:373 [inlined]",
      " [6] include_string(mapexpr::typeof(REPL.softscope), mod::Module, code::String, filename::String)",
      "   @ Base ./loading.jl:1196"
     ]
    }
   ],
   "source": [
    "cosmo = Cosmology(0.252, 0.039, 0.75, 1.0, 0.72,\n",
    "                  nk=500, tk_mode=\"emulator\")\n",
    "Pk_emul_L = lin_Pk(cosmo, k_arr, 0.0);"
   ]
  },
  {
   "cell_type": "code",
   "execution_count": 11,
   "id": "65258a05",
   "metadata": {},
   "outputs": [
    {
     "ename": "LoadError",
     "evalue": "UndefVarError: Cosmology not defined",
     "output_type": "error",
     "traceback": [
      "UndefVarError: Cosmology not defined",
      "",
      "Stacktrace:",
      " [1] top-level scope",
      "   @ In[11]:1",
      " [2] eval",
      "   @ ./boot.jl:373 [inlined]",
      " [3] include_string(mapexpr::typeof(REPL.softscope), mod::Module, code::String, filename::String)",
      "   @ Base ./loading.jl:1196"
     ]
    }
   ],
   "source": [
    "cosmo = Cosmology(0.252, 0.039, 0.75, 1.0, 0.72,\n",
    "                  nk=500, tk_mode=\"emulator\")"
   ]
  },
  {
   "cell_type": "code",
   "execution_count": 12,
   "id": "2d2c7d82",
   "metadata": {},
   "outputs": [],
   "source": [
    "ref = [1.05199810e+03, 1.39972787e+03, 1.86175310e+03, 2.47485290e+03,\n",
    "       3.28678329e+03, 4.35879529e+03, 5.76807365e+03, 7.60883617e+03,\n",
    "       9.99017257e+03, 1.30291073e+04, 1.68341153e+04, 2.14732641e+04,\n",
    "       2.69244140e+04, 3.30028431e+04, 3.92692797e+04, 4.49267904e+04,\n",
    "       4.87473257e+04, 4.91726610e+04, 4.49690394e+04, 3.67747863e+04,\n",
    "       2.82780596e+04, 2.29757121e+04, 1.74933110e+04, 1.07923121e+04,\n",
    "       7.73217085e+03, 4.73490310e+03, 2.81547163e+03, 1.63726622e+03,\n",
    "       9.16888584e+02, 5.03788217e+02, 2.70399989e+02, 1.42297928e+02,\n",
    "       7.35961443e+01, 3.74882941e+01, 1.88420637e+01, 9.35899651e+00,\n",
    "       4.60024344e+00, 2.24010663e+00, 1.08184944e+00, 5.18425752e-01];"
   ]
  },
  {
   "cell_type": "code",
   "execution_count": 17,
   "id": "2a6fb527",
   "metadata": {
    "scrolled": true
   },
   "outputs": [
    {
     "data": {
      "image/svg+xml": [
       "<?xml version=\"1.0\" encoding=\"utf-8\"?>\n",
       "<svg xmlns=\"http://www.w3.org/2000/svg\" xmlns:xlink=\"http://www.w3.org/1999/xlink\" width=\"600\" height=\"400\" viewBox=\"0 0 2400 1600\">\n",
       "<defs>\n",
       "  <clipPath id=\"clip720\">\n",
       "    <rect x=\"0\" y=\"0\" width=\"2400\" height=\"1600\"/>\n",
       "  </clipPath>\n",
       "</defs>\n",
       "<path clip-path=\"url(#clip720)\" d=\"\n",
       "M0 1600 L2400 1600 L2400 0 L0 0  Z\n",
       "  \" fill=\"#ffffff\" fill-rule=\"evenodd\" fill-opacity=\"1\"/>\n",
       "<defs>\n",
       "  <clipPath id=\"clip721\">\n",
       "    <rect x=\"480\" y=\"0\" width=\"1681\" height=\"1600\"/>\n",
       "  </clipPath>\n",
       "</defs>\n",
       "<path clip-path=\"url(#clip720)\" d=\"\n",
       "M317.314 1474.16 L2352.76 1474.16 L2352.76 47.2441 L317.314 47.2441  Z\n",
       "  \" fill=\"#ffffff\" fill-rule=\"evenodd\" fill-opacity=\"1\"/>\n",
       "<defs>\n",
       "  <clipPath id=\"clip722\">\n",
       "    <rect x=\"317\" y=\"47\" width=\"2036\" height=\"1428\"/>\n",
       "  </clipPath>\n",
       "</defs>\n",
       "<path clip-path=\"url(#clip720)\" d=\"M-nan -nan L-nan -nan L-nan -nan L-nan -nan L-nan -nan L-nan -nan L-nan -nan L-nan -nan L-nan -nan L-nan -nan L-nan -nan L-nan -nan Z\" fill=\"#000000\" fill-rule=\"evenodd\" fill-opacity=\"1\" /><path clip-path=\"url(#clip720)\" d=\"M-nan -nan Q-nan -nan -nan -nan Q-nan -nan -nan -nan Q-nan -nan -nan -nan Q-nan -nan -nan -nan Q-nan -nan -nan -nan Q-nan -nan -nan -nan Q-nan -nan -nan -nan Q-nan -nan -nan -nan M-nan -nan Q-nan -nan -nan -nan Q-nan -nan -nan -nan Q-nan -nan -nan -nan Q-nan -nan -nan -nan Q-nan -nan -nan -nan Q-nan -nan -nan -nan Q-nan -nan -nan -nan Q-nan -nan -nan -nan Z\" fill=\"#000000\" fill-rule=\"evenodd\" fill-opacity=\"1\" /><path clip-path=\"url(#clip720)\" d=\"M-nan -nan L-nan -nan L-nan -nan L-nan -nan L-nan -nan Z\" fill=\"#000000\" fill-rule=\"evenodd\" fill-opacity=\"1\" /><path clip-path=\"url(#clip720)\" d=\"M-nan -nan L-nan -nan L-nan -nan L-nan -nan M-nan -nan L-nan -nan L-nan -nan L-nan -nan L-nan -nan L-nan -nan L-nan -nan L-nan -nan L-nan -nan L-nan -nan L-nan -nan L-nan -nan Z\" fill=\"#000000\" fill-rule=\"evenodd\" fill-opacity=\"1\" /><path clip-path=\"url(#clip720)\" d=\"M-nan -nan L-nan -nan L-nan -nan L-nan -nan L-nan -nan L-nan -nan L-nan -nan L-nan -nan L-nan -nan L-nan -nan L-nan -nan L-nan -nan Z\" fill=\"#000000\" fill-rule=\"evenodd\" fill-opacity=\"1\" /><path clip-path=\"url(#clip720)\" d=\"M-nan -nan Q-nan -nan -nan -nan Q-nan -nan -nan -nan Q-nan -nan -nan -nan Q-nan -nan -nan -nan Q-nan -nan -nan -nan Q-nan -nan -nan -nan Q-nan -nan -nan -nan Q-nan -nan -nan -nan M-nan -nan Q-nan -nan -nan -nan Q-nan -nan -nan -nan Q-nan -nan -nan -nan Q-nan -nan -nan -nan Q-nan -nan -nan -nan Q-nan -nan -nan -nan Q-nan -nan -nan -nan Q-nan -nan -nan -nan Z\" fill=\"#000000\" fill-rule=\"evenodd\" fill-opacity=\"1\" /><path clip-path=\"url(#clip720)\" d=\"M-nan -nan L-nan -nan L-nan -nan L-nan -nan L-nan -nan Z\" fill=\"#000000\" fill-rule=\"evenodd\" fill-opacity=\"1\" /><path clip-path=\"url(#clip720)\" d=\"M-nan -nan Q-nan -nan -nan -nan Q-nan -nan -nan -nan Q-nan -nan -nan -nan Q-nan -nan -nan -nan Q-nan -nan -nan -nan Q-nan -nan -nan -nan L-nan -nan Q-nan -nan -nan -nan Q-nan -nan -nan -nan Q-nan -nan -nan -nan Q-nan -nan -nan -nan Q-nan -nan -nan -nan Q-nan -nan -nan -nan L-nan -nan L-nan -nan L-nan -nan Q-nan -nan -nan -nan Q-nan -nan -nan -nan Q-nan -nan -nan -nan Q-nan -nan -nan -nan Q-nan -nan -nan -nan Q-nan -nan -nan -nan L-nan -nan Q-nan -nan -nan -nan Q-nan -nan -nan -nan Q-nan -nan -nan -nan Q-nan -nan -nan -nan Q-nan -nan -nan -nan Q-nan -nan -nan -nan Z\" fill=\"#000000\" fill-rule=\"evenodd\" fill-opacity=\"1\" /><path clip-path=\"url(#clip720)\" d=\"M-nan -nan L-nan -nan L-nan -nan L-nan -nan L-nan -nan L-nan -nan L-nan -nan L-nan -nan L-nan -nan L-nan -nan L-nan -nan L-nan -nan Z\" fill=\"#000000\" fill-rule=\"evenodd\" fill-opacity=\"1\" /><path clip-path=\"url(#clip720)\" d=\"M-nan -nan Q-nan -nan -nan -nan Q-nan -nan -nan -nan Q-nan -nan -nan -nan Q-nan -nan -nan -nan Q-nan -nan -nan -nan Q-nan -nan -nan -nan Q-nan -nan -nan -nan Q-nan -nan -nan -nan M-nan -nan Q-nan -nan -nan -nan Q-nan -nan -nan -nan Q-nan -nan -nan -nan Q-nan -nan -nan -nan Q-nan -nan -nan -nan Q-nan -nan -nan -nan Q-nan -nan -nan -nan Q-nan -nan -nan -nan Z\" fill=\"#000000\" fill-rule=\"evenodd\" fill-opacity=\"1\" /><path clip-path=\"url(#clip720)\" d=\"M-nan -nan L-nan -nan L-nan -nan L-nan -nan L-nan -nan Z\" fill=\"#000000\" fill-rule=\"evenodd\" fill-opacity=\"1\" /><path clip-path=\"url(#clip720)\" d=\"M-nan -nan L-nan -nan L-nan -nan L-nan -nan L-nan -nan Q-nan -nan -nan -nan Q-nan -nan -nan -nan Q-nan -nan -nan -nan Q-nan -nan -nan -nan Q-nan -nan -nan -nan Q-nan -nan -nan -nan Q-nan -nan -nan -nan Q-nan -nan -nan -nan L-nan -nan Q-nan -nan -nan -nan Q-nan -nan -nan -nan Q-nan -nan -nan -nan Q-nan -nan -nan -nan Q-nan -nan -nan -nan Q-nan -nan -nan -nan Q-nan -nan -nan -nan Q-nan -nan -nan -nan Z\" fill=\"#000000\" fill-rule=\"evenodd\" fill-opacity=\"1\" /><path clip-path=\"url(#clip720)\" d=\"M-nan -nan L-nan -nan L-nan -nan L-nan -nan L-nan -nan L-nan -nan L-nan -nan L-nan -nan L-nan -nan L-nan -nan L-nan -nan L-nan -nan Z\" fill=\"#000000\" fill-rule=\"evenodd\" fill-opacity=\"1\" /><path clip-path=\"url(#clip720)\" d=\"M-nan -nan Q-nan -nan -nan -nan Q-nan -nan -nan -nan Q-nan -nan -nan -nan Q-nan -nan -nan -nan Q-nan -nan -nan -nan Q-nan -nan -nan -nan Q-nan -nan -nan -nan Q-nan -nan -nan -nan M-nan -nan Q-nan -nan -nan -nan Q-nan -nan -nan -nan Q-nan -nan -nan -nan Q-nan -nan -nan -nan Q-nan -nan -nan -nan Q-nan -nan -nan -nan Q-nan -nan -nan -nan Q-nan -nan -nan -nan Z\" fill=\"#000000\" fill-rule=\"evenodd\" fill-opacity=\"1\" /><path clip-path=\"url(#clip720)\" d=\"M-nan -nan L-nan -nan L-nan -nan L-nan -nan L-nan -nan Z\" fill=\"#000000\" fill-rule=\"evenodd\" fill-opacity=\"1\" /><path clip-path=\"url(#clip720)\" d=\"M-nan -nan L-nan -nan L-nan -nan L-nan -nan L-nan -nan L-nan -nan L-nan -nan L-nan -nan L-nan -nan L-nan -nan L-nan -nan L-nan -nan Z\" fill=\"#000000\" fill-rule=\"evenodd\" fill-opacity=\"1\" /><path clip-path=\"url(#clip720)\" d=\"M-nan -nan L-nan -nan L-nan -nan L-nan -nan L-nan -nan L-nan -nan L-nan -nan L-nan -nan L-nan -nan L-nan -nan L-nan -nan L-nan -nan Z\" fill=\"#000000\" fill-rule=\"evenodd\" fill-opacity=\"1\" /><path clip-path=\"url(#clip720)\" d=\"M-nan -nan Q-nan -nan -nan -nan Q-nan -nan -nan -nan Q-nan -nan -nan -nan Q-nan -nan -nan -nan Q-nan -nan -nan -nan Q-nan -nan -nan -nan Q-nan -nan -nan -nan Q-nan -nan -nan -nan M-nan -nan Q-nan -nan -nan -nan Q-nan -nan -nan -nan Q-nan -nan -nan -nan Q-nan -nan -nan -nan Q-nan -nan -nan -nan Q-nan -nan -nan -nan Q-nan -nan -nan -nan Q-nan -nan -nan -nan Z\" fill=\"#000000\" fill-rule=\"evenodd\" fill-opacity=\"1\" /><path clip-path=\"url(#clip720)\" d=\"M-nan -nan Q-nan -nan -nan -nan Q-nan -nan -nan -nan Q-nan -nan -nan -nan Q-nan -nan -nan -nan Q-nan -nan -nan -nan Q-nan -nan -nan -nan Q-nan -nan -nan -nan Q-nan -nan -nan -nan M-nan -nan Q-nan -nan -nan -nan Q-nan -nan -nan -nan Q-nan -nan -nan -nan Q-nan -nan -nan -nan Q-nan -nan -nan -nan Q-nan -nan -nan -nan Q-nan -nan -nan -nan Q-nan -nan -nan -nan Z\" fill=\"#000000\" fill-rule=\"evenodd\" fill-opacity=\"1\" /><polyline clip-path=\"url(#clip722)\" style=\"stroke:#000000; stroke-linecap:butt; stroke-linejoin:round; stroke-width:2; stroke-opacity:0.1; fill:none\" points=\"\n",
       "  317.459,-7.0204e+07 20229.1,-7.0204e+07 \n",
       "  \"/>\n",
       "<polyline clip-path=\"url(#clip720)\" style=\"stroke:#000000; stroke-linecap:butt; stroke-linejoin:round; stroke-width:4; stroke-opacity:1; fill:none\" points=\"\n",
       "  317.459,-7.0204e+07 317.476,-7.0204e+07 \n",
       "  \"/>\n",
       "<path clip-path=\"url(#clip720)\" d=\"M-nan -nan L-nan -nan L-nan -nan L-nan -nan L-nan -nan L-nan -nan L-nan -nan L-nan -nan L-nan -nan L-nan -nan L-nan -nan L-nan -nan Z\" fill=\"#000000\" fill-rule=\"evenodd\" fill-opacity=\"1\" /><path clip-path=\"url(#clip720)\" d=\"M-nan -nan Q-nan -nan -nan -nan Q-nan -nan -nan -nan Q-nan -nan -nan -nan Q-nan -nan -nan -nan Q-nan -nan -nan -nan Q-nan -nan -nan -nan Q-nan -nan -nan -nan Q-nan -nan -nan -nan M-nan -nan Q-nan -nan -nan -nan Q-nan -nan -nan -nan Q-nan -nan -nan -nan Q-nan -nan -nan -nan Q-nan -nan -nan -nan Q-nan -nan -nan -nan Q-nan -nan -nan -nan Q-nan -nan -nan -nan Z\" fill=\"#000000\" fill-rule=\"evenodd\" fill-opacity=\"1\" /><path clip-path=\"url(#clip720)\" d=\"M-nan -nan L-nan -nan L-nan -nan L-nan -nan L-nan -nan L-nan -nan L-nan -nan L-nan -nan L-nan -nan L-nan -nan L-nan -nan Z\" fill=\"#000000\" fill-rule=\"evenodd\" fill-opacity=\"1\" /><path clip-path=\"url(#clip720)\" d=\"M-nan -nan Q-nan -nan -nan -nan Q-nan -nan -nan -nan Q-nan -nan -nan -nan Q-nan -nan -nan -nan Q-nan -nan -nan -nan Q-nan -nan -nan -nan L-nan -nan L-nan -nan M-nan -nan L-nan -nan L-nan -nan L-nan -nan Q-nan -nan -nan -nan Q-nan -nan -nan -nan Q-nan -nan -nan -nan Q-nan -nan -nan -nan Q-nan -nan -nan -nan Q-nan -nan -nan -nan L-nan -nan L-nan -nan Q-nan -nan -nan -nan Q-nan -nan -nan -nan Q-nan -nan -nan -nan Q-nan -nan -nan -nan L-nan -nan Q-nan -nan -nan -nan Q-nan -nan -nan -nan Q-nan -nan -nan -nan Q-nan -nan -nan -nan Z\" fill=\"#000000\" fill-rule=\"evenodd\" fill-opacity=\"1\" /><path clip-path=\"url(#clip720)\" d=\"M-nan -nan L-nan -nan L-nan -nan L-nan -nan L-nan -nan L-nan -nan L-nan -nan L-nan -nan L-nan -nan L-nan -nan L-nan -nan Z\" fill=\"#000000\" fill-rule=\"evenodd\" fill-opacity=\"1\" /><path clip-path=\"url(#clip720)\" d=\"M51.8091 -7.0204e+07 L59.4479 -7.0204e+07 L59.4479 -7.0204e+07 L51.1378 -7.0204e+07 L51.1378 -7.0204e+07 L59.4016 -7.0204e+07 L64.0775 -7.0204e+07 L64.0775 -7.0204e+07 L71.7164 -7.0204e+07 L71.7164 -7.0204e+07 L51.8091 -7.0204e+07 L51.8091 -7.0204e+07 Z\" fill=\"#000000\" fill-rule=\"evenodd\" fill-opacity=\"1\" /><path clip-path=\"url(#clip720)\" d=\"M91.1607 -7.0204e+07 Q87.5496 -7.0204e+07 85.7209 -7.0204e+07 Q83.9154 -7.0204e+07 83.9154 -7.0204e+07 Q83.9154 -7.0204e+07 85.7209 -7.0204e+07 Q87.5496 -7.0204e+07 91.1607 -7.0204e+07 Q94.7949 -7.0204e+07 96.6005 -7.0204e+07 Q98.4292 -7.0204e+07 98.4292 -7.0204e+07 Q98.4292 -7.0204e+07 96.6005 -7.0204e+07 Q94.7949 -7.0204e+07 91.1607 -7.0204e+07 M91.1607 -7.0204e+07 Q96.9709 -7.0204e+07 100.026 -7.0204e+07 Q103.105 -7.0204e+07 103.105 -7.0204e+07 Q103.105 -7.0204e+07 100.026 -7.0204e+07 Q96.9709 -7.0204e+07 91.1607 -7.0204e+07 Q85.3506 -7.0204e+07 82.2719 -7.0204e+07 Q79.2163 -7.0204e+07 79.2163 -7.0204e+07 Q79.2163 -7.0204e+07 82.2719 -7.0204e+07 Q85.3506 -7.0204e+07 91.1607 -7.0204e+07 Z\" fill=\"#000000\" fill-rule=\"evenodd\" fill-opacity=\"1\" /><path clip-path=\"url(#clip720)\" d=\"M115.782 -7.0204e+07 L106.19 -7.0204e+07 L115.782 -7.0204e+07 L115.782 -7.0204e+07 M114.785 -7.0204e+07 L119.562 -7.0204e+07 L119.562 -7.0204e+07 L123.568 -7.0204e+07 L123.568 -7.0204e+07 L119.562 -7.0204e+07 L119.562 -7.0204e+07 L115.782 -7.0204e+07 L115.782 -7.0204e+07 L103.105 -7.0204e+07 L103.105 -7.0204e+07 L114.785 -7.0204e+07 Z\" fill=\"#000000\" fill-rule=\"evenodd\" fill-opacity=\"1\" /><path clip-path=\"url(#clip720)\" d=\"M129.85 -7.0204e+07 L133.818 -7.0204e+07 L133.818 -7.0204e+07 L129.85 -7.0204e+07 L129.85 -7.0204e+07 Z\" fill=\"#000000\" fill-rule=\"evenodd\" fill-opacity=\"1\" /><path clip-path=\"url(#clip720)\" d=\"M150.689 -7.0204e+07 Q148.131 -7.0204e+07 146.626 -7.0204e+07 Q145.14 -7.0204e+07 145.14 -7.0204e+07 Q145.14 -7.0204e+07 146.626 -7.0204e+07 Q148.131 -7.0204e+07 150.689 -7.0204e+07 Q153.247 -7.0204e+07 154.732 -7.0204e+07 Q156.237 -7.0204e+07 156.237 -7.0204e+07 Q156.237 -7.0204e+07 154.732 -7.0204e+07 Q153.247 -7.0204e+07 150.689 -7.0204e+07 M158.231 -7.0204e+07 L158.231 -7.0204e+07 Q156.801 -7.0204e+07 155.334 -7.0204e+07 Q153.886 -7.0204e+07 152.457 -7.0204e+07 Q148.695 -7.0204e+07 146.701 -7.0204e+07 Q144.727 -7.0204e+07 144.445 -7.0204e+07 Q145.554 -7.0204e+07 147.228 -7.0204e+07 Q148.902 -7.0204e+07 150.914 -7.0204e+07 Q155.146 -7.0204e+07 157.591 -7.0204e+07 Q160.055 -7.0204e+07 160.055 -7.0204e+07 Q160.055 -7.0204e+07 157.497 -7.0204e+07 Q154.939 -7.0204e+07 150.689 -7.0204e+07 Q145.818 -7.0204e+07 143.241 -7.0204e+07 Q140.664 -7.0204e+07 140.664 -7.0204e+07 Q140.664 -7.0204e+07 143.824 -7.0204e+07 Q146.984 -7.0204e+07 152.306 -7.0204e+07 Q153.736 -7.0204e+07 155.184 -7.0204e+07 Q156.651 -7.0204e+07 158.231 -7.0204e+07 Z\" fill=\"#000000\" fill-rule=\"evenodd\" fill-opacity=\"1\" /><path clip-path=\"url(#clip720)\" d=\"M166.713 -7.0204e+07 L166.713 -7.0204e+07 Q168.142 -7.0204e+07 169.609 -7.0204e+07 Q171.076 -7.0204e+07 172.487 -7.0204e+07 Q176.249 -7.0204e+07 178.223 -7.0204e+07 Q180.217 -7.0204e+07 180.499 -7.0204e+07 Q179.408 -7.0204e+07 177.734 -7.0204e+07 Q176.06 -7.0204e+07 174.029 -7.0204e+07 Q169.816 -7.0204e+07 167.352 -7.0204e+07 Q164.907 -7.0204e+07 164.907 -7.0204e+07 Q164.907 -7.0204e+07 167.465 -7.0204e+07 Q170.023 -7.0204e+07 174.274 -7.0204e+07 Q179.145 -7.0204e+07 181.703 -7.0204e+07 Q184.279 -7.0204e+07 184.279 -7.0204e+07 Q184.279 -7.0204e+07 181.12 -7.0204e+07 Q177.979 -7.0204e+07 172.656 -7.0204e+07 Q171.227 -7.0204e+07 169.76 -7.0204e+07 Q168.293 -7.0204e+07 166.713 -7.0204e+07 M174.274 -7.0204e+07 Q176.832 -7.0204e+07 178.317 -7.0204e+07 Q179.822 -7.0204e+07 179.822 -7.0204e+07 Q179.822 -7.0204e+07 178.317 -7.0204e+07 Q176.832 -7.0204e+07 174.274 -7.0204e+07 Q171.716 -7.0204e+07 170.211 -7.0204e+07 Q168.725 -7.0204e+07 168.725 -7.0204e+07 Q168.725 -7.0204e+07 170.211 -7.0204e+07 Q171.716 -7.0204e+07 174.274 -7.0204e+07 Z\" fill=\"#000000\" fill-rule=\"evenodd\" fill-opacity=\"1\" /><path clip-path=\"url(#clip720)\" d=\"M191.765 -7.0204e+07 L197.971 -7.0204e+07 L197.971 -7.0204e+07 L191.219 -7.0204e+07 L191.219 -7.0204e+07 L197.934 -7.0204e+07 L201.733 -7.0204e+07 L201.733 -7.0204e+07 L207.94 -7.0204e+07 L207.94 -7.0204e+07 L191.765 -7.0204e+07 L191.765 -7.0204e+07 Z\" fill=\"#000000\" fill-rule=\"evenodd\" fill-opacity=\"1\" /><path clip-path=\"url(#clip720)\" d=\"M215.726 -7.0204e+07 L215.726 -7.0204e+07 Q217.155 -7.0204e+07 218.622 -7.0204e+07 Q220.089 -7.0204e+07 221.5 -7.0204e+07 Q225.262 -7.0204e+07 227.236 -7.0204e+07 Q229.23 -7.0204e+07 229.512 -7.0204e+07 Q228.421 -7.0204e+07 226.747 -7.0204e+07 Q225.073 -7.0204e+07 223.042 -7.0204e+07 Q218.829 -7.0204e+07 216.365 -7.0204e+07 Q213.92 -7.0204e+07 213.92 -7.0204e+07 Q213.92 -7.0204e+07 216.478 -7.0204e+07 Q219.036 -7.0204e+07 223.287 -7.0204e+07 Q228.158 -7.0204e+07 230.716 -7.0204e+07 Q233.292 -7.0204e+07 233.292 -7.0204e+07 Q233.292 -7.0204e+07 230.133 -7.0204e+07 Q226.992 -7.0204e+07 221.669 -7.0204e+07 Q220.24 -7.0204e+07 218.773 -7.0204e+07 Q217.306 -7.0204e+07 215.726 -7.0204e+07 M223.287 -7.0204e+07 Q225.845 -7.0204e+07 227.33 -7.0204e+07 Q228.835 -7.0204e+07 228.835 -7.0204e+07 Q228.835 -7.0204e+07 227.33 -7.0204e+07 Q225.845 -7.0204e+07 223.287 -7.0204e+07 Q220.729 -7.0204e+07 219.224 -7.0204e+07 Q217.738 -7.0204e+07 217.738 -7.0204e+07 Q217.738 -7.0204e+07 219.224 -7.0204e+07 Q220.729 -7.0204e+07 223.287 -7.0204e+07 Z\" fill=\"#000000\" fill-rule=\"evenodd\" fill-opacity=\"1\" /><path clip-path=\"url(#clip720)\" d=\"M239.16 -7.0204e+07 L257.216 -7.0204e+07 L257.216 -7.0204e+07 L247.022 -7.0204e+07 L243.054 -7.0204e+07 L252.646 -7.0204e+07 L239.16 -7.0204e+07 L239.16 -7.0204e+07 Z\" fill=\"#000000\" fill-rule=\"evenodd\" fill-opacity=\"1\" /><path clip-path=\"url(#clip720)\" d=\"M265.284 -7.0204e+07 L271.491 -7.0204e+07 L271.491 -7.0204e+07 L264.739 -7.0204e+07 L264.739 -7.0204e+07 L271.453 -7.0204e+07 L275.253 -7.0204e+07 L275.253 -7.0204e+07 L281.459 -7.0204e+07 L281.459 -7.0204e+07 L265.284 -7.0204e+07 L265.284 -7.0204e+07 Z\" fill=\"#000000\" fill-rule=\"evenodd\" fill-opacity=\"1\" /><polyline clip-path=\"url(#clip722)\" style=\"stroke:#009af9; stroke-linecap:butt; stroke-linejoin:round; stroke-width:4; stroke-opacity:1; fill:none\" points=\"\n",
       "  317.517,1476.01 317.584,1474.09 317.674,1473.91 317.794,1474.58 317.953,1473.95 318.164,1474.4 318.446,1475.26 318.821,1473.88 319.32,1474.17 319.985,1474.6 \n",
       "  320.87,1474.08 322.047,1477.2 323.615,1474.89 325.702,1494.36 328.48,1466.65 332.178,1474.53 337.101,1474.55 343.654,1474.98 352.377,1470.3 363.989,1479.83 \n",
       "  379.447,1474.32 400.023,1474.05 427.414,1478.68 463.877,1469.62 512.414,1475.91 577.025,1475.06 663.033,1467.07 777.525,1472.02 929.933,1463.27 1132.81,1473.34 \n",
       "  1402.88,1475.48 1762.39,1473.93 2240.95,1475.7 2878,1473.04 3726.03,1474.03 4854.89,1519.72 6357.59,1474.2 8357.95,1474.51 11020.8,1477.23 14565.4,1486.26 \n",
       "  \n",
       "  \"/>\n",
       "<polyline clip-path=\"url(#clip722)\" style=\"stroke:#e26f46; stroke-linecap:butt; stroke-linejoin:round; stroke-width:4; stroke-opacity:1; fill:none\" points=\"\n",
       "  317.517,-1.49964e+06 317.584,-1.99583e+06 317.674,-2.6551e+06 317.794,-3.52994e+06 317.953,-4.6885e+06 318.164,-6.21818e+06 318.446,-8.22911e+06 318.821,-1.08557e+07 319.32,-1.42537e+07 319.985,-1.859e+07 \n",
       "  320.87,-2.40195e+07 322.047,-3.06392e+07 323.615,-3.84175e+07 325.702,-4.7091e+07 328.48,-5.60327e+07 332.178,-6.41055e+07 337.101,-6.95571e+07 343.654,-7.0164e+07 352.377,-6.41658e+07 363.989,-5.24732e+07 \n",
       "  379.447,-4.03491e+07 400.023,-3.2783e+07 427.414,-2.49601e+07 463.877,-1.53983e+07 512.414,-1.10317e+07 577.025,-6.75486e+06 663.033,-4.01598e+06 777.525,-2.33477e+06 929.933,-1.30685e+06 1132.81,-717392 \n",
       "  1402.88,-384365 1762.39,-201574 2240.95,-103542 2878,-52018.7 3726.03,-25412 4854.89,-11880.4 6357.59,-5090.02 8357.95,-1722.29 11020.8,-69.5486 14565.4,734.412 \n",
       "  \n",
       "  \"/>\n",
       "<polyline clip-path=\"url(#clip722)\" style=\"stroke:#3da44d; stroke-linecap:butt; stroke-linejoin:round; stroke-width:4; stroke-opacity:1; fill:none\" points=\"\n",
       "  317.517,-1.50158e+06 317.584,-1.99573e+06 317.674,-2.65463e+06 317.794,-3.53098e+06 317.953,-4.68781e+06 318.164,-6.21922e+06 318.446,-8.23545e+06 318.821,-1.08536e+07 319.32,-1.42537e+07 319.985,-1.85957e+07 \n",
       "  320.87,-2.4018e+07 322.047,-3.07043e+07 323.615,-3.84371e+07 325.702,-4.77574e+07 328.48,-5.57375e+07 332.178,-6.41217e+07 337.101,-6.95759e+07 343.654,-7.0204e+07 352.377,-6.3992e+07 363.989,-5.26815e+07 \n",
       "  379.447,-4.03536e+07 400.023,-3.27805e+07 427.414,-2.50392e+07 463.877,-1.53493e+07 512.414,-1.10452e+07 577.025,-6.75909e+06 663.033,-3.99601e+06 777.525,-2.33126e+06 929.933,-1.29686e+06 1132.81,-716975 \n",
       "  1402.88,-384721 1762.39,-201540 2240.95,-103655 2878,-51976.6 3726.03,-25409.4 4854.89,-12306.7 6357.59,-5090.19 8357.95,-1723.07 11020.8,-72.8627 14565.4,728.143 \n",
       "  \n",
       "  \"/>\n",
       "<path clip-path=\"url(#clip720)\" d=\"\n",
       "M1746.48 302.168 L2284.91 302.168 L2284.91 94.8081 L1746.48 94.8081  Z\n",
       "  \" fill=\"#ffffff\" fill-rule=\"evenodd\" fill-opacity=\"1\"/>\n",
       "<polyline clip-path=\"url(#clip720)\" style=\"stroke:#000000; stroke-linecap:butt; stroke-linejoin:round; stroke-width:4; stroke-opacity:1; fill:none\" points=\"\n",
       "  1746.48,302.168 2284.91,302.168 2284.91,94.8081 1746.48,94.8081 1746.48,302.168 \n",
       "  \"/>\n",
       "<polyline clip-path=\"url(#clip720)\" style=\"stroke:#009af9; stroke-linecap:butt; stroke-linejoin:round; stroke-width:4; stroke-opacity:1; fill:none\" points=\"\n",
       "  1769.1,146.648 1904.79,146.648 \n",
       "  \"/>\n",
       "<path clip-path=\"url(#clip720)\" d=\"M1938.03 127.956 Q1934.93 133.28 1933.43 138.488 Q1931.92 143.697 1931.92 149.044 Q1931.92 154.391 1933.43 159.646 Q1934.96 164.877 1938.03 170.178 L1934.33 170.178 Q1930.86 164.738 1929.12 159.484 Q1927.41 154.229 1927.41 149.044 Q1927.41 143.882 1929.12 138.65 Q1930.83 133.419 1934.33 127.956 L1938.03 127.956 Z\" fill=\"#000000\" fill-rule=\"evenodd\" fill-opacity=\"1\" /><path clip-path=\"url(#clip720)\" d=\"M1961.32 141.984 Q1960.6 141.567 1959.75 141.382 Q1958.91 141.174 1957.89 141.174 Q1954.28 141.174 1952.34 143.535 Q1950.42 145.873 1950.42 150.271 L1950.42 163.928 L1946.14 163.928 L1946.14 138.002 L1950.42 138.002 L1950.42 142.03 Q1951.76 139.669 1953.91 138.535 Q1956.07 137.377 1959.14 137.377 Q1959.58 137.377 1960.12 137.447 Q1960.65 137.493 1961.3 137.609 L1961.32 141.984 Z\" fill=\"#000000\" fill-rule=\"evenodd\" fill-opacity=\"1\" /><path clip-path=\"url(#clip720)\" d=\"M1986.92 149.9 L1986.92 151.984 L1967.34 151.984 Q1967.62 156.382 1969.98 158.697 Q1972.36 160.988 1976.6 160.988 Q1979.05 160.988 1981.34 160.386 Q1983.66 159.785 1985.93 158.581 L1985.93 162.609 Q1983.64 163.581 1981.23 164.09 Q1978.82 164.599 1976.34 164.599 Q1970.14 164.599 1966.51 160.988 Q1962.89 157.377 1962.89 151.22 Q1962.89 144.854 1966.32 141.127 Q1969.77 137.377 1975.6 137.377 Q1980.83 137.377 1983.87 140.757 Q1986.92 144.113 1986.92 149.9 M1982.66 148.65 Q1982.62 145.155 1980.7 143.072 Q1978.8 140.988 1975.65 140.988 Q1972.08 140.988 1969.93 143.002 Q1967.8 145.016 1967.48 148.674 L1982.66 148.65 Z\" fill=\"#000000\" fill-rule=\"evenodd\" fill-opacity=\"1\" /><path clip-path=\"url(#clip720)\" d=\"M2007.04 127.91 L2007.04 131.451 L2002.96 131.451 Q2000.67 131.451 1999.77 132.377 Q1998.89 133.303 1998.89 135.711 L1998.89 138.002 L2005.9 138.002 L2005.9 141.312 L1998.89 141.312 L1998.89 163.928 L1994.61 163.928 L1994.61 141.312 L1990.53 141.312 L1990.53 138.002 L1994.61 138.002 L1994.61 136.197 Q1994.61 131.868 1996.62 129.901 Q1998.64 127.91 2003.01 127.91 L2007.04 127.91 Z\" fill=\"#000000\" fill-rule=\"evenodd\" fill-opacity=\"1\" /><path clip-path=\"url(#clip720)\" d=\"M2005.86 149.044 L2018.33 149.044 L2018.33 152.84 L2005.86 152.84 L2005.86 149.044 Z\" fill=\"#000000\" fill-rule=\"evenodd\" fill-opacity=\"1\" /><path clip-path=\"url(#clip720)\" d=\"M2025.3 129.368 L2047.15 129.368 L2047.15 133.303 L2029.98 133.303 L2029.98 143.535 L2046.44 143.535 L2046.44 147.47 L2029.98 147.47 L2029.98 159.993 L2047.57 159.993 L2047.57 163.928 L2025.3 163.928 L2025.3 129.368 Z\" fill=\"#000000\" fill-rule=\"evenodd\" fill-opacity=\"1\" /><path clip-path=\"url(#clip720)\" d=\"M2075.26 142.979 Q2076.85 140.109 2079.07 138.743 Q2081.3 137.377 2084.31 137.377 Q2088.36 137.377 2090.56 140.225 Q2092.76 143.049 2092.76 148.28 L2092.76 163.928 L2088.47 163.928 L2088.47 148.419 Q2088.47 144.692 2087.15 142.887 Q2085.83 141.081 2083.13 141.081 Q2079.82 141.081 2077.89 143.28 Q2075.97 145.479 2075.97 149.275 L2075.97 163.928 L2071.69 163.928 L2071.69 148.419 Q2071.69 144.669 2070.37 142.887 Q2069.05 141.081 2066.3 141.081 Q2063.03 141.081 2061.11 143.303 Q2059.19 145.502 2059.19 149.275 L2059.19 163.928 L2054.91 163.928 L2054.91 138.002 L2059.19 138.002 L2059.19 142.03 Q2060.65 139.646 2062.69 138.512 Q2064.72 137.377 2067.52 137.377 Q2070.35 137.377 2072.32 138.813 Q2074.31 140.248 2075.26 142.979 Z\" fill=\"#000000\" fill-rule=\"evenodd\" fill-opacity=\"1\" /><path clip-path=\"url(#clip720)\" d=\"M2100.81 153.697 L2100.81 138.002 L2105.07 138.002 L2105.07 153.535 Q2105.07 157.215 2106.51 159.067 Q2107.94 160.896 2110.81 160.896 Q2114.26 160.896 2116.25 158.697 Q2118.26 156.498 2118.26 152.701 L2118.26 138.002 L2122.52 138.002 L2122.52 163.928 L2118.26 163.928 L2118.26 159.947 Q2116.71 162.308 2114.65 163.465 Q2112.62 164.599 2109.91 164.599 Q2105.44 164.599 2103.13 161.822 Q2100.81 159.044 2100.81 153.697 M2111.53 137.377 L2111.53 137.377 Z\" fill=\"#000000\" fill-rule=\"evenodd\" fill-opacity=\"1\" /><path clip-path=\"url(#clip720)\" d=\"M2131.3 127.91 L2135.56 127.91 L2135.56 163.928 L2131.3 163.928 L2131.3 127.91 Z\" fill=\"#000000\" fill-rule=\"evenodd\" fill-opacity=\"1\" /><path clip-path=\"url(#clip720)\" d=\"M2143.8 127.956 L2147.5 127.956 Q2150.97 133.419 2152.69 138.65 Q2154.42 143.882 2154.42 149.044 Q2154.42 154.229 2152.69 159.484 Q2150.97 164.738 2147.5 170.178 L2143.8 170.178 Q2146.88 164.877 2148.38 159.646 Q2149.91 154.391 2149.91 149.044 Q2149.91 143.697 2148.38 138.488 Q2146.88 133.28 2143.8 127.956 Z\" fill=\"#000000\" fill-rule=\"evenodd\" fill-opacity=\"1\" /><path clip-path=\"url(#clip720)\" d=\"M2170.53 129.368 L2174.47 129.368 L2162.43 168.326 L2158.5 168.326 L2170.53 129.368 Z\" fill=\"#000000\" fill-rule=\"evenodd\" fill-opacity=\"1\" /><path clip-path=\"url(#clip720)\" d=\"M2193.96 141.984 Q2193.24 141.567 2192.38 141.382 Q2191.55 141.174 2190.53 141.174 Q2186.92 141.174 2184.98 143.535 Q2183.06 145.873 2183.06 150.271 L2183.06 163.928 L2178.77 163.928 L2178.77 138.002 L2183.06 138.002 L2183.06 142.03 Q2184.4 139.669 2186.55 138.535 Q2188.7 137.377 2191.78 137.377 Q2192.22 137.377 2192.75 137.447 Q2193.29 137.493 2193.94 137.609 L2193.96 141.984 Z\" fill=\"#000000\" fill-rule=\"evenodd\" fill-opacity=\"1\" /><path clip-path=\"url(#clip720)\" d=\"M2219.56 149.9 L2219.56 151.984 L2199.98 151.984 Q2200.25 156.382 2202.62 158.697 Q2205 160.988 2209.24 160.988 Q2211.69 160.988 2213.98 160.386 Q2216.3 159.785 2218.56 158.581 L2218.56 162.609 Q2216.27 163.581 2213.87 164.09 Q2211.46 164.599 2208.98 164.599 Q2202.78 164.599 2199.14 160.988 Q2195.53 157.377 2195.53 151.22 Q2195.53 144.854 2198.96 141.127 Q2202.41 137.377 2208.24 137.377 Q2213.47 137.377 2216.5 140.757 Q2219.56 144.113 2219.56 149.9 M2215.3 148.65 Q2215.25 145.155 2213.33 143.072 Q2211.44 140.988 2208.29 140.988 Q2204.72 140.988 2202.57 143.002 Q2200.44 145.016 2200.12 148.674 L2215.3 148.65 Z\" fill=\"#000000\" fill-rule=\"evenodd\" fill-opacity=\"1\" /><path clip-path=\"url(#clip720)\" d=\"M2239.68 127.91 L2239.68 131.451 L2235.6 131.451 Q2233.31 131.451 2232.41 132.377 Q2231.53 133.303 2231.53 135.711 L2231.53 138.002 L2238.54 138.002 L2238.54 141.312 L2231.53 141.312 L2231.53 163.928 L2227.25 163.928 L2227.25 141.312 L2223.17 141.312 L2223.17 138.002 L2227.25 138.002 L2227.25 136.197 Q2227.25 131.868 2229.26 129.901 Q2231.27 127.91 2235.65 127.91 L2239.68 127.91 Z\" fill=\"#000000\" fill-rule=\"evenodd\" fill-opacity=\"1\" /><polyline clip-path=\"url(#clip720)\" style=\"stroke:#e26f46; stroke-linecap:butt; stroke-linejoin:round; stroke-width:4; stroke-opacity:1; fill:none\" points=\"\n",
       "  1769.1,198.488 1904.79,198.488 \n",
       "  \"/>\n",
       "<path clip-path=\"url(#clip720)\" d=\"M1942.59 193.824 Q1941.88 193.407 1941.02 193.222 Q1940.19 193.014 1939.17 193.014 Q1935.56 193.014 1933.61 195.375 Q1931.69 197.713 1931.69 202.111 L1931.69 215.768 L1927.41 215.768 L1927.41 189.842 L1931.69 189.842 L1931.69 193.87 Q1933.03 191.509 1935.19 190.375 Q1937.34 189.217 1940.42 189.217 Q1940.86 189.217 1941.39 189.287 Q1941.92 189.333 1942.57 189.449 L1942.59 193.824 Z\" fill=\"#000000\" fill-rule=\"evenodd\" fill-opacity=\"1\" /><path clip-path=\"url(#clip720)\" d=\"M1968.2 201.74 L1968.2 203.824 L1948.61 203.824 Q1948.89 208.222 1951.25 210.537 Q1953.64 212.828 1957.87 212.828 Q1960.33 212.828 1962.62 212.226 Q1964.93 211.625 1967.2 210.421 L1967.2 214.449 Q1964.91 215.421 1962.5 215.93 Q1960.09 216.439 1957.62 216.439 Q1951.41 216.439 1947.78 212.828 Q1944.17 209.217 1944.17 203.06 Q1944.17 196.694 1947.59 192.967 Q1951.04 189.217 1956.88 189.217 Q1962.11 189.217 1965.14 192.597 Q1968.2 195.953 1968.2 201.74 M1963.94 200.49 Q1963.89 196.995 1961.97 194.912 Q1960.07 192.828 1956.92 192.828 Q1953.36 192.828 1951.21 194.842 Q1949.08 196.856 1948.75 200.514 L1963.94 200.49 Z\" fill=\"#000000\" fill-rule=\"evenodd\" fill-opacity=\"1\" /><path clip-path=\"url(#clip720)\" d=\"M1988.31 179.75 L1988.31 183.291 L1984.24 183.291 Q1981.95 183.291 1981.04 184.217 Q1980.16 185.143 1980.16 187.551 L1980.16 189.842 L1987.18 189.842 L1987.18 193.152 L1980.16 193.152 L1980.16 215.768 L1975.88 215.768 L1975.88 193.152 L1971.81 193.152 L1971.81 189.842 L1975.88 189.842 L1975.88 188.037 Q1975.88 183.708 1977.89 181.741 Q1979.91 179.75 1984.28 179.75 L1988.31 179.75 Z\" fill=\"#000000\" fill-rule=\"evenodd\" fill-opacity=\"1\" /><polyline clip-path=\"url(#clip720)\" style=\"stroke:#3da44d; stroke-linecap:butt; stroke-linejoin:round; stroke-width:4; stroke-opacity:1; fill:none\" points=\"\n",
       "  1769.1,250.328 1904.79,250.328 \n",
       "  \"/>\n",
       "<path clip-path=\"url(#clip720)\" d=\"M1927.41 233.048 L1949.26 233.048 L1949.26 236.983 L1932.08 236.983 L1932.08 247.215 L1948.54 247.215 L1948.54 251.15 L1932.08 251.15 L1932.08 263.673 L1949.68 263.673 L1949.68 267.608 L1927.41 267.608 L1927.41 233.048 Z\" fill=\"#000000\" fill-rule=\"evenodd\" fill-opacity=\"1\" /><path clip-path=\"url(#clip720)\" d=\"M1977.36 246.659 Q1978.96 243.789 1981.18 242.423 Q1983.4 241.057 1986.41 241.057 Q1990.46 241.057 1992.66 243.905 Q1994.86 246.729 1994.86 251.96 L1994.86 267.608 L1990.58 267.608 L1990.58 252.099 Q1990.58 248.372 1989.26 246.567 Q1987.94 244.761 1985.23 244.761 Q1981.92 244.761 1980 246.96 Q1978.08 249.159 1978.08 252.955 L1978.08 267.608 L1973.8 267.608 L1973.8 252.099 Q1973.8 248.349 1972.48 246.567 Q1971.16 244.761 1968.4 244.761 Q1965.14 244.761 1963.22 246.983 Q1961.3 249.182 1961.3 252.955 L1961.3 267.608 L1957.02 267.608 L1957.02 241.682 L1961.3 241.682 L1961.3 245.71 Q1962.76 243.326 1964.79 242.192 Q1966.83 241.057 1969.63 241.057 Q1972.45 241.057 1974.42 242.493 Q1976.41 243.928 1977.36 246.659 Z\" fill=\"#000000\" fill-rule=\"evenodd\" fill-opacity=\"1\" /><path clip-path=\"url(#clip720)\" d=\"M2002.92 257.377 L2002.92 241.682 L2007.18 241.682 L2007.18 257.215 Q2007.18 260.895 2008.61 262.747 Q2010.05 264.576 2012.92 264.576 Q2016.37 264.576 2018.36 262.377 Q2020.37 260.178 2020.37 256.381 L2020.37 241.682 L2024.63 241.682 L2024.63 267.608 L2020.37 267.608 L2020.37 263.627 Q2018.82 265.988 2016.76 267.145 Q2014.72 268.279 2012.01 268.279 Q2007.55 268.279 2005.23 265.502 Q2002.92 262.724 2002.92 257.377 M2013.64 241.057 L2013.64 241.057 Z\" fill=\"#000000\" fill-rule=\"evenodd\" fill-opacity=\"1\" /><path clip-path=\"url(#clip720)\" d=\"M2033.4 231.59 L2037.66 231.59 L2037.66 267.608 L2033.4 267.608 L2033.4 231.59 Z\" fill=\"#000000\" fill-rule=\"evenodd\" fill-opacity=\"1\" /><path clip-path=\"url(#clip720)\" d=\"M2058.36 254.576 Q2053.2 254.576 2051.2 255.756 Q2049.21 256.937 2049.21 259.784 Q2049.21 262.053 2050.7 263.395 Q2052.2 264.715 2054.77 264.715 Q2058.31 264.715 2060.44 262.215 Q2062.59 259.691 2062.59 255.525 L2062.59 254.576 L2058.36 254.576 M2066.85 252.817 L2066.85 267.608 L2062.59 267.608 L2062.59 263.673 Q2061.14 266.034 2058.96 267.168 Q2056.78 268.279 2053.64 268.279 Q2049.65 268.279 2047.29 266.057 Q2044.95 263.812 2044.95 260.062 Q2044.95 255.687 2047.87 253.465 Q2050.81 251.242 2056.62 251.242 L2062.59 251.242 L2062.59 250.826 Q2062.59 247.886 2060.65 246.289 Q2058.73 244.668 2055.23 244.668 Q2053.01 244.668 2050.9 245.201 Q2048.8 245.733 2046.85 246.798 L2046.85 242.863 Q2049.19 241.96 2051.39 241.52 Q2053.59 241.057 2055.67 241.057 Q2061.3 241.057 2064.07 243.974 Q2066.85 246.891 2066.85 252.817 Z\" fill=\"#000000\" fill-rule=\"evenodd\" fill-opacity=\"1\" /><path clip-path=\"url(#clip720)\" d=\"M2079.84 234.321 L2079.84 241.682 L2088.61 241.682 L2088.61 244.992 L2079.84 244.992 L2079.84 259.066 Q2079.84 262.238 2080.7 263.141 Q2081.57 264.043 2084.24 264.043 L2088.61 264.043 L2088.61 267.608 L2084.24 267.608 Q2079.31 267.608 2077.43 265.779 Q2075.56 263.928 2075.56 259.066 L2075.56 244.992 L2072.43 244.992 L2072.43 241.682 L2075.56 241.682 L2075.56 234.321 L2079.84 234.321 Z\" fill=\"#000000\" fill-rule=\"evenodd\" fill-opacity=\"1\" /><path clip-path=\"url(#clip720)\" d=\"M2104.26 244.668 Q2100.83 244.668 2098.84 247.354 Q2096.85 250.016 2096.85 254.668 Q2096.85 259.321 2098.82 262.006 Q2100.81 264.668 2104.26 264.668 Q2107.66 264.668 2109.65 261.983 Q2111.64 259.298 2111.64 254.668 Q2111.64 250.062 2109.65 247.377 Q2107.66 244.668 2104.26 244.668 M2104.26 241.057 Q2109.82 241.057 2112.99 244.668 Q2116.16 248.28 2116.16 254.668 Q2116.16 261.034 2112.99 264.668 Q2109.82 268.279 2104.26 268.279 Q2098.68 268.279 2095.51 264.668 Q2092.36 261.034 2092.36 254.668 Q2092.36 248.28 2095.51 244.668 Q2098.68 241.057 2104.26 241.057 Z\" fill=\"#000000\" fill-rule=\"evenodd\" fill-opacity=\"1\" /><path clip-path=\"url(#clip720)\" d=\"M2138.24 245.664 Q2137.52 245.247 2136.67 245.062 Q2135.83 244.854 2134.82 244.854 Q2131.2 244.854 2129.26 247.215 Q2127.34 249.553 2127.34 253.951 L2127.34 267.608 L2123.06 267.608 L2123.06 241.682 L2127.34 241.682 L2127.34 245.71 Q2128.68 243.349 2130.83 242.215 Q2132.99 241.057 2136.07 241.057 Q2136.51 241.057 2137.04 241.127 Q2137.57 241.173 2138.22 241.289 L2138.24 245.664 Z\" fill=\"#000000\" fill-rule=\"evenodd\" fill-opacity=\"1\" /></svg>\n"
      ]
     },
     "execution_count": 17,
     "metadata": {},
     "output_type": "execute_result"
    },
    {
     "name": "stderr",
     "output_type": "stream",
     "text": [
      "┌ Warning: No strict ticks found\n",
      "└ @ PlotUtils /home/jaime/.julia/packages/PlotUtils/jNTYY/src/ticks.jl:191\n",
      "┌ Warning: No strict ticks found\n",
      "└ @ PlotUtils /home/jaime/.julia/packages/PlotUtils/jNTYY/src/ticks.jl:191\n"
     ]
    }
   ],
   "source": [
    "using Plots\n",
    "#plot(k_arr, Pk_EisHu, xaxis=:log, yaxis=:log, label=\"EisHu\")\n",
    "plot!(k_arr, ref, xaxis=:log, yaxis=:log, label=\"ref\")\n",
    "plot!(k_arr, Pk_emul, xaxis=:log, yaxis=:log, label=\"Emulator\")"
   ]
  },
  {
   "cell_type": "code",
   "execution_count": 14,
   "id": "8b73b6a8",
   "metadata": {},
   "outputs": [
    {
     "ename": "LoadError",
     "evalue": "UndefVarError: Pk_EisHu not defined",
     "output_type": "error",
     "traceback": [
      "UndefVarError: Pk_EisHu not defined",
      "",
      "Stacktrace:",
      " [1] top-level scope",
      "   @ In[14]:1",
      " [2] eval",
      "   @ ./boot.jl:373 [inlined]",
      " [3] include_string(mapexpr::typeof(REPL.softscope), mod::Module, code::String, filename::String)",
      "   @ Base ./loading.jl:1196"
     ]
    }
   ],
   "source": [
    "plot(k_arr, (Pk_EisHu-Pk_emul)./Pk_EisHu, xaxis=:log, label=\"(EisHu-Emul)/Emul\")"
   ]
  },
  {
   "cell_type": "code",
   "execution_count": 15,
   "id": "c9a4d7f8",
   "metadata": {},
   "outputs": [
    {
     "data": {
      "image/svg+xml": [
       "<?xml version=\"1.0\" encoding=\"utf-8\"?>\n",
       "<svg xmlns=\"http://www.w3.org/2000/svg\" xmlns:xlink=\"http://www.w3.org/1999/xlink\" width=\"600\" height=\"400\" viewBox=\"0 0 2400 1600\">\n",
       "<defs>\n",
       "  <clipPath id=\"clip680\">\n",
       "    <rect x=\"0\" y=\"0\" width=\"2400\" height=\"1600\"/>\n",
       "  </clipPath>\n",
       "</defs>\n",
       "<path clip-path=\"url(#clip680)\" d=\"\n",
       "M0 1600 L2400 1600 L2400 0 L0 0  Z\n",
       "  \" fill=\"#ffffff\" fill-rule=\"evenodd\" fill-opacity=\"1\"/>\n",
       "<defs>\n",
       "  <clipPath id=\"clip681\">\n",
       "    <rect x=\"480\" y=\"0\" width=\"1681\" height=\"1600\"/>\n",
       "  </clipPath>\n",
       "</defs>\n",
       "<path clip-path=\"url(#clip680)\" d=\"\n",
       "M223.45 1474.16 L2352.76 1474.16 L2352.76 47.2441 L223.45 47.2441  Z\n",
       "  \" fill=\"#ffffff\" fill-rule=\"evenodd\" fill-opacity=\"1\"/>\n",
       "<defs>\n",
       "  <clipPath id=\"clip682\">\n",
       "    <rect x=\"223\" y=\"47\" width=\"2130\" height=\"1428\"/>\n",
       "  </clipPath>\n",
       "</defs>\n",
       "<polyline clip-path=\"url(#clip682)\" style=\"stroke:#000000; stroke-linecap:butt; stroke-linejoin:round; stroke-width:2; stroke-opacity:0.1; fill:none\" points=\"\n",
       "  283.713,1474.16 283.713,47.2441 \n",
       "  \"/>\n",
       "<polyline clip-path=\"url(#clip682)\" style=\"stroke:#000000; stroke-linecap:butt; stroke-linejoin:round; stroke-width:2; stroke-opacity:0.1; fill:none\" points=\"\n",
       "  698.313,1474.16 698.313,47.2441 \n",
       "  \"/>\n",
       "<polyline clip-path=\"url(#clip682)\" style=\"stroke:#000000; stroke-linecap:butt; stroke-linejoin:round; stroke-width:2; stroke-opacity:0.1; fill:none\" points=\"\n",
       "  1112.91,1474.16 1112.91,47.2441 \n",
       "  \"/>\n",
       "<polyline clip-path=\"url(#clip682)\" style=\"stroke:#000000; stroke-linecap:butt; stroke-linejoin:round; stroke-width:2; stroke-opacity:0.1; fill:none\" points=\"\n",
       "  1527.51,1474.16 1527.51,47.2441 \n",
       "  \"/>\n",
       "<polyline clip-path=\"url(#clip682)\" style=\"stroke:#000000; stroke-linecap:butt; stroke-linejoin:round; stroke-width:2; stroke-opacity:0.1; fill:none\" points=\"\n",
       "  1942.11,1474.16 1942.11,47.2441 \n",
       "  \"/>\n",
       "<polyline clip-path=\"url(#clip680)\" style=\"stroke:#000000; stroke-linecap:butt; stroke-linejoin:round; stroke-width:4; stroke-opacity:1; fill:none\" points=\"\n",
       "  223.45,1474.16 2352.76,1474.16 \n",
       "  \"/>\n",
       "<polyline clip-path=\"url(#clip680)\" style=\"stroke:#000000; stroke-linecap:butt; stroke-linejoin:round; stroke-width:4; stroke-opacity:1; fill:none\" points=\"\n",
       "  283.713,1474.16 283.713,1455.27 \n",
       "  \"/>\n",
       "<polyline clip-path=\"url(#clip680)\" style=\"stroke:#000000; stroke-linecap:butt; stroke-linejoin:round; stroke-width:4; stroke-opacity:1; fill:none\" points=\"\n",
       "  698.313,1474.16 698.313,1455.27 \n",
       "  \"/>\n",
       "<polyline clip-path=\"url(#clip680)\" style=\"stroke:#000000; stroke-linecap:butt; stroke-linejoin:round; stroke-width:4; stroke-opacity:1; fill:none\" points=\"\n",
       "  1112.91,1474.16 1112.91,1455.27 \n",
       "  \"/>\n",
       "<polyline clip-path=\"url(#clip680)\" style=\"stroke:#000000; stroke-linecap:butt; stroke-linejoin:round; stroke-width:4; stroke-opacity:1; fill:none\" points=\"\n",
       "  1527.51,1474.16 1527.51,1455.27 \n",
       "  \"/>\n",
       "<polyline clip-path=\"url(#clip680)\" style=\"stroke:#000000; stroke-linecap:butt; stroke-linejoin:round; stroke-width:4; stroke-opacity:1; fill:none\" points=\"\n",
       "  1942.11,1474.16 1942.11,1455.27 \n",
       "  \"/>\n",
       "<path clip-path=\"url(#clip680)\" d=\"M233.133 1548.29 L240.771 1548.29 L240.771 1521.92 L232.461 1523.59 L232.461 1519.33 L240.725 1517.66 L245.401 1517.66 L245.401 1548.29 L253.04 1548.29 L253.04 1552.22 L233.133 1552.22 L233.133 1548.29 Z\" fill=\"#000000\" fill-rule=\"evenodd\" fill-opacity=\"1\" /><path clip-path=\"url(#clip680)\" d=\"M272.484 1520.74 Q268.873 1520.74 267.044 1524.31 Q265.239 1527.85 265.239 1534.98 Q265.239 1542.09 267.044 1545.65 Q268.873 1549.19 272.484 1549.19 Q276.118 1549.19 277.924 1545.65 Q279.753 1542.09 279.753 1534.98 Q279.753 1527.85 277.924 1524.31 Q276.118 1520.74 272.484 1520.74 M272.484 1517.04 Q278.294 1517.04 281.35 1521.65 Q284.429 1526.23 284.429 1534.98 Q284.429 1543.71 281.35 1548.31 Q278.294 1552.9 272.484 1552.9 Q266.674 1552.9 263.595 1548.31 Q260.54 1543.71 260.54 1534.98 Q260.54 1526.23 263.595 1521.65 Q266.674 1517.04 272.484 1517.04 Z\" fill=\"#000000\" fill-rule=\"evenodd\" fill-opacity=\"1\" /><path clip-path=\"url(#clip680)\" d=\"M284.429 1511.14 L308.54 1511.14 L308.54 1514.34 L284.429 1514.34 L284.429 1511.14 Z\" fill=\"#000000\" fill-rule=\"evenodd\" fill-opacity=\"1\" /><path clip-path=\"url(#clip680)\" d=\"M327.179 1500.04 L317.587 1515.03 L327.179 1515.03 L327.179 1500.04 M326.182 1496.73 L330.959 1496.73 L330.959 1515.03 L334.965 1515.03 L334.965 1518.19 L330.959 1518.19 L330.959 1524.81 L327.179 1524.81 L327.179 1518.19 L314.502 1518.19 L314.502 1514.53 L326.182 1496.73 Z\" fill=\"#000000\" fill-rule=\"evenodd\" fill-opacity=\"1\" /><path clip-path=\"url(#clip680)\" d=\"M648.194 1548.29 L655.833 1548.29 L655.833 1521.92 L647.522 1523.59 L647.522 1519.33 L655.786 1517.66 L660.462 1517.66 L660.462 1548.29 L668.101 1548.29 L668.101 1552.22 L648.194 1552.22 L648.194 1548.29 Z\" fill=\"#000000\" fill-rule=\"evenodd\" fill-opacity=\"1\" /><path clip-path=\"url(#clip680)\" d=\"M687.545 1520.74 Q683.934 1520.74 682.106 1524.31 Q680.3 1527.85 680.3 1534.98 Q680.3 1542.09 682.106 1545.65 Q683.934 1549.19 687.545 1549.19 Q691.18 1549.19 692.985 1545.65 Q694.814 1542.09 694.814 1534.98 Q694.814 1527.85 692.985 1524.31 Q691.18 1520.74 687.545 1520.74 M687.545 1517.04 Q693.355 1517.04 696.411 1521.65 Q699.49 1526.23 699.49 1534.98 Q699.49 1543.71 696.411 1548.31 Q693.355 1552.9 687.545 1552.9 Q681.735 1552.9 678.656 1548.31 Q675.601 1543.71 675.601 1534.98 Q675.601 1526.23 678.656 1521.65 Q681.735 1517.04 687.545 1517.04 Z\" fill=\"#000000\" fill-rule=\"evenodd\" fill-opacity=\"1\" /><path clip-path=\"url(#clip680)\" d=\"M699.49 1511.14 L723.601 1511.14 L723.601 1514.34 L699.49 1514.34 L699.49 1511.14 Z\" fill=\"#000000\" fill-rule=\"evenodd\" fill-opacity=\"1\" /><path clip-path=\"url(#clip680)\" d=\"M743.312 1509.67 Q746.039 1510.26 747.562 1512.1 Q749.105 1513.94 749.105 1516.65 Q749.105 1520.81 746.246 1523.08 Q743.387 1525.36 738.121 1525.36 Q736.353 1525.36 734.472 1525 Q732.61 1524.66 730.617 1523.97 L730.617 1520.3 Q732.196 1521.22 734.077 1521.69 Q735.958 1522.16 738.008 1522.16 Q741.581 1522.16 743.443 1520.75 Q745.324 1519.34 745.324 1516.65 Q745.324 1514.17 743.575 1512.78 Q741.845 1511.37 738.741 1511.37 L735.469 1511.37 L735.469 1508.24 L738.892 1508.24 Q741.694 1508.24 743.18 1507.13 Q744.666 1506.01 744.666 1503.9 Q744.666 1501.74 743.124 1500.59 Q741.6 1499.42 738.741 1499.42 Q737.18 1499.42 735.394 1499.76 Q733.607 1500.1 731.463 1500.82 L731.463 1497.43 Q733.626 1496.83 735.507 1496.53 Q737.406 1496.23 739.08 1496.23 Q743.406 1496.23 745.926 1498.2 Q748.446 1500.16 748.446 1503.51 Q748.446 1505.84 747.111 1507.45 Q745.776 1509.05 743.312 1509.67 Z\" fill=\"#000000\" fill-rule=\"evenodd\" fill-opacity=\"1\" /><path clip-path=\"url(#clip680)\" d=\"M1063.18 1548.29 L1070.82 1548.29 L1070.82 1521.92 L1062.51 1523.59 L1062.51 1519.33 L1070.77 1517.66 L1075.45 1517.66 L1075.45 1548.29 L1083.09 1548.29 L1083.09 1552.22 L1063.18 1552.22 L1063.18 1548.29 Z\" fill=\"#000000\" fill-rule=\"evenodd\" fill-opacity=\"1\" /><path clip-path=\"url(#clip680)\" d=\"M1102.53 1520.74 Q1098.92 1520.74 1097.09 1524.31 Q1095.29 1527.85 1095.29 1534.98 Q1095.29 1542.09 1097.09 1545.65 Q1098.92 1549.19 1102.53 1549.19 Q1106.17 1549.19 1107.97 1545.65 Q1109.8 1542.09 1109.8 1534.98 Q1109.8 1527.85 1107.97 1524.31 Q1106.17 1520.74 1102.53 1520.74 M1102.53 1517.04 Q1108.34 1517.04 1111.4 1521.65 Q1114.48 1526.23 1114.48 1534.98 Q1114.48 1543.71 1111.4 1548.31 Q1108.34 1552.9 1102.53 1552.9 Q1096.72 1552.9 1093.64 1548.31 Q1090.59 1543.71 1090.59 1534.98 Q1090.59 1526.23 1093.64 1521.65 Q1096.72 1517.04 1102.53 1517.04 Z\" fill=\"#000000\" fill-rule=\"evenodd\" fill-opacity=\"1\" /><path clip-path=\"url(#clip680)\" d=\"M1114.48 1511.14 L1138.59 1511.14 L1138.59 1514.34 L1114.48 1514.34 L1114.48 1511.14 Z\" fill=\"#000000\" fill-rule=\"evenodd\" fill-opacity=\"1\" /><path clip-path=\"url(#clip680)\" d=\"M1150.06 1521.62 L1163.32 1521.62 L1163.32 1524.81 L1145.49 1524.81 L1145.49 1521.62 Q1147.65 1519.38 1151.38 1515.62 Q1155.12 1511.84 1156.08 1510.75 Q1157.9 1508.7 1158.62 1507.29 Q1159.35 1505.86 1159.35 1504.48 Q1159.35 1502.24 1157.77 1500.83 Q1156.21 1499.42 1153.69 1499.42 Q1151.9 1499.42 1149.91 1500.04 Q1147.93 1500.67 1145.68 1501.93 L1145.68 1498.09 Q1147.97 1497.17 1149.97 1496.7 Q1151.96 1496.23 1153.61 1496.23 Q1157.98 1496.23 1160.57 1498.41 Q1163.17 1500.59 1163.17 1504.24 Q1163.17 1505.97 1162.51 1507.53 Q1161.87 1509.07 1160.16 1511.18 Q1159.69 1511.72 1157.17 1514.34 Q1154.65 1516.93 1150.06 1521.62 Z\" fill=\"#000000\" fill-rule=\"evenodd\" fill-opacity=\"1\" /><path clip-path=\"url(#clip680)\" d=\"M1477.63 1548.29 L1485.27 1548.29 L1485.27 1521.92 L1476.96 1523.59 L1476.96 1519.33 L1485.22 1517.66 L1489.9 1517.66 L1489.9 1548.29 L1497.54 1548.29 L1497.54 1552.22 L1477.63 1552.22 L1477.63 1548.29 Z\" fill=\"#000000\" fill-rule=\"evenodd\" fill-opacity=\"1\" /><path clip-path=\"url(#clip680)\" d=\"M1516.98 1520.74 Q1513.37 1520.74 1511.54 1524.31 Q1509.74 1527.85 1509.74 1534.98 Q1509.74 1542.09 1511.54 1545.65 Q1513.37 1549.19 1516.98 1549.19 Q1520.62 1549.19 1522.42 1545.65 Q1524.25 1542.09 1524.25 1534.98 Q1524.25 1527.85 1522.42 1524.31 Q1520.62 1520.74 1516.98 1520.74 M1516.98 1517.04 Q1522.79 1517.04 1525.85 1521.65 Q1528.93 1526.23 1528.93 1534.98 Q1528.93 1543.71 1525.85 1548.31 Q1522.79 1552.9 1516.98 1552.9 Q1511.17 1552.9 1508.09 1548.31 Q1505.04 1543.71 1505.04 1534.98 Q1505.04 1526.23 1508.09 1521.65 Q1511.17 1517.04 1516.98 1517.04 Z\" fill=\"#000000\" fill-rule=\"evenodd\" fill-opacity=\"1\" /><path clip-path=\"url(#clip680)\" d=\"M1528.93 1511.14 L1553.04 1511.14 L1553.04 1514.34 L1528.93 1514.34 L1528.93 1511.14 Z\" fill=\"#000000\" fill-rule=\"evenodd\" fill-opacity=\"1\" /><path clip-path=\"url(#clip680)\" d=\"M1561.9 1521.62 L1568.1 1521.62 L1568.1 1500.19 L1561.35 1501.55 L1561.35 1498.09 L1568.06 1496.73 L1571.86 1496.73 L1571.86 1521.62 L1578.07 1521.62 L1578.07 1524.81 L1561.9 1524.81 L1561.9 1521.62 Z\" fill=\"#000000\" fill-rule=\"evenodd\" fill-opacity=\"1\" /><path clip-path=\"url(#clip680)\" d=\"M1907.1 1548.29 L1914.74 1548.29 L1914.74 1521.92 L1906.43 1523.59 L1906.43 1519.33 L1914.69 1517.66 L1919.37 1517.66 L1919.37 1548.29 L1927 1548.29 L1927 1552.22 L1907.1 1552.22 L1907.1 1548.29 Z\" fill=\"#000000\" fill-rule=\"evenodd\" fill-opacity=\"1\" /><path clip-path=\"url(#clip680)\" d=\"M1946.45 1520.74 Q1942.84 1520.74 1941.01 1524.31 Q1939.2 1527.85 1939.2 1534.98 Q1939.2 1542.09 1941.01 1545.65 Q1942.84 1549.19 1946.45 1549.19 Q1950.08 1549.19 1951.89 1545.65 Q1953.72 1542.09 1953.72 1534.98 Q1953.72 1527.85 1951.89 1524.31 Q1950.08 1520.74 1946.45 1520.74 M1946.45 1517.04 Q1952.26 1517.04 1955.31 1521.65 Q1958.39 1526.23 1958.39 1534.98 Q1958.39 1543.71 1955.31 1548.31 Q1952.26 1552.9 1946.45 1552.9 Q1940.64 1552.9 1937.56 1548.31 Q1934.5 1543.71 1934.5 1534.98 Q1934.5 1526.23 1937.56 1521.65 Q1940.64 1517.04 1946.45 1517.04 Z\" fill=\"#000000\" fill-rule=\"evenodd\" fill-opacity=\"1\" /><path clip-path=\"url(#clip680)\" d=\"M1968.1 1499.24 Q1965.16 1499.24 1963.68 1502.13 Q1962.21 1505.01 1962.21 1510.8 Q1962.21 1516.58 1963.68 1519.47 Q1965.16 1522.35 1968.1 1522.35 Q1971.05 1522.35 1972.52 1519.47 Q1974 1516.58 1974 1510.8 Q1974 1505.01 1972.52 1502.13 Q1971.05 1499.24 1968.1 1499.24 M1968.1 1496.23 Q1972.82 1496.23 1975.3 1499.97 Q1977.8 1503.69 1977.8 1510.8 Q1977.8 1517.89 1975.3 1521.64 Q1972.82 1525.36 1968.1 1525.36 Q1963.38 1525.36 1960.88 1521.64 Q1958.39 1517.89 1958.39 1510.8 Q1958.39 1503.69 1960.88 1499.97 Q1963.38 1496.23 1968.1 1496.23 Z\" fill=\"#000000\" fill-rule=\"evenodd\" fill-opacity=\"1\" /><polyline clip-path=\"url(#clip682)\" style=\"stroke:#000000; stroke-linecap:butt; stroke-linejoin:round; stroke-width:2; stroke-opacity:0.1; fill:none\" points=\"\n",
       "  223.45,1368.24 2352.76,1368.24 \n",
       "  \"/>\n",
       "<polyline clip-path=\"url(#clip682)\" style=\"stroke:#000000; stroke-linecap:butt; stroke-linejoin:round; stroke-width:2; stroke-opacity:0.1; fill:none\" points=\"\n",
       "  223.45,1027.97 2352.76,1027.97 \n",
       "  \"/>\n",
       "<polyline clip-path=\"url(#clip682)\" style=\"stroke:#000000; stroke-linecap:butt; stroke-linejoin:round; stroke-width:2; stroke-opacity:0.1; fill:none\" points=\"\n",
       "  223.45,687.698 2352.76,687.698 \n",
       "  \"/>\n",
       "<polyline clip-path=\"url(#clip682)\" style=\"stroke:#000000; stroke-linecap:butt; stroke-linejoin:round; stroke-width:2; stroke-opacity:0.1; fill:none\" points=\"\n",
       "  223.45,347.428 2352.76,347.428 \n",
       "  \"/>\n",
       "<polyline clip-path=\"url(#clip680)\" style=\"stroke:#000000; stroke-linecap:butt; stroke-linejoin:round; stroke-width:4; stroke-opacity:1; fill:none\" points=\"\n",
       "  223.45,1474.16 223.45,47.2441 \n",
       "  \"/>\n",
       "<polyline clip-path=\"url(#clip680)\" style=\"stroke:#000000; stroke-linecap:butt; stroke-linejoin:round; stroke-width:4; stroke-opacity:1; fill:none\" points=\"\n",
       "  223.45,1368.24 242.347,1368.24 \n",
       "  \"/>\n",
       "<polyline clip-path=\"url(#clip680)\" style=\"stroke:#000000; stroke-linecap:butt; stroke-linejoin:round; stroke-width:4; stroke-opacity:1; fill:none\" points=\"\n",
       "  223.45,1027.97 242.347,1027.97 \n",
       "  \"/>\n",
       "<polyline clip-path=\"url(#clip680)\" style=\"stroke:#000000; stroke-linecap:butt; stroke-linejoin:round; stroke-width:4; stroke-opacity:1; fill:none\" points=\"\n",
       "  223.45,687.698 242.347,687.698 \n",
       "  \"/>\n",
       "<polyline clip-path=\"url(#clip680)\" style=\"stroke:#000000; stroke-linecap:butt; stroke-linejoin:round; stroke-width:4; stroke-opacity:1; fill:none\" points=\"\n",
       "  223.45,347.428 242.347,347.428 \n",
       "  \"/>\n",
       "<path clip-path=\"url(#clip680)\" d=\"M50.9921 1368.69 L80.6679 1368.69 L80.6679 1372.62 L50.9921 1372.62 L50.9921 1368.69 Z\" fill=\"#000000\" fill-rule=\"evenodd\" fill-opacity=\"1\" /><path clip-path=\"url(#clip680)\" d=\"M100.76 1354.04 Q97.1493 1354.04 95.3206 1357.6 Q93.515 1361.14 93.515 1368.27 Q93.515 1375.38 95.3206 1378.94 Q97.1493 1382.49 100.76 1382.49 Q104.395 1382.49 106.2 1378.94 Q108.029 1375.38 108.029 1368.27 Q108.029 1361.14 106.2 1357.6 Q104.395 1354.04 100.76 1354.04 M100.76 1350.33 Q106.571 1350.33 109.626 1354.94 Q112.705 1359.52 112.705 1368.27 Q112.705 1377 109.626 1381.61 Q106.571 1386.19 100.76 1386.19 Q94.9502 1386.19 91.8715 1381.61 Q88.816 1377 88.816 1368.27 Q88.816 1359.52 91.8715 1354.94 Q94.9502 1350.33 100.76 1350.33 Z\" fill=\"#000000\" fill-rule=\"evenodd\" fill-opacity=\"1\" /><path clip-path=\"url(#clip680)\" d=\"M120.922 1379.64 L125.807 1379.64 L125.807 1385.52 L120.922 1385.52 L120.922 1379.64 Z\" fill=\"#000000\" fill-rule=\"evenodd\" fill-opacity=\"1\" /><path clip-path=\"url(#clip680)\" d=\"M145.992 1354.04 Q142.381 1354.04 140.552 1357.6 Q138.746 1361.14 138.746 1368.27 Q138.746 1375.38 140.552 1378.94 Q142.381 1382.49 145.992 1382.49 Q149.626 1382.49 151.431 1378.94 Q153.26 1375.38 153.26 1368.27 Q153.26 1361.14 151.431 1357.6 Q149.626 1354.04 145.992 1354.04 M145.992 1350.33 Q151.802 1350.33 154.857 1354.94 Q157.936 1359.52 157.936 1368.27 Q157.936 1377 154.857 1381.61 Q151.802 1386.19 145.992 1386.19 Q140.181 1386.19 137.103 1381.61 Q134.047 1377 134.047 1368.27 Q134.047 1359.52 137.103 1354.94 Q140.181 1350.33 145.992 1350.33 Z\" fill=\"#000000\" fill-rule=\"evenodd\" fill-opacity=\"1\" /><path clip-path=\"url(#clip680)\" d=\"M180.32 1366.88 Q183.677 1367.6 185.552 1369.87 Q187.45 1372.14 187.45 1375.47 Q187.45 1380.59 183.931 1383.39 Q180.413 1386.19 173.931 1386.19 Q171.755 1386.19 169.441 1385.75 Q167.149 1385.33 164.695 1384.48 L164.695 1379.96 Q166.64 1381.1 168.954 1381.68 Q171.269 1382.25 173.792 1382.25 Q178.191 1382.25 180.482 1380.52 Q182.797 1378.78 182.797 1375.47 Q182.797 1372.42 180.644 1370.7 Q178.515 1368.97 174.695 1368.97 L170.667 1368.97 L170.667 1365.12 L174.88 1365.12 Q178.329 1365.12 180.158 1363.76 Q181.987 1362.37 181.987 1359.78 Q181.987 1357.11 180.089 1355.7 Q178.214 1354.27 174.695 1354.27 Q172.774 1354.27 170.575 1354.68 Q168.376 1355.1 165.737 1355.98 L165.737 1351.81 Q168.399 1351.07 170.714 1350.7 Q173.052 1350.33 175.112 1350.33 Q180.436 1350.33 183.538 1352.76 Q186.64 1355.17 186.64 1359.29 Q186.64 1362.16 184.996 1364.15 Q183.353 1366.12 180.32 1366.88 Z\" fill=\"#000000\" fill-rule=\"evenodd\" fill-opacity=\"1\" /><path clip-path=\"url(#clip680)\" d=\"M51.9412 1028.42 L81.617 1028.42 L81.617 1032.35 L51.9412 1032.35 L51.9412 1028.42 Z\" fill=\"#000000\" fill-rule=\"evenodd\" fill-opacity=\"1\" /><path clip-path=\"url(#clip680)\" d=\"M101.709 1013.77 Q98.0984 1013.77 96.2697 1017.33 Q94.4641 1020.87 94.4641 1028 Q94.4641 1035.11 96.2697 1038.67 Q98.0984 1042.22 101.709 1042.22 Q105.344 1042.22 107.149 1038.67 Q108.978 1035.11 108.978 1028 Q108.978 1020.87 107.149 1017.33 Q105.344 1013.77 101.709 1013.77 M101.709 1010.06 Q107.52 1010.06 110.575 1014.67 Q113.654 1019.25 113.654 1028 Q113.654 1036.73 110.575 1041.34 Q107.52 1045.92 101.709 1045.92 Q95.8993 1045.92 92.8206 1041.34 Q89.7651 1036.73 89.7651 1028 Q89.7651 1019.25 92.8206 1014.67 Q95.8993 1010.06 101.709 1010.06 Z\" fill=\"#000000\" fill-rule=\"evenodd\" fill-opacity=\"1\" /><path clip-path=\"url(#clip680)\" d=\"M121.871 1039.37 L126.756 1039.37 L126.756 1045.25 L121.871 1045.25 L121.871 1039.37 Z\" fill=\"#000000\" fill-rule=\"evenodd\" fill-opacity=\"1\" /><path clip-path=\"url(#clip680)\" d=\"M146.941 1013.77 Q143.33 1013.77 141.501 1017.33 Q139.695 1020.87 139.695 1028 Q139.695 1035.11 141.501 1038.67 Q143.33 1042.22 146.941 1042.22 Q150.575 1042.22 152.38 1038.67 Q154.209 1035.11 154.209 1028 Q154.209 1020.87 152.38 1017.33 Q150.575 1013.77 146.941 1013.77 M146.941 1010.06 Q152.751 1010.06 155.806 1014.67 Q158.885 1019.25 158.885 1028 Q158.885 1036.73 155.806 1041.34 Q152.751 1045.92 146.941 1045.92 Q141.131 1045.92 138.052 1041.34 Q134.996 1036.73 134.996 1028 Q134.996 1019.25 138.052 1014.67 Q141.131 1010.06 146.941 1010.06 Z\" fill=\"#000000\" fill-rule=\"evenodd\" fill-opacity=\"1\" /><path clip-path=\"url(#clip680)\" d=\"M171.13 1041.31 L187.45 1041.31 L187.45 1045.25 L165.505 1045.25 L165.505 1041.31 Q168.167 1038.56 172.751 1033.93 Q177.357 1029.28 178.538 1027.93 Q180.783 1025.41 181.663 1023.67 Q182.565 1021.91 182.565 1020.22 Q182.565 1017.47 180.621 1015.73 Q178.7 1014 175.598 1014 Q173.399 1014 170.945 1014.76 Q168.515 1015.53 165.737 1017.08 L165.737 1012.35 Q168.561 1011.22 171.015 1010.64 Q173.468 1010.06 175.505 1010.06 Q180.876 1010.06 184.07 1012.75 Q187.265 1015.43 187.265 1019.92 Q187.265 1022.05 186.454 1023.97 Q185.667 1025.87 183.561 1028.47 Q182.982 1029.14 179.88 1032.35 Q176.778 1035.55 171.13 1041.31 Z\" fill=\"#000000\" fill-rule=\"evenodd\" fill-opacity=\"1\" /><path clip-path=\"url(#clip680)\" d=\"M51.5708 688.149 L81.2466 688.149 L81.2466 692.084 L51.5708 692.084 L51.5708 688.149 Z\" fill=\"#000000\" fill-rule=\"evenodd\" fill-opacity=\"1\" /><path clip-path=\"url(#clip680)\" d=\"M101.339 673.496 Q97.728 673.496 95.8993 677.061 Q94.0937 680.603 94.0937 687.732 Q94.0937 694.839 95.8993 698.404 Q97.728 701.945 101.339 701.945 Q104.973 701.945 106.779 698.404 Q108.608 694.839 108.608 687.732 Q108.608 680.603 106.779 677.061 Q104.973 673.496 101.339 673.496 M101.339 669.793 Q107.149 669.793 110.205 674.399 Q113.283 678.982 113.283 687.732 Q113.283 696.459 110.205 701.066 Q107.149 705.649 101.339 705.649 Q95.5289 705.649 92.4502 701.066 Q89.3947 696.459 89.3947 687.732 Q89.3947 678.982 92.4502 674.399 Q95.5289 669.793 101.339 669.793 Z\" fill=\"#000000\" fill-rule=\"evenodd\" fill-opacity=\"1\" /><path clip-path=\"url(#clip680)\" d=\"M121.501 699.098 L126.385 699.098 L126.385 704.978 L121.501 704.978 L121.501 699.098 Z\" fill=\"#000000\" fill-rule=\"evenodd\" fill-opacity=\"1\" /><path clip-path=\"url(#clip680)\" d=\"M146.57 673.496 Q142.959 673.496 141.131 677.061 Q139.325 680.603 139.325 687.732 Q139.325 694.839 141.131 698.404 Q142.959 701.945 146.57 701.945 Q150.205 701.945 152.01 698.404 Q153.839 694.839 153.839 687.732 Q153.839 680.603 152.01 677.061 Q150.205 673.496 146.57 673.496 M146.57 669.793 Q152.38 669.793 155.436 674.399 Q158.515 678.982 158.515 687.732 Q158.515 696.459 155.436 701.066 Q152.38 705.649 146.57 705.649 Q140.76 705.649 137.681 701.066 Q134.626 696.459 134.626 687.732 Q134.626 678.982 137.681 674.399 Q140.76 669.793 146.57 669.793 Z\" fill=\"#000000\" fill-rule=\"evenodd\" fill-opacity=\"1\" /><path clip-path=\"url(#clip680)\" d=\"M167.542 701.042 L175.181 701.042 L175.181 674.677 L166.871 676.343 L166.871 672.084 L175.135 670.418 L179.811 670.418 L179.811 701.042 L187.45 701.042 L187.45 704.978 L167.542 704.978 L167.542 701.042 Z\" fill=\"#000000\" fill-rule=\"evenodd\" fill-opacity=\"1\" /><path clip-path=\"url(#clip680)\" d=\"M100.112 333.226 Q96.5011 333.226 94.6724 336.791 Q92.8669 340.333 92.8669 347.462 Q92.8669 354.569 94.6724 358.134 Q96.5011 361.675 100.112 361.675 Q103.746 361.675 105.552 358.134 Q107.381 354.569 107.381 347.462 Q107.381 340.333 105.552 336.791 Q103.746 333.226 100.112 333.226 M100.112 329.523 Q105.922 329.523 108.978 334.129 Q112.057 338.712 112.057 347.462 Q112.057 356.189 108.978 360.796 Q105.922 365.379 100.112 365.379 Q94.3021 365.379 91.2234 360.796 Q88.1679 356.189 88.1679 347.462 Q88.1679 338.712 91.2234 334.129 Q94.3021 329.523 100.112 329.523 Z\" fill=\"#000000\" fill-rule=\"evenodd\" fill-opacity=\"1\" /><path clip-path=\"url(#clip680)\" d=\"M120.274 358.828 L125.158 358.828 L125.158 364.708 L120.274 364.708 L120.274 358.828 Z\" fill=\"#000000\" fill-rule=\"evenodd\" fill-opacity=\"1\" /><path clip-path=\"url(#clip680)\" d=\"M145.343 333.226 Q141.732 333.226 139.904 336.791 Q138.098 340.333 138.098 347.462 Q138.098 354.569 139.904 358.134 Q141.732 361.675 145.343 361.675 Q148.978 361.675 150.783 358.134 Q152.612 354.569 152.612 347.462 Q152.612 340.333 150.783 336.791 Q148.978 333.226 145.343 333.226 M145.343 329.523 Q151.154 329.523 154.209 334.129 Q157.288 338.712 157.288 347.462 Q157.288 356.189 154.209 360.796 Q151.154 365.379 145.343 365.379 Q139.533 365.379 136.455 360.796 Q133.399 356.189 133.399 347.462 Q133.399 338.712 136.455 334.129 Q139.533 329.523 145.343 329.523 Z\" fill=\"#000000\" fill-rule=\"evenodd\" fill-opacity=\"1\" /><path clip-path=\"url(#clip680)\" d=\"M175.505 333.226 Q171.894 333.226 170.066 336.791 Q168.26 340.333 168.26 347.462 Q168.26 354.569 170.066 358.134 Q171.894 361.675 175.505 361.675 Q179.14 361.675 180.945 358.134 Q182.774 354.569 182.774 347.462 Q182.774 340.333 180.945 336.791 Q179.14 333.226 175.505 333.226 M175.505 329.523 Q181.316 329.523 184.371 334.129 Q187.45 338.712 187.45 347.462 Q187.45 356.189 184.371 360.796 Q181.316 365.379 175.505 365.379 Q169.695 365.379 166.617 360.796 Q163.561 356.189 163.561 347.462 Q163.561 338.712 166.617 334.129 Q169.695 329.523 175.505 329.523 Z\" fill=\"#000000\" fill-rule=\"evenodd\" fill-opacity=\"1\" /><polyline clip-path=\"url(#clip682)\" style=\"stroke:#009af9; stroke-linecap:butt; stroke-linejoin:round; stroke-width:4; stroke-opacity:1; fill:none\" points=\"\n",
       "  283.713,391.35 335.22,345.747 386.727,341.434 438.235,357.391 489.742,342.37 541.249,353.134 592.756,373.645 644.263,340.682 695.77,347.508 747.278,357.789 \n",
       "  798.785,345.388 850.292,419.74 901.799,364.757 953.306,828.995 1004.81,168.165 1056.32,356.021 1107.83,356.643 1159.33,366.811 1210.84,255.293 1262.35,482.489 \n",
       "  1313.86,351.221 1365.36,344.769 1416.87,455.206 1468.38,239.092 1519.89,389.1 1571.39,368.748 1622.9,178.289 1674.41,296.176 1725.91,87.6286 1777.42,327.706 \n",
       "  1828.93,378.833 1880.44,341.721 1931.94,383.988 1983.45,320.684 2034.96,344.196 2086.46,1433.78 2137.97,348.331 2189.48,355.735 2240.99,420.48 2292.49,635.804 \n",
       "  \n",
       "  \"/>\n",
       "<path clip-path=\"url(#clip680)\" d=\"\n",
       "M1732.92 198.488 L2281.78 198.488 L2281.78 94.8081 L1732.92 94.8081  Z\n",
       "  \" fill=\"#ffffff\" fill-rule=\"evenodd\" fill-opacity=\"1\"/>\n",
       "<polyline clip-path=\"url(#clip680)\" style=\"stroke:#000000; stroke-linecap:butt; stroke-linejoin:round; stroke-width:4; stroke-opacity:1; fill:none\" points=\"\n",
       "  1732.92,198.488 2281.78,198.488 2281.78,94.8081 1732.92,94.8081 1732.92,198.488 \n",
       "  \"/>\n",
       "<polyline clip-path=\"url(#clip680)\" style=\"stroke:#009af9; stroke-linecap:butt; stroke-linejoin:round; stroke-width:4; stroke-opacity:1; fill:none\" points=\"\n",
       "  1756.58,146.648 1898.54,146.648 \n",
       "  \"/>\n",
       "<path clip-path=\"url(#clip680)\" d=\"M1932.82 127.956 Q1929.72 133.28 1928.21 138.488 Q1926.71 143.697 1926.71 149.044 Q1926.71 154.391 1928.21 159.646 Q1929.74 164.877 1932.82 170.178 L1929.12 170.178 Q1925.64 164.738 1923.91 159.484 Q1922.19 154.229 1922.19 149.044 Q1922.19 143.882 1923.91 138.65 Q1925.62 133.419 1929.12 127.956 L1932.82 127.956 Z\" fill=\"#000000\" fill-rule=\"evenodd\" fill-opacity=\"1\" /><path clip-path=\"url(#clip680)\" d=\"M1956.11 141.984 Q1955.39 141.567 1954.53 141.382 Q1953.7 141.174 1952.68 141.174 Q1949.07 141.174 1947.12 143.535 Q1945.2 145.873 1945.2 150.271 L1945.2 163.928 L1940.92 163.928 L1940.92 138.002 L1945.2 138.002 L1945.2 142.03 Q1946.55 139.669 1948.7 138.535 Q1950.85 137.377 1953.93 137.377 Q1954.37 137.377 1954.9 137.447 Q1955.43 137.493 1956.08 137.609 L1956.11 141.984 Z\" fill=\"#000000\" fill-rule=\"evenodd\" fill-opacity=\"1\" /><path clip-path=\"url(#clip680)\" d=\"M1981.71 149.9 L1981.71 151.984 L1962.12 151.984 Q1962.4 156.382 1964.76 158.697 Q1967.15 160.988 1971.38 160.988 Q1973.84 160.988 1976.13 160.386 Q1978.44 159.785 1980.71 158.581 L1980.71 162.609 Q1978.42 163.581 1976.01 164.09 Q1973.61 164.599 1971.13 164.599 Q1964.93 164.599 1961.29 160.988 Q1957.68 157.377 1957.68 151.22 Q1957.68 144.854 1961.11 141.127 Q1964.56 137.377 1970.39 137.377 Q1975.62 137.377 1978.65 140.757 Q1981.71 144.113 1981.71 149.9 M1977.45 148.65 Q1977.4 145.155 1975.48 143.072 Q1973.58 140.988 1970.43 140.988 Q1966.87 140.988 1964.72 143.002 Q1962.59 145.016 1962.26 148.674 L1977.45 148.65 Z\" fill=\"#000000\" fill-rule=\"evenodd\" fill-opacity=\"1\" /><path clip-path=\"url(#clip680)\" d=\"M2001.82 127.91 L2001.82 131.451 L1997.75 131.451 Q1995.46 131.451 1994.55 132.377 Q1993.68 133.303 1993.68 135.711 L1993.68 138.002 L2000.69 138.002 L2000.69 141.312 L1993.68 141.312 L1993.68 163.928 L1989.39 163.928 L1989.39 141.312 L1985.32 141.312 L1985.32 138.002 L1989.39 138.002 L1989.39 136.197 Q1989.39 131.868 1991.41 129.901 Q1993.42 127.91 1997.8 127.91 L2001.82 127.91 Z\" fill=\"#000000\" fill-rule=\"evenodd\" fill-opacity=\"1\" /><path clip-path=\"url(#clip680)\" d=\"M2000.64 149.044 L2013.12 149.044 L2013.12 152.84 L2000.64 152.84 L2000.64 149.044 Z\" fill=\"#000000\" fill-rule=\"evenodd\" fill-opacity=\"1\" /><path clip-path=\"url(#clip680)\" d=\"M2020.09 129.368 L2041.94 129.368 L2041.94 133.303 L2024.76 133.303 L2024.76 143.535 L2041.22 143.535 L2041.22 147.47 L2024.76 147.47 L2024.76 159.993 L2042.36 159.993 L2042.36 163.928 L2020.09 163.928 L2020.09 129.368 Z\" fill=\"#000000\" fill-rule=\"evenodd\" fill-opacity=\"1\" /><path clip-path=\"url(#clip680)\" d=\"M2070.04 142.979 Q2071.64 140.109 2073.86 138.743 Q2076.08 137.377 2079.09 137.377 Q2083.14 137.377 2085.34 140.225 Q2087.54 143.049 2087.54 148.28 L2087.54 163.928 L2083.26 163.928 L2083.26 148.419 Q2083.26 144.692 2081.94 142.887 Q2080.62 141.081 2077.91 141.081 Q2074.6 141.081 2072.68 143.28 Q2070.76 145.479 2070.76 149.275 L2070.76 163.928 L2066.48 163.928 L2066.48 148.419 Q2066.48 144.669 2065.16 142.887 Q2063.84 141.081 2061.08 141.081 Q2057.82 141.081 2055.9 143.303 Q2053.98 145.502 2053.98 149.275 L2053.98 163.928 L2049.69 163.928 L2049.69 138.002 L2053.98 138.002 L2053.98 142.03 Q2055.43 139.646 2057.47 138.512 Q2059.51 137.377 2062.31 137.377 Q2065.13 137.377 2067.1 138.813 Q2069.09 140.248 2070.04 142.979 Z\" fill=\"#000000\" fill-rule=\"evenodd\" fill-opacity=\"1\" /><path clip-path=\"url(#clip680)\" d=\"M2095.6 153.697 L2095.6 138.002 L2099.86 138.002 L2099.86 153.535 Q2099.86 157.215 2101.29 159.067 Q2102.73 160.896 2105.6 160.896 Q2109.05 160.896 2111.04 158.697 Q2113.05 156.498 2113.05 152.701 L2113.05 138.002 L2117.31 138.002 L2117.31 163.928 L2113.05 163.928 L2113.05 159.947 Q2111.5 162.308 2109.44 163.465 Q2107.4 164.599 2104.69 164.599 Q2100.23 164.599 2097.91 161.822 Q2095.6 159.044 2095.6 153.697 M2106.31 137.377 L2106.31 137.377 Z\" fill=\"#000000\" fill-rule=\"evenodd\" fill-opacity=\"1\" /><path clip-path=\"url(#clip680)\" d=\"M2126.08 127.91 L2130.34 127.91 L2130.34 163.928 L2126.08 163.928 L2126.08 127.91 Z\" fill=\"#000000\" fill-rule=\"evenodd\" fill-opacity=\"1\" /><path clip-path=\"url(#clip680)\" d=\"M2138.58 127.956 L2142.29 127.956 Q2145.76 133.419 2147.47 138.65 Q2149.21 143.882 2149.21 149.044 Q2149.21 154.229 2147.47 159.484 Q2145.76 164.738 2142.29 170.178 L2138.58 170.178 Q2141.66 164.877 2143.17 159.646 Q2144.69 154.391 2144.69 149.044 Q2144.69 143.697 2143.17 138.488 Q2141.66 133.28 2138.58 127.956 Z\" fill=\"#000000\" fill-rule=\"evenodd\" fill-opacity=\"1\" /><path clip-path=\"url(#clip680)\" d=\"M2165.32 129.368 L2169.25 129.368 L2157.22 168.326 L2153.28 168.326 L2165.32 129.368 Z\" fill=\"#000000\" fill-rule=\"evenodd\" fill-opacity=\"1\" /><path clip-path=\"url(#clip680)\" d=\"M2188.74 141.984 Q2188.03 141.567 2187.17 141.382 Q2186.34 141.174 2185.32 141.174 Q2181.71 141.174 2179.76 143.535 Q2177.84 145.873 2177.84 150.271 L2177.84 163.928 L2173.56 163.928 L2173.56 138.002 L2177.84 138.002 L2177.84 142.03 Q2179.18 139.669 2181.34 138.535 Q2183.49 137.377 2186.57 137.377 Q2187.01 137.377 2187.54 137.447 Q2188.07 137.493 2188.72 137.609 L2188.74 141.984 Z\" fill=\"#000000\" fill-rule=\"evenodd\" fill-opacity=\"1\" /><path clip-path=\"url(#clip680)\" d=\"M2214.35 149.9 L2214.35 151.984 L2194.76 151.984 Q2195.04 156.382 2197.4 158.697 Q2199.79 160.988 2204.02 160.988 Q2206.48 160.988 2208.77 160.386 Q2211.08 159.785 2213.35 158.581 L2213.35 162.609 Q2211.06 163.581 2208.65 164.09 Q2206.24 164.599 2203.77 164.599 Q2197.56 164.599 2193.93 160.988 Q2190.32 157.377 2190.32 151.22 Q2190.32 144.854 2193.74 141.127 Q2197.19 137.377 2203.03 137.377 Q2208.26 137.377 2211.29 140.757 Q2214.35 144.113 2214.35 149.9 M2210.09 148.65 Q2210.04 145.155 2208.12 143.072 Q2206.22 140.988 2203.07 140.988 Q2199.51 140.988 2197.35 143.002 Q2195.23 145.016 2194.9 148.674 L2210.09 148.65 Z\" fill=\"#000000\" fill-rule=\"evenodd\" fill-opacity=\"1\" /><path clip-path=\"url(#clip680)\" d=\"M2234.46 127.91 L2234.46 131.451 L2230.39 131.451 Q2228.1 131.451 2227.19 132.377 Q2226.31 133.303 2226.31 135.711 L2226.31 138.002 L2233.33 138.002 L2233.33 141.312 L2226.31 141.312 L2226.31 163.928 L2222.03 163.928 L2222.03 141.312 L2217.96 141.312 L2217.96 138.002 L2222.03 138.002 L2222.03 136.197 Q2222.03 131.868 2224.04 129.901 Q2226.06 127.91 2230.43 127.91 L2234.46 127.91 Z\" fill=\"#000000\" fill-rule=\"evenodd\" fill-opacity=\"1\" /></svg>\n"
      ]
     },
     "execution_count": 15,
     "metadata": {},
     "output_type": "execute_result"
    }
   ],
   "source": [
    "plot(k_arr, (ref-Pk_emul)./ref, xaxis=:log, label=\"(ref-Emul)/ref\")"
   ]
  },
  {
   "cell_type": "code",
   "execution_count": 16,
   "id": "2e32da8f",
   "metadata": {},
   "outputs": [
    {
     "ename": "LoadError",
     "evalue": "UndefVarError: Pk_EisHu not defined",
     "output_type": "error",
     "traceback": [
      "UndefVarError: Pk_EisHu not defined",
      "",
      "Stacktrace:",
      " [1] top-level scope",
      "   @ In[16]:1",
      " [2] eval",
      "   @ ./boot.jl:373 [inlined]",
      " [3] include_string(mapexpr::typeof(REPL.softscope), mod::Module, code::String, filename::String)",
      "   @ Base ./loading.jl:1196"
     ]
    }
   ],
   "source": [
    "plot(k_arr, (ref-Pk_EisHu)./ref, xaxis=:log, label=\"(ref-EisHu)/ref\")"
   ]
  },
  {
   "cell_type": "code",
   "execution_count": null,
   "id": "67d25d00",
   "metadata": {},
   "outputs": [],
   "source": []
  }
 ],
 "metadata": {
  "kernelspec": {
   "display_name": "Julia 1.7.0",
   "language": "julia",
   "name": "julia-1.7"
  },
  "language_info": {
   "file_extension": ".jl",
   "mimetype": "application/julia",
   "name": "julia",
   "version": "1.7.0"
  }
 },
 "nbformat": 4,
 "nbformat_minor": 5
}
