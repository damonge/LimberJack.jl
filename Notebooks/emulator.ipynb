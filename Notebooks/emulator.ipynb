{
 "cells": [
  {
   "cell_type": "code",
   "execution_count": 1,
   "id": "41a6f44e",
   "metadata": {},
   "outputs": [
    {
     "ename": "LoadError",
     "evalue": "InterruptException:",
     "output_type": "error",
     "traceback": [
      "InterruptException:",
      "",
      "Stacktrace:",
      " [1] _include_from_serialized(path::String, depmods::Vector{Any})",
      "   @ Base ./loading.jl:752",
      " [2] _require_search_from_serialized(pkg::Base.PkgId, sourcepath::String)",
      "   @ Base ./loading.jl:854",
      " [3] _tryrequire_from_serialized(modkey::Base.PkgId, build_id::UInt64, modpath::String)",
      "   @ Base ./loading.jl:783",
      " [4] _require_search_from_serialized(pkg::Base.PkgId, sourcepath::String)",
      "   @ Base ./loading.jl:843",
      " [5] _require(pkg::Base.PkgId)",
      "   @ Base ./loading.jl:1097",
      " [6] require(uuidkey::Base.PkgId)",
      "   @ Base ./loading.jl:1013",
      " [7] require(into::Module, mod::Symbol)",
      "   @ Base ./loading.jl:997",
      " [8] eval",
      "   @ ./boot.jl:373 [inlined]",
      " [9] include_string(mapexpr::typeof(REPL.softscope), mod::Module, code::String, filename::String)",
      "   @ Base ./loading.jl:1196"
     ]
    }
   ],
   "source": [
    "using LimberJack\n",
    "using NPZ\n",
    "using LinearAlgebra\n",
    "using Statistics\n",
    "using PyCall\n",
    "using Plots"
   ]
  },
  {
   "cell_type": "code",
   "execution_count": 2,
   "id": "e7c76d92",
   "metadata": {},
   "outputs": [
    {
     "ename": "LoadError",
     "evalue": "UndefVarError: pyimport not defined",
     "output_type": "error",
     "traceback": [
      "UndefVarError: pyimport not defined",
      "",
      "Stacktrace:",
      " [1] top-level scope",
      "   @ In[2]:1",
      " [2] eval",
      "   @ ./boot.jl:373 [inlined]",
      " [3] include_string(mapexpr::typeof(REPL.softscope), mod::Module, code::String, filename::String)",
      "   @ Base ./loading.jl:1196"
     ]
    }
   ],
   "source": [
    "ccl = pyimport(\"pyccl\")"
   ]
  },
  {
   "cell_type": "code",
   "execution_count": 3,
   "id": "f5ff1321",
   "metadata": {},
   "outputs": [
    {
     "ename": "LoadError",
     "evalue": "UndefVarError: npzread not defined",
     "output_type": "error",
     "traceback": [
      "UndefVarError: npzread not defined",
      "",
      "Stacktrace:",
      " [1] top-level scope",
      "   @ In[3]:1",
      " [2] eval",
      "   @ ./boot.jl:373 [inlined]",
      " [3] include_string(mapexpr::typeof(REPL.softscope), mod::Module, code::String, filename::String)",
      "   @ Base ./loading.jl:1196"
     ]
    }
   ],
   "source": [
    "files = npzread(\"../emulator/files.npz\")\n",
    "hypers = files[\"hypers\"]\n",
    "alphas = files[\"alphas\"]\n",
    "k_arr = files[\"training_karr\"];"
   ]
  },
  {
   "cell_type": "code",
   "execution_count": 4,
   "id": "982ab7bf",
   "metadata": {},
   "outputs": [
    {
     "data": {
      "text/plain": [
       "0.2524444444444444"
      ]
     },
     "execution_count": 4,
     "metadata": {},
     "output_type": "execute_result"
    }
   ],
   "source": [
    "h = 0.75\n",
    "ns = 1.0\n",
    "s8 = 0.81\n",
    "wc = 0.12\n",
    "wb = 0.022\n",
    "Wb = wb / h^2\n",
    "Wc = wc / h^2\n",
    "Wm = Wc + Wb"
   ]
  },
  {
   "cell_type": "code",
   "execution_count": 5,
   "id": "90486448",
   "metadata": {},
   "outputs": [
    {
     "data": {
      "text/plain": [
       "0.26"
      ]
     },
     "execution_count": 5,
     "metadata": {},
     "output_type": "execute_result"
    }
   ],
   "source": [
    "h = 0.8\n",
    "ns = 0.96\n",
    "s8 = 0.81\n",
    "Wm = 0.3\n",
    "Wb = 0.04\n",
    "Wc = Wm-Wb"
   ]
  },
  {
   "cell_type": "code",
   "execution_count": 6,
   "id": "cf3b3d96",
   "metadata": {},
   "outputs": [
    {
     "ename": "LoadError",
     "evalue": "UndefVarError: Cosmology not defined",
     "output_type": "error",
     "traceback": [
      "UndefVarError: Cosmology not defined",
      "",
      "Stacktrace:",
      " [1] top-level scope",
      "   @ In[6]:1",
      " [2] eval",
      "   @ ./boot.jl:373 [inlined]",
      " [3] include_string(mapexpr::typeof(REPL.softscope), mod::Module, code::String, filename::String)",
      "   @ Base ./loading.jl:1196"
     ]
    }
   ],
   "source": [
    "cosmo1 = Cosmology(Wm, Wb, h, ns, s8,\n",
    "                   tk_mode=\"EisHu\", Pk_mode=\"linear\")\n",
    "cosmo2 = Cosmology(Wm, Wb, h, ns, s8,\n",
    "                   tk_mode=\"emulator\", Pk_mode=\"linear\")\n",
    "cosmo3 = ccl.Cosmology(Omega_c=Wc, Omega_b=Wb,\n",
    "                       h=h, n_s=ns, sigma8=s8,\n",
    "                       transfer_function=\"boltzmann_class\",\n",
    "                       matter_power_spectrum=\"linear\",\n",
    "                       Omega_g=0, Omega_k=0)\n",
    "cosmo4 = ccl.Cosmology(Omega_c=Wc, Omega_b=Wb,\n",
    "                       h=h, n_s=ns, sigma8=s8,\n",
    "                       transfer_function=\"boltzmann_camb\",\n",
    "                       matter_power_spectrum=\"linear\",\n",
    "                       Omega_g=0, Omega_k=0)\n",
    "k_arr2 = exp.(log.(k_arr).+0.15)\n",
    "k_arr2[length(k_arr)] = last(k_arr);"
   ]
  },
  {
   "cell_type": "code",
   "execution_count": 7,
   "id": "1e84a2e5",
   "metadata": {},
   "outputs": [
    {
     "ename": "LoadError",
     "evalue": "UndefVarError: lin_Pk not defined",
     "output_type": "error",
     "traceback": [
      "UndefVarError: lin_Pk not defined",
      "",
      "Stacktrace:",
      " [1] top-level scope",
      "   @ In[7]:1",
      " [2] eval",
      "   @ ./boot.jl:373 [inlined]",
      " [3] include_string(mapexpr::typeof(REPL.softscope), mod::Module, code::String, filename::String)",
      "   @ Base ./loading.jl:1196"
     ]
    }
   ],
   "source": [
    "emul_off_node = abs.(lin_Pk(cosmo2, k_arr2, 0.0)./ccl.linear_matter_power(cosmo3, k_arr2, 1.).-1.0)\n",
    "emul_on_node = abs.(lin_Pk(cosmo2, k_arr, 0.0)./ccl.linear_matter_power(cosmo3, k_arr, 1.).-1.0)\n",
    "emul_on_node2 = abs.(lin_Pk(cosmo2, k_arr, 0.0)./ccl.linear_matter_power(cosmo4, k_arr, 1.).-1.0)\n",
    "EisHu = abs.(lin_Pk(cosmo1, k_arr, 0.0)./ccl.linear_matter_power(cosmo3, k_arr, 1.).-1.0);"
   ]
  },
  {
   "cell_type": "code",
   "execution_count": 8,
   "id": "225e9e75",
   "metadata": {},
   "outputs": [
    {
     "ename": "LoadError",
     "evalue": "UndefVarError: mean not defined",
     "output_type": "error",
     "traceback": [
      "UndefVarError: mean not defined",
      "",
      "Stacktrace:",
      " [1] top-level scope",
      "   @ In[8]:2",
      " [2] eval",
      "   @ ./boot.jl:373 [inlined]",
      " [3] include_string(mapexpr::typeof(REPL.softscope), mod::Module, code::String, filename::String)",
      "   @ Base ./loading.jl:1196"
     ]
    }
   ],
   "source": [
    "#println(mean(python_comp))\n",
    "println(\"Emulator off node vs CLASS: \", mean(emul_off_node))\n",
    "println(\"Emulator on node vs CLASS: \", mean(emul_on_node))\n",
    "println(\"Emulator on node vs CAMB: \", mean(emul_on_node2))\n",
    "println(\"Eis&Hu vs CLASS: \", mean(EisHu))"
   ]
  },
  {
   "cell_type": "code",
   "execution_count": 9,
   "id": "0a6d91b8",
   "metadata": {},
   "outputs": [
    {
     "ename": "LoadError",
     "evalue": "UndefVarError: plot not defined",
     "output_type": "error",
     "traceback": [
      "UndefVarError: plot not defined",
      "",
      "Stacktrace:",
      " [1] top-level scope",
      "   @ In[9]:1",
      " [2] eval",
      "   @ ./boot.jl:373 [inlined]",
      " [3] include_string(mapexpr::typeof(REPL.softscope), mod::Module, code::String, filename::String)",
      "   @ Base ./loading.jl:1196"
     ]
    }
   ],
   "source": [
    "plot(k_arr2, emul_off_node, xaxis=:log,\n",
    "     label=\"off-node\", title=\"Emul vs Class\")\n",
    "plot!(k_arr, emul_on_node, xaxis=:log,\n",
    "      label=\"on-node\")"
   ]
  },
  {
   "cell_type": "code",
   "execution_count": 10,
   "id": "a2b98c4d",
   "metadata": {},
   "outputs": [
    {
     "ename": "LoadError",
     "evalue": "UndefVarError: plot not defined",
     "output_type": "error",
     "traceback": [
      "UndefVarError: plot not defined",
      "",
      "Stacktrace:",
      " [1] top-level scope",
      "   @ In[10]:1",
      " [2] eval",
      "   @ ./boot.jl:373 [inlined]",
      " [3] include_string(mapexpr::typeof(REPL.softscope), mod::Module, code::String, filename::String)",
      "   @ Base ./loading.jl:1196"
     ]
    }
   ],
   "source": [
    "plot(k_arr2, EisHu_off_node, xaxis=:log,\n",
    "     label=\"off-node\", title=\"EisHu vs Class\")\n",
    "plot!(k_arr, EisHu_on_node, xaxis=:log,\n",
    "      label=\"on-node\")"
   ]
  },
  {
   "cell_type": "code",
   "execution_count": 11,
   "id": "9dd9137d",
   "metadata": {},
   "outputs": [
    {
     "data": {
      "text/plain": [
       "EisHu (generic function with 1 method)"
      ]
     },
     "execution_count": 11,
     "metadata": {},
     "output_type": "execute_result"
    }
   ],
   "source": [
    "function EisHu(Wm)\n",
    "    cosmo1 = Cosmology(Wm, 0.039, 0.75, 1.0, 0.72,\n",
    "                  nk=2000, tk_mode=\"EisHu\")\n",
    "    return lin_Pk(cosmo1, k_arr, 0.0)\n",
    "end"
   ]
  },
  {
   "cell_type": "code",
   "execution_count": 12,
   "id": "77d83e07",
   "metadata": {},
   "outputs": [
    {
     "ename": "LoadError",
     "evalue": "UndefVarError: Pk_EisHu not defined",
     "output_type": "error",
     "traceback": [
      "UndefVarError: Pk_EisHu not defined",
      "",
      "Stacktrace:",
      " [1] top-level scope",
      "   @ :0",
      " [2] eval",
      "   @ ./boot.jl:373 [inlined]",
      " [3] include_string(mapexpr::typeof(REPL.softscope), mod::Module, code::String, filename::String)",
      "   @ Base ./loading.jl:1196"
     ]
    }
   ],
   "source": [
    "Pk_EisHu"
   ]
  },
  {
   "cell_type": "code",
   "execution_count": 13,
   "id": "1ba25f56",
   "metadata": {
    "scrolled": true
   },
   "outputs": [
    {
     "data": {
      "text/plain": [
       "Emul (generic function with 1 method)"
      ]
     },
     "execution_count": 13,
     "metadata": {},
     "output_type": "execute_result"
    }
   ],
   "source": [
    "function Emul(Wm)\n",
    "    cosmo2 = Cosmology(Wm, 0.039, 0.75, 1.0, 0.72,\n",
    "                      nk=2000, tk_mode=\"emulator\")\n",
    "    return lin_Pk(cosmo2, k_arr, 0.0)\n",
    "end"
   ]
  },
  {
   "cell_type": "code",
   "execution_count": 14,
   "id": "4973aefb",
   "metadata": {
    "scrolled": true
   },
   "outputs": [
    {
     "data": {
      "text/plain": [
       "Emul2 (generic function with 1 method)"
      ]
     },
     "execution_count": 14,
     "metadata": {},
     "output_type": "execute_result"
    }
   ],
   "source": [
    "function Emul2(Wm)\n",
    "    params = CosmoPar(Wm, 0.039, 0.75, 1.0, 0.72, 2.725/2.7)\n",
    "    return get_emulated_log_pk0(params)\n",
    "end"
   ]
  },
  {
   "cell_type": "code",
   "execution_count": 15,
   "id": "fcf14e24",
   "metadata": {},
   "outputs": [
    {
     "ename": "LoadError",
     "evalue": "UndefVarError: Cosmology not defined",
     "output_type": "error",
     "traceback": [
      "UndefVarError: Cosmology not defined",
      "",
      "Stacktrace:",
      " [1] EisHu(Wm::Float64)",
      "   @ Main ./In[11]:2",
      " [2] macro expansion",
      "   @ ./In[15]:3 [inlined]",
      " [3] top-level scope",
      "   @ ./timing.jl:220 [inlined]",
      " [4] top-level scope",
      "   @ ./In[15]:0",
      " [5] eval",
      "   @ ./boot.jl:373 [inlined]",
      " [6] include_string(mapexpr::typeof(REPL.softscope), mod::Module, code::String, filename::String)",
      "   @ Base ./loading.jl:1196"
     ]
    }
   ],
   "source": [
    "@time begin\n",
    "    for i in 1:100\n",
    "        EisHu(0.2+0.01*i)\n",
    "    end\n",
    "end"
   ]
  },
  {
   "cell_type": "code",
   "execution_count": 16,
   "id": "c756a27f",
   "metadata": {},
   "outputs": [
    {
     "ename": "LoadError",
     "evalue": "UndefVarError: Cosmology not defined",
     "output_type": "error",
     "traceback": [
      "UndefVarError: Cosmology not defined",
      "",
      "Stacktrace:",
      " [1] Emul(Wm::Float64)",
      "   @ Main ./In[13]:2",
      " [2] macro expansion",
      "   @ ./In[16]:3 [inlined]",
      " [3] top-level scope",
      "   @ ./timing.jl:220 [inlined]",
      " [4] top-level scope",
      "   @ ./In[16]:0",
      " [5] eval",
      "   @ ./boot.jl:373 [inlined]",
      " [6] include_string(mapexpr::typeof(REPL.softscope), mod::Module, code::String, filename::String)",
      "   @ Base ./loading.jl:1196"
     ]
    }
   ],
   "source": [
    "@time begin\n",
    "    for i in 1:100\n",
    "        Emul(0.2+0.01*i)\n",
    "    end\n",
    "end"
   ]
  },
  {
   "cell_type": "code",
   "execution_count": 17,
   "id": "ef7d6120",
   "metadata": {},
   "outputs": [
    {
     "ename": "LoadError",
     "evalue": "UndefVarError: CosmoPar not defined",
     "output_type": "error",
     "traceback": [
      "UndefVarError: CosmoPar not defined",
      "",
      "Stacktrace:",
      " [1] Emul2(Wm::Float64)",
      "   @ Main ./In[14]:2",
      " [2] macro expansion",
      "   @ ./In[17]:3 [inlined]",
      " [3] top-level scope",
      "   @ ./timing.jl:220 [inlined]",
      " [4] top-level scope",
      "   @ ./In[17]:0",
      " [5] eval",
      "   @ ./boot.jl:373 [inlined]",
      " [6] include_string(mapexpr::typeof(REPL.softscope), mod::Module, code::String, filename::String)",
      "   @ Base ./loading.jl:1196"
     ]
    }
   ],
   "source": [
    "@time begin\n",
    "    for i in 1:100\n",
    "        Emul2(0.2+0.01*i)\n",
    "    end\n",
    "end"
   ]
  },
  {
   "cell_type": "code",
   "execution_count": 18,
   "id": "2d2c7d82",
   "metadata": {},
   "outputs": [],
   "source": [
    "ref = [1.05199810e+03, 1.39972787e+03, 1.86175310e+03, 2.47485290e+03,\n",
    "       3.28678329e+03, 4.35879529e+03, 5.76807365e+03, 7.60883617e+03,\n",
    "       9.99017257e+03, 1.30291073e+04, 1.68341153e+04, 2.14732641e+04,\n",
    "       2.69244140e+04, 3.30028431e+04, 3.92692797e+04, 4.49267904e+04,\n",
    "       4.87473257e+04, 4.91726610e+04, 4.49690394e+04, 3.67747863e+04,\n",
    "       2.82780596e+04, 2.29757121e+04, 1.74933110e+04, 1.07923121e+04,\n",
    "       7.73217085e+03, 4.73490310e+03, 2.81547163e+03, 1.63726622e+03,\n",
    "       9.16888584e+02, 5.03788217e+02, 2.70399989e+02, 1.42297928e+02,\n",
    "       7.35961443e+01, 3.74882941e+01, 1.88420637e+01, 9.35899651e+00,\n",
    "       4.60024344e+00, 2.24010663e+00, 1.08184944e+00, 5.18425752e-01];"
   ]
  },
  {
   "cell_type": "code",
   "execution_count": 8,
   "id": "2a6fb527",
   "metadata": {
    "scrolled": true
   },
   "outputs": [
    {
     "ename": "LoadError",
     "evalue": "UndefVarError: Pk_EisHu not defined",
     "output_type": "error",
     "traceback": [
      "UndefVarError: Pk_EisHu not defined",
      "",
      "Stacktrace:",
      " [1] top-level scope",
      "   @ In[8]:2",
      " [2] eval",
      "   @ ./boot.jl:373 [inlined]",
      " [3] include_string(mapexpr::typeof(REPL.softscope), mod::Module, code::String, filename::String)",
      "   @ Base ./loading.jl:1196"
     ]
    }
   ],
   "source": [
    "using Plots\n",
    "plot(k_arr, Pk_EisHu, xaxis=:log, yaxis=:log, label=\"EisHu\")\n",
    "plot!(k_arr, ref, xaxis=:log, yaxis=:log, label=\"ref\")\n",
    "plot!(k_arr, Pk_emul_L, xaxis=:log, yaxis=:log, label=\"Emulator\")"
   ]
  },
  {
   "cell_type": "code",
   "execution_count": 9,
   "id": "8b73b6a8",
   "metadata": {},
   "outputs": [
    {
     "ename": "LoadError",
     "evalue": "UndefVarError: Pk_EisHu not defined",
     "output_type": "error",
     "traceback": [
      "UndefVarError: Pk_EisHu not defined",
      "",
      "Stacktrace:",
      " [1] top-level scope",
      "   @ In[9]:1",
      " [2] eval",
      "   @ ./boot.jl:373 [inlined]",
      " [3] include_string(mapexpr::typeof(REPL.softscope), mod::Module, code::String, filename::String)",
      "   @ Base ./loading.jl:1196"
     ]
    }
   ],
   "source": [
    "plot(k_arr, (Pk_EisHu-Pk_emul_L)./Pk_EisHu, xaxis=:log, label=\"(EisHu-Emul)/Emul\")"
   ]
  },
  {
   "cell_type": "code",
   "execution_count": 10,
   "id": "c9a4d7f8",
   "metadata": {},
   "outputs": [
    {
     "ename": "LoadError",
     "evalue": "UndefVarError: Pk_emul_L not defined",
     "output_type": "error",
     "traceback": [
      "UndefVarError: Pk_emul_L not defined",
      "",
      "Stacktrace:",
      " [1] top-level scope",
      "   @ In[10]:1",
      " [2] eval",
      "   @ ./boot.jl:373 [inlined]",
      " [3] include_string(mapexpr::typeof(REPL.softscope), mod::Module, code::String, filename::String)",
      "   @ Base ./loading.jl:1196"
     ]
    }
   ],
   "source": [
    "plot(k_arr, (ref-Pk_emul_L)./ref, xaxis=:log, label=\"(ref-Emul)/ref\")"
   ]
  },
  {
   "cell_type": "code",
   "execution_count": 11,
   "id": "2e32da8f",
   "metadata": {},
   "outputs": [
    {
     "ename": "LoadError",
     "evalue": "UndefVarError: Pk_EisHu not defined",
     "output_type": "error",
     "traceback": [
      "UndefVarError: Pk_EisHu not defined",
      "",
      "Stacktrace:",
      " [1] top-level scope",
      "   @ In[11]:1",
      " [2] eval",
      "   @ ./boot.jl:373 [inlined]",
      " [3] include_string(mapexpr::typeof(REPL.softscope), mod::Module, code::String, filename::String)",
      "   @ Base ./loading.jl:1196"
     ]
    }
   ],
   "source": [
    "plot(k_arr, (ref-Pk_EisHu)./ref, xaxis=:log, label=\"(ref-EisHu)/ref\")"
   ]
  },
  {
   "cell_type": "code",
   "execution_count": null,
   "id": "67d25d00",
   "metadata": {},
   "outputs": [],
   "source": []
  }
 ],
 "metadata": {
  "kernelspec": {
   "display_name": "Julia 1.7.0",
   "language": "julia",
   "name": "julia-1.7"
  },
  "language_info": {
   "file_extension": ".jl",
   "mimetype": "application/julia",
   "name": "julia",
   "version": "1.7.0"
  }
 },
 "nbformat": 4,
 "nbformat_minor": 5
}
