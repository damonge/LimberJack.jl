{
 "cells": [
  {
   "cell_type": "code",
   "execution_count": 1,
   "id": "2699b6bc",
   "metadata": {},
   "outputs": [],
   "source": [
    "import numpy as np\n",
    "import matplotlib.pyplot as plt\n",
    "import sacc\n",
    "import pyccl as ccl\n",
    "import yaml"
   ]
  },
  {
   "cell_type": "code",
   "execution_count": null,
   "id": "27ba552d",
   "metadata": {},
   "outputs": [],
   "source": [
    "def get_type(name):\n",
    "    if 'wl' in name:\n",
    "        return 'e'\n",
    "    else:\n",
    "        return '0'"
   ]
  },
  {
   "cell_type": "code",
   "execution_count": 2,
   "id": "0e03a063",
   "metadata": {},
   "outputs": [],
   "source": [
    "s = sacc.Sacc().load_fits(\"../data/DESY1_cls/cls_covG_new.fits\")\n",
    "with open('../data/DESY1_cls/order.yml') as f:\n",
    "    config = yaml.safe_load(f)"
   ]
  },
  {
   "cell_type": "code",
   "execution_count": 5,
   "id": "15cfd23d",
   "metadata": {},
   "outputs": [],
   "source": [
    "indices = []\n",
    "for cl in config['order']:\n",
    "    t1, t2 = cl['tracers']\n",
    "    lmin, lmax = cl['ell_cuts']\n",
    "    cl_name = 'cl_%s%s' % (get_type(t1), get_type(t2))\n",
    "    ind = s.indices(cl_name, (t1, t2),\n",
    "                    ell__gt=lmin, ell__lt=lmax)\n",
    "    indices += list(ind)\n",
    "s.keep_indices(indices)"
   ]
  },
  {
   "cell_type": "code",
   "execution_count": 6,
   "id": "564827c5",
   "metadata": {},
   "outputs": [],
   "source": [
    "cls = []\n",
    "ls = []\n",
    "indices = []\n",
    "pairs = []\n",
    "for cl in config['order']:\n",
    "    t1, t2 = cl['tracers']\n",
    "    lmin, lmax = cl['ell_cuts']\n",
    "    cl_name = 'cl_%s%s' % (get_type(t1), get_type(t2))\n",
    "    l, c_ell, ind = s.get_ell_cl(cl_name, t1, t2, return_cov=False, return_ind=True)\n",
    "    indices += list(ind)\n",
    "    cls += list(c_ell)\n",
    "    ls.append(l)\n",
    "    pairs.append([t1, t2])\n",
    "indices = np.array(indices)\n",
    "cls = np.array(cls)\n",
    "cov = s.covariance.dense[indices][:, indices]\n",
    "w, v = np.linalg.eigh(cov)\n",
    "cov = np.dot(v, np.dot(np.diag(np.fabs(w)), v.T))\n",
    "cov = np.tril(cov) + np.triu(cov.T, 1)"
   ]
  },
  {
   "cell_type": "code",
   "execution_count": 8,
   "id": "9852a0d3",
   "metadata": {},
   "outputs": [],
   "source": [
    "tracer_code = {'DESgc': 1, 'DESwl': 2}\n",
    "tracers = []\n",
    "for n, t in s.tracers.items():\n",
    "    if n.startswith('DES'):\n",
    "        tracer = tracer_code[n[:5]]\n",
    "        binn = int(n[-1])\n",
    "        tracers.append([tracer, binn])"
   ]
  },
  {
   "cell_type": "code",
   "execution_count": 9,
   "id": "baf1defc",
   "metadata": {},
   "outputs": [],
   "source": [
    "pairs_id = []\n",
    "pairs_coded = []\n",
    "for pair, l in zip(pairs, ls):\n",
    "    t1, t2 = pair\n",
    "    typ1 = tracer_code[t1[:5]] \n",
    "    bin1 = int(t1[-1])\n",
    "    typ2 = tracer_code[t2[:5]]\n",
    "    bin2 = int(t2[-1])\n",
    "    id1 = tracers.index([typ1, bin1])\n",
    "    id2 = tracers.index([typ2, bin2])\n",
    "    ids = [id1+1, id2+1]\n",
    "    pair = [typ1, bin1, typ2, bin2]\n",
    "    pairs_id.append(ids)\n",
    "    pairs_coded.append(pair)"
   ]
  },
  {
   "cell_type": "code",
   "execution_count": 10,
   "id": "f3c30e23",
   "metadata": {},
   "outputs": [],
   "source": [
    "dict_save = {'tracers': tracers, 'pairs': pairs_coded, 'pairs_ids': pairs_id, 'cls': cls, 'cov': cov}"
   ]
  },
  {
   "cell_type": "code",
   "execution_count": 11,
   "id": "9d0438ef",
   "metadata": {},
   "outputs": [],
   "source": [
    "for n, t in s.tracers.items():\n",
    "    if n.startswith('DES'):\n",
    "        tracer = tracer_code[n[:5]]\n",
    "        binn = n[-1]\n",
    "        dict_save[f'nz_{tracer}{binn}'] = np.array([t.z, t.nz])"
   ]
  },
  {
   "cell_type": "code",
   "execution_count": 12,
   "id": "611d2ba9",
   "metadata": {},
   "outputs": [],
   "source": [
    "for pair, l in zip(pairs, ls):\n",
    "    t1, t2 = pair\n",
    "    bin1 = int(t1[-1])\n",
    "    t1 = tracer_code[t1[:5]]\n",
    "    t1 = int(f'{t1}{bin1}')\n",
    "    bin2 = int(t2[-1])\n",
    "    t2 = tracer_code[t2[:5]]\n",
    "    t2 = int(f'{t2}{bin2}')\n",
    "    dict_save[f'ls_{t1}{t2}'] = l"
   ]
  },
  {
   "cell_type": "code",
   "execution_count": 13,
   "id": "40ae220b",
   "metadata": {},
   "outputs": [],
   "source": [
    "np.savez(\"Cls_meta.npz\", **dict_save)"
   ]
  }
 ],
 "metadata": {
  "kernelspec": {
   "display_name": "Python 3 (ipykernel)",
   "language": "python",
   "name": "python3"
  },
  "language_info": {
   "codemirror_mode": {
    "name": "ipython",
    "version": 3
   },
   "file_extension": ".py",
   "mimetype": "text/x-python",
   "name": "python",
   "nbconvert_exporter": "python",
   "pygments_lexer": "ipython3",
   "version": "3.9.7"
  }
 },
 "nbformat": 4,
 "nbformat_minor": 5
}
