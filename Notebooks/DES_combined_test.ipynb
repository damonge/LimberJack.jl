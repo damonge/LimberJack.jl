{
 "cells": [
  {
   "cell_type": "code",
   "execution_count": 1,
   "id": "02df9ee7",
   "metadata": {},
   "outputs": [],
   "source": [
    "using Turing\n",
    "using Random\n",
    "using ForwardDiff\n",
    "using LimberJack\n",
    "using CSV\n",
    "using NPZ\n",
    "using FITSIO\n",
    "using Plots\n",
    "using LinearAlgebra\n",
    "using BlockArrays\n",
    "using Distributed\n",
    "using DataFrames"
   ]
  },
  {
   "cell_type": "code",
   "execution_count": 2,
   "id": "5c5ac3e5",
   "metadata": {},
   "outputs": [],
   "source": [
    "# Add four processes to use for sampling.\n",
    "#addprocs(4)\n",
    "\n",
    "# Initialize everything on all the processes.\n",
    "# Note: Make sure to do this after you've already loaded Turing,\n",
    "#       so each process does not have to precompile.\n",
    "#       Parallel sampling may fail silently if you do not do this.\n",
    "#@everywhere using Turing, LimberJack"
   ]
  },
  {
   "cell_type": "code",
   "execution_count": 7,
   "id": "bb5e8c52",
   "metadata": {},
   "outputs": [],
   "source": [
    "desgs_nzs = FITS(\"/home/jaime/PhD/LimberJack.jl/Notebooks/data/y1_redshift_distributions_v1.fits\")\n",
    "desgs_nz = read(desgs_nzs[\"nz_source_mcal\"], \"BIN2\")\n",
    "desgs_zs = read(desgs_nzs[\"nz_source_mcal\"], \"Z_MID\");\n",
    "desgg_nzs = FITS(\"/home/jaime/PhD/LimberJack.jl/Notebooks/data/y1_redshift_distributions_v1.fits\")\n",
    "desgg_nz = read(desgg_nzs[\"nz_source_mcal\"], \"BIN2\")\n",
    "desgg_zs = read(desgg_nzs[\"nz_source_mcal\"], \"Z_MID\");\n",
    "ell = npzread(\"/home/jaime/PhD/LimberJack.jl/Notebooks/data/cl_DESgc__2_DESwl__3.npz\")[\"ell\"]\n",
    "ell = [Int(floor(l)) for l in ell];"
   ]
  },
  {
   "cell_type": "code",
   "execution_count": 8,
   "id": "e48ce27b",
   "metadata": {},
   "outputs": [],
   "source": [
    "path = \"/home/jaime/PhD/LimberJack.jl/Notebooks/data/\"\n",
    "datas = [Data(\"DESgc\", \"DESgc\", 2 , 2, path=path),\n",
    "         Data(\"DESgc\", \"DESwl\", 2 , 3, path=path)];\n",
    "Cls_metas = Cls_meta(datas, path=path);\n",
    "cov_tot = Cls_metas.cov_tot;\n",
    "data_vector = Cls_metas.data_vector;"
   ]
  },
  {
   "cell_type": "code",
   "execution_count": 9,
   "id": "321c9a1b",
   "metadata": {},
   "outputs": [
    {
     "name": "stderr",
     "output_type": "stream",
     "text": [
      "\u001b[32mSampling: 100%|█████████████████████████████████████████| Time: 0:06:26\u001b[39m\n"
     ]
    },
    {
     "name": "stdout",
     "output_type": "stream",
     "text": [
      "Created new folder\n"
     ]
    },
    {
     "data": {
      "text/plain": [
       "\"DES_cobmined_test_stpsz_0.005_smpls_10/chain.csv\""
      ]
     },
     "execution_count": 9,
     "metadata": {},
     "output_type": "execute_result"
    }
   ],
   "source": [
    "@model function model(data)\n",
    "    Ωm ~ Uniform(0.2, 0.3)\n",
    "    h ~ Uniform(0.6, 0.8)\n",
    "    s8 ~ Uniform(0.7, 1.0)\n",
    "    cosmology = LimberJack.Cosmology(Ωm, 0.05, h, 0.96, s8,\n",
    "                                     tk_mode=\"EisHu\",\n",
    "                                     Pk_mode=\"Halofit\")\n",
    "    tg = NumberCountsTracer(cosmology, desgg_zs, desgg_nz, 2.)\n",
    "    ts = WeakLensingTracer(cosmology, desgs_zs, desgs_nz)\n",
    "    gg = [angularCℓ(cosmology, tg, tg, ℓ) for ℓ in ell]\n",
    "    gs = [angularCℓ(cosmology, tg, tg, ℓ) for ℓ in ell]\n",
    "    predictions = [gg, gs]\n",
    "    predictions = vcat(predictions...)\n",
    "    data ~ MvNormal(predictions, cov_tot)\n",
    "end;\n",
    "\n",
    "iterations = 50\n",
    "step_size = 0.005\n",
    "samples_per_step = 10\n",
    "cores = 4\n",
    "\n",
    "# Start sampling.\n",
    "\n",
    "folname = string(\"DES_cobmined_test_\", \"stpsz_\", step_size, \"_smpls_\", samples_per_step)\n",
    "if isdir(folname)\n",
    "    println(\"Folder already exists\")\n",
    "    if isfile(joinpath(folname, \"chain.jls\"))\n",
    "        println(\"Restarting from past chain\")\n",
    "        past_chain = read(joinpath(folname, \"chain.jls\"), Chains)\n",
    "        new_chain = sample(model(data_vector), HMC(step_size, samples_per_step), iterations,\n",
    "                           progress=true; save_state=true, resume_from=past_chain)\n",
    "    end\n",
    "else\n",
    "    mkdir(folname)\n",
    "    println(\"Created new folder\")\n",
    "    new_chain = sample(model(data_vector), HMC(step_size, samples_per_step),\n",
    "                iterations, progress=true; save_state=true)\n",
    "end\n",
    "\n",
    "info = describe(new_chain)[1]\n",
    "fname_info = string(\"info.csv\")\n",
    "CSV.write(joinpath(folname, fname_info), info)\n",
    "\n",
    "\n",
    "fname_jls = string(\"chain.jls\")\n",
    "write(joinpath(folname, fname_jls), new_chain)\n",
    "    \n",
    "fname_csv = string(\"chain.csv\")\n",
    "CSV.write(joinpath(folname, fname_csv), new_chain)"
   ]
  },
  {
   "cell_type": "code",
   "execution_count": null,
   "id": "7130a2e0",
   "metadata": {},
   "outputs": [],
   "source": []
  }
 ],
 "metadata": {
  "kernelspec": {
   "display_name": "Julia 1.7.0",
   "language": "julia",
   "name": "julia-1.7"
  },
  "language_info": {
   "file_extension": ".jl",
   "mimetype": "application/julia",
   "name": "julia",
   "version": "1.7.0"
  }
 },
 "nbformat": 4,
 "nbformat_minor": 5
}
