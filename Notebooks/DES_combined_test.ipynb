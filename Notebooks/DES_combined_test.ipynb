{
 "cells": [
  {
   "cell_type": "code",
   "execution_count": 1,
   "id": "02df9ee7",
   "metadata": {},
   "outputs": [
    {
     "name": "stderr",
     "output_type": "stream",
     "text": [
      "┌ Info: Precompiling LimberJack [6b86205d-155a-4b14-b82d-b6a149ea78f2]\n",
      "└ @ Base loading.jl:1423\n",
      "\u001b[91m\u001b[1mERROR: \u001b[22m\u001b[39mLoadError: ArgumentError: @threads requires a `for` loop expression\n",
      "Stacktrace:\n",
      "  [1] \u001b[0m\u001b[1mvar\"@threads\"\u001b[22m\u001b[0m\u001b[1m(\u001b[22m\u001b[90m__source__\u001b[39m::\u001b[0mLineNumberNode, \u001b[90m__module__\u001b[39m::\u001b[0mModule, \u001b[90margs\u001b[39m::\u001b[0mVararg\u001b[90m{Any}\u001b[39m\u001b[0m\u001b[1m)\u001b[22m\n",
      "\u001b[90m    @ \u001b[39m\u001b[90mBase.Threads\u001b[39m \u001b[90m./\u001b[39m\u001b[90m\u001b[4mthreadingconstructs.jl:146\u001b[24m\u001b[39m\n",
      "  [2] \u001b[0m\u001b[1minclude\u001b[22m\u001b[0m\u001b[1m(\u001b[22m\u001b[90mmod\u001b[39m::\u001b[0mModule, \u001b[90m_path\u001b[39m::\u001b[0mString\u001b[0m\u001b[1m)\u001b[22m\n",
      "\u001b[90m    @ \u001b[39m\u001b[90mBase\u001b[39m \u001b[90m./\u001b[39m\u001b[90m\u001b[4mBase.jl:418\u001b[24m\u001b[39m\n",
      "  [3] \u001b[0m\u001b[1minclude\u001b[22m\u001b[0m\u001b[1m(\u001b[22m\u001b[90mx\u001b[39m::\u001b[0mString\u001b[0m\u001b[1m)\u001b[22m\n",
      "\u001b[90m    @ \u001b[39m\u001b[35mLimberJack\u001b[39m \u001b[90m~/PhD/LimberJack.jl/src/\u001b[39m\u001b[90m\u001b[4mLimberJack.jl:1\u001b[24m\u001b[39m\n",
      "  [4] top-level scope\n",
      "\u001b[90m    @ \u001b[39m\u001b[90m~/PhD/LimberJack.jl/src/\u001b[39m\u001b[90m\u001b[4mLimberJack.jl:17\u001b[24m\u001b[39m\n",
      "  [5] \u001b[0m\u001b[1minclude\u001b[22m\n",
      "\u001b[90m    @ \u001b[39m\u001b[90m./\u001b[39m\u001b[90m\u001b[4mBase.jl:418\u001b[24m\u001b[39m\u001b[90m [inlined]\u001b[39m\n",
      "  [6] \u001b[0m\u001b[1minclude_package_for_output\u001b[22m\u001b[0m\u001b[1m(\u001b[22m\u001b[90mpkg\u001b[39m::\u001b[0mBase.PkgId, \u001b[90minput\u001b[39m::\u001b[0mString, \u001b[90mdepot_path\u001b[39m::\u001b[0mVector\u001b[90m{String}\u001b[39m, \u001b[90mdl_load_path\u001b[39m::\u001b[0mVector\u001b[90m{String}\u001b[39m, \u001b[90mload_path\u001b[39m::\u001b[0mVector\u001b[90m{String}\u001b[39m, \u001b[90mconcrete_deps\u001b[39m::\u001b[0mVector\u001b[90m{Pair{Base.PkgId, UInt64}}\u001b[39m, \u001b[90msource\u001b[39m::\u001b[0mNothing\u001b[0m\u001b[1m)\u001b[22m\n",
      "\u001b[90m    @ \u001b[39m\u001b[90mBase\u001b[39m \u001b[90m./\u001b[39m\u001b[90m\u001b[4mloading.jl:1318\u001b[24m\u001b[39m\n",
      "  [7] top-level scope\n",
      "\u001b[90m    @ \u001b[39m\u001b[90m\u001b[4mnone:1\u001b[24m\u001b[39m\n",
      "  [8] \u001b[0m\u001b[1meval\u001b[22m\n",
      "\u001b[90m    @ \u001b[39m\u001b[90m./\u001b[39m\u001b[90m\u001b[4mboot.jl:373\u001b[24m\u001b[39m\u001b[90m [inlined]\u001b[39m\n",
      "  [9] \u001b[0m\u001b[1meval\u001b[22m\u001b[0m\u001b[1m(\u001b[22m\u001b[90mx\u001b[39m::\u001b[0mExpr\u001b[0m\u001b[1m)\u001b[22m\n",
      "\u001b[90m    @ \u001b[39m\u001b[90mBase.MainInclude\u001b[39m \u001b[90m./\u001b[39m\u001b[90m\u001b[4mclient.jl:453\u001b[24m\u001b[39m\n",
      " [10] top-level scope\n",
      "\u001b[90m    @ \u001b[39m\u001b[90m\u001b[4mnone:1\u001b[24m\u001b[39m\n",
      "in expression starting at /home/jaime/PhD/LimberJack.jl/src/theory.jl:46\n",
      "in expression starting at /home/jaime/PhD/LimberJack.jl/src/theory.jl:19\n",
      "in expression starting at /home/jaime/PhD/LimberJack.jl/src/LimberJack.jl:1\n"
     ]
    },
    {
     "ename": "LoadError",
     "evalue": "Failed to precompile LimberJack [6b86205d-155a-4b14-b82d-b6a149ea78f2] to /home/jaime/.julia/compiled/v1.7/LimberJack/jl_iiGpH9.",
     "output_type": "error",
     "traceback": [
      "Failed to precompile LimberJack [6b86205d-155a-4b14-b82d-b6a149ea78f2] to /home/jaime/.julia/compiled/v1.7/LimberJack/jl_iiGpH9.",
      "",
      "Stacktrace:",
      " [1] error(s::String)",
      "   @ Base ./error.jl:33",
      " [2] compilecache(pkg::Base.PkgId, path::String, internal_stderr::IO, internal_stdout::IO, ignore_loaded_modules::Bool)",
      "   @ Base ./loading.jl:1466",
      " [3] compilecache(pkg::Base.PkgId, path::String)",
      "   @ Base ./loading.jl:1410",
      " [4] _require(pkg::Base.PkgId)",
      "   @ Base ./loading.jl:1120",
      " [5] require(uuidkey::Base.PkgId)",
      "   @ Base ./loading.jl:1013",
      " [6] require(into::Module, mod::Symbol)",
      "   @ Base ./loading.jl:997",
      " [7] eval",
      "   @ ./boot.jl:373 [inlined]",
      " [8] include_string(mapexpr::typeof(REPL.softscope), mod::Module, code::String, filename::String)",
      "   @ Base ./loading.jl:1196"
     ]
    }
   ],
   "source": [
    "using Turing\n",
    "using ForwardDiff\n",
    "using LimberJack\n",
    "using CSV\n",
    "using NPZ\n",
    "using FITSIO\n",
    "using Plots\n",
    "using LinearAlgebra\n",
    "using Distributed"
   ]
  },
  {
   "cell_type": "code",
   "execution_count": 2,
   "id": "5c5ac3e5",
   "metadata": {},
   "outputs": [],
   "source": [
    "# Add four processes to use for sampling.\n",
    "#addprocs(4)\n",
    "\n",
    "# Initialize everything on all the processes.\n",
    "# Note: Make sure to do this after you've already loaded Turing,\n",
    "#       so each process does not have to precompile.\n",
    "#       Parallel sampling may fail silently if you do not do this.\n",
    "#@everywhere using Turing, LimberJack"
   ]
  },
  {
   "cell_type": "code",
   "execution_count": 3,
   "id": "bb5e8c52",
   "metadata": {},
   "outputs": [
    {
     "ename": "LoadError",
     "evalue": "UndefVarError: FITS not defined",
     "output_type": "error",
     "traceback": [
      "UndefVarError: FITS not defined",
      "",
      "Stacktrace:",
      " [1] top-level scope",
      "   @ In[3]:1",
      " [2] eval",
      "   @ ./boot.jl:373 [inlined]",
      " [3] include_string(mapexpr::typeof(REPL.softscope), mod::Module, code::String, filename::String)",
      "   @ Base ./loading.jl:1196"
     ]
    }
   ],
   "source": [
    "des_nzs = FITS(\"../data/DESY1_cls/y1_redshift_distributions_v1.fits\")\n",
    "des_nz2 = read(des_nzs[\"nz_source_mcal\"], \"BIN2\")\n",
    "des_nz3 = read(des_nzs[\"nz_source_mcal\"], \"BIN3\")\n",
    "des_zs = read(des_nzs[\"nz_source_mcal\"], \"Z_MID\");\n",
    "ell = npzread(\"../data/DESY1_cls/DESgc_DESwl/cl_DESgc__2_DESwl__3.npz\")[\"ell\"]\n",
    "ell = [Int(floor(l)) for l in ell];"
   ]
  },
  {
   "cell_type": "code",
   "execution_count": 4,
   "id": "e48ce27b",
   "metadata": {},
   "outputs": [
    {
     "ename": "LoadError",
     "evalue": "UndefVarError: Data not defined",
     "output_type": "error",
     "traceback": [
      "UndefVarError: Data not defined",
      "",
      "Stacktrace:",
      " [1] top-level scope",
      "   @ In[4]:5",
      " [2] eval",
      "   @ ./boot.jl:373 [inlined]",
      " [3] include_string(mapexpr::typeof(REPL.softscope), mod::Module, code::String, filename::String)",
      "   @ Base ./loading.jl:1196"
     ]
    }
   ],
   "source": [
    "cl_path1 = \"../data/DESY1_cls/DESgc_DESgc/\"\n",
    "cl_path2 = \"../data/DESY1_cls/DESgc_DESwl/\"\n",
    "cl_path3 = \"../data/DESY1_cls/DESwl_DESwl/\"\n",
    "cov_path = \"../data/DESY1_cls/covs/\"\n",
    "datas = [Data(\"DESgc\", \"DESgc\", 2, 2, cl_path=cl_path1, cov_path=cov_path),\n",
    "         Data(\"DESgc\", \"DESgc\", 3, 3, cl_path=cl_path1, cov_path=cov_path),\n",
    "         Data(\"DESgc\", \"DESwl\", 2, 3, cl_path=cl_path2, cov_path=cov_path)]; \n",
    "Cls_metas = Cls_meta(datas, covs_path=cov_path);\n",
    "cov_tot = Cls_metas.cov_tot;\n",
    "data_vector = Cls_metas.data_vector;"
   ]
  },
  {
   "cell_type": "code",
   "execution_count": 5,
   "id": "7b32016b",
   "metadata": {},
   "outputs": [
    {
     "ename": "LoadError",
     "evalue": "UndefVarError: isposdef not defined",
     "output_type": "error",
     "traceback": [
      "UndefVarError: isposdef not defined",
      "",
      "Stacktrace:",
      " [1] top-level scope",
      "   @ In[5]:1",
      " [2] eval",
      "   @ ./boot.jl:373 [inlined]",
      " [3] include_string(mapexpr::typeof(REPL.softscope), mod::Module, code::String, filename::String)",
      "   @ Base ./loading.jl:1196"
     ]
    }
   ],
   "source": [
    "isposdef(cov_tot)"
   ]
  },
  {
   "cell_type": "code",
   "execution_count": 6,
   "id": "ae1f28b6",
   "metadata": {},
   "outputs": [
    {
     "ename": "LoadError",
     "evalue": "UndefVarError: diag not defined",
     "output_type": "error",
     "traceback": [
      "UndefVarError: diag not defined",
      "",
      "Stacktrace:",
      " [1] top-level scope",
      "   @ In[6]:1",
      " [2] eval",
      "   @ ./boot.jl:373 [inlined]",
      " [3] include_string(mapexpr::typeof(REPL.softscope), mod::Module, code::String, filename::String)",
      "   @ Base ./loading.jl:1196"
     ]
    }
   ],
   "source": [
    "plot(diag(cov_tot), yaxis=:log)"
   ]
  },
  {
   "cell_type": "code",
   "execution_count": 7,
   "id": "321c9a1b",
   "metadata": {},
   "outputs": [
    {
     "name": "stdout",
     "output_type": "stream",
     "text": [
      "Created new folder\n"
     ]
    },
    {
     "ename": "LoadError",
     "evalue": "UndefVarError: data_vector not defined",
     "output_type": "error",
     "traceback": [
      "UndefVarError: data_vector not defined",
      "",
      "Stacktrace:",
      " [1] top-level scope",
      "   @ In[7]:43",
      " [2] eval",
      "   @ ./boot.jl:373 [inlined]",
      " [3] include_string(mapexpr::typeof(REPL.softscope), mod::Module, code::String, filename::String)",
      "   @ Base ./loading.jl:1196"
     ]
    }
   ],
   "source": [
    "@model function model(data)\n",
    "    Ωm ~ Uniform(0.2, 0.3)\n",
    "    h ~ Uniform(0.6, 0.8)\n",
    "    s8 ~ Uniform(0.7, 1.0)\n",
    "    cosmology = LimberJack.Cosmology(Ωm, 0.05, h, 0.96, s8,\n",
    "                                     tk_mode=\"EisHu\",\n",
    "                                     Pk_mode=\"Halofit\")\n",
    "    tg2 = NumberCountsTracer(cosmology, des_zs, des_nz2, 2.)\n",
    "    tg3 = NumberCountsTracer(cosmology, des_zs, des_nz3, 2.)\n",
    "    ts3 = WeakLensingTracer(cosmology, des_zs, des_nz3)\n",
    "    g2g2 = [angularCℓ(cosmology, tg2, tg2, ℓ) for ℓ in ell]\n",
    "    #g2g3 = [angularCℓ(cosmology, tg2, tg3, ℓ) for ℓ in ell]\n",
    "    g3g3 = [angularCℓ(cosmology, tg3, tg3, ℓ) for ℓ in ell]\n",
    "    g2s3 = [angularCℓ(cosmology, tg2, ts3, ℓ) for ℓ in ell]\n",
    "    predictions = [g2g2, g3g3, g2s3]\n",
    "    predictions = vcat(predictions...)\n",
    "    data ~ MvNormal(predictions, cov_tot)\n",
    "end;\n",
    "\n",
    "iterations = 500\n",
    "step_size = 0.005\n",
    "samples_per_step = 10\n",
    "cores = 4\n",
    "\n",
    "# Start sampling.\n",
    "folpath = \"../chains\"\n",
    "folname = string(\"DES_combined_test_\", \"stpsz_\", step_size, \"_smpls_\", samples_per_step)\n",
    "folname = joinpath(folpath, folname)\n",
    "if isdir(folname)\n",
    "    println(\"Folder already exists\")\n",
    "    if isfile(joinpath(folname, \"chain.jls\"))\n",
    "        println(\"Restarting from past chain\")\n",
    "        past_chain = read(joinpath(folname, \"chain.jls\"), Chains)\n",
    "        new_chain = sample(model(data_vector), HMC(step_size, samples_per_step), iterations,\n",
    "                           progress=true; save_state=true, resume_from=past_chain)\n",
    "    else\n",
    "        new_chain = sample(model(data_vector), HMC(step_size, samples_per_step),\n",
    "                    iterations, progress=true; save_state=true)\n",
    "    end\n",
    "else\n",
    "    mkdir(folname)\n",
    "    println(\"Created new folder\")\n",
    "    new_chain = sample(model(data_vector), HMC(step_size, samples_per_step),\n",
    "                iterations, progress=true; save_state=true)\n",
    "end\n",
    "\n",
    "info = describe(new_chain)[1]\n",
    "fname_info = string(\"info.csv\")\n",
    "CSV.write(joinpath(folname, fname_info), info)\n",
    "\n",
    "\n",
    "fname_jls = string(\"chain.jls\")\n",
    "write(joinpath(folname, fname_jls), new_chain)\n",
    "    \n",
    "fname_csv = string(\"chain.csv\")\n",
    "CSV.write(joinpath(folname, fname_csv), new_chain)\n"
   ]
  },
  {
   "cell_type": "code",
   "execution_count": null,
   "id": "7130a2e0",
   "metadata": {},
   "outputs": [],
   "source": []
  }
 ],
 "metadata": {
  "kernelspec": {
   "display_name": "Julia 1.7.0",
   "language": "julia",
   "name": "julia-1.7"
  },
  "language_info": {
   "file_extension": ".jl",
   "mimetype": "application/julia",
   "name": "julia",
   "version": "1.7.0"
  }
 },
 "nbformat": 4,
 "nbformat_minor": 5
}
