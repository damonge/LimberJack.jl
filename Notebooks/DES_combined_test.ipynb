{
 "cells": [
  {
   "cell_type": "code",
   "execution_count": 1,
   "id": "02df9ee7",
   "metadata": {},
   "outputs": [
    {
     "name": "stderr",
     "output_type": "stream",
     "text": [
      "┌ Info: Precompiling LimberJack [6b86205d-155a-4b14-b82d-b6a149ea78f2]\n",
      "└ @ Base loading.jl:1423\n"
     ]
    }
   ],
   "source": [
    "using Turing\n",
    "using ForwardDiff\n",
    "using LimberJack\n",
    "using CSV\n",
    "using NPZ\n",
    "using FITSIO\n",
    "using Plots\n",
    "using LinearAlgebra\n",
    "using Distributed"
   ]
  },
  {
   "cell_type": "code",
   "execution_count": 2,
   "id": "5c5ac3e5",
   "metadata": {},
   "outputs": [],
   "source": [
    "# Add four processes to use for sampling.\n",
    "#addprocs(4)\n",
    "\n",
    "# Initialize everything on all the processes.\n",
    "# Note: Make sure to do this after you've already loaded Turing,\n",
    "#       so each process does not have to precompile.\n",
    "#       Parallel sampling may fail silently if you do not do this.\n",
    "#@everywhere using Turing, LimberJack"
   ]
  },
  {
   "cell_type": "code",
   "execution_count": 3,
   "id": "bb5e8c52",
   "metadata": {},
   "outputs": [],
   "source": [
    "des_nzs = FITS(\"../data/DESY1_cls/y1_redshift_distributions_v1.fits\")\n",
    "des_nz2 = read(des_nzs[\"nz_source_mcal\"], \"BIN2\")\n",
    "des_nz3 = read(des_nzs[\"nz_source_mcal\"], \"BIN3\")\n",
    "des_zs = read(des_nzs[\"nz_source_mcal\"], \"Z_MID\");\n",
    "ell = npzread(\"../data/DESY1_cls/DESgc_DESwl/cl_DESgc__2_DESwl__3.npz\")[\"ell\"]\n",
    "ell = [Int(floor(l)) for l in ell];"
   ]
  },
  {
   "cell_type": "code",
   "execution_count": 4,
   "id": "e48ce27b",
   "metadata": {},
   "outputs": [
    {
     "name": "stdout",
     "output_type": "stream",
     "text": [
      "[\"DESgc__2_DESgc__2_DESgc__2_DESgc__2\", \"DESgc__2_DESgc__2_DESgc__3_DESgc__3\", \"DESgc__2_DESgc__2_DESgc__2_DESwl__3\", \"DESgc__3_DESgc__3_DESgc__3_DESgc__3\", \"DESgc__3_DESgc__3_DESgc__2_DESwl__3\", \"DESgc__2_DESwl__3_DESgc__2_DESwl__3\"]\n",
      "Found cov file for: cov_DESgc__2_DESgc__2_DESgc__2_DESgc__2.npz\n",
      "Found cov file for: cov_DESgc__2_DESgc__2_DESgc__3_DESgc__3.npz\n",
      "Found cov file for: cov_DESgc__2_DESgc__2_DESgc__2_DESwl__3.npz\n",
      "Found cov file for: cov_DESgc__3_DESgc__3_DESgc__3_DESgc__3.npz\n",
      "Seeting cov_DESgc__3_DESgc__3_DESgc__2_DESwl__3.npz to zeros\n",
      "Found cov file for: cov_DESgc__2_DESwl__3_DESgc__2_DESwl__3.npz\n"
     ]
    }
   ],
   "source": [
    "cl_path1 = \"../data/DESY1_cls/DESgc_DESgc/\"\n",
    "cl_path2 = \"../data/DESY1_cls/DESgc_DESwl/\"\n",
    "cl_path3 = \"../data/DESY1_cls/DESwl_DESwl/\"\n",
    "cov_path = \"../data/DESY1_cls/covs/\"\n",
    "datas = [Data(\"DESgc\", \"DESgc\", 2, 2, cl_path=cl_path1, cov_path=cov_path),\n",
    "         Data(\"DESgc\", \"DESgc\", 3, 3, cl_path=cl_path1, cov_path=cov_path),\n",
    "         Data(\"DESgc\", \"DESwl\", 2, 3, cl_path=cl_path2, cov_path=cov_path)]; \n",
    "Cls_metas = Cls_meta(datas, covs_path=cov_path);\n",
    "cov_tot = Cls_metas.cov_tot;\n",
    "data_vector = Cls_metas.data_vector;"
   ]
  },
  {
   "cell_type": "code",
   "execution_count": 5,
   "id": "7b32016b",
   "metadata": {},
   "outputs": [
    {
     "data": {
      "text/plain": [
       "true"
      ]
     },
     "execution_count": 5,
     "metadata": {},
     "output_type": "execute_result"
    }
   ],
   "source": [
    "isposdef(cov_tot)"
   ]
  },
  {
   "cell_type": "code",
   "execution_count": 6,
   "id": "ae1f28b6",
   "metadata": {},
   "outputs": [
    {
     "data": {
      "image/svg+xml": [
       "<?xml version=\"1.0\" encoding=\"utf-8\"?>\n",
       "<svg xmlns=\"http://www.w3.org/2000/svg\" xmlns:xlink=\"http://www.w3.org/1999/xlink\" width=\"600\" height=\"400\" viewBox=\"0 0 2400 1600\">\n",
       "<defs>\n",
       "  <clipPath id=\"clip140\">\n",
       "    <rect x=\"0\" y=\"0\" width=\"2400\" height=\"1600\"/>\n",
       "  </clipPath>\n",
       "</defs>\n",
       "<path clip-path=\"url(#clip140)\" d=\"\n",
       "M0 1600 L2400 1600 L2400 0 L0 0  Z\n",
       "  \" fill=\"#ffffff\" fill-rule=\"evenodd\" fill-opacity=\"1\"/>\n",
       "<defs>\n",
       "  <clipPath id=\"clip141\">\n",
       "    <rect x=\"480\" y=\"0\" width=\"1681\" height=\"1600\"/>\n",
       "  </clipPath>\n",
       "</defs>\n",
       "<path clip-path=\"url(#clip140)\" d=\"\n",
       "M212.799 1486.45 L2352.76 1486.45 L2352.76 47.2441 L212.799 47.2441  Z\n",
       "  \" fill=\"#ffffff\" fill-rule=\"evenodd\" fill-opacity=\"1\"/>\n",
       "<defs>\n",
       "  <clipPath id=\"clip142\">\n",
       "    <rect x=\"212\" y=\"47\" width=\"2141\" height=\"1440\"/>\n",
       "  </clipPath>\n",
       "</defs>\n",
       "<polyline clip-path=\"url(#clip142)\" style=\"stroke:#000000; stroke-linecap:butt; stroke-linejoin:round; stroke-width:2; stroke-opacity:0.1; fill:none\" points=\"\n",
       "  255.96,1486.45 255.96,47.2441 \n",
       "  \"/>\n",
       "<polyline clip-path=\"url(#clip142)\" style=\"stroke:#000000; stroke-linecap:butt; stroke-linejoin:round; stroke-width:2; stroke-opacity:0.1; fill:none\" points=\"\n",
       "  691.052,1486.45 691.052,47.2441 \n",
       "  \"/>\n",
       "<polyline clip-path=\"url(#clip142)\" style=\"stroke:#000000; stroke-linecap:butt; stroke-linejoin:round; stroke-width:2; stroke-opacity:0.1; fill:none\" points=\"\n",
       "  1126.14,1486.45 1126.14,47.2441 \n",
       "  \"/>\n",
       "<polyline clip-path=\"url(#clip142)\" style=\"stroke:#000000; stroke-linecap:butt; stroke-linejoin:round; stroke-width:2; stroke-opacity:0.1; fill:none\" points=\"\n",
       "  1561.24,1486.45 1561.24,47.2441 \n",
       "  \"/>\n",
       "<polyline clip-path=\"url(#clip142)\" style=\"stroke:#000000; stroke-linecap:butt; stroke-linejoin:round; stroke-width:2; stroke-opacity:0.1; fill:none\" points=\"\n",
       "  1996.33,1486.45 1996.33,47.2441 \n",
       "  \"/>\n",
       "<polyline clip-path=\"url(#clip140)\" style=\"stroke:#000000; stroke-linecap:butt; stroke-linejoin:round; stroke-width:4; stroke-opacity:1; fill:none\" points=\"\n",
       "  212.799,1486.45 2352.76,1486.45 \n",
       "  \"/>\n",
       "<polyline clip-path=\"url(#clip140)\" style=\"stroke:#000000; stroke-linecap:butt; stroke-linejoin:round; stroke-width:4; stroke-opacity:1; fill:none\" points=\"\n",
       "  255.96,1486.45 255.96,1467.55 \n",
       "  \"/>\n",
       "<polyline clip-path=\"url(#clip140)\" style=\"stroke:#000000; stroke-linecap:butt; stroke-linejoin:round; stroke-width:4; stroke-opacity:1; fill:none\" points=\"\n",
       "  691.052,1486.45 691.052,1467.55 \n",
       "  \"/>\n",
       "<polyline clip-path=\"url(#clip140)\" style=\"stroke:#000000; stroke-linecap:butt; stroke-linejoin:round; stroke-width:4; stroke-opacity:1; fill:none\" points=\"\n",
       "  1126.14,1486.45 1126.14,1467.55 \n",
       "  \"/>\n",
       "<polyline clip-path=\"url(#clip140)\" style=\"stroke:#000000; stroke-linecap:butt; stroke-linejoin:round; stroke-width:4; stroke-opacity:1; fill:none\" points=\"\n",
       "  1561.24,1486.45 1561.24,1467.55 \n",
       "  \"/>\n",
       "<polyline clip-path=\"url(#clip140)\" style=\"stroke:#000000; stroke-linecap:butt; stroke-linejoin:round; stroke-width:4; stroke-opacity:1; fill:none\" points=\"\n",
       "  1996.33,1486.45 1996.33,1467.55 \n",
       "  \"/>\n",
       "<path clip-path=\"url(#clip140)\" d=\"M255.96 1517.37 Q252.349 1517.37 250.52 1520.93 Q248.715 1524.47 248.715 1531.6 Q248.715 1538.71 250.52 1542.27 Q252.349 1545.82 255.96 1545.82 Q259.594 1545.82 261.4 1542.27 Q263.228 1538.71 263.228 1531.6 Q263.228 1524.47 261.4 1520.93 Q259.594 1517.37 255.96 1517.37 M255.96 1513.66 Q261.77 1513.66 264.826 1518.27 Q267.904 1522.85 267.904 1531.6 Q267.904 1540.33 264.826 1544.94 Q261.77 1549.52 255.96 1549.52 Q250.15 1549.52 247.071 1544.94 Q244.016 1540.33 244.016 1531.6 Q244.016 1522.85 247.071 1518.27 Q250.15 1513.66 255.96 1513.66 Z\" fill=\"#000000\" fill-rule=\"evenodd\" fill-opacity=\"1\" /><path clip-path=\"url(#clip140)\" d=\"M670.323 1544.91 L686.642 1544.91 L686.642 1548.85 L664.698 1548.85 L664.698 1544.91 Q667.36 1542.16 671.943 1537.53 Q676.55 1532.88 677.73 1531.53 Q679.976 1529.01 680.855 1527.27 Q681.758 1525.51 681.758 1523.82 Q681.758 1521.07 679.814 1519.33 Q677.892 1517.6 674.791 1517.6 Q672.591 1517.6 670.138 1518.36 Q667.707 1519.13 664.929 1520.68 L664.929 1515.95 Q667.754 1514.82 670.207 1514.24 Q672.661 1513.66 674.698 1513.66 Q680.068 1513.66 683.263 1516.35 Q686.457 1519.03 686.457 1523.52 Q686.457 1525.65 685.647 1527.57 Q684.86 1529.47 682.753 1532.07 Q682.175 1532.74 679.073 1535.95 Q675.971 1539.15 670.323 1544.91 Z\" fill=\"#000000\" fill-rule=\"evenodd\" fill-opacity=\"1\" /><path clip-path=\"url(#clip140)\" d=\"M696.503 1514.29 L714.86 1514.29 L714.86 1518.22 L700.786 1518.22 L700.786 1526.7 Q701.804 1526.35 702.823 1526.19 Q703.841 1526 704.86 1526 Q710.647 1526 714.026 1529.17 Q717.406 1532.34 717.406 1537.76 Q717.406 1543.34 713.934 1546.44 Q710.462 1549.52 704.142 1549.52 Q701.966 1549.52 699.698 1549.15 Q697.452 1548.78 695.045 1548.04 L695.045 1543.34 Q697.128 1544.47 699.351 1545.03 Q701.573 1545.58 704.05 1545.58 Q708.054 1545.58 710.392 1543.48 Q712.73 1541.37 712.73 1537.76 Q712.73 1534.15 710.392 1532.04 Q708.054 1529.94 704.05 1529.94 Q702.175 1529.94 700.3 1530.35 Q698.448 1530.77 696.503 1531.65 L696.503 1514.29 Z\" fill=\"#000000\" fill-rule=\"evenodd\" fill-opacity=\"1\" /><path clip-path=\"url(#clip140)\" d=\"M1100.84 1514.29 L1119.2 1514.29 L1119.2 1518.22 L1105.13 1518.22 L1105.13 1526.7 Q1106.14 1526.35 1107.16 1526.19 Q1108.18 1526 1109.2 1526 Q1114.99 1526 1118.37 1529.17 Q1121.75 1532.34 1121.75 1537.76 Q1121.75 1543.34 1118.27 1546.44 Q1114.8 1549.52 1108.48 1549.52 Q1106.31 1549.52 1104.04 1549.15 Q1101.79 1548.78 1099.39 1548.04 L1099.39 1543.34 Q1101.47 1544.47 1103.69 1545.03 Q1105.91 1545.58 1108.39 1545.58 Q1112.39 1545.58 1114.73 1543.48 Q1117.07 1541.37 1117.07 1537.76 Q1117.07 1534.15 1114.73 1532.04 Q1112.39 1529.94 1108.39 1529.94 Q1106.51 1529.94 1104.64 1530.35 Q1102.79 1530.77 1100.84 1531.65 L1100.84 1514.29 Z\" fill=\"#000000\" fill-rule=\"evenodd\" fill-opacity=\"1\" /><path clip-path=\"url(#clip140)\" d=\"M1140.96 1517.37 Q1137.35 1517.37 1135.52 1520.93 Q1133.71 1524.47 1133.71 1531.6 Q1133.71 1538.71 1135.52 1542.27 Q1137.35 1545.82 1140.96 1545.82 Q1144.59 1545.82 1146.4 1542.27 Q1148.23 1538.71 1148.23 1531.6 Q1148.23 1524.47 1146.4 1520.93 Q1144.59 1517.37 1140.96 1517.37 M1140.96 1513.66 Q1146.77 1513.66 1149.82 1518.27 Q1152.9 1522.85 1152.9 1531.6 Q1152.9 1540.33 1149.82 1544.94 Q1146.77 1549.52 1140.96 1549.52 Q1135.15 1549.52 1132.07 1544.94 Q1129.01 1540.33 1129.01 1531.6 Q1129.01 1522.85 1132.07 1518.27 Q1135.15 1513.66 1140.96 1513.66 Z\" fill=\"#000000\" fill-rule=\"evenodd\" fill-opacity=\"1\" /><path clip-path=\"url(#clip140)\" d=\"M1535.09 1514.29 L1557.31 1514.29 L1557.31 1516.28 L1544.77 1548.85 L1539.88 1548.85 L1551.69 1518.22 L1535.09 1518.22 L1535.09 1514.29 Z\" fill=\"#000000\" fill-rule=\"evenodd\" fill-opacity=\"1\" /><path clip-path=\"url(#clip140)\" d=\"M1566.48 1514.29 L1584.84 1514.29 L1584.84 1518.22 L1570.76 1518.22 L1570.76 1526.7 Q1571.78 1526.35 1572.8 1526.19 Q1573.82 1526 1574.84 1526 Q1580.62 1526 1584 1529.17 Q1587.38 1532.34 1587.38 1537.76 Q1587.38 1543.34 1583.91 1546.44 Q1580.44 1549.52 1574.12 1549.52 Q1571.94 1549.52 1569.67 1549.15 Q1567.43 1548.78 1565.02 1548.04 L1565.02 1543.34 Q1567.1 1544.47 1569.33 1545.03 Q1571.55 1545.58 1574.03 1545.58 Q1578.03 1545.58 1580.37 1543.48 Q1582.71 1541.37 1582.71 1537.76 Q1582.71 1534.15 1580.37 1532.04 Q1578.03 1529.94 1574.03 1529.94 Q1572.15 1529.94 1570.28 1530.35 Q1568.42 1530.77 1566.48 1531.65 L1566.48 1514.29 Z\" fill=\"#000000\" fill-rule=\"evenodd\" fill-opacity=\"1\" /><path clip-path=\"url(#clip140)\" d=\"M1955.94 1544.91 L1963.57 1544.91 L1963.57 1518.55 L1955.26 1520.21 L1955.26 1515.95 L1963.53 1514.29 L1968.2 1514.29 L1968.2 1544.91 L1975.84 1544.91 L1975.84 1548.85 L1955.94 1548.85 L1955.94 1544.91 Z\" fill=\"#000000\" fill-rule=\"evenodd\" fill-opacity=\"1\" /><path clip-path=\"url(#clip140)\" d=\"M1995.29 1517.37 Q1991.68 1517.37 1989.85 1520.93 Q1988.04 1524.47 1988.04 1531.6 Q1988.04 1538.71 1989.85 1542.27 Q1991.68 1545.82 1995.29 1545.82 Q1998.92 1545.82 2000.73 1542.27 Q2002.56 1538.71 2002.56 1531.6 Q2002.56 1524.47 2000.73 1520.93 Q1998.92 1517.37 1995.29 1517.37 M1995.29 1513.66 Q2001.1 1513.66 2004.15 1518.27 Q2007.23 1522.85 2007.23 1531.6 Q2007.23 1540.33 2004.15 1544.94 Q2001.1 1549.52 1995.29 1549.52 Q1989.48 1549.52 1986.4 1544.94 Q1983.34 1540.33 1983.34 1531.6 Q1983.34 1522.85 1986.4 1518.27 Q1989.48 1513.66 1995.29 1513.66 Z\" fill=\"#000000\" fill-rule=\"evenodd\" fill-opacity=\"1\" /><path clip-path=\"url(#clip140)\" d=\"M2025.45 1517.37 Q2021.84 1517.37 2020.01 1520.93 Q2018.2 1524.47 2018.2 1531.6 Q2018.2 1538.71 2020.01 1542.27 Q2021.84 1545.82 2025.45 1545.82 Q2029.08 1545.82 2030.89 1542.27 Q2032.72 1538.71 2032.72 1531.6 Q2032.72 1524.47 2030.89 1520.93 Q2029.08 1517.37 2025.45 1517.37 M2025.45 1513.66 Q2031.26 1513.66 2034.31 1518.27 Q2037.39 1522.85 2037.39 1531.6 Q2037.39 1540.33 2034.31 1544.94 Q2031.26 1549.52 2025.45 1549.52 Q2019.64 1549.52 2016.56 1544.94 Q2013.5 1540.33 2013.5 1531.6 Q2013.5 1522.85 2016.56 1518.27 Q2019.64 1513.66 2025.45 1513.66 Z\" fill=\"#000000\" fill-rule=\"evenodd\" fill-opacity=\"1\" /><polyline clip-path=\"url(#clip142)\" style=\"stroke:#000000; stroke-linecap:butt; stroke-linejoin:round; stroke-width:2; stroke-opacity:0.1; fill:none\" points=\"\n",
       "  212.799,1015.73 2352.76,1015.73 \n",
       "  \"/>\n",
       "<polyline clip-path=\"url(#clip142)\" style=\"stroke:#000000; stroke-linecap:butt; stroke-linejoin:round; stroke-width:2; stroke-opacity:0.1; fill:none\" points=\"\n",
       "  212.799,497.707 2352.76,497.707 \n",
       "  \"/>\n",
       "<polyline clip-path=\"url(#clip140)\" style=\"stroke:#000000; stroke-linecap:butt; stroke-linejoin:round; stroke-width:4; stroke-opacity:1; fill:none\" points=\"\n",
       "  212.799,1486.45 212.799,47.2441 \n",
       "  \"/>\n",
       "<polyline clip-path=\"url(#clip140)\" style=\"stroke:#000000; stroke-linecap:butt; stroke-linejoin:round; stroke-width:4; stroke-opacity:1; fill:none\" points=\"\n",
       "  212.799,1015.73 231.696,1015.73 \n",
       "  \"/>\n",
       "<polyline clip-path=\"url(#clip140)\" style=\"stroke:#000000; stroke-linecap:butt; stroke-linejoin:round; stroke-width:4; stroke-opacity:1; fill:none\" points=\"\n",
       "  212.799,497.707 231.696,497.707 \n",
       "  \"/>\n",
       "<path clip-path=\"url(#clip140)\" d=\"M51.6634 1035.53 L59.3023 1035.53 L59.3023 1009.16 L50.9921 1010.83 L50.9921 1006.57 L59.256 1004.9 L63.9319 1004.9 L63.9319 1035.53 L71.5707 1035.53 L71.5707 1039.46 L51.6634 1039.46 L51.6634 1035.53 Z\" fill=\"#000000\" fill-rule=\"evenodd\" fill-opacity=\"1\" /><path clip-path=\"url(#clip140)\" d=\"M91.0151 1007.98 Q87.404 1007.98 85.5753 1011.54 Q83.7697 1015.09 83.7697 1022.22 Q83.7697 1029.32 85.5753 1032.89 Q87.404 1036.43 91.0151 1036.43 Q94.6493 1036.43 96.4548 1032.89 Q98.2835 1029.32 98.2835 1022.22 Q98.2835 1015.09 96.4548 1011.54 Q94.6493 1007.98 91.0151 1007.98 M91.0151 1004.28 Q96.8252 1004.28 99.8808 1008.88 Q102.959 1013.47 102.959 1022.22 Q102.959 1030.94 99.8808 1035.55 Q96.8252 1040.13 91.0151 1040.13 Q85.2049 1040.13 82.1262 1035.55 Q79.0707 1030.94 79.0707 1022.22 Q79.0707 1013.47 82.1262 1008.88 Q85.2049 1004.28 91.0151 1004.28 Z\" fill=\"#000000\" fill-rule=\"evenodd\" fill-opacity=\"1\" /><path clip-path=\"url(#clip140)\" d=\"M102.959 998.377 L127.071 998.377 L127.071 1001.57 L102.959 1001.57 L102.959 998.377 Z\" fill=\"#000000\" fill-rule=\"evenodd\" fill-opacity=\"1\" /><path clip-path=\"url(#clip140)\" d=\"M135.929 1008.85 L142.136 1008.85 L142.136 987.431 L135.384 988.785 L135.384 985.325 L142.098 983.971 L145.898 983.971 L145.898 1008.85 L152.104 1008.85 L152.104 1012.05 L135.929 1012.05 L135.929 1008.85 Z\" fill=\"#000000\" fill-rule=\"evenodd\" fill-opacity=\"1\" /><path clip-path=\"url(#clip140)\" d=\"M159.815 983.971 L174.73 983.971 L174.73 987.168 L163.295 987.168 L163.295 994.052 Q164.122 993.769 164.95 993.638 Q165.777 993.487 166.605 993.487 Q171.307 993.487 174.053 996.064 Q176.799 998.641 176.799 1003.04 Q176.799 1007.57 173.978 1010.09 Q171.156 1012.6 166.022 1012.6 Q164.254 1012.6 162.411 1012.3 Q160.586 1011.99 158.63 1011.39 L158.63 1007.57 Q160.323 1008.5 162.129 1008.95 Q163.934 1009.4 165.947 1009.4 Q169.2 1009.4 171.1 1007.69 Q173 1005.98 173 1003.04 Q173 1000.11 171.1 998.396 Q169.2 996.685 165.947 996.685 Q164.423 996.685 162.9 997.023 Q161.395 997.362 159.815 998.076 L159.815 983.971 Z\" fill=\"#000000\" fill-rule=\"evenodd\" fill-opacity=\"1\" /><path clip-path=\"url(#clip140)\" d=\"M52.1524 517.499 L59.7913 517.499 L59.7913 491.133 L51.4811 492.8 L51.4811 488.541 L59.745 486.874 L64.4209 486.874 L64.4209 517.499 L72.0597 517.499 L72.0597 521.434 L52.1524 521.434 L52.1524 517.499 Z\" fill=\"#000000\" fill-rule=\"evenodd\" fill-opacity=\"1\" /><path clip-path=\"url(#clip140)\" d=\"M91.5041 489.953 Q87.893 489.953 86.0643 493.518 Q84.2587 497.059 84.2587 504.189 Q84.2587 511.295 86.0643 514.86 Q87.893 518.402 91.5041 518.402 Q95.1383 518.402 96.9438 514.86 Q98.7725 511.295 98.7725 504.189 Q98.7725 497.059 96.9438 493.518 Q95.1383 489.953 91.5041 489.953 M91.5041 486.249 Q97.3142 486.249 100.37 490.856 Q103.448 495.439 103.448 504.189 Q103.448 512.916 100.37 517.522 Q97.3142 522.106 91.5041 522.106 Q85.6939 522.106 82.6152 517.522 Q79.5597 512.916 79.5597 504.189 Q79.5597 495.439 82.6152 490.856 Q85.6939 486.249 91.5041 486.249 Z\" fill=\"#000000\" fill-rule=\"evenodd\" fill-opacity=\"1\" /><path clip-path=\"url(#clip140)\" d=\"M103.448 480.351 L127.56 480.351 L127.56 483.548 L103.448 483.548 L103.448 480.351 Z\" fill=\"#000000\" fill-rule=\"evenodd\" fill-opacity=\"1\" /><path clip-path=\"url(#clip140)\" d=\"M136.418 490.826 L142.625 490.826 L142.625 469.404 L135.873 470.759 L135.873 467.298 L142.587 465.944 L146.387 465.944 L146.387 490.826 L152.593 490.826 L152.593 494.024 L136.418 494.024 L136.418 490.826 Z\" fill=\"#000000\" fill-rule=\"evenodd\" fill-opacity=\"1\" /><path clip-path=\"url(#clip140)\" d=\"M163.539 490.826 L176.799 490.826 L176.799 494.024 L158.969 494.024 L158.969 490.826 Q161.132 488.588 164.856 484.827 Q168.599 481.046 169.558 479.956 Q171.382 477.906 172.097 476.495 Q172.83 475.066 172.83 473.693 Q172.83 471.454 171.25 470.044 Q169.689 468.633 167.169 468.633 Q165.382 468.633 163.389 469.254 Q161.414 469.875 159.157 471.135 L159.157 467.298 Q161.452 466.376 163.445 465.906 Q165.439 465.436 167.094 465.436 Q171.457 465.436 174.053 467.618 Q176.648 469.799 176.648 473.448 Q176.648 475.178 175.99 476.739 Q175.351 478.282 173.639 480.388 Q173.169 480.934 170.649 483.548 Q168.128 486.143 163.539 490.826 Z\" fill=\"#000000\" fill-rule=\"evenodd\" fill-opacity=\"1\" /><polyline clip-path=\"url(#clip142)\" style=\"stroke:#009af9; stroke-linecap:butt; stroke-linejoin:round; stroke-width:4; stroke-opacity:1; fill:none\" points=\"\n",
       "  273.364,87.9763 290.767,197.21 308.171,298.425 325.575,366.251 342.978,433.911 360.382,482.711 377.786,521.771 395.189,560.616 412.593,596.759 429.997,638.719 \n",
       "  447.4,679.529 464.804,716.009 482.208,753.854 499.611,788.376 517.015,821.374 534.419,853.822 551.823,883.526 569.226,913.399 586.63,940.853 604.034,968.179 \n",
       "  621.437,994.614 638.841,1020.17 656.245,1045.32 673.648,1069.93 691.052,1093.92 708.456,1117.9 725.859,1141.49 743.263,1164.66 760.667,1187.5 778.07,1210.23 \n",
       "  795.474,1232.19 812.878,1254.19 830.282,1275.65 847.685,1296.86 865.089,1317.71 882.493,1338.4 899.896,1358.76 917.3,1379.06 934.704,1399.19 952.107,113.728 \n",
       "  969.511,197.766 986.915,290.14 1004.32,352.414 1021.72,403.603 1039.13,456.177 1056.53,494.387 1073.93,522.908 1091.34,559.795 1108.74,602.19 1126.14,638.125 \n",
       "  1143.55,674.031 1160.95,709.903 1178.36,742.739 1195.76,774.135 1213.16,804.999 1230.57,833.105 1247.97,861.363 1265.37,887.168 1282.78,912.811 1300.18,937.535 \n",
       "  1317.58,961.348 1334.99,984.741 1352.39,1007.61 1369.8,1029.9 1387.2,1052.22 1404.6,1074.18 1422.01,1095.83 1439.41,1117.28 1456.81,1138.75 1474.22,1159.58 \n",
       "  1491.62,1180.61 1509.03,1201.23 1526.43,1221.77 1543.83,1242.06 1561.24,1262.3 1578.64,1282.31 1596.04,1302.33 1613.45,1322.23 1630.85,670.898 1648.25,711.088 \n",
       "  1665.66,801.297 1683.06,863.92 1700.47,894.927 1717.87,945.837 1735.27,955.94 1752.68,995.916 1770.08,1009.5 1787.48,1040.75 1804.89,1048.12 1822.29,1073.4 \n",
       "  1839.7,1078.7 1857.1,1099.73 1874.5,1107.11 1891.91,1124.86 1909.31,1135.67 1926.71,1150.92 1944.12,1170.17 1961.52,1183.3 1978.92,1202.9 1996.33,1214.16 \n",
       "  2013.73,1232.43 2031.14,1242.11 2048.54,1263.44 2065.94,1271.75 2083.35,1291.81 2100.75,1298.97 2118.15,1319.2 2135.56,1325.38 2152.96,1346.63 2170.37,1351.97 \n",
       "  2187.77,1371.86 2205.17,1376.47 2222.58,1397.72 2239.98,1401.7 2257.38,1421.6 2274.79,1425.04 2292.19,1445.72 \n",
       "  \"/>\n",
       "<path clip-path=\"url(#clip140)\" d=\"\n",
       "M1991.22 198.898 L2281.42 198.898 L2281.42 95.2176 L1991.22 95.2176  Z\n",
       "  \" fill=\"#ffffff\" fill-rule=\"evenodd\" fill-opacity=\"1\"/>\n",
       "<polyline clip-path=\"url(#clip140)\" style=\"stroke:#000000; stroke-linecap:butt; stroke-linejoin:round; stroke-width:4; stroke-opacity:1; fill:none\" points=\"\n",
       "  1991.22,198.898 2281.42,198.898 2281.42,95.2176 1991.22,95.2176 1991.22,198.898 \n",
       "  \"/>\n",
       "<polyline clip-path=\"url(#clip140)\" style=\"stroke:#009af9; stroke-linecap:butt; stroke-linejoin:round; stroke-width:4; stroke-opacity:1; fill:none\" points=\"\n",
       "  2015,147.058 2157.66,147.058 \n",
       "  \"/>\n",
       "<path clip-path=\"url(#clip140)\" d=\"M2195.28 166.745 Q2193.48 171.375 2191.76 172.787 Q2190.05 174.199 2187.18 174.199 L2183.78 174.199 L2183.78 170.634 L2186.28 170.634 Q2188.04 170.634 2189.01 169.8 Q2189.98 168.967 2191.16 165.865 L2191.93 163.921 L2181.44 138.412 L2185.95 138.412 L2194.05 158.689 L2202.16 138.412 L2206.67 138.412 L2195.28 166.745 Z\" fill=\"#000000\" fill-rule=\"evenodd\" fill-opacity=\"1\" /><path clip-path=\"url(#clip140)\" d=\"M2213.96 160.402 L2221.6 160.402 L2221.6 134.037 L2213.29 135.703 L2213.29 131.444 L2221.55 129.778 L2226.23 129.778 L2226.23 160.402 L2233.87 160.402 L2233.87 164.338 L2213.96 164.338 L2213.96 160.402 Z\" fill=\"#000000\" fill-rule=\"evenodd\" fill-opacity=\"1\" /></svg>\n"
      ]
     },
     "execution_count": 6,
     "metadata": {},
     "output_type": "execute_result"
    }
   ],
   "source": [
    "plot(diag(cov_tot), yaxis=:log)"
   ]
  },
  {
   "cell_type": "code",
   "execution_count": null,
   "id": "321c9a1b",
   "metadata": {},
   "outputs": [
    {
     "name": "stderr",
     "output_type": "stream",
     "text": [
      "\u001b[32mSampling:   8%|███▏                                     |  ETA: 1:26:39\u001b[39m"
     ]
    }
   ],
   "source": [
    "@model function model(data)\n",
    "    Ωm ~ Uniform(0.2, 0.3)\n",
    "    h ~ Uniform(0.6, 0.8)\n",
    "    s8 ~ Uniform(0.7, 1.0)\n",
    "    cosmology = LimberJack.Cosmology(Ωm, 0.05, h, 0.96, s8,\n",
    "                                     tk_mode=\"EisHu\",\n",
    "                                     Pk_mode=\"Halofit\")\n",
    "    tg2 = NumberCountsTracer(cosmology, des_zs, des_nz2, 2.)\n",
    "    tg3 = NumberCountsTracer(cosmology, des_zs, des_nz3, 2.)\n",
    "    ts3 = WeakLensingTracer(cosmology, des_zs, des_nz3)\n",
    "    g2g2 = [angularCℓ(cosmology, tg2, tg2, ℓ) for ℓ in ell]\n",
    "    #g2g3 = [angularCℓ(cosmology, tg2, tg3, ℓ) for ℓ in ell]\n",
    "    g3g3 = [angularCℓ(cosmology, tg3, tg3, ℓ) for ℓ in ell]\n",
    "    g2s3 = [angularCℓ(cosmology, tg2, ts3, ℓ) for ℓ in ell]\n",
    "    predictions = [g2g2, g3g3, g2s3]\n",
    "    predictions = vcat(predictions...)\n",
    "    data ~ MvNormal(predictions, cov_tot)\n",
    "end;\n",
    "\n",
    "iterations = 500\n",
    "step_size = 0.005\n",
    "samples_per_step = 10\n",
    "cores = 4\n",
    "\n",
    "# Start sampling.\n",
    "folpath = \"../chains\"\n",
    "folname = string(\"DES_combined_test_\", \"stpsz_\", step_size, \"_smpls_\", samples_per_step)\n",
    "folname = joinpath(folpath, folname)\n",
    "if isdir(folname)\n",
    "    println(\"Folder already exists\")\n",
    "    if isfile(joinpath(folname, \"chain.jls\"))\n",
    "        println(\"Restarting from past chain\")\n",
    "        past_chain = read(joinpath(folname, \"chain.jls\"), Chains)\n",
    "        new_chain = sample(model(data_vector), HMC(step_size, samples_per_step), iterations,\n",
    "                           progress=true; save_state=true, resume_from=past_chain)\n",
    "    else\n",
    "        new_chain = sample(model(data_vector), HMC(step_size, samples_per_step),\n",
    "                    iterations, progress=true; save_state=true)\n",
    "    end\n",
    "else\n",
    "    mkdir(folname)\n",
    "    println(\"Created new folder\")\n",
    "    new_chain = sample(model(data_vector), HMC(step_size, samples_per_step),\n",
    "                iterations, progress=true; save_state=true)\n",
    "end\n",
    "\n",
    "info = describe(new_chain)[1]\n",
    "fname_info = string(\"info.csv\")\n",
    "CSV.write(joinpath(folname, fname_info), info)\n",
    "\n",
    "\n",
    "fname_jls = string(\"chain.jls\")\n",
    "write(joinpath(folname, fname_jls), new_chain)\n",
    "    \n",
    "fname_csv = string(\"chain.csv\")\n",
    "CSV.write(joinpath(folname, fname_csv), new_chain)\n"
   ]
  },
  {
   "cell_type": "code",
   "execution_count": null,
   "id": "7130a2e0",
   "metadata": {},
   "outputs": [],
   "source": []
  }
 ],
 "metadata": {
  "kernelspec": {
   "display_name": "Julia 1.7.0",
   "language": "julia",
   "name": "julia-1.7"
  },
  "language_info": {
   "file_extension": ".jl",
   "mimetype": "application/julia",
   "name": "julia",
   "version": "1.7.0"
  }
 },
 "nbformat": 4,
 "nbformat_minor": 5
}
