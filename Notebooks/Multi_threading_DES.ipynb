{
 "cells": [
  {
   "cell_type": "code",
   "execution_count": 1,
   "id": "a7c4b509",
   "metadata": {},
   "outputs": [],
   "source": [
    "using Turing\n",
    "using LimberJack\n",
    "using CSV\n",
    "using NPZ\n",
    "using Plots\n",
    "using FITSIO\n",
    "using Plots\n",
    "using LinearAlgebra\n",
    "using Distributed\n",
    "using StatsPlots\n",
    "using BenchmarkTools"
   ]
  },
  {
   "cell_type": "code",
   "execution_count": 2,
   "id": "71a90bd5",
   "metadata": {},
   "outputs": [
    {
     "data": {
      "text/plain": [
       "4"
      ]
     },
     "execution_count": 2,
     "metadata": {},
     "output_type": "execute_result"
    }
   ],
   "source": [
    "Threads.nthreads()"
   ]
  },
  {
   "cell_type": "code",
   "execution_count": 3,
   "id": "b149fbe1",
   "metadata": {},
   "outputs": [],
   "source": [
    "files = npzread(\"../data/DESY1_cls/Cls_meta.npz\")\n",
    "Cls_meta = cls_meta(files);"
   ]
  },
  {
   "cell_type": "code",
   "execution_count": 4,
   "id": "9b75426a",
   "metadata": {},
   "outputs": [],
   "source": [
    "cov_tot = files[\"cov\"]\n",
    "inv_cov_tot = files[\"inv_cov\"]\n",
    "data_vector = files[\"cls\"];"
   ]
  },
  {
   "cell_type": "code",
   "execution_count": 5,
   "id": "44724136",
   "metadata": {},
   "outputs": [],
   "source": [
    "nuisances = Dict(\"b0\" => 1.41,\n",
    "                 \"b1\" => 1.62,\n",
    "                 \"b2\" => 1.60,\n",
    "                 \"b3\" => 1.92,\n",
    "                 \"b4\" => 2.00)\n",
    "\n",
    "cosmology = LimberJack.Cosmology(0.25, 0.05, 0.67, 0.96, 0.81,\n",
    "                                 tk_mode=\"EisHu\",\n",
    "                                 Pk_mode=\"Halofit\");"
   ]
  },
  {
   "cell_type": "code",
   "execution_count": 6,
   "id": "3bc082ce",
   "metadata": {},
   "outputs": [
    {
     "data": {
      "text/plain": [
       "BenchmarkTools.Trial: \n",
       "  memory estimate:  706.25 MiB\n",
       "  allocs estimate:  43274549\n",
       "  --------------\n",
       "  minimum time:     1.696 s (5.73% GC)\n",
       "  median time:      1.852 s (5.64% GC)\n",
       "  mean time:        1.814 s (5.65% GC)\n",
       "  maximum time:     1.894 s (5.51% GC)\n",
       "  --------------\n",
       "  samples:          3\n",
       "  evals/sample:     1"
      ]
     },
     "execution_count": 6,
     "metadata": {},
     "output_type": "execute_result"
    }
   ],
   "source": [
    "@benchmark Theory(cosmology, nuisances, Cls_meta, files)"
   ]
  },
  {
   "cell_type": "code",
   "execution_count": 7,
   "id": "5f51aff8",
   "metadata": {},
   "outputs": [
    {
     "name": "stdout",
     "output_type": "stream",
     "text": [
      "  1.877236 seconds (43.27 M allocations: 706.247 MiB, 6.61% gc time)\n"
     ]
    },
    {
     "data": {
      "text/plain": [
       "35-element Vector{Any}:\n",
       " [0.0002676186708586752, 8.841546375620103e-5, 4.047842996445243e-5, 2.517648848261276e-5, 1.719685318428818e-5]\n",
       " [0.00014154427725827532, 6.082965496138611e-5, 3.790912786833451e-5, 2.1105066816464778e-5, 1.50417822905421e-5, 1.0832740348411216e-5, 8.412670337432821e-6, 6.842558212033605e-6]\n",
       " [7.323117603985917e-5, 4.5440711342447205e-5, 2.6346180179657362e-5, 1.8925694986657402e-5, 1.1868694138595653e-5, 9.106928364464173e-6, 7.024827283867212e-6, 5.360095302509174e-6, 4.518132908657019e-6, 3.767214915663323e-6]\n",
       " [5.577733457946745e-5, 4.616282106211585e-5, 2.5094737902377355e-5, 1.8921595296841637e-5, 1.4679950450745867e-5, 9.80384794911678e-6, 7.528717771972302e-6, 6.39721752666294e-6, 5.058527350410401e-6, 4.07390666682515e-6, 3.4853684717331534e-6]\n",
       " [3.950129104496599e-5, 3.812504259743051e-5, 2.4652125155126748e-5, 1.6314431346226586e-5, 1.4146989537770204e-5, 1.1438017014359918e-5, 7.108417200822868e-6, 5.733138823700403e-6, 4.96492787875246e-6, 4.2665776493727585e-6, 3.5112555632332174e-6, 2.9678205434948666e-6, 2.2506011680318384e-6]\n",
       " [0.0, 0.0, 0.0, 0.0, 0.0]\n",
       " [0.0, 0.0, 0.0, 0.0, 0.0]\n",
       " [0.0, 0.0, 0.0, 0.0, 0.0]\n",
       " [0.0, 0.0, 0.0, 0.0, 0.0]\n",
       " [0.0, 0.0, 0.0, 0.0, 0.0, 0.0, 0.0, 0.0]\n",
       " [0.0, 0.0, 0.0, 0.0, 0.0, 0.0, 0.0, 0.0]\n",
       " [0.0, 0.0, 0.0, 0.0, 0.0, 0.0, 0.0, 0.0]\n",
       " [0.0, 0.0, 0.0, 0.0, 0.0, 0.0, 0.0, 0.0]\n",
       " ⋮\n",
       " [0.0, 0.0, 0.0, 0.0, 0.0, 0.0, 0.0, 0.0, 0.0, 0.0, 0.0, 0.0, 0.0]\n",
       " [0.0, 0.0, 0.0, 0.0, 0.0, 0.0, 0.0, 0.0, 0.0, 0.0, 0.0, 0.0, 0.0]\n",
       " [0.0, 0.0, 0.0, 0.0, 0.0, 0.0, 0.0, 0.0, 0.0, 0.0  …  0.0, 0.0, 0.0, 0.0, 0.0, 0.0, 0.0, 0.0, 0.0, 0.0]\n",
       " [0.0, 0.0, 0.0, 0.0, 0.0, 0.0, 0.0, 0.0, 0.0, 0.0  …  0.0, 0.0, 0.0, 0.0, 0.0, 0.0, 0.0, 0.0, 0.0, 0.0]\n",
       " [0.0, 0.0, 0.0, 0.0, 0.0, 0.0, 0.0, 0.0, 0.0, 0.0  …  0.0, 0.0, 0.0, 0.0, 0.0, 0.0, 0.0, 0.0, 0.0, 0.0]\n",
       " [0.0, 0.0, 0.0, 0.0, 0.0, 0.0, 0.0, 0.0, 0.0, 0.0  …  0.0, 0.0, 0.0, 0.0, 0.0, 0.0, 0.0, 0.0, 0.0, 0.0]\n",
       " [0.0, 0.0, 0.0, 0.0, 0.0, 0.0, 0.0, 0.0, 0.0, 0.0  …  0.0, 0.0, 0.0, 0.0, 0.0, 0.0, 0.0, 0.0, 0.0, 0.0]\n",
       " [0.0, 0.0, 0.0, 0.0, 0.0, 0.0, 0.0, 0.0, 0.0, 0.0  …  0.0, 0.0, 0.0, 0.0, 0.0, 0.0, 0.0, 0.0, 0.0, 0.0]\n",
       " [0.0, 0.0, 0.0, 0.0, 0.0, 0.0, 0.0, 0.0, 0.0, 0.0  …  0.0, 0.0, 0.0, 0.0, 0.0, 0.0, 0.0, 0.0, 0.0, 0.0]\n",
       " [0.0, 0.0, 0.0, 0.0, 0.0, 0.0, 0.0, 0.0, 0.0, 0.0  …  0.0, 0.0, 0.0, 0.0, 0.0, 0.0, 0.0, 0.0, 0.0, 0.0]\n",
       " [0.0, 0.0, 0.0, 0.0, 0.0, 0.0, 0.0, 0.0, 0.0, 0.0  …  0.0, 0.0, 0.0, 0.0, 0.0, 0.0, 0.0, 0.0, 0.0, 0.0]\n",
       " [0.0, 0.0, 0.0, 0.0, 0.0, 0.0, 0.0, 0.0, 0.0, 0.0  …  0.0, 0.0, 0.0, 0.0, 0.0, 0.0, 0.0, 0.0, 0.0, 0.0]"
      ]
     },
     "execution_count": 7,
     "metadata": {},
     "output_type": "execute_result"
    }
   ],
   "source": [
    "@time Theory(cosmology, nuisances, Cls_meta, files)"
   ]
  },
  {
   "cell_type": "code",
   "execution_count": 8,
   "id": "581d28a0",
   "metadata": {},
   "outputs": [
    {
     "data": {
      "text/plain": [
       "BenchmarkTools.Trial: \n",
       "  memory estimate:  706.24 MiB\n",
       "  allocs estimate:  43274926\n",
       "  --------------\n",
       "  minimum time:     1.432 s (13.68% GC)\n",
       "  median time:      1.674 s (13.29% GC)\n",
       "  mean time:        1.738 s (13.47% GC)\n",
       "  maximum time:     2.172 s (13.94% GC)\n",
       "  --------------\n",
       "  samples:          4\n",
       "  evals/sample:     1"
      ]
     },
     "execution_count": 8,
     "metadata": {},
     "output_type": "execute_result"
    }
   ],
   "source": [
    "@benchmark Theory_parallel(cosmology, nuisances, Cls_meta, files)"
   ]
  },
  {
   "cell_type": "code",
   "execution_count": 9,
   "id": "adfc6644",
   "metadata": {},
   "outputs": [],
   "source": [
    "@model function model_parallel(data_vector; cov_tot=cov_tot)\n",
    "    Ωm ~ Uniform(0.1, 0.6)\n",
    "    Ωb = 0.05 #~ Uniform(0.03, 0.07)\n",
    "    h = 0.67 #~ Uniform(0.6, 0.9)\n",
    "    s8 ~ Uniform(0.6, 1.0)\n",
    "    ns = 0.96 #~ Uniform(0.87, 1.07)\n",
    "    \n",
    "    b0 = 1.69 #1.41 #~ Uniform(1.0, 3.0)\n",
    "    b1 = 2.05 #1.62 #~ Uniform(1.0, 3.0)\n",
    "    b2 = 2.01 #1.60 #~ Uniform(1.0, 3.0)\n",
    "    b3 = 2.46 #1.92 #~ Uniform(1.0, 3.0)\n",
    "    b4 = 2.54 #2.00 #~ Uniform(1.0, 3.0)\n",
    "    \n",
    "    #dz_g0 ~ Normal(0.008, 0.007)\n",
    "    #dz_g1 ~ Normal(-0.005, 0.007)\n",
    "    #dz_g2 ~ Normal(0.006, 0.006)\n",
    "    #dz_g3 ~ Normal(0.0, 0.010)\n",
    "    #dz_g4 ~ Normal(0.0, 0.010)\n",
    "    \n",
    "    #dz_k0 ~ Normal(-0.001, 0.016)\n",
    "    #dz_k1 ~ Normal(-0.019, 0.013)\n",
    "    #dz_k2 ~ Normal(-0.009, 0.011)\n",
    "    #dz_k3 ~ Normal(-0.018, 0.022)\n",
    "    \n",
    "    #m0 ~ Normal(0.0, 0.035)\n",
    "    #m1 ~ Normal(0.0, 0.035)\n",
    "    #m2 ~ Normal(0.0, 0.035)\n",
    "    #m3 ~ Normal(0.0, 0.035)\n",
    "    \n",
    "    #A_IA ~ Uniform(-5, 5) \n",
    "    #alpha_IA ~ Uniform(-5, 5)\n",
    "\n",
    "    nuisances = Dict(\"b0\" => b0,\n",
    "                     \"b1\" => b1,\n",
    "                     \"b2\" => b2,\n",
    "                     \"b3\" => b3,\n",
    "                     \"b4\" => b4) #,\n",
    "                     #\"dz_g0\" => dz_g0,\n",
    "                     #\"dz_g1\" => dz_g1,\n",
    "                     #\"dz_g2\" => dz_g2,\n",
    "                     #\"dz_g3\" => dz_g3,\n",
    "                     #\"dz_g4\" => dz_g4,\n",
    "                     #\"dz_k0\" => dz_k0,\n",
    "                     #\"dz_k1\" => dz_k1,\n",
    "                     #\"dz_k2\" => dz_k2,\n",
    "                     #\"dz_k3\" => dz_k3,\n",
    "                     #\"m0\" => m0,\n",
    "                     #\"m1\" => m1,\n",
    "                     #\"m2\" => m2,\n",
    "                     #\"m3\" => m3,\n",
    "                     #\"A_IA\" => A_IA,\n",
    "                     #\"alpha_IA\" => alpha_IA)\n",
    "    \n",
    "    cosmology = LimberJack.Cosmology(Ωm, Ωb, h, ns, s8,\n",
    "                                     tk_mode=\"EisHu\",\n",
    "                                     Pk_mode=\"Halofit\")\n",
    "    \n",
    "    theory = vcat(Theory_parallel(cosmology, nuisances, Cls_meta, files)...)\n",
    "    data_vector ~ MvNormal(theory, cov_tot)\n",
    "end;"
   ]
  },
  {
   "cell_type": "code",
   "execution_count": 10,
   "id": "3f907abe",
   "metadata": {},
   "outputs": [],
   "source": [
    "@model function model_linear(data_vector; cov_tot=cov_tot)\n",
    "    Ωm ~ Uniform(0.1, 0.6)\n",
    "    Ωb = 0.05 #~ Uniform(0.03, 0.07)\n",
    "    h = 0.67 #~ Uniform(0.6, 0.9)\n",
    "    s8 ~ Uniform(0.6, 1.0)\n",
    "    ns = 0.96 #~ Uniform(0.87, 1.07)\n",
    "    \n",
    "    b0 = 1.69 #1.41 #~ Uniform(1.0, 3.0)\n",
    "    b1 = 2.05 #1.62 #~ Uniform(1.0, 3.0)\n",
    "    b2 = 2.01 #1.60 #~ Uniform(1.0, 3.0)\n",
    "    b3 = 2.46 #1.92 #~ Uniform(1.0, 3.0)\n",
    "    b4 = 2.54 #2.00 #~ Uniform(1.0, 3.0)\n",
    "    \n",
    "    #dz_g0 ~ Normal(0.008, 0.007)\n",
    "    #dz_g1 ~ Normal(-0.005, 0.007)\n",
    "    #dz_g2 ~ Normal(0.006, 0.006)\n",
    "    #dz_g3 ~ Normal(0.0, 0.010)\n",
    "    #dz_g4 ~ Normal(0.0, 0.010)\n",
    "    \n",
    "    #dz_k0 ~ Normal(-0.001, 0.016)\n",
    "    #dz_k1 ~ Normal(-0.019, 0.013)\n",
    "    #dz_k2 ~ Normal(-0.009, 0.011)\n",
    "    #dz_k3 ~ Normal(-0.018, 0.022)\n",
    "    \n",
    "    #m0 ~ Normal(0.0, 0.035)\n",
    "    #m1 ~ Normal(0.0, 0.035)\n",
    "    #m2 ~ Normal(0.0, 0.035)\n",
    "    #m3 ~ Normal(0.0, 0.035)\n",
    "    \n",
    "    #A_IA ~ Uniform(-5, 5) \n",
    "    #alpha_IA ~ Uniform(-5, 5)\n",
    "\n",
    "    nuisances = Dict(\"b0\" => b0,\n",
    "                     \"b1\" => b1,\n",
    "                     \"b2\" => b2,\n",
    "                     \"b3\" => b3,\n",
    "                     \"b4\" => b4) #,\n",
    "                     #\"dz_g0\" => dz_g0,\n",
    "                     #\"dz_g1\" => dz_g1,\n",
    "                     #\"dz_g2\" => dz_g2,\n",
    "                     #\"dz_g3\" => dz_g3,\n",
    "                     #\"dz_g4\" => dz_g4,\n",
    "                     #\"dz_k0\" => dz_k0,\n",
    "                     #\"dz_k1\" => dz_k1,\n",
    "                     #\"dz_k2\" => dz_k2,\n",
    "                     #\"dz_k3\" => dz_k3,\n",
    "                     #\"m0\" => m0,\n",
    "                     #\"m1\" => m1,\n",
    "                     #\"m2\" => m2,\n",
    "                     #\"m3\" => m3,\n",
    "                     #\"A_IA\" => A_IA,\n",
    "                     #\"alpha_IA\" => alpha_IA)\n",
    "    \n",
    "    cosmology = LimberJack.Cosmology(Ωm, Ωb, h, ns, s8,\n",
    "                                     tk_mode=\"EisHu\",\n",
    "                                     Pk_mode=\"Halofit\")\n",
    "    \n",
    "    theory = vcat(Theory_parallel(cosmology, nuisances, Cls_meta, files)...)\n",
    "    data_vector ~ MvNormal(theory, cov_tot)\n",
    "end;"
   ]
  },
  {
   "cell_type": "code",
   "execution_count": 11,
   "id": "61d0ba36",
   "metadata": {},
   "outputs": [
    {
     "data": {
      "text/plain": [
       "4"
      ]
     },
     "execution_count": 11,
     "metadata": {},
     "output_type": "execute_result"
    }
   ],
   "source": [
    "iterations = 100\n",
    "nadapts = 20\n",
    "TAP = 0.60\n",
    "nchains = 4"
   ]
  },
  {
   "cell_type": "code",
   "execution_count": 11,
   "id": "b7ef2d3f",
   "metadata": {},
   "outputs": [
    {
     "ename": "LoadError",
     "evalue": "BoundsError: attempt to access Float64 at index [2]",
     "output_type": "error",
     "traceback": [
      "BoundsError: attempt to access Float64 at index [2]",
      "",
      "Stacktrace:",
      " [1] indexed_iterate(I::Float64, i::Int64, state::Nothing)",
      "   @ Base ./tuple.jl:98",
      " [2] merge(a::NamedTuple{(), Tuple{}}, itr::Tuple{Float64, Int64})",
      "   @ Base ./namedtuple.jl:292",
      " [3] (NUTS{Turing.Core.ForwardDiffAD{40}})(::Float64, ::Vararg{Any})",
      "   @ Turing.Inference ~/.julia/packages/Turing/uAz5c/src/inference/hmc.jl:460",
      " [4] NUTS(::Float64, ::Vararg{Any}; kwargs::Base.Pairs{Symbol, Union{}, Tuple{}, NamedTuple{(), Tuple{}}})",
      "   @ Turing.Inference ~/.julia/packages/Turing/uAz5c/src/inference/hmc.jl:414",
      " [5] NUTS(::Float64, ::Vararg{Any})",
      "   @ Turing.Inference ~/.julia/packages/Turing/uAz5c/src/inference/hmc.jl:414",
      " [6] top-level scope",
      "   @ In[11]:1",
      " [7] eval",
      "   @ ./boot.jl:373 [inlined]",
      " [8] include_string(mapexpr::typeof(REPL.softscope), mod::Module, code::String, filename::String)",
      "   @ Base ./loading.jl:1196"
     ]
    }
   ],
   "source": [
    "chains_linear = sample(model_linear(data_vector), NUTS(TAP, nadapts),\n",
    "                       iterations, progress=true, save_state=true)"
   ]
  },
  {
   "cell_type": "code",
   "execution_count": 12,
   "id": "992f7b9b",
   "metadata": {},
   "outputs": [
    {
     "ename": "LoadError",
     "evalue": "BoundsError: attempt to access Float64 at index [2]",
     "output_type": "error",
     "traceback": [
      "BoundsError: attempt to access Float64 at index [2]",
      "",
      "Stacktrace:",
      " [1] indexed_iterate(I::Float64, i::Int64, state::Nothing)",
      "   @ Base ./tuple.jl:98",
      " [2] merge(a::NamedTuple{(), Tuple{}}, itr::Tuple{Float64, Int64})",
      "   @ Base ./namedtuple.jl:292",
      " [3] (NUTS{Turing.Core.ForwardDiffAD{40}})(::Float64, ::Vararg{Any})",
      "   @ Turing.Inference ~/.julia/packages/Turing/uAz5c/src/inference/hmc.jl:460",
      " [4] NUTS(::Float64, ::Vararg{Any}; kwargs::Base.Pairs{Symbol, Union{}, Tuple{}, NamedTuple{(), Tuple{}}})",
      "   @ Turing.Inference ~/.julia/packages/Turing/uAz5c/src/inference/hmc.jl:414",
      " [5] NUTS(::Float64, ::Vararg{Any})",
      "   @ Turing.Inference ~/.julia/packages/Turing/uAz5c/src/inference/hmc.jl:414",
      " [6] top-level scope",
      "   @ In[12]:1",
      " [7] eval",
      "   @ ./boot.jl:373 [inlined]",
      " [8] include_string(mapexpr::typeof(REPL.softscope), mod::Module, code::String, filename::String)",
      "   @ Base ./loading.jl:1196"
     ]
    }
   ],
   "source": [
    "chains_parallel = sample(model_parallel(data_vector), NUTS(TAP, nadapts),\n",
    "                       iterations, progress=true, save_state=true)"
   ]
  }
 ],
 "metadata": {
  "kernelspec": {
   "display_name": "Julia 4 Threads 1.7.0",
   "language": "julia",
   "name": "julia-4-threads-1.7"
  },
  "language_info": {
   "file_extension": ".jl",
   "mimetype": "application/julia",
   "name": "julia",
   "version": "1.7.0"
  }
 },
 "nbformat": 4,
 "nbformat_minor": 5
}
