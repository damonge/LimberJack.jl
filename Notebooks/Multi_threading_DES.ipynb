{
 "cells": [
  {
   "cell_type": "code",
   "execution_count": 1,
   "id": "a7c4b509",
   "metadata": {},
   "outputs": [],
   "source": [
    "using Turing\n",
    "using LimberJack\n",
    "using CSV\n",
    "using NPZ\n",
    "using Plots\n",
    "using FITSIO\n",
    "using Plots\n",
    "using LinearAlgebra\n",
    "using Distributed\n",
    "using StatsPlots\n",
    "using BenchmarkTools"
   ]
  },
  {
   "cell_type": "code",
   "execution_count": 2,
   "id": "71a90bd5",
   "metadata": {},
   "outputs": [
    {
     "data": {
      "text/plain": [
       "4"
      ]
     },
     "execution_count": 2,
     "metadata": {},
     "output_type": "execute_result"
    }
   ],
   "source": [
    "Threads.nthreads()"
   ]
  },
  {
   "cell_type": "code",
   "execution_count": 3,
   "id": "b149fbe1",
   "metadata": {},
   "outputs": [],
   "source": [
    "files = npzread(\"../data/DESY1_cls/Cls_meta.npz\")\n",
    "Cls_meta = cls_meta(files);"
   ]
  },
  {
   "cell_type": "code",
   "execution_count": 4,
   "id": "9b75426a",
   "metadata": {},
   "outputs": [],
   "source": [
    "cov_tot = files[\"cov\"]\n",
    "inv_cov_tot = files[\"inv_cov\"]\n",
    "data_vector = files[\"cls\"];"
   ]
  },
  {
   "cell_type": "code",
   "execution_count": 5,
   "id": "44724136",
   "metadata": {},
   "outputs": [],
   "source": [
    "nuisances = Dict(\"b0\" => 1.41,\n",
    "                 \"b1\" => 1.62,\n",
    "                 \"b2\" => 1.60,\n",
    "                 \"b3\" => 1.92,\n",
    "                 \"b4\" => 2.00)\n",
    "\n",
    "cosmology = LimberJack.Cosmology(0.25, 0.05, 0.67, 0.96, 0.81,\n",
    "                                 tk_mode=\"EisHu\",\n",
    "                                 Pk_mode=\"Halofit\");"
   ]
  },
  {
   "cell_type": "code",
   "execution_count": 6,
   "id": "3bc082ce",
   "metadata": {},
   "outputs": [
    {
     "data": {
      "text/plain": [
       "BenchmarkTools.Trial: \n",
       "  memory estimate:  706.21 MiB\n",
       "  allocs estimate:  43274841\n",
       "  --------------\n",
       "  minimum time:     1.355 s (5.99% GC)\n",
       "  median time:      1.388 s (5.88% GC)\n",
       "  mean time:        1.390 s (6.02% GC)\n",
       "  maximum time:     1.427 s (5.64% GC)\n",
       "  --------------\n",
       "  samples:          4\n",
       "  evals/sample:     1"
      ]
     },
     "execution_count": 6,
     "metadata": {},
     "output_type": "execute_result"
    }
   ],
   "source": [
    "@benchmark Theory(cosmology, nuisances, Cls_meta, files)"
   ]
  },
  {
   "cell_type": "code",
   "execution_count": 1,
   "id": "10fe33d8",
   "metadata": {},
   "outputs": [
    {
     "ename": "LoadError",
     "evalue": "UndefVarError: Theory not defined",
     "output_type": "error",
     "traceback": [
      "UndefVarError: Theory not defined",
      "",
      "Stacktrace:",
      " [1] top-level scope",
      "   @ ./timing.jl:220 [inlined]",
      " [2] top-level scope",
      "   @ ./In[1]:0",
      " [3] eval",
      "   @ ./boot.jl:373 [inlined]",
      " [4] include_string(mapexpr::typeof(REPL.softscope), mod::Module, code::String, filename::String)",
      "   @ Base ./loading.jl:1196"
     ]
    }
   ],
   "source": [
    "@time Theory(cosmology, nuisances, Cls_meta, files)"
   ]
  },
  {
   "cell_type": "code",
   "execution_count": 7,
   "id": "581d28a0",
   "metadata": {},
   "outputs": [
    {
     "data": {
      "text/plain": [
       "BenchmarkTools.Trial: \n",
       "  memory estimate:  706.21 MiB\n",
       "  allocs estimate:  43274883\n",
       "  --------------\n",
       "  minimum time:     1.218 s (12.52% GC)\n",
       "  median time:      1.228 s (13.82% GC)\n",
       "  mean time:        1.231 s (13.86% GC)\n",
       "  maximum time:     1.245 s (13.63% GC)\n",
       "  --------------\n",
       "  samples:          5\n",
       "  evals/sample:     1"
      ]
     },
     "execution_count": 7,
     "metadata": {},
     "output_type": "execute_result"
    }
   ],
   "source": [
    "@benchmark Theory_parallel(cosmology, nuisances, Cls_meta, files)"
   ]
  },
  {
   "cell_type": "code",
   "execution_count": 8,
   "id": "adfc6644",
   "metadata": {},
   "outputs": [],
   "source": [
    "@model function model_parallel(data_vector; cov_tot=cov_tot)\n",
    "    Ωm ~ Uniform(0.1, 0.6)\n",
    "    Ωb = 0.05 #~ Uniform(0.03, 0.07)\n",
    "    h = 0.67 #~ Uniform(0.6, 0.9)\n",
    "    s8 ~ Uniform(0.6, 1.0)\n",
    "    ns = 0.96 #~ Uniform(0.87, 1.07)\n",
    "    \n",
    "    b0 = 1.69 #1.41 #~ Uniform(1.0, 3.0)\n",
    "    b1 = 2.05 #1.62 #~ Uniform(1.0, 3.0)\n",
    "    b2 = 2.01 #1.60 #~ Uniform(1.0, 3.0)\n",
    "    b3 = 2.46 #1.92 #~ Uniform(1.0, 3.0)\n",
    "    b4 = 2.54 #2.00 #~ Uniform(1.0, 3.0)\n",
    "    \n",
    "    #dz_g0 ~ Normal(0.008, 0.007)\n",
    "    #dz_g1 ~ Normal(-0.005, 0.007)\n",
    "    #dz_g2 ~ Normal(0.006, 0.006)\n",
    "    #dz_g3 ~ Normal(0.0, 0.010)\n",
    "    #dz_g4 ~ Normal(0.0, 0.010)\n",
    "    \n",
    "    #dz_k0 ~ Normal(-0.001, 0.016)\n",
    "    #dz_k1 ~ Normal(-0.019, 0.013)\n",
    "    #dz_k2 ~ Normal(-0.009, 0.011)\n",
    "    #dz_k3 ~ Normal(-0.018, 0.022)\n",
    "    \n",
    "    #m0 ~ Normal(0.0, 0.035)\n",
    "    #m1 ~ Normal(0.0, 0.035)\n",
    "    #m2 ~ Normal(0.0, 0.035)\n",
    "    #m3 ~ Normal(0.0, 0.035)\n",
    "    \n",
    "    #A_IA ~ Uniform(-5, 5) \n",
    "    #alpha_IA ~ Uniform(-5, 5)\n",
    "\n",
    "    nuisances = Dict(\"b0\" => b0,\n",
    "                     \"b1\" => b1,\n",
    "                     \"b2\" => b2,\n",
    "                     \"b3\" => b3,\n",
    "                     \"b4\" => b4) #,\n",
    "                     #\"dz_g0\" => dz_g0,\n",
    "                     #\"dz_g1\" => dz_g1,\n",
    "                     #\"dz_g2\" => dz_g2,\n",
    "                     #\"dz_g3\" => dz_g3,\n",
    "                     #\"dz_g4\" => dz_g4,\n",
    "                     #\"dz_k0\" => dz_k0,\n",
    "                     #\"dz_k1\" => dz_k1,\n",
    "                     #\"dz_k2\" => dz_k2,\n",
    "                     #\"dz_k3\" => dz_k3,\n",
    "                     #\"m0\" => m0,\n",
    "                     #\"m1\" => m1,\n",
    "                     #\"m2\" => m2,\n",
    "                     #\"m3\" => m3,\n",
    "                     #\"A_IA\" => A_IA,\n",
    "                     #\"alpha_IA\" => alpha_IA)\n",
    "    \n",
    "    cosmology = LimberJack.Cosmology(Ωm, Ωb, h, ns, s8,\n",
    "                                     tk_mode=\"EisHu\",\n",
    "                                     Pk_mode=\"Halofit\")\n",
    "    \n",
    "    theory = vcat(Theory_parallel(cosmology, nuisances, Cls_meta, files)...)\n",
    "    data_vector ~ MvNormal(theory, cov_tot)\n",
    "end;"
   ]
  },
  {
   "cell_type": "code",
   "execution_count": 9,
   "id": "3f907abe",
   "metadata": {},
   "outputs": [],
   "source": [
    "@model function model_linear(data_vector; cov_tot=cov_tot)\n",
    "    Ωm ~ Uniform(0.1, 0.6)\n",
    "    Ωb = 0.05 #~ Uniform(0.03, 0.07)\n",
    "    h = 0.67 #~ Uniform(0.6, 0.9)\n",
    "    s8 ~ Uniform(0.6, 1.0)\n",
    "    ns = 0.96 #~ Uniform(0.87, 1.07)\n",
    "    \n",
    "    b0 = 1.69 #1.41 #~ Uniform(1.0, 3.0)\n",
    "    b1 = 2.05 #1.62 #~ Uniform(1.0, 3.0)\n",
    "    b2 = 2.01 #1.60 #~ Uniform(1.0, 3.0)\n",
    "    b3 = 2.46 #1.92 #~ Uniform(1.0, 3.0)\n",
    "    b4 = 2.54 #2.00 #~ Uniform(1.0, 3.0)\n",
    "    \n",
    "    #dz_g0 ~ Normal(0.008, 0.007)\n",
    "    #dz_g1 ~ Normal(-0.005, 0.007)\n",
    "    #dz_g2 ~ Normal(0.006, 0.006)\n",
    "    #dz_g3 ~ Normal(0.0, 0.010)\n",
    "    #dz_g4 ~ Normal(0.0, 0.010)\n",
    "    \n",
    "    #dz_k0 ~ Normal(-0.001, 0.016)\n",
    "    #dz_k1 ~ Normal(-0.019, 0.013)\n",
    "    #dz_k2 ~ Normal(-0.009, 0.011)\n",
    "    #dz_k3 ~ Normal(-0.018, 0.022)\n",
    "    \n",
    "    #m0 ~ Normal(0.0, 0.035)\n",
    "    #m1 ~ Normal(0.0, 0.035)\n",
    "    #m2 ~ Normal(0.0, 0.035)\n",
    "    #m3 ~ Normal(0.0, 0.035)\n",
    "    \n",
    "    #A_IA ~ Uniform(-5, 5) \n",
    "    #alpha_IA ~ Uniform(-5, 5)\n",
    "\n",
    "    nuisances = Dict(\"b0\" => b0,\n",
    "                     \"b1\" => b1,\n",
    "                     \"b2\" => b2,\n",
    "                     \"b3\" => b3,\n",
    "                     \"b4\" => b4) #,\n",
    "                     #\"dz_g0\" => dz_g0,\n",
    "                     #\"dz_g1\" => dz_g1,\n",
    "                     #\"dz_g2\" => dz_g2,\n",
    "                     #\"dz_g3\" => dz_g3,\n",
    "                     #\"dz_g4\" => dz_g4,\n",
    "                     #\"dz_k0\" => dz_k0,\n",
    "                     #\"dz_k1\" => dz_k1,\n",
    "                     #\"dz_k2\" => dz_k2,\n",
    "                     #\"dz_k3\" => dz_k3,\n",
    "                     #\"m0\" => m0,\n",
    "                     #\"m1\" => m1,\n",
    "                     #\"m2\" => m2,\n",
    "                     #\"m3\" => m3,\n",
    "                     #\"A_IA\" => A_IA,\n",
    "                     #\"alpha_IA\" => alpha_IA)\n",
    "    \n",
    "    cosmology = LimberJack.Cosmology(Ωm, Ωb, h, ns, s8,\n",
    "                                     tk_mode=\"EisHu\",\n",
    "                                     Pk_mode=\"Halofit\")\n",
    "    \n",
    "    theory = vcat(Theory_parallel(cosmology, nuisances, Cls_meta, files)...)\n",
    "    data_vector ~ MvNormal(theory, cov_tot)\n",
    "end;"
   ]
  },
  {
   "cell_type": "code",
   "execution_count": 10,
   "id": "61d0ba36",
   "metadata": {},
   "outputs": [
    {
     "data": {
      "text/plain": [
       "4"
      ]
     },
     "execution_count": 10,
     "metadata": {},
     "output_type": "execute_result"
    }
   ],
   "source": [
    "iterations = 100\n",
    "nadapts = 20\n",
    "TAP = 0.60\n",
    "nchains = 4"
   ]
  },
  {
   "cell_type": "code",
   "execution_count": 11,
   "id": "b7ef2d3f",
   "metadata": {},
   "outputs": [
    {
     "ename": "LoadError",
     "evalue": "BoundsError: attempt to access Float64 at index [2]",
     "output_type": "error",
     "traceback": [
      "BoundsError: attempt to access Float64 at index [2]",
      "",
      "Stacktrace:",
      " [1] indexed_iterate(I::Float64, i::Int64, state::Nothing)",
      "   @ Base ./tuple.jl:98",
      " [2] merge(a::NamedTuple{(), Tuple{}}, itr::Tuple{Float64, Int64})",
      "   @ Base ./namedtuple.jl:292",
      " [3] (NUTS{Turing.Core.ForwardDiffAD{40}})(::Float64, ::Vararg{Any})",
      "   @ Turing.Inference ~/.julia/packages/Turing/uAz5c/src/inference/hmc.jl:460",
      " [4] NUTS(::Float64, ::Vararg{Any}; kwargs::Base.Pairs{Symbol, Union{}, Tuple{}, NamedTuple{(), Tuple{}}})",
      "   @ Turing.Inference ~/.julia/packages/Turing/uAz5c/src/inference/hmc.jl:414",
      " [5] NUTS(::Float64, ::Vararg{Any})",
      "   @ Turing.Inference ~/.julia/packages/Turing/uAz5c/src/inference/hmc.jl:414",
      " [6] top-level scope",
      "   @ In[11]:1",
      " [7] eval",
      "   @ ./boot.jl:373 [inlined]",
      " [8] include_string(mapexpr::typeof(REPL.softscope), mod::Module, code::String, filename::String)",
      "   @ Base ./loading.jl:1196"
     ]
    }
   ],
   "source": [
    "chains_linear = sample(model_linear(data_vector), NUTS(TAP, nadapts),\n",
    "                       iterations, progress=true, save_state=true)"
   ]
  },
  {
   "cell_type": "code",
   "execution_count": 12,
   "id": "992f7b9b",
   "metadata": {},
   "outputs": [
    {
     "ename": "LoadError",
     "evalue": "BoundsError: attempt to access Float64 at index [2]",
     "output_type": "error",
     "traceback": [
      "BoundsError: attempt to access Float64 at index [2]",
      "",
      "Stacktrace:",
      " [1] indexed_iterate(I::Float64, i::Int64, state::Nothing)",
      "   @ Base ./tuple.jl:98",
      " [2] merge(a::NamedTuple{(), Tuple{}}, itr::Tuple{Float64, Int64})",
      "   @ Base ./namedtuple.jl:292",
      " [3] (NUTS{Turing.Core.ForwardDiffAD{40}})(::Float64, ::Vararg{Any})",
      "   @ Turing.Inference ~/.julia/packages/Turing/uAz5c/src/inference/hmc.jl:460",
      " [4] NUTS(::Float64, ::Vararg{Any}; kwargs::Base.Pairs{Symbol, Union{}, Tuple{}, NamedTuple{(), Tuple{}}})",
      "   @ Turing.Inference ~/.julia/packages/Turing/uAz5c/src/inference/hmc.jl:414",
      " [5] NUTS(::Float64, ::Vararg{Any})",
      "   @ Turing.Inference ~/.julia/packages/Turing/uAz5c/src/inference/hmc.jl:414",
      " [6] top-level scope",
      "   @ In[12]:1",
      " [7] eval",
      "   @ ./boot.jl:373 [inlined]",
      " [8] include_string(mapexpr::typeof(REPL.softscope), mod::Module, code::String, filename::String)",
      "   @ Base ./loading.jl:1196"
     ]
    }
   ],
   "source": [
    "chains_parallel = sample(model_parallel(data_vector), NUTS(TAP, nadapts),\n",
    "                       iterations, progress=true, save_state=true)"
   ]
  }
 ],
 "metadata": {
  "kernelspec": {
   "display_name": "Julia 4 Threads 1.7.0",
   "language": "julia",
   "name": "julia-4-threads-1.7"
  },
  "language_info": {
   "file_extension": ".jl",
   "mimetype": "application/julia",
   "name": "julia",
   "version": "1.7.0"
  }
 },
 "nbformat": 4,
 "nbformat_minor": 5
}
