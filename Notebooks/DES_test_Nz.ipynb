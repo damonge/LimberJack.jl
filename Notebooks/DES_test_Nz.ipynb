{
 "cells": [
  {
   "cell_type": "code",
   "execution_count": 53,
   "id": "02df9ee7",
   "metadata": {},
   "outputs": [],
   "source": [
    "using Turing\n",
    "using ReverseDiff\n",
    "Turing.setadbackend(:reversediff)\n",
    "using LimberJack\n",
    "using LinearAlgebra\n",
    "using CSV\n",
    "using NPZ\n",
    "using Plots\n",
    "using FITSIO\n",
    "using ForwardDiff\n",
    "using BenchmarkTools\n",
    "using DelimitedFiles"
   ]
  },
  {
   "cell_type": "code",
   "execution_count": 54,
   "id": "a74170be",
   "metadata": {},
   "outputs": [
    {
     "data": {
      "text/plain": [
       "\"../data/DESY1_cls/fullmarg_nzs/\""
      ]
     },
     "execution_count": 54,
     "metadata": {},
     "output_type": "execute_result"
    }
   ],
   "source": [
    "files = npzread(\"../data/DESY1_cls/wlwl.npz\");\n",
    "nz_path = \"../data/DESY1_cls/fullmarg_nzs/\""
   ]
  },
  {
   "cell_type": "code",
   "execution_count": 55,
   "id": "3a7469ed",
   "metadata": {},
   "outputs": [],
   "source": [
    "cov_tot = files[\"cov\"]\n",
    "inv_cov_tot = files[\"inv_cov\"]\n",
    "data_vector = files[\"cls\"];"
   ]
  },
  {
   "cell_type": "code",
   "execution_count": 56,
   "id": "b9c0a5b3",
   "metadata": {},
   "outputs": [],
   "source": [
    "zs_k0, nz_k0, cov_k0 = get_nzs(nz_path, 2, 0)\n",
    "zs_k1, nz_k1, cov_k1 = get_nzs(nz_path, 2, 1)\n",
    "zs_k2, nz_k2, cov_k2 = get_nzs(nz_path, 2, 2)\n",
    "zs_k3, nz_k3, cov_k3 = get_nzs(nz_path, 2, 3);"
   ]
  },
  {
   "cell_type": "code",
   "execution_count": 57,
   "id": "312a3a53",
   "metadata": {},
   "outputs": [
    {
     "data": {
      "text/plain": [
       "100×100 Diagonal{Float64, Vector{Float64}}:\n",
       " 1.6708e-8   ⋅           ⋅           …   ⋅          ⋅          ⋅ \n",
       "  ⋅         5.80425e-5   ⋅               ⋅          ⋅          ⋅ \n",
       "  ⋅          ⋅          0.000881997      ⋅          ⋅          ⋅ \n",
       "  ⋅          ⋅           ⋅               ⋅          ⋅          ⋅ \n",
       "  ⋅          ⋅           ⋅               ⋅          ⋅          ⋅ \n",
       "  ⋅          ⋅           ⋅           …   ⋅          ⋅          ⋅ \n",
       "  ⋅          ⋅           ⋅               ⋅          ⋅          ⋅ \n",
       "  ⋅          ⋅           ⋅               ⋅          ⋅          ⋅ \n",
       "  ⋅          ⋅           ⋅               ⋅          ⋅          ⋅ \n",
       "  ⋅          ⋅           ⋅               ⋅          ⋅          ⋅ \n",
       "  ⋅          ⋅           ⋅           …   ⋅          ⋅          ⋅ \n",
       "  ⋅          ⋅           ⋅               ⋅          ⋅          ⋅ \n",
       "  ⋅          ⋅           ⋅               ⋅          ⋅          ⋅ \n",
       " ⋮                                   ⋱                        \n",
       "  ⋅          ⋅           ⋅               ⋅          ⋅          ⋅ \n",
       "  ⋅          ⋅           ⋅               ⋅          ⋅          ⋅ \n",
       "  ⋅          ⋅           ⋅           …   ⋅          ⋅          ⋅ \n",
       "  ⋅          ⋅           ⋅               ⋅          ⋅          ⋅ \n",
       "  ⋅          ⋅           ⋅               ⋅          ⋅          ⋅ \n",
       "  ⋅          ⋅           ⋅               ⋅          ⋅          ⋅ \n",
       "  ⋅          ⋅           ⋅               ⋅          ⋅          ⋅ \n",
       "  ⋅          ⋅           ⋅           …   ⋅          ⋅          ⋅ \n",
       "  ⋅          ⋅           ⋅               ⋅          ⋅          ⋅ \n",
       "  ⋅          ⋅           ⋅              1.6708e-8   ⋅          ⋅ \n",
       "  ⋅          ⋅           ⋅               ⋅         1.6708e-8   ⋅ \n",
       "  ⋅          ⋅           ⋅               ⋅          ⋅         1.6708e-8"
      ]
     },
     "execution_count": 57,
     "metadata": {},
     "output_type": "execute_result"
    }
   ],
   "source": [
    "cov_k0 = Diagonal(cov_k0)\n",
    "cov_k1 = Diagonal(cov_k1)\n",
    "cov_k2 = Diagonal(cov_k2)\n",
    "cov_k3 = Diagonal(cov_k3)"
   ]
  },
  {
   "cell_type": "code",
   "execution_count": 58,
   "id": "57fb0a36",
   "metadata": {},
   "outputs": [],
   "source": [
    "#                Omega_b,           Omega_c          n_s,                 h,\n",
    "#                DESgc__0_gc_b,     DESgc__1_gc_b,   DESgc__2_gc_b,    DESgc__3_gc_b,    DESgc__4_gc_b,\n",
    "#                DESgc__0_dz,      DESgc__1_dz,      DESgc__2_dz,      DESgc__3_dz,      DESgc__4_dz,\n",
    "#                wl_ia_A,          wl_ia_eta, \n",
    "#                DESwl__0_wl_m,    DESwl__1_wl_m,    DESwl__2_wl_m,    DESwl__3_wl_m,\n",
    "#                DESwl__0_dz,      DESwl__1_dz,      DESwl__2_dz,      DESwl__3_dz,\n",
    "#                sigma_8,          Omega_m\n",
    "pars = [4.426868e-02,     2.093138e-01,     8.963611e-01,     8.495440e-01,\n",
    "         1.343888e+00,    1.639047e+00,      1.597174e+00,     1.944583e+00,     2.007245e+00,\n",
    "        -4.679383e-03,   -2.839996e-03,      1.771571e-03,     1.197051e-03,    -5.199799e-03,\n",
    "         2.389208e-01,   -6.435288e-01, \n",
    "         1.802722e-03,   -5.508994e-03,     1.952514e-02,    -1.117726e-03,\n",
    "        -1.744083e-02,    6.777779e-03,    -1.097939e-03,    -4.912315e-03,\n",
    "         8.536883e-01,    2.535825e-01];"
   ]
  },
  {
   "cell_type": "code",
   "execution_count": 37,
   "id": "417c990f",
   "metadata": {},
   "outputs": [],
   "source": [
    "nuisances = Dict(\"b0\" => pars[5],\n",
    "                 \"b1\" => pars[6],\n",
    "                 \"b2\" => pars[7],\n",
    "                 \"b3\" => pars[8],\n",
    "                 \"b4\" => pars[9],\n",
    "                 \"dz_g0\" => pars[10],\n",
    "                 \"dz_g1\" => pars[11],\n",
    "                 \"dz_g2\" => pars[12],\n",
    "                 \"dz_g3\" => pars[13],\n",
    "                 \"dz_g4\" => pars[14],\n",
    "                 \"dz_k0\" => pars[21],\n",
    "                 \"dz_k1\" => pars[22],\n",
    "                 \"dz_k2\" => pars[23],\n",
    "                 \"dz_k3\" => pars[24],\n",
    "                 \"m0\" => pars[17],\n",
    "                 \"m1\" => pars[18],\n",
    "                 \"m2\" => pars[19],\n",
    "                 \"m3\" => pars[20],\n",
    "                 \"A_IA\" => pars[15],\n",
    "                 \"alpha_IA\" => pars[16]);"
   ]
  },
  {
   "cell_type": "code",
   "execution_count": 38,
   "id": "7325f732",
   "metadata": {},
   "outputs": [],
   "source": [
    "@model function model(data_vector; cov_tot=cov_tot, nz_path=nz_path)\n",
    "    #KiDS priors\n",
    "    Ωm ~ Uniform(0.1, 0.6)\n",
    "    Ωb = pars[1]\n",
    "    h = pars[4]\n",
    "    ns = pars[3]\n",
    "    s8 = pars[25]\n",
    "    \n",
    "    Nz_k0 ~ MvNormal(nz_k0, cov_k0)\n",
    "    Nz_k1 ~ MvNormal(nz_k1, cov_k1)\n",
    "    Nz_k2 ~ MvNormal(nz_k2, cov_k2)\n",
    "    Nz_k3 ~ MvNormal(nz_k3, cov_k3)\n",
    "\n",
    "    nuisances = Dict(\"nz_k0\" => Nz_k0,\n",
    "                     \"nz_k1\" => Nz_k1,\n",
    "                     \"nz_k2\" => Nz_k2,\n",
    "                     \"nz_k3\" => Nz_k3,\n",
    "                     \"m0\" => pars[17],\n",
    "                     \"m1\" => pars[18],\n",
    "                     \"m2\" => pars[19],\n",
    "                     \"m3\" => pars[20],\n",
    "                     \"A_IA\" => pars[15],\n",
    "                     \"alpha_IA\" => pars[16])\n",
    "    \n",
    "    cosmology = LimberJack.Cosmology(Ωm, Ωb, h, ns, s8,\n",
    "                                     tk_mode=\"EisHu\",\n",
    "                                     Pk_mode=\"Halofit\")\n",
    "    \n",
    "    theory = Theory(cosmology, files;\n",
    "                    nz_path=nz_path,\n",
    "                    Nuisances=nuisances)\n",
    "    \n",
    "    data_vector ~ MvNormal(theory, cov_tot)\n",
    "end;"
   ]
  },
  {
   "cell_type": "code",
   "execution_count": 39,
   "id": "4a0dba7f",
   "metadata": {},
   "outputs": [],
   "source": [
    "iterations = 300\n",
    "nadapts = 100;"
   ]
  },
  {
   "cell_type": "code",
   "execution_count": 40,
   "id": "54da0b16",
   "metadata": {},
   "outputs": [
    {
     "ename": "LoadError",
     "evalue": "PosDefException: matrix is not positive definite; Cholesky factorization failed.",
     "output_type": "error",
     "traceback": [
      "PosDefException: matrix is not positive definite; Cholesky factorization failed.",
      "",
      "Stacktrace:",
      "  [1] checkpositivedefinite",
      "    @ /opt/julia-1.7.0/share/julia/stdlib/v1.7/LinearAlgebra/src/factorization.jl:18 [inlined]",
      "  [2] cholesky!(A::Hermitian{Float64, Matrix{Float64}}, ::Val{false}; check::Bool)",
      "    @ LinearAlgebra /opt/julia-1.7.0/share/julia/stdlib/v1.7/LinearAlgebra/src/cholesky.jl:266",
      "  [3] cholesky!(A::Matrix{Float64}, ::Val{false}; check::Bool)",
      "    @ LinearAlgebra /opt/julia-1.7.0/share/julia/stdlib/v1.7/LinearAlgebra/src/cholesky.jl:298",
      "  [4] #cholesky#143",
      "    @ /opt/julia-1.7.0/share/julia/stdlib/v1.7/LinearAlgebra/src/cholesky.jl:394 [inlined]",
      "  [5] cholesky (repeats 2 times)",
      "    @ /opt/julia-1.7.0/share/julia/stdlib/v1.7/LinearAlgebra/src/cholesky.jl:394 [inlined]",
      "  [6] PDMat",
      "    @ ~/.julia/packages/PDMats/G0Prn/src/pdmat.jl:19 [inlined]",
      "  [7] MvNormal(μ::Vector{Float64}, Σ::Matrix{Float64})",
      "    @ Distributions ~/.julia/packages/Distributions/jFoHB/src/multivariate/mvnormal.jl:211",
      "  [8] #5",
      "    @ ./In[38]:9 [inlined]",
      "  [9] (::var\"#5#6\")(__rng__::Random._GLOBAL_RNG, __model__::DynamicPPL.Model{var\"#5#6\", (:data_vector, :cov_tot, :nz_path), (:cov_tot, :nz_path), (), Tuple{Vector{Float64}, Matrix{Float64}, String}, Tuple{Matrix{Float64}, String}}, __varinfo__::DynamicPPL.ThreadSafeVarInfo{DynamicPPL.UntypedVarInfo{DynamicPPL.Metadata{Dict{AbstractPPL.VarName, Int64}, Vector{Distribution}, Vector{AbstractPPL.VarName}, Vector{Real}, Vector{Set{DynamicPPL.Selector}}}, Float64}, Vector{Base.RefValue{Float64}}}, __sampler__::DynamicPPL.SampleFromUniform, __context__::DynamicPPL.DefaultContext, data_vector::Vector{Float64}, cov_tot::Matrix{Float64}, nz_path::String)",
      "    @ Main ./none:0",
      " [10] macro expansion",
      "    @ ~/.julia/packages/DynamicPPL/SgzCy/src/model.jl:0 [inlined]",
      " [11] _evaluate",
      "    @ ~/.julia/packages/DynamicPPL/SgzCy/src/model.jl:154 [inlined]",
      " [12] evaluate_threadsafe(rng::Random._GLOBAL_RNG, model::DynamicPPL.Model{var\"#5#6\", (:data_vector, :cov_tot, :nz_path), (:cov_tot, :nz_path), (), Tuple{Vector{Float64}, Matrix{Float64}, String}, Tuple{Matrix{Float64}, String}}, varinfo::DynamicPPL.UntypedVarInfo{DynamicPPL.Metadata{Dict{AbstractPPL.VarName, Int64}, Vector{Distribution}, Vector{AbstractPPL.VarName}, Vector{Real}, Vector{Set{DynamicPPL.Selector}}}, Float64}, sampler::DynamicPPL.SampleFromUniform, context::DynamicPPL.DefaultContext)",
      "    @ DynamicPPL ~/.julia/packages/DynamicPPL/SgzCy/src/model.jl:144",
      " [13] Model",
      "    @ ~/.julia/packages/DynamicPPL/SgzCy/src/model.jl:94 [inlined]",
      " [14] VarInfo",
      "    @ ~/.julia/packages/DynamicPPL/SgzCy/src/varinfo.jl:126 [inlined]",
      " [15] VarInfo",
      "    @ ~/.julia/packages/DynamicPPL/SgzCy/src/varinfo.jl:125 [inlined]",
      " [16] step(rng::Random._GLOBAL_RNG, model::DynamicPPL.Model{var\"#5#6\", (:data_vector, :cov_tot, :nz_path), (:cov_tot, :nz_path), (), Tuple{Vector{Float64}, Matrix{Float64}, String}, Tuple{Matrix{Float64}, String}}, spl::DynamicPPL.Sampler{NUTS{Turing.Core.ForwardDiffAD{40}, (), AdvancedHMC.DiagEuclideanMetric}}; resume_from::Nothing, kwargs::Base.Pairs{Symbol, Integer, Tuple{Symbol, Symbol}, NamedTuple{(:nadapts, :save_state), Tuple{Int64, Bool}}})",
      "    @ DynamicPPL ~/.julia/packages/DynamicPPL/SgzCy/src/sampler.jl:73",
      " [17] macro expansion",
      "    @ ~/.julia/packages/AbstractMCMC/oou1a/src/sample.jl:97 [inlined]",
      " [18] macro expansion",
      "    @ ~/.julia/packages/ProgressLogging/6KXlp/src/ProgressLogging.jl:328 [inlined]",
      " [19] (::AbstractMCMC.var\"#20#21\"{Bool, String, Nothing, Int64, Int64, Base.Pairs{Symbol, Integer, Tuple{Symbol, Symbol}, NamedTuple{(:nadapts, :save_state), Tuple{Int64, Bool}}}, Random._GLOBAL_RNG, DynamicPPL.Model{var\"#5#6\", (:data_vector, :cov_tot, :nz_path), (:cov_tot, :nz_path), (), Tuple{Vector{Float64}, Matrix{Float64}, String}, Tuple{Matrix{Float64}, String}}, DynamicPPL.Sampler{NUTS{Turing.Core.ForwardDiffAD{40}, (), AdvancedHMC.DiagEuclideanMetric}}, Int64, Int64})()",
      "    @ AbstractMCMC ~/.julia/packages/AbstractMCMC/oou1a/src/logging.jl:11",
      " [20] with_logstate(f::Function, logstate::Any)",
      "    @ Base.CoreLogging ./logging.jl:511",
      " [21] with_logger(f::Function, logger::LoggingExtras.TeeLogger{Tuple{LoggingExtras.EarlyFilteredLogger{ConsoleProgressMonitor.ProgressLogger, AbstractMCMC.var\"#1#3\"{Module}}, LoggingExtras.EarlyFilteredLogger{Base.CoreLogging.SimpleLogger, AbstractMCMC.var\"#2#4\"{Module}}}})",
      "    @ Base.CoreLogging ./logging.jl:623",
      " [22] with_progresslogger(f::Function, _module::Module, logger::Base.CoreLogging.SimpleLogger)",
      "    @ AbstractMCMC ~/.julia/packages/AbstractMCMC/oou1a/src/logging.jl:34",
      " [23] macro expansion",
      "    @ ~/.julia/packages/AbstractMCMC/oou1a/src/logging.jl:10 [inlined]",
      " [24] mcmcsample(rng::Random._GLOBAL_RNG, model::DynamicPPL.Model{var\"#5#6\", (:data_vector, :cov_tot, :nz_path), (:cov_tot, :nz_path), (), Tuple{Vector{Float64}, Matrix{Float64}, String}, Tuple{Matrix{Float64}, String}}, sampler::DynamicPPL.Sampler{NUTS{Turing.Core.ForwardDiffAD{40}, (), AdvancedHMC.DiagEuclideanMetric}}, N::Int64; progress::Bool, progressname::String, callback::Nothing, discard_initial::Int64, thinning::Int64, chain_type::Type, kwargs::Base.Pairs{Symbol, Integer, Tuple{Symbol, Symbol}, NamedTuple{(:nadapts, :save_state), Tuple{Int64, Bool}}})",
      "    @ AbstractMCMC ~/.julia/packages/AbstractMCMC/oou1a/src/sample.jl:88",
      " [25] sample(rng::Random._GLOBAL_RNG, model::DynamicPPL.Model{var\"#5#6\", (:data_vector, :cov_tot, :nz_path), (:cov_tot, :nz_path), (), Tuple{Vector{Float64}, Matrix{Float64}, String}, Tuple{Matrix{Float64}, String}}, sampler::DynamicPPL.Sampler{NUTS{Turing.Core.ForwardDiffAD{40}, (), AdvancedHMC.DiagEuclideanMetric}}, N::Int64; chain_type::Type, resume_from::Nothing, progress::Bool, nadapts::Int64, discard_adapt::Bool, discard_initial::Int64, kwargs::Base.Pairs{Symbol, Bool, Tuple{Symbol}, NamedTuple{(:save_state,), Tuple{Bool}}})",
      "    @ Turing.Inference ~/.julia/packages/Turing/uAz5c/src/inference/hmc.jl:140",
      " [26] #sample#2",
      "    @ ~/.julia/packages/Turing/uAz5c/src/inference/Inference.jl:142 [inlined]",
      " [27] #sample#1",
      "    @ ~/.julia/packages/Turing/uAz5c/src/inference/Inference.jl:132 [inlined]",
      " [28] top-level scope",
      "    @ In[40]:1",
      " [29] eval",
      "    @ ./boot.jl:373 [inlined]",
      " [30] include_string(mapexpr::typeof(REPL.softscope), mod::Module, code::String, filename::String)",
      "    @ Base ./loading.jl:1196"
     ]
    }
   ],
   "source": [
    "chain3 = sample(model(data_vector), NUTS(5, 0.1; init_ϵ=0.03), iterations,\n",
    "                progress=true; save_state=true);"
   ]
  },
  {
   "cell_type": "code",
   "execution_count": 32,
   "id": "64abea06",
   "metadata": {},
   "outputs": [
    {
     "ename": "LoadError",
     "evalue": "MethodError: no method matching PDMats.PDMat(::Hermitian{Float64, Matrix{Float64}})\n\u001b[0mClosest candidates are:\n\u001b[0m  PDMats.PDMat(::AbstractMatrix, \u001b[91m::Cholesky{T, S}\u001b[39m) where {T, S} at ~/.julia/packages/PDMats/G0Prn/src/pdmat.jl:12\n\u001b[0m  PDMats.PDMat(\u001b[91m::Cholesky\u001b[39m) at ~/.julia/packages/PDMats/G0Prn/src/pdmat.jl:21\n\u001b[0m  PDMats.PDMat(\u001b[91m::Symmetric\u001b[39m) at ~/.julia/packages/PDMats/G0Prn/src/pdmat.jl:20\n\u001b[0m  ...",
     "output_type": "error",
     "traceback": [
      "MethodError: no method matching PDMats.PDMat(::Hermitian{Float64, Matrix{Float64}})\n\u001b[0mClosest candidates are:\n\u001b[0m  PDMats.PDMat(::AbstractMatrix, \u001b[91m::Cholesky{T, S}\u001b[39m) where {T, S} at ~/.julia/packages/PDMats/G0Prn/src/pdmat.jl:12\n\u001b[0m  PDMats.PDMat(\u001b[91m::Cholesky\u001b[39m) at ~/.julia/packages/PDMats/G0Prn/src/pdmat.jl:21\n\u001b[0m  PDMats.PDMat(\u001b[91m::Symmetric\u001b[39m) at ~/.julia/packages/PDMats/G0Prn/src/pdmat.jl:20\n\u001b[0m  ...",
      "",
      "Stacktrace:",
      "  [1] MvNormal(μ::Vector{Float64}, Σ::Hermitian{Float64, Matrix{Float64}})",
      "    @ Distributions ~/.julia/packages/Distributions/jFoHB/src/multivariate/mvnormal.jl:211",
      "  [2] #2",
      "    @ ./In[29]:9 [inlined]",
      "  [3] (::var\"#2#3\")(__rng__::Random._GLOBAL_RNG, __model__::DynamicPPL.Model{var\"#2#3\", (:data_vector, :cov_tot, :nz_path), (:cov_tot, :nz_path), (), Tuple{Vector{Float64}, Matrix{Float64}, String}, Tuple{Matrix{Float64}, String}}, __varinfo__::DynamicPPL.ThreadSafeVarInfo{DynamicPPL.UntypedVarInfo{DynamicPPL.Metadata{Dict{AbstractPPL.VarName, Int64}, Vector{Distribution}, Vector{AbstractPPL.VarName}, Vector{Real}, Vector{Set{DynamicPPL.Selector}}}, Float64}, Vector{Base.RefValue{Float64}}}, __sampler__::DynamicPPL.SampleFromPrior, __context__::DynamicPPL.DefaultContext, data_vector::Vector{Float64}, cov_tot::Matrix{Float64}, nz_path::String)",
      "    @ Main ./none:0",
      "  [4] macro expansion",
      "    @ ~/.julia/packages/DynamicPPL/SgzCy/src/model.jl:0 [inlined]",
      "  [5] _evaluate",
      "    @ ~/.julia/packages/DynamicPPL/SgzCy/src/model.jl:154 [inlined]",
      "  [6] evaluate_threadsafe(rng::Random._GLOBAL_RNG, model::DynamicPPL.Model{var\"#2#3\", (:data_vector, :cov_tot, :nz_path), (:cov_tot, :nz_path), (), Tuple{Vector{Float64}, Matrix{Float64}, String}, Tuple{Matrix{Float64}, String}}, varinfo::DynamicPPL.UntypedVarInfo{DynamicPPL.Metadata{Dict{AbstractPPL.VarName, Int64}, Vector{Distribution}, Vector{AbstractPPL.VarName}, Vector{Real}, Vector{Set{DynamicPPL.Selector}}}, Float64}, sampler::DynamicPPL.SampleFromPrior, context::DynamicPPL.DefaultContext)",
      "    @ DynamicPPL ~/.julia/packages/DynamicPPL/SgzCy/src/model.jl:144",
      "  [7] Model",
      "    @ ~/.julia/packages/DynamicPPL/SgzCy/src/model.jl:94 [inlined]",
      "  [8] VarInfo",
      "    @ ~/.julia/packages/DynamicPPL/SgzCy/src/varinfo.jl:126 [inlined]",
      "  [9] VarInfo",
      "    @ ~/.julia/packages/DynamicPPL/SgzCy/src/varinfo.jl:125 [inlined]",
      " [10] step(rng::Random._GLOBAL_RNG, model::DynamicPPL.Model{var\"#2#3\", (:data_vector, :cov_tot, :nz_path), (:cov_tot, :nz_path), (), Tuple{Vector{Float64}, Matrix{Float64}, String}, Tuple{Matrix{Float64}, String}}, spl::DynamicPPL.Sampler{MH{(), NamedTuple{(), Tuple{}}}}; resume_from::Nothing, kwargs::Base.Pairs{Symbol, Integer, Tuple{Symbol, Symbol}, NamedTuple{(:nadapt, :save_state), Tuple{Int64, Bool}}})",
      "    @ DynamicPPL ~/.julia/packages/DynamicPPL/SgzCy/src/sampler.jl:73",
      " [11] macro expansion",
      "    @ ~/.julia/packages/AbstractMCMC/oou1a/src/sample.jl:97 [inlined]",
      " [12] macro expansion",
      "    @ ~/.julia/packages/ProgressLogging/6KXlp/src/ProgressLogging.jl:328 [inlined]",
      " [13] (::AbstractMCMC.var\"#20#21\"{Bool, String, Nothing, Int64, Int64, Base.Pairs{Symbol, Integer, Tuple{Symbol, Symbol}, NamedTuple{(:nadapt, :save_state), Tuple{Int64, Bool}}}, Random._GLOBAL_RNG, DynamicPPL.Model{var\"#2#3\", (:data_vector, :cov_tot, :nz_path), (:cov_tot, :nz_path), (), Tuple{Vector{Float64}, Matrix{Float64}, String}, Tuple{Matrix{Float64}, String}}, DynamicPPL.Sampler{MH{(), NamedTuple{(), Tuple{}}}}, Int64, Int64})()",
      "    @ AbstractMCMC ~/.julia/packages/AbstractMCMC/oou1a/src/logging.jl:11",
      " [14] with_logstate(f::Function, logstate::Any)",
      "    @ Base.CoreLogging ./logging.jl:511",
      " [15] with_logger(f::Function, logger::LoggingExtras.TeeLogger{Tuple{LoggingExtras.EarlyFilteredLogger{ConsoleProgressMonitor.ProgressLogger, AbstractMCMC.var\"#1#3\"{Module}}, LoggingExtras.EarlyFilteredLogger{Base.CoreLogging.SimpleLogger, AbstractMCMC.var\"#2#4\"{Module}}}})",
      "    @ Base.CoreLogging ./logging.jl:623",
      " [16] with_progresslogger(f::Function, _module::Module, logger::Base.CoreLogging.SimpleLogger)",
      "    @ AbstractMCMC ~/.julia/packages/AbstractMCMC/oou1a/src/logging.jl:34",
      " [17] macro expansion",
      "    @ ~/.julia/packages/AbstractMCMC/oou1a/src/logging.jl:10 [inlined]",
      " [18] mcmcsample(rng::Random._GLOBAL_RNG, model::DynamicPPL.Model{var\"#2#3\", (:data_vector, :cov_tot, :nz_path), (:cov_tot, :nz_path), (), Tuple{Vector{Float64}, Matrix{Float64}, String}, Tuple{Matrix{Float64}, String}}, sampler::DynamicPPL.Sampler{MH{(), NamedTuple{(), Tuple{}}}}, N::Int64; progress::Bool, progressname::String, callback::Nothing, discard_initial::Int64, thinning::Int64, chain_type::Type, kwargs::Base.Pairs{Symbol, Integer, Tuple{Symbol, Symbol}, NamedTuple{(:nadapt, :save_state), Tuple{Int64, Bool}}})",
      "    @ AbstractMCMC ~/.julia/packages/AbstractMCMC/oou1a/src/sample.jl:88",
      " [19] sample(rng::Random._GLOBAL_RNG, model::DynamicPPL.Model{var\"#2#3\", (:data_vector, :cov_tot, :nz_path), (:cov_tot, :nz_path), (), Tuple{Vector{Float64}, Matrix{Float64}, String}, Tuple{Matrix{Float64}, String}}, sampler::DynamicPPL.Sampler{MH{(), NamedTuple{(), Tuple{}}}}, N::Int64; chain_type::Type, resume_from::Nothing, progress::Bool, kwargs::Base.Pairs{Symbol, Integer, Tuple{Symbol, Symbol}, NamedTuple{(:nadapt, :save_state), Tuple{Int64, Bool}}})",
      "    @ Turing.Inference ~/.julia/packages/Turing/uAz5c/src/inference/Inference.jl:156",
      " [20] #sample#2",
      "    @ ~/.julia/packages/Turing/uAz5c/src/inference/Inference.jl:142 [inlined]",
      " [21] #sample#1",
      "    @ ~/.julia/packages/Turing/uAz5c/src/inference/Inference.jl:132 [inlined]",
      " [22] top-level scope",
      "    @ In[32]:1",
      " [23] eval",
      "    @ ./boot.jl:373 [inlined]",
      " [24] include_string(mapexpr::typeof(REPL.softscope), mod::Module, code::String, filename::String)",
      "    @ Base ./loading.jl:1196"
     ]
    }
   ],
   "source": [
    "chain1 = sample(model(data_vector), MH(), iterations,\n",
    "            nadapt=nadapts, progress=true; save_state=true);"
   ]
  },
  {
   "cell_type": "code",
   "execution_count": null,
   "id": "a94c9c61",
   "metadata": {},
   "outputs": [],
   "source": []
  }
 ],
 "metadata": {
  "kernelspec": {
   "display_name": "Julia 4 Threads 1.7.0",
   "language": "julia",
   "name": "julia-4-threads-1.7"
  },
  "language_info": {
   "file_extension": ".jl",
   "mimetype": "application/julia",
   "name": "julia",
   "version": "1.7.0"
  }
 },
 "nbformat": 4,
 "nbformat_minor": 5
}
