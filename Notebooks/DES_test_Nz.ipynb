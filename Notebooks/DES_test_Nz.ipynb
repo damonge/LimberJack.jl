{
 "cells": [
  {
   "cell_type": "code",
   "execution_count": 1,
   "id": "02df9ee7",
   "metadata": {},
   "outputs": [
    {
     "data": {
      "text/plain": [
       "\u001b[0m\u001b[1mPython module: \u001b[22m<module 'numpy' from '/home/jaime/.julia/environments/v1.7/.CondaPkg/env/lib/python3.10/site-packages/numpy/__init__.py'>"
      ]
     },
     "execution_count": 1,
     "metadata": {},
     "output_type": "execute_result"
    }
   ],
   "source": [
    "using Turing\n",
    "using LimberJack\n",
    "using LinearAlgebra\n",
    "using CSV\n",
    "using NPZ\n",
    "using PythonCall\n",
    "using PythonCall\n",
    "np = pyimport(\"numpy\")"
   ]
  },
  {
   "cell_type": "markdown",
   "id": "67ef264a",
   "metadata": {
    "heading_collapsed": true
   },
   "source": [
    "# Make N(z)'s "
   ]
  },
  {
   "cell_type": "code",
   "execution_count": 2,
   "id": "b9c0a5b3",
   "metadata": {
    "hidden": true
   },
   "outputs": [
    {
     "data": {
      "text/plain": [
       "(Float32[0.02, 0.06, 0.099999994, 0.14, 0.18, 0.22, 0.26, 0.3, 0.34, 0.38  …  3.62, 3.66, 3.7, 3.74, 3.78, 3.82, 3.8600001, 3.9, 3.94, 3.98], [0.0, 0.005984172563510772, 0.03765643218161212, 0.028133875010282052, 0.026655211697212404, 0.06408162232970639, 0.02553711344743602, 0.03706050250131086, 0.0216295539779018, 0.04669891197796871  …  0.0, 0.0, 0.0, 0.0006562865728945231, 0.0, 0.0, 0.0, 0.0, 0.0, 0.0], [1.6708037247042034e-8 5.802577730455622e-5 … 0.0 0.0; 0.0 5.804248534180326e-5 … 0.0 0.0; … ; 0.0 5.802577730455622e-5 … 1.6708037247042034e-8 0.0; 0.0 5.802577730455622e-5 … 0.0 1.6708037247042034e-8])"
      ]
     },
     "execution_count": 2,
     "metadata": {},
     "output_type": "execute_result"
    }
   ],
   "source": [
    "nz_path = \"../data/DESY1/Nzs/\" \n",
    "zs_k0, nz_k0, cov_k0 = get_nzs(nz_path, \"20\")\n",
    "zs_k1, nz_k1, cov_k1 = get_nzs(nz_path, \"21\")\n",
    "zs_k2, nz_k2, cov_k2 = get_nzs(nz_path, \"22\")\n",
    "zs_k3, nz_k3, cov_k3 = get_nzs(nz_path, \"23\")"
   ]
  },
  {
   "cell_type": "code",
   "execution_count": 3,
   "id": "6d44d8df",
   "metadata": {
    "hidden": true
   },
   "outputs": [],
   "source": [
    "err_k0 = sqrt.(diag(cov_k0))\n",
    "err_k1 = sqrt.(diag(cov_k1))\n",
    "err_k2 = sqrt.(diag(cov_k2))\n",
    "err_k3 = sqrt.(diag(cov_k3));"
   ]
  },
  {
   "cell_type": "code",
   "execution_count": 4,
   "id": "595bc6ca",
   "metadata": {
    "hidden": true
   },
   "outputs": [
    {
     "data": {
      "text/plain": [
       "100-element Vector{Float64}:\n",
       " 0.0055174578812623234\n",
       " 0.03731475470085482\n",
       " 0.16333979471101615\n",
       " 0.12062294796702823\n",
       " 0.184662196658819\n",
       " 0.38798059744822827\n",
       " 0.2312332555613124\n",
       " 0.2790647616623112\n",
       " 0.4231862448780885\n",
       " 0.3691064299325318\n",
       " 0.24553580822354665\n",
       " 0.1464506694314784\n",
       " 0.22886377847184422\n",
       " ⋮\n",
       " 0.0003136498641381306\n",
       " 0.00010898464234336964\n",
       " 0.00010898464234336964\n",
       " 0.00010898464234336964\n",
       " 0.00010898464234336964\n",
       " 0.00010898464234336964\n",
       " 0.00010898464234336964\n",
       " 0.00010898464234336964\n",
       " 0.00010898464234336964\n",
       " 0.00010898464234336964\n",
       " 0.00010898464234336964\n",
       " 0.00010898464234336964"
      ]
     },
     "execution_count": 4,
     "metadata": {},
     "output_type": "execute_result"
    }
   ],
   "source": [
    "err_k0"
   ]
  },
  {
   "cell_type": "code",
   "execution_count": 5,
   "id": "58bf43ff",
   "metadata": {
    "hidden": true
   },
   "outputs": [],
   "source": [
    "using Interpolations"
   ]
  },
  {
   "cell_type": "code",
   "execution_count": 6,
   "id": "cce1ff50",
   "metadata": {
    "hidden": true
   },
   "outputs": [],
   "source": [
    "l_X = LinRange(0, 1.1, 10)\n",
    "X = exp.(l_X) .- 1;"
   ]
  },
  {
   "cell_type": "code",
   "execution_count": 7,
   "id": "6a9965be",
   "metadata": {
    "hidden": true
   },
   "outputs": [],
   "source": [
    "nz_k0_itp = LinearInterpolation(zs_k0, nz_k0, extrapolation_bc=Line())\n",
    "err_k0_itp = LinearInterpolation(zs_k0, err_k0, extrapolation_bc=Line())\n",
    "\n",
    "nz_k1_itp = LinearInterpolation(zs_k1, nz_k1, extrapolation_bc=Line())\n",
    "err_k1_itp = LinearInterpolation(zs_k1, err_k1, extrapolation_bc=Line());\n",
    "\n",
    "nz_k2_itp = LinearInterpolation(zs_k2, nz_k2, extrapolation_bc=Line())\n",
    "err_k2_itp = LinearInterpolation(zs_k2, err_k2, extrapolation_bc=Line());\n",
    "\n",
    "nz_k3_itp = LinearInterpolation(zs_k3, nz_k3, extrapolation_bc=Line())\n",
    "err_k3_itp = LinearInterpolation(zs_k3, err_k3, extrapolation_bc=Line());"
   ]
  },
  {
   "cell_type": "code",
   "execution_count": 8,
   "id": "d4873d40",
   "metadata": {
    "hidden": true
   },
   "outputs": [],
   "source": [
    "nz_k0_lite = nz_k0_itp(X) \n",
    "err_k0_lite = err_k0_itp(X)\n",
    "cov_k0_lite = err_k0_lite.^2 \n",
    "\n",
    "nz_k1_lite = nz_k1_itp(X) \n",
    "err_k1_lite = err_k1_itp(X)\n",
    "cov_k1_lite = err_k1_lite.^2 \n",
    "\n",
    "nz_k2_lite = nz_k2_itp(X)\n",
    "err_k2_lite = err_k2_itp(X)\n",
    "cov_k2_lite = err_k2_lite.^2 \n",
    "\n",
    "nz_k3_lite = nz_k3_itp(X)\n",
    "err_k3_lite = err_k3_itp(X)\n",
    "cov_k3_lite = err_k3_lite.^2;"
   ]
  },
  {
   "cell_type": "code",
   "execution_count": 9,
   "id": "aee8e625",
   "metadata": {
    "hidden": true
   },
   "outputs": [],
   "source": [
    "npzwrite(\"../data/DESY1/lite10_nzs/nz_DESwl__0_e.npz\", Dict(\"z\" => X, \"dndz\"=> nz_k0_lite, \"cov\"=> cov_k0_lite))\n",
    "npzwrite(\"../data/DESY1/lite10_nzs/nz_DESwl__1_e.npz\", Dict(\"z\" => X, \"dndz\"=> nz_k1_lite, \"cov\"=> cov_k1_lite))\n",
    "npzwrite(\"../data/DESY1/lite10_nzs/nz_DESwl__2_e.npz\", Dict(\"z\" => X, \"dndz\"=> nz_k2_lite, \"cov\"=> cov_k2_lite))\n",
    "npzwrite(\"../data/DESY1/lite10_nzs/nz_DESwl__3_e.npz\", Dict(\"z\" => X, \"dndz\"=> nz_k3_lite, \"cov\"=> cov_k3_lite))"
   ]
  },
  {
   "cell_type": "markdown",
   "id": "f9417557",
   "metadata": {},
   "source": [
    "# Lkl"
   ]
  },
  {
   "cell_type": "code",
   "execution_count": 2,
   "id": "09caefc3",
   "metadata": {},
   "outputs": [
    {
     "data": {
      "text/plain": [
       "Dict{String, Array{Float64}} with 14 entries:\n",
       "  \"ls_DESwl__2_e_DESwl__3_e\" => [44.5, 74.5, 104.5, 134.5, 164.5, 194.5, 224.5,…\n",
       "  \"ls_DESwl__3_e_DESwl__3_e\" => [44.5, 74.5, 104.5, 134.5, 164.5, 194.5, 224.5,…\n",
       "  \"ls_DESwl__0_e_DESwl__2_e\" => [44.5, 74.5, 104.5, 134.5, 164.5, 194.5, 224.5,…\n",
       "  \"ls_DESwl__0_e_DESwl__3_e\" => [44.5, 74.5, 104.5, 134.5, 164.5, 194.5, 224.5,…\n",
       "  \"ls_DESwl__0_e_DESwl__0_e\" => [44.5, 74.5, 104.5, 134.5, 164.5, 194.5, 224.5,…\n",
       "  \"ls_DESwl__1_e_DESwl__2_e\" => [44.5, 74.5, 104.5, 134.5, 164.5, 194.5, 224.5,…\n",
       "  \"nz_DESwl__0_e\"            => [0.0 0.0596035 … 1.83518 2.00417; -0.0156303 0.…\n",
       "  \"ls_DESwl__1_e_DESwl__1_e\" => [44.5, 74.5, 104.5, 134.5, 164.5, 194.5, 224.5,…\n",
       "  \"ls_DESwl__0_e_DESwl__1_e\" => [44.5, 74.5, 104.5, 134.5, 164.5, 194.5, 224.5,…\n",
       "  \"ls_DESwl__2_e_DESwl__2_e\" => [44.5, 74.5, 104.5, 134.5, 164.5, 194.5, 224.5,…\n",
       "  \"nz_DESwl__1_e\"            => [0.0 0.0596035 … 1.83518 2.00417; -0.0110362 0.…\n",
       "  \"ls_DESwl__1_e_DESwl__3_e\" => [44.5, 74.5, 104.5, 134.5, 164.5, 194.5, 224.5,…\n",
       "  \"nz_DESwl__3_e\"            => [0.0 0.0596035 … 1.83518 2.00417; -0.00299209 0…\n",
       "  \"nz_DESwl__2_e\"            => [0.0 0.0596035 … 1.83518 2.00417; -0.00318556 0…"
      ]
     },
     "execution_count": 2,
     "metadata": {},
     "output_type": "execute_result"
    }
   ],
   "source": [
    "fol = \"DESY1\"\n",
    "data_set = \"wlwl_lite20\"\n",
    "meta = np.load(string(\"../data/\", fol, \"/\", data_set, \"_meta.npz\"))\n",
    "files = npzread(string(\"../data/\", fol, \"/\", data_set, \"_files.npz\"))"
   ]
  },
  {
   "cell_type": "code",
   "execution_count": 3,
   "id": "3a7469ed",
   "metadata": {},
   "outputs": [
    {
     "data": {
      "text/plain": [
       "([0.0, 0.05960345263416178, 0.1227594768342366, 0.18967981813128243, 0.2605888428210885, 0.3357242902053281, 0.4153380696688811, 0.4996971052657162, 0.589084230645011, 0.6837991373179546, 0.7841593794445278, 0.8905014385090455, 1.0031818514540345, 1.1225784060547879, 1.2490914075423687, 1.383145020721721, 1.5251886920846465, 1.6756986566856353, 1.8351795348326885, 2.0041660239464334], [-0.0029920862817553865, 0.0059248475661502365, 0.032238221167165015, 0.03571222810002045, 0.025706752726799068, 0.02327901214520534, 0.023314480987691236, 0.015983682328289405, 0.018582256597912683, 0.038427123883375436, 0.1568660807412767, 0.49827347345304107, 0.5454490255313, 0.3212876355431584, 0.20741875516430566, 0.09557584275573756, 0.03344405375268676, 0.01666406697577299, 0.0075301186882051376, 0.002940391214619623], [1.3071056331659427e-5, 5.6916697364628766e-5, 0.0006085164742491847, 0.0005338399778558487, 0.00027732827299364177, 0.00021654179086243568, 0.00020020338979726506, 0.00012940670432778377, 0.0001499730370737492, 0.0004865986888254869, 0.004989223250079832, 0.04023963087222558, 0.04307891647755767, 0.013950903596252265, 0.005632654383766628, 0.0012375434083659023, 0.0002512437489330073, 9.848872266447135e-5, 4.113779255298546e-5, 1.5268004782021404e-5])"
      ]
     },
     "execution_count": 3,
     "metadata": {},
     "output_type": "execute_result"
    }
   ],
   "source": [
    "tracers_names = pyconvert(Vector{String}, meta[\"tracers\"])\n",
    "pairs = pyconvert(Vector{Vector{String}}, meta[\"pairs\"]);\n",
    "pairs_ids = pyconvert(Vector{Vector{Int}}, meta[\"pairs_ids\"])\n",
    "idx = pyconvert(Vector{Int}, meta[\"idx\"])\n",
    "data_vector = pyconvert(Vector{Float64}, meta[\"cls\"])\n",
    "cov_tot = pyconvert(Matrix{Float64}, meta[\"cov\"]);\n",
    "\n",
    "nz_path = \"../data/DESY1/lite20_nzs/\"\n",
    "zs_k0, nz_k0, cov_k0 = get_nzs(nz_path, \"DESwl__0_e\")\n",
    "zs_k1, nz_k1, cov_k1 = get_nzs(nz_path, \"DESwl__1_e\")\n",
    "zs_k2, nz_k2, cov_k2 = get_nzs(nz_path, \"DESwl__2_e\")\n",
    "zs_k3, nz_k3, cov_k3 = get_nzs(nz_path, \"DESwl__3_e\")"
   ]
  },
  {
   "cell_type": "code",
   "execution_count": 4,
   "id": "12502fe0",
   "metadata": {},
   "outputs": [],
   "source": [
    "@model function model(data_vector;\n",
    "                      tracers_names=tracers_names,\n",
    "                      pairs=pairs,\n",
    "                      idx=idx,\n",
    "                      cov_tot=cov_tot, \n",
    "                      files=files)\n",
    "\n",
    "    #KiDS priors\n",
    "    Ωm ~ Uniform(0.2, 0.6)\n",
    "    Ωb ~ Uniform(0.028, 0.065)\n",
    "    h ~ Uniform(0.64, 0.82)\n",
    "    s8 ~ Uniform(0.6, 0.9)\n",
    "    ns ~ Uniform(0.84, 1.1)\n",
    "    \n",
    "    A_IA ~ Uniform(-5, 5) \n",
    "    alpha_IA ~ Uniform(-5, 5)\n",
    "\n",
    "    DESwl__0_e_nz_1 ~ TruncatedNormal(nz_k0[1], sqrt(cov_k0[1]), 0.0, 3.0)\n",
    "    DESwl__0_e_nz_2 ~ TruncatedNormal(nz_k0[2], sqrt(cov_k0[2]), 0.0, 3.0)\n",
    "    DESwl__0_e_nz_3 ~ TruncatedNormal(nz_k0[3], sqrt(cov_k0[3]), 0.0, 3.0)\n",
    "    DESwl__0_e_nz_4 ~ TruncatedNormal(nz_k0[4], sqrt(cov_k0[4]), 0.0, 3.0)\n",
    "    DESwl__0_e_nz_5 ~ TruncatedNormal(nz_k0[5], sqrt(cov_k0[5]), 0.0, 3.0)\n",
    "    DESwl__0_e_nz_6 ~ TruncatedNormal(nz_k0[6], sqrt(cov_k0[6]), 0.0, 3.0)\n",
    "    DESwl__0_e_nz_7 ~ TruncatedNormal(nz_k0[7], sqrt(cov_k0[7]), 0.0, 3.0)\n",
    "    DESwl__0_e_nz_8 ~ TruncatedNormal(nz_k0[8], sqrt(cov_k0[8]), 0.0, 3.0)\n",
    "    DESwl__0_e_nz_9 ~ TruncatedNormal(nz_k0[9], sqrt(cov_k0[9]), 0.0, 3.0)\n",
    "    DESwl__0_e_nz_10 ~ TruncatedNormal(nz_k0[10], sqrt(cov_k0[10]), 0.0, 3.0)\n",
    "    DESwl__0_e_nz_11 ~ TruncatedNormal(nz_k0[11], sqrt(cov_k0[11]), 0.0, 3.0)\n",
    "    DESwl__0_e_nz_12 ~ TruncatedNormal(nz_k0[12], sqrt(cov_k0[12]), 0.0, 3.0)\n",
    "    DESwl__0_e_nz_13 ~ TruncatedNormal(nz_k0[13], sqrt(cov_k0[13]), 0.0, 3.0)\n",
    "    DESwl__0_e_nz_14 ~ TruncatedNormal(nz_k0[14], sqrt(cov_k0[14]), 0.0, 3.0)\n",
    "    DESwl__0_e_nz_15 ~ TruncatedNormal(nz_k0[15], sqrt(cov_k0[15]), 0.0, 3.0)\n",
    "    DESwl__0_e_nz_16 ~ TruncatedNormal(nz_k0[16], sqrt(cov_k0[16]), 0.0, 3.0)\n",
    "    DESwl__0_e_nz_17 ~ TruncatedNormal(nz_k0[17], sqrt(cov_k0[17]), 0.0, 3.0)\n",
    "    DESwl__0_e_nz_18 ~ TruncatedNormal(nz_k0[18], sqrt(cov_k0[18]), 0.0, 3.0)\n",
    "    DESwl__0_e_nz_19 ~ TruncatedNormal(nz_k0[19], sqrt(cov_k0[19]), 0.0, 3.0)\n",
    "    DESwl__0_e_nz_20 ~ TruncatedNormal(nz_k0[20], sqrt(cov_k0[20]), 0.0, 3.0)\n",
    "    DESwl__0_e_nz = [DESwl__0_e_nz_1, DESwl__0_e_nz_2, DESwl__0_e_nz_3,\n",
    "                     DESwl__0_e_nz_4, DESwl__0_e_nz_5, DESwl__0_e_nz_6,\n",
    "                     DESwl__0_e_nz_7, DESwl__0_e_nz_8, DESwl__0_e_nz_9,\n",
    "                     DESwl__0_e_nz_10,\n",
    "                     DESwl__0_e_nz_11, DESwl__0_e_nz_12, DESwl__0_e_nz_13,\n",
    "                     DESwl__0_e_nz_14, DESwl__0_e_nz_15, DESwl__0_e_nz_16,\n",
    "                     DESwl__0_e_nz_17, DESwl__0_e_nz_18, DESwl__0_e_nz_19,\n",
    "                     DESwl__0_e_nz_20]\n",
    "    \n",
    "    DESwl__1_e_nz_1 ~ TruncatedNormal(nz_k1[1], sqrt(cov_k1[1]), 0.0, 3.0)\n",
    "    DESwl__1_e_nz_2 ~ TruncatedNormal(nz_k1[2], sqrt(cov_k1[2]), 0.0, 3.0)\n",
    "    DESwl__1_e_nz_3 ~ TruncatedNormal(nz_k1[3], sqrt(cov_k1[3]), 0.0, 3.0)\n",
    "    DESwl__1_e_nz_4 ~ TruncatedNormal(nz_k1[4], sqrt(cov_k1[4]), 0.0, 3.0)\n",
    "    DESwl__1_e_nz_5 ~ TruncatedNormal(nz_k1[5], sqrt(cov_k1[5]), 0.0, 3.0)\n",
    "    DESwl__1_e_nz_6 ~ TruncatedNormal(nz_k1[6], sqrt(cov_k1[6]), 0.0, 3.0)\n",
    "    DESwl__1_e_nz_7 ~ TruncatedNormal(nz_k1[7], sqrt(cov_k1[7]), 0.0, 3.0)\n",
    "    DESwl__1_e_nz_8 ~ TruncatedNormal(nz_k1[8], sqrt(cov_k1[8]), 0.0, 3.0)\n",
    "    DESwl__1_e_nz_9 ~ TruncatedNormal(nz_k1[9], sqrt(cov_k1[9]), 0.0, 3.0)\n",
    "    DESwl__1_e_nz_10 ~ TruncatedNormal(nz_k1[10], sqrt(cov_k1[10]), 0.0, 3.0)\n",
    "    DESwl__1_e_nz_11 ~ TruncatedNormal(nz_k1[11], sqrt(cov_k1[11]), 0.0, 3.0)\n",
    "    DESwl__1_e_nz_12 ~ TruncatedNormal(nz_k1[12], sqrt(cov_k1[12]), 0.0, 3.0)\n",
    "    DESwl__1_e_nz_13 ~ TruncatedNormal(nz_k1[13], sqrt(cov_k1[13]), 0.0, 3.0)\n",
    "    DESwl__1_e_nz_14 ~ TruncatedNormal(nz_k1[14], sqrt(cov_k1[14]), 0.0, 3.0)\n",
    "    DESwl__1_e_nz_15 ~ TruncatedNormal(nz_k1[15], sqrt(cov_k1[15]), 0.0, 3.0)\n",
    "    DESwl__1_e_nz_16 ~ TruncatedNormal(nz_k1[16], sqrt(cov_k1[16]), 0.0, 3.0)\n",
    "    DESwl__1_e_nz_17 ~ TruncatedNormal(nz_k1[17], sqrt(cov_k1[17]), 0.0, 3.0)\n",
    "    DESwl__1_e_nz_18 ~ TruncatedNormal(nz_k1[18], sqrt(cov_k1[18]), 0.0, 3.0)\n",
    "    DESwl__1_e_nz_19 ~ TruncatedNormal(nz_k1[19], sqrt(cov_k1[19]), 0.0, 3.0)\n",
    "    DESwl__1_e_nz_20 ~ TruncatedNormal(nz_k1[20], sqrt(cov_k1[20]), 0.0, 3.0)\n",
    "    DESwl__1_e_nz = [DESwl__1_e_nz_1, DESwl__1_e_nz_2, DESwl__1_e_nz_3,\n",
    "                     DESwl__1_e_nz_4, DESwl__1_e_nz_5, DESwl__1_e_nz_6,\n",
    "                     DESwl__1_e_nz_7, DESwl__1_e_nz_8, DESwl__1_e_nz_9,\n",
    "                     DESwl__1_e_nz_10,\n",
    "                     DESwl__1_e_nz_11, DESwl__1_e_nz_12, DESwl__1_e_nz_13,\n",
    "                     DESwl__1_e_nz_14, DESwl__1_e_nz_15, DESwl__1_e_nz_16,\n",
    "                     DESwl__1_e_nz_17, DESwl__1_e_nz_18, DESwl__1_e_nz_19,\n",
    "                     DESwl__1_e_nz_20]\n",
    "    \n",
    "    DESwl__2_e_nz_1 ~ TruncatedNormal(nz_k2[1], sqrt(cov_k2[1]), 0.0, 3.0)\n",
    "    DESwl__2_e_nz_2 ~ TruncatedNormal(nz_k2[2], sqrt(cov_k2[2]), 0.0, 3.0)\n",
    "    DESwl__2_e_nz_3 ~ TruncatedNormal(nz_k2[3], sqrt(cov_k2[3]), 0.0, 3.0)\n",
    "    DESwl__2_e_nz_4 ~ TruncatedNormal(nz_k2[4], sqrt(cov_k2[4]), 0.0, 3.0)\n",
    "    DESwl__2_e_nz_5 ~ TruncatedNormal(nz_k2[5], sqrt(cov_k2[5]), 0.0, 3.0)\n",
    "    DESwl__2_e_nz_6 ~ TruncatedNormal(nz_k2[6], sqrt(cov_k2[6]), 0.0, 3.0)\n",
    "    DESwl__2_e_nz_7 ~ TruncatedNormal(nz_k2[7], sqrt(cov_k2[7]), 0.0, 3.0)\n",
    "    DESwl__2_e_nz_8 ~ TruncatedNormal(nz_k2[8], sqrt(cov_k2[8]), 0.0, 3.0)\n",
    "    DESwl__2_e_nz_9 ~ TruncatedNormal(nz_k2[9], sqrt(cov_k2[9]), 0.0, 3.0)\n",
    "    DESwl__2_e_nz_10 ~ TruncatedNormal(nz_k2[10], sqrt(cov_k2[10]), 0.0, 3.0)\n",
    "    DESwl__2_e_nz_11 ~ TruncatedNormal(nz_k2[11], sqrt(cov_k2[11]), 0.0, 3.0)\n",
    "    DESwl__2_e_nz_12 ~ TruncatedNormal(nz_k2[12], sqrt(cov_k2[12]), 0.0, 3.0)\n",
    "    DESwl__2_e_nz_13 ~ TruncatedNormal(nz_k2[13], sqrt(cov_k2[13]), 0.0, 3.0)\n",
    "    DESwl__2_e_nz_14 ~ TruncatedNormal(nz_k2[14], sqrt(cov_k2[14]), 0.0, 3.0)\n",
    "    DESwl__2_e_nz_15 ~ TruncatedNormal(nz_k2[15], sqrt(cov_k2[15]), 0.0, 3.0)\n",
    "    DESwl__2_e_nz_16 ~ TruncatedNormal(nz_k2[16], sqrt(cov_k2[16]), 0.0, 3.0)\n",
    "    DESwl__2_e_nz_17 ~ TruncatedNormal(nz_k2[17], sqrt(cov_k2[17]), 0.0, 3.0)\n",
    "    DESwl__2_e_nz_18 ~ TruncatedNormal(nz_k2[18], sqrt(cov_k2[18]), 0.0, 3.0)\n",
    "    DESwl__2_e_nz_19 ~ TruncatedNormal(nz_k2[19], sqrt(cov_k2[19]), 0.0, 3.0)\n",
    "    DESwl__2_e_nz_20 ~ TruncatedNormal(nz_k2[20], sqrt(cov_k2[20]), 0.0, 3.0)\n",
    "    DESwl__2_e_nz = [DESwl__2_e_nz_1, DESwl__2_e_nz_2, DESwl__2_e_nz_3,\n",
    "                     DESwl__2_e_nz_4, DESwl__2_e_nz_5, DESwl__2_e_nz_6,\n",
    "                     DESwl__2_e_nz_7, DESwl__2_e_nz_8, DESwl__2_e_nz_9,\n",
    "                     DESwl__2_e_nz_10,\n",
    "                     DESwl__2_e_nz_11, DESwl__2_e_nz_12, DESwl__2_e_nz_13,\n",
    "                     DESwl__2_e_nz_14, DESwl__2_e_nz_15, DESwl__2_e_nz_16,\n",
    "                     DESwl__2_e_nz_17, DESwl__2_e_nz_18, DESwl__2_e_nz_19,\n",
    "                     DESwl__2_e_nz_20]\n",
    "    \n",
    "    DESwl__3_e_nz_1 ~ TruncatedNormal(nz_k3[1], sqrt(cov_k3[1]), 0.0, 3.0)\n",
    "    DESwl__3_e_nz_2 ~ TruncatedNormal(nz_k3[2], sqrt(cov_k3[2]), 0.0, 3.0)\n",
    "    DESwl__3_e_nz_3 ~ TruncatedNormal(nz_k3[3], sqrt(cov_k3[3]), 0.0, 3.0)\n",
    "    DESwl__3_e_nz_4 ~ TruncatedNormal(nz_k3[4], sqrt(cov_k3[4]), 0.0, 3.0)\n",
    "    DESwl__3_e_nz_5 ~ TruncatedNormal(nz_k3[5], sqrt(cov_k3[5]), 0.0, 3.0)\n",
    "    DESwl__3_e_nz_6 ~ TruncatedNormal(nz_k3[6], sqrt(cov_k3[6]), 0.0, 3.0)\n",
    "    DESwl__3_e_nz_7 ~ TruncatedNormal(nz_k3[7], sqrt(cov_k3[7]), 0.0, 3.0)\n",
    "    DESwl__3_e_nz_8 ~ TruncatedNormal(nz_k3[8], sqrt(cov_k3[8]), 0.0, 3.0)\n",
    "    DESwl__3_e_nz_9 ~ TruncatedNormal(nz_k3[9], sqrt(cov_k3[9]), 0.0, 3.0)\n",
    "    DESwl__3_e_nz_10 ~ TruncatedNormal(nz_k3[10], sqrt(cov_k3[10]), 0.0, 3.0)\n",
    "    DESwl__3_e_nz_11 ~ TruncatedNormal(nz_k3[11], sqrt(cov_k3[11]), 0.0, 3.0)\n",
    "    DESwl__3_e_nz_12 ~ TruncatedNormal(nz_k3[12], sqrt(cov_k3[12]), 0.0, 3.0)\n",
    "    DESwl__3_e_nz_13 ~ TruncatedNormal(nz_k3[13], sqrt(cov_k3[13]), 0.0, 3.0)\n",
    "    DESwl__3_e_nz_14 ~ TruncatedNormal(nz_k3[14], sqrt(cov_k3[14]), 0.0, 3.0)\n",
    "    DESwl__3_e_nz_15 ~ TruncatedNormal(nz_k3[15], sqrt(cov_k3[15]), 0.0, 3.0)\n",
    "    DESwl__3_e_nz_16 ~ TruncatedNormal(nz_k3[16], sqrt(cov_k3[16]), 0.0, 3.0)\n",
    "    DESwl__3_e_nz_17 ~ TruncatedNormal(nz_k3[17], sqrt(cov_k3[17]), 0.0, 3.0)\n",
    "    DESwl__3_e_nz_18 ~ TruncatedNormal(nz_k3[18], sqrt(cov_k3[18]), 0.0, 3.0)\n",
    "    DESwl__3_e_nz_19 ~ TruncatedNormal(nz_k3[19], sqrt(cov_k3[19]), 0.0, 3.0)\n",
    "    DESwl__3_e_nz_20 ~ TruncatedNormal(nz_k3[20], sqrt(cov_k3[20]), 0.0, 3.0)\n",
    "    DESwl__3_e_nz = [DESwl__3_e_nz_1, DESwl__3_e_nz_2, DESwl__3_e_nz_3,\n",
    "                     DESwl__3_e_nz_4, DESwl__3_e_nz_5, DESwl__3_e_nz_6,\n",
    "                     DESwl__3_e_nz_7, DESwl__3_e_nz_8, DESwl__3_e_nz_9,\n",
    "                     DESwl__3_e_nz_10,\n",
    "                     DESwl__3_e_nz_11, DESwl__3_e_nz_12, DESwl__3_e_nz_13,\n",
    "                     DESwl__3_e_nz_14, DESwl__3_e_nz_15, DESwl__3_e_nz_16,\n",
    "                     DESwl__3_e_nz_17, DESwl__3_e_nz_18, DESwl__3_e_nz_19,\n",
    "                     DESwl__3_e_nz_20]\n",
    "    DESwl__0_e_m ~ Normal(0.012, 0.023)\n",
    "    DESwl__1_e_m ~ Normal(0.012, 0.023)\n",
    "    DESwl__2_e_m ~ Normal(0.012, 0.023)\n",
    "    DESwl__3_e_m ~ Normal(0.012, 0.023)\n",
    "\n",
    "\n",
    "    nuisances = Dict(\"A_IA\" => A_IA,\n",
    "                     \"alpha_IA\" => alpha_IA,\n",
    "\n",
    "                     \"DESwl__0_e_nz\" => DESwl__0_e_nz,\n",
    "                     \"DESwl__1_e_nz\" => DESwl__1_e_nz,\n",
    "                     \"DESwl__2_e_nz\" => DESwl__2_e_nz,\n",
    "                     \"DESwl__3_e_nz\" => DESwl__3_e_nz,\n",
    "                     \"DESwl__0_e_m\" => DESwl__0_e_m,\n",
    "                     \"DESwl__1_e_m\" => DESwl__1_e_m,\n",
    "                     \"DESwl__2_e_m\" => DESwl__2_e_m,\n",
    "                     \"DESwl__3_e_m\" => DESwl__3_e_m)\n",
    "\n",
    "    \n",
    "    cosmology = LimberJack.Cosmology(Ωm, Ωb, h, ns, s8,\n",
    "                                     tk_mode=\"EisHu\",\n",
    "                                     Pk_mode=\"Halofit\")\n",
    "    \n",
    "    theory = Theory(cosmology, tracers_names, pairs,\n",
    "                    idx, files;\n",
    "                    Nuisances=nuisances)\n",
    "    data_vector ~ MvNormal(theory, cov_tot)\n",
    "end;"
   ]
  },
  {
   "cell_type": "code",
   "execution_count": 5,
   "id": "1d5c024b",
   "metadata": {},
   "outputs": [],
   "source": [
    "stat_model = model(data_vector);"
   ]
  },
  {
   "cell_type": "code",
   "execution_count": 6,
   "id": "54da0b16",
   "metadata": {},
   "outputs": [
    {
     "ename": "LoadError",
     "evalue": "type CosmoPar has no field s8",
     "output_type": "error",
     "traceback": [
      "type CosmoPar has no field s8",
      "",
      "Stacktrace:",
      "  [1] getproperty",
      "    @ ./Base.jl:42 [inlined]",
      "  [2] Cosmology(cpar::CosmoPar{Real}, settings::Settings)",
      "    @ LimberJack ~/.julia/packages/LimberJack/gMjiL/src/core.jl:270",
      "  [3] Cosmology(Ωm::Float64, Ωb::Float64, h::Float64, n_s::Float64, σ8::Float64; θCMB::Float64, nk::Int64, nz::Int64, nz_pk::Int64, tk_mode::String, Pk_mode::String, custom_Dz::Nothing)",
      "    @ LimberJack ~/.julia/packages/LimberJack/gMjiL/src/core.jl:332",
      "  [4] model(__model__::DynamicPPL.Model{typeof(model), (:data_vector, :tracers_names, :pairs, :idx, :cov_tot, :files), (:tracers_names, :pairs, :idx, :cov_tot, :files), (), Tuple{Vector{Float64}, Vector{String}, Vector{Vector{String}}, Vector{Int64}, Matrix{Float64}, Dict{String, Array{Float64}}}, Tuple{Vector{String}, Vector{Vector{String}}, Vector{Int64}, Matrix{Float64}, Dict{String, Array{Float64}}}, DynamicPPL.DefaultContext}, __varinfo__::DynamicPPL.ThreadSafeVarInfo{DynamicPPL.UntypedVarInfo{DynamicPPL.Metadata{Dict{AbstractPPL.VarName, Int64}, Vector{Distribution}, Vector{AbstractPPL.VarName}, Vector{Real}, Vector{Set{DynamicPPL.Selector}}}, Float64}, Vector{Base.RefValue{Float64}}}, __context__::DynamicPPL.SamplingContext{DynamicPPL.SampleFromUniform, DynamicPPL.DefaultContext, Random._GLOBAL_RNG}, data_vector::Vector{Float64}, tracers_names::Vector{String}, pairs::Vector{Vector{String}}, idx::Vector{Int64}, cov_tot::Matrix{Float64}, files::Dict{String, Array{Float64}})",
      "    @ Main ./In[4]:152",
      "  [5] macro expansion",
      "    @ ~/.julia/packages/DynamicPPL/zPOYL/src/model.jl:593 [inlined]",
      "  [6] _evaluate!!",
      "    @ ~/.julia/packages/DynamicPPL/zPOYL/src/model.jl:576 [inlined]",
      "  [7] evaluate_threadsafe!!",
      "    @ ~/.julia/packages/DynamicPPL/zPOYL/src/model.jl:567 [inlined]",
      "  [8] evaluate!!",
      "    @ ~/.julia/packages/DynamicPPL/zPOYL/src/model.jl:502 [inlined]",
      "  [9] evaluate!!(model::DynamicPPL.Model{typeof(model), (:data_vector, :tracers_names, :pairs, :idx, :cov_tot, :files), (:tracers_names, :pairs, :idx, :cov_tot, :files), (), Tuple{Vector{Float64}, Vector{String}, Vector{Vector{String}}, Vector{Int64}, Matrix{Float64}, Dict{String, Array{Float64}}}, Tuple{Vector{String}, Vector{Vector{String}}, Vector{Int64}, Matrix{Float64}, Dict{String, Array{Float64}}}, DynamicPPL.DefaultContext}, rng::Random._GLOBAL_RNG, varinfo::DynamicPPL.UntypedVarInfo{DynamicPPL.Metadata{Dict{AbstractPPL.VarName, Int64}, Vector{Distribution}, Vector{AbstractPPL.VarName}, Vector{Real}, Vector{Set{DynamicPPL.Selector}}}, Float64}, sampler::DynamicPPL.SampleFromUniform, context::DynamicPPL.DefaultContext)",
      "    @ DynamicPPL ~/.julia/packages/DynamicPPL/zPOYL/src/model.jl:515",
      " [10] (::DynamicPPL.Model{typeof(model), (:data_vector, :tracers_names, :pairs, :idx, :cov_tot, :files), (:tracers_names, :pairs, :idx, :cov_tot, :files), (), Tuple{Vector{Float64}, Vector{String}, Vector{Vector{String}}, Vector{Int64}, Matrix{Float64}, Dict{String, Array{Float64}}}, Tuple{Vector{String}, Vector{Vector{String}}, Vector{Int64}, Matrix{Float64}, Dict{String, Array{Float64}}}, DynamicPPL.DefaultContext})(::Random._GLOBAL_RNG, ::Vararg{Any})",
      "    @ DynamicPPL ~/.julia/packages/DynamicPPL/zPOYL/src/model.jl:475",
      " [11] VarInfo",
      "    @ ~/.julia/packages/DynamicPPL/zPOYL/src/varinfo.jl:127 [inlined]",
      " [12] VarInfo",
      "    @ ~/.julia/packages/DynamicPPL/zPOYL/src/varinfo.jl:126 [inlined]",
      " [13] step(rng::Random._GLOBAL_RNG, model::DynamicPPL.Model{typeof(model), (:data_vector, :tracers_names, :pairs, :idx, :cov_tot, :files), (:tracers_names, :pairs, :idx, :cov_tot, :files), (), Tuple{Vector{Float64}, Vector{String}, Vector{Vector{String}}, Vector{Int64}, Matrix{Float64}, Dict{String, Array{Float64}}}, Tuple{Vector{String}, Vector{Vector{String}}, Vector{Int64}, Matrix{Float64}, Dict{String, Array{Float64}}}, DynamicPPL.DefaultContext}, spl::DynamicPPL.Sampler{NUTS{Turing.Essential.ForwardDiffAD{0}, (), AdvancedHMC.DiagEuclideanMetric}}; resume_from::Nothing, init_params::Nothing, kwargs::Base.Pairs{Symbol, Integer, Tuple{Symbol, Symbol}, NamedTuple{(:nadapts, :save_state), Tuple{Int64, Bool}}})",
      "    @ DynamicPPL ~/.julia/packages/DynamicPPL/zPOYL/src/sampler.jl:86",
      " [14] macro expansion",
      "    @ ~/.julia/packages/AbstractMCMC/fnRmh/src/sample.jl:120 [inlined]",
      " [15] macro expansion",
      "    @ ~/.julia/packages/ProgressLogging/6KXlp/src/ProgressLogging.jl:328 [inlined]",
      " [16] (::AbstractMCMC.var\"#21#22\"{Bool, String, Nothing, Int64, Int64, Base.Pairs{Symbol, Integer, Tuple{Symbol, Symbol}, NamedTuple{(:nadapts, :save_state), Tuple{Int64, Bool}}}, Random._GLOBAL_RNG, DynamicPPL.Model{typeof(model), (:data_vector, :tracers_names, :pairs, :idx, :cov_tot, :files), (:tracers_names, :pairs, :idx, :cov_tot, :files), (), Tuple{Vector{Float64}, Vector{String}, Vector{Vector{String}}, Vector{Int64}, Matrix{Float64}, Dict{String, Array{Float64}}}, Tuple{Vector{String}, Vector{Vector{String}}, Vector{Int64}, Matrix{Float64}, Dict{String, Array{Float64}}}, DynamicPPL.DefaultContext}, DynamicPPL.Sampler{NUTS{Turing.Essential.ForwardDiffAD{0}, (), AdvancedHMC.DiagEuclideanMetric}}, Int64, Int64})()",
      "    @ AbstractMCMC ~/.julia/packages/AbstractMCMC/fnRmh/src/logging.jl:12",
      " [17] with_logstate(f::Function, logstate::Any)",
      "    @ Base.CoreLogging ./logging.jl:511",
      " [18] with_logger(f::Function, logger::LoggingExtras.TeeLogger{Tuple{LoggingExtras.EarlyFilteredLogger{ConsoleProgressMonitor.ProgressLogger, AbstractMCMC.var\"#1#3\"{Module}}, LoggingExtras.EarlyFilteredLogger{Base.CoreLogging.SimpleLogger, AbstractMCMC.var\"#2#4\"{Module}}}})",
      "    @ Base.CoreLogging ./logging.jl:623",
      " [19] with_progresslogger(f::Function, _module::Module, logger::Base.CoreLogging.SimpleLogger)",
      "    @ AbstractMCMC ~/.julia/packages/AbstractMCMC/fnRmh/src/logging.jl:36",
      " [20] macro expansion",
      "    @ ~/.julia/packages/AbstractMCMC/fnRmh/src/logging.jl:11 [inlined]",
      " [21] mcmcsample(rng::Random._GLOBAL_RNG, model::DynamicPPL.Model{typeof(model), (:data_vector, :tracers_names, :pairs, :idx, :cov_tot, :files), (:tracers_names, :pairs, :idx, :cov_tot, :files), (), Tuple{Vector{Float64}, Vector{String}, Vector{Vector{String}}, Vector{Int64}, Matrix{Float64}, Dict{String, Array{Float64}}}, Tuple{Vector{String}, Vector{Vector{String}}, Vector{Int64}, Matrix{Float64}, Dict{String, Array{Float64}}}, DynamicPPL.DefaultContext}, sampler::DynamicPPL.Sampler{NUTS{Turing.Essential.ForwardDiffAD{0}, (), AdvancedHMC.DiagEuclideanMetric}}, N::Int64; progress::Bool, progressname::String, callback::Nothing, discard_initial::Int64, thinning::Int64, chain_type::Type, kwargs::Base.Pairs{Symbol, Integer, Tuple{Symbol, Symbol}, NamedTuple{(:nadapts, :save_state), Tuple{Int64, Bool}}})",
      "    @ AbstractMCMC ~/.julia/packages/AbstractMCMC/fnRmh/src/sample.jl:111",
      " [22] sample(rng::Random._GLOBAL_RNG, model::DynamicPPL.Model{typeof(model), (:data_vector, :tracers_names, :pairs, :idx, :cov_tot, :files), (:tracers_names, :pairs, :idx, :cov_tot, :files), (), Tuple{Vector{Float64}, Vector{String}, Vector{Vector{String}}, Vector{Int64}, Matrix{Float64}, Dict{String, Array{Float64}}}, Tuple{Vector{String}, Vector{Vector{String}}, Vector{Int64}, Matrix{Float64}, Dict{String, Array{Float64}}}, DynamicPPL.DefaultContext}, sampler::DynamicPPL.Sampler{NUTS{Turing.Essential.ForwardDiffAD{0}, (), AdvancedHMC.DiagEuclideanMetric}}, N::Int64; chain_type::Type, resume_from::Nothing, progress::Bool, nadapts::Int64, discard_adapt::Bool, discard_initial::Int64, kwargs::Base.Pairs{Symbol, Bool, Tuple{Symbol}, NamedTuple{(:save_state,), Tuple{Bool}}})",
      "    @ Turing.Inference ~/.julia/packages/Turing/Tpj0b/src/inference/hmc.jl:133",
      " [23] #sample#2",
      "    @ ~/.julia/packages/Turing/Tpj0b/src/inference/Inference.jl:145 [inlined]",
      " [24] #sample#1",
      "    @ ~/.julia/packages/Turing/Tpj0b/src/inference/Inference.jl:135 [inlined]",
      " [25] top-level scope",
      "    @ In[6]:1",
      " [26] eval",
      "    @ ./boot.jl:373 [inlined]",
      " [27] include_string(mapexpr::typeof(REPL.softscope), mod::Module, code::String, filename::String)",
      "    @ Base ./loading.jl:1196"
     ]
    }
   ],
   "source": [
    "chain = sample(stat_model, NUTS(3, 0.6), 100,\n",
    "                progress=true; save_state=true);"
   ]
  },
  {
   "cell_type": "code",
   "execution_count": 32,
   "id": "64abea06",
   "metadata": {},
   "outputs": [
    {
     "ename": "LoadError",
     "evalue": "MethodError: no method matching PDMats.PDMat(::Hermitian{Float64, Matrix{Float64}})\n\u001b[0mClosest candidates are:\n\u001b[0m  PDMats.PDMat(::AbstractMatrix, \u001b[91m::Cholesky{T, S}\u001b[39m) where {T, S} at ~/.julia/packages/PDMats/G0Prn/src/pdmat.jl:12\n\u001b[0m  PDMats.PDMat(\u001b[91m::Cholesky\u001b[39m) at ~/.julia/packages/PDMats/G0Prn/src/pdmat.jl:21\n\u001b[0m  PDMats.PDMat(\u001b[91m::Symmetric\u001b[39m) at ~/.julia/packages/PDMats/G0Prn/src/pdmat.jl:20\n\u001b[0m  ...",
     "output_type": "error",
     "traceback": [
      "MethodError: no method matching PDMats.PDMat(::Hermitian{Float64, Matrix{Float64}})\n\u001b[0mClosest candidates are:\n\u001b[0m  PDMats.PDMat(::AbstractMatrix, \u001b[91m::Cholesky{T, S}\u001b[39m) where {T, S} at ~/.julia/packages/PDMats/G0Prn/src/pdmat.jl:12\n\u001b[0m  PDMats.PDMat(\u001b[91m::Cholesky\u001b[39m) at ~/.julia/packages/PDMats/G0Prn/src/pdmat.jl:21\n\u001b[0m  PDMats.PDMat(\u001b[91m::Symmetric\u001b[39m) at ~/.julia/packages/PDMats/G0Prn/src/pdmat.jl:20\n\u001b[0m  ...",
      "",
      "Stacktrace:",
      "  [1] MvNormal(μ::Vector{Float64}, Σ::Hermitian{Float64, Matrix{Float64}})",
      "    @ Distributions ~/.julia/packages/Distributions/jFoHB/src/multivariate/mvnormal.jl:211",
      "  [2] #2",
      "    @ ./In[29]:9 [inlined]",
      "  [3] (::var\"#2#3\")(__rng__::Random._GLOBAL_RNG, __model__::DynamicPPL.Model{var\"#2#3\", (:data_vector, :cov_tot, :nz_path), (:cov_tot, :nz_path), (), Tuple{Vector{Float64}, Matrix{Float64}, String}, Tuple{Matrix{Float64}, String}}, __varinfo__::DynamicPPL.ThreadSafeVarInfo{DynamicPPL.UntypedVarInfo{DynamicPPL.Metadata{Dict{AbstractPPL.VarName, Int64}, Vector{Distribution}, Vector{AbstractPPL.VarName}, Vector{Real}, Vector{Set{DynamicPPL.Selector}}}, Float64}, Vector{Base.RefValue{Float64}}}, __sampler__::DynamicPPL.SampleFromPrior, __context__::DynamicPPL.DefaultContext, data_vector::Vector{Float64}, cov_tot::Matrix{Float64}, nz_path::String)",
      "    @ Main ./none:0",
      "  [4] macro expansion",
      "    @ ~/.julia/packages/DynamicPPL/SgzCy/src/model.jl:0 [inlined]",
      "  [5] _evaluate",
      "    @ ~/.julia/packages/DynamicPPL/SgzCy/src/model.jl:154 [inlined]",
      "  [6] evaluate_threadsafe(rng::Random._GLOBAL_RNG, model::DynamicPPL.Model{var\"#2#3\", (:data_vector, :cov_tot, :nz_path), (:cov_tot, :nz_path), (), Tuple{Vector{Float64}, Matrix{Float64}, String}, Tuple{Matrix{Float64}, String}}, varinfo::DynamicPPL.UntypedVarInfo{DynamicPPL.Metadata{Dict{AbstractPPL.VarName, Int64}, Vector{Distribution}, Vector{AbstractPPL.VarName}, Vector{Real}, Vector{Set{DynamicPPL.Selector}}}, Float64}, sampler::DynamicPPL.SampleFromPrior, context::DynamicPPL.DefaultContext)",
      "    @ DynamicPPL ~/.julia/packages/DynamicPPL/SgzCy/src/model.jl:144",
      "  [7] Model",
      "    @ ~/.julia/packages/DynamicPPL/SgzCy/src/model.jl:94 [inlined]",
      "  [8] VarInfo",
      "    @ ~/.julia/packages/DynamicPPL/SgzCy/src/varinfo.jl:126 [inlined]",
      "  [9] VarInfo",
      "    @ ~/.julia/packages/DynamicPPL/SgzCy/src/varinfo.jl:125 [inlined]",
      " [10] step(rng::Random._GLOBAL_RNG, model::DynamicPPL.Model{var\"#2#3\", (:data_vector, :cov_tot, :nz_path), (:cov_tot, :nz_path), (), Tuple{Vector{Float64}, Matrix{Float64}, String}, Tuple{Matrix{Float64}, String}}, spl::DynamicPPL.Sampler{MH{(), NamedTuple{(), Tuple{}}}}; resume_from::Nothing, kwargs::Base.Pairs{Symbol, Integer, Tuple{Symbol, Symbol}, NamedTuple{(:nadapt, :save_state), Tuple{Int64, Bool}}})",
      "    @ DynamicPPL ~/.julia/packages/DynamicPPL/SgzCy/src/sampler.jl:73",
      " [11] macro expansion",
      "    @ ~/.julia/packages/AbstractMCMC/oou1a/src/sample.jl:97 [inlined]",
      " [12] macro expansion",
      "    @ ~/.julia/packages/ProgressLogging/6KXlp/src/ProgressLogging.jl:328 [inlined]",
      " [13] (::AbstractMCMC.var\"#20#21\"{Bool, String, Nothing, Int64, Int64, Base.Pairs{Symbol, Integer, Tuple{Symbol, Symbol}, NamedTuple{(:nadapt, :save_state), Tuple{Int64, Bool}}}, Random._GLOBAL_RNG, DynamicPPL.Model{var\"#2#3\", (:data_vector, :cov_tot, :nz_path), (:cov_tot, :nz_path), (), Tuple{Vector{Float64}, Matrix{Float64}, String}, Tuple{Matrix{Float64}, String}}, DynamicPPL.Sampler{MH{(), NamedTuple{(), Tuple{}}}}, Int64, Int64})()",
      "    @ AbstractMCMC ~/.julia/packages/AbstractMCMC/oou1a/src/logging.jl:11",
      " [14] with_logstate(f::Function, logstate::Any)",
      "    @ Base.CoreLogging ./logging.jl:511",
      " [15] with_logger(f::Function, logger::LoggingExtras.TeeLogger{Tuple{LoggingExtras.EarlyFilteredLogger{ConsoleProgressMonitor.ProgressLogger, AbstractMCMC.var\"#1#3\"{Module}}, LoggingExtras.EarlyFilteredLogger{Base.CoreLogging.SimpleLogger, AbstractMCMC.var\"#2#4\"{Module}}}})",
      "    @ Base.CoreLogging ./logging.jl:623",
      " [16] with_progresslogger(f::Function, _module::Module, logger::Base.CoreLogging.SimpleLogger)",
      "    @ AbstractMCMC ~/.julia/packages/AbstractMCMC/oou1a/src/logging.jl:34",
      " [17] macro expansion",
      "    @ ~/.julia/packages/AbstractMCMC/oou1a/src/logging.jl:10 [inlined]",
      " [18] mcmcsample(rng::Random._GLOBAL_RNG, model::DynamicPPL.Model{var\"#2#3\", (:data_vector, :cov_tot, :nz_path), (:cov_tot, :nz_path), (), Tuple{Vector{Float64}, Matrix{Float64}, String}, Tuple{Matrix{Float64}, String}}, sampler::DynamicPPL.Sampler{MH{(), NamedTuple{(), Tuple{}}}}, N::Int64; progress::Bool, progressname::String, callback::Nothing, discard_initial::Int64, thinning::Int64, chain_type::Type, kwargs::Base.Pairs{Symbol, Integer, Tuple{Symbol, Symbol}, NamedTuple{(:nadapt, :save_state), Tuple{Int64, Bool}}})",
      "    @ AbstractMCMC ~/.julia/packages/AbstractMCMC/oou1a/src/sample.jl:88",
      " [19] sample(rng::Random._GLOBAL_RNG, model::DynamicPPL.Model{var\"#2#3\", (:data_vector, :cov_tot, :nz_path), (:cov_tot, :nz_path), (), Tuple{Vector{Float64}, Matrix{Float64}, String}, Tuple{Matrix{Float64}, String}}, sampler::DynamicPPL.Sampler{MH{(), NamedTuple{(), Tuple{}}}}, N::Int64; chain_type::Type, resume_from::Nothing, progress::Bool, kwargs::Base.Pairs{Symbol, Integer, Tuple{Symbol, Symbol}, NamedTuple{(:nadapt, :save_state), Tuple{Int64, Bool}}})",
      "    @ Turing.Inference ~/.julia/packages/Turing/uAz5c/src/inference/Inference.jl:156",
      " [20] #sample#2",
      "    @ ~/.julia/packages/Turing/uAz5c/src/inference/Inference.jl:142 [inlined]",
      " [21] #sample#1",
      "    @ ~/.julia/packages/Turing/uAz5c/src/inference/Inference.jl:132 [inlined]",
      " [22] top-level scope",
      "    @ In[32]:1",
      " [23] eval",
      "    @ ./boot.jl:373 [inlined]",
      " [24] include_string(mapexpr::typeof(REPL.softscope), mod::Module, code::String, filename::String)",
      "    @ Base ./loading.jl:1196"
     ]
    }
   ],
   "source": [
    "chain1 = sample(model(data_vector), MH(), iterations,\n",
    "            nadapt=nadapts, progress=true; save_state=true);"
   ]
  },
  {
   "cell_type": "code",
   "execution_count": null,
   "id": "a94c9c61",
   "metadata": {},
   "outputs": [],
   "source": []
  }
 ],
 "metadata": {
  "kernelspec": {
   "display_name": "Julia 4 Threads 1.7.0",
   "language": "julia",
   "name": "julia-4-threads-1.7"
  },
  "language_info": {
   "file_extension": ".jl",
   "mimetype": "application/julia",
   "name": "julia",
   "version": "1.7.0"
  }
 },
 "nbformat": 4,
 "nbformat_minor": 5
}
