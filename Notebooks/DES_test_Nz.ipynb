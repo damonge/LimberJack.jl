{
 "cells": [
  {
   "cell_type": "code",
   "execution_count": 61,
   "id": "02df9ee7",
   "metadata": {},
   "outputs": [
    {
     "data": {
      "text/plain": [
       "\u001b[0m\u001b[1mPython module: \u001b[22m<module 'numpy' from '/home/jaime/.julia/environments/v1.7/.CondaPkg/env/lib/python3.10/site-packages/numpy/__init__.py'>"
      ]
     },
     "execution_count": 61,
     "metadata": {},
     "output_type": "execute_result"
    }
   ],
   "source": [
    "using Turing\n",
    "using LimberJack\n",
    "using CSV\n",
    "using NPZ\n",
    "using FITSIO\n",
    "using LinearAlgebra\n",
    "using PythonCall\n",
    "np = pyimport(\"numpy\")"
   ]
  },
  {
   "cell_type": "markdown",
   "id": "f9417557",
   "metadata": {},
   "source": [
    "# T-Matrices"
   ]
  },
  {
   "cell_type": "code",
   "execution_count": 2,
   "id": "a94c9c61",
   "metadata": {},
   "outputs": [
    {
     "data": {
      "text/plain": [
       "(Float32[0.08, 0.24, 0.40000004, 0.56, 0.71999997, 0.88, 1.04, 1.2, 1.36, 1.52  …  2.48, 2.6399999, 2.8000002, 2.96, 3.12, 3.28, 3.44, 3.6, 3.76, 3.92], [0.017943619938851237, 0.03833361249391642, 0.02440777766652618, 0.01704057110584659, 0.07209707970095824, 0.5874477589199855, 0.4404475338912065, 0.25267170078051504, 0.07897489762454996, 0.046559044416235526  …  0.003504693784923493, 0.0008005300343577989, 0.0008915212767234572, 0.001654256308613907, 0.00018365304981866675, 6.0278451985871785e-6, 0.00013030516410413156, 0.0, 0.00016407164322363078, 0.0], [8.594352947802566e-5, 0.00015300959903383963, 6.306568771298228e-5, 3.429234614312717e-5, 0.00039670597132587213, 0.015829592966321377, 0.008402431013895935, 0.002185796994687759, 0.00023416931931501573, 0.00011486151885369445  …  4.715220874567531e-6, 1.0481660008115229e-6, 1.174087383634798e-6, 2.1830462776788064e-6, 2.4245196013251086e-7, 1.1969533242531295e-8, 1.729004177613967e-7, 4.177009311760509e-9, 2.1683906553690242e-7, 4.177009311760509e-9])"
      ]
     },
     "execution_count": 2,
     "metadata": {},
     "output_type": "execute_result"
    }
   ],
   "source": [
    "#println(\"My id is \", myid(), \" and I have \", Threads.nthreads(), \" threads\")\n",
    "\n",
    "fol = \"DESY1\"\n",
    "data_set = \"wlwl_binned25\"\n",
    "meta = np.load(string(\"../data/\", fol, \"/\", data_set, \"_meta.npz\"))\n",
    "files = npzread(string(\"../data/\", fol, \"/\", data_set, \"_files.npz\"))\n",
    "\n",
    "tracers_names = pyconvert(Vector{String}, meta[\"tracers\"])\n",
    "pairs = pyconvert(Vector{Vector{String}}, meta[\"pairs\"]);\n",
    "idx = pyconvert(Vector{Int}, meta[\"idx\"])\n",
    "data_vector = pyconvert(Vector{Float64}, meta[\"cls\"])\n",
    "cov_tot = pyconvert(Matrix{Float64}, meta[\"cov\"]);\n",
    "\n",
    "nz_path = \"../data/DESY1/binned_25_nzs/\"\n",
    "zs_k0, nz_k0, cov_k0 = get_nzs(nz_path, \"DESwl__0_e\")\n",
    "zs_k1, nz_k1, cov_k1 = get_nzs(nz_path, \"DESwl__1_e\")\n",
    "zs_k2, nz_k2, cov_k2 = get_nzs(nz_path, \"DESwl__2_e\")\n",
    "zs_k3, nz_k3, cov_k3 = get_nzs(nz_path, \"DESwl__3_e\")"
   ]
  },
  {
   "cell_type": "code",
   "execution_count": 3,
   "id": "9970eb41",
   "metadata": {},
   "outputs": [],
   "source": [
    "function model_cov0(nz_k0;\n",
    "               tracers_names=tracers_names,\n",
    "               pairs=pairs,\n",
    "               idx=idx,\n",
    "               cov_tot=cov_tot, \n",
    "               files=files) \n",
    "\n",
    "    cosmology = Cosmology()\n",
    "    cosmology.settings.cosmo_type = Real\n",
    "    nuisances = Dict(\"A_IA\" => 0,\n",
    "                     \"alpha_IA\" => 0,\n",
    "\n",
    "                     \"DESwl__0_e_nz\" => nz_k0,\n",
    "                     \"DESwl__1_e_nz\" => nz_k1,\n",
    "                     \"DESwl__2_e_nz\" => nz_k2,\n",
    "                     \"DESwl__3_e_nz\" => nz_k3,\n",
    "        \n",
    "                     \"DESwl__0_e_m\" => 0.012,\n",
    "                     \"DESwl__1_e_m\" => 0.012,\n",
    "                     \"DESwl__2_e_m\" => 0.012,\n",
    "                     \"DESwl__3_e_m\" => 0.012)\n",
    "    \n",
    "    return Theory(cosmology, tracers_names, pairs,\n",
    "                  idx, files; Nuisances=nuisances)\n",
    "end;\n",
    "\n",
    "function model_cov1(nz_k1;\n",
    "               tracers_names=tracers_names,\n",
    "               pairs=pairs,\n",
    "               idx=idx,\n",
    "               cov_tot=cov_tot, \n",
    "               files=files) \n",
    "\n",
    "    cosmology = Cosmology()\n",
    "    cosmology.settings.cosmo_type = Real\n",
    "    nuisances = Dict(\"A_IA\" => 0,\n",
    "                     \"alpha_IA\" => 0,\n",
    "\n",
    "                     \"DESwl__0_e_nz\" => nz_k0,\n",
    "                     \"DESwl__1_e_nz\" => nz_k1,\n",
    "                     \"DESwl__2_e_nz\" => nz_k2,\n",
    "                     \"DESwl__3_e_nz\" => nz_k3,\n",
    "        \n",
    "                     \"DESwl__0_e_m\" => 0.012,\n",
    "                     \"DESwl__1_e_m\" => 0.012,\n",
    "                     \"DESwl__2_e_m\" => 0.012,\n",
    "                     \"DESwl__3_e_m\" => 0.012)\n",
    "    \n",
    "    return Theory(cosmology, tracers_names, pairs,\n",
    "                  idx, files; Nuisances=nuisances)\n",
    "end;\n",
    "\n",
    "function model_cov2(nz_k2;\n",
    "               tracers_names=tracers_names,\n",
    "               pairs=pairs,\n",
    "               idx=idx,\n",
    "               cov_tot=cov_tot, \n",
    "               files=files) \n",
    "\n",
    "    cosmology = Cosmology()\n",
    "    cosmology.settings.cosmo_type = Real\n",
    "    nuisances = Dict(\"A_IA\" => 0,\n",
    "                     \"alpha_IA\" => 0,\n",
    "\n",
    "                     \"DESwl__0_e_nz\" => nz_k0,\n",
    "                     \"DESwl__1_e_nz\" => nz_k1,\n",
    "                     \"DESwl__2_e_nz\" => nz_k2,\n",
    "                     \"DESwl__3_e_nz\" => nz_k3,\n",
    "        \n",
    "                     \"DESwl__0_e_m\" => 0.012,\n",
    "                     \"DESwl__1_e_m\" => 0.012,\n",
    "                     \"DESwl__2_e_m\" => 0.012,\n",
    "                     \"DESwl__3_e_m\" => 0.012)\n",
    "    \n",
    "    return Theory(cosmology, tracers_names, pairs,\n",
    "                  idx, files; Nuisances=nuisances)\n",
    "end;\n",
    "\n",
    "function model_cov3(nz_k3;\n",
    "               tracers_names=tracers_names,\n",
    "               pairs=pairs,\n",
    "               idx=idx,\n",
    "               cov_tot=cov_tot, \n",
    "               files=files) \n",
    "\n",
    "    cosmology = Cosmology()\n",
    "    cosmology.settings.cosmo_type = Real\n",
    "    nuisances = Dict(\"A_IA\" => 0,\n",
    "                     \"alpha_IA\" => 0,\n",
    "\n",
    "                     \"DESwl__0_e_nz\" => nz_k0,\n",
    "                     \"DESwl__1_e_nz\" => nz_k1,\n",
    "                     \"DESwl__2_e_nz\" => nz_k2,\n",
    "                     \"DESwl__3_e_nz\" => nz_k3,\n",
    "        \n",
    "                     \"DESwl__0_e_m\" => 0.012,\n",
    "                     \"DESwl__1_e_m\" => 0.012,\n",
    "                     \"DESwl__2_e_m\" => 0.012,\n",
    "                     \"DESwl__3_e_m\" => 0.012)\n",
    "    \n",
    "    return Theory(cosmology, tracers_names, pairs,\n",
    "                  idx, files; Nuisances=nuisances)\n",
    "end;"
   ]
  },
  {
   "cell_type": "code",
   "execution_count": 4,
   "id": "bba276a5",
   "metadata": {},
   "outputs": [],
   "source": [
    "d = 0.0005\n",
    "T0_num = zeros(240, 25)\n",
    "T1_num = zeros(240, 25)\n",
    "T2_num = zeros(240, 25)\n",
    "T3_num = zeros(240, 25)\n",
    "\n",
    "for i in 1:25\n",
    "    e = zeros(25)\n",
    "    e[i] = d\n",
    "    T0_num[:, i] = (model_cov0(nz_k0+e) .- model_cov0(nz_k0)) ./ d\n",
    "    T1_num[:, i] = (model_cov1(nz_k1+e) .- model_cov1(nz_k1)) ./ d\n",
    "    T2_num[:, i] = (model_cov2(nz_k2+e) .- model_cov2(nz_k2)) ./ d\n",
    "    T3_num[:, i] = (model_cov3(nz_k3+e) .- model_cov3(nz_k3)) ./ d\n",
    "end"
   ]
  },
  {
   "cell_type": "code",
   "execution_count": 5,
   "id": "353b6620",
   "metadata": {},
   "outputs": [],
   "source": [
    "using ForwardDiff"
   ]
  },
  {
   "cell_type": "code",
   "execution_count": 6,
   "id": "49f4880e",
   "metadata": {},
   "outputs": [],
   "source": [
    "T0 = ForwardDiff.jacobian(model_cov0, nz_k0);"
   ]
  },
  {
   "cell_type": "code",
   "execution_count": 7,
   "id": "85d37a74",
   "metadata": {},
   "outputs": [],
   "source": [
    "T1 = ForwardDiff.jacobian(model_cov1, nz_k1);"
   ]
  },
  {
   "cell_type": "code",
   "execution_count": 8,
   "id": "14bbb714",
   "metadata": {},
   "outputs": [],
   "source": [
    "T2 = ForwardDiff.jacobian(model_cov2, nz_k2);"
   ]
  },
  {
   "cell_type": "code",
   "execution_count": 9,
   "id": "4f410a2d",
   "metadata": {},
   "outputs": [],
   "source": [
    "T3 = ForwardDiff.jacobian(model_cov3, nz_k3);"
   ]
  },
  {
   "cell_type": "code",
   "execution_count": 10,
   "id": "b1d1064b",
   "metadata": {},
   "outputs": [
    {
     "data": {
      "text/plain": [
       "240×25 Matrix{Float64}:\n",
       "   0.000193629    0.000395687    0.00025788   …   -0.00200782   -0.00103276\n",
       "   0.000194802    0.000400604    0.000248758      -0.00291767   -0.00150338\n",
       "   0.000195359    0.000403243    0.000241545      -0.00370462   -0.00191558\n",
       "   0.000195694    0.00040488     0.000235744      -0.00434041   -0.00224677\n",
       "   0.000195919    0.000405966    0.000230903      -0.00487906   -0.00252853\n",
       "   0.000196085    0.000406835    0.000226822  …   -0.00536115   -0.00278428\n",
       "   0.000196211    0.000407458    0.000223369      -0.00576375   -0.0029969\n",
       "   0.000196319    0.000408041    0.000220175      -0.00611734   -0.00318254\n",
       "   0.000196413    0.00040851     0.000217152      -0.00645072   -0.00335712\n",
       "   0.000196501    0.000408928    0.000213911      -0.00677781   -0.00352832\n",
       "   0.000196586    0.000409319    0.000210701  …   -0.00708667   -0.00368951\n",
       "   0.000196658    0.000409732    0.000207694      -0.00737613   -0.00384022\n",
       "   0.000196728    0.000410146    0.000204667      -0.00778673   -0.00406835\n",
       "   ⋮                                          ⋱                \n",
       " NaN            NaN            NaN               NaN           NaN\n",
       " NaN            NaN            NaN               NaN           NaN\n",
       " NaN            NaN            NaN            …  NaN           NaN\n",
       " NaN            NaN            NaN               NaN           NaN\n",
       " NaN            NaN            NaN               NaN           NaN\n",
       " NaN            NaN            NaN               NaN           NaN\n",
       " NaN            NaN            NaN               NaN           NaN\n",
       " NaN            NaN            NaN            …  NaN           NaN\n",
       " NaN            NaN            NaN               NaN           NaN\n",
       " NaN            NaN            NaN               NaN           NaN\n",
       " NaN            NaN            NaN               NaN           NaN\n",
       " NaN            NaN            NaN               NaN           NaN"
      ]
     },
     "execution_count": 10,
     "metadata": {},
     "output_type": "execute_result"
    }
   ],
   "source": [
    "(T0.-T0_num) ./ T0_num"
   ]
  },
  {
   "cell_type": "code",
   "execution_count": 46,
   "id": "151199af",
   "metadata": {},
   "outputs": [],
   "source": [
    "TT0 = T0 * Diagonal(cov_k0) * T0'\n",
    "TT1 = T1 * Diagonal(cov_k1) * T1'\n",
    "TT2 = T2 * Diagonal(cov_k2) * T2'\n",
    "TT3 = T3 * Diagonal(cov_k3) * T3';\n",
    "\n",
    "TT0_num = T0_num * Diagonal(cov_k0) * T0_num'\n",
    "TT1_num = T1_num * Diagonal(cov_k1) * T1_num'\n",
    "TT2_num = T2_num * Diagonal(cov_k2) * T2_num'\n",
    "TT3_num = T3_num * Diagonal(cov_k3) * T3_num';"
   ]
  },
  {
   "cell_type": "code",
   "execution_count": 31,
   "id": "c426d0e7",
   "metadata": {},
   "outputs": [
    {
     "data": {
      "text/plain": [
       "false"
      ]
     },
     "execution_count": 31,
     "metadata": {},
     "output_type": "execute_result"
    }
   ],
   "source": [
    "isposdef(TT0)"
   ]
  },
  {
   "cell_type": "code",
   "execution_count": 32,
   "id": "1046d93e",
   "metadata": {},
   "outputs": [
    {
     "data": {
      "text/plain": [
       "false"
      ]
     },
     "execution_count": 32,
     "metadata": {},
     "output_type": "execute_result"
    }
   ],
   "source": [
    "ishermitian(TT0)"
   ]
  },
  {
   "cell_type": "code",
   "execution_count": 40,
   "id": "3e4eea60",
   "metadata": {},
   "outputs": [
    {
     "data": {
      "text/plain": [
       "false"
      ]
     },
     "execution_count": 40,
     "metadata": {},
     "output_type": "execute_result"
    }
   ],
   "source": [
    "issymmetric(TT0)"
   ]
  },
  {
   "cell_type": "code",
   "execution_count": 50,
   "id": "382ad194",
   "metadata": {},
   "outputs": [
    {
     "data": {
      "text/plain": [
       "Eigen{Float64, Float64, Matrix{Float64}, Vector{Float64}}\n",
       "values:\n",
       "240-element Vector{Float64}:\n",
       " -1.128474576789396e-35\n",
       " -7.277266810614447e-36\n",
       " -6.206610172341678e-36\n",
       " -3.3789720629850065e-36\n",
       " -1.3068808330824857e-36\n",
       " -2.951794520708943e-37\n",
       " -2.5301956620524916e-37\n",
       " -2.483149095173731e-37\n",
       " -1.65366925868244e-37\n",
       " -1.3873920979428907e-37\n",
       " -8.33034211261796e-38\n",
       " -8.215626234068381e-38\n",
       " -4.150222570748722e-38\n",
       "  ⋮\n",
       "  6.9982450004057165e-34\n",
       "  5.786836311304491e-33\n",
       "  2.1415749709640021e-32\n",
       "  7.092307165714e-31\n",
       "  1.0711757829062574e-29\n",
       "  5.138076635775946e-29\n",
       "  2.4692232469578864e-27\n",
       "  1.742463843489843e-26\n",
       "  7.58311470323733e-25\n",
       "  3.770160576656751e-23\n",
       "  3.2355705754491424e-21\n",
       "  4.198870877301531e-19\n",
       "vectors:\n",
       "240×240 Matrix{Float64}:\n",
       " -0.00351283   0.018338     -0.00256421  …  0.641099    -0.377669\n",
       "  0.0795651   -0.102236      0.030915       0.249102    -0.18747\n",
       " -0.0669518    0.123657      0.0382648      0.121068    -0.108539\n",
       " -0.0110264    0.0157477    -0.0156316      0.0675934   -0.0694481\n",
       " -0.0318029    0.0174882    -0.0819         0.0413323   -0.0475987\n",
       " -0.0982039   -0.00142325   -0.0778484   …  0.0271927   -0.0343443\n",
       " -0.0705678    0.0624148    -0.075672       0.0187328   -0.025738\n",
       "  0.0232296   -0.160447      0.0295969      0.0133631   -0.0197352\n",
       "  0.114464    -0.0972045     0.032874       0.00947414  -0.0151248\n",
       "  0.0382772    0.087878      0.0228781      0.00663949  -0.0115063\n",
       " -0.0435148    0.000709541  -0.00544901  …  0.00464907  -0.00873329\n",
       " -0.0408476   -0.107903     -0.00297655     0.00323995  -0.0066028\n",
       "  0.0229385    0.0171859     0.0373784      0.00225509  -0.0049692\n",
       "  ⋮                                      ⋱              \n",
       "  0.0          0.0           0.0            0.0          0.0\n",
       "  0.0          0.0           0.0            0.0          0.0\n",
       "  0.0          0.0           0.0         …  0.0          0.0\n",
       "  0.0          0.0           0.0            0.0          0.0\n",
       "  0.0          0.0           0.0            0.0          0.0\n",
       "  0.0          0.0           0.0            0.0          0.0\n",
       "  0.0          0.0           0.0            0.0          0.0\n",
       "  0.0          0.0           0.0         …  0.0          0.0\n",
       "  0.0          0.0           0.0            0.0          0.0\n",
       "  0.0          0.0           0.0            0.0          0.0\n",
       "  0.0          0.0           0.0            0.0          0.0\n",
       "  0.0          0.0           0.0            0.0          0.0"
      ]
     },
     "execution_count": 50,
     "metadata": {},
     "output_type": "execute_result"
    }
   ],
   "source": [
    "eigen(Hermitian(TT0_num))"
   ]
  },
  {
   "cell_type": "code",
   "execution_count": 51,
   "id": "40a7e2a7",
   "metadata": {},
   "outputs": [
    {
     "data": {
      "text/plain": [
       "240×240 Matrix{Float64}:\n",
       "   0.0            0.0          …  NaN  NaN  NaN  NaN  NaN  NaN  NaN\n",
       "   0.0            0.0             NaN  NaN  NaN  NaN  NaN  NaN  NaN\n",
       "   0.0            0.0             NaN  NaN  NaN  NaN  NaN  NaN  NaN\n",
       "   0.0            0.0             NaN  NaN  NaN  NaN  NaN  NaN  NaN\n",
       "   0.0            0.0             NaN  NaN  NaN  NaN  NaN  NaN  NaN\n",
       "   0.0            0.0          …  NaN  NaN  NaN  NaN  NaN  NaN  NaN\n",
       "   1.826e-16     -1.84292e-16     NaN  NaN  NaN  NaN  NaN  NaN  NaN\n",
       "  -1.19149e-16   -1.20235e-16     NaN  NaN  NaN  NaN  NaN  NaN  NaN\n",
       "   1.55571e-16    0.0             NaN  NaN  NaN  NaN  NaN  NaN  NaN\n",
       "   2.04628e-16   -2.06434e-16     NaN  NaN  NaN  NaN  NaN  NaN  NaN\n",
       "   0.0           -1.36052e-16  …  NaN  NaN  NaN  NaN  NaN  NaN  NaN\n",
       "   0.0            0.0             NaN  NaN  NaN  NaN  NaN  NaN  NaN\n",
       "   0.0            0.0             NaN  NaN  NaN  NaN  NaN  NaN  NaN\n",
       "   ⋮                           ⋱              ⋮                 \n",
       " NaN            NaN               NaN  NaN  NaN  NaN  NaN  NaN  NaN\n",
       " NaN            NaN               NaN  NaN  NaN  NaN  NaN  NaN  NaN\n",
       " NaN            NaN            …  NaN  NaN  NaN  NaN  NaN  NaN  NaN\n",
       " NaN            NaN               NaN  NaN  NaN  NaN  NaN  NaN  NaN\n",
       " NaN            NaN               NaN  NaN  NaN  NaN  NaN  NaN  NaN\n",
       " NaN            NaN               NaN  NaN  NaN  NaN  NaN  NaN  NaN\n",
       " NaN            NaN               NaN  NaN  NaN  NaN  NaN  NaN  NaN\n",
       " NaN            NaN            …  NaN  NaN  NaN  NaN  NaN  NaN  NaN\n",
       " NaN            NaN               NaN  NaN  NaN  NaN  NaN  NaN  NaN\n",
       " NaN            NaN               NaN  NaN  NaN  NaN  NaN  NaN  NaN\n",
       " NaN            NaN               NaN  NaN  NaN  NaN  NaN  NaN  NaN\n",
       " NaN            NaN               NaN  NaN  NaN  NaN  NaN  NaN  NaN"
      ]
     },
     "execution_count": 51,
     "metadata": {},
     "output_type": "execute_result"
    }
   ],
   "source": [
    "(Hermitian(TT0_num) - TT0_num) ./ TT0_num"
   ]
  },
  {
   "cell_type": "code",
   "execution_count": null,
   "id": "94e20915",
   "metadata": {},
   "outputs": [],
   "source": [
    "chain = sample(model(fake_data), NUTS(adaptation, TAP, ),\n",
    "                       MCMCDistributed(), iterations, nchains, progress=true; save_state=true)"
   ]
  }
 ],
 "metadata": {
  "kernelspec": {
   "display_name": "Julia 4 Threads 1.7.0",
   "language": "julia",
   "name": "julia-4-threads-1.7"
  },
  "language_info": {
   "file_extension": ".jl",
   "mimetype": "application/julia",
   "name": "julia",
   "version": "1.7.0"
  }
 },
 "nbformat": 4,
 "nbformat_minor": 5
}
