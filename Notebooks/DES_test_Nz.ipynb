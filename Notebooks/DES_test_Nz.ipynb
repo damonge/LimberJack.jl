{
 "cells": [
  {
   "cell_type": "code",
   "execution_count": 1,
   "id": "02df9ee7",
   "metadata": {},
   "outputs": [
    {
     "data": {
      "text/plain": [
       "\u001b[0m\u001b[1mPython module: \u001b[22m<module 'numpy' from '/home/jaime/.julia/environments/v1.7/.CondaPkg/env/lib/python3.10/site-packages/numpy/__init__.py'>"
      ]
     },
     "execution_count": 1,
     "metadata": {},
     "output_type": "execute_result"
    }
   ],
   "source": [
    "using Turing\n",
    "using LimberJack\n",
    "using CSV\n",
    "using NPZ\n",
    "using FITSIO\n",
    "using LinearAlgebra\n",
    "using PythonCall\n",
    "np = pyimport(\"numpy\")"
   ]
  },
  {
   "cell_type": "markdown",
   "id": "f9417557",
   "metadata": {},
   "source": [
    "# T-Matrices"
   ]
  },
  {
   "cell_type": "code",
   "execution_count": 2,
   "id": "a94c9c61",
   "metadata": {},
   "outputs": [
    {
     "data": {
      "text/plain": [
       "(Float32[0.06, 0.099999994, 0.14, 0.18, 0.22, 0.26, 0.3, 0.34, 0.38, 0.42000002  …  1.26, 1.3, 1.34, 1.38, 1.4200001, 1.46, 1.5, 1.54, 1.5799999, 1.62], [4.629577847407024, 29.132412608452444, 21.765409190156518, 20.62146040771289, 49.575919814294636, 19.756458131549834, 28.671379304807797, 16.733425194984918, 36.12801036345403, 15.65029828338953  …  159.1343087971742, 45.68244851651424, 57.13816009303667, 74.52981085428384, 67.0412204252083, 69.0824797219035, 38.605059715930935, 18.387277685421846, 18.004397396845302, 19.840074411368867], [34.72926020369569 -0.3508402184688245 … -0.0035034826825542913 0.025896520365390033; -0.3508402184688245 527.8777602661406 … -0.09997382746286836 -0.09250459543441937; … ; -0.0035034826825542913 -0.09997382746286836 … 94.73249576839464 0.09124693778804871; 0.025896520365390033 -0.09250459543441937 … 0.09124693778804871 106.16024698844336])"
      ]
     },
     "execution_count": 2,
     "metadata": {},
     "output_type": "execute_result"
    }
   ],
   "source": [
    "#println(\"My id is \", myid(), \" and I have \", Threads.nthreads(), \" threads\")\n",
    "\n",
    "fol = \"DESY1\"\n",
    "data_set = \"wlwl_Nzs\"\n",
    "meta = np.load(string(\"../data/\", fol, \"/\", data_set, \"_meta.npz\"))\n",
    "files = npzread(string(\"../data/\", fol, \"/\", data_set, \"_files.npz\"))\n",
    "\n",
    "tracers_names = pyconvert(Vector{String}, meta[\"tracers\"])\n",
    "pairs = pyconvert(Vector{Vector{String}}, meta[\"pairs\"]);\n",
    "idx = pyconvert(Vector{Int}, meta[\"idx\"])\n",
    "data_vector = pyconvert(Vector{Float64}, meta[\"cls\"])\n",
    "cov_tot = pyconvert(Matrix{Float64}, meta[\"cov\"]);\n",
    "\n",
    "nz_path = \"../data/DESY1/Nzs/\"\n",
    "zs_k0, nz_k0, cov_k0 = get_nzs(nz_path, \"DESwl__0_e\")\n",
    "zs_k1, nz_k1, cov_k1 = get_nzs(nz_path, \"DESwl__1_e\")\n",
    "zs_k2, nz_k2, cov_k2 = get_nzs(nz_path, \"DESwl__2_e\")\n",
    "zs_k3, nz_k3, cov_k3 = get_nzs(nz_path, \"DESwl__3_e\")"
   ]
  },
  {
   "cell_type": "code",
   "execution_count": 3,
   "id": "9970eb41",
   "metadata": {},
   "outputs": [],
   "source": [
    "function model_cov0(nz_k0;\n",
    "               tracers_names=tracers_names,\n",
    "               pairs=pairs,\n",
    "               idx=idx,\n",
    "               cov_tot=cov_tot, \n",
    "               files=files) \n",
    "\n",
    "    cosmology = Cosmology()\n",
    "    cosmology.settings.cosmo_type = Real\n",
    "    nuisances = Dict(\"A_IA\" => 0,\n",
    "                     \"alpha_IA\" => 0,\n",
    "\n",
    "                     \"DESwl__0_e_nz\" => nz_k0,\n",
    "                     \"DESwl__1_e_nz\" => nz_k1,\n",
    "                     \"DESwl__2_e_nz\" => nz_k2,\n",
    "                     \"DESwl__3_e_nz\" => nz_k3,\n",
    "        \n",
    "                     \"DESwl__0_e_m\" => 0.012,\n",
    "                     \"DESwl__1_e_m\" => 0.012,\n",
    "                     \"DESwl__2_e_m\" => 0.012,\n",
    "                     \"DESwl__3_e_m\" => 0.012)\n",
    "    \n",
    "    return Theory(cosmology, tracers_names, pairs,\n",
    "                  idx, files; Nuisances=nuisances)\n",
    "end;\n",
    "\n",
    "function model_cov1(nz_k1;\n",
    "               tracers_names=tracers_names,\n",
    "               pairs=pairs,\n",
    "               idx=idx,\n",
    "               cov_tot=cov_tot, \n",
    "               files=files) \n",
    "\n",
    "    cosmology = Cosmology()\n",
    "    cosmology.settings.cosmo_type = Real\n",
    "    nuisances = Dict(\"A_IA\" => 0,\n",
    "                     \"alpha_IA\" => 0,\n",
    "\n",
    "                     \"DESwl__0_e_nz\" => nz_k0,\n",
    "                     \"DESwl__1_e_nz\" => nz_k1,\n",
    "                     \"DESwl__2_e_nz\" => nz_k2,\n",
    "                     \"DESwl__3_e_nz\" => nz_k3,\n",
    "        \n",
    "                     \"DESwl__0_e_m\" => 0.012,\n",
    "                     \"DESwl__1_e_m\" => 0.012,\n",
    "                     \"DESwl__2_e_m\" => 0.012,\n",
    "                     \"DESwl__3_e_m\" => 0.012)\n",
    "    \n",
    "    return Theory(cosmology, tracers_names, pairs,\n",
    "                  idx, files; Nuisances=nuisances)\n",
    "end;\n",
    "\n",
    "function model_cov2(nz_k2;\n",
    "               tracers_names=tracers_names,\n",
    "               pairs=pairs,\n",
    "               idx=idx,\n",
    "               cov_tot=cov_tot, \n",
    "               files=files) \n",
    "\n",
    "    cosmology = Cosmology()\n",
    "    cosmology.settings.cosmo_type = Real\n",
    "    nuisances = Dict(\"A_IA\" => 0,\n",
    "                     \"alpha_IA\" => 0,\n",
    "\n",
    "                     \"DESwl__0_e_nz\" => nz_k0,\n",
    "                     \"DESwl__1_e_nz\" => nz_k1,\n",
    "                     \"DESwl__2_e_nz\" => nz_k2,\n",
    "                     \"DESwl__3_e_nz\" => nz_k3,\n",
    "        \n",
    "                     \"DESwl__0_e_m\" => 0.012,\n",
    "                     \"DESwl__1_e_m\" => 0.012,\n",
    "                     \"DESwl__2_e_m\" => 0.012,\n",
    "                     \"DESwl__3_e_m\" => 0.012)\n",
    "    \n",
    "    return Theory(cosmology, tracers_names, pairs,\n",
    "                  idx, files; Nuisances=nuisances)\n",
    "end;\n",
    "\n",
    "function model_cov3(nz_k3;\n",
    "               tracers_names=tracers_names,\n",
    "               pairs=pairs,\n",
    "               idx=idx,\n",
    "               cov_tot=cov_tot, \n",
    "               files=files) \n",
    "\n",
    "    cosmology = Cosmology()\n",
    "    cosmology.settings.cosmo_type = Real\n",
    "    nuisances = Dict(\"A_IA\" => 0,\n",
    "                     \"alpha_IA\" => 0,\n",
    "\n",
    "                     \"DESwl__0_e_nz\" => nz_k0,\n",
    "                     \"DESwl__1_e_nz\" => nz_k1,\n",
    "                     \"DESwl__2_e_nz\" => nz_k2,\n",
    "                     \"DESwl__3_e_nz\" => nz_k3,\n",
    "        \n",
    "                     \"DESwl__0_e_m\" => 0.012,\n",
    "                     \"DESwl__1_e_m\" => 0.012,\n",
    "                     \"DESwl__2_e_m\" => 0.012,\n",
    "                     \"DESwl__3_e_m\" => 0.012)\n",
    "    \n",
    "    return Theory(cosmology, tracers_names, pairs,\n",
    "                  idx, files; Nuisances=nuisances)\n",
    "end;"
   ]
  },
  {
   "cell_type": "code",
   "execution_count": 8,
   "id": "bba276a5",
   "metadata": {},
   "outputs": [],
   "source": [
    "d = 0.0005\n",
    "m  = length(nz_k0)\n",
    "T0_num = zeros(240, m)\n",
    "T1_num = zeros(240, m)\n",
    "T2_num = zeros(240, m)\n",
    "T3_num = zeros(240, m)\n",
    "\n",
    "for i in 1:m\n",
    "    e = zeros(m)\n",
    "    e[i] = d\n",
    "    T0_num[:, i] = (model_cov0(nz_k0+e) .- model_cov0(nz_k0)) ./ d\n",
    "    T1_num[:, i] = (model_cov1(nz_k1+e) .- model_cov1(nz_k1)) ./ d\n",
    "    T2_num[:, i] = (model_cov2(nz_k2+e) .- model_cov2(nz_k2)) ./ d\n",
    "    T3_num[:, i] = (model_cov3(nz_k3+e) .- model_cov3(nz_k3)) ./ d\n",
    "end"
   ]
  },
  {
   "cell_type": "code",
   "execution_count": 9,
   "id": "353b6620",
   "metadata": {},
   "outputs": [],
   "source": [
    "using ForwardDiff"
   ]
  },
  {
   "cell_type": "code",
   "execution_count": 10,
   "id": "49f4880e",
   "metadata": {},
   "outputs": [],
   "source": [
    "T0 = ForwardDiff.jacobian(model_cov0, nz_k0);"
   ]
  },
  {
   "cell_type": "code",
   "execution_count": 11,
   "id": "85d37a74",
   "metadata": {},
   "outputs": [],
   "source": [
    "T1 = ForwardDiff.jacobian(model_cov1, nz_k1);"
   ]
  },
  {
   "cell_type": "code",
   "execution_count": 12,
   "id": "14bbb714",
   "metadata": {},
   "outputs": [],
   "source": [
    "T2 = ForwardDiff.jacobian(model_cov2, nz_k2);"
   ]
  },
  {
   "cell_type": "code",
   "execution_count": 13,
   "id": "4f410a2d",
   "metadata": {},
   "outputs": [],
   "source": [
    "T3 = ForwardDiff.jacobian(model_cov3, nz_k3);"
   ]
  },
  {
   "cell_type": "code",
   "execution_count": 14,
   "id": "b1d1064b",
   "metadata": {},
   "outputs": [
    {
     "data": {
      "text/plain": [
       "240×40 Matrix{Float64}:\n",
       "   6.42392e-8    1.1654e-7     1.16502e-7  …   -2.4885e-7    -1.26346e-7\n",
       "   5.29337e-8    1.07602e-7    1.11495e-7      -3.34512e-7   -1.6867e-7\n",
       "   7.48365e-8    1.22981e-7    1.19983e-7      -4.13471e-7   -2.19309e-7\n",
       "   5.92982e-8    1.16507e-7    1.19524e-7      -4.68466e-7   -2.40713e-7\n",
       "   5.80384e-8    1.14871e-7    1.14127e-7      -5.12388e-7   -2.64956e-7\n",
       "   4.67663e-8    1.05924e-7    1.10863e-7  …   -5.48032e-7   -2.81462e-7\n",
       "   6.07951e-8    1.15953e-7    1.13501e-7      -5.78323e-7   -3.02097e-7\n",
       "   5.65562e-8    1.12041e-7    1.14576e-7      -6.05134e-7   -3.10299e-7\n",
       "   5.31144e-8    1.15231e-7    1.216e-7        -6.28487e-7   -3.21213e-7\n",
       "   6.15344e-8    1.19953e-7    1.19974e-7      -6.56427e-7   -3.39243e-7\n",
       "   6.63751e-8    1.16379e-7    1.12862e-7  …   -6.79252e-7   -3.54508e-7\n",
       "   5.93376e-8    1.16329e-7    1.16158e-7      -6.97903e-7   -3.62165e-7\n",
       "   7.12854e-8    1.17786e-7    1.189e-7        -7.22368e-7   -3.74604e-7\n",
       "   ⋮                                       ⋱                \n",
       " NaN           NaN           NaN              NaN           NaN\n",
       " NaN           NaN           NaN              NaN           NaN\n",
       " NaN           NaN           NaN           …  NaN           NaN\n",
       " NaN           NaN           NaN              NaN           NaN\n",
       " NaN           NaN           NaN              NaN           NaN\n",
       " NaN           NaN           NaN              NaN           NaN\n",
       " NaN           NaN           NaN              NaN           NaN\n",
       " NaN           NaN           NaN           …  NaN           NaN\n",
       " NaN           NaN           NaN              NaN           NaN\n",
       " NaN           NaN           NaN              NaN           NaN\n",
       " NaN           NaN           NaN              NaN           NaN\n",
       " NaN           NaN           NaN              NaN           NaN"
      ]
     },
     "execution_count": 14,
     "metadata": {},
     "output_type": "execute_result"
    }
   ],
   "source": [
    "(T0.-T0_num) ./ T0_num"
   ]
  },
  {
   "cell_type": "code",
   "execution_count": 22,
   "id": "151199af",
   "metadata": {},
   "outputs": [],
   "source": [
    "TT0 = T0 * cov_k0 * T0'\n",
    "TT1 = T1 * cov_k1 * T1'\n",
    "TT2 = T2 * cov_k2 * T2'\n",
    "TT3 = T3 * cov_k3 * T3';\n",
    "\n",
    "TT0_num = T0_num * cov_k0 * T0_num'\n",
    "TT1_num = T1_num * cov_k1 * T1_num'\n",
    "TT2_num = T2_num * cov_k2 * T2_num'\n",
    "TT3_num = T3_num * cov_k3 * T3_num';"
   ]
  },
  {
   "cell_type": "code",
   "execution_count": 35,
   "id": "c426d0e7",
   "metadata": {},
   "outputs": [
    {
     "data": {
      "text/plain": [
       "false"
      ]
     },
     "execution_count": 35,
     "metadata": {},
     "output_type": "execute_result"
    }
   ],
   "source": [
    "isposdef(Symmetric(TT0_num))"
   ]
  },
  {
   "cell_type": "code",
   "execution_count": 38,
   "id": "e84ab645",
   "metadata": {},
   "outputs": [
    {
     "data": {
      "text/plain": [
       "240-element Vector{Float64}:\n",
       " -1.1879500350496303e-37\n",
       " -8.250962301536381e-38\n",
       " -6.254603593167738e-38\n",
       " -2.3463529272951724e-38\n",
       " -1.653831728238613e-38\n",
       " -1.410744868169331e-38\n",
       " -1.079779403720184e-38\n",
       " -6.944359817295728e-39\n",
       " -3.300338152306984e-39\n",
       " -1.9169182373109744e-39\n",
       " -1.8376080756948184e-39\n",
       " -1.7152073195019638e-39\n",
       " -3.092048102436955e-40\n",
       "  ⋮\n",
       "  1.358781842796728e-29\n",
       "  2.6366848603762536e-29\n",
       "  5.231908928674761e-29\n",
       "  8.383871475979268e-29\n",
       "  1.4180213934409375e-28\n",
       "  8.22728129212671e-28\n",
       "  2.7162431820408832e-27\n",
       "  9.982178745883075e-26\n",
       "  2.646033660822745e-24\n",
       "  3.4229377643242664e-23\n",
       "  3.699194254215262e-21\n",
       "  3.6167116891755605e-19"
      ]
     },
     "execution_count": 38,
     "metadata": {},
     "output_type": "execute_result"
    }
   ],
   "source": [
    "eigen(Hermitian(Symmetric(TT0_num))).values"
   ]
  },
  {
   "cell_type": "code",
   "execution_count": 24,
   "id": "1046d93e",
   "metadata": {},
   "outputs": [
    {
     "data": {
      "text/plain": [
       "false"
      ]
     },
     "execution_count": 24,
     "metadata": {},
     "output_type": "execute_result"
    }
   ],
   "source": [
    "ishermitian(TT0)"
   ]
  },
  {
   "cell_type": "code",
   "execution_count": 25,
   "id": "3e4eea60",
   "metadata": {},
   "outputs": [
    {
     "data": {
      "text/plain": [
       "false"
      ]
     },
     "execution_count": 25,
     "metadata": {},
     "output_type": "execute_result"
    }
   ],
   "source": [
    "issymmetric(TT0)"
   ]
  },
  {
   "cell_type": "code",
   "execution_count": 26,
   "id": "382ad194",
   "metadata": {},
   "outputs": [
    {
     "data": {
      "text/plain": [
       "false"
      ]
     },
     "execution_count": 26,
     "metadata": {},
     "output_type": "execute_result"
    }
   ],
   "source": [
    "isposdef(Hermitian(TT0_num))"
   ]
  },
  {
   "cell_type": "code",
   "execution_count": 20,
   "id": "40a7e2a7",
   "metadata": {},
   "outputs": [
    {
     "data": {
      "text/plain": [
       "240×240 Matrix{Float64}:\n",
       "   0.0            0.0            0.0  …  NaN  NaN  NaN  NaN  NaN  NaN  NaN\n",
       "   0.0            0.0            0.0     NaN  NaN  NaN  NaN  NaN  NaN  NaN\n",
       "   0.0            0.0            0.0     NaN  NaN  NaN  NaN  NaN  NaN  NaN\n",
       "  -1.60509e-16    0.0            0.0     NaN  NaN  NaN  NaN  NaN  NaN  NaN\n",
       "   0.0            0.0            0.0     NaN  NaN  NaN  NaN  NaN  NaN  NaN\n",
       "  -1.64694e-16    0.0            0.0  …  NaN  NaN  NaN  NaN  NaN  NaN  NaN\n",
       "   0.0            0.0            0.0     NaN  NaN  NaN  NaN  NaN  NaN  NaN\n",
       "   0.0            0.0            0.0     NaN  NaN  NaN  NaN  NaN  NaN  NaN\n",
       "  -1.89532e-16    0.0            0.0     NaN  NaN  NaN  NaN  NaN  NaN  NaN\n",
       "   0.0            0.0            0.0     NaN  NaN  NaN  NaN  NaN  NaN  NaN\n",
       "   0.0            1.70583e-16    0.0  …  NaN  NaN  NaN  NaN  NaN  NaN  NaN\n",
       "   0.0            0.0            0.0     NaN  NaN  NaN  NaN  NaN  NaN  NaN\n",
       "   0.0            0.0            0.0     NaN  NaN  NaN  NaN  NaN  NaN  NaN\n",
       "   ⋮                                  ⋱              ⋮                 \n",
       " NaN            NaN            NaN       NaN  NaN  NaN  NaN  NaN  NaN  NaN\n",
       " NaN            NaN            NaN       NaN  NaN  NaN  NaN  NaN  NaN  NaN\n",
       " NaN            NaN            NaN    …  NaN  NaN  NaN  NaN  NaN  NaN  NaN\n",
       " NaN            NaN            NaN       NaN  NaN  NaN  NaN  NaN  NaN  NaN\n",
       " NaN            NaN            NaN       NaN  NaN  NaN  NaN  NaN  NaN  NaN\n",
       " NaN            NaN            NaN       NaN  NaN  NaN  NaN  NaN  NaN  NaN\n",
       " NaN            NaN            NaN       NaN  NaN  NaN  NaN  NaN  NaN  NaN\n",
       " NaN            NaN            NaN    …  NaN  NaN  NaN  NaN  NaN  NaN  NaN\n",
       " NaN            NaN            NaN       NaN  NaN  NaN  NaN  NaN  NaN  NaN\n",
       " NaN            NaN            NaN       NaN  NaN  NaN  NaN  NaN  NaN  NaN\n",
       " NaN            NaN            NaN       NaN  NaN  NaN  NaN  NaN  NaN  NaN\n",
       " NaN            NaN            NaN       NaN  NaN  NaN  NaN  NaN  NaN  NaN"
      ]
     },
     "execution_count": 20,
     "metadata": {},
     "output_type": "execute_result"
    }
   ],
   "source": [
    "(Hermitian(TT0_num) - TT0_num) ./ TT0_num"
   ]
  },
  {
   "cell_type": "code",
   "execution_count": null,
   "id": "94e20915",
   "metadata": {},
   "outputs": [],
   "source": [
    "chain = sample(model(fake_data), NUTS(adaptation, TAP, ),\n",
    "               MCMCDistributed(), iterations, nchains, progress=true; save_state=true)"
   ]
  }
 ],
 "metadata": {
  "kernelspec": {
   "display_name": "Julia 4 Threads 1.7.0",
   "language": "julia",
   "name": "julia-4-threads-1.7"
  },
  "language_info": {
   "file_extension": ".jl",
   "mimetype": "application/julia",
   "name": "julia",
   "version": "1.7.0"
  }
 },
 "nbformat": 4,
 "nbformat_minor": 5
}
