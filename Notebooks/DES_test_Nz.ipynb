{
 "cells": [
  {
   "cell_type": "code",
   "execution_count": 8,
   "id": "02df9ee7",
   "metadata": {},
   "outputs": [
    {
     "data": {
      "text/plain": [
       "\u001b[0m\u001b[1mPython module: \u001b[22m<module 'numpy' from '/home/jaime/.julia/environments/v1.7/.CondaPkg/env/lib/python3.10/site-packages/numpy/__init__.py'>"
      ]
     },
     "execution_count": 8,
     "metadata": {},
     "output_type": "execute_result"
    }
   ],
   "source": [
    "using Turing\n",
    "using LimberJack\n",
    "using LinearAlgebra\n",
    "using CSV\n",
    "using NPZ\n",
    "using PythonCall\n",
    "using PythonCall\n",
    "np = pyimport(\"numpy\")"
   ]
  },
  {
   "cell_type": "markdown",
   "id": "1e4f6fc0",
   "metadata": {
    "heading_collapsed": true
   },
   "source": [
    "# Make N(z)'s "
   ]
  },
  {
   "cell_type": "code",
   "execution_count": 4,
   "id": "b9c0a5b3",
   "metadata": {
    "hidden": true
   },
   "outputs": [
    {
     "data": {
      "text/plain": [
       "(Float32[0.02, 0.06, 0.099999994, 0.14, 0.18, 0.22, 0.26, 0.3, 0.34, 0.38  …  3.62, 3.66, 3.7, 3.74, 3.78, 3.82, 3.8600001, 3.9, 3.94, 3.98], [0.0, 0.005984172563510772, 0.03765643218161212, 0.028133875010282052, 0.026655211697212404, 0.06408162232970639, 0.02553711344743602, 0.03706050250131086, 0.0216295539779018, 0.04669891197796871  …  0.0, 0.0, 0.0, 0.0006562865728945231, 0.0, 0.0, 0.0, 0.0, 0.0, 0.0], [1.6708037247042034e-8 5.802577730455622e-5 … 0.0 0.0; 0.0 5.804248534180326e-5 … 0.0 0.0; … ; 0.0 5.802577730455622e-5 … 1.6708037247042034e-8 0.0; 0.0 5.802577730455622e-5 … 0.0 1.6708037247042034e-8])"
      ]
     },
     "execution_count": 4,
     "metadata": {},
     "output_type": "execute_result"
    }
   ],
   "source": [
    "nz_path = \"../data/DESY1/fullmarg_nzs/\" \n",
    "zs_k0, nz_k0, cov_k0 = get_nzs(nz_path, \"20\")\n",
    "zs_k1, nz_k1, cov_k1 = get_nzs(nz_path, \"21\")\n",
    "zs_k2, nz_k2, cov_k2 = get_nzs(nz_path, \"22\")\n",
    "zs_k3, nz_k3, cov_k3 = get_nzs(nz_path, \"23\")"
   ]
  },
  {
   "cell_type": "code",
   "execution_count": 5,
   "id": "6d44d8df",
   "metadata": {
    "hidden": true
   },
   "outputs": [],
   "source": [
    "err_k0 = sqrt.(diag(cov_k0))\n",
    "err_k1 = sqrt.(diag(cov_k1))\n",
    "err_k2 = sqrt.(diag(cov_k2))\n",
    "err_k3 = sqrt.(diag(cov_k3));"
   ]
  },
  {
   "cell_type": "code",
   "execution_count": 368,
   "id": "58bf43ff",
   "metadata": {
    "hidden": true
   },
   "outputs": [],
   "source": [
    "using Interpolations"
   ]
  },
  {
   "cell_type": "code",
   "execution_count": 473,
   "id": "cce1ff50",
   "metadata": {
    "hidden": true
   },
   "outputs": [],
   "source": [
    "l_X = LinRange(0, 1.1, 20)\n",
    "X = exp.(l_X) .- 1;"
   ]
  },
  {
   "cell_type": "code",
   "execution_count": 474,
   "id": "6a9965be",
   "metadata": {
    "hidden": true
   },
   "outputs": [],
   "source": [
    "nz_k0_itp = LinearInterpolation(zs_k0, nz_k0, extrapolation_bc=Line())\n",
    "err_k0_itp = LinearInterpolation(zs_k0, err_k0, extrapolation_bc=Line())\n",
    "\n",
    "nz_k1_itp = LinearInterpolation(zs_k1, nz_k1, extrapolation_bc=Line())\n",
    "err_k1_itp = LinearInterpolation(zs_k1, err_k1, extrapolation_bc=Line());\n",
    "\n",
    "nz_k2_itp = LinearInterpolation(zs_k2, nz_k2, extrapolation_bc=Line())\n",
    "err_k2_itp = LinearInterpolation(zs_k2, err_k2, extrapolation_bc=Line());\n",
    "\n",
    "nz_k3_itp = LinearInterpolation(zs_k3, nz_k3, extrapolation_bc=Line())\n",
    "err_k3_itp = LinearInterpolation(zs_k3, err_k3, extrapolation_bc=Line());"
   ]
  },
  {
   "cell_type": "code",
   "execution_count": 476,
   "id": "d4873d40",
   "metadata": {
    "hidden": true
   },
   "outputs": [],
   "source": [
    "nz_k0_lite = nz_k0_itp(X) \n",
    "err_k0_lite = err_k0_itp(X).^2\n",
    "cov_k0_lite = err_k0_lite.^2 \n",
    "\n",
    "nz_k1_lite = nz_k1_itp(X) \n",
    "err_k1_lite = err_k1_itp(X)\n",
    "cov_k1_lite = err_k1_lite.^2 \n",
    "\n",
    "nz_k2_lite = nz_k2_itp(X)\n",
    "err_k2_lite = err_k2_itp(X).^2 \n",
    "cov_k2_lite = err_k2_lite.^2 \n",
    "\n",
    "nz_k3_lite = nz_k3_itp(X)\n",
    "err_k3_lite = err_k3_itp(X).^2 \n",
    "cov_k3_lite = err_k3_lite.^2;"
   ]
  },
  {
   "cell_type": "code",
   "execution_count": 479,
   "id": "aee8e625",
   "metadata": {
    "hidden": true
   },
   "outputs": [],
   "source": [
    "npzwrite(\"../data/DESY1/lite20_nzs/nz_DESwl__0_e.npz\", Dict(\"z\" => X, \"dndz\"=> nz_k0_lite, \"cov\"=> cov_k0_lite))\n",
    "npzwrite(\"../data/DESY1/lite20_nzs/nz_DESwl__1_e.npz\", Dict(\"z\" => X, \"dndz\"=> nz_k1_lite, \"cov\"=> cov_k1_lite))\n",
    "npzwrite(\"../data/DESY1/lite20_nzs/nz_DESwl__2_e.npz\", Dict(\"z\" => X, \"dndz\"=> nz_k2_lite, \"cov\"=> cov_k2_lite))\n",
    "npzwrite(\"../data/DESY1/lite20_nzs/nz_DESwl__3_e.npz\", Dict(\"z\" => X, \"dndz\"=> nz_k3_lite, \"cov\"=> cov_k3_lite))"
   ]
  },
  {
   "cell_type": "markdown",
   "id": "23676b58",
   "metadata": {},
   "source": [
    "# Lkl"
   ]
  },
  {
   "cell_type": "code",
   "execution_count": 13,
   "id": "86daf8ca",
   "metadata": {},
   "outputs": [
    {
     "data": {
      "text/plain": [
       "Dict{String, Array{Float64}} with 14 entries:\n",
       "  \"ls_DESwl__2_e_DESwl__3_e\" => [44.5, 74.5, 104.5, 134.5, 164.5, 194.5, 224.5,…\n",
       "  \"ls_DESwl__3_e_DESwl__3_e\" => [44.5, 74.5, 104.5, 134.5, 164.5, 194.5, 224.5,…\n",
       "  \"ls_DESwl__0_e_DESwl__2_e\" => [44.5, 74.5, 104.5, 134.5, 164.5, 194.5, 224.5,…\n",
       "  \"ls_DESwl__0_e_DESwl__3_e\" => [44.5, 74.5, 104.5, 134.5, 164.5, 194.5, 224.5,…\n",
       "  \"ls_DESwl__0_e_DESwl__0_e\" => [44.5, 74.5, 104.5, 134.5, 164.5, 194.5, 224.5,…\n",
       "  \"ls_DESwl__1_e_DESwl__2_e\" => [44.5, 74.5, 104.5, 134.5, 164.5, 194.5, 224.5,…\n",
       "  \"nz_DESwl__0_e\"            => [0.0 0.130005 … 1.65854 2.00417; -0.0156303 0.2…\n",
       "  \"ls_DESwl__1_e_DESwl__1_e\" => [44.5, 74.5, 104.5, 134.5, 164.5, 194.5, 224.5,…\n",
       "  \"ls_DESwl__0_e_DESwl__1_e\" => [44.5, 74.5, 104.5, 134.5, 164.5, 194.5, 224.5,…\n",
       "  \"ls_DESwl__2_e_DESwl__2_e\" => [44.5, 74.5, 104.5, 134.5, 164.5, 194.5, 224.5,…\n",
       "  \"nz_DESwl__1_e\"            => [0.0 0.130005 … 1.65854 2.00417; -0.0110362 0.1…\n",
       "  \"ls_DESwl__1_e_DESwl__3_e\" => [44.5, 74.5, 104.5, 134.5, 164.5, 194.5, 224.5,…\n",
       "  \"nz_DESwl__3_e\"            => [0.0 0.130005 … 1.65854 2.00417; -0.00299209 0.…\n",
       "  \"nz_DESwl__2_e\"            => [0.0 0.130005 … 1.65854 2.00417; -0.00318556 0.…"
      ]
     },
     "execution_count": 13,
     "metadata": {},
     "output_type": "execute_result"
    }
   ],
   "source": [
    "fol = \"DESY1\"\n",
    "data_set = \"wlwl_lite10\"\n",
    "meta = np.load(string(\"../data/\", fol, \"/\", data_set, \"_meta.npz\"))\n",
    "files = npzread(string(\"../data/\", fol, \"/\", data_set, \"_files.npz\"))"
   ]
  },
  {
   "cell_type": "code",
   "execution_count": 14,
   "id": "3a7469ed",
   "metadata": {},
   "outputs": [
    {
     "data": {
      "text/plain": [
       "([0.0, 0.13000518614461032, 0.2769117207137157, 0.44291686665533714, 0.6305035424960621, 0.8424774590477093, 1.0820090840784555, 1.3526810626088452, 1.6585418020922078, 2.0041660239464334], [-0.0029920862817553865, 0.03051327942103319, 0.03040912201514251, 0.013837779618869402, 0.024305171252077012, 0.44232303886198976, 0.30477089069887153, 0.080983405477799, 0.023554788326521005, 0.002940391214619623], [1.70852513625414e-10, 2.831002605788785e-7, 1.2031648937001716e-7, 1.0115650342716598e-8, 5.035616234807032e-8, 0.0011019940755240378, 0.0001707677072101776, 9.284305121737408e-7, 2.51412459131466e-8, 2.3311197002382846e-10])"
      ]
     },
     "execution_count": 14,
     "metadata": {},
     "output_type": "execute_result"
    }
   ],
   "source": [
    "tracers_names = pyconvert(Vector{String}, meta[\"tracers\"])\n",
    "pairs = pyconvert(Vector{Vector{String}}, meta[\"pairs\"]);\n",
    "pairs_ids = pyconvert(Vector{Vector{Int}}, meta[\"pairs_ids\"])\n",
    "idx = pyconvert(Vector{Int}, meta[\"idx\"])\n",
    "data_vector = pyconvert(Vector{Float64}, meta[\"cls\"])\n",
    "cov_tot = pyconvert(Matrix{Float64}, meta[\"cov\"]);\n",
    "\n",
    "nz_path = \"../data/DESY1/lite10_nzs/\"\n",
    "zs_k0, nz_k0, cov_k0 = get_nzs(nz_path, \"DESwl__0_e\")\n",
    "zs_k1, nz_k1, cov_k1 = get_nzs(nz_path, \"DESwl__1_e\")\n",
    "zs_k2, nz_k2, cov_k2 = get_nzs(nz_path, \"DESwl__2_e\")\n",
    "zs_k3, nz_k3, cov_k3 = get_nzs(nz_path, \"DESwl__3_e\")"
   ]
  },
  {
   "cell_type": "code",
   "execution_count": 15,
   "id": "8b9fe8c5",
   "metadata": {},
   "outputs": [],
   "source": [
    "@model function model(data_vector;\n",
    "                      tracers_names=tracers_names,\n",
    "                      pairs=pairs,\n",
    "                      pairs_id=pairs_ids,\n",
    "                      idx=idx,\n",
    "                      cov_tot=cov_tot, \n",
    "                      files=files)\n",
    "\n",
    "    #KiDS priors\n",
    "    Ωm ~ Uniform(0.2, 0.6)\n",
    "    Ωb ~ Uniform(0.028, 0.065)\n",
    "    h ~ Uniform(0.64, 0.82)\n",
    "    s8 ~ Uniform(0.6, 0.9)\n",
    "    ns ~ Uniform(0.84, 1.1)\n",
    "    \n",
    "    A_IA ~ Uniform(-5, 5) \n",
    "    alpha_IA ~ Uniform(-5, 5)\n",
    "\n",
    "    DESwl__0_e_nz ~ MvNormal(nz_k0, cov_k0)\n",
    "    DESwl__1_e_nz ~ MvNormal(nz_k1, cov_k1)\n",
    "    DESwl__2_e_nz ~ MvNormal(nz_k2, cov_k2)\n",
    "    DESwl__3_e_nz ~ MvNormal(nz_k3, cov_k3)\n",
    "    DESwl__0_e_m ~ Normal(0.012, 0.023)\n",
    "    DESwl__1_e_m ~ Normal(0.012, 0.023)\n",
    "    DESwl__2_e_m ~ Normal(0.012, 0.023)\n",
    "    DESwl__3_e_m ~ Normal(0.012, 0.023)\n",
    "\n",
    "\n",
    "    nuisances = Dict(\"A_IA\" => A_IA,\n",
    "                     \"alpha_IA\" => alpha_IA,\n",
    "\n",
    "                     \"DESwl__0_e_nz\" => DESwl__0_e_dz,\n",
    "                     \"DESwl__1_e_nz\" => DESwl__1_e_dz,\n",
    "                     \"DESwl__2_e_nz\" => DESwl__2_e_dz,\n",
    "                     \"DESwl__3_e_dz\" => DESwl__3_e_dz,\n",
    "                     \"DESwl__0_e_m\" => DESwl__0_e_m,\n",
    "                     \"DESwl__1_e_m\" => DESwl__1_e_m,\n",
    "                     \"DESwl__2_e_m\" => DESwl__2_e_m,\n",
    "                     \"DESwl__3_e_m\" => DESwl__3_e_m)\n",
    "\n",
    "    \n",
    "    cosmology = LimberJack.Cosmology(Ωm, Ωb, h, ns, s8,\n",
    "                                     tk_mode=\"EisHu\",\n",
    "                                     Pk_mode=\"Halofit\")\n",
    "    \n",
    "    theory = Theory(cosmology, tracers_names, pairs,\n",
    "                    pairs_ids, idx, files;\n",
    "                    Nuisances=nuisances)\n",
    "    data_vector ~ MvNormal(theory, cov_tot)\n",
    "end;"
   ]
  },
  {
   "cell_type": "code",
   "execution_count": 18,
   "id": "9ebe2928",
   "metadata": {},
   "outputs": [],
   "source": [
    "stat_model = model(data_vector);"
   ]
  },
  {
   "cell_type": "code",
   "execution_count": 19,
   "id": "54da0b16",
   "metadata": {},
   "outputs": [
    {
     "name": "stderr",
     "output_type": "stream",
     "text": [
      "┌ Info: Found initial step size\n",
      "│   ϵ = 0.025\n",
      "└ @ Turing.Inference /home/jaime/.julia/packages/Turing/szPqN/src/inference/hmc.jl:191\n",
      "\u001b[32mSampling: 100%|█████████████████████████████████████████| Time: 0:00:38\u001b[39m\n"
     ]
    },
    {
     "ename": "LoadError",
     "evalue": "TaskFailedException\n\n\u001b[91m    nested task error: \u001b[39mInterruptException:\n    Stacktrace:\n     [1] \u001b[0m\u001b[1mbroadcasted\u001b[22m\n    \u001b[90m   @ \u001b[39m\u001b[90m./\u001b[39m\u001b[90m\u001b[4mbroadcast.jl:1305\u001b[24m\u001b[39m\u001b[90m [inlined]\u001b[39m\n     [2] \u001b[0m\u001b[1mbroadcasted\u001b[22m\u001b[0m\u001b[1m(\u001b[22m::\u001b[0mFunction, ::\u001b[0mBase.Broadcast.Broadcasted\u001b[90m{Base.Broadcast.DefaultArrayStyle{0}, Nothing, Interpolations.Extrapolation{ForwardDiff.Dual{ForwardDiff.Tag{Turing.TuringTag, Float64}, Float64, 8}, 2, Interpolations.GriddedInterpolation{ForwardDiff.Dual{ForwardDiff.Tag{Turing.TuringTag, Float64}, Float64, 8}, 2, Matrix{ForwardDiff.Dual{ForwardDiff.Tag{Turing.TuringTag, Float64}, Float64, 8}}, Interpolations.Gridded{Interpolations.Linear{Interpolations.Throw{Interpolations.OnGrid}}}, Tuple{Vector{Float64}, StepRangeLen{Float64, Base.TwicePrecision{Float64}, Base.TwicePrecision{Float64}, Int64}}}, Interpolations.Gridded{Interpolations.Linear{Interpolations.Throw{Interpolations.OnGrid}}}, Interpolations.Throw{Nothing}}, Tuple{Base.Broadcast.Broadcasted{Base.Broadcast.DefaultArrayStyle{0}, Nothing, typeof(log), Tuple{Float64}}, ForwardDiff.Dual{ForwardDiff.Tag{Turing.TuringTag, Float64}, Float64, 8}}}\u001b[39m\u001b[0m\u001b[1m)\u001b[22m\n    \u001b[90m   @ \u001b[39m\u001b[90mBase.Broadcast\u001b[39m \u001b[90m./\u001b[39m\u001b[90m\u001b[4mbroadcast.jl:1297\u001b[24m\u001b[39m\n     [3] \u001b[0m\u001b[1mnonlin_Pk\u001b[22m\u001b[0m\u001b[1m(\u001b[22m\u001b[90mcosmo\u001b[39m::\u001b[0mCosmology, \u001b[90mk\u001b[39m::\u001b[0mFloat64, \u001b[90mz\u001b[39m::\u001b[0mForwardDiff.Dual\u001b[90m{ForwardDiff.Tag{Turing.TuringTag, Float64}, Float64, 8}\u001b[39m\u001b[0m\u001b[1m)\u001b[22m\n    \u001b[90m   @ \u001b[39m\u001b[35mLimberJack\u001b[39m \u001b[90m~/.julia/packages/LimberJack/dAZ0C/src/\u001b[39m\u001b[90m\u001b[4mcore.jl:544\u001b[24m\u001b[39m\n     [4] \u001b[0m\u001b[1mCℓintegrand\u001b[22m\u001b[0m\u001b[1m(\u001b[22m\u001b[90mcosmo\u001b[39m::\u001b[0mCosmology, \u001b[90mt1\u001b[39m::\u001b[0mWeakLensingTracer, \u001b[90mt2\u001b[39m::\u001b[0mWeakLensingTracer, \u001b[90mlogk\u001b[39m::\u001b[0mFloat64, \u001b[90mℓ\u001b[39m::\u001b[0mFloat64\u001b[0m\u001b[1m)\u001b[22m\n    \u001b[90m   @ \u001b[39m\u001b[35mLimberJack\u001b[39m \u001b[90m~/.julia/packages/LimberJack/dAZ0C/src/\u001b[39m\u001b[90m\u001b[4mspectra.jl:40\u001b[24m\u001b[39m\n     [5] \u001b[0m\u001b[1mangularCℓs\u001b[22m\u001b[0m\u001b[1m(\u001b[22m\u001b[90mcosmo\u001b[39m::\u001b[0mCosmology, \u001b[90mt1\u001b[39m::\u001b[0mWeakLensingTracer, \u001b[90mt2\u001b[39m::\u001b[0mWeakLensingTracer, \u001b[90mℓs\u001b[39m::\u001b[0mVector\u001b[90m{Float64}\u001b[39m\u001b[0m\u001b[1m)\u001b[22m\n    \u001b[90m   @ \u001b[39m\u001b[35mLimberJack\u001b[39m \u001b[90m~/.julia/packages/LimberJack/dAZ0C/src/\u001b[39m\u001b[90m\u001b[4mspectra.jl:72\u001b[24m\u001b[39m\n     [6] \u001b[0m\u001b[1mmacro expansion\u001b[22m\n    \u001b[90m   @ \u001b[39m\u001b[90m~/.julia/packages/LimberJack/dAZ0C/src/\u001b[39m\u001b[90m\u001b[4mtheory.jl:74\u001b[24m\u001b[39m\u001b[90m [inlined]\u001b[39m\n     [7] \u001b[0m\u001b[1m(::LimberJack.var\"#24#threadsfor_fun#22\"{Cosmology, Vector{Vector{String}}, Vector{Vector{Int64}}, Vector{Int64}, Dict{String, Array{Float64}}, Vector{ForwardDiff.Dual{ForwardDiff.Tag{Turing.TuringTag, Float64}, Float64, 8}}, Vector{Any}, UnitRange{Int64}})\u001b[22m\u001b[0m\u001b[1m(\u001b[22m\u001b[90monethread\u001b[39m::\u001b[0mBool\u001b[0m\u001b[1m)\u001b[22m\n    \u001b[90m   @ \u001b[39m\u001b[35mLimberJack\u001b[39m \u001b[90m./\u001b[39m\u001b[90m\u001b[4mthreadingconstructs.jl:85\u001b[24m\u001b[39m\n     [8] \u001b[0m\u001b[1m(::LimberJack.var\"#24#threadsfor_fun#22\"{Cosmology, Vector{Vector{String}}, Vector{Vector{Int64}}, Vector{Int64}, Dict{String, Array{Float64}}, Vector{ForwardDiff.Dual{ForwardDiff.Tag{Turing.TuringTag, Float64}, Float64, 8}}, Vector{Any}, UnitRange{Int64}})\u001b[22m\u001b[0m\u001b[1m(\u001b[22m\u001b[0m\u001b[1m)\u001b[22m\n    \u001b[90m   @ \u001b[39m\u001b[35mLimberJack\u001b[39m \u001b[90m./\u001b[39m\u001b[90m\u001b[4mthreadingconstructs.jl:52\u001b[24m\u001b[39m",
     "output_type": "error",
     "traceback": [
      "TaskFailedException\n\n\u001b[91m    nested task error: \u001b[39mInterruptException:\n    Stacktrace:\n     [1] \u001b[0m\u001b[1mbroadcasted\u001b[22m\n    \u001b[90m   @ \u001b[39m\u001b[90m./\u001b[39m\u001b[90m\u001b[4mbroadcast.jl:1305\u001b[24m\u001b[39m\u001b[90m [inlined]\u001b[39m\n     [2] \u001b[0m\u001b[1mbroadcasted\u001b[22m\u001b[0m\u001b[1m(\u001b[22m::\u001b[0mFunction, ::\u001b[0mBase.Broadcast.Broadcasted\u001b[90m{Base.Broadcast.DefaultArrayStyle{0}, Nothing, Interpolations.Extrapolation{ForwardDiff.Dual{ForwardDiff.Tag{Turing.TuringTag, Float64}, Float64, 8}, 2, Interpolations.GriddedInterpolation{ForwardDiff.Dual{ForwardDiff.Tag{Turing.TuringTag, Float64}, Float64, 8}, 2, Matrix{ForwardDiff.Dual{ForwardDiff.Tag{Turing.TuringTag, Float64}, Float64, 8}}, Interpolations.Gridded{Interpolations.Linear{Interpolations.Throw{Interpolations.OnGrid}}}, Tuple{Vector{Float64}, StepRangeLen{Float64, Base.TwicePrecision{Float64}, Base.TwicePrecision{Float64}, Int64}}}, Interpolations.Gridded{Interpolations.Linear{Interpolations.Throw{Interpolations.OnGrid}}}, Interpolations.Throw{Nothing}}, Tuple{Base.Broadcast.Broadcasted{Base.Broadcast.DefaultArrayStyle{0}, Nothing, typeof(log), Tuple{Float64}}, ForwardDiff.Dual{ForwardDiff.Tag{Turing.TuringTag, Float64}, Float64, 8}}}\u001b[39m\u001b[0m\u001b[1m)\u001b[22m\n    \u001b[90m   @ \u001b[39m\u001b[90mBase.Broadcast\u001b[39m \u001b[90m./\u001b[39m\u001b[90m\u001b[4mbroadcast.jl:1297\u001b[24m\u001b[39m\n     [3] \u001b[0m\u001b[1mnonlin_Pk\u001b[22m\u001b[0m\u001b[1m(\u001b[22m\u001b[90mcosmo\u001b[39m::\u001b[0mCosmology, \u001b[90mk\u001b[39m::\u001b[0mFloat64, \u001b[90mz\u001b[39m::\u001b[0mForwardDiff.Dual\u001b[90m{ForwardDiff.Tag{Turing.TuringTag, Float64}, Float64, 8}\u001b[39m\u001b[0m\u001b[1m)\u001b[22m\n    \u001b[90m   @ \u001b[39m\u001b[35mLimberJack\u001b[39m \u001b[90m~/.julia/packages/LimberJack/dAZ0C/src/\u001b[39m\u001b[90m\u001b[4mcore.jl:544\u001b[24m\u001b[39m\n     [4] \u001b[0m\u001b[1mCℓintegrand\u001b[22m\u001b[0m\u001b[1m(\u001b[22m\u001b[90mcosmo\u001b[39m::\u001b[0mCosmology, \u001b[90mt1\u001b[39m::\u001b[0mWeakLensingTracer, \u001b[90mt2\u001b[39m::\u001b[0mWeakLensingTracer, \u001b[90mlogk\u001b[39m::\u001b[0mFloat64, \u001b[90mℓ\u001b[39m::\u001b[0mFloat64\u001b[0m\u001b[1m)\u001b[22m\n    \u001b[90m   @ \u001b[39m\u001b[35mLimberJack\u001b[39m \u001b[90m~/.julia/packages/LimberJack/dAZ0C/src/\u001b[39m\u001b[90m\u001b[4mspectra.jl:40\u001b[24m\u001b[39m\n     [5] \u001b[0m\u001b[1mangularCℓs\u001b[22m\u001b[0m\u001b[1m(\u001b[22m\u001b[90mcosmo\u001b[39m::\u001b[0mCosmology, \u001b[90mt1\u001b[39m::\u001b[0mWeakLensingTracer, \u001b[90mt2\u001b[39m::\u001b[0mWeakLensingTracer, \u001b[90mℓs\u001b[39m::\u001b[0mVector\u001b[90m{Float64}\u001b[39m\u001b[0m\u001b[1m)\u001b[22m\n    \u001b[90m   @ \u001b[39m\u001b[35mLimberJack\u001b[39m \u001b[90m~/.julia/packages/LimberJack/dAZ0C/src/\u001b[39m\u001b[90m\u001b[4mspectra.jl:72\u001b[24m\u001b[39m\n     [6] \u001b[0m\u001b[1mmacro expansion\u001b[22m\n    \u001b[90m   @ \u001b[39m\u001b[90m~/.julia/packages/LimberJack/dAZ0C/src/\u001b[39m\u001b[90m\u001b[4mtheory.jl:74\u001b[24m\u001b[39m\u001b[90m [inlined]\u001b[39m\n     [7] \u001b[0m\u001b[1m(::LimberJack.var\"#24#threadsfor_fun#22\"{Cosmology, Vector{Vector{String}}, Vector{Vector{Int64}}, Vector{Int64}, Dict{String, Array{Float64}}, Vector{ForwardDiff.Dual{ForwardDiff.Tag{Turing.TuringTag, Float64}, Float64, 8}}, Vector{Any}, UnitRange{Int64}})\u001b[22m\u001b[0m\u001b[1m(\u001b[22m\u001b[90monethread\u001b[39m::\u001b[0mBool\u001b[0m\u001b[1m)\u001b[22m\n    \u001b[90m   @ \u001b[39m\u001b[35mLimberJack\u001b[39m \u001b[90m./\u001b[39m\u001b[90m\u001b[4mthreadingconstructs.jl:85\u001b[24m\u001b[39m\n     [8] \u001b[0m\u001b[1m(::LimberJack.var\"#24#threadsfor_fun#22\"{Cosmology, Vector{Vector{String}}, Vector{Vector{Int64}}, Vector{Int64}, Dict{String, Array{Float64}}, Vector{ForwardDiff.Dual{ForwardDiff.Tag{Turing.TuringTag, Float64}, Float64, 8}}, Vector{Any}, UnitRange{Int64}})\u001b[22m\u001b[0m\u001b[1m(\u001b[22m\u001b[0m\u001b[1m)\u001b[22m\n    \u001b[90m   @ \u001b[39m\u001b[35mLimberJack\u001b[39m \u001b[90m./\u001b[39m\u001b[90m\u001b[4mthreadingconstructs.jl:52\u001b[24m\u001b[39m",
      "",
      "Stacktrace:",
      "  [1] wait",
      "    @ ./task.jl:334 [inlined]",
      "  [2] threading_run(func::Function)",
      "    @ Base.Threads ./threadingconstructs.jl:38",
      "  [3] macro expansion",
      "    @ ./threadingconstructs.jl:97 [inlined]",
      "  [4] Theory(cosmology::Cosmology, tracers_names::Vector{String}, pairs::Vector{Vector{String}}, pairs_ids::Vector{Vector{Int64}}, idx::Vector{Int64}, files::Dict{String, Array{Float64}}; Nuisances::Dict{String, ForwardDiff.Dual{ForwardDiff.Tag{Turing.TuringTag, Float64}, Float64, 8}})",
      "    @ LimberJack ~/.julia/packages/LimberJack/dAZ0C/src/theory.jl:68",
      "  [5] model(__model__::DynamicPPL.Model{typeof(model), (:data_vector, :tracers_names, :pairs, :pairs_id, :idx, :cov_tot, :files), (:tracers_names, :pairs, :pairs_id, :idx, :cov_tot, :files), (), Tuple{Vector{Float64}, Vector{String}, Vector{Vector{String}}, Vector{Vector{Int64}}, Vector{Int64}, Matrix{Float64}, Dict{String, Array{Float64}}}, Tuple{Vector{String}, Vector{Vector{String}}, Vector{Vector{Int64}}, Vector{Int64}, Matrix{Float64}, Dict{String, Array{Float64}}}, DynamicPPL.DefaultContext}, __varinfo__::DynamicPPL.ThreadSafeVarInfo{DynamicPPL.TypedVarInfo{NamedTuple{(:Ωm, :Ωb, :h, :s8, :ns, :A_IA, :alpha_IA, :DESwl__0_e_dz, :DESwl__1_e_dz, :DESwl__2_e_dz, :DESwl__3_e_dz, :DESwl__0_e_m, :DESwl__1_e_m, :DESwl__2_e_m, :DESwl__3_e_m), Tuple{DynamicPPL.Metadata{Dict{AbstractPPL.VarName{:Ωm, Setfield.IdentityLens}, Int64}, Vector{Uniform{Float64}}, Vector{AbstractPPL.VarName{:Ωm, Setfield.IdentityLens}}, Vector{ForwardDiff.Dual{ForwardDiff.Tag{Turing.TuringTag, Float64}, Float64, 8}}, Vector{Set{DynamicPPL.Selector}}}, DynamicPPL.Metadata{Dict{AbstractPPL.VarName{:Ωb, Setfield.IdentityLens}, Int64}, Vector{Uniform{Float64}}, Vector{AbstractPPL.VarName{:Ωb, Setfield.IdentityLens}}, Vector{ForwardDiff.Dual{ForwardDiff.Tag{Turing.TuringTag, Float64}, Float64, 8}}, Vector{Set{DynamicPPL.Selector}}}, DynamicPPL.Metadata{Dict{AbstractPPL.VarName{:h, Setfield.IdentityLens}, Int64}, Vector{Uniform{Float64}}, Vector{AbstractPPL.VarName{:h, Setfield.IdentityLens}}, Vector{ForwardDiff.Dual{ForwardDiff.Tag{Turing.TuringTag, Float64}, Float64, 8}}, Vector{Set{DynamicPPL.Selector}}}, DynamicPPL.Metadata{Dict{AbstractPPL.VarName{:s8, Setfield.IdentityLens}, Int64}, Vector{Uniform{Float64}}, Vector{AbstractPPL.VarName{:s8, Setfield.IdentityLens}}, Vector{ForwardDiff.Dual{ForwardDiff.Tag{Turing.TuringTag, Float64}, Float64, 8}}, Vector{Set{DynamicPPL.Selector}}}, DynamicPPL.Metadata{Dict{AbstractPPL.VarName{:ns, Setfield.IdentityLens}, Int64}, Vector{Uniform{Float64}}, Vector{AbstractPPL.VarName{:ns, Setfield.IdentityLens}}, Vector{ForwardDiff.Dual{ForwardDiff.Tag{Turing.TuringTag, Float64}, Float64, 8}}, Vector{Set{DynamicPPL.Selector}}}, DynamicPPL.Metadata{Dict{AbstractPPL.VarName{:A_IA, Setfield.IdentityLens}, Int64}, Vector{Uniform{Float64}}, Vector{AbstractPPL.VarName{:A_IA, Setfield.IdentityLens}}, Vector{ForwardDiff.Dual{ForwardDiff.Tag{Turing.TuringTag, Float64}, Float64, 8}}, Vector{Set{DynamicPPL.Selector}}}, DynamicPPL.Metadata{Dict{AbstractPPL.VarName{:alpha_IA, Setfield.IdentityLens}, Int64}, Vector{Uniform{Float64}}, Vector{AbstractPPL.VarName{:alpha_IA, Setfield.IdentityLens}}, Vector{ForwardDiff.Dual{ForwardDiff.Tag{Turing.TuringTag, Float64}, Float64, 8}}, Vector{Set{DynamicPPL.Selector}}}, DynamicPPL.Metadata{Dict{AbstractPPL.VarName{:DESwl__0_e_dz, Setfield.IdentityLens}, Int64}, Vector{Truncated{Normal{Float64}, Continuous, Float64}}, Vector{AbstractPPL.VarName{:DESwl__0_e_dz, Setfield.IdentityLens}}, Vector{ForwardDiff.Dual{ForwardDiff.Tag{Turing.TuringTag, Float64}, Float64, 8}}, Vector{Set{DynamicPPL.Selector}}}, DynamicPPL.Metadata{Dict{AbstractPPL.VarName{:DESwl__1_e_dz, Setfield.IdentityLens}, Int64}, Vector{Truncated{Normal{Float64}, Continuous, Float64}}, Vector{AbstractPPL.VarName{:DESwl__1_e_dz, Setfield.IdentityLens}}, Vector{ForwardDiff.Dual{ForwardDiff.Tag{Turing.TuringTag, Float64}, Float64, 8}}, Vector{Set{DynamicPPL.Selector}}}, DynamicPPL.Metadata{Dict{AbstractPPL.VarName{:DESwl__2_e_dz, Setfield.IdentityLens}, Int64}, Vector{Truncated{Normal{Float64}, Continuous, Float64}}, Vector{AbstractPPL.VarName{:DESwl__2_e_dz, Setfield.IdentityLens}}, Vector{ForwardDiff.Dual{ForwardDiff.Tag{Turing.TuringTag, Float64}, Float64, 8}}, Vector{Set{DynamicPPL.Selector}}}, DynamicPPL.Metadata{Dict{AbstractPPL.VarName{:DESwl__3_e_dz, Setfield.IdentityLens}, Int64}, Vector{Truncated{Normal{Float64}, Continuous, Float64}}, Vector{AbstractPPL.VarName{:DESwl__3_e_dz, Setfield.IdentityLens}}, Vector{ForwardDiff.Dual{ForwardDiff.Tag{Turing.TuringTag, Float64}, Float64, 8}}, Vector{Set{DynamicPPL.Selector}}}, DynamicPPL.Metadata{Dict{AbstractPPL.VarName{:DESwl__0_e_m, Setfield.IdentityLens}, Int64}, Vector{Normal{Float64}}, Vector{AbstractPPL.VarName{:DESwl__0_e_m, Setfield.IdentityLens}}, Vector{ForwardDiff.Dual{ForwardDiff.Tag{Turing.TuringTag, Float64}, Float64, 8}}, Vector{Set{DynamicPPL.Selector}}}, DynamicPPL.Metadata{Dict{AbstractPPL.VarName{:DESwl__1_e_m, Setfield.IdentityLens}, Int64}, Vector{Normal{Float64}}, Vector{AbstractPPL.VarName{:DESwl__1_e_m, Setfield.IdentityLens}}, Vector{ForwardDiff.Dual{ForwardDiff.Tag{Turing.TuringTag, Float64}, Float64, 8}}, Vector{Set{DynamicPPL.Selector}}}, DynamicPPL.Metadata{Dict{AbstractPPL.VarName{:DESwl__2_e_m, Setfield.IdentityLens}, Int64}, Vector{Normal{Float64}}, Vector{AbstractPPL.VarName{:DESwl__2_e_m, Setfield.IdentityLens}}, Vector{ForwardDiff.Dual{ForwardDiff.Tag{Turing.TuringTag, Float64}, Float64, 8}}, Vector{Set{DynamicPPL.Selector}}}, DynamicPPL.Metadata{Dict{AbstractPPL.VarName{:DESwl__3_e_m, Setfield.IdentityLens}, Int64}, Vector{Normal{Float64}}, Vector{AbstractPPL.VarName{:DESwl__3_e_m, Setfield.IdentityLens}}, Vector{ForwardDiff.Dual{ForwardDiff.Tag{Turing.TuringTag, Float64}, Float64, 8}}, Vector{Set{DynamicPPL.Selector}}}}}, ForwardDiff.Dual{ForwardDiff.Tag{Turing.TuringTag, Float64}, Float64, 8}}, Vector{Base.RefValue{ForwardDiff.Dual{ForwardDiff.Tag{Turing.TuringTag, Float64}, Float64, 8}}}}, __context__::DynamicPPL.SamplingContext{DynamicPPL.Sampler{NUTS{Turing.Essential.ForwardDiffAD{0}, (), AdvancedHMC.DiagEuclideanMetric}}, DynamicPPL.DefaultContext, Random._GLOBAL_RNG}, data_vector::Vector{Float64}, tracers_names::Vector{String}, pairs::Vector{Vector{String}}, pairs_id::Vector{Vector{Int64}}, idx::Vector{Int64}, cov_tot::Matrix{Float64}, files::Dict{String, Array{Float64}})",
      "    @ Main ./In[15]:46",
      "  [6] macro expansion",
      "    @ ~/.julia/packages/DynamicPPL/zPOYL/src/model.jl:593 [inlined]",
      "  [7] _evaluate!!",
      "    @ ~/.julia/packages/DynamicPPL/zPOYL/src/model.jl:576 [inlined]",
      "  [8] evaluate_threadsafe!!",
      "    @ ~/.julia/packages/DynamicPPL/zPOYL/src/model.jl:567 [inlined]",
      "  [9] evaluate!!",
      "    @ ~/.julia/packages/DynamicPPL/zPOYL/src/model.jl:502 [inlined]",
      " [10] evaluate!!",
      "    @ ~/.julia/packages/DynamicPPL/zPOYL/src/model.jl:515 [inlined]",
      " [11] evaluate!!",
      "    @ ~/.julia/packages/DynamicPPL/zPOYL/src/model.jl:523 [inlined]",
      " [12] (::Turing.LogDensityFunction{DynamicPPL.TypedVarInfo{NamedTuple{(:Ωm, :Ωb, :h, :s8, :ns, :A_IA, :alpha_IA, :DESwl__0_e_dz, :DESwl__1_e_dz, :DESwl__2_e_dz, :DESwl__3_e_dz, :DESwl__0_e_m, :DESwl__1_e_m, :DESwl__2_e_m, :DESwl__3_e_m), Tuple{DynamicPPL.Metadata{Dict{AbstractPPL.VarName{:Ωm, Setfield.IdentityLens}, Int64}, Vector{Uniform{Float64}}, Vector{AbstractPPL.VarName{:Ωm, Setfield.IdentityLens}}, Vector{Float64}, Vector{Set{DynamicPPL.Selector}}}, DynamicPPL.Metadata{Dict{AbstractPPL.VarName{:Ωb, Setfield.IdentityLens}, Int64}, Vector{Uniform{Float64}}, Vector{AbstractPPL.VarName{:Ωb, Setfield.IdentityLens}}, Vector{Float64}, Vector{Set{DynamicPPL.Selector}}}, DynamicPPL.Metadata{Dict{AbstractPPL.VarName{:h, Setfield.IdentityLens}, Int64}, Vector{Uniform{Float64}}, Vector{AbstractPPL.VarName{:h, Setfield.IdentityLens}}, Vector{Float64}, Vector{Set{DynamicPPL.Selector}}}, DynamicPPL.Metadata{Dict{AbstractPPL.VarName{:s8, Setfield.IdentityLens}, Int64}, Vector{Uniform{Float64}}, Vector{AbstractPPL.VarName{:s8, Setfield.IdentityLens}}, Vector{Float64}, Vector{Set{DynamicPPL.Selector}}}, DynamicPPL.Metadata{Dict{AbstractPPL.VarName{:ns, Setfield.IdentityLens}, Int64}, Vector{Uniform{Float64}}, Vector{AbstractPPL.VarName{:ns, Setfield.IdentityLens}}, Vector{Float64}, Vector{Set{DynamicPPL.Selector}}}, DynamicPPL.Metadata{Dict{AbstractPPL.VarName{:A_IA, Setfield.IdentityLens}, Int64}, Vector{Uniform{Float64}}, Vector{AbstractPPL.VarName{:A_IA, Setfield.IdentityLens}}, Vector{Float64}, Vector{Set{DynamicPPL.Selector}}}, DynamicPPL.Metadata{Dict{AbstractPPL.VarName{:alpha_IA, Setfield.IdentityLens}, Int64}, Vector{Uniform{Float64}}, Vector{AbstractPPL.VarName{:alpha_IA, Setfield.IdentityLens}}, Vector{Float64}, Vector{Set{DynamicPPL.Selector}}}, DynamicPPL.Metadata{Dict{AbstractPPL.VarName{:DESwl__0_e_dz, Setfield.IdentityLens}, Int64}, Vector{Truncated{Normal{Float64}, Continuous, Float64}}, Vector{AbstractPPL.VarName{:DESwl__0_e_dz, Setfield.IdentityLens}}, Vector{Float64}, Vector{Set{DynamicPPL.Selector}}}, DynamicPPL.Metadata{Dict{AbstractPPL.VarName{:DESwl__1_e_dz, Setfield.IdentityLens}, Int64}, Vector{Truncated{Normal{Float64}, Continuous, Float64}}, Vector{AbstractPPL.VarName{:DESwl__1_e_dz, Setfield.IdentityLens}}, Vector{Float64}, Vector{Set{DynamicPPL.Selector}}}, DynamicPPL.Metadata{Dict{AbstractPPL.VarName{:DESwl__2_e_dz, Setfield.IdentityLens}, Int64}, Vector{Truncated{Normal{Float64}, Continuous, Float64}}, Vector{AbstractPPL.VarName{:DESwl__2_e_dz, Setfield.IdentityLens}}, Vector{Float64}, Vector{Set{DynamicPPL.Selector}}}, DynamicPPL.Metadata{Dict{AbstractPPL.VarName{:DESwl__3_e_dz, Setfield.IdentityLens}, Int64}, Vector{Truncated{Normal{Float64}, Continuous, Float64}}, Vector{AbstractPPL.VarName{:DESwl__3_e_dz, Setfield.IdentityLens}}, Vector{Float64}, Vector{Set{DynamicPPL.Selector}}}, DynamicPPL.Metadata{Dict{AbstractPPL.VarName{:DESwl__0_e_m, Setfield.IdentityLens}, Int64}, Vector{Normal{Float64}}, Vector{AbstractPPL.VarName{:DESwl__0_e_m, Setfield.IdentityLens}}, Vector{Float64}, Vector{Set{DynamicPPL.Selector}}}, DynamicPPL.Metadata{Dict{AbstractPPL.VarName{:DESwl__1_e_m, Setfield.IdentityLens}, Int64}, Vector{Normal{Float64}}, Vector{AbstractPPL.VarName{:DESwl__1_e_m, Setfield.IdentityLens}}, Vector{Float64}, Vector{Set{DynamicPPL.Selector}}}, DynamicPPL.Metadata{Dict{AbstractPPL.VarName{:DESwl__2_e_m, Setfield.IdentityLens}, Int64}, Vector{Normal{Float64}}, Vector{AbstractPPL.VarName{:DESwl__2_e_m, Setfield.IdentityLens}}, Vector{Float64}, Vector{Set{DynamicPPL.Selector}}}, DynamicPPL.Metadata{Dict{AbstractPPL.VarName{:DESwl__3_e_m, Setfield.IdentityLens}, Int64}, Vector{Normal{Float64}}, Vector{AbstractPPL.VarName{:DESwl__3_e_m, Setfield.IdentityLens}}, Vector{Float64}, Vector{Set{DynamicPPL.Selector}}}}}, Float64}, DynamicPPL.Model{typeof(model), (:data_vector, :tracers_names, :pairs, :pairs_id, :idx, :cov_tot, :files), (:tracers_names, :pairs, :pairs_id, :idx, :cov_tot, :files), (), Tuple{Vector{Float64}, Vector{String}, Vector{Vector{String}}, Vector{Vector{Int64}}, Vector{Int64}, Matrix{Float64}, Dict{String, Array{Float64}}}, Tuple{Vector{String}, Vector{Vector{String}}, Vector{Vector{Int64}}, Vector{Int64}, Matrix{Float64}, Dict{String, Array{Float64}}}, DynamicPPL.DefaultContext}, DynamicPPL.Sampler{NUTS{Turing.Essential.ForwardDiffAD{0}, (), AdvancedHMC.DiagEuclideanMetric}}, DynamicPPL.DefaultContext})(θ::Vector{ForwardDiff.Dual{ForwardDiff.Tag{Turing.TuringTag, Float64}, Float64, 8}})",
      "    @ Turing ~/.julia/packages/Turing/szPqN/src/Turing.jl:38",
      " [13] logdensity",
      "    @ ~/.julia/packages/Turing/szPqN/src/Turing.jl:42 [inlined]",
      " [14] Fix1",
      "    @ ./operators.jl:1136 [inlined]",
      " [15] chunk_mode_gradient!(result::DiffResults.MutableDiffResult{1, Float64, Tuple{Vector{Float64}}}, f::Base.Fix1{typeof(LogDensityProblems.logdensity), Turing.LogDensityFunction{DynamicPPL.TypedVarInfo{NamedTuple{(:Ωm, :Ωb, :h, :s8, :ns, :A_IA, :alpha_IA, :DESwl__0_e_dz, :DESwl__1_e_dz, :DESwl__2_e_dz, :DESwl__3_e_dz, :DESwl__0_e_m, :DESwl__1_e_m, :DESwl__2_e_m, :DESwl__3_e_m), Tuple{DynamicPPL.Metadata{Dict{AbstractPPL.VarName{:Ωm, Setfield.IdentityLens}, Int64}, Vector{Uniform{Float64}}, Vector{AbstractPPL.VarName{:Ωm, Setfield.IdentityLens}}, Vector{Float64}, Vector{Set{DynamicPPL.Selector}}}, DynamicPPL.Metadata{Dict{AbstractPPL.VarName{:Ωb, Setfield.IdentityLens}, Int64}, Vector{Uniform{Float64}}, Vector{AbstractPPL.VarName{:Ωb, Setfield.IdentityLens}}, Vector{Float64}, Vector{Set{DynamicPPL.Selector}}}, DynamicPPL.Metadata{Dict{AbstractPPL.VarName{:h, Setfield.IdentityLens}, Int64}, Vector{Uniform{Float64}}, Vector{AbstractPPL.VarName{:h, Setfield.IdentityLens}}, Vector{Float64}, Vector{Set{DynamicPPL.Selector}}}, DynamicPPL.Metadata{Dict{AbstractPPL.VarName{:s8, Setfield.IdentityLens}, Int64}, Vector{Uniform{Float64}}, Vector{AbstractPPL.VarName{:s8, Setfield.IdentityLens}}, Vector{Float64}, Vector{Set{DynamicPPL.Selector}}}, DynamicPPL.Metadata{Dict{AbstractPPL.VarName{:ns, Setfield.IdentityLens}, Int64}, Vector{Uniform{Float64}}, Vector{AbstractPPL.VarName{:ns, Setfield.IdentityLens}}, Vector{Float64}, Vector{Set{DynamicPPL.Selector}}}, DynamicPPL.Metadata{Dict{AbstractPPL.VarName{:A_IA, Setfield.IdentityLens}, Int64}, Vector{Uniform{Float64}}, Vector{AbstractPPL.VarName{:A_IA, Setfield.IdentityLens}}, Vector{Float64}, Vector{Set{DynamicPPL.Selector}}}, DynamicPPL.Metadata{Dict{AbstractPPL.VarName{:alpha_IA, Setfield.IdentityLens}, Int64}, Vector{Uniform{Float64}}, Vector{AbstractPPL.VarName{:alpha_IA, Setfield.IdentityLens}}, Vector{Float64}, Vector{Set{DynamicPPL.Selector}}}, DynamicPPL.Metadata{Dict{AbstractPPL.VarName{:DESwl__0_e_dz, Setfield.IdentityLens}, Int64}, Vector{Truncated{Normal{Float64}, Continuous, Float64}}, Vector{AbstractPPL.VarName{:DESwl__0_e_dz, Setfield.IdentityLens}}, Vector{Float64}, Vector{Set{DynamicPPL.Selector}}}, DynamicPPL.Metadata{Dict{AbstractPPL.VarName{:DESwl__1_e_dz, Setfield.IdentityLens}, Int64}, Vector{Truncated{Normal{Float64}, Continuous, Float64}}, Vector{AbstractPPL.VarName{:DESwl__1_e_dz, Setfield.IdentityLens}}, Vector{Float64}, Vector{Set{DynamicPPL.Selector}}}, DynamicPPL.Metadata{Dict{AbstractPPL.VarName{:DESwl__2_e_dz, Setfield.IdentityLens}, Int64}, Vector{Truncated{Normal{Float64}, Continuous, Float64}}, Vector{AbstractPPL.VarName{:DESwl__2_e_dz, Setfield.IdentityLens}}, Vector{Float64}, Vector{Set{DynamicPPL.Selector}}}, DynamicPPL.Metadata{Dict{AbstractPPL.VarName{:DESwl__3_e_dz, Setfield.IdentityLens}, Int64}, Vector{Truncated{Normal{Float64}, Continuous, Float64}}, Vector{AbstractPPL.VarName{:DESwl__3_e_dz, Setfield.IdentityLens}}, Vector{Float64}, Vector{Set{DynamicPPL.Selector}}}, DynamicPPL.Metadata{Dict{AbstractPPL.VarName{:DESwl__0_e_m, Setfield.IdentityLens}, Int64}, Vector{Normal{Float64}}, Vector{AbstractPPL.VarName{:DESwl__0_e_m, Setfield.IdentityLens}}, Vector{Float64}, Vector{Set{DynamicPPL.Selector}}}, DynamicPPL.Metadata{Dict{AbstractPPL.VarName{:DESwl__1_e_m, Setfield.IdentityLens}, Int64}, Vector{Normal{Float64}}, Vector{AbstractPPL.VarName{:DESwl__1_e_m, Setfield.IdentityLens}}, Vector{Float64}, Vector{Set{DynamicPPL.Selector}}}, DynamicPPL.Metadata{Dict{AbstractPPL.VarName{:DESwl__2_e_m, Setfield.IdentityLens}, Int64}, Vector{Normal{Float64}}, Vector{AbstractPPL.VarName{:DESwl__2_e_m, Setfield.IdentityLens}}, Vector{Float64}, Vector{Set{DynamicPPL.Selector}}}, DynamicPPL.Metadata{Dict{AbstractPPL.VarName{:DESwl__3_e_m, Setfield.IdentityLens}, Int64}, Vector{Normal{Float64}}, Vector{AbstractPPL.VarName{:DESwl__3_e_m, Setfield.IdentityLens}}, Vector{Float64}, Vector{Set{DynamicPPL.Selector}}}}}, Float64}, DynamicPPL.Model{typeof(model), (:data_vector, :tracers_names, :pairs, :pairs_id, :idx, :cov_tot, :files), (:tracers_names, :pairs, :pairs_id, :idx, :cov_tot, :files), (), Tuple{Vector{Float64}, Vector{String}, Vector{Vector{String}}, Vector{Vector{Int64}}, Vector{Int64}, Matrix{Float64}, Dict{String, Array{Float64}}}, Tuple{Vector{String}, Vector{Vector{String}}, Vector{Vector{Int64}}, Vector{Int64}, Matrix{Float64}, Dict{String, Array{Float64}}}, DynamicPPL.DefaultContext}, DynamicPPL.Sampler{NUTS{Turing.Essential.ForwardDiffAD{0}, (), AdvancedHMC.DiagEuclideanMetric}}, DynamicPPL.DefaultContext}}, x::Vector{Float64}, cfg::ForwardDiff.GradientConfig{ForwardDiff.Tag{Turing.TuringTag, Float64}, Float64, 8, Vector{ForwardDiff.Dual{ForwardDiff.Tag{Turing.TuringTag, Float64}, Float64, 8}}})",
      "    @ ForwardDiff ~/.julia/packages/ForwardDiff/pDtsf/src/gradient.jl:166",
      " [16] gradient!",
      "    @ ~/.julia/packages/ForwardDiff/pDtsf/src/gradient.jl:39 [inlined]",
      " [17] gradient!",
      "    @ ~/.julia/packages/ForwardDiff/pDtsf/src/gradient.jl:35 [inlined]",
      " [18] logdensity_and_gradient",
      "    @ ~/.julia/packages/LogDensityProblems/oAYeE/src/AD_ForwardDiff.jl:49 [inlined]",
      " [19] ∂logπ∂θ",
      "    @ ~/.julia/packages/Turing/szPqN/src/inference/hmc.jl:166 [inlined]",
      " [20] ∂H∂θ",
      "    @ ~/.julia/packages/AdvancedHMC/iWHPQ/src/hamiltonian.jl:31 [inlined]",
      " [21] macro expansion",
      "    @ ~/.julia/packages/UnPack/EkESO/src/UnPack.jl:100 [inlined]",
      " [22] step(lf::AdvancedHMC.Leapfrog{Float64}, h::AdvancedHMC.Hamiltonian{AdvancedHMC.DiagEuclideanMetric{Float64, Vector{Float64}}, Base.Fix1{typeof(LogDensityProblems.logdensity), LogDensityProblems.ForwardDiffLogDensity{Turing.LogDensityFunction{DynamicPPL.TypedVarInfo{NamedTuple{(:Ωm, :Ωb, :h, :s8, :ns, :A_IA, :alpha_IA, :DESwl__0_e_dz, :DESwl__1_e_dz, :DESwl__2_e_dz, :DESwl__3_e_dz, :DESwl__0_e_m, :DESwl__1_e_m, :DESwl__2_e_m, :DESwl__3_e_m), Tuple{DynamicPPL.Metadata{Dict{AbstractPPL.VarName{:Ωm, Setfield.IdentityLens}, Int64}, Vector{Uniform{Float64}}, Vector{AbstractPPL.VarName{:Ωm, Setfield.IdentityLens}}, Vector{Float64}, Vector{Set{DynamicPPL.Selector}}}, DynamicPPL.Metadata{Dict{AbstractPPL.VarName{:Ωb, Setfield.IdentityLens}, Int64}, Vector{Uniform{Float64}}, Vector{AbstractPPL.VarName{:Ωb, Setfield.IdentityLens}}, Vector{Float64}, Vector{Set{DynamicPPL.Selector}}}, DynamicPPL.Metadata{Dict{AbstractPPL.VarName{:h, Setfield.IdentityLens}, Int64}, Vector{Uniform{Float64}}, Vector{AbstractPPL.VarName{:h, Setfield.IdentityLens}}, Vector{Float64}, Vector{Set{DynamicPPL.Selector}}}, DynamicPPL.Metadata{Dict{AbstractPPL.VarName{:s8, Setfield.IdentityLens}, Int64}, Vector{Uniform{Float64}}, Vector{AbstractPPL.VarName{:s8, Setfield.IdentityLens}}, Vector{Float64}, Vector{Set{DynamicPPL.Selector}}}, DynamicPPL.Metadata{Dict{AbstractPPL.VarName{:ns, Setfield.IdentityLens}, Int64}, Vector{Uniform{Float64}}, Vector{AbstractPPL.VarName{:ns, Setfield.IdentityLens}}, Vector{Float64}, Vector{Set{DynamicPPL.Selector}}}, DynamicPPL.Metadata{Dict{AbstractPPL.VarName{:A_IA, Setfield.IdentityLens}, Int64}, Vector{Uniform{Float64}}, Vector{AbstractPPL.VarName{:A_IA, Setfield.IdentityLens}}, Vector{Float64}, Vector{Set{DynamicPPL.Selector}}}, DynamicPPL.Metadata{Dict{AbstractPPL.VarName{:alpha_IA, Setfield.IdentityLens}, Int64}, Vector{Uniform{Float64}}, Vector{AbstractPPL.VarName{:alpha_IA, Setfield.IdentityLens}}, Vector{Float64}, Vector{Set{DynamicPPL.Selector}}}, DynamicPPL.Metadata{Dict{AbstractPPL.VarName{:DESwl__0_e_dz, Setfield.IdentityLens}, Int64}, Vector{Truncated{Normal{Float64}, Continuous, Float64}}, Vector{AbstractPPL.VarName{:DESwl__0_e_dz, Setfield.IdentityLens}}, Vector{Float64}, Vector{Set{DynamicPPL.Selector}}}, DynamicPPL.Metadata{Dict{AbstractPPL.VarName{:DESwl__1_e_dz, Setfield.IdentityLens}, Int64}, Vector{Truncated{Normal{Float64}, Continuous, Float64}}, Vector{AbstractPPL.VarName{:DESwl__1_e_dz, Setfield.IdentityLens}}, Vector{Float64}, Vector{Set{DynamicPPL.Selector}}}, DynamicPPL.Metadata{Dict{AbstractPPL.VarName{:DESwl__2_e_dz, Setfield.IdentityLens}, Int64}, Vector{Truncated{Normal{Float64}, Continuous, Float64}}, Vector{AbstractPPL.VarName{:DESwl__2_e_dz, Setfield.IdentityLens}}, Vector{Float64}, Vector{Set{DynamicPPL.Selector}}}, DynamicPPL.Metadata{Dict{AbstractPPL.VarName{:DESwl__3_e_dz, Setfield.IdentityLens}, Int64}, Vector{Truncated{Normal{Float64}, Continuous, Float64}}, Vector{AbstractPPL.VarName{:DESwl__3_e_dz, Setfield.IdentityLens}}, Vector{Float64}, Vector{Set{DynamicPPL.Selector}}}, DynamicPPL.Metadata{Dict{AbstractPPL.VarName{:DESwl__0_e_m, Setfield.IdentityLens}, Int64}, Vector{Normal{Float64}}, Vector{AbstractPPL.VarName{:DESwl__0_e_m, Setfield.IdentityLens}}, Vector{Float64}, Vector{Set{DynamicPPL.Selector}}}, DynamicPPL.Metadata{Dict{AbstractPPL.VarName{:DESwl__1_e_m, Setfield.IdentityLens}, Int64}, Vector{Normal{Float64}}, Vector{AbstractPPL.VarName{:DESwl__1_e_m, Setfield.IdentityLens}}, Vector{Float64}, Vector{Set{DynamicPPL.Selector}}}, DynamicPPL.Metadata{Dict{AbstractPPL.VarName{:DESwl__2_e_m, Setfield.IdentityLens}, Int64}, Vector{Normal{Float64}}, Vector{AbstractPPL.VarName{:DESwl__2_e_m, Setfield.IdentityLens}}, Vector{Float64}, Vector{Set{DynamicPPL.Selector}}}, DynamicPPL.Metadata{Dict{AbstractPPL.VarName{:DESwl__3_e_m, Setfield.IdentityLens}, Int64}, Vector{Normal{Float64}}, Vector{AbstractPPL.VarName{:DESwl__3_e_m, Setfield.IdentityLens}}, Vector{Float64}, Vector{Set{DynamicPPL.Selector}}}}}, Float64}, DynamicPPL.Model{typeof(model), (:data_vector, :tracers_names, :pairs, :pairs_id, :idx, :cov_tot, :files), (:tracers_names, :pairs, :pairs_id, :idx, :cov_tot, :files), (), Tuple{Vector{Float64}, Vector{String}, Vector{Vector{String}}, Vector{Vector{Int64}}, Vector{Int64}, Matrix{Float64}, Dict{String, Array{Float64}}}, Tuple{Vector{String}, Vector{Vector{String}}, Vector{Vector{Int64}}, Vector{Int64}, Matrix{Float64}, Dict{String, Array{Float64}}}, DynamicPPL.DefaultContext}, DynamicPPL.Sampler{NUTS{Turing.Essential.ForwardDiffAD{0}, (), AdvancedHMC.DiagEuclideanMetric}}, DynamicPPL.DefaultContext}, ForwardDiff.GradientConfig{ForwardDiff.Tag{Turing.TuringTag, Float64}, Float64, 8, Vector{ForwardDiff.Dual{ForwardDiff.Tag{Turing.TuringTag, Float64}, Float64, 8}}}}}, Turing.Inference.var\"#∂logπ∂θ#44\"{LogDensityProblems.ForwardDiffLogDensity{Turing.LogDensityFunction{DynamicPPL.TypedVarInfo{NamedTuple{(:Ωm, :Ωb, :h, :s8, :ns, :A_IA, :alpha_IA, :DESwl__0_e_dz, :DESwl__1_e_dz, :DESwl__2_e_dz, :DESwl__3_e_dz, :DESwl__0_e_m, :DESwl__1_e_m, :DESwl__2_e_m, :DESwl__3_e_m), Tuple{DynamicPPL.Metadata{Dict{AbstractPPL.VarName{:Ωm, Setfield.IdentityLens}, Int64}, Vector{Uniform{Float64}}, Vector{AbstractPPL.VarName{:Ωm, Setfield.IdentityLens}}, Vector{Float64}, Vector{Set{DynamicPPL.Selector}}}, DynamicPPL.Metadata{Dict{AbstractPPL.VarName{:Ωb, Setfield.IdentityLens}, Int64}, Vector{Uniform{Float64}}, Vector{AbstractPPL.VarName{:Ωb, Setfield.IdentityLens}}, Vector{Float64}, Vector{Set{DynamicPPL.Selector}}}, DynamicPPL.Metadata{Dict{AbstractPPL.VarName{:h, Setfield.IdentityLens}, Int64}, Vector{Uniform{Float64}}, Vector{AbstractPPL.VarName{:h, Setfield.IdentityLens}}, Vector{Float64}, Vector{Set{DynamicPPL.Selector}}}, DynamicPPL.Metadata{Dict{AbstractPPL.VarName{:s8, Setfield.IdentityLens}, Int64}, Vector{Uniform{Float64}}, Vector{AbstractPPL.VarName{:s8, Setfield.IdentityLens}}, Vector{Float64}, Vector{Set{DynamicPPL.Selector}}}, DynamicPPL.Metadata{Dict{AbstractPPL.VarName{:ns, Setfield.IdentityLens}, Int64}, Vector{Uniform{Float64}}, Vector{AbstractPPL.VarName{:ns, Setfield.IdentityLens}}, Vector{Float64}, Vector{Set{DynamicPPL.Selector}}}, DynamicPPL.Metadata{Dict{AbstractPPL.VarName{:A_IA, Setfield.IdentityLens}, Int64}, Vector{Uniform{Float64}}, Vector{AbstractPPL.VarName{:A_IA, Setfield.IdentityLens}}, Vector{Float64}, Vector{Set{DynamicPPL.Selector}}}, DynamicPPL.Metadata{Dict{AbstractPPL.VarName{:alpha_IA, Setfield.IdentityLens}, Int64}, Vector{Uniform{Float64}}, Vector{AbstractPPL.VarName{:alpha_IA, Setfield.IdentityLens}}, Vector{Float64}, Vector{Set{DynamicPPL.Selector}}}, DynamicPPL.Metadata{Dict{AbstractPPL.VarName{:DESwl__0_e_dz, Setfield.IdentityLens}, Int64}, Vector{Truncated{Normal{Float64}, Continuous, Float64}}, Vector{AbstractPPL.VarName{:DESwl__0_e_dz, Setfield.IdentityLens}}, Vector{Float64}, Vector{Set{DynamicPPL.Selector}}}, DynamicPPL.Metadata{Dict{AbstractPPL.VarName{:DESwl__1_e_dz, Setfield.IdentityLens}, Int64}, Vector{Truncated{Normal{Float64}, Continuous, Float64}}, Vector{AbstractPPL.VarName{:DESwl__1_e_dz, Setfield.IdentityLens}}, Vector{Float64}, Vector{Set{DynamicPPL.Selector}}}, DynamicPPL.Metadata{Dict{AbstractPPL.VarName{:DESwl__2_e_dz, Setfield.IdentityLens}, Int64}, Vector{Truncated{Normal{Float64}, Continuous, Float64}}, Vector{AbstractPPL.VarName{:DESwl__2_e_dz, Setfield.IdentityLens}}, Vector{Float64}, Vector{Set{DynamicPPL.Selector}}}, DynamicPPL.Metadata{Dict{AbstractPPL.VarName{:DESwl__3_e_dz, Setfield.IdentityLens}, Int64}, Vector{Truncated{Normal{Float64}, Continuous, Float64}}, Vector{AbstractPPL.VarName{:DESwl__3_e_dz, Setfield.IdentityLens}}, Vector{Float64}, Vector{Set{DynamicPPL.Selector}}}, DynamicPPL.Metadata{Dict{AbstractPPL.VarName{:DESwl__0_e_m, Setfield.IdentityLens}, Int64}, Vector{Normal{Float64}}, Vector{AbstractPPL.VarName{:DESwl__0_e_m, Setfield.IdentityLens}}, Vector{Float64}, Vector{Set{DynamicPPL.Selector}}}, DynamicPPL.Metadata{Dict{AbstractPPL.VarName{:DESwl__1_e_m, Setfield.IdentityLens}, Int64}, Vector{Normal{Float64}}, Vector{AbstractPPL.VarName{:DESwl__1_e_m, Setfield.IdentityLens}}, Vector{Float64}, Vector{Set{DynamicPPL.Selector}}}, DynamicPPL.Metadata{Dict{AbstractPPL.VarName{:DESwl__2_e_m, Setfield.IdentityLens}, Int64}, Vector{Normal{Float64}}, Vector{AbstractPPL.VarName{:DESwl__2_e_m, Setfield.IdentityLens}}, Vector{Float64}, Vector{Set{DynamicPPL.Selector}}}, DynamicPPL.Metadata{Dict{AbstractPPL.VarName{:DESwl__3_e_m, Setfield.IdentityLens}, Int64}, Vector{Normal{Float64}}, Vector{AbstractPPL.VarName{:DESwl__3_e_m, Setfield.IdentityLens}}, Vector{Float64}, Vector{Set{DynamicPPL.Selector}}}}}, Float64}, DynamicPPL.Model{typeof(model), (:data_vector, :tracers_names, :pairs, :pairs_id, :idx, :cov_tot, :files), (:tracers_names, :pairs, :pairs_id, :idx, :cov_tot, :files), (), Tuple{Vector{Float64}, Vector{String}, Vector{Vector{String}}, Vector{Vector{Int64}}, Vector{Int64}, Matrix{Float64}, Dict{String, Array{Float64}}}, Tuple{Vector{String}, Vector{Vector{String}}, Vector{Vector{Int64}}, Vector{Int64}, Matrix{Float64}, Dict{String, Array{Float64}}}, DynamicPPL.DefaultContext}, DynamicPPL.Sampler{NUTS{Turing.Essential.ForwardDiffAD{0}, (), AdvancedHMC.DiagEuclideanMetric}}, DynamicPPL.DefaultContext}, ForwardDiff.GradientConfig{ForwardDiff.Tag{Turing.TuringTag, Float64}, Float64, 8, Vector{ForwardDiff.Dual{ForwardDiff.Tag{Turing.TuringTag, Float64}, Float64, 8}}}}}}, z::AdvancedHMC.PhasePoint{Vector{Float64}, AdvancedHMC.DualValue{Float64, Vector{Float64}}}, n_steps::Int64; fwd::Bool, full_trajectory::Val{false})",
      "    @ AdvancedHMC ~/.julia/packages/AdvancedHMC/iWHPQ/src/integrator.jl:88",
      " [23] step",
      "    @ ~/.julia/packages/AdvancedHMC/iWHPQ/src/integrator.jl:66 [inlined]",
      " [24] build_tree(rng::Random._GLOBAL_RNG, nt::AdvancedHMC.Trajectory{AdvancedHMC.MultinomialTS, AdvancedHMC.Leapfrog{Float64}, AdvancedHMC.GeneralisedNoUTurn{Float64}}, h::AdvancedHMC.Hamiltonian{AdvancedHMC.DiagEuclideanMetric{Float64, Vector{Float64}}, Base.Fix1{typeof(LogDensityProblems.logdensity), LogDensityProblems.ForwardDiffLogDensity{Turing.LogDensityFunction{DynamicPPL.TypedVarInfo{NamedTuple{(:Ωm, :Ωb, :h, :s8, :ns, :A_IA, :alpha_IA, :DESwl__0_e_dz, :DESwl__1_e_dz, :DESwl__2_e_dz, :DESwl__3_e_dz, :DESwl__0_e_m, :DESwl__1_e_m, :DESwl__2_e_m, :DESwl__3_e_m), Tuple{DynamicPPL.Metadata{Dict{AbstractPPL.VarName{:Ωm, Setfield.IdentityLens}, Int64}, Vector{Uniform{Float64}}, Vector{AbstractPPL.VarName{:Ωm, Setfield.IdentityLens}}, Vector{Float64}, Vector{Set{DynamicPPL.Selector}}}, DynamicPPL.Metadata{Dict{AbstractPPL.VarName{:Ωb, Setfield.IdentityLens}, Int64}, Vector{Uniform{Float64}}, Vector{AbstractPPL.VarName{:Ωb, Setfield.IdentityLens}}, Vector{Float64}, Vector{Set{DynamicPPL.Selector}}}, DynamicPPL.Metadata{Dict{AbstractPPL.VarName{:h, Setfield.IdentityLens}, Int64}, Vector{Uniform{Float64}}, Vector{AbstractPPL.VarName{:h, Setfield.IdentityLens}}, Vector{Float64}, Vector{Set{DynamicPPL.Selector}}}, DynamicPPL.Metadata{Dict{AbstractPPL.VarName{:s8, Setfield.IdentityLens}, Int64}, Vector{Uniform{Float64}}, Vector{AbstractPPL.VarName{:s8, Setfield.IdentityLens}}, Vector{Float64}, Vector{Set{DynamicPPL.Selector}}}, DynamicPPL.Metadata{Dict{AbstractPPL.VarName{:ns, Setfield.IdentityLens}, Int64}, Vector{Uniform{Float64}}, Vector{AbstractPPL.VarName{:ns, Setfield.IdentityLens}}, Vector{Float64}, Vector{Set{DynamicPPL.Selector}}}, DynamicPPL.Metadata{Dict{AbstractPPL.VarName{:A_IA, Setfield.IdentityLens}, Int64}, Vector{Uniform{Float64}}, Vector{AbstractPPL.VarName{:A_IA, Setfield.IdentityLens}}, Vector{Float64}, Vector{Set{DynamicPPL.Selector}}}, DynamicPPL.Metadata{Dict{AbstractPPL.VarName{:alpha_IA, Setfield.IdentityLens}, Int64}, Vector{Uniform{Float64}}, Vector{AbstractPPL.VarName{:alpha_IA, Setfield.IdentityLens}}, Vector{Float64}, Vector{Set{DynamicPPL.Selector}}}, DynamicPPL.Metadata{Dict{AbstractPPL.VarName{:DESwl__0_e_dz, Setfield.IdentityLens}, Int64}, Vector{Truncated{Normal{Float64}, Continuous, Float64}}, Vector{AbstractPPL.VarName{:DESwl__0_e_dz, Setfield.IdentityLens}}, Vector{Float64}, Vector{Set{DynamicPPL.Selector}}}, DynamicPPL.Metadata{Dict{AbstractPPL.VarName{:DESwl__1_e_dz, Setfield.IdentityLens}, Int64}, Vector{Truncated{Normal{Float64}, Continuous, Float64}}, Vector{AbstractPPL.VarName{:DESwl__1_e_dz, Setfield.IdentityLens}}, Vector{Float64}, Vector{Set{DynamicPPL.Selector}}}, DynamicPPL.Metadata{Dict{AbstractPPL.VarName{:DESwl__2_e_dz, Setfield.IdentityLens}, Int64}, Vector{Truncated{Normal{Float64}, Continuous, Float64}}, Vector{AbstractPPL.VarName{:DESwl__2_e_dz, Setfield.IdentityLens}}, Vector{Float64}, Vector{Set{DynamicPPL.Selector}}}, DynamicPPL.Metadata{Dict{AbstractPPL.VarName{:DESwl__3_e_dz, Setfield.IdentityLens}, Int64}, Vector{Truncated{Normal{Float64}, Continuous, Float64}}, Vector{AbstractPPL.VarName{:DESwl__3_e_dz, Setfield.IdentityLens}}, Vector{Float64}, Vector{Set{DynamicPPL.Selector}}}, DynamicPPL.Metadata{Dict{AbstractPPL.VarName{:DESwl__0_e_m, Setfield.IdentityLens}, Int64}, Vector{Normal{Float64}}, Vector{AbstractPPL.VarName{:DESwl__0_e_m, Setfield.IdentityLens}}, Vector{Float64}, Vector{Set{DynamicPPL.Selector}}}, DynamicPPL.Metadata{Dict{AbstractPPL.VarName{:DESwl__1_e_m, Setfield.IdentityLens}, Int64}, Vector{Normal{Float64}}, Vector{AbstractPPL.VarName{:DESwl__1_e_m, Setfield.IdentityLens}}, Vector{Float64}, Vector{Set{DynamicPPL.Selector}}}, DynamicPPL.Metadata{Dict{AbstractPPL.VarName{:DESwl__2_e_m, Setfield.IdentityLens}, Int64}, Vector{Normal{Float64}}, Vector{AbstractPPL.VarName{:DESwl__2_e_m, Setfield.IdentityLens}}, Vector{Float64}, Vector{Set{DynamicPPL.Selector}}}, DynamicPPL.Metadata{Dict{AbstractPPL.VarName{:DESwl__3_e_m, Setfield.IdentityLens}, Int64}, Vector{Normal{Float64}}, Vector{AbstractPPL.VarName{:DESwl__3_e_m, Setfield.IdentityLens}}, Vector{Float64}, Vector{Set{DynamicPPL.Selector}}}}}, Float64}, DynamicPPL.Model{typeof(model), (:data_vector, :tracers_names, :pairs, :pairs_id, :idx, :cov_tot, :files), (:tracers_names, :pairs, :pairs_id, :idx, :cov_tot, :files), (), Tuple{Vector{Float64}, Vector{String}, Vector{Vector{String}}, Vector{Vector{Int64}}, Vector{Int64}, Matrix{Float64}, Dict{String, Array{Float64}}}, Tuple{Vector{String}, Vector{Vector{String}}, Vector{Vector{Int64}}, Vector{Int64}, Matrix{Float64}, Dict{String, Array{Float64}}}, DynamicPPL.DefaultContext}, DynamicPPL.Sampler{NUTS{Turing.Essential.ForwardDiffAD{0}, (), AdvancedHMC.DiagEuclideanMetric}}, DynamicPPL.DefaultContext}, ForwardDiff.GradientConfig{ForwardDiff.Tag{Turing.TuringTag, Float64}, Float64, 8, Vector{ForwardDiff.Dual{ForwardDiff.Tag{Turing.TuringTag, Float64}, Float64, 8}}}}}, Turing.Inference.var\"#∂logπ∂θ#44\"{LogDensityProblems.ForwardDiffLogDensity{Turing.LogDensityFunction{DynamicPPL.TypedVarInfo{NamedTuple{(:Ωm, :Ωb, :h, :s8, :ns, :A_IA, :alpha_IA, :DESwl__0_e_dz, :DESwl__1_e_dz, :DESwl__2_e_dz, :DESwl__3_e_dz, :DESwl__0_e_m, :DESwl__1_e_m, :DESwl__2_e_m, :DESwl__3_e_m), Tuple{DynamicPPL.Metadata{Dict{AbstractPPL.VarName{:Ωm, Setfield.IdentityLens}, Int64}, Vector{Uniform{Float64}}, Vector{AbstractPPL.VarName{:Ωm, Setfield.IdentityLens}}, Vector{Float64}, Vector{Set{DynamicPPL.Selector}}}, DynamicPPL.Metadata{Dict{AbstractPPL.VarName{:Ωb, Setfield.IdentityLens}, Int64}, Vector{Uniform{Float64}}, Vector{AbstractPPL.VarName{:Ωb, Setfield.IdentityLens}}, Vector{Float64}, Vector{Set{DynamicPPL.Selector}}}, DynamicPPL.Metadata{Dict{AbstractPPL.VarName{:h, Setfield.IdentityLens}, Int64}, Vector{Uniform{Float64}}, Vector{AbstractPPL.VarName{:h, Setfield.IdentityLens}}, Vector{Float64}, Vector{Set{DynamicPPL.Selector}}}, DynamicPPL.Metadata{Dict{AbstractPPL.VarName{:s8, Setfield.IdentityLens}, Int64}, Vector{Uniform{Float64}}, Vector{AbstractPPL.VarName{:s8, Setfield.IdentityLens}}, Vector{Float64}, Vector{Set{DynamicPPL.Selector}}}, DynamicPPL.Metadata{Dict{AbstractPPL.VarName{:ns, Setfield.IdentityLens}, Int64}, Vector{Uniform{Float64}}, Vector{AbstractPPL.VarName{:ns, Setfield.IdentityLens}}, Vector{Float64}, Vector{Set{DynamicPPL.Selector}}}, DynamicPPL.Metadata{Dict{AbstractPPL.VarName{:A_IA, Setfield.IdentityLens}, Int64}, Vector{Uniform{Float64}}, Vector{AbstractPPL.VarName{:A_IA, Setfield.IdentityLens}}, Vector{Float64}, Vector{Set{DynamicPPL.Selector}}}, DynamicPPL.Metadata{Dict{AbstractPPL.VarName{:alpha_IA, Setfield.IdentityLens}, Int64}, Vector{Uniform{Float64}}, Vector{AbstractPPL.VarName{:alpha_IA, Setfield.IdentityLens}}, Vector{Float64}, Vector{Set{DynamicPPL.Selector}}}, DynamicPPL.Metadata{Dict{AbstractPPL.VarName{:DESwl__0_e_dz, Setfield.IdentityLens}, Int64}, Vector{Truncated{Normal{Float64}, Continuous, Float64}}, Vector{AbstractPPL.VarName{:DESwl__0_e_dz, Setfield.IdentityLens}}, Vector{Float64}, Vector{Set{DynamicPPL.Selector}}}, DynamicPPL.Metadata{Dict{AbstractPPL.VarName{:DESwl__1_e_dz, Setfield.IdentityLens}, Int64}, Vector{Truncated{Normal{Float64}, Continuous, Float64}}, Vector{AbstractPPL.VarName{:DESwl__1_e_dz, Setfield.IdentityLens}}, Vector{Float64}, Vector{Set{DynamicPPL.Selector}}}, DynamicPPL.Metadata{Dict{AbstractPPL.VarName{:DESwl__2_e_dz, Setfield.IdentityLens}, Int64}, Vector{Truncated{Normal{Float64}, Continuous, Float64}}, Vector{AbstractPPL.VarName{:DESwl__2_e_dz, Setfield.IdentityLens}}, Vector{Float64}, Vector{Set{DynamicPPL.Selector}}}, DynamicPPL.Metadata{Dict{AbstractPPL.VarName{:DESwl__3_e_dz, Setfield.IdentityLens}, Int64}, Vector{Truncated{Normal{Float64}, Continuous, Float64}}, Vector{AbstractPPL.VarName{:DESwl__3_e_dz, Setfield.IdentityLens}}, Vector{Float64}, Vector{Set{DynamicPPL.Selector}}}, DynamicPPL.Metadata{Dict{AbstractPPL.VarName{:DESwl__0_e_m, Setfield.IdentityLens}, Int64}, Vector{Normal{Float64}}, Vector{AbstractPPL.VarName{:DESwl__0_e_m, Setfield.IdentityLens}}, Vector{Float64}, Vector{Set{DynamicPPL.Selector}}}, DynamicPPL.Metadata{Dict{AbstractPPL.VarName{:DESwl__1_e_m, Setfield.IdentityLens}, Int64}, Vector{Normal{Float64}}, Vector{AbstractPPL.VarName{:DESwl__1_e_m, Setfield.IdentityLens}}, Vector{Float64}, Vector{Set{DynamicPPL.Selector}}}, DynamicPPL.Metadata{Dict{AbstractPPL.VarName{:DESwl__2_e_m, Setfield.IdentityLens}, Int64}, Vector{Normal{Float64}}, Vector{AbstractPPL.VarName{:DESwl__2_e_m, Setfield.IdentityLens}}, Vector{Float64}, Vector{Set{DynamicPPL.Selector}}}, DynamicPPL.Metadata{Dict{AbstractPPL.VarName{:DESwl__3_e_m, Setfield.IdentityLens}, Int64}, Vector{Normal{Float64}}, Vector{AbstractPPL.VarName{:DESwl__3_e_m, Setfield.IdentityLens}}, Vector{Float64}, Vector{Set{DynamicPPL.Selector}}}}}, Float64}, DynamicPPL.Model{typeof(model), (:data_vector, :tracers_names, :pairs, :pairs_id, :idx, :cov_tot, :files), (:tracers_names, :pairs, :pairs_id, :idx, :cov_tot, :files), (), Tuple{Vector{Float64}, Vector{String}, Vector{Vector{String}}, Vector{Vector{Int64}}, Vector{Int64}, Matrix{Float64}, Dict{String, Array{Float64}}}, Tuple{Vector{String}, Vector{Vector{String}}, Vector{Vector{Int64}}, Vector{Int64}, Matrix{Float64}, Dict{String, Array{Float64}}}, DynamicPPL.DefaultContext}, DynamicPPL.Sampler{NUTS{Turing.Essential.ForwardDiffAD{0}, (), AdvancedHMC.DiagEuclideanMetric}}, DynamicPPL.DefaultContext}, ForwardDiff.GradientConfig{ForwardDiff.Tag{Turing.TuringTag, Float64}, Float64, 8, Vector{ForwardDiff.Dual{ForwardDiff.Tag{Turing.TuringTag, Float64}, Float64, 8}}}}}}, z::AdvancedHMC.PhasePoint{Vector{Float64}, AdvancedHMC.DualValue{Float64, Vector{Float64}}}, sampler::AdvancedHMC.MultinomialTS{Float64}, v::Int64, j::Int64, H0::Float64)",
      "    @ AdvancedHMC ~/.julia/packages/AdvancedHMC/iWHPQ/src/trajectory.jl:595",
      " [25] build_tree(rng::Random._GLOBAL_RNG, nt::AdvancedHMC.Trajectory{AdvancedHMC.MultinomialTS, AdvancedHMC.Leapfrog{Float64}, AdvancedHMC.GeneralisedNoUTurn{Float64}}, h::AdvancedHMC.Hamiltonian{AdvancedHMC.DiagEuclideanMetric{Float64, Vector{Float64}}, Base.Fix1{typeof(LogDensityProblems.logdensity), LogDensityProblems.ForwardDiffLogDensity{Turing.LogDensityFunction{DynamicPPL.TypedVarInfo{NamedTuple{(:Ωm, :Ωb, :h, :s8, :ns, :A_IA, :alpha_IA, :DESwl__0_e_dz, :DESwl__1_e_dz, :DESwl__2_e_dz, :DESwl__3_e_dz, :DESwl__0_e_m, :DESwl__1_e_m, :DESwl__2_e_m, :DESwl__3_e_m), Tuple{DynamicPPL.Metadata{Dict{AbstractPPL.VarName{:Ωm, Setfield.IdentityLens}, Int64}, Vector{Uniform{Float64}}, Vector{AbstractPPL.VarName{:Ωm, Setfield.IdentityLens}}, Vector{Float64}, Vector{Set{DynamicPPL.Selector}}}, DynamicPPL.Metadata{Dict{AbstractPPL.VarName{:Ωb, Setfield.IdentityLens}, Int64}, Vector{Uniform{Float64}}, Vector{AbstractPPL.VarName{:Ωb, Setfield.IdentityLens}}, Vector{Float64}, Vector{Set{DynamicPPL.Selector}}}, DynamicPPL.Metadata{Dict{AbstractPPL.VarName{:h, Setfield.IdentityLens}, Int64}, Vector{Uniform{Float64}}, Vector{AbstractPPL.VarName{:h, Setfield.IdentityLens}}, Vector{Float64}, Vector{Set{DynamicPPL.Selector}}}, DynamicPPL.Metadata{Dict{AbstractPPL.VarName{:s8, Setfield.IdentityLens}, Int64}, Vector{Uniform{Float64}}, Vector{AbstractPPL.VarName{:s8, Setfield.IdentityLens}}, Vector{Float64}, Vector{Set{DynamicPPL.Selector}}}, DynamicPPL.Metadata{Dict{AbstractPPL.VarName{:ns, Setfield.IdentityLens}, Int64}, Vector{Uniform{Float64}}, Vector{AbstractPPL.VarName{:ns, Setfield.IdentityLens}}, Vector{Float64}, Vector{Set{DynamicPPL.Selector}}}, DynamicPPL.Metadata{Dict{AbstractPPL.VarName{:A_IA, Setfield.IdentityLens}, Int64}, Vector{Uniform{Float64}}, Vector{AbstractPPL.VarName{:A_IA, Setfield.IdentityLens}}, Vector{Float64}, Vector{Set{DynamicPPL.Selector}}}, DynamicPPL.Metadata{Dict{AbstractPPL.VarName{:alpha_IA, Setfield.IdentityLens}, Int64}, Vector{Uniform{Float64}}, Vector{AbstractPPL.VarName{:alpha_IA, Setfield.IdentityLens}}, Vector{Float64}, Vector{Set{DynamicPPL.Selector}}}, DynamicPPL.Metadata{Dict{AbstractPPL.VarName{:DESwl__0_e_dz, Setfield.IdentityLens}, Int64}, Vector{Truncated{Normal{Float64}, Continuous, Float64}}, Vector{AbstractPPL.VarName{:DESwl__0_e_dz, Setfield.IdentityLens}}, Vector{Float64}, Vector{Set{DynamicPPL.Selector}}}, DynamicPPL.Metadata{Dict{AbstractPPL.VarName{:DESwl__1_e_dz, Setfield.IdentityLens}, Int64}, Vector{Truncated{Normal{Float64}, Continuous, Float64}}, Vector{AbstractPPL.VarName{:DESwl__1_e_dz, Setfield.IdentityLens}}, Vector{Float64}, Vector{Set{DynamicPPL.Selector}}}, DynamicPPL.Metadata{Dict{AbstractPPL.VarName{:DESwl__2_e_dz, Setfield.IdentityLens}, Int64}, Vector{Truncated{Normal{Float64}, Continuous, Float64}}, Vector{AbstractPPL.VarName{:DESwl__2_e_dz, Setfield.IdentityLens}}, Vector{Float64}, Vector{Set{DynamicPPL.Selector}}}, DynamicPPL.Metadata{Dict{AbstractPPL.VarName{:DESwl__3_e_dz, Setfield.IdentityLens}, Int64}, Vector{Truncated{Normal{Float64}, Continuous, Float64}}, Vector{AbstractPPL.VarName{:DESwl__3_e_dz, Setfield.IdentityLens}}, Vector{Float64}, Vector{Set{DynamicPPL.Selector}}}, DynamicPPL.Metadata{Dict{AbstractPPL.VarName{:DESwl__0_e_m, Setfield.IdentityLens}, Int64}, Vector{Normal{Float64}}, Vector{AbstractPPL.VarName{:DESwl__0_e_m, Setfield.IdentityLens}}, Vector{Float64}, Vector{Set{DynamicPPL.Selector}}}, DynamicPPL.Metadata{Dict{AbstractPPL.VarName{:DESwl__1_e_m, Setfield.IdentityLens}, Int64}, Vector{Normal{Float64}}, Vector{AbstractPPL.VarName{:DESwl__1_e_m, Setfield.IdentityLens}}, Vector{Float64}, Vector{Set{DynamicPPL.Selector}}}, DynamicPPL.Metadata{Dict{AbstractPPL.VarName{:DESwl__2_e_m, Setfield.IdentityLens}, Int64}, Vector{Normal{Float64}}, Vector{AbstractPPL.VarName{:DESwl__2_e_m, Setfield.IdentityLens}}, Vector{Float64}, Vector{Set{DynamicPPL.Selector}}}, DynamicPPL.Metadata{Dict{AbstractPPL.VarName{:DESwl__3_e_m, Setfield.IdentityLens}, Int64}, Vector{Normal{Float64}}, Vector{AbstractPPL.VarName{:DESwl__3_e_m, Setfield.IdentityLens}}, Vector{Float64}, Vector{Set{DynamicPPL.Selector}}}}}, Float64}, DynamicPPL.Model{typeof(model), (:data_vector, :tracers_names, :pairs, :pairs_id, :idx, :cov_tot, :files), (:tracers_names, :pairs, :pairs_id, :idx, :cov_tot, :files), (), Tuple{Vector{Float64}, Vector{String}, Vector{Vector{String}}, Vector{Vector{Int64}}, Vector{Int64}, Matrix{Float64}, Dict{String, Array{Float64}}}, Tuple{Vector{String}, Vector{Vector{String}}, Vector{Vector{Int64}}, Vector{Int64}, Matrix{Float64}, Dict{String, Array{Float64}}}, DynamicPPL.DefaultContext}, DynamicPPL.Sampler{NUTS{Turing.Essential.ForwardDiffAD{0}, (), AdvancedHMC.DiagEuclideanMetric}}, DynamicPPL.DefaultContext}, ForwardDiff.GradientConfig{ForwardDiff.Tag{Turing.TuringTag, Float64}, Float64, 8, Vector{ForwardDiff.Dual{ForwardDiff.Tag{Turing.TuringTag, Float64}, Float64, 8}}}}}, Turing.Inference.var\"#∂logπ∂θ#44\"{LogDensityProblems.ForwardDiffLogDensity{Turing.LogDensityFunction{DynamicPPL.TypedVarInfo{NamedTuple{(:Ωm, :Ωb, :h, :s8, :ns, :A_IA, :alpha_IA, :DESwl__0_e_dz, :DESwl__1_e_dz, :DESwl__2_e_dz, :DESwl__3_e_dz, :DESwl__0_e_m, :DESwl__1_e_m, :DESwl__2_e_m, :DESwl__3_e_m), Tuple{DynamicPPL.Metadata{Dict{AbstractPPL.VarName{:Ωm, Setfield.IdentityLens}, Int64}, Vector{Uniform{Float64}}, Vector{AbstractPPL.VarName{:Ωm, Setfield.IdentityLens}}, Vector{Float64}, Vector{Set{DynamicPPL.Selector}}}, DynamicPPL.Metadata{Dict{AbstractPPL.VarName{:Ωb, Setfield.IdentityLens}, Int64}, Vector{Uniform{Float64}}, Vector{AbstractPPL.VarName{:Ωb, Setfield.IdentityLens}}, Vector{Float64}, Vector{Set{DynamicPPL.Selector}}}, DynamicPPL.Metadata{Dict{AbstractPPL.VarName{:h, Setfield.IdentityLens}, Int64}, Vector{Uniform{Float64}}, Vector{AbstractPPL.VarName{:h, Setfield.IdentityLens}}, Vector{Float64}, Vector{Set{DynamicPPL.Selector}}}, DynamicPPL.Metadata{Dict{AbstractPPL.VarName{:s8, Setfield.IdentityLens}, Int64}, Vector{Uniform{Float64}}, Vector{AbstractPPL.VarName{:s8, Setfield.IdentityLens}}, Vector{Float64}, Vector{Set{DynamicPPL.Selector}}}, DynamicPPL.Metadata{Dict{AbstractPPL.VarName{:ns, Setfield.IdentityLens}, Int64}, Vector{Uniform{Float64}}, Vector{AbstractPPL.VarName{:ns, Setfield.IdentityLens}}, Vector{Float64}, Vector{Set{DynamicPPL.Selector}}}, DynamicPPL.Metadata{Dict{AbstractPPL.VarName{:A_IA, Setfield.IdentityLens}, Int64}, Vector{Uniform{Float64}}, Vector{AbstractPPL.VarName{:A_IA, Setfield.IdentityLens}}, Vector{Float64}, Vector{Set{DynamicPPL.Selector}}}, DynamicPPL.Metadata{Dict{AbstractPPL.VarName{:alpha_IA, Setfield.IdentityLens}, Int64}, Vector{Uniform{Float64}}, Vector{AbstractPPL.VarName{:alpha_IA, Setfield.IdentityLens}}, Vector{Float64}, Vector{Set{DynamicPPL.Selector}}}, DynamicPPL.Metadata{Dict{AbstractPPL.VarName{:DESwl__0_e_dz, Setfield.IdentityLens}, Int64}, Vector{Truncated{Normal{Float64}, Continuous, Float64}}, Vector{AbstractPPL.VarName{:DESwl__0_e_dz, Setfield.IdentityLens}}, Vector{Float64}, Vector{Set{DynamicPPL.Selector}}}, DynamicPPL.Metadata{Dict{AbstractPPL.VarName{:DESwl__1_e_dz, Setfield.IdentityLens}, Int64}, Vector{Truncated{Normal{Float64}, Continuous, Float64}}, Vector{AbstractPPL.VarName{:DESwl__1_e_dz, Setfield.IdentityLens}}, Vector{Float64}, Vector{Set{DynamicPPL.Selector}}}, DynamicPPL.Metadata{Dict{AbstractPPL.VarName{:DESwl__2_e_dz, Setfield.IdentityLens}, Int64}, Vector{Truncated{Normal{Float64}, Continuous, Float64}}, Vector{AbstractPPL.VarName{:DESwl__2_e_dz, Setfield.IdentityLens}}, Vector{Float64}, Vector{Set{DynamicPPL.Selector}}}, DynamicPPL.Metadata{Dict{AbstractPPL.VarName{:DESwl__3_e_dz, Setfield.IdentityLens}, Int64}, Vector{Truncated{Normal{Float64}, Continuous, Float64}}, Vector{AbstractPPL.VarName{:DESwl__3_e_dz, Setfield.IdentityLens}}, Vector{Float64}, Vector{Set{DynamicPPL.Selector}}}, DynamicPPL.Metadata{Dict{AbstractPPL.VarName{:DESwl__0_e_m, Setfield.IdentityLens}, Int64}, Vector{Normal{Float64}}, Vector{AbstractPPL.VarName{:DESwl__0_e_m, Setfield.IdentityLens}}, Vector{Float64}, Vector{Set{DynamicPPL.Selector}}}, DynamicPPL.Metadata{Dict{AbstractPPL.VarName{:DESwl__1_e_m, Setfield.IdentityLens}, Int64}, Vector{Normal{Float64}}, Vector{AbstractPPL.VarName{:DESwl__1_e_m, Setfield.IdentityLens}}, Vector{Float64}, Vector{Set{DynamicPPL.Selector}}}, DynamicPPL.Metadata{Dict{AbstractPPL.VarName{:DESwl__2_e_m, Setfield.IdentityLens}, Int64}, Vector{Normal{Float64}}, Vector{AbstractPPL.VarName{:DESwl__2_e_m, Setfield.IdentityLens}}, Vector{Float64}, Vector{Set{DynamicPPL.Selector}}}, DynamicPPL.Metadata{Dict{AbstractPPL.VarName{:DESwl__3_e_m, Setfield.IdentityLens}, Int64}, Vector{Normal{Float64}}, Vector{AbstractPPL.VarName{:DESwl__3_e_m, Setfield.IdentityLens}}, Vector{Float64}, Vector{Set{DynamicPPL.Selector}}}}}, Float64}, DynamicPPL.Model{typeof(model), (:data_vector, :tracers_names, :pairs, :pairs_id, :idx, :cov_tot, :files), (:tracers_names, :pairs, :pairs_id, :idx, :cov_tot, :files), (), Tuple{Vector{Float64}, Vector{String}, Vector{Vector{String}}, Vector{Vector{Int64}}, Vector{Int64}, Matrix{Float64}, Dict{String, Array{Float64}}}, Tuple{Vector{String}, Vector{Vector{String}}, Vector{Vector{Int64}}, Vector{Int64}, Matrix{Float64}, Dict{String, Array{Float64}}}, DynamicPPL.DefaultContext}, DynamicPPL.Sampler{NUTS{Turing.Essential.ForwardDiffAD{0}, (), AdvancedHMC.DiagEuclideanMetric}}, DynamicPPL.DefaultContext}, ForwardDiff.GradientConfig{ForwardDiff.Tag{Turing.TuringTag, Float64}, Float64, 8, Vector{ForwardDiff.Dual{ForwardDiff.Tag{Turing.TuringTag, Float64}, Float64, 8}}}}}}, z::AdvancedHMC.PhasePoint{Vector{Float64}, AdvancedHMC.DualValue{Float64, Vector{Float64}}}, sampler::AdvancedHMC.MultinomialTS{Float64}, v::Int64, j::Int64, H0::Float64) (repeats 3 times)",
      "    @ AdvancedHMC ~/.julia/packages/AdvancedHMC/iWHPQ/src/trajectory.jl:603",
      " [26] transition(rng::Random._GLOBAL_RNG, τ::AdvancedHMC.Trajectory{AdvancedHMC.MultinomialTS, AdvancedHMC.Leapfrog{Float64}, AdvancedHMC.GeneralisedNoUTurn{Float64}}, h::AdvancedHMC.Hamiltonian{AdvancedHMC.DiagEuclideanMetric{Float64, Vector{Float64}}, Base.Fix1{typeof(LogDensityProblems.logdensity), LogDensityProblems.ForwardDiffLogDensity{Turing.LogDensityFunction{DynamicPPL.TypedVarInfo{NamedTuple{(:Ωm, :Ωb, :h, :s8, :ns, :A_IA, :alpha_IA, :DESwl__0_e_dz, :DESwl__1_e_dz, :DESwl__2_e_dz, :DESwl__3_e_dz, :DESwl__0_e_m, :DESwl__1_e_m, :DESwl__2_e_m, :DESwl__3_e_m), Tuple{DynamicPPL.Metadata{Dict{AbstractPPL.VarName{:Ωm, Setfield.IdentityLens}, Int64}, Vector{Uniform{Float64}}, Vector{AbstractPPL.VarName{:Ωm, Setfield.IdentityLens}}, Vector{Float64}, Vector{Set{DynamicPPL.Selector}}}, DynamicPPL.Metadata{Dict{AbstractPPL.VarName{:Ωb, Setfield.IdentityLens}, Int64}, Vector{Uniform{Float64}}, Vector{AbstractPPL.VarName{:Ωb, Setfield.IdentityLens}}, Vector{Float64}, Vector{Set{DynamicPPL.Selector}}}, DynamicPPL.Metadata{Dict{AbstractPPL.VarName{:h, Setfield.IdentityLens}, Int64}, Vector{Uniform{Float64}}, Vector{AbstractPPL.VarName{:h, Setfield.IdentityLens}}, Vector{Float64}, Vector{Set{DynamicPPL.Selector}}}, DynamicPPL.Metadata{Dict{AbstractPPL.VarName{:s8, Setfield.IdentityLens}, Int64}, Vector{Uniform{Float64}}, Vector{AbstractPPL.VarName{:s8, Setfield.IdentityLens}}, Vector{Float64}, Vector{Set{DynamicPPL.Selector}}}, DynamicPPL.Metadata{Dict{AbstractPPL.VarName{:ns, Setfield.IdentityLens}, Int64}, Vector{Uniform{Float64}}, Vector{AbstractPPL.VarName{:ns, Setfield.IdentityLens}}, Vector{Float64}, Vector{Set{DynamicPPL.Selector}}}, DynamicPPL.Metadata{Dict{AbstractPPL.VarName{:A_IA, Setfield.IdentityLens}, Int64}, Vector{Uniform{Float64}}, Vector{AbstractPPL.VarName{:A_IA, Setfield.IdentityLens}}, Vector{Float64}, Vector{Set{DynamicPPL.Selector}}}, DynamicPPL.Metadata{Dict{AbstractPPL.VarName{:alpha_IA, Setfield.IdentityLens}, Int64}, Vector{Uniform{Float64}}, Vector{AbstractPPL.VarName{:alpha_IA, Setfield.IdentityLens}}, Vector{Float64}, Vector{Set{DynamicPPL.Selector}}}, DynamicPPL.Metadata{Dict{AbstractPPL.VarName{:DESwl__0_e_dz, Setfield.IdentityLens}, Int64}, Vector{Truncated{Normal{Float64}, Continuous, Float64}}, Vector{AbstractPPL.VarName{:DESwl__0_e_dz, Setfield.IdentityLens}}, Vector{Float64}, Vector{Set{DynamicPPL.Selector}}}, DynamicPPL.Metadata{Dict{AbstractPPL.VarName{:DESwl__1_e_dz, Setfield.IdentityLens}, Int64}, Vector{Truncated{Normal{Float64}, Continuous, Float64}}, Vector{AbstractPPL.VarName{:DESwl__1_e_dz, Setfield.IdentityLens}}, Vector{Float64}, Vector{Set{DynamicPPL.Selector}}}, DynamicPPL.Metadata{Dict{AbstractPPL.VarName{:DESwl__2_e_dz, Setfield.IdentityLens}, Int64}, Vector{Truncated{Normal{Float64}, Continuous, Float64}}, Vector{AbstractPPL.VarName{:DESwl__2_e_dz, Setfield.IdentityLens}}, Vector{Float64}, Vector{Set{DynamicPPL.Selector}}}, DynamicPPL.Metadata{Dict{AbstractPPL.VarName{:DESwl__3_e_dz, Setfield.IdentityLens}, Int64}, Vector{Truncated{Normal{Float64}, Continuous, Float64}}, Vector{AbstractPPL.VarName{:DESwl__3_e_dz, Setfield.IdentityLens}}, Vector{Float64}, Vector{Set{DynamicPPL.Selector}}}, DynamicPPL.Metadata{Dict{AbstractPPL.VarName{:DESwl__0_e_m, Setfield.IdentityLens}, Int64}, Vector{Normal{Float64}}, Vector{AbstractPPL.VarName{:DESwl__0_e_m, Setfield.IdentityLens}}, Vector{Float64}, Vector{Set{DynamicPPL.Selector}}}, DynamicPPL.Metadata{Dict{AbstractPPL.VarName{:DESwl__1_e_m, Setfield.IdentityLens}, Int64}, Vector{Normal{Float64}}, Vector{AbstractPPL.VarName{:DESwl__1_e_m, Setfield.IdentityLens}}, Vector{Float64}, Vector{Set{DynamicPPL.Selector}}}, DynamicPPL.Metadata{Dict{AbstractPPL.VarName{:DESwl__2_e_m, Setfield.IdentityLens}, Int64}, Vector{Normal{Float64}}, Vector{AbstractPPL.VarName{:DESwl__2_e_m, Setfield.IdentityLens}}, Vector{Float64}, Vector{Set{DynamicPPL.Selector}}}, DynamicPPL.Metadata{Dict{AbstractPPL.VarName{:DESwl__3_e_m, Setfield.IdentityLens}, Int64}, Vector{Normal{Float64}}, Vector{AbstractPPL.VarName{:DESwl__3_e_m, Setfield.IdentityLens}}, Vector{Float64}, Vector{Set{DynamicPPL.Selector}}}}}, Float64}, DynamicPPL.Model{typeof(model), (:data_vector, :tracers_names, :pairs, :pairs_id, :idx, :cov_tot, :files), (:tracers_names, :pairs, :pairs_id, :idx, :cov_tot, :files), (), Tuple{Vector{Float64}, Vector{String}, Vector{Vector{String}}, Vector{Vector{Int64}}, Vector{Int64}, Matrix{Float64}, Dict{String, Array{Float64}}}, Tuple{Vector{String}, Vector{Vector{String}}, Vector{Vector{Int64}}, Vector{Int64}, Matrix{Float64}, Dict{String, Array{Float64}}}, DynamicPPL.DefaultContext}, DynamicPPL.Sampler{NUTS{Turing.Essential.ForwardDiffAD{0}, (), AdvancedHMC.DiagEuclideanMetric}}, DynamicPPL.DefaultContext}, ForwardDiff.GradientConfig{ForwardDiff.Tag{Turing.TuringTag, Float64}, Float64, 8, Vector{ForwardDiff.Dual{ForwardDiff.Tag{Turing.TuringTag, Float64}, Float64, 8}}}}}, Turing.Inference.var\"#∂logπ∂θ#44\"{LogDensityProblems.ForwardDiffLogDensity{Turing.LogDensityFunction{DynamicPPL.TypedVarInfo{NamedTuple{(:Ωm, :Ωb, :h, :s8, :ns, :A_IA, :alpha_IA, :DESwl__0_e_dz, :DESwl__1_e_dz, :DESwl__2_e_dz, :DESwl__3_e_dz, :DESwl__0_e_m, :DESwl__1_e_m, :DESwl__2_e_m, :DESwl__3_e_m), Tuple{DynamicPPL.Metadata{Dict{AbstractPPL.VarName{:Ωm, Setfield.IdentityLens}, Int64}, Vector{Uniform{Float64}}, Vector{AbstractPPL.VarName{:Ωm, Setfield.IdentityLens}}, Vector{Float64}, Vector{Set{DynamicPPL.Selector}}}, DynamicPPL.Metadata{Dict{AbstractPPL.VarName{:Ωb, Setfield.IdentityLens}, Int64}, Vector{Uniform{Float64}}, Vector{AbstractPPL.VarName{:Ωb, Setfield.IdentityLens}}, Vector{Float64}, Vector{Set{DynamicPPL.Selector}}}, DynamicPPL.Metadata{Dict{AbstractPPL.VarName{:h, Setfield.IdentityLens}, Int64}, Vector{Uniform{Float64}}, Vector{AbstractPPL.VarName{:h, Setfield.IdentityLens}}, Vector{Float64}, Vector{Set{DynamicPPL.Selector}}}, DynamicPPL.Metadata{Dict{AbstractPPL.VarName{:s8, Setfield.IdentityLens}, Int64}, Vector{Uniform{Float64}}, Vector{AbstractPPL.VarName{:s8, Setfield.IdentityLens}}, Vector{Float64}, Vector{Set{DynamicPPL.Selector}}}, DynamicPPL.Metadata{Dict{AbstractPPL.VarName{:ns, Setfield.IdentityLens}, Int64}, Vector{Uniform{Float64}}, Vector{AbstractPPL.VarName{:ns, Setfield.IdentityLens}}, Vector{Float64}, Vector{Set{DynamicPPL.Selector}}}, DynamicPPL.Metadata{Dict{AbstractPPL.VarName{:A_IA, Setfield.IdentityLens}, Int64}, Vector{Uniform{Float64}}, Vector{AbstractPPL.VarName{:A_IA, Setfield.IdentityLens}}, Vector{Float64}, Vector{Set{DynamicPPL.Selector}}}, DynamicPPL.Metadata{Dict{AbstractPPL.VarName{:alpha_IA, Setfield.IdentityLens}, Int64}, Vector{Uniform{Float64}}, Vector{AbstractPPL.VarName{:alpha_IA, Setfield.IdentityLens}}, Vector{Float64}, Vector{Set{DynamicPPL.Selector}}}, DynamicPPL.Metadata{Dict{AbstractPPL.VarName{:DESwl__0_e_dz, Setfield.IdentityLens}, Int64}, Vector{Truncated{Normal{Float64}, Continuous, Float64}}, Vector{AbstractPPL.VarName{:DESwl__0_e_dz, Setfield.IdentityLens}}, Vector{Float64}, Vector{Set{DynamicPPL.Selector}}}, DynamicPPL.Metadata{Dict{AbstractPPL.VarName{:DESwl__1_e_dz, Setfield.IdentityLens}, Int64}, Vector{Truncated{Normal{Float64}, Continuous, Float64}}, Vector{AbstractPPL.VarName{:DESwl__1_e_dz, Setfield.IdentityLens}}, Vector{Float64}, Vector{Set{DynamicPPL.Selector}}}, DynamicPPL.Metadata{Dict{AbstractPPL.VarName{:DESwl__2_e_dz, Setfield.IdentityLens}, Int64}, Vector{Truncated{Normal{Float64}, Continuous, Float64}}, Vector{AbstractPPL.VarName{:DESwl__2_e_dz, Setfield.IdentityLens}}, Vector{Float64}, Vector{Set{DynamicPPL.Selector}}}, DynamicPPL.Metadata{Dict{AbstractPPL.VarName{:DESwl__3_e_dz, Setfield.IdentityLens}, Int64}, Vector{Truncated{Normal{Float64}, Continuous, Float64}}, Vector{AbstractPPL.VarName{:DESwl__3_e_dz, Setfield.IdentityLens}}, Vector{Float64}, Vector{Set{DynamicPPL.Selector}}}, DynamicPPL.Metadata{Dict{AbstractPPL.VarName{:DESwl__0_e_m, Setfield.IdentityLens}, Int64}, Vector{Normal{Float64}}, Vector{AbstractPPL.VarName{:DESwl__0_e_m, Setfield.IdentityLens}}, Vector{Float64}, Vector{Set{DynamicPPL.Selector}}}, DynamicPPL.Metadata{Dict{AbstractPPL.VarName{:DESwl__1_e_m, Setfield.IdentityLens}, Int64}, Vector{Normal{Float64}}, Vector{AbstractPPL.VarName{:DESwl__1_e_m, Setfield.IdentityLens}}, Vector{Float64}, Vector{Set{DynamicPPL.Selector}}}, DynamicPPL.Metadata{Dict{AbstractPPL.VarName{:DESwl__2_e_m, Setfield.IdentityLens}, Int64}, Vector{Normal{Float64}}, Vector{AbstractPPL.VarName{:DESwl__2_e_m, Setfield.IdentityLens}}, Vector{Float64}, Vector{Set{DynamicPPL.Selector}}}, DynamicPPL.Metadata{Dict{AbstractPPL.VarName{:DESwl__3_e_m, Setfield.IdentityLens}, Int64}, Vector{Normal{Float64}}, Vector{AbstractPPL.VarName{:DESwl__3_e_m, Setfield.IdentityLens}}, Vector{Float64}, Vector{Set{DynamicPPL.Selector}}}}}, Float64}, DynamicPPL.Model{typeof(model), (:data_vector, :tracers_names, :pairs, :pairs_id, :idx, :cov_tot, :files), (:tracers_names, :pairs, :pairs_id, :idx, :cov_tot, :files), (), Tuple{Vector{Float64}, Vector{String}, Vector{Vector{String}}, Vector{Vector{Int64}}, Vector{Int64}, Matrix{Float64}, Dict{String, Array{Float64}}}, Tuple{Vector{String}, Vector{Vector{String}}, Vector{Vector{Int64}}, Vector{Int64}, Matrix{Float64}, Dict{String, Array{Float64}}}, DynamicPPL.DefaultContext}, DynamicPPL.Sampler{NUTS{Turing.Essential.ForwardDiffAD{0}, (), AdvancedHMC.DiagEuclideanMetric}}, DynamicPPL.DefaultContext}, ForwardDiff.GradientConfig{ForwardDiff.Tag{Turing.TuringTag, Float64}, Float64, 8, Vector{ForwardDiff.Dual{ForwardDiff.Tag{Turing.TuringTag, Float64}, Float64, 8}}}}}}, z0::AdvancedHMC.PhasePoint{Vector{Float64}, AdvancedHMC.DualValue{Float64, Vector{Float64}}})",
      "    @ AdvancedHMC ~/.julia/packages/AdvancedHMC/iWHPQ/src/trajectory.jl:641",
      " [27] transition",
      "    @ ~/.julia/packages/AdvancedHMC/iWHPQ/src/sampler.jl:57 [inlined]",
      " [28] step(rng::Random._GLOBAL_RNG, model::DynamicPPL.Model{typeof(model), (:data_vector, :tracers_names, :pairs, :pairs_id, :idx, :cov_tot, :files), (:tracers_names, :pairs, :pairs_id, :idx, :cov_tot, :files), (), Tuple{Vector{Float64}, Vector{String}, Vector{Vector{String}}, Vector{Vector{Int64}}, Vector{Int64}, Matrix{Float64}, Dict{String, Array{Float64}}}, Tuple{Vector{String}, Vector{Vector{String}}, Vector{Vector{Int64}}, Vector{Int64}, Matrix{Float64}, Dict{String, Array{Float64}}}, DynamicPPL.DefaultContext}, spl::DynamicPPL.Sampler{NUTS{Turing.Essential.ForwardDiffAD{0}, (), AdvancedHMC.DiagEuclideanMetric}}, state::Turing.Inference.HMCState{DynamicPPL.TypedVarInfo{NamedTuple{(:Ωm, :Ωb, :h, :s8, :ns, :A_IA, :alpha_IA, :DESwl__0_e_dz, :DESwl__1_e_dz, :DESwl__2_e_dz, :DESwl__3_e_dz, :DESwl__0_e_m, :DESwl__1_e_m, :DESwl__2_e_m, :DESwl__3_e_m), Tuple{DynamicPPL.Metadata{Dict{AbstractPPL.VarName{:Ωm, Setfield.IdentityLens}, Int64}, Vector{Uniform{Float64}}, Vector{AbstractPPL.VarName{:Ωm, Setfield.IdentityLens}}, Vector{Float64}, Vector{Set{DynamicPPL.Selector}}}, DynamicPPL.Metadata{Dict{AbstractPPL.VarName{:Ωb, Setfield.IdentityLens}, Int64}, Vector{Uniform{Float64}}, Vector{AbstractPPL.VarName{:Ωb, Setfield.IdentityLens}}, Vector{Float64}, Vector{Set{DynamicPPL.Selector}}}, DynamicPPL.Metadata{Dict{AbstractPPL.VarName{:h, Setfield.IdentityLens}, Int64}, Vector{Uniform{Float64}}, Vector{AbstractPPL.VarName{:h, Setfield.IdentityLens}}, Vector{Float64}, Vector{Set{DynamicPPL.Selector}}}, DynamicPPL.Metadata{Dict{AbstractPPL.VarName{:s8, Setfield.IdentityLens}, Int64}, Vector{Uniform{Float64}}, Vector{AbstractPPL.VarName{:s8, Setfield.IdentityLens}}, Vector{Float64}, Vector{Set{DynamicPPL.Selector}}}, DynamicPPL.Metadata{Dict{AbstractPPL.VarName{:ns, Setfield.IdentityLens}, Int64}, Vector{Uniform{Float64}}, Vector{AbstractPPL.VarName{:ns, Setfield.IdentityLens}}, Vector{Float64}, Vector{Set{DynamicPPL.Selector}}}, DynamicPPL.Metadata{Dict{AbstractPPL.VarName{:A_IA, Setfield.IdentityLens}, Int64}, Vector{Uniform{Float64}}, Vector{AbstractPPL.VarName{:A_IA, Setfield.IdentityLens}}, Vector{Float64}, Vector{Set{DynamicPPL.Selector}}}, DynamicPPL.Metadata{Dict{AbstractPPL.VarName{:alpha_IA, Setfield.IdentityLens}, Int64}, Vector{Uniform{Float64}}, Vector{AbstractPPL.VarName{:alpha_IA, Setfield.IdentityLens}}, Vector{Float64}, Vector{Set{DynamicPPL.Selector}}}, DynamicPPL.Metadata{Dict{AbstractPPL.VarName{:DESwl__0_e_dz, Setfield.IdentityLens}, Int64}, Vector{Truncated{Normal{Float64}, Continuous, Float64}}, Vector{AbstractPPL.VarName{:DESwl__0_e_dz, Setfield.IdentityLens}}, Vector{Float64}, Vector{Set{DynamicPPL.Selector}}}, DynamicPPL.Metadata{Dict{AbstractPPL.VarName{:DESwl__1_e_dz, Setfield.IdentityLens}, Int64}, Vector{Truncated{Normal{Float64}, Continuous, Float64}}, Vector{AbstractPPL.VarName{:DESwl__1_e_dz, Setfield.IdentityLens}}, Vector{Float64}, Vector{Set{DynamicPPL.Selector}}}, DynamicPPL.Metadata{Dict{AbstractPPL.VarName{:DESwl__2_e_dz, Setfield.IdentityLens}, Int64}, Vector{Truncated{Normal{Float64}, Continuous, Float64}}, Vector{AbstractPPL.VarName{:DESwl__2_e_dz, Setfield.IdentityLens}}, Vector{Float64}, Vector{Set{DynamicPPL.Selector}}}, DynamicPPL.Metadata{Dict{AbstractPPL.VarName{:DESwl__3_e_dz, Setfield.IdentityLens}, Int64}, Vector{Truncated{Normal{Float64}, Continuous, Float64}}, Vector{AbstractPPL.VarName{:DESwl__3_e_dz, Setfield.IdentityLens}}, Vector{Float64}, Vector{Set{DynamicPPL.Selector}}}, DynamicPPL.Metadata{Dict{AbstractPPL.VarName{:DESwl__0_e_m, Setfield.IdentityLens}, Int64}, Vector{Normal{Float64}}, Vector{AbstractPPL.VarName{:DESwl__0_e_m, Setfield.IdentityLens}}, Vector{Float64}, Vector{Set{DynamicPPL.Selector}}}, DynamicPPL.Metadata{Dict{AbstractPPL.VarName{:DESwl__1_e_m, Setfield.IdentityLens}, Int64}, Vector{Normal{Float64}}, Vector{AbstractPPL.VarName{:DESwl__1_e_m, Setfield.IdentityLens}}, Vector{Float64}, Vector{Set{DynamicPPL.Selector}}}, DynamicPPL.Metadata{Dict{AbstractPPL.VarName{:DESwl__2_e_m, Setfield.IdentityLens}, Int64}, Vector{Normal{Float64}}, Vector{AbstractPPL.VarName{:DESwl__2_e_m, Setfield.IdentityLens}}, Vector{Float64}, Vector{Set{DynamicPPL.Selector}}}, DynamicPPL.Metadata{Dict{AbstractPPL.VarName{:DESwl__3_e_m, Setfield.IdentityLens}, Int64}, Vector{Normal{Float64}}, Vector{AbstractPPL.VarName{:DESwl__3_e_m, Setfield.IdentityLens}}, Vector{Float64}, Vector{Set{DynamicPPL.Selector}}}}}, Float64}, AdvancedHMC.HMCKernel{AdvancedHMC.FullMomentumRefreshment, AdvancedHMC.Trajectory{AdvancedHMC.MultinomialTS, AdvancedHMC.Leapfrog{Float64}, AdvancedHMC.GeneralisedNoUTurn{Float64}}}, AdvancedHMC.Hamiltonian{AdvancedHMC.DiagEuclideanMetric{Float64, Vector{Float64}}, Base.Fix1{typeof(LogDensityProblems.logdensity), LogDensityProblems.ForwardDiffLogDensity{Turing.LogDensityFunction{DynamicPPL.TypedVarInfo{NamedTuple{(:Ωm, :Ωb, :h, :s8, :ns, :A_IA, :alpha_IA, :DESwl__0_e_dz, :DESwl__1_e_dz, :DESwl__2_e_dz, :DESwl__3_e_dz, :DESwl__0_e_m, :DESwl__1_e_m, :DESwl__2_e_m, :DESwl__3_e_m), Tuple{DynamicPPL.Metadata{Dict{AbstractPPL.VarName{:Ωm, Setfield.IdentityLens}, Int64}, Vector{Uniform{Float64}}, Vector{AbstractPPL.VarName{:Ωm, Setfield.IdentityLens}}, Vector{Float64}, Vector{Set{DynamicPPL.Selector}}}, DynamicPPL.Metadata{Dict{AbstractPPL.VarName{:Ωb, Setfield.IdentityLens}, Int64}, Vector{Uniform{Float64}}, Vector{AbstractPPL.VarName{:Ωb, Setfield.IdentityLens}}, Vector{Float64}, Vector{Set{DynamicPPL.Selector}}}, DynamicPPL.Metadata{Dict{AbstractPPL.VarName{:h, Setfield.IdentityLens}, Int64}, Vector{Uniform{Float64}}, Vector{AbstractPPL.VarName{:h, Setfield.IdentityLens}}, Vector{Float64}, Vector{Set{DynamicPPL.Selector}}}, DynamicPPL.Metadata{Dict{AbstractPPL.VarName{:s8, Setfield.IdentityLens}, Int64}, Vector{Uniform{Float64}}, Vector{AbstractPPL.VarName{:s8, Setfield.IdentityLens}}, Vector{Float64}, Vector{Set{DynamicPPL.Selector}}}, DynamicPPL.Metadata{Dict{AbstractPPL.VarName{:ns, Setfield.IdentityLens}, Int64}, Vector{Uniform{Float64}}, Vector{AbstractPPL.VarName{:ns, Setfield.IdentityLens}}, Vector{Float64}, Vector{Set{DynamicPPL.Selector}}}, DynamicPPL.Metadata{Dict{AbstractPPL.VarName{:A_IA, Setfield.IdentityLens}, Int64}, Vector{Uniform{Float64}}, Vector{AbstractPPL.VarName{:A_IA, Setfield.IdentityLens}}, Vector{Float64}, Vector{Set{DynamicPPL.Selector}}}, DynamicPPL.Metadata{Dict{AbstractPPL.VarName{:alpha_IA, Setfield.IdentityLens}, Int64}, Vector{Uniform{Float64}}, Vector{AbstractPPL.VarName{:alpha_IA, Setfield.IdentityLens}}, Vector{Float64}, Vector{Set{DynamicPPL.Selector}}}, DynamicPPL.Metadata{Dict{AbstractPPL.VarName{:DESwl__0_e_dz, Setfield.IdentityLens}, Int64}, Vector{Truncated{Normal{Float64}, Continuous, Float64}}, Vector{AbstractPPL.VarName{:DESwl__0_e_dz, Setfield.IdentityLens}}, Vector{Float64}, Vector{Set{DynamicPPL.Selector}}}, DynamicPPL.Metadata{Dict{AbstractPPL.VarName{:DESwl__1_e_dz, Setfield.IdentityLens}, Int64}, Vector{Truncated{Normal{Float64}, Continuous, Float64}}, Vector{AbstractPPL.VarName{:DESwl__1_e_dz, Setfield.IdentityLens}}, Vector{Float64}, Vector{Set{DynamicPPL.Selector}}}, DynamicPPL.Metadata{Dict{AbstractPPL.VarName{:DESwl__2_e_dz, Setfield.IdentityLens}, Int64}, Vector{Truncated{Normal{Float64}, Continuous, Float64}}, Vector{AbstractPPL.VarName{:DESwl__2_e_dz, Setfield.IdentityLens}}, Vector{Float64}, Vector{Set{DynamicPPL.Selector}}}, DynamicPPL.Metadata{Dict{AbstractPPL.VarName{:DESwl__3_e_dz, Setfield.IdentityLens}, Int64}, Vector{Truncated{Normal{Float64}, Continuous, Float64}}, Vector{AbstractPPL.VarName{:DESwl__3_e_dz, Setfield.IdentityLens}}, Vector{Float64}, Vector{Set{DynamicPPL.Selector}}}, DynamicPPL.Metadata{Dict{AbstractPPL.VarName{:DESwl__0_e_m, Setfield.IdentityLens}, Int64}, Vector{Normal{Float64}}, Vector{AbstractPPL.VarName{:DESwl__0_e_m, Setfield.IdentityLens}}, Vector{Float64}, Vector{Set{DynamicPPL.Selector}}}, DynamicPPL.Metadata{Dict{AbstractPPL.VarName{:DESwl__1_e_m, Setfield.IdentityLens}, Int64}, Vector{Normal{Float64}}, Vector{AbstractPPL.VarName{:DESwl__1_e_m, Setfield.IdentityLens}}, Vector{Float64}, Vector{Set{DynamicPPL.Selector}}}, DynamicPPL.Metadata{Dict{AbstractPPL.VarName{:DESwl__2_e_m, Setfield.IdentityLens}, Int64}, Vector{Normal{Float64}}, Vector{AbstractPPL.VarName{:DESwl__2_e_m, Setfield.IdentityLens}}, Vector{Float64}, Vector{Set{DynamicPPL.Selector}}}, DynamicPPL.Metadata{Dict{AbstractPPL.VarName{:DESwl__3_e_m, Setfield.IdentityLens}, Int64}, Vector{Normal{Float64}}, Vector{AbstractPPL.VarName{:DESwl__3_e_m, Setfield.IdentityLens}}, Vector{Float64}, Vector{Set{DynamicPPL.Selector}}}}}, Float64}, DynamicPPL.Model{typeof(model), (:data_vector, :tracers_names, :pairs, :pairs_id, :idx, :cov_tot, :files), (:tracers_names, :pairs, :pairs_id, :idx, :cov_tot, :files), (), Tuple{Vector{Float64}, Vector{String}, Vector{Vector{String}}, Vector{Vector{Int64}}, Vector{Int64}, Matrix{Float64}, Dict{String, Array{Float64}}}, Tuple{Vector{String}, Vector{Vector{String}}, Vector{Vector{Int64}}, Vector{Int64}, Matrix{Float64}, Dict{String, Array{Float64}}}, DynamicPPL.DefaultContext}, DynamicPPL.Sampler{NUTS{Turing.Essential.ForwardDiffAD{0}, (), AdvancedHMC.DiagEuclideanMetric}}, DynamicPPL.DefaultContext}, ForwardDiff.GradientConfig{ForwardDiff.Tag{Turing.TuringTag, Float64}, Float64, 8, Vector{ForwardDiff.Dual{ForwardDiff.Tag{Turing.TuringTag, Float64}, Float64, 8}}}}}, Turing.Inference.var\"#∂logπ∂θ#44\"{LogDensityProblems.ForwardDiffLogDensity{Turing.LogDensityFunction{DynamicPPL.TypedVarInfo{NamedTuple{(:Ωm, :Ωb, :h, :s8, :ns, :A_IA, :alpha_IA, :DESwl__0_e_dz, :DESwl__1_e_dz, :DESwl__2_e_dz, :DESwl__3_e_dz, :DESwl__0_e_m, :DESwl__1_e_m, :DESwl__2_e_m, :DESwl__3_e_m), Tuple{DynamicPPL.Metadata{Dict{AbstractPPL.VarName{:Ωm, Setfield.IdentityLens}, Int64}, Vector{Uniform{Float64}}, Vector{AbstractPPL.VarName{:Ωm, Setfield.IdentityLens}}, Vector{Float64}, Vector{Set{DynamicPPL.Selector}}}, DynamicPPL.Metadata{Dict{AbstractPPL.VarName{:Ωb, Setfield.IdentityLens}, Int64}, Vector{Uniform{Float64}}, Vector{AbstractPPL.VarName{:Ωb, Setfield.IdentityLens}}, Vector{Float64}, Vector{Set{DynamicPPL.Selector}}}, DynamicPPL.Metadata{Dict{AbstractPPL.VarName{:h, Setfield.IdentityLens}, Int64}, Vector{Uniform{Float64}}, Vector{AbstractPPL.VarName{:h, Setfield.IdentityLens}}, Vector{Float64}, Vector{Set{DynamicPPL.Selector}}}, DynamicPPL.Metadata{Dict{AbstractPPL.VarName{:s8, Setfield.IdentityLens}, Int64}, Vector{Uniform{Float64}}, Vector{AbstractPPL.VarName{:s8, Setfield.IdentityLens}}, Vector{Float64}, Vector{Set{DynamicPPL.Selector}}}, DynamicPPL.Metadata{Dict{AbstractPPL.VarName{:ns, Setfield.IdentityLens}, Int64}, Vector{Uniform{Float64}}, Vector{AbstractPPL.VarName{:ns, Setfield.IdentityLens}}, Vector{Float64}, Vector{Set{DynamicPPL.Selector}}}, DynamicPPL.Metadata{Dict{AbstractPPL.VarName{:A_IA, Setfield.IdentityLens}, Int64}, Vector{Uniform{Float64}}, Vector{AbstractPPL.VarName{:A_IA, Setfield.IdentityLens}}, Vector{Float64}, Vector{Set{DynamicPPL.Selector}}}, DynamicPPL.Metadata{Dict{AbstractPPL.VarName{:alpha_IA, Setfield.IdentityLens}, Int64}, Vector{Uniform{Float64}}, Vector{AbstractPPL.VarName{:alpha_IA, Setfield.IdentityLens}}, Vector{Float64}, Vector{Set{DynamicPPL.Selector}}}, DynamicPPL.Metadata{Dict{AbstractPPL.VarName{:DESwl__0_e_dz, Setfield.IdentityLens}, Int64}, Vector{Truncated{Normal{Float64}, Continuous, Float64}}, Vector{AbstractPPL.VarName{:DESwl__0_e_dz, Setfield.IdentityLens}}, Vector{Float64}, Vector{Set{DynamicPPL.Selector}}}, DynamicPPL.Metadata{Dict{AbstractPPL.VarName{:DESwl__1_e_dz, Setfield.IdentityLens}, Int64}, Vector{Truncated{Normal{Float64}, Continuous, Float64}}, Vector{AbstractPPL.VarName{:DESwl__1_e_dz, Setfield.IdentityLens}}, Vector{Float64}, Vector{Set{DynamicPPL.Selector}}}, DynamicPPL.Metadata{Dict{AbstractPPL.VarName{:DESwl__2_e_dz, Setfield.IdentityLens}, Int64}, Vector{Truncated{Normal{Float64}, Continuous, Float64}}, Vector{AbstractPPL.VarName{:DESwl__2_e_dz, Setfield.IdentityLens}}, Vector{Float64}, Vector{Set{DynamicPPL.Selector}}}, DynamicPPL.Metadata{Dict{AbstractPPL.VarName{:DESwl__3_e_dz, Setfield.IdentityLens}, Int64}, Vector{Truncated{Normal{Float64}, Continuous, Float64}}, Vector{AbstractPPL.VarName{:DESwl__3_e_dz, Setfield.IdentityLens}}, Vector{Float64}, Vector{Set{DynamicPPL.Selector}}}, DynamicPPL.Metadata{Dict{AbstractPPL.VarName{:DESwl__0_e_m, Setfield.IdentityLens}, Int64}, Vector{Normal{Float64}}, Vector{AbstractPPL.VarName{:DESwl__0_e_m, Setfield.IdentityLens}}, Vector{Float64}, Vector{Set{DynamicPPL.Selector}}}, DynamicPPL.Metadata{Dict{AbstractPPL.VarName{:DESwl__1_e_m, Setfield.IdentityLens}, Int64}, Vector{Normal{Float64}}, Vector{AbstractPPL.VarName{:DESwl__1_e_m, Setfield.IdentityLens}}, Vector{Float64}, Vector{Set{DynamicPPL.Selector}}}, DynamicPPL.Metadata{Dict{AbstractPPL.VarName{:DESwl__2_e_m, Setfield.IdentityLens}, Int64}, Vector{Normal{Float64}}, Vector{AbstractPPL.VarName{:DESwl__2_e_m, Setfield.IdentityLens}}, Vector{Float64}, Vector{Set{DynamicPPL.Selector}}}, DynamicPPL.Metadata{Dict{AbstractPPL.VarName{:DESwl__3_e_m, Setfield.IdentityLens}, Int64}, Vector{Normal{Float64}}, Vector{AbstractPPL.VarName{:DESwl__3_e_m, Setfield.IdentityLens}}, Vector{Float64}, Vector{Set{DynamicPPL.Selector}}}}}, Float64}, DynamicPPL.Model{typeof(model), (:data_vector, :tracers_names, :pairs, :pairs_id, :idx, :cov_tot, :files), (:tracers_names, :pairs, :pairs_id, :idx, :cov_tot, :files), (), Tuple{Vector{Float64}, Vector{String}, Vector{Vector{String}}, Vector{Vector{Int64}}, Vector{Int64}, Matrix{Float64}, Dict{String, Array{Float64}}}, Tuple{Vector{String}, Vector{Vector{String}}, Vector{Vector{Int64}}, Vector{Int64}, Matrix{Float64}, Dict{String, Array{Float64}}}, DynamicPPL.DefaultContext}, DynamicPPL.Sampler{NUTS{Turing.Essential.ForwardDiffAD{0}, (), AdvancedHMC.DiagEuclideanMetric}}, DynamicPPL.DefaultContext}, ForwardDiff.GradientConfig{ForwardDiff.Tag{Turing.TuringTag, Float64}, Float64, 8, Vector{ForwardDiff.Dual{ForwardDiff.Tag{Turing.TuringTag, Float64}, Float64, 8}}}}}}, AdvancedHMC.PhasePoint{Vector{Float64}, AdvancedHMC.DualValue{Float64, Vector{Float64}}}, AdvancedHMC.Adaptation.StanHMCAdaptor{AdvancedHMC.Adaptation.WelfordVar{Float64, Vector{Float64}}, AdvancedHMC.Adaptation.NesterovDualAveraging{Float64}}}; nadapts::Int64, kwargs::Base.Pairs{Symbol, Bool, Tuple{Symbol}, NamedTuple{(:save_state,), Tuple{Bool}}})",
      "    @ Turing.Inference ~/.julia/packages/Turing/szPqN/src/inference/hmc.jl:240",
      " [29] macro expansion",
      "    @ ~/.julia/packages/AbstractMCMC/fnRmh/src/sample.jl:131 [inlined]",
      " [30] macro expansion",
      "    @ ~/.julia/packages/ProgressLogging/6KXlp/src/ProgressLogging.jl:328 [inlined]",
      " [31] (::AbstractMCMC.var\"#21#22\"{Bool, String, Nothing, Int64, Int64, Base.Pairs{Symbol, Integer, Tuple{Symbol, Symbol}, NamedTuple{(:nadapts, :save_state), Tuple{Int64, Bool}}}, Random._GLOBAL_RNG, DynamicPPL.Model{typeof(model), (:data_vector, :tracers_names, :pairs, :pairs_id, :idx, :cov_tot, :files), (:tracers_names, :pairs, :pairs_id, :idx, :cov_tot, :files), (), Tuple{Vector{Float64}, Vector{String}, Vector{Vector{String}}, Vector{Vector{Int64}}, Vector{Int64}, Matrix{Float64}, Dict{String, Array{Float64}}}, Tuple{Vector{String}, Vector{Vector{String}}, Vector{Vector{Int64}}, Vector{Int64}, Matrix{Float64}, Dict{String, Array{Float64}}}, DynamicPPL.DefaultContext}, DynamicPPL.Sampler{NUTS{Turing.Essential.ForwardDiffAD{0}, (), AdvancedHMC.DiagEuclideanMetric}}, Int64, Int64})()",
      "    @ AbstractMCMC ~/.julia/packages/AbstractMCMC/fnRmh/src/logging.jl:12",
      " [32] with_logstate(f::Function, logstate::Any)",
      "    @ Base.CoreLogging ./logging.jl:511",
      " [33] with_logger(f::Function, logger::LoggingExtras.TeeLogger{Tuple{LoggingExtras.EarlyFilteredLogger{ConsoleProgressMonitor.ProgressLogger, AbstractMCMC.var\"#1#3\"{Module}}, LoggingExtras.EarlyFilteredLogger{Base.CoreLogging.SimpleLogger, AbstractMCMC.var\"#2#4\"{Module}}}})",
      "    @ Base.CoreLogging ./logging.jl:623",
      " [34] with_progresslogger(f::Function, _module::Module, logger::Base.CoreLogging.SimpleLogger)",
      "    @ AbstractMCMC ~/.julia/packages/AbstractMCMC/fnRmh/src/logging.jl:36",
      " [35] macro expansion",
      "    @ ~/.julia/packages/AbstractMCMC/fnRmh/src/logging.jl:11 [inlined]",
      " [36] mcmcsample(rng::Random._GLOBAL_RNG, model::DynamicPPL.Model{typeof(model), (:data_vector, :tracers_names, :pairs, :pairs_id, :idx, :cov_tot, :files), (:tracers_names, :pairs, :pairs_id, :idx, :cov_tot, :files), (), Tuple{Vector{Float64}, Vector{String}, Vector{Vector{String}}, Vector{Vector{Int64}}, Vector{Int64}, Matrix{Float64}, Dict{String, Array{Float64}}}, Tuple{Vector{String}, Vector{Vector{String}}, Vector{Vector{Int64}}, Vector{Int64}, Matrix{Float64}, Dict{String, Array{Float64}}}, DynamicPPL.DefaultContext}, sampler::DynamicPPL.Sampler{NUTS{Turing.Essential.ForwardDiffAD{0}, (), AdvancedHMC.DiagEuclideanMetric}}, N::Int64; progress::Bool, progressname::String, callback::Nothing, discard_initial::Int64, thinning::Int64, chain_type::Type, kwargs::Base.Pairs{Symbol, Integer, Tuple{Symbol, Symbol}, NamedTuple{(:nadapts, :save_state), Tuple{Int64, Bool}}})",
      "    @ AbstractMCMC ~/.julia/packages/AbstractMCMC/fnRmh/src/sample.jl:111",
      " [37] sample(rng::Random._GLOBAL_RNG, model::DynamicPPL.Model{typeof(model), (:data_vector, :tracers_names, :pairs, :pairs_id, :idx, :cov_tot, :files), (:tracers_names, :pairs, :pairs_id, :idx, :cov_tot, :files), (), Tuple{Vector{Float64}, Vector{String}, Vector{Vector{String}}, Vector{Vector{Int64}}, Vector{Int64}, Matrix{Float64}, Dict{String, Array{Float64}}}, Tuple{Vector{String}, Vector{Vector{String}}, Vector{Vector{Int64}}, Vector{Int64}, Matrix{Float64}, Dict{String, Array{Float64}}}, DynamicPPL.DefaultContext}, sampler::DynamicPPL.Sampler{NUTS{Turing.Essential.ForwardDiffAD{0}, (), AdvancedHMC.DiagEuclideanMetric}}, N::Int64; chain_type::Type, resume_from::Nothing, progress::Bool, nadapts::Int64, discard_adapt::Bool, discard_initial::Int64, kwargs::Base.Pairs{Symbol, Bool, Tuple{Symbol}, NamedTuple{(:save_state,), Tuple{Bool}}})",
      "    @ Turing.Inference ~/.julia/packages/Turing/szPqN/src/inference/hmc.jl:133",
      " [38] #sample#2",
      "    @ ~/.julia/packages/Turing/szPqN/src/inference/Inference.jl:145 [inlined]",
      " [39] #sample#1",
      "    @ ~/.julia/packages/Turing/szPqN/src/inference/Inference.jl:135 [inlined]",
      " [40] top-level scope",
      "    @ In[19]:1",
      " [41] eval",
      "    @ ./boot.jl:373 [inlined]",
      " [42] include_string(mapexpr::typeof(REPL.softscope), mod::Module, code::String, filename::String)",
      "    @ Base ./loading.jl:1196"
     ]
    }
   ],
   "source": [
    "chain = sample(stat_model, NUTS(100, 0.6), 100,\n",
    "                progress=true; save_state=true);"
   ]
  },
  {
   "cell_type": "code",
   "execution_count": 32,
   "id": "64abea06",
   "metadata": {},
   "outputs": [
    {
     "ename": "LoadError",
     "evalue": "MethodError: no method matching PDMats.PDMat(::Hermitian{Float64, Matrix{Float64}})\n\u001b[0mClosest candidates are:\n\u001b[0m  PDMats.PDMat(::AbstractMatrix, \u001b[91m::Cholesky{T, S}\u001b[39m) where {T, S} at ~/.julia/packages/PDMats/G0Prn/src/pdmat.jl:12\n\u001b[0m  PDMats.PDMat(\u001b[91m::Cholesky\u001b[39m) at ~/.julia/packages/PDMats/G0Prn/src/pdmat.jl:21\n\u001b[0m  PDMats.PDMat(\u001b[91m::Symmetric\u001b[39m) at ~/.julia/packages/PDMats/G0Prn/src/pdmat.jl:20\n\u001b[0m  ...",
     "output_type": "error",
     "traceback": [
      "MethodError: no method matching PDMats.PDMat(::Hermitian{Float64, Matrix{Float64}})\n\u001b[0mClosest candidates are:\n\u001b[0m  PDMats.PDMat(::AbstractMatrix, \u001b[91m::Cholesky{T, S}\u001b[39m) where {T, S} at ~/.julia/packages/PDMats/G0Prn/src/pdmat.jl:12\n\u001b[0m  PDMats.PDMat(\u001b[91m::Cholesky\u001b[39m) at ~/.julia/packages/PDMats/G0Prn/src/pdmat.jl:21\n\u001b[0m  PDMats.PDMat(\u001b[91m::Symmetric\u001b[39m) at ~/.julia/packages/PDMats/G0Prn/src/pdmat.jl:20\n\u001b[0m  ...",
      "",
      "Stacktrace:",
      "  [1] MvNormal(μ::Vector{Float64}, Σ::Hermitian{Float64, Matrix{Float64}})",
      "    @ Distributions ~/.julia/packages/Distributions/jFoHB/src/multivariate/mvnormal.jl:211",
      "  [2] #2",
      "    @ ./In[29]:9 [inlined]",
      "  [3] (::var\"#2#3\")(__rng__::Random._GLOBAL_RNG, __model__::DynamicPPL.Model{var\"#2#3\", (:data_vector, :cov_tot, :nz_path), (:cov_tot, :nz_path), (), Tuple{Vector{Float64}, Matrix{Float64}, String}, Tuple{Matrix{Float64}, String}}, __varinfo__::DynamicPPL.ThreadSafeVarInfo{DynamicPPL.UntypedVarInfo{DynamicPPL.Metadata{Dict{AbstractPPL.VarName, Int64}, Vector{Distribution}, Vector{AbstractPPL.VarName}, Vector{Real}, Vector{Set{DynamicPPL.Selector}}}, Float64}, Vector{Base.RefValue{Float64}}}, __sampler__::DynamicPPL.SampleFromPrior, __context__::DynamicPPL.DefaultContext, data_vector::Vector{Float64}, cov_tot::Matrix{Float64}, nz_path::String)",
      "    @ Main ./none:0",
      "  [4] macro expansion",
      "    @ ~/.julia/packages/DynamicPPL/SgzCy/src/model.jl:0 [inlined]",
      "  [5] _evaluate",
      "    @ ~/.julia/packages/DynamicPPL/SgzCy/src/model.jl:154 [inlined]",
      "  [6] evaluate_threadsafe(rng::Random._GLOBAL_RNG, model::DynamicPPL.Model{var\"#2#3\", (:data_vector, :cov_tot, :nz_path), (:cov_tot, :nz_path), (), Tuple{Vector{Float64}, Matrix{Float64}, String}, Tuple{Matrix{Float64}, String}}, varinfo::DynamicPPL.UntypedVarInfo{DynamicPPL.Metadata{Dict{AbstractPPL.VarName, Int64}, Vector{Distribution}, Vector{AbstractPPL.VarName}, Vector{Real}, Vector{Set{DynamicPPL.Selector}}}, Float64}, sampler::DynamicPPL.SampleFromPrior, context::DynamicPPL.DefaultContext)",
      "    @ DynamicPPL ~/.julia/packages/DynamicPPL/SgzCy/src/model.jl:144",
      "  [7] Model",
      "    @ ~/.julia/packages/DynamicPPL/SgzCy/src/model.jl:94 [inlined]",
      "  [8] VarInfo",
      "    @ ~/.julia/packages/DynamicPPL/SgzCy/src/varinfo.jl:126 [inlined]",
      "  [9] VarInfo",
      "    @ ~/.julia/packages/DynamicPPL/SgzCy/src/varinfo.jl:125 [inlined]",
      " [10] step(rng::Random._GLOBAL_RNG, model::DynamicPPL.Model{var\"#2#3\", (:data_vector, :cov_tot, :nz_path), (:cov_tot, :nz_path), (), Tuple{Vector{Float64}, Matrix{Float64}, String}, Tuple{Matrix{Float64}, String}}, spl::DynamicPPL.Sampler{MH{(), NamedTuple{(), Tuple{}}}}; resume_from::Nothing, kwargs::Base.Pairs{Symbol, Integer, Tuple{Symbol, Symbol}, NamedTuple{(:nadapt, :save_state), Tuple{Int64, Bool}}})",
      "    @ DynamicPPL ~/.julia/packages/DynamicPPL/SgzCy/src/sampler.jl:73",
      " [11] macro expansion",
      "    @ ~/.julia/packages/AbstractMCMC/oou1a/src/sample.jl:97 [inlined]",
      " [12] macro expansion",
      "    @ ~/.julia/packages/ProgressLogging/6KXlp/src/ProgressLogging.jl:328 [inlined]",
      " [13] (::AbstractMCMC.var\"#20#21\"{Bool, String, Nothing, Int64, Int64, Base.Pairs{Symbol, Integer, Tuple{Symbol, Symbol}, NamedTuple{(:nadapt, :save_state), Tuple{Int64, Bool}}}, Random._GLOBAL_RNG, DynamicPPL.Model{var\"#2#3\", (:data_vector, :cov_tot, :nz_path), (:cov_tot, :nz_path), (), Tuple{Vector{Float64}, Matrix{Float64}, String}, Tuple{Matrix{Float64}, String}}, DynamicPPL.Sampler{MH{(), NamedTuple{(), Tuple{}}}}, Int64, Int64})()",
      "    @ AbstractMCMC ~/.julia/packages/AbstractMCMC/oou1a/src/logging.jl:11",
      " [14] with_logstate(f::Function, logstate::Any)",
      "    @ Base.CoreLogging ./logging.jl:511",
      " [15] with_logger(f::Function, logger::LoggingExtras.TeeLogger{Tuple{LoggingExtras.EarlyFilteredLogger{ConsoleProgressMonitor.ProgressLogger, AbstractMCMC.var\"#1#3\"{Module}}, LoggingExtras.EarlyFilteredLogger{Base.CoreLogging.SimpleLogger, AbstractMCMC.var\"#2#4\"{Module}}}})",
      "    @ Base.CoreLogging ./logging.jl:623",
      " [16] with_progresslogger(f::Function, _module::Module, logger::Base.CoreLogging.SimpleLogger)",
      "    @ AbstractMCMC ~/.julia/packages/AbstractMCMC/oou1a/src/logging.jl:34",
      " [17] macro expansion",
      "    @ ~/.julia/packages/AbstractMCMC/oou1a/src/logging.jl:10 [inlined]",
      " [18] mcmcsample(rng::Random._GLOBAL_RNG, model::DynamicPPL.Model{var\"#2#3\", (:data_vector, :cov_tot, :nz_path), (:cov_tot, :nz_path), (), Tuple{Vector{Float64}, Matrix{Float64}, String}, Tuple{Matrix{Float64}, String}}, sampler::DynamicPPL.Sampler{MH{(), NamedTuple{(), Tuple{}}}}, N::Int64; progress::Bool, progressname::String, callback::Nothing, discard_initial::Int64, thinning::Int64, chain_type::Type, kwargs::Base.Pairs{Symbol, Integer, Tuple{Symbol, Symbol}, NamedTuple{(:nadapt, :save_state), Tuple{Int64, Bool}}})",
      "    @ AbstractMCMC ~/.julia/packages/AbstractMCMC/oou1a/src/sample.jl:88",
      " [19] sample(rng::Random._GLOBAL_RNG, model::DynamicPPL.Model{var\"#2#3\", (:data_vector, :cov_tot, :nz_path), (:cov_tot, :nz_path), (), Tuple{Vector{Float64}, Matrix{Float64}, String}, Tuple{Matrix{Float64}, String}}, sampler::DynamicPPL.Sampler{MH{(), NamedTuple{(), Tuple{}}}}, N::Int64; chain_type::Type, resume_from::Nothing, progress::Bool, kwargs::Base.Pairs{Symbol, Integer, Tuple{Symbol, Symbol}, NamedTuple{(:nadapt, :save_state), Tuple{Int64, Bool}}})",
      "    @ Turing.Inference ~/.julia/packages/Turing/uAz5c/src/inference/Inference.jl:156",
      " [20] #sample#2",
      "    @ ~/.julia/packages/Turing/uAz5c/src/inference/Inference.jl:142 [inlined]",
      " [21] #sample#1",
      "    @ ~/.julia/packages/Turing/uAz5c/src/inference/Inference.jl:132 [inlined]",
      " [22] top-level scope",
      "    @ In[32]:1",
      " [23] eval",
      "    @ ./boot.jl:373 [inlined]",
      " [24] include_string(mapexpr::typeof(REPL.softscope), mod::Module, code::String, filename::String)",
      "    @ Base ./loading.jl:1196"
     ]
    }
   ],
   "source": [
    "chain1 = sample(model(data_vector), MH(), iterations,\n",
    "            nadapt=nadapts, progress=true; save_state=true);"
   ]
  },
  {
   "cell_type": "code",
   "execution_count": null,
   "id": "a94c9c61",
   "metadata": {},
   "outputs": [],
   "source": []
  }
 ],
 "metadata": {
  "kernelspec": {
   "display_name": "Julia 4 Threads 1.7.0",
   "language": "julia",
   "name": "julia-4-threads-1.7"
  },
  "language_info": {
   "file_extension": ".jl",
   "mimetype": "application/julia",
   "name": "julia",
   "version": "1.7.0"
  }
 },
 "nbformat": 4,
 "nbformat_minor": 5
}
