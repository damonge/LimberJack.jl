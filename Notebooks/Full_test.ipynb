{
 "cells": [
  {
   "cell_type": "markdown",
   "id": "038cf129",
   "metadata": {},
   "source": [
    "# Tests"
   ]
  },
  {
   "cell_type": "code",
   "execution_count": 8,
   "id": "02df9ee7",
   "metadata": {},
   "outputs": [
    {
     "data": {
      "text/plain": [
       ":zygote"
      ]
     },
     "execution_count": 8,
     "metadata": {},
     "output_type": "execute_result"
    }
   ],
   "source": [
    "using LinearAlgebra\n",
    "using Turing\n",
    "using LimberJack\n",
    "using PythonCall\n",
    "using NPZ\n",
    "using Zygote\n",
    "Turing.setadbackend(:zygote)"
   ]
  },
  {
   "cell_type": "code",
   "execution_count": 9,
   "id": "a74170be",
   "metadata": {},
   "outputs": [],
   "source": [
    "np = pyimport(\"numpy\");"
   ]
  },
  {
   "cell_type": "code",
   "execution_count": 10,
   "id": "9f10e109",
   "metadata": {},
   "outputs": [],
   "source": [
    "meta = np.load(\"../data/FD/FD_meta.npz\")\n",
    "tracers_names = pyconvert(Vector{String}, meta[\"tracers\"])\n",
    "pairs = pyconvert(Vector{Vector{String}}, meta[\"pairs\"])\n",
    "pairs_ids = pyconvert(Vector{Vector{Int}}, meta[\"pairs_ids\"])\n",
    "idx = pyconvert(Vector{Int}, meta[\"idx\"])\n",
    "data_vector = pyconvert(Vector{Float64}, meta[\"cls\"])\n",
    "cov_tot = pyconvert(Matrix{Float64}, meta[\"cov\"])\n",
    "inv_cov_tot = pyconvert(Matrix{Float64}, meta[\"inv_cov\"]);"
   ]
  },
  {
   "cell_type": "code",
   "execution_count": 11,
   "id": "35b3fa65",
   "metadata": {},
   "outputs": [],
   "source": [
    "files = npzread(\"../data/FD/FD_files.npz\");"
   ]
  },
  {
   "cell_type": "markdown",
   "id": "7ca01ddd",
   "metadata": {
    "heading_collapsed": true
   },
   "source": [
    "## Xi2"
   ]
  },
  {
   "cell_type": "code",
   "execution_count": 6,
   "id": "1f92d459",
   "metadata": {
    "hidden": true
   },
   "outputs": [],
   "source": [
    "pars = np.loadtxt(\"../chains/carlos_chains/cl_cross_corr_v3_DES_K1000_all_mag_correctMag/cl_cross_corr_v3_DES_K1000_all_mag_correctMag.bestfit\")\n",
    "pars = pyconvert(Vector{Float64}, pars);"
   ]
  },
  {
   "cell_type": "code",
   "execution_count": 7,
   "id": "a43f42a9",
   "metadata": {
    "hidden": true
   },
   "outputs": [],
   "source": [
    "cls_carlos_ND = np.load(\"../chains/carlos_chains/cl_cross_corr_v3_DES_K1000_all_mag_correctMag/cl_cross_corr_bestfit_info.npz\")\n",
    "cls_carlos_SD = np.load(\"../chains/carlos_chains/cl_cross_corr_v3_DES_K1000_all_mag_correctMag/cl_cross_corr_bestfit_info_copy.npz\")\n",
    "cls_carlos_FD = np.append(cls_carlos_SD[\"cls\"], cls_carlos_ND[\"cls\"])\n",
    "cls_carlos_FD = pyconvert(Vector{Float64}, cls_carlos_FD)\n",
    "carlos_chi = pyconvert(Float64, - (cls_carlos_ND[\"chi2\"] +  cls_carlos_SD[\"chi2\"]));"
   ]
  },
  {
   "cell_type": "code",
   "execution_count": 8,
   "id": "81b7ac69",
   "metadata": {
    "hidden": true
   },
   "outputs": [
    {
     "data": {
      "text/plain": [
       "make_cls (generic function with 1 method)"
      ]
     },
     "execution_count": 8,
     "metadata": {},
     "output_type": "execute_result"
    }
   ],
   "source": [
    "Ωm = pars[1] + pars[2]\n",
    "s8 = pars[46]\n",
    "function make_cls(pars; Ωm=Ωm, s8=s8)\n",
    "    nuisances = Dict(\"DESgc__0_0_b\" => pars[6],\n",
    "                     \"DESgc__1_0_b\" => pars[7],\n",
    "                     \"DESgc__2_0_b\" => pars[8],\n",
    "                     \"DESgc__3_0_b\" => pars[9],\n",
    "                     \"DESgc__4_0_b\" => pars[10],\n",
    "                     \"DESgc__0_0_dz\" => pars[11],\n",
    "                     \"DESgc__1_0_dz\" => pars[12],\n",
    "                     \"DESgc__2_0_dz\" => pars[13],\n",
    "                     \"DESgc__3_0_dz\" => pars[14],\n",
    "                     \"DESgc__4_0_dz\" => pars[15],\n",
    "        \n",
    "                     \"A_IA\" => pars[16],\n",
    "                     \"alpha_IA\" => pars[17],\n",
    "        \n",
    "                     \"DESwl__0_e_m\" => pars[18],\n",
    "                     \"DESwl__1_e_m\" => pars[19],\n",
    "                     \"DESwl__2_e_m\" => pars[20],\n",
    "                     \"DESwl__3_e_m\" => pars[21],\n",
    "                     \"DESwl__0_e_dz\" => pars[22],\n",
    "                     \"DESwl__1_e_dz\" => pars[23],\n",
    "                     \"DESwl__2_e_dz\" => pars[24],\n",
    "                     \"DESwl__3_e_dz\" => pars[25],\n",
    "        \n",
    "                     \"eBOSS__0_0_b\" => pars[26],\n",
    "                     \"eBOSS__1_0_b\" => pars[27],\n",
    "\n",
    "                     \"DECALS__0_0_b\" => pars[28],\n",
    "                     \"DECALS__1_0_b\" => pars[29],\n",
    "                     \"DECALS__2_0_b\" => pars[30],\n",
    "                     \"DECALS__3_0_b\" => pars[31],\n",
    "                     \"DECALS__0_0_dz\" => pars[32],\n",
    "                     \"DECALS__1_0_dz\" => pars[33],\n",
    "                     \"DECALS__2_0_dz\" => pars[34],\n",
    "                     \"DECALS__3_0_dz\" => pars[35],\n",
    "                    \n",
    "                     \"KiDS1000__0_e_m\" => pars[36],\n",
    "                     \"KiDS1000__1_e_m\" => pars[37],\n",
    "                     \"KiDS1000__2_e_m\" => pars[38],\n",
    "                     \"KiDS1000__3_e_m\" => pars[39],\n",
    "                     \"KiDS1000__4_e_m\" => pars[40],\n",
    "                     \"KiDS1000__0_e_dz\" => pars[41],\n",
    "                     \"KiDS1000__1_e_dz\" => pars[42],\n",
    "                     \"KiDS1000__2_e_dz\" => pars[43],\n",
    "                     \"KiDS1000__3_e_dz\" => pars[44],\n",
    "                     \"KiDS1000__4_e_dz\" => pars[45])\n",
    "\n",
    "    Ωb = pars[1]\n",
    "    h = pars[5]\n",
    "    ns = pars[4]\n",
    "    \n",
    "    cosmology = LimberJack.Cosmology(Ωm, Ωb, h, ns, s8, \n",
    "                                     tk_mode=\"emulator\", Pk_mode=\"Halofit\")\n",
    "\n",
    "    return Theory(cosmology,\n",
    "                  tracers_names, pairs,\n",
    "                  pairs_ids, idx, files;\n",
    "                  Nuisances=nuisances)\n",
    "\n",
    "end"
   ]
  },
  {
   "cell_type": "code",
   "execution_count": 9,
   "id": "78e357ab",
   "metadata": {
    "hidden": true
   },
   "outputs": [],
   "source": [
    "best_pred = make_cls(pars);"
   ]
  },
  {
   "cell_type": "code",
   "execution_count": null,
   "id": "1b6f3bc2",
   "metadata": {
    "hidden": true
   },
   "outputs": [],
   "source": []
  },
  {
   "cell_type": "code",
   "execution_count": 10,
   "id": "870a89d4",
   "metadata": {
    "hidden": true
   },
   "outputs": [
    {
     "data": {
      "text/plain": [
       "1528.7125068394703"
      ]
     },
     "execution_count": 10,
     "metadata": {},
     "output_type": "execute_result"
    }
   ],
   "source": [
    "best_Xi = dot((best_pred .- data_vector), inv_cov_tot  * (best_pred .- data_vector))"
   ]
  },
  {
   "cell_type": "code",
   "execution_count": 11,
   "id": "8b83e05b",
   "metadata": {
    "hidden": true
   },
   "outputs": [
    {
     "data": {
      "text/plain": [
       "1.241"
      ]
     },
     "execution_count": 11,
     "metadata": {},
     "output_type": "execute_result"
    }
   ],
   "source": [
    "reduced_best_Xi = round(best_Xi/(length(data_vector)-43), digits=3)"
   ]
  },
  {
   "cell_type": "markdown",
   "id": "6fca07c1",
   "metadata": {
    "heading_collapsed": true
   },
   "source": [
    "## Prior sampling"
   ]
  },
  {
   "cell_type": "code",
   "execution_count": 12,
   "id": "5383d836",
   "metadata": {
    "hidden": true
   },
   "outputs": [],
   "source": [
    "N_samples = 100\n",
    "cls_preds = zeros(N_samples, length(data_vector))\n",
    "for i in 1:N_samples\n",
    "    Ωm = rand(Uniform(0.1, 0.6))\n",
    "    s8 = rand(Uniform(0.6, 0.9))\n",
    "    cls_preds[i,:] = make_cls(pars; Ωm=Ωm, s8=s8)\n",
    "end"
   ]
  },
  {
   "cell_type": "code",
   "execution_count": 13,
   "id": "4d316b98",
   "metadata": {
    "hidden": true
   },
   "outputs": [],
   "source": [
    "cls_preds_m, cls_preds_s = mean(cls_preds, dims=1), std(cls_preds, dims=1);"
   ]
  },
  {
   "cell_type": "code",
   "execution_count": 14,
   "id": "99ac07d0",
   "metadata": {
    "hidden": true
   },
   "outputs": [],
   "source": [
    "npzwrite(\"jaime_cls.npz\", Dict(\"cls_m\" => cls_preds_m,\n",
    "                               \"cls_s\" => cls_preds_s))"
   ]
  },
  {
   "cell_type": "markdown",
   "id": "0f0ba5f7",
   "metadata": {},
   "source": [
    "## Turing"
   ]
  },
  {
   "cell_type": "code",
   "execution_count": 17,
   "id": "7325f732",
   "metadata": {},
   "outputs": [],
   "source": [
    "@model function model(data_vector::Vector{Float64})\n",
    "    Ωm ~ Uniform(0.1, 0.6)\n",
    "    Ωb = 0.05 #~ Uniform(0.03, 0.07)\n",
    "    h = 0.67 #~ Uniform(0.6, 0.9)\n",
    "    s8 = 0.81 #~ Uniform(0.6, 1.0)\n",
    "    ns = 0.96 #~ Uniform(0.87, 1.07)\n",
    "\n",
    "    cosmology = LimberJack.Cosmology(Ωm, Ωb, h, s8, s8,\n",
    "                                     tk_mode=\"EisHu\",\n",
    "                                     Pk_mode=\"linear\")\n",
    "    theory = Theory(cosmology,\n",
    "                    tracers_names, pairs,\n",
    "                    pairs_ids, idx, files)\n",
    "    data_vector ~ MvNormal(theory, cov_tot)\n",
    "    return data_vector\n",
    "end;"
   ]
  },
  {
   "cell_type": "code",
   "execution_count": 13,
   "id": "4a0dba7f",
   "metadata": {},
   "outputs": [],
   "source": [
    "iterations = 300\n",
    "nadapts = 100;"
   ]
  },
  {
   "cell_type": "code",
   "execution_count": 6,
   "id": "d81943ea",
   "metadata": {
    "scrolled": false
   },
   "outputs": [
    {
     "ename": "LoadError",
     "evalue": "UndefVarError: files not defined",
     "output_type": "error",
     "traceback": [
      "UndefVarError: files not defined",
      "",
      "Stacktrace:",
      "  [1] model(__model__::DynamicPPL.Model{typeof(model), (:data_vector,), (), (), Tuple{Vector{Float64}}, Tuple{}, DynamicPPL.DefaultContext}, __varinfo__::DynamicPPL.ThreadSafeVarInfo{DynamicPPL.UntypedVarInfo{DynamicPPL.Metadata{Dict{AbstractPPL.VarName, Int64}, Vector{Distribution}, Vector{AbstractPPL.VarName}, Vector{Real}, Vector{Set{DynamicPPL.Selector}}}, Float64}, Vector{Base.RefValue{Float64}}}, __context__::DynamicPPL.SamplingContext{DynamicPPL.SampleFromPrior, DynamicPPL.DefaultContext, Random._GLOBAL_RNG}, data_vector::Vector{Float64})",
      "    @ Main ./In[4]:11",
      "  [2] macro expansion",
      "    @ ~/.julia/packages/DynamicPPL/zPOYL/src/model.jl:593 [inlined]",
      "  [3] _evaluate!!",
      "    @ ~/.julia/packages/DynamicPPL/zPOYL/src/model.jl:576 [inlined]",
      "  [4] evaluate_threadsafe!!",
      "    @ ~/.julia/packages/DynamicPPL/zPOYL/src/model.jl:567 [inlined]",
      "  [5] evaluate!!",
      "    @ ~/.julia/packages/DynamicPPL/zPOYL/src/model.jl:502 [inlined]",
      "  [6] evaluate!!(model::DynamicPPL.Model{typeof(model), (:data_vector,), (), (), Tuple{Vector{Float64}}, Tuple{}, DynamicPPL.DefaultContext}, rng::Random._GLOBAL_RNG, varinfo::DynamicPPL.UntypedVarInfo{DynamicPPL.Metadata{Dict{AbstractPPL.VarName, Int64}, Vector{Distribution}, Vector{AbstractPPL.VarName}, Vector{Real}, Vector{Set{DynamicPPL.Selector}}}, Float64}, sampler::DynamicPPL.SampleFromPrior, context::DynamicPPL.DefaultContext)",
      "    @ DynamicPPL ~/.julia/packages/DynamicPPL/zPOYL/src/model.jl:515",
      "  [7] (::DynamicPPL.Model{typeof(model), (:data_vector,), (), (), Tuple{Vector{Float64}}, Tuple{}, DynamicPPL.DefaultContext})(::Random._GLOBAL_RNG, ::Vararg{Any})",
      "    @ DynamicPPL ~/.julia/packages/DynamicPPL/zPOYL/src/model.jl:475",
      "  [8] VarInfo",
      "    @ ~/.julia/packages/DynamicPPL/zPOYL/src/varinfo.jl:127 [inlined]",
      "  [9] VarInfo",
      "    @ ~/.julia/packages/DynamicPPL/zPOYL/src/varinfo.jl:126 [inlined]",
      " [10] step(rng::Random._GLOBAL_RNG, model::DynamicPPL.Model{typeof(model), (:data_vector,), (), (), Tuple{Vector{Float64}}, Tuple{}, DynamicPPL.DefaultContext}, spl::DynamicPPL.Sampler{MH{(), NamedTuple{(), Tuple{}}}}; resume_from::Nothing, init_params::Nothing, kwargs::Base.Pairs{Symbol, Integer, Tuple{Symbol, Symbol}, NamedTuple{(:nadapt, :save_state), Tuple{Int64, Bool}}})",
      "    @ DynamicPPL ~/.julia/packages/DynamicPPL/zPOYL/src/sampler.jl:86",
      " [11] macro expansion",
      "    @ ~/.julia/packages/AbstractMCMC/fnRmh/src/sample.jl:120 [inlined]",
      " [12] macro expansion",
      "    @ ~/.julia/packages/ProgressLogging/6KXlp/src/ProgressLogging.jl:328 [inlined]",
      " [13] (::AbstractMCMC.var\"#21#22\"{Bool, String, Nothing, Int64, Int64, Base.Pairs{Symbol, Integer, Tuple{Symbol, Symbol}, NamedTuple{(:nadapt, :save_state), Tuple{Int64, Bool}}}, Random._GLOBAL_RNG, DynamicPPL.Model{typeof(model), (:data_vector,), (), (), Tuple{Vector{Float64}}, Tuple{}, DynamicPPL.DefaultContext}, DynamicPPL.Sampler{MH{(), NamedTuple{(), Tuple{}}}}, Int64, Int64})()",
      "    @ AbstractMCMC ~/.julia/packages/AbstractMCMC/fnRmh/src/logging.jl:12",
      " [14] with_logstate(f::Function, logstate::Any)",
      "    @ Base.CoreLogging ./logging.jl:511",
      " [15] with_logger(f::Function, logger::LoggingExtras.TeeLogger{Tuple{LoggingExtras.EarlyFilteredLogger{ConsoleProgressMonitor.ProgressLogger, AbstractMCMC.var\"#1#3\"{Module}}, LoggingExtras.EarlyFilteredLogger{Base.CoreLogging.SimpleLogger, AbstractMCMC.var\"#2#4\"{Module}}}})",
      "    @ Base.CoreLogging ./logging.jl:623",
      " [16] with_progresslogger(f::Function, _module::Module, logger::Base.CoreLogging.SimpleLogger)",
      "    @ AbstractMCMC ~/.julia/packages/AbstractMCMC/fnRmh/src/logging.jl:36",
      " [17] macro expansion",
      "    @ ~/.julia/packages/AbstractMCMC/fnRmh/src/logging.jl:11 [inlined]",
      " [18] mcmcsample(rng::Random._GLOBAL_RNG, model::DynamicPPL.Model{typeof(model), (:data_vector,), (), (), Tuple{Vector{Float64}}, Tuple{}, DynamicPPL.DefaultContext}, sampler::DynamicPPL.Sampler{MH{(), NamedTuple{(), Tuple{}}}}, N::Int64; progress::Bool, progressname::String, callback::Nothing, discard_initial::Int64, thinning::Int64, chain_type::Type, kwargs::Base.Pairs{Symbol, Integer, Tuple{Symbol, Symbol}, NamedTuple{(:nadapt, :save_state), Tuple{Int64, Bool}}})",
      "    @ AbstractMCMC ~/.julia/packages/AbstractMCMC/fnRmh/src/sample.jl:111",
      " [19] sample(rng::Random._GLOBAL_RNG, model::DynamicPPL.Model{typeof(model), (:data_vector,), (), (), Tuple{Vector{Float64}}, Tuple{}, DynamicPPL.DefaultContext}, sampler::DynamicPPL.Sampler{MH{(), NamedTuple{(), Tuple{}}}}, N::Int64; chain_type::Type, resume_from::Nothing, progress::Bool, kwargs::Base.Pairs{Symbol, Integer, Tuple{Symbol, Symbol}, NamedTuple{(:nadapt, :save_state), Tuple{Int64, Bool}}})",
      "    @ Turing.Inference ~/.julia/packages/Turing/szPqN/src/inference/Inference.jl:159",
      " [20] #sample#2",
      "    @ ~/.julia/packages/Turing/szPqN/src/inference/Inference.jl:145 [inlined]",
      " [21] #sample#1",
      "    @ ~/.julia/packages/Turing/szPqN/src/inference/Inference.jl:135 [inlined]",
      " [22] top-level scope",
      "    @ In[6]:1",
      " [23] eval",
      "    @ ./boot.jl:373 [inlined]",
      " [24] include_string(mapexpr::typeof(REPL.softscope), mod::Module, code::String, filename::String)",
      "    @ Base ./loading.jl:1196"
     ]
    }
   ],
   "source": [
    "chain1 = sample(model(data_vector), MH(), iterations,\n",
    "            nadapt=nadapts, progress=true; save_state=true);"
   ]
  },
  {
   "cell_type": "code",
   "execution_count": 18,
   "id": "54da0b16",
   "metadata": {},
   "outputs": [
    {
     "ename": "LoadError",
     "evalue": "InterruptException:",
     "output_type": "error",
     "traceback": [
      "InterruptException:",
      "",
      "Stacktrace:",
      "  [1] setindex!",
      "    @ ./essentials.jl:479 [inlined]",
      "  [2] _push!",
      "    @ ~/.julia/packages/Zygote/dABKa/src/compiler/emit.jl:19 [inlined]",
      "  [3] _pullback(ctx::Zygote.Context{false}, f::typeof(Base.rat), args::Float64)",
      "    @ Zygote ~/.julia/packages/Zygote/dABKa/src/compiler/interface2.jl:0",
      "  [4] _pullback",
      "    @ ./twiceprecision.jl:640 [inlined]",
      "  [5] _pullback(::Zygote.Context{false}, ::typeof(Base.range_start_stop_length), ::Float64, ::Float64, ::Int64)",
      "    @ Zygote ~/.julia/packages/Zygote/dABKa/src/compiler/interface2.jl:0",
      "  [6] _pullback",
      "    @ ./range.jl:128 [inlined]",
      "  [7] _pullback (repeats 2 times)",
      "    @ ./range.jl:109 [inlined]",
      "  [8] _pullback(::Zygote.Context{false}, ::Base.var\"#range##kw\", ::NamedTuple{(:stop, :length), Tuple{Float64, Int64}}, ::typeof(range), ::Float64)",
      "    @ Zygote ~/.julia/packages/Zygote/dABKa/src/compiler/interface2.jl:0",
      "  [9] _pullback",
      "    @ ~/.julia/packages/LimberJack/dAZ0C/src/core.jl:202 [inlined]",
      " [10] _pullback(::Zygote.Context{false}, ::Type{Cosmology}, ::CosmoPar{Real}, ::Settings)",
      "    @ Zygote ~/.julia/packages/Zygote/dABKa/src/compiler/interface2.jl:0",
      " [11] _pullback",
      "    @ ~/.julia/packages/LimberJack/dAZ0C/src/core.jl:322 [inlined]",
      " [12] _pullback(::Zygote.Context{false}, ::LimberJack.var\"##Cosmology#9\", ::Float64, ::Int64, ::Int64, ::Int64, ::String, ::String, ::Nothing, ::Type{Cosmology}, ::Float64, ::Float64, ::Float64, ::Float64, ::Float64)",
      "    @ Zygote ~/.julia/packages/Zygote/dABKa/src/compiler/interface2.jl:0",
      " [13] _pullback",
      "    @ ~/.julia/packages/LimberJack/dAZ0C/src/core.jl:319 [inlined]",
      " [14] _pullback(::Zygote.Context{false}, ::Core.var\"#Type##kw\", ::NamedTuple{(:tk_mode, :Pk_mode), Tuple{String, String}}, ::Type{Cosmology}, ::Float64, ::Float64, ::Float64, ::Float64, ::Float64)",
      "    @ Zygote ~/.julia/packages/Zygote/dABKa/src/compiler/interface2.jl:0",
      " [15] _pullback",
      "    @ ./In[17]:8 [inlined]",
      " [16] _pullback(::Zygote.Context{false}, ::typeof(model), ::DynamicPPL.Model{typeof(model), (:data_vector,), (), (), Tuple{Vector{Float64}}, Tuple{}, DynamicPPL.DefaultContext}, ::DynamicPPL.ThreadSafeVarInfo{DynamicPPL.TypedVarInfo{NamedTuple{(:Ωm,), Tuple{DynamicPPL.Metadata{Dict{AbstractPPL.VarName{:Ωm, Setfield.IdentityLens}, Int64}, Vector{Uniform{Float64}}, Vector{AbstractPPL.VarName{:Ωm, Setfield.IdentityLens}}, Vector{Float64}, Vector{Set{DynamicPPL.Selector}}}}}, Float64}, Vector{Base.RefValue{Float64}}}, ::DynamicPPL.SamplingContext{DynamicPPL.Sampler{NUTS{Turing.Essential.ZygoteAD, (), AdvancedHMC.DiagEuclideanMetric}}, DynamicPPL.DefaultContext, Random._GLOBAL_RNG}, ::Vector{Float64})",
      "    @ Zygote ~/.julia/packages/Zygote/dABKa/src/compiler/interface2.jl:0",
      " [17] macro expansion",
      "    @ ~/.julia/packages/DynamicPPL/zPOYL/src/model.jl:593 [inlined]",
      " [18] _pullback",
      "    @ ~/.julia/packages/DynamicPPL/zPOYL/src/model.jl:576 [inlined]",
      " [19] _pullback(::Zygote.Context{false}, ::typeof(DynamicPPL._evaluate!!), ::DynamicPPL.Model{typeof(model), (:data_vector,), (), (), Tuple{Vector{Float64}}, Tuple{}, DynamicPPL.DefaultContext}, ::DynamicPPL.ThreadSafeVarInfo{DynamicPPL.TypedVarInfo{NamedTuple{(:Ωm,), Tuple{DynamicPPL.Metadata{Dict{AbstractPPL.VarName{:Ωm, Setfield.IdentityLens}, Int64}, Vector{Uniform{Float64}}, Vector{AbstractPPL.VarName{:Ωm, Setfield.IdentityLens}}, Vector{Float64}, Vector{Set{DynamicPPL.Selector}}}}}, Float64}, Vector{Base.RefValue{Float64}}}, ::DynamicPPL.SamplingContext{DynamicPPL.Sampler{NUTS{Turing.Essential.ZygoteAD, (), AdvancedHMC.DiagEuclideanMetric}}, DynamicPPL.DefaultContext, Random._GLOBAL_RNG})",
      "    @ Zygote ~/.julia/packages/Zygote/dABKa/src/compiler/interface2.jl:0",
      " [20] _pullback",
      "    @ ~/.julia/packages/DynamicPPL/zPOYL/src/model.jl:567 [inlined]",
      " [21] _pullback(::Zygote.Context{false}, ::typeof(DynamicPPL.evaluate_threadsafe!!), ::DynamicPPL.Model{typeof(model), (:data_vector,), (), (), Tuple{Vector{Float64}}, Tuple{}, DynamicPPL.DefaultContext}, ::DynamicPPL.TypedVarInfo{NamedTuple{(:Ωm,), Tuple{DynamicPPL.Metadata{Dict{AbstractPPL.VarName{:Ωm, Setfield.IdentityLens}, Int64}, Vector{Uniform{Float64}}, Vector{AbstractPPL.VarName{:Ωm, Setfield.IdentityLens}}, Vector{Float64}, Vector{Set{DynamicPPL.Selector}}}}}, Float64}, ::DynamicPPL.SamplingContext{DynamicPPL.Sampler{NUTS{Turing.Essential.ZygoteAD, (), AdvancedHMC.DiagEuclideanMetric}}, DynamicPPL.DefaultContext, Random._GLOBAL_RNG})",
      "    @ Zygote ~/.julia/packages/Zygote/dABKa/src/compiler/interface2.jl:0",
      " [22] _pullback",
      "    @ ~/.julia/packages/DynamicPPL/zPOYL/src/model.jl:502 [inlined]",
      " [23] _pullback",
      "    @ ~/.julia/packages/DynamicPPL/zPOYL/src/model.jl:515 [inlined]",
      " [24] _apply",
      "    @ ./boot.jl:814 [inlined]",
      " [25] adjoint",
      "    @ ~/.julia/packages/Zygote/dABKa/src/lib/lib.jl:203 [inlined]",
      " [26] _pullback",
      "    @ ~/.julia/packages/ZygoteRules/AIbCs/src/adjoint.jl:65 [inlined]",
      " [27] _pullback",
      "    @ ~/.julia/packages/DynamicPPL/zPOYL/src/model.jl:523 [inlined]",
      " [28] _pullback(::Zygote.Context{false}, ::typeof(AbstractPPL.evaluate!!), ::DynamicPPL.Model{typeof(model), (:data_vector,), (), (), Tuple{Vector{Float64}}, Tuple{}, DynamicPPL.DefaultContext}, ::DynamicPPL.TypedVarInfo{NamedTuple{(:Ωm,), Tuple{DynamicPPL.Metadata{Dict{AbstractPPL.VarName{:Ωm, Setfield.IdentityLens}, Int64}, Vector{Uniform{Float64}}, Vector{AbstractPPL.VarName{:Ωm, Setfield.IdentityLens}}, Vector{Float64}, Vector{Set{DynamicPPL.Selector}}}}}, Float64}, ::DynamicPPL.Sampler{NUTS{Turing.Essential.ZygoteAD, (), AdvancedHMC.DiagEuclideanMetric}}, ::DynamicPPL.DefaultContext)",
      "    @ Zygote ~/.julia/packages/Zygote/dABKa/src/compiler/interface2.jl:0",
      " [29] _pullback",
      "    @ ~/.julia/packages/Turing/szPqN/src/Turing.jl:38 [inlined]",
      " [30] _pullback(ctx::Zygote.Context{false}, f::Turing.LogDensityFunction{DynamicPPL.TypedVarInfo{NamedTuple{(:Ωm,), Tuple{DynamicPPL.Metadata{Dict{AbstractPPL.VarName{:Ωm, Setfield.IdentityLens}, Int64}, Vector{Uniform{Float64}}, Vector{AbstractPPL.VarName{:Ωm, Setfield.IdentityLens}}, Vector{Float64}, Vector{Set{DynamicPPL.Selector}}}}}, Float64}, DynamicPPL.Model{typeof(model), (:data_vector,), (), (), Tuple{Vector{Float64}}, Tuple{}, DynamicPPL.DefaultContext}, DynamicPPL.Sampler{NUTS{Turing.Essential.ZygoteAD, (), AdvancedHMC.DiagEuclideanMetric}}, DynamicPPL.DefaultContext}, args::Vector{Float64})",
      "    @ Zygote ~/.julia/packages/Zygote/dABKa/src/compiler/interface2.jl:0",
      " [31] _pullback",
      "    @ ~/.julia/packages/Turing/szPqN/src/Turing.jl:42 [inlined]",
      " [32] _pullback(::Zygote.Context{false}, ::typeof(LogDensityProblems.logdensity), ::Turing.LogDensityFunction{DynamicPPL.TypedVarInfo{NamedTuple{(:Ωm,), Tuple{DynamicPPL.Metadata{Dict{AbstractPPL.VarName{:Ωm, Setfield.IdentityLens}, Int64}, Vector{Uniform{Float64}}, Vector{AbstractPPL.VarName{:Ωm, Setfield.IdentityLens}}, Vector{Float64}, Vector{Set{DynamicPPL.Selector}}}}}, Float64}, DynamicPPL.Model{typeof(model), (:data_vector,), (), (), Tuple{Vector{Float64}}, Tuple{}, DynamicPPL.DefaultContext}, DynamicPPL.Sampler{NUTS{Turing.Essential.ZygoteAD, (), AdvancedHMC.DiagEuclideanMetric}}, DynamicPPL.DefaultContext}, ::Vector{Float64})",
      "    @ Zygote ~/.julia/packages/Zygote/dABKa/src/compiler/interface2.jl:0",
      " [33] _pullback",
      "    @ ~/.julia/packages/Zygote/dABKa/src/lib/base.jl:225 [inlined]",
      " [34] _pullback(ctx::Zygote.Context{false}, f::Zygote.var\"#fallback_Fix1#336\"{Turing.LogDensityFunction{DynamicPPL.TypedVarInfo{NamedTuple{(:Ωm,), Tuple{DynamicPPL.Metadata{Dict{AbstractPPL.VarName{:Ωm, Setfield.IdentityLens}, Int64}, Vector{Uniform{Float64}}, Vector{AbstractPPL.VarName{:Ωm, Setfield.IdentityLens}}, Vector{Float64}, Vector{Set{DynamicPPL.Selector}}}}}, Float64}, DynamicPPL.Model{typeof(model), (:data_vector,), (), (), Tuple{Vector{Float64}}, Tuple{}, DynamicPPL.DefaultContext}, DynamicPPL.Sampler{NUTS{Turing.Essential.ZygoteAD, (), AdvancedHMC.DiagEuclideanMetric}}, DynamicPPL.DefaultContext}, typeof(LogDensityProblems.logdensity)}, args::Vector{Float64})",
      "    @ Zygote ~/.julia/packages/Zygote/dABKa/src/compiler/interface2.jl:0",
      " [35] adjoint",
      "    @ ~/.julia/packages/Zygote/dABKa/src/lib/base.jl:226 [inlined]",
      " [36] _pullback",
      "    @ ~/.julia/packages/ZygoteRules/AIbCs/src/adjoint.jl:65 [inlined]",
      " [37] pullback",
      "    @ ~/.julia/packages/Zygote/dABKa/src/compiler/interface.jl:44 [inlined]",
      " [38] pullback",
      "    @ ~/.julia/packages/Zygote/dABKa/src/compiler/interface.jl:42 [inlined]",
      " [39] logdensity_and_gradient(∇ℓ::LogDensityProblems.ZygoteGradientLogDensity{Turing.LogDensityFunction{DynamicPPL.TypedVarInfo{NamedTuple{(:Ωm,), Tuple{DynamicPPL.Metadata{Dict{AbstractPPL.VarName{:Ωm, Setfield.IdentityLens}, Int64}, Vector{Uniform{Float64}}, Vector{AbstractPPL.VarName{:Ωm, Setfield.IdentityLens}}, Vector{Float64}, Vector{Set{DynamicPPL.Selector}}}}}, Float64}, DynamicPPL.Model{typeof(model), (:data_vector,), (), (), Tuple{Vector{Float64}}, Tuple{}, DynamicPPL.DefaultContext}, DynamicPPL.Sampler{NUTS{Turing.Essential.ZygoteAD, (), AdvancedHMC.DiagEuclideanMetric}}, DynamicPPL.DefaultContext}}, x::Vector{Float64})",
      "    @ LogDensityProblems ~/.julia/packages/LogDensityProblems/oAYeE/src/AD_Zygote.jl:19",
      " [40] ∂logπ∂θ",
      "    @ ~/.julia/packages/Turing/szPqN/src/inference/hmc.jl:166 [inlined]",
      " [41] ∂H∂θ(h::AdvancedHMC.Hamiltonian{AdvancedHMC.DiagEuclideanMetric{Float64, Vector{Float64}}, Base.Fix1{typeof(LogDensityProblems.logdensity), LogDensityProblems.ZygoteGradientLogDensity{Turing.LogDensityFunction{DynamicPPL.TypedVarInfo{NamedTuple{(:Ωm,), Tuple{DynamicPPL.Metadata{Dict{AbstractPPL.VarName{:Ωm, Setfield.IdentityLens}, Int64}, Vector{Uniform{Float64}}, Vector{AbstractPPL.VarName{:Ωm, Setfield.IdentityLens}}, Vector{Float64}, Vector{Set{DynamicPPL.Selector}}}}}, Float64}, DynamicPPL.Model{typeof(model), (:data_vector,), (), (), Tuple{Vector{Float64}}, Tuple{}, DynamicPPL.DefaultContext}, DynamicPPL.Sampler{NUTS{Turing.Essential.ZygoteAD, (), AdvancedHMC.DiagEuclideanMetric}}, DynamicPPL.DefaultContext}}}, Turing.Inference.var\"#∂logπ∂θ#44\"{LogDensityProblems.ZygoteGradientLogDensity{Turing.LogDensityFunction{DynamicPPL.TypedVarInfo{NamedTuple{(:Ωm,), Tuple{DynamicPPL.Metadata{Dict{AbstractPPL.VarName{:Ωm, Setfield.IdentityLens}, Int64}, Vector{Uniform{Float64}}, Vector{AbstractPPL.VarName{:Ωm, Setfield.IdentityLens}}, Vector{Float64}, Vector{Set{DynamicPPL.Selector}}}}}, Float64}, DynamicPPL.Model{typeof(model), (:data_vector,), (), (), Tuple{Vector{Float64}}, Tuple{}, DynamicPPL.DefaultContext}, DynamicPPL.Sampler{NUTS{Turing.Essential.ZygoteAD, (), AdvancedHMC.DiagEuclideanMetric}}, DynamicPPL.DefaultContext}}}}, θ::Vector{Float64})",
      "    @ AdvancedHMC ~/.julia/packages/AdvancedHMC/iWHPQ/src/hamiltonian.jl:31",
      " [42] phasepoint(h::AdvancedHMC.Hamiltonian{AdvancedHMC.DiagEuclideanMetric{Float64, Vector{Float64}}, Base.Fix1{typeof(LogDensityProblems.logdensity), LogDensityProblems.ZygoteGradientLogDensity{Turing.LogDensityFunction{DynamicPPL.TypedVarInfo{NamedTuple{(:Ωm,), Tuple{DynamicPPL.Metadata{Dict{AbstractPPL.VarName{:Ωm, Setfield.IdentityLens}, Int64}, Vector{Uniform{Float64}}, Vector{AbstractPPL.VarName{:Ωm, Setfield.IdentityLens}}, Vector{Float64}, Vector{Set{DynamicPPL.Selector}}}}}, Float64}, DynamicPPL.Model{typeof(model), (:data_vector,), (), (), Tuple{Vector{Float64}}, Tuple{}, DynamicPPL.DefaultContext}, DynamicPPL.Sampler{NUTS{Turing.Essential.ZygoteAD, (), AdvancedHMC.DiagEuclideanMetric}}, DynamicPPL.DefaultContext}}}, Turing.Inference.var\"#∂logπ∂θ#44\"{LogDensityProblems.ZygoteGradientLogDensity{Turing.LogDensityFunction{DynamicPPL.TypedVarInfo{NamedTuple{(:Ωm,), Tuple{DynamicPPL.Metadata{Dict{AbstractPPL.VarName{:Ωm, Setfield.IdentityLens}, Int64}, Vector{Uniform{Float64}}, Vector{AbstractPPL.VarName{:Ωm, Setfield.IdentityLens}}, Vector{Float64}, Vector{Set{DynamicPPL.Selector}}}}}, Float64}, DynamicPPL.Model{typeof(model), (:data_vector,), (), (), Tuple{Vector{Float64}}, Tuple{}, DynamicPPL.DefaultContext}, DynamicPPL.Sampler{NUTS{Turing.Essential.ZygoteAD, (), AdvancedHMC.DiagEuclideanMetric}}, DynamicPPL.DefaultContext}}}}, θ::Vector{Float64}, r::Vector{Float64})",
      "    @ AdvancedHMC ~/.julia/packages/AdvancedHMC/iWHPQ/src/hamiltonian.jl:76",
      " [43] phasepoint",
      "    @ ~/.julia/packages/AdvancedHMC/iWHPQ/src/hamiltonian.jl:153 [inlined]",
      " [44] initialstep(rng::Random._GLOBAL_RNG, model::DynamicPPL.Model{typeof(model), (:data_vector,), (), (), Tuple{Vector{Float64}}, Tuple{}, DynamicPPL.DefaultContext}, spl::DynamicPPL.Sampler{NUTS{Turing.Essential.ZygoteAD, (), AdvancedHMC.DiagEuclideanMetric}}, vi::DynamicPPL.TypedVarInfo{NamedTuple{(:Ωm,), Tuple{DynamicPPL.Metadata{Dict{AbstractPPL.VarName{:Ωm, Setfield.IdentityLens}, Int64}, Vector{Uniform{Float64}}, Vector{AbstractPPL.VarName{:Ωm, Setfield.IdentityLens}}, Vector{Float64}, Vector{Set{DynamicPPL.Selector}}}}}, Float64}; init_params::Nothing, nadapts::Int64, kwargs::Base.Pairs{Symbol, Bool, Tuple{Symbol}, NamedTuple{(:save_state,), Tuple{Bool}}})",
      "    @ Turing.Inference ~/.julia/packages/Turing/szPqN/src/inference/hmc.jl:170",
      " [45] step(rng::Random._GLOBAL_RNG, model::DynamicPPL.Model{typeof(model), (:data_vector,), (), (), Tuple{Vector{Float64}}, Tuple{}, DynamicPPL.DefaultContext}, spl::DynamicPPL.Sampler{NUTS{Turing.Essential.ZygoteAD, (), AdvancedHMC.DiagEuclideanMetric}}; resume_from::Nothing, init_params::Nothing, kwargs::Base.Pairs{Symbol, Integer, Tuple{Symbol, Symbol}, NamedTuple{(:nadapts, :save_state), Tuple{Int64, Bool}}})",
      "    @ DynamicPPL ~/.julia/packages/DynamicPPL/zPOYL/src/sampler.jl:104",
      " [46] macro expansion",
      "    @ ~/.julia/packages/AbstractMCMC/fnRmh/src/sample.jl:120 [inlined]",
      " [47] macro expansion",
      "    @ ~/.julia/packages/ProgressLogging/6KXlp/src/ProgressLogging.jl:328 [inlined]",
      " [48] (::AbstractMCMC.var\"#21#22\"{Bool, String, Nothing, Int64, Int64, Base.Pairs{Symbol, Integer, Tuple{Symbol, Symbol}, NamedTuple{(:nadapts, :save_state), Tuple{Int64, Bool}}}, Random._GLOBAL_RNG, DynamicPPL.Model{typeof(model), (:data_vector,), (), (), Tuple{Vector{Float64}}, Tuple{}, DynamicPPL.DefaultContext}, DynamicPPL.Sampler{NUTS{Turing.Essential.ZygoteAD, (), AdvancedHMC.DiagEuclideanMetric}}, Int64, Int64})()",
      "    @ AbstractMCMC ~/.julia/packages/AbstractMCMC/fnRmh/src/logging.jl:12",
      " [49] with_logstate(f::Function, logstate::Any)",
      "    @ Base.CoreLogging ./logging.jl:511",
      " [50] with_logger(f::Function, logger::LoggingExtras.TeeLogger{Tuple{LoggingExtras.EarlyFilteredLogger{ConsoleProgressMonitor.ProgressLogger, AbstractMCMC.var\"#1#3\"{Module}}, LoggingExtras.EarlyFilteredLogger{Base.CoreLogging.SimpleLogger, AbstractMCMC.var\"#2#4\"{Module}}}})",
      "    @ Base.CoreLogging ./logging.jl:623",
      " [51] with_progresslogger(f::Function, _module::Module, logger::Base.CoreLogging.SimpleLogger)",
      "    @ AbstractMCMC ~/.julia/packages/AbstractMCMC/fnRmh/src/logging.jl:36",
      " [52] macro expansion",
      "    @ ~/.julia/packages/AbstractMCMC/fnRmh/src/logging.jl:11 [inlined]",
      " [53] mcmcsample(rng::Random._GLOBAL_RNG, model::DynamicPPL.Model{typeof(model), (:data_vector,), (), (), Tuple{Vector{Float64}}, Tuple{}, DynamicPPL.DefaultContext}, sampler::DynamicPPL.Sampler{NUTS{Turing.Essential.ZygoteAD, (), AdvancedHMC.DiagEuclideanMetric}}, N::Int64; progress::Bool, progressname::String, callback::Nothing, discard_initial::Int64, thinning::Int64, chain_type::Type, kwargs::Base.Pairs{Symbol, Integer, Tuple{Symbol, Symbol}, NamedTuple{(:nadapts, :save_state), Tuple{Int64, Bool}}})",
      "    @ AbstractMCMC ~/.julia/packages/AbstractMCMC/fnRmh/src/sample.jl:111",
      " [54] sample(rng::Random._GLOBAL_RNG, model::DynamicPPL.Model{typeof(model), (:data_vector,), (), (), Tuple{Vector{Float64}}, Tuple{}, DynamicPPL.DefaultContext}, sampler::DynamicPPL.Sampler{NUTS{Turing.Essential.ZygoteAD, (), AdvancedHMC.DiagEuclideanMetric}}, N::Int64; chain_type::Type, resume_from::Nothing, progress::Bool, nadapts::Int64, discard_adapt::Bool, discard_initial::Int64, kwargs::Base.Pairs{Symbol, Bool, Tuple{Symbol}, NamedTuple{(:save_state,), Tuple{Bool}}})",
      "    @ Turing.Inference ~/.julia/packages/Turing/szPqN/src/inference/hmc.jl:133",
      " [55] #sample#2",
      "    @ ~/.julia/packages/Turing/szPqN/src/inference/Inference.jl:145 [inlined]",
      " [56] #sample#1",
      "    @ ~/.julia/packages/Turing/szPqN/src/inference/Inference.jl:135 [inlined]",
      " [57] top-level scope",
      "    @ In[18]:1",
      " [58] eval",
      "    @ ./boot.jl:373 [inlined]"
     ]
    }
   ],
   "source": [
    "chain3 = sample(model(data_vector), NUTS(5, 0.1; init_ϵ=0.03), iterations,\n",
    "                progress=true; save_state=true);"
   ]
  },
  {
   "cell_type": "code",
   "execution_count": 4,
   "id": "c12bc5c9",
   "metadata": {},
   "outputs": [
    {
     "data": {
      "text/plain": [
       "Dict{String, Array} with 5 entries:\n",
       "  \"idx\"         => [0, 5, 13, 23, 34, 47, 52, 57, 62, 67  …  1077, 1099, 1121, …\n",
       "  \"cls_m\"       => [0.000229969 7.55142e-5 … 3.71104e-10 3.14893e-10]\n",
       "  \"err\"         => [5.919e-5, 1.57008e-5, 6.64192e-6, 3.82552e-6, 2.56294e-6, 2…\n",
       "  \"cls_s\"       => [0.000216359 3.16836e-5 … 2.44088e-10 2.0759e-10]\n",
       "  \"data_vector\" => [0.000190242, 7.39128e-5, 4.26125e-5, 2.22966e-5, 2.17688e-5…"
      ]
     },
     "execution_count": 4,
     "metadata": {},
     "output_type": "execute_result"
    }
   ],
   "source": [
    "files = npzread(\"../data/FD/K1K_DELS_DESY1_eBOSS_CMBk_files.npz\")\n",
    "products = npzread(\"products.npz\")"
   ]
  },
  {
   "cell_type": "code",
   "execution_count": 3,
   "id": "003b7848",
   "metadata": {},
   "outputs": [
    {
     "ename": "LoadError",
     "evalue": "UndefVarError: files not defined",
     "output_type": "error",
     "traceback": [
      "UndefVarError: files not defined",
      "",
      "Stacktrace:",
      " [1] top-level scope",
      "   @ ./In[3]:4",
      " [2] eval",
      "   @ ./boot.jl:373 [inlined]",
      " [3] include_string(mapexpr::typeof(REPL.softscope), mod::Module, code::String, filename::String)",
      "   @ Base ./loading.jl:1196"
     ]
    }
   ],
   "source": [
    "figure, axis = plt.subplots(5, figsize=(5,14))\n",
    "l = 1\n",
    "for i in 0:4\n",
    "    axis[i+1].errorbar(files[string(\"ls_1\", i, \"1\", i)], \n",
    "                     data[idx[l]:idx[l+1]-1], \n",
    "                     yerr=err[idx[l]:idx[l+1]-1], fmt=\"gs\", label=\"Data\")\n",
    "    axis[i+1].plot(files[string(\"ls_1\", i, \"1\", i)],\n",
    "                   cls_preds_m[idx[l]:idx[l+1]-1],\n",
    "                   \"bo-\", label=\"Preds\")\n",
    "    axis[i+1].fill_between(files[string(\"ls_1\", i, \"1\", i)],\n",
    "                   cls_preds_m[idx[l]:idx[l+1]-1].+cls_preds_s[idx[l]:idx[l+1]-1],\n",
    "                   cls_preds_m[idx[l]:idx[l+1]-1].-cls_preds_s[idx[l]:idx[l+1]-1],\n",
    "                   color=\"b\", alpha=.5)\n",
    "    axis[i+1].set_title(string(\"GC\", i, \"GC\", i))\n",
    "    l += 1\n",
    "end\n",
    "plt.legend()\n",
    "plt.show()\n",
    "print(l)"
   ]
  },
  {
   "cell_type": "code",
   "execution_count": null,
   "id": "ee419f70",
   "metadata": {},
   "outputs": [],
   "source": []
  }
 ],
 "metadata": {
  "kernelspec": {
   "display_name": "Julia 4 Threads 1.7.0",
   "language": "julia",
   "name": "julia-4-threads-1.7"
  },
  "language_info": {
   "file_extension": ".jl",
   "mimetype": "application/julia",
   "name": "julia",
   "version": "1.7.0"
  }
 },
 "nbformat": 4,
 "nbformat_minor": 5
}
