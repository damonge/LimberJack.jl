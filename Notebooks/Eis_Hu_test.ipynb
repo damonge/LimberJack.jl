{
 "cells": [
  {
   "cell_type": "code",
   "execution_count": 1,
   "id": "elder-tokyo",
   "metadata": {},
   "outputs": [
    {
     "name": "stderr",
     "output_type": "stream",
     "text": [
      "\u001b[32m\u001b[1mPrecompiling\u001b[22m\u001b[39m project...\n",
      "┌ Info: Precompiling LimberJack [6b86205d-155a-4b14-b82d-b6a149ea78f2]\n",
      "└ @ Base loading.jl:1260\n"
     ]
    }
   ],
   "source": [
    "using Pkg\n",
    "Pkg.instantiate()\n",
    "Pkg.precompile()"
   ]
  },
  {
   "cell_type": "code",
   "execution_count": 2,
   "id": "disciplinary-feelings",
   "metadata": {},
   "outputs": [],
   "source": [
    "using Interpolations\n",
    "using QuadGK\n",
    "using OrdinaryDiffEq"
   ]
  },
  {
   "cell_type": "code",
   "execution_count": 3,
   "id": "interim-sister",
   "metadata": {},
   "outputs": [
    {
     "data": {
      "text/plain": [
       "power_spectrum (generic function with 1 method)"
      ]
     },
     "execution_count": 3,
     "metadata": {},
     "output_type": "execute_result"
    }
   ],
   "source": [
    "include(\"/home/jaimerz/PhD/LimberJack.jl/src/core.jl\")"
   ]
  },
  {
   "cell_type": "code",
   "execution_count": 4,
   "id": "daily-forty",
   "metadata": {},
   "outputs": [
    {
     "data": {
      "text/plain": [
       "CosmoPar{Float64}(0.25, 0.05, 0.67, 0.96, 0.81)"
      ]
     },
     "execution_count": 4,
     "metadata": {},
     "output_type": "execute_result"
    }
   ],
   "source": [
    "cosmoPar = CosmoPar(0.25, 0.05, 0.67, 0.96, 0.81)"
   ]
  },
  {
   "cell_type": "code",
   "execution_count": 12,
   "id": "nonprofit-bleeding",
   "metadata": {},
   "outputs": [
    {
     "data": {
      "text/plain": [
       "5-element Array{Float64,1}:\n",
       "  0.001\n",
       "  0.01\n",
       "  0.1\n",
       "  1.0\n",
       " 10.0"
      ]
     },
     "execution_count": 12,
     "metadata": {},
     "output_type": "execute_result"
    }
   ],
   "source": [
    "cosmo = Cosmology(cosmoPar, tk_mode=\"EisHu\")\n",
    "ks = [0.001, 0.01, 0.1, 1.0, 10.0]"
   ]
  },
  {
   "cell_type": "code",
   "execution_count": 13,
   "id": "listed-ordinance",
   "metadata": {
    "scrolled": true
   },
   "outputs": [
    {
     "data": {
      "text/plain": [
       "5-element Array{Float64,1}:\n",
       " 1438.335311719957\n",
       " 8174.947538508074\n",
       " 6709.4918198566575\n",
       " 1710.348704401368\n",
       "  271.94654614347667"
      ]
     },
     "execution_count": 13,
     "metadata": {},
     "output_type": "execute_result"
    }
   ],
   "source": [
    "pk_julia = power_spectrum(cosmo, ks, 0.)"
   ]
  },
  {
   "cell_type": "code",
   "execution_count": 14,
   "id": "subsequent-parliament",
   "metadata": {},
   "outputs": [
    {
     "data": {
      "text/plain": [
       "5-element Array{Float64,1}:\n",
       " 21222.2992\n",
       " 88344.4294\n",
       " 10545.2648\n",
       "    82.206485\n",
       "     0.241173851"
      ]
     },
     "execution_count": 14,
     "metadata": {},
     "output_type": "execute_result"
    }
   ],
   "source": [
    "pk_ccl = [2.12222992e+04,\n",
    "         8.83444294e+04,\n",
    "         1.05452648e+04,\n",
    "         8.22064850e+01,\n",
    "         2.41173851e-01]"
   ]
  },
  {
   "cell_type": "code",
   "execution_count": 16,
   "id": "rural-universal",
   "metadata": {},
   "outputs": [
    {
     "ename": "ArgumentError",
     "evalue": "\u001b[91mArgumentError: Package Plots not found in current path:\u001b[39m\n\u001b[91m- Run `import Pkg; Pkg.add(\"Plots\")` to install the Plots package.\u001b[39m\n",
     "output_type": "error",
     "traceback": [
      "\u001b[91mArgumentError: Package Plots not found in current path:\u001b[39m\n\u001b[91m- Run `import Pkg; Pkg.add(\"Plots\")` to install the Plots package.\u001b[39m\n",
      "",
      "Stacktrace:",
      " [1] require(::Module, ::Symbol) at ./loading.jl:892",
      " [2] top-level scope at In[16]:1"
     ]
    }
   ],
   "source": [
    "using Plots\n",
    "plot(ks, pk_julia)\n",
    "plot(ks, pk_ccl)"
   ]
  },
  {
   "cell_type": "code",
   "execution_count": null,
   "id": "overhead-polls",
   "metadata": {},
   "outputs": [],
   "source": []
  }
 ],
 "metadata": {
  "kernelspec": {
   "display_name": "Julia 1.4.1",
   "language": "julia",
   "name": "julia-1.4"
  },
  "language_info": {
   "file_extension": ".jl",
   "mimetype": "application/julia",
   "name": "julia",
   "version": "1.4.1"
  }
 },
 "nbformat": 4,
 "nbformat_minor": 5
}
