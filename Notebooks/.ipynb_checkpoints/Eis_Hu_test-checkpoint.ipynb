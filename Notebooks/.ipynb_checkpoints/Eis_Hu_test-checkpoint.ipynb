{
 "cells": [
  {
   "cell_type": "code",
   "execution_count": 1,
   "id": "elder-tokyo",
   "metadata": {
    "ExecuteTime": {
     "end_time": "2021-10-22T09:05:41.370000+01:00",
     "start_time": "2021-10-22T08:05:36.363Z"
    }
   },
   "outputs": [],
   "source": [
    "#using Pkg\n",
    "#Pkg.instantiate()\n",
    "#Pkg.precompile()"
   ]
  },
  {
   "cell_type": "code",
   "execution_count": 1,
   "id": "disciplinary-feelings",
   "metadata": {
    "ExecuteTime": {
     "end_time": "2021-10-22T09:26:55.903000+01:00",
     "start_time": "2021-10-22T08:26:24.707Z"
    }
   },
   "outputs": [],
   "source": [
    "using Interpolations\n",
    "using QuadGK\n",
    "using OrdinaryDiffEq"
   ]
  },
  {
   "cell_type": "code",
   "execution_count": 2,
   "id": "interim-sister",
   "metadata": {
    "ExecuteTime": {
     "end_time": "2021-10-22T09:26:58.445000+01:00",
     "start_time": "2021-10-22T08:26:24.914Z"
    }
   },
   "outputs": [
    {
     "data": {
      "text/plain": [
       "power_spectrum (generic function with 1 method)"
      ]
     },
     "execution_count": 2,
     "metadata": {},
     "output_type": "execute_result"
    }
   ],
   "source": [
    "include(\"/home/jaimerz/PhD/LimberJack.jl/src/core.jl\")"
   ]
  },
  {
   "cell_type": "code",
   "execution_count": 3,
   "id": "daily-forty",
   "metadata": {
    "ExecuteTime": {
     "end_time": "2021-10-22T09:26:58.966000+01:00",
     "start_time": "2021-10-22T08:26:25.065Z"
    }
   },
   "outputs": [
    {
     "data": {
      "text/plain": [
       "CosmoPar{Float64}(0.3, 0.05, 0.67, 0.96, 0.81, 1.0092592592592593)"
      ]
     },
     "execution_count": 3,
     "metadata": {},
     "output_type": "execute_result"
    }
   ],
   "source": [
    "cosmoPar = CosmoPar(0.3, 0.05, 0.67, 0.96, 0.81, 2.725/2.7)"
   ]
  },
  {
   "cell_type": "code",
   "execution_count": 4,
   "id": "nonprofit-bleeding",
   "metadata": {
    "ExecuteTime": {
     "end_time": "2021-10-22T09:27:12.461000+01:00",
     "start_time": "2021-10-22T08:26:25.218Z"
    }
   },
   "outputs": [
    {
     "data": {
      "text/plain": [
       "5-element Array{Float64,1}:\n",
       "  0.001\n",
       "  0.01\n",
       "  0.1\n",
       "  1.0\n",
       " 10.0"
      ]
     },
     "execution_count": 4,
     "metadata": {},
     "output_type": "execute_result"
    }
   ],
   "source": [
    "cosmo = Cosmology(cosmoPar, tk_mode=\"EisHu\")\n",
    "ks = [0.001, 0.01, 0.1, 1.0, 10.0]"
   ]
  },
  {
   "cell_type": "code",
   "execution_count": 5,
   "id": "positive-location",
   "metadata": {
    "ExecuteTime": {
     "end_time": "2021-10-22T09:27:13.191000+01:00",
     "start_time": "2021-10-22T08:26:25.370Z"
    }
   },
   "outputs": [
    {
     "data": {
      "text/plain": [
       "0.015073608183882235"
      ]
     },
     "execution_count": 5,
     "metadata": {},
     "output_type": "execute_result"
    }
   ],
   "source": [
    "TkEisHu(cosmoPar, 0.1)"
   ]
  },
  {
   "cell_type": "code",
   "execution_count": 6,
   "id": "timely-ranch",
   "metadata": {
    "ExecuteTime": {
     "end_time": "2021-10-22T09:27:13.192000+01:00",
     "start_time": "2021-10-22T08:26:25.521Z"
    }
   },
   "outputs": [
    {
     "data": {
      "text/plain": [
       "0.15026643093302933"
      ]
     },
     "execution_count": 6,
     "metadata": {},
     "output_type": "execute_result"
    }
   ],
   "source": [
    "Tc(cosmoPar, 0.1)"
   ]
  },
  {
   "cell_type": "code",
   "execution_count": 7,
   "id": "affected-editor",
   "metadata": {
    "ExecuteTime": {
     "end_time": "2021-10-22T09:27:13.193000+01:00",
     "start_time": "2021-10-22T08:26:25.683Z"
    }
   },
   "outputs": [
    {
     "data": {
      "text/plain": [
       "-0.01468441346195776"
      ]
     },
     "execution_count": 7,
     "metadata": {},
     "output_type": "execute_result"
    }
   ],
   "source": [
    "Tb(cosmoPar, 0.1)"
   ]
  },
  {
   "cell_type": "code",
   "execution_count": 8,
   "id": "medium-generation",
   "metadata": {
    "ExecuteTime": {
     "end_time": "2021-10-22T09:27:13.200000+01:00",
     "start_time": "2021-10-22T08:26:25.842Z"
    }
   },
   "outputs": [
    {
     "data": {
      "text/plain": [
       "0.16525897182058305"
      ]
     },
     "execution_count": 8,
     "metadata": {},
     "output_type": "execute_result"
    }
   ],
   "source": [
    "T0(cosmoPar, 0.1, 1, 1)"
   ]
  },
  {
   "cell_type": "code",
   "execution_count": 9,
   "id": "considered-atmosphere",
   "metadata": {
    "ExecuteTime": {
     "end_time": "2021-10-22T09:27:13.204000+01:00",
     "start_time": "2021-10-22T08:26:26.009Z"
    }
   },
   "outputs": [
    {
     "data": {
      "text/plain": [
       "0.014720731790253348"
      ]
     },
     "execution_count": 9,
     "metadata": {},
     "output_type": "execute_result"
    }
   ],
   "source": [
    "get_keq(cosmoPar)"
   ]
  },
  {
   "cell_type": "code",
   "execution_count": 10,
   "id": "infinite-charge",
   "metadata": {
    "ExecuteTime": {
     "end_time": "2021-10-22T09:27:13.210000+01:00",
     "start_time": "2021-10-22T08:26:26.169Z"
    }
   },
   "outputs": [
    {
     "data": {
      "text/plain": [
       "3244.8894018107817"
      ]
     },
     "execution_count": 10,
     "metadata": {},
     "output_type": "execute_result"
    }
   ],
   "source": [
    "get_zeq(cosmoPar)"
   ]
  },
  {
   "cell_type": "code",
   "execution_count": 11,
   "id": "exciting-education",
   "metadata": {
    "ExecuteTime": {
     "end_time": "2021-10-22T09:27:13.211000+01:00",
     "start_time": "2021-10-22T08:26:26.346Z"
    }
   },
   "outputs": [
    {
     "data": {
      "text/plain": [
       "1020.1295657993219"
      ]
     },
     "execution_count": 11,
     "metadata": {},
     "output_type": "execute_result"
    }
   ],
   "source": [
    "get_zdrag(cosmoPar)"
   ]
  },
  {
   "cell_type": "code",
   "execution_count": 12,
   "id": "tropical-valuation",
   "metadata": {
    "ExecuteTime": {
     "end_time": "2021-10-22T09:27:13.212000+01:00",
     "start_time": "2021-10-22T08:26:26.842Z"
    }
   },
   "outputs": [
    {
     "data": {
      "text/plain": [
       "102.59521036539435"
      ]
     },
     "execution_count": 12,
     "metadata": {},
     "output_type": "execute_result"
    }
   ],
   "source": [
    "get_rs(cosmoPar)"
   ]
  },
  {
   "cell_type": "code",
   "execution_count": 21,
   "id": "reduced-rubber",
   "metadata": {
    "ExecuteTime": {
     "end_time": "2021-10-22T09:17:59.998000+01:00",
     "start_time": "2021-10-22T08:17:59.994Z"
    }
   },
   "outputs": [
    {
     "data": {
      "text/plain": [
       "0.16666666666666669"
      ]
     },
     "execution_count": 21,
     "metadata": {},
     "output_type": "execute_result"
    }
   ],
   "source": [
    "(cosmoPar.Ωb/cosmoPar.Ωm)"
   ]
  },
  {
   "cell_type": "code",
   "execution_count": 13,
   "id": "listed-ordinance",
   "metadata": {
    "ExecuteTime": {
     "end_time": "2021-10-22T09:28:45.298000+01:00",
     "start_time": "2021-10-22T08:28:44.650Z"
    },
    "scrolled": true
   },
   "outputs": [
    {
     "data": {
      "text/plain": [
       "5-element Array{Float64,1}:\n",
       " 21221.595972632764\n",
       " 88344.39063430138\n",
       " 10527.551036444009\n",
       "    82.20651264866912\n",
       "     0.2411673417695156"
      ]
     },
     "execution_count": 13,
     "metadata": {},
     "output_type": "execute_result"
    }
   ],
   "source": [
    "pk_julia = power_spectrum(cosmo, ks, 0.)"
   ]
  },
  {
   "cell_type": "code",
   "execution_count": 14,
   "id": "subsequent-parliament",
   "metadata": {
    "ExecuteTime": {
     "end_time": "2021-10-22T09:28:45.483000+01:00",
     "start_time": "2021-10-22T08:28:45.480Z"
    }
   },
   "outputs": [
    {
     "data": {
      "text/plain": [
       "5-element Array{Float64,1}:\n",
       " 21222.2992\n",
       " 88344.4294\n",
       " 10545.2648\n",
       "    82.206485\n",
       "     0.241173851"
      ]
     },
     "execution_count": 14,
     "metadata": {},
     "output_type": "execute_result"
    }
   ],
   "source": [
    "pk_ccl = [2.12222992e+04,\n",
    "         8.83444294e+04,\n",
    "         1.05452648e+04,\n",
    "         8.22064850e+01,\n",
    "         2.41173851e-01]"
   ]
  },
  {
   "cell_type": "code",
   "execution_count": 15,
   "id": "efficient-renewal",
   "metadata": {
    "ExecuteTime": {
     "end_time": "2021-10-22T09:28:51.884000+01:00",
     "start_time": "2021-10-22T08:28:51.763Z"
    }
   },
   "outputs": [
    {
     "data": {
      "text/plain": [
       "5-element Array{Float64,1}:\n",
       " 0.9999668637521029\n",
       " 0.999999561198155\n",
       " 0.9983202163348244\n",
       " 1.000000336331971\n",
       " 0.9999730102145925"
      ]
     },
     "execution_count": 15,
     "metadata": {},
     "output_type": "execute_result"
    }
   ],
   "source": [
    "pk_julia./pk_ccl"
   ]
  },
  {
   "cell_type": "code",
   "execution_count": null,
   "id": "overhead-polls",
   "metadata": {},
   "outputs": [],
   "source": []
  }
 ],
 "metadata": {
  "kernelspec": {
   "display_name": "Julia 1.4.1",
   "language": "julia",
   "name": "julia-1.4"
  },
  "language_info": {
   "file_extension": ".jl",
   "mimetype": "application/julia",
   "name": "julia",
   "version": "1.4.1"
  }
 },
 "nbformat": 4,
 "nbformat_minor": 5
}
