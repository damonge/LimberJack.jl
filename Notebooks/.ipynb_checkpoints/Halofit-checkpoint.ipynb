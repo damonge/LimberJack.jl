{
 "cells": [
  {
   "cell_type": "markdown",
   "id": "compact-petroleum",
   "metadata": {},
   "source": [
    "# Imports"
   ]
  },
  {
   "cell_type": "code",
   "execution_count": 1,
   "id": "888f5e35",
   "metadata": {},
   "outputs": [
    {
     "name": "stderr",
     "output_type": "stream",
     "text": [
      "┌ Warning: The active manifest file is an older format with no julia version entry. Dependencies may have been resolved with a different julia version.\n",
      "└ @ nothing /home/jaime/PhD/LimberJack.jl/Manifest.toml:0\n",
      "\u001b[32m\u001b[1mPrecompiling\u001b[22m\u001b[39m project...\n",
      "\u001b[32m  ✓ \u001b[39mLimberJack\n",
      "  1 dependency successfully precompiled in 4 seconds (74 already precompiled)\n",
      "\u001b[32m\u001b[1mPrecompiling\u001b[22m\u001b[39m project...\n",
      "\u001b[32m  ✓ \u001b[39mLimberJack\n",
      "  1 dependency successfully precompiled in 4 seconds (74 already precompiled)\n"
     ]
    }
   ],
   "source": [
    "using Pkg\n",
    "Pkg.instantiate()\n",
    "Pkg.precompile()"
   ]
  },
  {
   "cell_type": "code",
   "execution_count": 2,
   "id": "lined-laser",
   "metadata": {
    "ExecuteTime": {
     "end_time": "2021-11-18T14:34:26.072000Z",
     "start_time": "2021-11-18T14:33:56.839Z"
    },
    "scrolled": false
   },
   "outputs": [
    {
     "data": {
      "text/plain": [
       "Main.LimberJack"
      ]
     },
     "execution_count": 2,
     "metadata": {},
     "output_type": "execute_result"
    }
   ],
   "source": [
    "include(\"/home/jaime/PhD/LimberJack.jl/src/LimberJack.jl\")"
   ]
  },
  {
   "cell_type": "code",
   "execution_count": 3,
   "id": "a7792f78",
   "metadata": {},
   "outputs": [],
   "source": [
    "params = LimberJack.CosmoPar(0.26, 0.05, 0.67, 0.96, 0.811, 2.755/2.7)\n",
    "cosmology = LimberJack.Cosmology(params, tk_mode=\"EisHu\");"
   ]
  },
  {
   "cell_type": "code",
   "execution_count": 4,
   "id": "07b01bea",
   "metadata": {},
   "outputs": [],
   "source": [
    "k = [0.0001, 0.001, 0.1, 1] #range(0.00001, 100, length=3);\n",
    "z = [0, 1, 2] #range(0, 3, length=5);"
   ]
  },
  {
   "cell_type": "code",
   "execution_count": 5,
   "id": "e3a0b23f",
   "metadata": {},
   "outputs": [
    {
     "data": {
      "text/plain": [
       "3-element Vector{Vector{Float64}}:\n",
       " [0.0, 0.0, 0.0, 0.0]\n",
       " [0.0001, 0.001, 0.1, 1.0]\n",
       " [0.0002, 0.002, 0.2, 2.0]"
      ]
     },
     "execution_count": 5,
     "metadata": {},
     "output_type": "execute_result"
    }
   ],
   "source": [
    "mat = [k].*z\n",
    "mat"
   ]
  },
  {
   "cell_type": "code",
   "execution_count": 6,
   "id": "1013ee69",
   "metadata": {},
   "outputs": [
    {
     "data": {
      "text/plain": [
       "3×4 Matrix{Float64}:\n",
       " 4037.85   35175.3   2295.63  108.297\n",
       " 1586.85   13842.1   2828.78   53.0511\n",
       "  763.029   6701.71  4313.95  123.82"
      ]
     },
     "execution_count": 6,
     "metadata": {},
     "output_type": "execute_result"
    }
   ],
   "source": [
    "PkL = LimberJack.power_spectrum(cosmology, k, z)"
   ]
  },
  {
   "cell_type": "code",
   "execution_count": 14,
   "id": "d0b4d9d5",
   "metadata": {},
   "outputs": [
    {
     "data": {
      "text/plain": [
       "3×4 Matrix{Float64}:\n",
       " 4037.85   35175.3   2295.63  108.297\n",
       " 1586.85   13842.1   2828.78   53.0511\n",
       "  763.029   6701.71  4313.95  123.82"
      ]
     },
     "execution_count": 14,
     "metadata": {},
     "output_type": "execute_result"
    }
   ],
   "source": [
    "PkL = LimberJack.power_spectrum(cosmology, k, z)"
   ]
  },
  {
   "cell_type": "code",
   "execution_count": 15,
   "id": "b8f48fc7",
   "metadata": {},
   "outputs": [
    {
     "data": {
      "text/plain": [
       "3-element Vector{Vector{Float64}}:\n",
       " [4038.555436854447, 35238.366738729965, 10222.003592158506, 71.68707969962459]\n",
       " [1586.8992657780318, 13846.470397460336, 4016.6069895059272, 28.168531030419903]\n",
       " [762.6722595034081, 6654.687598585893, 1930.4027636068965, 13.537946403503604]"
      ]
     },
     "execution_count": 15,
     "metadata": {},
     "output_type": "execute_result"
    }
   ],
   "source": [
    "Pk = LimberJack.power_spectrum(cosmology, k, z; non_linear=false)"
   ]
  },
  {
   "cell_type": "markdown",
   "id": "3a6361a5",
   "metadata": {},
   "source": [
    "### Goals:\n",
    "-to solve the error between ForwardDiff and CosmoPar \n",
    "\n",
    "-to obtain a non-linear power spectrum \n",
    "\n",
    "-to obtain a tracer based on a non-linear power spectrum  \n",
    "\n",
    "-to obtain a cl's based on the aforementioned tracer \n",
    "\n",
    "-to design a likelihood \n",
    "\n",
    "-to obtain a Julia HMC code"
   ]
  }
 ],
 "metadata": {
  "kernelspec": {
   "display_name": "Julia 1.7.0",
   "language": "julia",
   "name": "julia-1.7"
  },
  "language_info": {
   "file_extension": ".jl",
   "mimetype": "application/julia",
   "name": "julia",
   "version": "1.7.0"
  }
 },
 "nbformat": 4,
 "nbformat_minor": 5
}
