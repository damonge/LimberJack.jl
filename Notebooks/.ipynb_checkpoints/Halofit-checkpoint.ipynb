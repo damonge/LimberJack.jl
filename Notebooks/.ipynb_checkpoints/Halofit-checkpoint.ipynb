{
 "cells": [
  {
   "cell_type": "markdown",
   "id": "compact-petroleum",
   "metadata": {},
   "source": [
    "# Imports"
   ]
  },
  {
   "cell_type": "code",
   "execution_count": null,
   "id": "888f5e35",
   "metadata": {},
   "outputs": [],
   "source": [
    "using LimberJack"
   ]
  },
  {
   "cell_type": "code",
   "execution_count": null,
   "id": "ce20d3c4",
   "metadata": {
    "ExecuteTime": {
     "end_time": "2021-11-18T14:34:26.072000Z",
     "start_time": "2021-11-18T14:33:56.839Z"
    },
    "scrolled": false
   },
   "outputs": [],
   "source": [
    "#include(\"/home/jaime/PhD/LimberJack.jl/src/LimberJack.jl\")"
   ]
  },
  {
   "cell_type": "code",
   "execution_count": null,
   "id": "a7792f78",
   "metadata": {
    "scrolled": true
   },
   "outputs": [],
   "source": [
    "cosmo = Cosmology(0.30, 0.05, 0.67, 0.96, 0.81, tk_mode=\"EisHu\")\n",
    "k = [0.001, 0.01, 0.1, 1.0, 10.0]"
   ]
  },
  {
   "cell_type": "code",
   "execution_count": null,
   "id": "044af5bf",
   "metadata": {},
   "outputs": [],
   "source": [
    "PkL = cosmology.lin_Pk(0, k)"
   ]
  },
  {
   "cell_type": "code",
   "execution_count": null,
   "id": "77f73eb1",
   "metadata": {},
   "outputs": [],
   "source": [
    "Pk = cosmology.Pk(0, k)"
   ]
  },
  {
   "cell_type": "code",
   "execution_count": 5,
   "id": "233c0120",
   "metadata": {
    "scrolled": true
   },
   "outputs": [
    {
     "name": "stdout",
     "output_type": "stream",
     "text": [
      "[31627.954549527072, 102719.59752819476, 12053.04533673381, 827.2736069117245, 12.34423554751369]"
     ]
    }
   ],
   "source": [
    "print(cosmology.Pk(0,k))"
   ]
  },
  {
   "cell_type": "code",
   "execution_count": 6,
   "id": "2a6bcdd5",
   "metadata": {
    "scrolled": true
   },
   "outputs": [
    {
     "name": "stdout",
     "output_type": "stream",
     "text": [
      "[31657.696339719994, 103560.86069797516, 10372.853225836665, 66.31154577555328, 0.17184840221893863]"
     ]
    }
   ],
   "source": [
    "print(cosmology.lin_Pk(0,k))"
   ]
  },
  {
   "cell_type": "code",
   "execution_count": 7,
   "id": "e0c48ff7",
   "metadata": {
    "scrolled": true
   },
   "outputs": [
    {
     "ename": "LoadError",
     "evalue": "UndefVarError: plot not defined",
     "output_type": "error",
     "traceback": [
      "UndefVarError: plot not defined",
      "",
      "Stacktrace:",
      " [1] top-level scope",
      "   @ In[7]:1",
      " [2] eval",
      "   @ ./boot.jl:373 [inlined]",
      " [3] include_string(mapexpr::typeof(REPL.softscope), mod::Module, code::String, filename::String)",
      "   @ Base ./loading.jl:1196"
     ]
    }
   ],
   "source": [
    "plot(cosmology.ks, Pk, yaxis=:log, xaxis=:log, label = \"Non-linear\")\n",
    "plot!(cosmology.ks, PkL, yaxis=:log, xaxis=:log, label = \"Linear\")\n",
    "xlabel!(\"k\")\n",
    "ylabel!(\"Pk\")"
   ]
  },
  {
   "cell_type": "code",
   "execution_count": 8,
   "id": "e483c81d",
   "metadata": {},
   "outputs": [],
   "source": [
    "wz = @. exp(-0.5*((cosmology.zs-0.5)/0.05)^2)\n",
    "numbercounts = LimberJack.NumberCountsTracer(cosmology, cosmology.zs, wz, 2.);\n",
    "weaklensing = LimberJack.WeakLensingTracer(cosmology, cosmology.zs, wz);\n",
    "cmblensing = LimberJack.CMBLensingTracer(cosmology);"
   ]
  },
  {
   "cell_type": "code",
   "execution_count": 9,
   "id": "4913f0c6",
   "metadata": {},
   "outputs": [],
   "source": [
    "ls = [10, 30, 100, 300];"
   ]
  },
  {
   "cell_type": "code",
   "execution_count": 10,
   "id": "3a85181b",
   "metadata": {},
   "outputs": [
    {
     "data": {
      "text/plain": [
       "4-element Vector{Float64}:\n",
       " 9.741481514285312e-5\n",
       " 9.162500123773969e-5\n",
       " 3.175955463462927e-5\n",
       " 6.17733681458795e-6"
      ]
     },
     "execution_count": 10,
     "metadata": {},
     "output_type": "execute_result"
    }
   ],
   "source": [
    "[LimberJack.angularCℓ(cosmology, numbercounts,\n",
    "                     numbercounts, l) for l in ls]"
   ]
  },
  {
   "cell_type": "code",
   "execution_count": 11,
   "id": "6e22cfcb",
   "metadata": {},
   "outputs": [
    {
     "data": {
      "text/plain": [
       "4-element Vector{Float64}:\n",
       " 9.13564667026837e-8\n",
       " 8.136659801181365e-8\n",
       " 2.625493949917961e-8\n",
       " 5.08592944007628e-9"
      ]
     },
     "execution_count": 11,
     "metadata": {},
     "output_type": "execute_result"
    }
   ],
   "source": [
    "[LimberJack.angularCℓ(cosmology, numbercounts,\n",
    "                     weaklensing, l) for l in ls]"
   ]
  },
  {
   "cell_type": "code",
   "execution_count": 12,
   "id": "f9f0b3fa",
   "metadata": {},
   "outputs": [
    {
     "data": {
      "text/plain": [
       "4-element Vector{Float64}:\n",
       " 1.6923459640691228e-8\n",
       " 7.431006511060928e-9\n",
       " 1.5860286421867387e-9\n",
       " 3.8378669080734055e-10"
      ]
     },
     "execution_count": 12,
     "metadata": {},
     "output_type": "execute_result"
    }
   ],
   "source": [
    "[LimberJack.angularCℓ(cosmology, weaklensing,\n",
    "                     weaklensing, l) for l in ls]"
   ]
  },
  {
   "cell_type": "code",
   "execution_count": 13,
   "id": "ea91c456",
   "metadata": {},
   "outputs": [
    {
     "data": {
      "text/plain": [
       "4-element Vector{Float64}:\n",
       " 1.5316585558711871e-6\n",
       " 1.439053367126129e-6\n",
       " 4.988849838259534e-7\n",
       " 9.725097285463634e-8"
      ]
     },
     "execution_count": 13,
     "metadata": {},
     "output_type": "execute_result"
    }
   ],
   "source": [
    "[LimberJack.angularCℓ(cosmology, numbercounts,\n",
    "                     cmblensing, l) for l in ls]"
   ]
  },
  {
   "cell_type": "code",
   "execution_count": 14,
   "id": "7b478ac2",
   "metadata": {},
   "outputs": [
    {
     "data": {
      "text/plain": [
       "4-element Vector{Float64}:\n",
       " 2.9438810257329306e-8\n",
       " 1.4892494517262261e-8\n",
       " 3.4164387872057583e-9\n",
       " 7.740970518588434e-10"
      ]
     },
     "execution_count": 14,
     "metadata": {},
     "output_type": "execute_result"
    }
   ],
   "source": [
    "[LimberJack.angularCℓ(cosmology, weaklensing,\n",
    "                     cmblensing, l) for l in ls]"
   ]
  }
 ],
 "metadata": {
  "kernelspec": {
   "display_name": "Julia 1.7.0",
   "language": "julia",
   "name": "julia-1.7"
  },
  "language_info": {
   "file_extension": ".jl",
   "mimetype": "application/julia",
   "name": "julia",
   "version": "1.7.0"
  }
 },
 "nbformat": 4,
 "nbformat_minor": 5
}
