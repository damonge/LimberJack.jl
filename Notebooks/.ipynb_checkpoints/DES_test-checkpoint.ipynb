{
 "cells": [
  {
   "cell_type": "code",
   "execution_count": 7,
   "id": "02df9ee7",
   "metadata": {},
   "outputs": [],
   "source": [
    "using Turing\n",
    "using LimberJack\n",
    "using LinearAlgebra\n",
    "using CSV\n",
    "using NPZ\n",
    "using FITSIO\n",
    "using ForwardDiff\n",
    "using PythonCall"
   ]
  },
  {
   "cell_type": "code",
   "execution_count": 8,
   "id": "ec70eed2",
   "metadata": {},
   "outputs": [],
   "source": [
    "np = pyimport(\"numpy\")\n",
    "\n",
    "fol = \"DESY1\"\n",
    "data_set = \"gcgc_gcwl_wlwl\"\n",
    "meta = np.load(string(\"../data/\", fol, \"/\", data_set, \"_meta.npz\"))\n",
    "files = npzread(string(\"../data/\", fol, \"/\", data_set, \"_files.npz\"))\n",
    "\n",
    "tracers_names = pyconvert(Vector{String}, meta[\"tracers\"])\n",
    "pairs = pyconvert(Vector{Vector{String}}, meta[\"pairs\"]);\n",
    "pairs_ids = pyconvert(Vector{Vector{Int}}, meta[\"pairs_ids\"])\n",
    "idx = pyconvert(Vector{Int}, meta[\"idx\"])\n",
    "data_vector = pyconvert(Vector{Float64}, meta[\"cls\"])\n",
    "cov_tot = pyconvert(Matrix{Float64}, meta[\"cov\"])\n",
    "inv_cov_tot = pyconvert(Matrix{Float64}, meta[\"inv_cov\"]);"
   ]
  },
  {
   "cell_type": "code",
   "execution_count": null,
   "id": "b4db2c92",
   "metadata": {},
   "outputs": [],
   "source": [
    "#                Omega_b,           Omega_c          n_s,                 h,\n",
    "#                DESgc__0_gc_b,     DESgc__1_gc_b,   DESgc__2_gc_b,    DESgc__3_gc_b,    DESgc__4_gc_b,\n",
    "#                DESgc__0_dz,      DESgc__1_dz,      DESgc__2_dz,      DESgc__3_dz,      DESgc__4_dz,\n",
    "#                wl_ia_A,          wl_ia_eta, \n",
    "#                DESwl__0_wl_m,    DESwl__1_wl_m,    DESwl__2_wl_m,    DESwl__3_wl_m,\n",
    "#                DESwl__0_dz,      DESwl__1_dz,      DESwl__2_dz,      DESwl__3_dz,\n",
    "#                sigma_8,          Omega_m\n",
    "carlos_ params1 = [4.426868e-02,     2.093138e-01,     8.963611e-01,     8.495440e-01,\n",
    "                   1.343888e+00,    1.639047e+00,      1.597174e+00,     1.944583e+00,     2.007245e+00,\n",
    "                   -4.679383e-03,   -2.839996e-03,      1.771571e-03,     1.197051e-03,    -5.199799e-03,\n",
    "                    2.389208e-01,   -6.435288e-01, \n",
    "                    1.802722e-03,   -5.508994e-03,     1.952514e-02,    -1.117726e-03,\n",
    "                   -1.744083e-02,    6.777779e-03,    -1.097939e-03,    -4.912315e-03,\n",
    "                    8.536883e-01,    2.535825e-01];"
   ]
  },
  {
   "cell_type": "code",
   "execution_count": 10,
   "id": "7d1a182c",
   "metadata": {},
   "outputs": [],
   "source": [
    "cls_carlos = npzread(\"/home/jaime/PhD/LimberJack.jl/chains/carlos_chains/cl_cross_corr_v3_DES_2/cl_cross_corr_bestfit_info.npz\");\n",
    "cls_carlos2 = npzread(\"/home/jaime/PhD/LimberJack.jl/chains/carlos_chains/cl_cross_corr_v3_DES_2/cl_cross_corr_bestfit_info_nointerp.npz\");\n",
    "cls_carlos3 = npzread(\"/home/jaime/PhD/LimberJack.jl/chains/carlos_chains/cl_cross_corr_v3_DES_2/cl_cross_corr_bestfit_info_nointerp_EH.npz\");\n",
    "cls_carlos4 = npzread(\"/home/jaime/PhD/LimberJack.jl/chains/carlos_chains/cl_cross_corr_v3_DES_2/cl_cross_corr_bestfit_info_nointerp_EH_noconv.npz\");"
   ]
  },
  {
   "cell_type": "code",
   "execution_count": 11,
   "id": "417c990f",
   "metadata": {},
   "outputs": [
    {
     "data": {
      "text/plain": [
       "Dict{String, Float64} with 20 entries:\n",
       "  \"DESwl__2_e_dz\" => -0.00109794\n",
       "  \"DESwl__3_e_m\"  => -0.00111773\n",
       "  \"A_IA\"          => 0.238921\n",
       "  \"DESwl__0_e_m\"  => 0.00180272\n",
       "  \"DESwl__3_e_dz\" => -0.00491232\n",
       "  \"DESgc__3_0_dz\" => 0.00119705\n",
       "  \"DESgc__1_0_b\"  => 1.63905\n",
       "  \"DESgc__2_0_b\"  => 1.59717\n",
       "  \"DESwl__1_e_dz\" => 0.00677778\n",
       "  \"DESwl__1_e_m\"  => -0.00550899\n",
       "  \"DESgc__4_0_dz\" => -0.0051998\n",
       "  \"DESgc__3_0_b\"  => 1.94458\n",
       "  \"DESwl__2_e_m\"  => 0.0195251\n",
       "  \"DESgc__1_0_dz\" => -0.00284\n",
       "  \"DESgc__0_0_dz\" => -0.00467938\n",
       "  \"DESgc__4_0_b\"  => 2.00725\n",
       "  \"alpha_IA\"      => -0.643529\n",
       "  \"DESgc__0_0_b\"  => 1.34389\n",
       "  \"DESwl__0_e_dz\" => -0.0174408\n",
       "  \"DESgc__2_0_dz\" => 0.00177157"
      ]
     },
     "execution_count": 11,
     "metadata": {},
     "output_type": "execute_result"
    }
   ],
   "source": [
    "pars = carlos_params1\n",
    "nuisances = Dict(\"DESgc__0_0_b\" => pars[5],\n",
    "                 \"DESgc__1_0_b\" => pars[6],\n",
    "                 \"DESgc__2_0_b\" => pars[7],\n",
    "                 \"DESgc__3_0_b\" => pars[8],\n",
    "                 \"DESgc__4_0_b\" => pars[9],\n",
    "                 \"DESgc__0_0_dz\" => pars[10],\n",
    "                 \"DESgc__1_0_dz\" => pars[11],\n",
    "                 \"DESgc__2_0_dz\" => pars[12],\n",
    "                 \"DESgc__3_0_dz\" => pars[13],\n",
    "                 \"DESgc__4_0_dz\" => pars[14],\n",
    "\n",
    "                 \"A_IA\" => pars[15],\n",
    "                 \"alpha_IA\" => pars[16],\n",
    "\n",
    "                 \"DESwl__0_e_dz\" => pars[21],\n",
    "                 \"DESwl__1_e_dz\" => pars[22],\n",
    "                 \"DESwl__2_e_dz\" => pars[23],\n",
    "                 \"DESwl__3_e_dz\" => pars[24],\n",
    "                 \"DESwl__0_e_m\" => pars[17],\n",
    "                 \"DESwl__1_e_m\" => pars[18],\n",
    "                 \"DESwl__2_e_m\" => pars[19],\n",
    "                 \"DESwl__3_e_m\" => pars[20])"
   ]
  },
  {
   "cell_type": "code",
   "execution_count": 12,
   "id": "81b7ac69",
   "metadata": {},
   "outputs": [
    {
     "data": {
      "text/plain": [
       "make_cls (generic function with 1 method)"
      ]
     },
     "execution_count": 12,
     "metadata": {},
     "output_type": "execute_result"
    }
   ],
   "source": [
    "function make_cls(pars; mode=\"EisHu\", nuisances = nuisances)\n",
    "\n",
    "    Ωm = pars[26]\n",
    "    Ωb = pars[1]\n",
    "    h = pars[4]\n",
    "    ns = pars[3]\n",
    "    s8 = pars[25]\n",
    "    cosmology = LimberJack.Cosmology(Ωm, Ωb, h, ns, s8, \n",
    "                                     tk_mode=mode, Pk_mode=\"Halofit\")#, \n",
    "                                     #nk=500, nz=500, nz_pk=500)\n",
    "\n",
    "    return Theory(cosmology, tracers_names, pairs,\n",
    "                  pairs_ids, idx, files;\n",
    "                  Nuisances=nuisances)\n",
    "\n",
    "end"
   ]
  },
  {
   "cell_type": "markdown",
   "id": "3dcf3e15",
   "metadata": {
    "heading_collapsed": true
   },
   "source": [
    "## plot lkl"
   ]
  },
  {
   "cell_type": "code",
   "execution_count": 7,
   "id": "84e2d337",
   "metadata": {
    "hidden": true
   },
   "outputs": [
    {
     "data": {
      "text/plain": [
       "make_Xi (generic function with 1 method)"
      ]
     },
     "execution_count": 7,
     "metadata": {},
     "output_type": "execute_result"
    }
   ],
   "source": [
    "#using Plots\n",
    "function make_Xi(Ωm, s8; pars=pars, mode=\"EisHu\", nuisances=nuisances)\n",
    "    Ωb = pars[1]\n",
    "    h = pars[4]\n",
    "    ns = pars[3]\n",
    "    cosmology = LimberJack.Cosmology(Ωm, Ωb, h, ns, s8, \n",
    "                                     tk_mode=mode, Pk_mode=\"Halofit\")\n",
    "\n",
    "    theory = Theory(cosmology, tracers_names, pairs,\n",
    "                    pairs_ids, idx, files;\n",
    "                    Nuisances=nuisances)\n",
    "    return dot((theory .- data_vector), inv_cov_tot  * (theory .- data_vector))\n",
    "end"
   ]
  },
  {
   "cell_type": "code",
   "execution_count": 19,
   "id": "bae23a9a",
   "metadata": {
    "hidden": true
   },
   "outputs": [
    {
     "data": {
      "text/plain": [
       "10-element LinRange{Float64, Int64}:\n",
       " 0.6,0.633333,0.666667,0.7,0.733333,0.766667,0.8,0.833333,0.866667,0.9"
      ]
     },
     "execution_count": 19,
     "metadata": {},
     "output_type": "execute_result"
    }
   ],
   "source": [
    "Ωms = LinRange(0.1, 0.6, 10)\n",
    "s8s = LinRange(0.6, 0.9, 10)"
   ]
  },
  {
   "cell_type": "code",
   "execution_count": 20,
   "id": "291c8884",
   "metadata": {
    "hidden": true
   },
   "outputs": [
    {
     "data": {
      "text/plain": [
       "10-element Vector{Vector{Float64}}:\n",
       " [3698.891721109562, 1780.5847004420193, 1725.3448554542642, 1709.4046847106786, 1683.9241504047316, 1665.3269390752637, 1675.6134355843524, 1738.5998900961874, 1869.9155727971836, 2093.089086703927]\n",
       " [4116.171027593573, 1604.833608551068, 1499.2396224492306, 1472.9515726208765, 1452.8717662107883, 1454.9958101394075, 1503.6433595285769, 1625.2707031805637, 1838.4102168332097, 2170.8432390638054]\n",
       " [4676.474251243173, 1454.8581670322144, 1286.3700604813425, 1248.6974774845603, 1238.2996419694725, 1269.5303574280601, 1368.5539872494508, 1564.3255391856503, 1878.8204125218765, 2345.1806213091127]\n",
       " [5402.211220112912, 1337.8403119950244, 1092.1990584856464, 1042.2610686781882, 1046.6793731492407, 1116.544241164355, 1279.2475362037235, 1566.165188615207, 2003.5482614981272, 2631.4621140725076]\n",
       " [6318.076557179494, 1261.7689453427624, 922.8116878297649, 859.8641577361749, 885.0473550626258, 1004.1338480732711, 1245.030048744554, 1641.5934770846743, 2225.5665969755282, 3046.062713840996]\n",
       " [7451.316399258637, 1235.5018292723805, 784.9584442932318, 708.3470588726393, 760.9923567639675, 940.854996824312, 1275.6071104633727, 1801.8649201700484, 2558.5545497341363, 3606.6428339346135]\n",
       " [8832.042244128963, 1268.8419475045237, 686.0965097762587, 595.1810380301553, 682.6459394915402, 935.7135886844216, 1381.1052776659144, 2058.7677871649935, 3017.0778717993394, 4332.476689042672]\n",
       " [10493.596378033886, 1372.6331406286681, 634.4287866502871, 528.4791485288958, 658.6782783976857, 998.1722728717675, 1572.1193601476416, 2424.7409991908453, 3616.8118175841637, 5244.834738236909]\n",
       " [12472.972835341317, 1558.8315527124334, 638.9406761181981, 517.0068173417526, 698.3014674172113, 1138.1743054104193, 1859.7850694023664, 2913.0233385905776, 4374.80475074584, 6367.416489009835]\n",
       " [14811.297194895764, 1840.6014309219343, 709.4340246091886, 570.1935040648467, 811.2818853802587, 1366.1851104824123, 2255.8762667060823, 3537.833691125998, 5309.780699107389, 7726.82878756173]"
      ]
     },
     "execution_count": 20,
     "metadata": {},
     "output_type": "execute_result"
    }
   ],
   "source": [
    "Xis1 = [[make_Xi(Ωms[i], s8s[j]) for i in 1:length(Ωms)] for j in 1:length(s8s)]"
   ]
  },
  {
   "cell_type": "code",
   "execution_count": 21,
   "id": "e7407ce2",
   "metadata": {
    "hidden": true
   },
   "outputs": [
    {
     "data": {
      "text/plain": [
       "10-element Vector{Vector{Float64}}:\n",
       " [4643.494321208539, 1869.0625491727003, 1723.1223155932373, 1591.3222830729853, 1649.9209409346195, 1761.6043015395305, 1717.5988240356508, 1818.9480698213958, 1945.6361725474, 2101.714712974118]\n",
       " [4695.598660231949, 1668.6172725491729, 1579.0138557327916, 1479.0894077582254, 1478.7030260428955, 1542.4365522727692, 1546.6379861191144, 1648.1402012160543, 1880.4964241002783, 2179.359645935979]\n",
       " [5028.388922168973, 1467.4353136338393, 1326.2463266735322, 1248.2687842372063, 1209.8910289411424, 1315.5182062853685, 1404.3001720140007, 1587.6548570619245, 1895.6785866554594, 2334.198337682341]\n",
       " [5562.686991276599, 1304.020825657619, 1105.9946091686909, 997.2414990208352, 978.3172944028744, 1139.793082059862, 1270.7539488313303, 1571.9307174888606, 2011.689138208753, 2615.7145352796247]\n",
       " [6193.019983881361, 1232.442732930393, 945.2602680702212, 859.7434489445171, 822.0427846930223, 996.959797237627, 1230.5817675741762, 1643.7557383860383, 2218.8540917049945, 3224.413166265943]\n",
       " [7169.133858203343, 1217.645177435569, 813.2702301880621, 700.4325059909021, 730.560098388079, 929.7716361842942, 1286.7772725831219, 1843.5936790188343, 2565.2968613702583, 3612.7983155130555]\n",
       " [8264.168668470054, 1244.9927011256518, 706.6083546926283, 584.8686945306563, 678.5762354613225, 915.7850237456872, 1385.0829624447151, 2036.7644200713667, 2950.7238835792405, 4138.887397324457]\n",
       " [9389.63577251343, 1341.8384685952528, 638.7207825695904, 528.683519406698, 660.5659519180323, 980.7392658850982, 1543.8757194036746, 2408.4897362616234, 3601.621112572718, 5731.448124893233]\n",
       " [11047.27283303311, 1541.5119485252123, 674.6360302043477, 549.1221825518468, 696.0687521327171, 1150.828810016342, 1964.5997468388916, 3156.6069295528746, 4981.859696193712, 9172.103278832848]\n",
       " [14465.309242018331, 1875.0597788560076, 772.1333560686365, 668.1423786401023, 925.7260380013436, 1405.6765579759538, 2797.9319313719893, 4901.629864343874, 6727.549928639049, 16749.636595348427]"
      ]
     },
     "execution_count": 21,
     "metadata": {},
     "output_type": "execute_result"
    }
   ],
   "source": [
    "Xis2 = [[make_Xi(Ωms[i], s8s[j]; mode=\"emulator\") for i in 1:length(Ωms)] for j in 1:length(s8s)]"
   ]
  },
  {
   "cell_type": "code",
   "execution_count": 23,
   "id": "b37c8624",
   "metadata": {
    "hidden": true
   },
   "outputs": [
    {
     "ename": "LoadError",
     "evalue": "MethodError: no method matching zero(::Type{Vector{Float64}})\n\u001b[0mClosest candidates are:\n\u001b[0m  zero(\u001b[91m::Union{Type{P}, P}\u001b[39m) where P<:Dates.Period at /opt/julia-1.7.0/share/julia/stdlib/v1.7/Dates/src/periods.jl:53\n\u001b[0m  zero(\u001b[91m::Static.StaticInt\u001b[39m) at ~/.julia/packages/Static/maaLb/src/Static.jl:46\n\u001b[0m  zero(\u001b[91m::Static.NDIndex\u001b[39m) at ~/.julia/packages/Static/maaLb/src/Static.jl:850\n\u001b[0m  ...",
     "output_type": "error",
     "traceback": [
      "MethodError: no method matching zero(::Type{Vector{Float64}})\n\u001b[0mClosest candidates are:\n\u001b[0m  zero(\u001b[91m::Union{Type{P}, P}\u001b[39m) where P<:Dates.Period at /opt/julia-1.7.0/share/julia/stdlib/v1.7/Dates/src/periods.jl:53\n\u001b[0m  zero(\u001b[91m::Static.StaticInt\u001b[39m) at ~/.julia/packages/Static/maaLb/src/Static.jl:46\n\u001b[0m  zero(\u001b[91m::Static.NDIndex\u001b[39m) at ~/.julia/packages/Static/maaLb/src/Static.jl:850\n\u001b[0m  ...",
      "",
      "Stacktrace:",
      " [1] _vectorpinv(dualfn::typeof(adjoint), v::Vector{Vector{Float64}}, tol::Int64)",
      "   @ LinearAlgebra /opt/julia-1.7.0/share/julia/stdlib/v1.7/LinearAlgebra/src/generic.jl:1080",
      " [2] pinv(v::Vector{Vector{Float64}}, tol::Int64)",
      "   @ LinearAlgebra /opt/julia-1.7.0/share/julia/stdlib/v1.7/LinearAlgebra/src/generic.jl:1078",
      " [3] pinv(v::Adjoint{Adjoint{Float64, Vector{Float64}}, Vector{Vector{Float64}}}, tol::Int64) (repeats 2 times)",
      "   @ LinearAlgebra /opt/julia-1.7.0/share/julia/stdlib/v1.7/LinearAlgebra/src/adjtrans.jl:311",
      " [4] \\(u::Adjoint{Adjoint{Float64, Vector{Float64}}, Vector{Vector{Float64}}}, v::Adjoint{Adjoint{Float64, Vector{Float64}}, Vector{Vector{Float64}}})",
      "   @ LinearAlgebra /opt/julia-1.7.0/share/julia/stdlib/v1.7/LinearAlgebra/src/adjtrans.jl:316",
      " [5] /(A::Vector{Vector{Float64}}, B::Vector{Vector{Float64}})",
      "   @ LinearAlgebra /opt/julia-1.7.0/share/julia/stdlib/v1.7/LinearAlgebra/src/generic.jl:1150",
      " [6] top-level scope",
      "   @ In[23]:1",
      " [7] eval",
      "   @ ./boot.jl:373 [inlined]",
      " [8] include_string(mapexpr::typeof(REPL.softscope), mod::Module, code::String, filename::String)",
      "   @ Base ./loading.jl:1196"
     ]
    }
   ],
   "source": [
    "((Xis2-Xis1)/Xis1)"
   ]
  },
  {
   "cell_type": "markdown",
   "id": "69f75cfc",
   "metadata": {
    "heading_collapsed": true
   },
   "source": [
    "## tests"
   ]
  },
  {
   "cell_type": "code",
   "execution_count": 19,
   "id": "db98178a",
   "metadata": {
    "hidden": true
   },
   "outputs": [
    {
     "data": {
      "text/plain": [
       "numd_cls_nuisance (generic function with 1 method)"
      ]
     },
     "execution_count": 19,
     "metadata": {},
     "output_type": "execute_result"
    }
   ],
   "source": [
    "function diff_cls(Wb)\n",
    "    cosmology = LimberJack.Cosmology(0.3, Wb, 0.67, 0.96, 0.81,\n",
    "                                     tk_mode=\"EisHu\", Pk_mode=\"Halofit\")\n",
    "    cls = Theory(cosmology, files)\n",
    "    return cls\n",
    "end\n",
    "\n",
    "function numd_cls(Wb)\n",
    "    cosmology1 = LimberJack.Cosmology(0.3, Wb, 0.67, 0.96, 0.81,\n",
    "                                     tk_mode=\"EisHu\", Pk_mode=\"Halofit\")\n",
    "    cosmology2 = LimberJack.Cosmology(0.3, Wb-0.0001, 0.67, 0.96, 0.81,\n",
    "                                     tk_mode=\"EisHu\", Pk_mode=\"Halofit\")\n",
    "    cls1 = Theory(cosmology1, files)\n",
    "    cls2 = Theory(cosmology2, files)\n",
    "    return (cls1 .- cls2) ./ 0.0001\n",
    "end\n",
    "\n",
    "\n",
    "function diff_cls_nuisance(dz)\n",
    "    nuisances = Dict(#\"b0\" => 2.0,\n",
    "                     \"dz_g2\"=> dz)\n",
    "    cosmology = LimberJack.Cosmology(0.3, 0.05, 0.67, 0.96, 0.81,\n",
    "                                     tk_mode=\"EisHu\", Pk_mode=\"Halofit\")\n",
    "    cls = Theory(cosmology, files; Nuisances=nuisances)\n",
    "    return cls\n",
    "end\n",
    "\n",
    "function numd_cls_nuisance(dz)\n",
    "    nuisances1 = Dict(#\"b0\" => 2.0,\n",
    "                      \"dz_g2\"=> dz)\n",
    "    nuisances2 = Dict(#\"b0\" => 2.0,\n",
    "                      \"dz_g2\"=> dz.-0.0005)\n",
    "    cosmology = LimberJack.Cosmology(0.3, 0.05, 0.67, 0.96, 0.81,\n",
    "                                     tk_mode=\"EisHu\", Pk_mode=\"Halofit\")\n",
    "    cls1 = Theory(cosmology, files; Nuisances=nuisances1)\n",
    "    cls2 = Theory(cosmology, files; Nuisances=nuisances2)\n",
    "    return (cls1 .- cls2) ./ 0.0005\n",
    "end\n",
    "\n"
   ]
  },
  {
   "cell_type": "code",
   "execution_count": 9,
   "id": "b745ebff",
   "metadata": {
    "hidden": true
   },
   "outputs": [
    {
     "ename": "LoadError",
     "evalue": "UndefVarError: files not defined",
     "output_type": "error",
     "traceback": [
      "UndefVarError: files not defined",
      "",
      "Stacktrace:",
      " [1] numd_cls(Wb::Float64)",
      "   @ Main ./In[8]:13",
      " [2] top-level scope",
      "   @ In[9]:1",
      " [3] eval",
      "   @ ./boot.jl:373 [inlined]",
      " [4] include_string(mapexpr::typeof(REPL.softscope), mod::Module, code::String, filename::String)",
      "   @ Base ./loading.jl:1196"
     ]
    }
   ],
   "source": [
    "mean(abs.(numd_cls(0.05)./ForwardDiff.derivative(diff_cls, 0.05) .-1))"
   ]
  },
  {
   "cell_type": "code",
   "execution_count": 10,
   "id": "77aca8ac",
   "metadata": {
    "hidden": true
   },
   "outputs": [
    {
     "ename": "LoadError",
     "evalue": "UndefVarError: files not defined",
     "output_type": "error",
     "traceback": [
      "UndefVarError: files not defined",
      "",
      "Stacktrace:",
      " [1] numd_cls(Wb::Float64)",
      "   @ Main ./In[8]:13",
      " [2] top-level scope",
      "   @ In[10]:1",
      " [3] eval",
      "   @ ./boot.jl:373 [inlined]",
      " [4] include_string(mapexpr::typeof(REPL.softscope), mod::Module, code::String, filename::String)",
      "   @ Base ./loading.jl:1196"
     ]
    }
   ],
   "source": [
    "comp = abs.(numd_cls(0.05)./ForwardDiff.derivative(diff_cls, 0.05) .-1)\n",
    "plot(comp)"
   ]
  },
  {
   "cell_type": "code",
   "execution_count": 12,
   "id": "960b63b0",
   "metadata": {
    "hidden": true
   },
   "outputs": [
    {
     "name": "stdout",
     "output_type": "stream",
     "text": [
      "1.9066546024643162e-8\n"
     ]
    },
    {
     "data": {
      "image/svg+xml": [
       "<?xml version=\"1.0\" encoding=\"utf-8\"?>\n",
       "<svg xmlns=\"http://www.w3.org/2000/svg\" xmlns:xlink=\"http://www.w3.org/1999/xlink\" width=\"600\" height=\"400\" viewBox=\"0 0 2400 1600\">\n",
       "<defs>\n",
       "  <clipPath id=\"clip360\">\n",
       "    <rect x=\"0\" y=\"0\" width=\"2400\" height=\"1600\"/>\n",
       "  </clipPath>\n",
       "</defs>\n",
       "<path clip-path=\"url(#clip360)\" d=\"\n",
       "M0 1600 L2400 1600 L2400 0 L0 0  Z\n",
       "  \" fill=\"#ffffff\" fill-rule=\"evenodd\" fill-opacity=\"1\"/>\n",
       "<defs>\n",
       "  <clipPath id=\"clip361\">\n",
       "    <rect x=\"480\" y=\"0\" width=\"1681\" height=\"1600\"/>\n",
       "  </clipPath>\n",
       "</defs>\n",
       "<path clip-path=\"url(#clip360)\" d=\"\n",
       "M156.598 1486.45 L2352.76 1486.45 L2352.76 47.2441 L156.598 47.2441  Z\n",
       "  \" fill=\"#ffffff\" fill-rule=\"evenodd\" fill-opacity=\"1\"/>\n",
       "<defs>\n",
       "  <clipPath id=\"clip362\">\n",
       "    <rect x=\"156\" y=\"47\" width=\"2197\" height=\"1440\"/>\n",
       "  </clipPath>\n",
       "</defs>\n",
       "<polyline clip-path=\"url(#clip362)\" style=\"stroke:#000000; stroke-linecap:butt; stroke-linejoin:round; stroke-width:2; stroke-opacity:0.1; fill:none\" points=\"\n",
       "  214.383,1486.45 214.383,47.2441 \n",
       "  \"/>\n",
       "<polyline clip-path=\"url(#clip362)\" style=\"stroke:#000000; stroke-linecap:butt; stroke-linejoin:round; stroke-width:2; stroke-opacity:0.1; fill:none\" points=\"\n",
       "  651.481,1486.45 651.481,47.2441 \n",
       "  \"/>\n",
       "<polyline clip-path=\"url(#clip362)\" style=\"stroke:#000000; stroke-linecap:butt; stroke-linejoin:round; stroke-width:2; stroke-opacity:0.1; fill:none\" points=\"\n",
       "  1088.58,1486.45 1088.58,47.2441 \n",
       "  \"/>\n",
       "<polyline clip-path=\"url(#clip362)\" style=\"stroke:#000000; stroke-linecap:butt; stroke-linejoin:round; stroke-width:2; stroke-opacity:0.1; fill:none\" points=\"\n",
       "  1525.68,1486.45 1525.68,47.2441 \n",
       "  \"/>\n",
       "<polyline clip-path=\"url(#clip362)\" style=\"stroke:#000000; stroke-linecap:butt; stroke-linejoin:round; stroke-width:2; stroke-opacity:0.1; fill:none\" points=\"\n",
       "  1962.78,1486.45 1962.78,47.2441 \n",
       "  \"/>\n",
       "<polyline clip-path=\"url(#clip360)\" style=\"stroke:#000000; stroke-linecap:butt; stroke-linejoin:round; stroke-width:4; stroke-opacity:1; fill:none\" points=\"\n",
       "  156.598,1486.45 2352.76,1486.45 \n",
       "  \"/>\n",
       "<polyline clip-path=\"url(#clip360)\" style=\"stroke:#000000; stroke-linecap:butt; stroke-linejoin:round; stroke-width:4; stroke-opacity:1; fill:none\" points=\"\n",
       "  214.383,1486.45 214.383,1467.55 \n",
       "  \"/>\n",
       "<polyline clip-path=\"url(#clip360)\" style=\"stroke:#000000; stroke-linecap:butt; stroke-linejoin:round; stroke-width:4; stroke-opacity:1; fill:none\" points=\"\n",
       "  651.481,1486.45 651.481,1467.55 \n",
       "  \"/>\n",
       "<polyline clip-path=\"url(#clip360)\" style=\"stroke:#000000; stroke-linecap:butt; stroke-linejoin:round; stroke-width:4; stroke-opacity:1; fill:none\" points=\"\n",
       "  1088.58,1486.45 1088.58,1467.55 \n",
       "  \"/>\n",
       "<polyline clip-path=\"url(#clip360)\" style=\"stroke:#000000; stroke-linecap:butt; stroke-linejoin:round; stroke-width:4; stroke-opacity:1; fill:none\" points=\"\n",
       "  1525.68,1486.45 1525.68,1467.55 \n",
       "  \"/>\n",
       "<polyline clip-path=\"url(#clip360)\" style=\"stroke:#000000; stroke-linecap:butt; stroke-linejoin:round; stroke-width:4; stroke-opacity:1; fill:none\" points=\"\n",
       "  1962.78,1486.45 1962.78,1467.55 \n",
       "  \"/>\n",
       "<path clip-path=\"url(#clip360)\" d=\"M214.383 1517.37 Q210.772 1517.37 208.943 1520.93 Q207.137 1524.47 207.137 1531.6 Q207.137 1538.71 208.943 1542.27 Q210.772 1545.82 214.383 1545.82 Q218.017 1545.82 219.822 1542.27 Q221.651 1538.71 221.651 1531.6 Q221.651 1524.47 219.822 1520.93 Q218.017 1517.37 214.383 1517.37 M214.383 1513.66 Q220.193 1513.66 223.248 1518.27 Q226.327 1522.85 226.327 1531.6 Q226.327 1540.33 223.248 1544.94 Q220.193 1549.52 214.383 1549.52 Q208.573 1549.52 205.494 1544.94 Q202.438 1540.33 202.438 1531.6 Q202.438 1522.85 205.494 1518.27 Q208.573 1513.66 214.383 1513.66 Z\" fill=\"#000000\" fill-rule=\"evenodd\" fill-opacity=\"1\" /><path clip-path=\"url(#clip360)\" d=\"M611.088 1544.91 L618.727 1544.91 L618.727 1518.55 L610.417 1520.21 L610.417 1515.95 L618.68 1514.29 L623.356 1514.29 L623.356 1544.91 L630.995 1544.91 L630.995 1548.85 L611.088 1548.85 L611.088 1544.91 Z\" fill=\"#000000\" fill-rule=\"evenodd\" fill-opacity=\"1\" /><path clip-path=\"url(#clip360)\" d=\"M650.439 1517.37 Q646.828 1517.37 645 1520.93 Q643.194 1524.47 643.194 1531.6 Q643.194 1538.71 645 1542.27 Q646.828 1545.82 650.439 1545.82 Q654.074 1545.82 655.879 1542.27 Q657.708 1538.71 657.708 1531.6 Q657.708 1524.47 655.879 1520.93 Q654.074 1517.37 650.439 1517.37 M650.439 1513.66 Q656.25 1513.66 659.305 1518.27 Q662.384 1522.85 662.384 1531.6 Q662.384 1540.33 659.305 1544.94 Q656.25 1549.52 650.439 1549.52 Q644.629 1549.52 641.551 1544.94 Q638.495 1540.33 638.495 1531.6 Q638.495 1522.85 641.551 1518.27 Q644.629 1513.66 650.439 1513.66 Z\" fill=\"#000000\" fill-rule=\"evenodd\" fill-opacity=\"1\" /><path clip-path=\"url(#clip360)\" d=\"M680.601 1517.37 Q676.99 1517.37 675.162 1520.93 Q673.356 1524.47 673.356 1531.6 Q673.356 1538.71 675.162 1542.27 Q676.99 1545.82 680.601 1545.82 Q684.236 1545.82 686.041 1542.27 Q687.87 1538.71 687.87 1531.6 Q687.87 1524.47 686.041 1520.93 Q684.236 1517.37 680.601 1517.37 M680.601 1513.66 Q686.412 1513.66 689.467 1518.27 Q692.546 1522.85 692.546 1531.6 Q692.546 1540.33 689.467 1544.94 Q686.412 1549.52 680.601 1549.52 Q674.791 1549.52 671.713 1544.94 Q668.657 1540.33 668.657 1531.6 Q668.657 1522.85 671.713 1518.27 Q674.791 1513.66 680.601 1513.66 Z\" fill=\"#000000\" fill-rule=\"evenodd\" fill-opacity=\"1\" /><path clip-path=\"url(#clip360)\" d=\"M1052.27 1544.91 L1068.59 1544.91 L1068.59 1548.85 L1046.65 1548.85 L1046.65 1544.91 Q1049.31 1542.16 1053.89 1537.53 Q1058.5 1532.88 1059.68 1531.53 Q1061.92 1529.01 1062.8 1527.27 Q1063.71 1525.51 1063.71 1523.82 Q1063.71 1521.07 1061.76 1519.33 Q1059.84 1517.6 1056.74 1517.6 Q1054.54 1517.6 1052.09 1518.36 Q1049.66 1519.13 1046.88 1520.68 L1046.88 1515.95 Q1049.7 1514.82 1052.16 1514.24 Q1054.61 1513.66 1056.65 1513.66 Q1062.02 1513.66 1065.21 1516.35 Q1068.41 1519.03 1068.41 1523.52 Q1068.41 1525.65 1067.6 1527.57 Q1066.81 1529.47 1064.7 1532.07 Q1064.12 1532.74 1061.02 1535.95 Q1057.92 1539.15 1052.27 1544.91 Z\" fill=\"#000000\" fill-rule=\"evenodd\" fill-opacity=\"1\" /><path clip-path=\"url(#clip360)\" d=\"M1088.41 1517.37 Q1084.79 1517.37 1082.97 1520.93 Q1081.16 1524.47 1081.16 1531.6 Q1081.16 1538.71 1082.97 1542.27 Q1084.79 1545.82 1088.41 1545.82 Q1092.04 1545.82 1093.85 1542.27 Q1095.67 1538.71 1095.67 1531.6 Q1095.67 1524.47 1093.85 1520.93 Q1092.04 1517.37 1088.41 1517.37 M1088.41 1513.66 Q1094.22 1513.66 1097.27 1518.27 Q1100.35 1522.85 1100.35 1531.6 Q1100.35 1540.33 1097.27 1544.94 Q1094.22 1549.52 1088.41 1549.52 Q1082.6 1549.52 1079.52 1544.94 Q1076.46 1540.33 1076.46 1531.6 Q1076.46 1522.85 1079.52 1518.27 Q1082.6 1513.66 1088.41 1513.66 Z\" fill=\"#000000\" fill-rule=\"evenodd\" fill-opacity=\"1\" /><path clip-path=\"url(#clip360)\" d=\"M1118.57 1517.37 Q1114.96 1517.37 1113.13 1520.93 Q1111.32 1524.47 1111.32 1531.6 Q1111.32 1538.71 1113.13 1542.27 Q1114.96 1545.82 1118.57 1545.82 Q1122.2 1545.82 1124.01 1542.27 Q1125.84 1538.71 1125.84 1531.6 Q1125.84 1524.47 1124.01 1520.93 Q1122.2 1517.37 1118.57 1517.37 M1118.57 1513.66 Q1124.38 1513.66 1127.43 1518.27 Q1130.51 1522.85 1130.51 1531.6 Q1130.51 1540.33 1127.43 1544.94 Q1124.38 1549.52 1118.57 1549.52 Q1112.76 1549.52 1109.68 1544.94 Q1106.62 1540.33 1106.62 1531.6 Q1106.62 1522.85 1109.68 1518.27 Q1112.76 1513.66 1118.57 1513.66 Z\" fill=\"#000000\" fill-rule=\"evenodd\" fill-opacity=\"1\" /><path clip-path=\"url(#clip360)\" d=\"M1499.44 1530.21 Q1502.8 1530.93 1504.67 1533.2 Q1506.57 1535.47 1506.57 1538.8 Q1506.57 1543.92 1503.05 1546.72 Q1499.53 1549.52 1493.05 1549.52 Q1490.88 1549.52 1488.56 1549.08 Q1486.27 1548.66 1483.81 1547.81 L1483.81 1543.29 Q1485.76 1544.43 1488.07 1545.01 Q1490.39 1545.58 1492.91 1545.58 Q1497.31 1545.58 1499.6 1543.85 Q1501.92 1542.11 1501.92 1538.8 Q1501.92 1535.75 1499.76 1534.03 Q1497.63 1532.3 1493.81 1532.3 L1489.79 1532.3 L1489.79 1528.45 L1494 1528.45 Q1497.45 1528.45 1499.28 1527.09 Q1501.11 1525.7 1501.11 1523.11 Q1501.11 1520.45 1499.21 1519.03 Q1497.33 1517.6 1493.81 1517.6 Q1491.89 1517.6 1489.69 1518.01 Q1487.5 1518.43 1484.86 1519.31 L1484.86 1515.14 Q1487.52 1514.4 1489.83 1514.03 Q1492.17 1513.66 1494.23 1513.66 Q1499.56 1513.66 1502.66 1516.09 Q1505.76 1518.5 1505.76 1522.62 Q1505.76 1525.49 1504.12 1527.48 Q1502.47 1529.45 1499.44 1530.21 Z\" fill=\"#000000\" fill-rule=\"evenodd\" fill-opacity=\"1\" /><path clip-path=\"url(#clip360)\" d=\"M1525.44 1517.37 Q1521.82 1517.37 1520 1520.93 Q1518.19 1524.47 1518.19 1531.6 Q1518.19 1538.71 1520 1542.27 Q1521.82 1545.82 1525.44 1545.82 Q1529.07 1545.82 1530.87 1542.27 Q1532.7 1538.71 1532.7 1531.6 Q1532.7 1524.47 1530.87 1520.93 Q1529.07 1517.37 1525.44 1517.37 M1525.44 1513.66 Q1531.25 1513.66 1534.3 1518.27 Q1537.38 1522.85 1537.38 1531.6 Q1537.38 1540.33 1534.3 1544.94 Q1531.25 1549.52 1525.44 1549.52 Q1519.62 1549.52 1516.55 1544.94 Q1513.49 1540.33 1513.49 1531.6 Q1513.49 1522.85 1516.55 1518.27 Q1519.62 1513.66 1525.44 1513.66 Z\" fill=\"#000000\" fill-rule=\"evenodd\" fill-opacity=\"1\" /><path clip-path=\"url(#clip360)\" d=\"M1555.6 1517.37 Q1551.99 1517.37 1550.16 1520.93 Q1548.35 1524.47 1548.35 1531.6 Q1548.35 1538.71 1550.16 1542.27 Q1551.99 1545.82 1555.6 1545.82 Q1559.23 1545.82 1561.04 1542.27 Q1562.87 1538.71 1562.87 1531.6 Q1562.87 1524.47 1561.04 1520.93 Q1559.23 1517.37 1555.6 1517.37 M1555.6 1513.66 Q1561.41 1513.66 1564.46 1518.27 Q1567.54 1522.85 1567.54 1531.6 Q1567.54 1540.33 1564.46 1544.94 Q1561.41 1549.52 1555.6 1549.52 Q1549.79 1549.52 1546.71 1544.94 Q1543.65 1540.33 1543.65 1531.6 Q1543.65 1522.85 1546.71 1518.27 Q1549.79 1513.66 1555.6 1513.66 Z\" fill=\"#000000\" fill-rule=\"evenodd\" fill-opacity=\"1\" /><path clip-path=\"url(#clip360)\" d=\"M1935.87 1518.36 L1924.06 1536.81 L1935.87 1536.81 L1935.87 1518.36 M1934.64 1514.29 L1940.52 1514.29 L1940.52 1536.81 L1945.45 1536.81 L1945.45 1540.7 L1940.52 1540.7 L1940.52 1548.85 L1935.87 1548.85 L1935.87 1540.7 L1920.27 1540.7 L1920.27 1536.19 L1934.64 1514.29 Z\" fill=\"#000000\" fill-rule=\"evenodd\" fill-opacity=\"1\" /><path clip-path=\"url(#clip360)\" d=\"M1963.18 1517.37 Q1959.57 1517.37 1957.74 1520.93 Q1955.94 1524.47 1955.94 1531.6 Q1955.94 1538.71 1957.74 1542.27 Q1959.57 1545.82 1963.18 1545.82 Q1966.82 1545.82 1968.62 1542.27 Q1970.45 1538.71 1970.45 1531.6 Q1970.45 1524.47 1968.62 1520.93 Q1966.82 1517.37 1963.18 1517.37 M1963.18 1513.66 Q1968.99 1513.66 1972.05 1518.27 Q1975.13 1522.85 1975.13 1531.6 Q1975.13 1540.33 1972.05 1544.94 Q1968.99 1549.52 1963.18 1549.52 Q1957.37 1549.52 1954.29 1544.94 Q1951.24 1540.33 1951.24 1531.6 Q1951.24 1522.85 1954.29 1518.27 Q1957.37 1513.66 1963.18 1513.66 Z\" fill=\"#000000\" fill-rule=\"evenodd\" fill-opacity=\"1\" /><path clip-path=\"url(#clip360)\" d=\"M1993.34 1517.37 Q1989.73 1517.37 1987.9 1520.93 Q1986.1 1524.47 1986.1 1531.6 Q1986.1 1538.71 1987.9 1542.27 Q1989.73 1545.82 1993.34 1545.82 Q1996.98 1545.82 1998.78 1542.27 Q2000.61 1538.71 2000.61 1531.6 Q2000.61 1524.47 1998.78 1520.93 Q1996.98 1517.37 1993.34 1517.37 M1993.34 1513.66 Q1999.15 1513.66 2002.21 1518.27 Q2005.29 1522.85 2005.29 1531.6 Q2005.29 1540.33 2002.21 1544.94 Q1999.15 1549.52 1993.34 1549.52 Q1987.53 1549.52 1984.45 1544.94 Q1981.4 1540.33 1981.4 1531.6 Q1981.4 1522.85 1984.45 1518.27 Q1987.53 1513.66 1993.34 1513.66 Z\" fill=\"#000000\" fill-rule=\"evenodd\" fill-opacity=\"1\" /><polyline clip-path=\"url(#clip362)\" style=\"stroke:#000000; stroke-linecap:butt; stroke-linejoin:round; stroke-width:2; stroke-opacity:0.1; fill:none\" points=\"\n",
       "  156.598,1445.72 2352.76,1445.72 \n",
       "  \"/>\n",
       "<polyline clip-path=\"url(#clip362)\" style=\"stroke:#000000; stroke-linecap:butt; stroke-linejoin:round; stroke-width:2; stroke-opacity:0.1; fill:none\" points=\"\n",
       "  156.598,1123.27 2352.76,1123.27 \n",
       "  \"/>\n",
       "<polyline clip-path=\"url(#clip362)\" style=\"stroke:#000000; stroke-linecap:butt; stroke-linejoin:round; stroke-width:2; stroke-opacity:0.1; fill:none\" points=\"\n",
       "  156.598,800.821 2352.76,800.821 \n",
       "  \"/>\n",
       "<polyline clip-path=\"url(#clip362)\" style=\"stroke:#000000; stroke-linecap:butt; stroke-linejoin:round; stroke-width:2; stroke-opacity:0.1; fill:none\" points=\"\n",
       "  156.598,478.374 2352.76,478.374 \n",
       "  \"/>\n",
       "<polyline clip-path=\"url(#clip362)\" style=\"stroke:#000000; stroke-linecap:butt; stroke-linejoin:round; stroke-width:2; stroke-opacity:0.1; fill:none\" points=\"\n",
       "  156.598,155.926 2352.76,155.926 \n",
       "  \"/>\n",
       "<polyline clip-path=\"url(#clip360)\" style=\"stroke:#000000; stroke-linecap:butt; stroke-linejoin:round; stroke-width:4; stroke-opacity:1; fill:none\" points=\"\n",
       "  156.598,1486.45 156.598,47.2441 \n",
       "  \"/>\n",
       "<polyline clip-path=\"url(#clip360)\" style=\"stroke:#000000; stroke-linecap:butt; stroke-linejoin:round; stroke-width:4; stroke-opacity:1; fill:none\" points=\"\n",
       "  156.598,1445.72 175.496,1445.72 \n",
       "  \"/>\n",
       "<polyline clip-path=\"url(#clip360)\" style=\"stroke:#000000; stroke-linecap:butt; stroke-linejoin:round; stroke-width:4; stroke-opacity:1; fill:none\" points=\"\n",
       "  156.598,1123.27 175.496,1123.27 \n",
       "  \"/>\n",
       "<polyline clip-path=\"url(#clip360)\" style=\"stroke:#000000; stroke-linecap:butt; stroke-linejoin:round; stroke-width:4; stroke-opacity:1; fill:none\" points=\"\n",
       "  156.598,800.821 175.496,800.821 \n",
       "  \"/>\n",
       "<polyline clip-path=\"url(#clip360)\" style=\"stroke:#000000; stroke-linecap:butt; stroke-linejoin:round; stroke-width:4; stroke-opacity:1; fill:none\" points=\"\n",
       "  156.598,478.374 175.496,478.374 \n",
       "  \"/>\n",
       "<polyline clip-path=\"url(#clip360)\" style=\"stroke:#000000; stroke-linecap:butt; stroke-linejoin:round; stroke-width:4; stroke-opacity:1; fill:none\" points=\"\n",
       "  156.598,155.926 175.496,155.926 \n",
       "  \"/>\n",
       "<path clip-path=\"url(#clip360)\" d=\"M63.4226 1431.51 Q59.8115 1431.51 57.9828 1435.08 Q56.1773 1438.62 56.1773 1445.75 Q56.1773 1452.86 57.9828 1456.42 Q59.8115 1459.96 63.4226 1459.96 Q67.0569 1459.96 68.8624 1456.42 Q70.6911 1452.86 70.6911 1445.75 Q70.6911 1438.62 68.8624 1435.08 Q67.0569 1431.51 63.4226 1431.51 M63.4226 1427.81 Q69.2328 1427.81 72.2883 1432.42 Q75.367 1437 75.367 1445.75 Q75.367 1454.48 72.2883 1459.08 Q69.2328 1463.67 63.4226 1463.67 Q57.6125 1463.67 54.5338 1459.08 Q51.4782 1454.48 51.4782 1445.75 Q51.4782 1437 54.5338 1432.42 Q57.6125 1427.81 63.4226 1427.81 Z\" fill=\"#000000\" fill-rule=\"evenodd\" fill-opacity=\"1\" /><path clip-path=\"url(#clip360)\" d=\"M83.5845 1457.12 L88.4688 1457.12 L88.4688 1463 L83.5845 1463 L83.5845 1457.12 Z\" fill=\"#000000\" fill-rule=\"evenodd\" fill-opacity=\"1\" /><path clip-path=\"url(#clip360)\" d=\"M108.654 1431.51 Q105.043 1431.51 103.214 1435.08 Q101.409 1438.62 101.409 1445.75 Q101.409 1452.86 103.214 1456.42 Q105.043 1459.96 108.654 1459.96 Q112.288 1459.96 114.094 1456.42 Q115.922 1452.86 115.922 1445.75 Q115.922 1438.62 114.094 1435.08 Q112.288 1431.51 108.654 1431.51 M108.654 1427.81 Q114.464 1427.81 117.52 1432.42 Q120.598 1437 120.598 1445.75 Q120.598 1454.48 117.52 1459.08 Q114.464 1463.67 108.654 1463.67 Q102.844 1463.67 99.765 1459.08 Q96.7095 1454.48 96.7095 1445.75 Q96.7095 1437 99.765 1432.42 Q102.844 1427.81 108.654 1427.81 Z\" fill=\"#000000\" fill-rule=\"evenodd\" fill-opacity=\"1\" /><path clip-path=\"url(#clip360)\" d=\"M64.6495 1109.07 Q61.0384 1109.07 59.2097 1112.63 Q57.4041 1116.17 57.4041 1123.3 Q57.4041 1130.41 59.2097 1133.97 Q61.0384 1137.52 64.6495 1137.52 Q68.2837 1137.52 70.0892 1133.97 Q71.9179 1130.41 71.9179 1123.3 Q71.9179 1116.17 70.0892 1112.63 Q68.2837 1109.07 64.6495 1109.07 M64.6495 1105.36 Q70.4596 1105.36 73.5152 1109.97 Q76.5938 1114.55 76.5938 1123.3 Q76.5938 1132.03 73.5152 1136.64 Q70.4596 1141.22 64.6495 1141.22 Q58.8393 1141.22 55.7606 1136.64 Q52.7051 1132.03 52.7051 1123.3 Q52.7051 1114.55 55.7606 1109.97 Q58.8393 1105.36 64.6495 1105.36 Z\" fill=\"#000000\" fill-rule=\"evenodd\" fill-opacity=\"1\" /><path clip-path=\"url(#clip360)\" d=\"M84.8114 1134.67 L89.6956 1134.67 L89.6956 1140.55 L84.8114 1140.55 L84.8114 1134.67 Z\" fill=\"#000000\" fill-rule=\"evenodd\" fill-opacity=\"1\" /><path clip-path=\"url(#clip360)\" d=\"M100.691 1136.61 L108.33 1136.61 L108.33 1110.25 L100.02 1111.91 L100.02 1107.66 L108.283 1105.99 L112.959 1105.99 L112.959 1136.61 L120.598 1136.61 L120.598 1140.55 L100.691 1140.55 L100.691 1136.61 Z\" fill=\"#000000\" fill-rule=\"evenodd\" fill-opacity=\"1\" /><path clip-path=\"url(#clip360)\" d=\"M65.0198 786.62 Q61.4087 786.62 59.58 790.184 Q57.7745 793.726 57.7745 800.856 Q57.7745 807.962 59.58 811.527 Q61.4087 815.069 65.0198 815.069 Q68.6541 815.069 70.4596 811.527 Q72.2883 807.962 72.2883 800.856 Q72.2883 793.726 70.4596 790.184 Q68.6541 786.62 65.0198 786.62 M65.0198 782.916 Q70.83 782.916 73.8855 787.522 Q76.9642 792.106 76.9642 800.856 Q76.9642 809.583 73.8855 814.189 Q70.83 818.772 65.0198 818.772 Q59.2097 818.772 56.131 814.189 Q53.0754 809.583 53.0754 800.856 Q53.0754 792.106 56.131 787.522 Q59.2097 782.916 65.0198 782.916 Z\" fill=\"#000000\" fill-rule=\"evenodd\" fill-opacity=\"1\" /><path clip-path=\"url(#clip360)\" d=\"M85.1818 812.221 L90.066 812.221 L90.066 818.101 L85.1818 818.101 L85.1818 812.221 Z\" fill=\"#000000\" fill-rule=\"evenodd\" fill-opacity=\"1\" /><path clip-path=\"url(#clip360)\" d=\"M104.279 814.166 L120.598 814.166 L120.598 818.101 L98.6539 818.101 L98.6539 814.166 Q101.316 811.411 105.899 806.782 Q110.506 802.129 111.686 800.786 Q113.932 798.263 114.811 796.527 Q115.714 794.768 115.714 793.078 Q115.714 790.323 113.77 788.587 Q111.848 786.851 108.746 786.851 Q106.547 786.851 104.094 787.615 Q101.663 788.379 98.8854 789.93 L98.8854 785.208 Q101.709 784.073 104.163 783.495 Q106.617 782.916 108.654 782.916 Q114.024 782.916 117.219 785.601 Q120.413 788.286 120.413 792.777 Q120.413 794.907 119.603 796.828 Q118.816 798.726 116.709 801.319 Q116.131 801.99 113.029 805.208 Q109.927 808.402 104.279 814.166 Z\" fill=\"#000000\" fill-rule=\"evenodd\" fill-opacity=\"1\" /><path clip-path=\"url(#clip360)\" d=\"M64.0708 464.172 Q60.4597 464.172 58.631 467.737 Q56.8254 471.279 56.8254 478.408 Q56.8254 485.515 58.631 489.08 Q60.4597 492.621 64.0708 492.621 Q67.705 492.621 69.5105 489.08 Q71.3392 485.515 71.3392 478.408 Q71.3392 471.279 69.5105 467.737 Q67.705 464.172 64.0708 464.172 M64.0708 460.469 Q69.8809 460.469 72.9365 465.075 Q76.0151 469.658 76.0151 478.408 Q76.0151 487.135 72.9365 491.742 Q69.8809 496.325 64.0708 496.325 Q58.2606 496.325 55.1819 491.742 Q52.1264 487.135 52.1264 478.408 Q52.1264 469.658 55.1819 465.075 Q58.2606 460.469 64.0708 460.469 Z\" fill=\"#000000\" fill-rule=\"evenodd\" fill-opacity=\"1\" /><path clip-path=\"url(#clip360)\" d=\"M84.2327 489.774 L89.1169 489.774 L89.1169 495.654 L84.2327 495.654 L84.2327 489.774 Z\" fill=\"#000000\" fill-rule=\"evenodd\" fill-opacity=\"1\" /><path clip-path=\"url(#clip360)\" d=\"M113.469 477.019 Q116.825 477.737 118.7 480.006 Q120.598 482.274 120.598 485.607 Q120.598 490.723 117.08 493.524 Q113.561 496.325 107.08 496.325 Q104.904 496.325 102.589 495.885 Q100.297 495.468 97.8437 494.612 L97.8437 490.098 Q99.7882 491.232 102.103 491.811 Q104.418 492.39 106.941 492.39 Q111.339 492.39 113.631 490.654 Q115.945 488.918 115.945 485.607 Q115.945 482.552 113.793 480.839 Q111.663 479.103 107.844 479.103 L103.816 479.103 L103.816 475.26 L108.029 475.26 Q111.478 475.26 113.307 473.895 Q115.135 472.506 115.135 469.913 Q115.135 467.251 113.237 465.839 Q111.362 464.404 107.844 464.404 Q105.922 464.404 103.723 464.82 Q101.524 465.237 98.8854 466.117 L98.8854 461.95 Q101.547 461.209 103.862 460.839 Q106.2 460.469 108.26 460.469 Q113.584 460.469 116.686 462.899 Q119.788 465.307 119.788 469.427 Q119.788 472.297 118.145 474.288 Q116.501 476.256 113.469 477.019 Z\" fill=\"#000000\" fill-rule=\"evenodd\" fill-opacity=\"1\" /><path clip-path=\"url(#clip360)\" d=\"M62.9365 141.725 Q59.3254 141.725 57.4967 145.29 Q55.6912 148.831 55.6912 155.961 Q55.6912 163.067 57.4967 166.632 Q59.3254 170.174 62.9365 170.174 Q66.5707 170.174 68.3763 166.632 Q70.205 163.067 70.205 155.961 Q70.205 148.831 68.3763 145.29 Q66.5707 141.725 62.9365 141.725 M62.9365 138.021 Q68.7467 138.021 71.8022 142.628 Q74.8809 147.211 74.8809 155.961 Q74.8809 164.688 71.8022 169.294 Q68.7467 173.878 62.9365 173.878 Q57.1264 173.878 54.0477 169.294 Q50.9921 164.688 50.9921 155.961 Q50.9921 147.211 54.0477 142.628 Q57.1264 138.021 62.9365 138.021 Z\" fill=\"#000000\" fill-rule=\"evenodd\" fill-opacity=\"1\" /><path clip-path=\"url(#clip360)\" d=\"M83.0984 167.327 L87.9827 167.327 L87.9827 173.206 L83.0984 173.206 L83.0984 167.327 Z\" fill=\"#000000\" fill-rule=\"evenodd\" fill-opacity=\"1\" /><path clip-path=\"url(#clip360)\" d=\"M111.015 142.72 L99.2095 161.169 L111.015 161.169 L111.015 142.72 M109.788 138.646 L115.668 138.646 L115.668 161.169 L120.598 161.169 L120.598 165.058 L115.668 165.058 L115.668 173.206 L111.015 173.206 L111.015 165.058 L95.4132 165.058 L95.4132 160.544 L109.788 138.646 Z\" fill=\"#000000\" fill-rule=\"evenodd\" fill-opacity=\"1\" /><polyline clip-path=\"url(#clip362)\" style=\"stroke:#009af9; stroke-linecap:butt; stroke-linejoin:round; stroke-width:4; stroke-opacity:1; fill:none\" points=\"\n",
       "  218.754,1445.72 223.125,1445.72 227.496,1445.72 231.867,1445.72 236.238,1445.72 240.609,1445.72 244.98,1445.72 249.351,1445.72 253.722,1445.72 258.093,1445.72 \n",
       "  262.463,1445.72 266.834,1445.72 271.205,1445.72 275.576,1433.46 279.947,1433.21 284.318,1429.45 288.689,1357.95 293.06,87.9763 297.431,1439.89 301.802,1432.78 \n",
       "  306.173,1414.6 310.544,1438.59 314.915,1392.25 319.286,1445.72 323.657,1445.72 328.028,1445.72 332.399,1445.72 336.77,1445.72 341.141,1445.72 345.512,1445.72 \n",
       "  349.883,1445.72 354.254,1445.72 358.625,1445.72 362.996,1445.72 367.367,1445.72 371.738,1445.72 376.109,1445.72 380.48,1445.72 384.851,1445.72 389.222,1445.72 \n",
       "  393.593,1445.72 397.964,1445.72 402.335,1445.72 406.706,1445.72 411.077,1445.72 415.448,1445.72 419.819,1445.72 424.19,1445.72 428.561,1445.72 432.932,1445.72 \n",
       "  437.303,1445.72 441.674,1445.72 446.045,1445.72 450.416,1445.72 454.787,1445.72 459.158,1445.72 463.529,1445.72 467.9,1445.72 472.271,1445.72 476.642,1445.72 \n",
       "  481.013,1445.72 485.384,1445.72 489.755,1445.72 494.126,1445.72 498.497,1445.72 502.868,1445.72 507.239,1445.72 511.61,1445.72 515.981,1445.72 520.352,1445.72 \n",
       "  524.723,1445.72 529.094,1445.72 533.465,1445.72 537.836,1445.72 542.207,1445.72 546.578,1445.72 550.948,1445.72 555.319,1445.72 559.69,1445.72 564.061,1445.72 \n",
       "  568.432,1445.72 572.803,1445.72 577.174,1445.72 581.545,1445.72 585.916,1445.72 590.287,1445.72 594.658,1445.72 599.029,1445.72 603.4,1445.72 607.771,1445.72 \n",
       "  612.142,1445.72 616.513,1445.72 620.884,1445.72 625.255,1445.72 629.626,1445.72 633.997,1445.72 638.368,1445.72 642.739,1445.72 647.11,1445.72 651.481,1425.87 \n",
       "  655.852,1413.19 660.223,1414.34 664.594,1404.29 668.965,1388.2 673.336,1406.86 677.707,1410.4 682.078,1426.25 686.449,1388.97 690.82,1429.85 695.191,1432.03 \n",
       "  699.562,1420.78 703.933,1423.46 708.304,1415.76 712.675,1403.27 717.046,1415.62 721.417,1419.37 725.788,1432.26 730.159,1401.68 734.53,1436.88 738.901,1440.16 \n",
       "  743.272,1426.02 747.643,1431.09 752.014,1424.72 756.385,1404.31 760.756,1420.15 765.127,1424.57 769.498,1439.74 773.869,1402.3 778.24,1441.77 782.611,1444.73 \n",
       "  786.982,1426.1 791.353,1433.55 795.724,1426.89 800.095,1382.75 804.466,1417.73 808.837,1422.92 813.208,1444.84 817.579,1387.66 821.95,1426.23 826.321,1445.72 \n",
       "  830.692,1445.72 835.063,1445.72 839.434,1445.72 843.804,1445.72 848.175,1445.72 852.546,1445.72 856.917,1445.72 861.288,1445.72 865.659,1445.72 870.03,1445.72 \n",
       "  874.401,1445.72 878.772,1445.72 883.143,1445.72 887.514,1445.72 891.885,1445.72 896.256,1445.72 900.627,1445.72 904.998,1445.72 909.369,1445.72 913.74,1445.72 \n",
       "  918.111,1445.72 922.482,1445.72 926.853,1445.72 931.224,1445.72 935.595,1445.72 939.966,1445.72 944.337,1445.72 948.708,1445.72 953.079,1445.72 957.45,1445.72 \n",
       "  961.821,1445.72 966.192,1445.72 970.563,1445.72 974.934,1445.72 979.305,1445.72 983.676,1445.72 988.047,1445.72 992.418,1445.72 996.789,1445.72 1001.16,1445.72 \n",
       "  1005.53,1445.72 1009.9,1445.72 1014.27,1445.72 1018.64,1445.72 1023.01,1445.72 1027.39,1445.72 1031.76,1445.72 1036.13,1445.72 1040.5,1445.72 1044.87,1445.72 \n",
       "  1049.24,1445.72 1053.61,1445.72 1057.98,1445.72 1062.35,1445.72 1066.72,1445.72 1071.1,1445.72 1075.47,1445.72 1079.84,1445.72 1084.21,1445.72 1088.58,1445.72 \n",
       "  1092.95,1445.72 1097.32,1445.72 1101.69,1445.72 1106.06,1445.72 1110.43,1445.72 1114.81,1445.72 1119.18,1445.72 1123.55,1445.72 1127.92,1445.72 1132.29,1445.72 \n",
       "  1136.66,1445.72 1141.03,1445.72 1145.4,1445.72 1149.77,1445.72 1154.14,1445.72 1158.52,1445.72 1162.89,1445.72 1167.26,1445.72 1171.63,1445.72 1176,1445.72 \n",
       "  1180.37,1445.72 1184.74,1445.72 1189.11,1445.72 1193.48,1445.72 1197.85,1445.72 1202.23,1445.72 1206.6,1445.72 1210.97,1445.72 1215.34,1445.72 1219.71,1445.72 \n",
       "  1224.08,1445.72 1228.45,1445.72 1232.82,1445.72 1237.19,1445.72 1241.56,1445.72 1245.94,1445.72 1250.31,1445.72 1254.68,1445.72 1259.05,1445.72 1263.42,1445.72 \n",
       "  1267.79,1445.72 1272.16,1445.72 1276.53,1445.72 1280.9,1445.72 1285.27,1445.72 1289.64,1445.72 1294.02,1445.72 1298.39,1445.72 1302.76,1445.72 1307.13,1445.72 \n",
       "  1311.5,1445.72 1315.87,1445.72 1320.24,1445.72 1324.61,1445.72 1328.98,1445.72 1333.35,1445.72 1337.73,1445.72 1342.1,1445.72 1346.47,1445.72 1350.84,1445.72 \n",
       "  1355.21,1445.72 1359.58,1445.72 1363.95,1445.72 1368.32,1445.72 1372.69,1445.72 1377.06,1445.72 1381.44,1445.72 1385.81,1445.72 1390.18,1445.72 1394.55,1445.72 \n",
       "  1398.92,1445.72 1403.29,1445.72 1407.66,1445.72 1412.03,1445.72 1416.4,1445.72 1420.77,1445.72 1425.15,1445.72 1429.52,1445.72 1433.89,1445.72 1438.26,1445.72 \n",
       "  1442.63,1445.72 1447,1445.72 1451.37,1445.72 1455.74,1445.72 1460.11,1445.72 1464.48,1445.72 1468.86,1445.72 1473.23,1445.72 1477.6,1445.72 1481.97,1445.72 \n",
       "  1486.34,1445.72 1490.71,1445.72 1495.08,1445.72 1499.45,1445.72 1503.82,1445.72 1508.19,1445.72 1512.57,1445.72 1516.94,1445.72 1521.31,1445.72 1525.68,1445.72 \n",
       "  1530.05,1445.72 1534.42,1445.72 1538.79,1445.72 1543.16,1445.72 1547.53,1445.72 1551.9,1445.72 1556.28,1445.72 1560.65,1445.72 1565.02,1445.72 1569.39,1445.72 \n",
       "  1573.76,1445.72 1578.13,1445.72 1582.5,1445.72 1586.87,1445.72 1591.24,1445.72 1595.61,1445.72 1599.98,1445.72 1604.36,1445.72 1608.73,1445.72 1613.1,1445.72 \n",
       "  1617.47,1445.72 1621.84,1445.72 1626.21,1445.72 1630.58,1445.72 1634.95,1445.72 1639.32,1445.72 1643.69,1445.72 1648.07,1445.72 1652.44,1445.72 1656.81,1445.72 \n",
       "  1661.18,1445.72 1665.55,1445.72 1669.92,1445.72 1674.29,1445.72 1678.66,1445.72 1683.03,1445.72 1687.4,1445.72 1691.78,1445.72 1696.15,1445.72 1700.52,1445.72 \n",
       "  1704.89,1445.72 1709.26,1445.72 1713.63,1445.72 1718,1445.72 1722.37,1445.72 1726.74,1445.72 1731.11,1445.72 1735.49,1445.72 1739.86,1445.72 1744.23,1445.72 \n",
       "  1748.6,1445.72 1752.97,1445.72 1757.34,1445.72 1761.71,1445.72 1766.08,1445.72 1770.45,1445.72 1774.82,1445.72 1779.2,1445.72 1783.57,1445.72 1787.94,1445.72 \n",
       "  1792.31,1445.72 1796.68,1445.72 1801.05,1445.72 1805.42,1445.72 1809.79,1445.72 1814.16,1445.72 1818.53,1445.72 1822.91,1445.72 1827.28,1445.72 1831.65,1445.72 \n",
       "  1836.02,1445.72 1840.39,1445.72 1844.76,1445.72 1849.13,1445.72 1853.5,1445.72 1857.87,1445.72 1862.24,1445.72 1866.61,1445.72 1870.99,1445.72 1875.36,1445.72 \n",
       "  1879.73,1445.72 1884.1,1445.72 1888.47,1445.72 1892.84,1445.72 1897.21,1445.72 1901.58,1445.72 1905.95,1445.72 1910.32,1445.72 1914.7,1445.72 1919.07,1445.72 \n",
       "  1923.44,1445.72 1927.81,1445.72 1932.18,1445.72 1936.55,1445.72 1940.92,1445.72 1945.29,1445.72 1949.66,1445.72 1954.03,1445.72 1958.41,1445.72 1962.78,1445.72 \n",
       "  1967.15,1445.72 1971.52,1445.72 1975.89,1445.72 1980.26,1445.72 1984.63,1445.72 1989,1445.72 1993.37,1445.72 1997.74,1445.72 2002.12,1445.72 2006.49,1445.72 \n",
       "  2010.86,1445.72 2015.23,1445.72 2019.6,1445.72 2023.97,1445.72 2028.34,1445.72 2032.71,1445.72 2037.08,1445.72 2041.45,1445.72 2045.83,1445.72 2050.2,1445.72 \n",
       "  2054.57,1445.72 2058.94,1445.72 2063.31,1445.72 2067.68,1445.72 2072.05,1445.72 2076.42,1445.72 2080.79,1445.72 2085.16,1445.72 2089.54,1445.72 2093.91,1445.72 \n",
       "  2098.28,1445.72 2102.65,1445.72 2107.02,1445.72 2111.39,1445.72 2115.76,1445.72 2120.13,1445.72 2124.5,1445.72 2128.87,1445.72 2133.25,1445.72 2137.62,1445.72 \n",
       "  2141.99,1445.72 2146.36,1445.72 2150.73,1445.72 2155.1,1445.72 2159.47,1445.72 2163.84,1445.72 2168.21,1445.72 2172.58,1445.72 2176.95,1445.72 2181.33,1445.72 \n",
       "  2185.7,1445.72 2190.07,1445.72 2194.44,1445.72 2198.81,1445.72 2203.18,1445.72 2207.55,1445.72 2211.92,1445.72 2216.29,1445.72 2220.66,1445.72 2225.04,1445.72 \n",
       "  2229.41,1445.72 2233.78,1445.72 2238.15,1445.72 2242.52,1445.72 2246.89,1445.72 2251.26,1445.72 2255.63,1445.72 2260,1445.72 2264.37,1445.72 2268.75,1445.72 \n",
       "  2273.12,1445.72 2277.49,1445.72 2281.86,1445.72 2286.23,1445.72 2290.6,1445.72 \n",
       "  \"/>\n",
       "<path clip-path=\"url(#clip360)\" d=\"\n",
       "M1983.1 198.898 L2279.55 198.898 L2279.55 95.2176 L1983.1 95.2176  Z\n",
       "  \" fill=\"#ffffff\" fill-rule=\"evenodd\" fill-opacity=\"1\"/>\n",
       "<polyline clip-path=\"url(#clip360)\" style=\"stroke:#000000; stroke-linecap:butt; stroke-linejoin:round; stroke-width:4; stroke-opacity:1; fill:none\" points=\"\n",
       "  1983.1,198.898 2279.55,198.898 2279.55,95.2176 1983.1,95.2176 1983.1,198.898 \n",
       "  \"/>\n",
       "<polyline clip-path=\"url(#clip360)\" style=\"stroke:#009af9; stroke-linecap:butt; stroke-linejoin:round; stroke-width:4; stroke-opacity:1; fill:none\" points=\"\n",
       "  2007.5,147.058 2153.92,147.058 \n",
       "  \"/>\n",
       "<path clip-path=\"url(#clip360)\" d=\"M2192.16 166.745 Q2190.35 171.375 2188.64 172.787 Q2186.93 174.199 2184.06 174.199 L2180.65 174.199 L2180.65 170.634 L2183.15 170.634 Q2184.91 170.634 2185.89 169.8 Q2186.86 168.967 2188.04 165.865 L2188.8 163.921 L2178.32 138.412 L2182.83 138.412 L2190.93 158.689 L2199.03 138.412 L2203.55 138.412 L2192.16 166.745 Z\" fill=\"#000000\" fill-rule=\"evenodd\" fill-opacity=\"1\" /><path clip-path=\"url(#clip360)\" d=\"M2210.84 160.402 L2218.48 160.402 L2218.48 134.037 L2210.17 135.703 L2210.17 131.444 L2218.43 129.778 L2223.11 129.778 L2223.11 160.402 L2230.75 160.402 L2230.75 164.338 L2210.84 164.338 L2210.84 160.402 Z\" fill=\"#000000\" fill-rule=\"evenodd\" fill-opacity=\"1\" /></svg>\n"
      ]
     },
     "execution_count": 12,
     "metadata": {},
     "output_type": "execute_result"
    }
   ],
   "source": [
    "nume = numd_cls_nuisance(-0.01)\n",
    "anal = ForwardDiff.derivative(diff_cls_nuisance, -0.01)\n",
    "n = length(nume)\n",
    "comp = zeros(Float64, n)\n",
    "\n",
    "for i in 1:n \n",
    "    if (nume[i] != 0)\n",
    "        comp[i] = @.(abs(anal[i]/nume[i] - 1))\n",
    "    end\n",
    "end\n",
    "\n",
    "diff = []\n",
    "for i in 1:n \n",
    "    if (nume[i] != 0)\n",
    "        push!(diff, @.(abs(nume[i]-anal[i])))\n",
    "    end\n",
    "end\n",
    "println(mean(diff))\n",
    "\n",
    "plot(comp)"
   ]
  },
  {
   "cell_type": "markdown",
   "id": "395aff1d",
   "metadata": {},
   "source": [
    "## Xi"
   ]
  },
  {
   "cell_type": "code",
   "execution_count": 13,
   "id": "565bb0a6",
   "metadata": {
    "scrolled": true
   },
   "outputs": [],
   "source": [
    "cls_jaime1 = make_cls(carlos_params1);\n",
    "cls_jaime2 = make_cls(carlos_params1; mode=\"emulator\");"
   ]
  },
  {
   "cell_type": "code",
   "execution_count": 16,
   "id": "12778388",
   "metadata": {},
   "outputs": [],
   "source": [
    "npzwrite(\"jaime_cls.npz\", Dict(\"DESY1_cls_EisHu\" => cls_jaime1,\n",
    "                               \"DESY1_cls_emul\" => cls_jaime2))"
   ]
  },
  {
   "cell_type": "code",
   "execution_count": 58,
   "id": "b3fede1b",
   "metadata": {},
   "outputs": [
    {
     "name": "stdout",
     "output_type": "stream",
     "text": [
      "Mean discrepancy default   0.07401241405795976\n",
      "Mean discrepancy default   0.08161499889309823\n",
      "Mean discrepancy no itp    0.07215334993707295\n",
      "Mean discrepancy no itp+EH 0.07129820714624095\n",
      "Mean discrepancy no itp+EH+noconv 0.06895826089914493\n"
     ]
    }
   ],
   "source": [
    "compa1 = @. abs(cls_carlos[\"cls\"]-cls_jaime1)/cls_carlos[\"cls\"];\n",
    "compa12 = @. abs(cls_carlos[\"cls\"]-cls_jaime2)/cls_carlos[\"cls\"];\n",
    "compa2 = @. abs(cls_carlos2[\"cls\"]-cls_jaime1)/cls_carlos2[\"cls\"];\n",
    "compa3 = @. abs(cls_carlos3[\"cls\"]-cls_jaime1)/cls_carlos3[\"cls\"];\n",
    "compa4 = @. abs(cls_carlos4[\"cls\"]-cls_jaime1)/cls_carlos4[\"cls\"];\n",
    "\n",
    "println(\"Mean discrepancy default   \", mean(compa1))\n",
    "println(\"Mean discrepancy default   \", mean(compa12))\n",
    "println(\"Mean discrepancy no itp    \", mean(compa2))\n",
    "println(\"Mean discrepancy no itp+EH \", mean(compa3))\n",
    "println(\"Mean discrepancy no itp+EH+noconv \", mean(compa4))"
   ]
  },
  {
   "cell_type": "code",
   "execution_count": 54,
   "id": "98004bb5",
   "metadata": {},
   "outputs": [
    {
     "name": "stdout",
     "output_type": "stream",
     "text": [
      "495.62231927779936\n",
      "495.00947244084654\n",
      "495.89420547809317\n",
      "497.2051355000593\n"
     ]
    }
   ],
   "source": [
    "chi2_carlos = cls_carlos[\"chi2_nolp\"]\n",
    "chi2_carlos2 = cls_carlos2[\"chi2_nolp\"]\n",
    "chi2_carlos3 = cls_carlos3[\"chi2_nolp\"]\n",
    "chi2_carlos4 = cls_carlos4[\"chi2_nolp\"]\n",
    "println(chi2_carlos)\n",
    "println(chi2_carlos2)\n",
    "println(chi2_carlos3)\n",
    "println(chi2_carlos4)"
   ]
  },
  {
   "cell_type": "code",
   "execution_count": 55,
   "id": "b5075df6",
   "metadata": {},
   "outputs": [
    {
     "name": "stdout",
     "output_type": "stream",
     "text": [
      "513.6992802876617\n"
     ]
    }
   ],
   "source": [
    "chi2_jaime1 = dot((cls_jaime1 .- data_vector), inv_cov_tot  * (cls_jaime1 .- data_vector))\n",
    "println(chi2_jaime1)"
   ]
  },
  {
   "cell_type": "code",
   "execution_count": 57,
   "id": "d3e6946e",
   "metadata": {},
   "outputs": [
    {
     "name": "stdout",
     "output_type": "stream",
     "text": [
      "525.4124574923579\n"
     ]
    }
   ],
   "source": [
    "chi2_jaime2 = dot((cls_jaime2 .- data_vector), inv_cov_tot  * (cls_jaime2 .- data_vector))\n",
    "println(chi2_jaime2)"
   ]
  },
  {
   "cell_type": "code",
   "execution_count": 48,
   "id": "fc2724ad",
   "metadata": {},
   "outputs": [
    {
     "data": {
      "text/plain": [
       "0.056731759143898136"
      ]
     },
     "execution_count": 48,
     "metadata": {},
     "output_type": "execute_result"
    }
   ],
   "source": [
    "(chi2_jaime1-chi2_carlos4)/chi2_carlos4"
   ]
  },
  {
   "cell_type": "code",
   "execution_count": 38,
   "id": "7325f732",
   "metadata": {},
   "outputs": [],
   "source": [
    "@model function model(data_vector::Vector{Float64})\n",
    "    Ωm ~ Uniform(0.1, 0.6)\n",
    "    Ωb = 0.05 #~ Uniform(0.03, 0.07)\n",
    "    h = 0.67 #~ Uniform(0.6, 0.9)\n",
    "    s8 = 0.81 #~ Uniform(0.6, 1.0)\n",
    "    ns = 0.96 #~ Uniform(0.87, 1.07)\n",
    "    \n",
    "    b0 = 2.0\n",
    "    dz_g0 ~ TruncatedNormal(0.008, 0.007, -2.0, 2.0)\n",
    "    dz_g1 ~ TruncatedNormal(-0.005, 0.007, -2.0, 2.0)\n",
    "    dz_g2 ~ TruncatedNormal(0.006, 0.006, -2.0, 2.0)\n",
    "    dz_g3 ~ TruncatedNormal(0.0, 0.010, -2.0, 2.0)\n",
    "    dz_g4 ~ TruncatedNormal(0.0, 0.010, -2.0, 2.0)\n",
    "\n",
    "    nuisances = Dict(#\"b0\" => b0,\n",
    "                     \"dz_g0\" => dz_g0,\n",
    "                     \"dz_g1\" => dz_g1,\n",
    "                     \"dz_g2\" => dz_g2,\n",
    "                     \"dz_g3\" => dz_g3,\n",
    "                     \"dz_g4\" => dz_g4)\n",
    "    cosmology = LimberJack.Cosmology(Ωm, Ωb, h, s8, s8,\n",
    "                                     tk_mode=\"EisHu\",\n",
    "                                     Pk_mode=\"Halofit\")\n",
    "    theory = Theory(cosmology, files;\n",
    "                    nz_path=\"../data/DESY1_cls/fiducial_nzs/\",\n",
    "                    Nuisances=nuisances)\n",
    "    println(length(theory))\n",
    "    data_vector ~ MvNormal(theory, cov_tot)\n",
    "    return data_vector\n",
    "end;"
   ]
  },
  {
   "cell_type": "code",
   "execution_count": 39,
   "id": "4a0dba7f",
   "metadata": {},
   "outputs": [],
   "source": [
    "iterations = 300\n",
    "nadapts = 100;"
   ]
  },
  {
   "cell_type": "code",
   "execution_count": 34,
   "id": "54da0b16",
   "metadata": {},
   "outputs": [
    {
     "name": "stderr",
     "output_type": "stream",
     "text": [
      "┌ Warning: The current proposal will be rejected due to numerical error(s).\n",
      "│   isfinite.((θ, r, ℓπ, ℓκ)) = (true, false, false, false)\n",
      "└ @ AdvancedHMC /home/jaime/.julia/packages/AdvancedHMC/MIxdK/src/hamiltonian.jl:47\n",
      "┌ Warning: The current proposal will be rejected due to numerical error(s).\n",
      "│   isfinite.((θ, r, ℓπ, ℓκ)) = (true, false, false, false)\n",
      "└ @ AdvancedHMC /home/jaime/.julia/packages/AdvancedHMC/MIxdK/src/hamiltonian.jl:47\n",
      "┌ Warning: The current proposal will be rejected due to numerical error(s).\n",
      "│   isfinite.((θ, r, ℓπ, ℓκ)) = (true, false, false, false)\n",
      "└ @ AdvancedHMC /home/jaime/.julia/packages/AdvancedHMC/MIxdK/src/hamiltonian.jl:47\n",
      "\u001b[32mSampling:   1%|▌                                        |  ETA: 0:03:59\u001b[39m┌ Warning: The current proposal will be rejected due to numerical error(s).\n",
      "│   isfinite.((θ, r, ℓπ, ℓκ)) = (true, false, false, false)\n",
      "└ @ AdvancedHMC /home/jaime/.julia/packages/AdvancedHMC/MIxdK/src/hamiltonian.jl:47\n",
      "\u001b[32mSampling:   2%|▊                                        |  ETA: 0:04:15\u001b[39m┌ Warning: The current proposal will be rejected due to numerical error(s).\n",
      "│   isfinite.((θ, r, ℓπ, ℓκ)) = (true, false, false, false)\n",
      "└ @ AdvancedHMC /home/jaime/.julia/packages/AdvancedHMC/MIxdK/src/hamiltonian.jl:47\n",
      "\u001b[32mSampling:   2%|▉                                        |  ETA: 0:04:19\u001b[39m┌ Warning: The current proposal will be rejected due to numerical error(s).\n",
      "│   isfinite.((θ, r, ℓπ, ℓκ)) = (true, false, false, false)\n",
      "└ @ AdvancedHMC /home/jaime/.julia/packages/AdvancedHMC/MIxdK/src/hamiltonian.jl:47\n",
      "\u001b[32mSampling:   3%|█▏                                       |  ETA: 0:04:09\u001b[39m┌ Warning: The current proposal will be rejected due to numerical error(s).\n",
      "│   isfinite.((θ, r, ℓπ, ℓκ)) = (true, false, false, false)\n",
      "└ @ AdvancedHMC /home/jaime/.julia/packages/AdvancedHMC/MIxdK/src/hamiltonian.jl:47\n",
      "\u001b[32mSampling:   3%|█▎                                       |  ETA: 0:04:10\u001b[39m┌ Warning: The current proposal will be rejected due to numerical error(s).\n",
      "│   isfinite.((θ, r, ℓπ, ℓκ)) = (true, false, false, false)\n",
      "└ @ AdvancedHMC /home/jaime/.julia/packages/AdvancedHMC/MIxdK/src/hamiltonian.jl:47\n",
      "\u001b[32mSampling:   3%|█▎                                       |  ETA: 0:04:09\u001b[39m┌ Warning: The current proposal will be rejected due to numerical error(s).\n",
      "│   isfinite.((θ, r, ℓπ, ℓκ)) = (true, false, false, false)\n",
      "└ @ AdvancedHMC /home/jaime/.julia/packages/AdvancedHMC/MIxdK/src/hamiltonian.jl:47\n",
      "\u001b[32mSampling:   4%|█▌                                       |  ETA: 0:04:00\u001b[39m┌ Warning: The current proposal will be rejected due to numerical error(s).\n",
      "│   isfinite.((θ, r, ℓπ, ℓκ)) = (true, false, false, false)\n",
      "└ @ AdvancedHMC /home/jaime/.julia/packages/AdvancedHMC/MIxdK/src/hamiltonian.jl:47\n",
      "\u001b[32mSampling:   4%|█▋                                       |  ETA: 0:04:00\u001b[39m┌ Warning: The current proposal will be rejected due to numerical error(s).\n",
      "│   isfinite.((θ, r, ℓπ, ℓκ)) = (true, false, false, false)\n",
      "└ @ AdvancedHMC /home/jaime/.julia/packages/AdvancedHMC/MIxdK/src/hamiltonian.jl:47\n",
      "\u001b[32mSampling:   4%|█▊                                       |  ETA: 0:04:00\u001b[39m┌ Warning: The current proposal will be rejected due to numerical error(s).\n",
      "│   isfinite.((θ, r, ℓπ, ℓκ)) = (true, false, false, false)\n",
      "└ @ AdvancedHMC /home/jaime/.julia/packages/AdvancedHMC/MIxdK/src/hamiltonian.jl:47\n",
      "\u001b[32mSampling:   4%|█▉                                       |  ETA: 0:04:00\u001b[39m┌ Warning: The current proposal will be rejected due to numerical error(s).\n",
      "│   isfinite.((θ, r, ℓπ, ℓκ)) = (true, false, false, false)\n",
      "└ @ AdvancedHMC /home/jaime/.julia/packages/AdvancedHMC/MIxdK/src/hamiltonian.jl:47\n",
      "\u001b[32mSampling:   5%|██                                       |  ETA: 0:03:55\u001b[39m┌ Warning: The current proposal will be rejected due to numerical error(s).\n",
      "│   isfinite.((θ, r, ℓπ, ℓκ)) = (true, false, false, false)\n",
      "└ @ AdvancedHMC /home/jaime/.julia/packages/AdvancedHMC/MIxdK/src/hamiltonian.jl:47\n",
      "\u001b[32mSampling:   5%|██▏                                      |  ETA: 0:03:55\u001b[39m┌ Warning: The current proposal will be rejected due to numerical error(s).\n",
      "│   isfinite.((θ, r, ℓπ, ℓκ)) = (true, false, false, false)\n",
      "└ @ AdvancedHMC /home/jaime/.julia/packages/AdvancedHMC/MIxdK/src/hamiltonian.jl:47\n",
      "\u001b[32mSampling:   6%|██▎                                      |  ETA: 0:03:54\u001b[39m┌ Warning: The current proposal will be rejected due to numerical error(s).\n",
      "│   isfinite.((θ, r, ℓπ, ℓκ)) = (true, false, false, false)\n",
      "└ @ AdvancedHMC /home/jaime/.julia/packages/AdvancedHMC/MIxdK/src/hamiltonian.jl:47\n",
      "\u001b[32mSampling:   6%|██▍                                      |  ETA: 0:03:49\u001b[39m┌ Warning: The current proposal will be rejected due to numerical error(s).\n",
      "│   isfinite.((θ, r, ℓπ, ℓκ)) = (true, false, false, false)\n",
      "└ @ AdvancedHMC /home/jaime/.julia/packages/AdvancedHMC/MIxdK/src/hamiltonian.jl:47\n",
      "\u001b[32mSampling:   6%|██▌                                      |  ETA: 0:03:49\u001b[39m┌ Warning: The current proposal will be rejected due to numerical error(s).\n",
      "│   isfinite.((θ, r, ℓπ, ℓκ)) = (true, false, false, false)\n",
      "└ @ AdvancedHMC /home/jaime/.julia/packages/AdvancedHMC/MIxdK/src/hamiltonian.jl:47\n",
      "\u001b[32mSampling:   6%|██▋                                      |  ETA: 0:03:50\u001b[39m┌ Warning: The current proposal will be rejected due to numerical error(s).\n",
      "│   isfinite.((θ, r, ℓπ, ℓκ)) = (true, false, false, false)\n",
      "└ @ AdvancedHMC /home/jaime/.julia/packages/AdvancedHMC/MIxdK/src/hamiltonian.jl:47\n",
      "\u001b[32mSampling:   7%|██▊                                      |  ETA: 0:03:50\u001b[39m┌ Warning: The current proposal will be rejected due to numerical error(s).\n",
      "│   isfinite.((θ, r, ℓπ, ℓκ)) = (true, false, false, false)\n",
      "└ @ AdvancedHMC /home/jaime/.julia/packages/AdvancedHMC/MIxdK/src/hamiltonian.jl:47\n",
      "\u001b[32mSampling:   7%|███                                      |  ETA: 0:03:48\u001b[39m┌ Warning: The current proposal will be rejected due to numerical error(s).\n",
      "│   isfinite.((θ, r, ℓπ, ℓκ)) = (true, false, false, false)\n",
      "└ @ AdvancedHMC /home/jaime/.julia/packages/AdvancedHMC/MIxdK/src/hamiltonian.jl:47\n",
      "\u001b[32mSampling:   8%|███▏                                     |  ETA: 0:03:48\u001b[39m┌ Warning: The current proposal will be rejected due to numerical error(s).\n",
      "│   isfinite.((θ, r, ℓπ, ℓκ)) = (true, false, false, false)\n",
      "└ @ AdvancedHMC /home/jaime/.julia/packages/AdvancedHMC/MIxdK/src/hamiltonian.jl:47\n",
      "\u001b[32mSampling:   8%|███▎                                     |  ETA: 0:03:50\u001b[39m┌ Warning: The current proposal will be rejected due to numerical error(s).\n",
      "│   isfinite.((θ, r, ℓπ, ℓκ)) = (true, false, false, false)\n",
      "└ @ AdvancedHMC /home/jaime/.julia/packages/AdvancedHMC/MIxdK/src/hamiltonian.jl:47\n",
      "\u001b[32mSampling:   8%|███▍                                     |  ETA: 0:03:50\u001b[39m┌ Warning: The current proposal will be rejected due to numerical error(s).\n",
      "│   isfinite.((θ, r, ℓπ, ℓκ)) = (true, false, false, false)\n",
      "└ @ AdvancedHMC /home/jaime/.julia/packages/AdvancedHMC/MIxdK/src/hamiltonian.jl:47\n",
      "\u001b[32mSampling:   8%|███▌                                     |  ETA: 0:03:47\u001b[39m┌ Warning: The current proposal will be rejected due to numerical error(s).\n",
      "│   isfinite.((θ, r, ℓπ, ℓκ)) = (true, false, false, false)\n",
      "└ @ AdvancedHMC /home/jaime/.julia/packages/AdvancedHMC/MIxdK/src/hamiltonian.jl:47\n",
      "\u001b[32mSampling:   9%|███▋                                     |  ETA: 0:03:48\u001b[39m┌ Warning: The current proposal will be rejected due to numerical error(s).\n",
      "│   isfinite.((θ, r, ℓπ, ℓκ)) = (true, false, false, false)\n",
      "└ @ AdvancedHMC /home/jaime/.julia/packages/AdvancedHMC/MIxdK/src/hamiltonian.jl:47\n",
      "\u001b[32mSampling:   9%|███▊                                     |  ETA: 0:03:49\u001b[39m┌ Warning: The current proposal will be rejected due to numerical error(s).\n",
      "│   isfinite.((θ, r, ℓπ, ℓκ)) = (true, false, false, false)\n",
      "└ @ AdvancedHMC /home/jaime/.julia/packages/AdvancedHMC/MIxdK/src/hamiltonian.jl:47\n",
      "\u001b[32mSampling:  10%|███▉                                     |  ETA: 0:03:47\u001b[39m┌ Warning: The current proposal will be rejected due to numerical error(s).\n",
      "│   isfinite.((θ, r, ℓπ, ℓκ)) = (true, false, false, false)\n",
      "└ @ AdvancedHMC /home/jaime/.julia/packages/AdvancedHMC/MIxdK/src/hamiltonian.jl:47\n",
      "\u001b[32mSampling:  10%|████                                     |  ETA: 0:03:47\u001b[39m┌ Warning: The current proposal will be rejected due to numerical error(s).\n",
      "│   isfinite.((θ, r, ℓπ, ℓκ)) = (true, false, false, false)\n",
      "└ @ AdvancedHMC /home/jaime/.julia/packages/AdvancedHMC/MIxdK/src/hamiltonian.jl:47\n",
      "\u001b[32mSampling:  10%|████▏                                    |  ETA: 0:03:47\u001b[39m┌ Warning: The current proposal will be rejected due to numerical error(s).\n",
      "│   isfinite.((θ, r, ℓπ, ℓκ)) = (true, false, false, false)\n",
      "└ @ AdvancedHMC /home/jaime/.julia/packages/AdvancedHMC/MIxdK/src/hamiltonian.jl:47\n",
      "\u001b[32mSampling:  10%|████▎                                    |  ETA: 0:03:47\u001b[39m┌ Warning: The current proposal will be rejected due to numerical error(s).\n",
      "│   isfinite.((θ, r, ℓπ, ℓκ)) = (true, false, false, false)\n",
      "└ @ AdvancedHMC /home/jaime/.julia/packages/AdvancedHMC/MIxdK/src/hamiltonian.jl:47\n",
      "\u001b[32mSampling:  11%|████▍                                    |  ETA: 0:03:44\u001b[39m┌ Warning: The current proposal will be rejected due to numerical error(s).\n",
      "│   isfinite.((θ, r, ℓπ, ℓκ)) = (true, false, false, false)\n",
      "└ @ AdvancedHMC /home/jaime/.julia/packages/AdvancedHMC/MIxdK/src/hamiltonian.jl:47\n",
      "\u001b[32mSampling:  11%|████▌                                    |  ETA: 0:03:44\u001b[39m┌ Warning: The current proposal will be rejected due to numerical error(s).\n",
      "│   isfinite.((θ, r, ℓπ, ℓκ)) = (true, false, false, false)\n",
      "└ @ AdvancedHMC /home/jaime/.julia/packages/AdvancedHMC/MIxdK/src/hamiltonian.jl:47\n",
      "\u001b[32mSampling:  11%|████▋                                    |  ETA: 0:03:44\u001b[39m┌ Warning: The current proposal will be rejected due to numerical error(s).\n",
      "│   isfinite.((θ, r, ℓπ, ℓκ)) = (true, false, false, false)\n",
      "└ @ AdvancedHMC /home/jaime/.julia/packages/AdvancedHMC/MIxdK/src/hamiltonian.jl:47\n",
      "\u001b[32mSampling:  12%|████▉                                    |  ETA: 0:03:41\u001b[39m┌ Warning: The current proposal will be rejected due to numerical error(s).\n",
      "│   isfinite.((θ, r, ℓπ, ℓκ)) = (true, false, false, false)\n",
      "└ @ AdvancedHMC /home/jaime/.julia/packages/AdvancedHMC/MIxdK/src/hamiltonian.jl:47\n",
      "\u001b[32mSampling:  12%|█████                                    |  ETA: 0:03:41\u001b[39m┌ Warning: The current proposal will be rejected due to numerical error(s).\n",
      "│   isfinite.((θ, r, ℓπ, ℓκ)) = (true, false, false, false)\n",
      "└ @ AdvancedHMC /home/jaime/.julia/packages/AdvancedHMC/MIxdK/src/hamiltonian.jl:47\n",
      "\u001b[32mSampling:  12%|█████▏                                   |  ETA: 0:03:40\u001b[39m┌ Warning: The current proposal will be rejected due to numerical error(s).\n",
      "│   isfinite.((θ, r, ℓπ, ℓκ)) = (true, false, false, false)\n",
      "└ @ AdvancedHMC /home/jaime/.julia/packages/AdvancedHMC/MIxdK/src/hamiltonian.jl:47\n",
      "\u001b[32mSampling:  13%|█████▎                                   |  ETA: 0:03:41\u001b[39m┌ Warning: The current proposal will be rejected due to numerical error(s).\n",
      "│   isfinite.((θ, r, ℓπ, ℓκ)) = (true, false, false, false)\n",
      "└ @ AdvancedHMC /home/jaime/.julia/packages/AdvancedHMC/MIxdK/src/hamiltonian.jl:47\n",
      "\u001b[32mSampling:  13%|█████▍                                   |  ETA: 0:03:39\u001b[39m┌ Warning: The current proposal will be rejected due to numerical error(s).\n",
      "│   isfinite.((θ, r, ℓπ, ℓκ)) = (true, false, false, false)\n",
      "└ @ AdvancedHMC /home/jaime/.julia/packages/AdvancedHMC/MIxdK/src/hamiltonian.jl:47\n",
      "\u001b[32mSampling:  13%|█████▌                                   |  ETA: 0:03:39\u001b[39m┌ Warning: The current proposal will be rejected due to numerical error(s).\n",
      "│   isfinite.((θ, r, ℓπ, ℓκ)) = (true, false, false, false)\n",
      "└ @ AdvancedHMC /home/jaime/.julia/packages/AdvancedHMC/MIxdK/src/hamiltonian.jl:47\n",
      "\u001b[32mSampling:  14%|█████▋                                   |  ETA: 0:03:39\u001b[39m┌ Warning: The current proposal will be rejected due to numerical error(s).\n",
      "│   isfinite.((θ, r, ℓπ, ℓκ)) = (true, false, false, false)\n",
      "└ @ AdvancedHMC /home/jaime/.julia/packages/AdvancedHMC/MIxdK/src/hamiltonian.jl:47\n",
      "\u001b[32mSampling:  14%|█████▊                                   |  ETA: 0:03:39\u001b[39m┌ Warning: The current proposal will be rejected due to numerical error(s).\n",
      "│   isfinite.((θ, r, ℓπ, ℓκ)) = (true, false, false, false)\n",
      "└ @ AdvancedHMC /home/jaime/.julia/packages/AdvancedHMC/MIxdK/src/hamiltonian.jl:47\n",
      "\u001b[32mSampling:  14%|█████▉                                   |  ETA: 0:03:37\u001b[39m┌ Warning: The current proposal will be rejected due to numerical error(s).\n",
      "│   isfinite.((θ, r, ℓπ, ℓκ)) = (true, false, false, false)\n",
      "└ @ AdvancedHMC /home/jaime/.julia/packages/AdvancedHMC/MIxdK/src/hamiltonian.jl:47\n",
      "\u001b[32mSampling: 100%|█████████████████████████████████████████| Time: 0:00:37\u001b[39m\n"
     ]
    },
    {
     "name": "stdout",
     "output_type": "stream",
     "text": [
      "390\n",
      "390\n",
      "390\n",
      "390\n",
      "390\n",
      "390\n",
      "390\n",
      "390\n",
      "390\n",
      "390\n",
      "390\n",
      "390\n",
      "390\n",
      "390\n",
      "390\n",
      "390\n",
      "390\n",
      "390\n",
      "390\n",
      "390\n",
      "390\n",
      "390\n",
      "390\n",
      "390\n",
      "390\n",
      "390\n",
      "390\n",
      "390\n",
      "390\n",
      "390\n",
      "390\n",
      "390\n",
      "390\n",
      "390\n",
      "390\n",
      "390\n",
      "390\n",
      "390\n",
      "390\n",
      "390\n",
      "390\n",
      "390\n",
      "390\n",
      "390\n",
      "390\n",
      "390\n",
      "390\n",
      "390\n",
      "390\n",
      "390\n",
      "390\n",
      "390\n",
      "390\n",
      "390\n",
      "390\n",
      "390\n",
      "390\n",
      "390\n",
      "390\n",
      "390\n",
      "390\n",
      "390\n",
      "390\n",
      "390\n",
      "390\n",
      "390\n",
      "390\n",
      "390\n",
      "390\n",
      "390\n",
      "390\n",
      "390\n",
      "390\n",
      "390\n",
      "390\n",
      "390\n",
      "390\n",
      "390\n",
      "390\n",
      "390\n",
      "390\n",
      "390\n",
      "390\n",
      "390\n",
      "390\n",
      "390\n",
      "390\n",
      "390\n",
      "390\n",
      "390\n",
      "390\n",
      "390\n"
     ]
    },
    {
     "ename": "LoadError",
     "evalue": "InterruptException:",
     "output_type": "error",
     "traceback": [
      "InterruptException:",
      "",
      "Stacktrace:",
      "  [1] Array",
      "    @ ./boot.jl:469 [inlined]",
      "  [2] Array",
      "    @ ./boot.jl:474 [inlined]",
      "  [3] Array",
      "    @ ./baseext.jl:30 [inlined]",
      "  [4] zeros",
      "    @ ./array.jl:530 [inlined]",
      "  [5] integrate",
      "    @ ~/.julia/packages/Trapz/UoNri/src/kernels.jl:27 [inlined]",
      "  [6] integrate",
      "    @ ~/.julia/packages/Trapz/UoNri/src/kernels.jl:64 [inlined]",
      "  [7] trapz(x::StepRangeLen{Float64, Base.TwicePrecision{Float64}, Base.TwicePrecision{Float64}, Int64}, y::Vector{ForwardDiff.Dual{ForwardDiff.Tag{Turing.Core.var\"#f#7\"{DynamicPPL.TypedVarInfo{NamedTuple{(:Ωm, :dz_g0, :dz_g1, :dz_g2, :dz_g3, :dz_g4), Tuple{DynamicPPL.Metadata{Dict{AbstractPPL.VarName{:Ωm, Tuple{}}, Int64}, Vector{Uniform{Float64}}, Vector{AbstractPPL.VarName{:Ωm, Tuple{}}}, Vector{Float64}, Vector{Set{DynamicPPL.Selector}}}, DynamicPPL.Metadata{Dict{AbstractPPL.VarName{:dz_g0, Tuple{}}, Int64}, Vector{Truncated{Normal{Float64}, Continuous, Float64}}, Vector{AbstractPPL.VarName{:dz_g0, Tuple{}}}, Vector{Float64}, Vector{Set{DynamicPPL.Selector}}}, DynamicPPL.Metadata{Dict{AbstractPPL.VarName{:dz_g1, Tuple{}}, Int64}, Vector{Truncated{Normal{Float64}, Continuous, Float64}}, Vector{AbstractPPL.VarName{:dz_g1, Tuple{}}}, Vector{Float64}, Vector{Set{DynamicPPL.Selector}}}, DynamicPPL.Metadata{Dict{AbstractPPL.VarName{:dz_g2, Tuple{}}, Int64}, Vector{Truncated{Normal{Float64}, Continuous, Float64}}, Vector{AbstractPPL.VarName{:dz_g2, Tuple{}}}, Vector{Float64}, Vector{Set{DynamicPPL.Selector}}}, DynamicPPL.Metadata{Dict{AbstractPPL.VarName{:dz_g3, Tuple{}}, Int64}, Vector{Truncated{Normal{Float64}, Continuous, Float64}}, Vector{AbstractPPL.VarName{:dz_g3, Tuple{}}}, Vector{Float64}, Vector{Set{DynamicPPL.Selector}}}, DynamicPPL.Metadata{Dict{AbstractPPL.VarName{:dz_g4, Tuple{}}, Int64}, Vector{Truncated{Normal{Float64}, Continuous, Float64}}, Vector{AbstractPPL.VarName{:dz_g4, Tuple{}}}, Vector{Float64}, Vector{Set{DynamicPPL.Selector}}}}}, Float64}, DynamicPPL.Model{var\"#9#10\", (:data_vector,), (), (), Tuple{Vector{Float64}}, Tuple{}}, DynamicPPL.Sampler{NUTS{Turing.Core.ForwardDiffAD{40}, (), AdvancedHMC.DiagEuclideanMetric}}, DynamicPPL.DefaultContext}, Float64}, Float64, 6}})",
      "    @ Trapz ~/.julia/packages/Trapz/UoNri/src/Trapz.jl:7",
      "  [8] WeakLensingTracer(cosmo::Cosmology, z_n::Vector{Float64}, nz::Vector{Float64}; kwargs::Base.Pairs{Symbol, Any, Tuple{Symbol, Symbol}, NamedTuple{(:mb, :IA_params), Tuple{Float64, Vector{Float64}}}})",
      "    @ LimberJack ~/PhD/LimberJack.jl/src/tracers.jl:61",
      "  [9] Theory(cosmology::Cosmology, files::Dict{String, Array}; nz_path::String, Nuisances::Dict{String, ForwardDiff.Dual{ForwardDiff.Tag{Turing.Core.var\"#f#7\"{DynamicPPL.TypedVarInfo{NamedTuple{(:Ωm, :dz_g0, :dz_g1, :dz_g2, :dz_g3, :dz_g4), Tuple{DynamicPPL.Metadata{Dict{AbstractPPL.VarName{:Ωm, Tuple{}}, Int64}, Vector{Uniform{Float64}}, Vector{AbstractPPL.VarName{:Ωm, Tuple{}}}, Vector{Float64}, Vector{Set{DynamicPPL.Selector}}}, DynamicPPL.Metadata{Dict{AbstractPPL.VarName{:dz_g0, Tuple{}}, Int64}, Vector{Truncated{Normal{Float64}, Continuous, Float64}}, Vector{AbstractPPL.VarName{:dz_g0, Tuple{}}}, Vector{Float64}, Vector{Set{DynamicPPL.Selector}}}, DynamicPPL.Metadata{Dict{AbstractPPL.VarName{:dz_g1, Tuple{}}, Int64}, Vector{Truncated{Normal{Float64}, Continuous, Float64}}, Vector{AbstractPPL.VarName{:dz_g1, Tuple{}}}, Vector{Float64}, Vector{Set{DynamicPPL.Selector}}}, DynamicPPL.Metadata{Dict{AbstractPPL.VarName{:dz_g2, Tuple{}}, Int64}, Vector{Truncated{Normal{Float64}, Continuous, Float64}}, Vector{AbstractPPL.VarName{:dz_g2, Tuple{}}}, Vector{Float64}, Vector{Set{DynamicPPL.Selector}}}, DynamicPPL.Metadata{Dict{AbstractPPL.VarName{:dz_g3, Tuple{}}, Int64}, Vector{Truncated{Normal{Float64}, Continuous, Float64}}, Vector{AbstractPPL.VarName{:dz_g3, Tuple{}}}, Vector{Float64}, Vector{Set{DynamicPPL.Selector}}}, DynamicPPL.Metadata{Dict{AbstractPPL.VarName{:dz_g4, Tuple{}}, Int64}, Vector{Truncated{Normal{Float64}, Continuous, Float64}}, Vector{AbstractPPL.VarName{:dz_g4, Tuple{}}}, Vector{Float64}, Vector{Set{DynamicPPL.Selector}}}}}, Float64}, DynamicPPL.Model{var\"#9#10\", (:data_vector,), (), (), Tuple{Vector{Float64}}, Tuple{}}, DynamicPPL.Sampler{NUTS{Turing.Core.ForwardDiffAD{40}, (), AdvancedHMC.DiagEuclideanMetric}}, DynamicPPL.DefaultContext}, Float64}, Float64, 6}})",
      "    @ LimberJack ~/PhD/LimberJack.jl/src/theory.jl:47",
      " [10] #9",
      "    @ ./In[32]:24 [inlined]",
      " [11] (::var\"#9#10\")(__rng__::Random._GLOBAL_RNG, __model__::DynamicPPL.Model{var\"#9#10\", (:data_vector,), (), (), Tuple{Vector{Float64}}, Tuple{}}, __varinfo__::DynamicPPL.ThreadSafeVarInfo{DynamicPPL.TypedVarInfo{NamedTuple{(:Ωm, :dz_g0, :dz_g1, :dz_g2, :dz_g3, :dz_g4), Tuple{DynamicPPL.Metadata{Dict{AbstractPPL.VarName{:Ωm, Tuple{}}, Int64}, Vector{Uniform{Float64}}, Vector{AbstractPPL.VarName{:Ωm, Tuple{}}}, Vector{ForwardDiff.Dual{ForwardDiff.Tag{Turing.Core.var\"#f#7\"{DynamicPPL.TypedVarInfo{NamedTuple{(:Ωm, :dz_g0, :dz_g1, :dz_g2, :dz_g3, :dz_g4), Tuple{DynamicPPL.Metadata{Dict{AbstractPPL.VarName{:Ωm, Tuple{}}, Int64}, Vector{Uniform{Float64}}, Vector{AbstractPPL.VarName{:Ωm, Tuple{}}}, Vector{Float64}, Vector{Set{DynamicPPL.Selector}}}, DynamicPPL.Metadata{Dict{AbstractPPL.VarName{:dz_g0, Tuple{}}, Int64}, Vector{Truncated{Normal{Float64}, Continuous, Float64}}, Vector{AbstractPPL.VarName{:dz_g0, Tuple{}}}, Vector{Float64}, Vector{Set{DynamicPPL.Selector}}}, DynamicPPL.Metadata{Dict{AbstractPPL.VarName{:dz_g1, Tuple{}}, Int64}, Vector{Truncated{Normal{Float64}, Continuous, Float64}}, Vector{AbstractPPL.VarName{:dz_g1, Tuple{}}}, Vector{Float64}, Vector{Set{DynamicPPL.Selector}}}, DynamicPPL.Metadata{Dict{AbstractPPL.VarName{:dz_g2, Tuple{}}, Int64}, Vector{Truncated{Normal{Float64}, Continuous, Float64}}, Vector{AbstractPPL.VarName{:dz_g2, Tuple{}}}, Vector{Float64}, Vector{Set{DynamicPPL.Selector}}}, DynamicPPL.Metadata{Dict{AbstractPPL.VarName{:dz_g3, Tuple{}}, Int64}, Vector{Truncated{Normal{Float64}, Continuous, Float64}}, Vector{AbstractPPL.VarName{:dz_g3, Tuple{}}}, Vector{Float64}, Vector{Set{DynamicPPL.Selector}}}, DynamicPPL.Metadata{Dict{AbstractPPL.VarName{:dz_g4, Tuple{}}, Int64}, Vector{Truncated{Normal{Float64}, Continuous, Float64}}, Vector{AbstractPPL.VarName{:dz_g4, Tuple{}}}, Vector{Float64}, Vector{Set{DynamicPPL.Selector}}}}}, Float64}, DynamicPPL.Model{var\"#9#10\", (:data_vector,), (), (), Tuple{Vector{Float64}}, Tuple{}}, DynamicPPL.Sampler{NUTS{Turing.Core.ForwardDiffAD{40}, (), AdvancedHMC.DiagEuclideanMetric}}, DynamicPPL.DefaultContext}, Float64}, Float64, 6}}, Vector{Set{DynamicPPL.Selector}}}, DynamicPPL.Metadata{Dict{AbstractPPL.VarName{:dz_g0, Tuple{}}, Int64}, Vector{Truncated{Normal{Float64}, Continuous, Float64}}, Vector{AbstractPPL.VarName{:dz_g0, Tuple{}}}, Vector{ForwardDiff.Dual{ForwardDiff.Tag{Turing.Core.var\"#f#7\"{DynamicPPL.TypedVarInfo{NamedTuple{(:Ωm, :dz_g0, :dz_g1, :dz_g2, :dz_g3, :dz_g4), Tuple{DynamicPPL.Metadata{Dict{AbstractPPL.VarName{:Ωm, Tuple{}}, Int64}, Vector{Uniform{Float64}}, Vector{AbstractPPL.VarName{:Ωm, Tuple{}}}, Vector{Float64}, Vector{Set{DynamicPPL.Selector}}}, DynamicPPL.Metadata{Dict{AbstractPPL.VarName{:dz_g0, Tuple{}}, Int64}, Vector{Truncated{Normal{Float64}, Continuous, Float64}}, Vector{AbstractPPL.VarName{:dz_g0, Tuple{}}}, Vector{Float64}, Vector{Set{DynamicPPL.Selector}}}, DynamicPPL.Metadata{Dict{AbstractPPL.VarName{:dz_g1, Tuple{}}, Int64}, Vector{Truncated{Normal{Float64}, Continuous, Float64}}, Vector{AbstractPPL.VarName{:dz_g1, Tuple{}}}, Vector{Float64}, Vector{Set{DynamicPPL.Selector}}}, DynamicPPL.Metadata{Dict{AbstractPPL.VarName{:dz_g2, Tuple{}}, Int64}, Vector{Truncated{Normal{Float64}, Continuous, Float64}}, Vector{AbstractPPL.VarName{:dz_g2, Tuple{}}}, Vector{Float64}, Vector{Set{DynamicPPL.Selector}}}, DynamicPPL.Metadata{Dict{AbstractPPL.VarName{:dz_g3, Tuple{}}, Int64}, Vector{Truncated{Normal{Float64}, Continuous, Float64}}, Vector{AbstractPPL.VarName{:dz_g3, Tuple{}}}, Vector{Float64}, Vector{Set{DynamicPPL.Selector}}}, DynamicPPL.Metadata{Dict{AbstractPPL.VarName{:dz_g4, Tuple{}}, Int64}, Vector{Truncated{Normal{Float64}, Continuous, Float64}}, Vector{AbstractPPL.VarName{:dz_g4, Tuple{}}}, Vector{Float64}, Vector{Set{DynamicPPL.Selector}}}}}, Float64}, DynamicPPL.Model{var\"#9#10\", (:data_vector,), (), (), Tuple{Vector{Float64}}, Tuple{}}, DynamicPPL.Sampler{NUTS{Turing.Core.ForwardDiffAD{40}, (), AdvancedHMC.DiagEuclideanMetric}}, DynamicPPL.DefaultContext}, Float64}, Float64, 6}}, Vector{Set{DynamicPPL.Selector}}}, DynamicPPL.Metadata{Dict{AbstractPPL.VarName{:dz_g1, Tuple{}}, Int64}, Vector{Truncated{Normal{Float64}, Continuous, Float64}}, Vector{AbstractPPL.VarName{:dz_g1, Tuple{}}}, Vector{ForwardDiff.Dual{ForwardDiff.Tag{Turing.Core.var\"#f#7\"{DynamicPPL.TypedVarInfo{NamedTuple{(:Ωm, :dz_g0, :dz_g1, :dz_g2, :dz_g3, :dz_g4), Tuple{DynamicPPL.Metadata{Dict{AbstractPPL.VarName{:Ωm, Tuple{}}, Int64}, Vector{Uniform{Float64}}, Vector{AbstractPPL.VarName{:Ωm, Tuple{}}}, Vector{Float64}, Vector{Set{DynamicPPL.Selector}}}, DynamicPPL.Metadata{Dict{AbstractPPL.VarName{:dz_g0, Tuple{}}, Int64}, Vector{Truncated{Normal{Float64}, Continuous, Float64}}, Vector{AbstractPPL.VarName{:dz_g0, Tuple{}}}, Vector{Float64}, Vector{Set{DynamicPPL.Selector}}}, DynamicPPL.Metadata{Dict{AbstractPPL.VarName{:dz_g1, Tuple{}}, Int64}, Vector{Truncated{Normal{Float64}, Continuous, Float64}}, Vector{AbstractPPL.VarName{:dz_g1, Tuple{}}}, Vector{Float64}, Vector{Set{DynamicPPL.Selector}}}, DynamicPPL.Metadata{Dict{AbstractPPL.VarName{:dz_g2, Tuple{}}, Int64}, Vector{Truncated{Normal{Float64}, Continuous, Float64}}, Vector{AbstractPPL.VarName{:dz_g2, Tuple{}}}, Vector{Float64}, Vector{Set{DynamicPPL.Selector}}}, DynamicPPL.Metadata{Dict{AbstractPPL.VarName{:dz_g3, Tuple{}}, Int64}, Vector{Truncated{Normal{Float64}, Continuous, Float64}}, Vector{AbstractPPL.VarName{:dz_g3, Tuple{}}}, Vector{Float64}, Vector{Set{DynamicPPL.Selector}}}, DynamicPPL.Metadata{Dict{AbstractPPL.VarName{:dz_g4, Tuple{}}, Int64}, Vector{Truncated{Normal{Float64}, Continuous, Float64}}, Vector{AbstractPPL.VarName{:dz_g4, Tuple{}}}, Vector{Float64}, Vector{Set{DynamicPPL.Selector}}}}}, Float64}, DynamicPPL.Model{var\"#9#10\", (:data_vector,), (), (), Tuple{Vector{Float64}}, Tuple{}}, DynamicPPL.Sampler{NUTS{Turing.Core.ForwardDiffAD{40}, (), AdvancedHMC.DiagEuclideanMetric}}, DynamicPPL.DefaultContext}, Float64}, Float64, 6}}, Vector{Set{DynamicPPL.Selector}}}, DynamicPPL.Metadata{Dict{AbstractPPL.VarName{:dz_g2, Tuple{}}, Int64}, Vector{Truncated{Normal{Float64}, Continuous, Float64}}, Vector{AbstractPPL.VarName{:dz_g2, Tuple{}}}, Vector{ForwardDiff.Dual{ForwardDiff.Tag{Turing.Core.var\"#f#7\"{DynamicPPL.TypedVarInfo{NamedTuple{(:Ωm, :dz_g0, :dz_g1, :dz_g2, :dz_g3, :dz_g4), Tuple{DynamicPPL.Metadata{Dict{AbstractPPL.VarName{:Ωm, Tuple{}}, Int64}, Vector{Uniform{Float64}}, Vector{AbstractPPL.VarName{:Ωm, Tuple{}}}, Vector{Float64}, Vector{Set{DynamicPPL.Selector}}}, DynamicPPL.Metadata{Dict{AbstractPPL.VarName{:dz_g0, Tuple{}}, Int64}, Vector{Truncated{Normal{Float64}, Continuous, Float64}}, Vector{AbstractPPL.VarName{:dz_g0, Tuple{}}}, Vector{Float64}, Vector{Set{DynamicPPL.Selector}}}, DynamicPPL.Metadata{Dict{AbstractPPL.VarName{:dz_g1, Tuple{}}, Int64}, Vector{Truncated{Normal{Float64}, Continuous, Float64}}, Vector{AbstractPPL.VarName{:dz_g1, Tuple{}}}, Vector{Float64}, Vector{Set{DynamicPPL.Selector}}}, DynamicPPL.Metadata{Dict{AbstractPPL.VarName{:dz_g2, Tuple{}}, Int64}, Vector{Truncated{Normal{Float64}, Continuous, Float64}}, Vector{AbstractPPL.VarName{:dz_g2, Tuple{}}}, Vector{Float64}, Vector{Set{DynamicPPL.Selector}}}, DynamicPPL.Metadata{Dict{AbstractPPL.VarName{:dz_g3, Tuple{}}, Int64}, Vector{Truncated{Normal{Float64}, Continuous, Float64}}, Vector{AbstractPPL.VarName{:dz_g3, Tuple{}}}, Vector{Float64}, Vector{Set{DynamicPPL.Selector}}}, DynamicPPL.Metadata{Dict{AbstractPPL.VarName{:dz_g4, Tuple{}}, Int64}, Vector{Truncated{Normal{Float64}, Continuous, Float64}}, Vector{AbstractPPL.VarName{:dz_g4, Tuple{}}}, Vector{Float64}, Vector{Set{DynamicPPL.Selector}}}}}, Float64}, DynamicPPL.Model{var\"#9#10\", (:data_vector,), (), (), Tuple{Vector{Float64}}, Tuple{}}, DynamicPPL.Sampler{NUTS{Turing.Core.ForwardDiffAD{40}, (), AdvancedHMC.DiagEuclideanMetric}}, DynamicPPL.DefaultContext}, Float64}, Float64, 6}}, Vector{Set{DynamicPPL.Selector}}}, DynamicPPL.Metadata{Dict{AbstractPPL.VarName{:dz_g3, Tuple{}}, Int64}, Vector{Truncated{Normal{Float64}, Continuous, Float64}}, Vector{AbstractPPL.VarName{:dz_g3, Tuple{}}}, Vector{ForwardDiff.Dual{ForwardDiff.Tag{Turing.Core.var\"#f#7\"{DynamicPPL.TypedVarInfo{NamedTuple{(:Ωm, :dz_g0, :dz_g1, :dz_g2, :dz_g3, :dz_g4), Tuple{DynamicPPL.Metadata{Dict{AbstractPPL.VarName{:Ωm, Tuple{}}, Int64}, Vector{Uniform{Float64}}, Vector{AbstractPPL.VarName{:Ωm, Tuple{}}}, Vector{Float64}, Vector{Set{DynamicPPL.Selector}}}, DynamicPPL.Metadata{Dict{AbstractPPL.VarName{:dz_g0, Tuple{}}, Int64}, Vector{Truncated{Normal{Float64}, Continuous, Float64}}, Vector{AbstractPPL.VarName{:dz_g0, Tuple{}}}, Vector{Float64}, Vector{Set{DynamicPPL.Selector}}}, DynamicPPL.Metadata{Dict{AbstractPPL.VarName{:dz_g1, Tuple{}}, Int64}, Vector{Truncated{Normal{Float64}, Continuous, Float64}}, Vector{AbstractPPL.VarName{:dz_g1, Tuple{}}}, Vector{Float64}, Vector{Set{DynamicPPL.Selector}}}, DynamicPPL.Metadata{Dict{AbstractPPL.VarName{:dz_g2, Tuple{}}, Int64}, Vector{Truncated{Normal{Float64}, Continuous, Float64}}, Vector{AbstractPPL.VarName{:dz_g2, Tuple{}}}, Vector{Float64}, Vector{Set{DynamicPPL.Selector}}}, DynamicPPL.Metadata{Dict{AbstractPPL.VarName{:dz_g3, Tuple{}}, Int64}, Vector{Truncated{Normal{Float64}, Continuous, Float64}}, Vector{AbstractPPL.VarName{:dz_g3, Tuple{}}}, Vector{Float64}, Vector{Set{DynamicPPL.Selector}}}, DynamicPPL.Metadata{Dict{AbstractPPL.VarName{:dz_g4, Tuple{}}, Int64}, Vector{Truncated{Normal{Float64}, Continuous, Float64}}, Vector{AbstractPPL.VarName{:dz_g4, Tuple{}}}, Vector{Float64}, Vector{Set{DynamicPPL.Selector}}}}}, Float64}, DynamicPPL.Model{var\"#9#10\", (:data_vector,), (), (), Tuple{Vector{Float64}}, Tuple{}}, DynamicPPL.Sampler{NUTS{Turing.Core.ForwardDiffAD{40}, (), AdvancedHMC.DiagEuclideanMetric}}, DynamicPPL.DefaultContext}, Float64}, Float64, 6}}, Vector{Set{DynamicPPL.Selector}}}, DynamicPPL.Metadata{Dict{AbstractPPL.VarName{:dz_g4, Tuple{}}, Int64}, Vector{Truncated{Normal{Float64}, Continuous, Float64}}, Vector{AbstractPPL.VarName{:dz_g4, Tuple{}}}, Vector{ForwardDiff.Dual{ForwardDiff.Tag{Turing.Core.var\"#f#7\"{DynamicPPL.TypedVarInfo{NamedTuple{(:Ωm, :dz_g0, :dz_g1, :dz_g2, :dz_g3, :dz_g4), Tuple{DynamicPPL.Metadata{Dict{AbstractPPL.VarName{:Ωm, Tuple{}}, Int64}, Vector{Uniform{Float64}}, Vector{AbstractPPL.VarName{:Ωm, Tuple{}}}, Vector{Float64}, Vector{Set{DynamicPPL.Selector}}}, DynamicPPL.Metadata{Dict{AbstractPPL.VarName{:dz_g0, Tuple{}}, Int64}, Vector{Truncated{Normal{Float64}, Continuous, Float64}}, Vector{AbstractPPL.VarName{:dz_g0, Tuple{}}}, Vector{Float64}, Vector{Set{DynamicPPL.Selector}}}, DynamicPPL.Metadata{Dict{AbstractPPL.VarName{:dz_g1, Tuple{}}, Int64}, Vector{Truncated{Normal{Float64}, Continuous, Float64}}, Vector{AbstractPPL.VarName{:dz_g1, Tuple{}}}, Vector{Float64}, Vector{Set{DynamicPPL.Selector}}}, DynamicPPL.Metadata{Dict{AbstractPPL.VarName{:dz_g2, Tuple{}}, Int64}, Vector{Truncated{Normal{Float64}, Continuous, Float64}}, Vector{AbstractPPL.VarName{:dz_g2, Tuple{}}}, Vector{Float64}, Vector{Set{DynamicPPL.Selector}}}, DynamicPPL.Metadata{Dict{AbstractPPL.VarName{:dz_g3, Tuple{}}, Int64}, Vector{Truncated{Normal{Float64}, Continuous, Float64}}, Vector{AbstractPPL.VarName{:dz_g3, Tuple{}}}, Vector{Float64}, Vector{Set{DynamicPPL.Selector}}}, DynamicPPL.Metadata{Dict{AbstractPPL.VarName{:dz_g4, Tuple{}}, Int64}, Vector{Truncated{Normal{Float64}, Continuous, Float64}}, Vector{AbstractPPL.VarName{:dz_g4, Tuple{}}}, Vector{Float64}, Vector{Set{DynamicPPL.Selector}}}}}, Float64}, DynamicPPL.Model{var\"#9#10\", (:data_vector,), (), (), Tuple{Vector{Float64}}, Tuple{}}, DynamicPPL.Sampler{NUTS{Turing.Core.ForwardDiffAD{40}, (), AdvancedHMC.DiagEuclideanMetric}}, DynamicPPL.DefaultContext}, Float64}, Float64, 6}}, Vector{Set{DynamicPPL.Selector}}}}}, ForwardDiff.Dual{ForwardDiff.Tag{Turing.Core.var\"#f#7\"{DynamicPPL.TypedVarInfo{NamedTuple{(:Ωm, :dz_g0, :dz_g1, :dz_g2, :dz_g3, :dz_g4), Tuple{DynamicPPL.Metadata{Dict{AbstractPPL.VarName{:Ωm, Tuple{}}, Int64}, Vector{Uniform{Float64}}, Vector{AbstractPPL.VarName{:Ωm, Tuple{}}}, Vector{Float64}, Vector{Set{DynamicPPL.Selector}}}, DynamicPPL.Metadata{Dict{AbstractPPL.VarName{:dz_g0, Tuple{}}, Int64}, Vector{Truncated{Normal{Float64}, Continuous, Float64}}, Vector{AbstractPPL.VarName{:dz_g0, Tuple{}}}, Vector{Float64}, Vector{Set{DynamicPPL.Selector}}}, DynamicPPL.Metadata{Dict{AbstractPPL.VarName{:dz_g1, Tuple{}}, Int64}, Vector{Truncated{Normal{Float64}, Continuous, Float64}}, Vector{AbstractPPL.VarName{:dz_g1, Tuple{}}}, Vector{Float64}, Vector{Set{DynamicPPL.Selector}}}, DynamicPPL.Metadata{Dict{AbstractPPL.VarName{:dz_g2, Tuple{}}, Int64}, Vector{Truncated{Normal{Float64}, Continuous, Float64}}, Vector{AbstractPPL.VarName{:dz_g2, Tuple{}}}, Vector{Float64}, Vector{Set{DynamicPPL.Selector}}}, DynamicPPL.Metadata{Dict{AbstractPPL.VarName{:dz_g3, Tuple{}}, Int64}, Vector{Truncated{Normal{Float64}, Continuous, Float64}}, Vector{AbstractPPL.VarName{:dz_g3, Tuple{}}}, Vector{Float64}, Vector{Set{DynamicPPL.Selector}}}, DynamicPPL.Metadata{Dict{AbstractPPL.VarName{:dz_g4, Tuple{}}, Int64}, Vector{Truncated{Normal{Float64}, Continuous, Float64}}, Vector{AbstractPPL.VarName{:dz_g4, Tuple{}}}, Vector{Float64}, Vector{Set{DynamicPPL.Selector}}}}}, Float64}, DynamicPPL.Model{var\"#9#10\", (:data_vector,), (), (), Tuple{Vector{Float64}}, Tuple{}}, DynamicPPL.Sampler{NUTS{Turing.Core.ForwardDiffAD{40}, (), AdvancedHMC.DiagEuclideanMetric}}, DynamicPPL.DefaultContext}, Float64}, Float64, 6}}, Vector{Base.RefValue{ForwardDiff.Dual{ForwardDiff.Tag{Turing.Core.var\"#f#7\"{DynamicPPL.TypedVarInfo{NamedTuple{(:Ωm, :dz_g0, :dz_g1, :dz_g2, :dz_g3, :dz_g4), Tuple{DynamicPPL.Metadata{Dict{AbstractPPL.VarName{:Ωm, Tuple{}}, Int64}, Vector{Uniform{Float64}}, Vector{AbstractPPL.VarName{:Ωm, Tuple{}}}, Vector{Float64}, Vector{Set{DynamicPPL.Selector}}}, DynamicPPL.Metadata{Dict{AbstractPPL.VarName{:dz_g0, Tuple{}}, Int64}, Vector{Truncated{Normal{Float64}, Continuous, Float64}}, Vector{AbstractPPL.VarName{:dz_g0, Tuple{}}}, Vector{Float64}, Vector{Set{DynamicPPL.Selector}}}, DynamicPPL.Metadata{Dict{AbstractPPL.VarName{:dz_g1, Tuple{}}, Int64}, Vector{Truncated{Normal{Float64}, Continuous, Float64}}, Vector{AbstractPPL.VarName{:dz_g1, Tuple{}}}, Vector{Float64}, Vector{Set{DynamicPPL.Selector}}}, DynamicPPL.Metadata{Dict{AbstractPPL.VarName{:dz_g2, Tuple{}}, Int64}, Vector{Truncated{Normal{Float64}, Continuous, Float64}}, Vector{AbstractPPL.VarName{:dz_g2, Tuple{}}}, Vector{Float64}, Vector{Set{DynamicPPL.Selector}}}, DynamicPPL.Metadata{Dict{AbstractPPL.VarName{:dz_g3, Tuple{}}, Int64}, Vector{Truncated{Normal{Float64}, Continuous, Float64}}, Vector{AbstractPPL.VarName{:dz_g3, Tuple{}}}, Vector{Float64}, Vector{Set{DynamicPPL.Selector}}}, DynamicPPL.Metadata{Dict{AbstractPPL.VarName{:dz_g4, Tuple{}}, Int64}, Vector{Truncated{Normal{Float64}, Continuous, Float64}}, Vector{AbstractPPL.VarName{:dz_g4, Tuple{}}}, Vector{Float64}, Vector{Set{DynamicPPL.Selector}}}}}, Float64}, DynamicPPL.Model{var\"#9#10\", (:data_vector,), (), (), Tuple{Vector{Float64}}, Tuple{}}, DynamicPPL.Sampler{NUTS{Turing.Core.ForwardDiffAD{40}, (), AdvancedHMC.DiagEuclideanMetric}}, DynamicPPL.DefaultContext}, Float64}, Float64, 6}}}}, __sampler__::DynamicPPL.Sampler{NUTS{Turing.Core.ForwardDiffAD{40}, (), AdvancedHMC.DiagEuclideanMetric}}, __context__::DynamicPPL.DefaultContext, data_vector::Vector{Float64})",
      "    @ Main ./none:0",
      " [12] macro expansion",
      "    @ ~/.julia/packages/DynamicPPL/SgzCy/src/model.jl:0 [inlined]",
      " [13] _evaluate",
      "    @ ~/.julia/packages/DynamicPPL/SgzCy/src/model.jl:154 [inlined]",
      " [14] evaluate_threadsafe",
      "    @ ~/.julia/packages/DynamicPPL/SgzCy/src/model.jl:144 [inlined]",
      " [15] (::DynamicPPL.Model{var\"#9#10\", (:data_vector,), (), (), Tuple{Vector{Float64}}, Tuple{}})(rng::Random._GLOBAL_RNG, varinfo::DynamicPPL.TypedVarInfo{NamedTuple{(:Ωm, :dz_g0, :dz_g1, :dz_g2, :dz_g3, :dz_g4), Tuple{DynamicPPL.Metadata{Dict{AbstractPPL.VarName{:Ωm, Tuple{}}, Int64}, Vector{Uniform{Float64}}, Vector{AbstractPPL.VarName{:Ωm, Tuple{}}}, Vector{ForwardDiff.Dual{ForwardDiff.Tag{Turing.Core.var\"#f#7\"{DynamicPPL.TypedVarInfo{NamedTuple{(:Ωm, :dz_g0, :dz_g1, :dz_g2, :dz_g3, :dz_g4), Tuple{DynamicPPL.Metadata{Dict{AbstractPPL.VarName{:Ωm, Tuple{}}, Int64}, Vector{Uniform{Float64}}, Vector{AbstractPPL.VarName{:Ωm, Tuple{}}}, Vector{Float64}, Vector{Set{DynamicPPL.Selector}}}, DynamicPPL.Metadata{Dict{AbstractPPL.VarName{:dz_g0, Tuple{}}, Int64}, Vector{Truncated{Normal{Float64}, Continuous, Float64}}, Vector{AbstractPPL.VarName{:dz_g0, Tuple{}}}, Vector{Float64}, Vector{Set{DynamicPPL.Selector}}}, DynamicPPL.Metadata{Dict{AbstractPPL.VarName{:dz_g1, Tuple{}}, Int64}, Vector{Truncated{Normal{Float64}, Continuous, Float64}}, Vector{AbstractPPL.VarName{:dz_g1, Tuple{}}}, Vector{Float64}, Vector{Set{DynamicPPL.Selector}}}, DynamicPPL.Metadata{Dict{AbstractPPL.VarName{:dz_g2, Tuple{}}, Int64}, Vector{Truncated{Normal{Float64}, Continuous, Float64}}, Vector{AbstractPPL.VarName{:dz_g2, Tuple{}}}, Vector{Float64}, Vector{Set{DynamicPPL.Selector}}}, DynamicPPL.Metadata{Dict{AbstractPPL.VarName{:dz_g3, Tuple{}}, Int64}, Vector{Truncated{Normal{Float64}, Continuous, Float64}}, Vector{AbstractPPL.VarName{:dz_g3, Tuple{}}}, Vector{Float64}, Vector{Set{DynamicPPL.Selector}}}, DynamicPPL.Metadata{Dict{AbstractPPL.VarName{:dz_g4, Tuple{}}, Int64}, Vector{Truncated{Normal{Float64}, Continuous, Float64}}, Vector{AbstractPPL.VarName{:dz_g4, Tuple{}}}, Vector{Float64}, Vector{Set{DynamicPPL.Selector}}}}}, Float64}, DynamicPPL.Model{var\"#9#10\", (:data_vector,), (), (), Tuple{Vector{Float64}}, Tuple{}}, DynamicPPL.Sampler{NUTS{Turing.Core.ForwardDiffAD{40}, (), AdvancedHMC.DiagEuclideanMetric}}, DynamicPPL.DefaultContext}, Float64}, Float64, 6}}, Vector{Set{DynamicPPL.Selector}}}, DynamicPPL.Metadata{Dict{AbstractPPL.VarName{:dz_g0, Tuple{}}, Int64}, Vector{Truncated{Normal{Float64}, Continuous, Float64}}, Vector{AbstractPPL.VarName{:dz_g0, Tuple{}}}, Vector{ForwardDiff.Dual{ForwardDiff.Tag{Turing.Core.var\"#f#7\"{DynamicPPL.TypedVarInfo{NamedTuple{(:Ωm, :dz_g0, :dz_g1, :dz_g2, :dz_g3, :dz_g4), Tuple{DynamicPPL.Metadata{Dict{AbstractPPL.VarName{:Ωm, Tuple{}}, Int64}, Vector{Uniform{Float64}}, Vector{AbstractPPL.VarName{:Ωm, Tuple{}}}, Vector{Float64}, Vector{Set{DynamicPPL.Selector}}}, DynamicPPL.Metadata{Dict{AbstractPPL.VarName{:dz_g0, Tuple{}}, Int64}, Vector{Truncated{Normal{Float64}, Continuous, Float64}}, Vector{AbstractPPL.VarName{:dz_g0, Tuple{}}}, Vector{Float64}, Vector{Set{DynamicPPL.Selector}}}, DynamicPPL.Metadata{Dict{AbstractPPL.VarName{:dz_g1, Tuple{}}, Int64}, Vector{Truncated{Normal{Float64}, Continuous, Float64}}, Vector{AbstractPPL.VarName{:dz_g1, Tuple{}}}, Vector{Float64}, Vector{Set{DynamicPPL.Selector}}}, DynamicPPL.Metadata{Dict{AbstractPPL.VarName{:dz_g2, Tuple{}}, Int64}, Vector{Truncated{Normal{Float64}, Continuous, Float64}}, Vector{AbstractPPL.VarName{:dz_g2, Tuple{}}}, Vector{Float64}, Vector{Set{DynamicPPL.Selector}}}, DynamicPPL.Metadata{Dict{AbstractPPL.VarName{:dz_g3, Tuple{}}, Int64}, Vector{Truncated{Normal{Float64}, Continuous, Float64}}, Vector{AbstractPPL.VarName{:dz_g3, Tuple{}}}, Vector{Float64}, Vector{Set{DynamicPPL.Selector}}}, DynamicPPL.Metadata{Dict{AbstractPPL.VarName{:dz_g4, Tuple{}}, Int64}, Vector{Truncated{Normal{Float64}, Continuous, Float64}}, Vector{AbstractPPL.VarName{:dz_g4, Tuple{}}}, Vector{Float64}, Vector{Set{DynamicPPL.Selector}}}}}, Float64}, DynamicPPL.Model{var\"#9#10\", (:data_vector,), (), (), Tuple{Vector{Float64}}, Tuple{}}, DynamicPPL.Sampler{NUTS{Turing.Core.ForwardDiffAD{40}, (), AdvancedHMC.DiagEuclideanMetric}}, DynamicPPL.DefaultContext}, Float64}, Float64, 6}}, Vector{Set{DynamicPPL.Selector}}}, DynamicPPL.Metadata{Dict{AbstractPPL.VarName{:dz_g1, Tuple{}}, Int64}, Vector{Truncated{Normal{Float64}, Continuous, Float64}}, Vector{AbstractPPL.VarName{:dz_g1, Tuple{}}}, Vector{ForwardDiff.Dual{ForwardDiff.Tag{Turing.Core.var\"#f#7\"{DynamicPPL.TypedVarInfo{NamedTuple{(:Ωm, :dz_g0, :dz_g1, :dz_g2, :dz_g3, :dz_g4), Tuple{DynamicPPL.Metadata{Dict{AbstractPPL.VarName{:Ωm, Tuple{}}, Int64}, Vector{Uniform{Float64}}, Vector{AbstractPPL.VarName{:Ωm, Tuple{}}}, Vector{Float64}, Vector{Set{DynamicPPL.Selector}}}, DynamicPPL.Metadata{Dict{AbstractPPL.VarName{:dz_g0, Tuple{}}, Int64}, Vector{Truncated{Normal{Float64}, Continuous, Float64}}, Vector{AbstractPPL.VarName{:dz_g0, Tuple{}}}, Vector{Float64}, Vector{Set{DynamicPPL.Selector}}}, DynamicPPL.Metadata{Dict{AbstractPPL.VarName{:dz_g1, Tuple{}}, Int64}, Vector{Truncated{Normal{Float64}, Continuous, Float64}}, Vector{AbstractPPL.VarName{:dz_g1, Tuple{}}}, Vector{Float64}, Vector{Set{DynamicPPL.Selector}}}, DynamicPPL.Metadata{Dict{AbstractPPL.VarName{:dz_g2, Tuple{}}, Int64}, Vector{Truncated{Normal{Float64}, Continuous, Float64}}, Vector{AbstractPPL.VarName{:dz_g2, Tuple{}}}, Vector{Float64}, Vector{Set{DynamicPPL.Selector}}}, DynamicPPL.Metadata{Dict{AbstractPPL.VarName{:dz_g3, Tuple{}}, Int64}, Vector{Truncated{Normal{Float64}, Continuous, Float64}}, Vector{AbstractPPL.VarName{:dz_g3, Tuple{}}}, Vector{Float64}, Vector{Set{DynamicPPL.Selector}}}, DynamicPPL.Metadata{Dict{AbstractPPL.VarName{:dz_g4, Tuple{}}, Int64}, Vector{Truncated{Normal{Float64}, Continuous, Float64}}, Vector{AbstractPPL.VarName{:dz_g4, Tuple{}}}, Vector{Float64}, Vector{Set{DynamicPPL.Selector}}}}}, Float64}, DynamicPPL.Model{var\"#9#10\", (:data_vector,), (), (), Tuple{Vector{Float64}}, Tuple{}}, DynamicPPL.Sampler{NUTS{Turing.Core.ForwardDiffAD{40}, (), AdvancedHMC.DiagEuclideanMetric}}, DynamicPPL.DefaultContext}, Float64}, Float64, 6}}, Vector{Set{DynamicPPL.Selector}}}, DynamicPPL.Metadata{Dict{AbstractPPL.VarName{:dz_g2, Tuple{}}, Int64}, Vector{Truncated{Normal{Float64}, Continuous, Float64}}, Vector{AbstractPPL.VarName{:dz_g2, Tuple{}}}, Vector{ForwardDiff.Dual{ForwardDiff.Tag{Turing.Core.var\"#f#7\"{DynamicPPL.TypedVarInfo{NamedTuple{(:Ωm, :dz_g0, :dz_g1, :dz_g2, :dz_g3, :dz_g4), Tuple{DynamicPPL.Metadata{Dict{AbstractPPL.VarName{:Ωm, Tuple{}}, Int64}, Vector{Uniform{Float64}}, Vector{AbstractPPL.VarName{:Ωm, Tuple{}}}, Vector{Float64}, Vector{Set{DynamicPPL.Selector}}}, DynamicPPL.Metadata{Dict{AbstractPPL.VarName{:dz_g0, Tuple{}}, Int64}, Vector{Truncated{Normal{Float64}, Continuous, Float64}}, Vector{AbstractPPL.VarName{:dz_g0, Tuple{}}}, Vector{Float64}, Vector{Set{DynamicPPL.Selector}}}, DynamicPPL.Metadata{Dict{AbstractPPL.VarName{:dz_g1, Tuple{}}, Int64}, Vector{Truncated{Normal{Float64}, Continuous, Float64}}, Vector{AbstractPPL.VarName{:dz_g1, Tuple{}}}, Vector{Float64}, Vector{Set{DynamicPPL.Selector}}}, DynamicPPL.Metadata{Dict{AbstractPPL.VarName{:dz_g2, Tuple{}}, Int64}, Vector{Truncated{Normal{Float64}, Continuous, Float64}}, Vector{AbstractPPL.VarName{:dz_g2, Tuple{}}}, Vector{Float64}, Vector{Set{DynamicPPL.Selector}}}, DynamicPPL.Metadata{Dict{AbstractPPL.VarName{:dz_g3, Tuple{}}, Int64}, Vector{Truncated{Normal{Float64}, Continuous, Float64}}, Vector{AbstractPPL.VarName{:dz_g3, Tuple{}}}, Vector{Float64}, Vector{Set{DynamicPPL.Selector}}}, DynamicPPL.Metadata{Dict{AbstractPPL.VarName{:dz_g4, Tuple{}}, Int64}, Vector{Truncated{Normal{Float64}, Continuous, Float64}}, Vector{AbstractPPL.VarName{:dz_g4, Tuple{}}}, Vector{Float64}, Vector{Set{DynamicPPL.Selector}}}}}, Float64}, DynamicPPL.Model{var\"#9#10\", (:data_vector,), (), (), Tuple{Vector{Float64}}, Tuple{}}, DynamicPPL.Sampler{NUTS{Turing.Core.ForwardDiffAD{40}, (), AdvancedHMC.DiagEuclideanMetric}}, DynamicPPL.DefaultContext}, Float64}, Float64, 6}}, Vector{Set{DynamicPPL.Selector}}}, DynamicPPL.Metadata{Dict{AbstractPPL.VarName{:dz_g3, Tuple{}}, Int64}, Vector{Truncated{Normal{Float64}, Continuous, Float64}}, Vector{AbstractPPL.VarName{:dz_g3, Tuple{}}}, Vector{ForwardDiff.Dual{ForwardDiff.Tag{Turing.Core.var\"#f#7\"{DynamicPPL.TypedVarInfo{NamedTuple{(:Ωm, :dz_g0, :dz_g1, :dz_g2, :dz_g3, :dz_g4), Tuple{DynamicPPL.Metadata{Dict{AbstractPPL.VarName{:Ωm, Tuple{}}, Int64}, Vector{Uniform{Float64}}, Vector{AbstractPPL.VarName{:Ωm, Tuple{}}}, Vector{Float64}, Vector{Set{DynamicPPL.Selector}}}, DynamicPPL.Metadata{Dict{AbstractPPL.VarName{:dz_g0, Tuple{}}, Int64}, Vector{Truncated{Normal{Float64}, Continuous, Float64}}, Vector{AbstractPPL.VarName{:dz_g0, Tuple{}}}, Vector{Float64}, Vector{Set{DynamicPPL.Selector}}}, DynamicPPL.Metadata{Dict{AbstractPPL.VarName{:dz_g1, Tuple{}}, Int64}, Vector{Truncated{Normal{Float64}, Continuous, Float64}}, Vector{AbstractPPL.VarName{:dz_g1, Tuple{}}}, Vector{Float64}, Vector{Set{DynamicPPL.Selector}}}, DynamicPPL.Metadata{Dict{AbstractPPL.VarName{:dz_g2, Tuple{}}, Int64}, Vector{Truncated{Normal{Float64}, Continuous, Float64}}, Vector{AbstractPPL.VarName{:dz_g2, Tuple{}}}, Vector{Float64}, Vector{Set{DynamicPPL.Selector}}}, DynamicPPL.Metadata{Dict{AbstractPPL.VarName{:dz_g3, Tuple{}}, Int64}, Vector{Truncated{Normal{Float64}, Continuous, Float64}}, Vector{AbstractPPL.VarName{:dz_g3, Tuple{}}}, Vector{Float64}, Vector{Set{DynamicPPL.Selector}}}, DynamicPPL.Metadata{Dict{AbstractPPL.VarName{:dz_g4, Tuple{}}, Int64}, Vector{Truncated{Normal{Float64}, Continuous, Float64}}, Vector{AbstractPPL.VarName{:dz_g4, Tuple{}}}, Vector{Float64}, Vector{Set{DynamicPPL.Selector}}}}}, Float64}, DynamicPPL.Model{var\"#9#10\", (:data_vector,), (), (), Tuple{Vector{Float64}}, Tuple{}}, DynamicPPL.Sampler{NUTS{Turing.Core.ForwardDiffAD{40}, (), AdvancedHMC.DiagEuclideanMetric}}, DynamicPPL.DefaultContext}, Float64}, Float64, 6}}, Vector{Set{DynamicPPL.Selector}}}, DynamicPPL.Metadata{Dict{AbstractPPL.VarName{:dz_g4, Tuple{}}, Int64}, Vector{Truncated{Normal{Float64}, Continuous, Float64}}, Vector{AbstractPPL.VarName{:dz_g4, Tuple{}}}, Vector{ForwardDiff.Dual{ForwardDiff.Tag{Turing.Core.var\"#f#7\"{DynamicPPL.TypedVarInfo{NamedTuple{(:Ωm, :dz_g0, :dz_g1, :dz_g2, :dz_g3, :dz_g4), Tuple{DynamicPPL.Metadata{Dict{AbstractPPL.VarName{:Ωm, Tuple{}}, Int64}, Vector{Uniform{Float64}}, Vector{AbstractPPL.VarName{:Ωm, Tuple{}}}, Vector{Float64}, Vector{Set{DynamicPPL.Selector}}}, DynamicPPL.Metadata{Dict{AbstractPPL.VarName{:dz_g0, Tuple{}}, Int64}, Vector{Truncated{Normal{Float64}, Continuous, Float64}}, Vector{AbstractPPL.VarName{:dz_g0, Tuple{}}}, Vector{Float64}, Vector{Set{DynamicPPL.Selector}}}, DynamicPPL.Metadata{Dict{AbstractPPL.VarName{:dz_g1, Tuple{}}, Int64}, Vector{Truncated{Normal{Float64}, Continuous, Float64}}, Vector{AbstractPPL.VarName{:dz_g1, Tuple{}}}, Vector{Float64}, Vector{Set{DynamicPPL.Selector}}}, DynamicPPL.Metadata{Dict{AbstractPPL.VarName{:dz_g2, Tuple{}}, Int64}, Vector{Truncated{Normal{Float64}, Continuous, Float64}}, Vector{AbstractPPL.VarName{:dz_g2, Tuple{}}}, Vector{Float64}, Vector{Set{DynamicPPL.Selector}}}, DynamicPPL.Metadata{Dict{AbstractPPL.VarName{:dz_g3, Tuple{}}, Int64}, Vector{Truncated{Normal{Float64}, Continuous, Float64}}, Vector{AbstractPPL.VarName{:dz_g3, Tuple{}}}, Vector{Float64}, Vector{Set{DynamicPPL.Selector}}}, DynamicPPL.Metadata{Dict{AbstractPPL.VarName{:dz_g4, Tuple{}}, Int64}, Vector{Truncated{Normal{Float64}, Continuous, Float64}}, Vector{AbstractPPL.VarName{:dz_g4, Tuple{}}}, Vector{Float64}, Vector{Set{DynamicPPL.Selector}}}}}, Float64}, DynamicPPL.Model{var\"#9#10\", (:data_vector,), (), (), Tuple{Vector{Float64}}, Tuple{}}, DynamicPPL.Sampler{NUTS{Turing.Core.ForwardDiffAD{40}, (), AdvancedHMC.DiagEuclideanMetric}}, DynamicPPL.DefaultContext}, Float64}, Float64, 6}}, Vector{Set{DynamicPPL.Selector}}}}}, ForwardDiff.Dual{ForwardDiff.Tag{Turing.Core.var\"#f#7\"{DynamicPPL.TypedVarInfo{NamedTuple{(:Ωm, :dz_g0, :dz_g1, :dz_g2, :dz_g3, :dz_g4), Tuple{DynamicPPL.Metadata{Dict{AbstractPPL.VarName{:Ωm, Tuple{}}, Int64}, Vector{Uniform{Float64}}, Vector{AbstractPPL.VarName{:Ωm, Tuple{}}}, Vector{Float64}, Vector{Set{DynamicPPL.Selector}}}, DynamicPPL.Metadata{Dict{AbstractPPL.VarName{:dz_g0, Tuple{}}, Int64}, Vector{Truncated{Normal{Float64}, Continuous, Float64}}, Vector{AbstractPPL.VarName{:dz_g0, Tuple{}}}, Vector{Float64}, Vector{Set{DynamicPPL.Selector}}}, DynamicPPL.Metadata{Dict{AbstractPPL.VarName{:dz_g1, Tuple{}}, Int64}, Vector{Truncated{Normal{Float64}, Continuous, Float64}}, Vector{AbstractPPL.VarName{:dz_g1, Tuple{}}}, Vector{Float64}, Vector{Set{DynamicPPL.Selector}}}, DynamicPPL.Metadata{Dict{AbstractPPL.VarName{:dz_g2, Tuple{}}, Int64}, Vector{Truncated{Normal{Float64}, Continuous, Float64}}, Vector{AbstractPPL.VarName{:dz_g2, Tuple{}}}, Vector{Float64}, Vector{Set{DynamicPPL.Selector}}}, DynamicPPL.Metadata{Dict{AbstractPPL.VarName{:dz_g3, Tuple{}}, Int64}, Vector{Truncated{Normal{Float64}, Continuous, Float64}}, Vector{AbstractPPL.VarName{:dz_g3, Tuple{}}}, Vector{Float64}, Vector{Set{DynamicPPL.Selector}}}, DynamicPPL.Metadata{Dict{AbstractPPL.VarName{:dz_g4, Tuple{}}, Int64}, Vector{Truncated{Normal{Float64}, Continuous, Float64}}, Vector{AbstractPPL.VarName{:dz_g4, Tuple{}}}, Vector{Float64}, Vector{Set{DynamicPPL.Selector}}}}}, Float64}, DynamicPPL.Model{var\"#9#10\", (:data_vector,), (), (), Tuple{Vector{Float64}}, Tuple{}}, DynamicPPL.Sampler{NUTS{Turing.Core.ForwardDiffAD{40}, (), AdvancedHMC.DiagEuclideanMetric}}, DynamicPPL.DefaultContext}, Float64}, Float64, 6}}, sampler::DynamicPPL.Sampler{NUTS{Turing.Core.ForwardDiffAD{40}, (), AdvancedHMC.DiagEuclideanMetric}}, context::DynamicPPL.DefaultContext)",
      "    @ DynamicPPL ~/.julia/packages/DynamicPPL/SgzCy/src/model.jl:94",
      " [16] Model",
      "    @ ~/.julia/packages/DynamicPPL/SgzCy/src/model.jl:98 [inlined]",
      " [17] f",
      "    @ ~/.julia/packages/Turing/uAz5c/src/core/ad.jl:111 [inlined]",
      " [18] vector_mode_dual_eval!",
      "    @ ~/.julia/packages/ForwardDiff/PBzup/src/apiutils.jl:37 [inlined]",
      " [19] vector_mode_gradient!(result::Vector{Float64}, f::Turing.Core.var\"#f#7\"{DynamicPPL.TypedVarInfo{NamedTuple{(:Ωm, :dz_g0, :dz_g1, :dz_g2, :dz_g3, :dz_g4), Tuple{DynamicPPL.Metadata{Dict{AbstractPPL.VarName{:Ωm, Tuple{}}, Int64}, Vector{Uniform{Float64}}, Vector{AbstractPPL.VarName{:Ωm, Tuple{}}}, Vector{Float64}, Vector{Set{DynamicPPL.Selector}}}, DynamicPPL.Metadata{Dict{AbstractPPL.VarName{:dz_g0, Tuple{}}, Int64}, Vector{Truncated{Normal{Float64}, Continuous, Float64}}, Vector{AbstractPPL.VarName{:dz_g0, Tuple{}}}, Vector{Float64}, Vector{Set{DynamicPPL.Selector}}}, DynamicPPL.Metadata{Dict{AbstractPPL.VarName{:dz_g1, Tuple{}}, Int64}, Vector{Truncated{Normal{Float64}, Continuous, Float64}}, Vector{AbstractPPL.VarName{:dz_g1, Tuple{}}}, Vector{Float64}, Vector{Set{DynamicPPL.Selector}}}, DynamicPPL.Metadata{Dict{AbstractPPL.VarName{:dz_g2, Tuple{}}, Int64}, Vector{Truncated{Normal{Float64}, Continuous, Float64}}, Vector{AbstractPPL.VarName{:dz_g2, Tuple{}}}, Vector{Float64}, Vector{Set{DynamicPPL.Selector}}}, DynamicPPL.Metadata{Dict{AbstractPPL.VarName{:dz_g3, Tuple{}}, Int64}, Vector{Truncated{Normal{Float64}, Continuous, Float64}}, Vector{AbstractPPL.VarName{:dz_g3, Tuple{}}}, Vector{Float64}, Vector{Set{DynamicPPL.Selector}}}, DynamicPPL.Metadata{Dict{AbstractPPL.VarName{:dz_g4, Tuple{}}, Int64}, Vector{Truncated{Normal{Float64}, Continuous, Float64}}, Vector{AbstractPPL.VarName{:dz_g4, Tuple{}}}, Vector{Float64}, Vector{Set{DynamicPPL.Selector}}}}}, Float64}, DynamicPPL.Model{var\"#9#10\", (:data_vector,), (), (), Tuple{Vector{Float64}}, Tuple{}}, DynamicPPL.Sampler{NUTS{Turing.Core.ForwardDiffAD{40}, (), AdvancedHMC.DiagEuclideanMetric}}, DynamicPPL.DefaultContext}, x::Vector{Float64}, cfg::ForwardDiff.GradientConfig{ForwardDiff.Tag{Turing.Core.var\"#f#7\"{DynamicPPL.TypedVarInfo{NamedTuple{(:Ωm, :dz_g0, :dz_g1, :dz_g2, :dz_g3, :dz_g4), Tuple{DynamicPPL.Metadata{Dict{AbstractPPL.VarName{:Ωm, Tuple{}}, Int64}, Vector{Uniform{Float64}}, Vector{AbstractPPL.VarName{:Ωm, Tuple{}}}, Vector{Float64}, Vector{Set{DynamicPPL.Selector}}}, DynamicPPL.Metadata{Dict{AbstractPPL.VarName{:dz_g0, Tuple{}}, Int64}, Vector{Truncated{Normal{Float64}, Continuous, Float64}}, Vector{AbstractPPL.VarName{:dz_g0, Tuple{}}}, Vector{Float64}, Vector{Set{DynamicPPL.Selector}}}, DynamicPPL.Metadata{Dict{AbstractPPL.VarName{:dz_g1, Tuple{}}, Int64}, Vector{Truncated{Normal{Float64}, Continuous, Float64}}, Vector{AbstractPPL.VarName{:dz_g1, Tuple{}}}, Vector{Float64}, Vector{Set{DynamicPPL.Selector}}}, DynamicPPL.Metadata{Dict{AbstractPPL.VarName{:dz_g2, Tuple{}}, Int64}, Vector{Truncated{Normal{Float64}, Continuous, Float64}}, Vector{AbstractPPL.VarName{:dz_g2, Tuple{}}}, Vector{Float64}, Vector{Set{DynamicPPL.Selector}}}, DynamicPPL.Metadata{Dict{AbstractPPL.VarName{:dz_g3, Tuple{}}, Int64}, Vector{Truncated{Normal{Float64}, Continuous, Float64}}, Vector{AbstractPPL.VarName{:dz_g3, Tuple{}}}, Vector{Float64}, Vector{Set{DynamicPPL.Selector}}}, DynamicPPL.Metadata{Dict{AbstractPPL.VarName{:dz_g4, Tuple{}}, Int64}, Vector{Truncated{Normal{Float64}, Continuous, Float64}}, Vector{AbstractPPL.VarName{:dz_g4, Tuple{}}}, Vector{Float64}, Vector{Set{DynamicPPL.Selector}}}}}, Float64}, DynamicPPL.Model{var\"#9#10\", (:data_vector,), (), (), Tuple{Vector{Float64}}, Tuple{}}, DynamicPPL.Sampler{NUTS{Turing.Core.ForwardDiffAD{40}, (), AdvancedHMC.DiagEuclideanMetric}}, DynamicPPL.DefaultContext}, Float64}, Float64, 6, Vector{ForwardDiff.Dual{ForwardDiff.Tag{Turing.Core.var\"#f#7\"{DynamicPPL.TypedVarInfo{NamedTuple{(:Ωm, :dz_g0, :dz_g1, :dz_g2, :dz_g3, :dz_g4), Tuple{DynamicPPL.Metadata{Dict{AbstractPPL.VarName{:Ωm, Tuple{}}, Int64}, Vector{Uniform{Float64}}, Vector{AbstractPPL.VarName{:Ωm, Tuple{}}}, Vector{Float64}, Vector{Set{DynamicPPL.Selector}}}, DynamicPPL.Metadata{Dict{AbstractPPL.VarName{:dz_g0, Tuple{}}, Int64}, Vector{Truncated{Normal{Float64}, Continuous, Float64}}, Vector{AbstractPPL.VarName{:dz_g0, Tuple{}}}, Vector{Float64}, Vector{Set{DynamicPPL.Selector}}}, DynamicPPL.Metadata{Dict{AbstractPPL.VarName{:dz_g1, Tuple{}}, Int64}, Vector{Truncated{Normal{Float64}, Continuous, Float64}}, Vector{AbstractPPL.VarName{:dz_g1, Tuple{}}}, Vector{Float64}, Vector{Set{DynamicPPL.Selector}}}, DynamicPPL.Metadata{Dict{AbstractPPL.VarName{:dz_g2, Tuple{}}, Int64}, Vector{Truncated{Normal{Float64}, Continuous, Float64}}, Vector{AbstractPPL.VarName{:dz_g2, Tuple{}}}, Vector{Float64}, Vector{Set{DynamicPPL.Selector}}}, DynamicPPL.Metadata{Dict{AbstractPPL.VarName{:dz_g3, Tuple{}}, Int64}, Vector{Truncated{Normal{Float64}, Continuous, Float64}}, Vector{AbstractPPL.VarName{:dz_g3, Tuple{}}}, Vector{Float64}, Vector{Set{DynamicPPL.Selector}}}, DynamicPPL.Metadata{Dict{AbstractPPL.VarName{:dz_g4, Tuple{}}, Int64}, Vector{Truncated{Normal{Float64}, Continuous, Float64}}, Vector{AbstractPPL.VarName{:dz_g4, Tuple{}}}, Vector{Float64}, Vector{Set{DynamicPPL.Selector}}}}}, Float64}, DynamicPPL.Model{var\"#9#10\", (:data_vector,), (), (), Tuple{Vector{Float64}}, Tuple{}}, DynamicPPL.Sampler{NUTS{Turing.Core.ForwardDiffAD{40}, (), AdvancedHMC.DiagEuclideanMetric}}, DynamicPPL.DefaultContext}, Float64}, Float64, 6}}})",
      "    @ ForwardDiff ~/.julia/packages/ForwardDiff/PBzup/src/gradient.jl:113",
      " [20] gradient!",
      "    @ ~/.julia/packages/ForwardDiff/PBzup/src/gradient.jl:37 [inlined]",
      " [21] gradient!(result::Vector{Float64}, f::Turing.Core.var\"#f#7\"{DynamicPPL.TypedVarInfo{NamedTuple{(:Ωm, :dz_g0, :dz_g1, :dz_g2, :dz_g3, :dz_g4), Tuple{DynamicPPL.Metadata{Dict{AbstractPPL.VarName{:Ωm, Tuple{}}, Int64}, Vector{Uniform{Float64}}, Vector{AbstractPPL.VarName{:Ωm, Tuple{}}}, Vector{Float64}, Vector{Set{DynamicPPL.Selector}}}, DynamicPPL.Metadata{Dict{AbstractPPL.VarName{:dz_g0, Tuple{}}, Int64}, Vector{Truncated{Normal{Float64}, Continuous, Float64}}, Vector{AbstractPPL.VarName{:dz_g0, Tuple{}}}, Vector{Float64}, Vector{Set{DynamicPPL.Selector}}}, DynamicPPL.Metadata{Dict{AbstractPPL.VarName{:dz_g1, Tuple{}}, Int64}, Vector{Truncated{Normal{Float64}, Continuous, Float64}}, Vector{AbstractPPL.VarName{:dz_g1, Tuple{}}}, Vector{Float64}, Vector{Set{DynamicPPL.Selector}}}, DynamicPPL.Metadata{Dict{AbstractPPL.VarName{:dz_g2, Tuple{}}, Int64}, Vector{Truncated{Normal{Float64}, Continuous, Float64}}, Vector{AbstractPPL.VarName{:dz_g2, Tuple{}}}, Vector{Float64}, Vector{Set{DynamicPPL.Selector}}}, DynamicPPL.Metadata{Dict{AbstractPPL.VarName{:dz_g3, Tuple{}}, Int64}, Vector{Truncated{Normal{Float64}, Continuous, Float64}}, Vector{AbstractPPL.VarName{:dz_g3, Tuple{}}}, Vector{Float64}, Vector{Set{DynamicPPL.Selector}}}, DynamicPPL.Metadata{Dict{AbstractPPL.VarName{:dz_g4, Tuple{}}, Int64}, Vector{Truncated{Normal{Float64}, Continuous, Float64}}, Vector{AbstractPPL.VarName{:dz_g4, Tuple{}}}, Vector{Float64}, Vector{Set{DynamicPPL.Selector}}}}}, Float64}, DynamicPPL.Model{var\"#9#10\", (:data_vector,), (), (), Tuple{Vector{Float64}}, Tuple{}}, DynamicPPL.Sampler{NUTS{Turing.Core.ForwardDiffAD{40}, (), AdvancedHMC.DiagEuclideanMetric}}, DynamicPPL.DefaultContext}, x::Vector{Float64}, cfg::ForwardDiff.GradientConfig{ForwardDiff.Tag{Turing.Core.var\"#f#7\"{DynamicPPL.TypedVarInfo{NamedTuple{(:Ωm, :dz_g0, :dz_g1, :dz_g2, :dz_g3, :dz_g4), Tuple{DynamicPPL.Metadata{Dict{AbstractPPL.VarName{:Ωm, Tuple{}}, Int64}, Vector{Uniform{Float64}}, Vector{AbstractPPL.VarName{:Ωm, Tuple{}}}, Vector{Float64}, Vector{Set{DynamicPPL.Selector}}}, DynamicPPL.Metadata{Dict{AbstractPPL.VarName{:dz_g0, Tuple{}}, Int64}, Vector{Truncated{Normal{Float64}, Continuous, Float64}}, Vector{AbstractPPL.VarName{:dz_g0, Tuple{}}}, Vector{Float64}, Vector{Set{DynamicPPL.Selector}}}, DynamicPPL.Metadata{Dict{AbstractPPL.VarName{:dz_g1, Tuple{}}, Int64}, Vector{Truncated{Normal{Float64}, Continuous, Float64}}, Vector{AbstractPPL.VarName{:dz_g1, Tuple{}}}, Vector{Float64}, Vector{Set{DynamicPPL.Selector}}}, DynamicPPL.Metadata{Dict{AbstractPPL.VarName{:dz_g2, Tuple{}}, Int64}, Vector{Truncated{Normal{Float64}, Continuous, Float64}}, Vector{AbstractPPL.VarName{:dz_g2, Tuple{}}}, Vector{Float64}, Vector{Set{DynamicPPL.Selector}}}, DynamicPPL.Metadata{Dict{AbstractPPL.VarName{:dz_g3, Tuple{}}, Int64}, Vector{Truncated{Normal{Float64}, Continuous, Float64}}, Vector{AbstractPPL.VarName{:dz_g3, Tuple{}}}, Vector{Float64}, Vector{Set{DynamicPPL.Selector}}}, DynamicPPL.Metadata{Dict{AbstractPPL.VarName{:dz_g4, Tuple{}}, Int64}, Vector{Truncated{Normal{Float64}, Continuous, Float64}}, Vector{AbstractPPL.VarName{:dz_g4, Tuple{}}}, Vector{Float64}, Vector{Set{DynamicPPL.Selector}}}}}, Float64}, DynamicPPL.Model{var\"#9#10\", (:data_vector,), (), (), Tuple{Vector{Float64}}, Tuple{}}, DynamicPPL.Sampler{NUTS{Turing.Core.ForwardDiffAD{40}, (), AdvancedHMC.DiagEuclideanMetric}}, DynamicPPL.DefaultContext}, Float64}, Float64, 6, Vector{ForwardDiff.Dual{ForwardDiff.Tag{Turing.Core.var\"#f#7\"{DynamicPPL.TypedVarInfo{NamedTuple{(:Ωm, :dz_g0, :dz_g1, :dz_g2, :dz_g3, :dz_g4), Tuple{DynamicPPL.Metadata{Dict{AbstractPPL.VarName{:Ωm, Tuple{}}, Int64}, Vector{Uniform{Float64}}, Vector{AbstractPPL.VarName{:Ωm, Tuple{}}}, Vector{Float64}, Vector{Set{DynamicPPL.Selector}}}, DynamicPPL.Metadata{Dict{AbstractPPL.VarName{:dz_g0, Tuple{}}, Int64}, Vector{Truncated{Normal{Float64}, Continuous, Float64}}, Vector{AbstractPPL.VarName{:dz_g0, Tuple{}}}, Vector{Float64}, Vector{Set{DynamicPPL.Selector}}}, DynamicPPL.Metadata{Dict{AbstractPPL.VarName{:dz_g1, Tuple{}}, Int64}, Vector{Truncated{Normal{Float64}, Continuous, Float64}}, Vector{AbstractPPL.VarName{:dz_g1, Tuple{}}}, Vector{Float64}, Vector{Set{DynamicPPL.Selector}}}, DynamicPPL.Metadata{Dict{AbstractPPL.VarName{:dz_g2, Tuple{}}, Int64}, Vector{Truncated{Normal{Float64}, Continuous, Float64}}, Vector{AbstractPPL.VarName{:dz_g2, Tuple{}}}, Vector{Float64}, Vector{Set{DynamicPPL.Selector}}}, DynamicPPL.Metadata{Dict{AbstractPPL.VarName{:dz_g3, Tuple{}}, Int64}, Vector{Truncated{Normal{Float64}, Continuous, Float64}}, Vector{AbstractPPL.VarName{:dz_g3, Tuple{}}}, Vector{Float64}, Vector{Set{DynamicPPL.Selector}}}, DynamicPPL.Metadata{Dict{AbstractPPL.VarName{:dz_g4, Tuple{}}, Int64}, Vector{Truncated{Normal{Float64}, Continuous, Float64}}, Vector{AbstractPPL.VarName{:dz_g4, Tuple{}}}, Vector{Float64}, Vector{Set{DynamicPPL.Selector}}}}}, Float64}, DynamicPPL.Model{var\"#9#10\", (:data_vector,), (), (), Tuple{Vector{Float64}}, Tuple{}}, DynamicPPL.Sampler{NUTS{Turing.Core.ForwardDiffAD{40}, (), AdvancedHMC.DiagEuclideanMetric}}, DynamicPPL.DefaultContext}, Float64}, Float64, 6}}})",
      "    @ ForwardDiff ~/.julia/packages/ForwardDiff/PBzup/src/gradient.jl:35",
      " [22] gradient_logp(::Turing.Core.ForwardDiffAD{40}, θ::Vector{Float64}, vi::DynamicPPL.TypedVarInfo{NamedTuple{(:Ωm, :dz_g0, :dz_g1, :dz_g2, :dz_g3, :dz_g4), Tuple{DynamicPPL.Metadata{Dict{AbstractPPL.VarName{:Ωm, Tuple{}}, Int64}, Vector{Uniform{Float64}}, Vector{AbstractPPL.VarName{:Ωm, Tuple{}}}, Vector{Float64}, Vector{Set{DynamicPPL.Selector}}}, DynamicPPL.Metadata{Dict{AbstractPPL.VarName{:dz_g0, Tuple{}}, Int64}, Vector{Truncated{Normal{Float64}, Continuous, Float64}}, Vector{AbstractPPL.VarName{:dz_g0, Tuple{}}}, Vector{Float64}, Vector{Set{DynamicPPL.Selector}}}, DynamicPPL.Metadata{Dict{AbstractPPL.VarName{:dz_g1, Tuple{}}, Int64}, Vector{Truncated{Normal{Float64}, Continuous, Float64}}, Vector{AbstractPPL.VarName{:dz_g1, Tuple{}}}, Vector{Float64}, Vector{Set{DynamicPPL.Selector}}}, DynamicPPL.Metadata{Dict{AbstractPPL.VarName{:dz_g2, Tuple{}}, Int64}, Vector{Truncated{Normal{Float64}, Continuous, Float64}}, Vector{AbstractPPL.VarName{:dz_g2, Tuple{}}}, Vector{Float64}, Vector{Set{DynamicPPL.Selector}}}, DynamicPPL.Metadata{Dict{AbstractPPL.VarName{:dz_g3, Tuple{}}, Int64}, Vector{Truncated{Normal{Float64}, Continuous, Float64}}, Vector{AbstractPPL.VarName{:dz_g3, Tuple{}}}, Vector{Float64}, Vector{Set{DynamicPPL.Selector}}}, DynamicPPL.Metadata{Dict{AbstractPPL.VarName{:dz_g4, Tuple{}}, Int64}, Vector{Truncated{Normal{Float64}, Continuous, Float64}}, Vector{AbstractPPL.VarName{:dz_g4, Tuple{}}}, Vector{Float64}, Vector{Set{DynamicPPL.Selector}}}}}, Float64}, model::DynamicPPL.Model{var\"#9#10\", (:data_vector,), (), (), Tuple{Vector{Float64}}, Tuple{}}, sampler::DynamicPPL.Sampler{NUTS{Turing.Core.ForwardDiffAD{40}, (), AdvancedHMC.DiagEuclideanMetric}}, ctx::DynamicPPL.DefaultContext)",
      "    @ Turing.Core ~/.julia/packages/Turing/uAz5c/src/core/ad.jl:121",
      " [23] gradient_logp (repeats 2 times)",
      "    @ ~/.julia/packages/Turing/uAz5c/src/core/ad.jl:83 [inlined]",
      " [24] ∂logπ∂θ",
      "    @ ~/.julia/packages/Turing/uAz5c/src/inference/hmc.jl:482 [inlined]",
      " [25] ∂H∂θ",
      "    @ ~/.julia/packages/AdvancedHMC/MIxdK/src/hamiltonian.jl:31 [inlined]",
      " [26] macro expansion",
      "    @ ~/.julia/packages/UnPack/EkESO/src/UnPack.jl:100 [inlined]",
      " [27] step(lf::AdvancedHMC.Leapfrog{Float64}, h::AdvancedHMC.Hamiltonian{AdvancedHMC.DiagEuclideanMetric{Float64, Vector{Float64}}, Turing.Inference.var\"#logπ#54\"{DynamicPPL.TypedVarInfo{NamedTuple{(:Ωm, :dz_g0, :dz_g1, :dz_g2, :dz_g3, :dz_g4), Tuple{DynamicPPL.Metadata{Dict{AbstractPPL.VarName{:Ωm, Tuple{}}, Int64}, Vector{Uniform{Float64}}, Vector{AbstractPPL.VarName{:Ωm, Tuple{}}}, Vector{Float64}, Vector{Set{DynamicPPL.Selector}}}, DynamicPPL.Metadata{Dict{AbstractPPL.VarName{:dz_g0, Tuple{}}, Int64}, Vector{Truncated{Normal{Float64}, Continuous, Float64}}, Vector{AbstractPPL.VarName{:dz_g0, Tuple{}}}, Vector{Float64}, Vector{Set{DynamicPPL.Selector}}}, DynamicPPL.Metadata{Dict{AbstractPPL.VarName{:dz_g1, Tuple{}}, Int64}, Vector{Truncated{Normal{Float64}, Continuous, Float64}}, Vector{AbstractPPL.VarName{:dz_g1, Tuple{}}}, Vector{Float64}, Vector{Set{DynamicPPL.Selector}}}, DynamicPPL.Metadata{Dict{AbstractPPL.VarName{:dz_g2, Tuple{}}, Int64}, Vector{Truncated{Normal{Float64}, Continuous, Float64}}, Vector{AbstractPPL.VarName{:dz_g2, Tuple{}}}, Vector{Float64}, Vector{Set{DynamicPPL.Selector}}}, DynamicPPL.Metadata{Dict{AbstractPPL.VarName{:dz_g3, Tuple{}}, Int64}, Vector{Truncated{Normal{Float64}, Continuous, Float64}}, Vector{AbstractPPL.VarName{:dz_g3, Tuple{}}}, Vector{Float64}, Vector{Set{DynamicPPL.Selector}}}, DynamicPPL.Metadata{Dict{AbstractPPL.VarName{:dz_g4, Tuple{}}, Int64}, Vector{Truncated{Normal{Float64}, Continuous, Float64}}, Vector{AbstractPPL.VarName{:dz_g4, Tuple{}}}, Vector{Float64}, Vector{Set{DynamicPPL.Selector}}}}}, Float64}, DynamicPPL.Sampler{NUTS{Turing.Core.ForwardDiffAD{40}, (), AdvancedHMC.DiagEuclideanMetric}}, DynamicPPL.Model{var\"#9#10\", (:data_vector,), (), (), Tuple{Vector{Float64}}, Tuple{}}}, Turing.Inference.var\"#∂logπ∂θ#53\"{DynamicPPL.TypedVarInfo{NamedTuple{(:Ωm, :dz_g0, :dz_g1, :dz_g2, :dz_g3, :dz_g4), Tuple{DynamicPPL.Metadata{Dict{AbstractPPL.VarName{:Ωm, Tuple{}}, Int64}, Vector{Uniform{Float64}}, Vector{AbstractPPL.VarName{:Ωm, Tuple{}}}, Vector{Float64}, Vector{Set{DynamicPPL.Selector}}}, DynamicPPL.Metadata{Dict{AbstractPPL.VarName{:dz_g0, Tuple{}}, Int64}, Vector{Truncated{Normal{Float64}, Continuous, Float64}}, Vector{AbstractPPL.VarName{:dz_g0, Tuple{}}}, Vector{Float64}, Vector{Set{DynamicPPL.Selector}}}, DynamicPPL.Metadata{Dict{AbstractPPL.VarName{:dz_g1, Tuple{}}, Int64}, Vector{Truncated{Normal{Float64}, Continuous, Float64}}, Vector{AbstractPPL.VarName{:dz_g1, Tuple{}}}, Vector{Float64}, Vector{Set{DynamicPPL.Selector}}}, DynamicPPL.Metadata{Dict{AbstractPPL.VarName{:dz_g2, Tuple{}}, Int64}, Vector{Truncated{Normal{Float64}, Continuous, Float64}}, Vector{AbstractPPL.VarName{:dz_g2, Tuple{}}}, Vector{Float64}, Vector{Set{DynamicPPL.Selector}}}, DynamicPPL.Metadata{Dict{AbstractPPL.VarName{:dz_g3, Tuple{}}, Int64}, Vector{Truncated{Normal{Float64}, Continuous, Float64}}, Vector{AbstractPPL.VarName{:dz_g3, Tuple{}}}, Vector{Float64}, Vector{Set{DynamicPPL.Selector}}}, DynamicPPL.Metadata{Dict{AbstractPPL.VarName{:dz_g4, Tuple{}}, Int64}, Vector{Truncated{Normal{Float64}, Continuous, Float64}}, Vector{AbstractPPL.VarName{:dz_g4, Tuple{}}}, Vector{Float64}, Vector{Set{DynamicPPL.Selector}}}}}, Float64}, DynamicPPL.Sampler{NUTS{Turing.Core.ForwardDiffAD{40}, (), AdvancedHMC.DiagEuclideanMetric}}, DynamicPPL.Model{var\"#9#10\", (:data_vector,), (), (), Tuple{Vector{Float64}}, Tuple{}}}}, z::AdvancedHMC.PhasePoint{Vector{Float64}, AdvancedHMC.DualValue{Float64, Vector{Float64}}}, n_steps::Int64; fwd::Bool, full_trajectory::Val{false})",
      "    @ AdvancedHMC ~/.julia/packages/AdvancedHMC/MIxdK/src/integrator.jl:88",
      " [28] step",
      "    @ ~/.julia/packages/AdvancedHMC/MIxdK/src/integrator.jl:66 [inlined]",
      " [29] build_tree(rng::Random._GLOBAL_RNG, nt::AdvancedHMC.NUTS{AdvancedHMC.MultinomialTS, AdvancedHMC.GeneralisedNoUTurn, AdvancedHMC.Leapfrog{Float64}, Float64}, h::AdvancedHMC.Hamiltonian{AdvancedHMC.DiagEuclideanMetric{Float64, Vector{Float64}}, Turing.Inference.var\"#logπ#54\"{DynamicPPL.TypedVarInfo{NamedTuple{(:Ωm, :dz_g0, :dz_g1, :dz_g2, :dz_g3, :dz_g4), Tuple{DynamicPPL.Metadata{Dict{AbstractPPL.VarName{:Ωm, Tuple{}}, Int64}, Vector{Uniform{Float64}}, Vector{AbstractPPL.VarName{:Ωm, Tuple{}}}, Vector{Float64}, Vector{Set{DynamicPPL.Selector}}}, DynamicPPL.Metadata{Dict{AbstractPPL.VarName{:dz_g0, Tuple{}}, Int64}, Vector{Truncated{Normal{Float64}, Continuous, Float64}}, Vector{AbstractPPL.VarName{:dz_g0, Tuple{}}}, Vector{Float64}, Vector{Set{DynamicPPL.Selector}}}, DynamicPPL.Metadata{Dict{AbstractPPL.VarName{:dz_g1, Tuple{}}, Int64}, Vector{Truncated{Normal{Float64}, Continuous, Float64}}, Vector{AbstractPPL.VarName{:dz_g1, Tuple{}}}, Vector{Float64}, Vector{Set{DynamicPPL.Selector}}}, DynamicPPL.Metadata{Dict{AbstractPPL.VarName{:dz_g2, Tuple{}}, Int64}, Vector{Truncated{Normal{Float64}, Continuous, Float64}}, Vector{AbstractPPL.VarName{:dz_g2, Tuple{}}}, Vector{Float64}, Vector{Set{DynamicPPL.Selector}}}, DynamicPPL.Metadata{Dict{AbstractPPL.VarName{:dz_g3, Tuple{}}, Int64}, Vector{Truncated{Normal{Float64}, Continuous, Float64}}, Vector{AbstractPPL.VarName{:dz_g3, Tuple{}}}, Vector{Float64}, Vector{Set{DynamicPPL.Selector}}}, DynamicPPL.Metadata{Dict{AbstractPPL.VarName{:dz_g4, Tuple{}}, Int64}, Vector{Truncated{Normal{Float64}, Continuous, Float64}}, Vector{AbstractPPL.VarName{:dz_g4, Tuple{}}}, Vector{Float64}, Vector{Set{DynamicPPL.Selector}}}}}, Float64}, DynamicPPL.Sampler{NUTS{Turing.Core.ForwardDiffAD{40}, (), AdvancedHMC.DiagEuclideanMetric}}, DynamicPPL.Model{var\"#9#10\", (:data_vector,), (), (), Tuple{Vector{Float64}}, Tuple{}}}, Turing.Inference.var\"#∂logπ∂θ#53\"{DynamicPPL.TypedVarInfo{NamedTuple{(:Ωm, :dz_g0, :dz_g1, :dz_g2, :dz_g3, :dz_g4), Tuple{DynamicPPL.Metadata{Dict{AbstractPPL.VarName{:Ωm, Tuple{}}, Int64}, Vector{Uniform{Float64}}, Vector{AbstractPPL.VarName{:Ωm, Tuple{}}}, Vector{Float64}, Vector{Set{DynamicPPL.Selector}}}, DynamicPPL.Metadata{Dict{AbstractPPL.VarName{:dz_g0, Tuple{}}, Int64}, Vector{Truncated{Normal{Float64}, Continuous, Float64}}, Vector{AbstractPPL.VarName{:dz_g0, Tuple{}}}, Vector{Float64}, Vector{Set{DynamicPPL.Selector}}}, DynamicPPL.Metadata{Dict{AbstractPPL.VarName{:dz_g1, Tuple{}}, Int64}, Vector{Truncated{Normal{Float64}, Continuous, Float64}}, Vector{AbstractPPL.VarName{:dz_g1, Tuple{}}}, Vector{Float64}, Vector{Set{DynamicPPL.Selector}}}, DynamicPPL.Metadata{Dict{AbstractPPL.VarName{:dz_g2, Tuple{}}, Int64}, Vector{Truncated{Normal{Float64}, Continuous, Float64}}, Vector{AbstractPPL.VarName{:dz_g2, Tuple{}}}, Vector{Float64}, Vector{Set{DynamicPPL.Selector}}}, DynamicPPL.Metadata{Dict{AbstractPPL.VarName{:dz_g3, Tuple{}}, Int64}, Vector{Truncated{Normal{Float64}, Continuous, Float64}}, Vector{AbstractPPL.VarName{:dz_g3, Tuple{}}}, Vector{Float64}, Vector{Set{DynamicPPL.Selector}}}, DynamicPPL.Metadata{Dict{AbstractPPL.VarName{:dz_g4, Tuple{}}, Int64}, Vector{Truncated{Normal{Float64}, Continuous, Float64}}, Vector{AbstractPPL.VarName{:dz_g4, Tuple{}}}, Vector{Float64}, Vector{Set{DynamicPPL.Selector}}}}}, Float64}, DynamicPPL.Sampler{NUTS{Turing.Core.ForwardDiffAD{40}, (), AdvancedHMC.DiagEuclideanMetric}}, DynamicPPL.Model{var\"#9#10\", (:data_vector,), (), (), Tuple{Vector{Float64}}, Tuple{}}}}, z::AdvancedHMC.PhasePoint{Vector{Float64}, AdvancedHMC.DualValue{Float64, Vector{Float64}}}, sampler::AdvancedHMC.MultinomialTS{Float64}, v::Int64, j::Int64, H0::Float64)",
      "    @ AdvancedHMC ~/.julia/packages/AdvancedHMC/MIxdK/src/trajectory.jl:693",
      " [30] transition(rng::Random._GLOBAL_RNG, τ::AdvancedHMC.NUTS{AdvancedHMC.MultinomialTS, AdvancedHMC.GeneralisedNoUTurn, AdvancedHMC.Leapfrog{Float64}, Float64}, h::AdvancedHMC.Hamiltonian{AdvancedHMC.DiagEuclideanMetric{Float64, Vector{Float64}}, Turing.Inference.var\"#logπ#54\"{DynamicPPL.TypedVarInfo{NamedTuple{(:Ωm, :dz_g0, :dz_g1, :dz_g2, :dz_g3, :dz_g4), Tuple{DynamicPPL.Metadata{Dict{AbstractPPL.VarName{:Ωm, Tuple{}}, Int64}, Vector{Uniform{Float64}}, Vector{AbstractPPL.VarName{:Ωm, Tuple{}}}, Vector{Float64}, Vector{Set{DynamicPPL.Selector}}}, DynamicPPL.Metadata{Dict{AbstractPPL.VarName{:dz_g0, Tuple{}}, Int64}, Vector{Truncated{Normal{Float64}, Continuous, Float64}}, Vector{AbstractPPL.VarName{:dz_g0, Tuple{}}}, Vector{Float64}, Vector{Set{DynamicPPL.Selector}}}, DynamicPPL.Metadata{Dict{AbstractPPL.VarName{:dz_g1, Tuple{}}, Int64}, Vector{Truncated{Normal{Float64}, Continuous, Float64}}, Vector{AbstractPPL.VarName{:dz_g1, Tuple{}}}, Vector{Float64}, Vector{Set{DynamicPPL.Selector}}}, DynamicPPL.Metadata{Dict{AbstractPPL.VarName{:dz_g2, Tuple{}}, Int64}, Vector{Truncated{Normal{Float64}, Continuous, Float64}}, Vector{AbstractPPL.VarName{:dz_g2, Tuple{}}}, Vector{Float64}, Vector{Set{DynamicPPL.Selector}}}, DynamicPPL.Metadata{Dict{AbstractPPL.VarName{:dz_g3, Tuple{}}, Int64}, Vector{Truncated{Normal{Float64}, Continuous, Float64}}, Vector{AbstractPPL.VarName{:dz_g3, Tuple{}}}, Vector{Float64}, Vector{Set{DynamicPPL.Selector}}}, DynamicPPL.Metadata{Dict{AbstractPPL.VarName{:dz_g4, Tuple{}}, Int64}, Vector{Truncated{Normal{Float64}, Continuous, Float64}}, Vector{AbstractPPL.VarName{:dz_g4, Tuple{}}}, Vector{Float64}, Vector{Set{DynamicPPL.Selector}}}}}, Float64}, DynamicPPL.Sampler{NUTS{Turing.Core.ForwardDiffAD{40}, (), AdvancedHMC.DiagEuclideanMetric}}, DynamicPPL.Model{var\"#9#10\", (:data_vector,), (), (), Tuple{Vector{Float64}}, Tuple{}}}, Turing.Inference.var\"#∂logπ∂θ#53\"{DynamicPPL.TypedVarInfo{NamedTuple{(:Ωm, :dz_g0, :dz_g1, :dz_g2, :dz_g3, :dz_g4), Tuple{DynamicPPL.Metadata{Dict{AbstractPPL.VarName{:Ωm, Tuple{}}, Int64}, Vector{Uniform{Float64}}, Vector{AbstractPPL.VarName{:Ωm, Tuple{}}}, Vector{Float64}, Vector{Set{DynamicPPL.Selector}}}, DynamicPPL.Metadata{Dict{AbstractPPL.VarName{:dz_g0, Tuple{}}, Int64}, Vector{Truncated{Normal{Float64}, Continuous, Float64}}, Vector{AbstractPPL.VarName{:dz_g0, Tuple{}}}, Vector{Float64}, Vector{Set{DynamicPPL.Selector}}}, DynamicPPL.Metadata{Dict{AbstractPPL.VarName{:dz_g1, Tuple{}}, Int64}, Vector{Truncated{Normal{Float64}, Continuous, Float64}}, Vector{AbstractPPL.VarName{:dz_g1, Tuple{}}}, Vector{Float64}, Vector{Set{DynamicPPL.Selector}}}, DynamicPPL.Metadata{Dict{AbstractPPL.VarName{:dz_g2, Tuple{}}, Int64}, Vector{Truncated{Normal{Float64}, Continuous, Float64}}, Vector{AbstractPPL.VarName{:dz_g2, Tuple{}}}, Vector{Float64}, Vector{Set{DynamicPPL.Selector}}}, DynamicPPL.Metadata{Dict{AbstractPPL.VarName{:dz_g3, Tuple{}}, Int64}, Vector{Truncated{Normal{Float64}, Continuous, Float64}}, Vector{AbstractPPL.VarName{:dz_g3, Tuple{}}}, Vector{Float64}, Vector{Set{DynamicPPL.Selector}}}, DynamicPPL.Metadata{Dict{AbstractPPL.VarName{:dz_g4, Tuple{}}, Int64}, Vector{Truncated{Normal{Float64}, Continuous, Float64}}, Vector{AbstractPPL.VarName{:dz_g4, Tuple{}}}, Vector{Float64}, Vector{Set{DynamicPPL.Selector}}}}}, Float64}, DynamicPPL.Sampler{NUTS{Turing.Core.ForwardDiffAD{40}, (), AdvancedHMC.DiagEuclideanMetric}}, DynamicPPL.Model{var\"#9#10\", (:data_vector,), (), (), Tuple{Vector{Float64}}, Tuple{}}}}, z0::AdvancedHMC.PhasePoint{Vector{Float64}, AdvancedHMC.DualValue{Float64, Vector{Float64}}})",
      "    @ AdvancedHMC ~/.julia/packages/AdvancedHMC/MIxdK/src/trajectory.jl:746",
      " [31] step",
      "    @ ~/.julia/packages/AdvancedHMC/MIxdK/src/sampler.jl:55 [inlined]",
      " [32] step(rng::Random._GLOBAL_RNG, model::DynamicPPL.Model{var\"#9#10\", (:data_vector,), (), (), Tuple{Vector{Float64}}, Tuple{}}, spl::DynamicPPL.Sampler{NUTS{Turing.Core.ForwardDiffAD{40}, (), AdvancedHMC.DiagEuclideanMetric}}, state::Turing.Inference.HMCState{DynamicPPL.TypedVarInfo{NamedTuple{(:Ωm, :dz_g0, :dz_g1, :dz_g2, :dz_g3, :dz_g4), Tuple{DynamicPPL.Metadata{Dict{AbstractPPL.VarName{:Ωm, Tuple{}}, Int64}, Vector{Uniform{Float64}}, Vector{AbstractPPL.VarName{:Ωm, Tuple{}}}, Vector{Float64}, Vector{Set{DynamicPPL.Selector}}}, DynamicPPL.Metadata{Dict{AbstractPPL.VarName{:dz_g0, Tuple{}}, Int64}, Vector{Truncated{Normal{Float64}, Continuous, Float64}}, Vector{AbstractPPL.VarName{:dz_g0, Tuple{}}}, Vector{Float64}, Vector{Set{DynamicPPL.Selector}}}, DynamicPPL.Metadata{Dict{AbstractPPL.VarName{:dz_g1, Tuple{}}, Int64}, Vector{Truncated{Normal{Float64}, Continuous, Float64}}, Vector{AbstractPPL.VarName{:dz_g1, Tuple{}}}, Vector{Float64}, Vector{Set{DynamicPPL.Selector}}}, DynamicPPL.Metadata{Dict{AbstractPPL.VarName{:dz_g2, Tuple{}}, Int64}, Vector{Truncated{Normal{Float64}, Continuous, Float64}}, Vector{AbstractPPL.VarName{:dz_g2, Tuple{}}}, Vector{Float64}, Vector{Set{DynamicPPL.Selector}}}, DynamicPPL.Metadata{Dict{AbstractPPL.VarName{:dz_g3, Tuple{}}, Int64}, Vector{Truncated{Normal{Float64}, Continuous, Float64}}, Vector{AbstractPPL.VarName{:dz_g3, Tuple{}}}, Vector{Float64}, Vector{Set{DynamicPPL.Selector}}}, DynamicPPL.Metadata{Dict{AbstractPPL.VarName{:dz_g4, Tuple{}}, Int64}, Vector{Truncated{Normal{Float64}, Continuous, Float64}}, Vector{AbstractPPL.VarName{:dz_g4, Tuple{}}}, Vector{Float64}, Vector{Set{DynamicPPL.Selector}}}}}, Float64}, AdvancedHMC.NUTS{AdvancedHMC.MultinomialTS, AdvancedHMC.GeneralisedNoUTurn, AdvancedHMC.Leapfrog{Float64}, Float64}, AdvancedHMC.Hamiltonian{AdvancedHMC.DiagEuclideanMetric{Float64, Vector{Float64}}, Turing.Inference.var\"#logπ#54\"{DynamicPPL.TypedVarInfo{NamedTuple{(:Ωm, :dz_g0, :dz_g1, :dz_g2, :dz_g3, :dz_g4), Tuple{DynamicPPL.Metadata{Dict{AbstractPPL.VarName{:Ωm, Tuple{}}, Int64}, Vector{Uniform{Float64}}, Vector{AbstractPPL.VarName{:Ωm, Tuple{}}}, Vector{Float64}, Vector{Set{DynamicPPL.Selector}}}, DynamicPPL.Metadata{Dict{AbstractPPL.VarName{:dz_g0, Tuple{}}, Int64}, Vector{Truncated{Normal{Float64}, Continuous, Float64}}, Vector{AbstractPPL.VarName{:dz_g0, Tuple{}}}, Vector{Float64}, Vector{Set{DynamicPPL.Selector}}}, DynamicPPL.Metadata{Dict{AbstractPPL.VarName{:dz_g1, Tuple{}}, Int64}, Vector{Truncated{Normal{Float64}, Continuous, Float64}}, Vector{AbstractPPL.VarName{:dz_g1, Tuple{}}}, Vector{Float64}, Vector{Set{DynamicPPL.Selector}}}, DynamicPPL.Metadata{Dict{AbstractPPL.VarName{:dz_g2, Tuple{}}, Int64}, Vector{Truncated{Normal{Float64}, Continuous, Float64}}, Vector{AbstractPPL.VarName{:dz_g2, Tuple{}}}, Vector{Float64}, Vector{Set{DynamicPPL.Selector}}}, DynamicPPL.Metadata{Dict{AbstractPPL.VarName{:dz_g3, Tuple{}}, Int64}, Vector{Truncated{Normal{Float64}, Continuous, Float64}}, Vector{AbstractPPL.VarName{:dz_g3, Tuple{}}}, Vector{Float64}, Vector{Set{DynamicPPL.Selector}}}, DynamicPPL.Metadata{Dict{AbstractPPL.VarName{:dz_g4, Tuple{}}, Int64}, Vector{Truncated{Normal{Float64}, Continuous, Float64}}, Vector{AbstractPPL.VarName{:dz_g4, Tuple{}}}, Vector{Float64}, Vector{Set{DynamicPPL.Selector}}}}}, Float64}, DynamicPPL.Sampler{NUTS{Turing.Core.ForwardDiffAD{40}, (), AdvancedHMC.DiagEuclideanMetric}}, DynamicPPL.Model{var\"#9#10\", (:data_vector,), (), (), Tuple{Vector{Float64}}, Tuple{}}}, Turing.Inference.var\"#∂logπ∂θ#53\"{DynamicPPL.TypedVarInfo{NamedTuple{(:Ωm, :dz_g0, :dz_g1, :dz_g2, :dz_g3, :dz_g4), Tuple{DynamicPPL.Metadata{Dict{AbstractPPL.VarName{:Ωm, Tuple{}}, Int64}, Vector{Uniform{Float64}}, Vector{AbstractPPL.VarName{:Ωm, Tuple{}}}, Vector{Float64}, Vector{Set{DynamicPPL.Selector}}}, DynamicPPL.Metadata{Dict{AbstractPPL.VarName{:dz_g0, Tuple{}}, Int64}, Vector{Truncated{Normal{Float64}, Continuous, Float64}}, Vector{AbstractPPL.VarName{:dz_g0, Tuple{}}}, Vector{Float64}, Vector{Set{DynamicPPL.Selector}}}, DynamicPPL.Metadata{Dict{AbstractPPL.VarName{:dz_g1, Tuple{}}, Int64}, Vector{Truncated{Normal{Float64}, Continuous, Float64}}, Vector{AbstractPPL.VarName{:dz_g1, Tuple{}}}, Vector{Float64}, Vector{Set{DynamicPPL.Selector}}}, DynamicPPL.Metadata{Dict{AbstractPPL.VarName{:dz_g2, Tuple{}}, Int64}, Vector{Truncated{Normal{Float64}, Continuous, Float64}}, Vector{AbstractPPL.VarName{:dz_g2, Tuple{}}}, Vector{Float64}, Vector{Set{DynamicPPL.Selector}}}, DynamicPPL.Metadata{Dict{AbstractPPL.VarName{:dz_g3, Tuple{}}, Int64}, Vector{Truncated{Normal{Float64}, Continuous, Float64}}, Vector{AbstractPPL.VarName{:dz_g3, Tuple{}}}, Vector{Float64}, Vector{Set{DynamicPPL.Selector}}}, DynamicPPL.Metadata{Dict{AbstractPPL.VarName{:dz_g4, Tuple{}}, Int64}, Vector{Truncated{Normal{Float64}, Continuous, Float64}}, Vector{AbstractPPL.VarName{:dz_g4, Tuple{}}}, Vector{Float64}, Vector{Set{DynamicPPL.Selector}}}}}, Float64}, DynamicPPL.Sampler{NUTS{Turing.Core.ForwardDiffAD{40}, (), AdvancedHMC.DiagEuclideanMetric}}, DynamicPPL.Model{var\"#9#10\", (:data_vector,), (), (), Tuple{Vector{Float64}}, Tuple{}}}}, AdvancedHMC.PhasePoint{Vector{Float64}, AdvancedHMC.DualValue{Float64, Vector{Float64}}}, AdvancedHMC.Adaptation.StanHMCAdaptor{AdvancedHMC.Adaptation.WelfordVar{Float64, Vector{Float64}}, AdvancedHMC.Adaptation.NesterovDualAveraging{Float64}}}; nadapts::Int64, kwargs::Base.Pairs{Symbol, Bool, Tuple{Symbol}, NamedTuple{(:save_state,), Tuple{Bool}}})",
      "    @ Turing.Inference ~/.julia/packages/Turing/uAz5c/src/inference/hmc.jl:278",
      " [33] macro expansion",
      "    @ ~/.julia/packages/AbstractMCMC/oou1a/src/sample.jl:140 [inlined]",
      " [34] macro expansion",
      "    @ ~/.julia/packages/ProgressLogging/6KXlp/src/ProgressLogging.jl:328 [inlined]",
      " [35] (::AbstractMCMC.var\"#20#21\"{Bool, String, Nothing, Int64, Int64, Base.Pairs{Symbol, Integer, Tuple{Symbol, Symbol}, NamedTuple{(:nadapts, :save_state), Tuple{Int64, Bool}}}, Random._GLOBAL_RNG, DynamicPPL.Model{var\"#9#10\", (:data_vector,), (), (), Tuple{Vector{Float64}}, Tuple{}}, DynamicPPL.Sampler{NUTS{Turing.Core.ForwardDiffAD{40}, (), AdvancedHMC.DiagEuclideanMetric}}, Int64, Int64})()",
      "    @ AbstractMCMC ~/.julia/packages/AbstractMCMC/oou1a/src/logging.jl:11",
      " [36] with_logstate(f::Function, logstate::Any)",
      "    @ Base.CoreLogging ./logging.jl:511",
      " [37] with_logger(f::Function, logger::LoggingExtras.TeeLogger{Tuple{LoggingExtras.EarlyFilteredLogger{ConsoleProgressMonitor.ProgressLogger, AbstractMCMC.var\"#1#3\"{Module}}, LoggingExtras.EarlyFilteredLogger{Base.CoreLogging.SimpleLogger, AbstractMCMC.var\"#2#4\"{Module}}}})",
      "    @ Base.CoreLogging ./logging.jl:623",
      " [38] with_progresslogger(f::Function, _module::Module, logger::Base.CoreLogging.SimpleLogger)",
      "    @ AbstractMCMC ~/.julia/packages/AbstractMCMC/oou1a/src/logging.jl:34",
      " [39] macro expansion",
      "    @ ~/.julia/packages/AbstractMCMC/oou1a/src/logging.jl:10 [inlined]",
      " [40] mcmcsample(rng::Random._GLOBAL_RNG, model::DynamicPPL.Model{var\"#9#10\", (:data_vector,), (), (), Tuple{Vector{Float64}}, Tuple{}}, sampler::DynamicPPL.Sampler{NUTS{Turing.Core.ForwardDiffAD{40}, (), AdvancedHMC.DiagEuclideanMetric}}, N::Int64; progress::Bool, progressname::String, callback::Nothing, discard_initial::Int64, thinning::Int64, chain_type::Type, kwargs::Base.Pairs{Symbol, Integer, Tuple{Symbol, Symbol}, NamedTuple{(:nadapts, :save_state), Tuple{Int64, Bool}}})",
      "    @ AbstractMCMC ~/.julia/packages/AbstractMCMC/oou1a/src/sample.jl:88",
      " [41] sample(rng::Random._GLOBAL_RNG, model::DynamicPPL.Model{var\"#9#10\", (:data_vector,), (), (), Tuple{Vector{Float64}}, Tuple{}}, sampler::DynamicPPL.Sampler{NUTS{Turing.Core.ForwardDiffAD{40}, (), AdvancedHMC.DiagEuclideanMetric}}, N::Int64; chain_type::Type, resume_from::Nothing, progress::Bool, nadapts::Int64, discard_adapt::Bool, discard_initial::Int64, kwargs::Base.Pairs{Symbol, Bool, Tuple{Symbol}, NamedTuple{(:save_state,), Tuple{Bool}}})",
      "    @ Turing.Inference ~/.julia/packages/Turing/uAz5c/src/inference/hmc.jl:140",
      " [42] #sample#2",
      "    @ ~/.julia/packages/Turing/uAz5c/src/inference/Inference.jl:142 [inlined]",
      " [43] #sample#1",
      "    @ ~/.julia/packages/Turing/uAz5c/src/inference/Inference.jl:132 [inlined]",
      " [44] top-level scope",
      "    @ In[34]:1",
      " [45] eval",
      "    @ ./boot.jl:373 [inlined]",
      " [46] include_string(mapexpr::typeof(REPL.softscope), mod::Module, code::String, filename::String)",
      "    @ Base ./loading.jl:1196"
     ]
    }
   ],
   "source": [
    "chain3 = sample(model(data_vector), NUTS(5, 0.1; init_ϵ=0.03), iterations,\n",
    "                progress=true; save_state=true);"
   ]
  },
  {
   "cell_type": "code",
   "execution_count": 40,
   "id": "64abea06",
   "metadata": {},
   "outputs": [
    {
     "name": "stderr",
     "output_type": "stream",
     "text": [
      "\u001b[32mSampling: 100%|█████████████████████████████████████████| Time: 0:01:03\u001b[39m\n"
     ]
    },
    {
     "name": "stdout",
     "output_type": "stream",
     "text": [
      "1365\n",
      "1365\n",
      "1365\n",
      "1365\n",
      "1365\n",
      "1365\n",
      "1365\n",
      "1365\n",
      "1365\n",
      "1365\n",
      "1365\n",
      "1365\n",
      "1365\n",
      "1365\n",
      "1365\n",
      "1365\n",
      "1365\n",
      "1365\n",
      "1365\n",
      "1365\n",
      "1365\n",
      "1365\n",
      "1365\n",
      "1365\n",
      "1365\n",
      "1365\n",
      "1365\n",
      "1365\n",
      "1365\n",
      "1365\n",
      "1365\n",
      "1365\n",
      "1365\n",
      "1365\n",
      "1365\n",
      "1365\n",
      "1365\n",
      "1365\n",
      "1365\n",
      "1365\n",
      "1365\n",
      "1365\n",
      "1365\n",
      "1365\n",
      "1365\n",
      "1365\n",
      "1365\n",
      "1365\n",
      "1365\n",
      "1365\n",
      "1365\n",
      "1365\n",
      "1365\n",
      "1365\n",
      "1365\n",
      "1365\n",
      "1365\n",
      "1365\n",
      "1365\n",
      "1365\n",
      "1365\n",
      "1365\n",
      "1365\n",
      "1365\n",
      "1365\n",
      "1365\n"
     ]
    },
    {
     "ename": "LoadError",
     "evalue": "TaskFailedException\n\n\u001b[91m    nested task error: \u001b[39mInterruptException:\n    Stacktrace:\n     [1] \u001b[0m\u001b[1mangularCℓs\u001b[22m\u001b[0m\u001b[1m(\u001b[22m\u001b[90mcosmo\u001b[39m::\u001b[0mCosmology, \u001b[90mt1\u001b[39m::\u001b[0mNumberCountsTracer, \u001b[90mt2\u001b[39m::\u001b[0mWeakLensingTracer, \u001b[90mℓs\u001b[39m::\u001b[0mVector\u001b[90m{Float64}\u001b[39m\u001b[0m\u001b[1m)\u001b[22m\n    \u001b[90m   @ \u001b[39m\u001b[35mLimberJack\u001b[39m \u001b[90m~/PhD/LimberJack.jl/src/\u001b[39m\u001b[90m\u001b[4mspectra.jl:30\u001b[24m\u001b[39m\n     [2] \u001b[0m\u001b[1mmacro expansion\u001b[22m\n    \u001b[90m   @ \u001b[39m\u001b[90m~/PhD/LimberJack.jl/src/\u001b[39m\u001b[90m\u001b[4mtheory.jl:67\u001b[24m\u001b[39m\u001b[90m [inlined]\u001b[39m\n     [3] \u001b[0m\u001b[1m(::LimberJack.var\"#23#threadsfor_fun#17\"{Cosmology, Dict{String, Array}, Vector{Float64}, Vector{Int64}, Vector{Any}, Vector{SubArray{Int64, 1, Matrix{Int64}, Tuple{Int64, Base.Slice{Base.OneTo{Int64}}}, true}}, Vector{SubArray{Int64, 1, Matrix{Int64}, Tuple{Int64, Base.Slice{Base.OneTo{Int64}}}, true}}, UnitRange{Int64}})\u001b[22m\u001b[0m\u001b[1m(\u001b[22m\u001b[90monethread\u001b[39m::\u001b[0mBool\u001b[0m\u001b[1m)\u001b[22m\n    \u001b[90m   @ \u001b[39m\u001b[35mLimberJack\u001b[39m \u001b[90m./\u001b[39m\u001b[90m\u001b[4mthreadingconstructs.jl:85\u001b[24m\u001b[39m\n     [4] \u001b[0m\u001b[1m(::LimberJack.var\"#23#threadsfor_fun#17\"{Cosmology, Dict{String, Array}, Vector{Float64}, Vector{Int64}, Vector{Any}, Vector{SubArray{Int64, 1, Matrix{Int64}, Tuple{Int64, Base.Slice{Base.OneTo{Int64}}}, true}}, Vector{SubArray{Int64, 1, Matrix{Int64}, Tuple{Int64, Base.Slice{Base.OneTo{Int64}}}, true}}, UnitRange{Int64}})\u001b[22m\u001b[0m\u001b[1m(\u001b[22m\u001b[0m\u001b[1m)\u001b[22m\n    \u001b[90m   @ \u001b[39m\u001b[35mLimberJack\u001b[39m \u001b[90m./\u001b[39m\u001b[90m\u001b[4mthreadingconstructs.jl:52\u001b[24m\u001b[39m",
     "output_type": "error",
     "traceback": [
      "TaskFailedException\n\n\u001b[91m    nested task error: \u001b[39mInterruptException:\n    Stacktrace:\n     [1] \u001b[0m\u001b[1mangularCℓs\u001b[22m\u001b[0m\u001b[1m(\u001b[22m\u001b[90mcosmo\u001b[39m::\u001b[0mCosmology, \u001b[90mt1\u001b[39m::\u001b[0mNumberCountsTracer, \u001b[90mt2\u001b[39m::\u001b[0mWeakLensingTracer, \u001b[90mℓs\u001b[39m::\u001b[0mVector\u001b[90m{Float64}\u001b[39m\u001b[0m\u001b[1m)\u001b[22m\n    \u001b[90m   @ \u001b[39m\u001b[35mLimberJack\u001b[39m \u001b[90m~/PhD/LimberJack.jl/src/\u001b[39m\u001b[90m\u001b[4mspectra.jl:30\u001b[24m\u001b[39m\n     [2] \u001b[0m\u001b[1mmacro expansion\u001b[22m\n    \u001b[90m   @ \u001b[39m\u001b[90m~/PhD/LimberJack.jl/src/\u001b[39m\u001b[90m\u001b[4mtheory.jl:67\u001b[24m\u001b[39m\u001b[90m [inlined]\u001b[39m\n     [3] \u001b[0m\u001b[1m(::LimberJack.var\"#23#threadsfor_fun#17\"{Cosmology, Dict{String, Array}, Vector{Float64}, Vector{Int64}, Vector{Any}, Vector{SubArray{Int64, 1, Matrix{Int64}, Tuple{Int64, Base.Slice{Base.OneTo{Int64}}}, true}}, Vector{SubArray{Int64, 1, Matrix{Int64}, Tuple{Int64, Base.Slice{Base.OneTo{Int64}}}, true}}, UnitRange{Int64}})\u001b[22m\u001b[0m\u001b[1m(\u001b[22m\u001b[90monethread\u001b[39m::\u001b[0mBool\u001b[0m\u001b[1m)\u001b[22m\n    \u001b[90m   @ \u001b[39m\u001b[35mLimberJack\u001b[39m \u001b[90m./\u001b[39m\u001b[90m\u001b[4mthreadingconstructs.jl:85\u001b[24m\u001b[39m\n     [4] \u001b[0m\u001b[1m(::LimberJack.var\"#23#threadsfor_fun#17\"{Cosmology, Dict{String, Array}, Vector{Float64}, Vector{Int64}, Vector{Any}, Vector{SubArray{Int64, 1, Matrix{Int64}, Tuple{Int64, Base.Slice{Base.OneTo{Int64}}}, true}}, Vector{SubArray{Int64, 1, Matrix{Int64}, Tuple{Int64, Base.Slice{Base.OneTo{Int64}}}, true}}, UnitRange{Int64}})\u001b[22m\u001b[0m\u001b[1m(\u001b[22m\u001b[0m\u001b[1m)\u001b[22m\n    \u001b[90m   @ \u001b[39m\u001b[35mLimberJack\u001b[39m \u001b[90m./\u001b[39m\u001b[90m\u001b[4mthreadingconstructs.jl:52\u001b[24m\u001b[39m",
      "",
      "Stacktrace:",
      "  [1] wait",
      "    @ ./task.jl:334 [inlined]",
      "  [2] threading_run(func::Function)",
      "    @ Base.Threads ./threadingconstructs.jl:38",
      "  [3] macro expansion",
      "    @ ./threadingconstructs.jl:97 [inlined]",
      "  [4] Theory(cosmology::Cosmology, files::Dict{String, Array}; nz_path::String, Nuisances::Dict{String, Float64})",
      "    @ LimberJack ~/PhD/LimberJack.jl/src/theory.jl:61",
      "  [5] #11",
      "    @ ./In[38]:24 [inlined]",
      "  [6] (::var\"#11#12\")(__rng__::Random._GLOBAL_RNG, __model__::DynamicPPL.Model{var\"#11#12\", (:data_vector,), (), (), Tuple{Vector{Float64}}, Tuple{}}, __varinfo__::DynamicPPL.ThreadSafeVarInfo{DynamicPPL.TypedVarInfo{NamedTuple{(:Ωm, :dz_g0, :dz_g1, :dz_g2, :dz_g3, :dz_g4), Tuple{DynamicPPL.Metadata{Dict{AbstractPPL.VarName{:Ωm, Tuple{}}, Int64}, Vector{Uniform{Float64}}, Vector{AbstractPPL.VarName{:Ωm, Tuple{}}}, Vector{Float64}, Vector{Set{DynamicPPL.Selector}}}, DynamicPPL.Metadata{Dict{AbstractPPL.VarName{:dz_g0, Tuple{}}, Int64}, Vector{Truncated{Normal{Float64}, Continuous, Float64}}, Vector{AbstractPPL.VarName{:dz_g0, Tuple{}}}, Vector{Float64}, Vector{Set{DynamicPPL.Selector}}}, DynamicPPL.Metadata{Dict{AbstractPPL.VarName{:dz_g1, Tuple{}}, Int64}, Vector{Truncated{Normal{Float64}, Continuous, Float64}}, Vector{AbstractPPL.VarName{:dz_g1, Tuple{}}}, Vector{Float64}, Vector{Set{DynamicPPL.Selector}}}, DynamicPPL.Metadata{Dict{AbstractPPL.VarName{:dz_g2, Tuple{}}, Int64}, Vector{Truncated{Normal{Float64}, Continuous, Float64}}, Vector{AbstractPPL.VarName{:dz_g2, Tuple{}}}, Vector{Float64}, Vector{Set{DynamicPPL.Selector}}}, DynamicPPL.Metadata{Dict{AbstractPPL.VarName{:dz_g3, Tuple{}}, Int64}, Vector{Truncated{Normal{Float64}, Continuous, Float64}}, Vector{AbstractPPL.VarName{:dz_g3, Tuple{}}}, Vector{Float64}, Vector{Set{DynamicPPL.Selector}}}, DynamicPPL.Metadata{Dict{AbstractPPL.VarName{:dz_g4, Tuple{}}, Int64}, Vector{Truncated{Normal{Float64}, Continuous, Float64}}, Vector{AbstractPPL.VarName{:dz_g4, Tuple{}}}, Vector{Float64}, Vector{Set{DynamicPPL.Selector}}}}}, Float64}, Vector{Base.RefValue{Float64}}}, __sampler__::DynamicPPL.SampleFromPrior, __context__::DynamicPPL.DefaultContext, data_vector::Vector{Float64})",
      "    @ Main ./none:0",
      "  [7] macro expansion",
      "    @ ~/.julia/packages/DynamicPPL/SgzCy/src/model.jl:0 [inlined]",
      "  [8] _evaluate",
      "    @ ~/.julia/packages/DynamicPPL/SgzCy/src/model.jl:154 [inlined]",
      "  [9] evaluate_threadsafe(rng::Random._GLOBAL_RNG, model::DynamicPPL.Model{var\"#11#12\", (:data_vector,), (), (), Tuple{Vector{Float64}}, Tuple{}}, varinfo::DynamicPPL.TypedVarInfo{NamedTuple{(:Ωm, :dz_g0, :dz_g1, :dz_g2, :dz_g3, :dz_g4), Tuple{DynamicPPL.Metadata{Dict{AbstractPPL.VarName{:Ωm, Tuple{}}, Int64}, Vector{Uniform{Float64}}, Vector{AbstractPPL.VarName{:Ωm, Tuple{}}}, Vector{Float64}, Vector{Set{DynamicPPL.Selector}}}, DynamicPPL.Metadata{Dict{AbstractPPL.VarName{:dz_g0, Tuple{}}, Int64}, Vector{Truncated{Normal{Float64}, Continuous, Float64}}, Vector{AbstractPPL.VarName{:dz_g0, Tuple{}}}, Vector{Float64}, Vector{Set{DynamicPPL.Selector}}}, DynamicPPL.Metadata{Dict{AbstractPPL.VarName{:dz_g1, Tuple{}}, Int64}, Vector{Truncated{Normal{Float64}, Continuous, Float64}}, Vector{AbstractPPL.VarName{:dz_g1, Tuple{}}}, Vector{Float64}, Vector{Set{DynamicPPL.Selector}}}, DynamicPPL.Metadata{Dict{AbstractPPL.VarName{:dz_g2, Tuple{}}, Int64}, Vector{Truncated{Normal{Float64}, Continuous, Float64}}, Vector{AbstractPPL.VarName{:dz_g2, Tuple{}}}, Vector{Float64}, Vector{Set{DynamicPPL.Selector}}}, DynamicPPL.Metadata{Dict{AbstractPPL.VarName{:dz_g3, Tuple{}}, Int64}, Vector{Truncated{Normal{Float64}, Continuous, Float64}}, Vector{AbstractPPL.VarName{:dz_g3, Tuple{}}}, Vector{Float64}, Vector{Set{DynamicPPL.Selector}}}, DynamicPPL.Metadata{Dict{AbstractPPL.VarName{:dz_g4, Tuple{}}, Int64}, Vector{Truncated{Normal{Float64}, Continuous, Float64}}, Vector{AbstractPPL.VarName{:dz_g4, Tuple{}}}, Vector{Float64}, Vector{Set{DynamicPPL.Selector}}}}}, Float64}, sampler::DynamicPPL.SampleFromPrior, context::DynamicPPL.DefaultContext)",
      "    @ DynamicPPL ~/.julia/packages/DynamicPPL/SgzCy/src/model.jl:144",
      " [10] Model",
      "    @ ~/.julia/packages/DynamicPPL/SgzCy/src/model.jl:94 [inlined]",
      " [11] Model",
      "    @ ~/.julia/packages/DynamicPPL/SgzCy/src/model.jl:91 [inlined]",
      " [12] Model",
      "    @ ~/.julia/packages/DynamicPPL/SgzCy/src/model.jl:98 [inlined]",
      " [13] (::Turing.Inference.MHLogDensityFunction{DynamicPPL.Model{var\"#11#12\", (:data_vector,), (), (), Tuple{Vector{Float64}}, Tuple{}}, DynamicPPL.Sampler{MH{(), NamedTuple{(), Tuple{}}}}, DynamicPPL.TypedVarInfo{NamedTuple{(:Ωm, :dz_g0, :dz_g1, :dz_g2, :dz_g3, :dz_g4), Tuple{DynamicPPL.Metadata{Dict{AbstractPPL.VarName{:Ωm, Tuple{}}, Int64}, Vector{Uniform{Float64}}, Vector{AbstractPPL.VarName{:Ωm, Tuple{}}}, Vector{Float64}, Vector{Set{DynamicPPL.Selector}}}, DynamicPPL.Metadata{Dict{AbstractPPL.VarName{:dz_g0, Tuple{}}, Int64}, Vector{Truncated{Normal{Float64}, Continuous, Float64}}, Vector{AbstractPPL.VarName{:dz_g0, Tuple{}}}, Vector{Float64}, Vector{Set{DynamicPPL.Selector}}}, DynamicPPL.Metadata{Dict{AbstractPPL.VarName{:dz_g1, Tuple{}}, Int64}, Vector{Truncated{Normal{Float64}, Continuous, Float64}}, Vector{AbstractPPL.VarName{:dz_g1, Tuple{}}}, Vector{Float64}, Vector{Set{DynamicPPL.Selector}}}, DynamicPPL.Metadata{Dict{AbstractPPL.VarName{:dz_g2, Tuple{}}, Int64}, Vector{Truncated{Normal{Float64}, Continuous, Float64}}, Vector{AbstractPPL.VarName{:dz_g2, Tuple{}}}, Vector{Float64}, Vector{Set{DynamicPPL.Selector}}}, DynamicPPL.Metadata{Dict{AbstractPPL.VarName{:dz_g3, Tuple{}}, Int64}, Vector{Truncated{Normal{Float64}, Continuous, Float64}}, Vector{AbstractPPL.VarName{:dz_g3, Tuple{}}}, Vector{Float64}, Vector{Set{DynamicPPL.Selector}}}, DynamicPPL.Metadata{Dict{AbstractPPL.VarName{:dz_g4, Tuple{}}, Int64}, Vector{Truncated{Normal{Float64}, Continuous, Float64}}, Vector{AbstractPPL.VarName{:dz_g4, Tuple{}}}, Vector{Float64}, Vector{Set{DynamicPPL.Selector}}}}}, Float64}})(x::NamedTuple{(:Ωm, :dz_g0, :dz_g1, :dz_g2, :dz_g3, :dz_g4), NTuple{6, Float64}})",
      "    @ Turing.Inference ~/.julia/packages/Turing/uAz5c/src/inference/mh.jl:257",
      " [14] logdensity",
      "    @ ~/.julia/packages/AdvancedMH/OtXed/src/AdvancedMH.jl:52 [inlined]",
      " [15] Transition",
      "    @ ~/.julia/packages/AdvancedMH/OtXed/src/AdvancedMH.jl:49 [inlined]",
      " [16] propose",
      "    @ ~/.julia/packages/AdvancedMH/OtXed/src/mh-core.jl:113 [inlined]",
      " [17] step(rng::Random._GLOBAL_RNG, model::AdvancedMH.DensityModel{Turing.Inference.MHLogDensityFunction{DynamicPPL.Model{var\"#11#12\", (:data_vector,), (), (), Tuple{Vector{Float64}}, Tuple{}}, DynamicPPL.Sampler{MH{(), NamedTuple{(), Tuple{}}}}, DynamicPPL.TypedVarInfo{NamedTuple{(:Ωm, :dz_g0, :dz_g1, :dz_g2, :dz_g3, :dz_g4), Tuple{DynamicPPL.Metadata{Dict{AbstractPPL.VarName{:Ωm, Tuple{}}, Int64}, Vector{Uniform{Float64}}, Vector{AbstractPPL.VarName{:Ωm, Tuple{}}}, Vector{Float64}, Vector{Set{DynamicPPL.Selector}}}, DynamicPPL.Metadata{Dict{AbstractPPL.VarName{:dz_g0, Tuple{}}, Int64}, Vector{Truncated{Normal{Float64}, Continuous, Float64}}, Vector{AbstractPPL.VarName{:dz_g0, Tuple{}}}, Vector{Float64}, Vector{Set{DynamicPPL.Selector}}}, DynamicPPL.Metadata{Dict{AbstractPPL.VarName{:dz_g1, Tuple{}}, Int64}, Vector{Truncated{Normal{Float64}, Continuous, Float64}}, Vector{AbstractPPL.VarName{:dz_g1, Tuple{}}}, Vector{Float64}, Vector{Set{DynamicPPL.Selector}}}, DynamicPPL.Metadata{Dict{AbstractPPL.VarName{:dz_g2, Tuple{}}, Int64}, Vector{Truncated{Normal{Float64}, Continuous, Float64}}, Vector{AbstractPPL.VarName{:dz_g2, Tuple{}}}, Vector{Float64}, Vector{Set{DynamicPPL.Selector}}}, DynamicPPL.Metadata{Dict{AbstractPPL.VarName{:dz_g3, Tuple{}}, Int64}, Vector{Truncated{Normal{Float64}, Continuous, Float64}}, Vector{AbstractPPL.VarName{:dz_g3, Tuple{}}}, Vector{Float64}, Vector{Set{DynamicPPL.Selector}}}, DynamicPPL.Metadata{Dict{AbstractPPL.VarName{:dz_g4, Tuple{}}, Int64}, Vector{Truncated{Normal{Float64}, Continuous, Float64}}, Vector{AbstractPPL.VarName{:dz_g4, Tuple{}}}, Vector{Float64}, Vector{Set{DynamicPPL.Selector}}}}}, Float64}}}, spl::AdvancedMH.MetropolisHastings{NamedTuple{(:Ωm, :dz_g0, :dz_g1, :dz_g2, :dz_g3, :dz_g4), Tuple{AdvancedMH.StaticProposal{Uniform{Float64}}, AdvancedMH.StaticProposal{Truncated{Normal{Float64}, Continuous, Float64}}, AdvancedMH.StaticProposal{Truncated{Normal{Float64}, Continuous, Float64}}, AdvancedMH.StaticProposal{Truncated{Normal{Float64}, Continuous, Float64}}, AdvancedMH.StaticProposal{Truncated{Normal{Float64}, Continuous, Float64}}, AdvancedMH.StaticProposal{Truncated{Normal{Float64}, Continuous, Float64}}}}}, params_prev::AdvancedMH.Transition{NamedTuple{(:Ωm, :dz_g0, :dz_g1, :dz_g2, :dz_g3, :dz_g4), NTuple{6, Float64}}, Float64}; kwargs::Base.Pairs{Symbol, Union{}, Tuple{}, NamedTuple{(), Tuple{}}})",
      "    @ AdvancedMH ~/.julia/packages/AdvancedMH/OtXed/src/mh-core.jl:231",
      " [18] step(rng::Random._GLOBAL_RNG, model::AdvancedMH.DensityModel{Turing.Inference.MHLogDensityFunction{DynamicPPL.Model{var\"#11#12\", (:data_vector,), (), (), Tuple{Vector{Float64}}, Tuple{}}, DynamicPPL.Sampler{MH{(), NamedTuple{(), Tuple{}}}}, DynamicPPL.TypedVarInfo{NamedTuple{(:Ωm, :dz_g0, :dz_g1, :dz_g2, :dz_g3, :dz_g4), Tuple{DynamicPPL.Metadata{Dict{AbstractPPL.VarName{:Ωm, Tuple{}}, Int64}, Vector{Uniform{Float64}}, Vector{AbstractPPL.VarName{:Ωm, Tuple{}}}, Vector{Float64}, Vector{Set{DynamicPPL.Selector}}}, DynamicPPL.Metadata{Dict{AbstractPPL.VarName{:dz_g0, Tuple{}}, Int64}, Vector{Truncated{Normal{Float64}, Continuous, Float64}}, Vector{AbstractPPL.VarName{:dz_g0, Tuple{}}}, Vector{Float64}, Vector{Set{DynamicPPL.Selector}}}, DynamicPPL.Metadata{Dict{AbstractPPL.VarName{:dz_g1, Tuple{}}, Int64}, Vector{Truncated{Normal{Float64}, Continuous, Float64}}, Vector{AbstractPPL.VarName{:dz_g1, Tuple{}}}, Vector{Float64}, Vector{Set{DynamicPPL.Selector}}}, DynamicPPL.Metadata{Dict{AbstractPPL.VarName{:dz_g2, Tuple{}}, Int64}, Vector{Truncated{Normal{Float64}, Continuous, Float64}}, Vector{AbstractPPL.VarName{:dz_g2, Tuple{}}}, Vector{Float64}, Vector{Set{DynamicPPL.Selector}}}, DynamicPPL.Metadata{Dict{AbstractPPL.VarName{:dz_g3, Tuple{}}, Int64}, Vector{Truncated{Normal{Float64}, Continuous, Float64}}, Vector{AbstractPPL.VarName{:dz_g3, Tuple{}}}, Vector{Float64}, Vector{Set{DynamicPPL.Selector}}}, DynamicPPL.Metadata{Dict{AbstractPPL.VarName{:dz_g4, Tuple{}}, Int64}, Vector{Truncated{Normal{Float64}, Continuous, Float64}}, Vector{AbstractPPL.VarName{:dz_g4, Tuple{}}}, Vector{Float64}, Vector{Set{DynamicPPL.Selector}}}}}, Float64}}}, spl::AdvancedMH.MetropolisHastings{NamedTuple{(:Ωm, :dz_g0, :dz_g1, :dz_g2, :dz_g3, :dz_g4), Tuple{AdvancedMH.StaticProposal{Uniform{Float64}}, AdvancedMH.StaticProposal{Truncated{Normal{Float64}, Continuous, Float64}}, AdvancedMH.StaticProposal{Truncated{Normal{Float64}, Continuous, Float64}}, AdvancedMH.StaticProposal{Truncated{Normal{Float64}, Continuous, Float64}}, AdvancedMH.StaticProposal{Truncated{Normal{Float64}, Continuous, Float64}}, AdvancedMH.StaticProposal{Truncated{Normal{Float64}, Continuous, Float64}}}}}, params_prev::AdvancedMH.Transition{NamedTuple{(:Ωm, :dz_g0, :dz_g1, :dz_g2, :dz_g3, :dz_g4), NTuple{6, Float64}}, Float64})",
      "    @ AdvancedMH ~/.julia/packages/AdvancedMH/OtXed/src/mh-core.jl:231",
      " [19] propose!(rng::Random._GLOBAL_RNG, vi::DynamicPPL.TypedVarInfo{NamedTuple{(:Ωm, :dz_g0, :dz_g1, :dz_g2, :dz_g3, :dz_g4), Tuple{DynamicPPL.Metadata{Dict{AbstractPPL.VarName{:Ωm, Tuple{}}, Int64}, Vector{Uniform{Float64}}, Vector{AbstractPPL.VarName{:Ωm, Tuple{}}}, Vector{Float64}, Vector{Set{DynamicPPL.Selector}}}, DynamicPPL.Metadata{Dict{AbstractPPL.VarName{:dz_g0, Tuple{}}, Int64}, Vector{Truncated{Normal{Float64}, Continuous, Float64}}, Vector{AbstractPPL.VarName{:dz_g0, Tuple{}}}, Vector{Float64}, Vector{Set{DynamicPPL.Selector}}}, DynamicPPL.Metadata{Dict{AbstractPPL.VarName{:dz_g1, Tuple{}}, Int64}, Vector{Truncated{Normal{Float64}, Continuous, Float64}}, Vector{AbstractPPL.VarName{:dz_g1, Tuple{}}}, Vector{Float64}, Vector{Set{DynamicPPL.Selector}}}, DynamicPPL.Metadata{Dict{AbstractPPL.VarName{:dz_g2, Tuple{}}, Int64}, Vector{Truncated{Normal{Float64}, Continuous, Float64}}, Vector{AbstractPPL.VarName{:dz_g2, Tuple{}}}, Vector{Float64}, Vector{Set{DynamicPPL.Selector}}}, DynamicPPL.Metadata{Dict{AbstractPPL.VarName{:dz_g3, Tuple{}}, Int64}, Vector{Truncated{Normal{Float64}, Continuous, Float64}}, Vector{AbstractPPL.VarName{:dz_g3, Tuple{}}}, Vector{Float64}, Vector{Set{DynamicPPL.Selector}}}, DynamicPPL.Metadata{Dict{AbstractPPL.VarName{:dz_g4, Tuple{}}, Int64}, Vector{Truncated{Normal{Float64}, Continuous, Float64}}, Vector{AbstractPPL.VarName{:dz_g4, Tuple{}}}, Vector{Float64}, Vector{Set{DynamicPPL.Selector}}}}}, Float64}, model::DynamicPPL.Model{var\"#11#12\", (:data_vector,), (), (), Tuple{Vector{Float64}}, Tuple{}}, spl::DynamicPPL.Sampler{MH{(), NamedTuple{(), Tuple{}}}}, proposal::NamedTuple{(), Tuple{}})",
      "    @ Turing.Inference ~/.julia/packages/Turing/uAz5c/src/inference/mh.jl:359",
      " [20] #step#63",
      "    @ ~/.julia/packages/Turing/uAz5c/src/inference/mh.jl:424 [inlined]",
      " [21] macro expansion",
      "    @ ~/.julia/packages/AbstractMCMC/oou1a/src/sample.jl:140 [inlined]",
      " [22] macro expansion",
      "    @ ~/.julia/packages/ProgressLogging/6KXlp/src/ProgressLogging.jl:328 [inlined]",
      " [23] (::AbstractMCMC.var\"#20#21\"{Bool, String, Nothing, Int64, Int64, Base.Pairs{Symbol, Integer, Tuple{Symbol, Symbol}, NamedTuple{(:nadapt, :save_state), Tuple{Int64, Bool}}}, Random._GLOBAL_RNG, DynamicPPL.Model{var\"#11#12\", (:data_vector,), (), (), Tuple{Vector{Float64}}, Tuple{}}, DynamicPPL.Sampler{MH{(), NamedTuple{(), Tuple{}}}}, Int64, Int64})()",
      "    @ AbstractMCMC ~/.julia/packages/AbstractMCMC/oou1a/src/logging.jl:11",
      " [24] with_logstate(f::Function, logstate::Any)",
      "    @ Base.CoreLogging ./logging.jl:511",
      " [25] with_logger(f::Function, logger::LoggingExtras.TeeLogger{Tuple{LoggingExtras.EarlyFilteredLogger{ConsoleProgressMonitor.ProgressLogger, AbstractMCMC.var\"#1#3\"{Module}}, LoggingExtras.EarlyFilteredLogger{Base.CoreLogging.SimpleLogger, AbstractMCMC.var\"#2#4\"{Module}}}})",
      "    @ Base.CoreLogging ./logging.jl:623",
      " [26] with_progresslogger(f::Function, _module::Module, logger::Base.CoreLogging.SimpleLogger)",
      "    @ AbstractMCMC ~/.julia/packages/AbstractMCMC/oou1a/src/logging.jl:34",
      " [27] macro expansion",
      "    @ ~/.julia/packages/AbstractMCMC/oou1a/src/logging.jl:10 [inlined]",
      " [28] mcmcsample(rng::Random._GLOBAL_RNG, model::DynamicPPL.Model{var\"#11#12\", (:data_vector,), (), (), Tuple{Vector{Float64}}, Tuple{}}, sampler::DynamicPPL.Sampler{MH{(), NamedTuple{(), Tuple{}}}}, N::Int64; progress::Bool, progressname::String, callback::Nothing, discard_initial::Int64, thinning::Int64, chain_type::Type, kwargs::Base.Pairs{Symbol, Integer, Tuple{Symbol, Symbol}, NamedTuple{(:nadapt, :save_state), Tuple{Int64, Bool}}})",
      "    @ AbstractMCMC ~/.julia/packages/AbstractMCMC/oou1a/src/sample.jl:88",
      " [29] sample(rng::Random._GLOBAL_RNG, model::DynamicPPL.Model{var\"#11#12\", (:data_vector,), (), (), Tuple{Vector{Float64}}, Tuple{}}, sampler::DynamicPPL.Sampler{MH{(), NamedTuple{(), Tuple{}}}}, N::Int64; chain_type::Type, resume_from::Nothing, progress::Bool, kwargs::Base.Pairs{Symbol, Integer, Tuple{Symbol, Symbol}, NamedTuple{(:nadapt, :save_state), Tuple{Int64, Bool}}})",
      "    @ Turing.Inference ~/.julia/packages/Turing/uAz5c/src/inference/Inference.jl:156",
      " [30] #sample#2",
      "    @ ~/.julia/packages/Turing/uAz5c/src/inference/Inference.jl:142 [inlined]",
      " [31] #sample#1",
      "    @ ~/.julia/packages/Turing/uAz5c/src/inference/Inference.jl:132 [inlined]",
      " [32] top-level scope",
      "    @ In[40]:1",
      " [33] eval",
      "    @ ./boot.jl:373 [inlined]",
      " [34] include_string(mapexpr::typeof(REPL.softscope), mod::Module, code::String, filename::String)",
      "    @ Base ./loading.jl:1196"
     ]
    }
   ],
   "source": [
    "chain1 = sample(model(data_vector), MH(), iterations,\n",
    "            nadapt=nadapts, progress=true; save_state=true);"
   ]
  },
  {
   "cell_type": "code",
   "execution_count": null,
   "id": "a94c9c61",
   "metadata": {},
   "outputs": [],
   "source": []
  }
 ],
 "metadata": {
  "kernelspec": {
   "display_name": "Julia 4 Threads 1.7.0",
   "language": "julia",
   "name": "julia-4-threads-1.7"
  },
  "language_info": {
   "file_extension": ".jl",
   "mimetype": "application/julia",
   "name": "julia",
   "version": "1.7.0"
  }
 },
 "nbformat": 4,
 "nbformat_minor": 5
}
