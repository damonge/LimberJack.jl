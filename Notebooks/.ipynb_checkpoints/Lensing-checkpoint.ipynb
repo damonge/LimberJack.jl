{
 "cells": [
  {
   "cell_type": "markdown",
   "id": "compact-petroleum",
   "metadata": {},
   "source": [
    "# Imports"
   ]
  },
  {
   "cell_type": "code",
   "execution_count": 1,
   "id": "lined-laser",
   "metadata": {
    "ExecuteTime": {
     "end_time": "2021-11-18T14:34:26.072000Z",
     "start_time": "2021-11-18T14:33:56.839Z"
    }
   },
   "outputs": [],
   "source": [
    "using QuadGK\n",
    "using Interpolations\n",
    "using OrdinaryDiffEq"
   ]
  },
  {
   "cell_type": "code",
   "execution_count": 2,
   "id": "existing-distinction",
   "metadata": {
    "ExecuteTime": {
     "end_time": "2021-11-18T14:34:28.327000Z",
     "start_time": "2021-11-18T14:33:57.029Z"
    }
   },
   "outputs": [
    {
     "data": {
      "text/plain": [
       "angularCℓ (generic function with 1 method)"
      ]
     },
     "execution_count": 2,
     "metadata": {},
     "output_type": "execute_result"
    }
   ],
   "source": [
    "include(\"/home/jaimerz/PhD/LimberJack.jl/src/tracers.jl\")\n",
    "include(\"/home/jaimerz/PhD/LimberJack.jl/src/core.jl\")\n",
    "include(\"/home/jaimerz/PhD/LimberJack.jl/src/spectra.jl\")"
   ]
  },
  {
   "cell_type": "code",
   "execution_count": 3,
   "id": "victorian-wednesday",
   "metadata": {
    "ExecuteTime": {
     "end_time": "2021-11-18T14:34:39.658000Z",
     "start_time": "2021-11-18T14:33:57.173Z"
    }
   },
   "outputs": [
    {
     "name": "stderr",
     "output_type": "stream",
     "text": [
      "┌ Warning: extrapolate(itp, Linear()) is deprecated, use extrapolate(itp, Line()) instead\n",
      "│   caller = #LinearInterpolation#52 at convenience-constructors.jl:9 [inlined]\n",
      "└ @ Core /home/jaimerz/.julia/packages/Interpolations/3gTQB/src/convenience-constructors.jl:9\n",
      "┌ Warning: extrapolate(itp, Linear()) is deprecated, use extrapolate(itp, Line()) instead\n",
      "│   caller = #LinearInterpolation#51 at convenience-constructors.jl:7 [inlined]\n",
      "└ @ Core /home/jaimerz/.julia/packages/Interpolations/3gTQB/src/convenience-constructors.jl:7\n",
      "┌ Warning: extrapolate(itp, Linear()) is deprecated, use extrapolate(itp, Line()) instead\n",
      "│   caller = #LinearInterpolation#52 at convenience-constructors.jl:9 [inlined]\n",
      "└ @ Core /home/jaimerz/.julia/packages/Interpolations/3gTQB/src/convenience-constructors.jl:9\n"
     ]
    }
   ],
   "source": [
    "cosmoPar = CosmoPar(0.27, 0.049, 0.67, 0.96, 0.81)\n",
    "cosmo = Cosmology(cosmoPar);"
   ]
  },
  {
   "cell_type": "markdown",
   "id": "polyphonic-violin",
   "metadata": {},
   "source": [
    "# Data"
   ]
  },
  {
   "cell_type": "code",
   "execution_count": 4,
   "id": "several-direction",
   "metadata": {
    "ExecuteTime": {
     "end_time": "2021-11-18T14:34:40.407000Z",
     "start_time": "2021-11-18T14:33:57.525Z"
    },
    "scrolled": true
   },
   "outputs": [
    {
     "data": {
      "text/plain": [
       "7-element Array{Int64,1}:\n",
       "  31\n",
       "  74\n",
       " 120\n",
       " 169\n",
       " 223\n",
       " 281\n",
       " 344"
      ]
     },
     "execution_count": 4,
     "metadata": {},
     "output_type": "execute_result"
    }
   ],
   "source": [
    "z_arr = [0. , 0.1, 0.2, 0.3, 0.4, 0.5, 0.6, 0.7, 0.8, 0.9,  1]\n",
    "b_arr = [2., 2., 2., 2., 2., 2., 2., 2., 2., 2., 2.]\n",
    "nz = [[0.0, 0.1, 0.2, 0.30000000000000004,\n",
    "       0.4, 0.5, 0.6000000000000001, 0.7000000000000001,\n",
    "       0.8, 0.9, 1.0],\n",
    "      [0.0, 0.09549150281252627, 0.3454915028125263,\n",
    "       0.6545084971874737, 0.9045084971874736, 1.0,\n",
    "       0.9045084971874736, 0.6545084971874737, 0.34549150281252644,\n",
    "       0.09549150281252634, 0]]\n",
    "ell_arr = [ 31,  74 , 120 , 169, 223, 281, 344]"
   ]
  },
  {
   "cell_type": "markdown",
   "id": "equivalent-bermuda",
   "metadata": {
    "ExecuteTime": {
     "end_time": "2021-11-11T09:42:45.826000Z",
     "start_time": "2021-11-11T09:42:18.218Z"
    }
   },
   "source": [
    "# Clustering"
   ]
  },
  {
   "cell_type": "code",
   "execution_count": 5,
   "id": "funded-panama",
   "metadata": {
    "ExecuteTime": {
     "end_time": "2021-11-18T14:34:40.552000Z",
     "start_time": "2021-11-18T14:33:57.893Z"
    }
   },
   "outputs": [
    {
     "data": {
      "text/plain": [
       "NC_kernel (generic function with 1 method)"
      ]
     },
     "execution_count": 5,
     "metadata": {},
     "output_type": "execute_result"
    }
   ],
   "source": [
    "function NC_kernel(cosmo, t1, z)\n",
    "    hz = Hmpc(cosmo, z)\n",
    "    return t1.wint(z)*t1.wnorm*hz*t1.bias\n",
    "end"
   ]
  },
  {
   "cell_type": "code",
   "execution_count": 16,
   "id": "structured-crack",
   "metadata": {
    "ExecuteTime": {
     "end_time": "2021-11-18T15:15:54.163000Z",
     "start_time": "2021-11-18T15:15:54.005Z"
    }
   },
   "outputs": [
    {
     "data": {
      "text/plain": [
       "7-element Array{Float64,1}:\n",
       " 2.58821129337624e-5\n",
       " 1.2045642305993871e-5\n",
       " 6.232113514959234e-6\n",
       " 3.5736401464862716e-6\n",
       " 2.1758289170386575e-6\n",
       " 1.4004887124798275e-6\n",
       " 9.358623486485896e-7"
      ]
     },
     "execution_count": 16,
     "metadata": {},
     "output_type": "execute_result"
    }
   ],
   "source": [
    "qg = clustering_kernel(cosmo, 2, nz)\n",
    "qg_kernel = [ qg(z,1) for z in z_arr]\n",
    "clustering_jl = [qg(z, 1) for z in z_arr]\n",
    "clust_clust_cl_jl = Cl(cosmo, ell_arr, qg, qg)"
   ]
  },
  {
   "cell_type": "code",
   "execution_count": 7,
   "id": "complimentary-equipment",
   "metadata": {
    "ExecuteTime": {
     "end_time": "2021-11-18T14:34:42.577000Z",
     "start_time": "2021-11-18T14:33:58.357Z"
    }
   },
   "outputs": [
    {
     "data": {
      "text/plain": [
       "11-element Array{Float64,1}:\n",
       " 0.0\n",
       " 0.19098300562505255\n",
       " 0.6909830056250525\n",
       " 1.3090169943749472\n",
       " 1.8090169943749472\n",
       " 2.0\n",
       " 1.8090169943749475\n",
       " 1.309016994374948\n",
       " 0.6909830056250529\n",
       " 0.1909830056250527\n",
       " 0.0"
      ]
     },
     "execution_count": 7,
     "metadata": {},
     "output_type": "execute_result"
    }
   ],
   "source": [
    "pz = get_pz(nz);\n",
    "pz(z_arr)"
   ]
  },
  {
   "cell_type": "code",
   "execution_count": 8,
   "id": "violent-torture",
   "metadata": {
    "ExecuteTime": {
     "end_time": "2021-11-18T14:34:42.602000Z",
     "start_time": "2021-11-18T14:33:58.629Z"
    }
   },
   "outputs": [
    {
     "data": {
      "text/plain": [
       "11-element Array{Array{Float64,1},1}:\n",
       " [0.0]\n",
       " [8.909770650135775e-5]\n",
       " [0.0003378459382687228]\n",
       " [0.0006730393946546217]\n",
       " [0.0009806530052339985]\n",
       " [0.0011452530594967406]\n",
       " [0.0010956040239402866]\n",
       " [0.0008390634300406726]\n",
       " [0.00046887060833419056]\n",
       " [0.0001371674456204168]\n",
       " [0.0]"
      ]
     },
     "execution_count": 8,
     "metadata": {},
     "output_type": "execute_result"
    }
   ],
   "source": [
    "qg_kernel"
   ]
  },
  {
   "cell_type": "code",
   "execution_count": 17,
   "id": "inner-stretch",
   "metadata": {
    "ExecuteTime": {
     "end_time": "2021-11-18T15:16:13.905000Z",
     "start_time": "2021-11-18T15:16:13.829Z"
    }
   },
   "outputs": [
    {
     "data": {
      "text/plain": [
       "7-element Array{Float64,1}:\n",
       " 2.5881877015523306e-5\n",
       " 1.2045618323791856e-5\n",
       " 6.232099843744369e-6\n",
       " 3.573438798133777e-6\n",
       " 2.17584233695507e-6\n",
       " 1.4004930978982103e-6\n",
       " 9.358525121580902e-7"
      ]
     },
     "execution_count": 17,
     "metadata": {},
     "output_type": "execute_result"
    }
   ],
   "source": [
    "NC = NumberCountsTracer(nz[1], nz[2], 2.0)\n",
    "NC_kernel_values = [NC_kernel(cosmo, NC, z) for z in z_arr] \n",
    "clust_clust_cl_t = [angularCℓ(cosmo, NC, NC, l) for l in ell_arr]"
   ]
  },
  {
   "cell_type": "code",
   "execution_count": 18,
   "id": "turned-thermal",
   "metadata": {
    "ExecuteTime": {
     "end_time": "2021-11-18T15:16:35.194000Z",
     "start_time": "2021-11-18T15:16:35.125Z"
    }
   },
   "outputs": [
    {
     "data": {
      "text/plain": [
       "7-element Array{Float64,1}:\n",
       " 1.0000091151904844\n",
       " 1.0000019909481914\n",
       " 1.0000021936771246\n",
       " 1.0000563458236922\n",
       " 0.999993832312119\n",
       " 0.9999968686611956\n",
       " 1.0000105107272477"
      ]
     },
     "execution_count": 18,
     "metadata": {},
     "output_type": "execute_result"
    }
   ],
   "source": [
    "clust_clust_cl_jl./clust_clust_cl_t"
   ]
  },
  {
   "cell_type": "markdown",
   "id": "varied-soldier",
   "metadata": {
    "heading_collapsed": true
   },
   "source": [
    "# Lensing"
   ]
  },
  {
   "cell_type": "code",
   "execution_count": 11,
   "id": "saved-tournament",
   "metadata": {
    "ExecuteTime": {
     "end_time": "2021-11-18T14:34:45.223000Z",
     "start_time": "2021-11-18T14:33:59.764Z"
    },
    "hidden": true
   },
   "outputs": [
    {
     "data": {
      "text/plain": [
       "11-element Array{Float64,1}:\n",
       " 0.0\n",
       " 7.193789890103526e-6\n",
       " 1.0586957127444778e-5\n",
       " 1.0668050823628814e-5\n",
       " 8.569027857054874e-6\n",
       " 5.631462924664495e-6\n",
       " 2.96392884921399e-6\n",
       " 1.167696126260265e-6\n",
       " 2.9477092534508695e-7\n",
       " 3.224829887406658e-8\n",
       " 0.0"
      ]
     },
     "execution_count": 11,
     "metadata": {},
     "output_type": "execute_result"
    }
   ],
   "source": [
    "lensing_jl = [lensing_kernel(cosmo, z, nz) for z in z_arr]"
   ]
  },
  {
   "cell_type": "code",
   "execution_count": 11,
   "id": "postal-seven",
   "metadata": {
    "ExecuteTime": {
     "end_time": "2021-11-18T12:52:35.705000Z",
     "start_time": "2021-11-18T12:52:03.467Z"
    },
    "hidden": true
   },
   "outputs": [
    {
     "data": {
      "text/plain": [
       "11-element Array{Float64,1}:\n",
       " NaN\n",
       "   0.8496061317616819\n",
       "   0.8560147055177239\n",
       "   0.8638895619169377\n",
       "   0.8739992475506865\n",
       "   0.888224595914452\n",
       "   0.9098131720148348\n",
       "   0.9510914649787445\n",
       "   1.0667052610268357\n",
       "   1.69262695236994\n",
       " NaN"
      ]
     },
     "execution_count": 11,
     "metadata": {},
     "output_type": "execute_result"
    }
   ],
   "source": [
    "lensing_jl./lensing_t"
   ]
  },
  {
   "cell_type": "code",
   "execution_count": 12,
   "id": "popular-separate",
   "metadata": {
    "ExecuteTime": {
     "end_time": "2021-11-18T12:52:35.732000Z",
     "start_time": "2021-11-18T12:52:03.468Z"
    },
    "hidden": true
   },
   "outputs": [
    {
     "ename": "MethodError",
     "evalue": "\u001b[91mMethodError: no method matching CMBlensing_kernel(::Cosmology)\u001b[39m\n\u001b[91m\u001b[0mClosest candidates are:\u001b[39m\n\u001b[91m\u001b[0m  CMBlensing_kernel(::Cosmology, \u001b[91m::Any\u001b[39m, \u001b[91m::Any\u001b[39m) at /home/jaimerz/PhD/LimberJack.jl/src/core.jl:182\u001b[39m",
     "output_type": "error",
     "traceback": [
      "\u001b[91mMethodError: no method matching CMBlensing_kernel(::Cosmology)\u001b[39m\n\u001b[91m\u001b[0mClosest candidates are:\u001b[39m\n\u001b[91m\u001b[0m  CMBlensing_kernel(::Cosmology, \u001b[91m::Any\u001b[39m, \u001b[91m::Any\u001b[39m) at /home/jaimerz/PhD/LimberJack.jl/src/core.jl:182\u001b[39m",
      "",
      "Stacktrace:",
      " [1] top-level scope at In[12]:1"
     ]
    }
   ],
   "source": [
    "qCMBL = CMBlensing_kernel(cosmo)\n",
    "CMBlensing_jl = [qCMBL(z, 1) for z in z_arr]"
   ]
  },
  {
   "cell_type": "code",
   "execution_count": 13,
   "id": "patent-reviewer",
   "metadata": {
    "ExecuteTime": {
     "end_time": "2021-11-18T12:52:35.733000Z",
     "start_time": "2021-11-18T12:52:03.470Z"
    },
    "hidden": true
   },
   "outputs": [
    {
     "ename": "UndefVarError",
     "evalue": "\u001b[91mUndefVarError: CMBlensing_jl not defined\u001b[39m",
     "output_type": "error",
     "traceback": [
      "\u001b[91mUndefVarError: CMBlensing_jl not defined\u001b[39m",
      "",
      "Stacktrace:",
      " [1] top-level scope at In[13]:1"
     ]
    }
   ],
   "source": [
    "CMBlensing_jl./CMBlensing_t"
   ]
  },
  {
   "cell_type": "code",
   "execution_count": 14,
   "id": "fifteen-static",
   "metadata": {
    "ExecuteTime": {
     "end_time": "2021-11-18T12:52:35.734000Z",
     "start_time": "2021-11-18T12:52:03.471Z"
    },
    "hidden": true
   },
   "outputs": [
    {
     "ename": "UndefVarError",
     "evalue": "\u001b[91mUndefVarError: CMBlensing_jl not defined\u001b[39m",
     "output_type": "error",
     "traceback": [
      "\u001b[91mUndefVarError: CMBlensing_jl not defined\u001b[39m",
      "",
      "Stacktrace:",
      " [1] top-level scope at In[14]:1"
     ]
    }
   ],
   "source": [
    "CMBlensing_jl./CMBlensing_t"
   ]
  },
  {
   "cell_type": "markdown",
   "id": "widespread-dominican",
   "metadata": {},
   "source": [
    "# Compare Cls"
   ]
  },
  {
   "cell_type": "code",
   "execution_count": 15,
   "id": "copyrighted-jungle",
   "metadata": {
    "ExecuteTime": {
     "end_time": "2021-11-18T12:52:35.817000Z",
     "start_time": "2021-11-18T12:52:03.472Z"
    }
   },
   "outputs": [
    {
     "data": {
      "text/plain": [
       "qg (generic function with 1 method)"
      ]
     },
     "execution_count": 15,
     "metadata": {},
     "output_type": "execute_result"
    }
   ],
   "source": [
    "qgamma = shear_kernel(cosmo, nz)\n",
    "qk = convergence_kernel(cosmo, nz)\n",
    "qCMBk = CMBk_kernel(cosmo, 1100)\n",
    "qg = clustering_kernel(cosmo, 2, nz)"
   ]
  },
  {
   "cell_type": "code",
   "execution_count": 16,
   "id": "unnecessary-technical",
   "metadata": {
    "ExecuteTime": {
     "end_time": "2021-11-18T12:52:36.100000Z",
     "start_time": "2021-11-18T12:52:03.474Z"
    }
   },
   "outputs": [
    {
     "data": {
      "text/plain": [
       "0.0005508201348330815"
      ]
     },
     "execution_count": 16,
     "metadata": {},
     "output_type": "execute_result"
    }
   ],
   "source": [
    "CMBlensing_kernel(cosmo, 3, 1100)"
   ]
  },
  {
   "cell_type": "code",
   "execution_count": 15,
   "id": "finished-isaac",
   "metadata": {
    "ExecuteTime": {
     "end_time": "2021-11-18T15:12:52.870000Z",
     "start_time": "2021-11-18T15:12:51.749Z"
    }
   },
   "outputs": [
    {
     "data": {
      "text/plain": [
       "7-element Array{Float64,1}:\n",
       " 2.58821129337624e-5\n",
       " 1.2045642305993871e-5\n",
       " 6.232113514959234e-6\n",
       " 3.5736401464862716e-6\n",
       " 2.1758289170386575e-6\n",
       " 1.4004887124798275e-6\n",
       " 9.358623486485896e-7"
      ]
     },
     "execution_count": 15,
     "metadata": {},
     "output_type": "execute_result"
    }
   ],
   "source": [
    "clust_clust_cl_jl = Cl(cosmo, ell_arr, qg, qg)"
   ]
  },
  {
   "cell_type": "code",
   "execution_count": 18,
   "id": "cardiac-effects",
   "metadata": {
    "ExecuteTime": {
     "end_time": "2021-11-18T12:53:46.940000Z",
     "start_time": "2021-11-18T12:52:03.476Z"
    }
   },
   "outputs": [
    {
     "data": {
      "text/plain": [
       "7-element Array{Float64,1}:\n",
       " 6.155084516741647e-9\n",
       " 1.912189764747346e-9\n",
       " 8.277517034093791e-10\n",
       " 4.2712574944747204e-10\n",
       " 2.4352392665934604e-10\n",
       " 1.4953090909161354e-10\n",
       " 9.665476641494584e-11"
      ]
     },
     "execution_count": 18,
     "metadata": {},
     "output_type": "execute_result"
    }
   ],
   "source": [
    "conv_conv_cl_jl = Cl(cosmo, ell_arr, qk, qk)"
   ]
  },
  {
   "cell_type": "code",
   "execution_count": 19,
   "id": "determined-shape",
   "metadata": {
    "ExecuteTime": {
     "end_time": "2021-11-18T12:54:58.640000Z",
     "start_time": "2021-11-18T12:52:03.476Z"
    }
   },
   "outputs": [
    {
     "data": {
      "text/plain": [
       "7-element Array{Float64,1}:\n",
       " 6.1430599316051626e-9\n",
       " 1.911500687354643e-9\n",
       " 8.276376880232348e-10\n",
       " 4.2709619031637563e-10\n",
       " 2.435142198218137e-10\n",
       " 1.4952714843120484e-10\n",
       " 9.665313758504351e-11"
      ]
     },
     "execution_count": 19,
     "metadata": {},
     "output_type": "execute_result"
    }
   ],
   "source": [
    "shear_shear_cl_jl = Cl(cosmo, ell_arr, qgamma, qgamma)"
   ]
  },
  {
   "cell_type": "code",
   "execution_count": 20,
   "id": "resident-sitting",
   "metadata": {
    "ExecuteTime": {
     "end_time": "2021-11-18T12:54:58.973000Z",
     "start_time": "2021-11-18T12:52:03.477Z"
    }
   },
   "outputs": [
    {
     "data": {
      "text/plain": [
       "7-element Array{Float64,1}:\n",
       " 0.04308114654964907\n",
       " 0.09641034548758434\n",
       " 0.1520264923958245\n",
       " 0.21004444686791438\n",
       " 0.2714805452443718\n",
       " 0.33549704497925237\n",
       " 0.4023272734256988"
      ]
     },
     "execution_count": 20,
     "metadata": {},
     "output_type": "execute_result"
    }
   ],
   "source": [
    "CMBk_CMBk_cl_jl = Cl(cosmo, ell_arr, qCMBk, qCMBk)"
   ]
  },
  {
   "cell_type": "code",
   "execution_count": 21,
   "id": "arranged-strategy",
   "metadata": {
    "ExecuteTime": {
     "end_time": "2021-11-18T12:54:58.974000Z",
     "start_time": "2021-11-18T12:52:03.478Z"
    }
   },
   "outputs": [
    {
     "data": {
      "text/plain": [
       "7-element Array{Float64,1}:\n",
       " 1.1522156185068253\n",
       " 1.1140486768776559\n",
       " 1.0090939020252252\n",
       " 0.926292738993482\n",
       " 0.8279691578191547\n",
       " 0.7399607715280057\n",
       " 0.6528784963669078"
      ]
     },
     "execution_count": 21,
     "metadata": {},
     "output_type": "execute_result"
    }
   ],
   "source": [
    "clust_clust_cl_jl./clust_clust_cl_t"
   ]
  },
  {
   "cell_type": "code",
   "execution_count": 22,
   "id": "offshore-patch",
   "metadata": {
    "ExecuteTime": {
     "end_time": "2021-11-18T12:54:58.975000Z",
     "start_time": "2021-11-18T12:52:03.479Z"
    }
   },
   "outputs": [
    {
     "data": {
      "text/plain": [
       "7-element Array{Float64,1}:\n",
       " 0.8837426145102703\n",
       " 0.7290327094606961\n",
       " 0.5931523079993428\n",
       " 0.474804272124296\n",
       " 0.3787048535803111\n",
       " 0.3038739650787178\n",
       " 0.24623889443456373"
      ]
     },
     "execution_count": 22,
     "metadata": {},
     "output_type": "execute_result"
    }
   ],
   "source": [
    "conv_conv_cl_jl./lensing_lensing_cl_t"
   ]
  },
  {
   "cell_type": "code",
   "execution_count": 23,
   "id": "sticky-samoa",
   "metadata": {
    "ExecuteTime": {
     "end_time": "2021-11-18T12:54:58.976000Z",
     "start_time": "2021-11-18T12:52:03.480Z"
    }
   },
   "outputs": [
    {
     "data": {
      "text/plain": [
       "7-element Array{Float64,1}:\n",
       " 0.8820161332120827\n",
       " 0.7287699949708\n",
       " 0.5930706065795083\n",
       " 0.4747714134129141\n",
       " 0.37868975844556674\n",
       " 0.30386632273375613\n",
       " 0.24623474480708804"
      ]
     },
     "execution_count": 23,
     "metadata": {},
     "output_type": "execute_result"
    }
   ],
   "source": [
    "shear_shear_cl_jl./lensing_lensing_cl_t"
   ]
  },
  {
   "cell_type": "code",
   "execution_count": 24,
   "id": "fleet-cardiff",
   "metadata": {
    "ExecuteTime": {
     "end_time": "2021-11-18T12:54:58.977000Z",
     "start_time": "2021-11-18T12:52:03.481Z"
    }
   },
   "outputs": [
    {
     "data": {
      "text/plain": [
       "7-element Array{Float64,1}:\n",
       " 201672.6935439392\n",
       " 523653.53433249146\n",
       "      1.0877665348572822e6\n",
       "      1.9953552152774397e6\n",
       "      3.3695623684085e6\n",
       "      5.31151737168196e6\n",
       "      7.989352141276334e6"
      ]
     },
     "execution_count": 24,
     "metadata": {},
     "output_type": "execute_result"
    }
   ],
   "source": [
    "CMBk_CMBk_cl_jl./CMBk_CMBk_cl_t"
   ]
  },
  {
   "cell_type": "code",
   "execution_count": null,
   "id": "complete-background",
   "metadata": {},
   "outputs": [],
   "source": []
  },
  {
   "cell_type": "code",
   "execution_count": null,
   "id": "daily-clearance",
   "metadata": {},
   "outputs": [],
   "source": []
  }
 ],
 "metadata": {
  "kernelspec": {
   "display_name": "Julia 1.4.1",
   "language": "julia",
   "name": "julia-1.4"
  },
  "language_info": {
   "file_extension": ".jl",
   "mimetype": "application/julia",
   "name": "julia",
   "version": "1.4.1"
  }
 },
 "nbformat": 4,
 "nbformat_minor": 5
}
