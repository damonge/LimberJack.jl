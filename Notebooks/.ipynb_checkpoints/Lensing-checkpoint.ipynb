{
 "cells": [
  {
   "cell_type": "code",
   "execution_count": 1,
   "id": "activated-islam",
   "metadata": {},
   "outputs": [
    {
     "name": "stderr",
     "output_type": "stream",
     "text": [
      "\u001b[32m\u001b[1mPrecompiling\u001b[22m\u001b[39m project...\n",
      "┌ Info: Precompiling LimberJack [6b86205d-155a-4b14-b82d-b6a149ea78f2]\n",
      "└ @ Base loading.jl:1260\n"
     ]
    }
   ],
   "source": [
    "using Pkg\n",
    "Pkg.instantiate()\n",
    "Pkg.precompile()"
   ]
  },
  {
   "cell_type": "code",
   "execution_count": 2,
   "id": "lined-laser",
   "metadata": {},
   "outputs": [],
   "source": [
    "using QuadGK\n",
    "using Interpolations\n",
    "using OrdinaryDiffEq"
   ]
  },
  {
   "cell_type": "code",
   "execution_count": 3,
   "id": "existing-distinction",
   "metadata": {},
   "outputs": [
    {
     "data": {
      "text/plain": [
       "Cl (generic function with 1 method)"
      ]
     },
     "execution_count": 3,
     "metadata": {},
     "output_type": "execute_result"
    }
   ],
   "source": [
    "include(\"/home/jaimerz/PhD/LimberJack.jl/src/core.jl\")"
   ]
  },
  {
   "cell_type": "code",
   "execution_count": 4,
   "id": "victorian-wednesday",
   "metadata": {},
   "outputs": [
    {
     "data": {
      "text/plain": [
       "Cosmology(CosmoPar{Float64}(0.27, 0.049, 0.67, 0.96, 0.81), [0.0001, 0.0001055672994233329, 0.00011144454707535625, 0.00011764899870201865, 0.00012419887072831308, 0.00013111339374215642, 0.0001384128689558757, 0.0001461187278110747, 0.00015425359490188223, 0.00016284135440132499  …  61.40946221409368, 64.82831084981076, 68.43749702590874, 72.24761740317567, 76.26985859023443, 80.51602998770538, 84.9985984609015, 89.73072494285633, 94.72630307515246, 100.0], [3201.7817687879356, 3371.7852249800435, 3550.7571678831523, 3739.16380571034, 3937.494732084457, 4146.263990223508, 4366.011170643067, 4597.302541122362, 4840.7322072024, 5096.923300912992  …  0.0012723561496547702, 0.001095091670125605, 0.0009424233066401397, 0.0008109535502788742, 0.0006977518640776992, 0.0006002908557988518, 0.0005163911204661876, 0.0004441735833407959, 0.0003820183304536618, 0.0003285290495175875], 0.05417847277633015, 256-element extrapolate(interpolate((::Array{Float64,1},), ::Array{Float64,1}, Gridded(Linear())), Throw()) with element type Float64:\n",
       "  8.071462736576917\n",
       "  8.123197623433683\n",
       "  8.174916146454729\n",
       "  8.226617284049667\n",
       "  8.278299945249682\n",
       "  8.329962964442728\n",
       "  8.381605095659769\n",
       "  8.43322500637122\n",
       "  8.484821270748471\n",
       "  8.536392362338454\n",
       "  8.58793664609926\n",
       "  8.639452369733217\n",
       "  8.690937654254716\n",
       "  ⋮\n",
       " -6.367145824665863\n",
       " -6.516960541312318\n",
       " -6.666884861387657\n",
       " -6.816917202208061\n",
       " -6.967056014218114\n",
       " -7.117299780114425\n",
       " -7.267647013996127\n",
       " -7.418096260541383\n",
       " -7.568646094208973\n",
       " -7.719295118464184\n",
       " -7.870041965028175\n",
       " -8.020885293150029, [0.0, 0.011764705882352941, 0.023529411764705882, 0.03529411764705882, 0.047058823529411764, 0.058823529411764705, 0.07058823529411765, 0.08235294117647059, 0.09411764705882353, 0.10588235294117647  …  2.8941176470588235, 2.9058823529411764, 2.9176470588235293, 2.929411764705882, 2.9411764705882355, 2.9529411764705884, 2.9647058823529413, 2.976470588235294, 2.988235294117647, 3.0], [0.0, 52.51555245783289, 104.77802545649693, 156.7852507147735, 208.53515926311863, 260.0257817587834, 311.25524864692414, 362.22179017177905, 412.92373624231357, 463.3595161570304  …  6733.891912817093, 6746.755742743357, 6759.564095453414, 6772.317354291739, 6785.015899090246, 6797.660106206536, 6810.250348561729, 6822.786995677832, 6835.270413714691, 6847.700965506475], 256-element extrapolate(scale(interpolate(::Array{Float64,1}, BSpline(Linear())), (0.0:0.011764705882352941:3.0,)), Throw()) with element type Float64:\n",
       "    0.0\n",
       "   52.51555245783289\n",
       "  104.77802545649693\n",
       "  156.7852507147735\n",
       "  208.53515926311863\n",
       "  260.0257817587834\n",
       "  311.25524864692414\n",
       "  362.22179017177905\n",
       "  412.92373624231357\n",
       "  463.3595161570304\n",
       "  513.5276581929076\n",
       "  563.4267890636554\n",
       "  613.05563325269\n",
       "    ⋮\n",
       " 6707.996270142368\n",
       " 6720.9722187788475\n",
       " 6733.891912817093\n",
       " 6746.755742743357\n",
       " 6759.564095453414\n",
       " 6772.317354291739\n",
       " 6785.015899090246\n",
       " 6797.6601062065365\n",
       " 6810.250348561729\n",
       " 6822.786995677832\n",
       " 6835.270413714691\n",
       " 6847.700965506475, 256-element extrapolate(interpolate((::Array{Float64,1},), ::Array{Float64,1}, Gridded(Linear())), Throw()) with element type Float64:\n",
       " 0.0\n",
       " 0.011764705882352941\n",
       " 0.023529411764705882\n",
       " 0.03529411764705882\n",
       " 0.047058823529411764\n",
       " 0.058823529411764705\n",
       " 0.07058823529411765\n",
       " 0.08235294117647059\n",
       " 0.09411764705882353\n",
       " 0.10588235294117647\n",
       " 0.11764705882352941\n",
       " 0.12941176470588237\n",
       " 0.1411764705882353\n",
       " ⋮\n",
       " 2.8705882352941177\n",
       " 2.8823529411764706\n",
       " 2.8941176470588235\n",
       " 2.9058823529411764\n",
       " 2.9176470588235293\n",
       " 2.929411764705882\n",
       " 2.9411764705882355\n",
       " 2.9529411764705884\n",
       " 2.9647058823529413\n",
       " 2.976470588235294\n",
       " 2.988235294117647\n",
       " 3.0, 6847.700965506475, [1.0, 0.9943242431637334, 0.9886658185399102, 0.9830257440216656, 0.9774050087879743, 0.9718045696019737, 0.9662253479514279, 0.9606682279055416, 0.9551340545796382, 0.9496236331141467  …  0.3351334079173409, 0.3341481936645588, 0.3331686162215605, 0.3321946289527198, 0.3312261857124208, 0.3302632408390679, 0.32930574914917254, 0.3283536659315176, 0.3274069469413972, 0.32646554839493164], 256-element extrapolate(scale(interpolate(::Array{Float64,1}, BSpline(Linear())), (0.0:0.011764705882352941:3.0,)), Throw()) with element type Float64:\n",
       " 1.0\n",
       " 0.9943242431637334\n",
       " 0.9886658185399102\n",
       " 0.9830257440216656\n",
       " 0.9774050087879743\n",
       " 0.9718045696019737\n",
       " 0.9662253479514279\n",
       " 0.9606682279055416\n",
       " 0.9551340545796382\n",
       " 0.9496236331141467\n",
       " 0.9441377280872413\n",
       " 0.938677063294275\n",
       " 0.9332423496322145\n",
       " ⋮\n",
       " 0.33712093588130504\n",
       " 0.336124306111612\n",
       " 0.3351334079173409\n",
       " 0.3341481936645588\n",
       " 0.3331686162215605\n",
       " 0.3321946289527198\n",
       " 0.33122618571242074\n",
       " 0.3302632408390679\n",
       " 0.32930574914917254\n",
       " 0.3283536659315176\n",
       " 0.3274069469413972\n",
       " 0.32646554839493164)"
      ]
     },
     "execution_count": 4,
     "metadata": {},
     "output_type": "execute_result"
    }
   ],
   "source": [
    "cosmoPar = CosmoPar(0.27, 0.049, 0.67, 0.96, 0.81)\n",
    "cosmo = Cosmology(cosmoPar)"
   ]
  },
  {
   "cell_type": "code",
   "execution_count": 5,
   "id": "proved-confirmation",
   "metadata": {},
   "outputs": [],
   "source": [
    "BOSS_nz = open(\"/home/jaimerz/PhD/LimberJack.jl/Data/BOSS_nz.txt\", \"r\")\n",
    "close(BOSS_nz)"
   ]
  },
  {
   "cell_type": "code",
   "execution_count": 6,
   "id": "several-direction",
   "metadata": {},
   "outputs": [
    {
     "data": {
      "text/plain": [
       "2-element Array{Array{Float64,1},1}:\n",
       " [0.1, 0.2, 0.3, 0.4, 0.5, 0.6, 0.7, 0.8, 0.9, 1.0, 1.1, 1.2, 1.3]\n",
       " [0.0, 1.0, 2.0, 3.0, 2.0, 1.0, 0.0, 1.0, 2.0, 3.0, 2.0, 1.0, 0.0]"
      ]
     },
     "execution_count": 6,
     "metadata": {},
     "output_type": "execute_result"
    }
   ],
   "source": [
    "BOSS_z = [0.1, 0.2, 0.3,\n",
    "          0.4, 0.5, 0.6,\n",
    "          0.7, 0.8, 0.9,\n",
    "          1.0, 1.1, 1.2,\n",
    "          1.3]\n",
    "BOSS_dndz = [0, 1, 2, \n",
    "             3, 2, 1, \n",
    "             0, 1, 2, \n",
    "             3, 2, 1, \n",
    "             0]\n",
    "BOSS_nz = [BOSS_z, BOSS_dndz]"
   ]
  },
  {
   "cell_type": "code",
   "execution_count": 7,
   "id": "racial-choir",
   "metadata": {},
   "outputs": [
    {
     "ename": "BoundsError",
     "evalue": "\u001b[91mBoundsError: attempt to access 256-element extrapolate(scale(interpolate(::Array{Float64,1}, BSpline(Linear())), (0.0:0.011764705882352941:3.0,)), Throw()) with element type Float64 at index [38.29883980138536]\u001b[39m",
     "output_type": "error",
     "traceback": [
      "\u001b[91mBoundsError: attempt to access 256-element extrapolate(scale(interpolate(::Array{Float64,1}, BSpline(Linear())), (0.0:0.011764705882352941:3.0,)), Throw()) with element type Float64 at index [38.29883980138536]\u001b[39m",
      "",
      "Stacktrace:",
      " [1] throw_boundserror(::Interpolations.Extrapolation{Float64,1,ScaledInterpolation{Float64,1,Interpolations.BSplineInterpolation{Float64,1,Array{Float64,1},BSpline{Linear{Throw{OnGrid}}},Tuple{Base.OneTo{Int64}}},BSpline{Linear{Throw{OnGrid}}},Tuple{StepRangeLen{Float64,Base.TwicePrecision{Float64},Base.TwicePrecision{Float64}}}},BSpline{Linear{Throw{OnGrid}}},Throw{Nothing}}, ::Tuple{Float64}) at ./abstractarray.jl:537",
      " [2] inbounds_index at /home/jaimerz/.julia/packages/Interpolations/3gTQB/src/extrapolation/extrapolation.jl:111 [inlined]",
      " [3] inbounds_position at /home/jaimerz/.julia/packages/Interpolations/3gTQB/src/extrapolation/extrapolation.jl:102 [inlined]",
      " [4] (::Interpolations.Extrapolation{Float64,1,ScaledInterpolation{Float64,1,Interpolations.BSplineInterpolation{Float64,1,Array{Float64,1},BSpline{Linear{Throw{OnGrid}}},Tuple{Base.OneTo{Int64}}},BSpline{Linear{Throw{OnGrid}}},Tuple{StepRangeLen{Float64,Base.TwicePrecision{Float64},Base.TwicePrecision{Float64}}}},BSpline{Linear{Throw{OnGrid}}},Throw{Nothing}})(::Float64) at /home/jaimerz/.julia/packages/Interpolations/3gTQB/src/extrapolation/extrapolation.jl:48",
      " [5] (::var\"#XX#9\"{Cosmology})(::Float64) at /home/jaimerz/PhD/LimberJack.jl/src/core.jl:144",
      " [6] (::var\"#qL#10\"{Float64,var\"#XX#9\"{Cosmology},Interpolations.Extrapolation{Float64,1,Interpolations.GriddedInterpolation{Float64,1,Int64,Gridded{Linear{Throw{OnGrid}}},Tuple{Array{Float64,1}}},Gridded{Linear{Throw{OnGrid}}},Flat{Nothing}}})(::Float64) at /home/jaimerz/PhD/LimberJack.jl/src/core.jl:148",
      " [7] (::QuadGK.var\"#14#23\"{var\"#qL#10\"{Float64,var\"#XX#9\"{Cosmology},Interpolations.Extrapolation{Float64,1,Interpolations.GriddedInterpolation{Float64,1,Int64,Gridded{Linear{Throw{OnGrid}}},Tuple{Array{Float64,1}}},Gridded{Linear{Throw{OnGrid}}},Flat{Nothing}}},Float64})(::Float64) at /home/jaimerz/.julia/packages/QuadGK/czbUH/src/adapt.jl:106",
      " [8] evalrule(::QuadGK.var\"#14#23\"{var\"#qL#10\"{Float64,var\"#XX#9\"{Cosmology},Interpolations.Extrapolation{Float64,1,Interpolations.GriddedInterpolation{Float64,1,Int64,Gridded{Linear{Throw{OnGrid}}},Tuple{Array{Float64,1}}},Gridded{Linear{Throw{OnGrid}}},Flat{Nothing}}},Float64}, ::Float64, ::Float64, ::Array{Float64,1}, ::Array{Float64,1}, ::Array{Float64,1}, ::typeof(LinearAlgebra.norm)) at /home/jaimerz/.julia/packages/QuadGK/czbUH/src/evalrule.jl:20",
      " [9] #2 at /home/jaimerz/.julia/packages/QuadGK/czbUH/src/adapt.jl:10 [inlined]",
      " [10] ntuple at ./ntuple.jl:41 [inlined]",
      " [11] do_quadgk(::QuadGK.var\"#14#23\"{var\"#qL#10\"{Float64,var\"#XX#9\"{Cosmology},Interpolations.Extrapolation{Float64,1,Interpolations.GriddedInterpolation{Float64,1,Int64,Gridded{Linear{Throw{OnGrid}}},Tuple{Array{Float64,1}}},Gridded{Linear{Throw{OnGrid}}},Flat{Nothing}}},Float64}, ::Tuple{Float64,Float64}, ::Int64, ::Nothing, ::Nothing, ::Int64, ::typeof(LinearAlgebra.norm)) at /home/jaimerz/.julia/packages/QuadGK/czbUH/src/adapt.jl:10",
      " [12] (::QuadGK.var\"#28#29\"{Nothing,Nothing,Int64,Int64,typeof(LinearAlgebra.norm)})(::Function, ::Tuple{Float64,Float64}, ::Function) at /home/jaimerz/.julia/packages/QuadGK/czbUH/src/adapt.jl:179",
      " [13] handle_infinities at /home/jaimerz/.julia/packages/QuadGK/czbUH/src/adapt.jl:105 [inlined]",
      " [14] #quadgk#27 at /home/jaimerz/.julia/packages/QuadGK/czbUH/src/adapt.jl:177 [inlined]",
      " [15] quadgk at /home/jaimerz/.julia/packages/QuadGK/czbUH/src/adapt.jl:177 [inlined]",
      " [16] #quadgk#26 at /home/jaimerz/.julia/packages/QuadGK/czbUH/src/adapt.jl:173 [inlined]",
      " [17] quadgk at /home/jaimerz/.julia/packages/QuadGK/czbUH/src/adapt.jl:173 [inlined]",
      " [18] lensing_kernel(::Cosmology, ::Int64, ::Array{Array{Float64,1},1}) at /home/jaimerz/PhD/LimberJack.jl/src/core.jl:149",
      " [19] top-level scope at In[7]:1"
     ]
    }
   ],
   "source": [
    "lensing_kernel(cosmo, 0, BOSS_nz)"
   ]
  },
  {
   "cell_type": "code",
   "execution_count": 8,
   "id": "coated-captain",
   "metadata": {},
   "outputs": [
    {
     "data": {
      "text/plain": [
       "lensing_kernel2 (generic function with 1 method)"
      ]
     },
     "execution_count": 8,
     "metadata": {},
     "output_type": "execute_result"
    }
   ],
   "source": [
    "function lensing_kernel2(cosmo::Cosmology, z, dpdz)\n",
    "    X = cosmo.chi(z)\n",
    "    a = 1/(1+z)\n",
    "    XX(zz) = cosmo.chi(zz)\n",
    "    H = 100*cosmo.cosmo.h\n",
    "    Wm = cosmo.cosmo.Ωm\n",
    "    pz = get_pz(dpdz)\n",
    "    qL(zz) = pz(zz)*(XX(zz)-X)/(XX(zz)) \n",
    "    QL = quadgk(qL, z, Inf)\n",
    "    QL *= (3/2)*H^2*Wm*(X/a)\n",
    "    return QL\n",
    "end"
   ]
  },
  {
   "cell_type": "code",
   "execution_count": 9,
   "id": "multiple-quarter",
   "metadata": {},
   "outputs": [
    {
     "ename": "BoundsError",
     "evalue": "\u001b[91mBoundsError: attempt to access 256-element extrapolate(scale(interpolate(::Array{Float64,1}, BSpline(Linear())), (0.0:0.011764705882352941:3.0,)), Throw()) with element type Float64 at index [38.29883980138536]\u001b[39m",
     "output_type": "error",
     "traceback": [
      "\u001b[91mBoundsError: attempt to access 256-element extrapolate(scale(interpolate(::Array{Float64,1}, BSpline(Linear())), (0.0:0.011764705882352941:3.0,)), Throw()) with element type Float64 at index [38.29883980138536]\u001b[39m",
      "",
      "Stacktrace:",
      " [1] throw_boundserror(::Interpolations.Extrapolation{Float64,1,ScaledInterpolation{Float64,1,Interpolations.BSplineInterpolation{Float64,1,Array{Float64,1},BSpline{Linear{Throw{OnGrid}}},Tuple{Base.OneTo{Int64}}},BSpline{Linear{Throw{OnGrid}}},Tuple{StepRangeLen{Float64,Base.TwicePrecision{Float64},Base.TwicePrecision{Float64}}}},BSpline{Linear{Throw{OnGrid}}},Throw{Nothing}}, ::Tuple{Float64}) at ./abstractarray.jl:537",
      " [2] inbounds_index at /home/jaimerz/.julia/packages/Interpolations/3gTQB/src/extrapolation/extrapolation.jl:111 [inlined]",
      " [3] inbounds_position at /home/jaimerz/.julia/packages/Interpolations/3gTQB/src/extrapolation/extrapolation.jl:102 [inlined]",
      " [4] (::Interpolations.Extrapolation{Float64,1,ScaledInterpolation{Float64,1,Interpolations.BSplineInterpolation{Float64,1,Array{Float64,1},BSpline{Linear{Throw{OnGrid}}},Tuple{Base.OneTo{Int64}}},BSpline{Linear{Throw{OnGrid}}},Tuple{StepRangeLen{Float64,Base.TwicePrecision{Float64},Base.TwicePrecision{Float64}}}},BSpline{Linear{Throw{OnGrid}}},Throw{Nothing}})(::Float64) at /home/jaimerz/.julia/packages/Interpolations/3gTQB/src/extrapolation/extrapolation.jl:48",
      " [5] (::var\"#XX#21\"{Cosmology})(::Float64) at ./In[8]:4",
      " [6] (::var\"#qL#22\"{Float64,var\"#XX#21\"{Cosmology},Interpolations.Extrapolation{Float64,1,Interpolations.GriddedInterpolation{Float64,1,Int64,Gridded{Linear{Throw{OnGrid}}},Tuple{Array{Float64,1}}},Gridded{Linear{Throw{OnGrid}}},Flat{Nothing}}})(::Float64) at ./In[8]:8",
      " [7] (::QuadGK.var\"#14#23\"{var\"#qL#22\"{Float64,var\"#XX#21\"{Cosmology},Interpolations.Extrapolation{Float64,1,Interpolations.GriddedInterpolation{Float64,1,Int64,Gridded{Linear{Throw{OnGrid}}},Tuple{Array{Float64,1}}},Gridded{Linear{Throw{OnGrid}}},Flat{Nothing}}},Float64})(::Float64) at /home/jaimerz/.julia/packages/QuadGK/czbUH/src/adapt.jl:106",
      " [8] evalrule(::QuadGK.var\"#14#23\"{var\"#qL#22\"{Float64,var\"#XX#21\"{Cosmology},Interpolations.Extrapolation{Float64,1,Interpolations.GriddedInterpolation{Float64,1,Int64,Gridded{Linear{Throw{OnGrid}}},Tuple{Array{Float64,1}}},Gridded{Linear{Throw{OnGrid}}},Flat{Nothing}}},Float64}, ::Float64, ::Float64, ::Array{Float64,1}, ::Array{Float64,1}, ::Array{Float64,1}, ::typeof(LinearAlgebra.norm)) at /home/jaimerz/.julia/packages/QuadGK/czbUH/src/evalrule.jl:20",
      " [9] #2 at /home/jaimerz/.julia/packages/QuadGK/czbUH/src/adapt.jl:10 [inlined]",
      " [10] ntuple at ./ntuple.jl:41 [inlined]",
      " [11] do_quadgk(::QuadGK.var\"#14#23\"{var\"#qL#22\"{Float64,var\"#XX#21\"{Cosmology},Interpolations.Extrapolation{Float64,1,Interpolations.GriddedInterpolation{Float64,1,Int64,Gridded{Linear{Throw{OnGrid}}},Tuple{Array{Float64,1}}},Gridded{Linear{Throw{OnGrid}}},Flat{Nothing}}},Float64}, ::Tuple{Float64,Float64}, ::Int64, ::Nothing, ::Nothing, ::Int64, ::typeof(LinearAlgebra.norm)) at /home/jaimerz/.julia/packages/QuadGK/czbUH/src/adapt.jl:10",
      " [12] (::QuadGK.var\"#28#29\"{Nothing,Nothing,Int64,Int64,typeof(LinearAlgebra.norm)})(::Function, ::Tuple{Float64,Float64}, ::Function) at /home/jaimerz/.julia/packages/QuadGK/czbUH/src/adapt.jl:179",
      " [13] handle_infinities at /home/jaimerz/.julia/packages/QuadGK/czbUH/src/adapt.jl:105 [inlined]",
      " [14] #quadgk#27 at /home/jaimerz/.julia/packages/QuadGK/czbUH/src/adapt.jl:177 [inlined]",
      " [15] quadgk at /home/jaimerz/.julia/packages/QuadGK/czbUH/src/adapt.jl:177 [inlined]",
      " [16] lensing_kernel2(::Cosmology, ::Float64, ::Array{Array{Float64,1},1}) at ./In[8]:9",
      " [17] top-level scope at In[9]:1"
     ]
    }
   ],
   "source": [
    "lensing_kernel2(cosmo, 0., BOSS_nz)"
   ]
  },
  {
   "cell_type": "code",
   "execution_count": 10,
   "id": "comparative-indie",
   "metadata": {},
   "outputs": [],
   "source": [
    "#Need to make pz 0 outside range"
   ]
  },
  {
   "cell_type": "code",
   "execution_count": 18,
   "id": "vanilla-supervision",
   "metadata": {},
   "outputs": [
    {
     "data": {
      "text/plain": [
       "13-element extrapolate(interpolate((::Array{Float64,1},), ::Array{Int64,1}, Gridded(Linear())), Flat()) with element type Float64:\n",
       " 0.0\n",
       " 1.0\n",
       " 2.0\n",
       " 3.0\n",
       " 2.0\n",
       " 1.0\n",
       " 0.0\n",
       " 1.0\n",
       " 2.0\n",
       " 3.0\n",
       " 2.0\n",
       " 1.0\n",
       " 0.0"
      ]
     },
     "execution_count": 18,
     "metadata": {},
     "output_type": "execute_result"
    }
   ],
   "source": [
    "itp = LinearInterpolation(BOSS_z, BOSS_dndz, extrapolation_bc=Flat())"
   ]
  },
  {
   "cell_type": "code",
   "execution_count": 27,
   "id": "hidden-mercury",
   "metadata": {},
   "outputs": [
    {
     "data": {
      "text/plain": [
       "int (generic function with 1 method)"
      ]
     },
     "execution_count": 27,
     "metadata": {},
     "output_type": "execute_result"
    }
   ],
   "source": [
    "X(z) = cosmo.chi(z)\n",
    "int(z) = itp(z)*(X(z)-1)/X(z)"
   ]
  },
  {
   "cell_type": "code",
   "execution_count": 32,
   "id": "abroad-composition",
   "metadata": {},
   "outputs": [
    {
     "ename": "BoundsError",
     "evalue": "\u001b[91mBoundsError: attempt to access 256-element extrapolate(scale(interpolate(::Array{Float64,1}, BSpline(Linear())), (0.0:0.011764705882352941:3.0,)), Throw()) with element type Float64 at index [9.745539561713791]\u001b[39m",
     "output_type": "error",
     "traceback": [
      "\u001b[91mBoundsError: attempt to access 256-element extrapolate(scale(interpolate(::Array{Float64,1}, BSpline(Linear())), (0.0:0.011764705882352941:3.0,)), Throw()) with element type Float64 at index [9.745539561713791]\u001b[39m",
      "",
      "Stacktrace:",
      " [1] throw_boundserror(::Interpolations.Extrapolation{Float64,1,ScaledInterpolation{Float64,1,Interpolations.BSplineInterpolation{Float64,1,Array{Float64,1},BSpline{Linear{Throw{OnGrid}}},Tuple{Base.OneTo{Int64}}},BSpline{Linear{Throw{OnGrid}}},Tuple{StepRangeLen{Float64,Base.TwicePrecision{Float64},Base.TwicePrecision{Float64}}}},BSpline{Linear{Throw{OnGrid}}},Throw{Nothing}}, ::Tuple{Float64}) at ./abstractarray.jl:537",
      " [2] inbounds_index at /home/jaimerz/.julia/packages/Interpolations/3gTQB/src/extrapolation/extrapolation.jl:111 [inlined]",
      " [3] inbounds_position at /home/jaimerz/.julia/packages/Interpolations/3gTQB/src/extrapolation/extrapolation.jl:102 [inlined]",
      " [4] (::Interpolations.Extrapolation{Float64,1,ScaledInterpolation{Float64,1,Interpolations.BSplineInterpolation{Float64,1,Array{Float64,1},BSpline{Linear{Throw{OnGrid}}},Tuple{Base.OneTo{Int64}}},BSpline{Linear{Throw{OnGrid}}},Tuple{StepRangeLen{Float64,Base.TwicePrecision{Float64},Base.TwicePrecision{Float64}}}},BSpline{Linear{Throw{OnGrid}}},Throw{Nothing}})(::Float64) at /home/jaimerz/.julia/packages/Interpolations/3gTQB/src/extrapolation/extrapolation.jl:48",
      " [5] X(::Float64) at ./In[27]:1",
      " [6] evalrule(::typeof(X), ::Int64, ::Int64, ::Array{Float64,1}, ::Array{Float64,1}, ::Array{Float64,1}, ::typeof(LinearAlgebra.norm)) at /home/jaimerz/.julia/packages/QuadGK/czbUH/src/evalrule.jl:20",
      " [7] #2 at /home/jaimerz/.julia/packages/QuadGK/czbUH/src/adapt.jl:10 [inlined]",
      " [8] ntuple at ./ntuple.jl:41 [inlined]",
      " [9] do_quadgk(::typeof(X), ::Tuple{Int64,Int64}, ::Int64, ::Nothing, ::Nothing, ::Int64, ::typeof(LinearAlgebra.norm)) at /home/jaimerz/.julia/packages/QuadGK/czbUH/src/adapt.jl:10",
      " [10] (::QuadGK.var\"#28#29\"{Nothing,Nothing,Int64,Int64,typeof(LinearAlgebra.norm)})(::Function, ::Tuple{Int64,Int64}, ::Function) at /home/jaimerz/.julia/packages/QuadGK/czbUH/src/adapt.jl:179",
      " [11] handle_infinities at /home/jaimerz/.julia/packages/QuadGK/czbUH/src/adapt.jl:113 [inlined]",
      " [12] #quadgk#27 at /home/jaimerz/.julia/packages/QuadGK/czbUH/src/adapt.jl:177 [inlined]",
      " [13] quadgk(::Function, ::Int64, ::Int64) at /home/jaimerz/.julia/packages/QuadGK/czbUH/src/adapt.jl:177",
      " [14] top-level scope at In[32]:1"
     ]
    }
   ],
   "source": [
    "quadgk(X, 0, 10)"
   ]
  },
  {
   "cell_type": "code",
   "execution_count": null,
   "id": "intellectual-literacy",
   "metadata": {},
   "outputs": [],
   "source": []
  }
 ],
 "metadata": {
  "kernelspec": {
   "display_name": "Julia 1.4.1",
   "language": "julia",
   "name": "julia-1.4"
  },
  "language_info": {
   "file_extension": ".jl",
   "mimetype": "application/julia",
   "name": "julia",
   "version": "1.4.1"
  }
 },
 "nbformat": 4,
 "nbformat_minor": 5
}
