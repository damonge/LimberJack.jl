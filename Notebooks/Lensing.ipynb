{
 "cells": [
  {
   "cell_type": "code",
   "execution_count": 1,
   "id": "activated-islam",
   "metadata": {
    "ExecuteTime": {
     "end_time": "2021-10-20T11:51:58.029000+01:00",
     "start_time": "2021-10-20T10:51:41.206Z"
    }
   },
   "outputs": [
    {
     "name": "stderr",
     "output_type": "stream",
     "text": [
      "\u001b[32m\u001b[1mPrecompiling\u001b[22m\u001b[39m project...\n",
      "┌ Info: Precompiling LimberJack [6b86205d-155a-4b14-b82d-b6a149ea78f2]\n",
      "└ @ Base loading.jl:1260\n"
     ]
    }
   ],
   "source": [
    "using Pkg\n",
    "Pkg.instantiate()\n",
    "Pkg.precompile()"
   ]
  },
  {
   "cell_type": "code",
   "execution_count": 2,
   "id": "lined-laser",
   "metadata": {
    "ExecuteTime": {
     "end_time": "2021-10-20T11:52:12.645000+01:00",
     "start_time": "2021-10-20T10:51:41.207Z"
    }
   },
   "outputs": [],
   "source": [
    "using QuadGK\n",
    "using Interpolations\n",
    "using OrdinaryDiffEq"
   ]
  },
  {
   "cell_type": "code",
   "execution_count": 3,
   "id": "existing-distinction",
   "metadata": {
    "ExecuteTime": {
     "end_time": "2021-10-20T11:52:14.558000+01:00",
     "start_time": "2021-10-20T10:51:41.207Z"
    }
   },
   "outputs": [
    {
     "data": {
      "text/plain": [
       "Cl (generic function with 1 method)"
      ]
     },
     "execution_count": 3,
     "metadata": {},
     "output_type": "execute_result"
    }
   ],
   "source": [
    "include(\"/home/jaimerz/PhD/LimberJack.jl/src/core.jl\")"
   ]
  },
  {
   "cell_type": "code",
   "execution_count": 4,
   "id": "victorian-wednesday",
   "metadata": {
    "ExecuteTime": {
     "end_time": "2021-10-20T11:52:25.300000+01:00",
     "start_time": "2021-10-20T10:51:41.208Z"
    }
   },
   "outputs": [
    {
     "name": "stderr",
     "output_type": "stream",
     "text": [
      "┌ Warning: extrapolate(itp, Linear()) is deprecated, use extrapolate(itp, Line()) instead\n",
      "│   caller = #LinearInterpolation#52 at convenience-constructors.jl:9 [inlined]\n",
      "└ @ Core /home/jaimerz/.julia/packages/Interpolations/3gTQB/src/convenience-constructors.jl:9\n",
      "┌ Warning: extrapolate(itp, Linear()) is deprecated, use extrapolate(itp, Line()) instead\n",
      "│   caller = #LinearInterpolation#51 at convenience-constructors.jl:7 [inlined]\n",
      "└ @ Core /home/jaimerz/.julia/packages/Interpolations/3gTQB/src/convenience-constructors.jl:7\n",
      "┌ Warning: extrapolate(itp, Linear()) is deprecated, use extrapolate(itp, Line()) instead\n",
      "│   caller = #LinearInterpolation#52 at convenience-constructors.jl:9 [inlined]\n",
      "└ @ Core /home/jaimerz/.julia/packages/Interpolations/3gTQB/src/convenience-constructors.jl:9\n"
     ]
    }
   ],
   "source": [
    "cosmoPar = CosmoPar(0.27, 0.049, 0.67, 0.96, 0.81)\n",
    "cosmo = Cosmology(cosmoPar);"
   ]
  },
  {
   "cell_type": "code",
   "execution_count": 15,
   "id": "several-direction",
   "metadata": {
    "ExecuteTime": {
     "end_time": "2021-10-20T11:52:32.315000+01:00",
     "start_time": "2021-10-20T10:52:32.309Z"
    },
    "scrolled": true
   },
   "outputs": [],
   "source": [
    "z_arr = [0. , 0.1, 0.2, 0.3, 0.4, 0.5, 0.6, 0.7, 0.8, 0.9,  1]\n",
    "b_arr = [2., 2., 2., 2., 2., 2., 2., 2., 2., 2., 2.]\n",
    "nz = [[0.0, 0.1, 0.2, 0.30000000000000004,\n",
    "       0.4, 0.5, 0.6000000000000001, 0.7000000000000001,\n",
    "       0.8, 0.9, 1.0],\n",
    "      [0.0, 0.09549150281252627, 0.3454915028125263,\n",
    "       0.6545084971874737, 0.9045084971874736, 1.0,\n",
    "       0.9045084971874736, 0.6545084971874737, 0.34549150281252644,\n",
    "       0.09549150281252634, 0]]\n",
    "clustering_t = [0.00000000e+00, 4.48526950e-05, 1.71324904e-04, 3.43709458e-04,\n",
    "        5.04105075e-04, 5.92283813e-04, 5.69713631e-04, 4.38454138e-04,\n",
    "        2.46077204e-04, 7.22670075e-05, 1.03428840e-10]\n",
    "lensing_t = [0.00000000e+00, 8.46720571e-06, 1.23677281e-05, 1.23488595e-05,\n",
    "        9.80438814e-06, 6.34013396e-06, 3.25773350e-06, 1.22774325e-06,\n",
    "        2.76337744e-07, 1.90522187e-08, 0.00000000e+00]\n",
    "CMBlensing_t = [0.00000000e+00, 1.11161519e-05, 2.29070311e-05, 3.51531866e-05,\n",
    "        4.76791214e-05, 6.03482340e-05, 7.30566167e-05, 8.57272238e-05,\n",
    "        9.83037415e-05, 1.10746285e-04, 1.23027399e-04];"
   ]
  },
  {
   "cell_type": "code",
   "execution_count": 6,
   "id": "structured-crack",
   "metadata": {
    "ExecuteTime": {
     "end_time": "2021-10-20T11:52:27.116000+01:00",
     "start_time": "2021-10-20T10:51:41.209Z"
    }
   },
   "outputs": [
    {
     "data": {
      "text/plain": [
       "11-element Array{Array{Float64,1},1}:\n",
       " [0.0]\n",
       " [4.4548853250678867e-5]\n",
       " [0.0001689229691343614]\n",
       " [0.0003365196973273108]\n",
       " [0.0004903265026169991]\n",
       " [0.0005726265297483702]\n",
       " [0.0005478020119701433]\n",
       " [0.00041953171502033624]\n",
       " [0.00023443530416709528]\n",
       " [6.858372281020839e-5]\n",
       " [0.0]"
      ]
     },
     "execution_count": 6,
     "metadata": {},
     "output_type": "execute_result"
    }
   ],
   "source": [
    "qg = clustering_kernel(cosmo, 2, nz)\n",
    "clustering_jl = [qg(z, 1) for z in z_arr]"
   ]
  },
  {
   "cell_type": "code",
   "execution_count": 7,
   "id": "turned-thermal",
   "metadata": {
    "ExecuteTime": {
     "end_time": "2021-10-20T11:52:27.173000+01:00",
     "start_time": "2021-10-20T10:51:41.210Z"
    }
   },
   "outputs": [
    {
     "data": {
      "text/plain": [
       "11-element Array{Array{Float64,1},1}:\n",
       " [NaN]\n",
       " [0.9932257861133844]\n",
       " [0.9859802351581145]\n",
       " [0.9790818654961506]\n",
       " [0.9726672611201129]\n",
       " [0.9668110408892269]\n",
       " [0.9615392403523927]\n",
       " [0.9568428682963787]\n",
       " [0.9526900515624166]\n",
       " [0.9490322788059045]\n",
       " [0.0]"
      ]
     },
     "execution_count": 7,
     "metadata": {},
     "output_type": "execute_result"
    }
   ],
   "source": [
    "clustering_jl./clustering_t"
   ]
  },
  {
   "cell_type": "code",
   "execution_count": 8,
   "id": "saved-tournament",
   "metadata": {
    "ExecuteTime": {
     "end_time": "2021-10-20T11:52:27.828000+01:00",
     "start_time": "2021-10-20T10:51:41.211Z"
    }
   },
   "outputs": [
    {
     "data": {
      "text/plain": [
       "11-element Array{Float64,1}:\n",
       " 0.0\n",
       " 3.596894945051763e-6\n",
       " 5.293478563722389e-6\n",
       " 5.334025411814407e-6\n",
       " 4.284513928527437e-6\n",
       " 2.8157314623322474e-6\n",
       " 1.481964424606995e-6\n",
       " 5.838480631301325e-7\n",
       " 1.4738546267254347e-7\n",
       " 1.612414943703329e-8\n",
       " 0.0"
      ]
     },
     "execution_count": 8,
     "metadata": {},
     "output_type": "execute_result"
    }
   ],
   "source": [
    "lensing_jl = [lensing_kernel(cosmo, z, nz) for z in z_arr]"
   ]
  },
  {
   "cell_type": "code",
   "execution_count": 9,
   "id": "postal-seven",
   "metadata": {
    "ExecuteTime": {
     "end_time": "2021-10-20T11:52:27.876000+01:00",
     "start_time": "2021-10-20T10:51:41.211Z"
    }
   },
   "outputs": [
    {
     "data": {
      "text/plain": [
       "11-element Array{Float64,1}:\n",
       " NaN\n",
       "   0.42480306588084094\n",
       "   0.4280073527588619\n",
       "   0.43194478095846883\n",
       "   0.43699962377534324\n",
       "   0.444112297957226\n",
       "   0.4549065860074174\n",
       "   0.47554573248937226\n",
       "   0.5333526305134179\n",
       "   0.84631347618497\n",
       " NaN"
      ]
     },
     "execution_count": 9,
     "metadata": {},
     "output_type": "execute_result"
    }
   ],
   "source": [
    "lensing_jl./lensing_t"
   ]
  },
  {
   "cell_type": "code",
   "execution_count": 17,
   "id": "unknown-assurance",
   "metadata": {
    "ExecuteTime": {
     "end_time": "2021-10-20T11:53:13.180000+01:00",
     "start_time": "2021-10-20T10:53:13.113Z"
    }
   },
   "outputs": [
    {
     "data": {
      "text/plain": [
       "11-element Array{Float64,1}:\n",
       " 0.0\n",
       " 9.74556879098948e-6\n",
       " 2.0790285828252183e-5\n",
       " 3.299630065572857e-5\n",
       " 4.624056149130983e-5\n",
       " 6.040342348446177e-5\n",
       " 7.538477899374835e-5\n",
       " 9.108846896932182e-5\n",
       " 0.00010743808478098922\n",
       " 0.0001243594093339025\n",
       " 0.0001417960411746628"
      ]
     },
     "execution_count": 17,
     "metadata": {},
     "output_type": "execute_result"
    }
   ],
   "source": [
    "qCMBL = CMBlensing_kernel(cosmo)\n",
    "CMBlensing_jl = [qCMBL(z, 1) for z in z_arr]"
   ]
  },
  {
   "cell_type": "code",
   "execution_count": 21,
   "id": "patent-reviewer",
   "metadata": {
    "ExecuteTime": {
     "end_time": "2021-10-20T11:53:42.628000+01:00",
     "start_time": "2021-10-20T10:53:42.625Z"
    }
   },
   "outputs": [
    {
     "data": {
      "text/plain": [
       "11-element Array{Float64,1}:\n",
       " NaN\n",
       "   0.8767034562553503\n",
       "   0.9075940805027406\n",
       "   0.938643231158127\n",
       "   0.9698283050012292\n",
       "   1.0009145169759528\n",
       "   1.0318679183202355\n",
       "   1.0625384204885662\n",
       "   1.09291958924055\n",
       "   1.1229217244975982\n",
       "   1.1525566038721407"
      ]
     },
     "execution_count": 21,
     "metadata": {},
     "output_type": "execute_result"
    }
   ],
   "source": [
    "CMBlensing_jl./CMBlensing_t"
   ]
  },
  {
   "cell_type": "code",
   "execution_count": 11,
   "id": "fifteen-static",
   "metadata": {
    "ExecuteTime": {
     "end_time": "2021-10-20T11:52:28.976000+01:00",
     "start_time": "2021-10-20T10:51:41.213Z"
    }
   },
   "outputs": [
    {
     "ename": "UndefVarError",
     "evalue": "\u001b[91mUndefVarError: CMBlensing_jl not defined\u001b[39m",
     "output_type": "error",
     "traceback": [
      "\u001b[91mUndefVarError: CMBlensing_jl not defined\u001b[39m",
      "",
      "Stacktrace:",
      " [1] top-level scope at In[11]:1"
     ]
    }
   ],
   "source": [
    "CMBlensing_jl./CMBlensing_t"
   ]
  },
  {
   "cell_type": "code",
   "execution_count": 12,
   "id": "copyrighted-jungle",
   "metadata": {
    "ExecuteTime": {
     "end_time": "2021-10-20T11:52:29.224000+01:00",
     "start_time": "2021-10-20T10:51:41.214Z"
    }
   },
   "outputs": [
    {
     "data": {
      "text/plain": [
       "2-element Array{Float64,1}:\n",
       " 0.0\n",
       " 0.0"
      ]
     },
     "execution_count": 12,
     "metadata": {},
     "output_type": "execute_result"
    }
   ],
   "source": [
    "qgamma = shear_kernel(cosmo, nz)\n",
    "qgamma(1, [3, 5])"
   ]
  },
  {
   "cell_type": "code",
   "execution_count": 13,
   "id": "environmental-separate",
   "metadata": {
    "ExecuteTime": {
     "end_time": "2021-10-20T11:52:29.225000+01:00",
     "start_time": "2021-10-20T10:51:41.215Z"
    }
   },
   "outputs": [
    {
     "ename": "UndefVarError",
     "evalue": "\u001b[91mUndefVarError: BOSS_nz not defined\u001b[39m",
     "output_type": "error",
     "traceback": [
      "\u001b[91mUndefVarError: BOSS_nz not defined\u001b[39m",
      "",
      "Stacktrace:",
      " [1] top-level scope at In[13]:1"
     ]
    }
   ],
   "source": [
    "qk = convergence_kernel(cosmo, BOSS_nz)\n",
    "qk(1, [3, 5])"
   ]
  },
  {
   "cell_type": "code",
   "execution_count": 14,
   "id": "finished-isaac",
   "metadata": {
    "ExecuteTime": {
     "end_time": "2021-10-20T11:52:29.242000+01:00",
     "start_time": "2021-10-20T10:51:41.215Z"
    }
   },
   "outputs": [
    {
     "ename": "UndefVarError",
     "evalue": "\u001b[91mUndefVarError: qk not defined\u001b[39m",
     "output_type": "error",
     "traceback": [
      "\u001b[91mUndefVarError: qk not defined\u001b[39m",
      "",
      "Stacktrace:",
      " [1] top-level scope at In[14]:1"
     ]
    }
   ],
   "source": [
    "Cl(cosmo, [1, 2], qg, qk)"
   ]
  },
  {
   "cell_type": "code",
   "execution_count": null,
   "id": "polyphonic-superintendent",
   "metadata": {},
   "outputs": [],
   "source": []
  }
 ],
 "metadata": {
  "kernelspec": {
   "display_name": "Julia 1.4.1",
   "language": "julia",
   "name": "julia-1.4"
  },
  "language_info": {
   "file_extension": ".jl",
   "mimetype": "application/julia",
   "name": "julia",
   "version": "1.4.1"
  }
 },
 "nbformat": 4,
 "nbformat_minor": 5
}
