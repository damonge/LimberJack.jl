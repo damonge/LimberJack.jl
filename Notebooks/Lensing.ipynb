{
 "cells": [
  {
   "cell_type": "code",
   "execution_count": 25,
   "id": "lined-laser",
   "metadata": {},
   "outputs": [],
   "source": [
    "using QuadGK\n",
    "using Interpolations"
   ]
  },
  {
   "cell_type": "code",
   "execution_count": 54,
   "id": "existing-distinction",
   "metadata": {},
   "outputs": [
    {
     "data": {
      "text/plain": [
       "g (generic function with 1 method)"
      ]
     },
     "execution_count": 54,
     "metadata": {},
     "output_type": "execute_result"
    }
   ],
   "source": [
    "f(x) = 1/exp(x)\n",
    "g(x) = 2*x"
   ]
  },
  {
   "cell_type": "code",
   "execution_count": 39,
   "id": "formal-weather",
   "metadata": {},
   "outputs": [
    {
     "data": {
      "text/plain": [
       "1"
      ]
     },
     "execution_count": 39,
     "metadata": {},
     "output_type": "execute_result"
    }
   ],
   "source": [
    "a = [[1, 0], [2, 3]]"
   ]
  },
  {
   "cell_type": "code",
   "execution_count": 40,
   "id": "vocal-empty",
   "metadata": {},
   "outputs": [
    {
     "data": {
      "text/plain": [
       "2-element Array{Array{Float64,1},1}:\n",
       " [0.0, 1.0, 2.0, 3.0, 2.0, 1.0, 0.0, 1.0, 2.0, 3.0, 2.0]\n",
       " [0.0, 0.1, 0.2, 0.3, 0.4, 0.5, 0.6, 0.7, 0.8, 0.9, 1.0]"
      ]
     },
     "execution_count": 40,
     "metadata": {},
     "output_type": "execute_result"
    }
   ],
   "source": [
    "dpdz = [[0, 1, 2,\n",
    "    3, 2, 1,\n",
    "    0, 1, 2,\n",
    "    3, 2], [0, 0.1, 0.2,\n",
    "    0.3, 0.4, 0.5,\n",
    "    0.6, 0.7, 0.8,\n",
    "    0.9, 1]]"
   ]
  },
  {
   "cell_type": "code",
   "execution_count": 46,
   "id": "appreciated-geology",
   "metadata": {},
   "outputs": [
    {
     "data": {
      "text/plain": [
       "get_pz (generic function with 1 method)"
      ]
     },
     "execution_count": 46,
     "metadata": {},
     "output_type": "execute_result"
    }
   ],
   "source": [
    "function get_pz(dpdz)\n",
    "    p = dpdz[1]\n",
    "    z = dpdz[2]\n",
    "    pz = LinearInterpolation(z, p)\n",
    "    return pz\n",
    "end"
   ]
  },
  {
   "cell_type": "code",
   "execution_count": 47,
   "id": "cleared-dialogue",
   "metadata": {},
   "outputs": [
    {
     "data": {
      "text/plain": [
       "11-element extrapolate(interpolate((::Array{Float64,1},), ::Array{Float64,1}, Gridded(Linear())), Throw()) with element type Float64:\n",
       " 0.0\n",
       " 1.0\n",
       " 2.0\n",
       " 3.0\n",
       " 2.0\n",
       " 1.0\n",
       " 0.0\n",
       " 1.0\n",
       " 2.0\n",
       " 3.0\n",
       " 2.0"
      ]
     },
     "execution_count": 47,
     "metadata": {},
     "output_type": "execute_result"
    }
   ],
   "source": [
    "pz = get_pz(dpdz)"
   ]
  },
  {
   "cell_type": "code",
   "execution_count": 50,
   "id": "desperate-brazil",
   "metadata": {},
   "outputs": [
    {
     "data": {
      "text/plain": [
       "2.7"
      ]
     },
     "execution_count": 50,
     "metadata": {},
     "output_type": "execute_result"
    }
   ],
   "source": [
    "pz(0.27)"
   ]
  },
  {
   "cell_type": "code",
   "execution_count": 56,
   "id": "handy-pricing",
   "metadata": {},
   "outputs": [
    {
     "ename": "MethodError",
     "evalue": "\u001b[91mMethodError: no method matching quadgk(::typeof(f))\u001b[39m\n\u001b[91m\u001b[0mClosest candidates are:\u001b[39m\n\u001b[91m\u001b[0m  quadgk(::Any, \u001b[91m::T\u001b[39m, \u001b[91m::T\u001b[39m, \u001b[91m::T...\u001b[39m; atol, rtol, maxevals, order, norm) where T at /home/jaimerz/.julia/packages/QuadGK/czbUH/src/adapt.jl:177\u001b[39m\n\u001b[91m\u001b[0m  quadgk(::Any, \u001b[91m::Any\u001b[39m, \u001b[91m::Any\u001b[39m, \u001b[91m::Any...\u001b[39m; kws...) at /home/jaimerz/.julia/packages/QuadGK/czbUH/src/adapt.jl:173\u001b[39m",
     "output_type": "error",
     "traceback": [
      "\u001b[91mMethodError: no method matching quadgk(::typeof(f))\u001b[39m\n\u001b[91m\u001b[0mClosest candidates are:\u001b[39m\n\u001b[91m\u001b[0m  quadgk(::Any, \u001b[91m::T\u001b[39m, \u001b[91m::T\u001b[39m, \u001b[91m::T...\u001b[39m; atol, rtol, maxevals, order, norm) where T at /home/jaimerz/.julia/packages/QuadGK/czbUH/src/adapt.jl:177\u001b[39m\n\u001b[91m\u001b[0m  quadgk(::Any, \u001b[91m::Any\u001b[39m, \u001b[91m::Any\u001b[39m, \u001b[91m::Any...\u001b[39m; kws...) at /home/jaimerz/.julia/packages/QuadGK/czbUH/src/adapt.jl:173\u001b[39m",
      "",
      "Stacktrace:",
      " [1] top-level scope at In[56]:1"
     ]
    }
   ],
   "source": [
    "quadgk(f)"
   ]
  },
  {
   "cell_type": "code",
   "execution_count": 22,
   "id": "unlike-reggae",
   "metadata": {},
   "outputs": [
    {
     "data": {
      "text/plain": [
       "integrator (generic function with 2 methods)"
      ]
     },
     "execution_count": 22,
     "metadata": {},
     "output_type": "execute_result"
    }
   ],
   "source": [
    "function integrator(a, b)\n",
    "    pz = get_pz()LinearInterpolation(data[:,1], data[:,2])\n",
    "    g(x) = 1/exp(2*x)\n",
    "    return quadgk(g, a, b)\n",
    "end\n",
    "    "
   ]
  },
  {
   "cell_type": "code",
   "execution_count": 24,
   "id": "foreign-extension",
   "metadata": {},
   "outputs": [
    {
     "data": {
      "text/plain": [
       "(-0.4323323583816937, 4.996003610813204e-16)"
      ]
     },
     "execution_count": 24,
     "metadata": {},
     "output_type": "execute_result"
    }
   ],
   "source": [
    "integrator(1, 0)"
   ]
  },
  {
   "cell_type": "code",
   "execution_count": 21,
   "id": "rational-paste",
   "metadata": {},
   "outputs": [
    {
     "data": {
      "text/plain": [
       "(0.4323323583816937, 4.440892098500626e-16)"
      ]
     },
     "execution_count": 21,
     "metadata": {},
     "output_type": "execute_result"
    }
   ],
   "source": [
    "integrator()"
   ]
  },
  {
   "cell_type": "code",
   "execution_count": 52,
   "id": "acute-jackson",
   "metadata": {},
   "outputs": [
    {
     "data": {
      "text/plain": [
       "w (generic function with 1 method)"
      ]
     },
     "execution_count": 52,
     "metadata": {},
     "output_type": "execute_result"
    }
   ],
   "source": [
    "function w(z, f, g)\n",
    "    return f(z)*g(z) \n",
    "end"
   ]
  },
  {
   "cell_type": "code",
   "execution_count": 55,
   "id": "specified-sending",
   "metadata": {},
   "outputs": [
    {
     "data": {
      "text/plain": [
       "0.7357588823428847"
      ]
     },
     "execution_count": 55,
     "metadata": {},
     "output_type": "execute_result"
    }
   ],
   "source": [
    "w(1, f, g)"
   ]
  },
  {
   "cell_type": "code",
   "execution_count": null,
   "id": "victorian-wednesday",
   "metadata": {},
   "outputs": [],
   "source": []
  }
 ],
 "metadata": {
  "kernelspec": {
   "display_name": "Julia 1.4.1",
   "language": "julia",
   "name": "julia-1.4"
  },
  "language_info": {
   "file_extension": ".jl",
   "mimetype": "application/julia",
   "name": "julia",
   "version": "1.4.1"
  }
 },
 "nbformat": 4,
 "nbformat_minor": 5
}
