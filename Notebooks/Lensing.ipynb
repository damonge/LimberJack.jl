{
 "cells": [
  {
   "cell_type": "markdown",
   "id": "compact-petroleum",
   "metadata": {},
   "source": [
    "# Imports"
   ]
  },
  {
   "cell_type": "code",
   "execution_count": 1,
   "id": "lined-laser",
   "metadata": {
    "ExecuteTime": {
     "end_time": "2021-11-11T15:04:23.823000Z",
     "start_time": "2021-11-11T15:03:55.913Z"
    }
   },
   "outputs": [],
   "source": [
    "using QuadGK\n",
    "using Interpolations\n",
    "using OrdinaryDiffEq"
   ]
  },
  {
   "cell_type": "code",
   "execution_count": 2,
   "id": "existing-distinction",
   "metadata": {
    "ExecuteTime": {
     "end_time": "2021-11-11T15:04:25.870000Z",
     "start_time": "2021-11-11T15:03:56.087Z"
    }
   },
   "outputs": [
    {
     "data": {
      "text/plain": [
       "Cl (generic function with 1 method)"
      ]
     },
     "execution_count": 2,
     "metadata": {},
     "output_type": "execute_result"
    }
   ],
   "source": [
    "include(\"/home/jaimerz/PhD/LimberJack.jl/src/core.jl\")"
   ]
  },
  {
   "cell_type": "code",
   "execution_count": 3,
   "id": "victorian-wednesday",
   "metadata": {
    "ExecuteTime": {
     "end_time": "2021-11-11T15:04:36.547000Z",
     "start_time": "2021-11-11T15:03:56.232Z"
    }
   },
   "outputs": [
    {
     "name": "stderr",
     "output_type": "stream",
     "text": [
      "┌ Warning: extrapolate(itp, Linear()) is deprecated, use extrapolate(itp, Line()) instead\n",
      "│   caller = #LinearInterpolation#52 at convenience-constructors.jl:9 [inlined]\n",
      "└ @ Core /home/jaimerz/.julia/packages/Interpolations/3gTQB/src/convenience-constructors.jl:9\n",
      "┌ Warning: extrapolate(itp, Linear()) is deprecated, use extrapolate(itp, Line()) instead\n",
      "│   caller = #LinearInterpolation#51 at convenience-constructors.jl:7 [inlined]\n",
      "└ @ Core /home/jaimerz/.julia/packages/Interpolations/3gTQB/src/convenience-constructors.jl:7\n",
      "┌ Warning: extrapolate(itp, Linear()) is deprecated, use extrapolate(itp, Line()) instead\n",
      "│   caller = #LinearInterpolation#52 at convenience-constructors.jl:9 [inlined]\n",
      "└ @ Core /home/jaimerz/.julia/packages/Interpolations/3gTQB/src/convenience-constructors.jl:9\n"
     ]
    }
   ],
   "source": [
    "cosmoPar = CosmoPar(0.27, 0.049, 0.67, 0.96, 0.81)\n",
    "cosmo = Cosmology(cosmoPar);"
   ]
  },
  {
   "cell_type": "markdown",
   "id": "polyphonic-violin",
   "metadata": {},
   "source": [
    "# Data"
   ]
  },
  {
   "cell_type": "code",
   "execution_count": 4,
   "id": "several-direction",
   "metadata": {
    "ExecuteTime": {
     "end_time": "2021-11-11T15:04:37.209000Z",
     "start_time": "2021-11-11T15:03:56.694Z"
    },
    "scrolled": true
   },
   "outputs": [
    {
     "data": {
      "text/plain": [
       "7-element Array{Float64,1}:\n",
       " 1.31477844e-6\n",
       " 6.48418679e-7\n",
       " 3.79843276e-7\n",
       " 2.36573072e-7\n",
       " 1.62207584e-7\n",
       " 1.16943272e-7\n",
       " 8.86539366e-8"
      ]
     },
     "execution_count": 4,
     "metadata": {},
     "output_type": "execute_result"
    }
   ],
   "source": [
    "z_arr = [0. , 0.1, 0.2, 0.3, 0.4, 0.5, 0.6, 0.7, 0.8, 0.9,  1]\n",
    "b_arr = [2., 2., 2., 2., 2., 2., 2., 2., 2., 2., 2.]\n",
    "nz = [[0.0, 0.1, 0.2, 0.30000000000000004,\n",
    "       0.4, 0.5, 0.6000000000000001, 0.7000000000000001,\n",
    "       0.8, 0.9, 1.0],\n",
    "      [0.0, 0.09549150281252627, 0.3454915028125263,\n",
    "       0.6545084971874737, 0.9045084971874736, 1.0,\n",
    "       0.9045084971874736, 0.6545084971874737, 0.34549150281252644,\n",
    "       0.09549150281252634, 0]]\n",
    "clustering_t = [0.00000000e+00, 4.48526950e-05, 1.71324904e-04, 3.43709458e-04,\n",
    "        5.04105075e-04, 5.92283813e-04, 5.69713631e-04, 4.38454138e-04,\n",
    "        2.46077204e-04, 7.22670075e-05, 1.03428840e-10]\n",
    "lensing_t = [0.00000000e+00, 8.46720571e-06, 1.23677281e-05, 1.23488595e-05,\n",
    "        9.80438814e-06, 6.34013396e-06, 3.25773350e-06, 1.22774325e-06,\n",
    "        2.76337744e-07, 1.90522187e-08, 0.00000000e+00]\n",
    "CMBlensing_t = [0.00000000e+00, 1.11161519e-05, 2.29070311e-05, 3.51531866e-05,\n",
    "        4.76791214e-05, 6.03482340e-05, 7.30566167e-05, 8.57272238e-05,\n",
    "        9.83037415e-05, 1.10746285e-04, 1.23027399e-04];\n",
    "ell_arr = [ 31.5,  74. , 120. , 169.5, 223.5, 281.5, 344.];\n",
    "lensing_lensing_cl_t = [6.96479316e-09, 2.62291354e-09, 1.39551291e-09, 8.99582785e-10,\n",
    "       6.43044113e-10, 4.92082002e-10, 3.92524368e-10]\n",
    "clust_lensing_cl_t = [2.66277949e-07, 1.14529794e-07, 6.13494474e-08, 3.84973684e-08,\n",
    "       2.65390829e-08, 1.96776245e-08, 1.53408900e-08]\n",
    "clust_clust_cl_t = [2.22573773e-05, 1.08124919e-05, 6.17595003e-06, 3.83844129e-06,\n",
    "       2.61700894e-06, 1.88608858e-06, 1.43344030e-06]\n",
    "CMBk_CMBk_cl_t = [2.13619136e-07, 1.84110942e-07, 1.39760222e-07, 1.05266694e-07,\n",
    "       8.05684880e-08, 6.31640681e-08, 5.03579347e-08]\n",
    "CMBlensing_clust_cl_t = [1.31477844e-06, 6.48418679e-07, 3.79843276e-07, 2.36573072e-07,\n",
    "       1.62207584e-07, 1.16943272e-07, 8.86539366e-08]\n"
   ]
  },
  {
   "cell_type": "markdown",
   "id": "equivalent-bermuda",
   "metadata": {
    "ExecuteTime": {
     "end_time": "2021-11-11T09:42:45.826000Z",
     "start_time": "2021-11-11T09:42:18.218Z"
    },
    "heading_collapsed": true
   },
   "source": [
    "# Compare Tracers"
   ]
  },
  {
   "cell_type": "code",
   "execution_count": 5,
   "id": "structured-crack",
   "metadata": {
    "ExecuteTime": {
     "end_time": "2021-11-11T14:28:49.733000Z",
     "start_time": "2021-11-11T14:28:06.410Z"
    },
    "hidden": true
   },
   "outputs": [
    {
     "ename": "UndefVarError",
     "evalue": "\u001b[91mUndefVarError: clustering_kernel not defined\u001b[39m",
     "output_type": "error",
     "traceback": [
      "\u001b[91mUndefVarError: clustering_kernel not defined\u001b[39m",
      "",
      "Stacktrace:",
      " [1] top-level scope at In[5]:1"
     ]
    }
   ],
   "source": [
    "qg = clustering_kernel(cosmo, 2, nz)\n",
    "clustering_jl = [qg(z, 1) for z in z_arr]"
   ]
  },
  {
   "cell_type": "code",
   "execution_count": 6,
   "id": "turned-thermal",
   "metadata": {
    "ExecuteTime": {
     "end_time": "2021-11-11T14:28:49.734000Z",
     "start_time": "2021-11-11T14:28:06.650Z"
    },
    "hidden": true
   },
   "outputs": [
    {
     "ename": "UndefVarError",
     "evalue": "\u001b[91mUndefVarError: clustering_jl not defined\u001b[39m",
     "output_type": "error",
     "traceback": [
      "\u001b[91mUndefVarError: clustering_jl not defined\u001b[39m",
      "",
      "Stacktrace:",
      " [1] top-level scope at In[6]:1"
     ]
    }
   ],
   "source": [
    "clustering_jl./clustering_t"
   ]
  },
  {
   "cell_type": "code",
   "execution_count": 7,
   "id": "saved-tournament",
   "metadata": {
    "ExecuteTime": {
     "end_time": "2021-11-11T14:28:52.515000Z",
     "start_time": "2021-11-11T14:28:06.874Z"
    },
    "hidden": true
   },
   "outputs": [
    {
     "data": {
      "text/plain": [
       "11-element Array{Float64,1}:\n",
       " 0.0\n",
       " 7.1937899076368845e-6\n",
       " 1.0586957153248261e-5\n",
       " 1.0668050849629944e-5\n",
       " 8.569027877940084e-6\n",
       " 5.631462938389998e-6\n",
       " 2.9639288564379416e-6\n",
       " 1.1676961291062794e-6\n",
       " 2.947709260635293e-7\n",
       " 3.2248298952665044e-8\n",
       " 0.0"
      ]
     },
     "execution_count": 7,
     "metadata": {},
     "output_type": "execute_result"
    }
   ],
   "source": [
    "lensing_jl = [lensing_kernel(cosmo, z, nz) for z in z_arr]"
   ]
  },
  {
   "cell_type": "code",
   "execution_count": null,
   "id": "postal-seven",
   "metadata": {
    "ExecuteTime": {
     "start_time": "2021-11-11T11:52:04.319Z"
    },
    "hidden": true
   },
   "outputs": [],
   "source": [
    "lensing_jl./lensing_t"
   ]
  },
  {
   "cell_type": "code",
   "execution_count": null,
   "id": "popular-separate",
   "metadata": {
    "ExecuteTime": {
     "start_time": "2021-11-11T11:52:04.692Z"
    },
    "hidden": true
   },
   "outputs": [],
   "source": [
    "qCMBL = CMBlensing_kernel(cosmo)\n",
    "CMBlensing_jl = [qCMBL(z, 1) for z in z_arr]"
   ]
  },
  {
   "cell_type": "code",
   "execution_count": null,
   "id": "patent-reviewer",
   "metadata": {
    "ExecuteTime": {
     "start_time": "2021-11-11T11:52:05.206Z"
    },
    "hidden": true
   },
   "outputs": [],
   "source": [
    "CMBlensing_jl./CMBlensing_t"
   ]
  },
  {
   "cell_type": "code",
   "execution_count": null,
   "id": "fifteen-static",
   "metadata": {
    "ExecuteTime": {
     "start_time": "2021-11-11T11:52:05.888Z"
    },
    "hidden": true
   },
   "outputs": [],
   "source": [
    "CMBlensing_jl./CMBlensing_t"
   ]
  },
  {
   "cell_type": "markdown",
   "id": "widespread-dominican",
   "metadata": {},
   "source": [
    "# Compare Cls"
   ]
  },
  {
   "cell_type": "code",
   "execution_count": 5,
   "id": "copyrighted-jungle",
   "metadata": {
    "ExecuteTime": {
     "end_time": "2021-11-11T15:04:38.223000Z",
     "start_time": "2021-11-11T15:03:59.767Z"
    }
   },
   "outputs": [
    {
     "data": {
      "text/plain": [
       "qg (generic function with 1 method)"
      ]
     },
     "execution_count": 5,
     "metadata": {},
     "output_type": "execute_result"
    }
   ],
   "source": [
    "qgamma = shear_kernel(cosmo, nz)\n",
    "qk = convergence_kernel(cosmo, nz)\n",
    "qCMBk = CMBk_kernel(cosmo, 1100)\n",
    "qg = clustering_kernel(cosmo, 2, nz)"
   ]
  },
  {
   "cell_type": "code",
   "execution_count": 6,
   "id": "unnecessary-technical",
   "metadata": {
    "ExecuteTime": {
     "end_time": "2021-11-11T15:04:38.545000Z",
     "start_time": "2021-11-11T15:03:59.974Z"
    }
   },
   "outputs": [
    {
     "data": {
      "text/plain": [
       "0.0005508201348330815"
      ]
     },
     "execution_count": 6,
     "metadata": {},
     "output_type": "execute_result"
    }
   ],
   "source": [
    "CMBlensing_kernel(cosmo, 3, 1100)"
   ]
  },
  {
   "cell_type": "code",
   "execution_count": 7,
   "id": "finished-isaac",
   "metadata": {
    "ExecuteTime": {
     "end_time": "2021-11-11T15:04:40.025000Z",
     "start_time": "2021-11-11T15:04:00.151Z"
    }
   },
   "outputs": [
    {
     "data": {
      "text/plain": [
       "7-element Array{Float64,1}:\n",
       " 2.5645297877069334e-5\n",
       " 1.2045642353662797e-5\n",
       " 6.232113544864445e-6\n",
       " 3.555520313311439e-6\n",
       " 2.1668026986192548e-6\n",
       " 1.3956315676300789e-6\n",
       " 9.358623522576653e-7"
      ]
     },
     "execution_count": 7,
     "metadata": {},
     "output_type": "execute_result"
    }
   ],
   "source": [
    "clust_clust_cl_jl = Cl(cosmo, ell_arr, qg, qg)"
   ]
  },
  {
   "cell_type": "code",
   "execution_count": 8,
   "id": "cardiac-effects",
   "metadata": {
    "ExecuteTime": {
     "end_time": "2021-11-11T15:05:56.815000Z",
     "start_time": "2021-11-11T15:04:00.310Z"
    }
   },
   "outputs": [
    {
     "data": {
      "text/plain": [
       "7-element Array{Float64,1}:\n",
       " 6.155084546745092e-9\n",
       " 1.912189774068467e-9\n",
       " 8.27751707444321e-10\n",
       " 4.2712575152953113e-10\n",
       " 2.435239278464233e-10\n",
       " 1.4953090982051393e-10\n",
       " 9.665476688609746e-11"
      ]
     },
     "execution_count": 8,
     "metadata": {},
     "output_type": "execute_result"
    }
   ],
   "source": [
    "conv_conv_cl_jl = Cl(cosmo, ell_arr, qk, qk)"
   ]
  },
  {
   "cell_type": "code",
   "execution_count": 9,
   "id": "determined-shape",
   "metadata": {
    "ExecuteTime": {
     "end_time": "2021-11-11T15:07:12.854000Z",
     "start_time": "2021-11-11T15:04:00.487Z"
    }
   },
   "outputs": [
    {
     "data": {
      "text/plain": [
       "7-element Array{Float64,1}:\n",
       " 6.143059961549997e-9\n",
       " 1.911500696672405e-9\n",
       " 8.276376920576224e-10\n",
       " 4.2709619239829127e-10\n",
       " 2.435142210088435e-10\n",
       " 1.49527149160087e-10\n",
       " 9.6653138056187e-11"
      ]
     },
     "execution_count": 9,
     "metadata": {},
     "output_type": "execute_result"
    }
   ],
   "source": [
    "shear_shear_cl_jl = Cl(cosmo, ell_arr, qgamma, qgamma)"
   ]
  },
  {
   "cell_type": "code",
   "execution_count": 10,
   "id": "resident-sitting",
   "metadata": {
    "ExecuteTime": {
     "end_time": "2021-11-11T15:07:13.190000Z",
     "start_time": "2021-11-11T15:04:00.727Z"
    }
   },
   "outputs": [
    {
     "data": {
      "text/plain": [
       "7-element Array{Float64,1}:\n",
       " 0.04308114654964907\n",
       " 0.09641034548758436\n",
       " 0.1520264923958245\n",
       " 0.21004444686791438\n",
       " 0.2714805452443718\n",
       " 0.33549704497925237\n",
       " 0.4023272734256988"
      ]
     },
     "execution_count": 10,
     "metadata": {},
     "output_type": "execute_result"
    }
   ],
   "source": [
    "CMBk_CMBk_cl_jl = Cl(cosmo, ell_arr, qCMBk, qCMBk)"
   ]
  },
  {
   "cell_type": "code",
   "execution_count": 11,
   "id": "arranged-strategy",
   "metadata": {
    "ExecuteTime": {
     "end_time": "2021-11-11T15:07:13.230000Z",
     "start_time": "2021-11-11T15:04:01.030Z"
    }
   },
   "outputs": [
    {
     "data": {
      "text/plain": [
       "7-element Array{Float64,1}:\n",
       " 1.1522156241233927\n",
       " 1.1140486823081732\n",
       " 1.0090939069441347\n",
       " 0.9262927435087692\n",
       " 0.8279691618551578\n",
       " 0.739960775135004\n",
       " 0.6528784995494165"
      ]
     },
     "execution_count": 11,
     "metadata": {},
     "output_type": "execute_result"
    }
   ],
   "source": [
    "clust_clust_cl_jl./clust_clust_cl_t"
   ]
  },
  {
   "cell_type": "code",
   "execution_count": 12,
   "id": "offshore-patch",
   "metadata": {
    "ExecuteTime": {
     "end_time": "2021-11-11T15:07:13.231000Z",
     "start_time": "2021-11-11T15:04:01.223Z"
    }
   },
   "outputs": [
    {
     "data": {
      "text/plain": [
       "7-element Array{Float64,1}:\n",
       " 0.8837426188181434\n",
       " 0.729032713014424\n",
       " 0.5931523108907112\n",
       " 0.4748042744387679\n",
       " 0.37870485542633886\n",
       " 0.30387396655997573\n",
       " 0.2462388956348755"
      ]
     },
     "execution_count": 12,
     "metadata": {},
     "output_type": "execute_result"
    }
   ],
   "source": [
    "conv_conv_cl_jl./lensing_lensing_cl_t"
   ]
  },
  {
   "cell_type": "code",
   "execution_count": 13,
   "id": "sticky-samoa",
   "metadata": {
    "ExecuteTime": {
     "end_time": "2021-11-11T15:07:13.232000Z",
     "start_time": "2021-11-11T15:04:01.399Z"
    }
   },
   "outputs": [
    {
     "data": {
      "text/plain": [
       "7-element Array{Float64,1}:\n",
       " 0.8820161375115406\n",
       " 0.7287699985232472\n",
       " 0.5930706094704795\n",
       " 0.47477141572722653\n",
       " 0.37868976029152057\n",
       " 0.30386632421497706\n",
       " 0.2462347460073791"
      ]
     },
     "execution_count": 13,
     "metadata": {},
     "output_type": "execute_result"
    }
   ],
   "source": [
    "shear_shear_cl_jl./lensing_lensing_cl_t"
   ]
  },
  {
   "cell_type": "code",
   "execution_count": 14,
   "id": "fleet-cardiff",
   "metadata": {
    "ExecuteTime": {
     "end_time": "2021-11-11T15:07:13.233000Z",
     "start_time": "2021-11-11T15:04:01.575Z"
    }
   },
   "outputs": [
    {
     "data": {
      "text/plain": [
       "7-element Array{Float64,1}:\n",
       " 201672.6935439392\n",
       " 523653.5343324915\n",
       "      1.0877665348572822e6\n",
       "      1.9953552152774397e6\n",
       "      3.3695623684085e6\n",
       "      5.31151737168196e6\n",
       "      7.989352141276334e6"
      ]
     },
     "execution_count": 14,
     "metadata": {},
     "output_type": "execute_result"
    }
   ],
   "source": [
    "CMBk_CMBk_cl_jl./CMBk_CMBk_cl_t"
   ]
  },
  {
   "cell_type": "code",
   "execution_count": null,
   "id": "complete-background",
   "metadata": {},
   "outputs": [],
   "source": []
  },
  {
   "cell_type": "code",
   "execution_count": null,
   "id": "daily-clearance",
   "metadata": {},
   "outputs": [],
   "source": []
  }
 ],
 "metadata": {
  "kernelspec": {
   "display_name": "Julia 1.4.1",
   "language": "julia",
   "name": "julia-1.4"
  },
  "language_info": {
   "file_extension": ".jl",
   "mimetype": "application/julia",
   "name": "julia",
   "version": "1.4.1"
  }
 },
 "nbformat": 4,
 "nbformat_minor": 5
}
