{
 "cells": [
  {
   "cell_type": "markdown",
   "id": "compact-petroleum",
   "metadata": {},
   "source": [
    "# Imports"
   ]
  },
  {
   "cell_type": "code",
   "execution_count": 1,
   "id": "lined-laser",
   "metadata": {
    "ExecuteTime": {
     "end_time": "2021-11-18T12:52:18.515000Z",
     "start_time": "2021-11-18T12:52:03.456Z"
    }
   },
   "outputs": [],
   "source": [
    "using QuadGK\n",
    "using Interpolations\n",
    "using OrdinaryDiffEq"
   ]
  },
  {
   "cell_type": "code",
   "execution_count": 2,
   "id": "existing-distinction",
   "metadata": {
    "ExecuteTime": {
     "end_time": "2021-11-18T12:52:20.593000Z",
     "start_time": "2021-11-18T12:52:03.458Z"
    }
   },
   "outputs": [
    {
     "data": {
      "text/plain": [
       "angularCℓ (generic function with 1 method)"
      ]
     },
     "execution_count": 2,
     "metadata": {},
     "output_type": "execute_result"
    }
   ],
   "source": [
    "include(\"/home/jaimerz/PhD/LimberJack.jl/src/core.jl\")"
   ]
  },
  {
   "cell_type": "code",
   "execution_count": 3,
   "id": "victorian-wednesday",
   "metadata": {
    "ExecuteTime": {
     "end_time": "2021-11-18T12:52:31.270000Z",
     "start_time": "2021-11-18T12:52:03.459Z"
    }
   },
   "outputs": [
    {
     "name": "stderr",
     "output_type": "stream",
     "text": [
      "┌ Warning: extrapolate(itp, Linear()) is deprecated, use extrapolate(itp, Line()) instead\n",
      "│   caller = #LinearInterpolation#52 at convenience-constructors.jl:9 [inlined]\n",
      "└ @ Core /home/jaimerz/.julia/packages/Interpolations/3gTQB/src/convenience-constructors.jl:9\n",
      "┌ Warning: extrapolate(itp, Linear()) is deprecated, use extrapolate(itp, Line()) instead\n",
      "│   caller = #LinearInterpolation#51 at convenience-constructors.jl:7 [inlined]\n",
      "└ @ Core /home/jaimerz/.julia/packages/Interpolations/3gTQB/src/convenience-constructors.jl:7\n",
      "┌ Warning: extrapolate(itp, Linear()) is deprecated, use extrapolate(itp, Line()) instead\n",
      "│   caller = #LinearInterpolation#52 at convenience-constructors.jl:9 [inlined]\n",
      "└ @ Core /home/jaimerz/.julia/packages/Interpolations/3gTQB/src/convenience-constructors.jl:9\n"
     ]
    }
   ],
   "source": [
    "cosmoPar = CosmoPar(0.27, 0.049, 0.67, 0.96, 0.81)\n",
    "cosmo = Cosmology(cosmoPar);"
   ]
  },
  {
   "cell_type": "markdown",
   "id": "polyphonic-violin",
   "metadata": {},
   "source": [
    "# Data"
   ]
  },
  {
   "cell_type": "code",
   "execution_count": 4,
   "id": "several-direction",
   "metadata": {
    "ExecuteTime": {
     "end_time": "2021-11-18T12:52:31.943000Z",
     "start_time": "2021-11-18T12:52:03.460Z"
    },
    "scrolled": true
   },
   "outputs": [
    {
     "data": {
      "text/plain": [
       "7-element Array{Float64,1}:\n",
       " 1.31477844e-6\n",
       " 6.48418679e-7\n",
       " 3.79843276e-7\n",
       " 2.36573072e-7\n",
       " 1.62207584e-7\n",
       " 1.16943272e-7\n",
       " 8.86539366e-8"
      ]
     },
     "execution_count": 4,
     "metadata": {},
     "output_type": "execute_result"
    }
   ],
   "source": [
    "z_arr = [0. , 0.1, 0.2, 0.3, 0.4, 0.5, 0.6, 0.7, 0.8, 0.9,  1]\n",
    "b_arr = [2., 2., 2., 2., 2., 2., 2., 2., 2., 2., 2.]\n",
    "nz = [[0.0, 0.1, 0.2, 0.30000000000000004,\n",
    "       0.4, 0.5, 0.6000000000000001, 0.7000000000000001,\n",
    "       0.8, 0.9, 1.0],\n",
    "      [0.0, 0.09549150281252627, 0.3454915028125263,\n",
    "       0.6545084971874737, 0.9045084971874736, 1.0,\n",
    "       0.9045084971874736, 0.6545084971874737, 0.34549150281252644,\n",
    "       0.09549150281252634, 0]]\n",
    "clustering_t = [0.00000000e+00, 4.48526950e-05, 1.71324904e-04, 3.43709458e-04,\n",
    "        5.04105075e-04, 5.92283813e-04, 5.69713631e-04, 4.38454138e-04,\n",
    "        2.46077204e-04, 7.22670075e-05, 1.03428840e-10]\n",
    "lensing_t = [0.00000000e+00, 8.46720571e-06, 1.23677281e-05, 1.23488595e-05,\n",
    "        9.80438814e-06, 6.34013396e-06, 3.25773350e-06, 1.22774325e-06,\n",
    "        2.76337744e-07, 1.90522187e-08, 0.00000000e+00]\n",
    "CMBlensing_t = [0.00000000e+00, 1.11161519e-05, 2.29070311e-05, 3.51531866e-05,\n",
    "        4.76791214e-05, 6.03482340e-05, 7.30566167e-05, 8.57272238e-05,\n",
    "        9.83037415e-05, 1.10746285e-04, 1.23027399e-04];\n",
    "ell_arr = [ 31.5,  74. , 120. , 169.5, 223.5, 281.5, 344.];\n",
    "lensing_lensing_cl_t = [6.96479316e-09, 2.62291354e-09, 1.39551291e-09, 8.99582785e-10,\n",
    "       6.43044113e-10, 4.92082002e-10, 3.92524368e-10]\n",
    "clust_lensing_cl_t = [2.66277949e-07, 1.14529794e-07, 6.13494474e-08, 3.84973684e-08,\n",
    "       2.65390829e-08, 1.96776245e-08, 1.53408900e-08]\n",
    "clust_clust_cl_t = [2.22573773e-05, 1.08124919e-05, 6.17595003e-06, 3.83844129e-06,\n",
    "       2.61700894e-06, 1.88608858e-06, 1.43344030e-06]\n",
    "CMBk_CMBk_cl_t = [2.13619136e-07, 1.84110942e-07, 1.39760222e-07, 1.05266694e-07,\n",
    "       8.05684880e-08, 6.31640681e-08, 5.03579347e-08]\n",
    "CMBlensing_clust_cl_t = [1.31477844e-06, 6.48418679e-07, 3.79843276e-07, 2.36573072e-07,\n",
    "       1.62207584e-07, 1.16943272e-07, 8.86539366e-08]\n"
   ]
  },
  {
   "cell_type": "markdown",
   "id": "equivalent-bermuda",
   "metadata": {
    "ExecuteTime": {
     "end_time": "2021-11-11T09:42:45.826000Z",
     "start_time": "2021-11-11T09:42:18.218Z"
    }
   },
   "source": [
    "# Compare Tracers"
   ]
  },
  {
   "cell_type": "code",
   "execution_count": 5,
   "id": "associate-nelson",
   "metadata": {
    "ExecuteTime": {
     "end_time": "2021-11-18T12:52:32.370000Z",
     "start_time": "2021-11-18T12:52:03.461Z"
    }
   },
   "outputs": [],
   "source": [
    "pz = get_pz(nz);"
   ]
  },
  {
   "cell_type": "code",
   "execution_count": 6,
   "id": "described-harris",
   "metadata": {
    "ExecuteTime": {
     "end_time": "2021-11-18T12:52:33.494000Z",
     "start_time": "2021-11-18T12:52:03.461Z"
    }
   },
   "outputs": [
    {
     "ename": "MethodError",
     "evalue": "\u001b[91mMethodError: no method matching LinearInterpolation(::Interpolations.FilledExtrapolation{Float64,1,Interpolations.GriddedInterpolation{Float64,1,Float64,Gridded{Linear{Throw{OnGrid}}},Tuple{Array{Float64,1}}},Gridded{Linear{Throw{OnGrid}}},Int64}, ::Int64; extrapolation_bc=0)\u001b[39m\n\u001b[91m\u001b[0mClosest candidates are:\u001b[39m\n\u001b[91m\u001b[0m  LinearInterpolation(::AbstractArray{T,1} where T, \u001b[91m::AbstractArray{T,1} where T\u001b[39m; extrapolation_bc) at /home/jaimerz/.julia/packages/Interpolations/3gTQB/src/convenience-constructors.jl:9\u001b[39m",
     "output_type": "error",
     "traceback": [
      "\u001b[91mMethodError: no method matching LinearInterpolation(::Interpolations.FilledExtrapolation{Float64,1,Interpolations.GriddedInterpolation{Float64,1,Float64,Gridded{Linear{Throw{OnGrid}}},Tuple{Array{Float64,1}}},Gridded{Linear{Throw{OnGrid}}},Int64}, ::Int64; extrapolation_bc=0)\u001b[39m\n\u001b[91m\u001b[0mClosest candidates are:\u001b[39m\n\u001b[91m\u001b[0m  LinearInterpolation(::AbstractArray{T,1} where T, \u001b[91m::AbstractArray{T,1} where T\u001b[39m; extrapolation_bc) at /home/jaimerz/.julia/packages/Interpolations/3gTQB/src/convenience-constructors.jl:9\u001b[39m",
      "",
      "Stacktrace:",
      " [1] NumberCountsTracer(::Interpolations.FilledExtrapolation{Float64,1,Interpolations.GriddedInterpolation{Float64,1,Float64,Gridded{Linear{Throw{OnGrid}}},Tuple{Array{Float64,1}}},Gridded{Linear{Throw{OnGrid}}},Int64}, ::Int64, ::Float64) at /home/jaimerz/PhD/LimberJack.jl/src/core.jl:227",
      " [2] NumberCountsTracer(::Array{Float64,1}, ::Array{Float64,1}, ::Int64) at /home/jaimerz/PhD/LimberJack.jl/src/core.jl:229",
      " [3] top-level scope at In[6]:1"
     ]
    }
   ],
   "source": [
    "NC = NumberCountsTracer(nz[1], nz[2], 2)"
   ]
  },
  {
   "cell_type": "code",
   "execution_count": 7,
   "id": "structured-crack",
   "metadata": {
    "ExecuteTime": {
     "end_time": "2021-11-18T12:52:34.260000Z",
     "start_time": "2021-11-18T12:52:03.463Z"
    }
   },
   "outputs": [
    {
     "data": {
      "text/plain": [
       "11-element Array{Array{Float64,1},1}:\n",
       " [0.0]\n",
       " [8.909770650135775e-5]\n",
       " [0.0003378459382687228]\n",
       " [0.0006730393946546217]\n",
       " [0.0009806530052339985]\n",
       " [0.0011452530594967406]\n",
       " [0.0010956040239402866]\n",
       " [0.0008390634300406726]\n",
       " [0.00046887060833419056]\n",
       " [0.0001371674456204168]\n",
       " [0.0]"
      ]
     },
     "execution_count": 7,
     "metadata": {},
     "output_type": "execute_result"
    }
   ],
   "source": [
    "qg = clustering_kernel(cosmo, 2, nz)\n",
    "clustering_jl = [qg(z, 1) for z in z_arr]"
   ]
  },
  {
   "cell_type": "code",
   "execution_count": 8,
   "id": "danish-validity",
   "metadata": {
    "ExecuteTime": {
     "end_time": "2021-11-18T12:52:34.350000Z",
     "start_time": "2021-11-18T12:52:03.464Z"
    }
   },
   "outputs": [
    {
     "ename": "UndefVarError",
     "evalue": "\u001b[91mUndefVarError: NC not defined\u001b[39m",
     "output_type": "error",
     "traceback": [
      "\u001b[91mUndefVarError: NC not defined\u001b[39m",
      "",
      "Stacktrace:",
      " [1] top-level scope at In[8]:1"
     ]
    }
   ],
   "source": [
    "NC_t = [NC(z) for z in z_arr]"
   ]
  },
  {
   "cell_type": "code",
   "execution_count": 9,
   "id": "turned-thermal",
   "metadata": {
    "ExecuteTime": {
     "end_time": "2021-11-18T12:52:34.405000Z",
     "start_time": "2021-11-18T12:52:03.465Z"
    }
   },
   "outputs": [
    {
     "data": {
      "text/plain": [
       "11-element Array{Array{Float64,1},1}:\n",
       " [NaN]\n",
       " [1.9864515722267693]\n",
       " [1.971960470316229]\n",
       " [1.9581637309923012]\n",
       " [1.9453345222402263]\n",
       " [1.9336220817784542]\n",
       " [1.9230784807047854]\n",
       " [1.9136857365927575]\n",
       " [1.9053801031248332]\n",
       " [1.8980645576118094]\n",
       " [0.0]"
      ]
     },
     "execution_count": 9,
     "metadata": {},
     "output_type": "execute_result"
    }
   ],
   "source": [
    "clustering_jl./clustering_t"
   ]
  },
  {
   "cell_type": "code",
   "execution_count": 10,
   "id": "saved-tournament",
   "metadata": {
    "ExecuteTime": {
     "end_time": "2021-11-18T12:52:35.656000Z",
     "start_time": "2021-11-18T12:52:03.466Z"
    }
   },
   "outputs": [
    {
     "data": {
      "text/plain": [
       "11-element Array{Float64,1}:\n",
       " 0.0\n",
       " 7.193789890103526e-6\n",
       " 1.0586957127444778e-5\n",
       " 1.0668050823628814e-5\n",
       " 8.569027857054874e-6\n",
       " 5.631462924664495e-6\n",
       " 2.96392884921399e-6\n",
       " 1.167696126260265e-6\n",
       " 2.9477092534508695e-7\n",
       " 3.224829887406658e-8\n",
       " 0.0"
      ]
     },
     "execution_count": 10,
     "metadata": {},
     "output_type": "execute_result"
    }
   ],
   "source": [
    "lensing_jl = [lensing_kernel(cosmo, z, nz) for z in z_arr]"
   ]
  },
  {
   "cell_type": "code",
   "execution_count": 11,
   "id": "postal-seven",
   "metadata": {
    "ExecuteTime": {
     "end_time": "2021-11-18T12:52:35.705000Z",
     "start_time": "2021-11-18T12:52:03.467Z"
    }
   },
   "outputs": [
    {
     "data": {
      "text/plain": [
       "11-element Array{Float64,1}:\n",
       " NaN\n",
       "   0.8496061317616819\n",
       "   0.8560147055177239\n",
       "   0.8638895619169377\n",
       "   0.8739992475506865\n",
       "   0.888224595914452\n",
       "   0.9098131720148348\n",
       "   0.9510914649787445\n",
       "   1.0667052610268357\n",
       "   1.69262695236994\n",
       " NaN"
      ]
     },
     "execution_count": 11,
     "metadata": {},
     "output_type": "execute_result"
    }
   ],
   "source": [
    "lensing_jl./lensing_t"
   ]
  },
  {
   "cell_type": "code",
   "execution_count": 12,
   "id": "popular-separate",
   "metadata": {
    "ExecuteTime": {
     "end_time": "2021-11-18T12:52:35.732000Z",
     "start_time": "2021-11-18T12:52:03.468Z"
    }
   },
   "outputs": [
    {
     "ename": "MethodError",
     "evalue": "\u001b[91mMethodError: no method matching CMBlensing_kernel(::Cosmology)\u001b[39m\n\u001b[91m\u001b[0mClosest candidates are:\u001b[39m\n\u001b[91m\u001b[0m  CMBlensing_kernel(::Cosmology, \u001b[91m::Any\u001b[39m, \u001b[91m::Any\u001b[39m) at /home/jaimerz/PhD/LimberJack.jl/src/core.jl:182\u001b[39m",
     "output_type": "error",
     "traceback": [
      "\u001b[91mMethodError: no method matching CMBlensing_kernel(::Cosmology)\u001b[39m\n\u001b[91m\u001b[0mClosest candidates are:\u001b[39m\n\u001b[91m\u001b[0m  CMBlensing_kernel(::Cosmology, \u001b[91m::Any\u001b[39m, \u001b[91m::Any\u001b[39m) at /home/jaimerz/PhD/LimberJack.jl/src/core.jl:182\u001b[39m",
      "",
      "Stacktrace:",
      " [1] top-level scope at In[12]:1"
     ]
    }
   ],
   "source": [
    "qCMBL = CMBlensing_kernel(cosmo)\n",
    "CMBlensing_jl = [qCMBL(z, 1) for z in z_arr]"
   ]
  },
  {
   "cell_type": "code",
   "execution_count": 13,
   "id": "patent-reviewer",
   "metadata": {
    "ExecuteTime": {
     "end_time": "2021-11-18T12:52:35.733000Z",
     "start_time": "2021-11-18T12:52:03.470Z"
    }
   },
   "outputs": [
    {
     "ename": "UndefVarError",
     "evalue": "\u001b[91mUndefVarError: CMBlensing_jl not defined\u001b[39m",
     "output_type": "error",
     "traceback": [
      "\u001b[91mUndefVarError: CMBlensing_jl not defined\u001b[39m",
      "",
      "Stacktrace:",
      " [1] top-level scope at In[13]:1"
     ]
    }
   ],
   "source": [
    "CMBlensing_jl./CMBlensing_t"
   ]
  },
  {
   "cell_type": "code",
   "execution_count": 14,
   "id": "fifteen-static",
   "metadata": {
    "ExecuteTime": {
     "end_time": "2021-11-18T12:52:35.734000Z",
     "start_time": "2021-11-18T12:52:03.471Z"
    }
   },
   "outputs": [
    {
     "ename": "UndefVarError",
     "evalue": "\u001b[91mUndefVarError: CMBlensing_jl not defined\u001b[39m",
     "output_type": "error",
     "traceback": [
      "\u001b[91mUndefVarError: CMBlensing_jl not defined\u001b[39m",
      "",
      "Stacktrace:",
      " [1] top-level scope at In[14]:1"
     ]
    }
   ],
   "source": [
    "CMBlensing_jl./CMBlensing_t"
   ]
  },
  {
   "cell_type": "markdown",
   "id": "widespread-dominican",
   "metadata": {},
   "source": [
    "# Compare Cls"
   ]
  },
  {
   "cell_type": "code",
   "execution_count": 15,
   "id": "copyrighted-jungle",
   "metadata": {
    "ExecuteTime": {
     "end_time": "2021-11-18T12:52:35.817000Z",
     "start_time": "2021-11-18T12:52:03.472Z"
    }
   },
   "outputs": [
    {
     "data": {
      "text/plain": [
       "qg (generic function with 1 method)"
      ]
     },
     "execution_count": 15,
     "metadata": {},
     "output_type": "execute_result"
    }
   ],
   "source": [
    "qgamma = shear_kernel(cosmo, nz)\n",
    "qk = convergence_kernel(cosmo, nz)\n",
    "qCMBk = CMBk_kernel(cosmo, 1100)\n",
    "qg = clustering_kernel(cosmo, 2, nz)"
   ]
  },
  {
   "cell_type": "code",
   "execution_count": 16,
   "id": "unnecessary-technical",
   "metadata": {
    "ExecuteTime": {
     "end_time": "2021-11-18T12:52:36.100000Z",
     "start_time": "2021-11-18T12:52:03.474Z"
    }
   },
   "outputs": [
    {
     "data": {
      "text/plain": [
       "0.0005508201348330815"
      ]
     },
     "execution_count": 16,
     "metadata": {},
     "output_type": "execute_result"
    }
   ],
   "source": [
    "CMBlensing_kernel(cosmo, 3, 1100)"
   ]
  },
  {
   "cell_type": "code",
   "execution_count": 17,
   "id": "finished-isaac",
   "metadata": {
    "ExecuteTime": {
     "end_time": "2021-11-18T12:52:37.253000Z",
     "start_time": "2021-11-18T12:52:03.475Z"
    }
   },
   "outputs": [
    {
     "data": {
      "text/plain": [
       "7-element Array{Float64,1}:\n",
       " 2.564529775205927e-5\n",
       " 1.2045642294945372e-5\n",
       " 6.232113514485507e-6\n",
       " 3.555520295979774e-6\n",
       " 2.1668026880569987e-6\n",
       " 1.3956315608269605e-6\n",
       " 9.358623476957292e-7"
      ]
     },
     "execution_count": 17,
     "metadata": {},
     "output_type": "execute_result"
    }
   ],
   "source": [
    "clust_clust_cl_jl = Cl(cosmo, ell_arr, qg, qg)"
   ]
  },
  {
   "cell_type": "code",
   "execution_count": null,
   "id": "cardiac-effects",
   "metadata": {
    "ExecuteTime": {
     "start_time": "2021-11-18T12:52:03.476Z"
    }
   },
   "outputs": [],
   "source": [
    "conv_conv_cl_jl = Cl(cosmo, ell_arr, qk, qk)"
   ]
  },
  {
   "cell_type": "code",
   "execution_count": null,
   "id": "determined-shape",
   "metadata": {
    "ExecuteTime": {
     "start_time": "2021-11-18T12:52:03.476Z"
    }
   },
   "outputs": [],
   "source": [
    "shear_shear_cl_jl = Cl(cosmo, ell_arr, qgamma, qgamma)"
   ]
  },
  {
   "cell_type": "code",
   "execution_count": null,
   "id": "resident-sitting",
   "metadata": {
    "ExecuteTime": {
     "start_time": "2021-11-18T12:52:03.477Z"
    }
   },
   "outputs": [],
   "source": [
    "CMBk_CMBk_cl_jl = Cl(cosmo, ell_arr, qCMBk, qCMBk)"
   ]
  },
  {
   "cell_type": "code",
   "execution_count": null,
   "id": "arranged-strategy",
   "metadata": {
    "ExecuteTime": {
     "start_time": "2021-11-18T12:52:03.478Z"
    }
   },
   "outputs": [],
   "source": [
    "clust_clust_cl_jl./clust_clust_cl_t"
   ]
  },
  {
   "cell_type": "code",
   "execution_count": null,
   "id": "offshore-patch",
   "metadata": {
    "ExecuteTime": {
     "start_time": "2021-11-18T12:52:03.479Z"
    }
   },
   "outputs": [],
   "source": [
    "conv_conv_cl_jl./lensing_lensing_cl_t"
   ]
  },
  {
   "cell_type": "code",
   "execution_count": null,
   "id": "sticky-samoa",
   "metadata": {
    "ExecuteTime": {
     "start_time": "2021-11-18T12:52:03.480Z"
    }
   },
   "outputs": [],
   "source": [
    "shear_shear_cl_jl./lensing_lensing_cl_t"
   ]
  },
  {
   "cell_type": "code",
   "execution_count": null,
   "id": "fleet-cardiff",
   "metadata": {
    "ExecuteTime": {
     "start_time": "2021-11-18T12:52:03.481Z"
    }
   },
   "outputs": [],
   "source": [
    "CMBk_CMBk_cl_jl./CMBk_CMBk_cl_t"
   ]
  },
  {
   "cell_type": "code",
   "execution_count": null,
   "id": "complete-background",
   "metadata": {},
   "outputs": [],
   "source": []
  },
  {
   "cell_type": "code",
   "execution_count": null,
   "id": "daily-clearance",
   "metadata": {},
   "outputs": [],
   "source": []
  }
 ],
 "metadata": {
  "kernelspec": {
   "display_name": "Julia 1.4.1",
   "language": "julia",
   "name": "julia-1.4"
  },
  "language_info": {
   "file_extension": ".jl",
   "mimetype": "application/julia",
   "name": "julia",
   "version": "1.4.1"
  }
 },
 "nbformat": 4,
 "nbformat_minor": 5
}
