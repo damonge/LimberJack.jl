{
 "cells": [
  {
   "cell_type": "code",
   "execution_count": 2,
   "id": "activated-islam",
   "metadata": {
    "ExecuteTime": {
     "end_time": "2021-11-11T09:42:16.595000Z",
     "start_time": "2021-11-11T09:42:16.507Z"
    }
   },
   "outputs": [],
   "source": [
    "#using Pkg\n",
    "#Pkg.instantiate()\n",
    "#Pkg.precompile()"
   ]
  },
  {
   "cell_type": "code",
   "execution_count": 3,
   "id": "lined-laser",
   "metadata": {
    "ExecuteTime": {
     "end_time": "2021-11-11T09:42:32.050000Z",
     "start_time": "2021-11-11T09:42:16.698Z"
    }
   },
   "outputs": [],
   "source": [
    "using QuadGK\n",
    "using Interpolations\n",
    "using OrdinaryDiffEq"
   ]
  },
  {
   "cell_type": "code",
   "execution_count": 4,
   "id": "existing-distinction",
   "metadata": {
    "ExecuteTime": {
     "end_time": "2021-11-11T09:42:33.973000Z",
     "start_time": "2021-11-11T09:42:16.905Z"
    }
   },
   "outputs": [
    {
     "data": {
      "text/plain": [
       "Cl (generic function with 1 method)"
      ]
     },
     "execution_count": 4,
     "metadata": {},
     "output_type": "execute_result"
    }
   ],
   "source": [
    "include(\"/home/jaimerz/PhD/LimberJack.jl/src/core.jl\")"
   ]
  },
  {
   "cell_type": "code",
   "execution_count": 5,
   "id": "victorian-wednesday",
   "metadata": {
    "ExecuteTime": {
     "end_time": "2021-11-11T09:42:44.507000Z",
     "start_time": "2021-11-11T09:42:17.114Z"
    }
   },
   "outputs": [
    {
     "name": "stderr",
     "output_type": "stream",
     "text": [
      "┌ Warning: extrapolate(itp, Linear()) is deprecated, use extrapolate(itp, Line()) instead\n",
      "│   caller = #LinearInterpolation#52 at convenience-constructors.jl:9 [inlined]\n",
      "└ @ Core /home/jaimerz/.julia/packages/Interpolations/3gTQB/src/convenience-constructors.jl:9\n",
      "┌ Warning: extrapolate(itp, Linear()) is deprecated, use extrapolate(itp, Line()) instead\n",
      "│   caller = #LinearInterpolation#51 at convenience-constructors.jl:7 [inlined]\n",
      "└ @ Core /home/jaimerz/.julia/packages/Interpolations/3gTQB/src/convenience-constructors.jl:7\n",
      "┌ Warning: extrapolate(itp, Linear()) is deprecated, use extrapolate(itp, Line()) instead\n",
      "│   caller = #LinearInterpolation#52 at convenience-constructors.jl:9 [inlined]\n",
      "└ @ Core /home/jaimerz/.julia/packages/Interpolations/3gTQB/src/convenience-constructors.jl:9\n"
     ]
    }
   ],
   "source": [
    "cosmoPar = CosmoPar(0.27, 0.049, 0.67, 0.96, 0.81)\n",
    "cosmo = Cosmology(cosmoPar);"
   ]
  },
  {
   "cell_type": "code",
   "execution_count": 6,
   "id": "several-direction",
   "metadata": {
    "ExecuteTime": {
     "end_time": "2021-11-11T09:42:44.595000Z",
     "start_time": "2021-11-11T09:42:17.321Z"
    },
    "scrolled": true
   },
   "outputs": [],
   "source": [
    "z_arr = [0. , 0.1, 0.2, 0.3, 0.4, 0.5, 0.6, 0.7, 0.8, 0.9,  1]\n",
    "b_arr = [2., 2., 2., 2., 2., 2., 2., 2., 2., 2., 2.]\n",
    "nz = [[0.0, 0.1, 0.2, 0.30000000000000004,\n",
    "       0.4, 0.5, 0.6000000000000001, 0.7000000000000001,\n",
    "       0.8, 0.9, 1.0],\n",
    "      [0.0, 0.09549150281252627, 0.3454915028125263,\n",
    "       0.6545084971874737, 0.9045084971874736, 1.0,\n",
    "       0.9045084971874736, 0.6545084971874737, 0.34549150281252644,\n",
    "       0.09549150281252634, 0]]\n",
    "clustering_t = [0.00000000e+00, 4.48526950e-05, 1.71324904e-04, 3.43709458e-04,\n",
    "        5.04105075e-04, 5.92283813e-04, 5.69713631e-04, 4.38454138e-04,\n",
    "        2.46077204e-04, 7.22670075e-05, 1.03428840e-10]\n",
    "lensing_t = [0.00000000e+00, 8.46720571e-06, 1.23677281e-05, 1.23488595e-05,\n",
    "        9.80438814e-06, 6.34013396e-06, 3.25773350e-06, 1.22774325e-06,\n",
    "        2.76337744e-07, 1.90522187e-08, 0.00000000e+00]\n",
    "CMBlensing_t = [0.00000000e+00, 1.11161519e-05, 2.29070311e-05, 3.51531866e-05,\n",
    "        4.76791214e-05, 6.03482340e-05, 7.30566167e-05, 8.57272238e-05,\n",
    "        9.83037415e-05, 1.10746285e-04, 1.23027399e-04];"
   ]
  },
  {
   "cell_type": "code",
   "execution_count": 7,
   "id": "smart-spoke",
   "metadata": {
    "ExecuteTime": {
     "end_time": "2021-11-11T09:42:45.825000Z",
     "start_time": "2021-11-11T09:42:17.754Z"
    }
   },
   "outputs": [
    {
     "data": {
      "text/plain": [
       "0.24098300621239804"
      ]
     },
     "execution_count": 7,
     "metadata": {},
     "output_type": "execute_result"
    }
   ],
   "source": [
    "pz = get_pz(nz)\n",
    "pz(0.11)"
   ]
  },
  {
   "cell_type": "code",
   "execution_count": 8,
   "id": "narrative-medline",
   "metadata": {
    "ExecuteTime": {
     "end_time": "2021-11-11T09:42:45.826000Z",
     "start_time": "2021-11-11T09:42:18.218Z"
    }
   },
   "outputs": [
    {
     "data": {
      "text/plain": [
       "0.24098300621239804"
      ]
     },
     "execution_count": 8,
     "metadata": {},
     "output_type": "execute_result"
    }
   ],
   "source": [
    "pz(0.11)"
   ]
  },
  {
   "cell_type": "code",
   "execution_count": 9,
   "id": "structured-crack",
   "metadata": {
    "ExecuteTime": {
     "end_time": "2021-11-11T09:42:46.733000Z",
     "start_time": "2021-11-11T09:42:18.474Z"
    }
   },
   "outputs": [
    {
     "data": {
      "text/plain": [
       "11-element Array{Array{Float64,1},1}:\n",
       " [0.0]\n",
       " [8.909770671851469e-5]\n",
       " [0.00033784593909215135]\n",
       " [0.0006730393962950139]\n",
       " [0.0009806530076241343]\n",
       " [0.0011452530622880544]\n",
       " [0.0010956040266105916]\n",
       " [0.0008390634320857134]\n",
       " [0.00046887060947696426]\n",
       " [0.00013716744595473364]\n",
       " [0.0]"
      ]
     },
     "execution_count": 9,
     "metadata": {},
     "output_type": "execute_result"
    }
   ],
   "source": [
    "qg = clustering_kernel(cosmo, 2, nz)\n",
    "clustering_jl = [qg(z, 1) for z in z_arr]"
   ]
  },
  {
   "cell_type": "code",
   "execution_count": 10,
   "id": "turned-thermal",
   "metadata": {
    "ExecuteTime": {
     "end_time": "2021-11-11T09:42:46.791000Z",
     "start_time": "2021-11-11T09:42:18.746Z"
    }
   },
   "outputs": [
    {
     "data": {
      "text/plain": [
       "11-element Array{Array{Float64,1},1}:\n",
       " [NaN]\n",
       " [1.9864515770683275]\n",
       " [1.9719604751224686]\n",
       " [1.9581637357649142]\n",
       " [1.9453345269815707]\n",
       " [1.933622086491252]\n",
       " [1.9230784853918856]\n",
       " [1.9136857412569643]\n",
       " [1.9053801077687973]\n",
       " [1.8980645622379428]\n",
       " [0.0]"
      ]
     },
     "execution_count": 10,
     "metadata": {},
     "output_type": "execute_result"
    }
   ],
   "source": [
    "clustering_jl./clustering_t"
   ]
  },
  {
   "cell_type": "code",
   "execution_count": 11,
   "id": "saved-tournament",
   "metadata": {
    "ExecuteTime": {
     "end_time": "2021-11-11T09:42:48.839000Z",
     "start_time": "2021-11-11T09:42:19.098Z"
    }
   },
   "outputs": [
    {
     "data": {
      "text/plain": [
       "11-element Array{Float64,1}:\n",
       " 0.0\n",
       " 7.1937899076368845e-6\n",
       " 1.0586957153248261e-5\n",
       " 1.0668050849629944e-5\n",
       " 8.569027877940084e-6\n",
       " 5.631462938389998e-6\n",
       " 2.9639288564379416e-6\n",
       " 1.1676961291062794e-6\n",
       " 2.947709260635293e-7\n",
       " 3.2248298952665044e-8\n",
       " 0.0"
      ]
     },
     "execution_count": 11,
     "metadata": {},
     "output_type": "execute_result"
    }
   ],
   "source": [
    "lensing_jl = [lensing_kernel(cosmo, z, nz) for z in z_arr]"
   ]
  },
  {
   "cell_type": "code",
   "execution_count": 12,
   "id": "postal-seven",
   "metadata": {
    "ExecuteTime": {
     "end_time": "2021-11-11T09:42:48.887000Z",
     "start_time": "2021-11-11T09:42:19.337Z"
    }
   },
   "outputs": [
    {
     "data": {
      "text/plain": [
       "11-element Array{Float64,1}:\n",
       " NaN\n",
       "   0.8496061338324192\n",
       "   0.8560147076040798\n",
       "   0.8638895640224867\n",
       "   0.8739992496808765\n",
       "   0.8882245980793122\n",
       "   0.9098131742323126\n",
       "   0.9510914672968305\n",
       "   1.0667052636267063\n",
       "   1.692626956495363\n",
       " NaN"
      ]
     },
     "execution_count": 12,
     "metadata": {},
     "output_type": "execute_result"
    }
   ],
   "source": [
    "lensing_jl./lensing_t"
   ]
  },
  {
   "cell_type": "code",
   "execution_count": 13,
   "id": "popular-separate",
   "metadata": {
    "ExecuteTime": {
     "end_time": "2021-11-11T09:42:48.986000Z",
     "start_time": "2021-11-11T09:42:19.626Z"
    }
   },
   "outputs": [
    {
     "data": {
      "text/plain": [
       "11-element Array{Float64,1}:\n",
       " 0.0\n",
       " 9.74556879098948e-6\n",
       " 2.0790285828252183e-5\n",
       " 3.299630065572857e-5\n",
       " 4.624056149130983e-5\n",
       " 6.040342348446177e-5\n",
       " 7.538477899374835e-5\n",
       " 9.108846896932182e-5\n",
       " 0.00010743808478098922\n",
       " 0.0001243594093339025\n",
       " 0.0001417960411746628"
      ]
     },
     "execution_count": 13,
     "metadata": {},
     "output_type": "execute_result"
    }
   ],
   "source": [
    "qCMBL = CMBlensing_kernel(cosmo)\n",
    "CMBlensing_jl = [qCMBL(z, 1) for z in z_arr]"
   ]
  },
  {
   "cell_type": "code",
   "execution_count": 14,
   "id": "patent-reviewer",
   "metadata": {
    "ExecuteTime": {
     "end_time": "2021-11-11T09:42:48.987000Z",
     "start_time": "2021-11-11T09:42:19.993Z"
    }
   },
   "outputs": [
    {
     "data": {
      "text/plain": [
       "11-element Array{Float64,1}:\n",
       " NaN\n",
       "   0.8767034562553503\n",
       "   0.9075940805027406\n",
       "   0.938643231158127\n",
       "   0.9698283050012292\n",
       "   1.0009145169759528\n",
       "   1.0318679183202355\n",
       "   1.0625384204885662\n",
       "   1.09291958924055\n",
       "   1.1229217244975982\n",
       "   1.1525566038721407"
      ]
     },
     "execution_count": 14,
     "metadata": {},
     "output_type": "execute_result"
    }
   ],
   "source": [
    "CMBlensing_jl./CMBlensing_t"
   ]
  },
  {
   "cell_type": "code",
   "execution_count": 15,
   "id": "fifteen-static",
   "metadata": {
    "ExecuteTime": {
     "end_time": "2021-11-11T09:42:48.988000Z",
     "start_time": "2021-11-11T09:42:20.489Z"
    }
   },
   "outputs": [
    {
     "data": {
      "text/plain": [
       "11-element Array{Float64,1}:\n",
       " NaN\n",
       "   0.8767034562553503\n",
       "   0.9075940805027406\n",
       "   0.938643231158127\n",
       "   0.9698283050012292\n",
       "   1.0009145169759528\n",
       "   1.0318679183202355\n",
       "   1.0625384204885662\n",
       "   1.09291958924055\n",
       "   1.1229217244975982\n",
       "   1.1525566038721407"
      ]
     },
     "execution_count": 15,
     "metadata": {},
     "output_type": "execute_result"
    }
   ],
   "source": [
    "CMBlensing_jl./CMBlensing_t"
   ]
  },
  {
   "cell_type": "code",
   "execution_count": 16,
   "id": "copyrighted-jungle",
   "metadata": {
    "ExecuteTime": {
     "end_time": "2021-11-11T09:42:49.224000Z",
     "start_time": "2021-11-11T09:42:21.177Z"
    }
   },
   "outputs": [
    {
     "data": {
      "text/plain": [
       "2-element Array{Float64,1}:\n",
       " 0.0\n",
       " 0.0"
      ]
     },
     "execution_count": 16,
     "metadata": {},
     "output_type": "execute_result"
    }
   ],
   "source": [
    "qgamma = shear_kernel(cosmo, nz)\n",
    "qgamma(1, [3, 5])"
   ]
  },
  {
   "cell_type": "code",
   "execution_count": 17,
   "id": "environmental-separate",
   "metadata": {
    "ExecuteTime": {
     "end_time": "2021-11-11T09:42:49.337000Z",
     "start_time": "2021-11-11T09:42:44.361Z"
    }
   },
   "outputs": [
    {
     "data": {
      "text/plain": [
       "2-element Array{Float64,1}:\n",
       " 0.0\n",
       " 0.0"
      ]
     },
     "execution_count": 17,
     "metadata": {},
     "output_type": "execute_result"
    }
   ],
   "source": [
    "qk = convergence_kernel(cosmo, nz)\n",
    "qk(1, [3, 5])"
   ]
  },
  {
   "cell_type": "code",
   "execution_count": 18,
   "id": "finished-isaac",
   "metadata": {
    "ExecuteTime": {
     "end_time": "2021-11-11T09:44:00.097000Z",
     "start_time": "2021-11-11T09:43:19.003Z"
    }
   },
   "outputs": [
    {
     "data": {
      "text/plain": [
       "2-element Array{Float64,1}:\n",
       " 9.25575350310439e-13\n",
       " 1.2692153166813881e-12"
      ]
     },
     "execution_count": 18,
     "metadata": {},
     "output_type": "execute_result"
    }
   ],
   "source": [
    "Cl(cosmo, [1, 2], qg, qk)"
   ]
  },
  {
   "cell_type": "code",
   "execution_count": null,
   "id": "polyphonic-superintendent",
   "metadata": {},
   "outputs": [],
   "source": []
  }
 ],
 "metadata": {
  "kernelspec": {
   "display_name": "Julia 1.4.1",
   "language": "julia",
   "name": "julia-1.4"
  },
  "language_info": {
   "file_extension": ".jl",
   "mimetype": "application/julia",
   "name": "julia",
   "version": "1.4.1"
  }
 },
 "nbformat": 4,
 "nbformat_minor": 5
}
