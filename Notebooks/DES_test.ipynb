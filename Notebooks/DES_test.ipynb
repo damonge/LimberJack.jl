{
 "cells": [
  {
   "cell_type": "code",
   "execution_count": 1,
   "id": "02df9ee7",
   "metadata": {},
   "outputs": [],
   "source": [
    "using Turing\n",
    "using LimberJack\n",
    "using CSV\n",
    "using NPZ\n",
    "using Plots\n",
    "using FITSIO\n",
    "using Plots\n",
    "using LinearAlgebra\n",
    "using Distributed\n",
    "using StatsPlots\n",
    "using Optim\n",
    "using ForwardDiff\n",
    "using BenchmarkTools"
   ]
  },
  {
   "cell_type": "code",
   "execution_count": 2,
   "id": "a74170be",
   "metadata": {},
   "outputs": [
    {
     "data": {
      "text/plain": [
       "cls_meta{Vector{Vector{Int64}}}([[1, 0], [1, 1], [1, 2], [1, 3], [1, 4], [2, 0], [2, 1], [2, 2], [2, 3]], [[1, 0, 1, 0], [1, 1, 1, 1], [1, 2, 1, 2], [1, 3, 1, 3], [1, 4, 1, 4], [1, 0, 2, 0], [1, 0, 2, 1], [1, 0, 2, 2], [1, 0, 2, 3], [1, 1, 2, 0]  …  [2, 0, 2, 0], [2, 0, 2, 1], [2, 0, 2, 2], [2, 0, 2, 3], [2, 1, 2, 1], [2, 1, 2, 2], [2, 1, 2, 3], [2, 2, 2, 2], [2, 2, 2, 3], [2, 3, 2, 3]], [[1, 1], [2, 2], [3, 3], [4, 4], [5, 5], [1, 6], [1, 7], [1, 8], [1, 9], [2, 6]  …  [6, 6], [6, 7], [6, 8], [6, 9], [7, 7], [7, 8], [7, 9], [8, 8], [8, 9], [9, 9]])"
      ]
     },
     "execution_count": 2,
     "metadata": {},
     "output_type": "execute_result"
    }
   ],
   "source": [
    "files = npzread(\"../data/DESY1_cls/Cls_meta.npz\")\n",
    "Cls_meta = cls_meta(files)"
   ]
  },
  {
   "cell_type": "code",
   "execution_count": 3,
   "id": "3a7469ed",
   "metadata": {},
   "outputs": [],
   "source": [
    "cov_tot = files[\"cov\"]\n",
    "inv_cov_tot = files[\"inv_cov\"]\n",
    "data_vector = files[\"cls\"];"
   ]
  },
  {
   "cell_type": "code",
   "execution_count": 4,
   "id": "57fb0a36",
   "metadata": {},
   "outputs": [],
   "source": [
    "#                Omega_b,           Omega_c          n_s,                 h,\n",
    "#                DESgc__0_gc_b,     DESgc__1_gc_b,   DESgc__2_gc_b,    DESgc__3_gc_b,    DESgc__4_gc_b,\n",
    "#                DESgc__0_dz,      DESgc__1_dz,      DESgc__2_dz,      DESgc__3_dz,      DESgc__4_dz,\n",
    "#                wl_ia_A,          wl_ia_eta, \n",
    "#                DESwl__0_wl_m,    DESwl__1_wl_m,    DESwl__2_wl_m,    DESwl__3_wl_m,\n",
    "#                DESwl__0_dz,      DESwl__1_dz,      DESwl__2_dz,      DESwl__3_dz,\n",
    "#                sigma_8,          Omega_m\n",
    "carlos_params1 = [4.426868e-02,     2.093138e-01,     8.963611e-01,     8.495440e-01,\n",
    "                 1.343888e+00,    1.639047e+00,      1.597174e+00,     1.944583e+00,     2.007245e+00,\n",
    "                -4.679383e-03,   -2.839996e-03,      1.771571e-03,     1.197051e-03,    -5.199799e-03,\n",
    "                 2.389208e-01,   -6.435288e-01, \n",
    "                 1.802722e-03,   -5.508994e-03,     1.952514e-02,    -1.117726e-03,\n",
    "                -1.744083e-02,    6.777779e-03,    -1.097939e-03,    -4.912315e-03,\n",
    "                 8.536883e-01,    2.535825e-01];"
   ]
  },
  {
   "cell_type": "code",
   "execution_count": 5,
   "id": "7d1a182c",
   "metadata": {},
   "outputs": [],
   "source": [
    "cls_carlos = npzread(\"/home/jaime/PhD/LimberJack.jl/chains/cl_cross_corr_v3_DES_2/cl_cross_corr_bestfit_info.npz\");"
   ]
  },
  {
   "cell_type": "code",
   "execution_count": 6,
   "id": "417c990f",
   "metadata": {},
   "outputs": [],
   "source": [
    "pars = carlos_params1\n",
    "nuisances = Dict(\"b0\" => pars[5],\n",
    "                 \"b1\" => pars[6],\n",
    "                 \"b2\" => pars[7],\n",
    "                 \"b3\" => pars[8],\n",
    "                 \"b4\" => pars[9],\n",
    "                 \"dz_g0\" => pars[10],\n",
    "                 \"dz_g1\" => pars[11],\n",
    "                 \"dz_g2\" => pars[12],\n",
    "                 \"dz_g3\" => pars[13],\n",
    "                 \"dz_g4\" => pars[14],\n",
    "                 \"dz_k0\" => pars[21],\n",
    "                 \"dz_k1\" => pars[22],\n",
    "                 \"dz_k2\" => pars[23],\n",
    "                 \"dz_k3\" => pars[24],\n",
    "                 \"m0\" => pars[17],\n",
    "                 \"m1\" => pars[18],\n",
    "                 \"m2\" => pars[19],\n",
    "                 \"m3\" => pars[20],\n",
    "                 \"A_IA\" => pars[15],\n",
    "                 \"alpha_IA\" => pars[16]);"
   ]
  },
  {
   "cell_type": "code",
   "execution_count": 41,
   "id": "81b7ac69",
   "metadata": {},
   "outputs": [
    {
     "data": {
      "text/plain": [
       "make_cls (generic function with 1 method)"
      ]
     },
     "execution_count": 41,
     "metadata": {},
     "output_type": "execute_result"
    }
   ],
   "source": [
    "function make_cls(pars; mode=\"linear\")\n",
    "    nuisances = Dict(\"b0\" => pars[5],\n",
    "                     \"b1\" => pars[6],\n",
    "                     \"b2\" => pars[7],\n",
    "                     \"b3\" => pars[8],\n",
    "                     \"b4\" => pars[9],\n",
    "                     \"dz_g0\" => pars[10],\n",
    "                     \"dz_g1\" => pars[11],\n",
    "                     \"dz_g2\" => pars[12],\n",
    "                     \"dz_g3\" => pars[13],\n",
    "                     \"dz_g4\" => pars[14],\n",
    "                     \"dz_k0\" => pars[21],\n",
    "                     \"dz_k1\" => pars[22],\n",
    "                     \"dz_k2\" => pars[23],\n",
    "                     \"dz_k3\" => pars[24],\n",
    "                     \"m0\" => pars[17],\n",
    "                     \"m1\" => pars[18],\n",
    "                     \"m2\" => pars[19],\n",
    "                     \"m3\" => pars[20],\n",
    "                     \"A_IA\" => pars[15],\n",
    "                     \"alpha_IA\" => pars[16])\n",
    "\n",
    "    Ωm = pars[26]\n",
    "    Ωb = pars[1]\n",
    "    h = pars[4]\n",
    "    ns = pars[3]\n",
    "    s8 = pars[25]\n",
    "    cosmology = LimberJack.Cosmology(Ωm, Ωb, h, ns, s8, tk_mode=\"EisHu\", Pk_mode=\"Halofit\")\n",
    "    \n",
    "    if mode==\"linear\"\n",
    "        cls = vcat(Theory(cosmology, nuisances, Cls_meta, files)...)\n",
    "    else\n",
    "        cls = vcat(Theory_parallel(cosmology, nuisances, Cls_meta, files)...)\n",
    "    end\n",
    "    \n",
    "    return cls\n",
    "end"
   ]
  },
  {
   "cell_type": "code",
   "execution_count": 42,
   "id": "a66fb445",
   "metadata": {
    "scrolled": true
   },
   "outputs": [
    {
     "data": {
      "text/plain": [
       "BenchmarkTools.Trial: \n",
       "  memory estimate:  717.03 MiB\n",
       "  allocs estimate:  43685880\n",
       "  --------------\n",
       "  minimum time:     1.288 s (9.17% GC)\n",
       "  median time:      1.330 s (8.90% GC)\n",
       "  mean time:        1.326 s (9.00% GC)\n",
       "  maximum time:     1.355 s (9.18% GC)\n",
       "  --------------\n",
       "  samples:          4\n",
       "  evals/sample:     1"
      ]
     },
     "execution_count": 42,
     "metadata": {},
     "output_type": "execute_result"
    }
   ],
   "source": [
    "@benchmark make_cls(carlos_params1, mode=\"linear\")"
   ]
  },
  {
   "cell_type": "code",
   "execution_count": 43,
   "id": "916d8daf",
   "metadata": {},
   "outputs": [
    {
     "name": "stdout",
     "output_type": "stream",
     "text": [
      " 12.889004 seconds (436.91 M allocations: 7.005 GiB, 8.88% gc time, 0.36% compilation time)\n"
     ]
    },
    {
     "data": {
      "text/plain": [
       "10-element Vector{Vector{Real}}:\n",
       " [0.00019878054597087568, 8.13318507958567e-5, 4.13999781319054e-5, 2.5956011253713785e-5, 1.8060419156355993e-5, 0.00011315355228614883, 6.075356974541723e-5, 3.9016695376984714e-5, 2.4025861039667573e-5, 1.746979673562369e-5  …  5.492164002058151e-10, 4.722511445750479e-10, 4.057194776978221e-10, 3.4797465219096675e-10, 2.977471751602306e-10, 2.5381685684179695e-10, 2.154322086898068e-10, 1.8194711530074317e-10, 1.5279081401210278e-10, 1.2754801396685722e-10]\n",
       " [0.00019878054597087568, 8.13318507958567e-5, 4.13999781319054e-5, 2.5956011253713785e-5, 1.8060419156355993e-5, 0.00011315355228614883, 6.075356974541723e-5, 3.9016695376984714e-5, 2.4025861039667573e-5, 1.746979673562369e-5  …  5.492164002058151e-10, 4.722511445750479e-10, 4.057194776978221e-10, 3.4797465219096675e-10, 2.977471751602306e-10, 2.5381685684179695e-10, 2.154322086898068e-10, 1.8194711530074317e-10, 1.5279081401210278e-10, 1.2754801396685722e-10]\n",
       " [0.00019878054597087568, 8.13318507958567e-5, 4.13999781319054e-5, 2.5956011253713785e-5, 1.8060419156355993e-5, 0.00011315355228614883, 6.075356974541723e-5, 3.9016695376984714e-5, 2.4025861039667573e-5, 1.746979673562369e-5  …  5.492164002058151e-10, 4.722511445750479e-10, 4.057194776978221e-10, 3.4797465219096675e-10, 2.977471751602306e-10, 2.5381685684179695e-10, 2.154322086898068e-10, 1.8194711530074317e-10, 1.5279081401210278e-10, 1.2754801396685722e-10]\n",
       " [0.00019878054597087568, 8.13318507958567e-5, 4.13999781319054e-5, 2.5956011253713785e-5, 1.8060419156355993e-5, 0.00011315355228614883, 6.075356974541723e-5, 3.9016695376984714e-5, 2.4025861039667573e-5, 1.746979673562369e-5  …  5.492164002058151e-10, 4.722511445750479e-10, 4.057194776978221e-10, 3.4797465219096675e-10, 2.977471751602306e-10, 2.5381685684179695e-10, 2.154322086898068e-10, 1.8194711530074317e-10, 1.5279081401210278e-10, 1.2754801396685722e-10]\n",
       " [0.00019878054597087568, 8.13318507958567e-5, 4.13999781319054e-5, 2.5956011253713785e-5, 1.8060419156355993e-5, 0.00011315355228614883, 6.075356974541723e-5, 3.9016695376984714e-5, 2.4025861039667573e-5, 1.746979673562369e-5  …  5.492164002058151e-10, 4.722511445750479e-10, 4.057194776978221e-10, 3.4797465219096675e-10, 2.977471751602306e-10, 2.5381685684179695e-10, 2.154322086898068e-10, 1.8194711530074317e-10, 1.5279081401210278e-10, 1.2754801396685722e-10]\n",
       " [0.00019878054597087568, 8.13318507958567e-5, 4.13999781319054e-5, 2.5956011253713785e-5, 1.8060419156355993e-5, 0.00011315355228614883, 6.075356974541723e-5, 3.9016695376984714e-5, 2.4025861039667573e-5, 1.746979673562369e-5  …  5.492164002058151e-10, 4.722511445750479e-10, 4.057194776978221e-10, 3.4797465219096675e-10, 2.977471751602306e-10, 2.5381685684179695e-10, 2.154322086898068e-10, 1.8194711530074317e-10, 1.5279081401210278e-10, 1.2754801396685722e-10]\n",
       " [0.00019878054597087568, 8.13318507958567e-5, 4.13999781319054e-5, 2.5956011253713785e-5, 1.8060419156355993e-5, 0.00011315355228614883, 6.075356974541723e-5, 3.9016695376984714e-5, 2.4025861039667573e-5, 1.746979673562369e-5  …  5.492164002058151e-10, 4.722511445750479e-10, 4.057194776978221e-10, 3.4797465219096675e-10, 2.977471751602306e-10, 2.5381685684179695e-10, 2.154322086898068e-10, 1.8194711530074317e-10, 1.5279081401210278e-10, 1.2754801396685722e-10]\n",
       " [0.00019878054597087568, 8.13318507958567e-5, 4.13999781319054e-5, 2.5956011253713785e-5, 1.8060419156355993e-5, 0.00011315355228614883, 6.075356974541723e-5, 3.9016695376984714e-5, 2.4025861039667573e-5, 1.746979673562369e-5  …  5.492164002058151e-10, 4.722511445750479e-10, 4.057194776978221e-10, 3.4797465219096675e-10, 2.977471751602306e-10, 2.5381685684179695e-10, 2.154322086898068e-10, 1.8194711530074317e-10, 1.5279081401210278e-10, 1.2754801396685722e-10]\n",
       " [0.00019878054597087568, 8.13318507958567e-5, 4.13999781319054e-5, 2.5956011253713785e-5, 1.8060419156355993e-5, 0.00011315355228614883, 6.075356974541723e-5, 3.9016695376984714e-5, 2.4025861039667573e-5, 1.746979673562369e-5  …  5.492164002058151e-10, 4.722511445750479e-10, 4.057194776978221e-10, 3.4797465219096675e-10, 2.977471751602306e-10, 2.5381685684179695e-10, 2.154322086898068e-10, 1.8194711530074317e-10, 1.5279081401210278e-10, 1.2754801396685722e-10]\n",
       " [0.00019878054597087568, 8.13318507958567e-5, 4.13999781319054e-5, 2.5956011253713785e-5, 1.8060419156355993e-5, 0.00011315355228614883, 6.075356974541723e-5, 3.9016695376984714e-5, 2.4025861039667573e-5, 1.746979673562369e-5  …  5.492164002058151e-10, 4.722511445750479e-10, 4.057194776978221e-10, 3.4797465219096675e-10, 2.977471751602306e-10, 2.5381685684179695e-10, 2.154322086898068e-10, 1.8194711530074317e-10, 1.5279081401210278e-10, 1.2754801396685722e-10]"
      ]
     },
     "execution_count": 43,
     "metadata": {},
     "output_type": "execute_result"
    }
   ],
   "source": [
    "@time [make_cls(carlos_params1, mode=\"linear\") for i in 1:10]"
   ]
  },
  {
   "cell_type": "code",
   "execution_count": 44,
   "id": "bfa1a4c1",
   "metadata": {
    "scrolled": true
   },
   "outputs": [
    {
     "data": {
      "text/plain": [
       "BenchmarkTools.Trial: \n",
       "  memory estimate:  717.03 MiB\n",
       "  allocs estimate:  43685923\n",
       "  --------------\n",
       "  minimum time:     1.276 s (13.33% GC)\n",
       "  median time:      1.302 s (13.81% GC)\n",
       "  mean time:        1.300 s (13.67% GC)\n",
       "  maximum time:     1.321 s (13.64% GC)\n",
       "  --------------\n",
       "  samples:          4\n",
       "  evals/sample:     1"
      ]
     },
     "execution_count": 44,
     "metadata": {},
     "output_type": "execute_result"
    }
   ],
   "source": [
    "@benchmark make_cls(carlos_params1, mode=\"parallel\")"
   ]
  },
  {
   "cell_type": "code",
   "execution_count": 45,
   "id": "962c61c2",
   "metadata": {},
   "outputs": [
    {
     "name": "stdout",
     "output_type": "stream",
     "text": [
      " 13.128606 seconds (436.91 M allocations: 7.005 GiB, 14.58% gc time, 0.40% compilation time)\n"
     ]
    },
    {
     "data": {
      "text/plain": [
       "10-element Vector{Vector{Real}}:\n",
       " [0.00019878054597087568, 8.13318507958567e-5, 4.13999781319054e-5, 2.5956011253713785e-5, 1.8060419156355993e-5, 0.00011315355228614883, 6.075356974541723e-5, 3.9016695376984714e-5, 2.4025861039667573e-5, 1.746979673562369e-5  …  5.492164002058151e-10, 4.722511445750479e-10, 4.057194776978221e-10, 3.4797465219096675e-10, 2.977471751602306e-10, 2.5381685684179695e-10, 2.154322086898068e-10, 1.8194711530074317e-10, 1.5279081401210278e-10, 1.2754801396685722e-10]\n",
       " [0.00019878054597087568, 8.13318507958567e-5, 4.13999781319054e-5, 2.5956011253713785e-5, 1.8060419156355993e-5, 0.00011315355228614883, 6.075356974541723e-5, 3.9016695376984714e-5, 2.4025861039667573e-5, 1.746979673562369e-5  …  5.492164002058151e-10, 4.722511445750479e-10, 4.057194776978221e-10, 3.4797465219096675e-10, 2.977471751602306e-10, 2.5381685684179695e-10, 2.154322086898068e-10, 1.8194711530074317e-10, 1.5279081401210278e-10, 1.2754801396685722e-10]\n",
       " [0.00019878054597087568, 8.13318507958567e-5, 4.13999781319054e-5, 2.5956011253713785e-5, 1.8060419156355993e-5, 0.00011315355228614883, 6.075356974541723e-5, 3.9016695376984714e-5, 2.4025861039667573e-5, 1.746979673562369e-5  …  5.492164002058151e-10, 4.722511445750479e-10, 4.057194776978221e-10, 3.4797465219096675e-10, 2.977471751602306e-10, 2.5381685684179695e-10, 2.154322086898068e-10, 1.8194711530074317e-10, 1.5279081401210278e-10, 1.2754801396685722e-10]\n",
       " [0.00019878054597087568, 8.13318507958567e-5, 4.13999781319054e-5, 2.5956011253713785e-5, 1.8060419156355993e-5, 0.00011315355228614883, 6.075356974541723e-5, 3.9016695376984714e-5, 2.4025861039667573e-5, 1.746979673562369e-5  …  5.492164002058151e-10, 4.722511445750479e-10, 4.057194776978221e-10, 3.4797465219096675e-10, 2.977471751602306e-10, 2.5381685684179695e-10, 2.154322086898068e-10, 1.8194711530074317e-10, 1.5279081401210278e-10, 1.2754801396685722e-10]\n",
       " [0.00019878054597087568, 8.13318507958567e-5, 4.13999781319054e-5, 2.5956011253713785e-5, 1.8060419156355993e-5, 0.00011315355228614883, 6.075356974541723e-5, 3.9016695376984714e-5, 2.4025861039667573e-5, 1.746979673562369e-5  …  5.492164002058151e-10, 4.722511445750479e-10, 4.057194776978221e-10, 3.4797465219096675e-10, 2.977471751602306e-10, 2.5381685684179695e-10, 2.154322086898068e-10, 1.8194711530074317e-10, 1.5279081401210278e-10, 1.2754801396685722e-10]\n",
       " [0.00019878054597087568, 8.13318507958567e-5, 4.13999781319054e-5, 2.5956011253713785e-5, 1.8060419156355993e-5, 0.00011315355228614883, 6.075356974541723e-5, 3.9016695376984714e-5, 2.4025861039667573e-5, 1.746979673562369e-5  …  5.492164002058151e-10, 4.722511445750479e-10, 4.057194776978221e-10, 3.4797465219096675e-10, 2.977471751602306e-10, 2.5381685684179695e-10, 2.154322086898068e-10, 1.8194711530074317e-10, 1.5279081401210278e-10, 1.2754801396685722e-10]\n",
       " [0.00019878054597087568, 8.13318507958567e-5, 4.13999781319054e-5, 2.5956011253713785e-5, 1.8060419156355993e-5, 0.00011315355228614883, 6.075356974541723e-5, 3.9016695376984714e-5, 2.4025861039667573e-5, 1.746979673562369e-5  …  5.492164002058151e-10, 4.722511445750479e-10, 4.057194776978221e-10, 3.4797465219096675e-10, 2.977471751602306e-10, 2.5381685684179695e-10, 2.154322086898068e-10, 1.8194711530074317e-10, 1.5279081401210278e-10, 1.2754801396685722e-10]\n",
       " [0.00019878054597087568, 8.13318507958567e-5, 4.13999781319054e-5, 2.5956011253713785e-5, 1.8060419156355993e-5, 0.00011315355228614883, 6.075356974541723e-5, 3.9016695376984714e-5, 2.4025861039667573e-5, 1.746979673562369e-5  …  5.492164002058151e-10, 4.722511445750479e-10, 4.057194776978221e-10, 3.4797465219096675e-10, 2.977471751602306e-10, 2.5381685684179695e-10, 2.154322086898068e-10, 1.8194711530074317e-10, 1.5279081401210278e-10, 1.2754801396685722e-10]\n",
       " [0.00019878054597087568, 8.13318507958567e-5, 4.13999781319054e-5, 2.5956011253713785e-5, 1.8060419156355993e-5, 0.00011315355228614883, 6.075356974541723e-5, 3.9016695376984714e-5, 2.4025861039667573e-5, 1.746979673562369e-5  …  5.492164002058151e-10, 4.722511445750479e-10, 4.057194776978221e-10, 3.4797465219096675e-10, 2.977471751602306e-10, 2.5381685684179695e-10, 2.154322086898068e-10, 1.8194711530074317e-10, 1.5279081401210278e-10, 1.2754801396685722e-10]\n",
       " [0.00019878054597087568, 8.13318507958567e-5, 4.13999781319054e-5, 2.5956011253713785e-5, 1.8060419156355993e-5, 0.00011315355228614883, 6.075356974541723e-5, 3.9016695376984714e-5, 2.4025861039667573e-5, 1.746979673562369e-5  …  5.492164002058151e-10, 4.722511445750479e-10, 4.057194776978221e-10, 3.4797465219096675e-10, 2.977471751602306e-10, 2.5381685684179695e-10, 2.154322086898068e-10, 1.8194711530074317e-10, 1.5279081401210278e-10, 1.2754801396685722e-10]"
      ]
     },
     "execution_count": 45,
     "metadata": {},
     "output_type": "execute_result"
    }
   ],
   "source": [
    "@time [make_cls(carlos_params1, mode=\"parallel\") for i in 1:10]"
   ]
  },
  {
   "cell_type": "code",
   "execution_count": 46,
   "id": "a8b25d5e",
   "metadata": {
    "scrolled": true
   },
   "outputs": [],
   "source": [
    "cls_jaime1 = make_cls(carlos_params1, mode=\"linear\");"
   ]
  },
  {
   "cell_type": "code",
   "execution_count": 47,
   "id": "1262530e",
   "metadata": {
    "scrolled": true
   },
   "outputs": [],
   "source": [
    "cls_jaime2 = make_cls(carlos_params1, mode=\"parallel\");"
   ]
  },
  {
   "cell_type": "code",
   "execution_count": 48,
   "id": "b3fede1b",
   "metadata": {},
   "outputs": [],
   "source": [
    "compa1 = @. abs(cls_carlos[\"cls\"]-cls_jaime1)/cls_carlos[\"cls\"];"
   ]
  },
  {
   "cell_type": "code",
   "execution_count": 49,
   "id": "652d919c",
   "metadata": {},
   "outputs": [],
   "source": [
    "err = diag(cov_tot)\n",
    "loss_jaime1 = @. abs(data_vector .- cls_jaime1) ./ err ;\n",
    "loss_carlos = @. abs(data_vector .- cls_carlos[\"cls\"]) ./ err ;"
   ]
  },
  {
   "cell_type": "code",
   "execution_count": 50,
   "id": "98004bb5",
   "metadata": {},
   "outputs": [
    {
     "data": {
      "text/plain": [
       "-503.9984892644933"
      ]
     },
     "execution_count": 50,
     "metadata": {},
     "output_type": "execute_result"
    }
   ],
   "source": [
    "chi2_carlos = cls_carlos[\"chi2\"]"
   ]
  },
  {
   "cell_type": "code",
   "execution_count": 51,
   "id": "b5075df6",
   "metadata": {},
   "outputs": [
    {
     "name": "stdout",
     "output_type": "stream",
     "text": [
      "-503.76840278463385\n",
      "-503.76840278463385\n"
     ]
    }
   ],
   "source": [
    "chi2_jaime1 = - dot((cls_jaime1 .- data_vector), inv_cov_tot  * (cls_jaime1 .- data_vector))\n",
    "chi2_jaime2 = - dot((cls_jaime2 .- data_vector), inv_cov_tot  * (cls_jaime2 .- data_vector))\n",
    "println(chi2_jaime1)\n",
    "println(chi2_jaime2)"
   ]
  },
  {
   "cell_type": "code",
   "execution_count": 52,
   "id": "6945f71a",
   "metadata": {
    "scrolled": false
   },
   "outputs": [
    {
     "ename": "LoadError",
     "evalue": "comp1 is not a Function, or is not defined at any of the values [-5.0, -1.0, 0.0, 0.01]",
     "output_type": "error",
     "traceback": [
      "comp1 is not a Function, or is not defined at any of the values [-5.0, -1.0, 0.0, 0.01]",
      "",
      "Stacktrace:",
      "  [1] error(s::String)",
      "    @ Base ./error.jl:33",
      "  [2] tryrange(F::typeof(comp1), vec::Vector{Float64})",
      "    @ PlotUtils ~/.julia/packages/PlotUtils/jNTYY/src/adapted_grid.jl:183",
      "  [3] macro expansion",
      "    @ ~/.julia/packages/RecipesPipeline/Bxu2O/src/user_recipe.jl:252 [inlined]",
      "  [4] apply_recipe(plotattributes::AbstractDict{Symbol, Any}, f::typeof(comp1))",
      "    @ RecipesPipeline ~/.julia/packages/RecipesBase/qpxEX/src/RecipesBase.jl:289",
      "  [5] _process_userrecipes!(plt::Any, plotattributes::Any, args::Any)",
      "    @ RecipesPipeline ~/.julia/packages/RecipesPipeline/Bxu2O/src/user_recipe.jl:36",
      "  [6] recipe_pipeline!(plt::Any, plotattributes::Any, args::Any)",
      "    @ RecipesPipeline ~/.julia/packages/RecipesPipeline/Bxu2O/src/RecipesPipeline.jl:70",
      "  [7] _plot!(plt::Plots.Plot, plotattributes::Any, args::Any)",
      "    @ Plots ~/.julia/packages/Plots/Xv2qA/src/plot.jl:208",
      "  [8] plot(args::Any; kw::Base.Pairs{Symbol, V, Tuple{Vararg{Symbol, N}}, NamedTuple{names, T}} where {V, N, names, T<:Tuple{Vararg{Any, N}}})",
      "    @ Plots ~/.julia/packages/Plots/Xv2qA/src/plot.jl:91",
      "  [9] top-level scope",
      "    @ In[52]:1",
      " [10] eval",
      "    @ ./boot.jl:373 [inlined]",
      " [11] include_string(mapexpr::typeof(REPL.softscope), mod::Module, code::String, filename::String)",
      "    @ Base ./loading.jl:1196"
     ]
    }
   ],
   "source": [
    "plot(comp1, label=\"(Carlos-Jaime1)/Carlos\")"
   ]
  },
  {
   "cell_type": "code",
   "execution_count": 53,
   "id": "7325f732",
   "metadata": {},
   "outputs": [],
   "source": [
    "@model function model(data_vector::Vector{Float64})\n",
    "    Ωm ~ Uniform(0.1, 0.5)\n",
    "    h = 0.67 #~ Uniform(0.6, 0.8)\n",
    "    s8 ~ Uniform(0.6, 1.0)\n",
    "    \n",
    "    b0 = 1.41 #~ Uniform(1.0, 3.0)\n",
    "    b1 = 1.62 #~ Uniform(1.0, 3.0)\n",
    "    b2 = 1.60 #~ Uniform(1.0, 3.0)\n",
    "    b3 = 1.92 #~ Uniform(1.0, 3.0)\n",
    "    b4 = 2.00 #~ Uniform(1.0, 3.0)\n",
    "    \n",
    "    nuisances = Dict(\"b0\" => b0,\n",
    "                     \"b1\" => b1,\n",
    "                     \"b2\" => b2,\n",
    "                     \"b3\" => b3,\n",
    "                     \"b4\" => b4)\n",
    "    \n",
    "    cosmology = LimberJack.Cosmology(Ωm, 0.05, h, 0.96, s8,\n",
    "                                     tk_mode=\"EisHu\",\n",
    "                                     Pk_mode=\"Halofit\")\n",
    "    \n",
    "    theory = vcat(Theory(cosmology, nuisances, Cls_meta, files)...)\n",
    "    data_vector ~ MvNormal(theory, cov_tot)\n",
    "    return data_vector\n",
    "end;"
   ]
  },
  {
   "cell_type": "code",
   "execution_count": 54,
   "id": "700f448c",
   "metadata": {},
   "outputs": [],
   "source": [
    "@model function model_parallel(data_vector::Vector{Float64})\n",
    "    Ωm ~ Uniform(0.1, 0.5)\n",
    "    h = 0.67 #~ Uniform(0.6, 0.8)\n",
    "    s8 ~ Uniform(0.6, 1.0)\n",
    "    \n",
    "    b0 = 1.41 #~ Uniform(1.0, 3.0)\n",
    "    b1 = 1.62 #~ Uniform(1.0, 3.0)\n",
    "    b2 = 1.60 #~ Uniform(1.0, 3.0)\n",
    "    b3 = 1.92 #~ Uniform(1.0, 3.0)\n",
    "    b4 = 2.00 #~ Uniform(1.0, 3.0)\n",
    "    \n",
    "    nuisances = Dict(\"b0\" => b0,\n",
    "                     \"b1\" => b1,\n",
    "                     \"b2\" => b2,\n",
    "                     \"b3\" => b3,\n",
    "                     \"b4\" => b4)\n",
    "    \n",
    "    cosmology = LimberJack.Cosmology(Ωm, 0.05, h, 0.96, s8,\n",
    "                                     tk_mode=\"EisHu\",\n",
    "                                     Pk_mode=\"Halofit\")\n",
    "    \n",
    "    theory = vcat(Theory_parallel(cosmology, nuisances, Cls_meta, files)...)\n",
    "    data_vector ~ MvNormal(theory, cov_tot)\n",
    "    return data_vector\n",
    "end;"
   ]
  },
  {
   "cell_type": "code",
   "execution_count": 55,
   "id": "140ac55c",
   "metadata": {},
   "outputs": [
    {
     "ename": "LoadError",
     "evalue": "InterruptException:",
     "output_type": "error",
     "traceback": [
      "InterruptException:",
      "",
      "Stacktrace:",
      "  [1] _unsafe_copyto!(dest::Matrix{Float64}, doffs::Int64, src::Matrix{Real}, soffs::Int64, n::Int64)",
      "    @ Base ./array.jl:253",
      "  [2] unsafe_copyto!",
      "    @ ./array.jl:307 [inlined]",
      "  [3] _copyto_impl!",
      "    @ ./array.jl:331 [inlined]",
      "  [4] copyto!",
      "    @ ./array.jl:317 [inlined]",
      "  [5] copyto!",
      "    @ ./array.jl:343 [inlined]",
      "  [6] copyto_axcheck!(dest::Matrix{Float64}, src::Matrix{Real})",
      "    @ Base ./abstractarray.jl:1104",
      "  [7] Array",
      "    @ ./array.jl:563 [inlined]",
      "  [8] convert",
      "    @ ./array.jl:554 [inlined]",
      "  [9] PDMat",
      "    @ ~/.julia/packages/PDMats/G0Prn/src/pdmat.jl:16 [inlined]",
      " [10] PDMats.PDMat(mat::Matrix{Real})",
      "    @ PDMats ~/.julia/packages/PDMats/G0Prn/src/pdmat.jl:19",
      " [11] convert",
      "    @ ~/.julia/packages/PDMats/G0Prn/src/pdmat.jl:24 [inlined]",
      " [12] convert",
      "    @ ~/.julia/packages/PDMats/G0Prn/src/pdmat.jl:25 [inlined]",
      " [13] MvNormal(μ::Vector{Real}, Σ::PDMats.PDMat{Float64, Matrix{Float64}}) (repeats 1961 times)",
      "    @ Distributions ~/.julia/packages/Distributions/jFoHB/src/multivariate/mvnormal.jl:202",
      " [14] MvNormal(μ::Vector{Real}, Σ::Matrix{Float64})",
      "    @ Distributions ~/.julia/packages/Distributions/jFoHB/src/multivariate/mvnormal.jl:211",
      " [15] #12",
      "    @ ./In[53]:23 [inlined]",
      " [16] (::var\"#12#13\")(__rng__::Random._GLOBAL_RNG, __model__::DynamicPPL.Model{var\"#12#13\", (:data_vector,), (), (), Tuple{Vector{Float64}}, Tuple{}}, __varinfo__::DynamicPPL.ThreadSafeVarInfo{DynamicPPL.UntypedVarInfo{DynamicPPL.Metadata{Dict{AbstractPPL.VarName, Int64}, Vector{Distribution}, Vector{AbstractPPL.VarName}, Vector{Real}, Vector{Set{DynamicPPL.Selector}}}, Float64}, Vector{Base.RefValue{Float64}}}, __sampler__::DynamicPPL.SampleFromPrior, __context__::DynamicPPL.DefaultContext, data_vector::Vector{Float64})",
      "    @ Main ./none:0",
      " [17] macro expansion",
      "    @ ~/.julia/packages/DynamicPPL/SgzCy/src/model.jl:0 [inlined]",
      " [18] _evaluate",
      "    @ ~/.julia/packages/DynamicPPL/SgzCy/src/model.jl:154 [inlined]",
      " [19] evaluate_threadsafe(rng::Random._GLOBAL_RNG, model::DynamicPPL.Model{var\"#12#13\", (:data_vector,), (), (), Tuple{Vector{Float64}}, Tuple{}}, varinfo::DynamicPPL.UntypedVarInfo{DynamicPPL.Metadata{Dict{AbstractPPL.VarName, Int64}, Vector{Distribution}, Vector{AbstractPPL.VarName}, Vector{Real}, Vector{Set{DynamicPPL.Selector}}}, Float64}, sampler::DynamicPPL.SampleFromPrior, context::DynamicPPL.DefaultContext)",
      "    @ DynamicPPL ~/.julia/packages/DynamicPPL/SgzCy/src/model.jl:144",
      " [20] Model",
      "    @ ~/.julia/packages/DynamicPPL/SgzCy/src/model.jl:94 [inlined]",
      " [21] VarInfo",
      "    @ ~/.julia/packages/DynamicPPL/SgzCy/src/varinfo.jl:126 [inlined]",
      " [22] VarInfo",
      "    @ ~/.julia/packages/DynamicPPL/SgzCy/src/varinfo.jl:125 [inlined]",
      " [23] step(rng::Random._GLOBAL_RNG, model::DynamicPPL.Model{var\"#12#13\", (:data_vector,), (), (), Tuple{Vector{Float64}}, Tuple{}}, spl::DynamicPPL.Sampler{MH{(), NamedTuple{(), Tuple{}}}}; resume_from::Nothing, kwargs::Base.Pairs{Symbol, Integer, Tuple{Symbol, Symbol}, NamedTuple{(:nadapt, :save_state), Tuple{Int64, Bool}}})",
      "    @ DynamicPPL ~/.julia/packages/DynamicPPL/SgzCy/src/sampler.jl:73",
      " [24] macro expansion",
      "    @ ~/.julia/packages/AbstractMCMC/oou1a/src/sample.jl:97 [inlined]",
      " [25] macro expansion",
      "    @ ~/.julia/packages/ProgressLogging/6KXlp/src/ProgressLogging.jl:328 [inlined]",
      " [26] (::AbstractMCMC.var\"#20#21\"{Bool, String, Nothing, Int64, Int64, Base.Pairs{Symbol, Integer, Tuple{Symbol, Symbol}, NamedTuple{(:nadapt, :save_state), Tuple{Int64, Bool}}}, Random._GLOBAL_RNG, DynamicPPL.Model{var\"#12#13\", (:data_vector,), (), (), Tuple{Vector{Float64}}, Tuple{}}, DynamicPPL.Sampler{MH{(), NamedTuple{(), Tuple{}}}}, Int64, Int64})()",
      "    @ AbstractMCMC ~/.julia/packages/AbstractMCMC/oou1a/src/logging.jl:11",
      " [27] with_logstate(f::Function, logstate::Any)",
      "    @ Base.CoreLogging ./logging.jl:511",
      " [28] with_logger(f::Function, logger::LoggingExtras.TeeLogger{Tuple{LoggingExtras.EarlyFilteredLogger{ConsoleProgressMonitor.ProgressLogger, AbstractMCMC.var\"#1#3\"{Module}}, LoggingExtras.EarlyFilteredLogger{Base.CoreLogging.SimpleLogger, AbstractMCMC.var\"#2#4\"{Module}}}})",
      "    @ Base.CoreLogging ./logging.jl:623",
      " [29] with_progresslogger(f::Function, _module::Module, logger::Base.CoreLogging.SimpleLogger)",
      "    @ AbstractMCMC ~/.julia/packages/AbstractMCMC/oou1a/src/logging.jl:34",
      " [30] macro expansion",
      "    @ ~/.julia/packages/AbstractMCMC/oou1a/src/logging.jl:10 [inlined]",
      " [31] mcmcsample(rng::Random._GLOBAL_RNG, model::DynamicPPL.Model{var\"#12#13\", (:data_vector,), (), (), Tuple{Vector{Float64}}, Tuple{}}, sampler::DynamicPPL.Sampler{MH{(), NamedTuple{(), Tuple{}}}}, N::Int64; progress::Bool, progressname::String, callback::Nothing, discard_initial::Int64, thinning::Int64, chain_type::Type, kwargs::Base.Pairs{Symbol, Integer, Tuple{Symbol, Symbol}, NamedTuple{(:nadapt, :save_state), Tuple{Int64, Bool}}})",
      "    @ AbstractMCMC ~/.julia/packages/AbstractMCMC/oou1a/src/sample.jl:88",
      " [32] sample(rng::Random._GLOBAL_RNG, model::DynamicPPL.Model{var\"#12#13\", (:data_vector,), (), (), Tuple{Vector{Float64}}, Tuple{}}, sampler::DynamicPPL.Sampler{MH{(), NamedTuple{(), Tuple{}}}}, N::Int64; chain_type::Type, resume_from::Nothing, progress::Bool, kwargs::Base.Pairs{Symbol, Integer, Tuple{Symbol, Symbol}, NamedTuple{(:nadapt, :save_state), Tuple{Int64, Bool}}})",
      "    @ Turing.Inference ~/.julia/packages/Turing/uAz5c/src/inference/Inference.jl:156",
      " [33] #sample#2",
      "    @ ~/.julia/packages/Turing/uAz5c/src/inference/Inference.jl:142 [inlined]",
      " [34] #sample#1",
      "    @ ~/.julia/packages/Turing/uAz5c/src/inference/Inference.jl:132 [inlined]",
      " [35] top-level scope",
      "    @ In[55]:4",
      " [36] eval",
      "    @ ./boot.jl:373 [inlined]",
      " [37] include_string(mapexpr::typeof(REPL.softscope), mod::Module, code::String, filename::String)",
      "    @ Base ./loading.jl:1196"
     ]
    }
   ],
   "source": [
    "iterations = 300\n",
    "nadapts = 100\n",
    "\n",
    "chain1 = sample(model(data_vector), MH(), iterations,\n",
    "            nadapt=nadapts, progress=true; save_state=true);"
   ]
  },
  {
   "cell_type": "code",
   "execution_count": null,
   "id": "e6b2a81c",
   "metadata": {},
   "outputs": [],
   "source": [
    "chain2 = sample(model_parallel(data_vector), MH(), iterations,\n",
    "            nadapt=nadapts, progress=true; save_state=true);"
   ]
  },
  {
   "cell_type": "code",
   "execution_count": null,
   "id": "54da0b16",
   "metadata": {},
   "outputs": [],
   "source": [
    "chain3 = sample(model(data_vector), NUTS(100, 0.5), iterations,\n",
    "            nadapt=nadapts, progress=true; save_state=true);"
   ]
  },
  {
   "cell_type": "code",
   "execution_count": null,
   "id": "82e88f26",
   "metadata": {},
   "outputs": [],
   "source": [
    "chain4 = sample(model_parallel(data_vector), NUTS(100, 0.5), iterations,\n",
    "            nadapt=nadapts, progress=true; save_state=true);"
   ]
  },
  {
   "cell_type": "code",
   "execution_count": null,
   "id": "dc01c0b5",
   "metadata": {},
   "outputs": [],
   "source": [
    "iterations = 1000\n",
    "adaptation = 100\n",
    "TAP = 0.6\n",
    "\n",
    "NUTS_chain = sample(model(data_vector), NUTS(adaptation, TAP),\n",
    "            iterations, progress=true; save_state=true);"
   ]
  },
  {
   "cell_type": "code",
   "execution_count": null,
   "id": "06541cf7",
   "metadata": {},
   "outputs": [],
   "source": [
    "describe(NUTS_chain)[1]"
   ]
  },
  {
   "cell_type": "code",
   "execution_count": null,
   "id": "02dfc692",
   "metadata": {},
   "outputs": [],
   "source": [
    "plot(NUTS_chain)"
   ]
  },
  {
   "cell_type": "code",
   "execution_count": null,
   "id": "1f655835",
   "metadata": {},
   "outputs": [],
   "source": []
  }
 ],
 "metadata": {
  "kernelspec": {
   "display_name": "Julia 4 Threads 1.7.0",
   "language": "julia",
   "name": "julia-4-threads-1.7"
  },
  "language_info": {
   "file_extension": ".jl",
   "mimetype": "application/julia",
   "name": "julia",
   "version": "1.7.0"
  }
 },
 "nbformat": 4,
 "nbformat_minor": 5
}
