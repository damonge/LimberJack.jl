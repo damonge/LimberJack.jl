{
 "cells": [
  {
   "cell_type": "code",
   "execution_count": 1,
   "id": "02df9ee7",
   "metadata": {},
   "outputs": [
    {
     "name": "stderr",
     "output_type": "stream",
     "text": [
      "┌ Info: Precompiling LimberJack [6b86205d-155a-4b14-b82d-b6a149ea78f2]\n",
      "└ @ Base loading.jl:1423\n"
     ]
    }
   ],
   "source": [
    "using Turing\n",
    "using LimberJack\n",
    "using LinearAlgebra\n",
    "using CSV\n",
    "using NPZ\n",
    "using Plots\n",
    "using FITSIO\n",
    "using ForwardDiff\n",
    "using BenchmarkTools\n",
    "using DelimitedFiles"
   ]
  },
  {
   "cell_type": "code",
   "execution_count": 2,
   "id": "a74170be",
   "metadata": {},
   "outputs": [
    {
     "data": {
      "text/plain": [
       "cls_meta{Vector{Vector{Int64}}}([[1, 0], [1, 1], [1, 2], [1, 3], [1, 4], [2, 0], [2, 1], [2, 2], [2, 3]], [[1, 0, 1, 0], [1, 1, 1, 1], [1, 2, 1, 2], [1, 3, 1, 3], [1, 4, 1, 4], [1, 0, 2, 0], [1, 0, 2, 1], [1, 0, 2, 2], [1, 0, 2, 3], [1, 1, 2, 0]  …  [2, 0, 2, 0], [2, 0, 2, 1], [2, 0, 2, 2], [2, 0, 2, 3], [2, 1, 2, 1], [2, 1, 2, 2], [2, 1, 2, 3], [2, 2, 2, 2], [2, 2, 2, 3], [2, 3, 2, 3]], [[1, 1], [2, 2], [3, 3], [4, 4], [5, 5], [1, 6], [1, 7], [1, 8], [1, 9], [2, 6]  …  [6, 6], [6, 7], [6, 8], [6, 9], [7, 7], [7, 8], [7, 9], [8, 8], [8, 9], [9, 9]])"
      ]
     },
     "execution_count": 2,
     "metadata": {},
     "output_type": "execute_result"
    }
   ],
   "source": [
    "files = npzread(\"../data/DESY1_cls/Cls_meta.npz\")\n",
    "Cls_meta = cls_meta(files)"
   ]
  },
  {
   "cell_type": "code",
   "execution_count": 3,
   "id": "3a7469ed",
   "metadata": {},
   "outputs": [],
   "source": [
    "cov_tot = files[\"cov\"]\n",
    "inv_cov_tot = files[\"inv_cov\"]\n",
    "data_vector = files[\"cls\"];"
   ]
  },
  {
   "cell_type": "code",
   "execution_count": 4,
   "id": "57fb0a36",
   "metadata": {},
   "outputs": [],
   "source": [
    "#                Omega_b,           Omega_c          n_s,                 h,\n",
    "#                DESgc__0_gc_b,     DESgc__1_gc_b,   DESgc__2_gc_b,    DESgc__3_gc_b,    DESgc__4_gc_b,\n",
    "#                DESgc__0_dz,      DESgc__1_dz,      DESgc__2_dz,      DESgc__3_dz,      DESgc__4_dz,\n",
    "#                wl_ia_A,          wl_ia_eta, \n",
    "#                DESwl__0_wl_m,    DESwl__1_wl_m,    DESwl__2_wl_m,    DESwl__3_wl_m,\n",
    "#                DESwl__0_dz,      DESwl__1_dz,      DESwl__2_dz,      DESwl__3_dz,\n",
    "#                sigma_8,          Omega_m\n",
    "carlos_params1 = [4.426868e-02,     2.093138e-01,     8.963611e-01,     8.495440e-01,\n",
    "                 1.343888e+00,    1.639047e+00,      1.597174e+00,     1.944583e+00,     2.007245e+00,\n",
    "                -4.679383e-03,   -2.839996e-03,      1.771571e-03,     1.197051e-03,    -5.199799e-03,\n",
    "                 2.389208e-01,   -6.435288e-01, \n",
    "                 1.802722e-03,   -5.508994e-03,     1.952514e-02,    -1.117726e-03,\n",
    "                -1.744083e-02,    6.777779e-03,    -1.097939e-03,    -4.912315e-03,\n",
    "                 8.536883e-01,    2.535825e-01];"
   ]
  },
  {
   "cell_type": "code",
   "execution_count": 5,
   "id": "7d1a182c",
   "metadata": {},
   "outputs": [],
   "source": [
    "cls_carlos = npzread(\"/home/jaime/PhD/LimberJack.jl/chains/cl_cross_corr_v3_DES_2/cl_cross_corr_bestfit_info.npz\");\n",
    "cls_carlos2 = npzread(\"/home/jaime/PhD/LimberJack.jl/chains/cl_cross_corr_v3_DES_2/cl_cross_corr_bestfit_info_nointerp.npz\");\n",
    "cls_carlos3 = npzread(\"/home/jaime/PhD/LimberJack.jl/chains/cl_cross_corr_v3_DES_2/cl_cross_corr_bestfit_info_nointerp_EH.npz\");\n",
    "cls_carlos4 = npzread(\"/home/jaime/PhD/LimberJack.jl/chains/cl_cross_corr_v3_DES_2/cl_cross_corr_bestfit_info_nointerp_EH_noconv.npz\");"
   ]
  },
  {
   "cell_type": "code",
   "execution_count": 6,
   "id": "417c990f",
   "metadata": {},
   "outputs": [],
   "source": [
    "pars = carlos_params1\n",
    "nuisances = Dict(\"b0\" => pars[5],\n",
    "                 \"b1\" => pars[6],\n",
    "                 \"b2\" => pars[7],\n",
    "                 \"b3\" => pars[8],\n",
    "                 \"b4\" => pars[9],\n",
    "                 \"dz_g0\" => pars[10],\n",
    "                 \"dz_g1\" => pars[11],\n",
    "                 \"dz_g2\" => pars[12],\n",
    "                 \"dz_g3\" => pars[13],\n",
    "                 \"dz_g4\" => pars[14],\n",
    "                 \"dz_k0\" => pars[21],\n",
    "                 \"dz_k1\" => pars[22],\n",
    "                 \"dz_k2\" => pars[23],\n",
    "                 \"dz_k3\" => pars[24],\n",
    "                 \"m0\" => pars[17],\n",
    "                 \"m1\" => pars[18],\n",
    "                 \"m2\" => pars[19],\n",
    "                 \"m3\" => pars[20],\n",
    "                 \"A_IA\" => pars[15],\n",
    "                 \"alpha_IA\" => pars[16]);"
   ]
  },
  {
   "cell_type": "code",
   "execution_count": 7,
   "id": "81b7ac69",
   "metadata": {},
   "outputs": [
    {
     "data": {
      "text/plain": [
       "make_cls (generic function with 1 method)"
      ]
     },
     "execution_count": 7,
     "metadata": {},
     "output_type": "execute_result"
    }
   ],
   "source": [
    "function make_cls(pars)\n",
    "    nuisances = Dict(\"b0\" => pars[5],\n",
    "                     \"b1\" => pars[6],\n",
    "                     \"b2\" => pars[7],\n",
    "                     \"b3\" => pars[8],\n",
    "                     \"b4\" => pars[9],\n",
    "                     \"dz_g0\" => pars[10],\n",
    "                     \"dz_g1\" => pars[11],\n",
    "                     \"dz_g2\" => pars[12],\n",
    "                     \"dz_g3\" => pars[13],\n",
    "                     \"dz_g4\" => pars[14],\n",
    "                     \"dz_k0\" => pars[21],\n",
    "                     \"dz_k1\" => pars[22],\n",
    "                     \"dz_k2\" => pars[23],\n",
    "                     \"dz_k3\" => pars[24],\n",
    "                     \"m0\" => pars[17],\n",
    "                     \"m1\" => pars[18],\n",
    "                     \"m2\" => pars[19],\n",
    "                     \"m3\" => pars[20],\n",
    "                     \"A_IA\" => pars[15],\n",
    "                     \"alpha_IA\" => pars[16])\n",
    "\n",
    "    Ωm = pars[26]\n",
    "    Ωb = pars[1]\n",
    "    h = pars[4]\n",
    "    ns = pars[3]\n",
    "    s8 = pars[25]\n",
    "    cosmology = LimberJack.Cosmology(Ωm, Ωb, h, ns, s8, \n",
    "                                     tk_mode=\"EisHu\", Pk_mode=\"Halofit\")#, \n",
    "                                     #nk=500, nz=500, nz_pk=500)\n",
    "\n",
    "    return Theory(cosmology, nuisances, Cls_meta, files).cls\n",
    "\n",
    "end"
   ]
  },
  {
   "cell_type": "code",
   "execution_count": 8,
   "id": "db98178a",
   "metadata": {},
   "outputs": [
    {
     "data": {
      "text/plain": [
       "numd_cls2_nuisance (generic function with 1 method)"
      ]
     },
     "execution_count": 8,
     "metadata": {},
     "output_type": "execute_result"
    }
   ],
   "source": [
    "function diff_cls_nuisance(dz)\n",
    "    nuisances = Dict(\"dz_g2\"=> dz)\n",
    "    cosmology = LimberJack.Cosmology(0.3, 0.05, 0.67, 0.96, 0.81,\n",
    "                                     tk_mode=\"EisHu\", Pk_mode=\"Halofit\")\n",
    "    cls = Theory(cosmology, nuisances, Cls_meta, files).cls\n",
    "    return cls\n",
    "end\n",
    "\n",
    "function numd_cls_nuisance(dz)\n",
    "    nuisances1 = Dict(\"dz_g2\"=> dz)\n",
    "    nuisances2 = Dict(\"dz_g2\"=> dz.-0.0005)\n",
    "    cosmology = LimberJack.Cosmology(0.3, 0.05, 0.67, 0.96, 0.81,\n",
    "                                     tk_mode=\"EisHu\", Pk_mode=\"Halofit\")\n",
    "    cls1 = Theory(cosmology, nuisances1, Cls_meta, files).cls\n",
    "    cls2 = Theory(cosmology, nuisances2, Cls_meta, files).cls\n",
    "    return (cls1 .- cls2) ./ 0.0005\n",
    "end\n",
    "\n",
    "function diff_tracer_nuisance(dz; nzs=files[\"nz_11\"])\n",
    "    nz = vec(nzs[2:2, :])\n",
    "    zs = vec(nzs[1:1, :])\n",
    "    zs_shift = zs .- dz\n",
    "    sel = zs_shift .> 0.\n",
    "    cosmology = LimberJack.Cosmology(0.3, 0.05, 0.67, 0.96, 0.81, tk_mode=\"EisHu\", Pk_mode=\"Halofit\")\n",
    "    tracer = WeakLensingTracer(cosmology, zs_shift[sel], nz)\n",
    "    #w1 = tracer.warr\n",
    "    w1 = tracer.wint(tracer.chis)\n",
    "    return w1\n",
    "end\n",
    "\n",
    "function numd_tracer_nuisance(dz; nzs=files[\"nz_11\"])\n",
    "    nz = vec(nzs[2:2, :])\n",
    "    zs = vec(nzs[1:1, :])\n",
    "    zs_shift = zs .- dz\n",
    "    sel = zs_shift .> 0.\n",
    "    cosmology = LimberJack.Cosmology(0.3, 0.05, 0.67, 0.96, 0.81, tk_mode=\"EisHu\", Pk_mode=\"Halofit\")\n",
    "    tracer1 = WeakLensingTracer(cosmology, zs_shift[sel], nz)\n",
    "    tracer2 = WeakLensingTracer(cosmology, zs_shift[sel] .- 0.0005, nz)\n",
    "    #w1 = tracer1.warr\n",
    "    w1 = tracer1.wint(tracer1.chis)\n",
    "    #w2 = tracer2.warr\n",
    "    w2 = tracer2.wint(tracer2.chis)\n",
    "    return (w2 .- w1) ./ 0.0005\n",
    "end\n",
    "\n",
    "function diff_cls2_nuisance(dz; nzs=files[\"nz_11\"])\n",
    "    nz = vec(nzs[2:2, :])\n",
    "    zs = vec(nzs[1:1, :])\n",
    "    ls = files[\"ls_1010\"]\n",
    "    zs_shift = zs .- dz\n",
    "    sel = zs_shift .> 0.\n",
    "    cosmology = LimberJack.Cosmology(0.3, 0.05, 0.67, 0.96, 0.81, tk_mode=\"EisHu\", Pk_mode=\"Halofit\")\n",
    "    tracer1 = WeakLensingTracer(cosmology, zs_shift[sel], nz)\n",
    "    tracer2 = NumberCountsTracer(cosmology, zs_shift[sel], nz)\n",
    "    Cls = angularCℓs(cosmology, tracer2, tracer2, ls)\n",
    "    return Cls\n",
    "end\n",
    "\n",
    "function numd_cls2_nuisance(dz; nzs=files[\"nz_11\"])\n",
    "    nz = vec(nzs[2:2, :])\n",
    "    zs = vec(nzs[1:1, :])\n",
    "    ls = files[\"ls_1010\"]\n",
    "    zs_shift = zs .- dz\n",
    "    sel = zs_shift .> 0.\n",
    "    cosmology = LimberJack.Cosmology(0.3, 0.05, 0.67, 0.96, 0.81, tk_mode=\"EisHu\", Pk_mode=\"Halofit\")\n",
    "    tracer1 = WeakLensingTracer(cosmology, zs_shift[sel], nz)\n",
    "    tracer2 = NumberCountsTracer(cosmology, zs_shift[sel], nz)\n",
    "    tracer3 = WeakLensingTracer(cosmology, zs_shift[sel] .- 0.0005, nz)\n",
    "    tracer4 = NumberCountsTracer(cosmology, zs_shift[sel] .- 0.0005, nz)\n",
    "    Cls1 = angularCℓs(cosmology, tracer2, tracer2, ls)\n",
    "    Cls2 = angularCℓs(cosmology, tracer4, tracer4, ls)\n",
    "    return (Cls2 .- Cls1) ./ 0.0005\n",
    "end\n",
    "\n"
   ]
  },
  {
   "cell_type": "code",
   "execution_count": 9,
   "id": "ee5a7eec",
   "metadata": {},
   "outputs": [
    {
     "ename": "LoadError",
     "evalue": "UndefVarError: quadgk not defined",
     "output_type": "error",
     "traceback": [
      "UndefVarError: quadgk not defined",
      "",
      "Stacktrace:",
      " [1] (::LimberJack.var\"#1#6\"{CosmoPar{Real}})(zz::Float64)",
      "   @ LimberJack ./none:0",
      " [2] iterate",
      "   @ ./generator.jl:47 [inlined]",
      " [3] collect(itr::Base.Generator{StepRangeLen{Float64, Base.TwicePrecision{Float64}, Base.TwicePrecision{Float64}, Int64}, LimberJack.var\"#1#6\"{CosmoPar{Real}}})",
      "   @ Base ./array.jl:724",
      " [4] Cosmology(cpar::CosmoPar{Real}, settings::Settings)",
      "   @ LimberJack ~/PhD/LimberJack.jl/src/core.jl:99",
      " [5] Cosmology(Ωm::Float64, Ωb::Float64, h::Float64, n_s::Float64, σ8::Float64; θCMB::Float64, nk::Int64, nz::Int64, nz_pk::Int64, tk_mode::String, Pk_mode::String)",
      "   @ LimberJack ~/PhD/LimberJack.jl/src/core.jl:151",
      " [6] numd_cls_nuisance(dz::Float64)",
      "   @ Main ./In[8]:12",
      " [7] top-level scope",
      "   @ In[9]:1",
      " [8] eval",
      "   @ ./boot.jl:373 [inlined]",
      " [9] include_string(mapexpr::typeof(REPL.softscope), mod::Module, code::String, filename::String)",
      "   @ Base ./loading.jl:1196"
     ]
    }
   ],
   "source": [
    "plot(numd_cls_nuisance(-0.01))\n",
    "#plot!(ForwardDiff.derivative(diff_cls_nuisance, -0.01))"
   ]
  },
  {
   "cell_type": "code",
   "execution_count": 10,
   "id": "54b42936",
   "metadata": {},
   "outputs": [
    {
     "ename": "LoadError",
     "evalue": "UndefVarError: quadgk not defined",
     "output_type": "error",
     "traceback": [
      "UndefVarError: quadgk not defined",
      "",
      "Stacktrace:",
      "  [1] (::LimberJack.var\"#1#6\"{CosmoPar{Real}})(zz::Float64)",
      "    @ LimberJack ./none:0",
      "  [2] iterate",
      "    @ ./generator.jl:47 [inlined]",
      "  [3] collect(itr::Base.Generator{StepRangeLen{Float64, Base.TwicePrecision{Float64}, Base.TwicePrecision{Float64}, Int64}, LimberJack.var\"#1#6\"{CosmoPar{Real}}})",
      "    @ Base ./array.jl:724",
      "  [4] Cosmology(cpar::CosmoPar{Real}, settings::Settings)",
      "    @ LimberJack ~/PhD/LimberJack.jl/src/core.jl:99",
      "  [5] Cosmology(Ωm::Float64, Ωb::Float64, h::Float64, n_s::Float64, σ8::Float64; θCMB::Float64, nk::Int64, nz::Int64, nz_pk::Int64, tk_mode::String, Pk_mode::String)",
      "    @ LimberJack ~/PhD/LimberJack.jl/src/core.jl:151",
      "  [6] diff_tracer_nuisance(dz::ForwardDiff.Dual{ForwardDiff.Tag{typeof(diff_tracer_nuisance), Int64}, Int64, 1}; nzs::Matrix{Float64})",
      "    @ Main ./In[8]:24",
      "  [7] diff_tracer_nuisance(dz::ForwardDiff.Dual{ForwardDiff.Tag{typeof(diff_tracer_nuisance), Int64}, Int64, 1})",
      "    @ Main ./In[8]:20",
      "  [8] derivative(f::typeof(diff_tracer_nuisance), x::Int64)",
      "    @ ForwardDiff ~/.julia/packages/ForwardDiff/PBzup/src/derivative.jl:14",
      "  [9] top-level scope",
      "    @ In[10]:1",
      " [10] eval",
      "    @ ./boot.jl:373 [inlined]",
      " [11] include_string(mapexpr::typeof(REPL.softscope), mod::Module, code::String, filename::String)",
      "    @ Base ./loading.jl:1196"
     ]
    }
   ],
   "source": [
    "plot(ForwardDiff.derivative(diff_tracer_nuisance, -1))\n",
    "plot!(numd_tracer_nuisance(-1) )"
   ]
  },
  {
   "cell_type": "code",
   "execution_count": 11,
   "id": "7358dcf9",
   "metadata": {},
   "outputs": [
    {
     "ename": "LoadError",
     "evalue": "UndefVarError: quadgk not defined",
     "output_type": "error",
     "traceback": [
      "UndefVarError: quadgk not defined",
      "",
      "Stacktrace:",
      "  [1] (::LimberJack.var\"#1#6\"{CosmoPar{Real}})(zz::Float64)",
      "    @ LimberJack ./none:0",
      "  [2] iterate",
      "    @ ./generator.jl:47 [inlined]",
      "  [3] collect(itr::Base.Generator{StepRangeLen{Float64, Base.TwicePrecision{Float64}, Base.TwicePrecision{Float64}, Int64}, LimberJack.var\"#1#6\"{CosmoPar{Real}}})",
      "    @ Base ./array.jl:724",
      "  [4] Cosmology(cpar::CosmoPar{Real}, settings::Settings)",
      "    @ LimberJack ~/PhD/LimberJack.jl/src/core.jl:99",
      "  [5] Cosmology(Ωm::Float64, Ωb::Float64, h::Float64, n_s::Float64, σ8::Float64; θCMB::Float64, nk::Int64, nz::Int64, nz_pk::Int64, tk_mode::String, Pk_mode::String)",
      "    @ LimberJack ~/PhD/LimberJack.jl/src/core.jl:151",
      "  [6] diff_cls2_nuisance(dz::ForwardDiff.Dual{ForwardDiff.Tag{typeof(diff_cls2_nuisance), Float64}, Float64, 1}; nzs::Matrix{Float64})",
      "    @ Main ./In[8]:52",
      "  [7] diff_cls2_nuisance(dz::ForwardDiff.Dual{ForwardDiff.Tag{typeof(diff_cls2_nuisance), Float64}, Float64, 1})",
      "    @ Main ./In[8]:47",
      "  [8] derivative(f::typeof(diff_cls2_nuisance), x::Float64)",
      "    @ ForwardDiff ~/.julia/packages/ForwardDiff/PBzup/src/derivative.jl:14",
      "  [9] top-level scope",
      "    @ In[11]:1",
      " [10] eval",
      "    @ ./boot.jl:373 [inlined]",
      " [11] include_string(mapexpr::typeof(REPL.softscope), mod::Module, code::String, filename::String)",
      "    @ Base ./loading.jl:1196"
     ]
    }
   ],
   "source": [
    "plot(ForwardDiff.derivative(diff_cls2_nuisance, -0.1))\n",
    "plot!(numd_cls2_nuisance(-0.1))"
   ]
  },
  {
   "cell_type": "code",
   "execution_count": 12,
   "id": "84776e86",
   "metadata": {},
   "outputs": [
    {
     "data": {
      "text/plain": [
       "numd_test_func (generic function with 1 method)"
      ]
     },
     "execution_count": 12,
     "metadata": {},
     "output_type": "execute_result"
    }
   ],
   "source": [
    "using Interpolations\n",
    "function test_func(dz; nzs=files[\"nz_11\"])\n",
    "    nz = vec(nzs[2:2, :])\n",
    "    zs = vec(nzs[1:1, :])\n",
    "    zs_shift = zs .- dz\n",
    "    nz_int = LinearInterpolation(zs_shift, nz, extrapolation_bc=0)\n",
    "    res = 200\n",
    "    z_w = range(0.00001, stop=zs_shift[end], length=res)\n",
    "    dz_w = (z_w[end]-z_w[1])/res\n",
    "    nz_w = nz_int(z_w)\n",
    "    nz_norm = sum(0.5 .* (nz_w[1:res-1] .+ nz_w[2:res]) .* dz_w)\n",
    "    cosmology = LimberJack.Cosmology(0.3, 0.05, 0.67, 0.96, 0.81, tk_mode=\"EisHu\", Pk_mode=\"Halofit\")\n",
    "    return cosmology.chi(z_w) .* nz_norm #(zs .^2) .* nz_norm\n",
    "end\n",
    "\n",
    "function numd_test_func(dz)\n",
    "    v1 = test_func(dz)\n",
    "    v2 = test_func(dz-0.0005)\n",
    "    return (v1-v2)/0.0005\n",
    "end"
   ]
  },
  {
   "cell_type": "code",
   "execution_count": 13,
   "id": "a12ef158",
   "metadata": {},
   "outputs": [
    {
     "ename": "LoadError",
     "evalue": "UndefVarError: quadgk not defined",
     "output_type": "error",
     "traceback": [
      "UndefVarError: quadgk not defined",
      "",
      "Stacktrace:",
      "  [1] (::LimberJack.var\"#1#6\"{CosmoPar{Real}})(zz::Float64)",
      "    @ LimberJack ./none:0",
      "  [2] iterate",
      "    @ ./generator.jl:47 [inlined]",
      "  [3] collect(itr::Base.Generator{StepRangeLen{Float64, Base.TwicePrecision{Float64}, Base.TwicePrecision{Float64}, Int64}, LimberJack.var\"#1#6\"{CosmoPar{Real}}})",
      "    @ Base ./array.jl:724",
      "  [4] Cosmology(cpar::CosmoPar{Real}, settings::Settings)",
      "    @ LimberJack ~/PhD/LimberJack.jl/src/core.jl:99",
      "  [5] Cosmology(Ωm::Float64, Ωb::Float64, h::Float64, n_s::Float64, σ8::Float64; θCMB::Float64, nk::Int64, nz::Int64, nz_pk::Int64, tk_mode::String, Pk_mode::String)",
      "    @ LimberJack ~/PhD/LimberJack.jl/src/core.jl:151",
      "  [6] test_func(dz::ForwardDiff.Dual{ForwardDiff.Tag{typeof(test_func), Float64}, Float64, 1}; nzs::Matrix{Float64})",
      "    @ Main ./In[12]:12",
      "  [7] test_func(dz::ForwardDiff.Dual{ForwardDiff.Tag{typeof(test_func), Float64}, Float64, 1})",
      "    @ Main ./In[12]:3",
      "  [8] derivative(f::typeof(test_func), x::Float64)",
      "    @ ForwardDiff ~/.julia/packages/ForwardDiff/PBzup/src/derivative.jl:14",
      "  [9] top-level scope",
      "    @ In[13]:1",
      " [10] eval",
      "    @ ./boot.jl:373 [inlined]",
      " [11] include_string(mapexpr::typeof(REPL.softscope), mod::Module, code::String, filename::String)",
      "    @ Base ./loading.jl:1196"
     ]
    }
   ],
   "source": [
    "diff1 = ForwardDiff.derivative(test_func, -0.01) "
   ]
  },
  {
   "cell_type": "code",
   "execution_count": 14,
   "id": "91206f1c",
   "metadata": {},
   "outputs": [
    {
     "ename": "LoadError",
     "evalue": "UndefVarError: quadgk not defined",
     "output_type": "error",
     "traceback": [
      "UndefVarError: quadgk not defined",
      "",
      "Stacktrace:",
      "  [1] (::LimberJack.var\"#1#6\"{CosmoPar{Real}})(zz::Float64)",
      "    @ LimberJack ./none:0",
      "  [2] iterate",
      "    @ ./generator.jl:47 [inlined]",
      "  [3] collect(itr::Base.Generator{StepRangeLen{Float64, Base.TwicePrecision{Float64}, Base.TwicePrecision{Float64}, Int64}, LimberJack.var\"#1#6\"{CosmoPar{Real}}})",
      "    @ Base ./array.jl:724",
      "  [4] Cosmology(cpar::CosmoPar{Real}, settings::Settings)",
      "    @ LimberJack ~/PhD/LimberJack.jl/src/core.jl:99",
      "  [5] Cosmology(Ωm::Float64, Ωb::Float64, h::Float64, n_s::Float64, σ8::Float64; θCMB::Float64, nk::Int64, nz::Int64, nz_pk::Int64, tk_mode::String, Pk_mode::String)",
      "    @ LimberJack ~/PhD/LimberJack.jl/src/core.jl:151",
      "  [6] test_func(dz::Float64; nzs::Matrix{Float64})",
      "    @ Main ./In[12]:12",
      "  [7] test_func(dz::Float64)",
      "    @ Main ./In[12]:3",
      "  [8] numd_test_func(dz::Float64)",
      "    @ Main ./In[12]:17",
      "  [9] top-level scope",
      "    @ In[14]:1",
      " [10] eval",
      "    @ ./boot.jl:373 [inlined]",
      " [11] include_string(mapexpr::typeof(REPL.softscope), mod::Module, code::String, filename::String)",
      "    @ Base ./loading.jl:1196"
     ]
    }
   ],
   "source": [
    "diff2 = numd_test_func(-0.01)"
   ]
  },
  {
   "cell_type": "code",
   "execution_count": 15,
   "id": "a336aa06",
   "metadata": {},
   "outputs": [
    {
     "ename": "LoadError",
     "evalue": "UndefVarError: diff1 not defined",
     "output_type": "error",
     "traceback": [
      "UndefVarError: diff1 not defined",
      "",
      "Stacktrace:",
      " [1] top-level scope",
      "   @ In[15]:1",
      " [2] eval",
      "   @ ./boot.jl:373 [inlined]",
      " [3] include_string(mapexpr::typeof(REPL.softscope), mod::Module, code::String, filename::String)",
      "   @ Base ./loading.jl:1196"
     ]
    }
   ],
   "source": [
    "plot(diff1)\n",
    "plot!(diff2)"
   ]
  },
  {
   "cell_type": "code",
   "execution_count": 16,
   "id": "565bb0a6",
   "metadata": {
    "scrolled": true
   },
   "outputs": [
    {
     "ename": "LoadError",
     "evalue": "UndefVarError: quadgk not defined",
     "output_type": "error",
     "traceback": [
      "UndefVarError: quadgk not defined",
      "",
      "Stacktrace:",
      " [1] (::LimberJack.var\"#1#6\"{CosmoPar{Real}})(zz::Float64)",
      "   @ LimberJack ./none:0",
      " [2] iterate",
      "   @ ./generator.jl:47 [inlined]",
      " [3] collect(itr::Base.Generator{StepRangeLen{Float64, Base.TwicePrecision{Float64}, Base.TwicePrecision{Float64}, Int64}, LimberJack.var\"#1#6\"{CosmoPar{Real}}})",
      "   @ Base ./array.jl:724",
      " [4] Cosmology(cpar::CosmoPar{Real}, settings::Settings)",
      "   @ LimberJack ~/PhD/LimberJack.jl/src/core.jl:99",
      " [5] Cosmology(Ωm::Float64, Ωb::Float64, h::Float64, n_s::Float64, σ8::Float64; θCMB::Float64, nk::Int64, nz::Int64, nz_pk::Int64, tk_mode::String, Pk_mode::String)",
      "   @ LimberJack ~/PhD/LimberJack.jl/src/core.jl:151",
      " [6] make_cls(pars::Vector{Float64})",
      "   @ Main ./In[7]:28",
      " [7] top-level scope",
      "   @ In[16]:1",
      " [8] eval",
      "   @ ./boot.jl:373 [inlined]",
      " [9] include_string(mapexpr::typeof(REPL.softscope), mod::Module, code::String, filename::String)",
      "   @ Base ./loading.jl:1196"
     ]
    }
   ],
   "source": [
    "cls_jaime1 = make_cls(carlos_params1);"
   ]
  },
  {
   "cell_type": "code",
   "execution_count": 17,
   "id": "3c5aceaa",
   "metadata": {},
   "outputs": [
    {
     "ename": "LoadError",
     "evalue": "UndefVarError: cls_jaime1 not defined",
     "output_type": "error",
     "traceback": [
      "UndefVarError: cls_jaime1 not defined",
      "",
      "Stacktrace:",
      " [1] (::var\"#6#7\")(io::IOStream)",
      "   @ Main ./In[17]:2",
      " [2] open(::var\"#6#7\", ::String, ::Vararg{String}; kwargs::Base.Pairs{Symbol, Union{}, Tuple{}, NamedTuple{(), Tuple{}}})",
      "   @ Base ./io.jl:330",
      " [3] open(::Function, ::String, ::String)",
      "   @ Base ./io.jl:328",
      " [4] top-level scope",
      "   @ In[17]:1",
      " [5] eval",
      "   @ ./boot.jl:373 [inlined]",
      " [6] include_string(mapexpr::typeof(REPL.softscope), mod::Module, code::String, filename::String)",
      "   @ Base ./loading.jl:1196"
     ]
    }
   ],
   "source": [
    "open(\"jaime_cls.txt\", \"w\") do io\n",
    "       writedlm(io, cls_jaime1)\n",
    "end"
   ]
  },
  {
   "cell_type": "code",
   "execution_count": 18,
   "id": "b3fede1b",
   "metadata": {},
   "outputs": [
    {
     "ename": "LoadError",
     "evalue": "UndefVarError: cls_jaime1 not defined",
     "output_type": "error",
     "traceback": [
      "UndefVarError: cls_jaime1 not defined",
      "",
      "Stacktrace:",
      " [1] top-level scope",
      "   @ In[18]:1",
      " [2] eval",
      "   @ ./boot.jl:373 [inlined]",
      " [3] include_string(mapexpr::typeof(REPL.softscope), mod::Module, code::String, filename::String)",
      "   @ Base ./loading.jl:1196"
     ]
    }
   ],
   "source": [
    "compa1 = @. abs(cls_carlos[\"cls\"]-cls_jaime1)/cls_carlos[\"cls\"];\n",
    "compa2 = @. abs(cls_carlos2[\"cls\"]-cls_jaime1)/cls_carlos2[\"cls\"];\n",
    "compa3 = @. abs(cls_carlos3[\"cls\"]-cls_jaime1)/cls_carlos3[\"cls\"];\n",
    "compa4 = @. abs(cls_carlos4[\"cls\"]-cls_jaime1)/cls_carlos4[\"cls\"];\n",
    "\n",
    "println(\"Mean discrepancy default   \", mean(compa1))\n",
    "println(\"Mean discrepancy no itp    \", mean(compa2))\n",
    "println(\"Mean discrepancy no itp+EH \", mean(compa3))\n",
    "println(\"Mean discrepancy no itp+EH+noconv \", mean(compa4))"
   ]
  },
  {
   "cell_type": "code",
   "execution_count": 19,
   "id": "98004bb5",
   "metadata": {},
   "outputs": [
    {
     "name": "stdout",
     "output_type": "stream",
     "text": [
      "495.62231927779936\n",
      "495.00947244084654\n",
      "495.89420547809317\n",
      "497.2051355000593\n"
     ]
    }
   ],
   "source": [
    "chi2_carlos = cls_carlos[\"chi2_nolp\"]\n",
    "chi2_carlos2 = cls_carlos2[\"chi2_nolp\"]\n",
    "chi2_carlos3 = cls_carlos3[\"chi2_nolp\"]\n",
    "chi2_carlos4 = cls_carlos4[\"chi2_nolp\"]\n",
    "println(chi2_carlos)\n",
    "println(chi2_carlos2)\n",
    "println(chi2_carlos3)\n",
    "println(chi2_carlos4)"
   ]
  },
  {
   "cell_type": "code",
   "execution_count": 20,
   "id": "b5075df6",
   "metadata": {},
   "outputs": [
    {
     "ename": "LoadError",
     "evalue": "UndefVarError: cls_jaime1 not defined",
     "output_type": "error",
     "traceback": [
      "UndefVarError: cls_jaime1 not defined",
      "",
      "Stacktrace:",
      " [1] top-level scope",
      "   @ In[20]:1",
      " [2] eval",
      "   @ ./boot.jl:373 [inlined]",
      " [3] include_string(mapexpr::typeof(REPL.softscope), mod::Module, code::String, filename::String)",
      "   @ Base ./loading.jl:1196"
     ]
    }
   ],
   "source": [
    "chi2_jaime1 = dot((cls_jaime1 .- data_vector), inv_cov_tot  * (cls_jaime1 .- data_vector))\n",
    "println(chi2_jaime1)"
   ]
  },
  {
   "cell_type": "code",
   "execution_count": 21,
   "id": "fc2724ad",
   "metadata": {},
   "outputs": [
    {
     "ename": "LoadError",
     "evalue": "UndefVarError: chi2_jaime1 not defined",
     "output_type": "error",
     "traceback": [
      "UndefVarError: chi2_jaime1 not defined",
      "",
      "Stacktrace:",
      " [1] top-level scope",
      "   @ In[21]:1",
      " [2] eval",
      "   @ ./boot.jl:373 [inlined]",
      " [3] include_string(mapexpr::typeof(REPL.softscope), mod::Module, code::String, filename::String)",
      "   @ Base ./loading.jl:1196"
     ]
    }
   ],
   "source": [
    "(chi2_jaime1-chi2_carlos4)/chi2_carlos4"
   ]
  },
  {
   "cell_type": "code",
   "execution_count": 22,
   "id": "3e5821ea",
   "metadata": {
    "scrolled": false
   },
   "outputs": [
    {
     "ename": "LoadError",
     "evalue": "UndefVarError: compa1 not defined",
     "output_type": "error",
     "traceback": [
      "UndefVarError: compa1 not defined",
      "",
      "Stacktrace:",
      " [1] top-level scope",
      "   @ In[22]:1",
      " [2] eval",
      "   @ ./boot.jl:373 [inlined]",
      " [3] include_string(mapexpr::typeof(REPL.softscope), mod::Module, code::String, filename::String)",
      "   @ Base ./loading.jl:1196"
     ]
    }
   ],
   "source": [
    "plot(compa1, label=\"(Carlos-Jaime1)/Carlos\")\n",
    "plot!(compa4, label=\"No itp + EH + no Conv\")"
   ]
  },
  {
   "cell_type": "code",
   "execution_count": null,
   "id": "0ce1327c",
   "metadata": {},
   "outputs": [],
   "source": []
  },
  {
   "cell_type": "code",
   "execution_count": 41,
   "id": "7325f732",
   "metadata": {},
   "outputs": [],
   "source": [
    "@model function model(data_vector::Vector{Float64})\n",
    "    Ωm ~ Uniform(0.1, 0.6)\n",
    "    Ωb = 0.05 #~ Uniform(0.03, 0.07)\n",
    "    h = 0.67 #~ Uniform(0.6, 0.9)\n",
    "    s8 = 0.81 #~ Uniform(0.6, 1.0)\n",
    "    ns = 0.96 #~ Uniform(0.87, 1.07)\n",
    "    \n",
    "    #b0 ~ Uniform(0.8, 3.0)\n",
    "    #b1 ~ Uniform(0.8, 3.0)\n",
    "    #b2 ~ Uniform(0.8, 3.0)\n",
    "    #b3 ~ Uniform(0.8, 3.0)\n",
    "    #b4 ~ Uniform(0.8, 3.0)\n",
    "    \n",
    "    dz_g0 ~ TruncatedNormal(0.008, 0.007, -2.0, 2.0)\n",
    "    dz_g1 ~ TruncatedNormal(-0.005, 0.007, -2.0, 2.0)\n",
    "    dz_g2 ~ TruncatedNormal(0.006, 0.006, -2.0, 2.0)\n",
    "    dz_g3 ~ TruncatedNormal(0.0, 0.010, -2.0, 2.0)\n",
    "    dz_g4 ~ TruncatedNormal(0.0, 0.010, -2.0, 2.0)\n",
    "    \n",
    "    #m0 ~ Normal(0.0, 0.035)\n",
    "    #m1 ~ Normal(0.0, 0.035)\n",
    "    #m2 ~ Normal(0.0, 0.035)\n",
    "    #m3 ~ Normal(0.0, 0.035)\n",
    "    \n",
    "    #A_IA ~ Uniform(-5, 5) \n",
    "    #alpha_IA ~ Uniform(-5, 5)\n",
    "\n",
    "    nuisances = Dict(\"dz_g0\" => dz_g0,\n",
    "                     \"dz_g1\" => dz_g1,\n",
    "                     \"dz_g2\" => dz_g2,\n",
    "                     \"dz_g3\" => dz_g3,\n",
    "                     \"dz_g4\" => dz_g4)\n",
    "    cosmology = LimberJack.Cosmology(Ωm, Ωb, h, s8, s8,\n",
    "                                     tk_mode=\"EisHu\",\n",
    "                                     Pk_mode=\"Halofit\")\n",
    "    \n",
    "    theory = Theory(cosmology, nuisances, Cls_meta, files).cls\n",
    "    data_vector ~ MvNormal(theory, cov_tot)\n",
    "    return data_vector\n",
    "end;"
   ]
  },
  {
   "cell_type": "code",
   "execution_count": 42,
   "id": "4a0dba7f",
   "metadata": {},
   "outputs": [],
   "source": [
    "iterations = 300\n",
    "nadapts = 100;"
   ]
  },
  {
   "cell_type": "code",
   "execution_count": 43,
   "id": "140ac55c",
   "metadata": {},
   "outputs": [
    {
     "name": "stderr",
     "output_type": "stream",
     "text": [
      "\u001b[32mSampling: 100%|█████████████████████████████████████████| Time: 0:00:11\u001b[39m\n"
     ]
    },
    {
     "ename": "LoadError",
     "evalue": "InterruptException:",
     "output_type": "error",
     "traceback": [
      "InterruptException:",
      "",
      "Stacktrace:",
      "  [1] broadcasted",
      "    @ ./broadcast.jl:1305 [inlined]",
      "  [2] broadcasted(::Function, ::Vector{Float64}, ::Vector{Float64})",
      "    @ Base.Broadcast ./broadcast.jl:1303",
      "  [3] power_spectrum_nonlin(cpar::CosmoPar{Real}, PkL::Vector{Float64}, k::Vector{Float64}, z::Float64, rsig::Float64, neff::Float64, C::Float64)",
      "    @ LimberJack ~/PhD/LimberJack.jl/src/halofit.jl:159",
      "  [4] (::LimberJack.var\"#18#23\"{CosmoPar{Real}, StepRangeLen{Float64, Base.TwicePrecision{Float64}, Base.TwicePrecision{Float64}, Int64}, Vector{Float64}, Vector{Float64}, Vector{Float64}, Vector{Float64}, Vector{Float64}, Vector{Float64}})(i::Int64)",
      "    @ LimberJack ./none:0",
      "  [5] iterate",
      "    @ ./generator.jl:47 [inlined]",
      "  [6] collect_to!(dest::Vector{Vector{Float64}}, itr::Base.Generator{UnitRange{Int64}, LimberJack.var\"#18#23\"{CosmoPar{Real}, StepRangeLen{Float64, Base.TwicePrecision{Float64}, Base.TwicePrecision{Float64}, Int64}, Vector{Float64}, Vector{Float64}, Vector{Float64}, Vector{Float64}, Vector{Float64}, Vector{Float64}}}, offs::Int64, st::Int64)",
      "    @ Base ./array.jl:782",
      "  [7] collect_to_with_first!(dest::Vector{Vector{Float64}}, v1::Vector{Float64}, itr::Base.Generator{UnitRange{Int64}, LimberJack.var\"#18#23\"{CosmoPar{Real}, StepRangeLen{Float64, Base.TwicePrecision{Float64}, Base.TwicePrecision{Float64}, Int64}, Vector{Float64}, Vector{Float64}, Vector{Float64}, Vector{Float64}, Vector{Float64}, Vector{Float64}}}, st::Int64)",
      "    @ Base ./array.jl:760",
      "  [8] collect(itr::Base.Generator{UnitRange{Int64}, LimberJack.var\"#18#23\"{CosmoPar{Real}, StepRangeLen{Float64, Base.TwicePrecision{Float64}, Base.TwicePrecision{Float64}, Int64}, Vector{Float64}, Vector{Float64}, Vector{Float64}, Vector{Float64}, Vector{Float64}, Vector{Float64}}})",
      "    @ Base ./array.jl:734",
      "  [9] get_PKnonlin(cosmo::CosmoPar{Real}, z::StepRangeLen{Float64, Base.TwicePrecision{Float64}, Base.TwicePrecision{Float64}, Int64}, k::Vector{Float64}, PkLz0::Vector{Float64}, Dzs::Vector{Float64})",
      "    @ LimberJack ~/PhD/LimberJack.jl/src/halofit.jl:48",
      " [10] Cosmology(cpar::CosmoPar{Real}, settings::Settings)",
      "    @ LimberJack ~/PhD/LimberJack.jl/src/core.jl:142",
      " [11] Cosmology(Ωm::Float64, Ωb::Float64, h::Float64, n_s::Float64, σ8::Float64; θCMB::Float64, nk::Int64, nz::Int64, nz_pk::Int64, tk_mode::String, Pk_mode::String)",
      "    @ LimberJack ~/PhD/LimberJack.jl/src/core.jl:158",
      " [12] #15",
      "    @ ./In[41]:33 [inlined]",
      " [13] (::var\"#15#16\")(__rng__::Random._GLOBAL_RNG, __model__::DynamicPPL.Model{var\"#15#16\", (:data_vector,), (), (), Tuple{Vector{Float64}}, Tuple{}}, __varinfo__::DynamicPPL.ThreadSafeVarInfo{DynamicPPL.TypedVarInfo{NamedTuple{(:Ωm, :dz_g0, :dz_g1, :dz_g2, :dz_g3, :dz_g4), Tuple{DynamicPPL.Metadata{Dict{AbstractPPL.VarName{:Ωm, Tuple{}}, Int64}, Vector{Uniform{Float64}}, Vector{AbstractPPL.VarName{:Ωm, Tuple{}}}, Vector{Float64}, Vector{Set{DynamicPPL.Selector}}}, DynamicPPL.Metadata{Dict{AbstractPPL.VarName{:dz_g0, Tuple{}}, Int64}, Vector{Truncated{Normal{Float64}, Continuous, Float64}}, Vector{AbstractPPL.VarName{:dz_g0, Tuple{}}}, Vector{Float64}, Vector{Set{DynamicPPL.Selector}}}, DynamicPPL.Metadata{Dict{AbstractPPL.VarName{:dz_g1, Tuple{}}, Int64}, Vector{Truncated{Normal{Float64}, Continuous, Float64}}, Vector{AbstractPPL.VarName{:dz_g1, Tuple{}}}, Vector{Float64}, Vector{Set{DynamicPPL.Selector}}}, DynamicPPL.Metadata{Dict{AbstractPPL.VarName{:dz_g2, Tuple{}}, Int64}, Vector{Truncated{Normal{Float64}, Continuous, Float64}}, Vector{AbstractPPL.VarName{:dz_g2, Tuple{}}}, Vector{Float64}, Vector{Set{DynamicPPL.Selector}}}, DynamicPPL.Metadata{Dict{AbstractPPL.VarName{:dz_g3, Tuple{}}, Int64}, Vector{Truncated{Normal{Float64}, Continuous, Float64}}, Vector{AbstractPPL.VarName{:dz_g3, Tuple{}}}, Vector{Float64}, Vector{Set{DynamicPPL.Selector}}}, DynamicPPL.Metadata{Dict{AbstractPPL.VarName{:dz_g4, Tuple{}}, Int64}, Vector{Truncated{Normal{Float64}, Continuous, Float64}}, Vector{AbstractPPL.VarName{:dz_g4, Tuple{}}}, Vector{Float64}, Vector{Set{DynamicPPL.Selector}}}}}, Float64}, Vector{Base.RefValue{Float64}}}, __sampler__::DynamicPPL.SampleFromPrior, __context__::DynamicPPL.DefaultContext, data_vector::Vector{Float64})",
      "    @ Main ./none:0",
      " [14] macro expansion",
      "    @ ~/.julia/packages/DynamicPPL/SgzCy/src/model.jl:0 [inlined]",
      " [15] _evaluate",
      "    @ ~/.julia/packages/DynamicPPL/SgzCy/src/model.jl:154 [inlined]",
      " [16] evaluate_threadsafe(rng::Random._GLOBAL_RNG, model::DynamicPPL.Model{var\"#15#16\", (:data_vector,), (), (), Tuple{Vector{Float64}}, Tuple{}}, varinfo::DynamicPPL.TypedVarInfo{NamedTuple{(:Ωm, :dz_g0, :dz_g1, :dz_g2, :dz_g3, :dz_g4), Tuple{DynamicPPL.Metadata{Dict{AbstractPPL.VarName{:Ωm, Tuple{}}, Int64}, Vector{Uniform{Float64}}, Vector{AbstractPPL.VarName{:Ωm, Tuple{}}}, Vector{Float64}, Vector{Set{DynamicPPL.Selector}}}, DynamicPPL.Metadata{Dict{AbstractPPL.VarName{:dz_g0, Tuple{}}, Int64}, Vector{Truncated{Normal{Float64}, Continuous, Float64}}, Vector{AbstractPPL.VarName{:dz_g0, Tuple{}}}, Vector{Float64}, Vector{Set{DynamicPPL.Selector}}}, DynamicPPL.Metadata{Dict{AbstractPPL.VarName{:dz_g1, Tuple{}}, Int64}, Vector{Truncated{Normal{Float64}, Continuous, Float64}}, Vector{AbstractPPL.VarName{:dz_g1, Tuple{}}}, Vector{Float64}, Vector{Set{DynamicPPL.Selector}}}, DynamicPPL.Metadata{Dict{AbstractPPL.VarName{:dz_g2, Tuple{}}, Int64}, Vector{Truncated{Normal{Float64}, Continuous, Float64}}, Vector{AbstractPPL.VarName{:dz_g2, Tuple{}}}, Vector{Float64}, Vector{Set{DynamicPPL.Selector}}}, DynamicPPL.Metadata{Dict{AbstractPPL.VarName{:dz_g3, Tuple{}}, Int64}, Vector{Truncated{Normal{Float64}, Continuous, Float64}}, Vector{AbstractPPL.VarName{:dz_g3, Tuple{}}}, Vector{Float64}, Vector{Set{DynamicPPL.Selector}}}, DynamicPPL.Metadata{Dict{AbstractPPL.VarName{:dz_g4, Tuple{}}, Int64}, Vector{Truncated{Normal{Float64}, Continuous, Float64}}, Vector{AbstractPPL.VarName{:dz_g4, Tuple{}}}, Vector{Float64}, Vector{Set{DynamicPPL.Selector}}}}}, Float64}, sampler::DynamicPPL.SampleFromPrior, context::DynamicPPL.DefaultContext)",
      "    @ DynamicPPL ~/.julia/packages/DynamicPPL/SgzCy/src/model.jl:144",
      " [17] Model",
      "    @ ~/.julia/packages/DynamicPPL/SgzCy/src/model.jl:94 [inlined]",
      " [18] Model",
      "    @ ~/.julia/packages/DynamicPPL/SgzCy/src/model.jl:91 [inlined]",
      " [19] Model",
      "    @ ~/.julia/packages/DynamicPPL/SgzCy/src/model.jl:98 [inlined]",
      " [20] (::Turing.Inference.MHLogDensityFunction{DynamicPPL.Model{var\"#15#16\", (:data_vector,), (), (), Tuple{Vector{Float64}}, Tuple{}}, DynamicPPL.Sampler{MH{(), NamedTuple{(), Tuple{}}}}, DynamicPPL.TypedVarInfo{NamedTuple{(:Ωm, :dz_g0, :dz_g1, :dz_g2, :dz_g3, :dz_g4), Tuple{DynamicPPL.Metadata{Dict{AbstractPPL.VarName{:Ωm, Tuple{}}, Int64}, Vector{Uniform{Float64}}, Vector{AbstractPPL.VarName{:Ωm, Tuple{}}}, Vector{Float64}, Vector{Set{DynamicPPL.Selector}}}, DynamicPPL.Metadata{Dict{AbstractPPL.VarName{:dz_g0, Tuple{}}, Int64}, Vector{Truncated{Normal{Float64}, Continuous, Float64}}, Vector{AbstractPPL.VarName{:dz_g0, Tuple{}}}, Vector{Float64}, Vector{Set{DynamicPPL.Selector}}}, DynamicPPL.Metadata{Dict{AbstractPPL.VarName{:dz_g1, Tuple{}}, Int64}, Vector{Truncated{Normal{Float64}, Continuous, Float64}}, Vector{AbstractPPL.VarName{:dz_g1, Tuple{}}}, Vector{Float64}, Vector{Set{DynamicPPL.Selector}}}, DynamicPPL.Metadata{Dict{AbstractPPL.VarName{:dz_g2, Tuple{}}, Int64}, Vector{Truncated{Normal{Float64}, Continuous, Float64}}, Vector{AbstractPPL.VarName{:dz_g2, Tuple{}}}, Vector{Float64}, Vector{Set{DynamicPPL.Selector}}}, DynamicPPL.Metadata{Dict{AbstractPPL.VarName{:dz_g3, Tuple{}}, Int64}, Vector{Truncated{Normal{Float64}, Continuous, Float64}}, Vector{AbstractPPL.VarName{:dz_g3, Tuple{}}}, Vector{Float64}, Vector{Set{DynamicPPL.Selector}}}, DynamicPPL.Metadata{Dict{AbstractPPL.VarName{:dz_g4, Tuple{}}, Int64}, Vector{Truncated{Normal{Float64}, Continuous, Float64}}, Vector{AbstractPPL.VarName{:dz_g4, Tuple{}}}, Vector{Float64}, Vector{Set{DynamicPPL.Selector}}}}}, Float64}})(x::NamedTuple{(:Ωm, :dz_g0, :dz_g1, :dz_g2, :dz_g3, :dz_g4), NTuple{6, Float64}})",
      "    @ Turing.Inference ~/.julia/packages/Turing/uAz5c/src/inference/mh.jl:257",
      " [21] logdensity",
      "    @ ~/.julia/packages/AdvancedMH/OtXed/src/AdvancedMH.jl:52 [inlined]",
      " [22] Transition",
      "    @ ~/.julia/packages/AdvancedMH/OtXed/src/AdvancedMH.jl:49 [inlined]",
      " [23] propose",
      "    @ ~/.julia/packages/AdvancedMH/OtXed/src/mh-core.jl:113 [inlined]",
      " [24] step(rng::Random._GLOBAL_RNG, model::AdvancedMH.DensityModel{Turing.Inference.MHLogDensityFunction{DynamicPPL.Model{var\"#15#16\", (:data_vector,), (), (), Tuple{Vector{Float64}}, Tuple{}}, DynamicPPL.Sampler{MH{(), NamedTuple{(), Tuple{}}}}, DynamicPPL.TypedVarInfo{NamedTuple{(:Ωm, :dz_g0, :dz_g1, :dz_g2, :dz_g3, :dz_g4), Tuple{DynamicPPL.Metadata{Dict{AbstractPPL.VarName{:Ωm, Tuple{}}, Int64}, Vector{Uniform{Float64}}, Vector{AbstractPPL.VarName{:Ωm, Tuple{}}}, Vector{Float64}, Vector{Set{DynamicPPL.Selector}}}, DynamicPPL.Metadata{Dict{AbstractPPL.VarName{:dz_g0, Tuple{}}, Int64}, Vector{Truncated{Normal{Float64}, Continuous, Float64}}, Vector{AbstractPPL.VarName{:dz_g0, Tuple{}}}, Vector{Float64}, Vector{Set{DynamicPPL.Selector}}}, DynamicPPL.Metadata{Dict{AbstractPPL.VarName{:dz_g1, Tuple{}}, Int64}, Vector{Truncated{Normal{Float64}, Continuous, Float64}}, Vector{AbstractPPL.VarName{:dz_g1, Tuple{}}}, Vector{Float64}, Vector{Set{DynamicPPL.Selector}}}, DynamicPPL.Metadata{Dict{AbstractPPL.VarName{:dz_g2, Tuple{}}, Int64}, Vector{Truncated{Normal{Float64}, Continuous, Float64}}, Vector{AbstractPPL.VarName{:dz_g2, Tuple{}}}, Vector{Float64}, Vector{Set{DynamicPPL.Selector}}}, DynamicPPL.Metadata{Dict{AbstractPPL.VarName{:dz_g3, Tuple{}}, Int64}, Vector{Truncated{Normal{Float64}, Continuous, Float64}}, Vector{AbstractPPL.VarName{:dz_g3, Tuple{}}}, Vector{Float64}, Vector{Set{DynamicPPL.Selector}}}, DynamicPPL.Metadata{Dict{AbstractPPL.VarName{:dz_g4, Tuple{}}, Int64}, Vector{Truncated{Normal{Float64}, Continuous, Float64}}, Vector{AbstractPPL.VarName{:dz_g4, Tuple{}}}, Vector{Float64}, Vector{Set{DynamicPPL.Selector}}}}}, Float64}}}, spl::AdvancedMH.MetropolisHastings{NamedTuple{(:Ωm, :dz_g0, :dz_g1, :dz_g2, :dz_g3, :dz_g4), Tuple{AdvancedMH.StaticProposal{Uniform{Float64}}, AdvancedMH.StaticProposal{Truncated{Normal{Float64}, Continuous, Float64}}, AdvancedMH.StaticProposal{Truncated{Normal{Float64}, Continuous, Float64}}, AdvancedMH.StaticProposal{Truncated{Normal{Float64}, Continuous, Float64}}, AdvancedMH.StaticProposal{Truncated{Normal{Float64}, Continuous, Float64}}, AdvancedMH.StaticProposal{Truncated{Normal{Float64}, Continuous, Float64}}}}}, params_prev::AdvancedMH.Transition{NamedTuple{(:Ωm, :dz_g0, :dz_g1, :dz_g2, :dz_g3, :dz_g4), NTuple{6, Float64}}, Float64}; kwargs::Base.Pairs{Symbol, Union{}, Tuple{}, NamedTuple{(), Tuple{}}})",
      "    @ AdvancedMH ~/.julia/packages/AdvancedMH/OtXed/src/mh-core.jl:231",
      " [25] step(rng::Random._GLOBAL_RNG, model::AdvancedMH.DensityModel{Turing.Inference.MHLogDensityFunction{DynamicPPL.Model{var\"#15#16\", (:data_vector,), (), (), Tuple{Vector{Float64}}, Tuple{}}, DynamicPPL.Sampler{MH{(), NamedTuple{(), Tuple{}}}}, DynamicPPL.TypedVarInfo{NamedTuple{(:Ωm, :dz_g0, :dz_g1, :dz_g2, :dz_g3, :dz_g4), Tuple{DynamicPPL.Metadata{Dict{AbstractPPL.VarName{:Ωm, Tuple{}}, Int64}, Vector{Uniform{Float64}}, Vector{AbstractPPL.VarName{:Ωm, Tuple{}}}, Vector{Float64}, Vector{Set{DynamicPPL.Selector}}}, DynamicPPL.Metadata{Dict{AbstractPPL.VarName{:dz_g0, Tuple{}}, Int64}, Vector{Truncated{Normal{Float64}, Continuous, Float64}}, Vector{AbstractPPL.VarName{:dz_g0, Tuple{}}}, Vector{Float64}, Vector{Set{DynamicPPL.Selector}}}, DynamicPPL.Metadata{Dict{AbstractPPL.VarName{:dz_g1, Tuple{}}, Int64}, Vector{Truncated{Normal{Float64}, Continuous, Float64}}, Vector{AbstractPPL.VarName{:dz_g1, Tuple{}}}, Vector{Float64}, Vector{Set{DynamicPPL.Selector}}}, DynamicPPL.Metadata{Dict{AbstractPPL.VarName{:dz_g2, Tuple{}}, Int64}, Vector{Truncated{Normal{Float64}, Continuous, Float64}}, Vector{AbstractPPL.VarName{:dz_g2, Tuple{}}}, Vector{Float64}, Vector{Set{DynamicPPL.Selector}}}, DynamicPPL.Metadata{Dict{AbstractPPL.VarName{:dz_g3, Tuple{}}, Int64}, Vector{Truncated{Normal{Float64}, Continuous, Float64}}, Vector{AbstractPPL.VarName{:dz_g3, Tuple{}}}, Vector{Float64}, Vector{Set{DynamicPPL.Selector}}}, DynamicPPL.Metadata{Dict{AbstractPPL.VarName{:dz_g4, Tuple{}}, Int64}, Vector{Truncated{Normal{Float64}, Continuous, Float64}}, Vector{AbstractPPL.VarName{:dz_g4, Tuple{}}}, Vector{Float64}, Vector{Set{DynamicPPL.Selector}}}}}, Float64}}}, spl::AdvancedMH.MetropolisHastings{NamedTuple{(:Ωm, :dz_g0, :dz_g1, :dz_g2, :dz_g3, :dz_g4), Tuple{AdvancedMH.StaticProposal{Uniform{Float64}}, AdvancedMH.StaticProposal{Truncated{Normal{Float64}, Continuous, Float64}}, AdvancedMH.StaticProposal{Truncated{Normal{Float64}, Continuous, Float64}}, AdvancedMH.StaticProposal{Truncated{Normal{Float64}, Continuous, Float64}}, AdvancedMH.StaticProposal{Truncated{Normal{Float64}, Continuous, Float64}}, AdvancedMH.StaticProposal{Truncated{Normal{Float64}, Continuous, Float64}}}}}, params_prev::AdvancedMH.Transition{NamedTuple{(:Ωm, :dz_g0, :dz_g1, :dz_g2, :dz_g3, :dz_g4), NTuple{6, Float64}}, Float64})",
      "    @ AdvancedMH ~/.julia/packages/AdvancedMH/OtXed/src/mh-core.jl:231",
      " [26] propose!(rng::Random._GLOBAL_RNG, vi::DynamicPPL.TypedVarInfo{NamedTuple{(:Ωm, :dz_g0, :dz_g1, :dz_g2, :dz_g3, :dz_g4), Tuple{DynamicPPL.Metadata{Dict{AbstractPPL.VarName{:Ωm, Tuple{}}, Int64}, Vector{Uniform{Float64}}, Vector{AbstractPPL.VarName{:Ωm, Tuple{}}}, Vector{Float64}, Vector{Set{DynamicPPL.Selector}}}, DynamicPPL.Metadata{Dict{AbstractPPL.VarName{:dz_g0, Tuple{}}, Int64}, Vector{Truncated{Normal{Float64}, Continuous, Float64}}, Vector{AbstractPPL.VarName{:dz_g0, Tuple{}}}, Vector{Float64}, Vector{Set{DynamicPPL.Selector}}}, DynamicPPL.Metadata{Dict{AbstractPPL.VarName{:dz_g1, Tuple{}}, Int64}, Vector{Truncated{Normal{Float64}, Continuous, Float64}}, Vector{AbstractPPL.VarName{:dz_g1, Tuple{}}}, Vector{Float64}, Vector{Set{DynamicPPL.Selector}}}, DynamicPPL.Metadata{Dict{AbstractPPL.VarName{:dz_g2, Tuple{}}, Int64}, Vector{Truncated{Normal{Float64}, Continuous, Float64}}, Vector{AbstractPPL.VarName{:dz_g2, Tuple{}}}, Vector{Float64}, Vector{Set{DynamicPPL.Selector}}}, DynamicPPL.Metadata{Dict{AbstractPPL.VarName{:dz_g3, Tuple{}}, Int64}, Vector{Truncated{Normal{Float64}, Continuous, Float64}}, Vector{AbstractPPL.VarName{:dz_g3, Tuple{}}}, Vector{Float64}, Vector{Set{DynamicPPL.Selector}}}, DynamicPPL.Metadata{Dict{AbstractPPL.VarName{:dz_g4, Tuple{}}, Int64}, Vector{Truncated{Normal{Float64}, Continuous, Float64}}, Vector{AbstractPPL.VarName{:dz_g4, Tuple{}}}, Vector{Float64}, Vector{Set{DynamicPPL.Selector}}}}}, Float64}, model::DynamicPPL.Model{var\"#15#16\", (:data_vector,), (), (), Tuple{Vector{Float64}}, Tuple{}}, spl::DynamicPPL.Sampler{MH{(), NamedTuple{(), Tuple{}}}}, proposal::NamedTuple{(), Tuple{}})",
      "    @ Turing.Inference ~/.julia/packages/Turing/uAz5c/src/inference/mh.jl:359",
      " [27] #step#63",
      "    @ ~/.julia/packages/Turing/uAz5c/src/inference/mh.jl:424 [inlined]",
      " [28] macro expansion",
      "    @ ~/.julia/packages/AbstractMCMC/oou1a/src/sample.jl:140 [inlined]",
      " [29] macro expansion",
      "    @ ~/.julia/packages/ProgressLogging/6KXlp/src/ProgressLogging.jl:328 [inlined]",
      " [30] (::AbstractMCMC.var\"#20#21\"{Bool, String, Nothing, Int64, Int64, Base.Pairs{Symbol, Integer, Tuple{Symbol, Symbol}, NamedTuple{(:nadapt, :save_state), Tuple{Int64, Bool}}}, Random._GLOBAL_RNG, DynamicPPL.Model{var\"#15#16\", (:data_vector,), (), (), Tuple{Vector{Float64}}, Tuple{}}, DynamicPPL.Sampler{MH{(), NamedTuple{(), Tuple{}}}}, Int64, Int64})()",
      "    @ AbstractMCMC ~/.julia/packages/AbstractMCMC/oou1a/src/logging.jl:11",
      " [31] with_logstate(f::Function, logstate::Any)",
      "    @ Base.CoreLogging ./logging.jl:511",
      " [32] with_logger(f::Function, logger::LoggingExtras.TeeLogger{Tuple{LoggingExtras.EarlyFilteredLogger{ConsoleProgressMonitor.ProgressLogger, AbstractMCMC.var\"#1#3\"{Module}}, LoggingExtras.EarlyFilteredLogger{Base.CoreLogging.SimpleLogger, AbstractMCMC.var\"#2#4\"{Module}}}})",
      "    @ Base.CoreLogging ./logging.jl:623",
      " [33] with_progresslogger(f::Function, _module::Module, logger::Base.CoreLogging.SimpleLogger)",
      "    @ AbstractMCMC ~/.julia/packages/AbstractMCMC/oou1a/src/logging.jl:34",
      " [34] macro expansion",
      "    @ ~/.julia/packages/AbstractMCMC/oou1a/src/logging.jl:10 [inlined]",
      " [35] mcmcsample(rng::Random._GLOBAL_RNG, model::DynamicPPL.Model{var\"#15#16\", (:data_vector,), (), (), Tuple{Vector{Float64}}, Tuple{}}, sampler::DynamicPPL.Sampler{MH{(), NamedTuple{(), Tuple{}}}}, N::Int64; progress::Bool, progressname::String, callback::Nothing, discard_initial::Int64, thinning::Int64, chain_type::Type, kwargs::Base.Pairs{Symbol, Integer, Tuple{Symbol, Symbol}, NamedTuple{(:nadapt, :save_state), Tuple{Int64, Bool}}})",
      "    @ AbstractMCMC ~/.julia/packages/AbstractMCMC/oou1a/src/sample.jl:88",
      " [36] sample(rng::Random._GLOBAL_RNG, model::DynamicPPL.Model{var\"#15#16\", (:data_vector,), (), (), Tuple{Vector{Float64}}, Tuple{}}, sampler::DynamicPPL.Sampler{MH{(), NamedTuple{(), Tuple{}}}}, N::Int64; chain_type::Type, resume_from::Nothing, progress::Bool, kwargs::Base.Pairs{Symbol, Integer, Tuple{Symbol, Symbol}, NamedTuple{(:nadapt, :save_state), Tuple{Int64, Bool}}})",
      "    @ Turing.Inference ~/.julia/packages/Turing/uAz5c/src/inference/Inference.jl:156",
      " [37] #sample#2",
      "    @ ~/.julia/packages/Turing/uAz5c/src/inference/Inference.jl:142 [inlined]",
      " [38] #sample#1",
      "    @ ~/.julia/packages/Turing/uAz5c/src/inference/Inference.jl:132 [inlined]",
      " [39] top-level scope",
      "    @ In[43]:1",
      " [40] eval",
      "    @ ./boot.jl:373 [inlined]",
      " [41] include_string(mapexpr::typeof(REPL.softscope), mod::Module, code::String, filename::String)",
      "    @ Base ./loading.jl:1196"
     ]
    }
   ],
   "source": [
    "chain1 = sample(model(data_vector), MH(), iterations,\n",
    "            nadapt=nadapts, progress=true; save_state=true);"
   ]
  },
  {
   "cell_type": "code",
   "execution_count": 23,
   "id": "54da0b16",
   "metadata": {},
   "outputs": [
    {
     "ename": "LoadError",
     "evalue": "UndefVarError: model not defined",
     "output_type": "error",
     "traceback": [
      "UndefVarError: model not defined",
      "",
      "Stacktrace:",
      " [1] top-level scope",
      "   @ In[23]:1",
      " [2] eval",
      "   @ ./boot.jl:373 [inlined]",
      " [3] include_string(mapexpr::typeof(REPL.softscope), mod::Module, code::String, filename::String)",
      "   @ Base ./loading.jl:1196"
     ]
    }
   ],
   "source": [
    "chain3 = sample(model(data_vector), NUTS(5, 0.1), iterations,\n",
    "                progress=true; save_state=true);"
   ]
  },
  {
   "cell_type": "code",
   "execution_count": null,
   "id": "1f655835",
   "metadata": {},
   "outputs": [],
   "source": []
  }
 ],
 "metadata": {
  "kernelspec": {
   "display_name": "Julia 4 Threads 1.7.0",
   "language": "julia",
   "name": "julia-4-threads-1.7"
  },
  "language_info": {
   "file_extension": ".jl",
   "mimetype": "application/julia",
   "name": "julia",
   "version": "1.7.0"
  }
 },
 "nbformat": 4,
 "nbformat_minor": 5
}
