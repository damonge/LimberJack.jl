{
 "cells": [
  {
   "cell_type": "code",
   "execution_count": 1,
   "id": "02df9ee7",
   "metadata": {},
   "outputs": [
    {
     "name": "stderr",
     "output_type": "stream",
     "text": [
      "┌ Info: Precompiling LimberJack [6b86205d-155a-4b14-b82d-b6a149ea78f2]\n",
      "└ @ Base loading.jl:1423\n"
     ]
    }
   ],
   "source": [
    "using Turing\n",
    "using LimberJack\n",
    "using CSV\n",
    "using NPZ\n",
    "using Plots\n",
    "using FITSIO\n",
    "using Plots\n",
    "using LinearAlgebra\n",
    "using Distributed\n",
    "using StatsPlots\n",
    "using Optim\n",
    "using ForwardDiff\n",
    "using BenchmarkTools\n",
    "using DelimitedFiles"
   ]
  },
  {
   "cell_type": "code",
   "execution_count": 2,
   "id": "a74170be",
   "metadata": {},
   "outputs": [
    {
     "data": {
      "text/plain": [
       "cls_meta{Vector{Vector{Int64}}}([[1, 0], [1, 1], [1, 2], [1, 3], [1, 4], [2, 0], [2, 1], [2, 2], [2, 3]], [[1, 0, 1, 0], [1, 1, 1, 1], [1, 2, 1, 2], [1, 3, 1, 3], [1, 4, 1, 4], [1, 0, 2, 0], [1, 0, 2, 1], [1, 0, 2, 2], [1, 0, 2, 3], [1, 1, 2, 0]  …  [2, 0, 2, 0], [2, 0, 2, 1], [2, 0, 2, 2], [2, 0, 2, 3], [2, 1, 2, 1], [2, 1, 2, 2], [2, 1, 2, 3], [2, 2, 2, 2], [2, 2, 2, 3], [2, 3, 2, 3]], [[1, 1], [2, 2], [3, 3], [4, 4], [5, 5], [1, 6], [1, 7], [1, 8], [1, 9], [2, 6]  …  [6, 6], [6, 7], [6, 8], [6, 9], [7, 7], [7, 8], [7, 9], [8, 8], [8, 9], [9, 9]])"
      ]
     },
     "execution_count": 2,
     "metadata": {},
     "output_type": "execute_result"
    }
   ],
   "source": [
    "files = npzread(\"../data/DESY1_cls/Cls_meta.npz\")\n",
    "Cls_meta = cls_meta(files)"
   ]
  },
  {
   "cell_type": "code",
   "execution_count": 3,
   "id": "3a7469ed",
   "metadata": {},
   "outputs": [],
   "source": [
    "cov_tot = files[\"cov\"]\n",
    "inv_cov_tot = files[\"inv_cov\"]\n",
    "data_vector = files[\"cls\"];"
   ]
  },
  {
   "cell_type": "code",
   "execution_count": 4,
   "id": "57fb0a36",
   "metadata": {},
   "outputs": [],
   "source": [
    "#                Omega_b,           Omega_c          n_s,                 h,\n",
    "#                DESgc__0_gc_b,     DESgc__1_gc_b,   DESgc__2_gc_b,    DESgc__3_gc_b,    DESgc__4_gc_b,\n",
    "#                DESgc__0_dz,      DESgc__1_dz,      DESgc__2_dz,      DESgc__3_dz,      DESgc__4_dz,\n",
    "#                wl_ia_A,          wl_ia_eta, \n",
    "#                DESwl__0_wl_m,    DESwl__1_wl_m,    DESwl__2_wl_m,    DESwl__3_wl_m,\n",
    "#                DESwl__0_dz,      DESwl__1_dz,      DESwl__2_dz,      DESwl__3_dz,\n",
    "#                sigma_8,          Omega_m\n",
    "carlos_params1 = [4.426868e-02,     2.093138e-01,     8.963611e-01,     8.495440e-01,\n",
    "                 1.343888e+00,    1.639047e+00,      1.597174e+00,     1.944583e+00,     2.007245e+00,\n",
    "                -4.679383e-03,   -2.839996e-03,      1.771571e-03,     1.197051e-03,    -5.199799e-03,\n",
    "                 2.389208e-01,   -6.435288e-01, \n",
    "                 1.802722e-03,   -5.508994e-03,     1.952514e-02,    -1.117726e-03,\n",
    "                -1.744083e-02,    6.777779e-03,    -1.097939e-03,    -4.912315e-03,\n",
    "                 8.536883e-01,    2.535825e-01];"
   ]
  },
  {
   "cell_type": "code",
   "execution_count": 5,
   "id": "7d1a182c",
   "metadata": {},
   "outputs": [],
   "source": [
    "cls_carlos = npzread(\"/home/jaime/PhD/LimberJack.jl/chains/cl_cross_corr_v3_DES_2/cl_cross_corr_bestfit_info.npz\");\n",
    "cls_carlos2 = npzread(\"/home/jaime/PhD/LimberJack.jl/chains/cl_cross_corr_v3_DES_2/cl_cross_corr_bestfit_info_nointerp.npz\");\n",
    "cls_carlos3 = npzread(\"/home/jaime/PhD/LimberJack.jl/chains/cl_cross_corr_v3_DES_2/cl_cross_corr_bestfit_info_nointerp_EH.npz\");\n",
    "cls_carlos4 = npzread(\"/home/jaime/PhD/LimberJack.jl/chains/cl_cross_corr_v3_DES_2/cl_cross_corr_bestfit_info_nointerp_EH_noconv.npz\");"
   ]
  },
  {
   "cell_type": "code",
   "execution_count": 6,
   "id": "417c990f",
   "metadata": {},
   "outputs": [],
   "source": [
    "pars = carlos_params1\n",
    "nuisances = Dict(\"b0\" => pars[5],\n",
    "                 \"b1\" => pars[6],\n",
    "                 \"b2\" => pars[7],\n",
    "                 \"b3\" => pars[8],\n",
    "                 \"b4\" => pars[9],\n",
    "                 \"dz_g0\" => pars[10],\n",
    "                 \"dz_g1\" => pars[11],\n",
    "                 \"dz_g2\" => pars[12],\n",
    "                 \"dz_g3\" => pars[13],\n",
    "                 \"dz_g4\" => pars[14],\n",
    "                 \"dz_k0\" => pars[21],\n",
    "                 \"dz_k1\" => pars[22],\n",
    "                 \"dz_k2\" => pars[23],\n",
    "                 \"dz_k3\" => pars[24],\n",
    "                 \"m0\" => pars[17],\n",
    "                 \"m1\" => pars[18],\n",
    "                 \"m2\" => pars[19],\n",
    "                 \"m3\" => pars[20],\n",
    "                 \"A_IA\" => pars[15],\n",
    "                 \"alpha_IA\" => pars[16]);"
   ]
  },
  {
   "cell_type": "code",
   "execution_count": 7,
   "id": "81b7ac69",
   "metadata": {},
   "outputs": [
    {
     "data": {
      "text/plain": [
       "make_cls (generic function with 1 method)"
      ]
     },
     "execution_count": 7,
     "metadata": {},
     "output_type": "execute_result"
    }
   ],
   "source": [
    "function make_cls(pars; mode=\"linear\")\n",
    "    nuisances = Dict(\"b0\" => pars[5],\n",
    "                     \"b1\" => pars[6],\n",
    "                     \"b2\" => pars[7],\n",
    "                     \"b3\" => pars[8],\n",
    "                     \"b4\" => pars[9],\n",
    "                     \"dz_g0\" => pars[10],\n",
    "                     \"dz_g1\" => pars[11],\n",
    "                     \"dz_g2\" => pars[12],\n",
    "                     \"dz_g3\" => pars[13],\n",
    "                     \"dz_g4\" => pars[14],\n",
    "                     \"dz_k0\" => pars[21],\n",
    "                     \"dz_k1\" => pars[22],\n",
    "                     \"dz_k2\" => pars[23],\n",
    "                     \"dz_k3\" => pars[24],\n",
    "                     \"m0\" => pars[17],\n",
    "                     \"m1\" => pars[18],\n",
    "                     \"m2\" => pars[19],\n",
    "                     \"m3\" => pars[20],\n",
    "                     \"A_IA\" => pars[15],\n",
    "                     \"alpha_IA\" => pars[16])\n",
    "\n",
    "    Ωm = pars[26]\n",
    "    Ωb = pars[1]\n",
    "    h = pars[4]\n",
    "    ns = pars[3]\n",
    "    s8 = pars[25]\n",
    "    cosmology = LimberJack.Cosmology(Ωm, Ωb, h, ns, s8, tk_mode=\"EisHu\", Pk_mode=\"Halofit\")\n",
    "    \n",
    "    if mode==\"linear\"\n",
    "        cls =Theory(cosmology, nuisances, Cls_meta, files)\n",
    "    else\n",
    "        cls = Theory_parallel(cosmology, nuisances, Cls_meta, files)\n",
    "    end\n",
    "    \n",
    "    return cls\n",
    "end"
   ]
  },
  {
   "cell_type": "code",
   "execution_count": 8,
   "id": "a66fb445",
   "metadata": {
    "scrolled": true
   },
   "outputs": [
    {
     "data": {
      "text/plain": [
       "475-element Vector{Float64}:\n",
       " 0.00019878054597087568\n",
       " 8.13318507958567e-5\n",
       " 4.13999781319054e-5\n",
       " 2.5956011253713785e-5\n",
       " 1.8060419156355993e-5\n",
       " 0.00011315355228614883\n",
       " 6.075356974541723e-5\n",
       " 3.9016695376984714e-5\n",
       " 2.4025861039667573e-5\n",
       " 1.746979673562369e-5\n",
       " 1.2751730464747167e-5\n",
       " 1.0105126125008243e-5\n",
       " 8.157224109469167e-6\n",
       " ⋮\n",
       " 7.441050218233195e-10\n",
       " 6.390049926794069e-10\n",
       " 5.492164002058151e-10\n",
       " 4.722511445750479e-10\n",
       " 4.057194776978221e-10\n",
       " 3.4797465219096675e-10\n",
       " 2.977471751602306e-10\n",
       " 2.5381685684179695e-10\n",
       " 2.154322086898068e-10\n",
       " 1.8194711530074317e-10\n",
       " 1.5279081401210278e-10\n",
       " 1.2754801396685722e-10"
      ]
     },
     "execution_count": 8,
     "metadata": {},
     "output_type": "execute_result"
    }
   ],
   "source": [
    "make_cls(carlos_params1, mode=\"linear\")\n",
    "#@time [make_cls(carlos_params1, mode=\"linear\") for i in 1:10]"
   ]
  },
  {
   "cell_type": "code",
   "execution_count": 9,
   "id": "4de699a5",
   "metadata": {
    "scrolled": true
   },
   "outputs": [
    {
     "data": {
      "text/plain": [
       "475-element Vector{Float64}:\n",
       " 0.00019878054597087568\n",
       " 8.13318507958567e-5\n",
       " 4.13999781319054e-5\n",
       " 2.5956011253713785e-5\n",
       " 1.8060419156355993e-5\n",
       " 0.00011315355228614883\n",
       " 6.075356974541723e-5\n",
       " 3.9016695376984714e-5\n",
       " 2.4025861039667573e-5\n",
       " 1.746979673562369e-5\n",
       " 1.2751730464747167e-5\n",
       " 1.0105126125008243e-5\n",
       " 8.157224109469167e-6\n",
       " ⋮\n",
       " 7.441050218233195e-10\n",
       " 6.390049926794069e-10\n",
       " 5.492164002058151e-10\n",
       " 4.722511445750479e-10\n",
       " 4.057194776978221e-10\n",
       " 3.4797465219096675e-10\n",
       " 2.977471751602306e-10\n",
       " 2.5381685684179695e-10\n",
       " 2.154322086898068e-10\n",
       " 1.8194711530074317e-10\n",
       " 1.5279081401210278e-10\n",
       " 1.2754801396685722e-10"
      ]
     },
     "execution_count": 9,
     "metadata": {},
     "output_type": "execute_result"
    }
   ],
   "source": [
    "make_cls(carlos_params1, mode=\"parallel\")\n",
    "#@time [make_cls(carlos_params1, mode=\"parallel\") for i in 1:10]"
   ]
  },
  {
   "cell_type": "code",
   "execution_count": 10,
   "id": "db98178a",
   "metadata": {},
   "outputs": [
    {
     "data": {
      "text/plain": [
       "diff_cls_parallel (generic function with 1 method)"
      ]
     },
     "execution_count": 10,
     "metadata": {},
     "output_type": "execute_result"
    }
   ],
   "source": [
    "function diff_cls_linear(Ωm)\n",
    "    cosmology = LimberJack.Cosmology(Ωm, 0.05, 0.67, 0.96, 0.81, tk_mode=\"EisHu\", Pk_mode=\"Halofit\")\n",
    "    cls = Theory(cosmology, nuisances, Cls_meta, files)\n",
    "    return cls\n",
    "end\n",
    "\n",
    "function diff_cls_parallel(Ωm)\n",
    "    cosmology = LimberJack.Cosmology(Ωm, 0.05, 0.67, 0.96, 0.81, tk_mode=\"EisHu\", Pk_mode=\"Halofit\")\n",
    "    return Theory_parallel(cosmology, nuisances, Cls_meta, files)\n",
    "end"
   ]
  },
  {
   "cell_type": "code",
   "execution_count": 11,
   "id": "b585e2fb",
   "metadata": {},
   "outputs": [
    {
     "data": {
      "text/plain": [
       "475-element Vector{Float64}:\n",
       " -0.0009849601699735311\n",
       " -0.00015955047222590584\n",
       " -1.9939237630606314e-5\n",
       " -2.341151034040552e-6\n",
       " -1.2744074707069619e-6\n",
       " -0.0006811785513783999\n",
       " -0.00015346912594387907\n",
       " -7.248782511480169e-5\n",
       " -1.2245914263325083e-5\n",
       " -3.937788973917871e-6\n",
       "  1.1028915728409853e-6\n",
       " -8.52683231175496e-7\n",
       "  1.2919950413543852e-6\n",
       "  ⋮\n",
       "  3.9810269202328085e-9\n",
       "  3.440878682385327e-9\n",
       "  2.97886361933099e-9\n",
       "  2.5823334899347646e-9\n",
       "  2.2375845981183373e-9\n",
       "  1.933226115059866e-9\n",
       "  1.6695745186828993e-9\n",
       "  1.4354040329593244e-9\n",
       "  1.2278888465452742e-9\n",
       "  1.0457993700752026e-9\n",
       "  8.848326834932572e-10\n",
       "  7.428732568523111e-10"
      ]
     },
     "execution_count": 11,
     "metadata": {},
     "output_type": "execute_result"
    }
   ],
   "source": [
    "ForwardDiff.derivative(diff_cls_linear, 0.30)\n",
    "#@time [ForwardDiff.derivative(diff_cls_linear, 0.30) for i in 1:10]"
   ]
  },
  {
   "cell_type": "code",
   "execution_count": 12,
   "id": "b67971d2",
   "metadata": {},
   "outputs": [
    {
     "data": {
      "text/plain": [
       "475-element Vector{Float64}:\n",
       " -0.0009849601699735311\n",
       " -0.00015955047222590584\n",
       " -1.9939237630606314e-5\n",
       " -2.341151034040552e-6\n",
       " -1.2744074707069619e-6\n",
       " -0.0006811785513783999\n",
       " -0.00015346912594387907\n",
       " -7.248782511480169e-5\n",
       " -1.2245914263325083e-5\n",
       " -3.937788973917871e-6\n",
       "  1.1028915728409853e-6\n",
       " -8.52683231175496e-7\n",
       "  1.2919950413543852e-6\n",
       "  ⋮\n",
       "  3.9810269202328085e-9\n",
       "  3.440878682385327e-9\n",
       "  2.97886361933099e-9\n",
       "  2.5823334899347646e-9\n",
       "  2.2375845981183373e-9\n",
       "  1.933226115059866e-9\n",
       "  1.6695745186828993e-9\n",
       "  1.4354040329593244e-9\n",
       "  1.2278888465452742e-9\n",
       "  1.0457993700752026e-9\n",
       "  8.848326834932572e-10\n",
       "  7.428732568523111e-10"
      ]
     },
     "execution_count": 12,
     "metadata": {},
     "output_type": "execute_result"
    }
   ],
   "source": [
    "ForwardDiff.derivative(diff_cls_parallel, 0.30)\n",
    "#@time [ForwardDiff.derivative(diff_cls_parallel, 0.30) for i in 1:10]"
   ]
  },
  {
   "cell_type": "code",
   "execution_count": null,
   "id": "565bb0a6",
   "metadata": {
    "scrolled": true
   },
   "outputs": [],
   "source": [
    "cls_jaime1 = make_cls(carlos_params1, mode=\"linear\")\n",
    "cls_jaime2 = make_cls(carlos_params1, mode=\"parallel\");"
   ]
  },
  {
   "cell_type": "code",
   "execution_count": null,
   "id": "169def98",
   "metadata": {},
   "outputs": [],
   "source": [
    "open(\"jaime_cls.txt\", \"w\") do io\n",
    "       writedlm(io, cls_jaime1)\n",
    "end"
   ]
  },
  {
   "cell_type": "code",
   "execution_count": null,
   "id": "b3fede1b",
   "metadata": {},
   "outputs": [],
   "source": [
    "compa1 = @. abs(cls_carlos[\"cls\"]-cls_jaime1)/cls_carlos[\"cls\"];\n",
    "compa2 = @. abs(cls_carlos2[\"cls\"]-cls_jaime1)/cls_carlos2[\"cls\"];\n",
    "compa3 = @. abs(cls_carlos3[\"cls\"]-cls_jaime1)/cls_carlos3[\"cls\"];\n",
    "compa4 = @. abs(cls_carlos4[\"cls\"]-cls_jaime1)/cls_carlos4[\"cls\"];\n",
    "\n",
    "println(\"Mean discrepancy default   \", mean(compa1))\n",
    "println(\"Mean discrepancy no itp    \", mean(compa2))\n",
    "println(\"Mean discrepancy no itp+EH \", mean(compa3))\n",
    "println(\"Mean discrepancy no itp+EH+noconv \", mean(compa4))"
   ]
  },
  {
   "cell_type": "code",
   "execution_count": null,
   "id": "98004bb5",
   "metadata": {},
   "outputs": [],
   "source": [
    "chi2_carlos = cls_carlos[\"chi2_nolp\"]\n",
    "chi2_carlos2 = cls_carlos2[\"chi2_nolp\"]\n",
    "chi2_carlos3 = cls_carlos3[\"chi2_nolp\"]\n",
    "chi2_carlos4 = cls_carlos4[\"chi2_nolp\"]\n",
    "println(chi2_carlos)\n",
    "println(chi2_carlos2)\n",
    "println(chi2_carlos3)\n",
    "println(chi2_carlos4)"
   ]
  },
  {
   "cell_type": "code",
   "execution_count": null,
   "id": "b5075df6",
   "metadata": {},
   "outputs": [],
   "source": [
    "chi2_jaime1 = dot((cls_jaime1 .- data_vector), inv_cov_tot  * (cls_jaime1 .- data_vector))\n",
    "chi2_jaime2 = dot((cls_jaime2 .- data_vector), inv_cov_tot  * (cls_jaime2 .- data_vector))\n",
    "println(chi2_jaime1)\n",
    "println(chi2_jaime2)"
   ]
  },
  {
   "cell_type": "code",
   "execution_count": null,
   "id": "fc2724ad",
   "metadata": {},
   "outputs": [],
   "source": [
    "(chi2_jaime1-chi2_carlos4)/chi2_carlos4"
   ]
  },
  {
   "cell_type": "code",
   "execution_count": null,
   "id": "3e5821ea",
   "metadata": {
    "scrolled": false
   },
   "outputs": [],
   "source": [
    "plot(compa1, label=\"(Carlos-Jaime1)/Carlos\")\n",
    "plot!(compa4, label=\"No itp + EH + no Conv\")"
   ]
  },
  {
   "cell_type": "code",
   "execution_count": 13,
   "id": "7325f732",
   "metadata": {},
   "outputs": [],
   "source": [
    "@model function model(data_vector::Vector{Float64})\n",
    "    Ωm ~ Uniform(0.1, 0.5)\n",
    "    h = 0.67 #~ Uniform(0.6, 0.8)\n",
    "    s8 ~ Uniform(0.6, 1.0)\n",
    "    \n",
    "    b0 = 1.41 #~ Uniform(1.0, 3.0)\n",
    "    b1 = 1.62 #~ Uniform(1.0, 3.0)\n",
    "    b2 = 1.60 #~ Uniform(1.0, 3.0)\n",
    "    b3 = 1.92 #~ Uniform(1.0, 3.0)\n",
    "    b4 = 2.00 #~ Uniform(1.0, 3.0)\n",
    "    \n",
    "    nuisances = Dict(\"b0\" => b0,\n",
    "                     \"b1\" => b1,\n",
    "                     \"b2\" => b2,\n",
    "                     \"b3\" => b3,\n",
    "                     \"b4\" => b4)\n",
    "    \n",
    "    cosmology = LimberJack.Cosmology(Ωm, 0.05, h, 0.96, s8,\n",
    "                                     tk_mode=\"EisHu\",\n",
    "                                     Pk_mode=\"Halofit\")\n",
    "    \n",
    "    theory = Theory(cosmology, nuisances, Cls_meta, files)\n",
    "    data_vector ~ MvNormal(theory, cov_tot)\n",
    "    return data_vector\n",
    "end;"
   ]
  },
  {
   "cell_type": "code",
   "execution_count": 14,
   "id": "b1e638d3",
   "metadata": {},
   "outputs": [],
   "source": [
    "@model function model_parallel(data_vector::Vector{Float64})\n",
    "    Ωm ~ Uniform(0.1, 0.5)\n",
    "    h = 0.67 #~ Uniform(0.6, 0.8)\n",
    "    s8 ~ Uniform(0.6, 1.0)\n",
    "    \n",
    "    b0 = 1.41 #~ Uniform(1.0, 3.0)\n",
    "    b1 = 1.62 #~ Uniform(1.0, 3.0)\n",
    "    b2 = 1.60 #~ Uniform(1.0, 3.0)\n",
    "    b3 = 1.92 #~ Uniform(1.0, 3.0)\n",
    "    b4 = 2.00 #~ Uniform(1.0, 3.0)\n",
    "    \n",
    "    nuisances = Dict(\"b0\" => b0,\n",
    "                     \"b1\" => b1,\n",
    "                     \"b2\" => b2,\n",
    "                     \"b3\" => b3,\n",
    "                     \"b4\" => b4)\n",
    "    \n",
    "    cosmology = LimberJack.Cosmology(Ωm, 0.05, h, 0.96, s8,\n",
    "                                     tk_mode=\"EisHu\",\n",
    "                                     Pk_mode=\"Halofit\")\n",
    "    \n",
    "    theory = Theory_parallel(cosmology, nuisances, Cls_meta, files)\n",
    "    data_vector ~ MvNormal(theory, cov_tot)\n",
    "    return data_vector\n",
    "end;"
   ]
  },
  {
   "cell_type": "code",
   "execution_count": 15,
   "id": "4a0dba7f",
   "metadata": {},
   "outputs": [],
   "source": [
    "iterations = 300\n",
    "nadapts = 100;"
   ]
  },
  {
   "cell_type": "code",
   "execution_count": 23,
   "id": "140ac55c",
   "metadata": {},
   "outputs": [
    {
     "name": "stderr",
     "output_type": "stream",
     "text": [
      "\u001b[32mSampling: 100%|█████████████████████████████████████████| Time: 0:00:14\u001b[39m\n"
     ]
    },
    {
     "ename": "LoadError",
     "evalue": "InterruptException:",
     "output_type": "error",
     "traceback": [
      "InterruptException:",
      "",
      "Stacktrace:",
      "  [1] (::LimberJack.var\"#w_itg#18\"{Cosmology, Interpolations.FilledExtrapolation{Float64, 1, Interpolations.GriddedInterpolation{Float64, 1, Float64, Interpolations.Gridded{Interpolations.Linear}, Tuple{Vector{Float64}}}, Interpolations.Gridded{Interpolations.Linear}, Int64}})(zz::Float64, chii::Float64)",
      "    @ LimberJack ~/.julia/packages/LimberJack/pbjAL/src/tracers.jl:42",
      "  [2] #16",
      "    @ ~/.julia/packages/LimberJack/pbjAL/src/tracers.jl:44 [inlined]",
      "  [3] evalrule(f::LimberJack.var\"#16#20\"{Int64, LimberJack.var\"#w_itg#18\"{Cosmology, Interpolations.FilledExtrapolation{Float64, 1, Interpolations.GriddedInterpolation{Float64, 1, Float64, Interpolations.Gridded{Interpolations.Linear}, Tuple{Vector{Float64}}}, Interpolations.Gridded{Interpolations.Linear}, Int64}}, Vector{Float64}}, a::Float64, b::Float64, x::Vector{Float64}, w::Vector{Float64}, gw::Vector{Float64}, nrm::typeof(norm))",
      "    @ QuadGK ~/.julia/packages/QuadGK/ENhXl/src/evalrule.jl:35",
      "  [4] adapt(f::Function, segs::Vector{QuadGK.Segment{Float64, Float64, Float64}}, I::Float64, E::Float64, numevals::Int64, x::Vector{Float64}, w::Vector{Float64}, gw::Vector{Float64}, n::Int64, atol::Float64, rtol::Float64, maxevals::Int64, nrm::typeof(norm))",
      "    @ QuadGK ~/.julia/packages/QuadGK/ENhXl/src/adapt.jl:46",
      "  [5] do_quadgk(f::LimberJack.var\"#16#20\"{Int64, LimberJack.var\"#w_itg#18\"{Cosmology, Interpolations.FilledExtrapolation{Float64, 1, Interpolations.GriddedInterpolation{Float64, 1, Float64, Interpolations.Gridded{Interpolations.Linear}, Tuple{Vector{Float64}}}, Interpolations.Gridded{Interpolations.Linear}, Int64}}, Vector{Float64}}, s::Tuple{Float64, Float64}, n::Int64, atol::Nothing, rtol::Float64, maxevals::Int64, nrm::typeof(norm))",
      "    @ QuadGK ~/.julia/packages/QuadGK/ENhXl/src/adapt.jl:35",
      "  [6] #28",
      "    @ ~/.julia/packages/QuadGK/ENhXl/src/adapt.jl:179 [inlined]",
      "  [7] handle_infinities(workfunc::QuadGK.var\"#28#29\"{Nothing, Float64, Int64, Int64, typeof(norm)}, f::LimberJack.var\"#16#20\"{Int64, LimberJack.var\"#w_itg#18\"{Cosmology, Interpolations.FilledExtrapolation{Float64, 1, Interpolations.GriddedInterpolation{Float64, 1, Float64, Interpolations.Gridded{Interpolations.Linear}, Tuple{Vector{Float64}}}, Interpolations.Gridded{Interpolations.Linear}, Int64}}, Vector{Float64}}, s::Tuple{Float64, Float64})",
      "    @ QuadGK ~/.julia/packages/QuadGK/ENhXl/src/adapt.jl:113",
      "  [8] #quadgk#27",
      "    @ ~/.julia/packages/QuadGK/ENhXl/src/adapt.jl:177 [inlined]",
      "  [9] (::LimberJack.var\"#15#19\"{Vector{Float64}, LimberJack.var\"#w_itg#18\"{Cosmology, Interpolations.FilledExtrapolation{Float64, 1, Interpolations.GriddedInterpolation{Float64, 1, Float64, Interpolations.Gridded{Interpolations.Linear}, Tuple{Vector{Float64}}}, Interpolations.Gridded{Interpolations.Linear}, Int64}}, Vector{Float64}, StepRangeLen{Float64, Base.TwicePrecision{Float64}, Base.TwicePrecision{Float64}, Int64}})(i::Int64)",
      "    @ LimberJack ./none:0",
      " [10] iterate",
      "    @ ./generator.jl:47 [inlined]",
      " [11] collect_to!(dest::Vector{Float64}, itr::Base.Generator{UnitRange{Int64}, LimberJack.var\"#15#19\"{Vector{Float64}, LimberJack.var\"#w_itg#18\"{Cosmology, Interpolations.FilledExtrapolation{Float64, 1, Interpolations.GriddedInterpolation{Float64, 1, Float64, Interpolations.Gridded{Interpolations.Linear}, Tuple{Vector{Float64}}}, Interpolations.Gridded{Interpolations.Linear}, Int64}}, Vector{Float64}, StepRangeLen{Float64, Base.TwicePrecision{Float64}, Base.TwicePrecision{Float64}, Int64}}}, offs::Int64, st::Int64)",
      "    @ Base ./array.jl:782",
      " [12] collect_to_with_first!(dest::Vector{Float64}, v1::Float64, itr::Base.Generator{UnitRange{Int64}, LimberJack.var\"#15#19\"{Vector{Float64}, LimberJack.var\"#w_itg#18\"{Cosmology, Interpolations.FilledExtrapolation{Float64, 1, Interpolations.GriddedInterpolation{Float64, 1, Float64, Interpolations.Gridded{Interpolations.Linear}, Tuple{Vector{Float64}}}, Interpolations.Gridded{Interpolations.Linear}, Int64}}, Vector{Float64}, StepRangeLen{Float64, Base.TwicePrecision{Float64}, Base.TwicePrecision{Float64}, Int64}}}, st::Int64)",
      "    @ Base ./array.jl:760",
      " [13] collect(itr::Base.Generator{UnitRange{Int64}, LimberJack.var\"#15#19\"{Vector{Float64}, LimberJack.var\"#w_itg#18\"{Cosmology, Interpolations.FilledExtrapolation{Float64, 1, Interpolations.GriddedInterpolation{Float64, 1, Float64, Interpolations.Gridded{Interpolations.Linear}, Tuple{Vector{Float64}}}, Interpolations.Gridded{Interpolations.Linear}, Int64}}, Vector{Float64}, StepRangeLen{Float64, Base.TwicePrecision{Float64}, Base.TwicePrecision{Float64}, Int64}}})",
      "    @ Base ./array.jl:734",
      " [14] WeakLensingTracer(cosmo::Cosmology, z_n::Vector{Float64}, nz::Vector{Float64}; mbias::Float64, IA_params::Vector{Float64})",
      "    @ LimberJack ~/.julia/packages/LimberJack/pbjAL/src/tracers.jl:44",
      " [15] Theory(cosmology::Cosmology, Nuisances::Dict{String, Float64}, cls_meta::cls_meta{Vector{Vector{Int64}}}, files::Dict{String, Array})",
      "    @ LimberJack ~/.julia/packages/LimberJack/pbjAL/src/theory.jl:184",
      " [16] #12",
      "    @ ./In[20]:22 [inlined]",
      " [17] (::var\"#12#13\")(__rng__::Random._GLOBAL_RNG, __model__::DynamicPPL.Model{var\"#12#13\", (:data_vector,), (), (), Tuple{Vector{Float64}}, Tuple{}}, __varinfo__::DynamicPPL.ThreadSafeVarInfo{DynamicPPL.TypedVarInfo{NamedTuple{(:Ωm, :s8), Tuple{DynamicPPL.Metadata{Dict{AbstractPPL.VarName{:Ωm, Tuple{}}, Int64}, Vector{Uniform{Float64}}, Vector{AbstractPPL.VarName{:Ωm, Tuple{}}}, Vector{Float64}, Vector{Set{DynamicPPL.Selector}}}, DynamicPPL.Metadata{Dict{AbstractPPL.VarName{:s8, Tuple{}}, Int64}, Vector{Uniform{Float64}}, Vector{AbstractPPL.VarName{:s8, Tuple{}}}, Vector{Float64}, Vector{Set{DynamicPPL.Selector}}}}}, Float64}, Vector{Base.RefValue{Float64}}}, __sampler__::DynamicPPL.SampleFromPrior, __context__::DynamicPPL.DefaultContext, data_vector::Vector{Float64})",
      "    @ Main ./none:0",
      " [18] macro expansion",
      "    @ ~/.julia/packages/DynamicPPL/SgzCy/src/model.jl:0 [inlined]",
      " [19] _evaluate",
      "    @ ~/.julia/packages/DynamicPPL/SgzCy/src/model.jl:154 [inlined]",
      " [20] evaluate_threadsafe(rng::Random._GLOBAL_RNG, model::DynamicPPL.Model{var\"#12#13\", (:data_vector,), (), (), Tuple{Vector{Float64}}, Tuple{}}, varinfo::DynamicPPL.TypedVarInfo{NamedTuple{(:Ωm, :s8), Tuple{DynamicPPL.Metadata{Dict{AbstractPPL.VarName{:Ωm, Tuple{}}, Int64}, Vector{Uniform{Float64}}, Vector{AbstractPPL.VarName{:Ωm, Tuple{}}}, Vector{Float64}, Vector{Set{DynamicPPL.Selector}}}, DynamicPPL.Metadata{Dict{AbstractPPL.VarName{:s8, Tuple{}}, Int64}, Vector{Uniform{Float64}}, Vector{AbstractPPL.VarName{:s8, Tuple{}}}, Vector{Float64}, Vector{Set{DynamicPPL.Selector}}}}}, Float64}, sampler::DynamicPPL.SampleFromPrior, context::DynamicPPL.DefaultContext)",
      "    @ DynamicPPL ~/.julia/packages/DynamicPPL/SgzCy/src/model.jl:144",
      " [21] Model",
      "    @ ~/.julia/packages/DynamicPPL/SgzCy/src/model.jl:94 [inlined]",
      " [22] Model",
      "    @ ~/.julia/packages/DynamicPPL/SgzCy/src/model.jl:91 [inlined]",
      " [23] Model",
      "    @ ~/.julia/packages/DynamicPPL/SgzCy/src/model.jl:98 [inlined]",
      " [24] (::Turing.Inference.MHLogDensityFunction{DynamicPPL.Model{var\"#12#13\", (:data_vector,), (), (), Tuple{Vector{Float64}}, Tuple{}}, DynamicPPL.Sampler{MH{(), NamedTuple{(), Tuple{}}}}, DynamicPPL.TypedVarInfo{NamedTuple{(:Ωm, :s8), Tuple{DynamicPPL.Metadata{Dict{AbstractPPL.VarName{:Ωm, Tuple{}}, Int64}, Vector{Uniform{Float64}}, Vector{AbstractPPL.VarName{:Ωm, Tuple{}}}, Vector{Float64}, Vector{Set{DynamicPPL.Selector}}}, DynamicPPL.Metadata{Dict{AbstractPPL.VarName{:s8, Tuple{}}, Int64}, Vector{Uniform{Float64}}, Vector{AbstractPPL.VarName{:s8, Tuple{}}}, Vector{Float64}, Vector{Set{DynamicPPL.Selector}}}}}, Float64}})(x::NamedTuple{(:Ωm, :s8), Tuple{Float64, Float64}})",
      "    @ Turing.Inference ~/.julia/packages/Turing/uAz5c/src/inference/mh.jl:257",
      " [25] logdensity",
      "    @ ~/.julia/packages/AdvancedMH/OtXed/src/AdvancedMH.jl:52 [inlined]",
      " [26] Transition",
      "    @ ~/.julia/packages/AdvancedMH/OtXed/src/AdvancedMH.jl:49 [inlined]",
      " [27] propose",
      "    @ ~/.julia/packages/AdvancedMH/OtXed/src/mh-core.jl:113 [inlined]",
      " [28] step(rng::Random._GLOBAL_RNG, model::AdvancedMH.DensityModel{Turing.Inference.MHLogDensityFunction{DynamicPPL.Model{var\"#12#13\", (:data_vector,), (), (), Tuple{Vector{Float64}}, Tuple{}}, DynamicPPL.Sampler{MH{(), NamedTuple{(), Tuple{}}}}, DynamicPPL.TypedVarInfo{NamedTuple{(:Ωm, :s8), Tuple{DynamicPPL.Metadata{Dict{AbstractPPL.VarName{:Ωm, Tuple{}}, Int64}, Vector{Uniform{Float64}}, Vector{AbstractPPL.VarName{:Ωm, Tuple{}}}, Vector{Float64}, Vector{Set{DynamicPPL.Selector}}}, DynamicPPL.Metadata{Dict{AbstractPPL.VarName{:s8, Tuple{}}, Int64}, Vector{Uniform{Float64}}, Vector{AbstractPPL.VarName{:s8, Tuple{}}}, Vector{Float64}, Vector{Set{DynamicPPL.Selector}}}}}, Float64}}}, spl::AdvancedMH.MetropolisHastings{NamedTuple{(:Ωm, :s8), Tuple{AdvancedMH.StaticProposal{Uniform{Float64}}, AdvancedMH.StaticProposal{Uniform{Float64}}}}}, params_prev::AdvancedMH.Transition{NamedTuple{(:Ωm, :s8), Tuple{Float64, Float64}}, Float64}; kwargs::Base.Pairs{Symbol, Union{}, Tuple{}, NamedTuple{(), Tuple{}}})",
      "    @ AdvancedMH ~/.julia/packages/AdvancedMH/OtXed/src/mh-core.jl:231",
      " [29] step(rng::Random._GLOBAL_RNG, model::AdvancedMH.DensityModel{Turing.Inference.MHLogDensityFunction{DynamicPPL.Model{var\"#12#13\", (:data_vector,), (), (), Tuple{Vector{Float64}}, Tuple{}}, DynamicPPL.Sampler{MH{(), NamedTuple{(), Tuple{}}}}, DynamicPPL.TypedVarInfo{NamedTuple{(:Ωm, :s8), Tuple{DynamicPPL.Metadata{Dict{AbstractPPL.VarName{:Ωm, Tuple{}}, Int64}, Vector{Uniform{Float64}}, Vector{AbstractPPL.VarName{:Ωm, Tuple{}}}, Vector{Float64}, Vector{Set{DynamicPPL.Selector}}}, DynamicPPL.Metadata{Dict{AbstractPPL.VarName{:s8, Tuple{}}, Int64}, Vector{Uniform{Float64}}, Vector{AbstractPPL.VarName{:s8, Tuple{}}}, Vector{Float64}, Vector{Set{DynamicPPL.Selector}}}}}, Float64}}}, spl::AdvancedMH.MetropolisHastings{NamedTuple{(:Ωm, :s8), Tuple{AdvancedMH.StaticProposal{Uniform{Float64}}, AdvancedMH.StaticProposal{Uniform{Float64}}}}}, params_prev::AdvancedMH.Transition{NamedTuple{(:Ωm, :s8), Tuple{Float64, Float64}}, Float64})",
      "    @ AdvancedMH ~/.julia/packages/AdvancedMH/OtXed/src/mh-core.jl:231",
      " [30] propose!(rng::Random._GLOBAL_RNG, vi::DynamicPPL.TypedVarInfo{NamedTuple{(:Ωm, :s8), Tuple{DynamicPPL.Metadata{Dict{AbstractPPL.VarName{:Ωm, Tuple{}}, Int64}, Vector{Uniform{Float64}}, Vector{AbstractPPL.VarName{:Ωm, Tuple{}}}, Vector{Float64}, Vector{Set{DynamicPPL.Selector}}}, DynamicPPL.Metadata{Dict{AbstractPPL.VarName{:s8, Tuple{}}, Int64}, Vector{Uniform{Float64}}, Vector{AbstractPPL.VarName{:s8, Tuple{}}}, Vector{Float64}, Vector{Set{DynamicPPL.Selector}}}}}, Float64}, model::DynamicPPL.Model{var\"#12#13\", (:data_vector,), (), (), Tuple{Vector{Float64}}, Tuple{}}, spl::DynamicPPL.Sampler{MH{(), NamedTuple{(), Tuple{}}}}, proposal::NamedTuple{(), Tuple{}})",
      "    @ Turing.Inference ~/.julia/packages/Turing/uAz5c/src/inference/mh.jl:359",
      " [31] #step#63",
      "    @ ~/.julia/packages/Turing/uAz5c/src/inference/mh.jl:424 [inlined]",
      " [32] macro expansion",
      "    @ ~/.julia/packages/AbstractMCMC/oou1a/src/sample.jl:140 [inlined]",
      " [33] macro expansion",
      "    @ ~/.julia/packages/ProgressLogging/6KXlp/src/ProgressLogging.jl:328 [inlined]",
      " [34] (::AbstractMCMC.var\"#20#21\"{Bool, String, Nothing, Int64, Int64, Base.Pairs{Symbol, Integer, Tuple{Symbol, Symbol}, NamedTuple{(:nadapt, :save_state), Tuple{Int64, Bool}}}, Random._GLOBAL_RNG, DynamicPPL.Model{var\"#12#13\", (:data_vector,), (), (), Tuple{Vector{Float64}}, Tuple{}}, DynamicPPL.Sampler{MH{(), NamedTuple{(), Tuple{}}}}, Int64, Int64})()",
      "    @ AbstractMCMC ~/.julia/packages/AbstractMCMC/oou1a/src/logging.jl:11",
      " [35] with_logstate(f::Function, logstate::Any)",
      "    @ Base.CoreLogging ./logging.jl:511",
      " [36] with_logger(f::Function, logger::LoggingExtras.TeeLogger{Tuple{LoggingExtras.EarlyFilteredLogger{ConsoleProgressMonitor.ProgressLogger, AbstractMCMC.var\"#1#3\"{Module}}, LoggingExtras.EarlyFilteredLogger{Base.CoreLogging.SimpleLogger, AbstractMCMC.var\"#2#4\"{Module}}}})",
      "    @ Base.CoreLogging ./logging.jl:623",
      " [37] with_progresslogger(f::Function, _module::Module, logger::Base.CoreLogging.SimpleLogger)",
      "    @ AbstractMCMC ~/.julia/packages/AbstractMCMC/oou1a/src/logging.jl:34",
      " [38] macro expansion",
      "    @ ~/.julia/packages/AbstractMCMC/oou1a/src/logging.jl:10 [inlined]",
      " [39] mcmcsample(rng::Random._GLOBAL_RNG, model::DynamicPPL.Model{var\"#12#13\", (:data_vector,), (), (), Tuple{Vector{Float64}}, Tuple{}}, sampler::DynamicPPL.Sampler{MH{(), NamedTuple{(), Tuple{}}}}, N::Int64; progress::Bool, progressname::String, callback::Nothing, discard_initial::Int64, thinning::Int64, chain_type::Type, kwargs::Base.Pairs{Symbol, Integer, Tuple{Symbol, Symbol}, NamedTuple{(:nadapt, :save_state), Tuple{Int64, Bool}}})",
      "    @ AbstractMCMC ~/.julia/packages/AbstractMCMC/oou1a/src/sample.jl:88",
      " [40] sample(rng::Random._GLOBAL_RNG, model::DynamicPPL.Model{var\"#12#13\", (:data_vector,), (), (), Tuple{Vector{Float64}}, Tuple{}}, sampler::DynamicPPL.Sampler{MH{(), NamedTuple{(), Tuple{}}}}, N::Int64; chain_type::Type, resume_from::Nothing, progress::Bool, kwargs::Base.Pairs{Symbol, Integer, Tuple{Symbol, Symbol}, NamedTuple{(:nadapt, :save_state), Tuple{Int64, Bool}}})",
      "    @ Turing.Inference ~/.julia/packages/Turing/uAz5c/src/inference/Inference.jl:156",
      " [41] #sample#2",
      "    @ ~/.julia/packages/Turing/uAz5c/src/inference/Inference.jl:142 [inlined]",
      " [42] #sample#1",
      "    @ ~/.julia/packages/Turing/uAz5c/src/inference/Inference.jl:132 [inlined]",
      " [43] top-level scope",
      "    @ In[23]:1",
      " [44] eval",
      "    @ ./boot.jl:373 [inlined]",
      " [45] include_string(mapexpr::typeof(REPL.softscope), mod::Module, code::String, filename::String)",
      "    @ Base ./loading.jl:1196"
     ]
    }
   ],
   "source": [
    "chain1 = sample(model(data_vector), MH(), iterations,\n",
    "            nadapt=nadapts, progress=true; save_state=true);"
   ]
  },
  {
   "cell_type": "code",
   "execution_count": 25,
   "id": "e6b2a81c",
   "metadata": {},
   "outputs": [
    {
     "name": "stderr",
     "output_type": "stream",
     "text": [
      "\u001b[32mSampling: 100%|█████████████████████████████████████████| Time: 0:00:11\u001b[39m\n"
     ]
    },
    {
     "ename": "LoadError",
     "evalue": "InterruptException:",
     "output_type": "error",
     "traceback": [
      "InterruptException:",
      "",
      "Stacktrace:",
      "  [1] poptask(W::Base.InvasiveLinkedListSynchronized{Task})",
      "    @ Base ./task.jl:827",
      "  [2] wait()",
      "    @ Base ./task.jl:836",
      "  [3] wait(c::Base.GenericCondition{Base.Threads.SpinLock})",
      "    @ Base ./condition.jl:123",
      "  [4] _wait(t::Task)",
      "    @ Base ./task.jl:293",
      "  [5] wait",
      "    @ ./task.jl:332 [inlined]",
      "  [6] threading_run(func::Function)",
      "    @ Base.Threads ./threadingconstructs.jl:38",
      "  [7] macro expansion",
      "    @ ./threadingconstructs.jl:97 [inlined]",
      "  [8] Theory_parallel(cosmology::Cosmology, Nuisances::Dict{String, Float64}, cls_meta::cls_meta{Vector{Vector{Int64}}}, files::Dict{String, Array})",
      "    @ LimberJack ~/.julia/packages/LimberJack/pbjAL/src/theory.jl:211",
      "  [9] #14",
      "    @ ./In[21]:22 [inlined]",
      " [10] (::var\"#14#15\")(__rng__::Random._GLOBAL_RNG, __model__::DynamicPPL.Model{var\"#14#15\", (:data_vector,), (), (), Tuple{Vector{Float64}}, Tuple{}}, __varinfo__::DynamicPPL.ThreadSafeVarInfo{DynamicPPL.TypedVarInfo{NamedTuple{(:Ωm, :s8), Tuple{DynamicPPL.Metadata{Dict{AbstractPPL.VarName{:Ωm, Tuple{}}, Int64}, Vector{Uniform{Float64}}, Vector{AbstractPPL.VarName{:Ωm, Tuple{}}}, Vector{Float64}, Vector{Set{DynamicPPL.Selector}}}, DynamicPPL.Metadata{Dict{AbstractPPL.VarName{:s8, Tuple{}}, Int64}, Vector{Uniform{Float64}}, Vector{AbstractPPL.VarName{:s8, Tuple{}}}, Vector{Float64}, Vector{Set{DynamicPPL.Selector}}}}}, Float64}, Vector{Base.RefValue{Float64}}}, __sampler__::DynamicPPL.SampleFromPrior, __context__::DynamicPPL.DefaultContext, data_vector::Vector{Float64})",
      "    @ Main ./none:0",
      " [11] macro expansion",
      "    @ ~/.julia/packages/DynamicPPL/SgzCy/src/model.jl:0 [inlined]",
      " [12] _evaluate",
      "    @ ~/.julia/packages/DynamicPPL/SgzCy/src/model.jl:154 [inlined]",
      " [13] evaluate_threadsafe(rng::Random._GLOBAL_RNG, model::DynamicPPL.Model{var\"#14#15\", (:data_vector,), (), (), Tuple{Vector{Float64}}, Tuple{}}, varinfo::DynamicPPL.TypedVarInfo{NamedTuple{(:Ωm, :s8), Tuple{DynamicPPL.Metadata{Dict{AbstractPPL.VarName{:Ωm, Tuple{}}, Int64}, Vector{Uniform{Float64}}, Vector{AbstractPPL.VarName{:Ωm, Tuple{}}}, Vector{Float64}, Vector{Set{DynamicPPL.Selector}}}, DynamicPPL.Metadata{Dict{AbstractPPL.VarName{:s8, Tuple{}}, Int64}, Vector{Uniform{Float64}}, Vector{AbstractPPL.VarName{:s8, Tuple{}}}, Vector{Float64}, Vector{Set{DynamicPPL.Selector}}}}}, Float64}, sampler::DynamicPPL.SampleFromPrior, context::DynamicPPL.DefaultContext)",
      "    @ DynamicPPL ~/.julia/packages/DynamicPPL/SgzCy/src/model.jl:144",
      " [14] Model",
      "    @ ~/.julia/packages/DynamicPPL/SgzCy/src/model.jl:94 [inlined]",
      " [15] Model",
      "    @ ~/.julia/packages/DynamicPPL/SgzCy/src/model.jl:91 [inlined]",
      " [16] Model",
      "    @ ~/.julia/packages/DynamicPPL/SgzCy/src/model.jl:98 [inlined]",
      " [17] (::Turing.Inference.MHLogDensityFunction{DynamicPPL.Model{var\"#14#15\", (:data_vector,), (), (), Tuple{Vector{Float64}}, Tuple{}}, DynamicPPL.Sampler{MH{(), NamedTuple{(), Tuple{}}}}, DynamicPPL.TypedVarInfo{NamedTuple{(:Ωm, :s8), Tuple{DynamicPPL.Metadata{Dict{AbstractPPL.VarName{:Ωm, Tuple{}}, Int64}, Vector{Uniform{Float64}}, Vector{AbstractPPL.VarName{:Ωm, Tuple{}}}, Vector{Float64}, Vector{Set{DynamicPPL.Selector}}}, DynamicPPL.Metadata{Dict{AbstractPPL.VarName{:s8, Tuple{}}, Int64}, Vector{Uniform{Float64}}, Vector{AbstractPPL.VarName{:s8, Tuple{}}}, Vector{Float64}, Vector{Set{DynamicPPL.Selector}}}}}, Float64}})(x::NamedTuple{(:Ωm, :s8), Tuple{Float64, Float64}})",
      "    @ Turing.Inference ~/.julia/packages/Turing/uAz5c/src/inference/mh.jl:257",
      " [18] logdensity",
      "    @ ~/.julia/packages/AdvancedMH/OtXed/src/AdvancedMH.jl:52 [inlined]",
      " [19] Transition",
      "    @ ~/.julia/packages/AdvancedMH/OtXed/src/AdvancedMH.jl:49 [inlined]",
      " [20] propose",
      "    @ ~/.julia/packages/AdvancedMH/OtXed/src/mh-core.jl:113 [inlined]",
      " [21] step(rng::Random._GLOBAL_RNG, model::AdvancedMH.DensityModel{Turing.Inference.MHLogDensityFunction{DynamicPPL.Model{var\"#14#15\", (:data_vector,), (), (), Tuple{Vector{Float64}}, Tuple{}}, DynamicPPL.Sampler{MH{(), NamedTuple{(), Tuple{}}}}, DynamicPPL.TypedVarInfo{NamedTuple{(:Ωm, :s8), Tuple{DynamicPPL.Metadata{Dict{AbstractPPL.VarName{:Ωm, Tuple{}}, Int64}, Vector{Uniform{Float64}}, Vector{AbstractPPL.VarName{:Ωm, Tuple{}}}, Vector{Float64}, Vector{Set{DynamicPPL.Selector}}}, DynamicPPL.Metadata{Dict{AbstractPPL.VarName{:s8, Tuple{}}, Int64}, Vector{Uniform{Float64}}, Vector{AbstractPPL.VarName{:s8, Tuple{}}}, Vector{Float64}, Vector{Set{DynamicPPL.Selector}}}}}, Float64}}}, spl::AdvancedMH.MetropolisHastings{NamedTuple{(:Ωm, :s8), Tuple{AdvancedMH.StaticProposal{Uniform{Float64}}, AdvancedMH.StaticProposal{Uniform{Float64}}}}}, params_prev::AdvancedMH.Transition{NamedTuple{(:Ωm, :s8), Tuple{Float64, Float64}}, Float64}; kwargs::Base.Pairs{Symbol, Union{}, Tuple{}, NamedTuple{(), Tuple{}}})",
      "    @ AdvancedMH ~/.julia/packages/AdvancedMH/OtXed/src/mh-core.jl:231",
      " [22] step(rng::Random._GLOBAL_RNG, model::AdvancedMH.DensityModel{Turing.Inference.MHLogDensityFunction{DynamicPPL.Model{var\"#14#15\", (:data_vector,), (), (), Tuple{Vector{Float64}}, Tuple{}}, DynamicPPL.Sampler{MH{(), NamedTuple{(), Tuple{}}}}, DynamicPPL.TypedVarInfo{NamedTuple{(:Ωm, :s8), Tuple{DynamicPPL.Metadata{Dict{AbstractPPL.VarName{:Ωm, Tuple{}}, Int64}, Vector{Uniform{Float64}}, Vector{AbstractPPL.VarName{:Ωm, Tuple{}}}, Vector{Float64}, Vector{Set{DynamicPPL.Selector}}}, DynamicPPL.Metadata{Dict{AbstractPPL.VarName{:s8, Tuple{}}, Int64}, Vector{Uniform{Float64}}, Vector{AbstractPPL.VarName{:s8, Tuple{}}}, Vector{Float64}, Vector{Set{DynamicPPL.Selector}}}}}, Float64}}}, spl::AdvancedMH.MetropolisHastings{NamedTuple{(:Ωm, :s8), Tuple{AdvancedMH.StaticProposal{Uniform{Float64}}, AdvancedMH.StaticProposal{Uniform{Float64}}}}}, params_prev::AdvancedMH.Transition{NamedTuple{(:Ωm, :s8), Tuple{Float64, Float64}}, Float64})",
      "    @ AdvancedMH ~/.julia/packages/AdvancedMH/OtXed/src/mh-core.jl:231",
      " [23] propose!(rng::Random._GLOBAL_RNG, vi::DynamicPPL.TypedVarInfo{NamedTuple{(:Ωm, :s8), Tuple{DynamicPPL.Metadata{Dict{AbstractPPL.VarName{:Ωm, Tuple{}}, Int64}, Vector{Uniform{Float64}}, Vector{AbstractPPL.VarName{:Ωm, Tuple{}}}, Vector{Float64}, Vector{Set{DynamicPPL.Selector}}}, DynamicPPL.Metadata{Dict{AbstractPPL.VarName{:s8, Tuple{}}, Int64}, Vector{Uniform{Float64}}, Vector{AbstractPPL.VarName{:s8, Tuple{}}}, Vector{Float64}, Vector{Set{DynamicPPL.Selector}}}}}, Float64}, model::DynamicPPL.Model{var\"#14#15\", (:data_vector,), (), (), Tuple{Vector{Float64}}, Tuple{}}, spl::DynamicPPL.Sampler{MH{(), NamedTuple{(), Tuple{}}}}, proposal::NamedTuple{(), Tuple{}})",
      "    @ Turing.Inference ~/.julia/packages/Turing/uAz5c/src/inference/mh.jl:359",
      " [24] #step#63",
      "    @ ~/.julia/packages/Turing/uAz5c/src/inference/mh.jl:424 [inlined]",
      " [25] macro expansion",
      "    @ ~/.julia/packages/AbstractMCMC/oou1a/src/sample.jl:140 [inlined]",
      " [26] macro expansion",
      "    @ ~/.julia/packages/ProgressLogging/6KXlp/src/ProgressLogging.jl:328 [inlined]",
      " [27] (::AbstractMCMC.var\"#20#21\"{Bool, String, Nothing, Int64, Int64, Base.Pairs{Symbol, Integer, Tuple{Symbol, Symbol}, NamedTuple{(:nadapt, :save_state), Tuple{Int64, Bool}}}, Random._GLOBAL_RNG, DynamicPPL.Model{var\"#14#15\", (:data_vector,), (), (), Tuple{Vector{Float64}}, Tuple{}}, DynamicPPL.Sampler{MH{(), NamedTuple{(), Tuple{}}}}, Int64, Int64})()",
      "    @ AbstractMCMC ~/.julia/packages/AbstractMCMC/oou1a/src/logging.jl:11",
      " [28] with_logstate(f::Function, logstate::Any)",
      "    @ Base.CoreLogging ./logging.jl:511",
      " [29] with_logger(f::Function, logger::LoggingExtras.TeeLogger{Tuple{LoggingExtras.EarlyFilteredLogger{ConsoleProgressMonitor.ProgressLogger, AbstractMCMC.var\"#1#3\"{Module}}, LoggingExtras.EarlyFilteredLogger{Base.CoreLogging.SimpleLogger, AbstractMCMC.var\"#2#4\"{Module}}}})",
      "    @ Base.CoreLogging ./logging.jl:623",
      " [30] with_progresslogger(f::Function, _module::Module, logger::Base.CoreLogging.SimpleLogger)",
      "    @ AbstractMCMC ~/.julia/packages/AbstractMCMC/oou1a/src/logging.jl:34",
      " [31] macro expansion",
      "    @ ~/.julia/packages/AbstractMCMC/oou1a/src/logging.jl:10 [inlined]",
      " [32] mcmcsample(rng::Random._GLOBAL_RNG, model::DynamicPPL.Model{var\"#14#15\", (:data_vector,), (), (), Tuple{Vector{Float64}}, Tuple{}}, sampler::DynamicPPL.Sampler{MH{(), NamedTuple{(), Tuple{}}}}, N::Int64; progress::Bool, progressname::String, callback::Nothing, discard_initial::Int64, thinning::Int64, chain_type::Type, kwargs::Base.Pairs{Symbol, Integer, Tuple{Symbol, Symbol}, NamedTuple{(:nadapt, :save_state), Tuple{Int64, Bool}}})",
      "    @ AbstractMCMC ~/.julia/packages/AbstractMCMC/oou1a/src/sample.jl:88",
      " [33] sample(rng::Random._GLOBAL_RNG, model::DynamicPPL.Model{var\"#14#15\", (:data_vector,), (), (), Tuple{Vector{Float64}}, Tuple{}}, sampler::DynamicPPL.Sampler{MH{(), NamedTuple{(), Tuple{}}}}, N::Int64; chain_type::Type, resume_from::Nothing, progress::Bool, kwargs::Base.Pairs{Symbol, Integer, Tuple{Symbol, Symbol}, NamedTuple{(:nadapt, :save_state), Tuple{Int64, Bool}}})",
      "    @ Turing.Inference ~/.julia/packages/Turing/uAz5c/src/inference/Inference.jl:156",
      " [34] #sample#2",
      "    @ ~/.julia/packages/Turing/uAz5c/src/inference/Inference.jl:142 [inlined]",
      " [35] #sample#1",
      "    @ ~/.julia/packages/Turing/uAz5c/src/inference/Inference.jl:132 [inlined]",
      " [36] top-level scope",
      "    @ In[25]:1",
      " [37] eval",
      "    @ ./boot.jl:373 [inlined]",
      " [38] include_string(mapexpr::typeof(REPL.softscope), mod::Module, code::String, filename::String)",
      "    @ Base ./loading.jl:1196"
     ]
    }
   ],
   "source": [
    "chain2 = sample(model_parallel(data_vector), MH(), iterations,\n",
    "            nadapt=nadapts, progress=true; save_state=true);"
   ]
  },
  {
   "cell_type": "code",
   "execution_count": 18,
   "id": "54da0b16",
   "metadata": {},
   "outputs": [
    {
     "ename": "LoadError",
     "evalue": "InterruptException:",
     "output_type": "error",
     "traceback": [
      "InterruptException:",
      "",
      "Stacktrace:",
      "  [1] (::LimberJack.var\"#w_itg#18\"{Cosmology, Interpolations.FilledExtrapolation{Float64, 1, Interpolations.GriddedInterpolation{Float64, 1, Float64, Interpolations.Gridded{Interpolations.Linear}, Tuple{Vector{Float64}}}, Interpolations.Gridded{Interpolations.Linear}, Int64}})(zz::Float64, chii::Float64)",
      "    @ LimberJack ~/PhD/LimberJack.jl/src/tracers.jl:42",
      "  [2] #16",
      "    @ ~/PhD/LimberJack.jl/src/tracers.jl:44 [inlined]",
      "  [3] evalrule(f::LimberJack.var\"#16#20\"{Int64, LimberJack.var\"#w_itg#18\"{Cosmology, Interpolations.FilledExtrapolation{Float64, 1, Interpolations.GriddedInterpolation{Float64, 1, Float64, Interpolations.Gridded{Interpolations.Linear}, Tuple{Vector{Float64}}}, Interpolations.Gridded{Interpolations.Linear}, Int64}}, Vector{Float64}}, a::Float64, b::Float64, x::Vector{Float64}, w::Vector{Float64}, gw::Vector{Float64}, nrm::typeof(norm))",
      "    @ QuadGK ~/.julia/packages/QuadGK/ENhXl/src/evalrule.jl:25",
      "  [4] adapt(f::Function, segs::Vector{QuadGK.Segment{Float64, Float64, Float64}}, I::Float64, E::Float64, numevals::Int64, x::Vector{Float64}, w::Vector{Float64}, gw::Vector{Float64}, n::Int64, atol::Float64, rtol::Float64, maxevals::Int64, nrm::typeof(norm))",
      "    @ QuadGK ~/.julia/packages/QuadGK/ENhXl/src/adapt.jl:45",
      "  [5] do_quadgk(f::LimberJack.var\"#16#20\"{Int64, LimberJack.var\"#w_itg#18\"{Cosmology, Interpolations.FilledExtrapolation{Float64, 1, Interpolations.GriddedInterpolation{Float64, 1, Float64, Interpolations.Gridded{Interpolations.Linear}, Tuple{Vector{Float64}}}, Interpolations.Gridded{Interpolations.Linear}, Int64}}, Vector{Float64}}, s::Tuple{Float64, Float64}, n::Int64, atol::Nothing, rtol::Float64, maxevals::Int64, nrm::typeof(norm))",
      "    @ QuadGK ~/.julia/packages/QuadGK/ENhXl/src/adapt.jl:35",
      "  [6] #28",
      "    @ ~/.julia/packages/QuadGK/ENhXl/src/adapt.jl:179 [inlined]",
      "  [7] handle_infinities(workfunc::QuadGK.var\"#28#29\"{Nothing, Float64, Int64, Int64, typeof(norm)}, f::LimberJack.var\"#16#20\"{Int64, LimberJack.var\"#w_itg#18\"{Cosmology, Interpolations.FilledExtrapolation{Float64, 1, Interpolations.GriddedInterpolation{Float64, 1, Float64, Interpolations.Gridded{Interpolations.Linear}, Tuple{Vector{Float64}}}, Interpolations.Gridded{Interpolations.Linear}, Int64}}, Vector{Float64}}, s::Tuple{Float64, Float64})",
      "    @ QuadGK ~/.julia/packages/QuadGK/ENhXl/src/adapt.jl:113",
      "  [8] #quadgk#27",
      "    @ ~/.julia/packages/QuadGK/ENhXl/src/adapt.jl:177 [inlined]",
      "  [9] (::LimberJack.var\"#15#19\"{Vector{Float64}, LimberJack.var\"#w_itg#18\"{Cosmology, Interpolations.FilledExtrapolation{Float64, 1, Interpolations.GriddedInterpolation{Float64, 1, Float64, Interpolations.Gridded{Interpolations.Linear}, Tuple{Vector{Float64}}}, Interpolations.Gridded{Interpolations.Linear}, Int64}}, Vector{Float64}, StepRangeLen{Float64, Base.TwicePrecision{Float64}, Base.TwicePrecision{Float64}, Int64}})(i::Int64)",
      "    @ LimberJack ./none:0",
      " [10] iterate",
      "    @ ./generator.jl:47 [inlined]",
      " [11] collect_to!(dest::Vector{Float64}, itr::Base.Generator{UnitRange{Int64}, LimberJack.var\"#15#19\"{Vector{Float64}, LimberJack.var\"#w_itg#18\"{Cosmology, Interpolations.FilledExtrapolation{Float64, 1, Interpolations.GriddedInterpolation{Float64, 1, Float64, Interpolations.Gridded{Interpolations.Linear}, Tuple{Vector{Float64}}}, Interpolations.Gridded{Interpolations.Linear}, Int64}}, Vector{Float64}, StepRangeLen{Float64, Base.TwicePrecision{Float64}, Base.TwicePrecision{Float64}, Int64}}}, offs::Int64, st::Int64)",
      "    @ Base ./array.jl:782",
      " [12] collect_to_with_first!(dest::Vector{Float64}, v1::Float64, itr::Base.Generator{UnitRange{Int64}, LimberJack.var\"#15#19\"{Vector{Float64}, LimberJack.var\"#w_itg#18\"{Cosmology, Interpolations.FilledExtrapolation{Float64, 1, Interpolations.GriddedInterpolation{Float64, 1, Float64, Interpolations.Gridded{Interpolations.Linear}, Tuple{Vector{Float64}}}, Interpolations.Gridded{Interpolations.Linear}, Int64}}, Vector{Float64}, StepRangeLen{Float64, Base.TwicePrecision{Float64}, Base.TwicePrecision{Float64}, Int64}}}, st::Int64)",
      "    @ Base ./array.jl:760",
      " [13] collect(itr::Base.Generator{UnitRange{Int64}, LimberJack.var\"#15#19\"{Vector{Float64}, LimberJack.var\"#w_itg#18\"{Cosmology, Interpolations.FilledExtrapolation{Float64, 1, Interpolations.GriddedInterpolation{Float64, 1, Float64, Interpolations.Gridded{Interpolations.Linear}, Tuple{Vector{Float64}}}, Interpolations.Gridded{Interpolations.Linear}, Int64}}, Vector{Float64}, StepRangeLen{Float64, Base.TwicePrecision{Float64}, Base.TwicePrecision{Float64}, Int64}}})",
      "    @ Base ./array.jl:734",
      " [14] WeakLensingTracer(cosmo::Cosmology, z_n::Vector{Float64}, nz::Vector{Float64}; mbias::Float64, IA_params::Vector{Float64})",
      "    @ LimberJack ~/PhD/LimberJack.jl/src/tracers.jl:44",
      " [15] Theory(cosmology::Cosmology, Nuisances::Dict{String, Float64}, cls_meta::cls_meta{Vector{Vector{Int64}}}, files::Dict{String, Array})",
      "    @ LimberJack ~/PhD/LimberJack.jl/src/theory.jl:184",
      " [16] #2",
      "    @ ./In[13]:22 [inlined]",
      " [17] (::var\"#2#3\")(__rng__::Random._GLOBAL_RNG, __model__::DynamicPPL.Model{var\"#2#3\", (:data_vector,), (), (), Tuple{Vector{Float64}}, Tuple{}}, __varinfo__::DynamicPPL.ThreadSafeVarInfo{DynamicPPL.UntypedVarInfo{DynamicPPL.Metadata{Dict{AbstractPPL.VarName, Int64}, Vector{Distribution}, Vector{AbstractPPL.VarName}, Vector{Real}, Vector{Set{DynamicPPL.Selector}}}, Float64}, Vector{Base.RefValue{Float64}}}, __sampler__::DynamicPPL.SampleFromUniform, __context__::DynamicPPL.DefaultContext, data_vector::Vector{Float64})",
      "    @ Main ./none:0",
      " [18] macro expansion",
      "    @ ~/.julia/packages/DynamicPPL/SgzCy/src/model.jl:0 [inlined]",
      " [19] _evaluate",
      "    @ ~/.julia/packages/DynamicPPL/SgzCy/src/model.jl:154 [inlined]",
      " [20] evaluate_threadsafe(rng::Random._GLOBAL_RNG, model::DynamicPPL.Model{var\"#2#3\", (:data_vector,), (), (), Tuple{Vector{Float64}}, Tuple{}}, varinfo::DynamicPPL.UntypedVarInfo{DynamicPPL.Metadata{Dict{AbstractPPL.VarName, Int64}, Vector{Distribution}, Vector{AbstractPPL.VarName}, Vector{Real}, Vector{Set{DynamicPPL.Selector}}}, Float64}, sampler::DynamicPPL.SampleFromUniform, context::DynamicPPL.DefaultContext)",
      "    @ DynamicPPL ~/.julia/packages/DynamicPPL/SgzCy/src/model.jl:144",
      " [21] Model",
      "    @ ~/.julia/packages/DynamicPPL/SgzCy/src/model.jl:94 [inlined]",
      " [22] VarInfo",
      "    @ ~/.julia/packages/DynamicPPL/SgzCy/src/varinfo.jl:126 [inlined]",
      " [23] VarInfo",
      "    @ ~/.julia/packages/DynamicPPL/SgzCy/src/varinfo.jl:125 [inlined]",
      " [24] step(rng::Random._GLOBAL_RNG, model::DynamicPPL.Model{var\"#2#3\", (:data_vector,), (), (), Tuple{Vector{Float64}}, Tuple{}}, spl::DynamicPPL.Sampler{NUTS{Turing.Core.ForwardDiffAD{40}, (), AdvancedHMC.DiagEuclideanMetric}}; resume_from::Nothing, kwargs::Base.Pairs{Symbol, Integer, Tuple{Symbol, Symbol}, NamedTuple{(:nadapts, :save_state), Tuple{Int64, Bool}}})",
      "    @ DynamicPPL ~/.julia/packages/DynamicPPL/SgzCy/src/sampler.jl:73",
      " [25] macro expansion",
      "    @ ~/.julia/packages/AbstractMCMC/oou1a/src/sample.jl:97 [inlined]",
      " [26] macro expansion",
      "    @ ~/.julia/packages/ProgressLogging/6KXlp/src/ProgressLogging.jl:328 [inlined]",
      " [27] (::AbstractMCMC.var\"#20#21\"{Bool, String, Nothing, Int64, Int64, Base.Pairs{Symbol, Integer, Tuple{Symbol, Symbol}, NamedTuple{(:nadapts, :save_state), Tuple{Int64, Bool}}}, Random._GLOBAL_RNG, DynamicPPL.Model{var\"#2#3\", (:data_vector,), (), (), Tuple{Vector{Float64}}, Tuple{}}, DynamicPPL.Sampler{NUTS{Turing.Core.ForwardDiffAD{40}, (), AdvancedHMC.DiagEuclideanMetric}}, Int64, Int64})()",
      "    @ AbstractMCMC ~/.julia/packages/AbstractMCMC/oou1a/src/logging.jl:11",
      " [28] with_logstate(f::Function, logstate::Any)",
      "    @ Base.CoreLogging ./logging.jl:511",
      " [29] with_logger(f::Function, logger::LoggingExtras.TeeLogger{Tuple{LoggingExtras.EarlyFilteredLogger{ConsoleProgressMonitor.ProgressLogger, AbstractMCMC.var\"#1#3\"{Module}}, LoggingExtras.EarlyFilteredLogger{Base.CoreLogging.SimpleLogger, AbstractMCMC.var\"#2#4\"{Module}}}})",
      "    @ Base.CoreLogging ./logging.jl:623",
      " [30] with_progresslogger(f::Function, _module::Module, logger::Base.CoreLogging.SimpleLogger)",
      "    @ AbstractMCMC ~/.julia/packages/AbstractMCMC/oou1a/src/logging.jl:34",
      " [31] macro expansion",
      "    @ ~/.julia/packages/AbstractMCMC/oou1a/src/logging.jl:10 [inlined]",
      " [32] mcmcsample(rng::Random._GLOBAL_RNG, model::DynamicPPL.Model{var\"#2#3\", (:data_vector,), (), (), Tuple{Vector{Float64}}, Tuple{}}, sampler::DynamicPPL.Sampler{NUTS{Turing.Core.ForwardDiffAD{40}, (), AdvancedHMC.DiagEuclideanMetric}}, N::Int64; progress::Bool, progressname::String, callback::Nothing, discard_initial::Int64, thinning::Int64, chain_type::Type, kwargs::Base.Pairs{Symbol, Integer, Tuple{Symbol, Symbol}, NamedTuple{(:nadapts, :save_state), Tuple{Int64, Bool}}})",
      "    @ AbstractMCMC ~/.julia/packages/AbstractMCMC/oou1a/src/sample.jl:88",
      " [33] sample(rng::Random._GLOBAL_RNG, model::DynamicPPL.Model{var\"#2#3\", (:data_vector,), (), (), Tuple{Vector{Float64}}, Tuple{}}, sampler::DynamicPPL.Sampler{NUTS{Turing.Core.ForwardDiffAD{40}, (), AdvancedHMC.DiagEuclideanMetric}}, N::Int64; chain_type::Type, resume_from::Nothing, progress::Bool, nadapts::Int64, discard_adapt::Bool, discard_initial::Int64, kwargs::Base.Pairs{Symbol, Bool, Tuple{Symbol}, NamedTuple{(:save_state,), Tuple{Bool}}})",
      "    @ Turing.Inference ~/.julia/packages/Turing/uAz5c/src/inference/hmc.jl:140",
      " [34] #sample#2",
      "    @ ~/.julia/packages/Turing/uAz5c/src/inference/Inference.jl:142 [inlined]",
      " [35] #sample#1",
      "    @ ~/.julia/packages/Turing/uAz5c/src/inference/Inference.jl:132 [inlined]",
      " [36] top-level scope",
      "    @ In[18]:1",
      " [37] eval",
      "    @ ./boot.jl:373 [inlined]",
      " [38] include_string(mapexpr::typeof(REPL.softscope), mod::Module, code::String, filename::String)",
      "    @ Base ./loading.jl:1196"
     ]
    }
   ],
   "source": [
    "chain3 = sample(model(data_vector), NUTS(5, 0.1), iterations,\n",
    "                progress=true; save_state=true);"
   ]
  },
  {
   "cell_type": "code",
   "execution_count": null,
   "id": "a2994862",
   "metadata": {},
   "outputs": [
    {
     "name": "stderr",
     "output_type": "stream",
     "text": [
      "┌ Info: Found initial step size\n",
      "│   ϵ = 0.05\n",
      "└ @ Turing.Inference /home/jaime/.julia/packages/Turing/uAz5c/src/inference/hmc.jl:195\n",
      "┌ Warning: The current proposal will be rejected due to numerical error(s).\n",
      "│   isfinite.((θ, r, ℓπ, ℓκ)) = (true, false, false, false)\n",
      "└ @ AdvancedHMC /home/jaime/.julia/packages/AdvancedHMC/MIxdK/src/hamiltonian.jl:47\n",
      "┌ Warning: The current proposal will be rejected due to numerical error(s).\n",
      "│   isfinite.((θ, r, ℓπ, ℓκ)) = (true, false, false, false)\n",
      "└ @ AdvancedHMC /home/jaime/.julia/packages/AdvancedHMC/MIxdK/src/hamiltonian.jl:47\n",
      "┌ Warning: The current proposal will be rejected due to numerical error(s).\n",
      "│   isfinite.((θ, r, ℓπ, ℓκ)) = (true, false, false, false)\n",
      "└ @ AdvancedHMC /home/jaime/.julia/packages/AdvancedHMC/MIxdK/src/hamiltonian.jl:47\n",
      "\u001b[32mSampling:   1%|▌                                        |  ETA: 0:15:32\u001b[39m┌ Warning: The current proposal will be rejected due to numerical error(s).\n",
      "│   isfinite.((θ, r, ℓπ, ℓκ)) = (true, false, false, false)\n",
      "└ @ AdvancedHMC /home/jaime/.julia/packages/AdvancedHMC/MIxdK/src/hamiltonian.jl:47\n",
      "\u001b[32mSampling:   2%|▊                                        |  ETA: 0:14:05\u001b[39m┌ Warning: The current proposal will be rejected due to numerical error(s).\n",
      "│   isfinite.((θ, r, ℓπ, ℓκ)) = (true, false, false, false)\n",
      "└ @ AdvancedHMC /home/jaime/.julia/packages/AdvancedHMC/MIxdK/src/hamiltonian.jl:47\n",
      "\u001b[32mSampling:   2%|▉                                        |  ETA: 0:15:09\u001b[39m┌ Warning: The current proposal will be rejected due to numerical error(s).\n",
      "│   isfinite.((θ, r, ℓπ, ℓκ)) = (true, false, false, false)\n",
      "└ @ AdvancedHMC /home/jaime/.julia/packages/AdvancedHMC/MIxdK/src/hamiltonian.jl:47\n",
      "\u001b[32mSampling:   3%|█▏                                       |  ETA: 0:15:19\u001b[39m┌ Warning: The current proposal will be rejected due to numerical error(s).\n",
      "│   isfinite.((θ, r, ℓπ, ℓκ)) = (true, false, false, false)\n",
      "└ @ AdvancedHMC /home/jaime/.julia/packages/AdvancedHMC/MIxdK/src/hamiltonian.jl:47\n",
      "\u001b[32mSampling:   3%|█▎                                       |  ETA: 0:15:57\u001b[39m┌ Warning: The current proposal will be rejected due to numerical error(s).\n",
      "│   isfinite.((θ, r, ℓπ, ℓκ)) = (true, false, false, false)\n",
      "└ @ AdvancedHMC /home/jaime/.julia/packages/AdvancedHMC/MIxdK/src/hamiltonian.jl:47\n",
      "\u001b[32mSampling:   3%|█▎                                       |  ETA: 0:16:27\u001b[39m┌ Warning: The current proposal will be rejected due to numerical error(s).\n",
      "│   isfinite.((θ, r, ℓπ, ℓκ)) = (true, false, false, false)\n",
      "└ @ AdvancedHMC /home/jaime/.julia/packages/AdvancedHMC/MIxdK/src/hamiltonian.jl:47\n",
      "\u001b[32mSampling:   4%|█▌                                       |  ETA: 0:16:21\u001b[39m┌ Warning: The current proposal will be rejected due to numerical error(s).\n",
      "│   isfinite.((θ, r, ℓπ, ℓκ)) = (true, false, false, false)\n",
      "└ @ AdvancedHMC /home/jaime/.julia/packages/AdvancedHMC/MIxdK/src/hamiltonian.jl:47\n",
      "\u001b[32mSampling:   4%|█▋                                       |  ETA: 0:16:48\u001b[39m┌ Warning: The current proposal will be rejected due to numerical error(s).\n",
      "│   isfinite.((θ, r, ℓπ, ℓκ)) = (true, false, false, false)\n",
      "└ @ AdvancedHMC /home/jaime/.julia/packages/AdvancedHMC/MIxdK/src/hamiltonian.jl:47\n",
      "\u001b[32mSampling:   4%|█▊                                       |  ETA: 0:17:06\u001b[39m┌ Warning: The current proposal will be rejected due to numerical error(s).\n",
      "│   isfinite.((θ, r, ℓπ, ℓκ)) = (true, false, false, false)\n",
      "└ @ AdvancedHMC /home/jaime/.julia/packages/AdvancedHMC/MIxdK/src/hamiltonian.jl:47\n",
      "\u001b[32mSampling:   4%|█▉                                       |  ETA: 0:17:21\u001b[39m┌ Warning: The current proposal will be rejected due to numerical error(s).\n",
      "│   isfinite.((θ, r, ℓπ, ℓκ)) = (true, false, false, false)\n",
      "└ @ AdvancedHMC /home/jaime/.julia/packages/AdvancedHMC/MIxdK/src/hamiltonian.jl:47\n",
      "\u001b[32mSampling:   5%|██                                       |  ETA: 0:17:11\u001b[39m┌ Warning: The current proposal will be rejected due to numerical error(s).\n",
      "│   isfinite.((θ, r, ℓπ, ℓκ)) = (true, false, false, false)\n",
      "└ @ AdvancedHMC /home/jaime/.julia/packages/AdvancedHMC/MIxdK/src/hamiltonian.jl:47\n",
      "\u001b[32mSampling:   5%|██▏                                      |  ETA: 0:17:22\u001b[39m┌ Warning: The current proposal will be rejected due to numerical error(s).\n",
      "│   isfinite.((θ, r, ℓπ, ℓκ)) = (true, false, false, false)\n",
      "└ @ AdvancedHMC /home/jaime/.julia/packages/AdvancedHMC/MIxdK/src/hamiltonian.jl:47\n",
      "\u001b[32mSampling:   6%|██▎                                      |  ETA: 0:17:32\u001b[39m┌ Warning: The current proposal will be rejected due to numerical error(s).\n",
      "│   isfinite.((θ, r, ℓπ, ℓκ)) = (true, false, false, false)\n",
      "└ @ AdvancedHMC /home/jaime/.julia/packages/AdvancedHMC/MIxdK/src/hamiltonian.jl:47\n",
      "\u001b[32mSampling:   6%|██▍                                      |  ETA: 0:17:27\u001b[39m┌ Warning: The current proposal will be rejected due to numerical error(s).\n",
      "│   isfinite.((θ, r, ℓπ, ℓκ)) = (true, false, false, false)\n",
      "└ @ AdvancedHMC /home/jaime/.julia/packages/AdvancedHMC/MIxdK/src/hamiltonian.jl:47\n",
      "\u001b[32mSampling:   6%|██▌                                      |  ETA: 0:17:36\u001b[39m┌ Warning: The current proposal will be rejected due to numerical error(s).\n",
      "│   isfinite.((θ, r, ℓπ, ℓκ)) = (true, false, false, false)\n",
      "└ @ AdvancedHMC /home/jaime/.julia/packages/AdvancedHMC/MIxdK/src/hamiltonian.jl:47\n",
      "\u001b[32mSampling:   6%|██▋                                      |  ETA: 0:17:44\u001b[39m┌ Warning: The current proposal will be rejected due to numerical error(s).\n",
      "│   isfinite.((θ, r, ℓπ, ℓκ)) = (true, false, false, false)\n",
      "└ @ AdvancedHMC /home/jaime/.julia/packages/AdvancedHMC/MIxdK/src/hamiltonian.jl:47\n",
      "\u001b[32mSampling:   7%|██▊                                      |  ETA: 0:17:49\u001b[39m┌ Warning: The current proposal will be rejected due to numerical error(s).\n",
      "│   isfinite.((θ, r, ℓπ, ℓκ)) = (true, false, false, false)\n",
      "└ @ AdvancedHMC /home/jaime/.julia/packages/AdvancedHMC/MIxdK/src/hamiltonian.jl:47\n",
      "\u001b[32mSampling:   7%|███                                      |  ETA: 0:17:38\u001b[39m┌ Warning: The current proposal will be rejected due to numerical error(s).\n",
      "│   isfinite.((θ, r, ℓπ, ℓκ)) = (true, false, false, false)\n",
      "└ @ AdvancedHMC /home/jaime/.julia/packages/AdvancedHMC/MIxdK/src/hamiltonian.jl:47\n",
      "\u001b[32mSampling:   8%|███▏                                     |  ETA: 0:17:47\u001b[39m┌ Warning: The current proposal will be rejected due to numerical error(s).\n",
      "│   isfinite.((θ, r, ℓπ, ℓκ)) = (true, false, false, false)\n",
      "└ @ AdvancedHMC /home/jaime/.julia/packages/AdvancedHMC/MIxdK/src/hamiltonian.jl:47\n",
      "\u001b[32mSampling:   8%|███▎                                     |  ETA: 0:17:51\u001b[39m┌ Warning: The current proposal will be rejected due to numerical error(s).\n",
      "│   isfinite.((θ, r, ℓπ, ℓκ)) = (true, false, false, false)\n",
      "└ @ AdvancedHMC /home/jaime/.julia/packages/AdvancedHMC/MIxdK/src/hamiltonian.jl:47\n",
      "\u001b[32mSampling:   8%|███▍                                     |  ETA: 0:17:54\u001b[39m┌ Warning: The current proposal will be rejected due to numerical error(s).\n",
      "│   isfinite.((θ, r, ℓπ, ℓκ)) = (true, false, false, false)\n",
      "└ @ AdvancedHMC /home/jaime/.julia/packages/AdvancedHMC/MIxdK/src/hamiltonian.jl:47\n",
      "\u001b[32mSampling:   8%|███▌                                     |  ETA: 0:17:43\u001b[39m┌ Warning: The current proposal will be rejected due to numerical error(s).\n",
      "│   isfinite.((θ, r, ℓπ, ℓκ)) = (true, false, false, false)\n",
      "└ @ AdvancedHMC /home/jaime/.julia/packages/AdvancedHMC/MIxdK/src/hamiltonian.jl:47\n",
      "\u001b[32mSampling:   9%|███▋                                     |  ETA: 0:17:46\u001b[39m┌ Warning: The current proposal will be rejected due to numerical error(s).\n",
      "│   isfinite.((θ, r, ℓπ, ℓκ)) = (true, false, false, false)\n",
      "└ @ AdvancedHMC /home/jaime/.julia/packages/AdvancedHMC/MIxdK/src/hamiltonian.jl:47\n",
      "\u001b[32mSampling:   9%|███▊                                     |  ETA: 0:17:49\u001b[39m┌ Warning: The current proposal will be rejected due to numerical error(s).\n",
      "│   isfinite.((θ, r, ℓπ, ℓκ)) = (true, false, false, false)\n",
      "└ @ AdvancedHMC /home/jaime/.julia/packages/AdvancedHMC/MIxdK/src/hamiltonian.jl:47\n",
      "\u001b[32mSampling:  10%|███▉                                     |  ETA: 0:17:39\u001b[39m┌ Warning: The current proposal will be rejected due to numerical error(s).\n",
      "│   isfinite.((θ, r, ℓπ, ℓκ)) = (true, false, false, false)\n",
      "└ @ AdvancedHMC /home/jaime/.julia/packages/AdvancedHMC/MIxdK/src/hamiltonian.jl:47\n"
     ]
    },
    {
     "name": "stderr",
     "output_type": "stream",
     "text": [
      "\u001b[32mSampling:  10%|████                                     |  ETA: 0:17:41\u001b[39m┌ Warning: The current proposal will be rejected due to numerical error(s).\n",
      "│   isfinite.((θ, r, ℓπ, ℓκ)) = (true, false, false, false)\n",
      "└ @ AdvancedHMC /home/jaime/.julia/packages/AdvancedHMC/MIxdK/src/hamiltonian.jl:47\n",
      "\u001b[32mSampling:  10%|████▏                                    |  ETA: 0:17:43\u001b[39m┌ Warning: The current proposal will be rejected due to numerical error(s).\n",
      "│   isfinite.((θ, r, ℓπ, ℓκ)) = (true, false, false, false)\n",
      "└ @ AdvancedHMC /home/jaime/.julia/packages/AdvancedHMC/MIxdK/src/hamiltonian.jl:47\n",
      "\u001b[32mSampling:  10%|████▎                                    |  ETA: 0:17:44\u001b[39m┌ Warning: The current proposal will be rejected due to numerical error(s).\n",
      "│   isfinite.((θ, r, ℓπ, ℓκ)) = (true, false, false, false)\n",
      "└ @ AdvancedHMC /home/jaime/.julia/packages/AdvancedHMC/MIxdK/src/hamiltonian.jl:47\n",
      "\u001b[32mSampling:  11%|████▍                                    |  ETA: 0:17:33\u001b[39m┌ Warning: The current proposal will be rejected due to numerical error(s).\n",
      "│   isfinite.((θ, r, ℓπ, ℓκ)) = (true, false, false, false)\n",
      "└ @ AdvancedHMC /home/jaime/.julia/packages/AdvancedHMC/MIxdK/src/hamiltonian.jl:47\n",
      "\u001b[32mSampling:  11%|████▌                                    |  ETA: 0:17:34\u001b[39m┌ Warning: The current proposal will be rejected due to numerical error(s).\n",
      "│   isfinite.((θ, r, ℓπ, ℓκ)) = (true, false, false, false)\n",
      "└ @ AdvancedHMC /home/jaime/.julia/packages/AdvancedHMC/MIxdK/src/hamiltonian.jl:47\n",
      "\u001b[32mSampling:  11%|████▋                                    |  ETA: 0:17:36\u001b[39m┌ Warning: The current proposal will be rejected due to numerical error(s).\n",
      "│   isfinite.((θ, r, ℓπ, ℓκ)) = (true, false, false, false)\n",
      "└ @ AdvancedHMC /home/jaime/.julia/packages/AdvancedHMC/MIxdK/src/hamiltonian.jl:47\n",
      "\u001b[32mSampling:  12%|████▉                                    |  ETA: 0:17:25\u001b[39m┌ Warning: The current proposal will be rejected due to numerical error(s).\n",
      "│   isfinite.((θ, r, ℓπ, ℓκ)) = (true, false, false, false)\n",
      "└ @ AdvancedHMC /home/jaime/.julia/packages/AdvancedHMC/MIxdK/src/hamiltonian.jl:47\n",
      "\u001b[32mSampling:  12%|█████                                    |  ETA: 0:17:25\u001b[39m┌ Warning: The current proposal will be rejected due to numerical error(s).\n",
      "│   isfinite.((θ, r, ℓπ, ℓκ)) = (true, false, false, false)\n",
      "└ @ AdvancedHMC /home/jaime/.julia/packages/AdvancedHMC/MIxdK/src/hamiltonian.jl:47\n",
      "\u001b[32mSampling:  12%|█████▏                                   |  ETA: 0:17:27\u001b[39m┌ Warning: The current proposal will be rejected due to numerical error(s).\n",
      "│   isfinite.((θ, r, ℓπ, ℓκ)) = (true, false, false, false)\n",
      "└ @ AdvancedHMC /home/jaime/.julia/packages/AdvancedHMC/MIxdK/src/hamiltonian.jl:47\n",
      "\u001b[32mSampling:  13%|█████▎                                   |  ETA: 0:17:26\u001b[39m┌ Warning: The current proposal will be rejected due to numerical error(s).\n",
      "│   isfinite.((θ, r, ℓπ, ℓκ)) = (true, false, false, false)\n",
      "└ @ AdvancedHMC /home/jaime/.julia/packages/AdvancedHMC/MIxdK/src/hamiltonian.jl:47\n",
      "\u001b[32mSampling:  13%|█████▍                                   |  ETA: 0:17:17\u001b[39m┌ Warning: The current proposal will be rejected due to numerical error(s).\n",
      "│   isfinite.((θ, r, ℓπ, ℓκ)) = (true, false, false, false)\n",
      "└ @ AdvancedHMC /home/jaime/.julia/packages/AdvancedHMC/MIxdK/src/hamiltonian.jl:47\n",
      "\u001b[32mSampling:  13%|█████▌                                   |  ETA: 0:17:17\u001b[39m┌ Warning: The current proposal will be rejected due to numerical error(s).\n",
      "│   isfinite.((θ, r, ℓπ, ℓκ)) = (true, false, false, false)\n",
      "└ @ AdvancedHMC /home/jaime/.julia/packages/AdvancedHMC/MIxdK/src/hamiltonian.jl:47\n",
      "\u001b[32mSampling:  14%|█████▋                                   |  ETA: 0:17:17\u001b[39m┌ Warning: The current proposal will be rejected due to numerical error(s).\n",
      "│   isfinite.((θ, r, ℓπ, ℓκ)) = (true, false, false, false)\n",
      "└ @ AdvancedHMC /home/jaime/.julia/packages/AdvancedHMC/MIxdK/src/hamiltonian.jl:47\n",
      "\u001b[32mSampling:  14%|█████▊                                   |  ETA: 0:17:17\u001b[39m┌ Warning: The current proposal will be rejected due to numerical error(s).\n",
      "│   isfinite.((θ, r, ℓπ, ℓκ)) = (true, false, false, false)\n",
      "└ @ AdvancedHMC /home/jaime/.julia/packages/AdvancedHMC/MIxdK/src/hamiltonian.jl:47\n",
      "\u001b[32mSampling:  14%|█████▉                                   |  ETA: 0:17:08\u001b[39m┌ Warning: The current proposal will be rejected due to numerical error(s).\n",
      "│   isfinite.((θ, r, ℓπ, ℓκ)) = (true, false, false, false)\n",
      "└ @ AdvancedHMC /home/jaime/.julia/packages/AdvancedHMC/MIxdK/src/hamiltonian.jl:47\n",
      "\u001b[32mSampling:  15%|██████                                   |  ETA: 0:17:07\u001b[39m┌ Warning: The current proposal will be rejected due to numerical error(s).\n",
      "│   isfinite.((θ, r, ℓπ, ℓκ)) = (true, false, false, false)\n",
      "└ @ AdvancedHMC /home/jaime/.julia/packages/AdvancedHMC/MIxdK/src/hamiltonian.jl:47\n",
      "\u001b[32mSampling:  15%|██████▏                                  |  ETA: 0:17:07\u001b[39m┌ Warning: The current proposal will be rejected due to numerical error(s).\n",
      "│   isfinite.((θ, r, ℓπ, ℓκ)) = (true, false, false, false)\n",
      "└ @ AdvancedHMC /home/jaime/.julia/packages/AdvancedHMC/MIxdK/src/hamiltonian.jl:47\n",
      "\u001b[32mSampling:  15%|██████▍                                  |  ETA: 0:16:58\u001b[39m┌ Warning: The current proposal will be rejected due to numerical error(s).\n",
      "│   isfinite.((θ, r, ℓπ, ℓκ)) = (true, false, false, false)\n",
      "└ @ AdvancedHMC /home/jaime/.julia/packages/AdvancedHMC/MIxdK/src/hamiltonian.jl:47\n",
      "\u001b[32mSampling:  16%|██████▍                                  |  ETA: 0:16:57\u001b[39m┌ Warning: The current proposal will be rejected due to numerical error(s).\n",
      "│   isfinite.((θ, r, ℓπ, ℓκ)) = (true, false, false, false)\n",
      "└ @ AdvancedHMC /home/jaime/.julia/packages/AdvancedHMC/MIxdK/src/hamiltonian.jl:47\n",
      "\u001b[32mSampling:  16%|██████▌                                  |  ETA: 0:16:56\u001b[39m┌ Warning: The current proposal will be rejected due to numerical error(s).\n",
      "│   isfinite.((θ, r, ℓπ, ℓκ)) = (true, false, false, false)\n",
      "└ @ AdvancedHMC /home/jaime/.julia/packages/AdvancedHMC/MIxdK/src/hamiltonian.jl:47\n",
      "\u001b[32mSampling:  16%|██████▋                                  |  ETA: 0:16:55\u001b[39m┌ Warning: The current proposal will be rejected due to numerical error(s).\n",
      "│   isfinite.((θ, r, ℓπ, ℓκ)) = (true, false, false, false)\n",
      "└ @ AdvancedHMC /home/jaime/.julia/packages/AdvancedHMC/MIxdK/src/hamiltonian.jl:47\n",
      "\u001b[32mSampling:  17%|██████▉                                  |  ETA: 0:16:46\u001b[39m┌ Warning: The current proposal will be rejected due to numerical error(s).\n",
      "│   isfinite.((θ, r, ℓπ, ℓκ)) = (true, false, false, false)\n",
      "└ @ AdvancedHMC /home/jaime/.julia/packages/AdvancedHMC/MIxdK/src/hamiltonian.jl:47\n",
      "\u001b[32mSampling:  17%|███████                                  |  ETA: 0:16:45\u001b[39m┌ Warning: The current proposal will be rejected due to numerical error(s).\n",
      "│   isfinite.((θ, r, ℓπ, ℓκ)) = (true, false, false, false)\n",
      "└ @ AdvancedHMC /home/jaime/.julia/packages/AdvancedHMC/MIxdK/src/hamiltonian.jl:47\n",
      "\u001b[32mSampling:  17%|███████▏                                 |  ETA: 0:16:44\u001b[39m┌ Warning: The current proposal will be rejected due to numerical error(s).\n",
      "│   isfinite.((θ, r, ℓπ, ℓκ)) = (true, false, false, false)\n",
      "└ @ AdvancedHMC /home/jaime/.julia/packages/AdvancedHMC/MIxdK/src/hamiltonian.jl:47\n",
      "\u001b[32mSampling:  18%|███████▎                                 |  ETA: 0:16:35\u001b[39m┌ Warning: The current proposal will be rejected due to numerical error(s).\n",
      "│   isfinite.((θ, r, ℓπ, ℓκ)) = (true, false, false, false)\n",
      "└ @ AdvancedHMC /home/jaime/.julia/packages/AdvancedHMC/MIxdK/src/hamiltonian.jl:47\n",
      "\u001b[32mSampling:  18%|███████▍                                 |  ETA: 0:16:33\u001b[39m┌ Warning: The current proposal will be rejected due to numerical error(s).\n",
      "│   isfinite.((θ, r, ℓπ, ℓκ)) = (true, false, false, false)\n",
      "└ @ AdvancedHMC /home/jaime/.julia/packages/AdvancedHMC/MIxdK/src/hamiltonian.jl:47\n",
      "\u001b[32mSampling:  18%|███████▌                                 |  ETA: 0:16:32\u001b[39m┌ Warning: The current proposal will be rejected due to numerical error(s).\n",
      "│   isfinite.((θ, r, ℓπ, ℓκ)) = (true, false, false, false)\n",
      "└ @ AdvancedHMC /home/jaime/.julia/packages/AdvancedHMC/MIxdK/src/hamiltonian.jl:47\n"
     ]
    },
    {
     "name": "stderr",
     "output_type": "stream",
     "text": [
      "\u001b[32mSampling:  19%|███████▋                                 |  ETA: 0:16:30\u001b[39m┌ Warning: The current proposal will be rejected due to numerical error(s).\n",
      "│   isfinite.((θ, r, ℓπ, ℓκ)) = (true, false, false, false)\n",
      "└ @ AdvancedHMC /home/jaime/.julia/packages/AdvancedHMC/MIxdK/src/hamiltonian.jl:47\n",
      "\u001b[32mSampling:  19%|███████▊                                 |  ETA: 0:16:22\u001b[39m┌ Warning: The current proposal will be rejected due to numerical error(s).\n",
      "│   isfinite.((θ, r, ℓπ, ℓκ)) = (true, false, false, false)\n",
      "└ @ AdvancedHMC /home/jaime/.julia/packages/AdvancedHMC/MIxdK/src/hamiltonian.jl:47\n",
      "\u001b[32mSampling:  19%|███████▉                                 |  ETA: 0:16:20\u001b[39m"
     ]
    }
   ],
   "source": [
    "chain4 = sample(model_parallel(data_vector), NUTS(5, 0.1), iterations,\n",
    "                progress=true; save_state=true);"
   ]
  },
  {
   "cell_type": "code",
   "execution_count": null,
   "id": "dc01c0b5",
   "metadata": {},
   "outputs": [],
   "source": [
    "iterations = 1000\n",
    "adaptation = 100\n",
    "TAP = 0.6\n",
    "\n",
    "NUTS_chain = sample(model(data_vector), NUTS(adaptation, TAP),\n",
    "            iterations, progress=true; save_state=true);"
   ]
  },
  {
   "cell_type": "code",
   "execution_count": null,
   "id": "06541cf7",
   "metadata": {},
   "outputs": [],
   "source": [
    "describe(NUTS_chain)[1]"
   ]
  },
  {
   "cell_type": "code",
   "execution_count": null,
   "id": "02dfc692",
   "metadata": {},
   "outputs": [],
   "source": [
    "plot(NUTS_chain)"
   ]
  },
  {
   "cell_type": "code",
   "execution_count": null,
   "id": "1f655835",
   "metadata": {},
   "outputs": [],
   "source": []
  }
 ],
 "metadata": {
  "kernelspec": {
   "display_name": "Julia 4 Threads 1.7.0",
   "language": "julia",
   "name": "julia-4-threads-1.7"
  },
  "language_info": {
   "file_extension": ".jl",
   "mimetype": "application/julia",
   "name": "julia",
   "version": "1.7.0"
  }
 },
 "nbformat": 4,
 "nbformat_minor": 5
}
