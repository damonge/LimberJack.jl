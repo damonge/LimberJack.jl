{
 "cells": [
  {
   "cell_type": "code",
   "execution_count": 16,
   "id": "02df9ee7",
   "metadata": {},
   "outputs": [],
   "source": [
    "using Turing\n",
    "using LimberJack\n",
    "using LinearAlgebra\n",
    "using CSV\n",
    "using NPZ\n",
    "using Plots\n",
    "using FITSIO\n",
    "using ForwardDiff\n",
    "using BenchmarkTools\n",
    "using DelimitedFiles"
   ]
  },
  {
   "cell_type": "code",
   "execution_count": 17,
   "id": "a74170be",
   "metadata": {},
   "outputs": [
    {
     "data": {
      "text/plain": [
       "Dict{String, Array} with 42 entries:\n",
       "  \"ls_1022\"   => [14.5, 44.5, 74.5, 104.5, 134.5, 164.5, 194.5, 224.5, 255.5, 2…\n",
       "  \"ls_1321\"   => [14.5, 44.5, 74.5, 104.5, 134.5, 164.5, 194.5, 224.5, 255.5, 2…\n",
       "  \"ls_1313\"   => [14.5, 44.5, 74.5, 104.5, 134.5, 164.5, 194.5, 224.5, 255.5, 2…\n",
       "  \"ls_2123\"   => [14.5, 44.5, 74.5, 104.5, 134.5, 164.5, 194.5, 224.5, 255.5, 2…\n",
       "  \"ls_2223\"   => [14.5, 44.5, 74.5, 104.5, 134.5, 164.5, 194.5, 224.5, 255.5, 2…\n",
       "  \"ls_1021\"   => [14.5, 44.5, 74.5, 104.5, 134.5, 164.5, 194.5, 224.5, 255.5, 2…\n",
       "  \"ls_1020\"   => [14.5, 44.5, 74.5, 104.5, 134.5, 164.5, 194.5, 224.5, 255.5, 2…\n",
       "  \"ls_2222\"   => [14.5, 44.5, 74.5, 104.5, 134.5, 164.5, 194.5, 224.5, 255.5, 2…\n",
       "  \"inv_cov\"   => [5.40328e8 9.23364e8 … 7.45929e11 9.18557e11; 9.23364e8 1.1092…\n",
       "  \"ls_2122\"   => [14.5, 44.5, 74.5, 104.5, 134.5, 164.5, 194.5, 224.5, 255.5, 2…\n",
       "  \"ls_1221\"   => [14.5, 44.5, 74.5, 104.5, 134.5, 164.5, 194.5, 224.5, 255.5, 2…\n",
       "  \"ls_2323\"   => [14.5, 44.5, 74.5, 104.5, 134.5, 164.5, 194.5, 224.5, 255.5, 2…\n",
       "  \"ls_2023\"   => [14.5, 44.5, 74.5, 104.5, 134.5, 164.5, 194.5, 224.5, 255.5, 2…\n",
       "  \"ls_1323\"   => [14.5, 44.5, 74.5, 104.5, 134.5, 164.5, 194.5, 224.5, 255.5, 2…\n",
       "  \"ls_1122\"   => [14.5, 44.5, 74.5, 104.5, 134.5, 164.5, 194.5, 224.5, 255.5, 2…\n",
       "  \"ls_1120\"   => [14.5, 44.5, 74.5, 104.5, 134.5, 164.5, 194.5, 224.5, 255.5, 2…\n",
       "  \"pairs_ids\" => [1 1; 2 2; … ; 8 9; 9 9]\n",
       "  \"idx\"       => [0, 39, 78, 117, 156, 195, 234, 273, 312, 351  …  1014, 1053, …\n",
       "  \"tracers\"   => [1 0; 1 1; … ; 2 2; 2 3]\n",
       "  \"ls_1220\"   => [14.5, 44.5, 74.5, 104.5, 134.5, 164.5, 194.5, 224.5, 255.5, 2…\n",
       "  \"ls_1322\"   => [14.5, 44.5, 74.5, 104.5, 134.5, 164.5, 194.5, 224.5, 255.5, 2…\n",
       "  \"ls_1422\"   => [14.5, 44.5, 74.5, 104.5, 134.5, 164.5, 194.5, 224.5, 255.5, 2…\n",
       "  \"ls_2021\"   => [14.5, 44.5, 74.5, 104.5, 134.5, 164.5, 194.5, 224.5, 255.5, 2…\n",
       "  \"ls_1212\"   => [14.5, 44.5, 74.5, 104.5, 134.5, 164.5, 194.5, 224.5, 255.5, 2…\n",
       "  \"ls_1223\"   => [14.5, 44.5, 74.5, 104.5, 134.5, 164.5, 194.5, 224.5, 255.5, 2…\n",
       "  ⋮           => ⋮"
      ]
     },
     "execution_count": 17,
     "metadata": {},
     "output_type": "execute_result"
    }
   ],
   "source": [
    "files = npzread(\"../data/DESY1_cls/gcgc_gcwl_wlwl.npz\")\n",
    "#Cls_meta = cls_meta(files)"
   ]
  },
  {
   "cell_type": "code",
   "execution_count": 18,
   "id": "3a7469ed",
   "metadata": {},
   "outputs": [],
   "source": [
    "cov_tot = files[\"cov\"]\n",
    "inv_cov_tot = files[\"inv_cov\"]\n",
    "data_vector = files[\"cls\"];"
   ]
  },
  {
   "cell_type": "code",
   "execution_count": 19,
   "id": "57fb0a36",
   "metadata": {},
   "outputs": [],
   "source": [
    "#                Omega_b,           Omega_c          n_s,                 h,\n",
    "#                DESgc__0_gc_b,     DESgc__1_gc_b,   DESgc__2_gc_b,    DESgc__3_gc_b,    DESgc__4_gc_b,\n",
    "#                DESgc__0_dz,      DESgc__1_dz,      DESgc__2_dz,      DESgc__3_dz,      DESgc__4_dz,\n",
    "#                wl_ia_A,          wl_ia_eta, \n",
    "#                DESwl__0_wl_m,    DESwl__1_wl_m,    DESwl__2_wl_m,    DESwl__3_wl_m,\n",
    "#                DESwl__0_dz,      DESwl__1_dz,      DESwl__2_dz,      DESwl__3_dz,\n",
    "#                sigma_8,          Omega_m\n",
    "carlos_params1 = [4.426868e-02,     2.093138e-01,     8.963611e-01,     8.495440e-01,\n",
    "                 1.343888e+00,    1.639047e+00,      1.597174e+00,     1.944583e+00,     2.007245e+00,\n",
    "                -4.679383e-03,   -2.839996e-03,      1.771571e-03,     1.197051e-03,    -5.199799e-03,\n",
    "                 2.389208e-01,   -6.435288e-01, \n",
    "                 1.802722e-03,   -5.508994e-03,     1.952514e-02,    -1.117726e-03,\n",
    "                -1.744083e-02,    6.777779e-03,    -1.097939e-03,    -4.912315e-03,\n",
    "                 8.536883e-01,    2.535825e-01];"
   ]
  },
  {
   "cell_type": "code",
   "execution_count": 20,
   "id": "7d1a182c",
   "metadata": {},
   "outputs": [],
   "source": [
    "cls_carlos = npzread(\"/home/jaime/PhD/LimberJack.jl/chains/cl_cross_corr_v3_DES_2/cl_cross_corr_bestfit_info.npz\");\n",
    "cls_carlos2 = npzread(\"/home/jaime/PhD/LimberJack.jl/chains/cl_cross_corr_v3_DES_2/cl_cross_corr_bestfit_info_nointerp.npz\");\n",
    "cls_carlos3 = npzread(\"/home/jaime/PhD/LimberJack.jl/chains/cl_cross_corr_v3_DES_2/cl_cross_corr_bestfit_info_nointerp_EH.npz\");\n",
    "cls_carlos4 = npzread(\"/home/jaime/PhD/LimberJack.jl/chains/cl_cross_corr_v3_DES_2/cl_cross_corr_bestfit_info_nointerp_EH_noconv.npz\");"
   ]
  },
  {
   "cell_type": "code",
   "execution_count": 21,
   "id": "417c990f",
   "metadata": {},
   "outputs": [],
   "source": [
    "pars = carlos_params1\n",
    "nuisances = Dict(\"b0\" => pars[5],\n",
    "                 \"b1\" => pars[6],\n",
    "                 \"b2\" => pars[7],\n",
    "                 \"b3\" => pars[8],\n",
    "                 \"b4\" => pars[9],\n",
    "                 \"dz_g0\" => pars[10],\n",
    "                 \"dz_g1\" => pars[11],\n",
    "                 \"dz_g2\" => pars[12],\n",
    "                 \"dz_g3\" => pars[13],\n",
    "                 \"dz_g4\" => pars[14],\n",
    "                 \"dz_k0\" => pars[21],\n",
    "                 \"dz_k1\" => pars[22],\n",
    "                 \"dz_k2\" => pars[23],\n",
    "                 \"dz_k3\" => pars[24],\n",
    "                 \"m0\" => pars[17],\n",
    "                 \"m1\" => pars[18],\n",
    "                 \"m2\" => pars[19],\n",
    "                 \"m3\" => pars[20],\n",
    "                 \"A_IA\" => pars[15],\n",
    "                 \"alpha_IA\" => pars[16]);"
   ]
  },
  {
   "cell_type": "code",
   "execution_count": 22,
   "id": "81b7ac69",
   "metadata": {},
   "outputs": [
    {
     "data": {
      "text/plain": [
       "make_cls (generic function with 1 method)"
      ]
     },
     "execution_count": 22,
     "metadata": {},
     "output_type": "execute_result"
    }
   ],
   "source": [
    "function make_cls(pars)\n",
    "    nuisances = Dict(\"b0\" => pars[5],\n",
    "                     \"b1\" => pars[6],\n",
    "                     \"b2\" => pars[7],\n",
    "                     \"b3\" => pars[8],\n",
    "                     \"b4\" => pars[9],\n",
    "                     \"dz_g0\" => pars[10],\n",
    "                     \"dz_g1\" => pars[11],\n",
    "                     \"dz_g2\" => pars[12],\n",
    "                     \"dz_g3\" => pars[13],\n",
    "                     \"dz_g4\" => pars[14],\n",
    "                     \"dz_k0\" => pars[21],\n",
    "                     \"dz_k1\" => pars[22],\n",
    "                     \"dz_k2\" => pars[23],\n",
    "                     \"dz_k3\" => pars[24],\n",
    "                     \"m0\" => pars[17],\n",
    "                     \"m1\" => pars[18],\n",
    "                     \"m2\" => pars[19],\n",
    "                     \"m3\" => pars[20],\n",
    "                     \"A_IA\" => pars[15],\n",
    "                     \"alpha_IA\" => pars[16])\n",
    "\n",
    "    Ωm = pars[26]\n",
    "    Ωb = pars[1]\n",
    "    h = pars[4]\n",
    "    ns = pars[3]\n",
    "    s8 = pars[25]\n",
    "    cosmology = LimberJack.Cosmology(Ωm, Ωb, h, ns, s8, \n",
    "                                     tk_mode=\"EisHu\", Pk_mode=\"Halofit\")#, \n",
    "                                     #nk=500, nz=500, nz_pk=500)\n",
    "\n",
    "    return Theory(cosmology, Cls_meta, files; Nuisances=nuisances).cls\n",
    "\n",
    "end"
   ]
  },
  {
   "cell_type": "code",
   "execution_count": 53,
   "id": "446ea6ed",
   "metadata": {},
   "outputs": [
    {
     "ename": "LoadError",
     "evalue": "UndefVarError: cosmology not defined",
     "output_type": "error",
     "traceback": [
      "UndefVarError: cosmology not defined",
      "",
      "Stacktrace:",
      " [1] top-level scope",
      "   @ In[53]:1",
      " [2] eval",
      "   @ ./boot.jl:373 [inlined]",
      " [3] include_string(mapexpr::typeof(REPL.softscope), mod::Module, code::String, filename::String)",
      "   @ Base ./loading.jl:1196"
     ]
    }
   ],
   "source": [
    "cosmology = LimberJack.Cosmology(0.3, Wb, 0.67, 0.96, 0.81,\n",
    "                                     tk_mode=\"EisHu\", Pk_mode=\"Halofit\")\n",
    "Theory(cosmology, files).cls"
   ]
  },
  {
   "cell_type": "code",
   "execution_count": 50,
   "id": "db98178a",
   "metadata": {},
   "outputs": [
    {
     "data": {
      "text/plain": [
       "numd_cls_nuisance (generic function with 1 method)"
      ]
     },
     "execution_count": 50,
     "metadata": {},
     "output_type": "execute_result"
    }
   ],
   "source": [
    "function diff_cls(Wb)\n",
    "    cosmology = LimberJack.Cosmology(0.3, Wb, 0.67, 0.96, 0.81,\n",
    "                                     tk_mode=\"EisHu\", Pk_mode=\"Halofit\")\n",
    "    cls = Theory(cosmology, files).cls\n",
    "    return cls\n",
    "end\n",
    "\n",
    "function numd_cls(Wb)\n",
    "    cosmology1 = LimberJack.Cosmology(0.3, Wb, 0.67, 0.96, 0.81,\n",
    "                                     tk_mode=\"EisHu\", Pk_mode=\"Halofit\")\n",
    "    cosmology2 = LimberJack.Cosmology(0.3, Wb-0.0001, 0.67, 0.96, 0.81,\n",
    "                                     tk_mode=\"EisHu\", Pk_mode=\"Halofit\")\n",
    "    cls1 = Theory(cosmology1, files).cls\n",
    "    cls2 = Theory(cosmology2, files).cls\n",
    "    return (cls1 .- cls2) ./ 0.0001\n",
    "end\n",
    "\n",
    "\n",
    "function diff_cls_nuisance(dz)\n",
    "    nuisances = Dict(#\"b0\" => 2.0,\n",
    "                     \"dz_g2\"=> dz)\n",
    "    cosmology = LimberJack.Cosmology(0.3, 0.05, 0.67, 0.96, 0.81,\n",
    "                                     tk_mode=\"EisHu\", Pk_mode=\"Halofit\")\n",
    "    cls = Theory(cosmology, files; Nuisances=nuisances).cls\n",
    "    return cls\n",
    "end\n",
    "\n",
    "function numd_cls_nuisance(dz)\n",
    "    nuisances1 = Dict(#\"b0\" => 2.0,\n",
    "                      \"dz_g2\"=> dz)\n",
    "    nuisances2 = Dict(#\"b0\" => 2.0,\n",
    "                      \"dz_g2\"=> dz.-0.0005)\n",
    "    cosmology = LimberJack.Cosmology(0.3, 0.05, 0.67, 0.96, 0.81,\n",
    "                                     tk_mode=\"EisHu\", Pk_mode=\"Halofit\")\n",
    "    cls1 = Theory(cosmology, files; Nuisances=nuisances1).cls\n",
    "    cls2 = Theory(cosmology, files; Nuisances=nuisances2).cls\n",
    "    return (cls1 .- cls2) ./ 0.0005\n",
    "end\n",
    "\n"
   ]
  },
  {
   "cell_type": "code",
   "execution_count": 51,
   "id": "b745ebff",
   "metadata": {},
   "outputs": [
    {
     "ename": "LoadError",
     "evalue": "ArgumentError: broadcasting over dictionaries and `NamedTuple`s is reserved",
     "output_type": "error",
     "traceback": [
      "ArgumentError: broadcasting over dictionaries and `NamedTuple`s is reserved",
      "",
      "Stacktrace:",
      " [1] broadcastable(#unused#::Dict{String, Array})",
      "   @ Base.Broadcast ./broadcast.jl:705",
      " [2] broadcasted(::Function, ::Dict{String, Array}, ::Dict{String, Array})",
      "   @ Base.Broadcast ./broadcast.jl:1300",
      " [3] numd_cls(Wb::Float64)",
      "   @ Main ./In[50]:15",
      " [4] top-level scope",
      "   @ In[51]:1",
      " [5] eval",
      "   @ ./boot.jl:373 [inlined]",
      " [6] include_string(mapexpr::typeof(REPL.softscope), mod::Module, code::String, filename::String)",
      "   @ Base ./loading.jl:1196"
     ]
    }
   ],
   "source": [
    "mean(abs.(numd_cls(0.05)./ForwardDiff.derivative(diff_cls, 0.05) .-1))"
   ]
  },
  {
   "cell_type": "code",
   "execution_count": 49,
   "id": "77aca8ac",
   "metadata": {},
   "outputs": [
    {
     "ename": "LoadError",
     "evalue": "ArgumentError: broadcasting over dictionaries and `NamedTuple`s is reserved",
     "output_type": "error",
     "traceback": [
      "ArgumentError: broadcasting over dictionaries and `NamedTuple`s is reserved",
      "",
      "Stacktrace:",
      " [1] broadcastable(#unused#::Dict{String, Array})",
      "   @ Base.Broadcast ./broadcast.jl:705",
      " [2] broadcasted(::Function, ::Dict{String, Array}, ::Dict{String, Array})",
      "   @ Base.Broadcast ./broadcast.jl:1300",
      " [3] numd_cls(Wb::Float64)",
      "   @ Main ./In[47]:15",
      " [4] top-level scope",
      "   @ In[49]:1",
      " [5] eval",
      "   @ ./boot.jl:373 [inlined]",
      " [6] include_string(mapexpr::typeof(REPL.softscope), mod::Module, code::String, filename::String)",
      "   @ Base ./loading.jl:1196"
     ]
    }
   ],
   "source": [
    "comp = abs.(numd_cls(0.05)./ForwardDiff.derivative(diff_cls, 0.05) .-1)\n",
    "plot(comp)"
   ]
  },
  {
   "cell_type": "code",
   "execution_count": 26,
   "id": "960b63b0",
   "metadata": {},
   "outputs": [
    {
     "ename": "LoadError",
     "evalue": "UndefVarError: Cls_meta not defined",
     "output_type": "error",
     "traceback": [
      "UndefVarError: Cls_meta not defined",
      "",
      "Stacktrace:",
      " [1] numd_cls_nuisance(dz::Float64)",
      "   @ Main ./In[23]:35",
      " [2] top-level scope",
      "   @ In[26]:1",
      " [3] eval",
      "   @ ./boot.jl:373 [inlined]",
      " [4] include_string(mapexpr::typeof(REPL.softscope), mod::Module, code::String, filename::String)",
      "   @ Base ./loading.jl:1196"
     ]
    }
   ],
   "source": [
    "nume = numd_cls_nuisance(-0.01)\n",
    "anal = ForwardDiff.derivative(diff_cls_nuisance, -0.01)\n",
    "n = length(nume)\n",
    "comp = zeros(Float64, n)\n",
    "\n",
    "for i in 1:n \n",
    "    if (nume[i] != 0)\n",
    "        comp[i] = @.(abs(anal[i]/nume[i] - 1))\n",
    "    end\n",
    "end\n",
    "\n",
    "diff = []\n",
    "for i in 1:n \n",
    "    if (nume[i] != 0)\n",
    "        push!(diff, @.(abs(nume[i]-anal[i])))\n",
    "    end\n",
    "end\n",
    "println(mean(diff))\n",
    "\n",
    "plot(comp)"
   ]
  },
  {
   "cell_type": "code",
   "execution_count": 27,
   "id": "565bb0a6",
   "metadata": {
    "scrolled": true
   },
   "outputs": [
    {
     "ename": "LoadError",
     "evalue": "UndefVarError: Cls_meta not defined",
     "output_type": "error",
     "traceback": [
      "UndefVarError: Cls_meta not defined",
      "",
      "Stacktrace:",
      " [1] make_cls(pars::Vector{Float64})",
      "   @ Main ./In[22]:32",
      " [2] top-level scope",
      "   @ In[27]:1",
      " [3] eval",
      "   @ ./boot.jl:373 [inlined]",
      " [4] include_string(mapexpr::typeof(REPL.softscope), mod::Module, code::String, filename::String)",
      "   @ Base ./loading.jl:1196"
     ]
    }
   ],
   "source": [
    "cls_jaime1 = make_cls(carlos_params1);"
   ]
  },
  {
   "cell_type": "code",
   "execution_count": 28,
   "id": "3c5aceaa",
   "metadata": {},
   "outputs": [
    {
     "ename": "LoadError",
     "evalue": "UndefVarError: cls_jaime1 not defined",
     "output_type": "error",
     "traceback": [
      "UndefVarError: cls_jaime1 not defined",
      "",
      "Stacktrace:",
      " [1] (::var\"#5#6\")(io::IOStream)",
      "   @ Main ./In[28]:2",
      " [2] open(::var\"#5#6\", ::String, ::Vararg{String}; kwargs::Base.Pairs{Symbol, Union{}, Tuple{}, NamedTuple{(), Tuple{}}})",
      "   @ Base ./io.jl:330",
      " [3] open(::Function, ::String, ::String)",
      "   @ Base ./io.jl:328",
      " [4] top-level scope",
      "   @ In[28]:1",
      " [5] eval",
      "   @ ./boot.jl:373 [inlined]",
      " [6] include_string(mapexpr::typeof(REPL.softscope), mod::Module, code::String, filename::String)",
      "   @ Base ./loading.jl:1196"
     ]
    }
   ],
   "source": [
    "open(\"jaime_cls.txt\", \"w\") do io\n",
    "       writedlm(io, cls_jaime1)\n",
    "end"
   ]
  },
  {
   "cell_type": "code",
   "execution_count": 29,
   "id": "b3fede1b",
   "metadata": {},
   "outputs": [
    {
     "ename": "LoadError",
     "evalue": "UndefVarError: cls_jaime1 not defined",
     "output_type": "error",
     "traceback": [
      "UndefVarError: cls_jaime1 not defined",
      "",
      "Stacktrace:",
      " [1] top-level scope",
      "   @ In[29]:1",
      " [2] eval",
      "   @ ./boot.jl:373 [inlined]",
      " [3] include_string(mapexpr::typeof(REPL.softscope), mod::Module, code::String, filename::String)",
      "   @ Base ./loading.jl:1196"
     ]
    }
   ],
   "source": [
    "compa1 = @. abs(cls_carlos[\"cls\"]-cls_jaime1)/cls_carlos[\"cls\"];\n",
    "compa2 = @. abs(cls_carlos2[\"cls\"]-cls_jaime1)/cls_carlos2[\"cls\"];\n",
    "compa3 = @. abs(cls_carlos3[\"cls\"]-cls_jaime1)/cls_carlos3[\"cls\"];\n",
    "compa4 = @. abs(cls_carlos4[\"cls\"]-cls_jaime1)/cls_carlos4[\"cls\"];\n",
    "\n",
    "println(\"Mean discrepancy default   \", mean(compa1))\n",
    "println(\"Mean discrepancy no itp    \", mean(compa2))\n",
    "println(\"Mean discrepancy no itp+EH \", mean(compa3))\n",
    "println(\"Mean discrepancy no itp+EH+noconv \", mean(compa4))"
   ]
  },
  {
   "cell_type": "code",
   "execution_count": 30,
   "id": "98004bb5",
   "metadata": {},
   "outputs": [
    {
     "name": "stdout",
     "output_type": "stream",
     "text": [
      "495.62231927779936\n",
      "495.00947244084654\n",
      "495.89420547809317\n",
      "497.2051355000593\n"
     ]
    }
   ],
   "source": [
    "chi2_carlos = cls_carlos[\"chi2_nolp\"]\n",
    "chi2_carlos2 = cls_carlos2[\"chi2_nolp\"]\n",
    "chi2_carlos3 = cls_carlos3[\"chi2_nolp\"]\n",
    "chi2_carlos4 = cls_carlos4[\"chi2_nolp\"]\n",
    "println(chi2_carlos)\n",
    "println(chi2_carlos2)\n",
    "println(chi2_carlos3)\n",
    "println(chi2_carlos4)"
   ]
  },
  {
   "cell_type": "code",
   "execution_count": 31,
   "id": "b5075df6",
   "metadata": {},
   "outputs": [
    {
     "ename": "LoadError",
     "evalue": "UndefVarError: cls_jaime1 not defined",
     "output_type": "error",
     "traceback": [
      "UndefVarError: cls_jaime1 not defined",
      "",
      "Stacktrace:",
      " [1] top-level scope",
      "   @ In[31]:1",
      " [2] eval",
      "   @ ./boot.jl:373 [inlined]",
      " [3] include_string(mapexpr::typeof(REPL.softscope), mod::Module, code::String, filename::String)",
      "   @ Base ./loading.jl:1196"
     ]
    }
   ],
   "source": [
    "chi2_jaime1 = dot((cls_jaime1 .- data_vector), inv_cov_tot  * (cls_jaime1 .- data_vector))\n",
    "println(chi2_jaime1)"
   ]
  },
  {
   "cell_type": "code",
   "execution_count": 32,
   "id": "fc2724ad",
   "metadata": {},
   "outputs": [
    {
     "ename": "LoadError",
     "evalue": "UndefVarError: chi2_jaime1 not defined",
     "output_type": "error",
     "traceback": [
      "UndefVarError: chi2_jaime1 not defined",
      "",
      "Stacktrace:",
      " [1] top-level scope",
      "   @ In[32]:1",
      " [2] eval",
      "   @ ./boot.jl:373 [inlined]",
      " [3] include_string(mapexpr::typeof(REPL.softscope), mod::Module, code::String, filename::String)",
      "   @ Base ./loading.jl:1196"
     ]
    }
   ],
   "source": [
    "(chi2_jaime1-chi2_carlos4)/chi2_carlos4"
   ]
  },
  {
   "cell_type": "code",
   "execution_count": 33,
   "id": "3e5821ea",
   "metadata": {
    "scrolled": false
   },
   "outputs": [
    {
     "ename": "LoadError",
     "evalue": "UndefVarError: compa4 not defined",
     "output_type": "error",
     "traceback": [
      "UndefVarError: compa4 not defined",
      "",
      "Stacktrace:",
      " [1] top-level scope",
      "   @ In[33]:1",
      " [2] eval",
      "   @ ./boot.jl:373 [inlined]",
      " [3] include_string(mapexpr::typeof(REPL.softscope), mod::Module, code::String, filename::String)",
      "   @ Base ./loading.jl:1196"
     ]
    }
   ],
   "source": [
    "plot(compa4, label=\"No itp + EH + no Conv\", yaxis=:log)"
   ]
  },
  {
   "cell_type": "code",
   "execution_count": 42,
   "id": "7325f732",
   "metadata": {},
   "outputs": [],
   "source": [
    "@model function model(data_vector::Vector{Float64})\n",
    "    Ωm ~ Uniform(0.1, 0.6)\n",
    "    Ωb = 0.05 #~ Uniform(0.03, 0.07)\n",
    "    h = 0.67 #~ Uniform(0.6, 0.9)\n",
    "    s8 = 0.81 #~ Uniform(0.6, 1.0)\n",
    "    ns = 0.96 #~ Uniform(0.87, 1.07)\n",
    "    \n",
    "    b0 = 2.0\n",
    "    dz_g0 ~ TruncatedNormal(0.008, 0.007, -2.0, 2.0)\n",
    "    dz_g1 ~ TruncatedNormal(-0.005, 0.007, -2.0, 2.0)\n",
    "    dz_g2 ~ TruncatedNormal(0.006, 0.006, -2.0, 2.0)\n",
    "    dz_g3 ~ TruncatedNormal(0.0, 0.010, -2.0, 2.0)\n",
    "    dz_g4 ~ TruncatedNormal(0.0, 0.010, -2.0, 2.0)\n",
    "\n",
    "    nuisances = Dict(#\"b0\" => b0,\n",
    "                     \"dz_g0\" => dz_g0,\n",
    "                     \"dz_g1\" => dz_g1,\n",
    "                     \"dz_g2\" => dz_g2,\n",
    "                     \"dz_g3\" => dz_g3,\n",
    "                     \"dz_g4\" => dz_g4)\n",
    "    cosmology = LimberJack.Cosmology(Ωm, Ωb, h, s8, s8,\n",
    "                                     tk_mode=\"EisHu\",\n",
    "                                     Pk_mode=\"Halofit\")\n",
    "    theory = Theory(cosmology, files;\n",
    "                    nz_path=\"../data/DESY1_cls/nzs_fiducial\",\n",
    "                    Nuisances=nuisances)\n",
    "    data_vector ~ MvNormal(theory, cov_tot)\n",
    "    return data_vector\n",
    "end;"
   ]
  },
  {
   "cell_type": "code",
   "execution_count": 43,
   "id": "4a0dba7f",
   "metadata": {},
   "outputs": [],
   "source": [
    "iterations = 300\n",
    "nadapts = 100;"
   ]
  },
  {
   "cell_type": "code",
   "execution_count": 24,
   "id": "54da0b16",
   "metadata": {},
   "outputs": [
    {
     "name": "stderr",
     "output_type": "stream",
     "text": [
      "┌ Warning: The current proposal will be rejected due to numerical error(s).\n",
      "│   isfinite.((θ, r, ℓπ, ℓκ)) = (true, true, false, true)\n",
      "└ @ AdvancedHMC /home/jaime/.julia/packages/AdvancedHMC/MIxdK/src/hamiltonian.jl:47\n",
      "┌ Warning: The current proposal will be rejected due to numerical error(s).\n",
      "│   isfinite.((θ, r, ℓπ, ℓκ)) = (true, true, false, true)\n",
      "└ @ AdvancedHMC /home/jaime/.julia/packages/AdvancedHMC/MIxdK/src/hamiltonian.jl:47\n",
      "┌ Warning: The current proposal will be rejected due to numerical error(s).\n",
      "│   isfinite.((θ, r, ℓπ, ℓκ)) = (true, false, false, false)\n",
      "└ @ AdvancedHMC /home/jaime/.julia/packages/AdvancedHMC/MIxdK/src/hamiltonian.jl:47\n",
      "┌ Warning: The current proposal will be rejected due to numerical error(s).\n",
      "│   isfinite.((θ, r, ℓπ, ℓκ)) = (true, false, false, false)\n",
      "└ @ AdvancedHMC /home/jaime/.julia/packages/AdvancedHMC/MIxdK/src/hamiltonian.jl:47\n",
      "┌ Warning: The current proposal will be rejected due to numerical error(s).\n",
      "│   isfinite.((θ, r, ℓπ, ℓκ)) = (true, false, false, false)\n",
      "└ @ AdvancedHMC /home/jaime/.julia/packages/AdvancedHMC/MIxdK/src/hamiltonian.jl:47\n",
      "\u001b[32mSampling:   1%|▌                                        |  ETA: 0:05:03\u001b[39m┌ Warning: The current proposal will be rejected due to numerical error(s).\n",
      "│   isfinite.((θ, r, ℓπ, ℓκ)) = (true, false, false, false)\n",
      "└ @ AdvancedHMC /home/jaime/.julia/packages/AdvancedHMC/MIxdK/src/hamiltonian.jl:47\n",
      "\u001b[32mSampling:   2%|▊                                        |  ETA: 0:04:31\u001b[39m┌ Warning: The current proposal will be rejected due to numerical error(s).\n",
      "│   isfinite.((θ, r, ℓπ, ℓκ)) = (true, false, false, false)\n",
      "└ @ AdvancedHMC /home/jaime/.julia/packages/AdvancedHMC/MIxdK/src/hamiltonian.jl:47\n",
      "\u001b[32mSampling:   2%|▉                                        |  ETA: 0:04:50\u001b[39m┌ Warning: The current proposal will be rejected due to numerical error(s).\n",
      "│   isfinite.((θ, r, ℓπ, ℓκ)) = (true, false, false, false)\n",
      "└ @ AdvancedHMC /home/jaime/.julia/packages/AdvancedHMC/MIxdK/src/hamiltonian.jl:47\n",
      "\u001b[32mSampling:   3%|█▏                                       |  ETA: 0:04:54\u001b[39m┌ Warning: The current proposal will be rejected due to numerical error(s).\n",
      "│   isfinite.((θ, r, ℓπ, ℓκ)) = (true, false, false, false)\n",
      "└ @ AdvancedHMC /home/jaime/.julia/packages/AdvancedHMC/MIxdK/src/hamiltonian.jl:47\n",
      "\u001b[32mSampling:   3%|█▎                                       |  ETA: 0:05:04\u001b[39m┌ Warning: The current proposal will be rejected due to numerical error(s).\n",
      "│   isfinite.((θ, r, ℓπ, ℓκ)) = (true, false, false, false)\n",
      "└ @ AdvancedHMC /home/jaime/.julia/packages/AdvancedHMC/MIxdK/src/hamiltonian.jl:47\n",
      "\u001b[32mSampling:   3%|█▎                                       |  ETA: 0:05:14\u001b[39m┌ Warning: The current proposal will be rejected due to numerical error(s).\n",
      "│   isfinite.((θ, r, ℓπ, ℓκ)) = (true, false, false, false)\n",
      "└ @ AdvancedHMC /home/jaime/.julia/packages/AdvancedHMC/MIxdK/src/hamiltonian.jl:47\n",
      "\u001b[32mSampling:   4%|█▌                                       |  ETA: 0:05:12\u001b[39m┌ Warning: The current proposal will be rejected due to numerical error(s).\n",
      "│   isfinite.((θ, r, ℓπ, ℓκ)) = (true, false, false, false)\n",
      "└ @ AdvancedHMC /home/jaime/.julia/packages/AdvancedHMC/MIxdK/src/hamiltonian.jl:47\n",
      "\u001b[32mSampling:   4%|█▋                                       |  ETA: 0:05:18\u001b[39m┌ Warning: The current proposal will be rejected due to numerical error(s).\n",
      "│   isfinite.((θ, r, ℓπ, ℓκ)) = (true, false, false, false)\n",
      "└ @ AdvancedHMC /home/jaime/.julia/packages/AdvancedHMC/MIxdK/src/hamiltonian.jl:47\n",
      "\u001b[32mSampling:   4%|█▊                                       |  ETA: 0:05:24\u001b[39m┌ Warning: The current proposal will be rejected due to numerical error(s).\n",
      "│   isfinite.((θ, r, ℓπ, ℓκ)) = (true, false, false, false)\n",
      "└ @ AdvancedHMC /home/jaime/.julia/packages/AdvancedHMC/MIxdK/src/hamiltonian.jl:47\n",
      "\u001b[32mSampling:   4%|█▉                                       |  ETA: 0:05:29\u001b[39m┌ Warning: The current proposal will be rejected due to numerical error(s).\n",
      "│   isfinite.((θ, r, ℓπ, ℓκ)) = (true, false, false, false)\n",
      "└ @ AdvancedHMC /home/jaime/.julia/packages/AdvancedHMC/MIxdK/src/hamiltonian.jl:47\n",
      "\u001b[32mSampling:   5%|██                                       |  ETA: 0:05:26\u001b[39m┌ Warning: The current proposal will be rejected due to numerical error(s).\n",
      "│   isfinite.((θ, r, ℓπ, ℓκ)) = (true, false, false, false)\n",
      "└ @ AdvancedHMC /home/jaime/.julia/packages/AdvancedHMC/MIxdK/src/hamiltonian.jl:47\n",
      "\u001b[32mSampling:   5%|██▏                                      |  ETA: 0:05:30\u001b[39m┌ Warning: The current proposal will be rejected due to numerical error(s).\n",
      "│   isfinite.((θ, r, ℓπ, ℓκ)) = (true, false, false, false)\n",
      "└ @ AdvancedHMC /home/jaime/.julia/packages/AdvancedHMC/MIxdK/src/hamiltonian.jl:47\n",
      "\u001b[32mSampling:   6%|██▎                                      |  ETA: 0:05:34\u001b[39m┌ Warning: The current proposal will be rejected due to numerical error(s).\n",
      "│   isfinite.((θ, r, ℓπ, ℓκ)) = (true, false, false, false)\n",
      "└ @ AdvancedHMC /home/jaime/.julia/packages/AdvancedHMC/MIxdK/src/hamiltonian.jl:47\n",
      "\u001b[32mSampling:   6%|██▍                                      |  ETA: 0:05:30\u001b[39m┌ Warning: The current proposal will be rejected due to numerical error(s).\n",
      "│   isfinite.((θ, r, ℓπ, ℓκ)) = (true, false, false, false)\n",
      "└ @ AdvancedHMC /home/jaime/.julia/packages/AdvancedHMC/MIxdK/src/hamiltonian.jl:47\n",
      "\u001b[32mSampling:   6%|██▌                                      |  ETA: 0:05:33\u001b[39m┌ Warning: The current proposal will be rejected due to numerical error(s).\n",
      "│   isfinite.((θ, r, ℓπ, ℓκ)) = (true, false, false, false)\n",
      "└ @ AdvancedHMC /home/jaime/.julia/packages/AdvancedHMC/MIxdK/src/hamiltonian.jl:47\n",
      "\u001b[32mSampling:   6%|██▋                                      |  ETA: 0:05:35\u001b[39m┌ Warning: The current proposal will be rejected due to numerical error(s).\n",
      "│   isfinite.((θ, r, ℓπ, ℓκ)) = (true, false, false, false)\n",
      "└ @ AdvancedHMC /home/jaime/.julia/packages/AdvancedHMC/MIxdK/src/hamiltonian.jl:47\n",
      "\u001b[32mSampling:   7%|██▊                                      |  ETA: 0:05:37\u001b[39m┌ Warning: The current proposal will be rejected due to numerical error(s).\n",
      "│   isfinite.((θ, r, ℓπ, ℓκ)) = (true, false, false, false)\n",
      "└ @ AdvancedHMC /home/jaime/.julia/packages/AdvancedHMC/MIxdK/src/hamiltonian.jl:47\n",
      "\u001b[32mSampling:   7%|███                                      |  ETA: 0:05:34\u001b[39m┌ Warning: The current proposal will be rejected due to numerical error(s).\n",
      "│   isfinite.((θ, r, ℓπ, ℓκ)) = (true, false, false, false)\n",
      "└ @ AdvancedHMC /home/jaime/.julia/packages/AdvancedHMC/MIxdK/src/hamiltonian.jl:47\n",
      "\u001b[32mSampling:   8%|███▏                                     |  ETA: 0:05:36\u001b[39m┌ Warning: The current proposal will be rejected due to numerical error(s).\n",
      "│   isfinite.((θ, r, ℓπ, ℓκ)) = (true, false, false, false)\n",
      "└ @ AdvancedHMC /home/jaime/.julia/packages/AdvancedHMC/MIxdK/src/hamiltonian.jl:47\n",
      "\u001b[32mSampling:   8%|███▎                                     |  ETA: 0:05:40\u001b[39m┌ Warning: The current proposal will be rejected due to numerical error(s).\n",
      "│   isfinite.((θ, r, ℓπ, ℓκ)) = (true, false, false, false)\n",
      "└ @ AdvancedHMC /home/jaime/.julia/packages/AdvancedHMC/MIxdK/src/hamiltonian.jl:47\n",
      "\u001b[32mSampling:   8%|███▍                                     |  ETA: 0:05:41\u001b[39m┌ Warning: The current proposal will be rejected due to numerical error(s).\n",
      "│   isfinite.((θ, r, ℓπ, ℓκ)) = (true, false, false, false)\n",
      "└ @ AdvancedHMC /home/jaime/.julia/packages/AdvancedHMC/MIxdK/src/hamiltonian.jl:47\n",
      "\u001b[32mSampling:   8%|███▌                                     |  ETA: 0:05:37\u001b[39m┌ Warning: The current proposal will be rejected due to numerical error(s).\n",
      "│   isfinite.((θ, r, ℓπ, ℓκ)) = (true, false, false, false)\n",
      "└ @ AdvancedHMC /home/jaime/.julia/packages/AdvancedHMC/MIxdK/src/hamiltonian.jl:47\n",
      "\u001b[32mSampling:   9%|███▋                                     |  ETA: 0:05:38\u001b[39m┌ Warning: The current proposal will be rejected due to numerical error(s).\n",
      "│   isfinite.((θ, r, ℓπ, ℓκ)) = (true, false, false, false)\n",
      "└ @ AdvancedHMC /home/jaime/.julia/packages/AdvancedHMC/MIxdK/src/hamiltonian.jl:47\n",
      "\u001b[32mSampling:   9%|███▊                                     |  ETA: 0:05:40\u001b[39m┌ Warning: The current proposal will be rejected due to numerical error(s).\n",
      "│   isfinite.((θ, r, ℓπ, ℓκ)) = (true, false, false, false)\n",
      "└ @ AdvancedHMC /home/jaime/.julia/packages/AdvancedHMC/MIxdK/src/hamiltonian.jl:47\n"
     ]
    },
    {
     "name": "stderr",
     "output_type": "stream",
     "text": [
      "\u001b[32mSampling:  10%|███▉                                     |  ETA: 0:05:37\u001b[39m┌ Warning: The current proposal will be rejected due to numerical error(s).\n",
      "│   isfinite.((θ, r, ℓπ, ℓκ)) = (true, false, false, false)\n",
      "└ @ AdvancedHMC /home/jaime/.julia/packages/AdvancedHMC/MIxdK/src/hamiltonian.jl:47\n",
      "\u001b[32mSampling: 100%|█████████████████████████████████████████| Time: 0:00:37\u001b[39m\n"
     ]
    },
    {
     "ename": "LoadError",
     "evalue": "TaskFailedException\n\n\u001b[91m    nested task error: \u001b[39mInterruptException:\n    Stacktrace:\n     [1] \u001b[0m\u001b[1mangularCℓs\u001b[22m\u001b[0m\u001b[1m(\u001b[22m\u001b[90mcosmo\u001b[39m::\u001b[0mCosmology, \u001b[90mt1\u001b[39m::\u001b[0mNumberCountsTracer, \u001b[90mt2\u001b[39m::\u001b[0mWeakLensingTracer, \u001b[90mℓs\u001b[39m::\u001b[0mVector\u001b[90m{Float64}\u001b[39m\u001b[0m\u001b[1m)\u001b[22m\n    \u001b[90m   @ \u001b[39m\u001b[35mLimberJack\u001b[39m \u001b[90m~/PhD/LimberJack.jl/src/\u001b[39m\u001b[90m\u001b[4mspectra.jl:30\u001b[24m\u001b[39m\n     [2] \u001b[0m\u001b[1mmacro expansion\u001b[22m\n    \u001b[90m   @ \u001b[39m\u001b[90m~/PhD/LimberJack.jl/src/\u001b[39m\u001b[90m\u001b[4mtheory.jl:72\u001b[24m\u001b[39m\u001b[90m [inlined]\u001b[39m\n     [3] \u001b[0m\u001b[1m(::LimberJack.var\"#25#threadsfor_fun#23\"{Cosmology, cls_meta{Vector{Vector{Int64}}}, Dict{String, Array}, Vector{ForwardDiff.Dual{ForwardDiff.Tag{Turing.Core.var\"#f#7\"{DynamicPPL.TypedVarInfo{NamedTuple{(:Ωm, :dz_g0, :dz_g1, :dz_g2, :dz_g3, :dz_g4), Tuple{DynamicPPL.Metadata{Dict{AbstractPPL.VarName{:Ωm, Tuple{}}, Int64}, Vector{Uniform{Float64}}, Vector{AbstractPPL.VarName{:Ωm, Tuple{}}}, Vector{Float64}, Vector{Set{DynamicPPL.Selector}}}, DynamicPPL.Metadata{Dict{AbstractPPL.VarName{:dz_g0, Tuple{}}, Int64}, Vector{Truncated{Normal{Float64}, Continuous, Float64}}, Vector{AbstractPPL.VarName{:dz_g0, Tuple{}}}, Vector{Float64}, Vector{Set{DynamicPPL.Selector}}}, DynamicPPL.Metadata{Dict{AbstractPPL.VarName{:dz_g1, Tuple{}}, Int64}, Vector{Truncated{Normal{Float64}, Continuous, Float64}}, Vector{AbstractPPL.VarName{:dz_g1, Tuple{}}}, Vector{Float64}, Vector{Set{DynamicPPL.Selector}}}, DynamicPPL.Metadata{Dict{AbstractPPL.VarName{:dz_g2, Tuple{}}, Int64}, Vector{Truncated{Normal{Float64}, Continuous, Float64}}, Vector{AbstractPPL.VarName{:dz_g2, Tuple{}}}, Vector{Float64}, Vector{Set{DynamicPPL.Selector}}}, DynamicPPL.Metadata{Dict{AbstractPPL.VarName{:dz_g3, Tuple{}}, Int64}, Vector{Truncated{Normal{Float64}, Continuous, Float64}}, Vector{AbstractPPL.VarName{:dz_g3, Tuple{}}}, Vector{Float64}, Vector{Set{DynamicPPL.Selector}}}, DynamicPPL.Metadata{Dict{AbstractPPL.VarName{:dz_g4, Tuple{}}, Int64}, Vector{Truncated{Normal{Float64}, Continuous, Float64}}, Vector{AbstractPPL.VarName{:dz_g4, Tuple{}}}, Vector{Float64}, Vector{Set{DynamicPPL.Selector}}}}}, Float64}, DynamicPPL.Model{var\"#3#4\", (:data_vector,), (), (), Tuple{Vector{Float64}}, Tuple{}}, DynamicPPL.Sampler{NUTS{Turing.Core.ForwardDiffAD{40}, (), AdvancedHMC.DiagEuclideanMetric}}, DynamicPPL.DefaultContext}, Float64}, Float64, 6}}, Vector{Int64}, Vector{Any}, UnitRange{Int64}})\u001b[22m\u001b[0m\u001b[1m(\u001b[22m\u001b[90monethread\u001b[39m::\u001b[0mBool\u001b[0m\u001b[1m)\u001b[22m\n    \u001b[90m   @ \u001b[39m\u001b[35mLimberJack\u001b[39m \u001b[90m./\u001b[39m\u001b[90m\u001b[4mthreadingconstructs.jl:85\u001b[24m\u001b[39m\n     [4] \u001b[0m\u001b[1m(::LimberJack.var\"#25#threadsfor_fun#23\"{Cosmology, cls_meta{Vector{Vector{Int64}}}, Dict{String, Array}, Vector{ForwardDiff.Dual{ForwardDiff.Tag{Turing.Core.var\"#f#7\"{DynamicPPL.TypedVarInfo{NamedTuple{(:Ωm, :dz_g0, :dz_g1, :dz_g2, :dz_g3, :dz_g4), Tuple{DynamicPPL.Metadata{Dict{AbstractPPL.VarName{:Ωm, Tuple{}}, Int64}, Vector{Uniform{Float64}}, Vector{AbstractPPL.VarName{:Ωm, Tuple{}}}, Vector{Float64}, Vector{Set{DynamicPPL.Selector}}}, DynamicPPL.Metadata{Dict{AbstractPPL.VarName{:dz_g0, Tuple{}}, Int64}, Vector{Truncated{Normal{Float64}, Continuous, Float64}}, Vector{AbstractPPL.VarName{:dz_g0, Tuple{}}}, Vector{Float64}, Vector{Set{DynamicPPL.Selector}}}, DynamicPPL.Metadata{Dict{AbstractPPL.VarName{:dz_g1, Tuple{}}, Int64}, Vector{Truncated{Normal{Float64}, Continuous, Float64}}, Vector{AbstractPPL.VarName{:dz_g1, Tuple{}}}, Vector{Float64}, Vector{Set{DynamicPPL.Selector}}}, DynamicPPL.Metadata{Dict{AbstractPPL.VarName{:dz_g2, Tuple{}}, Int64}, Vector{Truncated{Normal{Float64}, Continuous, Float64}}, Vector{AbstractPPL.VarName{:dz_g2, Tuple{}}}, Vector{Float64}, Vector{Set{DynamicPPL.Selector}}}, DynamicPPL.Metadata{Dict{AbstractPPL.VarName{:dz_g3, Tuple{}}, Int64}, Vector{Truncated{Normal{Float64}, Continuous, Float64}}, Vector{AbstractPPL.VarName{:dz_g3, Tuple{}}}, Vector{Float64}, Vector{Set{DynamicPPL.Selector}}}, DynamicPPL.Metadata{Dict{AbstractPPL.VarName{:dz_g4, Tuple{}}, Int64}, Vector{Truncated{Normal{Float64}, Continuous, Float64}}, Vector{AbstractPPL.VarName{:dz_g4, Tuple{}}}, Vector{Float64}, Vector{Set{DynamicPPL.Selector}}}}}, Float64}, DynamicPPL.Model{var\"#3#4\", (:data_vector,), (), (), Tuple{Vector{Float64}}, Tuple{}}, DynamicPPL.Sampler{NUTS{Turing.Core.ForwardDiffAD{40}, (), AdvancedHMC.DiagEuclideanMetric}}, DynamicPPL.DefaultContext}, Float64}, Float64, 6}}, Vector{Int64}, Vector{Any}, UnitRange{Int64}})\u001b[22m\u001b[0m\u001b[1m(\u001b[22m\u001b[0m\u001b[1m)\u001b[22m\n    \u001b[90m   @ \u001b[39m\u001b[35mLimberJack\u001b[39m \u001b[90m./\u001b[39m\u001b[90m\u001b[4mthreadingconstructs.jl:52\u001b[24m\u001b[39m",
     "output_type": "error",
     "traceback": [
      "TaskFailedException\n\n\u001b[91m    nested task error: \u001b[39mInterruptException:\n    Stacktrace:\n     [1] \u001b[0m\u001b[1mangularCℓs\u001b[22m\u001b[0m\u001b[1m(\u001b[22m\u001b[90mcosmo\u001b[39m::\u001b[0mCosmology, \u001b[90mt1\u001b[39m::\u001b[0mNumberCountsTracer, \u001b[90mt2\u001b[39m::\u001b[0mWeakLensingTracer, \u001b[90mℓs\u001b[39m::\u001b[0mVector\u001b[90m{Float64}\u001b[39m\u001b[0m\u001b[1m)\u001b[22m\n    \u001b[90m   @ \u001b[39m\u001b[35mLimberJack\u001b[39m \u001b[90m~/PhD/LimberJack.jl/src/\u001b[39m\u001b[90m\u001b[4mspectra.jl:30\u001b[24m\u001b[39m\n     [2] \u001b[0m\u001b[1mmacro expansion\u001b[22m\n    \u001b[90m   @ \u001b[39m\u001b[90m~/PhD/LimberJack.jl/src/\u001b[39m\u001b[90m\u001b[4mtheory.jl:72\u001b[24m\u001b[39m\u001b[90m [inlined]\u001b[39m\n     [3] \u001b[0m\u001b[1m(::LimberJack.var\"#25#threadsfor_fun#23\"{Cosmology, cls_meta{Vector{Vector{Int64}}}, Dict{String, Array}, Vector{ForwardDiff.Dual{ForwardDiff.Tag{Turing.Core.var\"#f#7\"{DynamicPPL.TypedVarInfo{NamedTuple{(:Ωm, :dz_g0, :dz_g1, :dz_g2, :dz_g3, :dz_g4), Tuple{DynamicPPL.Metadata{Dict{AbstractPPL.VarName{:Ωm, Tuple{}}, Int64}, Vector{Uniform{Float64}}, Vector{AbstractPPL.VarName{:Ωm, Tuple{}}}, Vector{Float64}, Vector{Set{DynamicPPL.Selector}}}, DynamicPPL.Metadata{Dict{AbstractPPL.VarName{:dz_g0, Tuple{}}, Int64}, Vector{Truncated{Normal{Float64}, Continuous, Float64}}, Vector{AbstractPPL.VarName{:dz_g0, Tuple{}}}, Vector{Float64}, Vector{Set{DynamicPPL.Selector}}}, DynamicPPL.Metadata{Dict{AbstractPPL.VarName{:dz_g1, Tuple{}}, Int64}, Vector{Truncated{Normal{Float64}, Continuous, Float64}}, Vector{AbstractPPL.VarName{:dz_g1, Tuple{}}}, Vector{Float64}, Vector{Set{DynamicPPL.Selector}}}, DynamicPPL.Metadata{Dict{AbstractPPL.VarName{:dz_g2, Tuple{}}, Int64}, Vector{Truncated{Normal{Float64}, Continuous, Float64}}, Vector{AbstractPPL.VarName{:dz_g2, Tuple{}}}, Vector{Float64}, Vector{Set{DynamicPPL.Selector}}}, DynamicPPL.Metadata{Dict{AbstractPPL.VarName{:dz_g3, Tuple{}}, Int64}, Vector{Truncated{Normal{Float64}, Continuous, Float64}}, Vector{AbstractPPL.VarName{:dz_g3, Tuple{}}}, Vector{Float64}, Vector{Set{DynamicPPL.Selector}}}, DynamicPPL.Metadata{Dict{AbstractPPL.VarName{:dz_g4, Tuple{}}, Int64}, Vector{Truncated{Normal{Float64}, Continuous, Float64}}, Vector{AbstractPPL.VarName{:dz_g4, Tuple{}}}, Vector{Float64}, Vector{Set{DynamicPPL.Selector}}}}}, Float64}, DynamicPPL.Model{var\"#3#4\", (:data_vector,), (), (), Tuple{Vector{Float64}}, Tuple{}}, DynamicPPL.Sampler{NUTS{Turing.Core.ForwardDiffAD{40}, (), AdvancedHMC.DiagEuclideanMetric}}, DynamicPPL.DefaultContext}, Float64}, Float64, 6}}, Vector{Int64}, Vector{Any}, UnitRange{Int64}})\u001b[22m\u001b[0m\u001b[1m(\u001b[22m\u001b[90monethread\u001b[39m::\u001b[0mBool\u001b[0m\u001b[1m)\u001b[22m\n    \u001b[90m   @ \u001b[39m\u001b[35mLimberJack\u001b[39m \u001b[90m./\u001b[39m\u001b[90m\u001b[4mthreadingconstructs.jl:85\u001b[24m\u001b[39m\n     [4] \u001b[0m\u001b[1m(::LimberJack.var\"#25#threadsfor_fun#23\"{Cosmology, cls_meta{Vector{Vector{Int64}}}, Dict{String, Array}, Vector{ForwardDiff.Dual{ForwardDiff.Tag{Turing.Core.var\"#f#7\"{DynamicPPL.TypedVarInfo{NamedTuple{(:Ωm, :dz_g0, :dz_g1, :dz_g2, :dz_g3, :dz_g4), Tuple{DynamicPPL.Metadata{Dict{AbstractPPL.VarName{:Ωm, Tuple{}}, Int64}, Vector{Uniform{Float64}}, Vector{AbstractPPL.VarName{:Ωm, Tuple{}}}, Vector{Float64}, Vector{Set{DynamicPPL.Selector}}}, DynamicPPL.Metadata{Dict{AbstractPPL.VarName{:dz_g0, Tuple{}}, Int64}, Vector{Truncated{Normal{Float64}, Continuous, Float64}}, Vector{AbstractPPL.VarName{:dz_g0, Tuple{}}}, Vector{Float64}, Vector{Set{DynamicPPL.Selector}}}, DynamicPPL.Metadata{Dict{AbstractPPL.VarName{:dz_g1, Tuple{}}, Int64}, Vector{Truncated{Normal{Float64}, Continuous, Float64}}, Vector{AbstractPPL.VarName{:dz_g1, Tuple{}}}, Vector{Float64}, Vector{Set{DynamicPPL.Selector}}}, DynamicPPL.Metadata{Dict{AbstractPPL.VarName{:dz_g2, Tuple{}}, Int64}, Vector{Truncated{Normal{Float64}, Continuous, Float64}}, Vector{AbstractPPL.VarName{:dz_g2, Tuple{}}}, Vector{Float64}, Vector{Set{DynamicPPL.Selector}}}, DynamicPPL.Metadata{Dict{AbstractPPL.VarName{:dz_g3, Tuple{}}, Int64}, Vector{Truncated{Normal{Float64}, Continuous, Float64}}, Vector{AbstractPPL.VarName{:dz_g3, Tuple{}}}, Vector{Float64}, Vector{Set{DynamicPPL.Selector}}}, DynamicPPL.Metadata{Dict{AbstractPPL.VarName{:dz_g4, Tuple{}}, Int64}, Vector{Truncated{Normal{Float64}, Continuous, Float64}}, Vector{AbstractPPL.VarName{:dz_g4, Tuple{}}}, Vector{Float64}, Vector{Set{DynamicPPL.Selector}}}}}, Float64}, DynamicPPL.Model{var\"#3#4\", (:data_vector,), (), (), Tuple{Vector{Float64}}, Tuple{}}, DynamicPPL.Sampler{NUTS{Turing.Core.ForwardDiffAD{40}, (), AdvancedHMC.DiagEuclideanMetric}}, DynamicPPL.DefaultContext}, Float64}, Float64, 6}}, Vector{Int64}, Vector{Any}, UnitRange{Int64}})\u001b[22m\u001b[0m\u001b[1m(\u001b[22m\u001b[0m\u001b[1m)\u001b[22m\n    \u001b[90m   @ \u001b[39m\u001b[35mLimberJack\u001b[39m \u001b[90m./\u001b[39m\u001b[90m\u001b[4mthreadingconstructs.jl:52\u001b[24m\u001b[39m",
      "",
      "Stacktrace:",
      "  [1] wait",
      "    @ ./task.jl:334 [inlined]",
      "  [2] threading_run(func::Function)",
      "    @ Base.Threads ./threadingconstructs.jl:38",
      "  [3] macro expansion",
      "    @ ./threadingconstructs.jl:97 [inlined]",
      "  [4] Theory(cosmology::Cosmology, cls_meta::cls_meta{Vector{Vector{Int64}}}, files::Dict{String, Array}; Nuisances::Dict{String, ForwardDiff.Dual{ForwardDiff.Tag{Turing.Core.var\"#f#7\"{DynamicPPL.TypedVarInfo{NamedTuple{(:Ωm, :dz_g0, :dz_g1, :dz_g2, :dz_g3, :dz_g4), Tuple{DynamicPPL.Metadata{Dict{AbstractPPL.VarName{:Ωm, Tuple{}}, Int64}, Vector{Uniform{Float64}}, Vector{AbstractPPL.VarName{:Ωm, Tuple{}}}, Vector{Float64}, Vector{Set{DynamicPPL.Selector}}}, DynamicPPL.Metadata{Dict{AbstractPPL.VarName{:dz_g0, Tuple{}}, Int64}, Vector{Truncated{Normal{Float64}, Continuous, Float64}}, Vector{AbstractPPL.VarName{:dz_g0, Tuple{}}}, Vector{Float64}, Vector{Set{DynamicPPL.Selector}}}, DynamicPPL.Metadata{Dict{AbstractPPL.VarName{:dz_g1, Tuple{}}, Int64}, Vector{Truncated{Normal{Float64}, Continuous, Float64}}, Vector{AbstractPPL.VarName{:dz_g1, Tuple{}}}, Vector{Float64}, Vector{Set{DynamicPPL.Selector}}}, DynamicPPL.Metadata{Dict{AbstractPPL.VarName{:dz_g2, Tuple{}}, Int64}, Vector{Truncated{Normal{Float64}, Continuous, Float64}}, Vector{AbstractPPL.VarName{:dz_g2, Tuple{}}}, Vector{Float64}, Vector{Set{DynamicPPL.Selector}}}, DynamicPPL.Metadata{Dict{AbstractPPL.VarName{:dz_g3, Tuple{}}, Int64}, Vector{Truncated{Normal{Float64}, Continuous, Float64}}, Vector{AbstractPPL.VarName{:dz_g3, Tuple{}}}, Vector{Float64}, Vector{Set{DynamicPPL.Selector}}}, DynamicPPL.Metadata{Dict{AbstractPPL.VarName{:dz_g4, Tuple{}}, Int64}, Vector{Truncated{Normal{Float64}, Continuous, Float64}}, Vector{AbstractPPL.VarName{:dz_g4, Tuple{}}}, Vector{Float64}, Vector{Set{DynamicPPL.Selector}}}}}, Float64}, DynamicPPL.Model{var\"#3#4\", (:data_vector,), (), (), Tuple{Vector{Float64}}, Tuple{}}, DynamicPPL.Sampler{NUTS{Turing.Core.ForwardDiffAD{40}, (), AdvancedHMC.DiagEuclideanMetric}}, DynamicPPL.DefaultContext}, Float64}, Float64, 6}})",
      "    @ LimberJack ~/PhD/LimberJack.jl/src/theory.jl:66",
      "  [5] #3",
      "    @ ./In[19]:24 [inlined]",
      "  [6] (::var\"#3#4\")(__rng__::Random._GLOBAL_RNG, __model__::DynamicPPL.Model{var\"#3#4\", (:data_vector,), (), (), Tuple{Vector{Float64}}, Tuple{}}, __varinfo__::DynamicPPL.ThreadSafeVarInfo{DynamicPPL.TypedVarInfo{NamedTuple{(:Ωm, :dz_g0, :dz_g1, :dz_g2, :dz_g3, :dz_g4), Tuple{DynamicPPL.Metadata{Dict{AbstractPPL.VarName{:Ωm, Tuple{}}, Int64}, Vector{Uniform{Float64}}, Vector{AbstractPPL.VarName{:Ωm, Tuple{}}}, Vector{ForwardDiff.Dual{ForwardDiff.Tag{Turing.Core.var\"#f#7\"{DynamicPPL.TypedVarInfo{NamedTuple{(:Ωm, :dz_g0, :dz_g1, :dz_g2, :dz_g3, :dz_g4), Tuple{DynamicPPL.Metadata{Dict{AbstractPPL.VarName{:Ωm, Tuple{}}, Int64}, Vector{Uniform{Float64}}, Vector{AbstractPPL.VarName{:Ωm, Tuple{}}}, Vector{Float64}, Vector{Set{DynamicPPL.Selector}}}, DynamicPPL.Metadata{Dict{AbstractPPL.VarName{:dz_g0, Tuple{}}, Int64}, Vector{Truncated{Normal{Float64}, Continuous, Float64}}, Vector{AbstractPPL.VarName{:dz_g0, Tuple{}}}, Vector{Float64}, Vector{Set{DynamicPPL.Selector}}}, DynamicPPL.Metadata{Dict{AbstractPPL.VarName{:dz_g1, Tuple{}}, Int64}, Vector{Truncated{Normal{Float64}, Continuous, Float64}}, Vector{AbstractPPL.VarName{:dz_g1, Tuple{}}}, Vector{Float64}, Vector{Set{DynamicPPL.Selector}}}, DynamicPPL.Metadata{Dict{AbstractPPL.VarName{:dz_g2, Tuple{}}, Int64}, Vector{Truncated{Normal{Float64}, Continuous, Float64}}, Vector{AbstractPPL.VarName{:dz_g2, Tuple{}}}, Vector{Float64}, Vector{Set{DynamicPPL.Selector}}}, DynamicPPL.Metadata{Dict{AbstractPPL.VarName{:dz_g3, Tuple{}}, Int64}, Vector{Truncated{Normal{Float64}, Continuous, Float64}}, Vector{AbstractPPL.VarName{:dz_g3, Tuple{}}}, Vector{Float64}, Vector{Set{DynamicPPL.Selector}}}, DynamicPPL.Metadata{Dict{AbstractPPL.VarName{:dz_g4, Tuple{}}, Int64}, Vector{Truncated{Normal{Float64}, Continuous, Float64}}, Vector{AbstractPPL.VarName{:dz_g4, Tuple{}}}, Vector{Float64}, Vector{Set{DynamicPPL.Selector}}}}}, Float64}, DynamicPPL.Model{var\"#3#4\", (:data_vector,), (), (), Tuple{Vector{Float64}}, Tuple{}}, DynamicPPL.Sampler{NUTS{Turing.Core.ForwardDiffAD{40}, (), AdvancedHMC.DiagEuclideanMetric}}, DynamicPPL.DefaultContext}, Float64}, Float64, 6}}, Vector{Set{DynamicPPL.Selector}}}, DynamicPPL.Metadata{Dict{AbstractPPL.VarName{:dz_g0, Tuple{}}, Int64}, Vector{Truncated{Normal{Float64}, Continuous, Float64}}, Vector{AbstractPPL.VarName{:dz_g0, Tuple{}}}, Vector{ForwardDiff.Dual{ForwardDiff.Tag{Turing.Core.var\"#f#7\"{DynamicPPL.TypedVarInfo{NamedTuple{(:Ωm, :dz_g0, :dz_g1, :dz_g2, :dz_g3, :dz_g4), Tuple{DynamicPPL.Metadata{Dict{AbstractPPL.VarName{:Ωm, Tuple{}}, Int64}, Vector{Uniform{Float64}}, Vector{AbstractPPL.VarName{:Ωm, Tuple{}}}, Vector{Float64}, Vector{Set{DynamicPPL.Selector}}}, DynamicPPL.Metadata{Dict{AbstractPPL.VarName{:dz_g0, Tuple{}}, Int64}, Vector{Truncated{Normal{Float64}, Continuous, Float64}}, Vector{AbstractPPL.VarName{:dz_g0, Tuple{}}}, Vector{Float64}, Vector{Set{DynamicPPL.Selector}}}, DynamicPPL.Metadata{Dict{AbstractPPL.VarName{:dz_g1, Tuple{}}, Int64}, Vector{Truncated{Normal{Float64}, Continuous, Float64}}, Vector{AbstractPPL.VarName{:dz_g1, Tuple{}}}, Vector{Float64}, Vector{Set{DynamicPPL.Selector}}}, DynamicPPL.Metadata{Dict{AbstractPPL.VarName{:dz_g2, Tuple{}}, Int64}, Vector{Truncated{Normal{Float64}, Continuous, Float64}}, Vector{AbstractPPL.VarName{:dz_g2, Tuple{}}}, Vector{Float64}, Vector{Set{DynamicPPL.Selector}}}, DynamicPPL.Metadata{Dict{AbstractPPL.VarName{:dz_g3, Tuple{}}, Int64}, Vector{Truncated{Normal{Float64}, Continuous, Float64}}, Vector{AbstractPPL.VarName{:dz_g3, Tuple{}}}, Vector{Float64}, Vector{Set{DynamicPPL.Selector}}}, DynamicPPL.Metadata{Dict{AbstractPPL.VarName{:dz_g4, Tuple{}}, Int64}, Vector{Truncated{Normal{Float64}, Continuous, Float64}}, Vector{AbstractPPL.VarName{:dz_g4, Tuple{}}}, Vector{Float64}, Vector{Set{DynamicPPL.Selector}}}}}, Float64}, DynamicPPL.Model{var\"#3#4\", (:data_vector,), (), (), Tuple{Vector{Float64}}, Tuple{}}, DynamicPPL.Sampler{NUTS{Turing.Core.ForwardDiffAD{40}, (), AdvancedHMC.DiagEuclideanMetric}}, DynamicPPL.DefaultContext}, Float64}, Float64, 6}}, Vector{Set{DynamicPPL.Selector}}}, DynamicPPL.Metadata{Dict{AbstractPPL.VarName{:dz_g1, Tuple{}}, Int64}, Vector{Truncated{Normal{Float64}, Continuous, Float64}}, Vector{AbstractPPL.VarName{:dz_g1, Tuple{}}}, Vector{ForwardDiff.Dual{ForwardDiff.Tag{Turing.Core.var\"#f#7\"{DynamicPPL.TypedVarInfo{NamedTuple{(:Ωm, :dz_g0, :dz_g1, :dz_g2, :dz_g3, :dz_g4), Tuple{DynamicPPL.Metadata{Dict{AbstractPPL.VarName{:Ωm, Tuple{}}, Int64}, Vector{Uniform{Float64}}, Vector{AbstractPPL.VarName{:Ωm, Tuple{}}}, Vector{Float64}, Vector{Set{DynamicPPL.Selector}}}, DynamicPPL.Metadata{Dict{AbstractPPL.VarName{:dz_g0, Tuple{}}, Int64}, Vector{Truncated{Normal{Float64}, Continuous, Float64}}, Vector{AbstractPPL.VarName{:dz_g0, Tuple{}}}, Vector{Float64}, Vector{Set{DynamicPPL.Selector}}}, DynamicPPL.Metadata{Dict{AbstractPPL.VarName{:dz_g1, Tuple{}}, Int64}, Vector{Truncated{Normal{Float64}, Continuous, Float64}}, Vector{AbstractPPL.VarName{:dz_g1, Tuple{}}}, Vector{Float64}, Vector{Set{DynamicPPL.Selector}}}, DynamicPPL.Metadata{Dict{AbstractPPL.VarName{:dz_g2, Tuple{}}, Int64}, Vector{Truncated{Normal{Float64}, Continuous, Float64}}, Vector{AbstractPPL.VarName{:dz_g2, Tuple{}}}, Vector{Float64}, Vector{Set{DynamicPPL.Selector}}}, DynamicPPL.Metadata{Dict{AbstractPPL.VarName{:dz_g3, Tuple{}}, Int64}, Vector{Truncated{Normal{Float64}, Continuous, Float64}}, Vector{AbstractPPL.VarName{:dz_g3, Tuple{}}}, Vector{Float64}, Vector{Set{DynamicPPL.Selector}}}, DynamicPPL.Metadata{Dict{AbstractPPL.VarName{:dz_g4, Tuple{}}, Int64}, Vector{Truncated{Normal{Float64}, Continuous, Float64}}, Vector{AbstractPPL.VarName{:dz_g4, Tuple{}}}, Vector{Float64}, Vector{Set{DynamicPPL.Selector}}}}}, Float64}, DynamicPPL.Model{var\"#3#4\", (:data_vector,), (), (), Tuple{Vector{Float64}}, Tuple{}}, DynamicPPL.Sampler{NUTS{Turing.Core.ForwardDiffAD{40}, (), AdvancedHMC.DiagEuclideanMetric}}, DynamicPPL.DefaultContext}, Float64}, Float64, 6}}, Vector{Set{DynamicPPL.Selector}}}, DynamicPPL.Metadata{Dict{AbstractPPL.VarName{:dz_g2, Tuple{}}, Int64}, Vector{Truncated{Normal{Float64}, Continuous, Float64}}, Vector{AbstractPPL.VarName{:dz_g2, Tuple{}}}, Vector{ForwardDiff.Dual{ForwardDiff.Tag{Turing.Core.var\"#f#7\"{DynamicPPL.TypedVarInfo{NamedTuple{(:Ωm, :dz_g0, :dz_g1, :dz_g2, :dz_g3, :dz_g4), Tuple{DynamicPPL.Metadata{Dict{AbstractPPL.VarName{:Ωm, Tuple{}}, Int64}, Vector{Uniform{Float64}}, Vector{AbstractPPL.VarName{:Ωm, Tuple{}}}, Vector{Float64}, Vector{Set{DynamicPPL.Selector}}}, DynamicPPL.Metadata{Dict{AbstractPPL.VarName{:dz_g0, Tuple{}}, Int64}, Vector{Truncated{Normal{Float64}, Continuous, Float64}}, Vector{AbstractPPL.VarName{:dz_g0, Tuple{}}}, Vector{Float64}, Vector{Set{DynamicPPL.Selector}}}, DynamicPPL.Metadata{Dict{AbstractPPL.VarName{:dz_g1, Tuple{}}, Int64}, Vector{Truncated{Normal{Float64}, Continuous, Float64}}, Vector{AbstractPPL.VarName{:dz_g1, Tuple{}}}, Vector{Float64}, Vector{Set{DynamicPPL.Selector}}}, DynamicPPL.Metadata{Dict{AbstractPPL.VarName{:dz_g2, Tuple{}}, Int64}, Vector{Truncated{Normal{Float64}, Continuous, Float64}}, Vector{AbstractPPL.VarName{:dz_g2, Tuple{}}}, Vector{Float64}, Vector{Set{DynamicPPL.Selector}}}, DynamicPPL.Metadata{Dict{AbstractPPL.VarName{:dz_g3, Tuple{}}, Int64}, Vector{Truncated{Normal{Float64}, Continuous, Float64}}, Vector{AbstractPPL.VarName{:dz_g3, Tuple{}}}, Vector{Float64}, Vector{Set{DynamicPPL.Selector}}}, DynamicPPL.Metadata{Dict{AbstractPPL.VarName{:dz_g4, Tuple{}}, Int64}, Vector{Truncated{Normal{Float64}, Continuous, Float64}}, Vector{AbstractPPL.VarName{:dz_g4, Tuple{}}}, Vector{Float64}, Vector{Set{DynamicPPL.Selector}}}}}, Float64}, DynamicPPL.Model{var\"#3#4\", (:data_vector,), (), (), Tuple{Vector{Float64}}, Tuple{}}, DynamicPPL.Sampler{NUTS{Turing.Core.ForwardDiffAD{40}, (), AdvancedHMC.DiagEuclideanMetric}}, DynamicPPL.DefaultContext}, Float64}, Float64, 6}}, Vector{Set{DynamicPPL.Selector}}}, DynamicPPL.Metadata{Dict{AbstractPPL.VarName{:dz_g3, Tuple{}}, Int64}, Vector{Truncated{Normal{Float64}, Continuous, Float64}}, Vector{AbstractPPL.VarName{:dz_g3, Tuple{}}}, Vector{ForwardDiff.Dual{ForwardDiff.Tag{Turing.Core.var\"#f#7\"{DynamicPPL.TypedVarInfo{NamedTuple{(:Ωm, :dz_g0, :dz_g1, :dz_g2, :dz_g3, :dz_g4), Tuple{DynamicPPL.Metadata{Dict{AbstractPPL.VarName{:Ωm, Tuple{}}, Int64}, Vector{Uniform{Float64}}, Vector{AbstractPPL.VarName{:Ωm, Tuple{}}}, Vector{Float64}, Vector{Set{DynamicPPL.Selector}}}, DynamicPPL.Metadata{Dict{AbstractPPL.VarName{:dz_g0, Tuple{}}, Int64}, Vector{Truncated{Normal{Float64}, Continuous, Float64}}, Vector{AbstractPPL.VarName{:dz_g0, Tuple{}}}, Vector{Float64}, Vector{Set{DynamicPPL.Selector}}}, DynamicPPL.Metadata{Dict{AbstractPPL.VarName{:dz_g1, Tuple{}}, Int64}, Vector{Truncated{Normal{Float64}, Continuous, Float64}}, Vector{AbstractPPL.VarName{:dz_g1, Tuple{}}}, Vector{Float64}, Vector{Set{DynamicPPL.Selector}}}, DynamicPPL.Metadata{Dict{AbstractPPL.VarName{:dz_g2, Tuple{}}, Int64}, Vector{Truncated{Normal{Float64}, Continuous, Float64}}, Vector{AbstractPPL.VarName{:dz_g2, Tuple{}}}, Vector{Float64}, Vector{Set{DynamicPPL.Selector}}}, DynamicPPL.Metadata{Dict{AbstractPPL.VarName{:dz_g3, Tuple{}}, Int64}, Vector{Truncated{Normal{Float64}, Continuous, Float64}}, Vector{AbstractPPL.VarName{:dz_g3, Tuple{}}}, Vector{Float64}, Vector{Set{DynamicPPL.Selector}}}, DynamicPPL.Metadata{Dict{AbstractPPL.VarName{:dz_g4, Tuple{}}, Int64}, Vector{Truncated{Normal{Float64}, Continuous, Float64}}, Vector{AbstractPPL.VarName{:dz_g4, Tuple{}}}, Vector{Float64}, Vector{Set{DynamicPPL.Selector}}}}}, Float64}, DynamicPPL.Model{var\"#3#4\", (:data_vector,), (), (), Tuple{Vector{Float64}}, Tuple{}}, DynamicPPL.Sampler{NUTS{Turing.Core.ForwardDiffAD{40}, (), AdvancedHMC.DiagEuclideanMetric}}, DynamicPPL.DefaultContext}, Float64}, Float64, 6}}, Vector{Set{DynamicPPL.Selector}}}, DynamicPPL.Metadata{Dict{AbstractPPL.VarName{:dz_g4, Tuple{}}, Int64}, Vector{Truncated{Normal{Float64}, Continuous, Float64}}, Vector{AbstractPPL.VarName{:dz_g4, Tuple{}}}, Vector{ForwardDiff.Dual{ForwardDiff.Tag{Turing.Core.var\"#f#7\"{DynamicPPL.TypedVarInfo{NamedTuple{(:Ωm, :dz_g0, :dz_g1, :dz_g2, :dz_g3, :dz_g4), Tuple{DynamicPPL.Metadata{Dict{AbstractPPL.VarName{:Ωm, Tuple{}}, Int64}, Vector{Uniform{Float64}}, Vector{AbstractPPL.VarName{:Ωm, Tuple{}}}, Vector{Float64}, Vector{Set{DynamicPPL.Selector}}}, DynamicPPL.Metadata{Dict{AbstractPPL.VarName{:dz_g0, Tuple{}}, Int64}, Vector{Truncated{Normal{Float64}, Continuous, Float64}}, Vector{AbstractPPL.VarName{:dz_g0, Tuple{}}}, Vector{Float64}, Vector{Set{DynamicPPL.Selector}}}, DynamicPPL.Metadata{Dict{AbstractPPL.VarName{:dz_g1, Tuple{}}, Int64}, Vector{Truncated{Normal{Float64}, Continuous, Float64}}, Vector{AbstractPPL.VarName{:dz_g1, Tuple{}}}, Vector{Float64}, Vector{Set{DynamicPPL.Selector}}}, DynamicPPL.Metadata{Dict{AbstractPPL.VarName{:dz_g2, Tuple{}}, Int64}, Vector{Truncated{Normal{Float64}, Continuous, Float64}}, Vector{AbstractPPL.VarName{:dz_g2, Tuple{}}}, Vector{Float64}, Vector{Set{DynamicPPL.Selector}}}, DynamicPPL.Metadata{Dict{AbstractPPL.VarName{:dz_g3, Tuple{}}, Int64}, Vector{Truncated{Normal{Float64}, Continuous, Float64}}, Vector{AbstractPPL.VarName{:dz_g3, Tuple{}}}, Vector{Float64}, Vector{Set{DynamicPPL.Selector}}}, DynamicPPL.Metadata{Dict{AbstractPPL.VarName{:dz_g4, Tuple{}}, Int64}, Vector{Truncated{Normal{Float64}, Continuous, Float64}}, Vector{AbstractPPL.VarName{:dz_g4, Tuple{}}}, Vector{Float64}, Vector{Set{DynamicPPL.Selector}}}}}, Float64}, DynamicPPL.Model{var\"#3#4\", (:data_vector,), (), (), Tuple{Vector{Float64}}, Tuple{}}, DynamicPPL.Sampler{NUTS{Turing.Core.ForwardDiffAD{40}, (), AdvancedHMC.DiagEuclideanMetric}}, DynamicPPL.DefaultContext}, Float64}, Float64, 6}}, Vector{Set{DynamicPPL.Selector}}}}}, ForwardDiff.Dual{ForwardDiff.Tag{Turing.Core.var\"#f#7\"{DynamicPPL.TypedVarInfo{NamedTuple{(:Ωm, :dz_g0, :dz_g1, :dz_g2, :dz_g3, :dz_g4), Tuple{DynamicPPL.Metadata{Dict{AbstractPPL.VarName{:Ωm, Tuple{}}, Int64}, Vector{Uniform{Float64}}, Vector{AbstractPPL.VarName{:Ωm, Tuple{}}}, Vector{Float64}, Vector{Set{DynamicPPL.Selector}}}, DynamicPPL.Metadata{Dict{AbstractPPL.VarName{:dz_g0, Tuple{}}, Int64}, Vector{Truncated{Normal{Float64}, Continuous, Float64}}, Vector{AbstractPPL.VarName{:dz_g0, Tuple{}}}, Vector{Float64}, Vector{Set{DynamicPPL.Selector}}}, DynamicPPL.Metadata{Dict{AbstractPPL.VarName{:dz_g1, Tuple{}}, Int64}, Vector{Truncated{Normal{Float64}, Continuous, Float64}}, Vector{AbstractPPL.VarName{:dz_g1, Tuple{}}}, Vector{Float64}, Vector{Set{DynamicPPL.Selector}}}, DynamicPPL.Metadata{Dict{AbstractPPL.VarName{:dz_g2, Tuple{}}, Int64}, Vector{Truncated{Normal{Float64}, Continuous, Float64}}, Vector{AbstractPPL.VarName{:dz_g2, Tuple{}}}, Vector{Float64}, Vector{Set{DynamicPPL.Selector}}}, DynamicPPL.Metadata{Dict{AbstractPPL.VarName{:dz_g3, Tuple{}}, Int64}, Vector{Truncated{Normal{Float64}, Continuous, Float64}}, Vector{AbstractPPL.VarName{:dz_g3, Tuple{}}}, Vector{Float64}, Vector{Set{DynamicPPL.Selector}}}, DynamicPPL.Metadata{Dict{AbstractPPL.VarName{:dz_g4, Tuple{}}, Int64}, Vector{Truncated{Normal{Float64}, Continuous, Float64}}, Vector{AbstractPPL.VarName{:dz_g4, Tuple{}}}, Vector{Float64}, Vector{Set{DynamicPPL.Selector}}}}}, Float64}, DynamicPPL.Model{var\"#3#4\", (:data_vector,), (), (), Tuple{Vector{Float64}}, Tuple{}}, DynamicPPL.Sampler{NUTS{Turing.Core.ForwardDiffAD{40}, (), AdvancedHMC.DiagEuclideanMetric}}, DynamicPPL.DefaultContext}, Float64}, Float64, 6}}, Vector{Base.RefValue{ForwardDiff.Dual{ForwardDiff.Tag{Turing.Core.var\"#f#7\"{DynamicPPL.TypedVarInfo{NamedTuple{(:Ωm, :dz_g0, :dz_g1, :dz_g2, :dz_g3, :dz_g4), Tuple{DynamicPPL.Metadata{Dict{AbstractPPL.VarName{:Ωm, Tuple{}}, Int64}, Vector{Uniform{Float64}}, Vector{AbstractPPL.VarName{:Ωm, Tuple{}}}, Vector{Float64}, Vector{Set{DynamicPPL.Selector}}}, DynamicPPL.Metadata{Dict{AbstractPPL.VarName{:dz_g0, Tuple{}}, Int64}, Vector{Truncated{Normal{Float64}, Continuous, Float64}}, Vector{AbstractPPL.VarName{:dz_g0, Tuple{}}}, Vector{Float64}, Vector{Set{DynamicPPL.Selector}}}, DynamicPPL.Metadata{Dict{AbstractPPL.VarName{:dz_g1, Tuple{}}, Int64}, Vector{Truncated{Normal{Float64}, Continuous, Float64}}, Vector{AbstractPPL.VarName{:dz_g1, Tuple{}}}, Vector{Float64}, Vector{Set{DynamicPPL.Selector}}}, DynamicPPL.Metadata{Dict{AbstractPPL.VarName{:dz_g2, Tuple{}}, Int64}, Vector{Truncated{Normal{Float64}, Continuous, Float64}}, Vector{AbstractPPL.VarName{:dz_g2, Tuple{}}}, Vector{Float64}, Vector{Set{DynamicPPL.Selector}}}, DynamicPPL.Metadata{Dict{AbstractPPL.VarName{:dz_g3, Tuple{}}, Int64}, Vector{Truncated{Normal{Float64}, Continuous, Float64}}, Vector{AbstractPPL.VarName{:dz_g3, Tuple{}}}, Vector{Float64}, Vector{Set{DynamicPPL.Selector}}}, DynamicPPL.Metadata{Dict{AbstractPPL.VarName{:dz_g4, Tuple{}}, Int64}, Vector{Truncated{Normal{Float64}, Continuous, Float64}}, Vector{AbstractPPL.VarName{:dz_g4, Tuple{}}}, Vector{Float64}, Vector{Set{DynamicPPL.Selector}}}}}, Float64}, DynamicPPL.Model{var\"#3#4\", (:data_vector,), (), (), Tuple{Vector{Float64}}, Tuple{}}, DynamicPPL.Sampler{NUTS{Turing.Core.ForwardDiffAD{40}, (), AdvancedHMC.DiagEuclideanMetric}}, DynamicPPL.DefaultContext}, Float64}, Float64, 6}}}}, __sampler__::DynamicPPL.Sampler{NUTS{Turing.Core.ForwardDiffAD{40}, (), AdvancedHMC.DiagEuclideanMetric}}, __context__::DynamicPPL.DefaultContext, data_vector::Vector{Float64})",
      "    @ Main ./none:0",
      "  [7] macro expansion",
      "    @ ~/.julia/packages/DynamicPPL/SgzCy/src/model.jl:0 [inlined]",
      "  [8] _evaluate",
      "    @ ~/.julia/packages/DynamicPPL/SgzCy/src/model.jl:154 [inlined]",
      "  [9] evaluate_threadsafe",
      "    @ ~/.julia/packages/DynamicPPL/SgzCy/src/model.jl:144 [inlined]",
      " [10] (::DynamicPPL.Model{var\"#3#4\", (:data_vector,), (), (), Tuple{Vector{Float64}}, Tuple{}})(rng::Random._GLOBAL_RNG, varinfo::DynamicPPL.TypedVarInfo{NamedTuple{(:Ωm, :dz_g0, :dz_g1, :dz_g2, :dz_g3, :dz_g4), Tuple{DynamicPPL.Metadata{Dict{AbstractPPL.VarName{:Ωm, Tuple{}}, Int64}, Vector{Uniform{Float64}}, Vector{AbstractPPL.VarName{:Ωm, Tuple{}}}, Vector{ForwardDiff.Dual{ForwardDiff.Tag{Turing.Core.var\"#f#7\"{DynamicPPL.TypedVarInfo{NamedTuple{(:Ωm, :dz_g0, :dz_g1, :dz_g2, :dz_g3, :dz_g4), Tuple{DynamicPPL.Metadata{Dict{AbstractPPL.VarName{:Ωm, Tuple{}}, Int64}, Vector{Uniform{Float64}}, Vector{AbstractPPL.VarName{:Ωm, Tuple{}}}, Vector{Float64}, Vector{Set{DynamicPPL.Selector}}}, DynamicPPL.Metadata{Dict{AbstractPPL.VarName{:dz_g0, Tuple{}}, Int64}, Vector{Truncated{Normal{Float64}, Continuous, Float64}}, Vector{AbstractPPL.VarName{:dz_g0, Tuple{}}}, Vector{Float64}, Vector{Set{DynamicPPL.Selector}}}, DynamicPPL.Metadata{Dict{AbstractPPL.VarName{:dz_g1, Tuple{}}, Int64}, Vector{Truncated{Normal{Float64}, Continuous, Float64}}, Vector{AbstractPPL.VarName{:dz_g1, Tuple{}}}, Vector{Float64}, Vector{Set{DynamicPPL.Selector}}}, DynamicPPL.Metadata{Dict{AbstractPPL.VarName{:dz_g2, Tuple{}}, Int64}, Vector{Truncated{Normal{Float64}, Continuous, Float64}}, Vector{AbstractPPL.VarName{:dz_g2, Tuple{}}}, Vector{Float64}, Vector{Set{DynamicPPL.Selector}}}, DynamicPPL.Metadata{Dict{AbstractPPL.VarName{:dz_g3, Tuple{}}, Int64}, Vector{Truncated{Normal{Float64}, Continuous, Float64}}, Vector{AbstractPPL.VarName{:dz_g3, Tuple{}}}, Vector{Float64}, Vector{Set{DynamicPPL.Selector}}}, DynamicPPL.Metadata{Dict{AbstractPPL.VarName{:dz_g4, Tuple{}}, Int64}, Vector{Truncated{Normal{Float64}, Continuous, Float64}}, Vector{AbstractPPL.VarName{:dz_g4, Tuple{}}}, Vector{Float64}, Vector{Set{DynamicPPL.Selector}}}}}, Float64}, DynamicPPL.Model{var\"#3#4\", (:data_vector,), (), (), Tuple{Vector{Float64}}, Tuple{}}, DynamicPPL.Sampler{NUTS{Turing.Core.ForwardDiffAD{40}, (), AdvancedHMC.DiagEuclideanMetric}}, DynamicPPL.DefaultContext}, Float64}, Float64, 6}}, Vector{Set{DynamicPPL.Selector}}}, DynamicPPL.Metadata{Dict{AbstractPPL.VarName{:dz_g0, Tuple{}}, Int64}, Vector{Truncated{Normal{Float64}, Continuous, Float64}}, Vector{AbstractPPL.VarName{:dz_g0, Tuple{}}}, Vector{ForwardDiff.Dual{ForwardDiff.Tag{Turing.Core.var\"#f#7\"{DynamicPPL.TypedVarInfo{NamedTuple{(:Ωm, :dz_g0, :dz_g1, :dz_g2, :dz_g3, :dz_g4), Tuple{DynamicPPL.Metadata{Dict{AbstractPPL.VarName{:Ωm, Tuple{}}, Int64}, Vector{Uniform{Float64}}, Vector{AbstractPPL.VarName{:Ωm, Tuple{}}}, Vector{Float64}, Vector{Set{DynamicPPL.Selector}}}, DynamicPPL.Metadata{Dict{AbstractPPL.VarName{:dz_g0, Tuple{}}, Int64}, Vector{Truncated{Normal{Float64}, Continuous, Float64}}, Vector{AbstractPPL.VarName{:dz_g0, Tuple{}}}, Vector{Float64}, Vector{Set{DynamicPPL.Selector}}}, DynamicPPL.Metadata{Dict{AbstractPPL.VarName{:dz_g1, Tuple{}}, Int64}, Vector{Truncated{Normal{Float64}, Continuous, Float64}}, Vector{AbstractPPL.VarName{:dz_g1, Tuple{}}}, Vector{Float64}, Vector{Set{DynamicPPL.Selector}}}, DynamicPPL.Metadata{Dict{AbstractPPL.VarName{:dz_g2, Tuple{}}, Int64}, Vector{Truncated{Normal{Float64}, Continuous, Float64}}, Vector{AbstractPPL.VarName{:dz_g2, Tuple{}}}, Vector{Float64}, Vector{Set{DynamicPPL.Selector}}}, DynamicPPL.Metadata{Dict{AbstractPPL.VarName{:dz_g3, Tuple{}}, Int64}, Vector{Truncated{Normal{Float64}, Continuous, Float64}}, Vector{AbstractPPL.VarName{:dz_g3, Tuple{}}}, Vector{Float64}, Vector{Set{DynamicPPL.Selector}}}, DynamicPPL.Metadata{Dict{AbstractPPL.VarName{:dz_g4, Tuple{}}, Int64}, Vector{Truncated{Normal{Float64}, Continuous, Float64}}, Vector{AbstractPPL.VarName{:dz_g4, Tuple{}}}, Vector{Float64}, Vector{Set{DynamicPPL.Selector}}}}}, Float64}, DynamicPPL.Model{var\"#3#4\", (:data_vector,), (), (), Tuple{Vector{Float64}}, Tuple{}}, DynamicPPL.Sampler{NUTS{Turing.Core.ForwardDiffAD{40}, (), AdvancedHMC.DiagEuclideanMetric}}, DynamicPPL.DefaultContext}, Float64}, Float64, 6}}, Vector{Set{DynamicPPL.Selector}}}, DynamicPPL.Metadata{Dict{AbstractPPL.VarName{:dz_g1, Tuple{}}, Int64}, Vector{Truncated{Normal{Float64}, Continuous, Float64}}, Vector{AbstractPPL.VarName{:dz_g1, Tuple{}}}, Vector{ForwardDiff.Dual{ForwardDiff.Tag{Turing.Core.var\"#f#7\"{DynamicPPL.TypedVarInfo{NamedTuple{(:Ωm, :dz_g0, :dz_g1, :dz_g2, :dz_g3, :dz_g4), Tuple{DynamicPPL.Metadata{Dict{AbstractPPL.VarName{:Ωm, Tuple{}}, Int64}, Vector{Uniform{Float64}}, Vector{AbstractPPL.VarName{:Ωm, Tuple{}}}, Vector{Float64}, Vector{Set{DynamicPPL.Selector}}}, DynamicPPL.Metadata{Dict{AbstractPPL.VarName{:dz_g0, Tuple{}}, Int64}, Vector{Truncated{Normal{Float64}, Continuous, Float64}}, Vector{AbstractPPL.VarName{:dz_g0, Tuple{}}}, Vector{Float64}, Vector{Set{DynamicPPL.Selector}}}, DynamicPPL.Metadata{Dict{AbstractPPL.VarName{:dz_g1, Tuple{}}, Int64}, Vector{Truncated{Normal{Float64}, Continuous, Float64}}, Vector{AbstractPPL.VarName{:dz_g1, Tuple{}}}, Vector{Float64}, Vector{Set{DynamicPPL.Selector}}}, DynamicPPL.Metadata{Dict{AbstractPPL.VarName{:dz_g2, Tuple{}}, Int64}, Vector{Truncated{Normal{Float64}, Continuous, Float64}}, Vector{AbstractPPL.VarName{:dz_g2, Tuple{}}}, Vector{Float64}, Vector{Set{DynamicPPL.Selector}}}, DynamicPPL.Metadata{Dict{AbstractPPL.VarName{:dz_g3, Tuple{}}, Int64}, Vector{Truncated{Normal{Float64}, Continuous, Float64}}, Vector{AbstractPPL.VarName{:dz_g3, Tuple{}}}, Vector{Float64}, Vector{Set{DynamicPPL.Selector}}}, DynamicPPL.Metadata{Dict{AbstractPPL.VarName{:dz_g4, Tuple{}}, Int64}, Vector{Truncated{Normal{Float64}, Continuous, Float64}}, Vector{AbstractPPL.VarName{:dz_g4, Tuple{}}}, Vector{Float64}, Vector{Set{DynamicPPL.Selector}}}}}, Float64}, DynamicPPL.Model{var\"#3#4\", (:data_vector,), (), (), Tuple{Vector{Float64}}, Tuple{}}, DynamicPPL.Sampler{NUTS{Turing.Core.ForwardDiffAD{40}, (), AdvancedHMC.DiagEuclideanMetric}}, DynamicPPL.DefaultContext}, Float64}, Float64, 6}}, Vector{Set{DynamicPPL.Selector}}}, DynamicPPL.Metadata{Dict{AbstractPPL.VarName{:dz_g2, Tuple{}}, Int64}, Vector{Truncated{Normal{Float64}, Continuous, Float64}}, Vector{AbstractPPL.VarName{:dz_g2, Tuple{}}}, Vector{ForwardDiff.Dual{ForwardDiff.Tag{Turing.Core.var\"#f#7\"{DynamicPPL.TypedVarInfo{NamedTuple{(:Ωm, :dz_g0, :dz_g1, :dz_g2, :dz_g3, :dz_g4), Tuple{DynamicPPL.Metadata{Dict{AbstractPPL.VarName{:Ωm, Tuple{}}, Int64}, Vector{Uniform{Float64}}, Vector{AbstractPPL.VarName{:Ωm, Tuple{}}}, Vector{Float64}, Vector{Set{DynamicPPL.Selector}}}, DynamicPPL.Metadata{Dict{AbstractPPL.VarName{:dz_g0, Tuple{}}, Int64}, Vector{Truncated{Normal{Float64}, Continuous, Float64}}, Vector{AbstractPPL.VarName{:dz_g0, Tuple{}}}, Vector{Float64}, Vector{Set{DynamicPPL.Selector}}}, DynamicPPL.Metadata{Dict{AbstractPPL.VarName{:dz_g1, Tuple{}}, Int64}, Vector{Truncated{Normal{Float64}, Continuous, Float64}}, Vector{AbstractPPL.VarName{:dz_g1, Tuple{}}}, Vector{Float64}, Vector{Set{DynamicPPL.Selector}}}, DynamicPPL.Metadata{Dict{AbstractPPL.VarName{:dz_g2, Tuple{}}, Int64}, Vector{Truncated{Normal{Float64}, Continuous, Float64}}, Vector{AbstractPPL.VarName{:dz_g2, Tuple{}}}, Vector{Float64}, Vector{Set{DynamicPPL.Selector}}}, DynamicPPL.Metadata{Dict{AbstractPPL.VarName{:dz_g3, Tuple{}}, Int64}, Vector{Truncated{Normal{Float64}, Continuous, Float64}}, Vector{AbstractPPL.VarName{:dz_g3, Tuple{}}}, Vector{Float64}, Vector{Set{DynamicPPL.Selector}}}, DynamicPPL.Metadata{Dict{AbstractPPL.VarName{:dz_g4, Tuple{}}, Int64}, Vector{Truncated{Normal{Float64}, Continuous, Float64}}, Vector{AbstractPPL.VarName{:dz_g4, Tuple{}}}, Vector{Float64}, Vector{Set{DynamicPPL.Selector}}}}}, Float64}, DynamicPPL.Model{var\"#3#4\", (:data_vector,), (), (), Tuple{Vector{Float64}}, Tuple{}}, DynamicPPL.Sampler{NUTS{Turing.Core.ForwardDiffAD{40}, (), AdvancedHMC.DiagEuclideanMetric}}, DynamicPPL.DefaultContext}, Float64}, Float64, 6}}, Vector{Set{DynamicPPL.Selector}}}, DynamicPPL.Metadata{Dict{AbstractPPL.VarName{:dz_g3, Tuple{}}, Int64}, Vector{Truncated{Normal{Float64}, Continuous, Float64}}, Vector{AbstractPPL.VarName{:dz_g3, Tuple{}}}, Vector{ForwardDiff.Dual{ForwardDiff.Tag{Turing.Core.var\"#f#7\"{DynamicPPL.TypedVarInfo{NamedTuple{(:Ωm, :dz_g0, :dz_g1, :dz_g2, :dz_g3, :dz_g4), Tuple{DynamicPPL.Metadata{Dict{AbstractPPL.VarName{:Ωm, Tuple{}}, Int64}, Vector{Uniform{Float64}}, Vector{AbstractPPL.VarName{:Ωm, Tuple{}}}, Vector{Float64}, Vector{Set{DynamicPPL.Selector}}}, DynamicPPL.Metadata{Dict{AbstractPPL.VarName{:dz_g0, Tuple{}}, Int64}, Vector{Truncated{Normal{Float64}, Continuous, Float64}}, Vector{AbstractPPL.VarName{:dz_g0, Tuple{}}}, Vector{Float64}, Vector{Set{DynamicPPL.Selector}}}, DynamicPPL.Metadata{Dict{AbstractPPL.VarName{:dz_g1, Tuple{}}, Int64}, Vector{Truncated{Normal{Float64}, Continuous, Float64}}, Vector{AbstractPPL.VarName{:dz_g1, Tuple{}}}, Vector{Float64}, Vector{Set{DynamicPPL.Selector}}}, DynamicPPL.Metadata{Dict{AbstractPPL.VarName{:dz_g2, Tuple{}}, Int64}, Vector{Truncated{Normal{Float64}, Continuous, Float64}}, Vector{AbstractPPL.VarName{:dz_g2, Tuple{}}}, Vector{Float64}, Vector{Set{DynamicPPL.Selector}}}, DynamicPPL.Metadata{Dict{AbstractPPL.VarName{:dz_g3, Tuple{}}, Int64}, Vector{Truncated{Normal{Float64}, Continuous, Float64}}, Vector{AbstractPPL.VarName{:dz_g3, Tuple{}}}, Vector{Float64}, Vector{Set{DynamicPPL.Selector}}}, DynamicPPL.Metadata{Dict{AbstractPPL.VarName{:dz_g4, Tuple{}}, Int64}, Vector{Truncated{Normal{Float64}, Continuous, Float64}}, Vector{AbstractPPL.VarName{:dz_g4, Tuple{}}}, Vector{Float64}, Vector{Set{DynamicPPL.Selector}}}}}, Float64}, DynamicPPL.Model{var\"#3#4\", (:data_vector,), (), (), Tuple{Vector{Float64}}, Tuple{}}, DynamicPPL.Sampler{NUTS{Turing.Core.ForwardDiffAD{40}, (), AdvancedHMC.DiagEuclideanMetric}}, DynamicPPL.DefaultContext}, Float64}, Float64, 6}}, Vector{Set{DynamicPPL.Selector}}}, DynamicPPL.Metadata{Dict{AbstractPPL.VarName{:dz_g4, Tuple{}}, Int64}, Vector{Truncated{Normal{Float64}, Continuous, Float64}}, Vector{AbstractPPL.VarName{:dz_g4, Tuple{}}}, Vector{ForwardDiff.Dual{ForwardDiff.Tag{Turing.Core.var\"#f#7\"{DynamicPPL.TypedVarInfo{NamedTuple{(:Ωm, :dz_g0, :dz_g1, :dz_g2, :dz_g3, :dz_g4), Tuple{DynamicPPL.Metadata{Dict{AbstractPPL.VarName{:Ωm, Tuple{}}, Int64}, Vector{Uniform{Float64}}, Vector{AbstractPPL.VarName{:Ωm, Tuple{}}}, Vector{Float64}, Vector{Set{DynamicPPL.Selector}}}, DynamicPPL.Metadata{Dict{AbstractPPL.VarName{:dz_g0, Tuple{}}, Int64}, Vector{Truncated{Normal{Float64}, Continuous, Float64}}, Vector{AbstractPPL.VarName{:dz_g0, Tuple{}}}, Vector{Float64}, Vector{Set{DynamicPPL.Selector}}}, DynamicPPL.Metadata{Dict{AbstractPPL.VarName{:dz_g1, Tuple{}}, Int64}, Vector{Truncated{Normal{Float64}, Continuous, Float64}}, Vector{AbstractPPL.VarName{:dz_g1, Tuple{}}}, Vector{Float64}, Vector{Set{DynamicPPL.Selector}}}, DynamicPPL.Metadata{Dict{AbstractPPL.VarName{:dz_g2, Tuple{}}, Int64}, Vector{Truncated{Normal{Float64}, Continuous, Float64}}, Vector{AbstractPPL.VarName{:dz_g2, Tuple{}}}, Vector{Float64}, Vector{Set{DynamicPPL.Selector}}}, DynamicPPL.Metadata{Dict{AbstractPPL.VarName{:dz_g3, Tuple{}}, Int64}, Vector{Truncated{Normal{Float64}, Continuous, Float64}}, Vector{AbstractPPL.VarName{:dz_g3, Tuple{}}}, Vector{Float64}, Vector{Set{DynamicPPL.Selector}}}, DynamicPPL.Metadata{Dict{AbstractPPL.VarName{:dz_g4, Tuple{}}, Int64}, Vector{Truncated{Normal{Float64}, Continuous, Float64}}, Vector{AbstractPPL.VarName{:dz_g4, Tuple{}}}, Vector{Float64}, Vector{Set{DynamicPPL.Selector}}}}}, Float64}, DynamicPPL.Model{var\"#3#4\", (:data_vector,), (), (), Tuple{Vector{Float64}}, Tuple{}}, DynamicPPL.Sampler{NUTS{Turing.Core.ForwardDiffAD{40}, (), AdvancedHMC.DiagEuclideanMetric}}, DynamicPPL.DefaultContext}, Float64}, Float64, 6}}, Vector{Set{DynamicPPL.Selector}}}}}, ForwardDiff.Dual{ForwardDiff.Tag{Turing.Core.var\"#f#7\"{DynamicPPL.TypedVarInfo{NamedTuple{(:Ωm, :dz_g0, :dz_g1, :dz_g2, :dz_g3, :dz_g4), Tuple{DynamicPPL.Metadata{Dict{AbstractPPL.VarName{:Ωm, Tuple{}}, Int64}, Vector{Uniform{Float64}}, Vector{AbstractPPL.VarName{:Ωm, Tuple{}}}, Vector{Float64}, Vector{Set{DynamicPPL.Selector}}}, DynamicPPL.Metadata{Dict{AbstractPPL.VarName{:dz_g0, Tuple{}}, Int64}, Vector{Truncated{Normal{Float64}, Continuous, Float64}}, Vector{AbstractPPL.VarName{:dz_g0, Tuple{}}}, Vector{Float64}, Vector{Set{DynamicPPL.Selector}}}, DynamicPPL.Metadata{Dict{AbstractPPL.VarName{:dz_g1, Tuple{}}, Int64}, Vector{Truncated{Normal{Float64}, Continuous, Float64}}, Vector{AbstractPPL.VarName{:dz_g1, Tuple{}}}, Vector{Float64}, Vector{Set{DynamicPPL.Selector}}}, DynamicPPL.Metadata{Dict{AbstractPPL.VarName{:dz_g2, Tuple{}}, Int64}, Vector{Truncated{Normal{Float64}, Continuous, Float64}}, Vector{AbstractPPL.VarName{:dz_g2, Tuple{}}}, Vector{Float64}, Vector{Set{DynamicPPL.Selector}}}, DynamicPPL.Metadata{Dict{AbstractPPL.VarName{:dz_g3, Tuple{}}, Int64}, Vector{Truncated{Normal{Float64}, Continuous, Float64}}, Vector{AbstractPPL.VarName{:dz_g3, Tuple{}}}, Vector{Float64}, Vector{Set{DynamicPPL.Selector}}}, DynamicPPL.Metadata{Dict{AbstractPPL.VarName{:dz_g4, Tuple{}}, Int64}, Vector{Truncated{Normal{Float64}, Continuous, Float64}}, Vector{AbstractPPL.VarName{:dz_g4, Tuple{}}}, Vector{Float64}, Vector{Set{DynamicPPL.Selector}}}}}, Float64}, DynamicPPL.Model{var\"#3#4\", (:data_vector,), (), (), Tuple{Vector{Float64}}, Tuple{}}, DynamicPPL.Sampler{NUTS{Turing.Core.ForwardDiffAD{40}, (), AdvancedHMC.DiagEuclideanMetric}}, DynamicPPL.DefaultContext}, Float64}, Float64, 6}}, sampler::DynamicPPL.Sampler{NUTS{Turing.Core.ForwardDiffAD{40}, (), AdvancedHMC.DiagEuclideanMetric}}, context::DynamicPPL.DefaultContext)",
      "    @ DynamicPPL ~/.julia/packages/DynamicPPL/SgzCy/src/model.jl:94",
      " [11] Model",
      "    @ ~/.julia/packages/DynamicPPL/SgzCy/src/model.jl:98 [inlined]",
      " [12] f",
      "    @ ~/.julia/packages/Turing/uAz5c/src/core/ad.jl:111 [inlined]",
      " [13] vector_mode_dual_eval!",
      "    @ ~/.julia/packages/ForwardDiff/PBzup/src/apiutils.jl:37 [inlined]",
      " [14] vector_mode_gradient!(result::Vector{Float64}, f::Turing.Core.var\"#f#7\"{DynamicPPL.TypedVarInfo{NamedTuple{(:Ωm, :dz_g0, :dz_g1, :dz_g2, :dz_g3, :dz_g4), Tuple{DynamicPPL.Metadata{Dict{AbstractPPL.VarName{:Ωm, Tuple{}}, Int64}, Vector{Uniform{Float64}}, Vector{AbstractPPL.VarName{:Ωm, Tuple{}}}, Vector{Float64}, Vector{Set{DynamicPPL.Selector}}}, DynamicPPL.Metadata{Dict{AbstractPPL.VarName{:dz_g0, Tuple{}}, Int64}, Vector{Truncated{Normal{Float64}, Continuous, Float64}}, Vector{AbstractPPL.VarName{:dz_g0, Tuple{}}}, Vector{Float64}, Vector{Set{DynamicPPL.Selector}}}, DynamicPPL.Metadata{Dict{AbstractPPL.VarName{:dz_g1, Tuple{}}, Int64}, Vector{Truncated{Normal{Float64}, Continuous, Float64}}, Vector{AbstractPPL.VarName{:dz_g1, Tuple{}}}, Vector{Float64}, Vector{Set{DynamicPPL.Selector}}}, DynamicPPL.Metadata{Dict{AbstractPPL.VarName{:dz_g2, Tuple{}}, Int64}, Vector{Truncated{Normal{Float64}, Continuous, Float64}}, Vector{AbstractPPL.VarName{:dz_g2, Tuple{}}}, Vector{Float64}, Vector{Set{DynamicPPL.Selector}}}, DynamicPPL.Metadata{Dict{AbstractPPL.VarName{:dz_g3, Tuple{}}, Int64}, Vector{Truncated{Normal{Float64}, Continuous, Float64}}, Vector{AbstractPPL.VarName{:dz_g3, Tuple{}}}, Vector{Float64}, Vector{Set{DynamicPPL.Selector}}}, DynamicPPL.Metadata{Dict{AbstractPPL.VarName{:dz_g4, Tuple{}}, Int64}, Vector{Truncated{Normal{Float64}, Continuous, Float64}}, Vector{AbstractPPL.VarName{:dz_g4, Tuple{}}}, Vector{Float64}, Vector{Set{DynamicPPL.Selector}}}}}, Float64}, DynamicPPL.Model{var\"#3#4\", (:data_vector,), (), (), Tuple{Vector{Float64}}, Tuple{}}, DynamicPPL.Sampler{NUTS{Turing.Core.ForwardDiffAD{40}, (), AdvancedHMC.DiagEuclideanMetric}}, DynamicPPL.DefaultContext}, x::Vector{Float64}, cfg::ForwardDiff.GradientConfig{ForwardDiff.Tag{Turing.Core.var\"#f#7\"{DynamicPPL.TypedVarInfo{NamedTuple{(:Ωm, :dz_g0, :dz_g1, :dz_g2, :dz_g3, :dz_g4), Tuple{DynamicPPL.Metadata{Dict{AbstractPPL.VarName{:Ωm, Tuple{}}, Int64}, Vector{Uniform{Float64}}, Vector{AbstractPPL.VarName{:Ωm, Tuple{}}}, Vector{Float64}, Vector{Set{DynamicPPL.Selector}}}, DynamicPPL.Metadata{Dict{AbstractPPL.VarName{:dz_g0, Tuple{}}, Int64}, Vector{Truncated{Normal{Float64}, Continuous, Float64}}, Vector{AbstractPPL.VarName{:dz_g0, Tuple{}}}, Vector{Float64}, Vector{Set{DynamicPPL.Selector}}}, DynamicPPL.Metadata{Dict{AbstractPPL.VarName{:dz_g1, Tuple{}}, Int64}, Vector{Truncated{Normal{Float64}, Continuous, Float64}}, Vector{AbstractPPL.VarName{:dz_g1, Tuple{}}}, Vector{Float64}, Vector{Set{DynamicPPL.Selector}}}, DynamicPPL.Metadata{Dict{AbstractPPL.VarName{:dz_g2, Tuple{}}, Int64}, Vector{Truncated{Normal{Float64}, Continuous, Float64}}, Vector{AbstractPPL.VarName{:dz_g2, Tuple{}}}, Vector{Float64}, Vector{Set{DynamicPPL.Selector}}}, DynamicPPL.Metadata{Dict{AbstractPPL.VarName{:dz_g3, Tuple{}}, Int64}, Vector{Truncated{Normal{Float64}, Continuous, Float64}}, Vector{AbstractPPL.VarName{:dz_g3, Tuple{}}}, Vector{Float64}, Vector{Set{DynamicPPL.Selector}}}, DynamicPPL.Metadata{Dict{AbstractPPL.VarName{:dz_g4, Tuple{}}, Int64}, Vector{Truncated{Normal{Float64}, Continuous, Float64}}, Vector{AbstractPPL.VarName{:dz_g4, Tuple{}}}, Vector{Float64}, Vector{Set{DynamicPPL.Selector}}}}}, Float64}, DynamicPPL.Model{var\"#3#4\", (:data_vector,), (), (), Tuple{Vector{Float64}}, Tuple{}}, DynamicPPL.Sampler{NUTS{Turing.Core.ForwardDiffAD{40}, (), AdvancedHMC.DiagEuclideanMetric}}, DynamicPPL.DefaultContext}, Float64}, Float64, 6, Vector{ForwardDiff.Dual{ForwardDiff.Tag{Turing.Core.var\"#f#7\"{DynamicPPL.TypedVarInfo{NamedTuple{(:Ωm, :dz_g0, :dz_g1, :dz_g2, :dz_g3, :dz_g4), Tuple{DynamicPPL.Metadata{Dict{AbstractPPL.VarName{:Ωm, Tuple{}}, Int64}, Vector{Uniform{Float64}}, Vector{AbstractPPL.VarName{:Ωm, Tuple{}}}, Vector{Float64}, Vector{Set{DynamicPPL.Selector}}}, DynamicPPL.Metadata{Dict{AbstractPPL.VarName{:dz_g0, Tuple{}}, Int64}, Vector{Truncated{Normal{Float64}, Continuous, Float64}}, Vector{AbstractPPL.VarName{:dz_g0, Tuple{}}}, Vector{Float64}, Vector{Set{DynamicPPL.Selector}}}, DynamicPPL.Metadata{Dict{AbstractPPL.VarName{:dz_g1, Tuple{}}, Int64}, Vector{Truncated{Normal{Float64}, Continuous, Float64}}, Vector{AbstractPPL.VarName{:dz_g1, Tuple{}}}, Vector{Float64}, Vector{Set{DynamicPPL.Selector}}}, DynamicPPL.Metadata{Dict{AbstractPPL.VarName{:dz_g2, Tuple{}}, Int64}, Vector{Truncated{Normal{Float64}, Continuous, Float64}}, Vector{AbstractPPL.VarName{:dz_g2, Tuple{}}}, Vector{Float64}, Vector{Set{DynamicPPL.Selector}}}, DynamicPPL.Metadata{Dict{AbstractPPL.VarName{:dz_g3, Tuple{}}, Int64}, Vector{Truncated{Normal{Float64}, Continuous, Float64}}, Vector{AbstractPPL.VarName{:dz_g3, Tuple{}}}, Vector{Float64}, Vector{Set{DynamicPPL.Selector}}}, DynamicPPL.Metadata{Dict{AbstractPPL.VarName{:dz_g4, Tuple{}}, Int64}, Vector{Truncated{Normal{Float64}, Continuous, Float64}}, Vector{AbstractPPL.VarName{:dz_g4, Tuple{}}}, Vector{Float64}, Vector{Set{DynamicPPL.Selector}}}}}, Float64}, DynamicPPL.Model{var\"#3#4\", (:data_vector,), (), (), Tuple{Vector{Float64}}, Tuple{}}, DynamicPPL.Sampler{NUTS{Turing.Core.ForwardDiffAD{40}, (), AdvancedHMC.DiagEuclideanMetric}}, DynamicPPL.DefaultContext}, Float64}, Float64, 6}}})",
      "    @ ForwardDiff ~/.julia/packages/ForwardDiff/PBzup/src/gradient.jl:113",
      " [15] gradient!",
      "    @ ~/.julia/packages/ForwardDiff/PBzup/src/gradient.jl:37 [inlined]",
      " [16] gradient!(result::Vector{Float64}, f::Turing.Core.var\"#f#7\"{DynamicPPL.TypedVarInfo{NamedTuple{(:Ωm, :dz_g0, :dz_g1, :dz_g2, :dz_g3, :dz_g4), Tuple{DynamicPPL.Metadata{Dict{AbstractPPL.VarName{:Ωm, Tuple{}}, Int64}, Vector{Uniform{Float64}}, Vector{AbstractPPL.VarName{:Ωm, Tuple{}}}, Vector{Float64}, Vector{Set{DynamicPPL.Selector}}}, DynamicPPL.Metadata{Dict{AbstractPPL.VarName{:dz_g0, Tuple{}}, Int64}, Vector{Truncated{Normal{Float64}, Continuous, Float64}}, Vector{AbstractPPL.VarName{:dz_g0, Tuple{}}}, Vector{Float64}, Vector{Set{DynamicPPL.Selector}}}, DynamicPPL.Metadata{Dict{AbstractPPL.VarName{:dz_g1, Tuple{}}, Int64}, Vector{Truncated{Normal{Float64}, Continuous, Float64}}, Vector{AbstractPPL.VarName{:dz_g1, Tuple{}}}, Vector{Float64}, Vector{Set{DynamicPPL.Selector}}}, DynamicPPL.Metadata{Dict{AbstractPPL.VarName{:dz_g2, Tuple{}}, Int64}, Vector{Truncated{Normal{Float64}, Continuous, Float64}}, Vector{AbstractPPL.VarName{:dz_g2, Tuple{}}}, Vector{Float64}, Vector{Set{DynamicPPL.Selector}}}, DynamicPPL.Metadata{Dict{AbstractPPL.VarName{:dz_g3, Tuple{}}, Int64}, Vector{Truncated{Normal{Float64}, Continuous, Float64}}, Vector{AbstractPPL.VarName{:dz_g3, Tuple{}}}, Vector{Float64}, Vector{Set{DynamicPPL.Selector}}}, DynamicPPL.Metadata{Dict{AbstractPPL.VarName{:dz_g4, Tuple{}}, Int64}, Vector{Truncated{Normal{Float64}, Continuous, Float64}}, Vector{AbstractPPL.VarName{:dz_g4, Tuple{}}}, Vector{Float64}, Vector{Set{DynamicPPL.Selector}}}}}, Float64}, DynamicPPL.Model{var\"#3#4\", (:data_vector,), (), (), Tuple{Vector{Float64}}, Tuple{}}, DynamicPPL.Sampler{NUTS{Turing.Core.ForwardDiffAD{40}, (), AdvancedHMC.DiagEuclideanMetric}}, DynamicPPL.DefaultContext}, x::Vector{Float64}, cfg::ForwardDiff.GradientConfig{ForwardDiff.Tag{Turing.Core.var\"#f#7\"{DynamicPPL.TypedVarInfo{NamedTuple{(:Ωm, :dz_g0, :dz_g1, :dz_g2, :dz_g3, :dz_g4), Tuple{DynamicPPL.Metadata{Dict{AbstractPPL.VarName{:Ωm, Tuple{}}, Int64}, Vector{Uniform{Float64}}, Vector{AbstractPPL.VarName{:Ωm, Tuple{}}}, Vector{Float64}, Vector{Set{DynamicPPL.Selector}}}, DynamicPPL.Metadata{Dict{AbstractPPL.VarName{:dz_g0, Tuple{}}, Int64}, Vector{Truncated{Normal{Float64}, Continuous, Float64}}, Vector{AbstractPPL.VarName{:dz_g0, Tuple{}}}, Vector{Float64}, Vector{Set{DynamicPPL.Selector}}}, DynamicPPL.Metadata{Dict{AbstractPPL.VarName{:dz_g1, Tuple{}}, Int64}, Vector{Truncated{Normal{Float64}, Continuous, Float64}}, Vector{AbstractPPL.VarName{:dz_g1, Tuple{}}}, Vector{Float64}, Vector{Set{DynamicPPL.Selector}}}, DynamicPPL.Metadata{Dict{AbstractPPL.VarName{:dz_g2, Tuple{}}, Int64}, Vector{Truncated{Normal{Float64}, Continuous, Float64}}, Vector{AbstractPPL.VarName{:dz_g2, Tuple{}}}, Vector{Float64}, Vector{Set{DynamicPPL.Selector}}}, DynamicPPL.Metadata{Dict{AbstractPPL.VarName{:dz_g3, Tuple{}}, Int64}, Vector{Truncated{Normal{Float64}, Continuous, Float64}}, Vector{AbstractPPL.VarName{:dz_g3, Tuple{}}}, Vector{Float64}, Vector{Set{DynamicPPL.Selector}}}, DynamicPPL.Metadata{Dict{AbstractPPL.VarName{:dz_g4, Tuple{}}, Int64}, Vector{Truncated{Normal{Float64}, Continuous, Float64}}, Vector{AbstractPPL.VarName{:dz_g4, Tuple{}}}, Vector{Float64}, Vector{Set{DynamicPPL.Selector}}}}}, Float64}, DynamicPPL.Model{var\"#3#4\", (:data_vector,), (), (), Tuple{Vector{Float64}}, Tuple{}}, DynamicPPL.Sampler{NUTS{Turing.Core.ForwardDiffAD{40}, (), AdvancedHMC.DiagEuclideanMetric}}, DynamicPPL.DefaultContext}, Float64}, Float64, 6, Vector{ForwardDiff.Dual{ForwardDiff.Tag{Turing.Core.var\"#f#7\"{DynamicPPL.TypedVarInfo{NamedTuple{(:Ωm, :dz_g0, :dz_g1, :dz_g2, :dz_g3, :dz_g4), Tuple{DynamicPPL.Metadata{Dict{AbstractPPL.VarName{:Ωm, Tuple{}}, Int64}, Vector{Uniform{Float64}}, Vector{AbstractPPL.VarName{:Ωm, Tuple{}}}, Vector{Float64}, Vector{Set{DynamicPPL.Selector}}}, DynamicPPL.Metadata{Dict{AbstractPPL.VarName{:dz_g0, Tuple{}}, Int64}, Vector{Truncated{Normal{Float64}, Continuous, Float64}}, Vector{AbstractPPL.VarName{:dz_g0, Tuple{}}}, Vector{Float64}, Vector{Set{DynamicPPL.Selector}}}, DynamicPPL.Metadata{Dict{AbstractPPL.VarName{:dz_g1, Tuple{}}, Int64}, Vector{Truncated{Normal{Float64}, Continuous, Float64}}, Vector{AbstractPPL.VarName{:dz_g1, Tuple{}}}, Vector{Float64}, Vector{Set{DynamicPPL.Selector}}}, DynamicPPL.Metadata{Dict{AbstractPPL.VarName{:dz_g2, Tuple{}}, Int64}, Vector{Truncated{Normal{Float64}, Continuous, Float64}}, Vector{AbstractPPL.VarName{:dz_g2, Tuple{}}}, Vector{Float64}, Vector{Set{DynamicPPL.Selector}}}, DynamicPPL.Metadata{Dict{AbstractPPL.VarName{:dz_g3, Tuple{}}, Int64}, Vector{Truncated{Normal{Float64}, Continuous, Float64}}, Vector{AbstractPPL.VarName{:dz_g3, Tuple{}}}, Vector{Float64}, Vector{Set{DynamicPPL.Selector}}}, DynamicPPL.Metadata{Dict{AbstractPPL.VarName{:dz_g4, Tuple{}}, Int64}, Vector{Truncated{Normal{Float64}, Continuous, Float64}}, Vector{AbstractPPL.VarName{:dz_g4, Tuple{}}}, Vector{Float64}, Vector{Set{DynamicPPL.Selector}}}}}, Float64}, DynamicPPL.Model{var\"#3#4\", (:data_vector,), (), (), Tuple{Vector{Float64}}, Tuple{}}, DynamicPPL.Sampler{NUTS{Turing.Core.ForwardDiffAD{40}, (), AdvancedHMC.DiagEuclideanMetric}}, DynamicPPL.DefaultContext}, Float64}, Float64, 6}}})",
      "    @ ForwardDiff ~/.julia/packages/ForwardDiff/PBzup/src/gradient.jl:35",
      " [17] gradient_logp(::Turing.Core.ForwardDiffAD{40}, θ::Vector{Float64}, vi::DynamicPPL.TypedVarInfo{NamedTuple{(:Ωm, :dz_g0, :dz_g1, :dz_g2, :dz_g3, :dz_g4), Tuple{DynamicPPL.Metadata{Dict{AbstractPPL.VarName{:Ωm, Tuple{}}, Int64}, Vector{Uniform{Float64}}, Vector{AbstractPPL.VarName{:Ωm, Tuple{}}}, Vector{Float64}, Vector{Set{DynamicPPL.Selector}}}, DynamicPPL.Metadata{Dict{AbstractPPL.VarName{:dz_g0, Tuple{}}, Int64}, Vector{Truncated{Normal{Float64}, Continuous, Float64}}, Vector{AbstractPPL.VarName{:dz_g0, Tuple{}}}, Vector{Float64}, Vector{Set{DynamicPPL.Selector}}}, DynamicPPL.Metadata{Dict{AbstractPPL.VarName{:dz_g1, Tuple{}}, Int64}, Vector{Truncated{Normal{Float64}, Continuous, Float64}}, Vector{AbstractPPL.VarName{:dz_g1, Tuple{}}}, Vector{Float64}, Vector{Set{DynamicPPL.Selector}}}, DynamicPPL.Metadata{Dict{AbstractPPL.VarName{:dz_g2, Tuple{}}, Int64}, Vector{Truncated{Normal{Float64}, Continuous, Float64}}, Vector{AbstractPPL.VarName{:dz_g2, Tuple{}}}, Vector{Float64}, Vector{Set{DynamicPPL.Selector}}}, DynamicPPL.Metadata{Dict{AbstractPPL.VarName{:dz_g3, Tuple{}}, Int64}, Vector{Truncated{Normal{Float64}, Continuous, Float64}}, Vector{AbstractPPL.VarName{:dz_g3, Tuple{}}}, Vector{Float64}, Vector{Set{DynamicPPL.Selector}}}, DynamicPPL.Metadata{Dict{AbstractPPL.VarName{:dz_g4, Tuple{}}, Int64}, Vector{Truncated{Normal{Float64}, Continuous, Float64}}, Vector{AbstractPPL.VarName{:dz_g4, Tuple{}}}, Vector{Float64}, Vector{Set{DynamicPPL.Selector}}}}}, Float64}, model::DynamicPPL.Model{var\"#3#4\", (:data_vector,), (), (), Tuple{Vector{Float64}}, Tuple{}}, sampler::DynamicPPL.Sampler{NUTS{Turing.Core.ForwardDiffAD{40}, (), AdvancedHMC.DiagEuclideanMetric}}, ctx::DynamicPPL.DefaultContext)",
      "    @ Turing.Core ~/.julia/packages/Turing/uAz5c/src/core/ad.jl:121",
      " [18] gradient_logp (repeats 2 times)",
      "    @ ~/.julia/packages/Turing/uAz5c/src/core/ad.jl:83 [inlined]",
      " [19] ∂logπ∂θ",
      "    @ ~/.julia/packages/Turing/uAz5c/src/inference/hmc.jl:482 [inlined]",
      " [20] ∂H∂θ",
      "    @ ~/.julia/packages/AdvancedHMC/MIxdK/src/hamiltonian.jl:31 [inlined]",
      " [21] macro expansion",
      "    @ ~/.julia/packages/UnPack/EkESO/src/UnPack.jl:100 [inlined]",
      " [22] step(lf::AdvancedHMC.Leapfrog{Float64}, h::AdvancedHMC.Hamiltonian{AdvancedHMC.DiagEuclideanMetric{Float64, Vector{Float64}}, Turing.Inference.var\"#logπ#54\"{DynamicPPL.TypedVarInfo{NamedTuple{(:Ωm, :dz_g0, :dz_g1, :dz_g2, :dz_g3, :dz_g4), Tuple{DynamicPPL.Metadata{Dict{AbstractPPL.VarName{:Ωm, Tuple{}}, Int64}, Vector{Uniform{Float64}}, Vector{AbstractPPL.VarName{:Ωm, Tuple{}}}, Vector{Float64}, Vector{Set{DynamicPPL.Selector}}}, DynamicPPL.Metadata{Dict{AbstractPPL.VarName{:dz_g0, Tuple{}}, Int64}, Vector{Truncated{Normal{Float64}, Continuous, Float64}}, Vector{AbstractPPL.VarName{:dz_g0, Tuple{}}}, Vector{Float64}, Vector{Set{DynamicPPL.Selector}}}, DynamicPPL.Metadata{Dict{AbstractPPL.VarName{:dz_g1, Tuple{}}, Int64}, Vector{Truncated{Normal{Float64}, Continuous, Float64}}, Vector{AbstractPPL.VarName{:dz_g1, Tuple{}}}, Vector{Float64}, Vector{Set{DynamicPPL.Selector}}}, DynamicPPL.Metadata{Dict{AbstractPPL.VarName{:dz_g2, Tuple{}}, Int64}, Vector{Truncated{Normal{Float64}, Continuous, Float64}}, Vector{AbstractPPL.VarName{:dz_g2, Tuple{}}}, Vector{Float64}, Vector{Set{DynamicPPL.Selector}}}, DynamicPPL.Metadata{Dict{AbstractPPL.VarName{:dz_g3, Tuple{}}, Int64}, Vector{Truncated{Normal{Float64}, Continuous, Float64}}, Vector{AbstractPPL.VarName{:dz_g3, Tuple{}}}, Vector{Float64}, Vector{Set{DynamicPPL.Selector}}}, DynamicPPL.Metadata{Dict{AbstractPPL.VarName{:dz_g4, Tuple{}}, Int64}, Vector{Truncated{Normal{Float64}, Continuous, Float64}}, Vector{AbstractPPL.VarName{:dz_g4, Tuple{}}}, Vector{Float64}, Vector{Set{DynamicPPL.Selector}}}}}, Float64}, DynamicPPL.Sampler{NUTS{Turing.Core.ForwardDiffAD{40}, (), AdvancedHMC.DiagEuclideanMetric}}, DynamicPPL.Model{var\"#3#4\", (:data_vector,), (), (), Tuple{Vector{Float64}}, Tuple{}}}, Turing.Inference.var\"#∂logπ∂θ#53\"{DynamicPPL.TypedVarInfo{NamedTuple{(:Ωm, :dz_g0, :dz_g1, :dz_g2, :dz_g3, :dz_g4), Tuple{DynamicPPL.Metadata{Dict{AbstractPPL.VarName{:Ωm, Tuple{}}, Int64}, Vector{Uniform{Float64}}, Vector{AbstractPPL.VarName{:Ωm, Tuple{}}}, Vector{Float64}, Vector{Set{DynamicPPL.Selector}}}, DynamicPPL.Metadata{Dict{AbstractPPL.VarName{:dz_g0, Tuple{}}, Int64}, Vector{Truncated{Normal{Float64}, Continuous, Float64}}, Vector{AbstractPPL.VarName{:dz_g0, Tuple{}}}, Vector{Float64}, Vector{Set{DynamicPPL.Selector}}}, DynamicPPL.Metadata{Dict{AbstractPPL.VarName{:dz_g1, Tuple{}}, Int64}, Vector{Truncated{Normal{Float64}, Continuous, Float64}}, Vector{AbstractPPL.VarName{:dz_g1, Tuple{}}}, Vector{Float64}, Vector{Set{DynamicPPL.Selector}}}, DynamicPPL.Metadata{Dict{AbstractPPL.VarName{:dz_g2, Tuple{}}, Int64}, Vector{Truncated{Normal{Float64}, Continuous, Float64}}, Vector{AbstractPPL.VarName{:dz_g2, Tuple{}}}, Vector{Float64}, Vector{Set{DynamicPPL.Selector}}}, DynamicPPL.Metadata{Dict{AbstractPPL.VarName{:dz_g3, Tuple{}}, Int64}, Vector{Truncated{Normal{Float64}, Continuous, Float64}}, Vector{AbstractPPL.VarName{:dz_g3, Tuple{}}}, Vector{Float64}, Vector{Set{DynamicPPL.Selector}}}, DynamicPPL.Metadata{Dict{AbstractPPL.VarName{:dz_g4, Tuple{}}, Int64}, Vector{Truncated{Normal{Float64}, Continuous, Float64}}, Vector{AbstractPPL.VarName{:dz_g4, Tuple{}}}, Vector{Float64}, Vector{Set{DynamicPPL.Selector}}}}}, Float64}, DynamicPPL.Sampler{NUTS{Turing.Core.ForwardDiffAD{40}, (), AdvancedHMC.DiagEuclideanMetric}}, DynamicPPL.Model{var\"#3#4\", (:data_vector,), (), (), Tuple{Vector{Float64}}, Tuple{}}}}, z::AdvancedHMC.PhasePoint{Vector{Float64}, AdvancedHMC.DualValue{Float64, Vector{Float64}}}, n_steps::Int64; fwd::Bool, full_trajectory::Val{false})",
      "    @ AdvancedHMC ~/.julia/packages/AdvancedHMC/MIxdK/src/integrator.jl:88",
      " [23] step",
      "    @ ~/.julia/packages/AdvancedHMC/MIxdK/src/integrator.jl:66 [inlined]",
      " [24] build_tree(rng::Random._GLOBAL_RNG, nt::AdvancedHMC.NUTS{AdvancedHMC.MultinomialTS, AdvancedHMC.GeneralisedNoUTurn, AdvancedHMC.Leapfrog{Float64}, Float64}, h::AdvancedHMC.Hamiltonian{AdvancedHMC.DiagEuclideanMetric{Float64, Vector{Float64}}, Turing.Inference.var\"#logπ#54\"{DynamicPPL.TypedVarInfo{NamedTuple{(:Ωm, :dz_g0, :dz_g1, :dz_g2, :dz_g3, :dz_g4), Tuple{DynamicPPL.Metadata{Dict{AbstractPPL.VarName{:Ωm, Tuple{}}, Int64}, Vector{Uniform{Float64}}, Vector{AbstractPPL.VarName{:Ωm, Tuple{}}}, Vector{Float64}, Vector{Set{DynamicPPL.Selector}}}, DynamicPPL.Metadata{Dict{AbstractPPL.VarName{:dz_g0, Tuple{}}, Int64}, Vector{Truncated{Normal{Float64}, Continuous, Float64}}, Vector{AbstractPPL.VarName{:dz_g0, Tuple{}}}, Vector{Float64}, Vector{Set{DynamicPPL.Selector}}}, DynamicPPL.Metadata{Dict{AbstractPPL.VarName{:dz_g1, Tuple{}}, Int64}, Vector{Truncated{Normal{Float64}, Continuous, Float64}}, Vector{AbstractPPL.VarName{:dz_g1, Tuple{}}}, Vector{Float64}, Vector{Set{DynamicPPL.Selector}}}, DynamicPPL.Metadata{Dict{AbstractPPL.VarName{:dz_g2, Tuple{}}, Int64}, Vector{Truncated{Normal{Float64}, Continuous, Float64}}, Vector{AbstractPPL.VarName{:dz_g2, Tuple{}}}, Vector{Float64}, Vector{Set{DynamicPPL.Selector}}}, DynamicPPL.Metadata{Dict{AbstractPPL.VarName{:dz_g3, Tuple{}}, Int64}, Vector{Truncated{Normal{Float64}, Continuous, Float64}}, Vector{AbstractPPL.VarName{:dz_g3, Tuple{}}}, Vector{Float64}, Vector{Set{DynamicPPL.Selector}}}, DynamicPPL.Metadata{Dict{AbstractPPL.VarName{:dz_g4, Tuple{}}, Int64}, Vector{Truncated{Normal{Float64}, Continuous, Float64}}, Vector{AbstractPPL.VarName{:dz_g4, Tuple{}}}, Vector{Float64}, Vector{Set{DynamicPPL.Selector}}}}}, Float64}, DynamicPPL.Sampler{NUTS{Turing.Core.ForwardDiffAD{40}, (), AdvancedHMC.DiagEuclideanMetric}}, DynamicPPL.Model{var\"#3#4\", (:data_vector,), (), (), Tuple{Vector{Float64}}, Tuple{}}}, Turing.Inference.var\"#∂logπ∂θ#53\"{DynamicPPL.TypedVarInfo{NamedTuple{(:Ωm, :dz_g0, :dz_g1, :dz_g2, :dz_g3, :dz_g4), Tuple{DynamicPPL.Metadata{Dict{AbstractPPL.VarName{:Ωm, Tuple{}}, Int64}, Vector{Uniform{Float64}}, Vector{AbstractPPL.VarName{:Ωm, Tuple{}}}, Vector{Float64}, Vector{Set{DynamicPPL.Selector}}}, DynamicPPL.Metadata{Dict{AbstractPPL.VarName{:dz_g0, Tuple{}}, Int64}, Vector{Truncated{Normal{Float64}, Continuous, Float64}}, Vector{AbstractPPL.VarName{:dz_g0, Tuple{}}}, Vector{Float64}, Vector{Set{DynamicPPL.Selector}}}, DynamicPPL.Metadata{Dict{AbstractPPL.VarName{:dz_g1, Tuple{}}, Int64}, Vector{Truncated{Normal{Float64}, Continuous, Float64}}, Vector{AbstractPPL.VarName{:dz_g1, Tuple{}}}, Vector{Float64}, Vector{Set{DynamicPPL.Selector}}}, DynamicPPL.Metadata{Dict{AbstractPPL.VarName{:dz_g2, Tuple{}}, Int64}, Vector{Truncated{Normal{Float64}, Continuous, Float64}}, Vector{AbstractPPL.VarName{:dz_g2, Tuple{}}}, Vector{Float64}, Vector{Set{DynamicPPL.Selector}}}, DynamicPPL.Metadata{Dict{AbstractPPL.VarName{:dz_g3, Tuple{}}, Int64}, Vector{Truncated{Normal{Float64}, Continuous, Float64}}, Vector{AbstractPPL.VarName{:dz_g3, Tuple{}}}, Vector{Float64}, Vector{Set{DynamicPPL.Selector}}}, DynamicPPL.Metadata{Dict{AbstractPPL.VarName{:dz_g4, Tuple{}}, Int64}, Vector{Truncated{Normal{Float64}, Continuous, Float64}}, Vector{AbstractPPL.VarName{:dz_g4, Tuple{}}}, Vector{Float64}, Vector{Set{DynamicPPL.Selector}}}}}, Float64}, DynamicPPL.Sampler{NUTS{Turing.Core.ForwardDiffAD{40}, (), AdvancedHMC.DiagEuclideanMetric}}, DynamicPPL.Model{var\"#3#4\", (:data_vector,), (), (), Tuple{Vector{Float64}}, Tuple{}}}}, z::AdvancedHMC.PhasePoint{Vector{Float64}, AdvancedHMC.DualValue{Float64, Vector{Float64}}}, sampler::AdvancedHMC.MultinomialTS{Float64}, v::Int64, j::Int64, H0::Float64)",
      "    @ AdvancedHMC ~/.julia/packages/AdvancedHMC/MIxdK/src/trajectory.jl:693",
      " [25] transition(rng::Random._GLOBAL_RNG, τ::AdvancedHMC.NUTS{AdvancedHMC.MultinomialTS, AdvancedHMC.GeneralisedNoUTurn, AdvancedHMC.Leapfrog{Float64}, Float64}, h::AdvancedHMC.Hamiltonian{AdvancedHMC.DiagEuclideanMetric{Float64, Vector{Float64}}, Turing.Inference.var\"#logπ#54\"{DynamicPPL.TypedVarInfo{NamedTuple{(:Ωm, :dz_g0, :dz_g1, :dz_g2, :dz_g3, :dz_g4), Tuple{DynamicPPL.Metadata{Dict{AbstractPPL.VarName{:Ωm, Tuple{}}, Int64}, Vector{Uniform{Float64}}, Vector{AbstractPPL.VarName{:Ωm, Tuple{}}}, Vector{Float64}, Vector{Set{DynamicPPL.Selector}}}, DynamicPPL.Metadata{Dict{AbstractPPL.VarName{:dz_g0, Tuple{}}, Int64}, Vector{Truncated{Normal{Float64}, Continuous, Float64}}, Vector{AbstractPPL.VarName{:dz_g0, Tuple{}}}, Vector{Float64}, Vector{Set{DynamicPPL.Selector}}}, DynamicPPL.Metadata{Dict{AbstractPPL.VarName{:dz_g1, Tuple{}}, Int64}, Vector{Truncated{Normal{Float64}, Continuous, Float64}}, Vector{AbstractPPL.VarName{:dz_g1, Tuple{}}}, Vector{Float64}, Vector{Set{DynamicPPL.Selector}}}, DynamicPPL.Metadata{Dict{AbstractPPL.VarName{:dz_g2, Tuple{}}, Int64}, Vector{Truncated{Normal{Float64}, Continuous, Float64}}, Vector{AbstractPPL.VarName{:dz_g2, Tuple{}}}, Vector{Float64}, Vector{Set{DynamicPPL.Selector}}}, DynamicPPL.Metadata{Dict{AbstractPPL.VarName{:dz_g3, Tuple{}}, Int64}, Vector{Truncated{Normal{Float64}, Continuous, Float64}}, Vector{AbstractPPL.VarName{:dz_g3, Tuple{}}}, Vector{Float64}, Vector{Set{DynamicPPL.Selector}}}, DynamicPPL.Metadata{Dict{AbstractPPL.VarName{:dz_g4, Tuple{}}, Int64}, Vector{Truncated{Normal{Float64}, Continuous, Float64}}, Vector{AbstractPPL.VarName{:dz_g4, Tuple{}}}, Vector{Float64}, Vector{Set{DynamicPPL.Selector}}}}}, Float64}, DynamicPPL.Sampler{NUTS{Turing.Core.ForwardDiffAD{40}, (), AdvancedHMC.DiagEuclideanMetric}}, DynamicPPL.Model{var\"#3#4\", (:data_vector,), (), (), Tuple{Vector{Float64}}, Tuple{}}}, Turing.Inference.var\"#∂logπ∂θ#53\"{DynamicPPL.TypedVarInfo{NamedTuple{(:Ωm, :dz_g0, :dz_g1, :dz_g2, :dz_g3, :dz_g4), Tuple{DynamicPPL.Metadata{Dict{AbstractPPL.VarName{:Ωm, Tuple{}}, Int64}, Vector{Uniform{Float64}}, Vector{AbstractPPL.VarName{:Ωm, Tuple{}}}, Vector{Float64}, Vector{Set{DynamicPPL.Selector}}}, DynamicPPL.Metadata{Dict{AbstractPPL.VarName{:dz_g0, Tuple{}}, Int64}, Vector{Truncated{Normal{Float64}, Continuous, Float64}}, Vector{AbstractPPL.VarName{:dz_g0, Tuple{}}}, Vector{Float64}, Vector{Set{DynamicPPL.Selector}}}, DynamicPPL.Metadata{Dict{AbstractPPL.VarName{:dz_g1, Tuple{}}, Int64}, Vector{Truncated{Normal{Float64}, Continuous, Float64}}, Vector{AbstractPPL.VarName{:dz_g1, Tuple{}}}, Vector{Float64}, Vector{Set{DynamicPPL.Selector}}}, DynamicPPL.Metadata{Dict{AbstractPPL.VarName{:dz_g2, Tuple{}}, Int64}, Vector{Truncated{Normal{Float64}, Continuous, Float64}}, Vector{AbstractPPL.VarName{:dz_g2, Tuple{}}}, Vector{Float64}, Vector{Set{DynamicPPL.Selector}}}, DynamicPPL.Metadata{Dict{AbstractPPL.VarName{:dz_g3, Tuple{}}, Int64}, Vector{Truncated{Normal{Float64}, Continuous, Float64}}, Vector{AbstractPPL.VarName{:dz_g3, Tuple{}}}, Vector{Float64}, Vector{Set{DynamicPPL.Selector}}}, DynamicPPL.Metadata{Dict{AbstractPPL.VarName{:dz_g4, Tuple{}}, Int64}, Vector{Truncated{Normal{Float64}, Continuous, Float64}}, Vector{AbstractPPL.VarName{:dz_g4, Tuple{}}}, Vector{Float64}, Vector{Set{DynamicPPL.Selector}}}}}, Float64}, DynamicPPL.Sampler{NUTS{Turing.Core.ForwardDiffAD{40}, (), AdvancedHMC.DiagEuclideanMetric}}, DynamicPPL.Model{var\"#3#4\", (:data_vector,), (), (), Tuple{Vector{Float64}}, Tuple{}}}}, z0::AdvancedHMC.PhasePoint{Vector{Float64}, AdvancedHMC.DualValue{Float64, Vector{Float64}}})",
      "    @ AdvancedHMC ~/.julia/packages/AdvancedHMC/MIxdK/src/trajectory.jl:742",
      " [26] step",
      "    @ ~/.julia/packages/AdvancedHMC/MIxdK/src/sampler.jl:55 [inlined]",
      " [27] step(rng::Random._GLOBAL_RNG, model::DynamicPPL.Model{var\"#3#4\", (:data_vector,), (), (), Tuple{Vector{Float64}}, Tuple{}}, spl::DynamicPPL.Sampler{NUTS{Turing.Core.ForwardDiffAD{40}, (), AdvancedHMC.DiagEuclideanMetric}}, state::Turing.Inference.HMCState{DynamicPPL.TypedVarInfo{NamedTuple{(:Ωm, :dz_g0, :dz_g1, :dz_g2, :dz_g3, :dz_g4), Tuple{DynamicPPL.Metadata{Dict{AbstractPPL.VarName{:Ωm, Tuple{}}, Int64}, Vector{Uniform{Float64}}, Vector{AbstractPPL.VarName{:Ωm, Tuple{}}}, Vector{Float64}, Vector{Set{DynamicPPL.Selector}}}, DynamicPPL.Metadata{Dict{AbstractPPL.VarName{:dz_g0, Tuple{}}, Int64}, Vector{Truncated{Normal{Float64}, Continuous, Float64}}, Vector{AbstractPPL.VarName{:dz_g0, Tuple{}}}, Vector{Float64}, Vector{Set{DynamicPPL.Selector}}}, DynamicPPL.Metadata{Dict{AbstractPPL.VarName{:dz_g1, Tuple{}}, Int64}, Vector{Truncated{Normal{Float64}, Continuous, Float64}}, Vector{AbstractPPL.VarName{:dz_g1, Tuple{}}}, Vector{Float64}, Vector{Set{DynamicPPL.Selector}}}, DynamicPPL.Metadata{Dict{AbstractPPL.VarName{:dz_g2, Tuple{}}, Int64}, Vector{Truncated{Normal{Float64}, Continuous, Float64}}, Vector{AbstractPPL.VarName{:dz_g2, Tuple{}}}, Vector{Float64}, Vector{Set{DynamicPPL.Selector}}}, DynamicPPL.Metadata{Dict{AbstractPPL.VarName{:dz_g3, Tuple{}}, Int64}, Vector{Truncated{Normal{Float64}, Continuous, Float64}}, Vector{AbstractPPL.VarName{:dz_g3, Tuple{}}}, Vector{Float64}, Vector{Set{DynamicPPL.Selector}}}, DynamicPPL.Metadata{Dict{AbstractPPL.VarName{:dz_g4, Tuple{}}, Int64}, Vector{Truncated{Normal{Float64}, Continuous, Float64}}, Vector{AbstractPPL.VarName{:dz_g4, Tuple{}}}, Vector{Float64}, Vector{Set{DynamicPPL.Selector}}}}}, Float64}, AdvancedHMC.NUTS{AdvancedHMC.MultinomialTS, AdvancedHMC.GeneralisedNoUTurn, AdvancedHMC.Leapfrog{Float64}, Float64}, AdvancedHMC.Hamiltonian{AdvancedHMC.DiagEuclideanMetric{Float64, Vector{Float64}}, Turing.Inference.var\"#logπ#54\"{DynamicPPL.TypedVarInfo{NamedTuple{(:Ωm, :dz_g0, :dz_g1, :dz_g2, :dz_g3, :dz_g4), Tuple{DynamicPPL.Metadata{Dict{AbstractPPL.VarName{:Ωm, Tuple{}}, Int64}, Vector{Uniform{Float64}}, Vector{AbstractPPL.VarName{:Ωm, Tuple{}}}, Vector{Float64}, Vector{Set{DynamicPPL.Selector}}}, DynamicPPL.Metadata{Dict{AbstractPPL.VarName{:dz_g0, Tuple{}}, Int64}, Vector{Truncated{Normal{Float64}, Continuous, Float64}}, Vector{AbstractPPL.VarName{:dz_g0, Tuple{}}}, Vector{Float64}, Vector{Set{DynamicPPL.Selector}}}, DynamicPPL.Metadata{Dict{AbstractPPL.VarName{:dz_g1, Tuple{}}, Int64}, Vector{Truncated{Normal{Float64}, Continuous, Float64}}, Vector{AbstractPPL.VarName{:dz_g1, Tuple{}}}, Vector{Float64}, Vector{Set{DynamicPPL.Selector}}}, DynamicPPL.Metadata{Dict{AbstractPPL.VarName{:dz_g2, Tuple{}}, Int64}, Vector{Truncated{Normal{Float64}, Continuous, Float64}}, Vector{AbstractPPL.VarName{:dz_g2, Tuple{}}}, Vector{Float64}, Vector{Set{DynamicPPL.Selector}}}, DynamicPPL.Metadata{Dict{AbstractPPL.VarName{:dz_g3, Tuple{}}, Int64}, Vector{Truncated{Normal{Float64}, Continuous, Float64}}, Vector{AbstractPPL.VarName{:dz_g3, Tuple{}}}, Vector{Float64}, Vector{Set{DynamicPPL.Selector}}}, DynamicPPL.Metadata{Dict{AbstractPPL.VarName{:dz_g4, Tuple{}}, Int64}, Vector{Truncated{Normal{Float64}, Continuous, Float64}}, Vector{AbstractPPL.VarName{:dz_g4, Tuple{}}}, Vector{Float64}, Vector{Set{DynamicPPL.Selector}}}}}, Float64}, DynamicPPL.Sampler{NUTS{Turing.Core.ForwardDiffAD{40}, (), AdvancedHMC.DiagEuclideanMetric}}, DynamicPPL.Model{var\"#3#4\", (:data_vector,), (), (), Tuple{Vector{Float64}}, Tuple{}}}, Turing.Inference.var\"#∂logπ∂θ#53\"{DynamicPPL.TypedVarInfo{NamedTuple{(:Ωm, :dz_g0, :dz_g1, :dz_g2, :dz_g3, :dz_g4), Tuple{DynamicPPL.Metadata{Dict{AbstractPPL.VarName{:Ωm, Tuple{}}, Int64}, Vector{Uniform{Float64}}, Vector{AbstractPPL.VarName{:Ωm, Tuple{}}}, Vector{Float64}, Vector{Set{DynamicPPL.Selector}}}, DynamicPPL.Metadata{Dict{AbstractPPL.VarName{:dz_g0, Tuple{}}, Int64}, Vector{Truncated{Normal{Float64}, Continuous, Float64}}, Vector{AbstractPPL.VarName{:dz_g0, Tuple{}}}, Vector{Float64}, Vector{Set{DynamicPPL.Selector}}}, DynamicPPL.Metadata{Dict{AbstractPPL.VarName{:dz_g1, Tuple{}}, Int64}, Vector{Truncated{Normal{Float64}, Continuous, Float64}}, Vector{AbstractPPL.VarName{:dz_g1, Tuple{}}}, Vector{Float64}, Vector{Set{DynamicPPL.Selector}}}, DynamicPPL.Metadata{Dict{AbstractPPL.VarName{:dz_g2, Tuple{}}, Int64}, Vector{Truncated{Normal{Float64}, Continuous, Float64}}, Vector{AbstractPPL.VarName{:dz_g2, Tuple{}}}, Vector{Float64}, Vector{Set{DynamicPPL.Selector}}}, DynamicPPL.Metadata{Dict{AbstractPPL.VarName{:dz_g3, Tuple{}}, Int64}, Vector{Truncated{Normal{Float64}, Continuous, Float64}}, Vector{AbstractPPL.VarName{:dz_g3, Tuple{}}}, Vector{Float64}, Vector{Set{DynamicPPL.Selector}}}, DynamicPPL.Metadata{Dict{AbstractPPL.VarName{:dz_g4, Tuple{}}, Int64}, Vector{Truncated{Normal{Float64}, Continuous, Float64}}, Vector{AbstractPPL.VarName{:dz_g4, Tuple{}}}, Vector{Float64}, Vector{Set{DynamicPPL.Selector}}}}}, Float64}, DynamicPPL.Sampler{NUTS{Turing.Core.ForwardDiffAD{40}, (), AdvancedHMC.DiagEuclideanMetric}}, DynamicPPL.Model{var\"#3#4\", (:data_vector,), (), (), Tuple{Vector{Float64}}, Tuple{}}}}, AdvancedHMC.PhasePoint{Vector{Float64}, AdvancedHMC.DualValue{Float64, Vector{Float64}}}, AdvancedHMC.Adaptation.StanHMCAdaptor{AdvancedHMC.Adaptation.WelfordVar{Float64, Vector{Float64}}, AdvancedHMC.Adaptation.NesterovDualAveraging{Float64}}}; nadapts::Int64, kwargs::Base.Pairs{Symbol, Bool, Tuple{Symbol}, NamedTuple{(:save_state,), Tuple{Bool}}})",
      "    @ Turing.Inference ~/.julia/packages/Turing/uAz5c/src/inference/hmc.jl:278",
      " [28] macro expansion",
      "    @ ~/.julia/packages/AbstractMCMC/oou1a/src/sample.jl:140 [inlined]",
      " [29] macro expansion",
      "    @ ~/.julia/packages/ProgressLogging/6KXlp/src/ProgressLogging.jl:328 [inlined]",
      " [30] (::AbstractMCMC.var\"#20#21\"{Bool, String, Nothing, Int64, Int64, Base.Pairs{Symbol, Integer, Tuple{Symbol, Symbol}, NamedTuple{(:nadapts, :save_state), Tuple{Int64, Bool}}}, Random._GLOBAL_RNG, DynamicPPL.Model{var\"#3#4\", (:data_vector,), (), (), Tuple{Vector{Float64}}, Tuple{}}, DynamicPPL.Sampler{NUTS{Turing.Core.ForwardDiffAD{40}, (), AdvancedHMC.DiagEuclideanMetric}}, Int64, Int64})()",
      "    @ AbstractMCMC ~/.julia/packages/AbstractMCMC/oou1a/src/logging.jl:11",
      " [31] with_logstate(f::Function, logstate::Any)",
      "    @ Base.CoreLogging ./logging.jl:511",
      " [32] with_logger(f::Function, logger::LoggingExtras.TeeLogger{Tuple{LoggingExtras.EarlyFilteredLogger{ConsoleProgressMonitor.ProgressLogger, AbstractMCMC.var\"#1#3\"{Module}}, LoggingExtras.EarlyFilteredLogger{Base.CoreLogging.SimpleLogger, AbstractMCMC.var\"#2#4\"{Module}}}})",
      "    @ Base.CoreLogging ./logging.jl:623",
      " [33] with_progresslogger(f::Function, _module::Module, logger::Base.CoreLogging.SimpleLogger)",
      "    @ AbstractMCMC ~/.julia/packages/AbstractMCMC/oou1a/src/logging.jl:34",
      " [34] macro expansion",
      "    @ ~/.julia/packages/AbstractMCMC/oou1a/src/logging.jl:10 [inlined]",
      " [35] mcmcsample(rng::Random._GLOBAL_RNG, model::DynamicPPL.Model{var\"#3#4\", (:data_vector,), (), (), Tuple{Vector{Float64}}, Tuple{}}, sampler::DynamicPPL.Sampler{NUTS{Turing.Core.ForwardDiffAD{40}, (), AdvancedHMC.DiagEuclideanMetric}}, N::Int64; progress::Bool, progressname::String, callback::Nothing, discard_initial::Int64, thinning::Int64, chain_type::Type, kwargs::Base.Pairs{Symbol, Integer, Tuple{Symbol, Symbol}, NamedTuple{(:nadapts, :save_state), Tuple{Int64, Bool}}})",
      "    @ AbstractMCMC ~/.julia/packages/AbstractMCMC/oou1a/src/sample.jl:88",
      " [36] sample(rng::Random._GLOBAL_RNG, model::DynamicPPL.Model{var\"#3#4\", (:data_vector,), (), (), Tuple{Vector{Float64}}, Tuple{}}, sampler::DynamicPPL.Sampler{NUTS{Turing.Core.ForwardDiffAD{40}, (), AdvancedHMC.DiagEuclideanMetric}}, N::Int64; chain_type::Type, resume_from::Nothing, progress::Bool, nadapts::Int64, discard_adapt::Bool, discard_initial::Int64, kwargs::Base.Pairs{Symbol, Bool, Tuple{Symbol}, NamedTuple{(:save_state,), Tuple{Bool}}})",
      "    @ Turing.Inference ~/.julia/packages/Turing/uAz5c/src/inference/hmc.jl:140",
      " [37] #sample#2",
      "    @ ~/.julia/packages/Turing/uAz5c/src/inference/Inference.jl:142 [inlined]",
      " [38] #sample#1",
      "    @ ~/.julia/packages/Turing/uAz5c/src/inference/Inference.jl:132 [inlined]",
      " [39] top-level scope",
      "    @ In[24]:1",
      " [40] eval",
      "    @ ./boot.jl:373 [inlined]",
      " [41] include_string(mapexpr::typeof(REPL.softscope), mod::Module, code::String, filename::String)",
      "    @ Base ./loading.jl:1196"
     ]
    }
   ],
   "source": [
    "chain3 = sample(model(data_vector), NUTS(5, 0.1; init_ϵ=0.03), iterations,\n",
    "                progress=true; save_state=true);"
   ]
  },
  {
   "cell_type": "code",
   "execution_count": 44,
   "id": "64abea06",
   "metadata": {},
   "outputs": [
    {
     "ename": "LoadError",
     "evalue": "MethodError: no method matching Theory(::Cosmology, ::Dict{String, Array}; nz_path=\"../data/DESY1_cls/nzs_fiducial\", Nuisances=Dict(\"dz_g0\" => -0.007424084241504165, \"dz_g1\" => -0.00829466998186491, \"dz_g4\" => 0.011798619127634276, \"dz_g2\" => 0.007292462353226616, \"dz_g3\" => 0.004882280887009468))\n\u001b[0mClosest candidates are:\n\u001b[0m  Theory(::Cosmology, ::Any, \u001b[91m::Any\u001b[39m; Nuisances) at ~/PhD/LimberJack.jl/src/theory.jl:29\u001b[91m got unsupported keyword argument \"nz_path\"\u001b[39m\n\u001b[0m  Theory(::Any, ::Any) at ~/PhD/LimberJack.jl/src/theory.jl:15\u001b[91m got unsupported keyword arguments \"nz_path\", \"Nuisances\"\u001b[39m",
     "output_type": "error",
     "traceback": [
      "MethodError: no method matching Theory(::Cosmology, ::Dict{String, Array}; nz_path=\"../data/DESY1_cls/nzs_fiducial\", Nuisances=Dict(\"dz_g0\" => -0.007424084241504165, \"dz_g1\" => -0.00829466998186491, \"dz_g4\" => 0.011798619127634276, \"dz_g2\" => 0.007292462353226616, \"dz_g3\" => 0.004882280887009468))\n\u001b[0mClosest candidates are:\n\u001b[0m  Theory(::Cosmology, ::Any, \u001b[91m::Any\u001b[39m; Nuisances) at ~/PhD/LimberJack.jl/src/theory.jl:29\u001b[91m got unsupported keyword argument \"nz_path\"\u001b[39m\n\u001b[0m  Theory(::Any, ::Any) at ~/PhD/LimberJack.jl/src/theory.jl:15\u001b[91m got unsupported keyword arguments \"nz_path\", \"Nuisances\"\u001b[39m",
      "",
      "Stacktrace:",
      "  [1] #13",
      "    @ ./In[42]:24 [inlined]",
      "  [2] (::var\"#13#14\")(__rng__::Random._GLOBAL_RNG, __model__::DynamicPPL.Model{var\"#13#14\", (:data_vector,), (), (), Tuple{Vector{Float64}}, Tuple{}}, __varinfo__::DynamicPPL.ThreadSafeVarInfo{DynamicPPL.UntypedVarInfo{DynamicPPL.Metadata{Dict{AbstractPPL.VarName, Int64}, Vector{Distribution}, Vector{AbstractPPL.VarName}, Vector{Real}, Vector{Set{DynamicPPL.Selector}}}, Float64}, Vector{Base.RefValue{Float64}}}, __sampler__::DynamicPPL.SampleFromPrior, __context__::DynamicPPL.DefaultContext, data_vector::Vector{Float64})",
      "    @ Main ./none:0",
      "  [3] macro expansion",
      "    @ ~/.julia/packages/DynamicPPL/SgzCy/src/model.jl:0 [inlined]",
      "  [4] _evaluate(rng::Random._GLOBAL_RNG, model::DynamicPPL.Model{var\"#13#14\", (:data_vector,), (), (), Tuple{Vector{Float64}}, Tuple{}}, varinfo::DynamicPPL.ThreadSafeVarInfo{DynamicPPL.UntypedVarInfo{DynamicPPL.Metadata{Dict{AbstractPPL.VarName, Int64}, Vector{Distribution}, Vector{AbstractPPL.VarName}, Vector{Real}, Vector{Set{DynamicPPL.Selector}}}, Float64}, Vector{Base.RefValue{Float64}}}, sampler::DynamicPPL.SampleFromPrior, context::DynamicPPL.DefaultContext)",
      "    @ DynamicPPL ~/.julia/packages/DynamicPPL/SgzCy/src/model.jl:154",
      "  [5] evaluate_threadsafe(rng::Random._GLOBAL_RNG, model::DynamicPPL.Model{var\"#13#14\", (:data_vector,), (), (), Tuple{Vector{Float64}}, Tuple{}}, varinfo::DynamicPPL.UntypedVarInfo{DynamicPPL.Metadata{Dict{AbstractPPL.VarName, Int64}, Vector{Distribution}, Vector{AbstractPPL.VarName}, Vector{Real}, Vector{Set{DynamicPPL.Selector}}}, Float64}, sampler::DynamicPPL.SampleFromPrior, context::DynamicPPL.DefaultContext)",
      "    @ DynamicPPL ~/.julia/packages/DynamicPPL/SgzCy/src/model.jl:144",
      "  [6] (::DynamicPPL.Model{var\"#13#14\", (:data_vector,), (), (), Tuple{Vector{Float64}}, Tuple{}})(rng::Random._GLOBAL_RNG, varinfo::DynamicPPL.UntypedVarInfo{DynamicPPL.Metadata{Dict{AbstractPPL.VarName, Int64}, Vector{Distribution}, Vector{AbstractPPL.VarName}, Vector{Real}, Vector{Set{DynamicPPL.Selector}}}, Float64}, sampler::DynamicPPL.SampleFromPrior, context::DynamicPPL.DefaultContext)",
      "    @ DynamicPPL ~/.julia/packages/DynamicPPL/SgzCy/src/model.jl:94",
      "  [7] DynamicPPL.VarInfo(rng::Random._GLOBAL_RNG, model::DynamicPPL.Model{var\"#13#14\", (:data_vector,), (), (), Tuple{Vector{Float64}}, Tuple{}}, sampler::DynamicPPL.SampleFromPrior, context::DynamicPPL.DefaultContext)",
      "    @ DynamicPPL ~/.julia/packages/DynamicPPL/SgzCy/src/varinfo.jl:126",
      "  [8] DynamicPPL.VarInfo(rng::Random._GLOBAL_RNG, model::DynamicPPL.Model{var\"#13#14\", (:data_vector,), (), (), Tuple{Vector{Float64}}, Tuple{}}, sampler::DynamicPPL.SampleFromPrior)",
      "    @ DynamicPPL ~/.julia/packages/DynamicPPL/SgzCy/src/varinfo.jl:125",
      "  [9] step(rng::Random._GLOBAL_RNG, model::DynamicPPL.Model{var\"#13#14\", (:data_vector,), (), (), Tuple{Vector{Float64}}, Tuple{}}, spl::DynamicPPL.Sampler{MH{(), NamedTuple{(), Tuple{}}}}; resume_from::Nothing, kwargs::Base.Pairs{Symbol, Integer, Tuple{Symbol, Symbol}, NamedTuple{(:nadapt, :save_state), Tuple{Int64, Bool}}})",
      "    @ DynamicPPL ~/.julia/packages/DynamicPPL/SgzCy/src/sampler.jl:73",
      " [10] macro expansion",
      "    @ ~/.julia/packages/AbstractMCMC/oou1a/src/sample.jl:97 [inlined]",
      " [11] macro expansion",
      "    @ ~/.julia/packages/ProgressLogging/6KXlp/src/ProgressLogging.jl:328 [inlined]",
      " [12] (::AbstractMCMC.var\"#20#21\"{Bool, String, Nothing, Int64, Int64, Base.Pairs{Symbol, Integer, Tuple{Symbol, Symbol}, NamedTuple{(:nadapt, :save_state), Tuple{Int64, Bool}}}, Random._GLOBAL_RNG, DynamicPPL.Model{var\"#13#14\", (:data_vector,), (), (), Tuple{Vector{Float64}}, Tuple{}}, DynamicPPL.Sampler{MH{(), NamedTuple{(), Tuple{}}}}, Int64, Int64})()",
      "    @ AbstractMCMC ~/.julia/packages/AbstractMCMC/oou1a/src/logging.jl:11",
      " [13] with_logstate(f::Function, logstate::Any)",
      "    @ Base.CoreLogging ./logging.jl:511",
      " [14] with_logger(f::Function, logger::LoggingExtras.TeeLogger{Tuple{LoggingExtras.EarlyFilteredLogger{ConsoleProgressMonitor.ProgressLogger, AbstractMCMC.var\"#1#3\"{Module}}, LoggingExtras.EarlyFilteredLogger{Base.CoreLogging.SimpleLogger, AbstractMCMC.var\"#2#4\"{Module}}}})",
      "    @ Base.CoreLogging ./logging.jl:623",
      " [15] with_progresslogger(f::Function, _module::Module, logger::Base.CoreLogging.SimpleLogger)",
      "    @ AbstractMCMC ~/.julia/packages/AbstractMCMC/oou1a/src/logging.jl:34",
      " [16] macro expansion",
      "    @ ~/.julia/packages/AbstractMCMC/oou1a/src/logging.jl:10 [inlined]",
      " [17] mcmcsample(rng::Random._GLOBAL_RNG, model::DynamicPPL.Model{var\"#13#14\", (:data_vector,), (), (), Tuple{Vector{Float64}}, Tuple{}}, sampler::DynamicPPL.Sampler{MH{(), NamedTuple{(), Tuple{}}}}, N::Int64; progress::Bool, progressname::String, callback::Nothing, discard_initial::Int64, thinning::Int64, chain_type::Type, kwargs::Base.Pairs{Symbol, Integer, Tuple{Symbol, Symbol}, NamedTuple{(:nadapt, :save_state), Tuple{Int64, Bool}}})",
      "    @ AbstractMCMC ~/.julia/packages/AbstractMCMC/oou1a/src/sample.jl:88",
      " [18] sample(rng::Random._GLOBAL_RNG, model::DynamicPPL.Model{var\"#13#14\", (:data_vector,), (), (), Tuple{Vector{Float64}}, Tuple{}}, sampler::DynamicPPL.Sampler{MH{(), NamedTuple{(), Tuple{}}}}, N::Int64; chain_type::Type, resume_from::Nothing, progress::Bool, kwargs::Base.Pairs{Symbol, Integer, Tuple{Symbol, Symbol}, NamedTuple{(:nadapt, :save_state), Tuple{Int64, Bool}}})",
      "    @ Turing.Inference ~/.julia/packages/Turing/uAz5c/src/inference/Inference.jl:156",
      " [19] #sample#2",
      "    @ ~/.julia/packages/Turing/uAz5c/src/inference/Inference.jl:142 [inlined]",
      " [20] #sample#1",
      "    @ ~/.julia/packages/Turing/uAz5c/src/inference/Inference.jl:132 [inlined]",
      " [21] top-level scope",
      "    @ In[44]:1",
      " [22] eval",
      "    @ ./boot.jl:373 [inlined]",
      " [23] include_string(mapexpr::typeof(REPL.softscope), mod::Module, code::String, filename::String)",
      "    @ Base ./loading.jl:1196"
     ]
    }
   ],
   "source": [
    "chain1 = sample(model(data_vector), MH(), iterations,\n",
    "            nadapt=nadapts, progress=true; save_state=true);"
   ]
  },
  {
   "cell_type": "code",
   "execution_count": null,
   "id": "a94c9c61",
   "metadata": {},
   "outputs": [],
   "source": []
  }
 ],
 "metadata": {
  "kernelspec": {
   "display_name": "Julia 4 Threads 1.7.0",
   "language": "julia",
   "name": "julia-4-threads-1.7"
  },
  "language_info": {
   "file_extension": ".jl",
   "mimetype": "application/julia",
   "name": "julia",
   "version": "1.7.0"
  }
 },
 "nbformat": 4,
 "nbformat_minor": 5
}
