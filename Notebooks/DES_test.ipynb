{
 "cells": [
  {
   "cell_type": "code",
   "execution_count": 1,
   "id": "02df9ee7",
   "metadata": {},
   "outputs": [],
   "source": [
    "using Turing\n",
    "using LimberJack\n",
    "using CSV\n",
    "using NPZ\n",
    "using Plots\n",
    "using FITSIO\n",
    "using Plots\n",
    "using LinearAlgebra\n",
    "using Distributed\n",
    "using StatsPlots\n",
    "using Optim\n",
    "using ForwardDiff\n",
    "using BenchmarkTools"
   ]
  },
  {
   "cell_type": "code",
   "execution_count": 2,
   "id": "a74170be",
   "metadata": {},
   "outputs": [
    {
     "data": {
      "text/plain": [
       "cls_meta{Vector{Vector{Int64}}}([[1, 0], [1, 1], [1, 2], [1, 3], [1, 4], [2, 0], [2, 1], [2, 2], [2, 3]], [[1, 0, 1, 0], [1, 1, 1, 1], [1, 2, 1, 2], [1, 3, 1, 3], [1, 4, 1, 4], [1, 0, 2, 0], [1, 0, 2, 1], [1, 0, 2, 2], [1, 0, 2, 3], [1, 1, 2, 0]  …  [2, 0, 2, 0], [2, 0, 2, 1], [2, 0, 2, 2], [2, 0, 2, 3], [2, 1, 2, 1], [2, 1, 2, 2], [2, 1, 2, 3], [2, 2, 2, 2], [2, 2, 2, 3], [2, 3, 2, 3]], [[1, 1], [2, 2], [3, 3], [4, 4], [5, 5], [1, 6], [1, 7], [1, 8], [1, 9], [2, 6]  …  [6, 6], [6, 7], [6, 8], [6, 9], [7, 7], [7, 8], [7, 9], [8, 8], [8, 9], [9, 9]])"
      ]
     },
     "execution_count": 2,
     "metadata": {},
     "output_type": "execute_result"
    }
   ],
   "source": [
    "files = npzread(\"../data/DESY1_cls/Cls_meta.npz\")\n",
    "Cls_meta = cls_meta(files)"
   ]
  },
  {
   "cell_type": "code",
   "execution_count": 3,
   "id": "3a7469ed",
   "metadata": {},
   "outputs": [],
   "source": [
    "cov_tot = files[\"cov\"]\n",
    "inv_cov_tot = files[\"inv_cov\"]\n",
    "data_vector = files[\"cls\"];"
   ]
  },
  {
   "cell_type": "code",
   "execution_count": 4,
   "id": "57fb0a36",
   "metadata": {},
   "outputs": [],
   "source": [
    "#                Omega_b,           Omega_c          n_s,                 h,\n",
    "#                DESgc__0_gc_b,     DESgc__1_gc_b,   DESgc__2_gc_b,    DESgc__3_gc_b,    DESgc__4_gc_b,\n",
    "#                DESgc__0_dz,      DESgc__1_dz,      DESgc__2_dz,      DESgc__3_dz,      DESgc__4_dz,\n",
    "#                wl_ia_A,          wl_ia_eta, \n",
    "#                DESwl__0_wl_m,    DESwl__1_wl_m,    DESwl__2_wl_m,    DESwl__3_wl_m,\n",
    "#                DESwl__0_dz,      DESwl__1_dz,      DESwl__2_dz,      DESwl__3_dz,\n",
    "#                sigma_8,          Omega_m\n",
    "carlos_params1 = [4.426868e-02,     2.093138e-01,     8.963611e-01,     8.495440e-01,\n",
    "                 1.343888e+00,    1.639047e+00,      1.597174e+00,     1.944583e+00,     2.007245e+00,\n",
    "                -4.679383e-03,   -2.839996e-03,      1.771571e-03,     1.197051e-03,    -5.199799e-03,\n",
    "                 2.389208e-01,   -6.435288e-01, \n",
    "                 1.802722e-03,   -5.508994e-03,     1.952514e-02,    -1.117726e-03,\n",
    "                -1.744083e-02,    6.777779e-03,    -1.097939e-03,    -4.912315e-03,\n",
    "                 8.536883e-01,    2.535825e-01];"
   ]
  },
  {
   "cell_type": "code",
   "execution_count": 5,
   "id": "7d1a182c",
   "metadata": {},
   "outputs": [],
   "source": [
    "cls_carlos = npzread(\"/home/jaime/PhD/LimberJack.jl/chains/cl_cross_corr_v3_DES_2/cl_cross_corr_bestfit_info.npz\");"
   ]
  },
  {
   "cell_type": "code",
   "execution_count": 6,
   "id": "417c990f",
   "metadata": {},
   "outputs": [],
   "source": [
    "pars = carlos_params1\n",
    "nuisances = Dict(\"b0\" => pars[5],\n",
    "                 \"b1\" => pars[6],\n",
    "                 \"b2\" => pars[7],\n",
    "                 \"b3\" => pars[8],\n",
    "                 \"b4\" => pars[9],\n",
    "                 \"dz_g0\" => pars[10],\n",
    "                 \"dz_g1\" => pars[11],\n",
    "                 \"dz_g2\" => pars[12],\n",
    "                 \"dz_g3\" => pars[13],\n",
    "                 \"dz_g4\" => pars[14],\n",
    "                 \"dz_k0\" => pars[21],\n",
    "                 \"dz_k1\" => pars[22],\n",
    "                 \"dz_k2\" => pars[23],\n",
    "                 \"dz_k3\" => pars[24],\n",
    "                 \"m0\" => pars[17],\n",
    "                 \"m1\" => pars[18],\n",
    "                 \"m2\" => pars[19],\n",
    "                 \"m3\" => pars[20],\n",
    "                 \"A_IA\" => pars[15],\n",
    "                 \"alpha_IA\" => pars[16]);"
   ]
  },
  {
   "cell_type": "code",
   "execution_count": 7,
   "id": "81b7ac69",
   "metadata": {},
   "outputs": [
    {
     "data": {
      "text/plain": [
       "make_cls (generic function with 1 method)"
      ]
     },
     "execution_count": 7,
     "metadata": {},
     "output_type": "execute_result"
    }
   ],
   "source": [
    "function make_cls(pars; mode=\"linear\")\n",
    "    nuisances = Dict(\"b0\" => pars[5],\n",
    "                     \"b1\" => pars[6],\n",
    "                     \"b2\" => pars[7],\n",
    "                     \"b3\" => pars[8],\n",
    "                     \"b4\" => pars[9],\n",
    "                     \"dz_g0\" => pars[10],\n",
    "                     \"dz_g1\" => pars[11],\n",
    "                     \"dz_g2\" => pars[12],\n",
    "                     \"dz_g3\" => pars[13],\n",
    "                     \"dz_g4\" => pars[14],\n",
    "                     \"dz_k0\" => pars[21],\n",
    "                     \"dz_k1\" => pars[22],\n",
    "                     \"dz_k2\" => pars[23],\n",
    "                     \"dz_k3\" => pars[24],\n",
    "                     \"m0\" => pars[17],\n",
    "                     \"m1\" => pars[18],\n",
    "                     \"m2\" => pars[19],\n",
    "                     \"m3\" => pars[20],\n",
    "                     \"A_IA\" => pars[15],\n",
    "                     \"alpha_IA\" => pars[16])\n",
    "\n",
    "    Ωm = pars[26]\n",
    "    Ωb = pars[1]\n",
    "    h = pars[4]\n",
    "    ns = pars[3]\n",
    "    s8 = pars[25]\n",
    "    cosmology = LimberJack.Cosmology(Ωm, Ωb, h, ns, s8, tk_mode=\"EisHu\", Pk_mode=\"Halofit\")\n",
    "    \n",
    "    if mode==\"linear\"\n",
    "        cls = vcat(Theory(cosmology, nuisances, Cls_meta, files)...)\n",
    "    else\n",
    "        cls = vcat(Theory_parallel(cosmology, nuisances, Cls_meta, files)...)\n",
    "    end\n",
    "    \n",
    "    return cls\n",
    "end"
   ]
  },
  {
   "cell_type": "code",
   "execution_count": 8,
   "id": "a66fb445",
   "metadata": {
    "scrolled": true
   },
   "outputs": [
    {
     "ename": "LoadError",
     "evalue": "UndefVarError: fill_NuisancesPars not defined",
     "output_type": "error",
     "traceback": [
      "UndefVarError: fill_NuisancesPars not defined",
      "",
      "Stacktrace:",
      "  [1] Theory(cosmology::Cosmology, Nuisances::Dict{String, Float64}, cls_meta::cls_meta{Vector{Vector{Int64}}}, files::Dict{String, Array})",
      "    @ LimberJack ~/.julia/packages/LimberJack/z77B0/src/theory.jl:164",
      "  [2] make_cls(pars::Vector{Float64}; mode::String)",
      "    @ Main ./In[7]:31",
      "  [3] var\"##core#398\"()",
      "    @ Main ~/.julia/packages/BenchmarkTools/ms0Xc/src/execution.jl:479",
      "  [4] var\"##sample#399\"(__params::BenchmarkTools.Parameters)",
      "    @ Main ~/.julia/packages/BenchmarkTools/ms0Xc/src/execution.jl:485",
      "  [5] _run(b::BenchmarkTools.Benchmark, p::BenchmarkTools.Parameters; verbose::Bool, pad::String, kwargs::Base.Pairs{Symbol, Integer, NTuple{4, Symbol}, NamedTuple{(:samples, :evals, :gctrial, :gcsample), Tuple{Int64, Int64, Bool, Bool}}})",
      "    @ BenchmarkTools ~/.julia/packages/BenchmarkTools/ms0Xc/src/execution.jl:98",
      "  [6] #invokelatest#2",
      "    @ ./essentials.jl:718 [inlined]",
      "  [7] #run_result#38",
      "    @ ~/.julia/packages/BenchmarkTools/ms0Xc/src/execution.jl:33 [inlined]",
      "  [8] run(b::BenchmarkTools.Benchmark, p::BenchmarkTools.Parameters; progressid::Nothing, nleaves::Float64, ndone::Float64, kwargs::Base.Pairs{Symbol, Integer, NTuple{5, Symbol}, NamedTuple{(:verbose, :samples, :evals, :gctrial, :gcsample), Tuple{Bool, Int64, Int64, Bool, Bool}}})",
      "    @ BenchmarkTools ~/.julia/packages/BenchmarkTools/ms0Xc/src/execution.jl:116",
      "  [9] #warmup#47",
      "    @ ~/.julia/packages/BenchmarkTools/ms0Xc/src/execution.jl:168 [inlined]",
      " [10] warmup(item::BenchmarkTools.Benchmark)",
      "    @ BenchmarkTools ~/.julia/packages/BenchmarkTools/ms0Xc/src/execution.jl:168",
      " [11] top-level scope",
      "    @ ~/.julia/packages/BenchmarkTools/ms0Xc/src/execution.jl:387",
      " [12] eval",
      "    @ ./boot.jl:373 [inlined]",
      " [13] include_string(mapexpr::typeof(REPL.softscope), mod::Module, code::String, filename::String)",
      "    @ Base ./loading.jl:1196"
     ]
    }
   ],
   "source": [
    "@benchmark make_cls(carlos_params1, mode=\"linear\")"
   ]
  },
  {
   "cell_type": "code",
   "execution_count": 9,
   "id": "4de699a5",
   "metadata": {
    "scrolled": true
   },
   "outputs": [
    {
     "ename": "LoadError",
     "evalue": "UndefVarError: fill_NuisancesPars not defined",
     "output_type": "error",
     "traceback": [
      "UndefVarError: fill_NuisancesPars not defined",
      "",
      "Stacktrace:",
      "  [1] Theory_parallel(cosmology::Cosmology, Nuisances::Dict{String, Float64}, cls_meta::cls_meta{Vector{Vector{Int64}}}, files::Dict{String, Array})",
      "    @ LimberJack ~/.julia/packages/LimberJack/z77B0/src/theory.jl:204",
      "  [2] make_cls(pars::Vector{Float64}; mode::String)",
      "    @ Main ./In[7]:33",
      "  [3] var\"##core#793\"()",
      "    @ Main ~/.julia/packages/BenchmarkTools/ms0Xc/src/execution.jl:479",
      "  [4] var\"##sample#794\"(__params::BenchmarkTools.Parameters)",
      "    @ Main ~/.julia/packages/BenchmarkTools/ms0Xc/src/execution.jl:485",
      "  [5] _run(b::BenchmarkTools.Benchmark, p::BenchmarkTools.Parameters; verbose::Bool, pad::String, kwargs::Base.Pairs{Symbol, Integer, NTuple{4, Symbol}, NamedTuple{(:samples, :evals, :gctrial, :gcsample), Tuple{Int64, Int64, Bool, Bool}}})",
      "    @ BenchmarkTools ~/.julia/packages/BenchmarkTools/ms0Xc/src/execution.jl:98",
      "  [6] #invokelatest#2",
      "    @ ./essentials.jl:718 [inlined]",
      "  [7] #run_result#38",
      "    @ ~/.julia/packages/BenchmarkTools/ms0Xc/src/execution.jl:33 [inlined]",
      "  [8] run(b::BenchmarkTools.Benchmark, p::BenchmarkTools.Parameters; progressid::Nothing, nleaves::Float64, ndone::Float64, kwargs::Base.Pairs{Symbol, Integer, NTuple{5, Symbol}, NamedTuple{(:verbose, :samples, :evals, :gctrial, :gcsample), Tuple{Bool, Int64, Int64, Bool, Bool}}})",
      "    @ BenchmarkTools ~/.julia/packages/BenchmarkTools/ms0Xc/src/execution.jl:116",
      "  [9] #warmup#47",
      "    @ ~/.julia/packages/BenchmarkTools/ms0Xc/src/execution.jl:168 [inlined]",
      " [10] warmup(item::BenchmarkTools.Benchmark)",
      "    @ BenchmarkTools ~/.julia/packages/BenchmarkTools/ms0Xc/src/execution.jl:168",
      " [11] top-level scope",
      "    @ ~/.julia/packages/BenchmarkTools/ms0Xc/src/execution.jl:387",
      " [12] eval",
      "    @ ./boot.jl:373 [inlined]",
      " [13] include_string(mapexpr::typeof(REPL.softscope), mod::Module, code::String, filename::String)",
      "    @ Base ./loading.jl:1196"
     ]
    }
   ],
   "source": [
    "@benchmark make_cls(carlos_params1, mode=\"parallel\")"
   ]
  },
  {
   "cell_type": "code",
   "execution_count": 10,
   "id": "565bb0a6",
   "metadata": {
    "scrolled": true
   },
   "outputs": [
    {
     "ename": "LoadError",
     "evalue": "UndefVarError: fill_NuisancesPars not defined",
     "output_type": "error",
     "traceback": [
      "UndefVarError: fill_NuisancesPars not defined",
      "",
      "Stacktrace:",
      " [1] Theory(cosmology::Cosmology, Nuisances::Dict{String, Float64}, cls_meta::cls_meta{Vector{Vector{Int64}}}, files::Dict{String, Array})",
      "   @ LimberJack ~/.julia/packages/LimberJack/z77B0/src/theory.jl:164",
      " [2] make_cls(pars::Vector{Float64}; mode::String)",
      "   @ Main ./In[7]:31",
      " [3] top-level scope",
      "   @ In[10]:1",
      " [4] eval",
      "   @ ./boot.jl:373 [inlined]",
      " [5] include_string(mapexpr::typeof(REPL.softscope), mod::Module, code::String, filename::String)",
      "   @ Base ./loading.jl:1196"
     ]
    }
   ],
   "source": [
    "cls_jaime1 = make_cls(carlos_params1, mode=\"linear\");"
   ]
  },
  {
   "cell_type": "code",
   "execution_count": 11,
   "id": "0784dced",
   "metadata": {
    "scrolled": true
   },
   "outputs": [
    {
     "ename": "LoadError",
     "evalue": "UndefVarError: fill_NuisancesPars not defined",
     "output_type": "error",
     "traceback": [
      "UndefVarError: fill_NuisancesPars not defined",
      "",
      "Stacktrace:",
      " [1] Theory_parallel(cosmology::Cosmology, Nuisances::Dict{String, Float64}, cls_meta::cls_meta{Vector{Vector{Int64}}}, files::Dict{String, Array})",
      "   @ LimberJack ~/.julia/packages/LimberJack/z77B0/src/theory.jl:204",
      " [2] make_cls(pars::Vector{Float64}; mode::String)",
      "   @ Main ./In[7]:33",
      " [3] top-level scope",
      "   @ In[11]:1",
      " [4] eval",
      "   @ ./boot.jl:373 [inlined]",
      " [5] include_string(mapexpr::typeof(REPL.softscope), mod::Module, code::String, filename::String)",
      "   @ Base ./loading.jl:1196"
     ]
    }
   ],
   "source": [
    "cls_jaime2 = make_cls(carlos_params1, mode=\"parallel\");"
   ]
  },
  {
   "cell_type": "code",
   "execution_count": 12,
   "id": "b3fede1b",
   "metadata": {},
   "outputs": [
    {
     "ename": "LoadError",
     "evalue": "UndefVarError: cls_jaime1 not defined",
     "output_type": "error",
     "traceback": [
      "UndefVarError: cls_jaime1 not defined",
      "",
      "Stacktrace:",
      " [1] top-level scope",
      "   @ In[12]:1",
      " [2] eval",
      "   @ ./boot.jl:373 [inlined]",
      " [3] include_string(mapexpr::typeof(REPL.softscope), mod::Module, code::String, filename::String)",
      "   @ Base ./loading.jl:1196"
     ]
    }
   ],
   "source": [
    "compa1 = @. abs(cls_carlos[\"cls\"]-cls_jaime1)/cls_carlos[\"cls\"];"
   ]
  },
  {
   "cell_type": "code",
   "execution_count": 13,
   "id": "652d919c",
   "metadata": {},
   "outputs": [
    {
     "ename": "LoadError",
     "evalue": "UndefVarError: cls_jaime1 not defined",
     "output_type": "error",
     "traceback": [
      "UndefVarError: cls_jaime1 not defined",
      "",
      "Stacktrace:",
      " [1] top-level scope",
      "   @ In[13]:2",
      " [2] eval",
      "   @ ./boot.jl:373 [inlined]",
      " [3] include_string(mapexpr::typeof(REPL.softscope), mod::Module, code::String, filename::String)",
      "   @ Base ./loading.jl:1196"
     ]
    }
   ],
   "source": [
    "err = diag(cov_tot)\n",
    "loss_jaime1 = @. abs(data_vector .- cls_jaime1) ./ err ;\n",
    "loss_carlos = @. abs(data_vector .- cls_carlos[\"cls\"]) ./ err ;"
   ]
  },
  {
   "cell_type": "code",
   "execution_count": 14,
   "id": "98004bb5",
   "metadata": {},
   "outputs": [
    {
     "data": {
      "text/plain": [
       "-503.9984892644933"
      ]
     },
     "execution_count": 14,
     "metadata": {},
     "output_type": "execute_result"
    }
   ],
   "source": [
    "chi2_carlos = cls_carlos[\"chi2\"]"
   ]
  },
  {
   "cell_type": "code",
   "execution_count": 15,
   "id": "b5075df6",
   "metadata": {},
   "outputs": [
    {
     "ename": "LoadError",
     "evalue": "UndefVarError: cls_jaime1 not defined",
     "output_type": "error",
     "traceback": [
      "UndefVarError: cls_jaime1 not defined",
      "",
      "Stacktrace:",
      " [1] top-level scope",
      "   @ In[15]:1",
      " [2] eval",
      "   @ ./boot.jl:373 [inlined]",
      " [3] include_string(mapexpr::typeof(REPL.softscope), mod::Module, code::String, filename::String)",
      "   @ Base ./loading.jl:1196"
     ]
    }
   ],
   "source": [
    "chi2_jaime1 = - dot((cls_jaime1 .- data_vector), inv_cov_tot  * (cls_jaime1 .- data_vector))\n",
    "chi2_jaime2 = - dot((cls_jaime2 .- data_vector), inv_cov_tot  * (cls_jaime2 .- data_vector))\n",
    "println(chi2_jaime1)\n",
    "println(chi2_jaime2)"
   ]
  },
  {
   "cell_type": "code",
   "execution_count": 16,
   "id": "6945f71a",
   "metadata": {
    "scrolled": false
   },
   "outputs": [
    {
     "ename": "LoadError",
     "evalue": "UndefVarError: compa1 not defined",
     "output_type": "error",
     "traceback": [
      "UndefVarError: compa1 not defined",
      "",
      "Stacktrace:",
      " [1] top-level scope",
      "   @ In[16]:1",
      " [2] eval",
      "   @ ./boot.jl:373 [inlined]",
      " [3] include_string(mapexpr::typeof(REPL.softscope), mod::Module, code::String, filename::String)",
      "   @ Base ./loading.jl:1196"
     ]
    }
   ],
   "source": [
    "plot(compa1, label=\"(Carlos-Jaime1)/Carlos\")"
   ]
  },
  {
   "cell_type": "code",
   "execution_count": 19,
   "id": "7325f732",
   "metadata": {},
   "outputs": [],
   "source": [
    "@model function model(data_vector::Vector{Float64})\n",
    "    Ωm ~ Uniform(0.1, 0.5)\n",
    "    h = 0.67 #~ Uniform(0.6, 0.8)\n",
    "    s8 ~ Uniform(0.6, 1.0)\n",
    "    \n",
    "    b0 = 1.41 #~ Uniform(1.0, 3.0)\n",
    "    b1 = 1.62 #~ Uniform(1.0, 3.0)\n",
    "    b2 = 1.60 #~ Uniform(1.0, 3.0)\n",
    "    b3 = 1.92 #~ Uniform(1.0, 3.0)\n",
    "    b4 = 2.00 #~ Uniform(1.0, 3.0)\n",
    "    \n",
    "    nuisances = Dict(\"b0\" => b0,\n",
    "                     \"b1\" => b1,\n",
    "                     \"b2\" => b2,\n",
    "                     \"b3\" => b3,\n",
    "                     \"b4\" => b4)\n",
    "    \n",
    "    cosmology = LimberJack.Cosmology(Ωm, 0.05, h, 0.96, s8,\n",
    "                                     tk_mode=\"EisHu\",\n",
    "                                     Pk_mode=\"Halofit\")\n",
    "    \n",
    "    theory = vcat(Theory(cosmology, nuisances, Cls_meta, files)...)\n",
    "    data_vector ~ MvNormal(theory, cov_tot)\n",
    "    return data_vector\n",
    "end;"
   ]
  },
  {
   "cell_type": "code",
   "execution_count": 20,
   "id": "b1e638d3",
   "metadata": {},
   "outputs": [],
   "source": [
    "@model function model_parallel(data_vector::Vector{Float64})\n",
    "    Ωm ~ Uniform(0.1, 0.5)\n",
    "    h = 0.67 #~ Uniform(0.6, 0.8)\n",
    "    s8 ~ Uniform(0.6, 1.0)\n",
    "    \n",
    "    b0 = 1.41 #~ Uniform(1.0, 3.0)\n",
    "    b1 = 1.62 #~ Uniform(1.0, 3.0)\n",
    "    b2 = 1.60 #~ Uniform(1.0, 3.0)\n",
    "    b3 = 1.92 #~ Uniform(1.0, 3.0)\n",
    "    b4 = 2.00 #~ Uniform(1.0, 3.0)\n",
    "    \n",
    "    nuisances = Dict(\"b0\" => b0,\n",
    "                     \"b1\" => b1,\n",
    "                     \"b2\" => b2,\n",
    "                     \"b3\" => b3,\n",
    "                     \"b4\" => b4)\n",
    "    \n",
    "    cosmology = LimberJack.Cosmology(Ωm, 0.05, h, 0.96, s8,\n",
    "                                     tk_mode=\"EisHu\",\n",
    "                                     Pk_mode=\"Halofit\")\n",
    "    \n",
    "    theory = vcat(Theory_parallel(cosmology, nuisances, Cls_meta, files)...)\n",
    "    data_vector ~ MvNormal(theory, cov_tot)\n",
    "    return data_vector\n",
    "end;"
   ]
  },
  {
   "cell_type": "code",
   "execution_count": 21,
   "id": "140ac55c",
   "metadata": {},
   "outputs": [
    {
     "name": "stderr",
     "output_type": "stream",
     "text": [
      "\u001b[32mSampling: 100%|█████████████████████████████████████████| Time: 0:00:28\u001b[39m\n"
     ]
    },
    {
     "ename": "LoadError",
     "evalue": "InterruptException:",
     "output_type": "error",
     "traceback": [
      "InterruptException:",
      "",
      "Stacktrace:",
      "  [1] evalrule(f::LimberJack.var\"#16#20\"{Int64, LimberJack.var\"#w_itg#18\"{Cosmology, Interpolations.FilledExtrapolation{Float64, 1, Interpolations.GriddedInterpolation{Float64, 1, Float64, Interpolations.Gridded{Interpolations.Linear}, Tuple{Vector{Float64}}}, Interpolations.Gridded{Interpolations.Linear}, Int64}}, Vector{Float64}}, a::Float64, b::Float64, x::Vector{Float64}, w::Vector{Float64}, gw::Vector{Float64}, nrm::typeof(norm))",
      "    @ QuadGK ~/.julia/packages/QuadGK/ENhXl/src/evalrule.jl:22",
      "  [2] adapt(f::Function, segs::Vector{QuadGK.Segment{Float64, Float64, Float64}}, I::Float64, E::Float64, numevals::Int64, x::Vector{Float64}, w::Vector{Float64}, gw::Vector{Float64}, n::Int64, atol::Float64, rtol::Float64, maxevals::Int64, nrm::typeof(norm))",
      "    @ QuadGK ~/.julia/packages/QuadGK/ENhXl/src/adapt.jl:45",
      "  [3] do_quadgk(f::LimberJack.var\"#16#20\"{Int64, LimberJack.var\"#w_itg#18\"{Cosmology, Interpolations.FilledExtrapolation{Float64, 1, Interpolations.GriddedInterpolation{Float64, 1, Float64, Interpolations.Gridded{Interpolations.Linear}, Tuple{Vector{Float64}}}, Interpolations.Gridded{Interpolations.Linear}, Int64}}, Vector{Float64}}, s::Tuple{Float64, Float64}, n::Int64, atol::Nothing, rtol::Float64, maxevals::Int64, nrm::typeof(norm))",
      "    @ QuadGK ~/.julia/packages/QuadGK/ENhXl/src/adapt.jl:35",
      "  [4] #28",
      "    @ ~/.julia/packages/QuadGK/ENhXl/src/adapt.jl:179 [inlined]",
      "  [5] handle_infinities(workfunc::QuadGK.var\"#28#29\"{Nothing, Float64, Int64, Int64, typeof(norm)}, f::LimberJack.var\"#16#20\"{Int64, LimberJack.var\"#w_itg#18\"{Cosmology, Interpolations.FilledExtrapolation{Float64, 1, Interpolations.GriddedInterpolation{Float64, 1, Float64, Interpolations.Gridded{Interpolations.Linear}, Tuple{Vector{Float64}}}, Interpolations.Gridded{Interpolations.Linear}, Int64}}, Vector{Float64}}, s::Tuple{Float64, Float64})",
      "    @ QuadGK ~/.julia/packages/QuadGK/ENhXl/src/adapt.jl:113",
      "  [6] #quadgk#27",
      "    @ ~/.julia/packages/QuadGK/ENhXl/src/adapt.jl:177 [inlined]",
      "  [7] (::LimberJack.var\"#15#19\"{Vector{Float64}, LimberJack.var\"#w_itg#18\"{Cosmology, Interpolations.FilledExtrapolation{Float64, 1, Interpolations.GriddedInterpolation{Float64, 1, Float64, Interpolations.Gridded{Interpolations.Linear}, Tuple{Vector{Float64}}}, Interpolations.Gridded{Interpolations.Linear}, Int64}}, Vector{Float64}, StepRangeLen{Float64, Base.TwicePrecision{Float64}, Base.TwicePrecision{Float64}, Int64}})(i::Int64)",
      "    @ LimberJack ./none:0",
      "  [8] iterate",
      "    @ ./generator.jl:47 [inlined]",
      "  [9] collect_to!(dest::Vector{Float64}, itr::Base.Generator{UnitRange{Int64}, LimberJack.var\"#15#19\"{Vector{Float64}, LimberJack.var\"#w_itg#18\"{Cosmology, Interpolations.FilledExtrapolation{Float64, 1, Interpolations.GriddedInterpolation{Float64, 1, Float64, Interpolations.Gridded{Interpolations.Linear}, Tuple{Vector{Float64}}}, Interpolations.Gridded{Interpolations.Linear}, Int64}}, Vector{Float64}, StepRangeLen{Float64, Base.TwicePrecision{Float64}, Base.TwicePrecision{Float64}, Int64}}}, offs::Int64, st::Int64)",
      "    @ Base ./array.jl:782",
      " [10] collect_to_with_first!(dest::Vector{Float64}, v1::Float64, itr::Base.Generator{UnitRange{Int64}, LimberJack.var\"#15#19\"{Vector{Float64}, LimberJack.var\"#w_itg#18\"{Cosmology, Interpolations.FilledExtrapolation{Float64, 1, Interpolations.GriddedInterpolation{Float64, 1, Float64, Interpolations.Gridded{Interpolations.Linear}, Tuple{Vector{Float64}}}, Interpolations.Gridded{Interpolations.Linear}, Int64}}, Vector{Float64}, StepRangeLen{Float64, Base.TwicePrecision{Float64}, Base.TwicePrecision{Float64}, Int64}}}, st::Int64)",
      "    @ Base ./array.jl:760",
      " [11] collect(itr::Base.Generator{UnitRange{Int64}, LimberJack.var\"#15#19\"{Vector{Float64}, LimberJack.var\"#w_itg#18\"{Cosmology, Interpolations.FilledExtrapolation{Float64, 1, Interpolations.GriddedInterpolation{Float64, 1, Float64, Interpolations.Gridded{Interpolations.Linear}, Tuple{Vector{Float64}}}, Interpolations.Gridded{Interpolations.Linear}, Int64}}, Vector{Float64}, StepRangeLen{Float64, Base.TwicePrecision{Float64}, Base.TwicePrecision{Float64}, Int64}}})",
      "    @ Base ./array.jl:734",
      " [12] WeakLensingTracer(cosmo::Cosmology, z_n::Vector{Float64}, nz::Vector{Float64}; mbias::Float64, IA_params::Vector{Float64})",
      "    @ LimberJack ~/.julia/packages/LimberJack/44tu1/src/tracers.jl:44",
      " [13] Theory(cosmology::Cosmology, Nuisances::Dict{String, Float64}, cls_meta::cls_meta{Vector{Vector{Int64}}}, files::Dict{String, Array})",
      "    @ LimberJack ~/.julia/packages/LimberJack/44tu1/src/theory.jl:63",
      " [14] #6",
      "    @ ./In[19]:22 [inlined]",
      " [15] (::var\"#6#7\")(__rng__::Random._GLOBAL_RNG, __model__::DynamicPPL.Model{var\"#6#7\", (:data_vector,), (), (), Tuple{Vector{Float64}}, Tuple{}}, __varinfo__::DynamicPPL.ThreadSafeVarInfo{DynamicPPL.TypedVarInfo{NamedTuple{(:Ωm, :s8), Tuple{DynamicPPL.Metadata{Dict{AbstractPPL.VarName{:Ωm, Tuple{}}, Int64}, Vector{Uniform{Float64}}, Vector{AbstractPPL.VarName{:Ωm, Tuple{}}}, Vector{Float64}, Vector{Set{DynamicPPL.Selector}}}, DynamicPPL.Metadata{Dict{AbstractPPL.VarName{:s8, Tuple{}}, Int64}, Vector{Uniform{Float64}}, Vector{AbstractPPL.VarName{:s8, Tuple{}}}, Vector{Float64}, Vector{Set{DynamicPPL.Selector}}}}}, Float64}, Vector{Base.RefValue{Float64}}}, __sampler__::DynamicPPL.SampleFromPrior, __context__::DynamicPPL.DefaultContext, data_vector::Vector{Float64})",
      "    @ Main ./none:0",
      " [16] macro expansion",
      "    @ ~/.julia/packages/DynamicPPL/SgzCy/src/model.jl:0 [inlined]",
      " [17] _evaluate",
      "    @ ~/.julia/packages/DynamicPPL/SgzCy/src/model.jl:154 [inlined]",
      " [18] evaluate_threadsafe(rng::Random._GLOBAL_RNG, model::DynamicPPL.Model{var\"#6#7\", (:data_vector,), (), (), Tuple{Vector{Float64}}, Tuple{}}, varinfo::DynamicPPL.TypedVarInfo{NamedTuple{(:Ωm, :s8), Tuple{DynamicPPL.Metadata{Dict{AbstractPPL.VarName{:Ωm, Tuple{}}, Int64}, Vector{Uniform{Float64}}, Vector{AbstractPPL.VarName{:Ωm, Tuple{}}}, Vector{Float64}, Vector{Set{DynamicPPL.Selector}}}, DynamicPPL.Metadata{Dict{AbstractPPL.VarName{:s8, Tuple{}}, Int64}, Vector{Uniform{Float64}}, Vector{AbstractPPL.VarName{:s8, Tuple{}}}, Vector{Float64}, Vector{Set{DynamicPPL.Selector}}}}}, Float64}, sampler::DynamicPPL.SampleFromPrior, context::DynamicPPL.DefaultContext)",
      "    @ DynamicPPL ~/.julia/packages/DynamicPPL/SgzCy/src/model.jl:144",
      " [19] Model",
      "    @ ~/.julia/packages/DynamicPPL/SgzCy/src/model.jl:94 [inlined]",
      " [20] Model",
      "    @ ~/.julia/packages/DynamicPPL/SgzCy/src/model.jl:91 [inlined]",
      " [21] Model",
      "    @ ~/.julia/packages/DynamicPPL/SgzCy/src/model.jl:98 [inlined]",
      " [22] (::Turing.Inference.MHLogDensityFunction{DynamicPPL.Model{var\"#6#7\", (:data_vector,), (), (), Tuple{Vector{Float64}}, Tuple{}}, DynamicPPL.Sampler{MH{(), NamedTuple{(), Tuple{}}}}, DynamicPPL.TypedVarInfo{NamedTuple{(:Ωm, :s8), Tuple{DynamicPPL.Metadata{Dict{AbstractPPL.VarName{:Ωm, Tuple{}}, Int64}, Vector{Uniform{Float64}}, Vector{AbstractPPL.VarName{:Ωm, Tuple{}}}, Vector{Float64}, Vector{Set{DynamicPPL.Selector}}}, DynamicPPL.Metadata{Dict{AbstractPPL.VarName{:s8, Tuple{}}, Int64}, Vector{Uniform{Float64}}, Vector{AbstractPPL.VarName{:s8, Tuple{}}}, Vector{Float64}, Vector{Set{DynamicPPL.Selector}}}}}, Float64}})(x::NamedTuple{(:Ωm, :s8), Tuple{Float64, Float64}})",
      "    @ Turing.Inference ~/.julia/packages/Turing/uAz5c/src/inference/mh.jl:257",
      " [23] logdensity",
      "    @ ~/.julia/packages/AdvancedMH/OtXed/src/AdvancedMH.jl:52 [inlined]",
      " [24] Transition",
      "    @ ~/.julia/packages/AdvancedMH/OtXed/src/AdvancedMH.jl:49 [inlined]",
      " [25] propose",
      "    @ ~/.julia/packages/AdvancedMH/OtXed/src/mh-core.jl:113 [inlined]",
      " [26] step(rng::Random._GLOBAL_RNG, model::AdvancedMH.DensityModel{Turing.Inference.MHLogDensityFunction{DynamicPPL.Model{var\"#6#7\", (:data_vector,), (), (), Tuple{Vector{Float64}}, Tuple{}}, DynamicPPL.Sampler{MH{(), NamedTuple{(), Tuple{}}}}, DynamicPPL.TypedVarInfo{NamedTuple{(:Ωm, :s8), Tuple{DynamicPPL.Metadata{Dict{AbstractPPL.VarName{:Ωm, Tuple{}}, Int64}, Vector{Uniform{Float64}}, Vector{AbstractPPL.VarName{:Ωm, Tuple{}}}, Vector{Float64}, Vector{Set{DynamicPPL.Selector}}}, DynamicPPL.Metadata{Dict{AbstractPPL.VarName{:s8, Tuple{}}, Int64}, Vector{Uniform{Float64}}, Vector{AbstractPPL.VarName{:s8, Tuple{}}}, Vector{Float64}, Vector{Set{DynamicPPL.Selector}}}}}, Float64}}}, spl::AdvancedMH.MetropolisHastings{NamedTuple{(:Ωm, :s8), Tuple{AdvancedMH.StaticProposal{Uniform{Float64}}, AdvancedMH.StaticProposal{Uniform{Float64}}}}}, params_prev::AdvancedMH.Transition{NamedTuple{(:Ωm, :s8), Tuple{Float64, Float64}}, Float64}; kwargs::Base.Pairs{Symbol, Union{}, Tuple{}, NamedTuple{(), Tuple{}}})",
      "    @ AdvancedMH ~/.julia/packages/AdvancedMH/OtXed/src/mh-core.jl:231",
      " [27] step(rng::Random._GLOBAL_RNG, model::AdvancedMH.DensityModel{Turing.Inference.MHLogDensityFunction{DynamicPPL.Model{var\"#6#7\", (:data_vector,), (), (), Tuple{Vector{Float64}}, Tuple{}}, DynamicPPL.Sampler{MH{(), NamedTuple{(), Tuple{}}}}, DynamicPPL.TypedVarInfo{NamedTuple{(:Ωm, :s8), Tuple{DynamicPPL.Metadata{Dict{AbstractPPL.VarName{:Ωm, Tuple{}}, Int64}, Vector{Uniform{Float64}}, Vector{AbstractPPL.VarName{:Ωm, Tuple{}}}, Vector{Float64}, Vector{Set{DynamicPPL.Selector}}}, DynamicPPL.Metadata{Dict{AbstractPPL.VarName{:s8, Tuple{}}, Int64}, Vector{Uniform{Float64}}, Vector{AbstractPPL.VarName{:s8, Tuple{}}}, Vector{Float64}, Vector{Set{DynamicPPL.Selector}}}}}, Float64}}}, spl::AdvancedMH.MetropolisHastings{NamedTuple{(:Ωm, :s8), Tuple{AdvancedMH.StaticProposal{Uniform{Float64}}, AdvancedMH.StaticProposal{Uniform{Float64}}}}}, params_prev::AdvancedMH.Transition{NamedTuple{(:Ωm, :s8), Tuple{Float64, Float64}}, Float64})",
      "    @ AdvancedMH ~/.julia/packages/AdvancedMH/OtXed/src/mh-core.jl:231",
      " [28] propose!(rng::Random._GLOBAL_RNG, vi::DynamicPPL.TypedVarInfo{NamedTuple{(:Ωm, :s8), Tuple{DynamicPPL.Metadata{Dict{AbstractPPL.VarName{:Ωm, Tuple{}}, Int64}, Vector{Uniform{Float64}}, Vector{AbstractPPL.VarName{:Ωm, Tuple{}}}, Vector{Float64}, Vector{Set{DynamicPPL.Selector}}}, DynamicPPL.Metadata{Dict{AbstractPPL.VarName{:s8, Tuple{}}, Int64}, Vector{Uniform{Float64}}, Vector{AbstractPPL.VarName{:s8, Tuple{}}}, Vector{Float64}, Vector{Set{DynamicPPL.Selector}}}}}, Float64}, model::DynamicPPL.Model{var\"#6#7\", (:data_vector,), (), (), Tuple{Vector{Float64}}, Tuple{}}, spl::DynamicPPL.Sampler{MH{(), NamedTuple{(), Tuple{}}}}, proposal::NamedTuple{(), Tuple{}})",
      "    @ Turing.Inference ~/.julia/packages/Turing/uAz5c/src/inference/mh.jl:359",
      " [29] #step#63",
      "    @ ~/.julia/packages/Turing/uAz5c/src/inference/mh.jl:424 [inlined]",
      " [30] macro expansion",
      "    @ ~/.julia/packages/AbstractMCMC/oou1a/src/sample.jl:140 [inlined]",
      " [31] macro expansion",
      "    @ ~/.julia/packages/ProgressLogging/6KXlp/src/ProgressLogging.jl:328 [inlined]",
      " [32] (::AbstractMCMC.var\"#20#21\"{Bool, String, Nothing, Int64, Int64, Base.Pairs{Symbol, Integer, Tuple{Symbol, Symbol}, NamedTuple{(:nadapt, :save_state), Tuple{Int64, Bool}}}, Random._GLOBAL_RNG, DynamicPPL.Model{var\"#6#7\", (:data_vector,), (), (), Tuple{Vector{Float64}}, Tuple{}}, DynamicPPL.Sampler{MH{(), NamedTuple{(), Tuple{}}}}, Int64, Int64})()",
      "    @ AbstractMCMC ~/.julia/packages/AbstractMCMC/oou1a/src/logging.jl:11",
      " [33] with_logstate(f::Function, logstate::Any)",
      "    @ Base.CoreLogging ./logging.jl:511",
      " [34] with_logger(f::Function, logger::LoggingExtras.TeeLogger{Tuple{LoggingExtras.EarlyFilteredLogger{ConsoleProgressMonitor.ProgressLogger, AbstractMCMC.var\"#1#3\"{Module}}, LoggingExtras.EarlyFilteredLogger{Base.CoreLogging.SimpleLogger, AbstractMCMC.var\"#2#4\"{Module}}}})",
      "    @ Base.CoreLogging ./logging.jl:623",
      " [35] with_progresslogger(f::Function, _module::Module, logger::Base.CoreLogging.SimpleLogger)",
      "    @ AbstractMCMC ~/.julia/packages/AbstractMCMC/oou1a/src/logging.jl:34",
      " [36] macro expansion",
      "    @ ~/.julia/packages/AbstractMCMC/oou1a/src/logging.jl:10 [inlined]",
      " [37] mcmcsample(rng::Random._GLOBAL_RNG, model::DynamicPPL.Model{var\"#6#7\", (:data_vector,), (), (), Tuple{Vector{Float64}}, Tuple{}}, sampler::DynamicPPL.Sampler{MH{(), NamedTuple{(), Tuple{}}}}, N::Int64; progress::Bool, progressname::String, callback::Nothing, discard_initial::Int64, thinning::Int64, chain_type::Type, kwargs::Base.Pairs{Symbol, Integer, Tuple{Symbol, Symbol}, NamedTuple{(:nadapt, :save_state), Tuple{Int64, Bool}}})",
      "    @ AbstractMCMC ~/.julia/packages/AbstractMCMC/oou1a/src/sample.jl:88",
      " [38] sample(rng::Random._GLOBAL_RNG, model::DynamicPPL.Model{var\"#6#7\", (:data_vector,), (), (), Tuple{Vector{Float64}}, Tuple{}}, sampler::DynamicPPL.Sampler{MH{(), NamedTuple{(), Tuple{}}}}, N::Int64; chain_type::Type, resume_from::Nothing, progress::Bool, kwargs::Base.Pairs{Symbol, Integer, Tuple{Symbol, Symbol}, NamedTuple{(:nadapt, :save_state), Tuple{Int64, Bool}}})",
      "    @ Turing.Inference ~/.julia/packages/Turing/uAz5c/src/inference/Inference.jl:156",
      " [39] #sample#2",
      "    @ ~/.julia/packages/Turing/uAz5c/src/inference/Inference.jl:142 [inlined]",
      " [40] #sample#1",
      "    @ ~/.julia/packages/Turing/uAz5c/src/inference/Inference.jl:132 [inlined]",
      " [41] top-level scope",
      "    @ In[21]:4",
      " [42] eval",
      "    @ ./boot.jl:373 [inlined]",
      " [43] include_string(mapexpr::typeof(REPL.softscope), mod::Module, code::String, filename::String)",
      "    @ Base ./loading.jl:1196"
     ]
    }
   ],
   "source": [
    "iterations = 300\n",
    "nadapts = 100\n",
    "\n",
    "chain1 = sample(model(data_vector), MH(), iterations,\n",
    "            nadapt=nadapts, progress=true; save_state=true);"
   ]
  },
  {
   "cell_type": "code",
   "execution_count": 23,
   "id": "e6b2a81c",
   "metadata": {},
   "outputs": [
    {
     "ename": "LoadError",
     "evalue": "InterruptException:",
     "output_type": "error",
     "traceback": [
      "InterruptException:",
      "",
      "Stacktrace:",
      "  [1] Array",
      "    @ ./boot.jl:459 [inlined]",
      "  [2] similar",
      "    @ ./array.jl:376 [inlined]",
      "  [3] AbstractArray",
      "    @ ./array.jl:564 [inlined]",
      "  [4] AbstractArray",
      "    @ ./boot.jl:484 [inlined]",
      "  [5] convert",
      "    @ ./abstractarray.jl:17 [inlined]",
      "  [6] convert",
      "    @ ~/.julia/packages/PDMats/G0Prn/src/pdmat.jl:24 [inlined]",
      "  [7] convert",
      "    @ ~/.julia/packages/PDMats/G0Prn/src/pdmat.jl:25 [inlined]",
      "  [8] MvNormal(μ::Vector{Real}, Σ::PDMats.PDMat{Float64, Matrix{Float64}}) (repeats 1487 times)",
      "    @ Distributions ~/.julia/packages/Distributions/jFoHB/src/multivariate/mvnormal.jl:202",
      "  [9] MvNormal(μ::Vector{Real}, Σ::Matrix{Float64})",
      "    @ Distributions ~/.julia/packages/Distributions/jFoHB/src/multivariate/mvnormal.jl:211",
      " [10] #8",
      "    @ ./In[20]:23 [inlined]",
      " [11] (::var\"#8#9\")(__rng__::Random._GLOBAL_RNG, __model__::DynamicPPL.Model{var\"#8#9\", (:data_vector,), (), (), Tuple{Vector{Float64}}, Tuple{}}, __varinfo__::DynamicPPL.ThreadSafeVarInfo{DynamicPPL.UntypedVarInfo{DynamicPPL.Metadata{Dict{AbstractPPL.VarName, Int64}, Vector{Distribution}, Vector{AbstractPPL.VarName}, Vector{Real}, Vector{Set{DynamicPPL.Selector}}}, Float64}, Vector{Base.RefValue{Float64}}}, __sampler__::DynamicPPL.SampleFromPrior, __context__::DynamicPPL.DefaultContext, data_vector::Vector{Float64})",
      "    @ Main ./none:0",
      " [12] macro expansion",
      "    @ ~/.julia/packages/DynamicPPL/SgzCy/src/model.jl:0 [inlined]",
      " [13] _evaluate",
      "    @ ~/.julia/packages/DynamicPPL/SgzCy/src/model.jl:154 [inlined]",
      " [14] evaluate_threadsafe(rng::Random._GLOBAL_RNG, model::DynamicPPL.Model{var\"#8#9\", (:data_vector,), (), (), Tuple{Vector{Float64}}, Tuple{}}, varinfo::DynamicPPL.UntypedVarInfo{DynamicPPL.Metadata{Dict{AbstractPPL.VarName, Int64}, Vector{Distribution}, Vector{AbstractPPL.VarName}, Vector{Real}, Vector{Set{DynamicPPL.Selector}}}, Float64}, sampler::DynamicPPL.SampleFromPrior, context::DynamicPPL.DefaultContext)",
      "    @ DynamicPPL ~/.julia/packages/DynamicPPL/SgzCy/src/model.jl:144",
      " [15] Model",
      "    @ ~/.julia/packages/DynamicPPL/SgzCy/src/model.jl:94 [inlined]",
      " [16] VarInfo",
      "    @ ~/.julia/packages/DynamicPPL/SgzCy/src/varinfo.jl:126 [inlined]",
      " [17] VarInfo",
      "    @ ~/.julia/packages/DynamicPPL/SgzCy/src/varinfo.jl:125 [inlined]",
      " [18] step(rng::Random._GLOBAL_RNG, model::DynamicPPL.Model{var\"#8#9\", (:data_vector,), (), (), Tuple{Vector{Float64}}, Tuple{}}, spl::DynamicPPL.Sampler{MH{(), NamedTuple{(), Tuple{}}}}; resume_from::Nothing, kwargs::Base.Pairs{Symbol, Integer, Tuple{Symbol, Symbol}, NamedTuple{(:nadapt, :save_state), Tuple{Int64, Bool}}})",
      "    @ DynamicPPL ~/.julia/packages/DynamicPPL/SgzCy/src/sampler.jl:73",
      " [19] macro expansion",
      "    @ ~/.julia/packages/AbstractMCMC/oou1a/src/sample.jl:97 [inlined]",
      " [20] macro expansion",
      "    @ ~/.julia/packages/ProgressLogging/6KXlp/src/ProgressLogging.jl:328 [inlined]",
      " [21] (::AbstractMCMC.var\"#20#21\"{Bool, String, Nothing, Int64, Int64, Base.Pairs{Symbol, Integer, Tuple{Symbol, Symbol}, NamedTuple{(:nadapt, :save_state), Tuple{Int64, Bool}}}, Random._GLOBAL_RNG, DynamicPPL.Model{var\"#8#9\", (:data_vector,), (), (), Tuple{Vector{Float64}}, Tuple{}}, DynamicPPL.Sampler{MH{(), NamedTuple{(), Tuple{}}}}, Int64, Int64})()",
      "    @ AbstractMCMC ~/.julia/packages/AbstractMCMC/oou1a/src/logging.jl:11",
      " [22] with_logstate(f::Function, logstate::Any)",
      "    @ Base.CoreLogging ./logging.jl:511",
      " [23] with_logger(f::Function, logger::LoggingExtras.TeeLogger{Tuple{LoggingExtras.EarlyFilteredLogger{ConsoleProgressMonitor.ProgressLogger, AbstractMCMC.var\"#1#3\"{Module}}, LoggingExtras.EarlyFilteredLogger{Base.CoreLogging.SimpleLogger, AbstractMCMC.var\"#2#4\"{Module}}}})",
      "    @ Base.CoreLogging ./logging.jl:623",
      " [24] with_progresslogger(f::Function, _module::Module, logger::Base.CoreLogging.SimpleLogger)",
      "    @ AbstractMCMC ~/.julia/packages/AbstractMCMC/oou1a/src/logging.jl:34",
      " [25] macro expansion",
      "    @ ~/.julia/packages/AbstractMCMC/oou1a/src/logging.jl:10 [inlined]",
      " [26] mcmcsample(rng::Random._GLOBAL_RNG, model::DynamicPPL.Model{var\"#8#9\", (:data_vector,), (), (), Tuple{Vector{Float64}}, Tuple{}}, sampler::DynamicPPL.Sampler{MH{(), NamedTuple{(), Tuple{}}}}, N::Int64; progress::Bool, progressname::String, callback::Nothing, discard_initial::Int64, thinning::Int64, chain_type::Type, kwargs::Base.Pairs{Symbol, Integer, Tuple{Symbol, Symbol}, NamedTuple{(:nadapt, :save_state), Tuple{Int64, Bool}}})",
      "    @ AbstractMCMC ~/.julia/packages/AbstractMCMC/oou1a/src/sample.jl:88",
      " [27] sample(rng::Random._GLOBAL_RNG, model::DynamicPPL.Model{var\"#8#9\", (:data_vector,), (), (), Tuple{Vector{Float64}}, Tuple{}}, sampler::DynamicPPL.Sampler{MH{(), NamedTuple{(), Tuple{}}}}, N::Int64; chain_type::Type, resume_from::Nothing, progress::Bool, kwargs::Base.Pairs{Symbol, Integer, Tuple{Symbol, Symbol}, NamedTuple{(:nadapt, :save_state), Tuple{Int64, Bool}}})",
      "    @ Turing.Inference ~/.julia/packages/Turing/uAz5c/src/inference/Inference.jl:156",
      " [28] #sample#2",
      "    @ ~/.julia/packages/Turing/uAz5c/src/inference/Inference.jl:142 [inlined]",
      " [29] #sample#1",
      "    @ ~/.julia/packages/Turing/uAz5c/src/inference/Inference.jl:132 [inlined]",
      " [30] top-level scope",
      "    @ In[23]:1",
      " [31] eval",
      "    @ ./boot.jl:373 [inlined]",
      " [32] include_string(mapexpr::typeof(REPL.softscope), mod::Module, code::String, filename::String)",
      "    @ Base ./loading.jl:1196"
     ]
    }
   ],
   "source": [
    "chain2 = sample(model_parallel(data_vector), MH(), iterations,\n",
    "            nadapt=nadapts, progress=true; save_state=true);"
   ]
  },
  {
   "cell_type": "code",
   "execution_count": 24,
   "id": "54da0b16",
   "metadata": {},
   "outputs": [
    {
     "name": "stderr",
     "output_type": "stream",
     "text": [
      "┌ Info: Found initial step size\n",
      "│   ϵ = 0.05\n",
      "└ @ Turing.Inference /home/jaime/.julia/packages/Turing/uAz5c/src/inference/hmc.jl:195\n",
      "┌ Warning: The current proposal will be rejected due to numerical error(s).\n",
      "│   isfinite.((θ, r, ℓπ, ℓκ)) = (true, false, false, false)\n",
      "└ @ AdvancedHMC /home/jaime/.julia/packages/AdvancedHMC/MIxdK/src/hamiltonian.jl:47\n",
      "\u001b[32mSampling: 100%|█████████████████████████████████████████| Time: 0:01:37\u001b[39m\n"
     ]
    },
    {
     "ename": "LoadError",
     "evalue": "InterruptException:",
     "output_type": "error",
     "traceback": [
      "InterruptException:",
      "",
      "Stacktrace:",
      "  [1] (::LimberJack.var\"#w_itg#18\"{Cosmology, Interpolations.FilledExtrapolation{Float64, 1, Interpolations.GriddedInterpolation{Float64, 1, Float64, Interpolations.Gridded{Interpolations.Linear}, Tuple{Vector{Float64}}}, Interpolations.Gridded{Interpolations.Linear}, Int64}})(zz::Float64, chii::ForwardDiff.Dual{ForwardDiff.Tag{Turing.Core.var\"#f#7\"{DynamicPPL.TypedVarInfo{NamedTuple{(:Ωm, :s8), Tuple{DynamicPPL.Metadata{Dict{AbstractPPL.VarName{:Ωm, Tuple{}}, Int64}, Vector{Uniform{Float64}}, Vector{AbstractPPL.VarName{:Ωm, Tuple{}}}, Vector{Float64}, Vector{Set{DynamicPPL.Selector}}}, DynamicPPL.Metadata{Dict{AbstractPPL.VarName{:s8, Tuple{}}, Int64}, Vector{Uniform{Float64}}, Vector{AbstractPPL.VarName{:s8, Tuple{}}}, Vector{Float64}, Vector{Set{DynamicPPL.Selector}}}}}, Float64}, DynamicPPL.Model{var\"#6#7\", (:data_vector,), (), (), Tuple{Vector{Float64}}, Tuple{}}, DynamicPPL.Sampler{NUTS{Turing.Core.ForwardDiffAD{40}, (), AdvancedHMC.DiagEuclideanMetric}}, DynamicPPL.DefaultContext}, Float64}, Float64, 2})",
      "    @ LimberJack ~/.julia/packages/LimberJack/44tu1/src/tracers.jl:42",
      "  [2] #16",
      "    @ ~/.julia/packages/LimberJack/44tu1/src/tracers.jl:44 [inlined]",
      "  [3] evalrule(f::LimberJack.var\"#16#20\"{Int64, LimberJack.var\"#w_itg#18\"{Cosmology, Interpolations.FilledExtrapolation{Float64, 1, Interpolations.GriddedInterpolation{Float64, 1, Float64, Interpolations.Gridded{Interpolations.Linear}, Tuple{Vector{Float64}}}, Interpolations.Gridded{Interpolations.Linear}, Int64}}, Vector{ForwardDiff.Dual{ForwardDiff.Tag{Turing.Core.var\"#f#7\"{DynamicPPL.TypedVarInfo{NamedTuple{(:Ωm, :s8), Tuple{DynamicPPL.Metadata{Dict{AbstractPPL.VarName{:Ωm, Tuple{}}, Int64}, Vector{Uniform{Float64}}, Vector{AbstractPPL.VarName{:Ωm, Tuple{}}}, Vector{Float64}, Vector{Set{DynamicPPL.Selector}}}, DynamicPPL.Metadata{Dict{AbstractPPL.VarName{:s8, Tuple{}}, Int64}, Vector{Uniform{Float64}}, Vector{AbstractPPL.VarName{:s8, Tuple{}}}, Vector{Float64}, Vector{Set{DynamicPPL.Selector}}}}}, Float64}, DynamicPPL.Model{var\"#6#7\", (:data_vector,), (), (), Tuple{Vector{Float64}}, Tuple{}}, DynamicPPL.Sampler{NUTS{Turing.Core.ForwardDiffAD{40}, (), AdvancedHMC.DiagEuclideanMetric}}, DynamicPPL.DefaultContext}, Float64}, Float64, 2}}}, a::Float64, b::Float64, x::Vector{Float64}, w::Vector{Float64}, gw::Vector{Float64}, nrm::typeof(norm))",
      "    @ QuadGK ~/.julia/packages/QuadGK/ENhXl/src/evalrule.jl:35",
      "  [4] adapt(f::Function, segs::Vector{QuadGK.Segment{Float64, ForwardDiff.Dual{ForwardDiff.Tag{Turing.Core.var\"#f#7\"{DynamicPPL.TypedVarInfo{NamedTuple{(:Ωm, :s8), Tuple{DynamicPPL.Metadata{Dict{AbstractPPL.VarName{:Ωm, Tuple{}}, Int64}, Vector{Uniform{Float64}}, Vector{AbstractPPL.VarName{:Ωm, Tuple{}}}, Vector{Float64}, Vector{Set{DynamicPPL.Selector}}}, DynamicPPL.Metadata{Dict{AbstractPPL.VarName{:s8, Tuple{}}, Int64}, Vector{Uniform{Float64}}, Vector{AbstractPPL.VarName{:s8, Tuple{}}}, Vector{Float64}, Vector{Set{DynamicPPL.Selector}}}}}, Float64}, DynamicPPL.Model{var\"#6#7\", (:data_vector,), (), (), Tuple{Vector{Float64}}, Tuple{}}, DynamicPPL.Sampler{NUTS{Turing.Core.ForwardDiffAD{40}, (), AdvancedHMC.DiagEuclideanMetric}}, DynamicPPL.DefaultContext}, Float64}, Float64, 2}, ForwardDiff.Dual{ForwardDiff.Tag{Turing.Core.var\"#f#7\"{DynamicPPL.TypedVarInfo{NamedTuple{(:Ωm, :s8), Tuple{DynamicPPL.Metadata{Dict{AbstractPPL.VarName{:Ωm, Tuple{}}, Int64}, Vector{Uniform{Float64}}, Vector{AbstractPPL.VarName{:Ωm, Tuple{}}}, Vector{Float64}, Vector{Set{DynamicPPL.Selector}}}, DynamicPPL.Metadata{Dict{AbstractPPL.VarName{:s8, Tuple{}}, Int64}, Vector{Uniform{Float64}}, Vector{AbstractPPL.VarName{:s8, Tuple{}}}, Vector{Float64}, Vector{Set{DynamicPPL.Selector}}}}}, Float64}, DynamicPPL.Model{var\"#6#7\", (:data_vector,), (), (), Tuple{Vector{Float64}}, Tuple{}}, DynamicPPL.Sampler{NUTS{Turing.Core.ForwardDiffAD{40}, (), AdvancedHMC.DiagEuclideanMetric}}, DynamicPPL.DefaultContext}, Float64}, Float64, 2}}}, I::ForwardDiff.Dual{ForwardDiff.Tag{Turing.Core.var\"#f#7\"{DynamicPPL.TypedVarInfo{NamedTuple{(:Ωm, :s8), Tuple{DynamicPPL.Metadata{Dict{AbstractPPL.VarName{:Ωm, Tuple{}}, Int64}, Vector{Uniform{Float64}}, Vector{AbstractPPL.VarName{:Ωm, Tuple{}}}, Vector{Float64}, Vector{Set{DynamicPPL.Selector}}}, DynamicPPL.Metadata{Dict{AbstractPPL.VarName{:s8, Tuple{}}, Int64}, Vector{Uniform{Float64}}, Vector{AbstractPPL.VarName{:s8, Tuple{}}}, Vector{Float64}, Vector{Set{DynamicPPL.Selector}}}}}, Float64}, DynamicPPL.Model{var\"#6#7\", (:data_vector,), (), (), Tuple{Vector{Float64}}, Tuple{}}, DynamicPPL.Sampler{NUTS{Turing.Core.ForwardDiffAD{40}, (), AdvancedHMC.DiagEuclideanMetric}}, DynamicPPL.DefaultContext}, Float64}, Float64, 2}, E::ForwardDiff.Dual{ForwardDiff.Tag{Turing.Core.var\"#f#7\"{DynamicPPL.TypedVarInfo{NamedTuple{(:Ωm, :s8), Tuple{DynamicPPL.Metadata{Dict{AbstractPPL.VarName{:Ωm, Tuple{}}, Int64}, Vector{Uniform{Float64}}, Vector{AbstractPPL.VarName{:Ωm, Tuple{}}}, Vector{Float64}, Vector{Set{DynamicPPL.Selector}}}, DynamicPPL.Metadata{Dict{AbstractPPL.VarName{:s8, Tuple{}}, Int64}, Vector{Uniform{Float64}}, Vector{AbstractPPL.VarName{:s8, Tuple{}}}, Vector{Float64}, Vector{Set{DynamicPPL.Selector}}}}}, Float64}, DynamicPPL.Model{var\"#6#7\", (:data_vector,), (), (), Tuple{Vector{Float64}}, Tuple{}}, DynamicPPL.Sampler{NUTS{Turing.Core.ForwardDiffAD{40}, (), AdvancedHMC.DiagEuclideanMetric}}, DynamicPPL.DefaultContext}, Float64}, Float64, 2}, numevals::Int64, x::Vector{Float64}, w::Vector{Float64}, gw::Vector{Float64}, n::Int64, atol::ForwardDiff.Dual{ForwardDiff.Tag{Turing.Core.var\"#f#7\"{DynamicPPL.TypedVarInfo{NamedTuple{(:Ωm, :s8), Tuple{DynamicPPL.Metadata{Dict{AbstractPPL.VarName{:Ωm, Tuple{}}, Int64}, Vector{Uniform{Float64}}, Vector{AbstractPPL.VarName{:Ωm, Tuple{}}}, Vector{Float64}, Vector{Set{DynamicPPL.Selector}}}, DynamicPPL.Metadata{Dict{AbstractPPL.VarName{:s8, Tuple{}}, Int64}, Vector{Uniform{Float64}}, Vector{AbstractPPL.VarName{:s8, Tuple{}}}, Vector{Float64}, Vector{Set{DynamicPPL.Selector}}}}}, Float64}, DynamicPPL.Model{var\"#6#7\", (:data_vector,), (), (), Tuple{Vector{Float64}}, Tuple{}}, DynamicPPL.Sampler{NUTS{Turing.Core.ForwardDiffAD{40}, (), AdvancedHMC.DiagEuclideanMetric}}, DynamicPPL.DefaultContext}, Float64}, Float64, 2}, rtol::Float64, maxevals::Int64, nrm::typeof(norm))",
      "    @ QuadGK ~/.julia/packages/QuadGK/ENhXl/src/adapt.jl:45",
      "  [5] do_quadgk(f::LimberJack.var\"#16#20\"{Int64, LimberJack.var\"#w_itg#18\"{Cosmology, Interpolations.FilledExtrapolation{Float64, 1, Interpolations.GriddedInterpolation{Float64, 1, Float64, Interpolations.Gridded{Interpolations.Linear}, Tuple{Vector{Float64}}}, Interpolations.Gridded{Interpolations.Linear}, Int64}}, Vector{ForwardDiff.Dual{ForwardDiff.Tag{Turing.Core.var\"#f#7\"{DynamicPPL.TypedVarInfo{NamedTuple{(:Ωm, :s8), Tuple{DynamicPPL.Metadata{Dict{AbstractPPL.VarName{:Ωm, Tuple{}}, Int64}, Vector{Uniform{Float64}}, Vector{AbstractPPL.VarName{:Ωm, Tuple{}}}, Vector{Float64}, Vector{Set{DynamicPPL.Selector}}}, DynamicPPL.Metadata{Dict{AbstractPPL.VarName{:s8, Tuple{}}, Int64}, Vector{Uniform{Float64}}, Vector{AbstractPPL.VarName{:s8, Tuple{}}}, Vector{Float64}, Vector{Set{DynamicPPL.Selector}}}}}, Float64}, DynamicPPL.Model{var\"#6#7\", (:data_vector,), (), (), Tuple{Vector{Float64}}, Tuple{}}, DynamicPPL.Sampler{NUTS{Turing.Core.ForwardDiffAD{40}, (), AdvancedHMC.DiagEuclideanMetric}}, DynamicPPL.DefaultContext}, Float64}, Float64, 2}}}, s::Tuple{Float64, Float64}, n::Int64, atol::Nothing, rtol::Float64, maxevals::Int64, nrm::typeof(norm))",
      "    @ QuadGK ~/.julia/packages/QuadGK/ENhXl/src/adapt.jl:35",
      "  [6] #28",
      "    @ ~/.julia/packages/QuadGK/ENhXl/src/adapt.jl:179 [inlined]",
      "  [7] handle_infinities(workfunc::QuadGK.var\"#28#29\"{Nothing, Float64, Int64, Int64, typeof(norm)}, f::LimberJack.var\"#16#20\"{Int64, LimberJack.var\"#w_itg#18\"{Cosmology, Interpolations.FilledExtrapolation{Float64, 1, Interpolations.GriddedInterpolation{Float64, 1, Float64, Interpolations.Gridded{Interpolations.Linear}, Tuple{Vector{Float64}}}, Interpolations.Gridded{Interpolations.Linear}, Int64}}, Vector{ForwardDiff.Dual{ForwardDiff.Tag{Turing.Core.var\"#f#7\"{DynamicPPL.TypedVarInfo{NamedTuple{(:Ωm, :s8), Tuple{DynamicPPL.Metadata{Dict{AbstractPPL.VarName{:Ωm, Tuple{}}, Int64}, Vector{Uniform{Float64}}, Vector{AbstractPPL.VarName{:Ωm, Tuple{}}}, Vector{Float64}, Vector{Set{DynamicPPL.Selector}}}, DynamicPPL.Metadata{Dict{AbstractPPL.VarName{:s8, Tuple{}}, Int64}, Vector{Uniform{Float64}}, Vector{AbstractPPL.VarName{:s8, Tuple{}}}, Vector{Float64}, Vector{Set{DynamicPPL.Selector}}}}}, Float64}, DynamicPPL.Model{var\"#6#7\", (:data_vector,), (), (), Tuple{Vector{Float64}}, Tuple{}}, DynamicPPL.Sampler{NUTS{Turing.Core.ForwardDiffAD{40}, (), AdvancedHMC.DiagEuclideanMetric}}, DynamicPPL.DefaultContext}, Float64}, Float64, 2}}}, s::Tuple{Float64, Float64})",
      "    @ QuadGK ~/.julia/packages/QuadGK/ENhXl/src/adapt.jl:113",
      "  [8] #quadgk#27",
      "    @ ~/.julia/packages/QuadGK/ENhXl/src/adapt.jl:177 [inlined]",
      "  [9] (::LimberJack.var\"#15#19\"{Vector{Float64}, LimberJack.var\"#w_itg#18\"{Cosmology, Interpolations.FilledExtrapolation{Float64, 1, Interpolations.GriddedInterpolation{Float64, 1, Float64, Interpolations.Gridded{Interpolations.Linear}, Tuple{Vector{Float64}}}, Interpolations.Gridded{Interpolations.Linear}, Int64}}, Vector{ForwardDiff.Dual{ForwardDiff.Tag{Turing.Core.var\"#f#7\"{DynamicPPL.TypedVarInfo{NamedTuple{(:Ωm, :s8), Tuple{DynamicPPL.Metadata{Dict{AbstractPPL.VarName{:Ωm, Tuple{}}, Int64}, Vector{Uniform{Float64}}, Vector{AbstractPPL.VarName{:Ωm, Tuple{}}}, Vector{Float64}, Vector{Set{DynamicPPL.Selector}}}, DynamicPPL.Metadata{Dict{AbstractPPL.VarName{:s8, Tuple{}}, Int64}, Vector{Uniform{Float64}}, Vector{AbstractPPL.VarName{:s8, Tuple{}}}, Vector{Float64}, Vector{Set{DynamicPPL.Selector}}}}}, Float64}, DynamicPPL.Model{var\"#6#7\", (:data_vector,), (), (), Tuple{Vector{Float64}}, Tuple{}}, DynamicPPL.Sampler{NUTS{Turing.Core.ForwardDiffAD{40}, (), AdvancedHMC.DiagEuclideanMetric}}, DynamicPPL.DefaultContext}, Float64}, Float64, 2}}, StepRangeLen{Float64, Base.TwicePrecision{Float64}, Base.TwicePrecision{Float64}, Int64}})(i::Int64)",
      "    @ LimberJack ./none:0",
      " [10] iterate",
      "    @ ./generator.jl:47 [inlined]",
      " [11] collect_to!(dest::Vector{ForwardDiff.Dual{ForwardDiff.Tag{Turing.Core.var\"#f#7\"{DynamicPPL.TypedVarInfo{NamedTuple{(:Ωm, :s8), Tuple{DynamicPPL.Metadata{Dict{AbstractPPL.VarName{:Ωm, Tuple{}}, Int64}, Vector{Uniform{Float64}}, Vector{AbstractPPL.VarName{:Ωm, Tuple{}}}, Vector{Float64}, Vector{Set{DynamicPPL.Selector}}}, DynamicPPL.Metadata{Dict{AbstractPPL.VarName{:s8, Tuple{}}, Int64}, Vector{Uniform{Float64}}, Vector{AbstractPPL.VarName{:s8, Tuple{}}}, Vector{Float64}, Vector{Set{DynamicPPL.Selector}}}}}, Float64}, DynamicPPL.Model{var\"#6#7\", (:data_vector,), (), (), Tuple{Vector{Float64}}, Tuple{}}, DynamicPPL.Sampler{NUTS{Turing.Core.ForwardDiffAD{40}, (), AdvancedHMC.DiagEuclideanMetric}}, DynamicPPL.DefaultContext}, Float64}, Float64, 2}}, itr::Base.Generator{UnitRange{Int64}, LimberJack.var\"#15#19\"{Vector{Float64}, LimberJack.var\"#w_itg#18\"{Cosmology, Interpolations.FilledExtrapolation{Float64, 1, Interpolations.GriddedInterpolation{Float64, 1, Float64, Interpolations.Gridded{Interpolations.Linear}, Tuple{Vector{Float64}}}, Interpolations.Gridded{Interpolations.Linear}, Int64}}, Vector{ForwardDiff.Dual{ForwardDiff.Tag{Turing.Core.var\"#f#7\"{DynamicPPL.TypedVarInfo{NamedTuple{(:Ωm, :s8), Tuple{DynamicPPL.Metadata{Dict{AbstractPPL.VarName{:Ωm, Tuple{}}, Int64}, Vector{Uniform{Float64}}, Vector{AbstractPPL.VarName{:Ωm, Tuple{}}}, Vector{Float64}, Vector{Set{DynamicPPL.Selector}}}, DynamicPPL.Metadata{Dict{AbstractPPL.VarName{:s8, Tuple{}}, Int64}, Vector{Uniform{Float64}}, Vector{AbstractPPL.VarName{:s8, Tuple{}}}, Vector{Float64}, Vector{Set{DynamicPPL.Selector}}}}}, Float64}, DynamicPPL.Model{var\"#6#7\", (:data_vector,), (), (), Tuple{Vector{Float64}}, Tuple{}}, DynamicPPL.Sampler{NUTS{Turing.Core.ForwardDiffAD{40}, (), AdvancedHMC.DiagEuclideanMetric}}, DynamicPPL.DefaultContext}, Float64}, Float64, 2}}, StepRangeLen{Float64, Base.TwicePrecision{Float64}, Base.TwicePrecision{Float64}, Int64}}}, offs::Int64, st::Int64)",
      "    @ Base ./array.jl:782",
      " [12] collect_to_with_first!(dest::Vector{ForwardDiff.Dual{ForwardDiff.Tag{Turing.Core.var\"#f#7\"{DynamicPPL.TypedVarInfo{NamedTuple{(:Ωm, :s8), Tuple{DynamicPPL.Metadata{Dict{AbstractPPL.VarName{:Ωm, Tuple{}}, Int64}, Vector{Uniform{Float64}}, Vector{AbstractPPL.VarName{:Ωm, Tuple{}}}, Vector{Float64}, Vector{Set{DynamicPPL.Selector}}}, DynamicPPL.Metadata{Dict{AbstractPPL.VarName{:s8, Tuple{}}, Int64}, Vector{Uniform{Float64}}, Vector{AbstractPPL.VarName{:s8, Tuple{}}}, Vector{Float64}, Vector{Set{DynamicPPL.Selector}}}}}, Float64}, DynamicPPL.Model{var\"#6#7\", (:data_vector,), (), (), Tuple{Vector{Float64}}, Tuple{}}, DynamicPPL.Sampler{NUTS{Turing.Core.ForwardDiffAD{40}, (), AdvancedHMC.DiagEuclideanMetric}}, DynamicPPL.DefaultContext}, Float64}, Float64, 2}}, v1::ForwardDiff.Dual{ForwardDiff.Tag{Turing.Core.var\"#f#7\"{DynamicPPL.TypedVarInfo{NamedTuple{(:Ωm, :s8), Tuple{DynamicPPL.Metadata{Dict{AbstractPPL.VarName{:Ωm, Tuple{}}, Int64}, Vector{Uniform{Float64}}, Vector{AbstractPPL.VarName{:Ωm, Tuple{}}}, Vector{Float64}, Vector{Set{DynamicPPL.Selector}}}, DynamicPPL.Metadata{Dict{AbstractPPL.VarName{:s8, Tuple{}}, Int64}, Vector{Uniform{Float64}}, Vector{AbstractPPL.VarName{:s8, Tuple{}}}, Vector{Float64}, Vector{Set{DynamicPPL.Selector}}}}}, Float64}, DynamicPPL.Model{var\"#6#7\", (:data_vector,), (), (), Tuple{Vector{Float64}}, Tuple{}}, DynamicPPL.Sampler{NUTS{Turing.Core.ForwardDiffAD{40}, (), AdvancedHMC.DiagEuclideanMetric}}, DynamicPPL.DefaultContext}, Float64}, Float64, 2}, itr::Base.Generator{UnitRange{Int64}, LimberJack.var\"#15#19\"{Vector{Float64}, LimberJack.var\"#w_itg#18\"{Cosmology, Interpolations.FilledExtrapolation{Float64, 1, Interpolations.GriddedInterpolation{Float64, 1, Float64, Interpolations.Gridded{Interpolations.Linear}, Tuple{Vector{Float64}}}, Interpolations.Gridded{Interpolations.Linear}, Int64}}, Vector{ForwardDiff.Dual{ForwardDiff.Tag{Turing.Core.var\"#f#7\"{DynamicPPL.TypedVarInfo{NamedTuple{(:Ωm, :s8), Tuple{DynamicPPL.Metadata{Dict{AbstractPPL.VarName{:Ωm, Tuple{}}, Int64}, Vector{Uniform{Float64}}, Vector{AbstractPPL.VarName{:Ωm, Tuple{}}}, Vector{Float64}, Vector{Set{DynamicPPL.Selector}}}, DynamicPPL.Metadata{Dict{AbstractPPL.VarName{:s8, Tuple{}}, Int64}, Vector{Uniform{Float64}}, Vector{AbstractPPL.VarName{:s8, Tuple{}}}, Vector{Float64}, Vector{Set{DynamicPPL.Selector}}}}}, Float64}, DynamicPPL.Model{var\"#6#7\", (:data_vector,), (), (), Tuple{Vector{Float64}}, Tuple{}}, DynamicPPL.Sampler{NUTS{Turing.Core.ForwardDiffAD{40}, (), AdvancedHMC.DiagEuclideanMetric}}, DynamicPPL.DefaultContext}, Float64}, Float64, 2}}, StepRangeLen{Float64, Base.TwicePrecision{Float64}, Base.TwicePrecision{Float64}, Int64}}}, st::Int64)",
      "    @ Base ./array.jl:760",
      " [13] collect(itr::Base.Generator{UnitRange{Int64}, LimberJack.var\"#15#19\"{Vector{Float64}, LimberJack.var\"#w_itg#18\"{Cosmology, Interpolations.FilledExtrapolation{Float64, 1, Interpolations.GriddedInterpolation{Float64, 1, Float64, Interpolations.Gridded{Interpolations.Linear}, Tuple{Vector{Float64}}}, Interpolations.Gridded{Interpolations.Linear}, Int64}}, Vector{ForwardDiff.Dual{ForwardDiff.Tag{Turing.Core.var\"#f#7\"{DynamicPPL.TypedVarInfo{NamedTuple{(:Ωm, :s8), Tuple{DynamicPPL.Metadata{Dict{AbstractPPL.VarName{:Ωm, Tuple{}}, Int64}, Vector{Uniform{Float64}}, Vector{AbstractPPL.VarName{:Ωm, Tuple{}}}, Vector{Float64}, Vector{Set{DynamicPPL.Selector}}}, DynamicPPL.Metadata{Dict{AbstractPPL.VarName{:s8, Tuple{}}, Int64}, Vector{Uniform{Float64}}, Vector{AbstractPPL.VarName{:s8, Tuple{}}}, Vector{Float64}, Vector{Set{DynamicPPL.Selector}}}}}, Float64}, DynamicPPL.Model{var\"#6#7\", (:data_vector,), (), (), Tuple{Vector{Float64}}, Tuple{}}, DynamicPPL.Sampler{NUTS{Turing.Core.ForwardDiffAD{40}, (), AdvancedHMC.DiagEuclideanMetric}}, DynamicPPL.DefaultContext}, Float64}, Float64, 2}}, StepRangeLen{Float64, Base.TwicePrecision{Float64}, Base.TwicePrecision{Float64}, Int64}}})",
      "    @ Base ./array.jl:734",
      " [14] WeakLensingTracer(cosmo::Cosmology, z_n::Vector{Float64}, nz::Vector{Float64}; mbias::Float64, IA_params::Vector{Float64})",
      "    @ LimberJack ~/.julia/packages/LimberJack/44tu1/src/tracers.jl:44",
      " [15] Theory(cosmology::Cosmology, Nuisances::Dict{String, Float64}, cls_meta::cls_meta{Vector{Vector{Int64}}}, files::Dict{String, Array})",
      "    @ LimberJack ~/.julia/packages/LimberJack/44tu1/src/theory.jl:63",
      " [16] #6",
      "    @ ./In[19]:22 [inlined]",
      " [17] (::var\"#6#7\")(__rng__::Random._GLOBAL_RNG, __model__::DynamicPPL.Model{var\"#6#7\", (:data_vector,), (), (), Tuple{Vector{Float64}}, Tuple{}}, __varinfo__::DynamicPPL.ThreadSafeVarInfo{DynamicPPL.TypedVarInfo{NamedTuple{(:Ωm, :s8), Tuple{DynamicPPL.Metadata{Dict{AbstractPPL.VarName{:Ωm, Tuple{}}, Int64}, Vector{Uniform{Float64}}, Vector{AbstractPPL.VarName{:Ωm, Tuple{}}}, Vector{ForwardDiff.Dual{ForwardDiff.Tag{Turing.Core.var\"#f#7\"{DynamicPPL.TypedVarInfo{NamedTuple{(:Ωm, :s8), Tuple{DynamicPPL.Metadata{Dict{AbstractPPL.VarName{:Ωm, Tuple{}}, Int64}, Vector{Uniform{Float64}}, Vector{AbstractPPL.VarName{:Ωm, Tuple{}}}, Vector{Float64}, Vector{Set{DynamicPPL.Selector}}}, DynamicPPL.Metadata{Dict{AbstractPPL.VarName{:s8, Tuple{}}, Int64}, Vector{Uniform{Float64}}, Vector{AbstractPPL.VarName{:s8, Tuple{}}}, Vector{Float64}, Vector{Set{DynamicPPL.Selector}}}}}, Float64}, DynamicPPL.Model{var\"#6#7\", (:data_vector,), (), (), Tuple{Vector{Float64}}, Tuple{}}, DynamicPPL.Sampler{NUTS{Turing.Core.ForwardDiffAD{40}, (), AdvancedHMC.DiagEuclideanMetric}}, DynamicPPL.DefaultContext}, Float64}, Float64, 2}}, Vector{Set{DynamicPPL.Selector}}}, DynamicPPL.Metadata{Dict{AbstractPPL.VarName{:s8, Tuple{}}, Int64}, Vector{Uniform{Float64}}, Vector{AbstractPPL.VarName{:s8, Tuple{}}}, Vector{ForwardDiff.Dual{ForwardDiff.Tag{Turing.Core.var\"#f#7\"{DynamicPPL.TypedVarInfo{NamedTuple{(:Ωm, :s8), Tuple{DynamicPPL.Metadata{Dict{AbstractPPL.VarName{:Ωm, Tuple{}}, Int64}, Vector{Uniform{Float64}}, Vector{AbstractPPL.VarName{:Ωm, Tuple{}}}, Vector{Float64}, Vector{Set{DynamicPPL.Selector}}}, DynamicPPL.Metadata{Dict{AbstractPPL.VarName{:s8, Tuple{}}, Int64}, Vector{Uniform{Float64}}, Vector{AbstractPPL.VarName{:s8, Tuple{}}}, Vector{Float64}, Vector{Set{DynamicPPL.Selector}}}}}, Float64}, DynamicPPL.Model{var\"#6#7\", (:data_vector,), (), (), Tuple{Vector{Float64}}, Tuple{}}, DynamicPPL.Sampler{NUTS{Turing.Core.ForwardDiffAD{40}, (), AdvancedHMC.DiagEuclideanMetric}}, DynamicPPL.DefaultContext}, Float64}, Float64, 2}}, Vector{Set{DynamicPPL.Selector}}}}}, ForwardDiff.Dual{ForwardDiff.Tag{Turing.Core.var\"#f#7\"{DynamicPPL.TypedVarInfo{NamedTuple{(:Ωm, :s8), Tuple{DynamicPPL.Metadata{Dict{AbstractPPL.VarName{:Ωm, Tuple{}}, Int64}, Vector{Uniform{Float64}}, Vector{AbstractPPL.VarName{:Ωm, Tuple{}}}, Vector{Float64}, Vector{Set{DynamicPPL.Selector}}}, DynamicPPL.Metadata{Dict{AbstractPPL.VarName{:s8, Tuple{}}, Int64}, Vector{Uniform{Float64}}, Vector{AbstractPPL.VarName{:s8, Tuple{}}}, Vector{Float64}, Vector{Set{DynamicPPL.Selector}}}}}, Float64}, DynamicPPL.Model{var\"#6#7\", (:data_vector,), (), (), Tuple{Vector{Float64}}, Tuple{}}, DynamicPPL.Sampler{NUTS{Turing.Core.ForwardDiffAD{40}, (), AdvancedHMC.DiagEuclideanMetric}}, DynamicPPL.DefaultContext}, Float64}, Float64, 2}}, Vector{Base.RefValue{ForwardDiff.Dual{ForwardDiff.Tag{Turing.Core.var\"#f#7\"{DynamicPPL.TypedVarInfo{NamedTuple{(:Ωm, :s8), Tuple{DynamicPPL.Metadata{Dict{AbstractPPL.VarName{:Ωm, Tuple{}}, Int64}, Vector{Uniform{Float64}}, Vector{AbstractPPL.VarName{:Ωm, Tuple{}}}, Vector{Float64}, Vector{Set{DynamicPPL.Selector}}}, DynamicPPL.Metadata{Dict{AbstractPPL.VarName{:s8, Tuple{}}, Int64}, Vector{Uniform{Float64}}, Vector{AbstractPPL.VarName{:s8, Tuple{}}}, Vector{Float64}, Vector{Set{DynamicPPL.Selector}}}}}, Float64}, DynamicPPL.Model{var\"#6#7\", (:data_vector,), (), (), Tuple{Vector{Float64}}, Tuple{}}, DynamicPPL.Sampler{NUTS{Turing.Core.ForwardDiffAD{40}, (), AdvancedHMC.DiagEuclideanMetric}}, DynamicPPL.DefaultContext}, Float64}, Float64, 2}}}}, __sampler__::DynamicPPL.Sampler{NUTS{Turing.Core.ForwardDiffAD{40}, (), AdvancedHMC.DiagEuclideanMetric}}, __context__::DynamicPPL.DefaultContext, data_vector::Vector{Float64})",
      "    @ Main ./none:0",
      " [18] macro expansion",
      "    @ ~/.julia/packages/DynamicPPL/SgzCy/src/model.jl:0 [inlined]",
      " [19] _evaluate",
      "    @ ~/.julia/packages/DynamicPPL/SgzCy/src/model.jl:154 [inlined]",
      " [20] evaluate_threadsafe(rng::Random._GLOBAL_RNG, model::DynamicPPL.Model{var\"#6#7\", (:data_vector,), (), (), Tuple{Vector{Float64}}, Tuple{}}, varinfo::DynamicPPL.TypedVarInfo{NamedTuple{(:Ωm, :s8), Tuple{DynamicPPL.Metadata{Dict{AbstractPPL.VarName{:Ωm, Tuple{}}, Int64}, Vector{Uniform{Float64}}, Vector{AbstractPPL.VarName{:Ωm, Tuple{}}}, Vector{ForwardDiff.Dual{ForwardDiff.Tag{Turing.Core.var\"#f#7\"{DynamicPPL.TypedVarInfo{NamedTuple{(:Ωm, :s8), Tuple{DynamicPPL.Metadata{Dict{AbstractPPL.VarName{:Ωm, Tuple{}}, Int64}, Vector{Uniform{Float64}}, Vector{AbstractPPL.VarName{:Ωm, Tuple{}}}, Vector{Float64}, Vector{Set{DynamicPPL.Selector}}}, DynamicPPL.Metadata{Dict{AbstractPPL.VarName{:s8, Tuple{}}, Int64}, Vector{Uniform{Float64}}, Vector{AbstractPPL.VarName{:s8, Tuple{}}}, Vector{Float64}, Vector{Set{DynamicPPL.Selector}}}}}, Float64}, DynamicPPL.Model{var\"#6#7\", (:data_vector,), (), (), Tuple{Vector{Float64}}, Tuple{}}, DynamicPPL.Sampler{NUTS{Turing.Core.ForwardDiffAD{40}, (), AdvancedHMC.DiagEuclideanMetric}}, DynamicPPL.DefaultContext}, Float64}, Float64, 2}}, Vector{Set{DynamicPPL.Selector}}}, DynamicPPL.Metadata{Dict{AbstractPPL.VarName{:s8, Tuple{}}, Int64}, Vector{Uniform{Float64}}, Vector{AbstractPPL.VarName{:s8, Tuple{}}}, Vector{ForwardDiff.Dual{ForwardDiff.Tag{Turing.Core.var\"#f#7\"{DynamicPPL.TypedVarInfo{NamedTuple{(:Ωm, :s8), Tuple{DynamicPPL.Metadata{Dict{AbstractPPL.VarName{:Ωm, Tuple{}}, Int64}, Vector{Uniform{Float64}}, Vector{AbstractPPL.VarName{:Ωm, Tuple{}}}, Vector{Float64}, Vector{Set{DynamicPPL.Selector}}}, DynamicPPL.Metadata{Dict{AbstractPPL.VarName{:s8, Tuple{}}, Int64}, Vector{Uniform{Float64}}, Vector{AbstractPPL.VarName{:s8, Tuple{}}}, Vector{Float64}, Vector{Set{DynamicPPL.Selector}}}}}, Float64}, DynamicPPL.Model{var\"#6#7\", (:data_vector,), (), (), Tuple{Vector{Float64}}, Tuple{}}, DynamicPPL.Sampler{NUTS{Turing.Core.ForwardDiffAD{40}, (), AdvancedHMC.DiagEuclideanMetric}}, DynamicPPL.DefaultContext}, Float64}, Float64, 2}}, Vector{Set{DynamicPPL.Selector}}}}}, ForwardDiff.Dual{ForwardDiff.Tag{Turing.Core.var\"#f#7\"{DynamicPPL.TypedVarInfo{NamedTuple{(:Ωm, :s8), Tuple{DynamicPPL.Metadata{Dict{AbstractPPL.VarName{:Ωm, Tuple{}}, Int64}, Vector{Uniform{Float64}}, Vector{AbstractPPL.VarName{:Ωm, Tuple{}}}, Vector{Float64}, Vector{Set{DynamicPPL.Selector}}}, DynamicPPL.Metadata{Dict{AbstractPPL.VarName{:s8, Tuple{}}, Int64}, Vector{Uniform{Float64}}, Vector{AbstractPPL.VarName{:s8, Tuple{}}}, Vector{Float64}, Vector{Set{DynamicPPL.Selector}}}}}, Float64}, DynamicPPL.Model{var\"#6#7\", (:data_vector,), (), (), Tuple{Vector{Float64}}, Tuple{}}, DynamicPPL.Sampler{NUTS{Turing.Core.ForwardDiffAD{40}, (), AdvancedHMC.DiagEuclideanMetric}}, DynamicPPL.DefaultContext}, Float64}, Float64, 2}}, sampler::DynamicPPL.Sampler{NUTS{Turing.Core.ForwardDiffAD{40}, (), AdvancedHMC.DiagEuclideanMetric}}, context::DynamicPPL.DefaultContext)",
      "    @ DynamicPPL ~/.julia/packages/DynamicPPL/SgzCy/src/model.jl:144",
      " [21] Model",
      "    @ ~/.julia/packages/DynamicPPL/SgzCy/src/model.jl:94 [inlined]",
      " [22] Model",
      "    @ ~/.julia/packages/DynamicPPL/SgzCy/src/model.jl:98 [inlined]",
      " [23] f",
      "    @ ~/.julia/packages/Turing/uAz5c/src/core/ad.jl:111 [inlined]",
      " [24] vector_mode_dual_eval!",
      "    @ ~/.julia/packages/ForwardDiff/PBzup/src/apiutils.jl:37 [inlined]",
      " [25] vector_mode_gradient!(result::Vector{Float64}, f::Turing.Core.var\"#f#7\"{DynamicPPL.TypedVarInfo{NamedTuple{(:Ωm, :s8), Tuple{DynamicPPL.Metadata{Dict{AbstractPPL.VarName{:Ωm, Tuple{}}, Int64}, Vector{Uniform{Float64}}, Vector{AbstractPPL.VarName{:Ωm, Tuple{}}}, Vector{Float64}, Vector{Set{DynamicPPL.Selector}}}, DynamicPPL.Metadata{Dict{AbstractPPL.VarName{:s8, Tuple{}}, Int64}, Vector{Uniform{Float64}}, Vector{AbstractPPL.VarName{:s8, Tuple{}}}, Vector{Float64}, Vector{Set{DynamicPPL.Selector}}}}}, Float64}, DynamicPPL.Model{var\"#6#7\", (:data_vector,), (), (), Tuple{Vector{Float64}}, Tuple{}}, DynamicPPL.Sampler{NUTS{Turing.Core.ForwardDiffAD{40}, (), AdvancedHMC.DiagEuclideanMetric}}, DynamicPPL.DefaultContext}, x::Vector{Float64}, cfg::ForwardDiff.GradientConfig{ForwardDiff.Tag{Turing.Core.var\"#f#7\"{DynamicPPL.TypedVarInfo{NamedTuple{(:Ωm, :s8), Tuple{DynamicPPL.Metadata{Dict{AbstractPPL.VarName{:Ωm, Tuple{}}, Int64}, Vector{Uniform{Float64}}, Vector{AbstractPPL.VarName{:Ωm, Tuple{}}}, Vector{Float64}, Vector{Set{DynamicPPL.Selector}}}, DynamicPPL.Metadata{Dict{AbstractPPL.VarName{:s8, Tuple{}}, Int64}, Vector{Uniform{Float64}}, Vector{AbstractPPL.VarName{:s8, Tuple{}}}, Vector{Float64}, Vector{Set{DynamicPPL.Selector}}}}}, Float64}, DynamicPPL.Model{var\"#6#7\", (:data_vector,), (), (), Tuple{Vector{Float64}}, Tuple{}}, DynamicPPL.Sampler{NUTS{Turing.Core.ForwardDiffAD{40}, (), AdvancedHMC.DiagEuclideanMetric}}, DynamicPPL.DefaultContext}, Float64}, Float64, 2, Vector{ForwardDiff.Dual{ForwardDiff.Tag{Turing.Core.var\"#f#7\"{DynamicPPL.TypedVarInfo{NamedTuple{(:Ωm, :s8), Tuple{DynamicPPL.Metadata{Dict{AbstractPPL.VarName{:Ωm, Tuple{}}, Int64}, Vector{Uniform{Float64}}, Vector{AbstractPPL.VarName{:Ωm, Tuple{}}}, Vector{Float64}, Vector{Set{DynamicPPL.Selector}}}, DynamicPPL.Metadata{Dict{AbstractPPL.VarName{:s8, Tuple{}}, Int64}, Vector{Uniform{Float64}}, Vector{AbstractPPL.VarName{:s8, Tuple{}}}, Vector{Float64}, Vector{Set{DynamicPPL.Selector}}}}}, Float64}, DynamicPPL.Model{var\"#6#7\", (:data_vector,), (), (), Tuple{Vector{Float64}}, Tuple{}}, DynamicPPL.Sampler{NUTS{Turing.Core.ForwardDiffAD{40}, (), AdvancedHMC.DiagEuclideanMetric}}, DynamicPPL.DefaultContext}, Float64}, Float64, 2}}})",
      "    @ ForwardDiff ~/.julia/packages/ForwardDiff/PBzup/src/gradient.jl:113",
      " [26] gradient!",
      "    @ ~/.julia/packages/ForwardDiff/PBzup/src/gradient.jl:37 [inlined]",
      " [27] gradient!(result::Vector{Float64}, f::Turing.Core.var\"#f#7\"{DynamicPPL.TypedVarInfo{NamedTuple{(:Ωm, :s8), Tuple{DynamicPPL.Metadata{Dict{AbstractPPL.VarName{:Ωm, Tuple{}}, Int64}, Vector{Uniform{Float64}}, Vector{AbstractPPL.VarName{:Ωm, Tuple{}}}, Vector{Float64}, Vector{Set{DynamicPPL.Selector}}}, DynamicPPL.Metadata{Dict{AbstractPPL.VarName{:s8, Tuple{}}, Int64}, Vector{Uniform{Float64}}, Vector{AbstractPPL.VarName{:s8, Tuple{}}}, Vector{Float64}, Vector{Set{DynamicPPL.Selector}}}}}, Float64}, DynamicPPL.Model{var\"#6#7\", (:data_vector,), (), (), Tuple{Vector{Float64}}, Tuple{}}, DynamicPPL.Sampler{NUTS{Turing.Core.ForwardDiffAD{40}, (), AdvancedHMC.DiagEuclideanMetric}}, DynamicPPL.DefaultContext}, x::Vector{Float64}, cfg::ForwardDiff.GradientConfig{ForwardDiff.Tag{Turing.Core.var\"#f#7\"{DynamicPPL.TypedVarInfo{NamedTuple{(:Ωm, :s8), Tuple{DynamicPPL.Metadata{Dict{AbstractPPL.VarName{:Ωm, Tuple{}}, Int64}, Vector{Uniform{Float64}}, Vector{AbstractPPL.VarName{:Ωm, Tuple{}}}, Vector{Float64}, Vector{Set{DynamicPPL.Selector}}}, DynamicPPL.Metadata{Dict{AbstractPPL.VarName{:s8, Tuple{}}, Int64}, Vector{Uniform{Float64}}, Vector{AbstractPPL.VarName{:s8, Tuple{}}}, Vector{Float64}, Vector{Set{DynamicPPL.Selector}}}}}, Float64}, DynamicPPL.Model{var\"#6#7\", (:data_vector,), (), (), Tuple{Vector{Float64}}, Tuple{}}, DynamicPPL.Sampler{NUTS{Turing.Core.ForwardDiffAD{40}, (), AdvancedHMC.DiagEuclideanMetric}}, DynamicPPL.DefaultContext}, Float64}, Float64, 2, Vector{ForwardDiff.Dual{ForwardDiff.Tag{Turing.Core.var\"#f#7\"{DynamicPPL.TypedVarInfo{NamedTuple{(:Ωm, :s8), Tuple{DynamicPPL.Metadata{Dict{AbstractPPL.VarName{:Ωm, Tuple{}}, Int64}, Vector{Uniform{Float64}}, Vector{AbstractPPL.VarName{:Ωm, Tuple{}}}, Vector{Float64}, Vector{Set{DynamicPPL.Selector}}}, DynamicPPL.Metadata{Dict{AbstractPPL.VarName{:s8, Tuple{}}, Int64}, Vector{Uniform{Float64}}, Vector{AbstractPPL.VarName{:s8, Tuple{}}}, Vector{Float64}, Vector{Set{DynamicPPL.Selector}}}}}, Float64}, DynamicPPL.Model{var\"#6#7\", (:data_vector,), (), (), Tuple{Vector{Float64}}, Tuple{}}, DynamicPPL.Sampler{NUTS{Turing.Core.ForwardDiffAD{40}, (), AdvancedHMC.DiagEuclideanMetric}}, DynamicPPL.DefaultContext}, Float64}, Float64, 2}}})",
      "    @ ForwardDiff ~/.julia/packages/ForwardDiff/PBzup/src/gradient.jl:35",
      " [28] gradient_logp(::Turing.Core.ForwardDiffAD{40}, θ::Vector{Float64}, vi::DynamicPPL.TypedVarInfo{NamedTuple{(:Ωm, :s8), Tuple{DynamicPPL.Metadata{Dict{AbstractPPL.VarName{:Ωm, Tuple{}}, Int64}, Vector{Uniform{Float64}}, Vector{AbstractPPL.VarName{:Ωm, Tuple{}}}, Vector{Float64}, Vector{Set{DynamicPPL.Selector}}}, DynamicPPL.Metadata{Dict{AbstractPPL.VarName{:s8, Tuple{}}, Int64}, Vector{Uniform{Float64}}, Vector{AbstractPPL.VarName{:s8, Tuple{}}}, Vector{Float64}, Vector{Set{DynamicPPL.Selector}}}}}, Float64}, model::DynamicPPL.Model{var\"#6#7\", (:data_vector,), (), (), Tuple{Vector{Float64}}, Tuple{}}, sampler::DynamicPPL.Sampler{NUTS{Turing.Core.ForwardDiffAD{40}, (), AdvancedHMC.DiagEuclideanMetric}}, ctx::DynamicPPL.DefaultContext)",
      "    @ Turing.Core ~/.julia/packages/Turing/uAz5c/src/core/ad.jl:121",
      " [29] gradient_logp (repeats 2 times)",
      "    @ ~/.julia/packages/Turing/uAz5c/src/core/ad.jl:83 [inlined]",
      " [30] ∂logπ∂θ",
      "    @ ~/.julia/packages/Turing/uAz5c/src/inference/hmc.jl:482 [inlined]",
      " [31] ∂H∂θ",
      "    @ ~/.julia/packages/AdvancedHMC/MIxdK/src/hamiltonian.jl:31 [inlined]",
      " [32] phasepoint",
      "    @ ~/.julia/packages/AdvancedHMC/MIxdK/src/hamiltonian.jl:69 [inlined]",
      " [33] refresh(rng::Random._GLOBAL_RNG, z::AdvancedHMC.PhasePoint{Vector{Float64}, AdvancedHMC.DualValue{Float64, Vector{Float64}}}, h::AdvancedHMC.Hamiltonian{AdvancedHMC.DiagEuclideanMetric{Float64, Vector{Float64}}, Turing.Inference.var\"#logπ#54\"{DynamicPPL.TypedVarInfo{NamedTuple{(:Ωm, :s8), Tuple{DynamicPPL.Metadata{Dict{AbstractPPL.VarName{:Ωm, Tuple{}}, Int64}, Vector{Uniform{Float64}}, Vector{AbstractPPL.VarName{:Ωm, Tuple{}}}, Vector{Float64}, Vector{Set{DynamicPPL.Selector}}}, DynamicPPL.Metadata{Dict{AbstractPPL.VarName{:s8, Tuple{}}, Int64}, Vector{Uniform{Float64}}, Vector{AbstractPPL.VarName{:s8, Tuple{}}}, Vector{Float64}, Vector{Set{DynamicPPL.Selector}}}}}, Float64}, DynamicPPL.Sampler{NUTS{Turing.Core.ForwardDiffAD{40}, (), AdvancedHMC.DiagEuclideanMetric}}, DynamicPPL.Model{var\"#6#7\", (:data_vector,), (), (), Tuple{Vector{Float64}}, Tuple{}}}, Turing.Inference.var\"#∂logπ∂θ#53\"{DynamicPPL.TypedVarInfo{NamedTuple{(:Ωm, :s8), Tuple{DynamicPPL.Metadata{Dict{AbstractPPL.VarName{:Ωm, Tuple{}}, Int64}, Vector{Uniform{Float64}}, Vector{AbstractPPL.VarName{:Ωm, Tuple{}}}, Vector{Float64}, Vector{Set{DynamicPPL.Selector}}}, DynamicPPL.Metadata{Dict{AbstractPPL.VarName{:s8, Tuple{}}, Int64}, Vector{Uniform{Float64}}, Vector{AbstractPPL.VarName{:s8, Tuple{}}}, Vector{Float64}, Vector{Set{DynamicPPL.Selector}}}}}, Float64}, DynamicPPL.Sampler{NUTS{Turing.Core.ForwardDiffAD{40}, (), AdvancedHMC.DiagEuclideanMetric}}, DynamicPPL.Model{var\"#6#7\", (:data_vector,), (), (), Tuple{Vector{Float64}}, Tuple{}}}})",
      "    @ AdvancedHMC ~/.julia/packages/AdvancedHMC/MIxdK/src/hamiltonian.jl:145",
      " [34] step",
      "    @ ~/.julia/packages/AdvancedHMC/MIxdK/src/sampler.jl:53 [inlined]",
      " [35] step(rng::Random._GLOBAL_RNG, model::DynamicPPL.Model{var\"#6#7\", (:data_vector,), (), (), Tuple{Vector{Float64}}, Tuple{}}, spl::DynamicPPL.Sampler{NUTS{Turing.Core.ForwardDiffAD{40}, (), AdvancedHMC.DiagEuclideanMetric}}, state::Turing.Inference.HMCState{DynamicPPL.TypedVarInfo{NamedTuple{(:Ωm, :s8), Tuple{DynamicPPL.Metadata{Dict{AbstractPPL.VarName{:Ωm, Tuple{}}, Int64}, Vector{Uniform{Float64}}, Vector{AbstractPPL.VarName{:Ωm, Tuple{}}}, Vector{Float64}, Vector{Set{DynamicPPL.Selector}}}, DynamicPPL.Metadata{Dict{AbstractPPL.VarName{:s8, Tuple{}}, Int64}, Vector{Uniform{Float64}}, Vector{AbstractPPL.VarName{:s8, Tuple{}}}, Vector{Float64}, Vector{Set{DynamicPPL.Selector}}}}}, Float64}, AdvancedHMC.NUTS{AdvancedHMC.MultinomialTS, AdvancedHMC.GeneralisedNoUTurn, AdvancedHMC.Leapfrog{Float64}, Float64}, AdvancedHMC.Hamiltonian{AdvancedHMC.DiagEuclideanMetric{Float64, Vector{Float64}}, Turing.Inference.var\"#logπ#54\"{DynamicPPL.TypedVarInfo{NamedTuple{(:Ωm, :s8), Tuple{DynamicPPL.Metadata{Dict{AbstractPPL.VarName{:Ωm, Tuple{}}, Int64}, Vector{Uniform{Float64}}, Vector{AbstractPPL.VarName{:Ωm, Tuple{}}}, Vector{Float64}, Vector{Set{DynamicPPL.Selector}}}, DynamicPPL.Metadata{Dict{AbstractPPL.VarName{:s8, Tuple{}}, Int64}, Vector{Uniform{Float64}}, Vector{AbstractPPL.VarName{:s8, Tuple{}}}, Vector{Float64}, Vector{Set{DynamicPPL.Selector}}}}}, Float64}, DynamicPPL.Sampler{NUTS{Turing.Core.ForwardDiffAD{40}, (), AdvancedHMC.DiagEuclideanMetric}}, DynamicPPL.Model{var\"#6#7\", (:data_vector,), (), (), Tuple{Vector{Float64}}, Tuple{}}}, Turing.Inference.var\"#∂logπ∂θ#53\"{DynamicPPL.TypedVarInfo{NamedTuple{(:Ωm, :s8), Tuple{DynamicPPL.Metadata{Dict{AbstractPPL.VarName{:Ωm, Tuple{}}, Int64}, Vector{Uniform{Float64}}, Vector{AbstractPPL.VarName{:Ωm, Tuple{}}}, Vector{Float64}, Vector{Set{DynamicPPL.Selector}}}, DynamicPPL.Metadata{Dict{AbstractPPL.VarName{:s8, Tuple{}}, Int64}, Vector{Uniform{Float64}}, Vector{AbstractPPL.VarName{:s8, Tuple{}}}, Vector{Float64}, Vector{Set{DynamicPPL.Selector}}}}}, Float64}, DynamicPPL.Sampler{NUTS{Turing.Core.ForwardDiffAD{40}, (), AdvancedHMC.DiagEuclideanMetric}}, DynamicPPL.Model{var\"#6#7\", (:data_vector,), (), (), Tuple{Vector{Float64}}, Tuple{}}}}, AdvancedHMC.PhasePoint{Vector{Float64}, AdvancedHMC.DualValue{Float64, Vector{Float64}}}, AdvancedHMC.Adaptation.StanHMCAdaptor{AdvancedHMC.Adaptation.WelfordVar{Float64, Vector{Float64}}, AdvancedHMC.Adaptation.NesterovDualAveraging{Float64}}}; nadapts::Int64, kwargs::Base.Pairs{Symbol, Integer, Tuple{Symbol, Symbol}, NamedTuple{(:nadapt, :save_state), Tuple{Int64, Bool}}})",
      "    @ Turing.Inference ~/.julia/packages/Turing/uAz5c/src/inference/hmc.jl:278",
      " [36] macro expansion",
      "    @ ~/.julia/packages/AbstractMCMC/oou1a/src/sample.jl:108 [inlined]",
      " [37] macro expansion",
      "    @ ~/.julia/packages/ProgressLogging/6KXlp/src/ProgressLogging.jl:328 [inlined]",
      " [38] (::AbstractMCMC.var\"#20#21\"{Bool, String, Nothing, Int64, Int64, Base.Pairs{Symbol, Integer, Tuple{Symbol, Symbol, Symbol}, NamedTuple{(:nadapts, :nadapt, :save_state), Tuple{Int64, Int64, Bool}}}, Random._GLOBAL_RNG, DynamicPPL.Model{var\"#6#7\", (:data_vector,), (), (), Tuple{Vector{Float64}}, Tuple{}}, DynamicPPL.Sampler{NUTS{Turing.Core.ForwardDiffAD{40}, (), AdvancedHMC.DiagEuclideanMetric}}, Int64, Int64})()",
      "    @ AbstractMCMC ~/.julia/packages/AbstractMCMC/oou1a/src/logging.jl:11",
      " [39] with_logstate(f::Function, logstate::Any)",
      "    @ Base.CoreLogging ./logging.jl:511",
      " [40] with_logger(f::Function, logger::LoggingExtras.TeeLogger{Tuple{LoggingExtras.EarlyFilteredLogger{ConsoleProgressMonitor.ProgressLogger, AbstractMCMC.var\"#1#3\"{Module}}, LoggingExtras.EarlyFilteredLogger{Base.CoreLogging.SimpleLogger, AbstractMCMC.var\"#2#4\"{Module}}}})",
      "    @ Base.CoreLogging ./logging.jl:623",
      " [41] with_progresslogger(f::Function, _module::Module, logger::Base.CoreLogging.SimpleLogger)",
      "    @ AbstractMCMC ~/.julia/packages/AbstractMCMC/oou1a/src/logging.jl:34",
      " [42] macro expansion",
      "    @ ~/.julia/packages/AbstractMCMC/oou1a/src/logging.jl:10 [inlined]",
      " [43] mcmcsample(rng::Random._GLOBAL_RNG, model::DynamicPPL.Model{var\"#6#7\", (:data_vector,), (), (), Tuple{Vector{Float64}}, Tuple{}}, sampler::DynamicPPL.Sampler{NUTS{Turing.Core.ForwardDiffAD{40}, (), AdvancedHMC.DiagEuclideanMetric}}, N::Int64; progress::Bool, progressname::String, callback::Nothing, discard_initial::Int64, thinning::Int64, chain_type::Type, kwargs::Base.Pairs{Symbol, Integer, Tuple{Symbol, Symbol, Symbol}, NamedTuple{(:nadapts, :nadapt, :save_state), Tuple{Int64, Int64, Bool}}})",
      "    @ AbstractMCMC ~/.julia/packages/AbstractMCMC/oou1a/src/sample.jl:88",
      " [44] sample(rng::Random._GLOBAL_RNG, model::DynamicPPL.Model{var\"#6#7\", (:data_vector,), (), (), Tuple{Vector{Float64}}, Tuple{}}, sampler::DynamicPPL.Sampler{NUTS{Turing.Core.ForwardDiffAD{40}, (), AdvancedHMC.DiagEuclideanMetric}}, N::Int64; chain_type::Type, resume_from::Nothing, progress::Bool, nadapts::Int64, discard_adapt::Bool, discard_initial::Int64, kwargs::Base.Pairs{Symbol, Integer, Tuple{Symbol, Symbol}, NamedTuple{(:nadapt, :save_state), Tuple{Int64, Bool}}})",
      "    @ Turing.Inference ~/.julia/packages/Turing/uAz5c/src/inference/hmc.jl:140",
      " [45] #sample#2",
      "    @ ~/.julia/packages/Turing/uAz5c/src/inference/Inference.jl:142 [inlined]",
      " [46] #sample#1",
      "    @ ~/.julia/packages/Turing/uAz5c/src/inference/Inference.jl:132 [inlined]",
      " [47] top-level scope",
      "    @ In[24]:1",
      " [48] eval",
      "    @ ./boot.jl:373 [inlined]",
      " [49] include_string(mapexpr::typeof(REPL.softscope), mod::Module, code::String, filename::String)",
      "    @ Base ./loading.jl:1196"
     ]
    }
   ],
   "source": [
    "chain3 = sample(model(data_vector), NUTS(100, 0.5), iterations,\n",
    "            nadapt=nadapts, progress=true; save_state=true);"
   ]
  },
  {
   "cell_type": "code",
   "execution_count": null,
   "id": "a2994862",
   "metadata": {},
   "outputs": [],
   "source": [
    "chain4 = sample(model_parallel(data_vector), NUTS(100, 0.5), iterations,\n",
    "            nadapt=nadapts, progress=true; save_state=true);"
   ]
  },
  {
   "cell_type": "code",
   "execution_count": null,
   "id": "dc01c0b5",
   "metadata": {},
   "outputs": [],
   "source": [
    "iterations = 1000\n",
    "adaptation = 100\n",
    "TAP = 0.6\n",
    "\n",
    "NUTS_chain = sample(model(data_vector), NUTS(adaptation, TAP),\n",
    "            iterations, progress=true; save_state=true);"
   ]
  },
  {
   "cell_type": "code",
   "execution_count": null,
   "id": "06541cf7",
   "metadata": {},
   "outputs": [],
   "source": [
    "describe(NUTS_chain)[1]"
   ]
  },
  {
   "cell_type": "code",
   "execution_count": null,
   "id": "02dfc692",
   "metadata": {},
   "outputs": [],
   "source": [
    "plot(NUTS_chain)"
   ]
  },
  {
   "cell_type": "code",
   "execution_count": null,
   "id": "1f655835",
   "metadata": {},
   "outputs": [],
   "source": []
  }
 ],
 "metadata": {
  "kernelspec": {
   "display_name": "Julia 4 Threads 1.7.0",
   "language": "julia",
   "name": "julia-4-threads-1.7"
  },
  "language_info": {
   "file_extension": ".jl",
   "mimetype": "application/julia",
   "name": "julia",
   "version": "1.7.0"
  }
 },
 "nbformat": 4,
 "nbformat_minor": 5
}
