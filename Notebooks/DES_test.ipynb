{
 "cells": [
  {
   "cell_type": "code",
   "execution_count": 1,
   "id": "02df9ee7",
   "metadata": {},
   "outputs": [],
   "source": [
    "using ReverseDiff\n",
    "using Turing\n",
    "Turing.setadbackend(:reversediff)\n",
    "using LimberJack\n",
    "using LinearAlgebra\n",
    "using CSV\n",
    "using NPZ\n",
    "using FITSIO\n",
    "using ForwardDiff\n",
    "using PythonCall\n",
    "using BenchmarkTools;"
   ]
  },
  {
   "cell_type": "code",
   "execution_count": 2,
   "id": "ec70eed2",
   "metadata": {},
   "outputs": [],
   "source": [
    "np = pyimport(\"numpy\")\n",
    "\n",
    "fol = \"DESY1\"\n",
    "data_set = \"gcgc_gcwl_wlwl\"\n",
    "meta = np.load(string(\"../data/\", fol, \"/\", data_set, \"_meta.npz\"))\n",
    "files = npzread(string(\"../data/\", fol, \"/\", data_set, \"_files.npz\"))\n",
    "\n",
    "tracers_names = pyconvert(Vector{String}, meta[\"tracers\"])\n",
    "pairs = pyconvert(Vector{Vector{String}}, meta[\"pairs\"]);\n",
    "pairs_ids = pyconvert(Vector{Vector{Int}}, meta[\"pairs_ids\"])\n",
    "idx = pyconvert(Vector{Int}, meta[\"idx\"])\n",
    "data_vector = pyconvert(Vector{Float64}, meta[\"cls\"])\n",
    "cov_tot = pyconvert(Matrix{Float64}, meta[\"cov\"])\n",
    "inv_cov_tot = pyconvert(Matrix{Float64}, meta[\"inv_cov\"]);"
   ]
  },
  {
   "cell_type": "code",
   "execution_count": 3,
   "id": "57fb0a36",
   "metadata": {},
   "outputs": [],
   "source": [
    "#                Omega_b,           Omega_c          n_s,                 h,\n",
    "#                DESgc__0_gc_b,     DESgc__1_gc_b,   DESgc__2_gc_b,    DESgc__3_gc_b,    DESgc__4_gc_b,\n",
    "#                DESgc__0_dz,      DESgc__1_dz,      DESgc__2_dz,      DESgc__3_dz,      DESgc__4_dz,\n",
    "#                wl_ia_A,          wl_ia_eta, \n",
    "#                DESwl__0_wl_m,    DESwl__1_wl_m,    DESwl__2_wl_m,    DESwl__3_wl_m,\n",
    "#                DESwl__0_dz,      DESwl__1_dz,      DESwl__2_dz,      DESwl__3_dz,\n",
    "#                sigma_8,          Omega_m\n",
    "carlos_params1 = [4.426868e-02,     2.093138e-01,     8.963611e-01,     8.495440e-01,\n",
    "                 1.343888e+00,    1.639047e+00,      1.597174e+00,     1.944583e+00,     2.007245e+00,\n",
    "                -4.679383e-03,   -2.839996e-03,      1.771571e-03,     1.197051e-03,    -5.199799e-03,\n",
    "                 2.389208e-01,   -6.435288e-01, \n",
    "                 1.802722e-03,   -5.508994e-03,     1.952514e-02,    -1.117726e-03,\n",
    "                -1.744083e-02,    6.777779e-03,    -1.097939e-03,    -4.912315e-03,\n",
    "                 8.536883e-01,    2.535825e-01];"
   ]
  },
  {
   "cell_type": "code",
   "execution_count": 4,
   "id": "7d1a182c",
   "metadata": {},
   "outputs": [],
   "source": [
    "cls_carlos = npzread(\"/home/jaime/PhD/LimberJack.jl/chains/carlos_chains/cl_cross_corr_v3_DES_2/cl_cross_corr_bestfit_info.npz\");\n",
    "cls_carlos2 = npzread(\"/home/jaime/PhD/LimberJack.jl/chains/carlos_chains/cl_cross_corr_v3_DES_2/cl_cross_corr_bestfit_info_nointerp.npz\");\n",
    "cls_carlos3 = npzread(\"/home/jaime/PhD/LimberJack.jl/chains/carlos_chains/cl_cross_corr_v3_DES_2/cl_cross_corr_bestfit_info_nointerp_EH.npz\");\n",
    "cls_carlos4 = npzread(\"/home/jaime/PhD/LimberJack.jl/chains/carlos_chains/cl_cross_corr_v3_DES_2/cl_cross_corr_bestfit_info_nointerp_EH_noconv.npz\");"
   ]
  },
  {
   "cell_type": "code",
   "execution_count": 5,
   "id": "417c990f",
   "metadata": {},
   "outputs": [
    {
     "data": {
      "text/plain": [
       "Dict{String, Float64} with 20 entries:\n",
       "  \"DESwl__2_e_dz\" => -0.00109794\n",
       "  \"DESwl__3_e_m\"  => -0.00111773\n",
       "  \"A_IA\"          => 0.238921\n",
       "  \"DESwl__0_e_m\"  => 0.00180272\n",
       "  \"DESwl__3_e_dz\" => -0.00491232\n",
       "  \"DESgc__3_0_dz\" => 0.00119705\n",
       "  \"DESgc__1_0_b\"  => 1.63905\n",
       "  \"DESgc__2_0_b\"  => 1.59717\n",
       "  \"DESwl__1_e_dz\" => 0.00677778\n",
       "  \"DESwl__1_e_m\"  => -0.00550899\n",
       "  \"DESgc__4_0_dz\" => -0.0051998\n",
       "  \"DESgc__3_0_b\"  => 1.94458\n",
       "  \"DESwl__2_e_m\"  => 0.0195251\n",
       "  \"DESgc__1_0_dz\" => -0.00284\n",
       "  \"DESgc__0_0_dz\" => -0.00467938\n",
       "  \"DESgc__4_0_b\"  => 2.00725\n",
       "  \"alpha_IA\"      => -0.643529\n",
       "  \"DESgc__0_0_b\"  => 1.34389\n",
       "  \"DESwl__0_e_dz\" => -0.0174408\n",
       "  \"DESgc__2_0_dz\" => 0.00177157"
      ]
     },
     "execution_count": 5,
     "metadata": {},
     "output_type": "execute_result"
    }
   ],
   "source": [
    "pars = carlos_params1\n",
    "nuisances = Dict(\"DESgc__0_0_b\" => pars[5],\n",
    "                 \"DESgc__1_0_b\" => pars[6],\n",
    "                 \"DESgc__2_0_b\" => pars[7],\n",
    "                 \"DESgc__3_0_b\" => pars[8],\n",
    "                 \"DESgc__4_0_b\" => pars[9],\n",
    "                 \"DESgc__0_0_dz\" => pars[10],\n",
    "                 \"DESgc__1_0_dz\" => pars[11],\n",
    "                 \"DESgc__2_0_dz\" => pars[12],\n",
    "                 \"DESgc__3_0_dz\" => pars[13],\n",
    "                 \"DESgc__4_0_dz\" => pars[14],\n",
    "\n",
    "                 \"A_IA\" => pars[15],\n",
    "                 \"alpha_IA\" => pars[16],\n",
    "\n",
    "                 \"DESwl__0_e_dz\" => pars[21],\n",
    "                 \"DESwl__1_e_dz\" => pars[22],\n",
    "                 \"DESwl__2_e_dz\" => pars[23],\n",
    "                 \"DESwl__3_e_dz\" => pars[24],\n",
    "                 \"DESwl__0_e_m\" => pars[17],\n",
    "                 \"DESwl__1_e_m\" => pars[18],\n",
    "                 \"DESwl__2_e_m\" => pars[19],\n",
    "                 \"DESwl__3_e_m\" => pars[20])"
   ]
  },
  {
   "cell_type": "code",
   "execution_count": 17,
   "id": "81b7ac69",
   "metadata": {},
   "outputs": [
    {
     "data": {
      "text/plain": [
       "make_cls (generic function with 1 method)"
      ]
     },
     "execution_count": 17,
     "metadata": {},
     "output_type": "execute_result"
    }
   ],
   "source": [
    "function make_cls(pars; mode=\"EisHu\", nuisances = nuisances)\n",
    "\n",
    "    Ωm = pars[26]\n",
    "    Ωb = pars[1]\n",
    "    h = pars[4]\n",
    "    ns = pars[3]\n",
    "    s8 = pars[25]\n",
    "    cosmology = LimberJack.Cosmology(Ωm, Ωb, h, ns, s8, \n",
    "                                     tk_mode=mode, Pk_mode=\"Halofit\", \n",
    "                                     nk=200, nz=200, nz_pk=100)\n",
    "\n",
    "    return Theory(cosmology, tracers_names, pairs,\n",
    "                  pairs_ids, idx, files;\n",
    "                  Nuisances=nuisances)\n",
    "\n",
    "end"
   ]
  },
  {
   "cell_type": "code",
   "execution_count": 18,
   "id": "32c85db8",
   "metadata": {},
   "outputs": [
    {
     "data": {
      "text/plain": [
       "BenchmarkTools.Trial: 130 samples with 1 evaluation.\n",
       " Range \u001b[90m(\u001b[39m\u001b[36m\u001b[1mmin\u001b[22m\u001b[39m … \u001b[35mmax\u001b[39m\u001b[90m):  \u001b[39m\u001b[36m\u001b[1m20.176 ms\u001b[22m\u001b[39m … \u001b[35m95.415 ms\u001b[39m  \u001b[90m┊\u001b[39m GC \u001b[90m(\u001b[39mmin … max\u001b[90m): \u001b[39m 0.00% … 58.05%\n",
       " Time  \u001b[90m(\u001b[39m\u001b[34m\u001b[1mmedian\u001b[22m\u001b[39m\u001b[90m):     \u001b[39m\u001b[34m\u001b[1m37.852 ms              \u001b[22m\u001b[39m\u001b[90m┊\u001b[39m GC \u001b[90m(\u001b[39mmedian\u001b[90m):    \u001b[39m 0.00%\n",
       " Time  \u001b[90m(\u001b[39m\u001b[32m\u001b[1mmean\u001b[22m\u001b[39m ± \u001b[32mσ\u001b[39m\u001b[90m):   \u001b[39m\u001b[32m\u001b[1m38.579 ms\u001b[22m\u001b[39m ± \u001b[32m12.823 ms\u001b[39m  \u001b[90m┊\u001b[39m GC \u001b[90m(\u001b[39mmean ± σ\u001b[90m):  \u001b[39m10.87% ± 18.17%\n",
       "\n",
       "  \u001b[39m \u001b[39m \u001b[39m \u001b[39m \u001b[39m \u001b[39m \u001b[39m \u001b[39m \u001b[39m \u001b[39m \u001b[39m \u001b[39m \u001b[39m \u001b[39m \u001b[39m \u001b[39m \u001b[39m█\u001b[34m▂\u001b[39m\u001b[39m \u001b[39m \u001b[39m \u001b[39m \u001b[39m \u001b[39m \u001b[39m \u001b[39m \u001b[39m \u001b[39m \u001b[39m \u001b[39m \u001b[39m \u001b[39m \u001b[39m \u001b[39m \u001b[39m \u001b[39m \u001b[39m \u001b[39m \u001b[39m \u001b[39m \u001b[39m \u001b[39m \u001b[39m \u001b[39m \u001b[39m \u001b[39m \u001b[39m \u001b[39m \u001b[39m \u001b[39m \u001b[39m \u001b[39m \u001b[39m \u001b[39m \u001b[39m \u001b[39m \u001b[39m \u001b[39m \u001b[39m \u001b[39m \u001b[39m \n",
       "  \u001b[39m▆\u001b[39m▃\u001b[39m▁\u001b[39m▂\u001b[39m▄\u001b[39m▄\u001b[39m▄\u001b[39m▂\u001b[39m▄\u001b[39m▃\u001b[39m▂\u001b[39m▃\u001b[39m▃\u001b[39m▆\u001b[39m▆\u001b[39m▅\u001b[39m█\u001b[34m█\u001b[39m\u001b[39m▄\u001b[39m▄\u001b[39m▄\u001b[39m▄\u001b[39m▄\u001b[39m▂\u001b[39m▂\u001b[39m▁\u001b[39m▁\u001b[39m▁\u001b[39m▁\u001b[39m▁\u001b[39m▁\u001b[39m▁\u001b[39m▁\u001b[39m▁\u001b[39m▁\u001b[39m▁\u001b[39m▁\u001b[39m▁\u001b[39m▁\u001b[39m▁\u001b[39m▁\u001b[39m▁\u001b[39m▂\u001b[39m▁\u001b[39m▁\u001b[39m▄\u001b[39m▂\u001b[39m▄\u001b[39m▃\u001b[39m▁\u001b[39m▁\u001b[39m▁\u001b[39m▁\u001b[39m▁\u001b[39m▁\u001b[39m▁\u001b[39m▁\u001b[39m▁\u001b[39m▂\u001b[39m \u001b[39m▂\n",
       "  20.2 ms\u001b[90m         Histogram: frequency by time\u001b[39m          83 ms \u001b[0m\u001b[1m<\u001b[22m\n",
       "\n",
       " Memory estimate\u001b[90m: \u001b[39m\u001b[33m24.10 MiB\u001b[39m, allocs estimate\u001b[90m: \u001b[39m\u001b[33m49581\u001b[39m."
      ]
     },
     "execution_count": 18,
     "metadata": {},
     "output_type": "execute_result"
    }
   ],
   "source": [
    "@benchmark make_cls(pars)"
   ]
  },
  {
   "cell_type": "markdown",
   "id": "3dcf3e15",
   "metadata": {
    "heading_collapsed": true
   },
   "source": [
    "## plot lkl"
   ]
  },
  {
   "cell_type": "code",
   "execution_count": 7,
   "id": "84e2d337",
   "metadata": {
    "hidden": true
   },
   "outputs": [
    {
     "data": {
      "text/plain": [
       "make_Xi (generic function with 1 method)"
      ]
     },
     "execution_count": 7,
     "metadata": {},
     "output_type": "execute_result"
    }
   ],
   "source": [
    "#using Plots\n",
    "function make_Xi(Ωm, s8; pars=pars, mode=\"EisHu\", nuisances=nuisances)\n",
    "    Ωb = pars[1]\n",
    "    h = pars[4]\n",
    "    ns = pars[3]\n",
    "    cosmology = LimberJack.Cosmology(Ωm, Ωb, h, ns, s8, \n",
    "                                     tk_mode=mode, Pk_mode=\"Halofit\")\n",
    "\n",
    "    theory = Theory(cosmology, tracers_names, pairs,\n",
    "                    pairs_ids, idx, files;\n",
    "                    Nuisances=nuisances)\n",
    "    return dot((theory .- data_vector), inv_cov_tot  * (theory .- data_vector))\n",
    "end"
   ]
  },
  {
   "cell_type": "code",
   "execution_count": 19,
   "id": "bae23a9a",
   "metadata": {
    "hidden": true
   },
   "outputs": [
    {
     "data": {
      "text/plain": [
       "10-element LinRange{Float64, Int64}:\n",
       " 0.6,0.633333,0.666667,0.7,0.733333,0.766667,0.8,0.833333,0.866667,0.9"
      ]
     },
     "execution_count": 19,
     "metadata": {},
     "output_type": "execute_result"
    }
   ],
   "source": [
    "Ωms = LinRange(0.1, 0.6, 10)\n",
    "s8s = LinRange(0.6, 0.9, 10)"
   ]
  },
  {
   "cell_type": "code",
   "execution_count": 20,
   "id": "291c8884",
   "metadata": {
    "hidden": true
   },
   "outputs": [
    {
     "data": {
      "text/plain": [
       "10-element Vector{Vector{Float64}}:\n",
       " [3698.891721109562, 1780.5847004420193, 1725.3448554542642, 1709.4046847106786, 1683.9241504047316, 1665.3269390752637, 1675.6134355843524, 1738.5998900961874, 1869.9155727971836, 2093.089086703927]\n",
       " [4116.171027593573, 1604.833608551068, 1499.2396224492306, 1472.9515726208765, 1452.8717662107883, 1454.9958101394075, 1503.6433595285769, 1625.2707031805637, 1838.4102168332097, 2170.8432390638054]\n",
       " [4676.474251243173, 1454.8581670322144, 1286.3700604813425, 1248.6974774845603, 1238.2996419694725, 1269.5303574280601, 1368.5539872494508, 1564.3255391856503, 1878.8204125218765, 2345.1806213091127]\n",
       " [5402.211220112912, 1337.8403119950244, 1092.1990584856464, 1042.2610686781882, 1046.6793731492407, 1116.544241164355, 1279.2475362037235, 1566.165188615207, 2003.5482614981272, 2631.4621140725076]\n",
       " [6318.076557179494, 1261.7689453427624, 922.8116878297649, 859.8641577361749, 885.0473550626258, 1004.1338480732711, 1245.030048744554, 1641.5934770846743, 2225.5665969755282, 3046.062713840996]\n",
       " [7451.316399258637, 1235.5018292723805, 784.9584442932318, 708.3470588726393, 760.9923567639675, 940.854996824312, 1275.6071104633727, 1801.8649201700484, 2558.5545497341363, 3606.6428339346135]\n",
       " [8832.042244128963, 1268.8419475045237, 686.0965097762587, 595.1810380301553, 682.6459394915402, 935.7135886844216, 1381.1052776659144, 2058.7677871649935, 3017.0778717993394, 4332.476689042672]\n",
       " [10493.596378033886, 1372.6331406286681, 634.4287866502871, 528.4791485288958, 658.6782783976857, 998.1722728717675, 1572.1193601476416, 2424.7409991908453, 3616.8118175841637, 5244.834738236909]\n",
       " [12472.972835341317, 1558.8315527124334, 638.9406761181981, 517.0068173417526, 698.3014674172113, 1138.1743054104193, 1859.7850694023664, 2913.0233385905776, 4374.80475074584, 6367.416489009835]\n",
       " [14811.297194895764, 1840.6014309219343, 709.4340246091886, 570.1935040648467, 811.2818853802587, 1366.1851104824123, 2255.8762667060823, 3537.833691125998, 5309.780699107389, 7726.82878756173]"
      ]
     },
     "execution_count": 20,
     "metadata": {},
     "output_type": "execute_result"
    }
   ],
   "source": [
    "Xis1 = [[make_Xi(Ωms[i], s8s[j]) for i in 1:length(Ωms)] for j in 1:length(s8s)]"
   ]
  },
  {
   "cell_type": "code",
   "execution_count": 21,
   "id": "e7407ce2",
   "metadata": {
    "hidden": true
   },
   "outputs": [
    {
     "data": {
      "text/plain": [
       "10-element Vector{Vector{Float64}}:\n",
       " [4643.494321208539, 1869.0625491727003, 1723.1223155932373, 1591.3222830729853, 1649.9209409346195, 1761.6043015395305, 1717.5988240356508, 1818.9480698213958, 1945.6361725474, 2101.714712974118]\n",
       " [4695.598660231949, 1668.6172725491729, 1579.0138557327916, 1479.0894077582254, 1478.7030260428955, 1542.4365522727692, 1546.6379861191144, 1648.1402012160543, 1880.4964241002783, 2179.359645935979]\n",
       " [5028.388922168973, 1467.4353136338393, 1326.2463266735322, 1248.2687842372063, 1209.8910289411424, 1315.5182062853685, 1404.3001720140007, 1587.6548570619245, 1895.6785866554594, 2334.198337682341]\n",
       " [5562.686991276599, 1304.020825657619, 1105.9946091686909, 997.2414990208352, 978.3172944028744, 1139.793082059862, 1270.7539488313303, 1571.9307174888606, 2011.689138208753, 2615.7145352796247]\n",
       " [6193.019983881361, 1232.442732930393, 945.2602680702212, 859.7434489445171, 822.0427846930223, 996.959797237627, 1230.5817675741762, 1643.7557383860383, 2218.8540917049945, 3224.413166265943]\n",
       " [7169.133858203343, 1217.645177435569, 813.2702301880621, 700.4325059909021, 730.560098388079, 929.7716361842942, 1286.7772725831219, 1843.5936790188343, 2565.2968613702583, 3612.7983155130555]\n",
       " [8264.168668470054, 1244.9927011256518, 706.6083546926283, 584.8686945306563, 678.5762354613225, 915.7850237456872, 1385.0829624447151, 2036.7644200713667, 2950.7238835792405, 4138.887397324457]\n",
       " [9389.63577251343, 1341.8384685952528, 638.7207825695904, 528.683519406698, 660.5659519180323, 980.7392658850982, 1543.8757194036746, 2408.4897362616234, 3601.621112572718, 5731.448124893233]\n",
       " [11047.27283303311, 1541.5119485252123, 674.6360302043477, 549.1221825518468, 696.0687521327171, 1150.828810016342, 1964.5997468388916, 3156.6069295528746, 4981.859696193712, 9172.103278832848]\n",
       " [14465.309242018331, 1875.0597788560076, 772.1333560686365, 668.1423786401023, 925.7260380013436, 1405.6765579759538, 2797.9319313719893, 4901.629864343874, 6727.549928639049, 16749.636595348427]"
      ]
     },
     "execution_count": 21,
     "metadata": {},
     "output_type": "execute_result"
    }
   ],
   "source": [
    "Xis2 = [[make_Xi(Ωms[i], s8s[j]; mode=\"emulator\") for i in 1:length(Ωms)] for j in 1:length(s8s)]"
   ]
  },
  {
   "cell_type": "code",
   "execution_count": 23,
   "id": "b37c8624",
   "metadata": {
    "hidden": true
   },
   "outputs": [
    {
     "ename": "LoadError",
     "evalue": "MethodError: no method matching zero(::Type{Vector{Float64}})\n\u001b[0mClosest candidates are:\n\u001b[0m  zero(\u001b[91m::Union{Type{P}, P}\u001b[39m) where P<:Dates.Period at /opt/julia-1.7.0/share/julia/stdlib/v1.7/Dates/src/periods.jl:53\n\u001b[0m  zero(\u001b[91m::Static.StaticInt\u001b[39m) at ~/.julia/packages/Static/maaLb/src/Static.jl:46\n\u001b[0m  zero(\u001b[91m::Static.NDIndex\u001b[39m) at ~/.julia/packages/Static/maaLb/src/Static.jl:850\n\u001b[0m  ...",
     "output_type": "error",
     "traceback": [
      "MethodError: no method matching zero(::Type{Vector{Float64}})\n\u001b[0mClosest candidates are:\n\u001b[0m  zero(\u001b[91m::Union{Type{P}, P}\u001b[39m) where P<:Dates.Period at /opt/julia-1.7.0/share/julia/stdlib/v1.7/Dates/src/periods.jl:53\n\u001b[0m  zero(\u001b[91m::Static.StaticInt\u001b[39m) at ~/.julia/packages/Static/maaLb/src/Static.jl:46\n\u001b[0m  zero(\u001b[91m::Static.NDIndex\u001b[39m) at ~/.julia/packages/Static/maaLb/src/Static.jl:850\n\u001b[0m  ...",
      "",
      "Stacktrace:",
      " [1] _vectorpinv(dualfn::typeof(adjoint), v::Vector{Vector{Float64}}, tol::Int64)",
      "   @ LinearAlgebra /opt/julia-1.7.0/share/julia/stdlib/v1.7/LinearAlgebra/src/generic.jl:1080",
      " [2] pinv(v::Vector{Vector{Float64}}, tol::Int64)",
      "   @ LinearAlgebra /opt/julia-1.7.0/share/julia/stdlib/v1.7/LinearAlgebra/src/generic.jl:1078",
      " [3] pinv(v::Adjoint{Adjoint{Float64, Vector{Float64}}, Vector{Vector{Float64}}}, tol::Int64) (repeats 2 times)",
      "   @ LinearAlgebra /opt/julia-1.7.0/share/julia/stdlib/v1.7/LinearAlgebra/src/adjtrans.jl:311",
      " [4] \\(u::Adjoint{Adjoint{Float64, Vector{Float64}}, Vector{Vector{Float64}}}, v::Adjoint{Adjoint{Float64, Vector{Float64}}, Vector{Vector{Float64}}})",
      "   @ LinearAlgebra /opt/julia-1.7.0/share/julia/stdlib/v1.7/LinearAlgebra/src/adjtrans.jl:316",
      " [5] /(A::Vector{Vector{Float64}}, B::Vector{Vector{Float64}})",
      "   @ LinearAlgebra /opt/julia-1.7.0/share/julia/stdlib/v1.7/LinearAlgebra/src/generic.jl:1150",
      " [6] top-level scope",
      "   @ In[23]:1",
      " [7] eval",
      "   @ ./boot.jl:373 [inlined]",
      " [8] include_string(mapexpr::typeof(REPL.softscope), mod::Module, code::String, filename::String)",
      "   @ Base ./loading.jl:1196"
     ]
    }
   ],
   "source": [
    "((Xis2-Xis1)/Xis1)"
   ]
  },
  {
   "cell_type": "markdown",
   "id": "69f75cfc",
   "metadata": {
    "heading_collapsed": true
   },
   "source": [
    "## tests"
   ]
  },
  {
   "cell_type": "code",
   "execution_count": 19,
   "id": "db98178a",
   "metadata": {
    "hidden": true
   },
   "outputs": [
    {
     "data": {
      "text/plain": [
       "numd_cls_nuisance (generic function with 1 method)"
      ]
     },
     "execution_count": 19,
     "metadata": {},
     "output_type": "execute_result"
    }
   ],
   "source": [
    "function diff_cls(Wb)\n",
    "    cosmology = LimberJack.Cosmology(0.3, Wb, 0.67, 0.96, 0.81,\n",
    "                                     tk_mode=\"EisHu\", Pk_mode=\"Halofit\")\n",
    "    cls = Theory(cosmology, files)\n",
    "    return cls\n",
    "end\n",
    "\n",
    "function numd_cls(Wb)\n",
    "    cosmology1 = LimberJack.Cosmology(0.3, Wb, 0.67, 0.96, 0.81,\n",
    "                                     tk_mode=\"EisHu\", Pk_mode=\"Halofit\")\n",
    "    cosmology2 = LimberJack.Cosmology(0.3, Wb-0.0001, 0.67, 0.96, 0.81,\n",
    "                                     tk_mode=\"EisHu\", Pk_mode=\"Halofit\")\n",
    "    cls1 = Theory(cosmology1, files)\n",
    "    cls2 = Theory(cosmology2, files)\n",
    "    return (cls1 .- cls2) ./ 0.0001\n",
    "end\n",
    "\n",
    "\n",
    "function diff_cls_nuisance(dz)\n",
    "    nuisances = Dict(#\"b0\" => 2.0,\n",
    "                     \"dz_g2\"=> dz)\n",
    "    cosmology = LimberJack.Cosmology(0.3, 0.05, 0.67, 0.96, 0.81,\n",
    "                                     tk_mode=\"EisHu\", Pk_mode=\"Halofit\")\n",
    "    cls = Theory(cosmology, files; Nuisances=nuisances)\n",
    "    return cls\n",
    "end\n",
    "\n",
    "function numd_cls_nuisance(dz)\n",
    "    nuisances1 = Dict(#\"b0\" => 2.0,\n",
    "                      \"dz_g2\"=> dz)\n",
    "    nuisances2 = Dict(#\"b0\" => 2.0,\n",
    "                      \"dz_g2\"=> dz.-0.0005)\n",
    "    cosmology = LimberJack.Cosmology(0.3, 0.05, 0.67, 0.96, 0.81,\n",
    "                                     tk_mode=\"EisHu\", Pk_mode=\"Halofit\")\n",
    "    cls1 = Theory(cosmology, files; Nuisances=nuisances1)\n",
    "    cls2 = Theory(cosmology, files; Nuisances=nuisances2)\n",
    "    return (cls1 .- cls2) ./ 0.0005\n",
    "end\n",
    "\n"
   ]
  },
  {
   "cell_type": "code",
   "execution_count": 9,
   "id": "b745ebff",
   "metadata": {
    "hidden": true
   },
   "outputs": [
    {
     "ename": "LoadError",
     "evalue": "UndefVarError: files not defined",
     "output_type": "error",
     "traceback": [
      "UndefVarError: files not defined",
      "",
      "Stacktrace:",
      " [1] numd_cls(Wb::Float64)",
      "   @ Main ./In[8]:13",
      " [2] top-level scope",
      "   @ In[9]:1",
      " [3] eval",
      "   @ ./boot.jl:373 [inlined]",
      " [4] include_string(mapexpr::typeof(REPL.softscope), mod::Module, code::String, filename::String)",
      "   @ Base ./loading.jl:1196"
     ]
    }
   ],
   "source": [
    "mean(abs.(numd_cls(0.05)./ForwardDiff.derivative(diff_cls, 0.05) .-1))"
   ]
  },
  {
   "cell_type": "code",
   "execution_count": 10,
   "id": "77aca8ac",
   "metadata": {
    "hidden": true
   },
   "outputs": [
    {
     "ename": "LoadError",
     "evalue": "UndefVarError: files not defined",
     "output_type": "error",
     "traceback": [
      "UndefVarError: files not defined",
      "",
      "Stacktrace:",
      " [1] numd_cls(Wb::Float64)",
      "   @ Main ./In[8]:13",
      " [2] top-level scope",
      "   @ In[10]:1",
      " [3] eval",
      "   @ ./boot.jl:373 [inlined]",
      " [4] include_string(mapexpr::typeof(REPL.softscope), mod::Module, code::String, filename::String)",
      "   @ Base ./loading.jl:1196"
     ]
    }
   ],
   "source": [
    "comp = abs.(numd_cls(0.05)./ForwardDiff.derivative(diff_cls, 0.05) .-1)\n",
    "plot(comp)"
   ]
  },
  {
   "cell_type": "code",
   "execution_count": 12,
   "id": "960b63b0",
   "metadata": {
    "hidden": true
   },
   "outputs": [
    {
     "name": "stdout",
     "output_type": "stream",
     "text": [
      "1.9066546024643162e-8\n"
     ]
    },
    {
     "data": {
      "image/svg+xml": [
       "<?xml version=\"1.0\" encoding=\"utf-8\"?>\n",
       "<svg xmlns=\"http://www.w3.org/2000/svg\" xmlns:xlink=\"http://www.w3.org/1999/xlink\" width=\"600\" height=\"400\" viewBox=\"0 0 2400 1600\">\n",
       "<defs>\n",
       "  <clipPath id=\"clip360\">\n",
       "    <rect x=\"0\" y=\"0\" width=\"2400\" height=\"1600\"/>\n",
       "  </clipPath>\n",
       "</defs>\n",
       "<path clip-path=\"url(#clip360)\" d=\"\n",
       "M0 1600 L2400 1600 L2400 0 L0 0  Z\n",
       "  \" fill=\"#ffffff\" fill-rule=\"evenodd\" fill-opacity=\"1\"/>\n",
       "<defs>\n",
       "  <clipPath id=\"clip361\">\n",
       "    <rect x=\"480\" y=\"0\" width=\"1681\" height=\"1600\"/>\n",
       "  </clipPath>\n",
       "</defs>\n",
       "<path clip-path=\"url(#clip360)\" d=\"\n",
       "M156.598 1486.45 L2352.76 1486.45 L2352.76 47.2441 L156.598 47.2441  Z\n",
       "  \" fill=\"#ffffff\" fill-rule=\"evenodd\" fill-opacity=\"1\"/>\n",
       "<defs>\n",
       "  <clipPath id=\"clip362\">\n",
       "    <rect x=\"156\" y=\"47\" width=\"2197\" height=\"1440\"/>\n",
       "  </clipPath>\n",
       "</defs>\n",
       "<polyline clip-path=\"url(#clip362)\" style=\"stroke:#000000; stroke-linecap:butt; stroke-linejoin:round; stroke-width:2; stroke-opacity:0.1; fill:none\" points=\"\n",
       "  214.383,1486.45 214.383,47.2441 \n",
       "  \"/>\n",
       "<polyline clip-path=\"url(#clip362)\" style=\"stroke:#000000; stroke-linecap:butt; stroke-linejoin:round; stroke-width:2; stroke-opacity:0.1; fill:none\" points=\"\n",
       "  651.481,1486.45 651.481,47.2441 \n",
       "  \"/>\n",
       "<polyline clip-path=\"url(#clip362)\" style=\"stroke:#000000; stroke-linecap:butt; stroke-linejoin:round; stroke-width:2; stroke-opacity:0.1; fill:none\" points=\"\n",
       "  1088.58,1486.45 1088.58,47.2441 \n",
       "  \"/>\n",
       "<polyline clip-path=\"url(#clip362)\" style=\"stroke:#000000; stroke-linecap:butt; stroke-linejoin:round; stroke-width:2; stroke-opacity:0.1; fill:none\" points=\"\n",
       "  1525.68,1486.45 1525.68,47.2441 \n",
       "  \"/>\n",
       "<polyline clip-path=\"url(#clip362)\" style=\"stroke:#000000; stroke-linecap:butt; stroke-linejoin:round; stroke-width:2; stroke-opacity:0.1; fill:none\" points=\"\n",
       "  1962.78,1486.45 1962.78,47.2441 \n",
       "  \"/>\n",
       "<polyline clip-path=\"url(#clip360)\" style=\"stroke:#000000; stroke-linecap:butt; stroke-linejoin:round; stroke-width:4; stroke-opacity:1; fill:none\" points=\"\n",
       "  156.598,1486.45 2352.76,1486.45 \n",
       "  \"/>\n",
       "<polyline clip-path=\"url(#clip360)\" style=\"stroke:#000000; stroke-linecap:butt; stroke-linejoin:round; stroke-width:4; stroke-opacity:1; fill:none\" points=\"\n",
       "  214.383,1486.45 214.383,1467.55 \n",
       "  \"/>\n",
       "<polyline clip-path=\"url(#clip360)\" style=\"stroke:#000000; stroke-linecap:butt; stroke-linejoin:round; stroke-width:4; stroke-opacity:1; fill:none\" points=\"\n",
       "  651.481,1486.45 651.481,1467.55 \n",
       "  \"/>\n",
       "<polyline clip-path=\"url(#clip360)\" style=\"stroke:#000000; stroke-linecap:butt; stroke-linejoin:round; stroke-width:4; stroke-opacity:1; fill:none\" points=\"\n",
       "  1088.58,1486.45 1088.58,1467.55 \n",
       "  \"/>\n",
       "<polyline clip-path=\"url(#clip360)\" style=\"stroke:#000000; stroke-linecap:butt; stroke-linejoin:round; stroke-width:4; stroke-opacity:1; fill:none\" points=\"\n",
       "  1525.68,1486.45 1525.68,1467.55 \n",
       "  \"/>\n",
       "<polyline clip-path=\"url(#clip360)\" style=\"stroke:#000000; stroke-linecap:butt; stroke-linejoin:round; stroke-width:4; stroke-opacity:1; fill:none\" points=\"\n",
       "  1962.78,1486.45 1962.78,1467.55 \n",
       "  \"/>\n",
       "<path clip-path=\"url(#clip360)\" d=\"M214.383 1517.37 Q210.772 1517.37 208.943 1520.93 Q207.137 1524.47 207.137 1531.6 Q207.137 1538.71 208.943 1542.27 Q210.772 1545.82 214.383 1545.82 Q218.017 1545.82 219.822 1542.27 Q221.651 1538.71 221.651 1531.6 Q221.651 1524.47 219.822 1520.93 Q218.017 1517.37 214.383 1517.37 M214.383 1513.66 Q220.193 1513.66 223.248 1518.27 Q226.327 1522.85 226.327 1531.6 Q226.327 1540.33 223.248 1544.94 Q220.193 1549.52 214.383 1549.52 Q208.573 1549.52 205.494 1544.94 Q202.438 1540.33 202.438 1531.6 Q202.438 1522.85 205.494 1518.27 Q208.573 1513.66 214.383 1513.66 Z\" fill=\"#000000\" fill-rule=\"evenodd\" fill-opacity=\"1\" /><path clip-path=\"url(#clip360)\" d=\"M611.088 1544.91 L618.727 1544.91 L618.727 1518.55 L610.417 1520.21 L610.417 1515.95 L618.68 1514.29 L623.356 1514.29 L623.356 1544.91 L630.995 1544.91 L630.995 1548.85 L611.088 1548.85 L611.088 1544.91 Z\" fill=\"#000000\" fill-rule=\"evenodd\" fill-opacity=\"1\" /><path clip-path=\"url(#clip360)\" d=\"M650.439 1517.37 Q646.828 1517.37 645 1520.93 Q643.194 1524.47 643.194 1531.6 Q643.194 1538.71 645 1542.27 Q646.828 1545.82 650.439 1545.82 Q654.074 1545.82 655.879 1542.27 Q657.708 1538.71 657.708 1531.6 Q657.708 1524.47 655.879 1520.93 Q654.074 1517.37 650.439 1517.37 M650.439 1513.66 Q656.25 1513.66 659.305 1518.27 Q662.384 1522.85 662.384 1531.6 Q662.384 1540.33 659.305 1544.94 Q656.25 1549.52 650.439 1549.52 Q644.629 1549.52 641.551 1544.94 Q638.495 1540.33 638.495 1531.6 Q638.495 1522.85 641.551 1518.27 Q644.629 1513.66 650.439 1513.66 Z\" fill=\"#000000\" fill-rule=\"evenodd\" fill-opacity=\"1\" /><path clip-path=\"url(#clip360)\" d=\"M680.601 1517.37 Q676.99 1517.37 675.162 1520.93 Q673.356 1524.47 673.356 1531.6 Q673.356 1538.71 675.162 1542.27 Q676.99 1545.82 680.601 1545.82 Q684.236 1545.82 686.041 1542.27 Q687.87 1538.71 687.87 1531.6 Q687.87 1524.47 686.041 1520.93 Q684.236 1517.37 680.601 1517.37 M680.601 1513.66 Q686.412 1513.66 689.467 1518.27 Q692.546 1522.85 692.546 1531.6 Q692.546 1540.33 689.467 1544.94 Q686.412 1549.52 680.601 1549.52 Q674.791 1549.52 671.713 1544.94 Q668.657 1540.33 668.657 1531.6 Q668.657 1522.85 671.713 1518.27 Q674.791 1513.66 680.601 1513.66 Z\" fill=\"#000000\" fill-rule=\"evenodd\" fill-opacity=\"1\" /><path clip-path=\"url(#clip360)\" d=\"M1052.27 1544.91 L1068.59 1544.91 L1068.59 1548.85 L1046.65 1548.85 L1046.65 1544.91 Q1049.31 1542.16 1053.89 1537.53 Q1058.5 1532.88 1059.68 1531.53 Q1061.92 1529.01 1062.8 1527.27 Q1063.71 1525.51 1063.71 1523.82 Q1063.71 1521.07 1061.76 1519.33 Q1059.84 1517.6 1056.74 1517.6 Q1054.54 1517.6 1052.09 1518.36 Q1049.66 1519.13 1046.88 1520.68 L1046.88 1515.95 Q1049.7 1514.82 1052.16 1514.24 Q1054.61 1513.66 1056.65 1513.66 Q1062.02 1513.66 1065.21 1516.35 Q1068.41 1519.03 1068.41 1523.52 Q1068.41 1525.65 1067.6 1527.57 Q1066.81 1529.47 1064.7 1532.07 Q1064.12 1532.74 1061.02 1535.95 Q1057.92 1539.15 1052.27 1544.91 Z\" fill=\"#000000\" fill-rule=\"evenodd\" fill-opacity=\"1\" /><path clip-path=\"url(#clip360)\" d=\"M1088.41 1517.37 Q1084.79 1517.37 1082.97 1520.93 Q1081.16 1524.47 1081.16 1531.6 Q1081.16 1538.71 1082.97 1542.27 Q1084.79 1545.82 1088.41 1545.82 Q1092.04 1545.82 1093.85 1542.27 Q1095.67 1538.71 1095.67 1531.6 Q1095.67 1524.47 1093.85 1520.93 Q1092.04 1517.37 1088.41 1517.37 M1088.41 1513.66 Q1094.22 1513.66 1097.27 1518.27 Q1100.35 1522.85 1100.35 1531.6 Q1100.35 1540.33 1097.27 1544.94 Q1094.22 1549.52 1088.41 1549.52 Q1082.6 1549.52 1079.52 1544.94 Q1076.46 1540.33 1076.46 1531.6 Q1076.46 1522.85 1079.52 1518.27 Q1082.6 1513.66 1088.41 1513.66 Z\" fill=\"#000000\" fill-rule=\"evenodd\" fill-opacity=\"1\" /><path clip-path=\"url(#clip360)\" d=\"M1118.57 1517.37 Q1114.96 1517.37 1113.13 1520.93 Q1111.32 1524.47 1111.32 1531.6 Q1111.32 1538.71 1113.13 1542.27 Q1114.96 1545.82 1118.57 1545.82 Q1122.2 1545.82 1124.01 1542.27 Q1125.84 1538.71 1125.84 1531.6 Q1125.84 1524.47 1124.01 1520.93 Q1122.2 1517.37 1118.57 1517.37 M1118.57 1513.66 Q1124.38 1513.66 1127.43 1518.27 Q1130.51 1522.85 1130.51 1531.6 Q1130.51 1540.33 1127.43 1544.94 Q1124.38 1549.52 1118.57 1549.52 Q1112.76 1549.52 1109.68 1544.94 Q1106.62 1540.33 1106.62 1531.6 Q1106.62 1522.85 1109.68 1518.27 Q1112.76 1513.66 1118.57 1513.66 Z\" fill=\"#000000\" fill-rule=\"evenodd\" fill-opacity=\"1\" /><path clip-path=\"url(#clip360)\" d=\"M1499.44 1530.21 Q1502.8 1530.93 1504.67 1533.2 Q1506.57 1535.47 1506.57 1538.8 Q1506.57 1543.92 1503.05 1546.72 Q1499.53 1549.52 1493.05 1549.52 Q1490.88 1549.52 1488.56 1549.08 Q1486.27 1548.66 1483.81 1547.81 L1483.81 1543.29 Q1485.76 1544.43 1488.07 1545.01 Q1490.39 1545.58 1492.91 1545.58 Q1497.31 1545.58 1499.6 1543.85 Q1501.92 1542.11 1501.92 1538.8 Q1501.92 1535.75 1499.76 1534.03 Q1497.63 1532.3 1493.81 1532.3 L1489.79 1532.3 L1489.79 1528.45 L1494 1528.45 Q1497.45 1528.45 1499.28 1527.09 Q1501.11 1525.7 1501.11 1523.11 Q1501.11 1520.45 1499.21 1519.03 Q1497.33 1517.6 1493.81 1517.6 Q1491.89 1517.6 1489.69 1518.01 Q1487.5 1518.43 1484.86 1519.31 L1484.86 1515.14 Q1487.52 1514.4 1489.83 1514.03 Q1492.17 1513.66 1494.23 1513.66 Q1499.56 1513.66 1502.66 1516.09 Q1505.76 1518.5 1505.76 1522.62 Q1505.76 1525.49 1504.12 1527.48 Q1502.47 1529.45 1499.44 1530.21 Z\" fill=\"#000000\" fill-rule=\"evenodd\" fill-opacity=\"1\" /><path clip-path=\"url(#clip360)\" d=\"M1525.44 1517.37 Q1521.82 1517.37 1520 1520.93 Q1518.19 1524.47 1518.19 1531.6 Q1518.19 1538.71 1520 1542.27 Q1521.82 1545.82 1525.44 1545.82 Q1529.07 1545.82 1530.87 1542.27 Q1532.7 1538.71 1532.7 1531.6 Q1532.7 1524.47 1530.87 1520.93 Q1529.07 1517.37 1525.44 1517.37 M1525.44 1513.66 Q1531.25 1513.66 1534.3 1518.27 Q1537.38 1522.85 1537.38 1531.6 Q1537.38 1540.33 1534.3 1544.94 Q1531.25 1549.52 1525.44 1549.52 Q1519.62 1549.52 1516.55 1544.94 Q1513.49 1540.33 1513.49 1531.6 Q1513.49 1522.85 1516.55 1518.27 Q1519.62 1513.66 1525.44 1513.66 Z\" fill=\"#000000\" fill-rule=\"evenodd\" fill-opacity=\"1\" /><path clip-path=\"url(#clip360)\" d=\"M1555.6 1517.37 Q1551.99 1517.37 1550.16 1520.93 Q1548.35 1524.47 1548.35 1531.6 Q1548.35 1538.71 1550.16 1542.27 Q1551.99 1545.82 1555.6 1545.82 Q1559.23 1545.82 1561.04 1542.27 Q1562.87 1538.71 1562.87 1531.6 Q1562.87 1524.47 1561.04 1520.93 Q1559.23 1517.37 1555.6 1517.37 M1555.6 1513.66 Q1561.41 1513.66 1564.46 1518.27 Q1567.54 1522.85 1567.54 1531.6 Q1567.54 1540.33 1564.46 1544.94 Q1561.41 1549.52 1555.6 1549.52 Q1549.79 1549.52 1546.71 1544.94 Q1543.65 1540.33 1543.65 1531.6 Q1543.65 1522.85 1546.71 1518.27 Q1549.79 1513.66 1555.6 1513.66 Z\" fill=\"#000000\" fill-rule=\"evenodd\" fill-opacity=\"1\" /><path clip-path=\"url(#clip360)\" d=\"M1935.87 1518.36 L1924.06 1536.81 L1935.87 1536.81 L1935.87 1518.36 M1934.64 1514.29 L1940.52 1514.29 L1940.52 1536.81 L1945.45 1536.81 L1945.45 1540.7 L1940.52 1540.7 L1940.52 1548.85 L1935.87 1548.85 L1935.87 1540.7 L1920.27 1540.7 L1920.27 1536.19 L1934.64 1514.29 Z\" fill=\"#000000\" fill-rule=\"evenodd\" fill-opacity=\"1\" /><path clip-path=\"url(#clip360)\" d=\"M1963.18 1517.37 Q1959.57 1517.37 1957.74 1520.93 Q1955.94 1524.47 1955.94 1531.6 Q1955.94 1538.71 1957.74 1542.27 Q1959.57 1545.82 1963.18 1545.82 Q1966.82 1545.82 1968.62 1542.27 Q1970.45 1538.71 1970.45 1531.6 Q1970.45 1524.47 1968.62 1520.93 Q1966.82 1517.37 1963.18 1517.37 M1963.18 1513.66 Q1968.99 1513.66 1972.05 1518.27 Q1975.13 1522.85 1975.13 1531.6 Q1975.13 1540.33 1972.05 1544.94 Q1968.99 1549.52 1963.18 1549.52 Q1957.37 1549.52 1954.29 1544.94 Q1951.24 1540.33 1951.24 1531.6 Q1951.24 1522.85 1954.29 1518.27 Q1957.37 1513.66 1963.18 1513.66 Z\" fill=\"#000000\" fill-rule=\"evenodd\" fill-opacity=\"1\" /><path clip-path=\"url(#clip360)\" d=\"M1993.34 1517.37 Q1989.73 1517.37 1987.9 1520.93 Q1986.1 1524.47 1986.1 1531.6 Q1986.1 1538.71 1987.9 1542.27 Q1989.73 1545.82 1993.34 1545.82 Q1996.98 1545.82 1998.78 1542.27 Q2000.61 1538.71 2000.61 1531.6 Q2000.61 1524.47 1998.78 1520.93 Q1996.98 1517.37 1993.34 1517.37 M1993.34 1513.66 Q1999.15 1513.66 2002.21 1518.27 Q2005.29 1522.85 2005.29 1531.6 Q2005.29 1540.33 2002.21 1544.94 Q1999.15 1549.52 1993.34 1549.52 Q1987.53 1549.52 1984.45 1544.94 Q1981.4 1540.33 1981.4 1531.6 Q1981.4 1522.85 1984.45 1518.27 Q1987.53 1513.66 1993.34 1513.66 Z\" fill=\"#000000\" fill-rule=\"evenodd\" fill-opacity=\"1\" /><polyline clip-path=\"url(#clip362)\" style=\"stroke:#000000; stroke-linecap:butt; stroke-linejoin:round; stroke-width:2; stroke-opacity:0.1; fill:none\" points=\"\n",
       "  156.598,1445.72 2352.76,1445.72 \n",
       "  \"/>\n",
       "<polyline clip-path=\"url(#clip362)\" style=\"stroke:#000000; stroke-linecap:butt; stroke-linejoin:round; stroke-width:2; stroke-opacity:0.1; fill:none\" points=\"\n",
       "  156.598,1123.27 2352.76,1123.27 \n",
       "  \"/>\n",
       "<polyline clip-path=\"url(#clip362)\" style=\"stroke:#000000; stroke-linecap:butt; stroke-linejoin:round; stroke-width:2; stroke-opacity:0.1; fill:none\" points=\"\n",
       "  156.598,800.821 2352.76,800.821 \n",
       "  \"/>\n",
       "<polyline clip-path=\"url(#clip362)\" style=\"stroke:#000000; stroke-linecap:butt; stroke-linejoin:round; stroke-width:2; stroke-opacity:0.1; fill:none\" points=\"\n",
       "  156.598,478.374 2352.76,478.374 \n",
       "  \"/>\n",
       "<polyline clip-path=\"url(#clip362)\" style=\"stroke:#000000; stroke-linecap:butt; stroke-linejoin:round; stroke-width:2; stroke-opacity:0.1; fill:none\" points=\"\n",
       "  156.598,155.926 2352.76,155.926 \n",
       "  \"/>\n",
       "<polyline clip-path=\"url(#clip360)\" style=\"stroke:#000000; stroke-linecap:butt; stroke-linejoin:round; stroke-width:4; stroke-opacity:1; fill:none\" points=\"\n",
       "  156.598,1486.45 156.598,47.2441 \n",
       "  \"/>\n",
       "<polyline clip-path=\"url(#clip360)\" style=\"stroke:#000000; stroke-linecap:butt; stroke-linejoin:round; stroke-width:4; stroke-opacity:1; fill:none\" points=\"\n",
       "  156.598,1445.72 175.496,1445.72 \n",
       "  \"/>\n",
       "<polyline clip-path=\"url(#clip360)\" style=\"stroke:#000000; stroke-linecap:butt; stroke-linejoin:round; stroke-width:4; stroke-opacity:1; fill:none\" points=\"\n",
       "  156.598,1123.27 175.496,1123.27 \n",
       "  \"/>\n",
       "<polyline clip-path=\"url(#clip360)\" style=\"stroke:#000000; stroke-linecap:butt; stroke-linejoin:round; stroke-width:4; stroke-opacity:1; fill:none\" points=\"\n",
       "  156.598,800.821 175.496,800.821 \n",
       "  \"/>\n",
       "<polyline clip-path=\"url(#clip360)\" style=\"stroke:#000000; stroke-linecap:butt; stroke-linejoin:round; stroke-width:4; stroke-opacity:1; fill:none\" points=\"\n",
       "  156.598,478.374 175.496,478.374 \n",
       "  \"/>\n",
       "<polyline clip-path=\"url(#clip360)\" style=\"stroke:#000000; stroke-linecap:butt; stroke-linejoin:round; stroke-width:4; stroke-opacity:1; fill:none\" points=\"\n",
       "  156.598,155.926 175.496,155.926 \n",
       "  \"/>\n",
       "<path clip-path=\"url(#clip360)\" d=\"M63.4226 1431.51 Q59.8115 1431.51 57.9828 1435.08 Q56.1773 1438.62 56.1773 1445.75 Q56.1773 1452.86 57.9828 1456.42 Q59.8115 1459.96 63.4226 1459.96 Q67.0569 1459.96 68.8624 1456.42 Q70.6911 1452.86 70.6911 1445.75 Q70.6911 1438.62 68.8624 1435.08 Q67.0569 1431.51 63.4226 1431.51 M63.4226 1427.81 Q69.2328 1427.81 72.2883 1432.42 Q75.367 1437 75.367 1445.75 Q75.367 1454.48 72.2883 1459.08 Q69.2328 1463.67 63.4226 1463.67 Q57.6125 1463.67 54.5338 1459.08 Q51.4782 1454.48 51.4782 1445.75 Q51.4782 1437 54.5338 1432.42 Q57.6125 1427.81 63.4226 1427.81 Z\" fill=\"#000000\" fill-rule=\"evenodd\" fill-opacity=\"1\" /><path clip-path=\"url(#clip360)\" d=\"M83.5845 1457.12 L88.4688 1457.12 L88.4688 1463 L83.5845 1463 L83.5845 1457.12 Z\" fill=\"#000000\" fill-rule=\"evenodd\" fill-opacity=\"1\" /><path clip-path=\"url(#clip360)\" d=\"M108.654 1431.51 Q105.043 1431.51 103.214 1435.08 Q101.409 1438.62 101.409 1445.75 Q101.409 1452.86 103.214 1456.42 Q105.043 1459.96 108.654 1459.96 Q112.288 1459.96 114.094 1456.42 Q115.922 1452.86 115.922 1445.75 Q115.922 1438.62 114.094 1435.08 Q112.288 1431.51 108.654 1431.51 M108.654 1427.81 Q114.464 1427.81 117.52 1432.42 Q120.598 1437 120.598 1445.75 Q120.598 1454.48 117.52 1459.08 Q114.464 1463.67 108.654 1463.67 Q102.844 1463.67 99.765 1459.08 Q96.7095 1454.48 96.7095 1445.75 Q96.7095 1437 99.765 1432.42 Q102.844 1427.81 108.654 1427.81 Z\" fill=\"#000000\" fill-rule=\"evenodd\" fill-opacity=\"1\" /><path clip-path=\"url(#clip360)\" d=\"M64.6495 1109.07 Q61.0384 1109.07 59.2097 1112.63 Q57.4041 1116.17 57.4041 1123.3 Q57.4041 1130.41 59.2097 1133.97 Q61.0384 1137.52 64.6495 1137.52 Q68.2837 1137.52 70.0892 1133.97 Q71.9179 1130.41 71.9179 1123.3 Q71.9179 1116.17 70.0892 1112.63 Q68.2837 1109.07 64.6495 1109.07 M64.6495 1105.36 Q70.4596 1105.36 73.5152 1109.97 Q76.5938 1114.55 76.5938 1123.3 Q76.5938 1132.03 73.5152 1136.64 Q70.4596 1141.22 64.6495 1141.22 Q58.8393 1141.22 55.7606 1136.64 Q52.7051 1132.03 52.7051 1123.3 Q52.7051 1114.55 55.7606 1109.97 Q58.8393 1105.36 64.6495 1105.36 Z\" fill=\"#000000\" fill-rule=\"evenodd\" fill-opacity=\"1\" /><path clip-path=\"url(#clip360)\" d=\"M84.8114 1134.67 L89.6956 1134.67 L89.6956 1140.55 L84.8114 1140.55 L84.8114 1134.67 Z\" fill=\"#000000\" fill-rule=\"evenodd\" fill-opacity=\"1\" /><path clip-path=\"url(#clip360)\" d=\"M100.691 1136.61 L108.33 1136.61 L108.33 1110.25 L100.02 1111.91 L100.02 1107.66 L108.283 1105.99 L112.959 1105.99 L112.959 1136.61 L120.598 1136.61 L120.598 1140.55 L100.691 1140.55 L100.691 1136.61 Z\" fill=\"#000000\" fill-rule=\"evenodd\" fill-opacity=\"1\" /><path clip-path=\"url(#clip360)\" d=\"M65.0198 786.62 Q61.4087 786.62 59.58 790.184 Q57.7745 793.726 57.7745 800.856 Q57.7745 807.962 59.58 811.527 Q61.4087 815.069 65.0198 815.069 Q68.6541 815.069 70.4596 811.527 Q72.2883 807.962 72.2883 800.856 Q72.2883 793.726 70.4596 790.184 Q68.6541 786.62 65.0198 786.62 M65.0198 782.916 Q70.83 782.916 73.8855 787.522 Q76.9642 792.106 76.9642 800.856 Q76.9642 809.583 73.8855 814.189 Q70.83 818.772 65.0198 818.772 Q59.2097 818.772 56.131 814.189 Q53.0754 809.583 53.0754 800.856 Q53.0754 792.106 56.131 787.522 Q59.2097 782.916 65.0198 782.916 Z\" fill=\"#000000\" fill-rule=\"evenodd\" fill-opacity=\"1\" /><path clip-path=\"url(#clip360)\" d=\"M85.1818 812.221 L90.066 812.221 L90.066 818.101 L85.1818 818.101 L85.1818 812.221 Z\" fill=\"#000000\" fill-rule=\"evenodd\" fill-opacity=\"1\" /><path clip-path=\"url(#clip360)\" d=\"M104.279 814.166 L120.598 814.166 L120.598 818.101 L98.6539 818.101 L98.6539 814.166 Q101.316 811.411 105.899 806.782 Q110.506 802.129 111.686 800.786 Q113.932 798.263 114.811 796.527 Q115.714 794.768 115.714 793.078 Q115.714 790.323 113.77 788.587 Q111.848 786.851 108.746 786.851 Q106.547 786.851 104.094 787.615 Q101.663 788.379 98.8854 789.93 L98.8854 785.208 Q101.709 784.073 104.163 783.495 Q106.617 782.916 108.654 782.916 Q114.024 782.916 117.219 785.601 Q120.413 788.286 120.413 792.777 Q120.413 794.907 119.603 796.828 Q118.816 798.726 116.709 801.319 Q116.131 801.99 113.029 805.208 Q109.927 808.402 104.279 814.166 Z\" fill=\"#000000\" fill-rule=\"evenodd\" fill-opacity=\"1\" /><path clip-path=\"url(#clip360)\" d=\"M64.0708 464.172 Q60.4597 464.172 58.631 467.737 Q56.8254 471.279 56.8254 478.408 Q56.8254 485.515 58.631 489.08 Q60.4597 492.621 64.0708 492.621 Q67.705 492.621 69.5105 489.08 Q71.3392 485.515 71.3392 478.408 Q71.3392 471.279 69.5105 467.737 Q67.705 464.172 64.0708 464.172 M64.0708 460.469 Q69.8809 460.469 72.9365 465.075 Q76.0151 469.658 76.0151 478.408 Q76.0151 487.135 72.9365 491.742 Q69.8809 496.325 64.0708 496.325 Q58.2606 496.325 55.1819 491.742 Q52.1264 487.135 52.1264 478.408 Q52.1264 469.658 55.1819 465.075 Q58.2606 460.469 64.0708 460.469 Z\" fill=\"#000000\" fill-rule=\"evenodd\" fill-opacity=\"1\" /><path clip-path=\"url(#clip360)\" d=\"M84.2327 489.774 L89.1169 489.774 L89.1169 495.654 L84.2327 495.654 L84.2327 489.774 Z\" fill=\"#000000\" fill-rule=\"evenodd\" fill-opacity=\"1\" /><path clip-path=\"url(#clip360)\" d=\"M113.469 477.019 Q116.825 477.737 118.7 480.006 Q120.598 482.274 120.598 485.607 Q120.598 490.723 117.08 493.524 Q113.561 496.325 107.08 496.325 Q104.904 496.325 102.589 495.885 Q100.297 495.468 97.8437 494.612 L97.8437 490.098 Q99.7882 491.232 102.103 491.811 Q104.418 492.39 106.941 492.39 Q111.339 492.39 113.631 490.654 Q115.945 488.918 115.945 485.607 Q115.945 482.552 113.793 480.839 Q111.663 479.103 107.844 479.103 L103.816 479.103 L103.816 475.26 L108.029 475.26 Q111.478 475.26 113.307 473.895 Q115.135 472.506 115.135 469.913 Q115.135 467.251 113.237 465.839 Q111.362 464.404 107.844 464.404 Q105.922 464.404 103.723 464.82 Q101.524 465.237 98.8854 466.117 L98.8854 461.95 Q101.547 461.209 103.862 460.839 Q106.2 460.469 108.26 460.469 Q113.584 460.469 116.686 462.899 Q119.788 465.307 119.788 469.427 Q119.788 472.297 118.145 474.288 Q116.501 476.256 113.469 477.019 Z\" fill=\"#000000\" fill-rule=\"evenodd\" fill-opacity=\"1\" /><path clip-path=\"url(#clip360)\" d=\"M62.9365 141.725 Q59.3254 141.725 57.4967 145.29 Q55.6912 148.831 55.6912 155.961 Q55.6912 163.067 57.4967 166.632 Q59.3254 170.174 62.9365 170.174 Q66.5707 170.174 68.3763 166.632 Q70.205 163.067 70.205 155.961 Q70.205 148.831 68.3763 145.29 Q66.5707 141.725 62.9365 141.725 M62.9365 138.021 Q68.7467 138.021 71.8022 142.628 Q74.8809 147.211 74.8809 155.961 Q74.8809 164.688 71.8022 169.294 Q68.7467 173.878 62.9365 173.878 Q57.1264 173.878 54.0477 169.294 Q50.9921 164.688 50.9921 155.961 Q50.9921 147.211 54.0477 142.628 Q57.1264 138.021 62.9365 138.021 Z\" fill=\"#000000\" fill-rule=\"evenodd\" fill-opacity=\"1\" /><path clip-path=\"url(#clip360)\" d=\"M83.0984 167.327 L87.9827 167.327 L87.9827 173.206 L83.0984 173.206 L83.0984 167.327 Z\" fill=\"#000000\" fill-rule=\"evenodd\" fill-opacity=\"1\" /><path clip-path=\"url(#clip360)\" d=\"M111.015 142.72 L99.2095 161.169 L111.015 161.169 L111.015 142.72 M109.788 138.646 L115.668 138.646 L115.668 161.169 L120.598 161.169 L120.598 165.058 L115.668 165.058 L115.668 173.206 L111.015 173.206 L111.015 165.058 L95.4132 165.058 L95.4132 160.544 L109.788 138.646 Z\" fill=\"#000000\" fill-rule=\"evenodd\" fill-opacity=\"1\" /><polyline clip-path=\"url(#clip362)\" style=\"stroke:#009af9; stroke-linecap:butt; stroke-linejoin:round; stroke-width:4; stroke-opacity:1; fill:none\" points=\"\n",
       "  218.754,1445.72 223.125,1445.72 227.496,1445.72 231.867,1445.72 236.238,1445.72 240.609,1445.72 244.98,1445.72 249.351,1445.72 253.722,1445.72 258.093,1445.72 \n",
       "  262.463,1445.72 266.834,1445.72 271.205,1445.72 275.576,1433.46 279.947,1433.21 284.318,1429.45 288.689,1357.95 293.06,87.9763 297.431,1439.89 301.802,1432.78 \n",
       "  306.173,1414.6 310.544,1438.59 314.915,1392.25 319.286,1445.72 323.657,1445.72 328.028,1445.72 332.399,1445.72 336.77,1445.72 341.141,1445.72 345.512,1445.72 \n",
       "  349.883,1445.72 354.254,1445.72 358.625,1445.72 362.996,1445.72 367.367,1445.72 371.738,1445.72 376.109,1445.72 380.48,1445.72 384.851,1445.72 389.222,1445.72 \n",
       "  393.593,1445.72 397.964,1445.72 402.335,1445.72 406.706,1445.72 411.077,1445.72 415.448,1445.72 419.819,1445.72 424.19,1445.72 428.561,1445.72 432.932,1445.72 \n",
       "  437.303,1445.72 441.674,1445.72 446.045,1445.72 450.416,1445.72 454.787,1445.72 459.158,1445.72 463.529,1445.72 467.9,1445.72 472.271,1445.72 476.642,1445.72 \n",
       "  481.013,1445.72 485.384,1445.72 489.755,1445.72 494.126,1445.72 498.497,1445.72 502.868,1445.72 507.239,1445.72 511.61,1445.72 515.981,1445.72 520.352,1445.72 \n",
       "  524.723,1445.72 529.094,1445.72 533.465,1445.72 537.836,1445.72 542.207,1445.72 546.578,1445.72 550.948,1445.72 555.319,1445.72 559.69,1445.72 564.061,1445.72 \n",
       "  568.432,1445.72 572.803,1445.72 577.174,1445.72 581.545,1445.72 585.916,1445.72 590.287,1445.72 594.658,1445.72 599.029,1445.72 603.4,1445.72 607.771,1445.72 \n",
       "  612.142,1445.72 616.513,1445.72 620.884,1445.72 625.255,1445.72 629.626,1445.72 633.997,1445.72 638.368,1445.72 642.739,1445.72 647.11,1445.72 651.481,1425.87 \n",
       "  655.852,1413.19 660.223,1414.34 664.594,1404.29 668.965,1388.2 673.336,1406.86 677.707,1410.4 682.078,1426.25 686.449,1388.97 690.82,1429.85 695.191,1432.03 \n",
       "  699.562,1420.78 703.933,1423.46 708.304,1415.76 712.675,1403.27 717.046,1415.62 721.417,1419.37 725.788,1432.26 730.159,1401.68 734.53,1436.88 738.901,1440.16 \n",
       "  743.272,1426.02 747.643,1431.09 752.014,1424.72 756.385,1404.31 760.756,1420.15 765.127,1424.57 769.498,1439.74 773.869,1402.3 778.24,1441.77 782.611,1444.73 \n",
       "  786.982,1426.1 791.353,1433.55 795.724,1426.89 800.095,1382.75 804.466,1417.73 808.837,1422.92 813.208,1444.84 817.579,1387.66 821.95,1426.23 826.321,1445.72 \n",
       "  830.692,1445.72 835.063,1445.72 839.434,1445.72 843.804,1445.72 848.175,1445.72 852.546,1445.72 856.917,1445.72 861.288,1445.72 865.659,1445.72 870.03,1445.72 \n",
       "  874.401,1445.72 878.772,1445.72 883.143,1445.72 887.514,1445.72 891.885,1445.72 896.256,1445.72 900.627,1445.72 904.998,1445.72 909.369,1445.72 913.74,1445.72 \n",
       "  918.111,1445.72 922.482,1445.72 926.853,1445.72 931.224,1445.72 935.595,1445.72 939.966,1445.72 944.337,1445.72 948.708,1445.72 953.079,1445.72 957.45,1445.72 \n",
       "  961.821,1445.72 966.192,1445.72 970.563,1445.72 974.934,1445.72 979.305,1445.72 983.676,1445.72 988.047,1445.72 992.418,1445.72 996.789,1445.72 1001.16,1445.72 \n",
       "  1005.53,1445.72 1009.9,1445.72 1014.27,1445.72 1018.64,1445.72 1023.01,1445.72 1027.39,1445.72 1031.76,1445.72 1036.13,1445.72 1040.5,1445.72 1044.87,1445.72 \n",
       "  1049.24,1445.72 1053.61,1445.72 1057.98,1445.72 1062.35,1445.72 1066.72,1445.72 1071.1,1445.72 1075.47,1445.72 1079.84,1445.72 1084.21,1445.72 1088.58,1445.72 \n",
       "  1092.95,1445.72 1097.32,1445.72 1101.69,1445.72 1106.06,1445.72 1110.43,1445.72 1114.81,1445.72 1119.18,1445.72 1123.55,1445.72 1127.92,1445.72 1132.29,1445.72 \n",
       "  1136.66,1445.72 1141.03,1445.72 1145.4,1445.72 1149.77,1445.72 1154.14,1445.72 1158.52,1445.72 1162.89,1445.72 1167.26,1445.72 1171.63,1445.72 1176,1445.72 \n",
       "  1180.37,1445.72 1184.74,1445.72 1189.11,1445.72 1193.48,1445.72 1197.85,1445.72 1202.23,1445.72 1206.6,1445.72 1210.97,1445.72 1215.34,1445.72 1219.71,1445.72 \n",
       "  1224.08,1445.72 1228.45,1445.72 1232.82,1445.72 1237.19,1445.72 1241.56,1445.72 1245.94,1445.72 1250.31,1445.72 1254.68,1445.72 1259.05,1445.72 1263.42,1445.72 \n",
       "  1267.79,1445.72 1272.16,1445.72 1276.53,1445.72 1280.9,1445.72 1285.27,1445.72 1289.64,1445.72 1294.02,1445.72 1298.39,1445.72 1302.76,1445.72 1307.13,1445.72 \n",
       "  1311.5,1445.72 1315.87,1445.72 1320.24,1445.72 1324.61,1445.72 1328.98,1445.72 1333.35,1445.72 1337.73,1445.72 1342.1,1445.72 1346.47,1445.72 1350.84,1445.72 \n",
       "  1355.21,1445.72 1359.58,1445.72 1363.95,1445.72 1368.32,1445.72 1372.69,1445.72 1377.06,1445.72 1381.44,1445.72 1385.81,1445.72 1390.18,1445.72 1394.55,1445.72 \n",
       "  1398.92,1445.72 1403.29,1445.72 1407.66,1445.72 1412.03,1445.72 1416.4,1445.72 1420.77,1445.72 1425.15,1445.72 1429.52,1445.72 1433.89,1445.72 1438.26,1445.72 \n",
       "  1442.63,1445.72 1447,1445.72 1451.37,1445.72 1455.74,1445.72 1460.11,1445.72 1464.48,1445.72 1468.86,1445.72 1473.23,1445.72 1477.6,1445.72 1481.97,1445.72 \n",
       "  1486.34,1445.72 1490.71,1445.72 1495.08,1445.72 1499.45,1445.72 1503.82,1445.72 1508.19,1445.72 1512.57,1445.72 1516.94,1445.72 1521.31,1445.72 1525.68,1445.72 \n",
       "  1530.05,1445.72 1534.42,1445.72 1538.79,1445.72 1543.16,1445.72 1547.53,1445.72 1551.9,1445.72 1556.28,1445.72 1560.65,1445.72 1565.02,1445.72 1569.39,1445.72 \n",
       "  1573.76,1445.72 1578.13,1445.72 1582.5,1445.72 1586.87,1445.72 1591.24,1445.72 1595.61,1445.72 1599.98,1445.72 1604.36,1445.72 1608.73,1445.72 1613.1,1445.72 \n",
       "  1617.47,1445.72 1621.84,1445.72 1626.21,1445.72 1630.58,1445.72 1634.95,1445.72 1639.32,1445.72 1643.69,1445.72 1648.07,1445.72 1652.44,1445.72 1656.81,1445.72 \n",
       "  1661.18,1445.72 1665.55,1445.72 1669.92,1445.72 1674.29,1445.72 1678.66,1445.72 1683.03,1445.72 1687.4,1445.72 1691.78,1445.72 1696.15,1445.72 1700.52,1445.72 \n",
       "  1704.89,1445.72 1709.26,1445.72 1713.63,1445.72 1718,1445.72 1722.37,1445.72 1726.74,1445.72 1731.11,1445.72 1735.49,1445.72 1739.86,1445.72 1744.23,1445.72 \n",
       "  1748.6,1445.72 1752.97,1445.72 1757.34,1445.72 1761.71,1445.72 1766.08,1445.72 1770.45,1445.72 1774.82,1445.72 1779.2,1445.72 1783.57,1445.72 1787.94,1445.72 \n",
       "  1792.31,1445.72 1796.68,1445.72 1801.05,1445.72 1805.42,1445.72 1809.79,1445.72 1814.16,1445.72 1818.53,1445.72 1822.91,1445.72 1827.28,1445.72 1831.65,1445.72 \n",
       "  1836.02,1445.72 1840.39,1445.72 1844.76,1445.72 1849.13,1445.72 1853.5,1445.72 1857.87,1445.72 1862.24,1445.72 1866.61,1445.72 1870.99,1445.72 1875.36,1445.72 \n",
       "  1879.73,1445.72 1884.1,1445.72 1888.47,1445.72 1892.84,1445.72 1897.21,1445.72 1901.58,1445.72 1905.95,1445.72 1910.32,1445.72 1914.7,1445.72 1919.07,1445.72 \n",
       "  1923.44,1445.72 1927.81,1445.72 1932.18,1445.72 1936.55,1445.72 1940.92,1445.72 1945.29,1445.72 1949.66,1445.72 1954.03,1445.72 1958.41,1445.72 1962.78,1445.72 \n",
       "  1967.15,1445.72 1971.52,1445.72 1975.89,1445.72 1980.26,1445.72 1984.63,1445.72 1989,1445.72 1993.37,1445.72 1997.74,1445.72 2002.12,1445.72 2006.49,1445.72 \n",
       "  2010.86,1445.72 2015.23,1445.72 2019.6,1445.72 2023.97,1445.72 2028.34,1445.72 2032.71,1445.72 2037.08,1445.72 2041.45,1445.72 2045.83,1445.72 2050.2,1445.72 \n",
       "  2054.57,1445.72 2058.94,1445.72 2063.31,1445.72 2067.68,1445.72 2072.05,1445.72 2076.42,1445.72 2080.79,1445.72 2085.16,1445.72 2089.54,1445.72 2093.91,1445.72 \n",
       "  2098.28,1445.72 2102.65,1445.72 2107.02,1445.72 2111.39,1445.72 2115.76,1445.72 2120.13,1445.72 2124.5,1445.72 2128.87,1445.72 2133.25,1445.72 2137.62,1445.72 \n",
       "  2141.99,1445.72 2146.36,1445.72 2150.73,1445.72 2155.1,1445.72 2159.47,1445.72 2163.84,1445.72 2168.21,1445.72 2172.58,1445.72 2176.95,1445.72 2181.33,1445.72 \n",
       "  2185.7,1445.72 2190.07,1445.72 2194.44,1445.72 2198.81,1445.72 2203.18,1445.72 2207.55,1445.72 2211.92,1445.72 2216.29,1445.72 2220.66,1445.72 2225.04,1445.72 \n",
       "  2229.41,1445.72 2233.78,1445.72 2238.15,1445.72 2242.52,1445.72 2246.89,1445.72 2251.26,1445.72 2255.63,1445.72 2260,1445.72 2264.37,1445.72 2268.75,1445.72 \n",
       "  2273.12,1445.72 2277.49,1445.72 2281.86,1445.72 2286.23,1445.72 2290.6,1445.72 \n",
       "  \"/>\n",
       "<path clip-path=\"url(#clip360)\" d=\"\n",
       "M1983.1 198.898 L2279.55 198.898 L2279.55 95.2176 L1983.1 95.2176  Z\n",
       "  \" fill=\"#ffffff\" fill-rule=\"evenodd\" fill-opacity=\"1\"/>\n",
       "<polyline clip-path=\"url(#clip360)\" style=\"stroke:#000000; stroke-linecap:butt; stroke-linejoin:round; stroke-width:4; stroke-opacity:1; fill:none\" points=\"\n",
       "  1983.1,198.898 2279.55,198.898 2279.55,95.2176 1983.1,95.2176 1983.1,198.898 \n",
       "  \"/>\n",
       "<polyline clip-path=\"url(#clip360)\" style=\"stroke:#009af9; stroke-linecap:butt; stroke-linejoin:round; stroke-width:4; stroke-opacity:1; fill:none\" points=\"\n",
       "  2007.5,147.058 2153.92,147.058 \n",
       "  \"/>\n",
       "<path clip-path=\"url(#clip360)\" d=\"M2192.16 166.745 Q2190.35 171.375 2188.64 172.787 Q2186.93 174.199 2184.06 174.199 L2180.65 174.199 L2180.65 170.634 L2183.15 170.634 Q2184.91 170.634 2185.89 169.8 Q2186.86 168.967 2188.04 165.865 L2188.8 163.921 L2178.32 138.412 L2182.83 138.412 L2190.93 158.689 L2199.03 138.412 L2203.55 138.412 L2192.16 166.745 Z\" fill=\"#000000\" fill-rule=\"evenodd\" fill-opacity=\"1\" /><path clip-path=\"url(#clip360)\" d=\"M2210.84 160.402 L2218.48 160.402 L2218.48 134.037 L2210.17 135.703 L2210.17 131.444 L2218.43 129.778 L2223.11 129.778 L2223.11 160.402 L2230.75 160.402 L2230.75 164.338 L2210.84 164.338 L2210.84 160.402 Z\" fill=\"#000000\" fill-rule=\"evenodd\" fill-opacity=\"1\" /></svg>\n"
      ]
     },
     "execution_count": 12,
     "metadata": {},
     "output_type": "execute_result"
    }
   ],
   "source": [
    "nume = numd_cls_nuisance(-0.01)\n",
    "anal = ForwardDiff.derivative(diff_cls_nuisance, -0.01)\n",
    "n = length(nume)\n",
    "comp = zeros(Float64, n)\n",
    "\n",
    "for i in 1:n \n",
    "    if (nume[i] != 0)\n",
    "        comp[i] = @.(abs(anal[i]/nume[i] - 1))\n",
    "    end\n",
    "end\n",
    "\n",
    "diff = []\n",
    "for i in 1:n \n",
    "    if (nume[i] != 0)\n",
    "        push!(diff, @.(abs(nume[i]-anal[i])))\n",
    "    end\n",
    "end\n",
    "println(mean(diff))\n",
    "\n",
    "plot(comp)"
   ]
  },
  {
   "cell_type": "markdown",
   "id": "395aff1d",
   "metadata": {},
   "source": [
    "## Xi"
   ]
  },
  {
   "cell_type": "code",
   "execution_count": 19,
   "id": "565bb0a6",
   "metadata": {
    "scrolled": true
   },
   "outputs": [],
   "source": [
    "cls_jaime1 = make_cls(carlos_params1);\n",
    "cls_jaime2 = make_cls(carlos_params1; mode=\"emulator\");"
   ]
  },
  {
   "cell_type": "code",
   "execution_count": 20,
   "id": "12778388",
   "metadata": {},
   "outputs": [],
   "source": [
    "npzwrite(\"jaime_cls.npz\", Dict(\"DESY1_cls_EisHu\" => cls_jaime1,\n",
    "                               \"DESY1_cls_emul\" => cls_jaime2))"
   ]
  },
  {
   "cell_type": "code",
   "execution_count": 21,
   "id": "b3fede1b",
   "metadata": {},
   "outputs": [
    {
     "name": "stdout",
     "output_type": "stream",
     "text": [
      "Mean discrepancy default   0.07488758287333967\n",
      "Mean discrepancy default   0.07914507993677818\n",
      "Mean discrepancy no itp    0.072790699583588\n",
      "Mean discrepancy no itp+EH 0.07243847354088799\n",
      "Mean discrepancy no itp+EH+noconv 0.07001805856584456\n"
     ]
    }
   ],
   "source": [
    "compa1 = @. abs(cls_carlos[\"cls\"]-cls_jaime1)/cls_carlos[\"cls\"];\n",
    "compa12 = @. abs(cls_carlos[\"cls\"]-cls_jaime2)/cls_carlos[\"cls\"];\n",
    "compa2 = @. abs(cls_carlos2[\"cls\"]-cls_jaime1)/cls_carlos2[\"cls\"];\n",
    "compa3 = @. abs(cls_carlos3[\"cls\"]-cls_jaime1)/cls_carlos3[\"cls\"];\n",
    "compa4 = @. abs(cls_carlos4[\"cls\"]-cls_jaime1)/cls_carlos4[\"cls\"];\n",
    "\n",
    "println(\"Mean discrepancy default   \", mean(compa1))\n",
    "println(\"Mean discrepancy default   \", mean(compa12))\n",
    "println(\"Mean discrepancy no itp    \", mean(compa2))\n",
    "println(\"Mean discrepancy no itp+EH \", mean(compa3))\n",
    "println(\"Mean discrepancy no itp+EH+noconv \", mean(compa4))"
   ]
  },
  {
   "cell_type": "code",
   "execution_count": 22,
   "id": "853c61d8",
   "metadata": {},
   "outputs": [
    {
     "data": {
      "image/svg+xml": [
       "<?xml version=\"1.0\" encoding=\"utf-8\"?>\n",
       "<svg xmlns=\"http://www.w3.org/2000/svg\" xmlns:xlink=\"http://www.w3.org/1999/xlink\" width=\"600\" height=\"400\" viewBox=\"0 0 2400 1600\">\n",
       "<defs>\n",
       "  <clipPath id=\"clip980\">\n",
       "    <rect x=\"0\" y=\"0\" width=\"2400\" height=\"1600\"/>\n",
       "  </clipPath>\n",
       "</defs>\n",
       "<path clip-path=\"url(#clip980)\" d=\"\n",
       "M0 1600 L2400 1600 L2400 0 L0 0  Z\n",
       "  \" fill=\"#ffffff\" fill-rule=\"evenodd\" fill-opacity=\"1\"/>\n",
       "<defs>\n",
       "  <clipPath id=\"clip981\">\n",
       "    <rect x=\"480\" y=\"0\" width=\"1681\" height=\"1600\"/>\n",
       "  </clipPath>\n",
       "</defs>\n",
       "<path clip-path=\"url(#clip980)\" d=\"\n",
       "M186.274 1486.45 L2352.76 1486.45 L2352.76 47.2441 L186.274 47.2441  Z\n",
       "  \" fill=\"#ffffff\" fill-rule=\"evenodd\" fill-opacity=\"1\"/>\n",
       "<defs>\n",
       "  <clipPath id=\"clip982\">\n",
       "    <rect x=\"186\" y=\"47\" width=\"2167\" height=\"1440\"/>\n",
       "  </clipPath>\n",
       "</defs>\n",
       "<polyline clip-path=\"url(#clip982)\" style=\"stroke:#000000; stroke-linecap:round; stroke-linejoin:round; stroke-width:2; stroke-opacity:0.1; fill:none\" points=\"\n",
       "  243.278,1486.45 243.278,47.2441 \n",
       "  \"/>\n",
       "<polyline clip-path=\"url(#clip982)\" style=\"stroke:#000000; stroke-linecap:round; stroke-linejoin:round; stroke-width:2; stroke-opacity:0.1; fill:none\" points=\"\n",
       "  674.47,1486.45 674.47,47.2441 \n",
       "  \"/>\n",
       "<polyline clip-path=\"url(#clip982)\" style=\"stroke:#000000; stroke-linecap:round; stroke-linejoin:round; stroke-width:2; stroke-opacity:0.1; fill:none\" points=\"\n",
       "  1105.66,1486.45 1105.66,47.2441 \n",
       "  \"/>\n",
       "<polyline clip-path=\"url(#clip982)\" style=\"stroke:#000000; stroke-linecap:round; stroke-linejoin:round; stroke-width:2; stroke-opacity:0.1; fill:none\" points=\"\n",
       "  1536.85,1486.45 1536.85,47.2441 \n",
       "  \"/>\n",
       "<polyline clip-path=\"url(#clip982)\" style=\"stroke:#000000; stroke-linecap:round; stroke-linejoin:round; stroke-width:2; stroke-opacity:0.1; fill:none\" points=\"\n",
       "  1968.05,1486.45 1968.05,47.2441 \n",
       "  \"/>\n",
       "<polyline clip-path=\"url(#clip980)\" style=\"stroke:#000000; stroke-linecap:round; stroke-linejoin:round; stroke-width:4; stroke-opacity:1; fill:none\" points=\"\n",
       "  186.274,1486.45 2352.76,1486.45 \n",
       "  \"/>\n",
       "<polyline clip-path=\"url(#clip980)\" style=\"stroke:#000000; stroke-linecap:round; stroke-linejoin:round; stroke-width:4; stroke-opacity:1; fill:none\" points=\"\n",
       "  243.278,1486.45 243.278,1467.55 \n",
       "  \"/>\n",
       "<polyline clip-path=\"url(#clip980)\" style=\"stroke:#000000; stroke-linecap:round; stroke-linejoin:round; stroke-width:4; stroke-opacity:1; fill:none\" points=\"\n",
       "  674.47,1486.45 674.47,1467.55 \n",
       "  \"/>\n",
       "<polyline clip-path=\"url(#clip980)\" style=\"stroke:#000000; stroke-linecap:round; stroke-linejoin:round; stroke-width:4; stroke-opacity:1; fill:none\" points=\"\n",
       "  1105.66,1486.45 1105.66,1467.55 \n",
       "  \"/>\n",
       "<polyline clip-path=\"url(#clip980)\" style=\"stroke:#000000; stroke-linecap:round; stroke-linejoin:round; stroke-width:4; stroke-opacity:1; fill:none\" points=\"\n",
       "  1536.85,1486.45 1536.85,1467.55 \n",
       "  \"/>\n",
       "<polyline clip-path=\"url(#clip980)\" style=\"stroke:#000000; stroke-linecap:round; stroke-linejoin:round; stroke-width:4; stroke-opacity:1; fill:none\" points=\"\n",
       "  1968.05,1486.45 1968.05,1467.55 \n",
       "  \"/>\n",
       "<path clip-path=\"url(#clip980)\" d=\"M243.278 1517.37 Q239.667 1517.37 237.838 1520.93 Q236.032 1524.47 236.032 1531.6 Q236.032 1538.71 237.838 1542.27 Q239.667 1545.82 243.278 1545.82 Q246.912 1545.82 248.717 1542.27 Q250.546 1538.71 250.546 1531.6 Q250.546 1524.47 248.717 1520.93 Q246.912 1517.37 243.278 1517.37 M243.278 1513.66 Q249.088 1513.66 252.143 1518.27 Q255.222 1522.85 255.222 1531.6 Q255.222 1540.33 252.143 1544.94 Q249.088 1549.52 243.278 1549.52 Q237.467 1549.52 234.389 1544.94 Q231.333 1540.33 231.333 1531.6 Q231.333 1522.85 234.389 1518.27 Q237.467 1513.66 243.278 1513.66 Z\" fill=\"#000000\" fill-rule=\"evenodd\" fill-opacity=\"1\" /><path clip-path=\"url(#clip980)\" d=\"M634.076 1544.91 L641.715 1544.91 L641.715 1518.55 L633.405 1520.21 L633.405 1515.95 L641.669 1514.29 L646.345 1514.29 L646.345 1544.91 L653.984 1544.91 L653.984 1548.85 L634.076 1548.85 L634.076 1544.91 Z\" fill=\"#000000\" fill-rule=\"evenodd\" fill-opacity=\"1\" /><path clip-path=\"url(#clip980)\" d=\"M673.428 1517.37 Q669.817 1517.37 667.988 1520.93 Q666.183 1524.47 666.183 1531.6 Q666.183 1538.71 667.988 1542.27 Q669.817 1545.82 673.428 1545.82 Q677.062 1545.82 678.868 1542.27 Q680.697 1538.71 680.697 1531.6 Q680.697 1524.47 678.868 1520.93 Q677.062 1517.37 673.428 1517.37 M673.428 1513.66 Q679.238 1513.66 682.294 1518.27 Q685.372 1522.85 685.372 1531.6 Q685.372 1540.33 682.294 1544.94 Q679.238 1549.52 673.428 1549.52 Q667.618 1549.52 664.539 1544.94 Q661.484 1540.33 661.484 1531.6 Q661.484 1522.85 664.539 1518.27 Q667.618 1513.66 673.428 1513.66 Z\" fill=\"#000000\" fill-rule=\"evenodd\" fill-opacity=\"1\" /><path clip-path=\"url(#clip980)\" d=\"M703.59 1517.37 Q699.979 1517.37 698.15 1520.93 Q696.345 1524.47 696.345 1531.6 Q696.345 1538.71 698.15 1542.27 Q699.979 1545.82 703.59 1545.82 Q707.224 1545.82 709.03 1542.27 Q710.858 1538.71 710.858 1531.6 Q710.858 1524.47 709.03 1520.93 Q707.224 1517.37 703.59 1517.37 M703.59 1513.66 Q709.4 1513.66 712.456 1518.27 Q715.534 1522.85 715.534 1531.6 Q715.534 1540.33 712.456 1544.94 Q709.4 1549.52 703.59 1549.52 Q697.78 1549.52 694.701 1544.94 Q691.646 1540.33 691.646 1531.6 Q691.646 1522.85 694.701 1518.27 Q697.78 1513.66 703.59 1513.66 Z\" fill=\"#000000\" fill-rule=\"evenodd\" fill-opacity=\"1\" /><path clip-path=\"url(#clip980)\" d=\"M1069.35 1544.91 L1085.67 1544.91 L1085.67 1548.85 L1063.73 1548.85 L1063.73 1544.91 Q1066.39 1542.16 1070.97 1537.53 Q1075.58 1532.88 1076.76 1531.53 Q1079.01 1529.01 1079.89 1527.27 Q1080.79 1525.51 1080.79 1523.82 Q1080.79 1521.07 1078.84 1519.33 Q1076.92 1517.6 1073.82 1517.6 Q1071.62 1517.6 1069.17 1518.36 Q1066.74 1519.13 1063.96 1520.68 L1063.96 1515.95 Q1066.78 1514.82 1069.24 1514.24 Q1071.69 1513.66 1073.73 1513.66 Q1079.1 1513.66 1082.29 1516.35 Q1085.49 1519.03 1085.49 1523.52 Q1085.49 1525.65 1084.68 1527.57 Q1083.89 1529.47 1081.78 1532.07 Q1081.21 1532.74 1078.1 1535.95 Q1075 1539.15 1069.35 1544.91 Z\" fill=\"#000000\" fill-rule=\"evenodd\" fill-opacity=\"1\" /><path clip-path=\"url(#clip980)\" d=\"M1105.49 1517.37 Q1101.88 1517.37 1100.05 1520.93 Q1098.24 1524.47 1098.24 1531.6 Q1098.24 1538.71 1100.05 1542.27 Q1101.88 1545.82 1105.49 1545.82 Q1109.12 1545.82 1110.93 1542.27 Q1112.76 1538.71 1112.76 1531.6 Q1112.76 1524.47 1110.93 1520.93 Q1109.12 1517.37 1105.49 1517.37 M1105.49 1513.66 Q1111.3 1513.66 1114.35 1518.27 Q1117.43 1522.85 1117.43 1531.6 Q1117.43 1540.33 1114.35 1544.94 Q1111.3 1549.52 1105.49 1549.52 Q1099.68 1549.52 1096.6 1544.94 Q1093.54 1540.33 1093.54 1531.6 Q1093.54 1522.85 1096.6 1518.27 Q1099.68 1513.66 1105.49 1513.66 Z\" fill=\"#000000\" fill-rule=\"evenodd\" fill-opacity=\"1\" /><path clip-path=\"url(#clip980)\" d=\"M1135.65 1517.37 Q1132.04 1517.37 1130.21 1520.93 Q1128.4 1524.47 1128.4 1531.6 Q1128.4 1538.71 1130.21 1542.27 Q1132.04 1545.82 1135.65 1545.82 Q1139.28 1545.82 1141.09 1542.27 Q1142.92 1538.71 1142.92 1531.6 Q1142.92 1524.47 1141.09 1520.93 Q1139.28 1517.37 1135.65 1517.37 M1135.65 1513.66 Q1141.46 1513.66 1144.52 1518.27 Q1147.59 1522.85 1147.59 1531.6 Q1147.59 1540.33 1144.52 1544.94 Q1141.46 1549.52 1135.65 1549.52 Q1129.84 1549.52 1126.76 1544.94 Q1123.71 1540.33 1123.71 1531.6 Q1123.71 1522.85 1126.76 1518.27 Q1129.84 1513.66 1135.65 1513.66 Z\" fill=\"#000000\" fill-rule=\"evenodd\" fill-opacity=\"1\" /><path clip-path=\"url(#clip980)\" d=\"M1510.62 1530.21 Q1513.97 1530.93 1515.85 1533.2 Q1517.75 1535.47 1517.75 1538.8 Q1517.75 1543.92 1514.23 1546.72 Q1510.71 1549.52 1504.23 1549.52 Q1502.05 1549.52 1499.74 1549.08 Q1497.44 1548.66 1494.99 1547.81 L1494.99 1543.29 Q1496.94 1544.43 1499.25 1545.01 Q1501.56 1545.58 1504.09 1545.58 Q1508.49 1545.58 1510.78 1543.85 Q1513.09 1542.11 1513.09 1538.8 Q1513.09 1535.75 1510.94 1534.03 Q1508.81 1532.3 1504.99 1532.3 L1500.96 1532.3 L1500.96 1528.45 L1505.18 1528.45 Q1508.63 1528.45 1510.45 1527.09 Q1512.28 1525.7 1512.28 1523.11 Q1512.28 1520.45 1510.38 1519.03 Q1508.51 1517.6 1504.99 1517.6 Q1503.07 1517.6 1500.87 1518.01 Q1498.67 1518.43 1496.03 1519.31 L1496.03 1515.14 Q1498.69 1514.4 1501.01 1514.03 Q1503.35 1513.66 1505.41 1513.66 Q1510.73 1513.66 1513.83 1516.09 Q1516.94 1518.5 1516.94 1522.62 Q1516.94 1525.49 1515.29 1527.48 Q1513.65 1529.45 1510.62 1530.21 Z\" fill=\"#000000\" fill-rule=\"evenodd\" fill-opacity=\"1\" /><path clip-path=\"url(#clip980)\" d=\"M1536.61 1517.37 Q1533 1517.37 1531.17 1520.93 Q1529.37 1524.47 1529.37 1531.6 Q1529.37 1538.71 1531.17 1542.27 Q1533 1545.82 1536.61 1545.82 Q1540.25 1545.82 1542.05 1542.27 Q1543.88 1538.71 1543.88 1531.6 Q1543.88 1524.47 1542.05 1520.93 Q1540.25 1517.37 1536.61 1517.37 M1536.61 1513.66 Q1542.42 1513.66 1545.48 1518.27 Q1548.56 1522.85 1548.56 1531.6 Q1548.56 1540.33 1545.48 1544.94 Q1542.42 1549.52 1536.61 1549.52 Q1530.8 1549.52 1527.72 1544.94 Q1524.67 1540.33 1524.67 1531.6 Q1524.67 1522.85 1527.72 1518.27 Q1530.8 1513.66 1536.61 1513.66 Z\" fill=\"#000000\" fill-rule=\"evenodd\" fill-opacity=\"1\" /><path clip-path=\"url(#clip980)\" d=\"M1566.77 1517.37 Q1563.16 1517.37 1561.33 1520.93 Q1559.53 1524.47 1559.53 1531.6 Q1559.53 1538.71 1561.33 1542.27 Q1563.16 1545.82 1566.77 1545.82 Q1570.41 1545.82 1572.21 1542.27 Q1574.04 1538.71 1574.04 1531.6 Q1574.04 1524.47 1572.21 1520.93 Q1570.41 1517.37 1566.77 1517.37 M1566.77 1513.66 Q1572.58 1513.66 1575.64 1518.27 Q1578.72 1522.85 1578.72 1531.6 Q1578.72 1540.33 1575.64 1544.94 Q1572.58 1549.52 1566.77 1549.52 Q1560.96 1549.52 1557.88 1544.94 Q1554.83 1540.33 1554.83 1531.6 Q1554.83 1522.85 1557.88 1518.27 Q1560.96 1513.66 1566.77 1513.66 Z\" fill=\"#000000\" fill-rule=\"evenodd\" fill-opacity=\"1\" /><path clip-path=\"url(#clip980)\" d=\"M1941.14 1518.36 L1929.33 1536.81 L1941.14 1536.81 L1941.14 1518.36 M1939.91 1514.29 L1945.79 1514.29 L1945.79 1536.81 L1950.72 1536.81 L1950.72 1540.7 L1945.79 1540.7 L1945.79 1548.85 L1941.14 1548.85 L1941.14 1540.7 L1925.53 1540.7 L1925.53 1536.19 L1939.91 1514.29 Z\" fill=\"#000000\" fill-rule=\"evenodd\" fill-opacity=\"1\" /><path clip-path=\"url(#clip980)\" d=\"M1968.45 1517.37 Q1964.84 1517.37 1963.01 1520.93 Q1961.21 1524.47 1961.21 1531.6 Q1961.21 1538.71 1963.01 1542.27 Q1964.84 1545.82 1968.45 1545.82 Q1972.09 1545.82 1973.89 1542.27 Q1975.72 1538.71 1975.72 1531.6 Q1975.72 1524.47 1973.89 1520.93 Q1972.09 1517.37 1968.45 1517.37 M1968.45 1513.66 Q1974.26 1513.66 1977.32 1518.27 Q1980.4 1522.85 1980.4 1531.6 Q1980.4 1540.33 1977.32 1544.94 Q1974.26 1549.52 1968.45 1549.52 Q1962.64 1549.52 1959.56 1544.94 Q1956.51 1540.33 1956.51 1531.6 Q1956.51 1522.85 1959.56 1518.27 Q1962.64 1513.66 1968.45 1513.66 Z\" fill=\"#000000\" fill-rule=\"evenodd\" fill-opacity=\"1\" /><path clip-path=\"url(#clip980)\" d=\"M1998.61 1517.37 Q1995 1517.37 1993.17 1520.93 Q1991.37 1524.47 1991.37 1531.6 Q1991.37 1538.71 1993.17 1542.27 Q1995 1545.82 1998.61 1545.82 Q2002.25 1545.82 2004.05 1542.27 Q2005.88 1538.71 2005.88 1531.6 Q2005.88 1524.47 2004.05 1520.93 Q2002.25 1517.37 1998.61 1517.37 M1998.61 1513.66 Q2004.42 1513.66 2007.48 1518.27 Q2010.56 1522.85 2010.56 1531.6 Q2010.56 1540.33 2007.48 1544.94 Q2004.42 1549.52 1998.61 1549.52 Q1992.8 1549.52 1989.72 1544.94 Q1986.67 1540.33 1986.67 1531.6 Q1986.67 1522.85 1989.72 1518.27 Q1992.8 1513.66 1998.61 1513.66 Z\" fill=\"#000000\" fill-rule=\"evenodd\" fill-opacity=\"1\" /><polyline clip-path=\"url(#clip982)\" style=\"stroke:#000000; stroke-linecap:round; stroke-linejoin:round; stroke-width:2; stroke-opacity:0.1; fill:none\" points=\"\n",
       "  186.274,1446.47 2352.76,1446.47 \n",
       "  \"/>\n",
       "<polyline clip-path=\"url(#clip982)\" style=\"stroke:#000000; stroke-linecap:round; stroke-linejoin:round; stroke-width:2; stroke-opacity:0.1; fill:none\" points=\"\n",
       "  186.274,1202.24 2352.76,1202.24 \n",
       "  \"/>\n",
       "<polyline clip-path=\"url(#clip982)\" style=\"stroke:#000000; stroke-linecap:round; stroke-linejoin:round; stroke-width:2; stroke-opacity:0.1; fill:none\" points=\"\n",
       "  186.274,958.012 2352.76,958.012 \n",
       "  \"/>\n",
       "<polyline clip-path=\"url(#clip982)\" style=\"stroke:#000000; stroke-linecap:round; stroke-linejoin:round; stroke-width:2; stroke-opacity:0.1; fill:none\" points=\"\n",
       "  186.274,713.782 2352.76,713.782 \n",
       "  \"/>\n",
       "<polyline clip-path=\"url(#clip982)\" style=\"stroke:#000000; stroke-linecap:round; stroke-linejoin:round; stroke-width:2; stroke-opacity:0.1; fill:none\" points=\"\n",
       "  186.274,469.552 2352.76,469.552 \n",
       "  \"/>\n",
       "<polyline clip-path=\"url(#clip982)\" style=\"stroke:#000000; stroke-linecap:round; stroke-linejoin:round; stroke-width:2; stroke-opacity:0.1; fill:none\" points=\"\n",
       "  186.274,225.322 2352.76,225.322 \n",
       "  \"/>\n",
       "<polyline clip-path=\"url(#clip980)\" style=\"stroke:#000000; stroke-linecap:round; stroke-linejoin:round; stroke-width:4; stroke-opacity:1; fill:none\" points=\"\n",
       "  186.274,1486.45 186.274,47.2441 \n",
       "  \"/>\n",
       "<polyline clip-path=\"url(#clip980)\" style=\"stroke:#000000; stroke-linecap:round; stroke-linejoin:round; stroke-width:4; stroke-opacity:1; fill:none\" points=\"\n",
       "  186.274,1446.47 205.172,1446.47 \n",
       "  \"/>\n",
       "<polyline clip-path=\"url(#clip980)\" style=\"stroke:#000000; stroke-linecap:round; stroke-linejoin:round; stroke-width:4; stroke-opacity:1; fill:none\" points=\"\n",
       "  186.274,1202.24 205.172,1202.24 \n",
       "  \"/>\n",
       "<polyline clip-path=\"url(#clip980)\" style=\"stroke:#000000; stroke-linecap:round; stroke-linejoin:round; stroke-width:4; stroke-opacity:1; fill:none\" points=\"\n",
       "  186.274,958.012 205.172,958.012 \n",
       "  \"/>\n",
       "<polyline clip-path=\"url(#clip980)\" style=\"stroke:#000000; stroke-linecap:round; stroke-linejoin:round; stroke-width:4; stroke-opacity:1; fill:none\" points=\"\n",
       "  186.274,713.782 205.172,713.782 \n",
       "  \"/>\n",
       "<polyline clip-path=\"url(#clip980)\" style=\"stroke:#000000; stroke-linecap:round; stroke-linejoin:round; stroke-width:4; stroke-opacity:1; fill:none\" points=\"\n",
       "  186.274,469.552 205.172,469.552 \n",
       "  \"/>\n",
       "<polyline clip-path=\"url(#clip980)\" style=\"stroke:#000000; stroke-linecap:round; stroke-linejoin:round; stroke-width:4; stroke-opacity:1; fill:none\" points=\"\n",
       "  186.274,225.322 205.172,225.322 \n",
       "  \"/>\n",
       "<path clip-path=\"url(#clip980)\" d=\"M62.9365 1432.27 Q59.3254 1432.27 57.4967 1435.84 Q55.6912 1439.38 55.6912 1446.51 Q55.6912 1453.61 57.4967 1457.18 Q59.3254 1460.72 62.9365 1460.72 Q66.5707 1460.72 68.3763 1457.18 Q70.205 1453.61 70.205 1446.51 Q70.205 1439.38 68.3763 1435.84 Q66.5707 1432.27 62.9365 1432.27 M62.9365 1428.57 Q68.7467 1428.57 71.8022 1433.17 Q74.8809 1437.76 74.8809 1446.51 Q74.8809 1455.23 71.8022 1459.84 Q68.7467 1464.42 62.9365 1464.42 Q57.1264 1464.42 54.0477 1459.84 Q50.9921 1455.23 50.9921 1446.51 Q50.9921 1437.76 54.0477 1433.17 Q57.1264 1428.57 62.9365 1428.57 Z\" fill=\"#000000\" fill-rule=\"evenodd\" fill-opacity=\"1\" /><path clip-path=\"url(#clip980)\" d=\"M83.0984 1457.87 L87.9827 1457.87 L87.9827 1463.75 L83.0984 1463.75 L83.0984 1457.87 Z\" fill=\"#000000\" fill-rule=\"evenodd\" fill-opacity=\"1\" /><path clip-path=\"url(#clip980)\" d=\"M108.168 1432.27 Q104.557 1432.27 102.728 1435.84 Q100.922 1439.38 100.922 1446.51 Q100.922 1453.61 102.728 1457.18 Q104.557 1460.72 108.168 1460.72 Q111.802 1460.72 113.608 1457.18 Q115.436 1453.61 115.436 1446.51 Q115.436 1439.38 113.608 1435.84 Q111.802 1432.27 108.168 1432.27 M108.168 1428.57 Q113.978 1428.57 117.033 1433.17 Q120.112 1437.76 120.112 1446.51 Q120.112 1455.23 117.033 1459.84 Q113.978 1464.42 108.168 1464.42 Q102.358 1464.42 99.2789 1459.84 Q96.2234 1455.23 96.2234 1446.51 Q96.2234 1437.76 99.2789 1433.17 Q102.358 1428.57 108.168 1428.57 Z\" fill=\"#000000\" fill-rule=\"evenodd\" fill-opacity=\"1\" /><path clip-path=\"url(#clip980)\" d=\"M138.33 1432.27 Q134.719 1432.27 132.89 1435.84 Q131.084 1439.38 131.084 1446.51 Q131.084 1453.61 132.89 1457.18 Q134.719 1460.72 138.33 1460.72 Q141.964 1460.72 143.769 1457.18 Q145.598 1453.61 145.598 1446.51 Q145.598 1439.38 143.769 1435.84 Q141.964 1432.27 138.33 1432.27 M138.33 1428.57 Q144.14 1428.57 147.195 1433.17 Q150.274 1437.76 150.274 1446.51 Q150.274 1455.23 147.195 1459.84 Q144.14 1464.42 138.33 1464.42 Q132.519 1464.42 129.441 1459.84 Q126.385 1455.23 126.385 1446.51 Q126.385 1437.76 129.441 1433.17 Q132.519 1428.57 138.33 1428.57 Z\" fill=\"#000000\" fill-rule=\"evenodd\" fill-opacity=\"1\" /><path clip-path=\"url(#clip980)\" d=\"M63.9319 1188.04 Q60.3208 1188.04 58.4921 1191.61 Q56.6865 1195.15 56.6865 1202.28 Q56.6865 1209.38 58.4921 1212.95 Q60.3208 1216.49 63.9319 1216.49 Q67.5661 1216.49 69.3717 1212.95 Q71.2004 1209.38 71.2004 1202.28 Q71.2004 1195.15 69.3717 1191.61 Q67.5661 1188.04 63.9319 1188.04 M63.9319 1184.34 Q69.742 1184.34 72.7976 1188.94 Q75.8763 1193.53 75.8763 1202.28 Q75.8763 1211 72.7976 1215.61 Q69.742 1220.19 63.9319 1220.19 Q58.1217 1220.19 55.043 1215.61 Q51.9875 1211 51.9875 1202.28 Q51.9875 1193.53 55.043 1188.94 Q58.1217 1184.34 63.9319 1184.34 Z\" fill=\"#000000\" fill-rule=\"evenodd\" fill-opacity=\"1\" /><path clip-path=\"url(#clip980)\" d=\"M84.0938 1213.64 L88.978 1213.64 L88.978 1219.52 L84.0938 1219.52 L84.0938 1213.64 Z\" fill=\"#000000\" fill-rule=\"evenodd\" fill-opacity=\"1\" /><path clip-path=\"url(#clip980)\" d=\"M109.163 1188.04 Q105.552 1188.04 103.723 1191.61 Q101.918 1195.15 101.918 1202.28 Q101.918 1209.38 103.723 1212.95 Q105.552 1216.49 109.163 1216.49 Q112.797 1216.49 114.603 1212.95 Q116.432 1209.38 116.432 1202.28 Q116.432 1195.15 114.603 1191.61 Q112.797 1188.04 109.163 1188.04 M109.163 1184.34 Q114.973 1184.34 118.029 1188.94 Q121.107 1193.53 121.107 1202.28 Q121.107 1211 118.029 1215.61 Q114.973 1220.19 109.163 1220.19 Q103.353 1220.19 100.274 1215.61 Q97.2187 1211 97.2187 1202.28 Q97.2187 1193.53 100.274 1188.94 Q103.353 1184.34 109.163 1184.34 Z\" fill=\"#000000\" fill-rule=\"evenodd\" fill-opacity=\"1\" /><path clip-path=\"url(#clip980)\" d=\"M129.371 1184.96 L147.728 1184.96 L147.728 1188.9 L133.654 1188.9 L133.654 1197.37 Q134.672 1197.02 135.691 1196.86 Q136.709 1196.68 137.728 1196.68 Q143.515 1196.68 146.894 1199.85 Q150.274 1203.02 150.274 1208.43 Q150.274 1214.01 146.802 1217.11 Q143.33 1220.19 137.01 1220.19 Q134.834 1220.19 132.566 1219.82 Q130.32 1219.45 127.913 1218.71 L127.913 1214.01 Q129.996 1215.15 132.219 1215.7 Q134.441 1216.26 136.918 1216.26 Q140.922 1216.26 143.26 1214.15 Q145.598 1212.05 145.598 1208.43 Q145.598 1204.82 143.26 1202.72 Q140.922 1200.61 136.918 1200.61 Q135.043 1200.61 133.168 1201.03 Q131.316 1201.44 129.371 1202.32 L129.371 1184.96 Z\" fill=\"#000000\" fill-rule=\"evenodd\" fill-opacity=\"1\" /><path clip-path=\"url(#clip980)\" d=\"M62.9365 943.811 Q59.3254 943.811 57.4967 947.376 Q55.6912 950.917 55.6912 958.047 Q55.6912 965.153 57.4967 968.718 Q59.3254 972.26 62.9365 972.26 Q66.5707 972.26 68.3763 968.718 Q70.205 965.153 70.205 958.047 Q70.205 950.917 68.3763 947.376 Q66.5707 943.811 62.9365 943.811 M62.9365 940.107 Q68.7467 940.107 71.8022 944.714 Q74.8809 949.297 74.8809 958.047 Q74.8809 966.774 71.8022 971.38 Q68.7467 975.963 62.9365 975.963 Q57.1264 975.963 54.0477 971.38 Q50.9921 966.774 50.9921 958.047 Q50.9921 949.297 54.0477 944.714 Q57.1264 940.107 62.9365 940.107 Z\" fill=\"#000000\" fill-rule=\"evenodd\" fill-opacity=\"1\" /><path clip-path=\"url(#clip980)\" d=\"M83.0984 969.413 L87.9827 969.413 L87.9827 975.292 L83.0984 975.292 L83.0984 969.413 Z\" fill=\"#000000\" fill-rule=\"evenodd\" fill-opacity=\"1\" /><path clip-path=\"url(#clip980)\" d=\"M98.978 971.357 L106.617 971.357 L106.617 944.991 L98.3067 946.658 L98.3067 942.399 L106.571 940.732 L111.246 940.732 L111.246 971.357 L118.885 971.357 L118.885 975.292 L98.978 975.292 L98.978 971.357 Z\" fill=\"#000000\" fill-rule=\"evenodd\" fill-opacity=\"1\" /><path clip-path=\"url(#clip980)\" d=\"M138.33 943.811 Q134.719 943.811 132.89 947.376 Q131.084 950.917 131.084 958.047 Q131.084 965.153 132.89 968.718 Q134.719 972.26 138.33 972.26 Q141.964 972.26 143.769 968.718 Q145.598 965.153 145.598 958.047 Q145.598 950.917 143.769 947.376 Q141.964 943.811 138.33 943.811 M138.33 940.107 Q144.14 940.107 147.195 944.714 Q150.274 949.297 150.274 958.047 Q150.274 966.774 147.195 971.38 Q144.14 975.963 138.33 975.963 Q132.519 975.963 129.441 971.38 Q126.385 966.774 126.385 958.047 Q126.385 949.297 129.441 944.714 Q132.519 940.107 138.33 940.107 Z\" fill=\"#000000\" fill-rule=\"evenodd\" fill-opacity=\"1\" /><path clip-path=\"url(#clip980)\" d=\"M63.9319 699.581 Q60.3208 699.581 58.4921 703.146 Q56.6865 706.687 56.6865 713.817 Q56.6865 720.923 58.4921 724.488 Q60.3208 728.03 63.9319 728.03 Q67.5661 728.03 69.3717 724.488 Q71.2004 720.923 71.2004 713.817 Q71.2004 706.687 69.3717 703.146 Q67.5661 699.581 63.9319 699.581 M63.9319 695.877 Q69.742 695.877 72.7976 700.483 Q75.8763 705.067 75.8763 713.817 Q75.8763 722.544 72.7976 727.15 Q69.742 731.733 63.9319 731.733 Q58.1217 731.733 55.043 727.15 Q51.9875 722.544 51.9875 713.817 Q51.9875 705.067 55.043 700.483 Q58.1217 695.877 63.9319 695.877 Z\" fill=\"#000000\" fill-rule=\"evenodd\" fill-opacity=\"1\" /><path clip-path=\"url(#clip980)\" d=\"M84.0938 725.182 L88.978 725.182 L88.978 731.062 L84.0938 731.062 L84.0938 725.182 Z\" fill=\"#000000\" fill-rule=\"evenodd\" fill-opacity=\"1\" /><path clip-path=\"url(#clip980)\" d=\"M99.9733 727.127 L107.612 727.127 L107.612 700.761 L99.3021 702.428 L99.3021 698.169 L107.566 696.502 L112.242 696.502 L112.242 727.127 L119.881 727.127 L119.881 731.062 L99.9733 731.062 L99.9733 727.127 Z\" fill=\"#000000\" fill-rule=\"evenodd\" fill-opacity=\"1\" /><path clip-path=\"url(#clip980)\" d=\"M129.371 696.502 L147.728 696.502 L147.728 700.437 L133.654 700.437 L133.654 708.909 Q134.672 708.562 135.691 708.4 Q136.709 708.215 137.728 708.215 Q143.515 708.215 146.894 711.386 Q150.274 714.557 150.274 719.974 Q150.274 725.553 146.802 728.655 Q143.33 731.733 137.01 731.733 Q134.834 731.733 132.566 731.363 Q130.32 730.993 127.913 730.252 L127.913 725.553 Q129.996 726.687 132.219 727.243 Q134.441 727.798 136.918 727.798 Q140.922 727.798 143.26 725.692 Q145.598 723.585 145.598 719.974 Q145.598 716.363 143.26 714.257 Q140.922 712.15 136.918 712.15 Q135.043 712.15 133.168 712.567 Q131.316 712.983 129.371 713.863 L129.371 696.502 Z\" fill=\"#000000\" fill-rule=\"evenodd\" fill-opacity=\"1\" /><path clip-path=\"url(#clip980)\" d=\"M62.9365 455.351 Q59.3254 455.351 57.4967 458.915 Q55.6912 462.457 55.6912 469.587 Q55.6912 476.693 57.4967 480.258 Q59.3254 483.8 62.9365 483.8 Q66.5707 483.8 68.3763 480.258 Q70.205 476.693 70.205 469.587 Q70.205 462.457 68.3763 458.915 Q66.5707 455.351 62.9365 455.351 M62.9365 451.647 Q68.7467 451.647 71.8022 456.253 Q74.8809 460.837 74.8809 469.587 Q74.8809 478.313 71.8022 482.92 Q68.7467 487.503 62.9365 487.503 Q57.1264 487.503 54.0477 482.92 Q50.9921 478.313 50.9921 469.587 Q50.9921 460.837 54.0477 456.253 Q57.1264 451.647 62.9365 451.647 Z\" fill=\"#000000\" fill-rule=\"evenodd\" fill-opacity=\"1\" /><path clip-path=\"url(#clip980)\" d=\"M83.0984 480.952 L87.9827 480.952 L87.9827 486.832 L83.0984 486.832 L83.0984 480.952 Z\" fill=\"#000000\" fill-rule=\"evenodd\" fill-opacity=\"1\" /><path clip-path=\"url(#clip980)\" d=\"M102.196 482.897 L118.515 482.897 L118.515 486.832 L96.5706 486.832 L96.5706 482.897 Q99.2326 480.142 103.816 475.513 Q108.422 470.86 109.603 469.517 Q111.848 466.994 112.728 465.258 Q113.631 463.499 113.631 461.809 Q113.631 459.054 111.686 457.318 Q109.765 455.582 106.663 455.582 Q104.464 455.582 102.01 456.346 Q99.5798 457.11 96.8021 458.661 L96.8021 453.939 Q99.6261 452.804 102.08 452.226 Q104.534 451.647 106.571 451.647 Q111.941 451.647 115.135 454.332 Q118.33 457.017 118.33 461.508 Q118.33 463.638 117.52 465.559 Q116.733 467.457 114.626 470.05 Q114.047 470.721 110.946 473.938 Q107.844 477.133 102.196 482.897 Z\" fill=\"#000000\" fill-rule=\"evenodd\" fill-opacity=\"1\" /><path clip-path=\"url(#clip980)\" d=\"M138.33 455.351 Q134.719 455.351 132.89 458.915 Q131.084 462.457 131.084 469.587 Q131.084 476.693 132.89 480.258 Q134.719 483.8 138.33 483.8 Q141.964 483.8 143.769 480.258 Q145.598 476.693 145.598 469.587 Q145.598 462.457 143.769 458.915 Q141.964 455.351 138.33 455.351 M138.33 451.647 Q144.14 451.647 147.195 456.253 Q150.274 460.837 150.274 469.587 Q150.274 478.313 147.195 482.92 Q144.14 487.503 138.33 487.503 Q132.519 487.503 129.441 482.92 Q126.385 478.313 126.385 469.587 Q126.385 460.837 129.441 456.253 Q132.519 451.647 138.33 451.647 Z\" fill=\"#000000\" fill-rule=\"evenodd\" fill-opacity=\"1\" /><path clip-path=\"url(#clip980)\" d=\"M63.9319 211.12 Q60.3208 211.12 58.4921 214.685 Q56.6865 218.227 56.6865 225.356 Q56.6865 232.463 58.4921 236.028 Q60.3208 239.569 63.9319 239.569 Q67.5661 239.569 69.3717 236.028 Q71.2004 232.463 71.2004 225.356 Q71.2004 218.227 69.3717 214.685 Q67.5661 211.12 63.9319 211.12 M63.9319 207.417 Q69.742 207.417 72.7976 212.023 Q75.8763 216.607 75.8763 225.356 Q75.8763 234.083 72.7976 238.69 Q69.742 243.273 63.9319 243.273 Q58.1217 243.273 55.043 238.69 Q51.9875 234.083 51.9875 225.356 Q51.9875 216.607 55.043 212.023 Q58.1217 207.417 63.9319 207.417 Z\" fill=\"#000000\" fill-rule=\"evenodd\" fill-opacity=\"1\" /><path clip-path=\"url(#clip980)\" d=\"M84.0938 236.722 L88.978 236.722 L88.978 242.602 L84.0938 242.602 L84.0938 236.722 Z\" fill=\"#000000\" fill-rule=\"evenodd\" fill-opacity=\"1\" /><path clip-path=\"url(#clip980)\" d=\"M103.191 238.667 L119.51 238.667 L119.51 242.602 L97.566 242.602 L97.566 238.667 Q100.228 235.912 104.811 231.282 Q109.418 226.63 110.598 225.287 Q112.844 222.764 113.723 221.028 Q114.626 219.269 114.626 217.579 Q114.626 214.824 112.682 213.088 Q110.76 211.352 107.658 211.352 Q105.459 211.352 103.006 212.116 Q100.575 212.88 97.7974 214.431 L97.7974 209.708 Q100.621 208.574 103.075 207.995 Q105.529 207.417 107.566 207.417 Q112.936 207.417 116.131 210.102 Q119.325 212.787 119.325 217.278 Q119.325 219.407 118.515 221.329 Q117.728 223.227 115.621 225.819 Q115.043 226.491 111.941 229.708 Q108.839 232.903 103.191 238.667 Z\" fill=\"#000000\" fill-rule=\"evenodd\" fill-opacity=\"1\" /><path clip-path=\"url(#clip980)\" d=\"M129.371 208.042 L147.728 208.042 L147.728 211.977 L133.654 211.977 L133.654 220.449 Q134.672 220.102 135.691 219.94 Q136.709 219.755 137.728 219.755 Q143.515 219.755 146.894 222.926 Q150.274 226.097 150.274 231.514 Q150.274 237.093 146.802 240.194 Q143.33 243.273 137.01 243.273 Q134.834 243.273 132.566 242.903 Q130.32 242.532 127.913 241.792 L127.913 237.093 Q129.996 238.227 132.219 238.782 Q134.441 239.338 136.918 239.338 Q140.922 239.338 143.26 237.231 Q145.598 235.125 145.598 231.514 Q145.598 227.903 143.26 225.796 Q140.922 223.69 136.918 223.69 Q135.043 223.69 133.168 224.106 Q131.316 224.523 129.371 225.403 L129.371 208.042 Z\" fill=\"#000000\" fill-rule=\"evenodd\" fill-opacity=\"1\" /><polyline clip-path=\"url(#clip982)\" style=\"stroke:#009af9; stroke-linecap:round; stroke-linejoin:round; stroke-width:4; stroke-opacity:1; fill:none\" points=\"\n",
       "  247.59,674.866 251.901,1194.53 256.213,1346.63 260.525,1404.65 264.837,1410.59 269.149,790.913 273.461,1181.15 277.773,1321.76 282.085,1443.72 286.397,1406.3 \n",
       "  290.709,1332.95 295.021,1406.78 299.333,1322.21 303.645,1098.67 307.956,1077.64 312.268,1282.36 316.58,1442.49 320.892,1310.42 325.204,1408.41 329.516,1350 \n",
       "  333.828,1229.66 338.14,1352.14 342.452,1108.63 346.764,1203.07 351.076,1104.65 355.388,1365.16 359.699,1394.6 364.011,1445.72 368.323,1180.26 372.635,1431.78 \n",
       "  376.947,1354.75 381.259,1289.46 385.571,1259.86 389.883,1303.24 394.195,904.553 398.507,1435.39 402.819,1313.86 407.131,1342.02 411.443,1445.71 415.754,1373.98 \n",
       "  420.066,1304.39 424.378,1361.77 428.69,1297.66 433.002,1235.71 437.314,1178.38 441.626,1200.12 445.938,1300.32 450.25,1347.24 454.562,999.083 458.874,938.098 \n",
       "  463.186,883.071 467.498,868.772 471.809,358.099 476.121,996.477 480.433,1074.33 484.745,1130.25 489.057,1159.82 493.369,778.337 497.681,1379.72 501.993,1437.24 \n",
       "  506.305,1389.12 510.617,1356.49 514.929,708.202 519.241,1319.58 523.553,1396.94 527.864,1444.39 532.176,1413.29 536.488,781.838 540.8,262.49 545.112,467.323 \n",
       "  549.424,436.739 553.736,414.743 558.048,347.722 562.36,355.327 566.672,318.107 570.984,516.454 575.296,1167.1 579.607,824.039 583.919,908.291 588.231,902.249 \n",
       "  592.543,1018.5 596.855,988.578 601.167,1053.36 605.479,1117.59 609.791,1203.48 614.103,1377.15 618.415,1425.55 622.727,1437.51 627.039,1330.81 631.351,1365.36 \n",
       "  635.662,1306.58 639.974,1073.85 644.286,1250.07 648.598,1324.3 652.91,1420.69 657.222,1405.43 661.534,1379.03 665.846,1415.35 670.158,1356.24 674.47,420.187 \n",
       "  678.782,302.177 683.094,443.447 687.406,573.54 691.717,500.99 696.029,562.724 700.341,514.6 704.653,448.802 708.965,495.264 713.277,386.424 717.589,913.087 \n",
       "  721.901,1168.8 726.213,947.772 730.525,819.855 734.837,926.674 739.149,784.163 743.461,928.808 747.772,971.802 752.084,942.973 756.396,1093.4 760.708,1228.19 \n",
       "  765.02,1032.88 769.332,1199.75 773.644,1322.95 777.956,1241.38 782.268,1327.79 786.58,1226.46 790.892,1151.53 795.204,1229.38 799.515,1076.96 803.827,1322.08 \n",
       "  808.139,1139.78 812.451,1299.04 816.763,1432.95 821.075,1355.77 825.387,1422.21 829.699,1335.57 834.011,1246.86 838.323,1343.16 842.635,1185.79 846.947,1391.85 \n",
       "  851.259,1365.84 855.57,1267.79 859.882,1168.97 864.194,1079.8 868.506,1342.64 872.818,1110.84 877.13,1064.73 881.442,1265.07 885.754,1284.64 890.066,1248.54 \n",
       "  894.378,1418.97 898.69,1409.67 903.002,1277.06 907.314,1184.29 911.625,1101.71 915.937,1374.04 920.249,1149.77 924.561,1093.49 928.873,1286.73 933.185,1288.74 \n",
       "  937.497,1269.32 941.809,1034.19 946.121,1054.96 950.433,1183.15 954.745,1259.84 959.057,1338.79 963.369,1069.5 967.68,1287.19 971.992,1320.69 976.304,1178.3 \n",
       "  980.616,1207.32 984.928,1186.84 989.24,1099.56 993.552,1135.62 997.864,1241.62 1002.18,1327.72 1006.49,1419.86 1010.8,1161.73 1015.11,1377.95 1019.42,1424.57 \n",
       "  1023.74,1254.32 1028.05,1249.44 1032.36,1266.86 1036.67,1168.93 1040.98,1274.08 1045.3,1274.57 1049.61,1342.77 1053.92,1358.76 1058.23,1417.56 1062.54,1341.06 \n",
       "  1066.85,1306.89 1071.17,1338.4 1075.48,1113.16 1079.79,1249.44 1084.1,1299.6 1088.41,1255.13 1092.73,1334.54 1097.04,1216.11 1101.35,1228.68 1105.66,1145.44 \n",
       "  1109.97,1128.27 1114.29,1071.91 1118.6,1143.05 1122.91,1177.83 1127.22,1147.44 1131.53,1400.1 1135.85,1251.73 1140.16,1211.11 1144.47,1251.42 1148.78,1340.74 \n",
       "  1153.09,1197.81 1157.4,1256.44 1161.72,1157.23 1166.03,1103.47 1170.34,1071.9 1174.65,1153.07 1178.96,1161.82 1183.28,1157.87 1187.59,1410.78 1191.9,1229.23 \n",
       "  1196.21,1268.76 1200.52,1289.38 1204.84,1341.87 1209.15,1426.67 1213.46,1435.72 1217.77,1368.49 1222.08,1341.23 1226.4,1296.96 1230.71,1364.48 1235.02,1388.23 \n",
       "  1239.33,1370.14 1243.64,1274.87 1247.96,1430.81 1252.27,1436.72 1256.58,1408.85 1260.89,486.431 1265.2,370.76 1269.51,367.403 1273.83,374.688 1278.14,361.205 \n",
       "  1282.45,385.977 1286.76,366.211 1291.07,391.449 1295.39,353.137 1299.7,382.012 1304.01,343.729 1308.32,347.078 1312.63,331.342 1316.95,300.09 1321.26,309.24 \n",
       "  1325.57,253.631 1329.88,267.119 1334.19,215.641 1338.51,201.908 1342.82,193.359 1347.13,135.825 1351.44,167.027 1355.75,87.9763 1360.07,117.657 1364.38,1035.88 \n",
       "  1368.69,937.264 1373,918.588 1377.31,914.683 1381.62,888.537 1385.94,913.943 1390.25,887.964 1394.56,919.767 1398.87,875.769 1403.18,914.329 1407.5,875.301 \n",
       "  1411.81,886.34 1416.12,877.657 1420.43,850.966 1424.74,869.971 1429.06,817.171 1433.37,840.426 1437.68,793.385 1441.99,787.44 1446.3,785.822 1450.62,731.068 \n",
       "  1454.93,770.771 1459.24,691.475 1463.55,730.109 1467.86,729.587 1472.18,662.553 1476.49,648.259 1480.8,644.161 1485.11,618.845 1489.42,646.004 1493.73,621.496 \n",
       "  1498.05,654.61 1502.36,612.298 1506.67,651.601 1510.98,614.596 1515.29,626.359 1519.61,619.5 1523.92,594.188 1528.23,611.453 1532.54,561.925 1536.85,581.152 \n",
       "  1541.17,537.731 1545.48,530.074 1549.79,525.936 1554.1,475.001 1558.41,505.967 1562.73,434.157 1567.04,465.289 1571.35,779.473 1575.66,723.874 1579.97,713.123 \n",
       "  1584.29,710.321 1588.6,683.388 1592.91,711.102 1597.22,685.265 1601.53,718.369 1605.84,673.897 1610.16,714.883 1614.47,676.168 1618.78,688.561 1623.09,681.931 \n",
       "  1627.4,655.992 1631.72,674.456 1636.03,624.171 1640.34,644.107 1644.65,600.946 1648.96,593.445 1653.28,589.759 1657.59,539.634 1661.9,570.24 1666.21,500.095 \n",
       "  1670.52,531.188 1674.84,1002.38 1679.15,1032.85 1683.46,1072.38 1687.77,1092.96 1692.08,1143.94 1696.4,1125.15 1700.71,1167.49 1705.02,1132.34 1709.33,1192 \n",
       "  1713.64,1142.01 1717.95,1188.38 1722.27,1169.45 1726.58,1170.73 1730.89,1192.69 1735.2,1157.59 1739.51,1205.94 1743.83,1166.11 1748.14,1204.98 1752.45,1196.94 \n",
       "  1756.76,1184.77 1761.07,1230.52 1765.39,1172.74 1769.7,1247.73 1774.01,1191.41 1778.32,1315.21 1782.63,1294.66 1786.95,1328.18 1791.26,1347.18 1795.57,1394.23 \n",
       "  1799.88,1377.35 1804.19,1419.17 1808.51,1383.5 1812.82,1444.64 1817.13,1392.78 1821.44,1439.78 1825.75,1419.8 1830.06,1419.93 1834.38,1442.55 1838.69,1409.04 \n",
       "  1843,1437.8 1847.31,1419.8 1851.62,1437.63 1855.94,1443 1860.25,1441.18 1864.56,1409.97 1868.87,1435.42 1873.18,1390.45 1877.5,1437.37 1881.81,1234.5 \n",
       "  1886.12,1194.39 1890.43,1225.41 1894.74,1244 1899.06,1291.71 1903.37,1275.86 1907.68,1319.49 1911.99,1284.03 1916.3,1349.02 1920.62,1294.39 1924.93,1344.42 \n",
       "  1929.24,1322.92 1933.55,1322.68 1937.86,1346.48 1942.17,1310.63 1946.49,1357.93 1950.8,1321.08 1955.11,1355.98 1959.42,1350.49 1963.73,1341.21 1968.05,1382.16 \n",
       "  1972.36,1335.3 1976.67,1400.76 1980.98,1354.36 1985.29,1203.89 1989.61,1267.05 1993.92,1241.88 1998.23,1226.77 2002.54,1185.34 2006.85,1197.7 2011.17,1156.11 \n",
       "  2015.48,1195.74 2019.79,1133.55 2024.1,1188.7 2028.41,1141.96 2032.73,1163.14 2037.04,1165.61 2041.35,1143.14 2045.66,1177.32 2049.97,1134.2 2054.28,1166.32 \n",
       "  2058.6,1133.63 2062.91,1136.86 2067.22,1142.28 2071.53,1103.49 2075.84,1140.97 2080.16,1081.3 2084.47,1116.28 2088.78,1255.42 2093.09,1335.38 2097.4,1316.18 \n",
       "  2101.72,1304.06 2106.03,1258.87 2110.34,1272.42 2114.65,1229.15 2118.96,1268 2123.28,1202.17 2127.59,1259.81 2131.9,1209.6 2136.21,1232.45 2140.52,1235.39 \n",
       "  2144.84,1211.7 2149.15,1249.22 2153.46,1204.86 2157.77,1239.41 2162.08,1207.25 2166.39,1210.73 2170.71,1217.06 2175.02,1178.98 2179.33,1215.84 2183.64,1158.21 \n",
       "  2187.95,1191.66 2192.27,1291.82 2196.58,1382.31 2200.89,1372.8 2205.2,1368.48 2209.51,1318.74 2213.83,1335.82 2218.14,1291.63 2222.45,1324.85 2226.76,1254.09 \n",
       "  2231.07,1315.83 2235.39,1260.6 2239.7,1285.26 2244.01,1288.41 2248.32,1262.89 2252.63,1306.06 2256.95,1259.04 2261.26,1297.97 2265.57,1266.03 2269.88,1270.38 \n",
       "  2274.19,1278.87 2278.5,1242.27 2282.82,1278.74 2287.13,1224 2291.44,1255.07 \n",
       "  \"/>\n",
       "<path clip-path=\"url(#clip980)\" d=\"\n",
       "M1987.39 198.898 L2280.54 198.898 L2280.54 95.2176 L1987.39 95.2176  Z\n",
       "  \" fill=\"#ffffff\" fill-rule=\"evenodd\" fill-opacity=\"1\"/>\n",
       "<polyline clip-path=\"url(#clip980)\" style=\"stroke:#000000; stroke-linecap:round; stroke-linejoin:round; stroke-width:4; stroke-opacity:1; fill:none\" points=\"\n",
       "  1987.39,198.898 2280.54,198.898 2280.54,95.2176 1987.39,95.2176 1987.39,198.898 \n",
       "  \"/>\n",
       "<polyline clip-path=\"url(#clip980)\" style=\"stroke:#009af9; stroke-linecap:round; stroke-linejoin:round; stroke-width:4; stroke-opacity:1; fill:none\" points=\"\n",
       "  2011.46,147.058 2155.89,147.058 \n",
       "  \"/>\n",
       "<path clip-path=\"url(#clip980)\" d=\"M2193.81 166.745 Q2192 171.375 2190.29 172.787 Q2188.58 174.199 2185.71 174.199 L2182.3 174.199 L2182.3 170.634 L2184.8 170.634 Q2186.56 170.634 2187.53 169.8 Q2188.51 168.967 2189.69 165.865 L2190.45 163.921 L2179.97 138.412 L2184.48 138.412 L2192.58 158.689 L2200.68 138.412 L2205.2 138.412 L2193.81 166.745 Z\" fill=\"#000000\" fill-rule=\"evenodd\" fill-opacity=\"1\" /><path clip-path=\"url(#clip980)\" d=\"M2212.49 160.402 L2220.13 160.402 L2220.13 134.037 L2211.82 135.703 L2211.82 131.444 L2220.08 129.778 L2224.76 129.778 L2224.76 160.402 L2232.4 160.402 L2232.4 164.338 L2212.49 164.338 L2212.49 160.402 Z\" fill=\"#000000\" fill-rule=\"evenodd\" fill-opacity=\"1\" /></svg>\n"
      ]
     },
     "execution_count": 22,
     "metadata": {},
     "output_type": "execute_result"
    }
   ],
   "source": [
    "using Plots\n",
    "plot(compa1)"
   ]
  },
  {
   "cell_type": "code",
   "execution_count": null,
   "id": "990ba1a1",
   "metadata": {},
   "outputs": [],
   "source": []
  },
  {
   "cell_type": "code",
   "execution_count": 23,
   "id": "98004bb5",
   "metadata": {},
   "outputs": [
    {
     "name": "stdout",
     "output_type": "stream",
     "text": [
      "495.62231927779936\n",
      "495.00947244084654\n",
      "495.89420547809317\n",
      "497.2051355000593\n"
     ]
    }
   ],
   "source": [
    "chi2_carlos = cls_carlos[\"chi2_nolp\"]\n",
    "chi2_carlos2 = cls_carlos2[\"chi2_nolp\"]\n",
    "chi2_carlos3 = cls_carlos3[\"chi2_nolp\"]\n",
    "chi2_carlos4 = cls_carlos4[\"chi2_nolp\"]\n",
    "println(chi2_carlos)\n",
    "println(chi2_carlos2)\n",
    "println(chi2_carlos3)\n",
    "println(chi2_carlos4)"
   ]
  },
  {
   "cell_type": "code",
   "execution_count": 24,
   "id": "b5075df6",
   "metadata": {},
   "outputs": [
    {
     "name": "stdout",
     "output_type": "stream",
     "text": [
      "564.4237811372612\n"
     ]
    }
   ],
   "source": [
    "chi2_jaime1 = dot((cls_jaime1 .- data_vector), inv_cov_tot  * (cls_jaime1 .- data_vector))\n",
    "println(chi2_jaime1)"
   ]
  },
  {
   "cell_type": "code",
   "execution_count": 25,
   "id": "d3e6946e",
   "metadata": {},
   "outputs": [
    {
     "name": "stdout",
     "output_type": "stream",
     "text": [
      "571.5648149541164\n"
     ]
    }
   ],
   "source": [
    "chi2_jaime2 = dot((cls_jaime2 .- data_vector), inv_cov_tot  * (cls_jaime2 .- data_vector))\n",
    "println(chi2_jaime2)"
   ]
  },
  {
   "cell_type": "code",
   "execution_count": 26,
   "id": "fc2724ad",
   "metadata": {},
   "outputs": [
    {
     "data": {
      "text/plain": [
       "0.13519298341437563"
      ]
     },
     "execution_count": 26,
     "metadata": {},
     "output_type": "execute_result"
    }
   ],
   "source": [
    "(chi2_jaime1-chi2_carlos4)/chi2_carlos4"
   ]
  },
  {
   "cell_type": "markdown",
   "id": "7551813f",
   "metadata": {},
   "source": [
    "# Turing model"
   ]
  },
  {
   "cell_type": "code",
   "execution_count": 17,
   "id": "7325f732",
   "metadata": {},
   "outputs": [],
   "source": [
    "@model function model(data_vector;\n",
    "                      tracers_names=tracers_names,\n",
    "                      pairs=pairs,\n",
    "                      pairs_id=pairs_ids,\n",
    "                      idx=idx,\n",
    "                      cov_tot=cov_tot, \n",
    "                      files=files)\n",
    "    \n",
    "    #DESY1 priors\n",
    "    Ωm ~ Uniform(0.1, 0.6)\n",
    "    Ωb = 0.05 #~ Uniform(0.03, 0.045)\n",
    "    h  = 0.67 #~ Uniform(0.60, 0.91)\n",
    "    ns = 0.96 #~ Uniform(0.87, 1.07)\n",
    "    s8 = 0.811 #~ Uniform(0.6, 0.9)\n",
    "    \n",
    "    cosmology = LimberJack.Cosmology(Ωm, Ωb, h, ns, s8,\n",
    "                                     tk_mode=\"EisHu\",\n",
    "                                     Pk_mode=\"Halofit\")\n",
    "    \n",
    "    theory = Theory(cosmology, tracers_names, pairs,\n",
    "                    pairs_ids, idx, files)\n",
    "    data_vector ~ MvNormal(theory, cov_tot)\n",
    "end;"
   ]
  },
  {
   "cell_type": "code",
   "execution_count": 18,
   "id": "4a0dba7f",
   "metadata": {},
   "outputs": [],
   "source": [
    "iterations = 300\n",
    "nadapts = 100;"
   ]
  },
  {
   "cell_type": "code",
   "execution_count": 19,
   "id": "54da0b16",
   "metadata": {},
   "outputs": [
    {
     "ename": "LoadError",
     "evalue": "UndefRefError: access to undefined reference",
     "output_type": "error",
     "traceback": [
      "UndefRefError: access to undefined reference",
      "",
      "Stacktrace:",
      "  [1] getindex",
      "    @ ./array.jl:861 [inlined]",
      "  [2] iterate",
      "    @ ./array.jl:835 [inlined]",
      "  [3] forward_pass!(tape::Vector{ReverseDiff.AbstractInstruction})",
      "    @ ReverseDiff ~/.julia/packages/ReverseDiff/GtPeW/src/tape.jl:77",
      "  [4] forward_pass!",
      "    @ ~/.julia/packages/ReverseDiff/GtPeW/src/api/tape.jl:34 [inlined]",
      "  [5] seeded_forward_pass!",
      "    @ ~/.julia/packages/ReverseDiff/GtPeW/src/api/tape.jl:42 [inlined]",
      "  [6] gradient!",
      "    @ ~/.julia/packages/ReverseDiff/GtPeW/src/api/gradients.jl:79 [inlined]",
      "  [7] gradient_logp(backend::Turing.Essential.ReverseDiffAD{false}, θ::Vector{Float64}, vi::DynamicPPL.TypedVarInfo{NamedTuple{(:Ωm,), Tuple{DynamicPPL.Metadata{Dict{AbstractPPL.VarName{:Ωm, Setfield.IdentityLens}, Int64}, Vector{Uniform{Float64}}, Vector{AbstractPPL.VarName{:Ωm, Setfield.IdentityLens}}, Vector{Float64}, Vector{Set{DynamicPPL.Selector}}}}}, Float64}, model::DynamicPPL.Model{typeof(model), (:data_vector, :tracers_names, :pairs, :pairs_id, :idx, :cov_tot, :files), (:tracers_names, :pairs, :pairs_id, :idx, :cov_tot, :files), (), Tuple{Vector{Float64}, Vector{String}, Vector{Vector{String}}, Vector{Vector{Int64}}, Vector{Int64}, Matrix{Float64}, Dict{String, Array{Float64}}}, Tuple{Vector{String}, Vector{Vector{String}}, Vector{Vector{Int64}}, Vector{Int64}, Matrix{Float64}, Dict{String, Array{Float64}}}, DynamicPPL.DefaultContext}, sampler::DynamicPPL.Sampler{NUTS{Turing.Essential.ReverseDiffAD{false}, (), AdvancedHMC.DiagEuclideanMetric}}, context::DynamicPPL.DefaultContext)",
      "    @ Turing.Essential ~/.julia/packages/Turing/Tpj0b/src/essential/compat/reversediff.jl:29",
      "  [8] gradient_logp (repeats 2 times)",
      "    @ ~/.julia/packages/Turing/Tpj0b/src/essential/ad.jl:88 [inlined]",
      "  [9] ∂logπ∂θ",
      "    @ ~/.julia/packages/Turing/Tpj0b/src/inference/hmc.jl:433 [inlined]",
      " [10] ∂H∂θ",
      "    @ ~/.julia/packages/AdvancedHMC/iWHPQ/src/hamiltonian.jl:31 [inlined]",
      " [11] phasepoint",
      "    @ ~/.julia/packages/AdvancedHMC/iWHPQ/src/hamiltonian.jl:76 [inlined]",
      " [12] phasepoint(rng::Random._GLOBAL_RNG, θ::Vector{Float64}, h::AdvancedHMC.Hamiltonian{AdvancedHMC.DiagEuclideanMetric{Float64, Vector{Float64}}, Turing.LogDensityFunction{DynamicPPL.TypedVarInfo{NamedTuple{(:Ωm,), Tuple{DynamicPPL.Metadata{Dict{AbstractPPL.VarName{:Ωm, Setfield.IdentityLens}, Int64}, Vector{Uniform{Float64}}, Vector{AbstractPPL.VarName{:Ωm, Setfield.IdentityLens}}, Vector{Float64}, Vector{Set{DynamicPPL.Selector}}}}}, Float64}, DynamicPPL.Model{typeof(model), (:data_vector, :tracers_names, :pairs, :pairs_id, :idx, :cov_tot, :files), (:tracers_names, :pairs, :pairs_id, :idx, :cov_tot, :files), (), Tuple{Vector{Float64}, Vector{String}, Vector{Vector{String}}, Vector{Vector{Int64}}, Vector{Int64}, Matrix{Float64}, Dict{String, Array{Float64}}}, Tuple{Vector{String}, Vector{Vector{String}}, Vector{Vector{Int64}}, Vector{Int64}, Matrix{Float64}, Dict{String, Array{Float64}}}, DynamicPPL.DefaultContext}, DynamicPPL.Sampler{NUTS{Turing.Essential.ReverseDiffAD{false}, (), AdvancedHMC.DiagEuclideanMetric}}, DynamicPPL.DefaultContext}, Turing.Inference.var\"#∂logπ∂θ#53\"{DynamicPPL.TypedVarInfo{NamedTuple{(:Ωm,), Tuple{DynamicPPL.Metadata{Dict{AbstractPPL.VarName{:Ωm, Setfield.IdentityLens}, Int64}, Vector{Uniform{Float64}}, Vector{AbstractPPL.VarName{:Ωm, Setfield.IdentityLens}}, Vector{Float64}, Vector{Set{DynamicPPL.Selector}}}}}, Float64}, DynamicPPL.Sampler{NUTS{Turing.Essential.ReverseDiffAD{false}, (), AdvancedHMC.DiagEuclideanMetric}}, DynamicPPL.Model{typeof(model), (:data_vector, :tracers_names, :pairs, :pairs_id, :idx, :cov_tot, :files), (:tracers_names, :pairs, :pairs_id, :idx, :cov_tot, :files), (), Tuple{Vector{Float64}, Vector{String}, Vector{Vector{String}}, Vector{Vector{Int64}}, Vector{Int64}, Matrix{Float64}, Dict{String, Array{Float64}}}, Tuple{Vector{String}, Vector{Vector{String}}, Vector{Vector{Int64}}, Vector{Int64}, Matrix{Float64}, Dict{String, Array{Float64}}}, DynamicPPL.DefaultContext}}})",
      "    @ AdvancedHMC ~/.julia/packages/AdvancedHMC/iWHPQ/src/hamiltonian.jl:153",
      " [13] initialstep(rng::Random._GLOBAL_RNG, model::DynamicPPL.Model{typeof(model), (:data_vector, :tracers_names, :pairs, :pairs_id, :idx, :cov_tot, :files), (:tracers_names, :pairs, :pairs_id, :idx, :cov_tot, :files), (), Tuple{Vector{Float64}, Vector{String}, Vector{Vector{String}}, Vector{Vector{Int64}}, Vector{Int64}, Matrix{Float64}, Dict{String, Array{Float64}}}, Tuple{Vector{String}, Vector{Vector{String}}, Vector{Vector{Int64}}, Vector{Int64}, Matrix{Float64}, Dict{String, Array{Float64}}}, DynamicPPL.DefaultContext}, spl::DynamicPPL.Sampler{NUTS{Turing.Essential.ReverseDiffAD{false}, (), AdvancedHMC.DiagEuclideanMetric}}, vi::DynamicPPL.TypedVarInfo{NamedTuple{(:Ωm,), Tuple{DynamicPPL.Metadata{Dict{AbstractPPL.VarName{:Ωm, Setfield.IdentityLens}, Int64}, Vector{Uniform{Float64}}, Vector{AbstractPPL.VarName{:Ωm, Setfield.IdentityLens}}, Vector{Float64}, Vector{Set{DynamicPPL.Selector}}}}}, Float64}; init_params::Nothing, nadapts::Int64, kwargs::Base.Pairs{Symbol, Bool, Tuple{Symbol}, NamedTuple{(:save_state,), Tuple{Bool}}})",
      "    @ Turing.Inference ~/.julia/packages/Turing/Tpj0b/src/inference/hmc.jl:167",
      " [14] step(rng::Random._GLOBAL_RNG, model::DynamicPPL.Model{typeof(model), (:data_vector, :tracers_names, :pairs, :pairs_id, :idx, :cov_tot, :files), (:tracers_names, :pairs, :pairs_id, :idx, :cov_tot, :files), (), Tuple{Vector{Float64}, Vector{String}, Vector{Vector{String}}, Vector{Vector{Int64}}, Vector{Int64}, Matrix{Float64}, Dict{String, Array{Float64}}}, Tuple{Vector{String}, Vector{Vector{String}}, Vector{Vector{Int64}}, Vector{Int64}, Matrix{Float64}, Dict{String, Array{Float64}}}, DynamicPPL.DefaultContext}, spl::DynamicPPL.Sampler{NUTS{Turing.Essential.ReverseDiffAD{false}, (), AdvancedHMC.DiagEuclideanMetric}}; resume_from::Nothing, init_params::Nothing, kwargs::Base.Pairs{Symbol, Integer, Tuple{Symbol, Symbol}, NamedTuple{(:nadapts, :save_state), Tuple{Int64, Bool}}})",
      "    @ DynamicPPL ~/.julia/packages/DynamicPPL/zPOYL/src/sampler.jl:104",
      " [15] macro expansion",
      "    @ ~/.julia/packages/AbstractMCMC/fnRmh/src/sample.jl:120 [inlined]",
      " [16] macro expansion",
      "    @ ~/.julia/packages/ProgressLogging/6KXlp/src/ProgressLogging.jl:328 [inlined]",
      " [17] (::AbstractMCMC.var\"#21#22\"{Bool, String, Nothing, Int64, Int64, Base.Pairs{Symbol, Integer, Tuple{Symbol, Symbol}, NamedTuple{(:nadapts, :save_state), Tuple{Int64, Bool}}}, Random._GLOBAL_RNG, DynamicPPL.Model{typeof(model), (:data_vector, :tracers_names, :pairs, :pairs_id, :idx, :cov_tot, :files), (:tracers_names, :pairs, :pairs_id, :idx, :cov_tot, :files), (), Tuple{Vector{Float64}, Vector{String}, Vector{Vector{String}}, Vector{Vector{Int64}}, Vector{Int64}, Matrix{Float64}, Dict{String, Array{Float64}}}, Tuple{Vector{String}, Vector{Vector{String}}, Vector{Vector{Int64}}, Vector{Int64}, Matrix{Float64}, Dict{String, Array{Float64}}}, DynamicPPL.DefaultContext}, DynamicPPL.Sampler{NUTS{Turing.Essential.ReverseDiffAD{false}, (), AdvancedHMC.DiagEuclideanMetric}}, Int64, Int64})()",
      "    @ AbstractMCMC ~/.julia/packages/AbstractMCMC/fnRmh/src/logging.jl:12",
      " [18] with_logstate(f::Function, logstate::Any)",
      "    @ Base.CoreLogging ./logging.jl:511",
      " [19] with_logger(f::Function, logger::LoggingExtras.TeeLogger{Tuple{LoggingExtras.EarlyFilteredLogger{ConsoleProgressMonitor.ProgressLogger, AbstractMCMC.var\"#1#3\"{Module}}, LoggingExtras.EarlyFilteredLogger{Base.CoreLogging.SimpleLogger, AbstractMCMC.var\"#2#4\"{Module}}}})",
      "    @ Base.CoreLogging ./logging.jl:623",
      " [20] with_progresslogger(f::Function, _module::Module, logger::Base.CoreLogging.SimpleLogger)",
      "    @ AbstractMCMC ~/.julia/packages/AbstractMCMC/fnRmh/src/logging.jl:36",
      " [21] macro expansion",
      "    @ ~/.julia/packages/AbstractMCMC/fnRmh/src/logging.jl:11 [inlined]",
      " [22] mcmcsample(rng::Random._GLOBAL_RNG, model::DynamicPPL.Model{typeof(model), (:data_vector, :tracers_names, :pairs, :pairs_id, :idx, :cov_tot, :files), (:tracers_names, :pairs, :pairs_id, :idx, :cov_tot, :files), (), Tuple{Vector{Float64}, Vector{String}, Vector{Vector{String}}, Vector{Vector{Int64}}, Vector{Int64}, Matrix{Float64}, Dict{String, Array{Float64}}}, Tuple{Vector{String}, Vector{Vector{String}}, Vector{Vector{Int64}}, Vector{Int64}, Matrix{Float64}, Dict{String, Array{Float64}}}, DynamicPPL.DefaultContext}, sampler::DynamicPPL.Sampler{NUTS{Turing.Essential.ReverseDiffAD{false}, (), AdvancedHMC.DiagEuclideanMetric}}, N::Int64; progress::Bool, progressname::String, callback::Nothing, discard_initial::Int64, thinning::Int64, chain_type::Type, kwargs::Base.Pairs{Symbol, Integer, Tuple{Symbol, Symbol}, NamedTuple{(:nadapts, :save_state), Tuple{Int64, Bool}}})",
      "    @ AbstractMCMC ~/.julia/packages/AbstractMCMC/fnRmh/src/sample.jl:111",
      " [23] sample(rng::Random._GLOBAL_RNG, model::DynamicPPL.Model{typeof(model), (:data_vector, :tracers_names, :pairs, :pairs_id, :idx, :cov_tot, :files), (:tracers_names, :pairs, :pairs_id, :idx, :cov_tot, :files), (), Tuple{Vector{Float64}, Vector{String}, Vector{Vector{String}}, Vector{Vector{Int64}}, Vector{Int64}, Matrix{Float64}, Dict{String, Array{Float64}}}, Tuple{Vector{String}, Vector{Vector{String}}, Vector{Vector{Int64}}, Vector{Int64}, Matrix{Float64}, Dict{String, Array{Float64}}}, DynamicPPL.DefaultContext}, sampler::DynamicPPL.Sampler{NUTS{Turing.Essential.ReverseDiffAD{false}, (), AdvancedHMC.DiagEuclideanMetric}}, N::Int64; chain_type::Type, resume_from::Nothing, progress::Bool, nadapts::Int64, discard_adapt::Bool, discard_initial::Int64, kwargs::Base.Pairs{Symbol, Bool, Tuple{Symbol}, NamedTuple{(:save_state,), Tuple{Bool}}})",
      "    @ Turing.Inference ~/.julia/packages/Turing/Tpj0b/src/inference/hmc.jl:133",
      " [24] #sample#2",
      "    @ ~/.julia/packages/Turing/Tpj0b/src/inference/Inference.jl:145 [inlined]",
      " [25] #sample#1",
      "    @ ~/.julia/packages/Turing/Tpj0b/src/inference/Inference.jl:135 [inlined]",
      " [26] top-level scope",
      "    @ In[19]:1",
      " [27] eval",
      "    @ ./boot.jl:373 [inlined]",
      " [28] include_string(mapexpr::typeof(REPL.softscope), mod::Module, code::String, filename::String)",
      "    @ Base ./loading.jl:1196"
     ]
    }
   ],
   "source": [
    "chain3 = sample(model(data_vector), NUTS(5, 0.1; init_ϵ=0.03), iterations,\n",
    "                progress=true; save_state=true);"
   ]
  },
  {
   "cell_type": "code",
   "execution_count": 40,
   "id": "64abea06",
   "metadata": {},
   "outputs": [
    {
     "name": "stderr",
     "output_type": "stream",
     "text": [
      "\u001b[32mSampling: 100%|█████████████████████████████████████████| Time: 0:01:03\u001b[39m\n"
     ]
    },
    {
     "name": "stdout",
     "output_type": "stream",
     "text": [
      "1365\n",
      "1365\n",
      "1365\n",
      "1365\n",
      "1365\n",
      "1365\n",
      "1365\n",
      "1365\n",
      "1365\n",
      "1365\n",
      "1365\n",
      "1365\n",
      "1365\n",
      "1365\n",
      "1365\n",
      "1365\n",
      "1365\n",
      "1365\n",
      "1365\n",
      "1365\n",
      "1365\n",
      "1365\n",
      "1365\n",
      "1365\n",
      "1365\n",
      "1365\n",
      "1365\n",
      "1365\n",
      "1365\n",
      "1365\n",
      "1365\n",
      "1365\n",
      "1365\n",
      "1365\n",
      "1365\n",
      "1365\n",
      "1365\n",
      "1365\n",
      "1365\n",
      "1365\n",
      "1365\n",
      "1365\n",
      "1365\n",
      "1365\n",
      "1365\n",
      "1365\n",
      "1365\n",
      "1365\n",
      "1365\n",
      "1365\n",
      "1365\n",
      "1365\n",
      "1365\n",
      "1365\n",
      "1365\n",
      "1365\n",
      "1365\n",
      "1365\n",
      "1365\n",
      "1365\n",
      "1365\n",
      "1365\n",
      "1365\n",
      "1365\n",
      "1365\n",
      "1365\n"
     ]
    },
    {
     "ename": "LoadError",
     "evalue": "TaskFailedException\n\n\u001b[91m    nested task error: \u001b[39mInterruptException:\n    Stacktrace:\n     [1] \u001b[0m\u001b[1mangularCℓs\u001b[22m\u001b[0m\u001b[1m(\u001b[22m\u001b[90mcosmo\u001b[39m::\u001b[0mCosmology, \u001b[90mt1\u001b[39m::\u001b[0mNumberCountsTracer, \u001b[90mt2\u001b[39m::\u001b[0mWeakLensingTracer, \u001b[90mℓs\u001b[39m::\u001b[0mVector\u001b[90m{Float64}\u001b[39m\u001b[0m\u001b[1m)\u001b[22m\n    \u001b[90m   @ \u001b[39m\u001b[35mLimberJack\u001b[39m \u001b[90m~/PhD/LimberJack.jl/src/\u001b[39m\u001b[90m\u001b[4mspectra.jl:30\u001b[24m\u001b[39m\n     [2] \u001b[0m\u001b[1mmacro expansion\u001b[22m\n    \u001b[90m   @ \u001b[39m\u001b[90m~/PhD/LimberJack.jl/src/\u001b[39m\u001b[90m\u001b[4mtheory.jl:67\u001b[24m\u001b[39m\u001b[90m [inlined]\u001b[39m\n     [3] \u001b[0m\u001b[1m(::LimberJack.var\"#23#threadsfor_fun#17\"{Cosmology, Dict{String, Array}, Vector{Float64}, Vector{Int64}, Vector{Any}, Vector{SubArray{Int64, 1, Matrix{Int64}, Tuple{Int64, Base.Slice{Base.OneTo{Int64}}}, true}}, Vector{SubArray{Int64, 1, Matrix{Int64}, Tuple{Int64, Base.Slice{Base.OneTo{Int64}}}, true}}, UnitRange{Int64}})\u001b[22m\u001b[0m\u001b[1m(\u001b[22m\u001b[90monethread\u001b[39m::\u001b[0mBool\u001b[0m\u001b[1m)\u001b[22m\n    \u001b[90m   @ \u001b[39m\u001b[35mLimberJack\u001b[39m \u001b[90m./\u001b[39m\u001b[90m\u001b[4mthreadingconstructs.jl:85\u001b[24m\u001b[39m\n     [4] \u001b[0m\u001b[1m(::LimberJack.var\"#23#threadsfor_fun#17\"{Cosmology, Dict{String, Array}, Vector{Float64}, Vector{Int64}, Vector{Any}, Vector{SubArray{Int64, 1, Matrix{Int64}, Tuple{Int64, Base.Slice{Base.OneTo{Int64}}}, true}}, Vector{SubArray{Int64, 1, Matrix{Int64}, Tuple{Int64, Base.Slice{Base.OneTo{Int64}}}, true}}, UnitRange{Int64}})\u001b[22m\u001b[0m\u001b[1m(\u001b[22m\u001b[0m\u001b[1m)\u001b[22m\n    \u001b[90m   @ \u001b[39m\u001b[35mLimberJack\u001b[39m \u001b[90m./\u001b[39m\u001b[90m\u001b[4mthreadingconstructs.jl:52\u001b[24m\u001b[39m",
     "output_type": "error",
     "traceback": [
      "TaskFailedException\n\n\u001b[91m    nested task error: \u001b[39mInterruptException:\n    Stacktrace:\n     [1] \u001b[0m\u001b[1mangularCℓs\u001b[22m\u001b[0m\u001b[1m(\u001b[22m\u001b[90mcosmo\u001b[39m::\u001b[0mCosmology, \u001b[90mt1\u001b[39m::\u001b[0mNumberCountsTracer, \u001b[90mt2\u001b[39m::\u001b[0mWeakLensingTracer, \u001b[90mℓs\u001b[39m::\u001b[0mVector\u001b[90m{Float64}\u001b[39m\u001b[0m\u001b[1m)\u001b[22m\n    \u001b[90m   @ \u001b[39m\u001b[35mLimberJack\u001b[39m \u001b[90m~/PhD/LimberJack.jl/src/\u001b[39m\u001b[90m\u001b[4mspectra.jl:30\u001b[24m\u001b[39m\n     [2] \u001b[0m\u001b[1mmacro expansion\u001b[22m\n    \u001b[90m   @ \u001b[39m\u001b[90m~/PhD/LimberJack.jl/src/\u001b[39m\u001b[90m\u001b[4mtheory.jl:67\u001b[24m\u001b[39m\u001b[90m [inlined]\u001b[39m\n     [3] \u001b[0m\u001b[1m(::LimberJack.var\"#23#threadsfor_fun#17\"{Cosmology, Dict{String, Array}, Vector{Float64}, Vector{Int64}, Vector{Any}, Vector{SubArray{Int64, 1, Matrix{Int64}, Tuple{Int64, Base.Slice{Base.OneTo{Int64}}}, true}}, Vector{SubArray{Int64, 1, Matrix{Int64}, Tuple{Int64, Base.Slice{Base.OneTo{Int64}}}, true}}, UnitRange{Int64}})\u001b[22m\u001b[0m\u001b[1m(\u001b[22m\u001b[90monethread\u001b[39m::\u001b[0mBool\u001b[0m\u001b[1m)\u001b[22m\n    \u001b[90m   @ \u001b[39m\u001b[35mLimberJack\u001b[39m \u001b[90m./\u001b[39m\u001b[90m\u001b[4mthreadingconstructs.jl:85\u001b[24m\u001b[39m\n     [4] \u001b[0m\u001b[1m(::LimberJack.var\"#23#threadsfor_fun#17\"{Cosmology, Dict{String, Array}, Vector{Float64}, Vector{Int64}, Vector{Any}, Vector{SubArray{Int64, 1, Matrix{Int64}, Tuple{Int64, Base.Slice{Base.OneTo{Int64}}}, true}}, Vector{SubArray{Int64, 1, Matrix{Int64}, Tuple{Int64, Base.Slice{Base.OneTo{Int64}}}, true}}, UnitRange{Int64}})\u001b[22m\u001b[0m\u001b[1m(\u001b[22m\u001b[0m\u001b[1m)\u001b[22m\n    \u001b[90m   @ \u001b[39m\u001b[35mLimberJack\u001b[39m \u001b[90m./\u001b[39m\u001b[90m\u001b[4mthreadingconstructs.jl:52\u001b[24m\u001b[39m",
      "",
      "Stacktrace:",
      "  [1] wait",
      "    @ ./task.jl:334 [inlined]",
      "  [2] threading_run(func::Function)",
      "    @ Base.Threads ./threadingconstructs.jl:38",
      "  [3] macro expansion",
      "    @ ./threadingconstructs.jl:97 [inlined]",
      "  [4] Theory(cosmology::Cosmology, files::Dict{String, Array}; nz_path::String, Nuisances::Dict{String, Float64})",
      "    @ LimberJack ~/PhD/LimberJack.jl/src/theory.jl:61",
      "  [5] #11",
      "    @ ./In[38]:24 [inlined]",
      "  [6] (::var\"#11#12\")(__rng__::Random._GLOBAL_RNG, __model__::DynamicPPL.Model{var\"#11#12\", (:data_vector,), (), (), Tuple{Vector{Float64}}, Tuple{}}, __varinfo__::DynamicPPL.ThreadSafeVarInfo{DynamicPPL.TypedVarInfo{NamedTuple{(:Ωm, :dz_g0, :dz_g1, :dz_g2, :dz_g3, :dz_g4), Tuple{DynamicPPL.Metadata{Dict{AbstractPPL.VarName{:Ωm, Tuple{}}, Int64}, Vector{Uniform{Float64}}, Vector{AbstractPPL.VarName{:Ωm, Tuple{}}}, Vector{Float64}, Vector{Set{DynamicPPL.Selector}}}, DynamicPPL.Metadata{Dict{AbstractPPL.VarName{:dz_g0, Tuple{}}, Int64}, Vector{Truncated{Normal{Float64}, Continuous, Float64}}, Vector{AbstractPPL.VarName{:dz_g0, Tuple{}}}, Vector{Float64}, Vector{Set{DynamicPPL.Selector}}}, DynamicPPL.Metadata{Dict{AbstractPPL.VarName{:dz_g1, Tuple{}}, Int64}, Vector{Truncated{Normal{Float64}, Continuous, Float64}}, Vector{AbstractPPL.VarName{:dz_g1, Tuple{}}}, Vector{Float64}, Vector{Set{DynamicPPL.Selector}}}, DynamicPPL.Metadata{Dict{AbstractPPL.VarName{:dz_g2, Tuple{}}, Int64}, Vector{Truncated{Normal{Float64}, Continuous, Float64}}, Vector{AbstractPPL.VarName{:dz_g2, Tuple{}}}, Vector{Float64}, Vector{Set{DynamicPPL.Selector}}}, DynamicPPL.Metadata{Dict{AbstractPPL.VarName{:dz_g3, Tuple{}}, Int64}, Vector{Truncated{Normal{Float64}, Continuous, Float64}}, Vector{AbstractPPL.VarName{:dz_g3, Tuple{}}}, Vector{Float64}, Vector{Set{DynamicPPL.Selector}}}, DynamicPPL.Metadata{Dict{AbstractPPL.VarName{:dz_g4, Tuple{}}, Int64}, Vector{Truncated{Normal{Float64}, Continuous, Float64}}, Vector{AbstractPPL.VarName{:dz_g4, Tuple{}}}, Vector{Float64}, Vector{Set{DynamicPPL.Selector}}}}}, Float64}, Vector{Base.RefValue{Float64}}}, __sampler__::DynamicPPL.SampleFromPrior, __context__::DynamicPPL.DefaultContext, data_vector::Vector{Float64})",
      "    @ Main ./none:0",
      "  [7] macro expansion",
      "    @ ~/.julia/packages/DynamicPPL/SgzCy/src/model.jl:0 [inlined]",
      "  [8] _evaluate",
      "    @ ~/.julia/packages/DynamicPPL/SgzCy/src/model.jl:154 [inlined]",
      "  [9] evaluate_threadsafe(rng::Random._GLOBAL_RNG, model::DynamicPPL.Model{var\"#11#12\", (:data_vector,), (), (), Tuple{Vector{Float64}}, Tuple{}}, varinfo::DynamicPPL.TypedVarInfo{NamedTuple{(:Ωm, :dz_g0, :dz_g1, :dz_g2, :dz_g3, :dz_g4), Tuple{DynamicPPL.Metadata{Dict{AbstractPPL.VarName{:Ωm, Tuple{}}, Int64}, Vector{Uniform{Float64}}, Vector{AbstractPPL.VarName{:Ωm, Tuple{}}}, Vector{Float64}, Vector{Set{DynamicPPL.Selector}}}, DynamicPPL.Metadata{Dict{AbstractPPL.VarName{:dz_g0, Tuple{}}, Int64}, Vector{Truncated{Normal{Float64}, Continuous, Float64}}, Vector{AbstractPPL.VarName{:dz_g0, Tuple{}}}, Vector{Float64}, Vector{Set{DynamicPPL.Selector}}}, DynamicPPL.Metadata{Dict{AbstractPPL.VarName{:dz_g1, Tuple{}}, Int64}, Vector{Truncated{Normal{Float64}, Continuous, Float64}}, Vector{AbstractPPL.VarName{:dz_g1, Tuple{}}}, Vector{Float64}, Vector{Set{DynamicPPL.Selector}}}, DynamicPPL.Metadata{Dict{AbstractPPL.VarName{:dz_g2, Tuple{}}, Int64}, Vector{Truncated{Normal{Float64}, Continuous, Float64}}, Vector{AbstractPPL.VarName{:dz_g2, Tuple{}}}, Vector{Float64}, Vector{Set{DynamicPPL.Selector}}}, DynamicPPL.Metadata{Dict{AbstractPPL.VarName{:dz_g3, Tuple{}}, Int64}, Vector{Truncated{Normal{Float64}, Continuous, Float64}}, Vector{AbstractPPL.VarName{:dz_g3, Tuple{}}}, Vector{Float64}, Vector{Set{DynamicPPL.Selector}}}, DynamicPPL.Metadata{Dict{AbstractPPL.VarName{:dz_g4, Tuple{}}, Int64}, Vector{Truncated{Normal{Float64}, Continuous, Float64}}, Vector{AbstractPPL.VarName{:dz_g4, Tuple{}}}, Vector{Float64}, Vector{Set{DynamicPPL.Selector}}}}}, Float64}, sampler::DynamicPPL.SampleFromPrior, context::DynamicPPL.DefaultContext)",
      "    @ DynamicPPL ~/.julia/packages/DynamicPPL/SgzCy/src/model.jl:144",
      " [10] Model",
      "    @ ~/.julia/packages/DynamicPPL/SgzCy/src/model.jl:94 [inlined]",
      " [11] Model",
      "    @ ~/.julia/packages/DynamicPPL/SgzCy/src/model.jl:91 [inlined]",
      " [12] Model",
      "    @ ~/.julia/packages/DynamicPPL/SgzCy/src/model.jl:98 [inlined]",
      " [13] (::Turing.Inference.MHLogDensityFunction{DynamicPPL.Model{var\"#11#12\", (:data_vector,), (), (), Tuple{Vector{Float64}}, Tuple{}}, DynamicPPL.Sampler{MH{(), NamedTuple{(), Tuple{}}}}, DynamicPPL.TypedVarInfo{NamedTuple{(:Ωm, :dz_g0, :dz_g1, :dz_g2, :dz_g3, :dz_g4), Tuple{DynamicPPL.Metadata{Dict{AbstractPPL.VarName{:Ωm, Tuple{}}, Int64}, Vector{Uniform{Float64}}, Vector{AbstractPPL.VarName{:Ωm, Tuple{}}}, Vector{Float64}, Vector{Set{DynamicPPL.Selector}}}, DynamicPPL.Metadata{Dict{AbstractPPL.VarName{:dz_g0, Tuple{}}, Int64}, Vector{Truncated{Normal{Float64}, Continuous, Float64}}, Vector{AbstractPPL.VarName{:dz_g0, Tuple{}}}, Vector{Float64}, Vector{Set{DynamicPPL.Selector}}}, DynamicPPL.Metadata{Dict{AbstractPPL.VarName{:dz_g1, Tuple{}}, Int64}, Vector{Truncated{Normal{Float64}, Continuous, Float64}}, Vector{AbstractPPL.VarName{:dz_g1, Tuple{}}}, Vector{Float64}, Vector{Set{DynamicPPL.Selector}}}, DynamicPPL.Metadata{Dict{AbstractPPL.VarName{:dz_g2, Tuple{}}, Int64}, Vector{Truncated{Normal{Float64}, Continuous, Float64}}, Vector{AbstractPPL.VarName{:dz_g2, Tuple{}}}, Vector{Float64}, Vector{Set{DynamicPPL.Selector}}}, DynamicPPL.Metadata{Dict{AbstractPPL.VarName{:dz_g3, Tuple{}}, Int64}, Vector{Truncated{Normal{Float64}, Continuous, Float64}}, Vector{AbstractPPL.VarName{:dz_g3, Tuple{}}}, Vector{Float64}, Vector{Set{DynamicPPL.Selector}}}, DynamicPPL.Metadata{Dict{AbstractPPL.VarName{:dz_g4, Tuple{}}, Int64}, Vector{Truncated{Normal{Float64}, Continuous, Float64}}, Vector{AbstractPPL.VarName{:dz_g4, Tuple{}}}, Vector{Float64}, Vector{Set{DynamicPPL.Selector}}}}}, Float64}})(x::NamedTuple{(:Ωm, :dz_g0, :dz_g1, :dz_g2, :dz_g3, :dz_g4), NTuple{6, Float64}})",
      "    @ Turing.Inference ~/.julia/packages/Turing/uAz5c/src/inference/mh.jl:257",
      " [14] logdensity",
      "    @ ~/.julia/packages/AdvancedMH/OtXed/src/AdvancedMH.jl:52 [inlined]",
      " [15] Transition",
      "    @ ~/.julia/packages/AdvancedMH/OtXed/src/AdvancedMH.jl:49 [inlined]",
      " [16] propose",
      "    @ ~/.julia/packages/AdvancedMH/OtXed/src/mh-core.jl:113 [inlined]",
      " [17] step(rng::Random._GLOBAL_RNG, model::AdvancedMH.DensityModel{Turing.Inference.MHLogDensityFunction{DynamicPPL.Model{var\"#11#12\", (:data_vector,), (), (), Tuple{Vector{Float64}}, Tuple{}}, DynamicPPL.Sampler{MH{(), NamedTuple{(), Tuple{}}}}, DynamicPPL.TypedVarInfo{NamedTuple{(:Ωm, :dz_g0, :dz_g1, :dz_g2, :dz_g3, :dz_g4), Tuple{DynamicPPL.Metadata{Dict{AbstractPPL.VarName{:Ωm, Tuple{}}, Int64}, Vector{Uniform{Float64}}, Vector{AbstractPPL.VarName{:Ωm, Tuple{}}}, Vector{Float64}, Vector{Set{DynamicPPL.Selector}}}, DynamicPPL.Metadata{Dict{AbstractPPL.VarName{:dz_g0, Tuple{}}, Int64}, Vector{Truncated{Normal{Float64}, Continuous, Float64}}, Vector{AbstractPPL.VarName{:dz_g0, Tuple{}}}, Vector{Float64}, Vector{Set{DynamicPPL.Selector}}}, DynamicPPL.Metadata{Dict{AbstractPPL.VarName{:dz_g1, Tuple{}}, Int64}, Vector{Truncated{Normal{Float64}, Continuous, Float64}}, Vector{AbstractPPL.VarName{:dz_g1, Tuple{}}}, Vector{Float64}, Vector{Set{DynamicPPL.Selector}}}, DynamicPPL.Metadata{Dict{AbstractPPL.VarName{:dz_g2, Tuple{}}, Int64}, Vector{Truncated{Normal{Float64}, Continuous, Float64}}, Vector{AbstractPPL.VarName{:dz_g2, Tuple{}}}, Vector{Float64}, Vector{Set{DynamicPPL.Selector}}}, DynamicPPL.Metadata{Dict{AbstractPPL.VarName{:dz_g3, Tuple{}}, Int64}, Vector{Truncated{Normal{Float64}, Continuous, Float64}}, Vector{AbstractPPL.VarName{:dz_g3, Tuple{}}}, Vector{Float64}, Vector{Set{DynamicPPL.Selector}}}, DynamicPPL.Metadata{Dict{AbstractPPL.VarName{:dz_g4, Tuple{}}, Int64}, Vector{Truncated{Normal{Float64}, Continuous, Float64}}, Vector{AbstractPPL.VarName{:dz_g4, Tuple{}}}, Vector{Float64}, Vector{Set{DynamicPPL.Selector}}}}}, Float64}}}, spl::AdvancedMH.MetropolisHastings{NamedTuple{(:Ωm, :dz_g0, :dz_g1, :dz_g2, :dz_g3, :dz_g4), Tuple{AdvancedMH.StaticProposal{Uniform{Float64}}, AdvancedMH.StaticProposal{Truncated{Normal{Float64}, Continuous, Float64}}, AdvancedMH.StaticProposal{Truncated{Normal{Float64}, Continuous, Float64}}, AdvancedMH.StaticProposal{Truncated{Normal{Float64}, Continuous, Float64}}, AdvancedMH.StaticProposal{Truncated{Normal{Float64}, Continuous, Float64}}, AdvancedMH.StaticProposal{Truncated{Normal{Float64}, Continuous, Float64}}}}}, params_prev::AdvancedMH.Transition{NamedTuple{(:Ωm, :dz_g0, :dz_g1, :dz_g2, :dz_g3, :dz_g4), NTuple{6, Float64}}, Float64}; kwargs::Base.Pairs{Symbol, Union{}, Tuple{}, NamedTuple{(), Tuple{}}})",
      "    @ AdvancedMH ~/.julia/packages/AdvancedMH/OtXed/src/mh-core.jl:231",
      " [18] step(rng::Random._GLOBAL_RNG, model::AdvancedMH.DensityModel{Turing.Inference.MHLogDensityFunction{DynamicPPL.Model{var\"#11#12\", (:data_vector,), (), (), Tuple{Vector{Float64}}, Tuple{}}, DynamicPPL.Sampler{MH{(), NamedTuple{(), Tuple{}}}}, DynamicPPL.TypedVarInfo{NamedTuple{(:Ωm, :dz_g0, :dz_g1, :dz_g2, :dz_g3, :dz_g4), Tuple{DynamicPPL.Metadata{Dict{AbstractPPL.VarName{:Ωm, Tuple{}}, Int64}, Vector{Uniform{Float64}}, Vector{AbstractPPL.VarName{:Ωm, Tuple{}}}, Vector{Float64}, Vector{Set{DynamicPPL.Selector}}}, DynamicPPL.Metadata{Dict{AbstractPPL.VarName{:dz_g0, Tuple{}}, Int64}, Vector{Truncated{Normal{Float64}, Continuous, Float64}}, Vector{AbstractPPL.VarName{:dz_g0, Tuple{}}}, Vector{Float64}, Vector{Set{DynamicPPL.Selector}}}, DynamicPPL.Metadata{Dict{AbstractPPL.VarName{:dz_g1, Tuple{}}, Int64}, Vector{Truncated{Normal{Float64}, Continuous, Float64}}, Vector{AbstractPPL.VarName{:dz_g1, Tuple{}}}, Vector{Float64}, Vector{Set{DynamicPPL.Selector}}}, DynamicPPL.Metadata{Dict{AbstractPPL.VarName{:dz_g2, Tuple{}}, Int64}, Vector{Truncated{Normal{Float64}, Continuous, Float64}}, Vector{AbstractPPL.VarName{:dz_g2, Tuple{}}}, Vector{Float64}, Vector{Set{DynamicPPL.Selector}}}, DynamicPPL.Metadata{Dict{AbstractPPL.VarName{:dz_g3, Tuple{}}, Int64}, Vector{Truncated{Normal{Float64}, Continuous, Float64}}, Vector{AbstractPPL.VarName{:dz_g3, Tuple{}}}, Vector{Float64}, Vector{Set{DynamicPPL.Selector}}}, DynamicPPL.Metadata{Dict{AbstractPPL.VarName{:dz_g4, Tuple{}}, Int64}, Vector{Truncated{Normal{Float64}, Continuous, Float64}}, Vector{AbstractPPL.VarName{:dz_g4, Tuple{}}}, Vector{Float64}, Vector{Set{DynamicPPL.Selector}}}}}, Float64}}}, spl::AdvancedMH.MetropolisHastings{NamedTuple{(:Ωm, :dz_g0, :dz_g1, :dz_g2, :dz_g3, :dz_g4), Tuple{AdvancedMH.StaticProposal{Uniform{Float64}}, AdvancedMH.StaticProposal{Truncated{Normal{Float64}, Continuous, Float64}}, AdvancedMH.StaticProposal{Truncated{Normal{Float64}, Continuous, Float64}}, AdvancedMH.StaticProposal{Truncated{Normal{Float64}, Continuous, Float64}}, AdvancedMH.StaticProposal{Truncated{Normal{Float64}, Continuous, Float64}}, AdvancedMH.StaticProposal{Truncated{Normal{Float64}, Continuous, Float64}}}}}, params_prev::AdvancedMH.Transition{NamedTuple{(:Ωm, :dz_g0, :dz_g1, :dz_g2, :dz_g3, :dz_g4), NTuple{6, Float64}}, Float64})",
      "    @ AdvancedMH ~/.julia/packages/AdvancedMH/OtXed/src/mh-core.jl:231",
      " [19] propose!(rng::Random._GLOBAL_RNG, vi::DynamicPPL.TypedVarInfo{NamedTuple{(:Ωm, :dz_g0, :dz_g1, :dz_g2, :dz_g3, :dz_g4), Tuple{DynamicPPL.Metadata{Dict{AbstractPPL.VarName{:Ωm, Tuple{}}, Int64}, Vector{Uniform{Float64}}, Vector{AbstractPPL.VarName{:Ωm, Tuple{}}}, Vector{Float64}, Vector{Set{DynamicPPL.Selector}}}, DynamicPPL.Metadata{Dict{AbstractPPL.VarName{:dz_g0, Tuple{}}, Int64}, Vector{Truncated{Normal{Float64}, Continuous, Float64}}, Vector{AbstractPPL.VarName{:dz_g0, Tuple{}}}, Vector{Float64}, Vector{Set{DynamicPPL.Selector}}}, DynamicPPL.Metadata{Dict{AbstractPPL.VarName{:dz_g1, Tuple{}}, Int64}, Vector{Truncated{Normal{Float64}, Continuous, Float64}}, Vector{AbstractPPL.VarName{:dz_g1, Tuple{}}}, Vector{Float64}, Vector{Set{DynamicPPL.Selector}}}, DynamicPPL.Metadata{Dict{AbstractPPL.VarName{:dz_g2, Tuple{}}, Int64}, Vector{Truncated{Normal{Float64}, Continuous, Float64}}, Vector{AbstractPPL.VarName{:dz_g2, Tuple{}}}, Vector{Float64}, Vector{Set{DynamicPPL.Selector}}}, DynamicPPL.Metadata{Dict{AbstractPPL.VarName{:dz_g3, Tuple{}}, Int64}, Vector{Truncated{Normal{Float64}, Continuous, Float64}}, Vector{AbstractPPL.VarName{:dz_g3, Tuple{}}}, Vector{Float64}, Vector{Set{DynamicPPL.Selector}}}, DynamicPPL.Metadata{Dict{AbstractPPL.VarName{:dz_g4, Tuple{}}, Int64}, Vector{Truncated{Normal{Float64}, Continuous, Float64}}, Vector{AbstractPPL.VarName{:dz_g4, Tuple{}}}, Vector{Float64}, Vector{Set{DynamicPPL.Selector}}}}}, Float64}, model::DynamicPPL.Model{var\"#11#12\", (:data_vector,), (), (), Tuple{Vector{Float64}}, Tuple{}}, spl::DynamicPPL.Sampler{MH{(), NamedTuple{(), Tuple{}}}}, proposal::NamedTuple{(), Tuple{}})",
      "    @ Turing.Inference ~/.julia/packages/Turing/uAz5c/src/inference/mh.jl:359",
      " [20] #step#63",
      "    @ ~/.julia/packages/Turing/uAz5c/src/inference/mh.jl:424 [inlined]",
      " [21] macro expansion",
      "    @ ~/.julia/packages/AbstractMCMC/oou1a/src/sample.jl:140 [inlined]",
      " [22] macro expansion",
      "    @ ~/.julia/packages/ProgressLogging/6KXlp/src/ProgressLogging.jl:328 [inlined]",
      " [23] (::AbstractMCMC.var\"#20#21\"{Bool, String, Nothing, Int64, Int64, Base.Pairs{Symbol, Integer, Tuple{Symbol, Symbol}, NamedTuple{(:nadapt, :save_state), Tuple{Int64, Bool}}}, Random._GLOBAL_RNG, DynamicPPL.Model{var\"#11#12\", (:data_vector,), (), (), Tuple{Vector{Float64}}, Tuple{}}, DynamicPPL.Sampler{MH{(), NamedTuple{(), Tuple{}}}}, Int64, Int64})()",
      "    @ AbstractMCMC ~/.julia/packages/AbstractMCMC/oou1a/src/logging.jl:11",
      " [24] with_logstate(f::Function, logstate::Any)",
      "    @ Base.CoreLogging ./logging.jl:511",
      " [25] with_logger(f::Function, logger::LoggingExtras.TeeLogger{Tuple{LoggingExtras.EarlyFilteredLogger{ConsoleProgressMonitor.ProgressLogger, AbstractMCMC.var\"#1#3\"{Module}}, LoggingExtras.EarlyFilteredLogger{Base.CoreLogging.SimpleLogger, AbstractMCMC.var\"#2#4\"{Module}}}})",
      "    @ Base.CoreLogging ./logging.jl:623",
      " [26] with_progresslogger(f::Function, _module::Module, logger::Base.CoreLogging.SimpleLogger)",
      "    @ AbstractMCMC ~/.julia/packages/AbstractMCMC/oou1a/src/logging.jl:34",
      " [27] macro expansion",
      "    @ ~/.julia/packages/AbstractMCMC/oou1a/src/logging.jl:10 [inlined]",
      " [28] mcmcsample(rng::Random._GLOBAL_RNG, model::DynamicPPL.Model{var\"#11#12\", (:data_vector,), (), (), Tuple{Vector{Float64}}, Tuple{}}, sampler::DynamicPPL.Sampler{MH{(), NamedTuple{(), Tuple{}}}}, N::Int64; progress::Bool, progressname::String, callback::Nothing, discard_initial::Int64, thinning::Int64, chain_type::Type, kwargs::Base.Pairs{Symbol, Integer, Tuple{Symbol, Symbol}, NamedTuple{(:nadapt, :save_state), Tuple{Int64, Bool}}})",
      "    @ AbstractMCMC ~/.julia/packages/AbstractMCMC/oou1a/src/sample.jl:88",
      " [29] sample(rng::Random._GLOBAL_RNG, model::DynamicPPL.Model{var\"#11#12\", (:data_vector,), (), (), Tuple{Vector{Float64}}, Tuple{}}, sampler::DynamicPPL.Sampler{MH{(), NamedTuple{(), Tuple{}}}}, N::Int64; chain_type::Type, resume_from::Nothing, progress::Bool, kwargs::Base.Pairs{Symbol, Integer, Tuple{Symbol, Symbol}, NamedTuple{(:nadapt, :save_state), Tuple{Int64, Bool}}})",
      "    @ Turing.Inference ~/.julia/packages/Turing/uAz5c/src/inference/Inference.jl:156",
      " [30] #sample#2",
      "    @ ~/.julia/packages/Turing/uAz5c/src/inference/Inference.jl:142 [inlined]",
      " [31] #sample#1",
      "    @ ~/.julia/packages/Turing/uAz5c/src/inference/Inference.jl:132 [inlined]",
      " [32] top-level scope",
      "    @ In[40]:1",
      " [33] eval",
      "    @ ./boot.jl:373 [inlined]",
      " [34] include_string(mapexpr::typeof(REPL.softscope), mod::Module, code::String, filename::String)",
      "    @ Base ./loading.jl:1196"
     ]
    }
   ],
   "source": [
    "chain1 = sample(model(data_vector), MH(), iterations,\n",
    "            nadapt=nadapts, progress=true; save_state=true);"
   ]
  },
  {
   "cell_type": "code",
   "execution_count": null,
   "id": "a94c9c61",
   "metadata": {},
   "outputs": [],
   "source": []
  }
 ],
 "metadata": {
  "kernelspec": {
   "display_name": "Julia 4 Threads 1.7.0",
   "language": "julia",
   "name": "julia-4-threads-1.7"
  },
  "language_info": {
   "file_extension": ".jl",
   "mimetype": "application/julia",
   "name": "julia",
   "version": "1.7.0"
  }
 },
 "nbformat": 4,
 "nbformat_minor": 5
}
