{
 "cells": [
  {
   "cell_type": "code",
   "execution_count": 1,
   "id": "02df9ee7",
   "metadata": {},
   "outputs": [],
   "source": [
    "using Turing\n",
    "using LimberJack\n",
    "using CSV\n",
    "using NPZ\n",
    "using FITSIO"
   ]
  },
  {
   "cell_type": "code",
   "execution_count": 2,
   "id": "a74170be",
   "metadata": {},
   "outputs": [],
   "source": [
    "path = \"/home/jaime/PhD/LimberJack.jl/Notebooks/data/\"\n",
    "datas = [Data(\"DESgc\", \"DESgc\", 2 , 2, path=path),\n",
    "         Data(\"DESgc\", \"DESwl\", 2 , 3, path=path)];\n",
    "path_test= \"/home/jaime/PhD/LimberJack.jl/test/data/\"\n",
    "datas_test1 = [Data(\"Dmygc\", \"Dmygc\", 1 , 1, path=path_test),\n",
    "         Data(\"Dmywl\", \"Dmywl\", 2 , 2, path=path_test),\n",
    "         Data(\"Dmygc\", \"Dmywl\", 1 , 2, path=path_test)]\n",
    "datas_test2 = [Data(\"Dmygc\", \"Dmygc\", 1 , 1, path=path_test),\n",
    "               Data(\"Dmygc\", \"Dmywl\", 1 , 2, path=path_test),\n",
    "               Data(\"Dmywl\", \"Dmywl\", 2 , 2, path=path_test)]\n",
    "Cls_metas = Cls_meta(datas, path=path);\n",
    "Cls_metas_test1 = Cls_meta(datas_test1, path=path);\n",
    "Cls_metas_test2 = Cls_meta(datas_test2, path=path);\n",
    "cov_tot = Cls_metas.cov_tot;\n",
    "data_vector = Cls_metas.data_vector;"
   ]
  },
  {
   "cell_type": "code",
   "execution_count": 3,
   "id": "10bcb851",
   "metadata": {},
   "outputs": [],
   "source": [
    "cosmo = LimberJack.Cosmology(0.3, 0.05, 0.67, 0.96, 0.81,\n",
    "                             tk_mode=\"EisHu\", Pk_mode=\"Halofit\");"
   ]
  },
  {
   "cell_type": "code",
   "execution_count": 4,
   "id": "d01829ff",
   "metadata": {},
   "outputs": [],
   "source": [
    "theory = Theory(cosmo, Cls_metas; path=path);\n",
    "theory_test1 = Theory(cosmo, Cls_metas_test1; path=path_test);\n",
    "theory_test2 = Theory(cosmo, Cls_metas_test2; path=path_test);"
   ]
  },
  {
   "cell_type": "code",
   "execution_count": 5,
   "id": "fc04c265",
   "metadata": {},
   "outputs": [
    {
     "data": {
      "text/plain": [
       "3-element Vector{Float64}:\n",
       " 1.404362970770941e-5\n",
       " 1.7812471683040393e-9\n",
       " 1.3480288330186787e-7"
      ]
     },
     "execution_count": 5,
     "metadata": {},
     "output_type": "execute_result"
    }
   ],
   "source": [
    "theory_test1.Cls"
   ]
  },
  {
   "cell_type": "code",
   "execution_count": 6,
   "id": "41b74ae4",
   "metadata": {
    "scrolled": false
   },
   "outputs": [
    {
     "data": {
      "text/plain": [
       "true"
      ]
     },
     "execution_count": 6,
     "metadata": {},
     "output_type": "execute_result"
    }
   ],
   "source": [
    "length(theory_test1.tracers) == length(theory_test2.tracers)"
   ]
  },
  {
   "cell_type": "code",
   "execution_count": 14,
   "id": "72fe35fd",
   "metadata": {},
   "outputs": [
    {
     "data": {
      "text/plain": [
       "2-element Vector{DataType}:\n",
       " NumberCountsTracer\n",
       " WeakLensingTracer"
      ]
     },
     "execution_count": 14,
     "metadata": {},
     "output_type": "execute_result"
    }
   ],
   "source": [
    "[typeof(tracer) for tracer in theory_test1.tracers]"
   ]
  },
  {
   "cell_type": "code",
   "execution_count": 13,
   "id": "e7b0808a",
   "metadata": {},
   "outputs": [
    {
     "data": {
      "text/plain": [
       "NumberCountsTracer(400-element extrapolate(interpolate((::Vector{Float64},), ::Vector{Float64}, Gridded(Linear())), 0) with element type Float64:\n",
       " 2.3866080925588832e-6\n",
       " 7.17681612197578e-6\n",
       " 1.2200164370949697e-5\n",
       " 1.876347927105402e-5\n",
       " 2.6186529691391524e-5\n",
       " 3.492266205088506e-5\n",
       " 4.423085245457592e-5\n",
       " 5.339776531555639e-5\n",
       " 6.35168401536602e-5\n",
       " 7.511372770006339e-5\n",
       " 9.109335234325195e-5\n",
       " 0.0001113378948403124\n",
       " 0.00013462698409213704\n",
       " ⋮\n",
       " 0.0\n",
       " 0.0\n",
       " 0.0\n",
       " 0.0\n",
       " 0.0\n",
       " 0.0\n",
       " 0.0\n",
       " 0.0\n",
       " 0.0\n",
       " 0.0\n",
       " 0.0\n",
       " 0.0, 2.0, 0)"
      ]
     },
     "execution_count": 13,
     "metadata": {},
     "output_type": "execute_result"
    }
   ],
   "source": [
    "theory_test2.tracers[1]"
   ]
  },
  {
   "cell_type": "code",
   "execution_count": 10,
   "id": "7a1214ef",
   "metadata": {},
   "outputs": [
    {
     "data": {
      "text/plain": [
       "false"
      ]
     },
     "execution_count": 10,
     "metadata": {},
     "output_type": "execute_result"
    }
   ],
   "source": [
    "isequal(theory_test1.tracers, theory_test2.tracers)"
   ]
  },
  {
   "cell_type": "code",
   "execution_count": 8,
   "id": "4ad5a616",
   "metadata": {},
   "outputs": [
    {
     "name": "stdout",
     "output_type": "stream",
     "text": [
      "Folder already exists\n"
     ]
    },
    {
     "ename": "LoadError",
     "evalue": "UndefVarError: new_chain not defined",
     "output_type": "error",
     "traceback": [
      "UndefVarError: new_chain not defined",
      "",
      "Stacktrace:",
      " [1] top-level scope",
      "   @ In[8]:34",
      " [2] eval",
      "   @ ./boot.jl:373 [inlined]",
      " [3] include_string(mapexpr::typeof(REPL.softscope), mod::Module, code::String, filename::String)",
      "   @ Base ./loading.jl:1196"
     ]
    }
   ],
   "source": [
    "@model function model(data_vector)\n",
    "    Ωm ~ Uniform(0.2, 0.3)\n",
    "    h ~ Uniform(0.6, 0.8)\n",
    "    s8 ~ Uniform(0.7, 1.0)\n",
    "    cosmology = LimberJack.Cosmology(Ωm, 0.05, h, 0.96, s8,\n",
    "                                     tk_mode=\"EisHu\",\n",
    "                                     Pk_mode=\"Halofit\")\n",
    "    theory = Theory(cosmology, Cls_metas, path=path).Cls\n",
    "    data_vector ~ MvNormal(theory, cov_tot)\n",
    "end;\n",
    "\n",
    "iterations = 500\n",
    "step_size = 0.005\n",
    "samples_per_step = 10\n",
    "cores = 4\n",
    "\n",
    "# Start sampling.\n",
    "folname = string(\"DES_gc2gc2_gc2wl3_\", \"stpsz_\", step_size, \"_smpls_\", samples_per_step)\n",
    "if isdir(folname)\n",
    "    println(\"Folder already exists\")\n",
    "    if isfile(\"chain.jls\")\n",
    "        println(\"Restarting from past chain\")\n",
    "        past_chain = read(\"chain.jls\", Chains)\n",
    "        new_chain = sample(model(data_vector), HMC(step_size, samples_per_step), iterations,\n",
    "                           progress=true; save_state=true, resume_from=past_chain)\n",
    "    end\n",
    "else\n",
    "    mkdir(folname)\n",
    "    println(\"Created new folder\")\n",
    "    new_chain = sample(model(data_vector), HMC(step_size, samples_per_step),\n",
    "                iterations, progress=true; save_state=true)\n",
    "end\n",
    "\n",
    "info = describe(new_chain)[1]\n",
    "fname_info = string(\"info.csv\")\n",
    "CSV.write(joinpath(folname, fname_info), info)\n",
    "\n",
    "\n",
    "fname_jls = string(\"chain.jls\")\n",
    "write(joinpath(folname, fname_jls), new_chain)\n",
    "    \n",
    "fname_csv = string(\"chain.csv\")\n",
    "CSV.write(joinpath(folname, fname_csv), new_chain)\n",
    "\n"
   ]
  },
  {
   "cell_type": "code",
   "execution_count": null,
   "id": "cd6e1613",
   "metadata": {},
   "outputs": [],
   "source": []
  },
  {
   "cell_type": "code",
   "execution_count": null,
   "id": "69871a16",
   "metadata": {},
   "outputs": [],
   "source": []
  }
 ],
 "metadata": {
  "kernelspec": {
   "display_name": "Julia 1.7.0",
   "language": "julia",
   "name": "julia-1.7"
  },
  "language_info": {
   "file_extension": ".jl",
   "mimetype": "application/julia",
   "name": "julia",
   "version": "1.7.0"
  }
 },
 "nbformat": 4,
 "nbformat_minor": 5
}
