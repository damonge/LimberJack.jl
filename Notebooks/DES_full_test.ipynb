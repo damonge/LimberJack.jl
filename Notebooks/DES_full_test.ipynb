{
 "cells": [
  {
   "cell_type": "code",
   "execution_count": 1,
   "id": "02df9ee7",
   "metadata": {},
   "outputs": [],
   "source": [
    "using Turing\n",
    "using LimberJack\n",
    "using CSV\n",
    "using NPZ\n",
    "using FITSIO"
   ]
  },
  {
   "cell_type": "code",
   "execution_count": 2,
   "id": "a74170be",
   "metadata": {},
   "outputs": [],
   "source": [
    "path = \"/home/jaime/PhD/LimberJack.jl/Notebooks/data/\"\n",
    "datas = [Data(\"DESgc\", \"DESgc\", 2 , 2, path=path),\n",
    "         Data(\"DESgc\", \"DESwl\", 2 , 3, path=path)];\n",
    "Cls_metas = Cls_meta(datas, path=path);\n",
    "cov_tot = Cls_metas.cov_tot;\n",
    "data_vector = Cls_metas.data_vector;"
   ]
  },
  {
   "cell_type": "code",
   "execution_count": 3,
   "id": "4ad5a616",
   "metadata": {},
   "outputs": [
    {
     "name": "stderr",
     "output_type": "stream",
     "text": [
      "\u001b[32mSampling: 100%|█████████████████████████████████████████| Time: 0:06:27\u001b[39m\n"
     ]
    },
    {
     "name": "stdout",
     "output_type": "stream",
     "text": [
      "Created new folder\n"
     ]
    },
    {
     "data": {
      "text/plain": [
       "\"DES_gc2gc2_gc2wl3_stpsz_0.005_smpls_10/chain.csv\""
      ]
     },
     "execution_count": 3,
     "metadata": {},
     "output_type": "execute_result"
    }
   ],
   "source": [
    "@model function model(data_vector)\n",
    "    Ωm ~ Uniform(0.2, 0.3)\n",
    "    h ~ Uniform(0.6, 0.8)\n",
    "    s8 ~ Uniform(0.7, 1.0)\n",
    "    cosmology = LimberJack.Cosmology(Ωm, 0.05, h, 0.96, s8,\n",
    "                                     tk_mode=\"EisHu\",\n",
    "                                     Pk_mode=\"Halofit\")\n",
    "    theory = Theory(cosmology, Cls_metas, path=path).Cls\n",
    "    data_vector ~ MvNormal(theory, cov_tot)\n",
    "end;\n",
    "\n",
    "iterations = 50\n",
    "step_size = 0.005\n",
    "samples_per_step = 10\n",
    "cores = 4\n",
    "\n",
    "# Start sampling.\n",
    "folname = string(\"DES_gc2gc2_gc2wl3_\", \"stpsz_\", step_size, \"_smpls_\", samples_per_step)\n",
    "if isdir(folname)\n",
    "    println(\"Folder already exists\")\n",
    "    if isfile(joinpath(folname, \"chain.jls\"))\n",
    "        println(\"Restarting from past chain\")\n",
    "        past_chain = read(joinpath(folname, \"chain.jls\"), Chains)\n",
    "        new_chain = sample(model(data_vector), HMC(step_size, samples_per_step), iterations,\n",
    "                           progress=true; save_state=true, resume_from=past_chain)\n",
    "    end\n",
    "else\n",
    "    mkdir(folname)\n",
    "    println(\"Created new folder\")\n",
    "    new_chain = sample(model(data_vector), HMC(step_size, samples_per_step),\n",
    "                iterations, progress=true; save_state=true)\n",
    "end\n",
    "\n",
    "info = describe(new_chain)[1]\n",
    "fname_info = string(\"info.csv\")\n",
    "CSV.write(joinpath(folname, fname_info), info)\n",
    "\n",
    "\n",
    "fname_jls = string(\"chain.jls\")\n",
    "write(joinpath(folname, fname_jls), new_chain)\n",
    "    \n",
    "fname_csv = string(\"chain.csv\")\n",
    "CSV.write(joinpath(folname, fname_csv), new_chain)\n",
    "\n"
   ]
  },
  {
   "cell_type": "code",
   "execution_count": null,
   "id": "cd6e1613",
   "metadata": {},
   "outputs": [],
   "source": []
  },
  {
   "cell_type": "code",
   "execution_count": null,
   "id": "69871a16",
   "metadata": {},
   "outputs": [],
   "source": []
  }
 ],
 "metadata": {
  "kernelspec": {
   "display_name": "Julia 1.7.0",
   "language": "julia",
   "name": "julia-1.7"
  },
  "language_info": {
   "file_extension": ".jl",
   "mimetype": "application/julia",
   "name": "julia",
   "version": "1.7.0"
  }
 },
 "nbformat": 4,
 "nbformat_minor": 5
}
