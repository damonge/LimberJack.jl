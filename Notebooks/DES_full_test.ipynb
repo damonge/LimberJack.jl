{
 "cells": [
  {
   "cell_type": "code",
   "execution_count": 1,
   "id": "02df9ee7",
   "metadata": {},
   "outputs": [
    {
     "name": "stderr",
     "output_type": "stream",
     "text": [
      "┌ Info: Precompiling LimberJack [6b86205d-155a-4b14-b82d-b6a149ea78f2]\n",
      "└ @ Base loading.jl:1423\n",
      "WARNING: Method definition (::Type{LimberJack.Theory})(Any, Any) in module LimberJack at /home/jaime/PhD/LimberJack.jl/src/theory.jl:2 overwritten at /home/jaime/PhD/LimberJack.jl/src/theory.jl:6.\n",
      "  ** incremental compilation may be fatally broken for this module **\n",
      "\n"
     ]
    }
   ],
   "source": [
    "using Turing\n",
    "using LimberJack\n",
    "using CSV\n",
    "using NPZ\n",
    "using FITSIO"
   ]
  },
  {
   "cell_type": "code",
   "execution_count": 2,
   "id": "a74170be",
   "metadata": {},
   "outputs": [],
   "source": [
    "path = \"/home/jaime/PhD/LimberJack.jl/Notebooks/data/\"\n",
    "datas = [Data(\"DESgc\", \"DESgc\", 2 , 2, path=path),\n",
    "         Data(\"DESgc\", \"DESwl\", 2 , 3, path=path)];\n",
    "Cls_metas = Cls_meta(datas, path=path);\n",
    "cov_tot = Cls_metas.cov_tot;\n",
    "data_vector = Cls_metas.data_vector;"
   ]
  },
  {
   "cell_type": "code",
   "execution_count": 3,
   "id": "a3c8bab5",
   "metadata": {},
   "outputs": [
    {
     "data": {
      "text/plain": [
       "2-element Vector{Any}:\n",
       " \"DESgc__2\"\n",
       " \"DESwl__3\""
      ]
     },
     "execution_count": 3,
     "metadata": {},
     "output_type": "execute_result"
    }
   ],
   "source": [
    "tracers_names = Cls_metas.tracers_names"
   ]
  },
  {
   "cell_type": "code",
   "execution_count": 4,
   "id": "699c798d",
   "metadata": {},
   "outputs": [
    {
     "data": {
      "text/plain": [
       "2-element Vector{String}:\n",
       " \"DESgc__2_DESgc__2\"\n",
       " \"DESgc__2_DESwl__3\""
      ]
     },
     "execution_count": 4,
     "metadata": {},
     "output_type": "execute_result"
    }
   ],
   "source": [
    "cls_names = Cls_metas.cls_names"
   ]
  },
  {
   "cell_type": "code",
   "execution_count": 5,
   "id": "048ab1b6",
   "metadata": {},
   "outputs": [
    {
     "name": "stdout",
     "output_type": "stream",
     "text": [
      "DESgc__2\n",
      "DESgc__2\n",
      "DESgc__2\n",
      "DESwl__3\n"
     ]
    }
   ],
   "source": [
    "for cls_name in cls_names\n",
    "    tracer_name1 = string(cls_name[1:8])\n",
    "    tracer_name2 = cls_name[10:17]\n",
    "    println(tracer_name1)\n",
    "    println(tracer_name2)\n",
    "end"
   ]
  },
  {
   "cell_type": "code",
   "execution_count": 6,
   "id": "1969c89c",
   "metadata": {},
   "outputs": [],
   "source": [
    "cosmo = LimberJack.Cosmology(0.3, 0.05, 0.67, 0.96, 0.81,\n",
    "                             tk_mode=\"EisHu\", Pk_mode=\"Halofit\");"
   ]
  },
  {
   "cell_type": "code",
   "execution_count": 7,
   "id": "246ac358",
   "metadata": {},
   "outputs": [
    {
     "ename": "LoadError",
     "evalue": "UndefVarError: predictions not defined",
     "output_type": "error",
     "traceback": [
      "UndefVarError: predictions not defined",
      "",
      "Stacktrace:",
      " [1] Theory(cosmology::Cosmology, cls_meta::Cls_meta; path::String)",
      "   @ LimberJack ~/PhD/LimberJack.jl/src/theory.jl:34",
      " [2] top-level scope",
      "   @ In[7]:1",
      " [3] eval",
      "   @ ./boot.jl:373 [inlined]",
      " [4] include_string(mapexpr::typeof(REPL.softscope), mod::Module, code::String, filename::String)",
      "   @ Base ./loading.jl:1196"
     ]
    }
   ],
   "source": [
    "Theory(cosmo, Cls_metas; path=path)"
   ]
  },
  {
   "cell_type": "code",
   "execution_count": 8,
   "id": "4ad5a616",
   "metadata": {},
   "outputs": [
    {
     "name": "stdout",
     "output_type": "stream",
     "text": [
      "Folder already exists\n"
     ]
    },
    {
     "ename": "LoadError",
     "evalue": "UndefVarError: new_chain not defined",
     "output_type": "error",
     "traceback": [
      "UndefVarError: new_chain not defined",
      "",
      "Stacktrace:",
      " [1] top-level scope",
      "   @ In[8]:34",
      " [2] eval",
      "   @ ./boot.jl:373 [inlined]",
      " [3] include_string(mapexpr::typeof(REPL.softscope), mod::Module, code::String, filename::String)",
      "   @ Base ./loading.jl:1196"
     ]
    }
   ],
   "source": [
    "@model function model(data_vector)\n",
    "    Ωm ~ Uniform(0.2, 0.3)\n",
    "    h ~ Uniform(0.6, 0.8)\n",
    "    s8 ~ Uniform(0.7, 1.0)\n",
    "    cosmology = LimberJack.Cosmology(Ωm, 0.05, h, 0.96, s8,\n",
    "                                     tk_mode=\"EisHu\",\n",
    "                                     Pk_mode=\"Halofit\")\n",
    "    theory = Theory(cosmology, Cls_metas, path=path).Cls\n",
    "    data_vector ~ MvNormal(theory, cov_tot)\n",
    "end;\n",
    "\n",
    "iterations = 500\n",
    "step_size = 0.005\n",
    "samples_per_step = 10\n",
    "cores = 4\n",
    "\n",
    "# Start sampling.\n",
    "folname = string(\"DES_gc2gc2_gc2wl3_\", \"stpsz_\", step_size, \"_smpls_\", samples_per_step)\n",
    "if isdir(folname)\n",
    "    println(\"Folder already exists\")\n",
    "    if isfile(\"chain.jls\")\n",
    "        println(\"Restarting from past chain\")\n",
    "        past_chain = read(\"chain.jls\", Chains)\n",
    "        new_chain = sample(model(data_vector), HMC(step_size, samples_per_step), iterations,\n",
    "                           progress=true; save_state=true, resume_from=past_chain)\n",
    "    end\n",
    "else\n",
    "    mkdir(folname)\n",
    "    println(\"Created new folder\")\n",
    "    new_chain = sample(model(data_vector), HMC(step_size, samples_per_step),\n",
    "                iterations, progress=true; save_state=true)\n",
    "end\n",
    "\n",
    "info = describe(new_chain)[1]\n",
    "fname_info = string(\"info.csv\")\n",
    "CSV.write(joinpath(folname, fname_info), info)\n",
    "\n",
    "\n",
    "fname_jls = string(\"chain.jls\")\n",
    "write(joinpath(folname, fname_jls), new_chain)\n",
    "    \n",
    "fname_csv = string(\"chain.csv\")\n",
    "CSV.write(joinpath(folname, fname_csv), new_chain)\n",
    "\n"
   ]
  },
  {
   "cell_type": "code",
   "execution_count": null,
   "id": "cd6e1613",
   "metadata": {},
   "outputs": [],
   "source": []
  },
  {
   "cell_type": "code",
   "execution_count": null,
   "id": "69871a16",
   "metadata": {},
   "outputs": [],
   "source": []
  }
 ],
 "metadata": {
  "kernelspec": {
   "display_name": "Julia 1.7.0",
   "language": "julia",
   "name": "julia-1.7"
  },
  "language_info": {
   "file_extension": ".jl",
   "mimetype": "application/julia",
   "name": "julia",
   "version": "1.7.0"
  }
 },
 "nbformat": 4,
 "nbformat_minor": 5
}
