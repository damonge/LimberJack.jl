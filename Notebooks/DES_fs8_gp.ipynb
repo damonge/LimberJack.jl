{
 "cells": [
  {
   "cell_type": "markdown",
   "id": "e1b1e020",
   "metadata": {},
   "source": [
    "# Testing fs8"
   ]
  },
  {
   "cell_type": "code",
   "execution_count": 1,
   "id": "63929d3a",
   "metadata": {},
   "outputs": [
    {
     "data": {
      "text/plain": [
       "1"
      ]
     },
     "execution_count": 1,
     "metadata": {},
     "output_type": "execute_result"
    }
   ],
   "source": [
    "Threads.nthreads()"
   ]
  },
  {
   "cell_type": "code",
   "execution_count": 2,
   "id": "175bb537",
   "metadata": {},
   "outputs": [
    {
     "name": "stderr",
     "output_type": "stream",
     "text": [
      "┌ Info: Precompiling LimberJack [6b86205d-155a-4b14-b82d-b6a149ea78f2]\n",
      "└ @ Base loading.jl:1423\n"
     ]
    }
   ],
   "source": [
    "using LinearAlgebra\n",
    "using Turing\n",
    "using LimberJack\n",
    "using GaussianProcess\n",
    "using PythonCall\n",
    "using NPZ\n",
    "using BenchmarkTools;"
   ]
  },
  {
   "cell_type": "code",
   "execution_count": 3,
   "id": "0426f685",
   "metadata": {},
   "outputs": [],
   "source": [
    "np = pyimport(\"numpy\");"
   ]
  },
  {
   "cell_type": "code",
   "execution_count": 4,
   "id": "be9c0066",
   "metadata": {},
   "outputs": [],
   "source": [
    "meta = np.load(\"../data/DESY1/gcgc_gcwl_wlwl_meta.npz\")\n",
    "tracers_names = pyconvert(Vector{String}, meta[\"tracers\"])\n",
    "pairs = pyconvert(Vector{Vector{String}}, meta[\"pairs\"])\n",
    "pairs_ids = pyconvert(Vector{Vector{Int}}, meta[\"pairs_ids\"])\n",
    "idx = pyconvert(Vector{Int}, meta[\"idx\"])\n",
    "cls_data = pyconvert(Vector{Float64}, meta[\"cls\"])\n",
    "cls_cov = pyconvert(Matrix{Float64}, meta[\"cov\"])\n",
    "cls_inv_cov = pyconvert(Matrix{Float64}, meta[\"inv_cov\"]);"
   ]
  },
  {
   "cell_type": "code",
   "execution_count": 5,
   "id": "d299578b",
   "metadata": {},
   "outputs": [],
   "source": [
    "files = npzread(\"../data/DESY1/gcgc_gcwl_wlwl_files.npz\");"
   ]
  },
  {
   "cell_type": "code",
   "execution_count": 6,
   "id": "86126f19",
   "metadata": {},
   "outputs": [
    {
     "data": {
      "text/plain": [
       "11×11 Matrix{Float64}:\n",
       " 0.00203355   0.000811829  0.000264615  …  0.0     0.0     0.0       0.0\n",
       " 0.000811829  0.00142289   0.000662824     0.0     0.0     0.0       0.0\n",
       " 0.000264615  0.000662824  0.00118576      0.0     0.0     0.0       0.0\n",
       " 0.0          0.0          0.0             0.0     0.0     0.0       0.0\n",
       " 0.0          0.0          0.0             0.0     0.0     0.0       0.0\n",
       " 0.0          0.0          0.0          …  0.0     0.0     0.0       0.0\n",
       " 0.0          0.0          0.0             0.0     0.0     0.0       0.0\n",
       " 0.0          0.0          0.0             0.0144  0.0     0.0       0.0\n",
       " 0.0          0.0          0.0             0.0     0.0121  0.0       0.0\n",
       " 0.0          0.0          0.0             0.0     0.0     0.003025  0.0\n",
       " 0.0          0.0          0.0          …  0.0     0.0     0.0       0.013456"
      ]
     },
     "execution_count": 6,
     "metadata": {},
     "output_type": "execute_result"
    }
   ],
   "source": [
    "fs8_meta = npzread(\"../data/fs8s/fs8s.npz\")\n",
    "fs8_zs = fs8_meta[\"z\"]\n",
    "fs8_data = fs8_meta[\"data\"]\n",
    "fs8_cov = fs8_meta[\"cov\"]"
   ]
  },
  {
   "cell_type": "code",
   "execution_count": 7,
   "id": "3d077202",
   "metadata": {
    "scrolled": true
   },
   "outputs": [],
   "source": [
    "cov_tot = zeros(Float64, length(fs8_data)+length(cls_data), length(fs8_data)+length(cls_data))\n",
    "cov_tot[1:length(fs8_data), 1:length(fs8_data)] = fs8_cov\n",
    "cov_tot[length(fs8_data)+1:(length(fs8_data)+length(cls_data)),\n",
    "        length(fs8_data)+1:(length(fs8_data)+length(cls_data))] = cls_cov\n",
    "data_vector = [fs8_data ; cls_data];"
   ]
  },
  {
   "cell_type": "code",
   "execution_count": 8,
   "id": "a4722a22",
   "metadata": {},
   "outputs": [],
   "source": [
    "fid_cosmo = Cosmology()\n",
    "N = 100\n",
    "latent_x = Vector(0:0.3:3)\n",
    "x = Vector(range(0., stop=3., length=N));"
   ]
  },
  {
   "cell_type": "code",
   "execution_count": 9,
   "id": "a587df6a",
   "metadata": {},
   "outputs": [],
   "source": [
    "pars = [4.426868e-02,     2.093138e-01,     8.963611e-01,     8.495440e-01,\n",
    "         1.343888e+00,    1.639047e+00,      1.597174e+00,     1.944583e+00,     2.007245e+00,\n",
    "        -4.679383e-03,   -2.839996e-03,      1.771571e-03,     1.197051e-03,    -5.199799e-03,\n",
    "         2.389208e-01,   -6.435288e-01, \n",
    "         1.802722e-03,   -5.508994e-03,     1.952514e-02,    -1.117726e-03,\n",
    "        -1.744083e-02,    6.777779e-03,    -1.097939e-03,    -4.912315e-03,\n",
    "         8.536883e-01,    2.535825e-01];"
   ]
  },
  {
   "cell_type": "code",
   "execution_count": 10,
   "id": "41ff6f59",
   "metadata": {},
   "outputs": [
    {
     "data": {
      "text/plain": [
       "Dict{String, Float64} with 20 entries:\n",
       "  \"DESwl__2_e_dz\" => -0.00109794\n",
       "  \"DESwl__3_e_m\"  => -0.00111773\n",
       "  \"A_IA\"          => 0.238921\n",
       "  \"DESwl__0_e_m\"  => 0.00180272\n",
       "  \"DESwl__3_e_dz\" => -0.00491232\n",
       "  \"DESgc__3_0_dz\" => 0.00119705\n",
       "  \"DESgc__1_0_b\"  => 1.63905\n",
       "  \"DESgc__2_0_b\"  => 1.59717\n",
       "  \"DESwl__1_e_dz\" => 0.00677778\n",
       "  \"DESwl__1_e_m\"  => -0.00550899\n",
       "  \"DESgc__4_0_dz\" => -0.0051998\n",
       "  \"DESgc__3_0_b\"  => 1.94458\n",
       "  \"DESwl__2_e_m\"  => 0.0195251\n",
       "  \"DESgc__1_0_dz\" => -0.00284\n",
       "  \"DESgc__0_0_dz\" => -0.00467938\n",
       "  \"DESgc__4_0_b\"  => 2.00725\n",
       "  \"alpha_IA\"      => -0.643529\n",
       "  \"DESgc__0_0_b\"  => 1.34389\n",
       "  \"DESwl__0_e_dz\" => -0.0174408\n",
       "  \"DESgc__2_0_dz\" => 0.00177157"
      ]
     },
     "execution_count": 10,
     "metadata": {},
     "output_type": "execute_result"
    }
   ],
   "source": [
    "nuisances = Dict(\"DESgc__0_0_b\" => pars[5],\n",
    "                 \"DESgc__1_0_b\" => pars[6],\n",
    "                 \"DESgc__2_0_b\" => pars[7],\n",
    "                 \"DESgc__3_0_b\" => pars[8],\n",
    "                 \"DESgc__4_0_b\" => pars[9],\n",
    "                 \"DESgc__0_0_dz\" => pars[10],\n",
    "                 \"DESgc__1_0_dz\" => pars[11],\n",
    "                 \"DESgc__2_0_dz\" => pars[12],\n",
    "                 \"DESgc__3_0_dz\" => pars[13],\n",
    "                 \"DESgc__4_0_dz\" => pars[14],\n",
    "\n",
    "                 \"A_IA\" => pars[15],\n",
    "                 \"alpha_IA\" => pars[16],\n",
    "\n",
    "                 \"DESwl__0_e_dz\" => pars[21],\n",
    "                 \"DESwl__1_e_dz\" => pars[22],\n",
    "                 \"DESwl__2_e_dz\" => pars[23],\n",
    "                 \"DESwl__3_e_dz\" => pars[24],\n",
    "                 \"DESwl__0_e_m\" => pars[17],\n",
    "                 \"DESwl__1_e_m\" => pars[18],\n",
    "                 \"DESwl__2_e_m\" => pars[19],\n",
    "                 \"DESwl__3_e_m\" => pars[20])"
   ]
  },
  {
   "cell_type": "markdown",
   "id": "4aa7d0bd",
   "metadata": {},
   "source": [
    "## Sample Prior"
   ]
  },
  {
   "cell_type": "code",
   "execution_count": 11,
   "id": "1d3f8637",
   "metadata": {},
   "outputs": [],
   "source": [
    "function make_theory(Ωm, s8;\n",
    "                      tracers_names=tracers_names,\n",
    "                      pairs=pairs,\n",
    "                      idx=idx,\n",
    "                      cov_tot=cov_tot, \n",
    "                      files=files,\n",
    "                      fid_cosmo=fid_cosmo,\n",
    "                      latent_x=latent_x,\n",
    "                      x=x)\n",
    "    \n",
    "\n",
    "    Ωm = pars[26]\n",
    "    Ωb = pars[1]\n",
    "    h = pars[4]\n",
    "    ns = pars[3]\n",
    "\n",
    "    eta = 0.2\n",
    "    l = 0.3\n",
    "\n",
    "    latent_N = length(latent_x)\n",
    "    v = ones(latent_N)\n",
    "    \n",
    "    mu = fid_cosmo.Dz(vec(latent_x))\n",
    "    K = sqexp_cov_fn(latent_x; eta=eta, l=l)\n",
    "    dmu = fs8(fid_cosmo, vec(latent_x))\n",
    "    dK = sqexp_cov_grad(latent_x; eta=eta, l=l)\n",
    "    latent_gp = latent_GP(mu, v, K)\n",
    "    latent_dgp = latent_GP(dmu, v, dK)\n",
    "    gp = conditional(latent_x, x, latent_gp, sqexp_cov_fn;\n",
    "                      eta=eta, l=l)\n",
    "    dgp = conditional(latent_x, x, latent_dgp, sqexp_cov_grad;\n",
    "                      eta=eta, l=l)\n",
    "    \n",
    "    cosmology = LimberJack.Cosmology(Ωm, Ωb, h, ns, s8,\n",
    "                                     tk_mode=\"EisHu\",\n",
    "                                     Pk_mode=\"Halofit\";\n",
    "                                     custom_Dz=[x, gp, dgp])\n",
    "    \n",
    "    cls = Theory(cosmology, tracers_names, pairs,\n",
    "                    idx, files; Nuisances=nuisances)\n",
    "    \n",
    "    fs8s = fs8(cosmology, latent_x)\n",
    "    \n",
    "    return latent_gp, fs8s, cls\n",
    "end;"
   ]
  },
  {
   "cell_type": "code",
   "execution_count": 15,
   "id": "c0604ff1",
   "metadata": {},
   "outputs": [],
   "source": [
    "N_samples = 100\n",
    "cls_preds = zeros(N_samples, length(cls_data))\n",
    "gps_preds = zeros(N_samples, length(latent_x))\n",
    "fs8s_preds = zeros(N_samples, length(fs8_zs))\n",
    "for i in 1:N_samples\n",
    "    Ωm = rand(Uniform(0.1, 0.6))\n",
    "    s8 = rand(Uniform(0.6, 0.9))\n",
    "    gps_preds[i,:], fs8s_preds[i,:], cls_preds[i,:] = make_theory(Ωm, s8)\n",
    "end"
   ]
  },
  {
   "cell_type": "code",
   "execution_count": 16,
   "id": "d0a43249",
   "metadata": {},
   "outputs": [],
   "source": [
    "cls_preds_m, cls_preds_s = mean(cls_preds, dims=1), std(cls_preds, dims=1);\n",
    "fs8s_preds_m, fs8s_preds_s = mean(fs8s_preds, dims=1), std(fs8s_preds, dims=1);\n",
    "gps_preds_m, gps_preds_s = mean(gps_preds, dims=1), std(gps_preds, dims=1);"
   ]
  },
  {
   "cell_type": "code",
   "execution_count": 17,
   "id": "03679115",
   "metadata": {},
   "outputs": [],
   "source": [
    "npzwrite(\"fs8_ploting.npz\", Dict(\"cls_m\" => cls_preds_m,\n",
    "                                 \"cls_s\" => cls_preds_s, \n",
    "                                 \"fs8s_m\" => fs8s_preds_m,\n",
    "                                 \"fs8s_s\" => fs8s_preds_s,\n",
    "                                 \"gps_m\" => gps_preds_m,\n",
    "                                 \"gps_s\" => gps_preds_s)) "
   ]
  },
  {
   "cell_type": "markdown",
   "id": "299d6cd2",
   "metadata": {},
   "source": [
    "## Sample Posterior"
   ]
  },
  {
   "cell_type": "code",
   "execution_count": null,
   "id": "2ad65d67",
   "metadata": {},
   "outputs": [],
   "source": [
    "@model function model(data_vector;\n",
    "                      tracers_names=tracers_names,\n",
    "                      pairs=pairs,\n",
    "                      idx=idx,\n",
    "                      cov_tot=cov_tot, \n",
    "                      files=files,\n",
    "                      fid_cosmo=fid_cosmo,\n",
    "                      latent_x=latent_x,\n",
    "                      x=x)\n",
    "    \n",
    "    Ωm ~ Uniform(0.1, 0.9)\n",
    "    Ωb ~ Uniform(0.03, 0.07)\n",
    "    h ~ Uniform(0.55, 0.91)\n",
    "    ns ~ Uniform(0.87, 1.07)\n",
    "    s8 = 0.811\n",
    "    \n",
    "    DESgc__0_0_b ~ Uniform(0.8, 3.0)\n",
    "    DESgc__1_0_b ~ Uniform(0.8, 3.0)\n",
    "    DESgc__2_0_b ~ Uniform(0.8, 3.0)\n",
    "    DESgc__3_0_b ~ Uniform(0.8, 3.0)\n",
    "    DESgc__4_0_b ~ Uniform(0.8, 3.0)\n",
    "    DESgc__0_0_dz ~ TruncatedNormal(0.0, 0.007, -0.2, 0.2)\n",
    "    DESgc__1_0_dz ~ TruncatedNormal(0.0, 0.007, -0.2, 0.2)\n",
    "    DESgc__2_0_dz ~ TruncatedNormal(0.0, 0.006, -0.2, 0.2)\n",
    "    DESgc__3_0_dz ~ TruncatedNormal(0.0, 0.01, -0.2, 0.2)\n",
    "    DESgc__4_0_dz ~ TruncatedNormal(0.0, 0.01, -0.2, 0.2)\n",
    "    A_IA ~ Uniform(-5, 5) \n",
    "    alpha_IA ~ Uniform(-5, 5)\n",
    "    DESwl__0_e_dz ~ TruncatedNormal(-0.001, 0.016, -0.2, 0.2)\n",
    "    DESwl__1_e_dz ~ TruncatedNormal(-0.019, 0.013, -0.2, 0.2)\n",
    "    DESwl__2_e_dz ~ TruncatedNormal(-0.009, 0.011, -0.2, 0.2)\n",
    "    DESwl__3_e_dz ~ TruncatedNormal(-0.018, 0.022, -0.2, 0.2)\n",
    "    DESwl__0_e_m ~ Normal(0.012, 0.023)\n",
    "    DESwl__1_e_m ~ Normal(0.012, 0.023)\n",
    "    DESwl__2_e_m ~ Normal(0.012, 0.023)\n",
    "    DESwl__3_e_m ~ Normal(0.012, 0.023)\n",
    "\n",
    "    nuisances = Dict(\"DESgc__0_0_b\" => DESgc__0_0_b,\n",
    "                 \"DESgc__1_0_b\" => DESgc__1_0_b,\n",
    "                 \"DESgc__2_0_b\" => DESgc__2_0_b,\n",
    "                 \"DESgc__3_0_b\" => DESgc__3_0_b,\n",
    "                 \"DESgc__4_0_b\" => DESgc__4_0_b,\n",
    "                 \"DESgc__0_0_dz\" => DESgc__0_0_dz,\n",
    "                 \"DESgc__1_0_dz\" => DESgc__1_0_dz,\n",
    "                 \"DESgc__2_0_dz\" => DESgc__2_0_dz,\n",
    "                 \"DESgc__3_0_dz\" => DESgc__3_0_dz,\n",
    "                 \"DESgc__4_0_dz\" => DESgc__4_0_dz,\n",
    "\n",
    "                 \"A_IA\" => A_IA,\n",
    "                 \"alpha_IA\" => alpha_IA,\n",
    "\n",
    "                 \"DESwl__0_e_dz\" => DESwl__0_e_dz,\n",
    "                 \"DESwl__1_e_dz\" => DESwl__1_e_dz,\n",
    "                 \"DESwl__2_e_dz\" => DESwl__2_e_dz,\n",
    "                 \"DESwl__3_e_dz\" => DESwl__3_e_dz,\n",
    "                 \"DESwl__0_e_m\" => DESwl__0_e_m,\n",
    "                 \"DESwl__1_e_m\" => DESwl__1_e_m,\n",
    "                 \"DESwl__2_e_m\" => DESwl__2_e_m,\n",
    "                 \"DESwl__3_e_m\" => DESwl__3_e_m)\n",
    "\n",
    "    eta = 0.2\n",
    "    l = 0.3\n",
    "\n",
    "    latent_N = length(latent_x)\n",
    "    v ~ filldist(truncated(Normal(0, 1), -3, 3), latent_N)\n",
    "    \n",
    "    mu = fid_cosmo.Dz(vec(latent_x))\n",
    "    K = sqexp_cov_fn(latent_x; eta=eta, l=l)\n",
    "    dmu = fid_cosmo.fs8z(vec(latent_x))\n",
    "    dK = sqexp_cov_grad(latent_x; eta=eta, l=l)\n",
    "    latent_gp = latent_GP(mu, v, K)\n",
    "    latent_dgp = latent_GP(dmu, v, dK)\n",
    "    gp = conditional(latent_x, x, latent_gp, sqexp_cov_fn;\n",
    "                      eta=eta, l=l)\n",
    "    dgp = conditional(latent_x, x, latent_dgp, sqexp_cov_grad;\n",
    "                      eta=eta, l=l)\n",
    "    \n",
    "    cosmology = Cosmology(Ωm, Ωb, h, ns, s8,\n",
    "                          tk_mode=\"EisHu\",\n",
    "                          Pk_mode=\"Halofit\", \n",
    "                          custom_Dz=[x, gp, dgp])\n",
    "    \n",
    "    cls = Theory(cosmology, files;\n",
    "                 Nuisances=nuisances,\n",
    "                 nz_path=nz_path)\n",
    "    \n",
    "    fs8s = fs8(z_fs8)\n",
    "    theory = [cls; fs8s]\n",
    "    \n",
    "    data_vector ~ MvNormal(theory, cov_tot)\n",
    "    return(gp=gp, theory=theory)\n",
    "end;"
   ]
  },
  {
   "cell_type": "code",
   "execution_count": null,
   "id": "2b7e5fa1",
   "metadata": {},
   "outputs": [],
   "source": [
    "cycles = 10\n",
    "iterations = 50\n",
    "TAP = 0.60\n",
    "adaptation = 10\n",
    "#nchains = Threads.nthreads()\n",
    "\n",
    "\n",
    "# Start sampling.\n",
    "folpath = \"../chains\"\n",
    "folname = string(\"DES_test_gp_\", \"TAP\", TAP)\n",
    "folname = joinpath(folpath, folname)\n",
    "\n",
    "mkdir(folname)\n",
    "println(\"Created new folder\")\n",
    "\n",
    "for i in 1:cycles\n",
    "    if i == 1\n",
    "        chain = sample(model(data_vector), NUTS(adaptation, TAP), \n",
    "                       iterations, progress=true; save_state=true)\n",
    "    else\n",
    "        old_chain = read(joinpath(folname, string(\"chain_\", i-1, \".jls\")), Chains)\n",
    "        chain = sample(model(data_vector), NUTS(adaptation, TAP), \n",
    "                       iterations, progress=true; save_state=true,\n",
    "                       resume_from=old_chain)\n",
    "    end \n",
    "    write(joinpath(folname, string(\"chain_\", i,\".jls\")), chain)\n",
    "    CSV.write(joinpath(folname, string(\"chain_\", i,\".csv\")), chain)\n",
    "end"
   ]
  }
 ],
 "metadata": {
  "kernelspec": {
   "display_name": "Julia 1.7.0",
   "language": "julia",
   "name": "julia-1.7"
  },
  "language_info": {
   "file_extension": ".jl",
   "mimetype": "application/julia",
   "name": "julia",
   "version": "1.7.0"
  }
 },
 "nbformat": 4,
 "nbformat_minor": 5
}
