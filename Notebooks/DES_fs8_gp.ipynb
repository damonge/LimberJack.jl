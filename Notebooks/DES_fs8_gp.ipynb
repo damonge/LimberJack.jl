{
 "cells": [
  {
   "cell_type": "markdown",
   "id": "d21f3749",
   "metadata": {},
   "source": [
    "# Testing fs8"
   ]
  },
  {
   "cell_type": "code",
   "execution_count": 19,
   "id": "d98be92e",
   "metadata": {},
   "outputs": [
    {
     "data": {
      "text/plain": [
       "1"
      ]
     },
     "execution_count": 19,
     "metadata": {},
     "output_type": "execute_result"
    }
   ],
   "source": [
    "Threads.nthreads()"
   ]
  },
  {
   "cell_type": "code",
   "execution_count": 20,
   "id": "175bb537",
   "metadata": {},
   "outputs": [],
   "source": [
    "using LinearAlgebra\n",
    "using Turing\n",
    "using LimberJack\n",
    "using GaussianProcess\n",
    "using PythonCall\n",
    "using NPZ\n",
    "using BenchmarkTools;"
   ]
  },
  {
   "cell_type": "code",
   "execution_count": 21,
   "id": "0426f685",
   "metadata": {},
   "outputs": [],
   "source": [
    "np = pyimport(\"numpy\");"
   ]
  },
  {
   "cell_type": "code",
   "execution_count": 22,
   "id": "be9c0066",
   "metadata": {},
   "outputs": [],
   "source": [
    "meta = np.load(\"../data/DESY1/gcgc_gcwl_wlwl_meta.npz\")\n",
    "tracers_names = pyconvert(Vector{String}, meta[\"tracers\"])\n",
    "pairs = pyconvert(Vector{Vector{String}}, meta[\"pairs\"])\n",
    "pairs_ids = pyconvert(Vector{Vector{Int}}, meta[\"pairs_ids\"])\n",
    "idx = pyconvert(Vector{Int}, meta[\"idx\"])\n",
    "cls_data = pyconvert(Vector{Float64}, meta[\"cls\"])\n",
    "cls_cov = pyconvert(Matrix{Float64}, meta[\"cov\"])\n",
    "cls_inv_cov = pyconvert(Matrix{Float64}, meta[\"inv_cov\"]);"
   ]
  },
  {
   "cell_type": "code",
   "execution_count": 23,
   "id": "60a6afac",
   "metadata": {},
   "outputs": [],
   "source": [
    "files = npzread(\"../data/DESY1/gcgc_gcwl_wlwl_files.npz\");"
   ]
  },
  {
   "cell_type": "code",
   "execution_count": 24,
   "id": "b2313272",
   "metadata": {},
   "outputs": [
    {
     "data": {
      "text/plain": [
       "11×11 Matrix{Float64}:\n",
       " 0.00203355   0.000811829  0.000264615  …  0.0     0.0     0.0       0.0\n",
       " 0.000811829  0.00142289   0.000662824     0.0     0.0     0.0       0.0\n",
       " 0.000264615  0.000662824  0.00118576      0.0     0.0     0.0       0.0\n",
       " 0.0          0.0          0.0             0.0     0.0     0.0       0.0\n",
       " 0.0          0.0          0.0             0.0     0.0     0.0       0.0\n",
       " 0.0          0.0          0.0          …  0.0     0.0     0.0       0.0\n",
       " 0.0          0.0          0.0             0.0     0.0     0.0       0.0\n",
       " 0.0          0.0          0.0             0.0144  0.0     0.0       0.0\n",
       " 0.0          0.0          0.0             0.0     0.0121  0.0       0.0\n",
       " 0.0          0.0          0.0             0.0     0.0     0.003025  0.0\n",
       " 0.0          0.0          0.0          …  0.0     0.0     0.0       0.013456"
      ]
     },
     "execution_count": 24,
     "metadata": {},
     "output_type": "execute_result"
    }
   ],
   "source": [
    "fs8_meta = npzread(\"../data/fs8s/fs8s.npz\")\n",
    "fs8_zs = fs8_meta[\"z\"]\n",
    "fs8_data = fs8_meta[\"data\"]\n",
    "fs8_cov = fs8_meta[\"cov\"]"
   ]
  },
  {
   "cell_type": "code",
   "execution_count": 25,
   "id": "d1b6c145",
   "metadata": {
    "scrolled": true
   },
   "outputs": [],
   "source": [
    "cov_tot = zeros(Float64, length(fs8_data)+length(cls_data), length(fs8_data)+length(cls_data))\n",
    "cov_tot[1:length(fs8_data), 1:length(fs8_data)] = fs8_cov\n",
    "cov_tot[length(fs8_data)+1:(length(fs8_data)+length(cls_data)),\n",
    "        length(fs8_data)+1:(length(fs8_data)+length(cls_data))] = cls_cov\n",
    "data_vector = [fs8_data ; cls_data];"
   ]
  },
  {
   "cell_type": "code",
   "execution_count": 26,
   "id": "d3d4f83b",
   "metadata": {},
   "outputs": [],
   "source": [
    "fid_cosmo = Cosmology()\n",
    "N = 100\n",
    "latent_x = Vector(0:0.3:3)\n",
    "x = Vector(range(0., stop=3., length=N));"
   ]
  },
  {
   "cell_type": "code",
   "execution_count": 27,
   "id": "a587df6a",
   "metadata": {},
   "outputs": [],
   "source": [
    "pars = [4.426868e-02,     2.093138e-01,     8.963611e-01,     8.495440e-01,\n",
    "         1.343888e+00,    1.639047e+00,      1.597174e+00,     1.944583e+00,     2.007245e+00,\n",
    "        -4.679383e-03,   -2.839996e-03,      1.771571e-03,     1.197051e-03,    -5.199799e-03,\n",
    "         2.389208e-01,   -6.435288e-01, \n",
    "         1.802722e-03,   -5.508994e-03,     1.952514e-02,    -1.117726e-03,\n",
    "        -1.744083e-02,    6.777779e-03,    -1.097939e-03,    -4.912315e-03,\n",
    "         8.536883e-01,    2.535825e-01];"
   ]
  },
  {
   "cell_type": "code",
   "execution_count": 28,
   "id": "41ff6f59",
   "metadata": {},
   "outputs": [
    {
     "data": {
      "text/plain": [
       "Dict{String, Float64} with 20 entries:\n",
       "  \"DESwl__2_e_dz\" => -0.00109794\n",
       "  \"DESwl__3_e_m\"  => -0.00111773\n",
       "  \"A_IA\"          => 0.238921\n",
       "  \"DESwl__0_e_m\"  => 0.00180272\n",
       "  \"DESwl__3_e_dz\" => -0.00491232\n",
       "  \"DESgc__3_0_dz\" => 0.00119705\n",
       "  \"DESgc__1_0_b\"  => 1.63905\n",
       "  \"DESgc__2_0_b\"  => 1.59717\n",
       "  \"DESwl__1_e_dz\" => 0.00677778\n",
       "  \"DESwl__1_e_m\"  => -0.00550899\n",
       "  \"DESgc__4_0_dz\" => -0.0051998\n",
       "  \"DESgc__3_0_b\"  => 1.94458\n",
       "  \"DESwl__2_e_m\"  => 0.0195251\n",
       "  \"DESgc__1_0_dz\" => -0.00284\n",
       "  \"DESgc__0_0_dz\" => -0.00467938\n",
       "  \"DESgc__4_0_b\"  => 2.00725\n",
       "  \"alpha_IA\"      => -0.643529\n",
       "  \"DESgc__0_0_b\"  => 1.34389\n",
       "  \"DESwl__0_e_dz\" => -0.0174408\n",
       "  \"DESgc__2_0_dz\" => 0.00177157"
      ]
     },
     "execution_count": 28,
     "metadata": {},
     "output_type": "execute_result"
    }
   ],
   "source": [
    "nuisances = Dict(\"DESgc__0_0_b\" => pars[5],\n",
    "                 \"DESgc__1_0_b\" => pars[6],\n",
    "                 \"DESgc__2_0_b\" => pars[7],\n",
    "                 \"DESgc__3_0_b\" => pars[8],\n",
    "                 \"DESgc__4_0_b\" => pars[9],\n",
    "                 \"DESgc__0_0_dz\" => pars[10],\n",
    "                 \"DESgc__1_0_dz\" => pars[11],\n",
    "                 \"DESgc__2_0_dz\" => pars[12],\n",
    "                 \"DESgc__3_0_dz\" => pars[13],\n",
    "                 \"DESgc__4_0_dz\" => pars[14],\n",
    "\n",
    "                 \"A_IA\" => pars[15],\n",
    "                 \"alpha_IA\" => pars[16],\n",
    "\n",
    "                 \"DESwl__0_e_dz\" => pars[21],\n",
    "                 \"DESwl__1_e_dz\" => pars[22],\n",
    "                 \"DESwl__2_e_dz\" => pars[23],\n",
    "                 \"DESwl__3_e_dz\" => pars[24],\n",
    "                 \"DESwl__0_e_m\" => pars[17],\n",
    "                 \"DESwl__1_e_m\" => pars[18],\n",
    "                 \"DESwl__2_e_m\" => pars[19],\n",
    "                 \"DESwl__3_e_m\" => pars[20])"
   ]
  },
  {
   "cell_type": "markdown",
   "id": "7a8c8f04",
   "metadata": {},
   "source": [
    "## Sample Prior"
   ]
  },
  {
   "cell_type": "code",
   "execution_count": 33,
   "id": "be9384d1",
   "metadata": {},
   "outputs": [],
   "source": [
    "function make_theory(Ωm, v;\n",
    "                      tracers_names=tracers_names,\n",
    "                      pairs=pairs,\n",
    "                      idx=idx,\n",
    "                      cov_tot=cov_tot, \n",
    "                      files=files,\n",
    "                      fid_cosmo=fid_cosmo,\n",
    "                      latent_x=latent_x,\n",
    "                      x=x)\n",
    "    \n",
    "\n",
    "    Ωm = pars[26]\n",
    "    Ωb = pars[1]\n",
    "    h = pars[4]\n",
    "    ns = pars[3]\n",
    "    s8 = 0.811\n",
    "\n",
    "    eta = 0.02\n",
    "    l = 0.3\n",
    "\n",
    "    latent_N = length(latent_x)\n",
    "    \n",
    "    mu = fid_cosmo.Dz(vec(latent_x))\n",
    "    K = sqexp_cov_fn(latent_x; eta=eta, l=l)\n",
    "    latent_gp = latent_GP(mu, v, K)\n",
    "    gp = conditional(latent_x, x, latent_gp, sqexp_cov_fn;\n",
    "                      eta=eta, l=l)\n",
    "\n",
    "    dmu =  growth_rate(fid_cosmo, vec(latent_x)) ./ (1 .+ latent_x)\n",
    "    dK = sqexp_cov_grad(latent_x; eta=eta, l=l)\n",
    "    latent_dgp = latent_GP(dmu, v, dK)\n",
    "    dgp = conditional(latent_x, x, latent_dgp, sqexp_cov_grad;\n",
    "                      eta=eta, l=l)\n",
    "    \n",
    "    cosmology = LimberJack.Cosmology(Ωm, Ωb, h, ns, s8,\n",
    "                                     tk_mode=\"EisHu\",\n",
    "                                     Pk_mode=\"Halofit\";\n",
    "                                     custom_Dz=[x, gp, dgp])\n",
    "    \n",
    "    cls = Theory(cosmology, tracers_names, pairs,\n",
    "                    idx, files; Nuisances=nuisances)\n",
    "    \n",
    "    fs8s = fs8(cosmology, x)\n",
    "    \n",
    "    return latent_gp, fs8s, cls\n",
    "end;"
   ]
  },
  {
   "cell_type": "code",
   "execution_count": 34,
   "id": "cf78ddd1",
   "metadata": {},
   "outputs": [],
   "source": [
    "N_samples = 100\n",
    "cls_preds = zeros(N_samples, length(cls_data))\n",
    "gps_preds = zeros(N_samples, length(latent_x))\n",
    "fs8s_preds = zeros(N_samples, length(x))\n",
    "for i in 1:N_samples\n",
    "    Ωm = rand(Uniform(0.1, 0.6))\n",
    "    v = rand(MvNormal(zeros(length(latent_x)), ones(length(latent_x))))\n",
    "    gps_preds[i,:], fs8s_preds[i,:], cls_preds[i,:] = make_theory(Ωm, v)\n",
    "end"
   ]
  },
  {
   "cell_type": "code",
   "execution_count": 35,
   "id": "c0dbca2f",
   "metadata": {},
   "outputs": [],
   "source": [
    "cls_preds_m, cls_preds_s = mean(cls_preds, dims=1), std(cls_preds, dims=1);\n",
    "fs8s_preds_m, fs8s_preds_s = mean(fs8s_preds, dims=1), std(fs8s_preds, dims=1);\n",
    "gps_preds_m, gps_preds_s = mean(gps_preds, dims=1), std(gps_preds, dims=1);"
   ]
  },
  {
   "cell_type": "code",
   "execution_count": 36,
   "id": "7bbdf43c",
   "metadata": {},
   "outputs": [],
   "source": [
    "npzwrite(\"fs8_ploting.npz\", Dict(\"cls_m\" => cls_preds_m,\n",
    "                                 \"cls_s\" => cls_preds_s, \n",
    "                                 \"fs8s_m\" => fs8s_preds_m,\n",
    "                                 \"fs8s_s\" => fs8s_preds_s,\n",
    "                                 \"gps_m\" => gps_preds_m,\n",
    "                                 \"gps_s\" => gps_preds_s)) "
   ]
  },
  {
   "cell_type": "markdown",
   "id": "299d6cd2",
   "metadata": {},
   "source": [
    "## Sample Posterior"
   ]
  },
  {
   "cell_type": "code",
   "execution_count": 41,
   "id": "2ad65d67",
   "metadata": {},
   "outputs": [],
   "source": [
    "@model function model(data_vector;\n",
    "                      tracers_names=tracers_names,\n",
    "                      pairs=pairs,\n",
    "                      idx=idx,\n",
    "                      cov_tot=cov_tot, \n",
    "                      files=files,\n",
    "                      fid_cosmo=fid_cosmo,\n",
    "                      latent_x=latent_x,\n",
    "                      x=x)\n",
    "\n",
    "    #KiDS priors\n",
    "    Ωm ~ Uniform(0.2, 0.6)\n",
    "    Ωb = 0.05 # ~ Uniform(0.028, 0.065)\n",
    "    h = 0.67 #~ Uniform(0.64, 0.82)\n",
    "    ns = 0.96 #~ Uniform(0.84, 1.1)\n",
    "    s8 = 0.811\n",
    "    \n",
    "    eta = 0.05\n",
    "    l = 1\n",
    "    latent_N = length(latent_x)\n",
    "    v ~ filldist(truncated(Normal(0, 1), -3, 3), latent_N)\n",
    "    \n",
    "    mu = fid_cosmo.Dz(vec(latent_x))\n",
    "    K = sqexp_cov_fn(latent_x; eta=eta, l=l)\n",
    "    latent_gp = latent_GP(mu, v, K)\n",
    "    gp = conditional(latent_x, x, latent_gp, sqexp_cov_fn;\n",
    "                      eta=eta, l=l)\n",
    "\n",
    "    dmu =  growth_rate(fid_cosmo, vec(latent_x)) ./ (1 .+ latent_x)\n",
    "    dK = sqexp_cov_grad(latent_x; eta=eta, l=l)\n",
    "    latent_dgp = latent_GP(dmu, v, dK)\n",
    "    dgp = conditional(latent_x, x, latent_dgp, sqexp_cov_grad;\n",
    "                      eta=eta, l=l)\n",
    "    \n",
    "    cosmology = Cosmology(Ωm, Ωb, h, ns, s8,\n",
    "                          tk_mode=\"EisHu\",\n",
    "                          Pk_mode=\"Halofit\", \n",
    "                          custom_Dz=[x, gp, dgp])\n",
    "    \n",
    "    cls = Theory(cosmology, tracers_names, pairs,\n",
    "                    idx, files; Nuisances=nuisances)\n",
    "    \n",
    "    fs8s = fs8(z_fs8)\n",
    "    theory = [cls; fs8s]\n",
    "    \n",
    "    data_vector ~ MvNormal(theory, cov_tot)\n",
    "end;"
   ]
  },
  {
   "cell_type": "code",
   "execution_count": 42,
   "id": "2b7e5fa1",
   "metadata": {},
   "outputs": [
    {
     "ename": "LoadError",
     "evalue": "UndefVarError: z_fs8 not defined",
     "output_type": "error",
     "traceback": [
      "UndefVarError: z_fs8 not defined",
      "",
      "Stacktrace:",
      "  [1] model(__model__::DynamicPPL.Model{typeof(model), (:data_vector, :tracers_names, :pairs, :idx, :cov_tot, :files, :fid_cosmo, :latent_x, :x), (:tracers_names, :pairs, :idx, :cov_tot, :files, :fid_cosmo, :latent_x, :x), (), Tuple{Vector{Float64}, Vector{String}, Vector{Vector{String}}, Vector{Int64}, Matrix{Float64}, Dict{String, Array{Float64}}, Cosmology, Vector{Float64}, Vector{Float64}}, Tuple{Vector{String}, Vector{Vector{String}}, Vector{Int64}, Matrix{Float64}, Dict{String, Array{Float64}}, Cosmology, Vector{Float64}, Vector{Float64}}, DynamicPPL.DefaultContext}, __varinfo__::DynamicPPL.UntypedVarInfo{DynamicPPL.Metadata{Dict{AbstractPPL.VarName, Int64}, Vector{Distribution}, Vector{AbstractPPL.VarName}, Vector{Real}, Vector{Set{DynamicPPL.Selector}}}, Float64}, __context__::DynamicPPL.SamplingContext{DynamicPPL.SampleFromUniform, DynamicPPL.DefaultContext, Random._GLOBAL_RNG}, data_vector::Vector{Float64}, tracers_names::Vector{String}, pairs::Vector{Vector{String}}, idx::Vector{Int64}, cov_tot::Matrix{Float64}, files::Dict{String, Array{Float64}}, fid_cosmo::Cosmology, latent_x::Vector{Float64}, x::Vector{Float64})",
      "    @ Main ./In[41]:43",
      "  [2] macro expansion",
      "    @ ~/.julia/packages/DynamicPPL/1qg3U/src/model.jl:493 [inlined]",
      "  [3] _evaluate!!(model::DynamicPPL.Model{typeof(model), (:data_vector, :tracers_names, :pairs, :idx, :cov_tot, :files, :fid_cosmo, :latent_x, :x), (:tracers_names, :pairs, :idx, :cov_tot, :files, :fid_cosmo, :latent_x, :x), (), Tuple{Vector{Float64}, Vector{String}, Vector{Vector{String}}, Vector{Int64}, Matrix{Float64}, Dict{String, Array{Float64}}, Cosmology, Vector{Float64}, Vector{Float64}}, Tuple{Vector{String}, Vector{Vector{String}}, Vector{Int64}, Matrix{Float64}, Dict{String, Array{Float64}}, Cosmology, Vector{Float64}, Vector{Float64}}, DynamicPPL.DefaultContext}, varinfo::DynamicPPL.UntypedVarInfo{DynamicPPL.Metadata{Dict{AbstractPPL.VarName, Int64}, Vector{Distribution}, Vector{AbstractPPL.VarName}, Vector{Real}, Vector{Set{DynamicPPL.Selector}}}, Float64}, context::DynamicPPL.SamplingContext{DynamicPPL.SampleFromUniform, DynamicPPL.DefaultContext, Random._GLOBAL_RNG})",
      "    @ DynamicPPL ~/.julia/packages/DynamicPPL/1qg3U/src/model.jl:476",
      "  [4] evaluate_threadunsafe!!(model::DynamicPPL.Model{typeof(model), (:data_vector, :tracers_names, :pairs, :idx, :cov_tot, :files, :fid_cosmo, :latent_x, :x), (:tracers_names, :pairs, :idx, :cov_tot, :files, :fid_cosmo, :latent_x, :x), (), Tuple{Vector{Float64}, Vector{String}, Vector{Vector{String}}, Vector{Int64}, Matrix{Float64}, Dict{String, Array{Float64}}, Cosmology, Vector{Float64}, Vector{Float64}}, Tuple{Vector{String}, Vector{Vector{String}}, Vector{Int64}, Matrix{Float64}, Dict{String, Array{Float64}}, Cosmology, Vector{Float64}, Vector{Float64}}, DynamicPPL.DefaultContext}, varinfo::DynamicPPL.UntypedVarInfo{DynamicPPL.Metadata{Dict{AbstractPPL.VarName, Int64}, Vector{Distribution}, Vector{AbstractPPL.VarName}, Vector{Real}, Vector{Set{DynamicPPL.Selector}}}, Float64}, context::DynamicPPL.SamplingContext{DynamicPPL.SampleFromUniform, DynamicPPL.DefaultContext, Random._GLOBAL_RNG})",
      "    @ DynamicPPL ~/.julia/packages/DynamicPPL/1qg3U/src/model.jl:451",
      "  [5] evaluate!!(model::DynamicPPL.Model{typeof(model), (:data_vector, :tracers_names, :pairs, :idx, :cov_tot, :files, :fid_cosmo, :latent_x, :x), (:tracers_names, :pairs, :idx, :cov_tot, :files, :fid_cosmo, :latent_x, :x), (), Tuple{Vector{Float64}, Vector{String}, Vector{Vector{String}}, Vector{Int64}, Matrix{Float64}, Dict{String, Array{Float64}}, Cosmology, Vector{Float64}, Vector{Float64}}, Tuple{Vector{String}, Vector{Vector{String}}, Vector{Int64}, Matrix{Float64}, Dict{String, Array{Float64}}, Cosmology, Vector{Float64}, Vector{Float64}}, DynamicPPL.DefaultContext}, varinfo::DynamicPPL.UntypedVarInfo{DynamicPPL.Metadata{Dict{AbstractPPL.VarName, Int64}, Vector{Distribution}, Vector{AbstractPPL.VarName}, Vector{Real}, Vector{Set{DynamicPPL.Selector}}}, Float64}, context::DynamicPPL.SamplingContext{DynamicPPL.SampleFromUniform, DynamicPPL.DefaultContext, Random._GLOBAL_RNG})",
      "    @ DynamicPPL ~/.julia/packages/DynamicPPL/1qg3U/src/model.jl:404",
      "  [6] evaluate!!(model::DynamicPPL.Model{typeof(model), (:data_vector, :tracers_names, :pairs, :idx, :cov_tot, :files, :fid_cosmo, :latent_x, :x), (:tracers_names, :pairs, :idx, :cov_tot, :files, :fid_cosmo, :latent_x, :x), (), Tuple{Vector{Float64}, Vector{String}, Vector{Vector{String}}, Vector{Int64}, Matrix{Float64}, Dict{String, Array{Float64}}, Cosmology, Vector{Float64}, Vector{Float64}}, Tuple{Vector{String}, Vector{Vector{String}}, Vector{Int64}, Matrix{Float64}, Dict{String, Array{Float64}}, Cosmology, Vector{Float64}, Vector{Float64}}, DynamicPPL.DefaultContext}, rng::Random._GLOBAL_RNG, varinfo::DynamicPPL.UntypedVarInfo{DynamicPPL.Metadata{Dict{AbstractPPL.VarName, Int64}, Vector{Distribution}, Vector{AbstractPPL.VarName}, Vector{Real}, Vector{Set{DynamicPPL.Selector}}}, Float64}, sampler::DynamicPPL.SampleFromUniform, context::DynamicPPL.DefaultContext)",
      "    @ DynamicPPL ~/.julia/packages/DynamicPPL/1qg3U/src/model.jl:415",
      "  [7] (::DynamicPPL.Model{typeof(model), (:data_vector, :tracers_names, :pairs, :idx, :cov_tot, :files, :fid_cosmo, :latent_x, :x), (:tracers_names, :pairs, :idx, :cov_tot, :files, :fid_cosmo, :latent_x, :x), (), Tuple{Vector{Float64}, Vector{String}, Vector{Vector{String}}, Vector{Int64}, Matrix{Float64}, Dict{String, Array{Float64}}, Cosmology, Vector{Float64}, Vector{Float64}}, Tuple{Vector{String}, Vector{Vector{String}}, Vector{Int64}, Matrix{Float64}, Dict{String, Array{Float64}}, Cosmology, Vector{Float64}, Vector{Float64}}, DynamicPPL.DefaultContext})(::Random._GLOBAL_RNG, ::Vararg{Any})",
      "    @ DynamicPPL ~/.julia/packages/DynamicPPL/1qg3U/src/model.jl:375",
      "  [8] DynamicPPL.VarInfo(rng::Random._GLOBAL_RNG, model::DynamicPPL.Model{typeof(model), (:data_vector, :tracers_names, :pairs, :idx, :cov_tot, :files, :fid_cosmo, :latent_x, :x), (:tracers_names, :pairs, :idx, :cov_tot, :files, :fid_cosmo, :latent_x, :x), (), Tuple{Vector{Float64}, Vector{String}, Vector{Vector{String}}, Vector{Int64}, Matrix{Float64}, Dict{String, Array{Float64}}, Cosmology, Vector{Float64}, Vector{Float64}}, Tuple{Vector{String}, Vector{Vector{String}}, Vector{Int64}, Matrix{Float64}, Dict{String, Array{Float64}}, Cosmology, Vector{Float64}, Vector{Float64}}, DynamicPPL.DefaultContext}, sampler::DynamicPPL.SampleFromUniform, context::DynamicPPL.DefaultContext)",
      "    @ DynamicPPL ~/.julia/packages/DynamicPPL/1qg3U/src/varinfo.jl:127",
      "  [9] DynamicPPL.VarInfo(rng::Random._GLOBAL_RNG, model::DynamicPPL.Model{typeof(model), (:data_vector, :tracers_names, :pairs, :idx, :cov_tot, :files, :fid_cosmo, :latent_x, :x), (:tracers_names, :pairs, :idx, :cov_tot, :files, :fid_cosmo, :latent_x, :x), (), Tuple{Vector{Float64}, Vector{String}, Vector{Vector{String}}, Vector{Int64}, Matrix{Float64}, Dict{String, Array{Float64}}, Cosmology, Vector{Float64}, Vector{Float64}}, Tuple{Vector{String}, Vector{Vector{String}}, Vector{Int64}, Matrix{Float64}, Dict{String, Array{Float64}}, Cosmology, Vector{Float64}, Vector{Float64}}, DynamicPPL.DefaultContext}, sampler::DynamicPPL.SampleFromUniform)",
      "    @ DynamicPPL ~/.julia/packages/DynamicPPL/1qg3U/src/varinfo.jl:126",
      " [10] step(rng::Random._GLOBAL_RNG, model::DynamicPPL.Model{typeof(model), (:data_vector, :tracers_names, :pairs, :idx, :cov_tot, :files, :fid_cosmo, :latent_x, :x), (:tracers_names, :pairs, :idx, :cov_tot, :files, :fid_cosmo, :latent_x, :x), (), Tuple{Vector{Float64}, Vector{String}, Vector{Vector{String}}, Vector{Int64}, Matrix{Float64}, Dict{String, Array{Float64}}, Cosmology, Vector{Float64}, Vector{Float64}}, Tuple{Vector{String}, Vector{Vector{String}}, Vector{Int64}, Matrix{Float64}, Dict{String, Array{Float64}}, Cosmology, Vector{Float64}, Vector{Float64}}, DynamicPPL.DefaultContext}, spl::DynamicPPL.Sampler{NUTS{Turing.Essential.ForwardDiffAD{0}, (), AdvancedHMC.DiagEuclideanMetric}}; resume_from::Nothing, init_params::Nothing, kwargs::Base.Pairs{Symbol, Integer, Tuple{Symbol, Symbol}, NamedTuple{(:nadapts, :save_state), Tuple{Int64, Bool}}})",
      "    @ DynamicPPL ~/.julia/packages/DynamicPPL/1qg3U/src/sampler.jl:86",
      " [11] macro expansion",
      "    @ ~/.julia/packages/AbstractMCMC/fnRmh/src/sample.jl:120 [inlined]",
      " [12] macro expansion",
      "    @ ~/.julia/packages/ProgressLogging/6KXlp/src/ProgressLogging.jl:328 [inlined]",
      " [13] (::AbstractMCMC.var\"#21#22\"{Bool, String, Nothing, Int64, Int64, Base.Pairs{Symbol, Integer, Tuple{Symbol, Symbol}, NamedTuple{(:nadapts, :save_state), Tuple{Int64, Bool}}}, Random._GLOBAL_RNG, DynamicPPL.Model{typeof(model), (:data_vector, :tracers_names, :pairs, :idx, :cov_tot, :files, :fid_cosmo, :latent_x, :x), (:tracers_names, :pairs, :idx, :cov_tot, :files, :fid_cosmo, :latent_x, :x), (), Tuple{Vector{Float64}, Vector{String}, Vector{Vector{String}}, Vector{Int64}, Matrix{Float64}, Dict{String, Array{Float64}}, Cosmology, Vector{Float64}, Vector{Float64}}, Tuple{Vector{String}, Vector{Vector{String}}, Vector{Int64}, Matrix{Float64}, Dict{String, Array{Float64}}, Cosmology, Vector{Float64}, Vector{Float64}}, DynamicPPL.DefaultContext}, DynamicPPL.Sampler{NUTS{Turing.Essential.ForwardDiffAD{0}, (), AdvancedHMC.DiagEuclideanMetric}}, Int64, Int64})()",
      "    @ AbstractMCMC ~/.julia/packages/AbstractMCMC/fnRmh/src/logging.jl:12",
      " [14] with_logstate(f::Function, logstate::Any)",
      "    @ Base.CoreLogging ./logging.jl:511",
      " [15] with_logger(f::Function, logger::LoggingExtras.TeeLogger{Tuple{LoggingExtras.EarlyFilteredLogger{ConsoleProgressMonitor.ProgressLogger, AbstractMCMC.var\"#1#3\"{Module}}, LoggingExtras.EarlyFilteredLogger{Base.CoreLogging.SimpleLogger, AbstractMCMC.var\"#2#4\"{Module}}}})",
      "    @ Base.CoreLogging ./logging.jl:623",
      " [16] with_progresslogger(f::Function, _module::Module, logger::Base.CoreLogging.SimpleLogger)",
      "    @ AbstractMCMC ~/.julia/packages/AbstractMCMC/fnRmh/src/logging.jl:36",
      " [17] macro expansion",
      "    @ ~/.julia/packages/AbstractMCMC/fnRmh/src/logging.jl:11 [inlined]",
      " [18] mcmcsample(rng::Random._GLOBAL_RNG, model::DynamicPPL.Model{typeof(model), (:data_vector, :tracers_names, :pairs, :idx, :cov_tot, :files, :fid_cosmo, :latent_x, :x), (:tracers_names, :pairs, :idx, :cov_tot, :files, :fid_cosmo, :latent_x, :x), (), Tuple{Vector{Float64}, Vector{String}, Vector{Vector{String}}, Vector{Int64}, Matrix{Float64}, Dict{String, Array{Float64}}, Cosmology, Vector{Float64}, Vector{Float64}}, Tuple{Vector{String}, Vector{Vector{String}}, Vector{Int64}, Matrix{Float64}, Dict{String, Array{Float64}}, Cosmology, Vector{Float64}, Vector{Float64}}, DynamicPPL.DefaultContext}, sampler::DynamicPPL.Sampler{NUTS{Turing.Essential.ForwardDiffAD{0}, (), AdvancedHMC.DiagEuclideanMetric}}, N::Int64; progress::Bool, progressname::String, callback::Nothing, discard_initial::Int64, thinning::Int64, chain_type::Type, kwargs::Base.Pairs{Symbol, Integer, Tuple{Symbol, Symbol}, NamedTuple{(:nadapts, :save_state), Tuple{Int64, Bool}}})",
      "    @ AbstractMCMC ~/.julia/packages/AbstractMCMC/fnRmh/src/sample.jl:111",
      " [19] sample(rng::Random._GLOBAL_RNG, model::DynamicPPL.Model{typeof(model), (:data_vector, :tracers_names, :pairs, :idx, :cov_tot, :files, :fid_cosmo, :latent_x, :x), (:tracers_names, :pairs, :idx, :cov_tot, :files, :fid_cosmo, :latent_x, :x), (), Tuple{Vector{Float64}, Vector{String}, Vector{Vector{String}}, Vector{Int64}, Matrix{Float64}, Dict{String, Array{Float64}}, Cosmology, Vector{Float64}, Vector{Float64}}, Tuple{Vector{String}, Vector{Vector{String}}, Vector{Int64}, Matrix{Float64}, Dict{String, Array{Float64}}, Cosmology, Vector{Float64}, Vector{Float64}}, DynamicPPL.DefaultContext}, sampler::DynamicPPL.Sampler{NUTS{Turing.Essential.ForwardDiffAD{0}, (), AdvancedHMC.DiagEuclideanMetric}}, N::Int64; chain_type::Type, resume_from::Nothing, progress::Bool, nadapts::Int64, discard_adapt::Bool, discard_initial::Int64, kwargs::Base.Pairs{Symbol, Bool, Tuple{Symbol}, NamedTuple{(:save_state,), Tuple{Bool}}})",
      "    @ Turing.Inference ~/.julia/packages/Turing/szPqN/src/inference/hmc.jl:133",
      " [20] #sample#2",
      "    @ ~/.julia/packages/Turing/szPqN/src/inference/Inference.jl:145 [inlined]",
      " [21] #sample#1",
      "    @ ~/.julia/packages/Turing/szPqN/src/inference/Inference.jl:135 [inlined]",
      " [22] top-level scope",
      "    @ In[42]:1",
      " [23] eval",
      "    @ ./boot.jl:373 [inlined]",
      " [24] include_string(mapexpr::typeof(REPL.softscope), mod::Module, code::String, filename::String)",
      "    @ Base ./loading.jl:1196"
     ]
    }
   ],
   "source": [
    "chain3 = sample(model(data_vector), NUTS(5, 0.1; init_ϵ=0.03), iterations,\n",
    "                progress=true; save_state=true);"
   ]
  },
  {
   "cell_type": "code",
   "execution_count": 40,
   "id": "50a86a31",
   "metadata": {},
   "outputs": [
    {
     "ename": "LoadError",
     "evalue": "UndefVarError: nadapts not defined",
     "output_type": "error",
     "traceback": [
      "UndefVarError: nadapts not defined",
      "",
      "Stacktrace:",
      " [1] top-level scope",
      "   @ In[40]:1",
      " [2] eval",
      "   @ ./boot.jl:373 [inlined]",
      " [3] include_string(mapexpr::typeof(REPL.softscope), mod::Module, code::String, filename::String)",
      "   @ Base ./loading.jl:1196"
     ]
    }
   ],
   "source": [
    "chain1 = sample(model(data_vector), MH(), iterations,\n",
    "            nadapt=nadapts, progress=true; save_state=true);"
   ]
  },
  {
   "cell_type": "code",
   "execution_count": null,
   "id": "f2387abd",
   "metadata": {},
   "outputs": [],
   "source": []
  }
 ],
 "metadata": {
  "kernelspec": {
   "display_name": "Julia 1.7.0",
   "language": "julia",
   "name": "julia-1.7"
  },
  "language_info": {
   "file_extension": ".jl",
   "mimetype": "application/julia",
   "name": "julia",
   "version": "1.7.0"
  }
 },
 "nbformat": 4,
 "nbformat_minor": 5
}
