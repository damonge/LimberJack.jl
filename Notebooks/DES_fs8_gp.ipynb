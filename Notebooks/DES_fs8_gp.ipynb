{
 "cells": [
  {
   "cell_type": "markdown",
   "id": "d21f3749",
   "metadata": {},
   "source": [
    "# Testing fs8"
   ]
  },
  {
   "cell_type": "code",
   "execution_count": 247,
   "id": "d98be92e",
   "metadata": {},
   "outputs": [
    {
     "data": {
      "text/plain": [
       "1"
      ]
     },
     "execution_count": 247,
     "metadata": {},
     "output_type": "execute_result"
    }
   ],
   "source": [
    "Threads.nthreads()"
   ]
  },
  {
   "cell_type": "code",
   "execution_count": 248,
   "id": "175bb537",
   "metadata": {},
   "outputs": [],
   "source": [
    "using LinearAlgebra\n",
    "using Turing\n",
    "using LimberJack\n",
    "using GaussianProcess\n",
    "using PythonCall\n",
    "using NPZ\n",
    "using BenchmarkTools;"
   ]
  },
  {
   "cell_type": "code",
   "execution_count": 249,
   "id": "0426f685",
   "metadata": {},
   "outputs": [],
   "source": [
    "np = pyimport(\"numpy\");"
   ]
  },
  {
   "cell_type": "code",
   "execution_count": 250,
   "id": "be9c0066",
   "metadata": {},
   "outputs": [],
   "source": [
    "meta = np.load(\"../data/DESY1/gcgc_gcwl_wlwl_meta.npz\")\n",
    "tracers_names = pyconvert(Vector{String}, meta[\"tracers\"])\n",
    "pairs = pyconvert(Vector{Vector{String}}, meta[\"pairs\"])\n",
    "pairs_ids = pyconvert(Vector{Vector{Int}}, meta[\"pairs_ids\"])\n",
    "idx = pyconvert(Vector{Int}, meta[\"idx\"])\n",
    "cls_data = pyconvert(Vector{Float64}, meta[\"cls\"])\n",
    "cls_cov = pyconvert(Matrix{Float64}, meta[\"cov\"])\n",
    "cls_inv_cov = pyconvert(Matrix{Float64}, meta[\"inv_cov\"]);"
   ]
  },
  {
   "cell_type": "code",
   "execution_count": 251,
   "id": "60a6afac",
   "metadata": {},
   "outputs": [],
   "source": [
    "files = npzread(\"../data/DESY1/gcgc_gcwl_wlwl_files.npz\");"
   ]
  },
  {
   "cell_type": "code",
   "execution_count": 252,
   "id": "b2313272",
   "metadata": {},
   "outputs": [
    {
     "data": {
      "text/plain": [
       "11×11 Matrix{Float64}:\n",
       " 0.00203355   0.000811829  0.000264615  …  0.0     0.0     0.0       0.0\n",
       " 0.000811829  0.00142289   0.000662824     0.0     0.0     0.0       0.0\n",
       " 0.000264615  0.000662824  0.00118576      0.0     0.0     0.0       0.0\n",
       " 0.0          0.0          0.0             0.0     0.0     0.0       0.0\n",
       " 0.0          0.0          0.0             0.0     0.0     0.0       0.0\n",
       " 0.0          0.0          0.0          …  0.0     0.0     0.0       0.0\n",
       " 0.0          0.0          0.0             0.0     0.0     0.0       0.0\n",
       " 0.0          0.0          0.0             0.0144  0.0     0.0       0.0\n",
       " 0.0          0.0          0.0             0.0     0.0121  0.0       0.0\n",
       " 0.0          0.0          0.0             0.0     0.0     0.003025  0.0\n",
       " 0.0          0.0          0.0          …  0.0     0.0     0.0       0.013456"
      ]
     },
     "execution_count": 252,
     "metadata": {},
     "output_type": "execute_result"
    }
   ],
   "source": [
    "fs8_meta = npzread(\"../data/fs8s/fs8s.npz\")\n",
    "fs8_zs = fs8_meta[\"z\"]\n",
    "fs8_data = fs8_meta[\"data\"]\n",
    "fs8_cov = fs8_meta[\"cov\"]"
   ]
  },
  {
   "cell_type": "code",
   "execution_count": 253,
   "id": "d1b6c145",
   "metadata": {
    "scrolled": true
   },
   "outputs": [],
   "source": [
    "cov_tot = zeros(Float64, length(fs8_data)+length(cls_data), length(fs8_data)+length(cls_data))\n",
    "cov_tot[1:length(fs8_data), 1:length(fs8_data)] = fs8_cov\n",
    "cov_tot[length(fs8_data)+1:(length(fs8_data)+length(cls_data)),\n",
    "        length(fs8_data)+1:(length(fs8_data)+length(cls_data))] = cls_cov\n",
    "data_vector = [fs8_data ; cls_data];"
   ]
  },
  {
   "cell_type": "code",
   "execution_count": 254,
   "id": "d3d4f83b",
   "metadata": {},
   "outputs": [],
   "source": [
    "nz=200\n",
    "fid_cosmo = Cosmology(0.3, 0.05, 0.67, 0.96, 0.81; \n",
    "                      nk=200, nz=nz, nz_pk=100)\n",
    "latent_x = Vector(0:0.3:3)\n",
    "x = Vector(range(0., stop=3., length=nz));"
   ]
  },
  {
   "cell_type": "code",
   "execution_count": 255,
   "id": "a587df6a",
   "metadata": {},
   "outputs": [],
   "source": [
    "pars = [4.426868e-02,     2.093138e-01,     8.963611e-01,     8.495440e-01,\n",
    "         1.343888e+00,    1.639047e+00,      1.597174e+00,     1.944583e+00,     2.007245e+00,\n",
    "        -4.679383e-03,   -2.839996e-03,      1.771571e-03,     1.197051e-03,    -5.199799e-03,\n",
    "         2.389208e-01,   -6.435288e-01, \n",
    "         1.802722e-03,   -5.508994e-03,     1.952514e-02,    -1.117726e-03,\n",
    "        -1.744083e-02,    6.777779e-03,    -1.097939e-03,    -4.912315e-03,\n",
    "         8.536883e-01,    2.535825e-01];"
   ]
  },
  {
   "cell_type": "code",
   "execution_count": 256,
   "id": "41ff6f59",
   "metadata": {},
   "outputs": [
    {
     "data": {
      "text/plain": [
       "Dict{String, Float64} with 20 entries:\n",
       "  \"DESwl__2_e_dz\" => -0.00109794\n",
       "  \"DESwl__3_e_m\"  => -0.00111773\n",
       "  \"A_IA\"          => 0.238921\n",
       "  \"DESwl__0_e_m\"  => 0.00180272\n",
       "  \"DESwl__3_e_dz\" => -0.00491232\n",
       "  \"DESgc__3_0_dz\" => 0.00119705\n",
       "  \"DESgc__1_0_b\"  => 1.63905\n",
       "  \"DESgc__2_0_b\"  => 1.59717\n",
       "  \"DESwl__1_e_dz\" => 0.00677778\n",
       "  \"DESwl__1_e_m\"  => -0.00550899\n",
       "  \"DESgc__4_0_dz\" => -0.0051998\n",
       "  \"DESgc__3_0_b\"  => 1.94458\n",
       "  \"DESwl__2_e_m\"  => 0.0195251\n",
       "  \"DESgc__1_0_dz\" => -0.00284\n",
       "  \"DESgc__0_0_dz\" => -0.00467938\n",
       "  \"DESgc__4_0_b\"  => 2.00725\n",
       "  \"alpha_IA\"      => -0.643529\n",
       "  \"DESgc__0_0_b\"  => 1.34389\n",
       "  \"DESwl__0_e_dz\" => -0.0174408\n",
       "  \"DESgc__2_0_dz\" => 0.00177157"
      ]
     },
     "execution_count": 256,
     "metadata": {},
     "output_type": "execute_result"
    }
   ],
   "source": [
    "nuisances = Dict(\"DESgc__0_0_b\" => pars[5],\n",
    "                 \"DESgc__1_0_b\" => pars[6],\n",
    "                 \"DESgc__2_0_b\" => pars[7],\n",
    "                 \"DESgc__3_0_b\" => pars[8],\n",
    "                 \"DESgc__4_0_b\" => pars[9],\n",
    "                 \"DESgc__0_0_dz\" => pars[10],\n",
    "                 \"DESgc__1_0_dz\" => pars[11],\n",
    "                 \"DESgc__2_0_dz\" => pars[12],\n",
    "                 \"DESgc__3_0_dz\" => pars[13],\n",
    "                 \"DESgc__4_0_dz\" => pars[14],\n",
    "\n",
    "                 \"A_IA\" => pars[15],\n",
    "                 \"alpha_IA\" => pars[16],\n",
    "\n",
    "                 \"DESwl__0_e_dz\" => pars[21],\n",
    "                 \"DESwl__1_e_dz\" => pars[22],\n",
    "                 \"DESwl__2_e_dz\" => pars[23],\n",
    "                 \"DESwl__3_e_dz\" => pars[24],\n",
    "                 \"DESwl__0_e_m\" => pars[17],\n",
    "                 \"DESwl__1_e_m\" => pars[18],\n",
    "                 \"DESwl__2_e_m\" => pars[19],\n",
    "                 \"DESwl__3_e_m\" => pars[20])"
   ]
  },
  {
   "cell_type": "markdown",
   "id": "6a041806",
   "metadata": {
    "heading_collapsed": true
   },
   "source": [
    "## Tests"
   ]
  },
  {
   "cell_type": "code",
   "execution_count": 257,
   "id": "d2311fb8",
   "metadata": {
    "hidden": true
   },
   "outputs": [
    {
     "data": {
      "text/plain": [
       "TTheory (generic function with 1 method)"
      ]
     },
     "execution_count": 257,
     "metadata": {},
     "output_type": "execute_result"
    }
   ],
   "source": [
    "function TTheory(cosmology::Cosmology,\n",
    "                tracers_names, pairs,\n",
    "                idx, files;\n",
    "                Nuisances=Dict())\n",
    "\n",
    "    ntracers = length(tracers_names)\n",
    "    tracers = []\n",
    "    \n",
    "    nui_type =  eltype(valtype(Nuisances))\n",
    "    if !(nui_type <: Float64) & (nui_type != Any)\n",
    "        if nui_type != Real\n",
    "            cosmology.settings.cosmo_type = nui_type\n",
    "        end\n",
    "    end\n",
    "    \n",
    "    tracers =  Dict{String}{LimberJack.Tracer}()\n",
    "    \n",
    "    @inbounds for name in tracers_names\n",
    "        n = length(name)\n",
    "        t_type = name[n:n]\n",
    "        if t_type == \"0\"\n",
    "            nzs = files[string(\"nz_\", name)]\n",
    "            nzs = [nzs[i,:] for i in 1:size(nzs,1)]\n",
    "            zs_mean, nz_mean = nzs[1], nzs[2]\n",
    "\n",
    "            b = get(Nuisances, string(name, \"_\", \"b\"), 1.0)\n",
    "            nz = get(Nuisances, string(name, \"_\", \"nz\"), nz_mean)\n",
    "            dzi = get(Nuisances, string(name, \"_\", \"dz\"), 0.0)\n",
    "            zs = zs_mean .+ dzi  # Opposite sign in KiDS\n",
    "            tracer = NumberCountsTracer(cosmology, zs, nz;\n",
    "                                        b=b)\n",
    "        elseif t_type == \"e\"\n",
    "            nzs = files[string(\"nz_\", name)]\n",
    "            nzs = [nzs[i,:] for i in 1:size(nzs,1)]\n",
    "            zs_mean, nz_mean = nzs[1], nzs[2]\n",
    "\n",
    "            mb = get(Nuisances, string(name, \"_\", \"mb\"), 0.0)\n",
    "            IA_params = [get(Nuisances, \"A_IA\", 0.0),\n",
    "                         get(Nuisances, \"alpha_IA\", 0.0)]\n",
    "            nz = get(Nuisances, string(name, \"_\", \"nz\"), nz_mean)\n",
    "            dzi = get(Nuisances, string(name, \"_\", \"dz\"), 0.0)\n",
    "            zs = zs_mean .+ dzi  # Opposite sign in KiDS\n",
    "            tracer = WeakLensingTracer(cosmology, zs, nz;\n",
    "                                       mb=mb, IA_params=IA_params)\n",
    "            \n",
    "        elseif t_type == \"k\"\n",
    "            tracer = CMBLensingTracer(cosmology)\n",
    "\n",
    "        else\n",
    "            print(\"Not implemented\")\n",
    "            tracer = nothing\n",
    "        end\n",
    "        merge!(tracers, Dict(name => tracer))\n",
    "    end\n",
    "\n",
    "    npairs = length(pairs)\n",
    "    total_len = last(idx)\n",
    "    cls = zeros(cosmology.settings.cosmo_type, total_len)\n",
    "    @inbounds Threads.@threads :static for i in 1:npairs\n",
    "        name1, name2 = pairs[i]\n",
    "        ls = files[string(\"ls_\", name1, \"_\", name2)]\n",
    "        tracer1 = tracers[name1]\n",
    "        tracer2 = tracers[name2]\n",
    "        cls[idx[i]+1:idx[i+1]] = angularCℓs(cosmology, tracer1, tracer2, ls)\n",
    "    end\n",
    "    \n",
    "    return cls\n",
    "end"
   ]
  },
  {
   "cell_type": "code",
   "execution_count": 258,
   "id": "08b597d5",
   "metadata": {
    "hidden": true
   },
   "outputs": [
    {
     "data": {
      "text/plain": [
       "numd_cls_nuisance (generic function with 1 method)"
      ]
     },
     "execution_count": 258,
     "metadata": {},
     "output_type": "execute_result"
    }
   ],
   "source": [
    "using ForwardDiff\n",
    "function diff_cls(Wb)\n",
    "    cosmology = LimberJack.Cosmology(0.3, Wb, 0.67, 0.96, 0.81,\n",
    "                                     tk_mode=\"EisHu\", Pk_mode=\"Halofit\")\n",
    "    cls = TTheory(cosmology, tracers_names, pairs,\n",
    "                 idx, files; Nuisances=nuisances)\n",
    "    return cls\n",
    "end\n",
    "\n",
    "function numd_cls(Wb)\n",
    "    cosmology1 = LimberJack.Cosmology(0.3, Wb, 0.67, 0.96, 0.81,\n",
    "                                     tk_mode=\"EisHu\", Pk_mode=\"Halofit\")\n",
    "    cosmology2 = LimberJack.Cosmology(0.3, Wb-0.0001, 0.67, 0.96, 0.81,\n",
    "                                     tk_mode=\"EisHu\", Pk_mode=\"Halofit\")\n",
    "    cls1 = TTheory(cosmology1, tracers_names, pairs,\n",
    "                  idx, files; Nuisances=nuisances)\n",
    "    cls2 = TTheory(cosmology2, tracers_names, pairs,\n",
    "                  idx, files; Nuisances=nuisances)\n",
    "    return (cls1 .- cls2) ./ 0.0001\n",
    "end\n",
    "\n",
    "\n",
    "function diff_cls_nuisance(dz)\n",
    "    nuisances = Dict(#\"b0\" => 2.0,\n",
    "                     \"DESgc__1_0_dz\"=> dz)\n",
    "    cosmology = LimberJack.Cosmology(0.3, 0.05, 0.67, 0.96, 0.81,\n",
    "                                     tk_mode=\"EisHu\", Pk_mode=\"Halofit\")\n",
    "    cls = TTheory(cosmology, tracers_names, pairs,\n",
    "                 idx, files; Nuisances=nuisances)\n",
    "    return cls\n",
    "end\n",
    "\n",
    "function numd_cls_nuisance(dz)\n",
    "    nuisances1 = Dict(#\"b0\" => 2.0,\n",
    "                      \"DESgc__1_0_dz\"=> dz)\n",
    "    nuisances2 = Dict(#\"b0\" => 2.0,\n",
    "                      \"DESgc__1_0_dz\"=> dz.-0.005)\n",
    "    cosmology = LimberJack.Cosmology(0.3, 0.05, 0.67, 0.96, 0.81,\n",
    "                                     tk_mode=\"EisHu\", Pk_mode=\"Halofit\")\n",
    "    cls1 = TTheory(cosmology, tracers_names, pairs,\n",
    "                  idx, files; Nuisances=nuisances1)\n",
    "    cls2 = TTheory(cosmology, tracers_names, pairs,\n",
    "                  idx, files; Nuisances=nuisances2)\n",
    "    return (cls1 .- cls2) ./ 0.0005\n",
    "end"
   ]
  },
  {
   "cell_type": "code",
   "execution_count": 259,
   "id": "228e6003",
   "metadata": {
    "hidden": true
   },
   "outputs": [
    {
     "data": {
      "text/plain": [
       "dzz (generic function with 1 method)"
      ]
     },
     "execution_count": 259,
     "metadata": {},
     "output_type": "execute_result"
    }
   ],
   "source": [
    "function dzz(p::T)::Array{T,1} where T<:Real\n",
    "    cosmo = LimberJack.Cosmology(0.3, 0.05, 0.67, 0.96, 0.81,\n",
    "                                 tk_mode=\"EisHu\", Pk_mode=\"Halofit\",\n",
    "                                 nz=300)\n",
    "    cosmo.settings.cosmo_type = typeof(p)\n",
    "    z = Vector(range(0., stop=2., length=256)) .- p\n",
    "    nz = Vector(@. exp(-0.5*((z-0.5)/0.05)^2))\n",
    "    tg = NumberCountsTracer(cosmo, z, nz; b=1)\n",
    "    ℓs = [10.0, 30.0, 100.0, 300.0]\n",
    "    Cℓ_gg = angularCℓs(cosmo, tg, tg, ℓs) \n",
    "    return Cℓ_gg\n",
    "end"
   ]
  },
  {
   "cell_type": "code",
   "execution_count": 260,
   "id": "c0674d92",
   "metadata": {
    "hidden": true
   },
   "outputs": [
    {
     "data": {
      "text/plain": [
       "5.0e-5"
      ]
     },
     "execution_count": 260,
     "metadata": {},
     "output_type": "execute_result"
    }
   ],
   "source": [
    "d = 0.00005"
   ]
  },
  {
   "cell_type": "code",
   "execution_count": 261,
   "id": "253944a0",
   "metadata": {
    "hidden": true
   },
   "outputs": [
    {
     "data": {
      "text/plain": [
       "4-element Vector{Float64}:\n",
       " -1.1238074500516947e-6\n",
       " -1.0490182604241787e-5\n",
       "  7.358025189230818e-6\n",
       " -9.812451791087121e-7"
      ]
     },
     "execution_count": 261,
     "metadata": {},
     "output_type": "execute_result"
    }
   ],
   "source": [
    "dz_autodiff = ForwardDiff.derivative(dzz, -0.1)"
   ]
  },
  {
   "cell_type": "code",
   "execution_count": 262,
   "id": "01e9d233",
   "metadata": {
    "hidden": true
   },
   "outputs": [
    {
     "data": {
      "text/plain": [
       "4-element Vector{Float64}:\n",
       " -1.12379536306871e-6\n",
       " -1.0490195590473711e-5\n",
       "  7.36721103335858e-6\n",
       " -9.817539999908508e-7"
      ]
     },
     "execution_count": 262,
     "metadata": {},
     "output_type": "execute_result"
    }
   ],
   "source": [
    "dz_anal = (dzz(-0.1+d)-dzz(-0.1-d))/2d"
   ]
  },
  {
   "cell_type": "code",
   "execution_count": 263,
   "id": "a6a3c7ee",
   "metadata": {
    "hidden": true
   },
   "outputs": [
    {
     "data": {
      "text/plain": [
       "4-element Vector{Float64}:\n",
       " 1.0755501741677165e-5\n",
       " 1.2379399232376187e-6\n",
       " 0.0012468550291512281\n",
       " 0.0005182773710556976"
      ]
     },
     "execution_count": 263,
     "metadata": {},
     "output_type": "execute_result"
    }
   ],
   "source": [
    "abs.(dz_autodiff ./ dz_anal .-1)"
   ]
  },
  {
   "cell_type": "code",
   "execution_count": 264,
   "id": "c3e459c4",
   "metadata": {
    "hidden": true
   },
   "outputs": [],
   "source": [
    "#mean(abs.(numd_cls(0.05)./ForwardDiff.derivative(diff_cls, 0.05) .-1))"
   ]
  },
  {
   "cell_type": "code",
   "execution_count": 265,
   "id": "5ed399b9",
   "metadata": {
    "hidden": true
   },
   "outputs": [
    {
     "data": {
      "text/plain": [
       "475-element Vector{Float64}:\n",
       "  0.0\n",
       "  0.0\n",
       "  0.0\n",
       "  0.0\n",
       "  0.0\n",
       " -0.0019234222521184719\n",
       " -0.0006534361028570078\n",
       " -0.0003303224617137253\n",
       " -0.00011796924193214376\n",
       " -0.00011472270205373865\n",
       " -4.912254074234995e-5\n",
       " -7.518756365624854e-5\n",
       " -5.297606257727153e-5\n",
       "  ⋮\n",
       "  0.0\n",
       "  0.0\n",
       "  0.0\n",
       "  0.0\n",
       "  0.0\n",
       "  0.0\n",
       "  0.0\n",
       "  0.0\n",
       "  0.0\n",
       "  0.0\n",
       "  0.0\n",
       "  0.0"
      ]
     },
     "execution_count": 265,
     "metadata": {},
     "output_type": "execute_result"
    }
   ],
   "source": [
    "dz=0.01\n",
    "nuisances1 = Dict(#\"b0\" => 2.0,\n",
    "                      \"DESgc__1_0_dz\"=> dz)\n",
    "nuisances2 = Dict(#\"b0\" => 2.0,\n",
    "                  \"DESgc__1_0_dz\"=> dz.-0.005)\n",
    "cosmology = LimberJack.Cosmology(0.3, 0.05, 0.67, 0.96, 0.81,\n",
    "                                 tk_mode=\"EisHu\", Pk_mode=\"Halofit\")\n",
    "cls1 = TTheory(cosmology, tracers_names, pairs,\n",
    "              idx, files; Nuisances=nuisances1)\n",
    "cls2 = TTheory(cosmology, tracers_names, pairs,\n",
    "              idx, files; Nuisances=nuisances2)\n",
    "(cls1 .- cls2) ./ 0.0005"
   ]
  },
  {
   "cell_type": "code",
   "execution_count": 85,
   "id": "ad038440",
   "metadata": {
    "hidden": true
   },
   "outputs": [
    {
     "data": {
      "text/plain": [
       "475-element Vector{Float64}:\n",
       "  0.0\n",
       "  0.0\n",
       "  0.0\n",
       "  0.0\n",
       "  0.0\n",
       " -0.0019234222521184719\n",
       " -0.0006534361028570078\n",
       " -0.0003303224617137253\n",
       " -0.00011796924193214376\n",
       " -0.00011472270205373865\n",
       " -4.912254074234995e-5\n",
       " -7.518756365624854e-5\n",
       " -5.297606257727153e-5\n",
       "  ⋮\n",
       "  0.0\n",
       "  0.0\n",
       "  0.0\n",
       "  0.0\n",
       "  0.0\n",
       "  0.0\n",
       "  0.0\n",
       "  0.0\n",
       "  0.0\n",
       "  0.0\n",
       "  0.0\n",
       "  0.0"
      ]
     },
     "execution_count": 85,
     "metadata": {},
     "output_type": "execute_result"
    }
   ],
   "source": [
    "numd_cls_nuisance(0.01)"
   ]
  },
  {
   "cell_type": "code",
   "execution_count": 81,
   "id": "8ca6b5dc",
   "metadata": {
    "hidden": true
   },
   "outputs": [
    {
     "data": {
      "text/plain": [
       "NaN"
      ]
     },
     "execution_count": 81,
     "metadata": {},
     "output_type": "execute_result"
    }
   ],
   "source": [
    "mean(abs.(numd_cls_nuisance(0.1)./ForwardDiff.derivative(diff_cls_nuisance, 0.1) .-1))"
   ]
  },
  {
   "cell_type": "code",
   "execution_count": 21,
   "id": "637e2463",
   "metadata": {
    "hidden": true
   },
   "outputs": [
    {
     "name": "stdout",
     "output_type": "stream",
     "text": [
      "4.72991988203448e-7\n"
     ]
    }
   ],
   "source": [
    "nume = numd_cls_nuisance(-0.01)\n",
    "anal = ForwardDiff.derivative(diff_cls_nuisance, -0.01)\n",
    "n = length(nume)\n",
    "comp = zeros(Float64, n)\n",
    "\n",
    "for i in 1:n \n",
    "    if (nume[i] != 0)\n",
    "        comp[i] = @.(abs(anal[i]/nume[i] - 1))\n",
    "    end\n",
    "end\n",
    "\n",
    "diff = []\n",
    "for i in 1:n \n",
    "    if (nume[i] != 0)\n",
    "        push!(diff, @.(abs(nume[i]-anal[i])))\n",
    "    end\n",
    "end\n",
    "println(mean(diff))"
   ]
  },
  {
   "cell_type": "markdown",
   "id": "7a8c8f04",
   "metadata": {},
   "source": [
    "## Sample Prior"
   ]
  },
  {
   "cell_type": "code",
   "execution_count": 266,
   "id": "7fdc8f53",
   "metadata": {},
   "outputs": [
    {
     "data": {
      "text/plain": [
       "cconditional (generic function with 1 method)"
      ]
     },
     "execution_count": 266,
     "metadata": {},
     "output_type": "execute_result"
    }
   ],
   "source": [
    "function cconditional(old_X, new_X, old_Y, \n",
    "                     cov_fn; kwargs...)\n",
    "    N = length(new_X)\n",
    "    Z = [new_X; old_X]\n",
    "    K = cov_fn(Z; eta=1.0, l=kwargs[:l])\n",
    "    Koo = K[(N+1):end, (N+1):end]    \n",
    "    Kno = K[1:N, (N+1):end]          \n",
    "    C = Kno / Koo\n",
    "    return C * old_Y \n",
    "end"
   ]
  },
  {
   "cell_type": "code",
   "execution_count": 267,
   "id": "be9384d1",
   "metadata": {},
   "outputs": [],
   "source": [
    "using Interpolations\n",
    "function make_theory(Ωm, v;\n",
    "                      tracers_names=tracers_names,\n",
    "                      pairs=pairs,\n",
    "                      idx=idx,\n",
    "                      cov_tot=cov_tot, \n",
    "                      files=files,\n",
    "                      fid_cosmo=fid_cosmo,\n",
    "                      latent_x=latent_x,\n",
    "                      x=x)\n",
    "    \n",
    "\n",
    "    Ωm = pars[26]\n",
    "    Ωb = pars[1]\n",
    "    h = pars[4]\n",
    "    ns = pars[3]\n",
    "    s8 = 0.811\n",
    "\n",
    "    eta = 0.00001\n",
    "    l = 1\n",
    "\n",
    "    latent_N = length(latent_x)\n",
    "    \n",
    "    mu = fid_cosmo.Dz(vec(latent_x))\n",
    "    K = sqexp_cov_fn(latent_x; eta=eta, l=l)\n",
    "    latent_gp = latent_GP(mu, v, K)\n",
    "    latent_gpi = linear_interpolation(latent_x, latent_gp)\n",
    "    gp = cconditional(latent_x, x, latent_gp, \n",
    "                      sqexp_cov_fn; eta=eta, l=l)\n",
    "    cosmology = LimberJack.Cosmology(Ωm, Ωb, h, ns, s8,\n",
    "                                     tk_mode=\"EisHu\",\n",
    "                                     Pk_mode=\"Halofit\";\n",
    "                                     custom_Dz=[x, gp])\n",
    "    \n",
    "    fs8s = fs8(cosmology, x)\n",
    "    \n",
    "    cls = Theory(cosmology, tracers_names, pairs,\n",
    "                 idx, files; Nuisances=nuisances)\n",
    "\n",
    "    return gp, fs8s, cls\n",
    "end;"
   ]
  },
  {
   "cell_type": "code",
   "execution_count": 268,
   "id": "3abed057",
   "metadata": {},
   "outputs": [
    {
     "data": {
      "text/plain": [
       "([0.9812470416328067, 0.9722095795926889, 0.9632702626573069, 0.954433985572327, 0.9457052903547857, 0.9370883638068497, 0.9285870359279066, 0.9202047792242053, 0.9119447089131995, 0.9038095840169625  …  0.33968733529477496, 0.3358583494173715, 0.33195613119155004, 0.32798283291505415, 0.3239407196148872, 0.31983216337688825, 0.31565963752697224, 0.3114257106814159, 0.3071330406837204, 0.3027843684458064], [0.4888222437822224, 0.4908319808873901, 0.4925468973092139, 0.49383334129461576, 0.49470002368837274, 0.49515692146709556, 0.4952152333243063, 0.49488733099400795, 0.4941867064692456, 0.49312791530306266  …  0.7881704051178248, 0.8067408398993826, 0.8249931682698388, 0.8428980095980072, 0.8604267882414064, 0.8775517895777393, 0.8942462130090165, 0.910484221917172, 0.9262409904319783, 0.94179591543734], [0.00017857296872988198, 7.175881803120733e-5, 3.5510767139856024e-5, 2.2054082406026006e-5, 1.529523458050689e-5, 9.69661822751981e-5, 5.14943836561595e-5, 3.3134089320524696e-5, 2.0068760377055884e-5, 1.4650324133023917e-5  …  4.279870341910135e-10, 3.668846202231719e-10, 3.1444724615699667e-10, 2.692227330447824e-10, 2.3018490656479947e-10, 1.9617063889563932e-10, 1.6658887928256983e-10, 1.4087425221526166e-10, 1.1853202396512375e-10, 9.919994480602233e-11])"
      ]
     },
     "execution_count": 268,
     "metadata": {},
     "output_type": "execute_result"
    }
   ],
   "source": [
    "gp, fs8s, cls = make_theory(0.3, rand(MvNormal(zeros(length(latent_x)), ones(length(latent_x)))))"
   ]
  },
  {
   "cell_type": "code",
   "execution_count": 269,
   "id": "cf78ddd1",
   "metadata": {},
   "outputs": [],
   "source": [
    "N_samples = 100\n",
    "cls_preds = zeros(N_samples, length(cls_data))\n",
    "gps_preds = zeros(N_samples, length(x))\n",
    "fs8s_preds = zeros(N_samples, length(x))\n",
    "for i in 1:N_samples\n",
    "    Ωm = rand(Uniform(0.1, 0.6))\n",
    "    v = rand(MvNormal(zeros(length(latent_x)), ones(length(latent_x))))\n",
    "    gps_preds[i,:], fs8s_preds[i,:], cls_preds[i,:] = make_theory(Ωm, v)\n",
    "end"
   ]
  },
  {
   "cell_type": "code",
   "execution_count": 270,
   "id": "c0dbca2f",
   "metadata": {},
   "outputs": [],
   "source": [
    "cls_preds_m, cls_preds_s = mean(cls_preds, dims=1), std(cls_preds, dims=1);\n",
    "fs8s_preds_m, fs8s_preds_s = mean(fs8s_preds, dims=1), std(fs8s_preds, dims=1);\n",
    "gps_preds_m, gps_preds_s = mean(gps_preds, dims=1), std(gps_preds, dims=1);"
   ]
  },
  {
   "cell_type": "code",
   "execution_count": 271,
   "id": "7bbdf43c",
   "metadata": {},
   "outputs": [],
   "source": [
    "npzwrite(\"fs8_ploting.npz\", Dict(\"cls_m\" => cls_preds_m,\n",
    "                                 \"cls_s\" => cls_preds_s, \n",
    "                                 \"fs8s_m\" => fs8s_preds_m,\n",
    "                                 \"fs8s_s\" => fs8s_preds_s,\n",
    "                                 \"gps_m\" => gps_preds_m,\n",
    "                                 \"gps_s\" => gps_preds_s)) "
   ]
  },
  {
   "cell_type": "markdown",
   "id": "299d6cd2",
   "metadata": {},
   "source": [
    "## Sample Posterior"
   ]
  },
  {
   "cell_type": "code",
   "execution_count": 46,
   "id": "2ad65d67",
   "metadata": {},
   "outputs": [],
   "source": [
    "@model function model(data_vector;\n",
    "                      tracers_names=tracers_names,\n",
    "                      pairs=pairs,\n",
    "                      idx=idx,\n",
    "                      cov_tot=cov_tot, \n",
    "                      files=files,\n",
    "                      fid_cosmo=fid_cosmo,\n",
    "                      latent_x=latent_x,\n",
    "                      x=x)\n",
    "\n",
    "    #KiDS priors\n",
    "    Ωm ~ Uniform(0.2, 0.6)\n",
    "    Ωb = 0.05 # ~ Uniform(0.028, 0.065)\n",
    "    h = 0.67 #~ Uniform(0.64, 0.82)\n",
    "    ns = 0.96 #~ Uniform(0.84, 1.1)\n",
    "    s8 = 0.811\n",
    "    \n",
    "    eta = 0.05\n",
    "    l = 1\n",
    "    latent_N = length(latent_x)\n",
    "    v ~ filldist(truncated(Normal(0, 1), -3, 3), latent_N)\n",
    "    \n",
    "    mu = fid_cosmo.Dz(vec(latent_x))\n",
    "    K = sqexp_cov_fn(latent_x; eta=eta, l=l)\n",
    "    latent_gp = latent_GP(mu, v, K)\n",
    "    gp = conditional(latent_x, x, latent_gp, sqexp_cov_fn;\n",
    "                      eta=eta, l=l)\n",
    "\n",
    "    dmu =  growth_rate(fid_cosmo, vec(latent_x)) ./ (1 .+ latent_x)\n",
    "    dK = sqexp_cov_grad(latent_x; eta=eta, l=l)\n",
    "    latent_dgp = latent_GP(dmu, v, dK)\n",
    "    dgp = conditional(latent_x, x, latent_dgp, sqexp_cov_grad;\n",
    "                      eta=eta, l=l)\n",
    "    \n",
    "    cosmology = Cosmology(Ωm, Ωb, h, ns, s8,\n",
    "                          tk_mode=\"EisHu\",\n",
    "                          Pk_mode=\"Halofit\", \n",
    "                          custom_Dz=[x, gp, dgp])\n",
    "    \n",
    "    cls = Theory(cosmology, tracers_names, pairs,\n",
    "                    idx, files; Nuisances=nuisances)\n",
    "    \n",
    "    fs8s = fs8(cosmology, fs8_zs)\n",
    "    theory = [fs8s; cls]\n",
    "    \n",
    "    data_vector ~ MvNormal(theory, cov_tot)\n",
    "end;"
   ]
  },
  {
   "cell_type": "code",
   "execution_count": 47,
   "id": "2b7e5fa1",
   "metadata": {},
   "outputs": [
    {
     "name": "stderr",
     "output_type": "stream",
     "text": [
      "┌ Warning: The current proposal will be rejected due to numerical error(s).\n",
      "│   isfinite.((θ, r, ℓπ, ℓκ)) = (true, false, false, false)\n",
      "└ @ AdvancedHMC /home/jaime/.julia/packages/AdvancedHMC/iWHPQ/src/hamiltonian.jl:47\n",
      "┌ Warning: The current proposal will be rejected due to numerical error(s).\n",
      "│   isfinite.((θ, r, ℓπ, ℓκ)) = (true, false, false, false)\n",
      "└ @ AdvancedHMC /home/jaime/.julia/packages/AdvancedHMC/iWHPQ/src/hamiltonian.jl:47\n",
      "\u001b[32mSampling:   4%|█▌                                       |  ETA: 0:01:18\u001b[39m┌ Warning: The current proposal will be rejected due to numerical error(s).\n",
      "│   isfinite.((θ, r, ℓπ, ℓκ)) = (true, false, false, false)\n",
      "└ @ AdvancedHMC /home/jaime/.julia/packages/AdvancedHMC/iWHPQ/src/hamiltonian.jl:47\n",
      "\u001b[32mSampling:   5%|██▎                                      |  ETA: 0:01:23\u001b[39m┌ Warning: The current proposal will be rejected due to numerical error(s).\n",
      "│   isfinite.((θ, r, ℓπ, ℓκ)) = (true, false, false, false)\n",
      "└ @ AdvancedHMC /home/jaime/.julia/packages/AdvancedHMC/iWHPQ/src/hamiltonian.jl:47\n",
      "\u001b[32mSampling:   7%|███                                      |  ETA: 0:01:19\u001b[39m┌ Warning: The current proposal will be rejected due to numerical error(s).\n",
      "│   isfinite.((θ, r, ℓπ, ℓκ)) = (true, false, false, false)\n",
      "└ @ AdvancedHMC /home/jaime/.julia/packages/AdvancedHMC/iWHPQ/src/hamiltonian.jl:47\n",
      "\u001b[32mSampling:   9%|███▊                                     |  ETA: 0:01:16\u001b[39m┌ Warning: The current proposal will be rejected due to numerical error(s).\n",
      "│   isfinite.((θ, r, ℓπ, ℓκ)) = (true, false, false, false)\n",
      "└ @ AdvancedHMC /home/jaime/.julia/packages/AdvancedHMC/iWHPQ/src/hamiltonian.jl:47\n",
      "\u001b[32mSampling:  11%|████▌                                    |  ETA: 0:01:13\u001b[39m┌ Warning: The current proposal will be rejected due to numerical error(s).\n",
      "│   isfinite.((θ, r, ℓπ, ℓκ)) = (true, false, false, false)\n",
      "└ @ AdvancedHMC /home/jaime/.julia/packages/AdvancedHMC/iWHPQ/src/hamiltonian.jl:47\n",
      "\u001b[32mSampling:  13%|█████▎                                   |  ETA: 0:01:11\u001b[39m┌ Warning: The current proposal will be rejected due to numerical error(s).\n",
      "│   isfinite.((θ, r, ℓπ, ℓκ)) = (true, false, false, false)\n",
      "└ @ AdvancedHMC /home/jaime/.julia/packages/AdvancedHMC/iWHPQ/src/hamiltonian.jl:47\n",
      "\u001b[32mSampling:  14%|██████                                   |  ETA: 0:01:09\u001b[39m┌ Warning: The current proposal will be rejected due to numerical error(s).\n",
      "│   isfinite.((θ, r, ℓπ, ℓκ)) = (true, false, false, false)\n",
      "└ @ AdvancedHMC /home/jaime/.julia/packages/AdvancedHMC/iWHPQ/src/hamiltonian.jl:47\n",
      "\u001b[32mSampling:  16%|██████▋                                  |  ETA: 0:01:07\u001b[39m┌ Warning: The current proposal will be rejected due to numerical error(s).\n",
      "│   isfinite.((θ, r, ℓπ, ℓκ)) = (true, false, false, false)\n",
      "└ @ AdvancedHMC /home/jaime/.julia/packages/AdvancedHMC/iWHPQ/src/hamiltonian.jl:47\n",
      "\u001b[32mSampling:  18%|███████▍                                 |  ETA: 0:01:06\u001b[39m┌ Warning: The current proposal will be rejected due to numerical error(s).\n",
      "│   isfinite.((θ, r, ℓπ, ℓκ)) = (true, false, false, false)\n",
      "└ @ AdvancedHMC /home/jaime/.julia/packages/AdvancedHMC/iWHPQ/src/hamiltonian.jl:47\n",
      "\u001b[32mSampling:  20%|████████▎                                |  ETA: 0:01:04\u001b[39m┌ Warning: The current proposal will be rejected due to numerical error(s).\n",
      "│   isfinite.((θ, r, ℓπ, ℓκ)) = (true, false, false, false)\n",
      "└ @ AdvancedHMC /home/jaime/.julia/packages/AdvancedHMC/iWHPQ/src/hamiltonian.jl:47\n",
      "\u001b[32mSampling:  22%|█████████                                |  ETA: 0:01:02\u001b[39m┌ Warning: The current proposal will be rejected due to numerical error(s).\n",
      "│   isfinite.((θ, r, ℓπ, ℓκ)) = (true, false, false, false)\n",
      "└ @ AdvancedHMC /home/jaime/.julia/packages/AdvancedHMC/iWHPQ/src/hamiltonian.jl:47\n",
      "\u001b[32mSampling:  24%|█████████▋                               |  ETA: 0:01:00\u001b[39m┌ Warning: The current proposal will be rejected due to numerical error(s).\n",
      "│   isfinite.((θ, r, ℓπ, ℓκ)) = (true, false, false, false)\n",
      "└ @ AdvancedHMC /home/jaime/.julia/packages/AdvancedHMC/iWHPQ/src/hamiltonian.jl:47\n",
      "\u001b[32mSampling:  25%|██████████▍                              |  ETA: 0:00:59\u001b[39m┌ Warning: The current proposal will be rejected due to numerical error(s).\n",
      "│   isfinite.((θ, r, ℓπ, ℓκ)) = (true, false, false, false)\n",
      "└ @ AdvancedHMC /home/jaime/.julia/packages/AdvancedHMC/iWHPQ/src/hamiltonian.jl:47\n",
      "\u001b[32mSampling:  27%|███████████▏                             |  ETA: 0:00:57\u001b[39m┌ Warning: The current proposal will be rejected due to numerical error(s).\n",
      "│   isfinite.((θ, r, ℓπ, ℓκ)) = (true, false, false, false)\n",
      "└ @ AdvancedHMC /home/jaime/.julia/packages/AdvancedHMC/iWHPQ/src/hamiltonian.jl:47\n",
      "\u001b[32mSampling:  29%|███████████▉                             |  ETA: 0:00:56\u001b[39m┌ Warning: The current proposal will be rejected due to numerical error(s).\n",
      "│   isfinite.((θ, r, ℓπ, ℓκ)) = (true, false, false, false)\n",
      "└ @ AdvancedHMC /home/jaime/.julia/packages/AdvancedHMC/iWHPQ/src/hamiltonian.jl:47\n",
      "\u001b[32mSampling:  31%|████████████▋                            |  ETA: 0:00:54\u001b[39m┌ Warning: The current proposal will be rejected due to numerical error(s).\n",
      "│   isfinite.((θ, r, ℓπ, ℓκ)) = (true, false, false, false)\n",
      "└ @ AdvancedHMC /home/jaime/.julia/packages/AdvancedHMC/iWHPQ/src/hamiltonian.jl:47\n",
      "\u001b[32mSampling:  33%|█████████████▍                           |  ETA: 0:00:53\u001b[39m┌ Warning: The current proposal will be rejected due to numerical error(s).\n",
      "│   isfinite.((θ, r, ℓπ, ℓκ)) = (true, false, false, false)\n",
      "└ @ AdvancedHMC /home/jaime/.julia/packages/AdvancedHMC/iWHPQ/src/hamiltonian.jl:47\n",
      "\u001b[32mSampling:  34%|██████████████▏                          |  ETA: 0:00:51\u001b[39m┌ Warning: The current proposal will be rejected due to numerical error(s).\n",
      "│   isfinite.((θ, r, ℓπ, ℓκ)) = (true, false, false, false)\n",
      "└ @ AdvancedHMC /home/jaime/.julia/packages/AdvancedHMC/iWHPQ/src/hamiltonian.jl:47\n",
      "\u001b[32mSampling:  36%|██████████████▉                          |  ETA: 0:00:50\u001b[39m┌ Warning: The current proposal will be rejected due to numerical error(s).\n",
      "│   isfinite.((θ, r, ℓπ, ℓκ)) = (true, false, false, false)\n",
      "└ @ AdvancedHMC /home/jaime/.julia/packages/AdvancedHMC/iWHPQ/src/hamiltonian.jl:47\n",
      "\u001b[32mSampling:  38%|███████████████▋                         |  ETA: 0:00:48\u001b[39m┌ Warning: The current proposal will be rejected due to numerical error(s).\n",
      "│   isfinite.((θ, r, ℓπ, ℓκ)) = (true, false, false, false)\n",
      "└ @ AdvancedHMC /home/jaime/.julia/packages/AdvancedHMC/iWHPQ/src/hamiltonian.jl:47\n",
      "\u001b[32mSampling:  40%|████████████████▍                        |  ETA: 0:00:47\u001b[39m┌ Warning: The current proposal will be rejected due to numerical error(s).\n",
      "│   isfinite.((θ, r, ℓπ, ℓκ)) = (true, false, false, false)\n",
      "└ @ AdvancedHMC /home/jaime/.julia/packages/AdvancedHMC/iWHPQ/src/hamiltonian.jl:47\n",
      "\u001b[32mSampling:  42%|█████████████████▏                       |  ETA: 0:00:45\u001b[39m┌ Warning: The current proposal will be rejected due to numerical error(s).\n",
      "│   isfinite.((θ, r, ℓπ, ℓκ)) = (true, false, false, false)\n",
      "└ @ AdvancedHMC /home/jaime/.julia/packages/AdvancedHMC/iWHPQ/src/hamiltonian.jl:47\n",
      "\u001b[32mSampling:  44%|█████████████████▉                       |  ETA: 0:00:44\u001b[39m┌ Warning: The current proposal will be rejected due to numerical error(s).\n",
      "│   isfinite.((θ, r, ℓπ, ℓκ)) = (true, false, false, false)\n",
      "└ @ AdvancedHMC /home/jaime/.julia/packages/AdvancedHMC/iWHPQ/src/hamiltonian.jl:47\n",
      "\u001b[32mSampling:  45%|██████████████████▋                      |  ETA: 0:00:43\u001b[39m┌ Warning: The current proposal will be rejected due to numerical error(s).\n",
      "│   isfinite.((θ, r, ℓπ, ℓκ)) = (true, false, false, false)\n",
      "└ @ AdvancedHMC /home/jaime/.julia/packages/AdvancedHMC/iWHPQ/src/hamiltonian.jl:47\n",
      "\u001b[32mSampling:  47%|███████████████████▍                     |  ETA: 0:00:41\u001b[39m┌ Warning: The current proposal will be rejected due to numerical error(s).\n",
      "│   isfinite.((θ, r, ℓπ, ℓκ)) = (true, false, false, false)\n",
      "└ @ AdvancedHMC /home/jaime/.julia/packages/AdvancedHMC/iWHPQ/src/hamiltonian.jl:47\n",
      "\u001b[32mSampling:  49%|████████████████████▏                    |  ETA: 0:00:40\u001b[39m┌ Warning: The current proposal will be rejected due to numerical error(s).\n",
      "│   isfinite.((θ, r, ℓπ, ℓκ)) = (true, false, false, false)\n",
      "└ @ AdvancedHMC /home/jaime/.julia/packages/AdvancedHMC/iWHPQ/src/hamiltonian.jl:47\n"
     ]
    },
    {
     "name": "stderr",
     "output_type": "stream",
     "text": [
      "\u001b[32mSampling:  51%|████████████████████▉                    |  ETA: 0:00:38\u001b[39m┌ Warning: The current proposal will be rejected due to numerical error(s).\n",
      "│   isfinite.((θ, r, ℓπ, ℓκ)) = (true, false, false, false)\n",
      "└ @ AdvancedHMC /home/jaime/.julia/packages/AdvancedHMC/iWHPQ/src/hamiltonian.jl:47\n",
      "\u001b[32mSampling:  53%|█████████████████████▋                   |  ETA: 0:00:37\u001b[39m┌ Warning: The current proposal will be rejected due to numerical error(s).\n",
      "│   isfinite.((θ, r, ℓπ, ℓκ)) = (true, false, false, false)\n",
      "└ @ AdvancedHMC /home/jaime/.julia/packages/AdvancedHMC/iWHPQ/src/hamiltonian.jl:47\n",
      "\u001b[32mSampling:  54%|██████████████████████▍                  |  ETA: 0:00:35\u001b[39m┌ Warning: The current proposal will be rejected due to numerical error(s).\n",
      "│   isfinite.((θ, r, ℓπ, ℓκ)) = (true, false, false, false)\n",
      "└ @ AdvancedHMC /home/jaime/.julia/packages/AdvancedHMC/iWHPQ/src/hamiltonian.jl:47\n",
      "\u001b[32mSampling:  56%|███████████████████████▏                 |  ETA: 0:00:34\u001b[39m┌ Warning: The current proposal will be rejected due to numerical error(s).\n",
      "│   isfinite.((θ, r, ℓπ, ℓκ)) = (true, false, false, false)\n",
      "└ @ AdvancedHMC /home/jaime/.julia/packages/AdvancedHMC/iWHPQ/src/hamiltonian.jl:47\n",
      "\u001b[32mSampling:  58%|███████████████████████▉                 |  ETA: 0:00:33\u001b[39m┌ Warning: The current proposal will be rejected due to numerical error(s).\n",
      "│   isfinite.((θ, r, ℓπ, ℓκ)) = (true, false, false, false)\n",
      "└ @ AdvancedHMC /home/jaime/.julia/packages/AdvancedHMC/iWHPQ/src/hamiltonian.jl:47\n",
      "\u001b[32mSampling:  60%|████████████████████████▋                |  ETA: 0:00:31\u001b[39m┌ Warning: The current proposal will be rejected due to numerical error(s).\n",
      "│   isfinite.((θ, r, ℓπ, ℓκ)) = (true, false, false, false)\n",
      "└ @ AdvancedHMC /home/jaime/.julia/packages/AdvancedHMC/iWHPQ/src/hamiltonian.jl:47\n",
      "\u001b[32mSampling:  62%|█████████████████████████▍               |  ETA: 0:00:30\u001b[39m┌ Warning: The current proposal will be rejected due to numerical error(s).\n",
      "│   isfinite.((θ, r, ℓπ, ℓκ)) = (true, false, false, false)\n",
      "└ @ AdvancedHMC /home/jaime/.julia/packages/AdvancedHMC/iWHPQ/src/hamiltonian.jl:47\n",
      "\u001b[32mSampling:  64%|██████████████████████████▏              |  ETA: 0:00:28\u001b[39m┌ Warning: The current proposal will be rejected due to numerical error(s).\n",
      "│   isfinite.((θ, r, ℓπ, ℓκ)) = (true, false, false, false)\n",
      "└ @ AdvancedHMC /home/jaime/.julia/packages/AdvancedHMC/iWHPQ/src/hamiltonian.jl:47\n",
      "\u001b[32mSampling:  65%|██████████████████████████▉              |  ETA: 0:00:27\u001b[39m┌ Warning: The current proposal will be rejected due to numerical error(s).\n",
      "│   isfinite.((θ, r, ℓπ, ℓκ)) = (true, false, false, false)\n",
      "└ @ AdvancedHMC /home/jaime/.julia/packages/AdvancedHMC/iWHPQ/src/hamiltonian.jl:47\n",
      "\u001b[32mSampling:  67%|███████████████████████████▌             |  ETA: 0:00:26\u001b[39m┌ Warning: The current proposal will be rejected due to numerical error(s).\n",
      "│   isfinite.((θ, r, ℓπ, ℓκ)) = (true, false, false, false)\n",
      "└ @ AdvancedHMC /home/jaime/.julia/packages/AdvancedHMC/iWHPQ/src/hamiltonian.jl:47\n",
      "\u001b[32mSampling:  69%|████████████████████████████▎            |  ETA: 0:00:24\u001b[39m┌ Warning: The current proposal will be rejected due to numerical error(s).\n",
      "│   isfinite.((θ, r, ℓπ, ℓκ)) = (true, false, false, false)\n",
      "└ @ AdvancedHMC /home/jaime/.julia/packages/AdvancedHMC/iWHPQ/src/hamiltonian.jl:47\n",
      "\u001b[32mSampling:  71%|█████████████████████████████▏           |  ETA: 0:00:23\u001b[39m┌ Warning: The current proposal will be rejected due to numerical error(s).\n",
      "│   isfinite.((θ, r, ℓπ, ℓκ)) = (true, false, false, false)\n",
      "└ @ AdvancedHMC /home/jaime/.julia/packages/AdvancedHMC/iWHPQ/src/hamiltonian.jl:47\n",
      "\u001b[32mSampling:  73%|█████████████████████████████▊           |  ETA: 0:00:21\u001b[39m┌ Warning: The current proposal will be rejected due to numerical error(s).\n",
      "│   isfinite.((θ, r, ℓπ, ℓκ)) = (true, false, false, false)\n",
      "└ @ AdvancedHMC /home/jaime/.julia/packages/AdvancedHMC/iWHPQ/src/hamiltonian.jl:47\n",
      "\u001b[32mSampling:  74%|██████████████████████████████▌          |  ETA: 0:00:20\u001b[39m┌ Warning: The current proposal will be rejected due to numerical error(s).\n",
      "│   isfinite.((θ, r, ℓπ, ℓκ)) = (true, false, false, false)\n",
      "└ @ AdvancedHMC /home/jaime/.julia/packages/AdvancedHMC/iWHPQ/src/hamiltonian.jl:47\n",
      "\u001b[32mSampling:  76%|███████████████████████████████▎         |  ETA: 0:00:18\u001b[39m┌ Warning: The current proposal will be rejected due to numerical error(s).\n",
      "│   isfinite.((θ, r, ℓπ, ℓκ)) = (true, false, false, false)\n",
      "└ @ AdvancedHMC /home/jaime/.julia/packages/AdvancedHMC/iWHPQ/src/hamiltonian.jl:47\n",
      "\u001b[32mSampling:  78%|████████████████████████████████         |  ETA: 0:00:17\u001b[39m┌ Warning: The current proposal will be rejected due to numerical error(s).\n",
      "│   isfinite.((θ, r, ℓπ, ℓκ)) = (true, false, false, false)\n",
      "└ @ AdvancedHMC /home/jaime/.julia/packages/AdvancedHMC/iWHPQ/src/hamiltonian.jl:47\n",
      "\u001b[32mSampling:  80%|████████████████████████████████▊        |  ETA: 0:00:16\u001b[39m┌ Warning: The current proposal will be rejected due to numerical error(s).\n",
      "│   isfinite.((θ, r, ℓπ, ℓκ)) = (true, false, false, false)\n",
      "└ @ AdvancedHMC /home/jaime/.julia/packages/AdvancedHMC/iWHPQ/src/hamiltonian.jl:47\n",
      "\u001b[32mSampling:  82%|█████████████████████████████████▌       |  ETA: 0:00:14\u001b[39m┌ Warning: The current proposal will be rejected due to numerical error(s).\n",
      "│   isfinite.((θ, r, ℓπ, ℓκ)) = (true, false, false, false)\n",
      "└ @ AdvancedHMC /home/jaime/.julia/packages/AdvancedHMC/iWHPQ/src/hamiltonian.jl:47\n",
      "\u001b[32mSampling:  84%|██████████████████████████████████▎      |  ETA: 0:00:13\u001b[39m┌ Warning: The current proposal will be rejected due to numerical error(s).\n",
      "│   isfinite.((θ, r, ℓπ, ℓκ)) = (true, false, false, false)\n",
      "└ @ AdvancedHMC /home/jaime/.julia/packages/AdvancedHMC/iWHPQ/src/hamiltonian.jl:47\n",
      "\u001b[32mSampling:  85%|███████████████████████████████████      |  ETA: 0:00:11\u001b[39m┌ Warning: The current proposal will be rejected due to numerical error(s).\n",
      "│   isfinite.((θ, r, ℓπ, ℓκ)) = (true, false, false, false)\n",
      "└ @ AdvancedHMC /home/jaime/.julia/packages/AdvancedHMC/iWHPQ/src/hamiltonian.jl:47\n",
      "\u001b[32mSampling:  87%|███████████████████████████████████▊     |  ETA: 0:00:10\u001b[39m┌ Warning: The current proposal will be rejected due to numerical error(s).\n",
      "│   isfinite.((θ, r, ℓπ, ℓκ)) = (true, false, false, false)\n",
      "└ @ AdvancedHMC /home/jaime/.julia/packages/AdvancedHMC/iWHPQ/src/hamiltonian.jl:47\n",
      "\u001b[32mSampling:  89%|████████████████████████████████████▌    |  ETA: 0:00:09\u001b[39m┌ Warning: The current proposal will be rejected due to numerical error(s).\n",
      "│   isfinite.((θ, r, ℓπ, ℓκ)) = (true, false, false, false)\n",
      "└ @ AdvancedHMC /home/jaime/.julia/packages/AdvancedHMC/iWHPQ/src/hamiltonian.jl:47\n",
      "\u001b[32mSampling:  91%|█████████████████████████████████████▎   |  ETA: 0:00:07\u001b[39m┌ Warning: The current proposal will be rejected due to numerical error(s).\n",
      "│   isfinite.((θ, r, ℓπ, ℓκ)) = (true, false, false, false)\n",
      "└ @ AdvancedHMC /home/jaime/.julia/packages/AdvancedHMC/iWHPQ/src/hamiltonian.jl:47\n",
      "\u001b[32mSampling:  93%|██████████████████████████████████████   |  ETA: 0:00:06\u001b[39m┌ Warning: The current proposal will be rejected due to numerical error(s).\n",
      "│   isfinite.((θ, r, ℓπ, ℓκ)) = (true, false, false, false)\n",
      "└ @ AdvancedHMC /home/jaime/.julia/packages/AdvancedHMC/iWHPQ/src/hamiltonian.jl:47\n",
      "\u001b[32mSampling:  94%|██████████████████████████████████████▊  |  ETA: 0:00:04\u001b[39m┌ Warning: The current proposal will be rejected due to numerical error(s).\n",
      "│   isfinite.((θ, r, ℓπ, ℓκ)) = (true, false, false, false)\n",
      "└ @ AdvancedHMC /home/jaime/.julia/packages/AdvancedHMC/iWHPQ/src/hamiltonian.jl:47\n",
      "\u001b[32mSampling:  96%|███████████████████████████████████████▌ |  ETA: 0:00:03\u001b[39m┌ Warning: The current proposal will be rejected due to numerical error(s).\n",
      "│   isfinite.((θ, r, ℓπ, ℓκ)) = (true, false, false, false)\n",
      "└ @ AdvancedHMC /home/jaime/.julia/packages/AdvancedHMC/iWHPQ/src/hamiltonian.jl:47\n",
      "\u001b[32mSampling:  98%|████████████████████████████████████████▎|  ETA: 0:00:01\u001b[39m┌ Warning: The current proposal will be rejected due to numerical error(s).\n",
      "│   isfinite.((θ, r, ℓπ, ℓκ)) = (true, false, false, false)\n",
      "└ @ AdvancedHMC /home/jaime/.julia/packages/AdvancedHMC/iWHPQ/src/hamiltonian.jl:47\n",
      "\u001b[32mSampling: 100%|█████████████████████████████████████████| Time: 0:01:17\u001b[39m\n"
     ]
    }
   ],
   "source": [
    "chain3 = sample(model(data_vector), NUTS(5, 0.1; init_ϵ=0.03), iterations,\n",
    "                progress=true; save_state=true);"
   ]
  },
  {
   "cell_type": "code",
   "execution_count": 40,
   "id": "63696385",
   "metadata": {},
   "outputs": [
    {
     "ename": "LoadError",
     "evalue": "UndefVarError: nadapts not defined",
     "output_type": "error",
     "traceback": [
      "UndefVarError: nadapts not defined",
      "",
      "Stacktrace:",
      " [1] top-level scope",
      "   @ In[40]:1",
      " [2] eval",
      "   @ ./boot.jl:373 [inlined]",
      " [3] include_string(mapexpr::typeof(REPL.softscope), mod::Module, code::String, filename::String)",
      "   @ Base ./loading.jl:1196"
     ]
    }
   ],
   "source": [
    "chain1 = sample(model(data_vector), MH(), iterations,\n",
    "            nadapt=nadapts, progress=true; save_state=true);"
   ]
  },
  {
   "cell_type": "code",
   "execution_count": null,
   "id": "cad059d3",
   "metadata": {},
   "outputs": [],
   "source": []
  }
 ],
 "metadata": {
  "kernelspec": {
   "display_name": "Julia 1.7.0",
   "language": "julia",
   "name": "julia-1.7"
  },
  "language_info": {
   "file_extension": ".jl",
   "mimetype": "application/julia",
   "name": "julia",
   "version": "1.7.0"
  }
 },
 "nbformat": 4,
 "nbformat_minor": 5
}
