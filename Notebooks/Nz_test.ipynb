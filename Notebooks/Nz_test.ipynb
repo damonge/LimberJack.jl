{
 "cells": [
  {
   "cell_type": "code",
   "execution_count": 1,
   "id": "02df9ee7",
   "metadata": {},
   "outputs": [
    {
     "data": {
      "text/plain": [
       "\u001b[0m\u001b[1mPython module: \u001b[22m<module 'numpy' from '/home/jaime/.julia/environments/v1.7/.CondaPkg/env/lib/python3.10/site-packages/numpy/__init__.py'>"
      ]
     },
     "execution_count": 1,
     "metadata": {},
     "output_type": "execute_result"
    }
   ],
   "source": [
    "using Turing\n",
    "using LimberJack\n",
    "using CSV\n",
    "using NPZ\n",
    "using FITSIO\n",
    "using LinearAlgebra\n",
    "using PythonCall\n",
    "using ForwardDiff\n",
    "np = pyimport(\"numpy\")"
   ]
  },
  {
   "cell_type": "code",
   "execution_count": 2,
   "id": "566e89de",
   "metadata": {},
   "outputs": [
    {
     "data": {
      "text/plain": [
       "(Float32[0.06, 0.099999994, 0.14, 0.18, 0.22, 0.26, 0.3, 0.34, 0.38, 0.42000002  …  1.26, 1.3, 1.34, 1.38, 1.4200001, 1.46, 1.5, 1.54, 1.5799999, 1.62], [4.629577847407024, 29.132412608452444, 21.765409190156518, 20.62146040771289, 49.575919814294636, 19.756458131549834, 28.671379304807797, 16.733425194984918, 36.12801036345403, 15.65029828338953  …  159.1343087971742, 45.68244851651424, 57.13816009303667, 74.52981085428384, 67.0412204252083, 69.0824797219035, 38.605059715930935, 18.387277685421846, 18.004397396845302, 19.840074411368867], [34.72926020369569 -0.3508402184688245 … -0.0035034826825542913 0.025896520365390033; -0.3508402184688245 527.8777602661406 … -0.09997382746286836 -0.09250459543441937; … ; -0.0035034826825542913 -0.09997382746286836 … 94.73249576839464 0.09124693778804871; 0.025896520365390033 -0.09250459543441937 … 0.09124693778804871 106.16024698844336])"
      ]
     },
     "execution_count": 2,
     "metadata": {},
     "output_type": "execute_result"
    }
   ],
   "source": [
    "#println(\"My id is \", myid(), \" and I have \", Threads.nthreads(), \" threads\")\n",
    "\n",
    "fol = \"DESY1\"\n",
    "data_set = \"wlwl_Nzs\"\n",
    "meta = np.load(string(\"../data/\", fol, \"/\", data_set, \"_meta.npz\"))\n",
    "files = npzread(string(\"../data/\", fol, \"/\", data_set, \"_files.npz\"))\n",
    "\n",
    "tracers_names = pyconvert(Vector{String}, meta[\"tracers\"])\n",
    "pairs = pyconvert(Vector{Vector{String}}, meta[\"pairs\"]);\n",
    "idx = pyconvert(Vector{Int}, meta[\"idx\"])\n",
    "data_vector = pyconvert(Vector{Float64}, meta[\"cls\"])\n",
    "cov_tot = pyconvert(Matrix{Float64}, meta[\"cov\"])\n",
    "inv_cov_tot = pyconvert(Matrix{Float64}, meta[\"inv_cov\"])\n",
    "\n",
    "nz_path = \"../data/DESY1/Nzs/\"\n",
    "zs_k0, nz_k0, cov_k0 = get_nzs(nz_path, \"DESwl__0_e\")\n",
    "zs_k1, nz_k1, cov_k1 = get_nzs(nz_path, \"DESwl__1_e\")\n",
    "zs_k2, nz_k2, cov_k2 = get_nzs(nz_path, \"DESwl__2_e\")\n",
    "zs_k3, nz_k3, cov_k3 = get_nzs(nz_path, \"DESwl__3_e\")"
   ]
  },
  {
   "cell_type": "markdown",
   "id": "f9417557",
   "metadata": {
    "heading_collapsed": true
   },
   "source": [
    "## T-Matrices"
   ]
  },
  {
   "cell_type": "code",
   "execution_count": 50,
   "id": "9970eb41",
   "metadata": {
    "hidden": true
   },
   "outputs": [],
   "source": [
    "function model_cov0(x;\n",
    "               tracers_names=tracers_names,\n",
    "               pairs=pairs,\n",
    "               idx=idx,\n",
    "               cov_tot=cov_tot, \n",
    "               files=files) \n",
    "\n",
    "    cosmology = Cosmology()\n",
    "    cosmology.settings.cosmo_type = Real\n",
    "    nuisances = Dict(\"A_IA\" => 0,\n",
    "                     \"alpha_IA\" => 0,\n",
    "\n",
    "                     \"DESwl__0_e_nz\" => x,\n",
    "                     \"DESwl__1_e_nz\" => nz_k1,\n",
    "                     \"DESwl__2_e_nz\" => nz_k2,\n",
    "                     \"DESwl__3_e_nz\" => nz_k3,\n",
    "        \n",
    "                     \"DESwl__0_e_m\" => 0.012,\n",
    "                     \"DESwl__1_e_m\" => 0.012,\n",
    "                     \"DESwl__2_e_m\" => 0.012,\n",
    "                     \"DESwl__3_e_m\" => 0.012)\n",
    "    \n",
    "    return Theory(cosmology, tracers_names, pairs,\n",
    "                  idx, files; Nuisances=nuisances)\n",
    "end;\n",
    "\n",
    "function model_cov1(x;\n",
    "               tracers_names=tracers_names,\n",
    "               pairs=pairs,\n",
    "               idx=idx,\n",
    "               cov_tot=cov_tot, \n",
    "               files=files) \n",
    "\n",
    "    cosmology = Cosmology()\n",
    "    cosmology.settings.cosmo_type = Real\n",
    "    nuisances = Dict(\"A_IA\" => 0,\n",
    "                     \"alpha_IA\" => 0,\n",
    "\n",
    "                     \"DESwl__0_e_nz\" => nz_k0,\n",
    "                     \"DESwl__1_e_nz\" => x,\n",
    "                     \"DESwl__2_e_nz\" => nz_k2,\n",
    "                     \"DESwl__3_e_nz\" => nz_k3,\n",
    "        \n",
    "                     \"DESwl__0_e_m\" => 0.012,\n",
    "                     \"DESwl__1_e_m\" => 0.012,\n",
    "                     \"DESwl__2_e_m\" => 0.012,\n",
    "                     \"DESwl__3_e_m\" => 0.012)\n",
    "    \n",
    "    return Theory(cosmology, tracers_names, pairs,\n",
    "                  idx, files; Nuisances=nuisances)\n",
    "end;\n",
    "\n",
    "function model_cov2(x;\n",
    "               tracers_names=tracers_names,\n",
    "               pairs=pairs,\n",
    "               idx=idx,\n",
    "               cov_tot=cov_tot, \n",
    "               files=files) \n",
    "\n",
    "    cosmology = Cosmology()\n",
    "    cosmology.settings.cosmo_type = Real\n",
    "    nuisances = Dict(\"A_IA\" => 0,\n",
    "                     \"alpha_IA\" => 0,\n",
    "\n",
    "                     \"DESwl__0_e_nz\" => nz_k0,\n",
    "                     \"DESwl__1_e_nz\" => nz_k1,\n",
    "                     \"DESwl__2_e_nz\" => x,\n",
    "                     \"DESwl__3_e_nz\" => nz_k3,\n",
    "        \n",
    "                     \"DESwl__0_e_m\" => 0.012,\n",
    "                     \"DESwl__1_e_m\" => 0.012,\n",
    "                     \"DESwl__2_e_m\" => 0.012,\n",
    "                     \"DESwl__3_e_m\" => 0.012)\n",
    "    \n",
    "    return Theory(cosmology, tracers_names, pairs,\n",
    "                  idx, files; Nuisances=nuisances)\n",
    "end;\n",
    "\n",
    "function model_cov3(x;\n",
    "               tracers_names=tracers_names,\n",
    "               pairs=pairs,\n",
    "               idx=idx,\n",
    "               cov_tot=cov_tot, \n",
    "               files=files) \n",
    "\n",
    "    cosmology = Cosmology()\n",
    "    cosmology.settings.cosmo_type = Real\n",
    "    nuisances = Dict(\"A_IA\" => 0,\n",
    "                     \"alpha_IA\" => 0,\n",
    "\n",
    "                     \"DESwl__0_e_nz\" => nz_k0,\n",
    "                     \"DESwl__1_e_nz\" => nz_k1,\n",
    "                     \"DESwl__2_e_nz\" => nz_k2,\n",
    "                     \"DESwl__3_e_nz\" => x,\n",
    "        \n",
    "                     \"DESwl__0_e_m\" => 0.012,\n",
    "                     \"DESwl__1_e_m\" => 0.012,\n",
    "                     \"DESwl__2_e_m\" => 0.012,\n",
    "                     \"DESwl__3_e_m\" => 0.012)\n",
    "    \n",
    "    return Theory(cosmology, tracers_names, pairs,\n",
    "                  idx, files; Nuisances=nuisances)\n",
    "end;"
   ]
  },
  {
   "cell_type": "code",
   "execution_count": 51,
   "id": "bba276a5",
   "metadata": {
    "hidden": true
   },
   "outputs": [],
   "source": [
    "d = 0.0005\n",
    "m  = length(nz_k0)\n",
    "T0_num = zeros(240, m)\n",
    "T1_num = zeros(240, m)\n",
    "T2_num = zeros(240, m)\n",
    "T3_num = zeros(240, m)\n",
    "\n",
    "for i in 1:m\n",
    "    e = zeros(m)\n",
    "    e[i] = d\n",
    "    T0_num[:, i] = (model_cov0(nz_k0+e) .- model_cov0(nz_k0)) ./ d\n",
    "    T1_num[:, i] = (model_cov1(nz_k1+e) .- model_cov1(nz_k1)) ./ d\n",
    "    T2_num[:, i] = (model_cov2(nz_k2+e) .- model_cov2(nz_k2)) ./ d\n",
    "    T3_num[:, i] = (model_cov3(nz_k3+e) .- model_cov3(nz_k3)) ./ d\n",
    "end"
   ]
  },
  {
   "cell_type": "code",
   "execution_count": 52,
   "id": "49f4880e",
   "metadata": {
    "hidden": true
   },
   "outputs": [],
   "source": [
    "T0 = ForwardDiff.jacobian(model_cov0, nz_k0);"
   ]
  },
  {
   "cell_type": "code",
   "execution_count": 53,
   "id": "85d37a74",
   "metadata": {
    "hidden": true
   },
   "outputs": [],
   "source": [
    "T1 = ForwardDiff.jacobian(model_cov1, nz_k1);"
   ]
  },
  {
   "cell_type": "code",
   "execution_count": 54,
   "id": "14bbb714",
   "metadata": {
    "hidden": true
   },
   "outputs": [],
   "source": [
    "T2 = ForwardDiff.jacobian(model_cov2, nz_k2);"
   ]
  },
  {
   "cell_type": "code",
   "execution_count": 55,
   "id": "4f410a2d",
   "metadata": {
    "hidden": true
   },
   "outputs": [],
   "source": [
    "T3 = ForwardDiff.jacobian(model_cov3, nz_k3);"
   ]
  },
  {
   "cell_type": "code",
   "execution_count": 56,
   "id": "b1d1064b",
   "metadata": {
    "hidden": true
   },
   "outputs": [
    {
     "data": {
      "text/plain": [
       "240×40 Matrix{Float64}:\n",
       "   6.42392e-8    1.1654e-7     1.16502e-7  …   -2.4885e-7    -1.26346e-7\n",
       "   5.29337e-8    1.07602e-7    1.11495e-7      -3.34512e-7   -1.6867e-7\n",
       "   7.48365e-8    1.22981e-7    1.19983e-7      -4.13471e-7   -2.19309e-7\n",
       "   5.92982e-8    1.16507e-7    1.19524e-7      -4.68466e-7   -2.40713e-7\n",
       "   5.80384e-8    1.14871e-7    1.14127e-7      -5.12388e-7   -2.64956e-7\n",
       "   4.67663e-8    1.05924e-7    1.10863e-7  …   -5.48032e-7   -2.81462e-7\n",
       "   6.07951e-8    1.15953e-7    1.13501e-7      -5.78323e-7   -3.02097e-7\n",
       "   5.65562e-8    1.12041e-7    1.14576e-7      -6.05134e-7   -3.10299e-7\n",
       "   5.31144e-8    1.15231e-7    1.216e-7        -6.28487e-7   -3.21213e-7\n",
       "   6.15344e-8    1.19953e-7    1.19974e-7      -6.56427e-7   -3.39243e-7\n",
       "   6.63751e-8    1.16379e-7    1.12862e-7  …   -6.79252e-7   -3.54508e-7\n",
       "   5.93376e-8    1.16329e-7    1.16158e-7      -6.97903e-7   -3.62165e-7\n",
       "   7.12854e-8    1.17786e-7    1.189e-7        -7.22368e-7   -3.74604e-7\n",
       "   ⋮                                       ⋱                \n",
       " NaN           NaN           NaN              NaN           NaN\n",
       " NaN           NaN           NaN              NaN           NaN\n",
       " NaN           NaN           NaN           …  NaN           NaN\n",
       " NaN           NaN           NaN              NaN           NaN\n",
       " NaN           NaN           NaN              NaN           NaN\n",
       " NaN           NaN           NaN              NaN           NaN\n",
       " NaN           NaN           NaN              NaN           NaN\n",
       " NaN           NaN           NaN           …  NaN           NaN\n",
       " NaN           NaN           NaN              NaN           NaN\n",
       " NaN           NaN           NaN              NaN           NaN\n",
       " NaN           NaN           NaN              NaN           NaN\n",
       " NaN           NaN           NaN              NaN           NaN"
      ]
     },
     "execution_count": 56,
     "metadata": {},
     "output_type": "execute_result"
    }
   ],
   "source": [
    "(T0.-T0_num) ./ T0_num"
   ]
  },
  {
   "cell_type": "code",
   "execution_count": 57,
   "id": "151199af",
   "metadata": {
    "hidden": true
   },
   "outputs": [],
   "source": [
    "TT0 = T0 * Diagonal(cov_k0) * T0'\n",
    "TT1 = T1 * Diagonal(cov_k1) * T1'\n",
    "TT2 = T2 * Diagonal(cov_k2) * T2'\n",
    "TT3 = T3 * Diagonal(cov_k3) * T3';\n",
    "\n",
    "TT0_num = T0_num * Diagonal(cov_k0) * T0_num'\n",
    "TT1_num = T1_num * Diagonal(cov_k1) * T1_num'\n",
    "TT2_num = T2_num * Diagonal(cov_k2) * T2_num'\n",
    "TT3_num = T3_num * Diagonal(cov_k3) * T3_num';"
   ]
  },
  {
   "cell_type": "code",
   "execution_count": 58,
   "id": "c426d0e7",
   "metadata": {
    "hidden": true
   },
   "outputs": [
    {
     "data": {
      "text/plain": [
       "240×240 Symmetric{Float64, Matrix{Float64}}:\n",
       " 5.41974e-20  2.60871e-20  1.48307e-20  …  0.0  0.0  0.0  0.0  0.0  0.0  0.0\n",
       " 2.60871e-20  1.2582e-20   7.16078e-21     0.0  0.0  0.0  0.0  0.0  0.0  0.0\n",
       " 1.48307e-20  7.16078e-21  4.07784e-21     0.0  0.0  0.0  0.0  0.0  0.0  0.0\n",
       " 9.37415e-21  4.52931e-21  2.58027e-21     0.0  0.0  0.0  0.0  0.0  0.0  0.0\n",
       " 6.37356e-21  3.08101e-21  1.75566e-21     0.0  0.0  0.0  0.0  0.0  0.0  0.0\n",
       " 4.56796e-21  2.20897e-21  1.259e-21    …  0.0  0.0  0.0  0.0  0.0  0.0  0.0\n",
       " 3.40674e-21  1.64791e-21  9.39367e-22     0.0  0.0  0.0  0.0  0.0  0.0  0.0\n",
       " 2.59953e-21  1.25775e-21  7.17055e-22     0.0  0.0  0.0  0.0  0.0  0.0  0.0\n",
       " 1.98467e-21  9.60467e-22  5.47639e-22     0.0  0.0  0.0  0.0  0.0  0.0  0.0\n",
       " 1.50502e-21  7.28494e-22  4.15419e-22     0.0  0.0  0.0  0.0  0.0  0.0  0.0\n",
       " 1.13869e-21  5.51282e-22  3.14398e-22  …  0.0  0.0  0.0  0.0  0.0  0.0  0.0\n",
       " 8.5785e-22   4.15392e-22  2.36924e-22     0.0  0.0  0.0  0.0  0.0  0.0  0.0\n",
       " 6.43431e-22  3.11618e-22  1.77751e-22     0.0  0.0  0.0  0.0  0.0  0.0  0.0\n",
       " ⋮                                      ⋱            ⋮                   \n",
       " 0.0          0.0          0.0             0.0  0.0  0.0  0.0  0.0  0.0  0.0\n",
       " 0.0          0.0          0.0             0.0  0.0  0.0  0.0  0.0  0.0  0.0\n",
       " 0.0          0.0          0.0          …  0.0  0.0  0.0  0.0  0.0  0.0  0.0\n",
       " 0.0          0.0          0.0             0.0  0.0  0.0  0.0  0.0  0.0  0.0\n",
       " 0.0          0.0          0.0             0.0  0.0  0.0  0.0  0.0  0.0  0.0\n",
       " 0.0          0.0          0.0             0.0  0.0  0.0  0.0  0.0  0.0  0.0\n",
       " 0.0          0.0          0.0             0.0  0.0  0.0  0.0  0.0  0.0  0.0\n",
       " 0.0          0.0          0.0          …  0.0  0.0  0.0  0.0  0.0  0.0  0.0\n",
       " 0.0          0.0          0.0             0.0  0.0  0.0  0.0  0.0  0.0  0.0\n",
       " 0.0          0.0          0.0             0.0  0.0  0.0  0.0  0.0  0.0  0.0\n",
       " 0.0          0.0          0.0             0.0  0.0  0.0  0.0  0.0  0.0  0.0\n",
       " 0.0          0.0          0.0             0.0  0.0  0.0  0.0  0.0  0.0  0.0"
      ]
     },
     "execution_count": 58,
     "metadata": {},
     "output_type": "execute_result"
    }
   ],
   "source": [
    "Symmetric(TT0_num)"
   ]
  },
  {
   "cell_type": "code",
   "execution_count": 59,
   "id": "1046d93e",
   "metadata": {
    "hidden": true
   },
   "outputs": [
    {
     "data": {
      "text/plain": [
       "false"
      ]
     },
     "execution_count": 59,
     "metadata": {},
     "output_type": "execute_result"
    }
   ],
   "source": [
    "ishermitian(TT0)"
   ]
  },
  {
   "cell_type": "code",
   "execution_count": 60,
   "id": "3e4eea60",
   "metadata": {
    "hidden": true
   },
   "outputs": [
    {
     "data": {
      "text/plain": [
       "false"
      ]
     },
     "execution_count": 60,
     "metadata": {},
     "output_type": "execute_result"
    }
   ],
   "source": [
    "issymmetric(TT0)"
   ]
  },
  {
   "cell_type": "code",
   "execution_count": 61,
   "id": "382ad194",
   "metadata": {
    "hidden": true
   },
   "outputs": [
    {
     "data": {
      "text/plain": [
       "false"
      ]
     },
     "execution_count": 61,
     "metadata": {},
     "output_type": "execute_result"
    }
   ],
   "source": [
    "isposdef(Hermitian(TT0_num))"
   ]
  },
  {
   "cell_type": "code",
   "execution_count": 62,
   "id": "40a7e2a7",
   "metadata": {
    "hidden": true
   },
   "outputs": [
    {
     "data": {
      "text/plain": [
       "240×240 Matrix{Float64}:\n",
       "   0.0            0.0            0.0  …  NaN  NaN  NaN  NaN  NaN  NaN  NaN\n",
       "   0.0            0.0            0.0     NaN  NaN  NaN  NaN  NaN  NaN  NaN\n",
       "   0.0            0.0            0.0     NaN  NaN  NaN  NaN  NaN  NaN  NaN\n",
       "  -1.60509e-16    0.0            0.0     NaN  NaN  NaN  NaN  NaN  NaN  NaN\n",
       "   0.0            0.0            0.0     NaN  NaN  NaN  NaN  NaN  NaN  NaN\n",
       "  -1.64694e-16    0.0            0.0  …  NaN  NaN  NaN  NaN  NaN  NaN  NaN\n",
       "   0.0            0.0            0.0     NaN  NaN  NaN  NaN  NaN  NaN  NaN\n",
       "   0.0            0.0            0.0     NaN  NaN  NaN  NaN  NaN  NaN  NaN\n",
       "  -1.89532e-16    0.0            0.0     NaN  NaN  NaN  NaN  NaN  NaN  NaN\n",
       "   0.0            0.0            0.0     NaN  NaN  NaN  NaN  NaN  NaN  NaN\n",
       "   0.0            1.70583e-16    0.0  …  NaN  NaN  NaN  NaN  NaN  NaN  NaN\n",
       "   0.0            0.0            0.0     NaN  NaN  NaN  NaN  NaN  NaN  NaN\n",
       "   0.0            0.0            0.0     NaN  NaN  NaN  NaN  NaN  NaN  NaN\n",
       "   ⋮                                  ⋱              ⋮                 \n",
       " NaN            NaN            NaN       NaN  NaN  NaN  NaN  NaN  NaN  NaN\n",
       " NaN            NaN            NaN       NaN  NaN  NaN  NaN  NaN  NaN  NaN\n",
       " NaN            NaN            NaN    …  NaN  NaN  NaN  NaN  NaN  NaN  NaN\n",
       " NaN            NaN            NaN       NaN  NaN  NaN  NaN  NaN  NaN  NaN\n",
       " NaN            NaN            NaN       NaN  NaN  NaN  NaN  NaN  NaN  NaN\n",
       " NaN            NaN            NaN       NaN  NaN  NaN  NaN  NaN  NaN  NaN\n",
       " NaN            NaN            NaN       NaN  NaN  NaN  NaN  NaN  NaN  NaN\n",
       " NaN            NaN            NaN    …  NaN  NaN  NaN  NaN  NaN  NaN  NaN\n",
       " NaN            NaN            NaN       NaN  NaN  NaN  NaN  NaN  NaN  NaN\n",
       " NaN            NaN            NaN       NaN  NaN  NaN  NaN  NaN  NaN  NaN\n",
       " NaN            NaN            NaN       NaN  NaN  NaN  NaN  NaN  NaN  NaN\n",
       " NaN            NaN            NaN       NaN  NaN  NaN  NaN  NaN  NaN  NaN"
      ]
     },
     "execution_count": 62,
     "metadata": {},
     "output_type": "execute_result"
    }
   ],
   "source": [
    "(Hermitian(TT0_num) - TT0_num) ./ TT0_num"
   ]
  },
  {
   "cell_type": "markdown",
   "id": "bd9a3cbc",
   "metadata": {},
   "source": [
    "## Likelihood"
   ]
  },
  {
   "cell_type": "code",
   "execution_count": 3,
   "id": "81420c51",
   "metadata": {},
   "outputs": [],
   "source": [
    "pars = [4.426868e-02,     2.093138e-01,     8.963611e-01,     8.495440e-01,\n",
    "         1.343888e+00,    1.639047e+00,      1.597174e+00,     1.944583e+00,     2.007245e+00,\n",
    "        -4.679383e-03,   -2.839996e-03,      1.771571e-03,     1.197051e-03,    -5.199799e-03,\n",
    "         2.389208e-01,   -6.435288e-01, \n",
    "         1.802722e-03,   -5.508994e-03,     1.952514e-02,    -1.117726e-03,\n",
    "        -1.744083e-02,    6.777779e-03,    -1.097939e-03,    -4.912315e-03,\n",
    "         8.536883e-01,    2.535825e-01];"
   ]
  },
  {
   "cell_type": "code",
   "execution_count": 4,
   "id": "fab6ac2a",
   "metadata": {},
   "outputs": [],
   "source": [
    "function get_cls(Ωm, s8;\n",
    "               tracers_names=tracers_names,\n",
    "               pairs=pairs,\n",
    "               idx=idx,\n",
    "               cov_tot=cov_tot, \n",
    "               files=files) \n",
    "\n",
    "    Ωb = pars[1]\n",
    "    h = pars[4]\n",
    "    ns = pars[3]\n",
    "\n",
    "    cosmology = LimberJack.Cosmology(Ωm, Ωb, h, ns, s8, \n",
    "                                     tk_mode=\"EisHu\",\n",
    "                                     Pk_mode=\"Halofit\")\n",
    "    nuisances = Dict(\"A_IA\" => 0,\n",
    "                     \"alpha_IA\" => 0,\n",
    "\n",
    "                     \"DESwl__0_e_nz\" => nz_k0,\n",
    "                     \"DESwl__1_e_nz\" => nz_k1,\n",
    "                     \"DESwl__2_e_nz\" => nz_k2,\n",
    "                     \"DESwl__3_e_nz\" => nz_k3,\n",
    "        \n",
    "                     \"DESwl__0_e_m\" => 0.012,\n",
    "                     \"DESwl__1_e_m\" => 0.012,\n",
    "                     \"DESwl__2_e_m\" => 0.012,\n",
    "                     \"DESwl__3_e_m\" => 0.012)\n",
    "    \n",
    "    return Theory(cosmology, tracers_names, pairs,\n",
    "                  idx, files; Nuisances=nuisances)\n",
    "end;\n"
   ]
  },
  {
   "cell_type": "code",
   "execution_count": 5,
   "id": "ee4456fb",
   "metadata": {},
   "outputs": [
    {
     "data": {
      "text/plain": [
       "get_Xi2 (generic function with 1 method)"
      ]
     },
     "execution_count": 5,
     "metadata": {},
     "output_type": "execute_result"
    }
   ],
   "source": [
    "function get_Xi2(Ωm, s8;\n",
    "                 data_vector=data_vector,\n",
    "                 inv_cov=inv_cov_tot)\n",
    "\n",
    "        nuisances = Dict(\"A_IA\" => 0,\n",
    "                     \"alpha_IA\" => 0,\n",
    "\n",
    "                     \"DESwl__0_e_nz\" => nz_k0,\n",
    "                     \"DESwl__1_e_nz\" => nz_k1,\n",
    "                     \"DESwl__2_e_nz\" => nz_k2,\n",
    "                     \"DESwl__3_e_nz\" => nz_k3,\n",
    "        \n",
    "                     \"DESwl__0_e_m\" => 0.012,\n",
    "                     \"DESwl__1_e_m\" => 0.012,\n",
    "                     \"DESwl__2_e_m\" => 0.012,\n",
    "                     \"DESwl__3_e_m\" => 0.012)\n",
    "    \n",
    "\n",
    "    Ωb = pars[1]\n",
    "    h = pars[5]\n",
    "    ns = pars[4]\n",
    "    \n",
    "    cosmology = LimberJack.Cosmology(Ωm, Ωb, h, ns, s8, \n",
    "                                     tk_mode=\"EisHu\",\n",
    "                                     Pk_mode=\"Halofit\")\n",
    "    \n",
    "    theory = Theory(cosmology, tracers_names, pairs,\n",
    "                    idx, files; Nuisances=nuisances)\n",
    "    \n",
    "    diff = @.(theory-data_vector)\n",
    "    return dot(diff, inv_cov * diff)\n",
    "\n",
    "end"
   ]
  },
  {
   "cell_type": "code",
   "execution_count": 6,
   "id": "034339fb",
   "metadata": {},
   "outputs": [
    {
     "data": {
      "text/plain": [
       "10-element LinRange{Float64, Int64}:\n",
       " 0.6,0.633333,0.666667,0.7,0.733333,0.766667,0.8,0.833333,0.866667,0.9"
      ]
     },
     "execution_count": 6,
     "metadata": {},
     "output_type": "execute_result"
    }
   ],
   "source": [
    "Ωms = LinRange(0.2, 0.6, 10)\n",
    "s8s = LinRange(0.6, 0.9, 10)"
   ]
  },
  {
   "cell_type": "code",
   "execution_count": 7,
   "id": "df445f88",
   "metadata": {},
   "outputs": [
    {
     "data": {
      "text/plain": [
       "255.52773157235953"
      ]
     },
     "execution_count": 7,
     "metadata": {},
     "output_type": "execute_result"
    }
   ],
   "source": [
    "get_Xi2(pars[26], pars[25])"
   ]
  },
  {
   "cell_type": "code",
   "execution_count": 44,
   "id": "b4f016a1",
   "metadata": {},
   "outputs": [
    {
     "ename": "LoadError",
     "evalue": "UndefVarError: Ωms not defined",
     "output_type": "error",
     "traceback": [
      "UndefVarError: Ωms not defined",
      "",
      "Stacktrace:",
      " [1] top-level scope",
      "   @ In[44]:1",
      " [2] eval",
      "   @ ./boot.jl:373 [inlined]",
      " [3] include_string(mapexpr::typeof(REPL.softscope), mod::Module, code::String, filename::String)",
      "   @ Base ./loading.jl:1196"
     ]
    }
   ],
   "source": [
    "Xi2s_emul = zeros(length(Ωms), length(s8s))\n",
    "Xi2s_EisHu = zeros(length(Ωms), length(s8s))\n",
    "for i in 1:length(Ωms)\n",
    "    for j in 1:length(s8s)\n",
    "        Xi2s_emul[i, j] = get_Xi2(Ωms[i], s8s[j]; tk_mode=\"emulator\")\n",
    "        Xi2s_EisHu[i, j] = get_Xi2(Ωms[i], s8s[j]; tk_mode=\"EisHu\")\n",
    "    end\n",
    "end"
   ]
  },
  {
   "cell_type": "code",
   "execution_count": 8,
   "id": "610e4cbd",
   "metadata": {},
   "outputs": [],
   "source": [
    "n_samples = 100\n",
    "cls = zeros(240, n_samples)\n",
    "for i in 1:n_samples\n",
    "    Ωm = rand(Uniform(0.2, 0.6))\n",
    "    s8 = rand(Uniform(0.6, 0.9))\n",
    "    cls[:, i] = get_cls(Ωm, s8)\n",
    "end"
   ]
  },
  {
   "cell_type": "code",
   "execution_count": 9,
   "id": "200993fd",
   "metadata": {},
   "outputs": [],
   "source": [
    "npzwrite(\"Nz_cls.npz\", Dict(\"cls\" => cls))"
   ]
  },
  {
   "cell_type": "markdown",
   "id": "8539eb67",
   "metadata": {},
   "source": [
    "## Turing"
   ]
  },
  {
   "cell_type": "code",
   "execution_count": 46,
   "id": "94e20915",
   "metadata": {},
   "outputs": [
    {
     "ename": "LoadError",
     "evalue": "UndefVarError: fake_data not defined",
     "output_type": "error",
     "traceback": [
      "UndefVarError: fake_data not defined",
      "",
      "Stacktrace:",
      " [1] top-level scope",
      "   @ In[46]:1",
      " [2] eval",
      "   @ ./boot.jl:373 [inlined]",
      " [3] include_string(mapexpr::typeof(REPL.softscope), mod::Module, code::String, filename::String)",
      "   @ Base ./loading.jl:1196"
     ]
    }
   ],
   "source": [
    "chain = sample(model(fake_data), NUTS(adaptation, TAP, ),\n",
    "               MCMCDistributed(), iterations, nchains, progress=true; save_state=true)"
   ]
  },
  {
   "cell_type": "code",
   "execution_count": null,
   "id": "9f5af9c6",
   "metadata": {},
   "outputs": [],
   "source": []
  }
 ],
 "metadata": {
  "kernelspec": {
   "display_name": "Julia 4 Threads 1.7.0",
   "language": "julia",
   "name": "julia-4-threads-1.7"
  },
  "language_info": {
   "file_extension": ".jl",
   "mimetype": "application/julia",
   "name": "julia",
   "version": "1.7.0"
  }
 },
 "nbformat": 4,
 "nbformat_minor": 5
}
