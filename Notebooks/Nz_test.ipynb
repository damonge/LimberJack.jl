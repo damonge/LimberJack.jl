{
 "cells": [
  {
   "cell_type": "code",
   "execution_count": 1,
   "id": "02df9ee7",
   "metadata": {},
   "outputs": [
    {
     "data": {
      "text/plain": [
       "\u001b[0m\u001b[1mPython module: \u001b[22m<module 'numpy' from '/home/jaime/.julia/environments/v1.7/.CondaPkg/env/lib/python3.10/site-packages/numpy/__init__.py'>"
      ]
     },
     "execution_count": 1,
     "metadata": {},
     "output_type": "execute_result"
    }
   ],
   "source": [
    "using Turing\n",
    "using LimberJack\n",
    "using CSV\n",
    "using NPZ\n",
    "using FITSIO\n",
    "using LinearAlgebra\n",
    "using PythonCall\n",
    "using ForwardDiff\n",
    "np = pyimport(\"numpy\")"
   ]
  },
  {
   "cell_type": "code",
   "execution_count": 2,
   "id": "566e89de",
   "metadata": {},
   "outputs": [
    {
     "data": {
      "text/plain": [
       "(Float32[0.06, 0.099999994, 0.14, 0.18, 0.22, 0.26, 0.3, 0.34, 0.38, 0.42000002  …  1.26, 1.3, 1.34, 1.38, 1.4200001, 1.46, 1.5, 1.54, 1.5799999, 1.62], [4.629577847407024, 29.132412608452444, 21.765409190156518, 20.62146040771289, 49.575919814294636, 19.756458131549834, 28.671379304807797, 16.733425194984918, 36.12801036345403, 15.65029828338953  …  159.1343087971742, 45.68244851651424, 57.13816009303667, 74.52981085428384, 67.0412204252083, 69.0824797219035, 38.605059715930935, 18.387277685421846, 18.004397396845302, 19.840074411368867], [34.72926020369569 -0.3508402184688245 … -0.0035034826825542913 0.025896520365390033; -0.3508402184688245 527.8777602661406 … -0.09997382746286836 -0.09250459543441937; … ; -0.0035034826825542913 -0.09997382746286836 … 94.73249576839464 0.09124693778804871; 0.025896520365390033 -0.09250459543441937 … 0.09124693778804871 106.16024698844336])"
      ]
     },
     "execution_count": 2,
     "metadata": {},
     "output_type": "execute_result"
    }
   ],
   "source": [
    "#println(\"My id is \", myid(), \" and I have \", Threads.nthreads(), \" threads\")\n",
    "\n",
    "fol = \"DESY1\"\n",
    "data_set = \"wlwl_Nzs\"\n",
    "meta = np.load(string(\"../data/\", fol, \"/\", data_set, \"_meta.npz\"))\n",
    "files = npzread(string(\"../data/\", fol, \"/\", data_set, \"_files.npz\"))\n",
    "\n",
    "tracers_names = pyconvert(Vector{String}, meta[\"tracers\"])\n",
    "pairs = pyconvert(Vector{Vector{String}}, meta[\"pairs\"]);\n",
    "idx = pyconvert(Vector{Int}, meta[\"idx\"])\n",
    "data_vector = pyconvert(Vector{Float64}, meta[\"cls\"])\n",
    "cov_tot = pyconvert(Matrix{Float64}, meta[\"cov\"])\n",
    "inv_cov_tot = pyconvert(Matrix{Float64}, meta[\"inv_cov\"])\n",
    "\n",
    "nz_path = \"../data/DESY1/Nzs/\"\n",
    "zs_k0, nz_k0, cov_k0 = get_nzs(nz_path, \"DESwl__0_e\")\n",
    "zs_k1, nz_k1, cov_k1 = get_nzs(nz_path, \"DESwl__1_e\")\n",
    "zs_k2, nz_k2, cov_k2 = get_nzs(nz_path, \"DESwl__2_e\")\n",
    "zs_k3, nz_k3, cov_k3 = get_nzs(nz_path, \"DESwl__3_e\")"
   ]
  },
  {
   "cell_type": "code",
   "execution_count": 3,
   "id": "f6d3c774",
   "metadata": {},
   "outputs": [
    {
     "data": {
      "text/plain": [
       "true"
      ]
     },
     "execution_count": 3,
     "metadata": {},
     "output_type": "execute_result"
    }
   ],
   "source": [
    "isposdef(cov_k0)"
   ]
  },
  {
   "cell_type": "markdown",
   "id": "f9417557",
   "metadata": {},
   "source": [
    "## T-Matrices"
   ]
  },
  {
   "cell_type": "code",
   "execution_count": 4,
   "id": "9970eb41",
   "metadata": {},
   "outputs": [],
   "source": [
    "function model_cov0(x;\n",
    "               tracers_names=tracers_names,\n",
    "               pairs=pairs,\n",
    "               idx=idx,\n",
    "               cov_tot=cov_tot, \n",
    "               files=files) \n",
    "\n",
    "    cosmology = Cosmology()\n",
    "    #cosmology.settings.cosmo_type = Real\n",
    "    nuisances = Dict(\"A_IA\" => 0,\n",
    "                     \"alpha_IA\" => 0,\n",
    "\n",
    "                     \"DESwl__0_e_nz\" => x,\n",
    "                     \"DESwl__1_e_nz\" => nz_k1,\n",
    "                     \"DESwl__2_e_nz\" => nz_k2,\n",
    "                     \"DESwl__3_e_nz\" => nz_k3,\n",
    "        \n",
    "                     \"DESwl__0_e_m\" => 0.012,\n",
    "                     \"DESwl__1_e_m\" => 0.012,\n",
    "                     \"DESwl__2_e_m\" => 0.012,\n",
    "                     \"DESwl__3_e_m\" => 0.012)\n",
    "    \n",
    "    return Theory(cosmology, tracers_names, pairs,\n",
    "                  idx, files; Nuisances=nuisances)\n",
    "end;\n",
    "\n",
    "function model_cov1(x;\n",
    "               tracers_names=tracers_names,\n",
    "               pairs=pairs,\n",
    "               idx=idx,\n",
    "               cov_tot=cov_tot, \n",
    "               files=files) \n",
    "\n",
    "    cosmology = Cosmology()\n",
    "    #cosmology.settings.cosmo_type = Real\n",
    "    nuisances = Dict(\"A_IA\" => 0,\n",
    "                     \"alpha_IA\" => 0,\n",
    "\n",
    "                     \"DESwl__0_e_nz\" => nz_k0,\n",
    "                     \"DESwl__1_e_nz\" => x,\n",
    "                     \"DESwl__2_e_nz\" => nz_k2,\n",
    "                     \"DESwl__3_e_nz\" => nz_k3,\n",
    "        \n",
    "                     \"DESwl__0_e_m\" => 0.012,\n",
    "                     \"DESwl__1_e_m\" => 0.012,\n",
    "                     \"DESwl__2_e_m\" => 0.012,\n",
    "                     \"DESwl__3_e_m\" => 0.012)\n",
    "    \n",
    "    return Theory(cosmology, tracers_names, pairs,\n",
    "                  idx, files; Nuisances=nuisances)\n",
    "end;\n",
    "\n",
    "function model_cov2(x;\n",
    "               tracers_names=tracers_names,\n",
    "               pairs=pairs,\n",
    "               idx=idx,\n",
    "               cov_tot=cov_tot, \n",
    "               files=files) \n",
    "\n",
    "    cosmology = Cosmology()\n",
    "    #cosmology.settings.cosmo_type = Real\n",
    "    nuisances = Dict(\"A_IA\" => 0,\n",
    "                     \"alpha_IA\" => 0,\n",
    "\n",
    "                     \"DESwl__0_e_nz\" => nz_k0,\n",
    "                     \"DESwl__1_e_nz\" => nz_k1,\n",
    "                     \"DESwl__2_e_nz\" => x,\n",
    "                     \"DESwl__3_e_nz\" => nz_k3,\n",
    "        \n",
    "                     \"DESwl__0_e_m\" => 0.012,\n",
    "                     \"DESwl__1_e_m\" => 0.012,\n",
    "                     \"DESwl__2_e_m\" => 0.012,\n",
    "                     \"DESwl__3_e_m\" => 0.012)\n",
    "    \n",
    "    return Theory(cosmology, tracers_names, pairs,\n",
    "                  idx, files; Nuisances=nuisances)\n",
    "end;\n",
    "\n",
    "function model_cov3(x;\n",
    "               tracers_names=tracers_names,\n",
    "               pairs=pairs,\n",
    "               idx=idx,\n",
    "               cov_tot=cov_tot, \n",
    "               files=files) \n",
    "\n",
    "    cosmology = Cosmology()\n",
    "    #cosmology.settings.cosmo_type = Real\n",
    "    nuisances = Dict(\"A_IA\" => 0,\n",
    "                     \"alpha_IA\" => 0,\n",
    "\n",
    "                     \"DESwl__0_e_nz\" => nz_k0,\n",
    "                     \"DESwl__1_e_nz\" => nz_k1,\n",
    "                     \"DESwl__2_e_nz\" => nz_k2,\n",
    "                     \"DESwl__3_e_nz\" => x,\n",
    "        \n",
    "                     \"DESwl__0_e_m\" => 0.012,\n",
    "                     \"DESwl__1_e_m\" => 0.012,\n",
    "                     \"DESwl__2_e_m\" => 0.012,\n",
    "                     \"DESwl__3_e_m\" => 0.012)\n",
    "    \n",
    "    return Theory(cosmology, tracers_names, pairs,\n",
    "                  idx, files; Nuisances=nuisances)\n",
    "end;"
   ]
  },
  {
   "cell_type": "code",
   "execution_count": 5,
   "id": "bba276a5",
   "metadata": {},
   "outputs": [],
   "source": [
    "d = 0.0005\n",
    "m  = length(nz_k0)\n",
    "T0 = zeros(240, m)\n",
    "T1 = zeros(240, m)\n",
    "T2 = zeros(240, m)\n",
    "T3 = zeros(240, m)\n",
    "\n",
    "for i in 1:m\n",
    "    e = zeros(m)\n",
    "    e[i] = d\n",
    "    T0[:, i] = (model_cov0(nz_k0+e) .- model_cov0(nz_k0)) ./ d\n",
    "    T1[:, i] = (model_cov1(nz_k1+e) .- model_cov1(nz_k1)) ./ d\n",
    "    T2[:, i] = (model_cov2(nz_k2+e) .- model_cov2(nz_k2)) ./ d\n",
    "    T3[:, i] = (model_cov3(nz_k3+e) .- model_cov3(nz_k3)) ./ d\n",
    "end"
   ]
  },
  {
   "cell_type": "code",
   "execution_count": 6,
   "id": "14bbb714",
   "metadata": {},
   "outputs": [],
   "source": [
    "#T0 = ForwardDiff.jacobian(model_cov0, nz_k0)\n",
    "#T1 = ForwardDiff.jacobian(model_cov1, nz_k1)\n",
    "#T2 = ForwardDiff.jacobian(model_cov2, nz_k2)\n",
    "#T3 = ForwardDiff.jacobian(model_cov3, nz_k3)"
   ]
  },
  {
   "cell_type": "code",
   "execution_count": 7,
   "id": "151199af",
   "metadata": {},
   "outputs": [],
   "source": [
    "TT0 = T0 * cov_k0 * T0'\n",
    "TT1 = T1 * cov_k1 * T1'\n",
    "TT2 = T2 * cov_k2 * T2'\n",
    "TT3 = T3 * cov_k3 * T3';"
   ]
  },
  {
   "cell_type": "code",
   "execution_count": 29,
   "id": "d5a622be",
   "metadata": {},
   "outputs": [
    {
     "data": {
      "text/plain": [
       "Inf"
      ]
     },
     "execution_count": 29,
     "metadata": {},
     "output_type": "execute_result"
    }
   ],
   "source": [
    "Inf"
   ]
  },
  {
   "cell_type": "code",
   "execution_count": 13,
   "id": "dc63fda0",
   "metadata": {},
   "outputs": [
    {
     "data": {
      "text/plain": [
       "240×240 Symmetric{Float64, Matrix{Float64}}:\n",
       "  1.26529e18   1.55945e17  -9.61225e15  …  -1.91867e15  -2.28142e15\n",
       "  1.55945e17   2.62924e18   2.90029e17     -1.05757e15  -1.25754e15\n",
       " -9.61225e15   2.90029e17   4.00969e18     -8.99727e14  -1.0711e15\n",
       " -1.05699e16  -8.00169e15   4.35568e17     -8.2682e14   -9.88956e14\n",
       " -9.31186e15  -1.32386e16   5.22754e15     -7.6988e14   -9.26354e14\n",
       " -8.03296e15  -1.40389e16  -7.57025e15  …  -7.18897e14  -8.68718e14\n",
       " -7.72421e15  -1.44817e16  -1.26892e16     -6.72533e14  -8.14389e14\n",
       " -7.53437e15  -1.48162e16  -1.57583e16     -6.71619e14  -8.14376e14\n",
       " -8.13045e15  -1.6401e16   -1.81047e16     -7.22641e14  -8.79452e14\n",
       " -8.46326e15  -1.74163e16  -2.03623e16     -7.51966e14  -9.32154e14\n",
       " -9.03695e15  -1.86508e16  -2.20970e16  …  -7.69497e14  -9.61132e14\n",
       " -1.01602e16  -2.10542e16  -2.56092e16     -8.02649e14  -1.00564e15\n",
       " -1.11795e16  -2.31552e16  -2.85696e16     -8.15672e14  -1.02666e15\n",
       "  ⋮                                     ⋱               \n",
       " -2.28555e14   3.38673e13   8.09051e13     -2.4248e17   -2.96762e17\n",
       " -3.11677e14  -3.73468e13   1.31778e13     -3.12042e17  -3.81409e17\n",
       " -4.14897e14  -1.17151e14  -5.98435e13  …  -4.06537e17  -4.95259e17\n",
       " -5.16017e14  -1.99529e14  -1.35488e14     -5.19695e17  -6.31968e17\n",
       " -6.46659e14  -2.9312e14   -2.20641e14     -6.71986e17  -8.21303e17\n",
       " -7.81523e14  -3.88596e14  -3.04596e14     -8.50141e17  -1.05223e18\n",
       " -9.34721e14  -4.89207e14  -3.96862e14     -1.08046e18  -1.35456e18\n",
       " -1.14471e15  -6.06867e14  -4.99645e14  …  -1.35393e18  -1.72983e18\n",
       " -1.3656e15   -7.38766e14  -6.15923e14     -1.60476e18  -2.18417e18\n",
       " -1.60736e15  -8.82931e14  -7.44821e14      5.37253e17  -2.64956e18\n",
       " -1.91867e15  -1.05757e15  -8.99727e14      1.32745e20  -2.85259e17\n",
       " -2.28142e15  -1.25754e15  -1.0711e15      -2.85259e17   1.719e20"
      ]
     },
     "execution_count": 13,
     "metadata": {},
     "output_type": "execute_result"
    }
   ],
   "source": [
    "C_mod = Symmetric(cov_tot + TT0 + TT1 + TT2 + TT3);\n",
    "inv_C_mod = inv(C_mod)"
   ]
  },
  {
   "cell_type": "code",
   "execution_count": 19,
   "id": "6d827d62",
   "metadata": {},
   "outputs": [
    {
     "data": {
      "text/plain": [
       "240×240 Matrix{Float64}:\n",
       " 0.00626303   0.0202006    0.0233206    …  0.000723988  0.000977839\n",
       " 0.00277358   0.00950408   0.0110649       0.00035426   0.000478601\n",
       " 0.00150077   0.00533352   0.00623926      0.000203236  0.000274609\n",
       " 0.000917572  0.00334265   0.00392259      0.000129212  0.000174607\n",
       " 0.000609051  0.00225905   0.00265689      8.82124e-5   0.000119211\n",
       " 0.000428493  0.00161167   0.00189872   …  6.34171e-5   8.57068e-5\n",
       " 0.000314814  0.00119758   0.00141279      4.74117e-5   6.40784e-5\n",
       " 0.00023717   0.000910996  0.00107593      3.62521e-5   4.89976e-5\n",
       " 0.000178907  0.000693512  0.000819951     2.77302e-5   3.74807e-5\n",
       " 0.000134168  0.000524518  0.000620755     2.10652e-5   2.84729e-5\n",
       " 0.000100435  0.00039585   0.000468917  …  1.59641e-5   2.15787e-5\n",
       " 7.48861e-5   0.000297497  0.000352726     1.20458e-5   1.62827e-5\n",
       " 5.56358e-5   0.000222645  0.000264196     9.04799e-6   1.22308e-5\n",
       " ⋮                                      ⋱               \n",
       " 4.62776e-5   3.03763e-5   2.28558e-5      0.000564351  0.000304774\n",
       " 3.58034e-5   2.34743e-5   1.76689e-5      0.000433967  0.000234468\n",
       " 2.752e-5     1.80247e-5   1.35714e-5   …  0.000331713  0.000179296\n",
       " 2.10454e-5   1.37708e-5   1.03716e-5      0.000252357  0.000136456\n",
       " 1.60145e-5   1.04692e-5   7.88725e-6      0.000191075  0.00010336\n",
       " 1.21291e-5   7.92226e-6   5.97008e-6      0.000144039  7.79457e-5\n",
       " 9.14961e-6   5.97143e-6   4.50108e-6      0.000108191  5.85665e-5\n",
       " 6.86701e-6   4.47856e-6   3.37654e-6   …  8.08888e-5   4.38001e-5\n",
       " 5.13368e-6   3.34595e-6   2.52314e-6      6.02575e-5   3.26374e-5\n",
       " 3.82514e-6   2.49155e-6   1.87921e-6      4.47468e-5   2.42427e-5\n",
       " 2.84131e-6   1.84959e-6   1.39529e-6      3.31273e-5   1.79524e-5\n",
       " 2.10458e-6   1.36922e-6   1.03309e-6      2.44606e-5   1.32592e-5"
      ]
     },
     "execution_count": 19,
     "metadata": {},
     "output_type": "execute_result"
    }
   ],
   "source": [
    "abs.(cov_tot - C_mod) / cov_tot"
   ]
  },
  {
   "cell_type": "code",
   "execution_count": 15,
   "id": "47d3c4d8",
   "metadata": {},
   "outputs": [],
   "source": [
    "npzwrite(\"../data/DESY1/Nzs/cov_marg.npz\",\n",
    "        Dict(\"TPT0\" => TT0, \"TPT1\" => TT1,\n",
    "             \"TPT2\" => TT2, \"TPT3\" => TT3,\n",
    "             \"cov_marg\" => C_mod,\n",
    "             \"inv_cov_marg\" => inv_C_mod))"
   ]
  },
  {
   "cell_type": "markdown",
   "id": "bd9a3cbc",
   "metadata": {},
   "source": [
    "## Likelihood"
   ]
  },
  {
   "cell_type": "code",
   "execution_count": 3,
   "id": "81420c51",
   "metadata": {},
   "outputs": [],
   "source": [
    "pars = [4.426868e-02,     2.093138e-01,     8.963611e-01,     8.495440e-01,\n",
    "         1.343888e+00,    1.639047e+00,      1.597174e+00,     1.944583e+00,     2.007245e+00,\n",
    "        -4.679383e-03,   -2.839996e-03,      1.771571e-03,     1.197051e-03,    -5.199799e-03,\n",
    "         2.389208e-01,   -6.435288e-01, \n",
    "         1.802722e-03,   -5.508994e-03,     1.952514e-02,    -1.117726e-03,\n",
    "        -1.744083e-02,    6.777779e-03,    -1.097939e-03,    -4.912315e-03,\n",
    "         8.536883e-01,    2.535825e-01];"
   ]
  },
  {
   "cell_type": "code",
   "execution_count": 4,
   "id": "fab6ac2a",
   "metadata": {},
   "outputs": [],
   "source": [
    "function get_cls(Ωm, s8;\n",
    "               tracers_names=tracers_names,\n",
    "               pairs=pairs,\n",
    "               idx=idx,\n",
    "               cov_tot=cov_tot, \n",
    "               files=files) \n",
    "\n",
    "    Ωb = pars[1]\n",
    "    h = pars[4]\n",
    "    ns = pars[3]\n",
    "\n",
    "    cosmology = LimberJack.Cosmology(Ωm, Ωb, h, ns, s8, \n",
    "                                     tk_mode=\"EisHu\",\n",
    "                                     Pk_mode=\"Halofit\")\n",
    "    nuisances = Dict(\"A_IA\" => 0,\n",
    "                     \"alpha_IA\" => 0,\n",
    "\n",
    "                     \"DESwl__0_e_nz\" => nz_k0,\n",
    "                     \"DESwl__1_e_nz\" => nz_k1,\n",
    "                     \"DESwl__2_e_nz\" => nz_k2,\n",
    "                     \"DESwl__3_e_nz\" => nz_k3,\n",
    "        \n",
    "                     \"DESwl__0_e_m\" => 0.012,\n",
    "                     \"DESwl__1_e_m\" => 0.012,\n",
    "                     \"DESwl__2_e_m\" => 0.012,\n",
    "                     \"DESwl__3_e_m\" => 0.012)\n",
    "    \n",
    "    return Theory(cosmology, tracers_names, pairs,\n",
    "                  idx, files; Nuisances=nuisances)\n",
    "end;\n"
   ]
  },
  {
   "cell_type": "code",
   "execution_count": 5,
   "id": "ee4456fb",
   "metadata": {},
   "outputs": [
    {
     "data": {
      "text/plain": [
       "get_Xi2 (generic function with 1 method)"
      ]
     },
     "execution_count": 5,
     "metadata": {},
     "output_type": "execute_result"
    }
   ],
   "source": [
    "function get_Xi2(Ωm, s8;\n",
    "                 data_vector=data_vector,\n",
    "                 inv_cov=inv_cov_tot)\n",
    "\n",
    "        nuisances = Dict(\"A_IA\" => 0,\n",
    "                     \"alpha_IA\" => 0,\n",
    "\n",
    "                     \"DESwl__0_e_nz\" => nz_k0,\n",
    "                     \"DESwl__1_e_nz\" => nz_k1,\n",
    "                     \"DESwl__2_e_nz\" => nz_k2,\n",
    "                     \"DESwl__3_e_nz\" => nz_k3,\n",
    "        \n",
    "                     \"DESwl__0_e_m\" => 0.012,\n",
    "                     \"DESwl__1_e_m\" => 0.012,\n",
    "                     \"DESwl__2_e_m\" => 0.012,\n",
    "                     \"DESwl__3_e_m\" => 0.012)\n",
    "    \n",
    "\n",
    "    Ωb = pars[1]\n",
    "    h = pars[5]\n",
    "    ns = pars[4]\n",
    "    \n",
    "    cosmology = LimberJack.Cosmology(Ωm, Ωb, h, ns, s8, \n",
    "                                     tk_mode=\"EisHu\",\n",
    "                                     Pk_mode=\"Halofit\")\n",
    "    \n",
    "    theory = Theory(cosmology, tracers_names, pairs,\n",
    "                    idx, files; Nuisances=nuisances)\n",
    "    \n",
    "    diff = @.(theory-data_vector)\n",
    "    return dot(diff, inv_cov * diff)\n",
    "\n",
    "end"
   ]
  },
  {
   "cell_type": "code",
   "execution_count": 6,
   "id": "034339fb",
   "metadata": {},
   "outputs": [
    {
     "data": {
      "text/plain": [
       "10-element LinRange{Float64, Int64}:\n",
       " 0.6,0.633333,0.666667,0.7,0.733333,0.766667,0.8,0.833333,0.866667,0.9"
      ]
     },
     "execution_count": 6,
     "metadata": {},
     "output_type": "execute_result"
    }
   ],
   "source": [
    "Ωms = LinRange(0.2, 0.6, 10)\n",
    "s8s = LinRange(0.6, 0.9, 10)"
   ]
  },
  {
   "cell_type": "code",
   "execution_count": 7,
   "id": "df445f88",
   "metadata": {},
   "outputs": [
    {
     "data": {
      "text/plain": [
       "255.52773157235953"
      ]
     },
     "execution_count": 7,
     "metadata": {},
     "output_type": "execute_result"
    }
   ],
   "source": [
    "get_Xi2(pars[26], pars[25])"
   ]
  },
  {
   "cell_type": "code",
   "execution_count": 44,
   "id": "b4f016a1",
   "metadata": {},
   "outputs": [
    {
     "ename": "LoadError",
     "evalue": "UndefVarError: Ωms not defined",
     "output_type": "error",
     "traceback": [
      "UndefVarError: Ωms not defined",
      "",
      "Stacktrace:",
      " [1] top-level scope",
      "   @ In[44]:1",
      " [2] eval",
      "   @ ./boot.jl:373 [inlined]",
      " [3] include_string(mapexpr::typeof(REPL.softscope), mod::Module, code::String, filename::String)",
      "   @ Base ./loading.jl:1196"
     ]
    }
   ],
   "source": [
    "Xi2s_emul = zeros(length(Ωms), length(s8s))\n",
    "Xi2s_EisHu = zeros(length(Ωms), length(s8s))\n",
    "for i in 1:length(Ωms)\n",
    "    for j in 1:length(s8s)\n",
    "        Xi2s_emul[i, j] = get_Xi2(Ωms[i], s8s[j]; tk_mode=\"emulator\")\n",
    "        Xi2s_EisHu[i, j] = get_Xi2(Ωms[i], s8s[j]; tk_mode=\"EisHu\")\n",
    "    end\n",
    "end"
   ]
  },
  {
   "cell_type": "code",
   "execution_count": 8,
   "id": "610e4cbd",
   "metadata": {},
   "outputs": [],
   "source": [
    "n_samples = 100\n",
    "cls = zeros(240, n_samples)\n",
    "for i in 1:n_samples\n",
    "    Ωm = rand(Uniform(0.2, 0.6))\n",
    "    s8 = rand(Uniform(0.6, 0.9))\n",
    "    cls[:, i] = get_cls(Ωm, s8)\n",
    "end"
   ]
  },
  {
   "cell_type": "code",
   "execution_count": 9,
   "id": "200993fd",
   "metadata": {},
   "outputs": [],
   "source": [
    "npzwrite(\"Nz_cls.npz\", Dict(\"cls\" => cls))"
   ]
  },
  {
   "cell_type": "markdown",
   "id": "8539eb67",
   "metadata": {},
   "source": [
    "## Turing"
   ]
  },
  {
   "cell_type": "code",
   "execution_count": 46,
   "id": "94e20915",
   "metadata": {},
   "outputs": [
    {
     "ename": "LoadError",
     "evalue": "UndefVarError: fake_data not defined",
     "output_type": "error",
     "traceback": [
      "UndefVarError: fake_data not defined",
      "",
      "Stacktrace:",
      " [1] top-level scope",
      "   @ In[46]:1",
      " [2] eval",
      "   @ ./boot.jl:373 [inlined]",
      " [3] include_string(mapexpr::typeof(REPL.softscope), mod::Module, code::String, filename::String)",
      "   @ Base ./loading.jl:1196"
     ]
    }
   ],
   "source": [
    "chain = sample(model(fake_data), NUTS(adaptation, TAP, ),\n",
    "               MCMCDistributed(), iterations, nchains, progress=true; save_state=true)"
   ]
  },
  {
   "cell_type": "code",
   "execution_count": null,
   "id": "9f5af9c6",
   "metadata": {},
   "outputs": [],
   "source": []
  }
 ],
 "metadata": {
  "kernelspec": {
   "display_name": "Julia 1.7.0",
   "language": "julia",
   "name": "julia-1.7"
  },
  "language_info": {
   "file_extension": ".jl",
   "mimetype": "application/julia",
   "name": "julia",
   "version": "1.7.0"
  }
 },
 "nbformat": 4,
 "nbformat_minor": 5
}
