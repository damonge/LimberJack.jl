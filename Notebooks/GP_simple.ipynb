{
 "cells": [
  {
   "cell_type": "code",
   "execution_count": 1,
   "id": "1e4de5f9",
   "metadata": {
    "scrolled": true
   },
   "outputs": [
    {
     "name": "stderr",
     "output_type": "stream",
     "text": [
      "┌ Info: Precompiling Turing [fce5fe82-541a-59a6-adf8-730c64b5f9a0]\n",
      "└ @ Base loading.jl:1423\n",
      "┌ Info: Precompiling PyPlot [d330b81b-6aea-500a-939a-2ce795aea3ee]\n",
      "└ @ Base loading.jl:1423\n"
     ]
    }
   ],
   "source": [
    "using Turing\n",
    "using Distances\n",
    "using PyPlot\n",
    "using Random\n",
    "using LinearAlgebra"
   ]
  },
  {
   "cell_type": "code",
   "execution_count": 2,
   "id": "d568adc3",
   "metadata": {},
   "outputs": [
    {
     "data": {
      "text/plain": [
       "sqexp_cov_fn2 (generic function with 2 methods)"
      ]
     },
     "execution_count": 2,
     "metadata": {},
     "output_type": "execute_result"
    }
   ],
   "source": [
    "# Squared-exponential covariance function\n",
    "sqexp_cov_fn(D, phi) = @. exp(-D^2 / (2*phi)) \n",
    "# Exponential covariance function\n",
    "exp_cov_fn(D, phi) = @. exp(-D / phi)\n",
    "# Exponential covariance function\n",
    "sqexp_cov_fn2(D, n, l, eps=1e-1) = @.(n*exp(-D^2/(2*l))) + LinearAlgebra.I * eps"
   ]
  },
  {
   "cell_type": "code",
   "execution_count": null,
   "id": "dfb6ea5a",
   "metadata": {},
   "outputs": [],
   "source": [
    "@model function marginal_GP(y, X, m=0, s=1, cov_fn=sqexp_cov_fn)\n",
    "    # Dimensions of predictors .\n",
    "    N, P = size(X)\n",
    "    \n",
    "    # Distance matrix.\n",
    "    D = pairwise(Distances.Euclidean(), X, dims=1)\n",
    "    \n",
    "    # Priors.\n",
    "    mu ~ Normal(m, s)\n",
    "    sig2 ~ LogNormal(0, 1)\n",
    "    phi ~ LogNormal(0, 1)\n",
    "    \n",
    "    # Realized covariance function\n",
    "    K = cov_fn(D, phi)\n",
    "    y ~ MvNormal(mu * ones(N), K + sig2 * LinearAlgebra.I(N))\n",
    "end"
   ]
  },
  {
   "cell_type": "code",
   "execution_count": null,
   "id": "c843e33f",
   "metadata": {},
   "outputs": [],
   "source": [
    "N = 150\n",
    "X = randn(N, 1) * 3\n",
    "y = sin.(vec(X)) + randn(N) * 0.1\n",
    "plt.scatter(vec(X), y)"
   ]
  },
  {
   "cell_type": "code",
   "execution_count": null,
   "id": "baf7cf45",
   "metadata": {},
   "outputs": [],
   "source": [
    "chain = sample(marginal_GP(y, X), HMC(0.01, 100), 200)"
   ]
  },
  {
   "cell_type": "code",
   "execution_count": null,
   "id": "7eda239c",
   "metadata": {},
   "outputs": [],
   "source": [
    "mu = group(chain, :mu).value.data[:, :, 1]\n",
    "sig2 = group(chain, :sig2).value.data[:, :, 1]\n",
    "phi = group(chain, :phi).value.data[:, :, 1];"
   ]
  },
  {
   "cell_type": "code",
   "execution_count": null,
   "id": "09d1a6ac",
   "metadata": {},
   "outputs": [],
   "source": [
    "function make_gp_predict_fn(Xnew, y, X, cov_fn)\n",
    "    N = size(X, 1)\n",
    "    M = size(Xnew, 1)\n",
    "    Q = N + M\n",
    "    Z = [Xnew; X]\n",
    "    D = pairwise(Euclidean(), Z, dims=1)\n",
    "    \n",
    "    return (mu, sig2, phi) -> let\n",
    "        K = cov_fn(D, phi) + sig2 * LinearAlgebra.I\n",
    "        Koo_inv = inv(K[(M+1):end, (M+1):end])\n",
    "        Knn = K[1:M, 1:M]\n",
    "        Kno = K[1:M, (M+1):end]\n",
    "        C = Kno * Koo_inv\n",
    "        m = C * (y .- mu) .+ mu\n",
    "        S = Matrix(LinearAlgebra.Hermitian(Knn - C * Kno'))\n",
    "        mvn = MvNormal(m, S)\n",
    "        rand(mvn)\n",
    "    end\n",
    "end"
   ]
  },
  {
   "cell_type": "code",
   "execution_count": null,
   "id": "5685d2f5",
   "metadata": {},
   "outputs": [],
   "source": [
    "Xnew = sort(randn(N, 1) * 4, dims=1)\n",
    "gp_predict = make_gp_predict_fn(Xnew, y, X, sqexp_cov_fn)\n",
    "ynew = [gp_predict(mu[m], sig2[m], phi[m]) for m in 1:length(mu)]\n",
    "ynew = hcat(ynew...);"
   ]
  },
  {
   "cell_type": "code",
   "execution_count": null,
   "id": "47989d4b",
   "metadata": {},
   "outputs": [],
   "source": [
    "pred_mean = mean(ynew, dims=2)\n",
    "pred_std = std(ynew, dims=2)\n",
    "\n",
    "plt.plot(vec(Xnew), vec(pred_mean), color=\"red\", label=\"Posterior predictive mean\")\n",
    "plt.scatter(vec(X), vec(y), color=\"grey\", label=\"Data\")\n",
    "plt.fill_between(vec(Xnew), vec(pred_mean .+ pred_std), vec(pred_mean .- pred_std), color=\"red\", alpha=0.2)\n",
    "#plt.legend(loc=\"lower right\")\n",
    "#plt.title(\"GP Posterior predictive with 95% credible interval\");"
   ]
  }
 ],
 "metadata": {
  "kernelspec": {
   "display_name": "Julia 1.7.0",
   "language": "julia",
   "name": "julia-1.7"
  },
  "language_info": {
   "file_extension": ".jl",
   "mimetype": "application/julia",
   "name": "julia",
   "version": "1.7.0"
  }
 },
 "nbformat": 4,
 "nbformat_minor": 5
}
