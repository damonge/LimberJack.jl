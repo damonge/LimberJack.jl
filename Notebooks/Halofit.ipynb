{
 "cells": [
  {
   "cell_type": "markdown",
   "id": "compact-petroleum",
   "metadata": {},
   "source": [
    "# Imports"
   ]
  },
  {
   "cell_type": "code",
   "execution_count": 35,
   "id": "888f5e35",
   "metadata": {},
   "outputs": [],
   "source": [
    "using LimberJack"
   ]
  },
  {
   "cell_type": "code",
   "execution_count": 36,
   "id": "ce20d3c4",
   "metadata": {
    "ExecuteTime": {
     "end_time": "2021-11-18T14:34:26.072000Z",
     "start_time": "2021-11-18T14:33:56.839Z"
    },
    "scrolled": false
   },
   "outputs": [],
   "source": [
    "#include(\"/home/jaime/PhD/LimberJack.jl/src/LimberJack.jl\")"
   ]
  },
  {
   "cell_type": "code",
   "execution_count": 37,
   "id": "a7792f78",
   "metadata": {
    "scrolled": true
   },
   "outputs": [
    {
     "name": "stdout",
     "output_type": "stream",
     "text": [
      "[5.177538156159547e11 99767.40935717999; 5.268121089636441e10 10151.287686169508]Any[5.177538156159547e11, 99767.40935717999, 5.268121089636441e10, 10151.287686169508]"
     ]
    },
    {
     "data": {
      "text/plain": [
       "5-element Vector{Float64}:\n",
       "  0.001\n",
       "  0.01\n",
       "  0.1\n",
       "  1.0\n",
       " 10.0"
      ]
     },
     "execution_count": 37,
     "metadata": {},
     "output_type": "execute_result"
    }
   ],
   "source": [
    "cosmo = Cosmology(0.30, 0.05, 0.67, 0.96, 0.81, nk=2, nz=2, tk_mode=\"EisHu\")\n",
    "k = [0.001, 0.01, 0.1, 1.0, 10.0]"
   ]
  },
  {
   "cell_type": "code",
   "execution_count": 62,
   "id": "61bef0ee",
   "metadata": {},
   "outputs": [
    {
     "data": {
      "text/plain": [
       "Float64[]"
      ]
     },
     "execution_count": 62,
     "metadata": {},
     "output_type": "execute_result"
    }
   ],
   "source": [
    "u = Array{Float64}([])"
   ]
  },
  {
   "cell_type": "code",
   "execution_count": 65,
   "id": "bb3df00c",
   "metadata": {},
   "outputs": [
    {
     "data": {
      "text/plain": [
       "6-element Vector{Float64}:\n",
       " 2.0\n",
       " 2.0\n",
       " 2.0\n",
       " 2.0\n",
       " 2.0\n",
       " 2.0"
      ]
     },
     "execution_count": 65,
     "metadata": {},
     "output_type": "execute_result"
    }
   ],
   "source": [
    "append!(u, transpose([2., 2.]))"
   ]
  },
  {
   "cell_type": "code",
   "execution_count": 50,
   "id": "f717d57b",
   "metadata": {},
   "outputs": [
    {
     "data": {
      "text/plain": [
       "4-element Vector{Float64}:\n",
       "     5.177538156159547e11\n",
       " 99767.40935717999\n",
       "     5.268121089636441e10\n",
       " 10151.287686169508"
      ]
     },
     "execution_count": 50,
     "metadata": {},
     "output_type": "execute_result"
    }
   ],
   "source": [
    "v = Array([5.177538156159547e11, 99767.40935717999, 5.268121089636441e10, 10151.287686169508])"
   ]
  },
  {
   "cell_type": "code",
   "execution_count": 46,
   "id": "75878d71",
   "metadata": {},
   "outputs": [
    {
     "data": {
      "text/plain": [
       "2×2 Matrix{Float64}:\n",
       " 5.17754e11  99767.4\n",
       " 5.26812e10  10151.3"
      ]
     },
     "execution_count": 46,
     "metadata": {},
     "output_type": "execute_result"
    }
   ],
   "source": [
    "[5.177538156159547e11 99767.40935717999; 5.268121089636441e10 10151.287686169508]"
   ]
  },
  {
   "cell_type": "code",
   "execution_count": 49,
   "id": "8b4c00ca",
   "metadata": {},
   "outputs": [
    {
     "ename": "LoadError",
     "evalue": "TypeError: in Type{...} expression, expected UnionAll, got a value of type Matrix{Any}",
     "output_type": "error",
     "traceback": [
      "TypeError: in Type{...} expression, expected UnionAll, got a value of type Matrix{Any}",
      "",
      "Stacktrace:",
      " [1] top-level scope",
      "   @ In[49]:1",
      " [2] eval",
      "   @ ./boot.jl:373 [inlined]",
      " [3] include_string(mapexpr::typeof(REPL.softscope), mod::Module, code::String, filename::String)",
      "   @ Base ./loading.jl:1196"
     ]
    }
   ],
   "source": [
    "transpose(reshape(v, 2, 2))"
   ]
  },
  {
   "cell_type": "code",
   "execution_count": 38,
   "id": "044af5bf",
   "metadata": {},
   "outputs": [
    {
     "data": {
      "text/plain": [
       "5-element Vector{Float64}:\n",
       " 5.1774915582785223e11\n",
       " 5.17702557946828e11\n",
       " 5.172365791365855e11\n",
       " 5.125767910341605e11\n",
       " 4.6597891000991034e11"
      ]
     },
     "execution_count": 38,
     "metadata": {},
     "output_type": "execute_result"
    }
   ],
   "source": [
    "PkL = cosmo.lin_Pk(0, k)"
   ]
  },
  {
   "cell_type": "code",
   "execution_count": 20,
   "id": "77f73eb1",
   "metadata": {},
   "outputs": [
    {
     "data": {
      "text/plain": [
       "5-element Vector{Float64}:\n",
       " 5.1774915582785223e11\n",
       " 5.17702557946828e11\n",
       " 5.172365791365855e11\n",
       " 5.125767910341605e11\n",
       " 4.6597891000991034e11"
      ]
     },
     "execution_count": 20,
     "metadata": {},
     "output_type": "execute_result"
    }
   ],
   "source": [
    "Pk = cosmo.Pk(0, k)"
   ]
  },
  {
   "cell_type": "code",
   "execution_count": 21,
   "id": "233c0120",
   "metadata": {
    "scrolled": true
   },
   "outputs": [
    {
     "ename": "LoadError",
     "evalue": "UndefVarError: cosmology not defined",
     "output_type": "error",
     "traceback": [
      "UndefVarError: cosmology not defined",
      "",
      "Stacktrace:",
      " [1] top-level scope",
      "   @ In[21]:1",
      " [2] eval",
      "   @ ./boot.jl:373 [inlined]",
      " [3] include_string(mapexpr::typeof(REPL.softscope), mod::Module, code::String, filename::String)",
      "   @ Base ./loading.jl:1196"
     ]
    }
   ],
   "source": [
    "print(cosmology.Pk(0,k))"
   ]
  },
  {
   "cell_type": "code",
   "execution_count": 22,
   "id": "2a6bcdd5",
   "metadata": {
    "scrolled": true
   },
   "outputs": [
    {
     "ename": "LoadError",
     "evalue": "UndefVarError: cosmology not defined",
     "output_type": "error",
     "traceback": [
      "UndefVarError: cosmology not defined",
      "",
      "Stacktrace:",
      " [1] top-level scope",
      "   @ In[22]:1",
      " [2] eval",
      "   @ ./boot.jl:373 [inlined]",
      " [3] include_string(mapexpr::typeof(REPL.softscope), mod::Module, code::String, filename::String)",
      "   @ Base ./loading.jl:1196"
     ]
    }
   ],
   "source": [
    "print(cosmology.lin_Pk(0,k))"
   ]
  },
  {
   "cell_type": "code",
   "execution_count": 23,
   "id": "e0c48ff7",
   "metadata": {
    "scrolled": true
   },
   "outputs": [
    {
     "ename": "LoadError",
     "evalue": "UndefVarError: plot not defined",
     "output_type": "error",
     "traceback": [
      "UndefVarError: plot not defined",
      "",
      "Stacktrace:",
      " [1] top-level scope",
      "   @ In[23]:1",
      " [2] eval",
      "   @ ./boot.jl:373 [inlined]",
      " [3] include_string(mapexpr::typeof(REPL.softscope), mod::Module, code::String, filename::String)",
      "   @ Base ./loading.jl:1196"
     ]
    }
   ],
   "source": [
    "plot(cosmology.ks, Pk, yaxis=:log, xaxis=:log, label = \"Non-linear\")\n",
    "plot!(cosmology.ks, PkL, yaxis=:log, xaxis=:log, label = \"Linear\")\n",
    "xlabel!(\"k\")\n",
    "ylabel!(\"Pk\")"
   ]
  },
  {
   "cell_type": "code",
   "execution_count": 24,
   "id": "e483c81d",
   "metadata": {},
   "outputs": [
    {
     "ename": "LoadError",
     "evalue": "UndefVarError: cosmology not defined",
     "output_type": "error",
     "traceback": [
      "UndefVarError: cosmology not defined",
      "",
      "Stacktrace:",
      " [1] top-level scope",
      "   @ In[24]:1",
      " [2] eval",
      "   @ ./boot.jl:373 [inlined]",
      " [3] include_string(mapexpr::typeof(REPL.softscope), mod::Module, code::String, filename::String)",
      "   @ Base ./loading.jl:1196"
     ]
    }
   ],
   "source": [
    "wz = @. exp(-0.5*((cosmology.zs-0.5)/0.05)^2)\n",
    "numbercounts = LimberJack.NumberCountsTracer(cosmology, cosmology.zs, wz, 2.);\n",
    "weaklensing = LimberJack.WeakLensingTracer(cosmology, cosmology.zs, wz);\n",
    "cmblensing = LimberJack.CMBLensingTracer(cosmology);"
   ]
  },
  {
   "cell_type": "code",
   "execution_count": 25,
   "id": "4913f0c6",
   "metadata": {},
   "outputs": [],
   "source": [
    "ls = [10, 30, 100, 300];"
   ]
  },
  {
   "cell_type": "code",
   "execution_count": 26,
   "id": "3a85181b",
   "metadata": {},
   "outputs": [
    {
     "ename": "LoadError",
     "evalue": "UndefVarError: cosmology not defined",
     "output_type": "error",
     "traceback": [
      "UndefVarError: cosmology not defined",
      "",
      "Stacktrace:",
      " [1] (::var\"#11#12\")(l::Int64)",
      "   @ Main ./none:0",
      " [2] iterate",
      "   @ ./generator.jl:47 [inlined]",
      " [3] collect(itr::Base.Generator{Vector{Int64}, var\"#11#12\"})",
      "   @ Base ./array.jl:724",
      " [4] top-level scope",
      "   @ In[26]:1",
      " [5] eval",
      "   @ ./boot.jl:373 [inlined]",
      " [6] include_string(mapexpr::typeof(REPL.softscope), mod::Module, code::String, filename::String)",
      "   @ Base ./loading.jl:1196"
     ]
    }
   ],
   "source": [
    "[LimberJack.angularCℓ(cosmology, numbercounts,\n",
    "                     numbercounts, l) for l in ls]"
   ]
  },
  {
   "cell_type": "code",
   "execution_count": 27,
   "id": "6e22cfcb",
   "metadata": {},
   "outputs": [
    {
     "ename": "LoadError",
     "evalue": "UndefVarError: cosmology not defined",
     "output_type": "error",
     "traceback": [
      "UndefVarError: cosmology not defined",
      "",
      "Stacktrace:",
      " [1] (::var\"#13#14\")(l::Int64)",
      "   @ Main ./none:0",
      " [2] iterate",
      "   @ ./generator.jl:47 [inlined]",
      " [3] collect(itr::Base.Generator{Vector{Int64}, var\"#13#14\"})",
      "   @ Base ./array.jl:724",
      " [4] top-level scope",
      "   @ In[27]:1",
      " [5] eval",
      "   @ ./boot.jl:373 [inlined]",
      " [6] include_string(mapexpr::typeof(REPL.softscope), mod::Module, code::String, filename::String)",
      "   @ Base ./loading.jl:1196"
     ]
    }
   ],
   "source": [
    "[LimberJack.angularCℓ(cosmology, numbercounts,\n",
    "                     weaklensing, l) for l in ls]"
   ]
  },
  {
   "cell_type": "code",
   "execution_count": 28,
   "id": "f9f0b3fa",
   "metadata": {},
   "outputs": [
    {
     "ename": "LoadError",
     "evalue": "UndefVarError: cosmology not defined",
     "output_type": "error",
     "traceback": [
      "UndefVarError: cosmology not defined",
      "",
      "Stacktrace:",
      " [1] (::var\"#15#16\")(l::Int64)",
      "   @ Main ./none:0",
      " [2] iterate",
      "   @ ./generator.jl:47 [inlined]",
      " [3] collect(itr::Base.Generator{Vector{Int64}, var\"#15#16\"})",
      "   @ Base ./array.jl:724",
      " [4] top-level scope",
      "   @ In[28]:1",
      " [5] eval",
      "   @ ./boot.jl:373 [inlined]",
      " [6] include_string(mapexpr::typeof(REPL.softscope), mod::Module, code::String, filename::String)",
      "   @ Base ./loading.jl:1196"
     ]
    }
   ],
   "source": [
    "[LimberJack.angularCℓ(cosmology, weaklensing,\n",
    "                     weaklensing, l) for l in ls]"
   ]
  },
  {
   "cell_type": "code",
   "execution_count": 29,
   "id": "ea91c456",
   "metadata": {},
   "outputs": [
    {
     "ename": "LoadError",
     "evalue": "UndefVarError: cosmology not defined",
     "output_type": "error",
     "traceback": [
      "UndefVarError: cosmology not defined",
      "",
      "Stacktrace:",
      " [1] (::var\"#17#18\")(l::Int64)",
      "   @ Main ./none:0",
      " [2] iterate",
      "   @ ./generator.jl:47 [inlined]",
      " [3] collect(itr::Base.Generator{Vector{Int64}, var\"#17#18\"})",
      "   @ Base ./array.jl:724",
      " [4] top-level scope",
      "   @ In[29]:1",
      " [5] eval",
      "   @ ./boot.jl:373 [inlined]",
      " [6] include_string(mapexpr::typeof(REPL.softscope), mod::Module, code::String, filename::String)",
      "   @ Base ./loading.jl:1196"
     ]
    }
   ],
   "source": [
    "[LimberJack.angularCℓ(cosmology, numbercounts,\n",
    "                     cmblensing, l) for l in ls]"
   ]
  },
  {
   "cell_type": "code",
   "execution_count": 30,
   "id": "7b478ac2",
   "metadata": {},
   "outputs": [
    {
     "ename": "LoadError",
     "evalue": "UndefVarError: cosmology not defined",
     "output_type": "error",
     "traceback": [
      "UndefVarError: cosmology not defined",
      "",
      "Stacktrace:",
      " [1] (::var\"#19#20\")(l::Int64)",
      "   @ Main ./none:0",
      " [2] iterate",
      "   @ ./generator.jl:47 [inlined]",
      " [3] collect(itr::Base.Generator{Vector{Int64}, var\"#19#20\"})",
      "   @ Base ./array.jl:724",
      " [4] top-level scope",
      "   @ In[30]:1",
      " [5] eval",
      "   @ ./boot.jl:373 [inlined]",
      " [6] include_string(mapexpr::typeof(REPL.softscope), mod::Module, code::String, filename::String)",
      "   @ Base ./loading.jl:1196"
     ]
    }
   ],
   "source": [
    "[LimberJack.angularCℓ(cosmology, weaklensing,\n",
    "                     cmblensing, l) for l in ls]"
   ]
  }
 ],
 "metadata": {
  "kernelspec": {
   "display_name": "Julia 1.7.0",
   "language": "julia",
   "name": "julia-1.7"
  },
  "language_info": {
   "file_extension": ".jl",
   "mimetype": "application/julia",
   "name": "julia",
   "version": "1.7.0"
  }
 },
 "nbformat": 4,
 "nbformat_minor": 5
}
