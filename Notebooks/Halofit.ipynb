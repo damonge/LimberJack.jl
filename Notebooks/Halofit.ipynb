{
 "cells": [
  {
   "cell_type": "markdown",
   "id": "compact-petroleum",
   "metadata": {},
   "source": [
    "# Imports"
   ]
  },
  {
   "cell_type": "code",
   "execution_count": 1,
   "id": "888f5e35",
   "metadata": {},
   "outputs": [
    {
     "name": "stderr",
     "output_type": "stream",
     "text": [
      "┌ Warning: The active manifest file is an older format with no julia version entry. Dependencies may have been resolved with a different julia version.\n",
      "└ @ nothing /home/jaime/PhD/LimberJack.jl/Manifest.toml:0\n",
      "\u001b[32m\u001b[1mPrecompiling\u001b[22m\u001b[39m project...\n",
      "\u001b[32m  ✓ \u001b[39mLimberJack\n",
      "  1 dependency successfully precompiled in 4 seconds (74 already precompiled)\n",
      "\u001b[32m\u001b[1mPrecompiling\u001b[22m\u001b[39m project...\n",
      "\u001b[32m  ✓ \u001b[39mLimberJack\n",
      "  1 dependency successfully precompiled in 4 seconds (74 already precompiled)\n"
     ]
    }
   ],
   "source": [
    "using Pkg\n",
    "using Plots\n",
    "Pkg.instantiate()\n",
    "Pkg.precompile()"
   ]
  },
  {
   "cell_type": "code",
   "execution_count": 2,
   "id": "lined-laser",
   "metadata": {
    "ExecuteTime": {
     "end_time": "2021-11-18T14:34:26.072000Z",
     "start_time": "2021-11-18T14:33:56.839Z"
    },
    "scrolled": false
   },
   "outputs": [
    {
     "data": {
      "text/plain": [
       "Main.LimberJack"
      ]
     },
     "execution_count": 2,
     "metadata": {},
     "output_type": "execute_result"
    }
   ],
   "source": [
    "include(\"/home/jaime/PhD/LimberJack.jl/src/LimberJack.jl\")"
   ]
  },
  {
   "cell_type": "code",
   "execution_count": 3,
   "id": "a7792f78",
   "metadata": {},
   "outputs": [],
   "source": [
    "params = LimberJack.CosmoPar(0.26, 0.05, 0.67, 0.96, 0.811, 2.755/2.7)\n",
    "cosmology = LimberJack.Cosmology(params, tk_mode=\"EisHu\");\n",
    "z = [0, 1, 2];\n",
    "k = [0.0001, 0.001, 0.01, 0.1, 1];"
   ]
  },
  {
   "cell_type": "code",
   "execution_count": 4,
   "id": "044af5bf",
   "metadata": {},
   "outputs": [
    {
     "ename": "LoadError",
     "evalue": "UndefVarError: power_spectrum not defined",
     "output_type": "error",
     "traceback": [
      "UndefVarError: power_spectrum not defined",
      "",
      "Stacktrace:",
      " [1] getproperty(x::Module, f::Symbol)",
      "   @ Base ./Base.jl:35",
      " [2] top-level scope",
      "   @ In[4]:1",
      " [3] eval",
      "   @ ./boot.jl:373 [inlined]",
      " [4] include_string(mapexpr::typeof(REPL.softscope), mod::Module, code::String, filename::String)",
      "   @ Base ./loading.jl:1196"
     ]
    }
   ],
   "source": [
    "PkL = LimberJack.power_spectrum(cosmology, 0, cosmology.ks; non_linear=false);\n",
    "Pk = LimberJack.power_spectrum(cosmology, 0, cosmology.ks);"
   ]
  },
  {
   "cell_type": "code",
   "execution_count": 5,
   "id": "e0c48ff7",
   "metadata": {},
   "outputs": [
    {
     "ename": "LoadError",
     "evalue": "UndefVarError: Pk not defined",
     "output_type": "error",
     "traceback": [
      "UndefVarError: Pk not defined",
      "",
      "Stacktrace:",
      " [1] top-level scope",
      "   @ In[5]:1",
      " [2] eval",
      "   @ ./boot.jl:373 [inlined]",
      " [3] include_string(mapexpr::typeof(REPL.softscope), mod::Module, code::String, filename::String)",
      "   @ Base ./loading.jl:1196"
     ]
    }
   ],
   "source": [
    "plot(cosmology.ks, Pk, yaxis=:log, xaxis=:log, label = \"Non-linear\")\n",
    "plot!(cosmology.ks, PkL, yaxis=:log, xaxis=:log, label = \"Linear\")\n",
    "xlabel!(\"k\")\n",
    "ylabel!(\"Pk\")"
   ]
  },
  {
   "cell_type": "code",
   "execution_count": 6,
   "id": "e483c81d",
   "metadata": {},
   "outputs": [],
   "source": [
    "wz = @. exp(-0.5*((cosmology.zs-0.5)/0.05)^2)\n",
    "numbercounts = LimberJack.NumberCountsTracer(cosmology, cosmology.zs, wz, 1.2);"
   ]
  },
  {
   "cell_type": "code",
   "execution_count": 7,
   "id": "ab929b0f",
   "metadata": {},
   "outputs": [
    {
     "data": {
      "text/plain": [
       "1.984036695203953e-15"
      ]
     },
     "execution_count": 7,
     "metadata": {},
     "output_type": "execute_result"
    }
   ],
   "source": [
    "LimberJack.Cℓintegrand(cosmology, numbercounts, numbercounts, 0., 1000)"
   ]
  },
  {
   "cell_type": "code",
   "execution_count": 8,
   "id": "3a85181b",
   "metadata": {},
   "outputs": [
    {
     "data": {
      "text/plain": [
       "9.894646756122005e-6"
      ]
     },
     "execution_count": 8,
     "metadata": {},
     "output_type": "execute_result"
    }
   ],
   "source": [
    "LimberJack.angularCℓ(cosmology, numbercounts,\n",
    "                     numbercounts, 1)"
   ]
  },
  {
   "cell_type": "code",
   "execution_count": null,
   "id": "f9f0b3fa",
   "metadata": {},
   "outputs": [],
   "source": []
  },
  {
   "cell_type": "code",
   "execution_count": null,
   "id": "ea91c456",
   "metadata": {},
   "outputs": [],
   "source": []
  }
 ],
 "metadata": {
  "kernelspec": {
   "display_name": "Julia 1.7.0",
   "language": "julia",
   "name": "julia-1.7"
  },
  "language_info": {
   "file_extension": ".jl",
   "mimetype": "application/julia",
   "name": "julia",
   "version": "1.7.0"
  }
 },
 "nbformat": 4,
 "nbformat_minor": 5
}
