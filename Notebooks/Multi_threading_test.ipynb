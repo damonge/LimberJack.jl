{
 "cells": [
  {
   "cell_type": "code",
   "execution_count": 1,
   "id": "a7c4b509",
   "metadata": {},
   "outputs": [],
   "source": [
    "using Turing\n",
    "using LimberJack\n",
    "using CSV\n",
    "using NPZ\n",
    "using Plots\n",
    "using FITSIO\n",
    "using Plots\n",
    "using LinearAlgebra\n",
    "using Distributed"
   ]
  },
  {
   "cell_type": "code",
   "execution_count": 2,
   "id": "71a90bd5",
   "metadata": {},
   "outputs": [
    {
     "data": {
      "text/plain": [
       "12"
      ]
     },
     "execution_count": 2,
     "metadata": {},
     "output_type": "execute_result"
    }
   ],
   "source": [
    "Threads.nthreads()"
   ]
  },
  {
   "cell_type": "code",
   "execution_count": 10,
   "id": "eab9c919",
   "metadata": {},
   "outputs": [
    {
     "ename": "LoadError",
     "evalue": "LoadError: ArgumentError: @threads requires a `for` loop expression\nin expression starting at In[10]:1",
     "output_type": "error",
     "traceback": [
      "LoadError: ArgumentError: @threads requires a `for` loop expression\nin expression starting at In[10]:1",
      "",
      "Stacktrace:",
      " [1] var\"@threads\"(__source__::LineNumberNode, __module__::Module, args::Vararg{Any})",
      "   @ Base.Threads ./threadingconstructs.jl:146",
      " [2] eval",
      "   @ ./boot.jl:373 [inlined]",
      " [3] include_string(mapexpr::typeof(REPL.softscope), mod::Module, code::String, filename::String)",
      "   @ Base ./loading.jl:1196"
     ]
    }
   ],
   "source": [
    "[i Threads.@threads(i for i in 1:5)]"
   ]
  },
  {
   "cell_type": "code",
   "execution_count": null,
   "id": "b149fbe1",
   "metadata": {},
   "outputs": [],
   "source": [
    "files = npzread(\"Cls_meta.npz\")\n",
    "Cls_meta = cls_meta(files)"
   ]
  },
  {
   "cell_type": "code",
   "execution_count": null,
   "id": "6b1f5539",
   "metadata": {},
   "outputs": [],
   "source": []
  },
  {
   "cell_type": "code",
   "execution_count": null,
   "id": "bafe6407",
   "metadata": {},
   "outputs": [],
   "source": [
    "cov_tot = files[\"cov\"]\n",
    "data_vector = files[\"cls\"]"
   ]
  },
  {
   "cell_type": "code",
   "execution_count": null,
   "id": "f3f3e8af",
   "metadata": {},
   "outputs": [],
   "source": [
    "heatmap(1:size(cov_tot,1), 1:size(cov_tot,2), log.((cov_tot.^2).^0.5))"
   ]
  },
  {
   "cell_type": "code",
   "execution_count": null,
   "id": "3789ecd0",
   "metadata": {},
   "outputs": [],
   "source": [
    "@model function model(data_vector)\n",
    "    Ωm ~ Uniform(0.2, 0.3)\n",
    "    h ~ Uniform(0.6, 0.8)\n",
    "    s8 ~ Uniform(0.7, 1.0)\n",
    "    \n",
    "    b0 ~ Uniform(1.0, 3.0)\n",
    "    b1 ~ Uniform(1.0, 3.0)\n",
    "    b2 ~ Uniform(1.0, 3.0)\n",
    "    b3 ~ Uniform(1.0, 3.0)\n",
    "    b4 ~ Uniform(1.0, 3.0)\n",
    "    \n",
    "    nuisances = Dict(\"b0\" => b0,\n",
    "                     \"b1\" => b1,\n",
    "                     \"b2\" => b2,\n",
    "                     \"b3\" => b3,\n",
    "                     \"b4\" => b4)\n",
    "    \n",
    "    cosmology = LimberJack.Cosmology(Ωm, 0.05, h, 0.96, s8,\n",
    "                                     tk_mode=\"EisHu\",\n",
    "                                     Pk_mode=\"Halofit\")\n",
    "    \n",
    "    theory = Theory(cosmology, nuisances, Cls_meta, files).Cls\n",
    "    data_vector ~ MvNormal(theory, cov_tot)\n",
    "end;\n",
    "\n",
    "iterations = 10\n",
    "\n",
    "# Start sampling.\n",
    "folname = string(\"DES_full_test_\", \"MH\")\n",
    "if isdir(folname)\n",
    "    println(\"Folder already exists\")\n",
    "    if isfile(joinpath(folname, \"chain.jls\"))\n",
    "        println(\"Restarting from past chain\")\n",
    "        past_chain = read(joinpath(folname, \"chain.jls\"), Chains)\n",
    "        new_chain = sample(model(data_vector), MH(), iterations,\n",
    "                           progress=true; save_state=true, resume_from=past_chain)\n",
    "    else\n",
    "        new_chain = sample(model(data_vector), MH(),\n",
    "                    iterations, progress=true; save_state=true)\n",
    "    end\n",
    "else\n",
    "    mkdir(folname)\n",
    "    println(\"Created new folder\")\n",
    "    new_chain = sample(model(data_vector), MH(),\n",
    "                iterations, progress=true; save_state=true)\n",
    "end\n",
    "\n",
    "summary = describe(new_chain)[1]\n",
    "fname_summary = string(\"summary.csv\")\n",
    "CSV.write(joinpath(folname, fname_summary), summary)\n",
    "\n",
    "fname_jls = string(\"chain.jls\")\n",
    "write(joinpath(folname, fname_jls), new_chain)\n",
    "    \n",
    "fname_csv = string(\"chain.csv\")\n",
    "CSV.write(joinpath(folname, fname_csv), new_chain)\n",
    "\n"
   ]
  },
  {
   "cell_type": "code",
   "execution_count": null,
   "id": "20ced8f1",
   "metadata": {},
   "outputs": [],
   "source": []
  }
 ],
 "metadata": {
  "kernelspec": {
   "display_name": "Julia (multi-thread) 1.7.0",
   "language": "julia",
   "name": "julia-(multi-thread)-1.7"
  },
  "language_info": {
   "file_extension": ".jl",
   "mimetype": "application/julia",
   "name": "julia",
   "version": "1.7.0"
  }
 },
 "nbformat": 4,
 "nbformat_minor": 5
}
