{
 "cells": [
  {
   "cell_type": "code",
   "execution_count": 112,
   "id": "a7c4b509",
   "metadata": {},
   "outputs": [],
   "source": [
    "using LimberJack\n",
    "using QuadGK\n",
    "using NPZ\n",
    "using FITSIO\n",
    "using BenchmarkTools\n",
    "using Trapz"
   ]
  },
  {
   "cell_type": "code",
   "execution_count": 113,
   "id": "71a90bd5",
   "metadata": {},
   "outputs": [
    {
     "data": {
      "text/plain": [
       "12"
      ]
     },
     "execution_count": 113,
     "metadata": {},
     "output_type": "execute_result"
    }
   ],
   "source": [
    "Threads.nthreads()"
   ]
  },
  {
   "cell_type": "code",
   "execution_count": 114,
   "id": "b149fbe1",
   "metadata": {},
   "outputs": [],
   "source": [
    "nzs = FITS(\"../data/DESY1_cls/y1_redshift_distributions_v1.fits\")\n",
    "nz = read(nzs[\"nz_lens\"], \"BIN2\")\n",
    "zs = read(nzs[\"nz_lens\"], \"Z_MID\");\n",
    "#ls = npzread(\"../data/DESY1_cls/DESgc_DESwl/cl_DESgc__2_DESwl__3.npz\")[\"ell\"];"
   ]
  },
  {
   "cell_type": "code",
   "execution_count": 146,
   "id": "9b75426a",
   "metadata": {},
   "outputs": [],
   "source": [
    "ls = [Float64(l) for l in 1:1_000];"
   ]
  },
  {
   "cell_type": "code",
   "execution_count": 147,
   "id": "adfc6644",
   "metadata": {},
   "outputs": [],
   "source": [
    "cosmology = LimberJack.Cosmology(0.3, 0.05, 0.67, 0.96, 0.811,\n",
    "                                     tk_mode=\"EisHu\",\n",
    "                                     Pk_mode=\"Halofit\");"
   ]
  },
  {
   "cell_type": "code",
   "execution_count": 148,
   "id": "fb3cf472",
   "metadata": {},
   "outputs": [],
   "source": [
    "tracer = NumberCountsTracer(cosmology, zs, nz, 2.0);"
   ]
  },
  {
   "cell_type": "code",
   "execution_count": 149,
   "id": "d45d6f3f",
   "metadata": {},
   "outputs": [
    {
     "data": {
      "text/plain": [
       "parallel_spec (generic function with 1 method)"
      ]
     },
     "execution_count": 149,
     "metadata": {},
     "output_type": "execute_result"
    }
   ],
   "source": [
    "function serial_spec()\n",
    "    for ell in ls\n",
    "        quadgk(lk -> Cℓintegrand(cosmology, tracer, tracer, lk, ell),\n",
    "               log(10^-4), log(10^2), rtol=1E-5)[1]/(ell+0.5)\n",
    "    end\n",
    "end\n",
    "\n",
    "function parallel_spec()\n",
    "    Threads.@threads for ell in ls\n",
    "        quadgk(lk -> Cℓintegrand(cosmology, tracer, tracer, lk, ell),\n",
    "               log(10^-4), log(10^2), rtol=1E-5)[1]/(ell+0.5)\n",
    "    end\n",
    "end"
   ]
  },
  {
   "cell_type": "code",
   "execution_count": 150,
   "id": "399fb4e0",
   "metadata": {},
   "outputs": [
    {
     "data": {
      "text/plain": [
       "BenchmarkTools.Trial: \n",
       "  memory estimate:  751.58 MiB\n",
       "  allocs estimate:  25504523\n",
       "  --------------\n",
       "  minimum time:     1.120 s (6.31% GC)\n",
       "  median time:      1.161 s (6.62% GC)\n",
       "  mean time:        1.259 s (6.12% GC)\n",
       "  maximum time:     1.593 s (5.25% GC)\n",
       "  --------------\n",
       "  samples:          4\n",
       "  evals/sample:     1"
      ]
     },
     "execution_count": 150,
     "metadata": {},
     "output_type": "execute_result"
    }
   ],
   "source": [
    "bench = @benchmarkable serial_spec()\n",
    "run(bench)"
   ]
  },
  {
   "cell_type": "code",
   "execution_count": 151,
   "id": "91755a9a",
   "metadata": {},
   "outputs": [
    {
     "data": {
      "text/plain": [
       "BenchmarkTools.Trial: \n",
       "  memory estimate:  751.42 MiB\n",
       "  allocs estimate:  25497095\n",
       "  --------------\n",
       "  minimum time:     1.309 s (23.60% GC)\n",
       "  median time:      1.329 s (23.51% GC)\n",
       "  mean time:        1.555 s (17.65% GC)\n",
       "  maximum time:     2.255 s (6.88% GC)\n",
       "  --------------\n",
       "  samples:          4\n",
       "  evals/sample:     1"
      ]
     },
     "execution_count": 151,
     "metadata": {},
     "output_type": "execute_result"
    }
   ],
   "source": [
    "bench = @benchmarkable parallel_spec()\n",
    "run(bench)"
   ]
  },
  {
   "cell_type": "code",
   "execution_count": 157,
   "id": "0e583f55",
   "metadata": {},
   "outputs": [],
   "source": [
    "lks = log(10^-4):0.001:log(10^2);"
   ]
  },
  {
   "cell_type": "code",
   "execution_count": 158,
   "id": "7f79ebe2",
   "metadata": {},
   "outputs": [
    {
     "data": {
      "text/plain": [
       "serial_spec_2 (generic function with 1 method)"
      ]
     },
     "execution_count": 158,
     "metadata": {},
     "output_type": "execute_result"
    }
   ],
   "source": [
    "integrand = zeros(length(lks))\n",
    "function serial_spec_2(lks, ls)\n",
    "    Cls = zeros(length(ls))\n",
    "    for j in 1:length(ls)\n",
    "        integrand = zeros(length(lks))\n",
    "        for i in 1:length(lks)\n",
    "            integrand[i] = Cℓintegrand(cosmology, tracer, tracer, lks[i], ls[j])\n",
    "        end\n",
    "        #integral = 0.5 .* (integrand[2:length(lks)].+integrand[1:length(lks)-1]) .- integrand[1]\n",
    "        integral = trapz(lks, integrand)\n",
    "        Cls[j] = integral\n",
    "    end\n",
    "    return Cls\n",
    "end"
   ]
  },
  {
   "cell_type": "code",
   "execution_count": 159,
   "id": "f5de8671",
   "metadata": {},
   "outputs": [
    {
     "data": {
      "text/plain": [
       "parallel_spec_2 (generic function with 1 method)"
      ]
     },
     "execution_count": 159,
     "metadata": {},
     "output_type": "execute_result"
    }
   ],
   "source": [
    "integrand = zeros(length(lks))\n",
    "function parallel_spec_2(lks, ls)\n",
    "    Cls = zeros(length(ls))\n",
    "    Threads.@threads for j in 1:length(ls)\n",
    "        integrand = zeros(length(lks))\n",
    "        for i in 1:length(lks)\n",
    "            integrand[i] = Cℓintegrand(cosmology, tracer, tracer, lks[i], ls[j])\n",
    "        end\n",
    "        #integral = 0.5 .* (integrand[2:length(lks)].+integrand[1:length(lks)-1]) .- integrand[1]\n",
    "        integral = trapz(lks, integrand)\n",
    "        Cls[j] = integral\n",
    "    end\n",
    "    return Cls\n",
    "end"
   ]
  },
  {
   "cell_type": "code",
   "execution_count": 160,
   "id": "20ce6bd0",
   "metadata": {},
   "outputs": [
    {
     "data": {
      "text/plain": [
       "BenchmarkTools.Trial: \n",
       "  memory estimate:  5.27 GiB\n",
       "  allocs estimate:  182112566\n",
       "  --------------\n",
       "  minimum time:     7.060 s (7.05% GC)\n",
       "  median time:      7.060 s (7.05% GC)\n",
       "  mean time:        7.060 s (7.05% GC)\n",
       "  maximum time:     7.060 s (7.05% GC)\n",
       "  --------------\n",
       "  samples:          1\n",
       "  evals/sample:     1"
      ]
     },
     "execution_count": 160,
     "metadata": {},
     "output_type": "execute_result"
    }
   ],
   "source": [
    "bench = @benchmarkable serial_spec_2(lks, ls)\n",
    "run(bench)"
   ]
  },
  {
   "cell_type": "code",
   "execution_count": 161,
   "id": "ba12f234",
   "metadata": {},
   "outputs": [
    {
     "data": {
      "text/plain": [
       "BenchmarkTools.Trial: \n",
       "  memory estimate:  5.28 GiB\n",
       "  allocs estimate:  182170968\n",
       "  --------------\n",
       "  minimum time:     8.164 s (22.80% GC)\n",
       "  median time:      8.164 s (22.80% GC)\n",
       "  mean time:        8.164 s (22.80% GC)\n",
       "  maximum time:     8.164 s (22.80% GC)\n",
       "  --------------\n",
       "  samples:          1\n",
       "  evals/sample:     1"
      ]
     },
     "execution_count": 161,
     "metadata": {},
     "output_type": "execute_result"
    }
   ],
   "source": [
    "bench = @benchmarkable parallel_spec_2(lks, ls)\n",
    "run(bench)"
   ]
  },
  {
   "cell_type": "code",
   "execution_count": 43,
   "id": "e9b42cd0",
   "metadata": {},
   "outputs": [
    {
     "data": {
      "text/plain": [
       "TheoryTest (generic function with 1 method)"
      ]
     },
     "execution_count": 43,
     "metadata": {},
     "output_type": "execute_result"
    }
   ],
   "source": [
    "function TheoryTest(cosmology, Nuisances, cls_meta, files)\n",
    "    # OPT: move these loops outside the lkl\n",
    "    tracers = []\n",
    "    for tracer in cls_meta.tracers\n",
    "        tracer_type = tracer[1]\n",
    "        bin = tracer[2]\n",
    "        nzs = files[string(\"nz_\", tracer_type, bin)]\n",
    "        zs = vec(nzs[1:1, :])\n",
    "        nz = vec(nzs[2:2, :])\n",
    "        if tracer_type == 1\n",
    "            bias = string(\"b\", bin)\n",
    "            tracer = \n",
    "            \n",
    "        elseif tracer_type == 2\n",
    "            tracer = WeakLensingTracer(cosmology, zs, nz)\n",
    "        else\n",
    "            print(\"Not implemented\")\n",
    "            trancer = nothing\n",
    "        end\n",
    "        push!(tracers, tracer)\n",
    "    end\n",
    "    #Cls = Vector{Real}[]\n",
    "    Cls = []\n",
    "    @inbounds for i in 1:length(cls_meta.pairs)\n",
    "        pair = cls_meta.pairs[i]\n",
    "        ids = cls_meta.pairs_ids[i]\n",
    "        ls = files[string(\"ls_\", pair[1], pair[2], pair[3], pair[4])]\n",
    "        tracer1 = tracers[ids[1]]\n",
    "        tracer2 = tracers[ids[2]]\n",
    "        Cl = zeros(length(ls))\n",
    "        @inbounds Threads.@threads for i in 1:length(ls)\n",
    "            Cl[i] = angularCℓ(cosmology, tracer1, tracer2, ls[i]) \n",
    "        end\n",
    "        push!(Cls, Cl)\n",
    "    end\n",
    "    return vcat(Cls...)\n",
    "    \n",
    "end"
   ]
  },
  {
   "cell_type": "code",
   "execution_count": 5,
   "id": "20ced8f1",
   "metadata": {},
   "outputs": [],
   "source": [
    "function th(Ωm, h, s8)\n",
    "    b0 = 1\n",
    "    b1 = 1\n",
    "    b2 = 1\n",
    "    b3 = 1\n",
    "    b4 = 1\n",
    "    \n",
    "    nuisances = Dict(\"b0\" => b0,\n",
    "                     \"b1\" => b1,\n",
    "                     \"b2\" => b2,\n",
    "                     \"b3\" => b3,\n",
    "                     \"b4\" => b4)\n",
    "    \n",
    "    cosmology = LimberJack.Cosmology(Ωm, 0.05, h, 0.96, s8,\n",
    "                                     tk_mode=\"EisHu\",\n",
    "                                     Pk_mode=\"Halofit\")\n",
    "    \n",
    "    theory = TheoryTest(cosmology, nuisances, Cls_meta, files)\n",
    "    return theory\n",
    "end;"
   ]
  },
  {
   "cell_type": "code",
   "execution_count": 21,
   "id": "9e3955b4",
   "metadata": {},
   "outputs": [
    {
     "data": {
      "text/plain": [
       "BenchmarkTools.Trial: \n",
       "  memory estimate:  1.06 GiB\n",
       "  allocs estimate:  55609105\n",
       "  --------------\n",
       "  minimum time:     1.546 s (10.52% GC)\n",
       "  median time:      1.570 s (10.36% GC)\n",
       "  mean time:        1.583 s (10.57% GC)\n",
       "  maximum time:     1.634 s (11.26% GC)\n",
       "  --------------\n",
       "  samples:          3\n",
       "  evals/sample:     1"
      ]
     },
     "execution_count": 21,
     "metadata": {},
     "output_type": "execute_result"
    }
   ],
   "source": [
    "bench = @benchmarkable th(0.30, 0.60, 0.80)\n",
    "run(bench)"
   ]
  },
  {
   "cell_type": "code",
   "execution_count": 12,
   "id": "b5dfd1a8",
   "metadata": {},
   "outputs": [
    {
     "data": {
      "text/plain": [
       "f3 (generic function with 2 methods)"
      ]
     },
     "execution_count": 12,
     "metadata": {},
     "output_type": "execute_result"
    }
   ],
   "source": [
    "using QuadGK\n",
    "using Trapz\n",
    "n = 1_000_000\n",
    "a = rand(n);\n",
    "b = rand(n);\n",
    "f(ai,bi) = acos((ai*bi)/(ai+bi))+asin((ai*bi)/(ai+bi))\n",
    "f2(ai) = quadgk(x -> exp(-x^2), 0, abs(ai), rtol=1e-8)[1]\n",
    "f3(ai, ai_p1) = 0.5*(ai_p1+ai)#-0.5*a[1]"
   ]
  },
  {
   "cell_type": "code",
   "execution_count": 19,
   "id": "b703c344",
   "metadata": {},
   "outputs": [
    {
     "data": {
      "text/plain": [
       "parallel_2 (generic function with 1 method)"
      ]
     },
     "execution_count": 19,
     "metadata": {},
     "output_type": "execute_result"
    }
   ],
   "source": [
    "function serial_1(a)\n",
    "    n = length(a)\n",
    "    c = zeros(n)\n",
    "    for i in 1:n\n",
    "        #c[i] = f(a[i], b[i])\n",
    "        c[i] = f2(a[i])\n",
    "    end\n",
    "end\n",
    "\n",
    "function parallel_1(a)\n",
    "    n = length(a)\n",
    "    c = zeros(n)\n",
    "    Threads.@threads for i in 1:n\n",
    "        #c[i] = f(a[i], b[i])\n",
    "        c[i] = f2(a[i])\n",
    "    end\n",
    "end \n",
    "\n",
    "function serial_2(a)\n",
    "    n = length(a)\n",
    "    c = zeros(n)\n",
    "    Threads.@threads for i in 1:n-1\n",
    "        #c[i] = f(a[i], b[i])\n",
    "        c[i] = f3(a[i], a[i+1])\n",
    "    end\n",
    "    c = c.+a[1]\n",
    "end\n",
    "\n",
    "function parallel_2(a)\n",
    "    n = length(a)\n",
    "    c = zeros(n)\n",
    "    Threads.@threads for i in 1:n-1\n",
    "        #c[i] = f(a[i], b[i])\n",
    "        c[i] = f3(a[i], a[i+1])\n",
    "    end\n",
    "    c = c.+a[1]\n",
    "end "
   ]
  },
  {
   "cell_type": "code",
   "execution_count": 20,
   "id": "94f7f15f",
   "metadata": {},
   "outputs": [
    {
     "data": {
      "text/plain": [
       "BenchmarkTools.Trial: \n",
       "  memory estimate:  190.73 MiB\n",
       "  allocs estimate:  9000002\n",
       "  --------------\n",
       "  minimum time:     419.626 ms (2.64% GC)\n",
       "  median time:      452.478 ms (2.84% GC)\n",
       "  mean time:        448.346 ms (3.20% GC)\n",
       "  maximum time:     483.953 ms (4.80% GC)\n",
       "  --------------\n",
       "  samples:          12\n",
       "  evals/sample:     1"
      ]
     },
     "execution_count": 20,
     "metadata": {},
     "output_type": "execute_result"
    }
   ],
   "source": [
    "bench = @benchmarkable serial_1(a)\n",
    "run(bench)"
   ]
  },
  {
   "cell_type": "code",
   "execution_count": 21,
   "id": "5610e8df",
   "metadata": {},
   "outputs": [
    {
     "data": {
      "text/plain": [
       "BenchmarkTools.Trial: \n",
       "  memory estimate:  45.77 MiB\n",
       "  allocs estimate:  1999556\n",
       "  --------------\n",
       "  minimum time:     6.575 ms (0.00% GC)\n",
       "  median time:      33.797 ms (0.00% GC)\n",
       "  mean time:        35.881 ms (15.75% GC)\n",
       "  maximum time:     144.593 ms (0.00% GC)\n",
       "  --------------\n",
       "  samples:          136\n",
       "  evals/sample:     1"
      ]
     },
     "execution_count": 21,
     "metadata": {},
     "output_type": "execute_result"
    }
   ],
   "source": [
    "bench = @benchmarkable serial_2(a)\n",
    "run(bench)"
   ]
  },
  {
   "cell_type": "code",
   "execution_count": 22,
   "id": "f62b1f0d",
   "metadata": {},
   "outputs": [
    {
     "data": {
      "text/plain": [
       "BenchmarkTools.Trial: \n",
       "  memory estimate:  190.74 MiB\n",
       "  allocs estimate:  9000064\n",
       "  --------------\n",
       "  minimum time:     211.870 ms (0.00% GC)\n",
       "  median time:      229.415 ms (0.00% GC)\n",
       "  mean time:        255.459 ms (17.96% GC)\n",
       "  maximum time:     366.624 ms (45.60% GC)\n",
       "  --------------\n",
       "  samples:          20\n",
       "  evals/sample:     1"
      ]
     },
     "execution_count": 22,
     "metadata": {},
     "output_type": "execute_result"
    }
   ],
   "source": [
    "bench = @benchmarkable parallel_1(a)\n",
    "run(bench)"
   ]
  },
  {
   "cell_type": "code",
   "execution_count": 23,
   "id": "9b7b9387",
   "metadata": {},
   "outputs": [
    {
     "data": {
      "text/plain": [
       "BenchmarkTools.Trial: \n",
       "  memory estimate:  45.77 MiB\n",
       "  allocs estimate:  1999556\n",
       "  --------------\n",
       "  minimum time:     7.045 ms (0.00% GC)\n",
       "  median time:      33.102 ms (0.00% GC)\n",
       "  mean time:        32.192 ms (16.19% GC)\n",
       "  maximum time:     84.447 ms (0.00% GC)\n",
       "  --------------\n",
       "  samples:          156\n",
       "  evals/sample:     1"
      ]
     },
     "execution_count": 23,
     "metadata": {},
     "output_type": "execute_result"
    }
   ],
   "source": [
    "bench = @benchmarkable parallel_2(a)\n",
    "run(bench)"
   ]
  },
  {
   "cell_type": "code",
   "execution_count": 44,
   "id": "9af48feb",
   "metadata": {},
   "outputs": [
    {
     "ename": "LoadError",
     "evalue": "UndefVarError: simple_example not defined",
     "output_type": "error",
     "traceback": [
      "UndefVarError: simple_example not defined",
      "",
      "Stacktrace:",
      " [1] macro expansion",
      "   @ ./timing.jl:220 [inlined]",
      " [2] top-level scope",
      "   @ ./In[44]:2",
      " [3] eval",
      "   @ ./boot.jl:373 [inlined]",
      " [4] include_string(mapexpr::typeof(REPL.softscope), mod::Module, code::String, filename::String)",
      "   @ Base ./loading.jl:1196"
     ]
    }
   ],
   "source": [
    "for i in 1:10\n",
    "    @time simple_example(1000000)\n",
    "end"
   ]
  },
  {
   "cell_type": "code",
   "execution_count": 57,
   "id": "ea86c268",
   "metadata": {},
   "outputs": [
    {
     "ename": "LoadError",
     "evalue": "UndefVarError: simple_parallel_example not defined",
     "output_type": "error",
     "traceback": [
      "UndefVarError: simple_parallel_example not defined",
      "",
      "Stacktrace:",
      " [1] macro expansion",
      "   @ ./timing.jl:220 [inlined]",
      " [2] top-level scope",
      "   @ ./In[57]:2",
      " [3] eval",
      "   @ ./boot.jl:373 [inlined]",
      " [4] include_string(mapexpr::typeof(REPL.softscope), mod::Module, code::String, filename::String)",
      "   @ Base ./loading.jl:1196"
     ]
    }
   ],
   "source": [
    "for i in 1:10\n",
    "    @time simple_parallel_example(1000000)\n",
    "end"
   ]
  },
  {
   "cell_type": "code",
   "execution_count": 34,
   "id": "1dc19421",
   "metadata": {},
   "outputs": [
    {
     "data": {
      "text/plain": [
       "f_serial (generic function with 1 method)"
      ]
     },
     "execution_count": 34,
     "metadata": {},
     "output_type": "execute_result"
    }
   ],
   "source": [
    "foo(x) = rand(x,x,x)\n",
    "\n",
    "function f_parallel(n)\n",
    "    Threads.@threads for _ in 1:Threads.nthreads()\n",
    "        foo(n)\n",
    "    end\n",
    "end\n",
    "\n",
    "function f_serial(n)\n",
    "    for _ in 1:Threads.nthreads()\n",
    "        foo(n)\n",
    "    end\n",
    "end"
   ]
  },
  {
   "cell_type": "code",
   "execution_count": 36,
   "id": "47276fab",
   "metadata": {},
   "outputs": [
    {
     "name": "stdout",
     "output_type": "stream",
     "text": [
      "  7.866 ms (85 allocations: 91.56 MiB)\n"
     ]
    }
   ],
   "source": [
    "@btime f_parallel(100)"
   ]
  },
  {
   "cell_type": "code",
   "execution_count": 37,
   "id": "abe2ffa0",
   "metadata": {},
   "outputs": [
    {
     "name": "stdout",
     "output_type": "stream",
     "text": [
      "  12.164 ms (24 allocations: 91.55 MiB)\n"
     ]
    }
   ],
   "source": [
    "@btime f_serial(100)"
   ]
  },
  {
   "cell_type": "code",
   "execution_count": 38,
   "id": "35bbd6be",
   "metadata": {},
   "outputs": [
    {
     "name": "stdout",
     "output_type": "stream",
     "text": [
      "  38.300 μs (73 allocations: 6.52 KiB)\n"
     ]
    }
   ],
   "source": [
    "@btime f_parallel(1)"
   ]
  },
  {
   "cell_type": "code",
   "execution_count": 39,
   "id": "0f92d573",
   "metadata": {},
   "outputs": [
    {
     "name": "stdout",
     "output_type": "stream",
     "text": [
      "  368.116 ns (12 allocations: 768 bytes)\n"
     ]
    }
   ],
   "source": [
    "@btime f_serial(1)"
   ]
  },
  {
   "cell_type": "code",
   "execution_count": 40,
   "id": "8f245095",
   "metadata": {},
   "outputs": [
    {
     "data": {
      "text/plain": [
       "100000000-element Vector{Int64}:\n",
       "         1\n",
       "         2\n",
       "         3\n",
       "         4\n",
       "         5\n",
       "         6\n",
       "         7\n",
       "         8\n",
       "         9\n",
       "        10\n",
       "        11\n",
       "        12\n",
       "        13\n",
       "         ⋮\n",
       "  99999989\n",
       "  99999990\n",
       "  99999991\n",
       "  99999992\n",
       "  99999993\n",
       "  99999994\n",
       "  99999995\n",
       "  99999996\n",
       "  99999997\n",
       "  99999998\n",
       "  99999999\n",
       " 100000000"
      ]
     },
     "execution_count": 40,
     "metadata": {},
     "output_type": "execute_result"
    }
   ],
   "source": [
    "collect(1:100_000_000)"
   ]
  },
  {
   "cell_type": "code",
   "execution_count": 51,
   "id": "5fab2944",
   "metadata": {},
   "outputs": [
    {
     "data": {
      "text/plain": [
       "fparallel2 (generic function with 1 method)"
      ]
     },
     "execution_count": 51,
     "metadata": {},
     "output_type": "execute_result"
    }
   ],
   "source": [
    "nset = collect(1:100_000_000);\n",
    "\n",
    "foo(i) = sqrt((i*(i-1))%(i+1)^2) # some function\n",
    "\n",
    "function fparallel(nset) \n",
    "    nset_perthread = round(Int64,length(nset)/Threads.nthreads())\n",
    "    Threads.@threads for i in 1:Threads.nthreads()\n",
    "        jfirst = nset_perthread*(i-1)+1\n",
    "        jlast = jfirst + nset_perthread - 1\n",
    "        for j in jfirst:jlast\n",
    "           foo(j)\n",
    "        end\n",
    "    end\n",
    "end\n",
    "\n",
    "function fserial(nset) \n",
    "    for i in 1:length(nset)\n",
    "        foo(i)\n",
    "    end\n",
    "end\n",
    "\n",
    "function fparallel2(nset) \n",
    "    Threads.@threads for i in 1:length(nset)\n",
    "        foo(i)\n",
    "    end\n",
    "end"
   ]
  },
  {
   "cell_type": "code",
   "execution_count": 52,
   "id": "445964f8",
   "metadata": {},
   "outputs": [
    {
     "name": "stdout",
     "output_type": "stream",
     "text": [
      "  809.550 ms (0 allocations: 0 bytes)\n",
      "  125.218 ms (61 allocations: 5.77 KiB)\n",
      "  123.177 ms (61 allocations: 5.77 KiB)\n"
     ]
    }
   ],
   "source": [
    "@btime fserial($nset)\n",
    "\n",
    "@btime fparallel($nset)\n",
    "\n",
    "@btime fparallel2($nset)"
   ]
  },
  {
   "cell_type": "code",
   "execution_count": null,
   "id": "73b51ed9",
   "metadata": {},
   "outputs": [],
   "source": []
  }
 ],
 "metadata": {
  "kernelspec": {
   "display_name": "Julia (multi-thread) 1.7.0",
   "language": "julia",
   "name": "julia-(multi-thread)-1.7"
  },
  "language_info": {
   "file_extension": ".jl",
   "mimetype": "application/julia",
   "name": "julia",
   "version": "1.7.0"
  }
 },
 "nbformat": 4,
 "nbformat_minor": 5
}
