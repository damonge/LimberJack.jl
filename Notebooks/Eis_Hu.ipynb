{
 "cells": [
  {
   "cell_type": "code",
   "execution_count": 1,
   "id": "elder-tokyo",
   "metadata": {},
   "outputs": [
    {
     "name": "stderr",
     "output_type": "stream",
     "text": [
      "\u001b[32m\u001b[1mPrecompiling\u001b[22m\u001b[39m project...\n"
     ]
    }
   ],
   "source": [
    "using Pkg\n",
    "Pkg.instantiate()\n",
    "Pkg.precompile()"
   ]
  },
  {
   "cell_type": "code",
   "execution_count": 2,
   "id": "disciplinary-feelings",
   "metadata": {},
   "outputs": [],
   "source": [
    "using Interpolations\n",
    "using QuadGK\n",
    "using OrdinaryDiffEq"
   ]
  },
  {
   "cell_type": "code",
   "execution_count": 3,
   "id": "potential-improvement",
   "metadata": {},
   "outputs": [
    {
     "data": {
      "text/plain": [
       "Cosmology"
      ]
     },
     "execution_count": 3,
     "metadata": {},
     "output_type": "execute_result"
    }
   ],
   "source": [
    "struct CosmoPar{T}\n",
    "    Ωm::T\n",
    "    Ωb::T\n",
    "    h::T\n",
    "    n_s::T\n",
    "    σ8::T\n",
    "end\n",
    "\n",
    "struct Cosmology\n",
    "    cosmo::CosmoPar\n",
    "    # Power spectrum\n",
    "    ks::Array\n",
    "    pk0::Array\n",
    "    dlogk\n",
    "    lplk::AbstractInterpolation\n",
    "    # Redshift and background\n",
    "    zs::Array\n",
    "    chis::Array\n",
    "    chi::AbstractInterpolation\n",
    "    z_of_chi::AbstractInterpolation\n",
    "    chi_max\n",
    "    Dzs::Array\n",
    "    Dz::AbstractInterpolation\n",
    "end\n",
    "\n",
    "Cosmology(cpar::CosmoPar; nk=256, nz=256, tk_mode=\"BBKS\") = begin\n",
    "    # Compute linear power spectrum at z=0.\n",
    "    ks = 10 .^ range(-4., stop=2., length=nk)\n",
    "    dlogk = log(ks[2]/ks[1])\n",
    "    if tk_mode== \"Eis_Hu\"\n",
    "        tk = Tk_Eis_Hu(cpar, ks)\n",
    "    elseif tk_mode== \"BBKS\"\n",
    "        tk = TkBBKS(cpar, ks)\n",
    "    else\n",
    "        print(\"Transfer function not implemented\")\n",
    "    end\n",
    "    pk0 = @. ks^cpar.n_s * tk\n",
    "    σ8_2_here = _σR2(ks, pk0, dlogk, 8.0/cpar.h)\n",
    "    norm = cpar.σ8^2 / σ8_2_here\n",
    "    pk0[:] = pk0 .* norm\n",
    "    # OPT: interpolation method\n",
    "    pki = LinearInterpolation(log.(ks), log.(pk0))\n",
    "\n",
    "    # Compute redshift-distance relation\n",
    "    zs = range(0., stop=3., length=nz)\n",
    "    norm = CLIGHT_HMPC / cpar.h\n",
    "    chis = [quadgk(z -> 1.0/_Ez(cpar, z), 0.0, zz, rtol=1E-5)[1] * norm\n",
    "            for zz in zs]\n",
    "    # OPT: tolerances, interpolation method\n",
    "    chii = LinearInterpolation(zs, chis)\n",
    "    zi = LinearInterpolation(chis, zs)\n",
    "\n",
    "    # ODE solution for growth factor\n",
    "    z_ini = 1000.0\n",
    "    a_ini = 1.0/(1.0+z_ini)\n",
    "    ez_ini = _Ez(cpar, z_ini)\n",
    "    d0 = [a_ini^3*ez_ini, a_ini]\n",
    "    a_s = reverse(@. 1.0 / (1.0 + zs))\n",
    "    prob = ODEProblem(_dgrowth!, d0, (a_ini, 1.0), cpar)\n",
    "    sol = solve(prob, Tsit5(), reltol=1E-6,\n",
    "                abstol=1E-8, saveat=a_s)\n",
    "    # OPT: interpolation (see below), ODE method, tolerances\n",
    "    # Note that sol already includes some kind of interpolation,\n",
    "    # so it may be possible to optimize this by just using\n",
    "    # sol directly.\n",
    "    s = vcat(sol.u'...)\n",
    "    Dzs = reverse(s[:, 2] / s[end, 2])\n",
    "    # OPT: interpolation method\n",
    "    Dzi = LinearInterpolation(zs, Dzs)\n",
    "\n",
    "    Cosmology(cpar, ks, pk0, dlogk, pki,\n",
    "              collect(zs), chis, chii, zi, chis[end],\n",
    "              Dzs, Dzi)\n",
    "end\n",
    "\n",
    "Cosmology(Ωc, Ωb, h, n_s, σ8; nk=256, nz=256) = begin\n",
    "    Ωm = Ωc + Ωb\n",
    "    cpar = CosmoPar(Ωm, Ωb, h, n_s, σ8)\n",
    "\n",
    "    Cosmology(cpar, nk=nk, nz=nz)\n",
    "end\n",
    "\n",
    "Cosmology() = Cosmology(0.25, 0.05, 0.67, 0.96, 0.81)"
   ]
  },
  {
   "cell_type": "code",
   "execution_count": 11,
   "id": "intelligent-stamp",
   "metadata": {},
   "outputs": [
    {
     "data": {
      "text/plain": [
       "power_spectrum (generic function with 1 method)"
      ]
     },
     "execution_count": 11,
     "metadata": {},
     "output_type": "execute_result"
    }
   ],
   "source": [
    "function get_zeq(cosmo::CosmoPar)\n",
    "    wm=cosmo.Ωm*cosmo.h^2\n",
    "    tfac=2.725 / 2.7\n",
    "    return 2.5*10^4*wm*tfac^(-4)\n",
    "end\n",
    "\n",
    "function get_keq(cosmo::CosmoPar)\n",
    "    wm=cosmo.Ωm*cosmo.h^2\n",
    "    tfac=2.725/2.7\n",
    "    return 7.46*10^(-2)*wm*tfac^(-2)\n",
    "end\n",
    "\n",
    "function get_zdrag(cosmo::CosmoPar)\n",
    "    wb=cosmo.Ωb*cosmo.h^2\n",
    "    wm=cosmo.Ωm*cosmo.h^2\n",
    "    b1 = 0.313*wm^-0.419*(1+0.607*wm*0.674)\n",
    "    b2 = 0.238*wm^0.223\n",
    "    return 1291*((wm^0.251)/(1+0.659*wm^0.028))*(1+b1*wb^b2)\n",
    "end\n",
    "\n",
    "function R(cosmo::CosmoPar, z)\n",
    "    wb=cosmo.Ωb*cosmo.h^2\n",
    "    tfac=2.725 / 2.7\n",
    "    return 31.5*wb*tfac^-4*(z/10^3)^-1\n",
    "end\n",
    "\n",
    "\n",
    "function get_rs(cosmo::CosmoPar)\n",
    "    keq = get_keq(cosmo)\n",
    "    zeq = get_zeq(cosmo)\n",
    "    zd = get_zdrag(cosmo)\n",
    "    rs = sqrt(1+R(cosmo, zd))+sqrt(R(cosmo, zd)+R(cosmo, zeq))\n",
    "    rs /= 1+sqrt(R(cosmo, zeq))\n",
    "    rs = log(rs)\n",
    "    rs *= 2/(3*keq)*sqrt(6/R(cosmo, zeq))\n",
    "    return rs\n",
    "end\n",
    "    \n",
    "function G(y)\n",
    "    return y*(-6*sqrt(1+y)+(2+3y)*log((sqrt(1+y)+1)/(sqrt(1+y)-1)))\n",
    "end\n",
    "    \n",
    "function T0(cosmo::CosmoPar, k, ac, bc)\n",
    "    tfac = 2.725 / 2.7\n",
    "    wm=cosmo.Ωm*cosmo.h^2\n",
    "    keq = get_keq(cosmo)\n",
    "    q = k/(13.41*keq)\n",
    "    C = 14.2/ac + 386/(1+69.9*q.^1.08)\n",
    "    return (log(ℯ+1.8*bc*q))/(log(ℯ+1.8*bc*q)+C*q.^2)\n",
    "end \n",
    "    \n",
    "function Tc(cosmo::CosmoPar, k)\n",
    "   Wc = cosmo.Ωm-cosmo.Ωb\n",
    "   s = get_rs(cosmo)\n",
    "   keq = get_keq(cosmo)\n",
    "   tfac = 2.725 / 2.7\n",
    "   wm=cosmo.Ωm*cosmo.h^2\n",
    "   q = k/(13.41*keq)\n",
    "   a1 = (46.9*wm)^0.670*(1+(32.1*wm)^-0.532)\n",
    "   a2 = (12.0*wm)^0.424*(1+(45.0*wm)^-0.582)\n",
    "   ac = (a1^(-cosmo.Ωb/cosmo.Ωm))*(a2^(-(cosmo.Ωb/cosmo.Ωm)^3))\n",
    "   b1 = 0.944*(1+(458*wm)^(-0.708))^(-1)\n",
    "   b2 = (0.395*wm)^(-0.0266)\n",
    "   bc = 1/(1+b1*((Wc/cosmo.Ωm)^b2-1))\n",
    "   f = 1/(1+(k*s/5.4)^4)\n",
    "   return f*T0(cosmo, k, 1, bc) + (1-f)*T0(cosmo, k, ac, bc)\n",
    "end \n",
    "\n",
    "function Tb(cosmo::CosmoPar, k)\n",
    "   wm=cosmo.Ωm*cosmo.h^2\n",
    "   wb=cosmo.Ωb*cosmo.h^2\n",
    "   s = get_rs(cosmo)\n",
    "   zd = get_zdrag(cosmo)\n",
    "   zeq = get_zeq(cosmo)\n",
    "   keq = get_keq(cosmo)\n",
    "   ksilk = 1.6*wb^0.52*wm^0.73*(1+(10.4*wm)^-0.95)\n",
    "   ab = 2.07*keq*s*(1+R(cosmo, zd))^(-3/4)*G((1+zeq)/(1+zd))\n",
    "   bb =  0.5+(cosmo.Ωb/cosmo.Ωm)+(3-2*cosmo.Ωb/cosmo.Ωm)sqrt((17.2*wm)^2+1)\n",
    "   bnode = 8.41*(wm)^0.435\n",
    "   ss = s/(1+(bnode/(k*s))^3)^(1/3)\n",
    "   Tb = (T0(cosmo, k, 1, 1)/(1+(k*s/5.2)^2))+(ab/(1+(bb/(k*s))^3))*exp(-1.4*(k/ksilk)^1.4)\n",
    "   return Tb*(sin(k*ss)/(k*ss))\n",
    "end \n",
    "\n",
    "function TkEisHu(cosmo::CosmoPar, k)\n",
    "    Wc = cosmo.Ωm-cosmo.Ωb\n",
    "    return (cosmo.Ωb/cosmo.Ωm)*Tb(cosmo, k)+(Wc/cosmo.Ωm)*Tc(cosmo, k)\n",
    "end\n",
    "\n",
    "growth_factor(cosmo::Cosmology, z) = cosmo.Dz(z)\n",
    "function power_spectrum(cosmo::Cosmology, k, z)\n",
    "    Dz2 = growth_factor(cosmo, z)^2\n",
    "    @. exp(cosmo.lplk(log(k)))*Dz2\n",
    "end"
   ]
  },
  {
   "cell_type": "code",
   "execution_count": 12,
   "id": "approved-study",
   "metadata": {},
   "outputs": [
    {
     "data": {
      "text/plain": [
       "CosmoPar{Float64}(0.25, 0.05, 0.67, 0.96, 0.81)"
      ]
     },
     "execution_count": 12,
     "metadata": {},
     "output_type": "execute_result"
    }
   ],
   "source": [
    "cosmopar = CosmoPar(0.25, 0.05, 0.67, 0.96, 0.81)\n",
    "#Cosmology = Cosmology(cosmopar, tk_mode=\"Eis_Hu\") "
   ]
  },
  {
   "cell_type": "code",
   "execution_count": null,
   "id": "honey-columbus",
   "metadata": {},
   "outputs": [],
   "source": []
  },
  {
   "cell_type": "code",
   "execution_count": 6,
   "id": "substantial-adrian",
   "metadata": {},
   "outputs": [
    {
     "ename": "MethodError",
     "evalue": "\u001b[91mMethodError: no method matching ^(::Array{Float64,1}, ::Int64)\u001b[39m\n\u001b[91m\u001b[0mClosest candidates are:\u001b[39m\n\u001b[91m\u001b[0m  ^(\u001b[91m::Float16\u001b[39m, ::Integer) at math.jl:885\u001b[39m\n\u001b[91m\u001b[0m  ^(\u001b[91m::Regex\u001b[39m, ::Integer) at regex.jl:712\u001b[39m\n\u001b[91m\u001b[0m  ^(\u001b[91m::Missing\u001b[39m, ::Integer) at missing.jl:155\u001b[39m\n\u001b[91m\u001b[0m  ...\u001b[39m",
     "output_type": "error",
     "traceback": [
      "\u001b[91mMethodError: no method matching ^(::Array{Float64,1}, ::Int64)\u001b[39m\n\u001b[91m\u001b[0mClosest candidates are:\u001b[39m\n\u001b[91m\u001b[0m  ^(\u001b[91m::Float16\u001b[39m, ::Integer) at math.jl:885\u001b[39m\n\u001b[91m\u001b[0m  ^(\u001b[91m::Regex\u001b[39m, ::Integer) at regex.jl:712\u001b[39m\n\u001b[91m\u001b[0m  ^(\u001b[91m::Missing\u001b[39m, ::Integer) at missing.jl:155\u001b[39m\n\u001b[91m\u001b[0m  ...\u001b[39m",
      "",
      "Stacktrace:",
      " [1] macro expansion at ./none:0 [inlined]",
      " [2] literal_pow at ./none:0 [inlined]",
      " [3] Tc(::CosmoPar{Float64}, ::Array{Float64,1}) at ./In[4]:65",
      " [4] top-level scope at In[6]:1"
     ]
    }
   ],
   "source": [
    "Tc(cosmopar, [1.0])"
   ]
  },
  {
   "cell_type": "code",
   "execution_count": 13,
   "id": "missing-tonight",
   "metadata": {},
   "outputs": [
    {
     "ename": "MethodError",
     "evalue": "\u001b[91mMethodError: no method matching +(::Int64, ::Array{Float64,1})\u001b[39m\n\u001b[91m\u001b[0mClosest candidates are:\u001b[39m\n\u001b[91m\u001b[0m  +(::Any, ::Any, \u001b[91m::Any\u001b[39m, \u001b[91m::Any...\u001b[39m) at operators.jl:529\u001b[39m\n\u001b[91m\u001b[0m  +(\u001b[91m::ChainRulesCore.NotImplemented\u001b[39m, ::Any) at /home/jaimerz/.julia/packages/ChainRulesCore/BYuIz/src/differential_arithmetic.jl:25\u001b[39m\n\u001b[91m\u001b[0m  +(\u001b[91m::ChainRulesCore.ZeroTangent\u001b[39m, ::Any) at /home/jaimerz/.julia/packages/ChainRulesCore/BYuIz/src/differential_arithmetic.jl:115\u001b[39m\n\u001b[91m\u001b[0m  ...\u001b[39m",
     "output_type": "error",
     "traceback": [
      "\u001b[91mMethodError: no method matching +(::Int64, ::Array{Float64,1})\u001b[39m\n\u001b[91m\u001b[0mClosest candidates are:\u001b[39m\n\u001b[91m\u001b[0m  +(::Any, ::Any, \u001b[91m::Any\u001b[39m, \u001b[91m::Any...\u001b[39m) at operators.jl:529\u001b[39m\n\u001b[91m\u001b[0m  +(\u001b[91m::ChainRulesCore.NotImplemented\u001b[39m, ::Any) at /home/jaimerz/.julia/packages/ChainRulesCore/BYuIz/src/differential_arithmetic.jl:25\u001b[39m\n\u001b[91m\u001b[0m  +(\u001b[91m::ChainRulesCore.ZeroTangent\u001b[39m, ::Any) at /home/jaimerz/.julia/packages/ChainRulesCore/BYuIz/src/differential_arithmetic.jl:115\u001b[39m\n\u001b[91m\u001b[0m  ...\u001b[39m",
      "",
      "Stacktrace:",
      " [1] T0(::CosmoPar{Float64}, ::Array{Float64,1}, ::Int64, ::Int64) at ./In[11]:48",
      " [2] top-level scope at In[13]:1"
     ]
    }
   ],
   "source": [
    "T0(cosmopar, [1.0], 1, 1)"
   ]
  },
  {
   "cell_type": "code",
   "execution_count": 8,
   "id": "consistent-monaco",
   "metadata": {},
   "outputs": [
    {
     "ename": "MethodError",
     "evalue": "\u001b[91mMethodError: convert(::Type{Union{}}, ::LinearAlgebra.Transpose{Float64,Array{Float64,1}}) is ambiguous. Candidates:\u001b[39m\n\u001b[91m  convert(::Type{Union{}}, x) in Base at essentials.jl:169\u001b[39m\n\u001b[91m  convert(::Type{T}, a::AbstractArray) where T<:Array in Base at array.jl:533\u001b[39m\n\u001b[91m  convert(::Type{T}, arg) where T<:VecElement in Base at baseext.jl:8\u001b[39m\n\u001b[91m  convert(T::Type{#s69} where #s69<:BitArray, a::AbstractArray) in Base at bitarray.jl:569\u001b[39m\n\u001b[91m  convert(T::Type{#s664} where #s664<:LinearAlgebra.Bidiagonal, m::AbstractArray{T,2} where T) in LinearAlgebra at /usr/share/julia/stdlib/v1.4/LinearAlgebra/src/bidiag.jl:183\u001b[39m\n\u001b[91m  convert(T::Type{#s664} where #s664<:SparseArrays.AbstractSparseMatrixCSC, m::AbstractArray{T,2} where T) in SparseArrays at /usr/share/julia/stdlib/v1.4/SparseArrays/src/sparsematrix.jl:561\u001b[39m\n\u001b[91m  convert(::Type{T}, M::AbstractArray) where T<:OffsetArrays.OffsetArray in OffsetArrays at /home/jaimerz/.julia/packages/OffsetArrays/8XTx1/src/OffsetArrays.jl:253\u001b[39m\n\u001b[91m  convert(::Type{SA}, a::AbstractArray) where SA<:(StaticArrays.SArray{Tuple{},T,0,1} where T) in StaticArrays at /home/jaimerz/.julia/packages/StaticArrays/vxjOO/src/Scalar.jl:13\u001b[39m\n\u001b[91m  convert(::Type{T}, obj) where T<:FunctionWrappers.FunctionWrapper in FunctionWrappers at /home/jaimerz/.julia/packages/FunctionWrappers/8xdVB/src/FunctionWrappers.jl:106\u001b[39m\n\u001b[91m  convert(::Type{SA}, a::AbstractArray) where SA<:StaticArrays.StaticArray in StaticArrays at /home/jaimerz/.julia/packages/StaticArrays/vxjOO/src/convert.jl:29\u001b[39m\n\u001b[91m  convert(::Type{T}, x) where T<:LabelledArrays.LArray in LabelledArrays at /home/jaimerz/.julia/packages/LabelledArrays/oVkHZ/src/larray.jl:102\u001b[39m\n\u001b[91mPossible fix, define\u001b[39m\n\u001b[91m  convert(::Type{Union{}}, ::AbstractArray{T,2} where T)\u001b[39m",
     "output_type": "error",
     "traceback": [
      "\u001b[91mMethodError: convert(::Type{Union{}}, ::LinearAlgebra.Transpose{Float64,Array{Float64,1}}) is ambiguous. Candidates:\u001b[39m\n\u001b[91m  convert(::Type{Union{}}, x) in Base at essentials.jl:169\u001b[39m\n\u001b[91m  convert(::Type{T}, a::AbstractArray) where T<:Array in Base at array.jl:533\u001b[39m\n\u001b[91m  convert(::Type{T}, arg) where T<:VecElement in Base at baseext.jl:8\u001b[39m\n\u001b[91m  convert(T::Type{#s69} where #s69<:BitArray, a::AbstractArray) in Base at bitarray.jl:569\u001b[39m\n\u001b[91m  convert(T::Type{#s664} where #s664<:LinearAlgebra.Bidiagonal, m::AbstractArray{T,2} where T) in LinearAlgebra at /usr/share/julia/stdlib/v1.4/LinearAlgebra/src/bidiag.jl:183\u001b[39m\n\u001b[91m  convert(T::Type{#s664} where #s664<:SparseArrays.AbstractSparseMatrixCSC, m::AbstractArray{T,2} where T) in SparseArrays at /usr/share/julia/stdlib/v1.4/SparseArrays/src/sparsematrix.jl:561\u001b[39m\n\u001b[91m  convert(::Type{T}, M::AbstractArray) where T<:OffsetArrays.OffsetArray in OffsetArrays at /home/jaimerz/.julia/packages/OffsetArrays/8XTx1/src/OffsetArrays.jl:253\u001b[39m\n\u001b[91m  convert(::Type{SA}, a::AbstractArray) where SA<:(StaticArrays.SArray{Tuple{},T,0,1} where T) in StaticArrays at /home/jaimerz/.julia/packages/StaticArrays/vxjOO/src/Scalar.jl:13\u001b[39m\n\u001b[91m  convert(::Type{T}, obj) where T<:FunctionWrappers.FunctionWrapper in FunctionWrappers at /home/jaimerz/.julia/packages/FunctionWrappers/8xdVB/src/FunctionWrappers.jl:106\u001b[39m\n\u001b[91m  convert(::Type{SA}, a::AbstractArray) where SA<:StaticArrays.StaticArray in StaticArrays at /home/jaimerz/.julia/packages/StaticArrays/vxjOO/src/convert.jl:29\u001b[39m\n\u001b[91m  convert(::Type{T}, x) where T<:LabelledArrays.LArray in LabelledArrays at /home/jaimerz/.julia/packages/LabelledArrays/oVkHZ/src/larray.jl:102\u001b[39m\n\u001b[91mPossible fix, define\u001b[39m\n\u001b[91m  convert(::Type{Union{}}, ::AbstractArray{T,2} where T)\u001b[39m",
      "",
      "Stacktrace:",
      " [1] to_power_type(::LinearAlgebra.Transpose{Float64,Array{Float64,1}}) at ./intfuncs.jl:189",
      " [2] power_by_squaring(::LinearAlgebra.Transpose{Float64,Array{Float64,1}}, ::Int64) at ./intfuncs.jl:204",
      " [3] ^(::LinearAlgebra.Transpose{Float64,Array{Float64,1}}, ::Int64) at /build/julia-98cBbp/julia-1.4.1+dfsg/usr/share/julia/stdlib/v1.4/LinearAlgebra/src/dense.jl:404",
      " [4] macro expansion at ./none:0 [inlined]",
      " [5] literal_pow at ./none:0 [inlined]",
      " [6] Tb(::CosmoPar{Float64}, ::Array{Float64,1}) at ./In[4]:80",
      " [7] top-level scope at In[8]:1"
     ]
    }
   ],
   "source": [
    "Tb(cosmopar, [1.0])"
   ]
  },
  {
   "cell_type": "code",
   "execution_count": 9,
   "id": "scheduled-latino",
   "metadata": {},
   "outputs": [
    {
     "ename": "MethodError",
     "evalue": "\u001b[91mMethodError: convert(::Type{Union{}}, ::LinearAlgebra.Transpose{Float64,Array{Float64,1}}) is ambiguous. Candidates:\u001b[39m\n\u001b[91m  convert(::Type{Union{}}, x) in Base at essentials.jl:169\u001b[39m\n\u001b[91m  convert(::Type{T}, a::AbstractArray) where T<:Array in Base at array.jl:533\u001b[39m\n\u001b[91m  convert(::Type{T}, arg) where T<:VecElement in Base at baseext.jl:8\u001b[39m\n\u001b[91m  convert(T::Type{#s69} where #s69<:BitArray, a::AbstractArray) in Base at bitarray.jl:569\u001b[39m\n\u001b[91m  convert(T::Type{#s664} where #s664<:LinearAlgebra.Bidiagonal, m::AbstractArray{T,2} where T) in LinearAlgebra at /usr/share/julia/stdlib/v1.4/LinearAlgebra/src/bidiag.jl:183\u001b[39m\n\u001b[91m  convert(T::Type{#s664} where #s664<:SparseArrays.AbstractSparseMatrixCSC, m::AbstractArray{T,2} where T) in SparseArrays at /usr/share/julia/stdlib/v1.4/SparseArrays/src/sparsematrix.jl:561\u001b[39m\n\u001b[91m  convert(::Type{T}, M::AbstractArray) where T<:OffsetArrays.OffsetArray in OffsetArrays at /home/jaimerz/.julia/packages/OffsetArrays/8XTx1/src/OffsetArrays.jl:253\u001b[39m\n\u001b[91m  convert(::Type{SA}, a::AbstractArray) where SA<:(StaticArrays.SArray{Tuple{},T,0,1} where T) in StaticArrays at /home/jaimerz/.julia/packages/StaticArrays/vxjOO/src/Scalar.jl:13\u001b[39m\n\u001b[91m  convert(::Type{T}, obj) where T<:FunctionWrappers.FunctionWrapper in FunctionWrappers at /home/jaimerz/.julia/packages/FunctionWrappers/8xdVB/src/FunctionWrappers.jl:106\u001b[39m\n\u001b[91m  convert(::Type{SA}, a::AbstractArray) where SA<:StaticArrays.StaticArray in StaticArrays at /home/jaimerz/.julia/packages/StaticArrays/vxjOO/src/convert.jl:29\u001b[39m\n\u001b[91m  convert(::Type{T}, x) where T<:LabelledArrays.LArray in LabelledArrays at /home/jaimerz/.julia/packages/LabelledArrays/oVkHZ/src/larray.jl:102\u001b[39m\n\u001b[91mPossible fix, define\u001b[39m\n\u001b[91m  convert(::Type{Union{}}, ::AbstractArray{T,2} where T)\u001b[39m",
     "output_type": "error",
     "traceback": [
      "\u001b[91mMethodError: convert(::Type{Union{}}, ::LinearAlgebra.Transpose{Float64,Array{Float64,1}}) is ambiguous. Candidates:\u001b[39m\n\u001b[91m  convert(::Type{Union{}}, x) in Base at essentials.jl:169\u001b[39m\n\u001b[91m  convert(::Type{T}, a::AbstractArray) where T<:Array in Base at array.jl:533\u001b[39m\n\u001b[91m  convert(::Type{T}, arg) where T<:VecElement in Base at baseext.jl:8\u001b[39m\n\u001b[91m  convert(T::Type{#s69} where #s69<:BitArray, a::AbstractArray) in Base at bitarray.jl:569\u001b[39m\n\u001b[91m  convert(T::Type{#s664} where #s664<:LinearAlgebra.Bidiagonal, m::AbstractArray{T,2} where T) in LinearAlgebra at /usr/share/julia/stdlib/v1.4/LinearAlgebra/src/bidiag.jl:183\u001b[39m\n\u001b[91m  convert(T::Type{#s664} where #s664<:SparseArrays.AbstractSparseMatrixCSC, m::AbstractArray{T,2} where T) in SparseArrays at /usr/share/julia/stdlib/v1.4/SparseArrays/src/sparsematrix.jl:561\u001b[39m\n\u001b[91m  convert(::Type{T}, M::AbstractArray) where T<:OffsetArrays.OffsetArray in OffsetArrays at /home/jaimerz/.julia/packages/OffsetArrays/8XTx1/src/OffsetArrays.jl:253\u001b[39m\n\u001b[91m  convert(::Type{SA}, a::AbstractArray) where SA<:(StaticArrays.SArray{Tuple{},T,0,1} where T) in StaticArrays at /home/jaimerz/.julia/packages/StaticArrays/vxjOO/src/Scalar.jl:13\u001b[39m\n\u001b[91m  convert(::Type{T}, obj) where T<:FunctionWrappers.FunctionWrapper in FunctionWrappers at /home/jaimerz/.julia/packages/FunctionWrappers/8xdVB/src/FunctionWrappers.jl:106\u001b[39m\n\u001b[91m  convert(::Type{SA}, a::AbstractArray) where SA<:StaticArrays.StaticArray in StaticArrays at /home/jaimerz/.julia/packages/StaticArrays/vxjOO/src/convert.jl:29\u001b[39m\n\u001b[91m  convert(::Type{T}, x) where T<:LabelledArrays.LArray in LabelledArrays at /home/jaimerz/.julia/packages/LabelledArrays/oVkHZ/src/larray.jl:102\u001b[39m\n\u001b[91mPossible fix, define\u001b[39m\n\u001b[91m  convert(::Type{Union{}}, ::AbstractArray{T,2} where T)\u001b[39m",
      "",
      "Stacktrace:",
      " [1] to_power_type(::LinearAlgebra.Transpose{Float64,Array{Float64,1}}) at ./intfuncs.jl:189",
      " [2] power_by_squaring(::LinearAlgebra.Transpose{Float64,Array{Float64,1}}, ::Int64) at ./intfuncs.jl:204",
      " [3] ^(::LinearAlgebra.Transpose{Float64,Array{Float64,1}}, ::Int64) at /build/julia-98cBbp/julia-1.4.1+dfsg/usr/share/julia/stdlib/v1.4/LinearAlgebra/src/dense.jl:404",
      " [4] macro expansion at ./none:0 [inlined]",
      " [5] literal_pow at ./none:0 [inlined]",
      " [6] Tb(::CosmoPar{Float64}, ::Array{Float64,1}) at ./In[4]:80",
      " [7] TkEisHu(::CosmoPar{Float64}, ::Array{Float64,1}) at ./In[4]:87",
      " [8] top-level scope at In[9]:1"
     ]
    }
   ],
   "source": [
    "TkEisHu(cosmopar, [1.0])"
   ]
  },
  {
   "cell_type": "code",
   "execution_count": null,
   "id": "subsequent-parliament",
   "metadata": {},
   "outputs": [],
   "source": []
  }
 ],
 "metadata": {
  "kernelspec": {
   "display_name": "Julia 1.4.1",
   "language": "julia",
   "name": "julia-1.4"
  },
  "language_info": {
   "file_extension": ".jl",
   "mimetype": "application/julia",
   "name": "julia",
   "version": "1.4.1"
  }
 },
 "nbformat": 4,
 "nbformat_minor": 5
}
