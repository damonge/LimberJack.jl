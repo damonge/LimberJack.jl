{
 "cells": [
  {
   "cell_type": "code",
   "execution_count": 1,
   "id": "substantial-functionality",
   "metadata": {},
   "outputs": [
    {
     "name": "stderr",
     "output_type": "stream",
     "text": [
      "\u001b[32m\u001b[1mPrecompiling\u001b[22m\u001b[39m project...\n",
      "┌ Info: Precompiling LimberJack [6b86205d-155a-4b14-b82d-b6a149ea78f2]\n",
      "└ @ Base loading.jl:1260\n",
      "ERROR: LoadError: LoadError: syntax: invalid character \"−\" near column 22\n",
      "Stacktrace:\n",
      " [1] top-level scope at /home/jaimerz/PhD/LimberJack.jl/src/core.jl:123\n",
      " [2] include(::Module, ::String) at ./Base.jl:377\n",
      " [3] include(::String) at /home/jaimerz/PhD/LimberJack.jl/src/LimberJack.jl:1\n",
      " [4] top-level scope at /home/jaimerz/PhD/LimberJack.jl/src/LimberJack.jl:12\n",
      " [5] include(::Module, ::String) at ./Base.jl:377\n",
      " [6] top-level scope at none:2\n",
      " [7] eval at ./boot.jl:331 [inlined]\n",
      " [8] eval(::Expr) at ./client.jl:449\n",
      " [9] top-level scope at ./none:3\n",
      "in expression starting at /home/jaimerz/PhD/LimberJack.jl/src/core.jl:123\n",
      "in expression starting at /home/jaimerz/PhD/LimberJack.jl/src/LimberJack.jl:12\n"
     ]
    }
   ],
   "source": [
    "using Pkg\n",
    "Pkg.instantiate()\n",
    "Pkg.precompile()"
   ]
  },
  {
   "cell_type": "code",
   "execution_count": 2,
   "id": "minimal-garbage",
   "metadata": {},
   "outputs": [],
   "source": [
    "using Interpolations\n",
    "using QuadGK\n",
    "using OrdinaryDiffEq"
   ]
  },
  {
   "cell_type": "code",
   "execution_count": 3,
   "id": "level-mailing",
   "metadata": {},
   "outputs": [
    {
     "data": {
      "text/plain": [
       "Cosmology"
      ]
     },
     "execution_count": 3,
     "metadata": {},
     "output_type": "execute_result"
    }
   ],
   "source": [
    "struct CosmoPar{T}\n",
    "    Ωm::T\n",
    "    Ωb::T\n",
    "    h::T\n",
    "    n_s::T\n",
    "    σ8::T\n",
    "end\n",
    "\n",
    "struct Cosmology\n",
    "    cosmo::CosmoPar\n",
    "    # Power spectrum\n",
    "    ks::Array\n",
    "    pk0::Array\n",
    "    dlogk\n",
    "    lplk::AbstractInterpolation\n",
    "    # Redshift and background\n",
    "    zs::Array\n",
    "    chis::Array\n",
    "    chi::AbstractInterpolation\n",
    "    z_of_chi::AbstractInterpolation\n",
    "    chi_max\n",
    "    Dzs::Array\n",
    "    Dz::AbstractInterpolation\n",
    "end\n",
    "\n",
    "Cosmology(cpar::CosmoPar; nk=256, nz=256) = begin\n",
    "    # Compute linear power spectrum at z=0.\n",
    "    ks = 10 .^ range(-4., stop=2., length=nk)\n",
    "    dlogk = log(ks[2]/ks[1])\n",
    "    tk = TkBBKS(cpar, ks)\n",
    "    pk0 = @. ks^cpar.n_s * tk\n",
    "    σ8_2_here = _σR2(ks, pk0, dlogk, 8.0/cpar.h)\n",
    "    norm = cpar.σ8^2 / σ8_2_here\n",
    "    pk0[:] = pk0 .* norm\n",
    "    # OPT: interpolation method\n",
    "    pki = LinearInterpolation(log.(ks), log.(pk0))\n",
    "\n",
    "    # Compute redshift-distance relation\n",
    "    zs = range(0., stop=3., length=nz)\n",
    "    norm = CLIGHT_HMPC / cpar.h\n",
    "    chis = [quadgk(z -> 1.0/_Ez(cpar, z), 0.0, zz, rtol=1E-5)[1] * norm\n",
    "            for zz in zs]\n",
    "    # OPT: tolerances, interpolation method\n",
    "    chii = LinearInterpolation(zs, chis)\n",
    "    zi = LinearInterpolation(chis, zs)\n",
    "\n",
    "    # ODE solution for growth factor\n",
    "    z_ini = 1000.0\n",
    "    a_ini = 1.0/(1.0+z_ini)\n",
    "    ez_ini = _Ez(cpar, z_ini)\n",
    "    d0 = [a_ini^3*ez_ini, a_ini]\n",
    "    a_s = reverse(@. 1.0 / (1.0 + zs))\n",
    "    prob = ODEProblem(_dgrowth!, d0, (a_ini, 1.0), cpar)\n",
    "    sol = solve(prob, Tsit5(), reltol=1E-6,\n",
    "                abstol=1E-8, saveat=a_s)\n",
    "    # OPT: interpolation (see below), ODE method, tolerances\n",
    "    # Note that sol already includes some kind of interpolation,\n",
    "    # so it may be possible to optimize this by just using\n",
    "    # sol directly.\n",
    "    s = vcat(sol.u'...)\n",
    "    Dzs = reverse(s[:, 2] / s[end, 2])\n",
    "    # OPT: interpolation method\n",
    "    Dzi = LinearInterpolation(zs, Dzs)\n",
    "\n",
    "    Cosmology(cpar, ks, pk0, dlogk, pki,\n",
    "              collect(zs), chis, chii, zi, chis[end],\n",
    "              Dzs, Dzi)\n",
    "end\n",
    "\n",
    "Cosmology(Ωc, Ωb, h, n_s, σ8; nk=256, nz=256) = begin\n",
    "    Ωm = Ωc + Ωb\n",
    "    cpar = CosmoPar(Ωm, Ωb, h, n_s, σ8)\n",
    "\n",
    "    Cosmology(cpar, nk=nk, nz=nz)\n",
    "end\n",
    "\n",
    "Cosmology() = Cosmology(0.25, 0.05, 0.67, 0.96, 0.81)"
   ]
  },
  {
   "cell_type": "code",
   "execution_count": 4,
   "id": "tamil-module",
   "metadata": {},
   "outputs": [
    {
     "data": {
      "text/plain": [
       "Tk_Eis_Hu (generic function with 1 method)"
      ]
     },
     "execution_count": 4,
     "metadata": {},
     "output_type": "execute_result"
    }
   ],
   "source": [
    "function get_zeq(cosmo::CosmoPar)\n",
    "    wm=cosmo.Ωm*cosmo.h^2\n",
    "    tfac=2.725 / 2.7\n",
    "    return 2.5*10^4*wm*tfac^(-4)\n",
    "end\n",
    "\n",
    "function get_keq(cosmo::CosmoPar)\n",
    "    wm=cosmo.Ωm*cosmo.h^2\n",
    "    tfac=2.725/2.7\n",
    "    return 7.46*10^(-2)*wm*tfac^(-2)\n",
    "end\n",
    "\n",
    "function get_zdrag(cosmo::CosmoPar)\n",
    "    wb=cosmo.Ωb*cosmo.h^2\n",
    "    wm=cosmo.Ωm*cosmo.h^2\n",
    "    b1 = 0.313*wm^-0.419*(1+0.607*wm*0.674)\n",
    "    b2 = 0.238*wm^0.223\n",
    "    return 1291*((wm^0.251)/(1+0.659*wm^0.028))*(1+b1*wb^b2)\n",
    "end\n",
    "\n",
    "function R(cosmo::CosmoPar, z)\n",
    "    wb=cosmo.Ωb*cosmo.h^2\n",
    "    tfac=2.725 / 2.7\n",
    "    return 31.5*wb*tfac^-4*(z/10^3)^-1\n",
    "end\n",
    "\n",
    "\n",
    "function get_rs(cosmo::CosmoPar)\n",
    "    keq = get_keq(cosmo)\n",
    "    zeq = get_zeq(cosmo)\n",
    "    zd = get_zdrag(cosmo)\n",
    "    rs = sqrt(1+R(cosmo, zd))+sqrt(R(cosmo, zd)+R(cosmo, zeq))\n",
    "    rs /= 1+sqrt(R(cosmo, zeq))\n",
    "    rs = log(rs)\n",
    "    rs *= 2/(3*keq)*sqrt(6/R(cosmo, zeq))\n",
    "    return rs\n",
    "end\n",
    "    \n",
    "function G(y)\n",
    "    return y*(-6*sqrt(1+y)+(2+3y)*log((sqrt(1+y)+1)/(sqrt(1+y)-1)))\n",
    "end\n",
    "\n",
    "function f(k)\n",
    "    s = get_rs(cosmo)    \n",
    "    return (1/(1+(k*s/5.4)^4))\n",
    "end\n",
    "    \n",
    "function T0(cosmo::CosmoPar, k, ac, bc)\n",
    "    tfac = 2.725 / 2.7\n",
    "    wm=cosmo.Ωm*cosmo.h^2\n",
    "    keq = get_keq(cosmo)\n",
    "    q = k/(13.41*keq)\n",
    "    C = 14.2/ac + 386/(1+69.9*q^1.08)\n",
    "    return (log(ℯ+1.8*bc*q))/(log(ℯ+1.8*bc*q)+C*q^2)\n",
    "end \n",
    "    \n",
    "function Tc(cosmo::CosmoPar, k)\n",
    "   Wc = cosmo.Ωm-cosmo.Ωb\n",
    "   s = get_rs(cosmo)\n",
    "   keq = get_keq(cosmo)\n",
    "   tfac = 2.725 / 2.7\n",
    "   wm=cosmo.Ωm*cosmo.h^2\n",
    "   q = k/(13.41*keq)\n",
    "   a1 = (46.9*wm)^0.670*(1+(32.1*wm)^-0.532)\n",
    "   a2 = (12.0*wm)^0.424*(1+(45.0*wm)^-0.582)\n",
    "   ac = (a1^(-cosmo.Ωb/cosmo.Ωm))*(a2^(-(cosmo.Ωb/cosmo.Ωm)^3))\n",
    "   b1 = 0.944*(1+(458*wm)^(-0.708))^(-1)\n",
    "   b2 = (0.395*wm)^(-0.0266)\n",
    "   bc = 1/(1+b1*((Wc/cosmo.Ωm)^b2-1))\n",
    "   f = 1/(1+(k*s/5.4)^4)\n",
    "   return f*T0(cosmo, k, 1, bc) + (1-f)*T0(cosmo, k, ac, bc)\n",
    "end \n",
    "\n",
    "function Tb(cosmo::CosmoPar, k)\n",
    "   wm=cosmo.Ωm*cosmo.h^2\n",
    "   wb=cosmo.Ωb*cosmo.h^2\n",
    "   s = get_rs(cosmo)\n",
    "   zd = get_zdrag(cosmo)\n",
    "   zeq = get_zeq(cosmo)\n",
    "   keq = get_keq(cosmo)\n",
    "   ksilk = 1.6*wb^0.52*wm^0.73*(1+(10.4*wm)^-0.95)\n",
    "   ab = 2.07*keq*s*(1+R(cosmo, zd))^(-3/4)*G((1+zeq)/(1+zd))\n",
    "   bb =  0.5+(cosmo.Ωb/cosmo.Ωm)+(3-2*cosmo.Ωb/cosmo.Ωm)sqrt((17.2*wm)^2+1)\n",
    "   bnode = 8.41*(wm)^0.435\n",
    "   ss = s/(1+(bnode/(k*s))^3)^(1/3)\n",
    "   Tb = (T0(cosmo, k, 1, 1)/(1+(k*s/5.2)^2))+(ab/(1+(bb/(k*s))^3))*exp(-1.4*(k/ksilk)^1.4)\n",
    "   return Tb*(sin(k*ss)/(k*ss))\n",
    "end \n",
    "\n",
    "function Tk_Eis_Hu(cosmo::CosmoPar, k)\n",
    "    Wc = cosmo.Ωm-cosmo.Ωb\n",
    "    return (cosmo.Ωb/cosmo.Ωm)*Tb(cosmo, k)+(Wc/cosmo.Ωm)*Tc(cosmo, k)\n",
    "end"
   ]
  },
  {
   "cell_type": "code",
   "execution_count": 5,
   "id": "endless-appendix",
   "metadata": {},
   "outputs": [
    {
     "data": {
      "text/plain": [
       "CosmoPar{Float64}(0.25, 0.05, 0.67, 0.96, 0.81)"
      ]
     },
     "execution_count": 5,
     "metadata": {},
     "output_type": "execute_result"
    }
   ],
   "source": [
    "cosmo = CosmoPar(0.25, 0.05, 0.67, 0.96, 0.81)"
   ]
  },
  {
   "cell_type": "code",
   "execution_count": 6,
   "id": "alike-powell",
   "metadata": {},
   "outputs": [
    {
     "data": {
      "text/plain": [
       "2.6705341498346443e-5"
      ]
     },
     "execution_count": 6,
     "metadata": {},
     "output_type": "execute_result"
    }
   ],
   "source": [
    "Tk_Eis_Hu(cosmo, 10.0)"
   ]
  },
  {
   "cell_type": "code",
   "execution_count": 28,
   "id": "italic-former",
   "metadata": {},
   "outputs": [
    {
     "data": {
      "text/plain": [
       "\"BBK\""
      ]
     },
     "execution_count": 28,
     "metadata": {},
     "output_type": "execute_result"
    }
   ],
   "source": [
    "tk_mode = \"BBK\""
   ]
  },
  {
   "cell_type": "code",
   "execution_count": 27,
   "id": "interpreted-buffer",
   "metadata": {},
   "outputs": [
    {
     "name": "stdout",
     "output_type": "stream",
     "text": [
      "Hello"
     ]
    }
   ],
   "source": [
    "if tk_mode == \"Eis\"\n",
    "    print(\"Hello\")\n",
    "elseif tk_mode == \"BBK\"\n",
    "    print(\"Bye\")\n",
    "end"
   ]
  },
  {
   "cell_type": "code",
   "execution_count": null,
   "id": "adequate-clinic",
   "metadata": {},
   "outputs": [],
   "source": []
  }
 ],
 "metadata": {
  "kernelspec": {
   "display_name": "Julia 1.4.1",
   "language": "julia",
   "name": "julia-1.4"
  },
  "language_info": {
   "file_extension": ".jl",
   "mimetype": "application/julia",
   "name": "julia",
   "version": "1.4.1"
  }
 },
 "nbformat": 4,
 "nbformat_minor": 5
}
