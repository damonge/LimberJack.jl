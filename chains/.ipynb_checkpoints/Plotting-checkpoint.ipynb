{
 "cells": [
  {
   "cell_type": "code",
   "execution_count": 1,
   "id": "b0fb8945",
   "metadata": {},
   "outputs": [],
   "source": [
    "import matplotlib.pyplot as plt\n",
    "import numpy as np\n",
    "import pandas as pd\n",
    "import pyccl as ccl\n",
    "import os\n",
    "import getdist\n",
    "from getdist import plots, MCSamples\n",
    "%matplotlib inline"
   ]
  },
  {
   "cell_type": "code",
   "execution_count": 2,
   "id": "bbb44fad",
   "metadata": {},
   "outputs": [
    {
     "name": "stdout",
     "output_type": "stream",
     "text": [
      "Removed no burn in\n"
     ]
    }
   ],
   "source": [
    "names_planck  = ['ns', 'h', 'Ωm', 'Ωb', 's8']\n",
    "labels_planck = [r'n_s', r'h', r'\\Omega_{\\rm{m}}', \n",
    "                 r'\\Omega_{\\rm{b}}', r'\\sigma_{\\rm{8}}']\n",
    "\n",
    "planck1 = np.loadtxt('/home/jaime/Master/PLANCK/Planck_TTTEEE_lowl_lowE/base_plikHM_TTTEEE_lowl_lowE_post_zre6p5_1.txt')\n",
    "planck2 = np.loadtxt('/home/jaime/Master/PLANCK/Planck_TTTEEE_lowl_lowE/base_plikHM_TTTEEE_lowl_lowE_post_zre6p5_2.txt')\n",
    "planck3 = np.loadtxt('/home/jaime/Master/PLANCK/Planck_TTTEEE_lowl_lowE/base_plikHM_TTTEEE_lowl_lowE_post_zre6p5_3.txt')\n",
    "planck4 = np.loadtxt('/home/jaime/Master/PLANCK/Planck_TTTEEE_lowl_lowE/base_plikHM_TTTEEE_lowl_lowE_post_zre6p5_4.txt')\n",
    "\n",
    "planck_tot = np.concatenate((planck1, planck2, planck3, planck4), axis=0)\n",
    "\n",
    "planck_params = []\n",
    "for item in planck_tot:\n",
    "    planck_params.append([item[7], item[29]/100, item[31], item[2]/(item[29]/100)**2, item[34]])\n",
    "planck_params = np.array(planck_params)\n",
    "planck_samples = MCSamples(samples=planck_params, names = names_planck, labels = labels_planck, label= r'$Planck$ 2018',\n",
    "                    weights=np.transpose(planck_tot)[0],loglikes=np.transpose(planck_tot)[1])"
   ]
  },
  {
   "cell_type": "code",
   "execution_count": 5,
   "id": "ce9ec4e8",
   "metadata": {},
   "outputs": [],
   "source": [
    "names_DES  = ['ns', 'h', 'Ωm', 'Ωb', 's8', 'b0', 'b1', 'b2', 'b3', 'b4']\n",
    "labels_DES = [r'n_s', r'h', r'\\Omega_{\\rm{m}}', \n",
    "                 r'\\Omega_{\\rm{b}}', r'\\sigma_{\\rm{8}}',\n",
    "               'b_0', 'b_1', 'b_2', 'b_3', 'b_4' ]\n",
    "\n",
    "DES_ref__1 = np.loadtxt('/home/jaime/PhD/LimberJack.jl/chains/desgc_deswl_dz_s8zpaper/desgc_deswl_dz_s8zpaper.1.txt')\n",
    "DES_ref__2 = np.loadtxt('/home/jaime/PhD/LimberJack.jl/chains/desgc_deswl_dz_s8zpaper/desgc_deswl_dz_s8zpaper.2.txt')\n",
    "DES_ref__3 = np.loadtxt('/home/jaime/PhD/LimberJack.jl/chains/desgc_deswl_dz_s8zpaper/desgc_deswl_dz_s8zpaper.3.txt')\n",
    "DES_ref__4 = np.loadtxt('/home/jaime/PhD/LimberJack.jl/chains/desgc_deswl_dz_s8zpaper/desgc_deswl_dz_s8zpaper.4.txt')\n",
    "DES_ref__5 = np.loadtxt('/home/jaime/PhD/LimberJack.jl/chains/desgc_deswl_dz_s8zpaper/desgc_deswl_dz_s8zpaper.5.txt')\n",
    "DES_ref__6 = np.loadtxt('/home/jaime/PhD/LimberJack.jl/chains/desgc_deswl_dz_s8zpaper/desgc_deswl_dz_s8zpaper.6.txt')\n",
    "\n",
    "DES_ref_tot = np.concatenate((DES_ref__1, DES_ref__2, DES_ref__3,\n",
    "                               DES_ref__4, DES_ref__5, DES_ref__6),\n",
    "                               axis=0)"
   ]
  },
  {
   "cell_type": "code",
   "execution_count": 8,
   "id": "7b369ce9",
   "metadata": {},
   "outputs": [
    {
     "name": "stdout",
     "output_type": "stream",
     "text": [
      "Removed no burn in\n"
     ]
    }
   ],
   "source": [
    "DES_ref_params = []\n",
    "for item in DES_ref_tot:\n",
    "    DES_ref_params.append([item[6], item[5], item[3]+item[4], item[4], item[27],\n",
    "                           item[7], item[8], item[9], item[10], item[11]])\n",
    "DES_ref_params = np.array(DES_ref_params)\n",
    "DES_ref_samples = MCSamples(samples=DES_ref_params, names = names_DES, labels = labels_DES, label= r'$DESY1$ ref.',\n",
    "                    weights=np.transpose(DES_ref_tot)[0],loglikes=np.transpose(DES_ref_tot)[1])"
   ]
  },
  {
   "cell_type": "code",
   "execution_count": 9,
   "id": "9b5116c4",
   "metadata": {},
   "outputs": [],
   "source": [
    "path = '/home/jaime/PhD/LimberJack.jl/chains/'\n",
    "DES_Wms8__1 = pd.read_csv(path+'DES_NUTS_TAP0.6/chain_2022-04-26T12%3A24%3A03.248.csv')\n",
    "DES_Wms8__2 = pd.read_csv(path+'DES_different_bias_NUTS_TAP0.6/chain_2022-05-01T17%3A36%3A59.766.csv')\n",
    "DES_Wm_s8_bias = pd.read_csv(path+'DES_full2_NUTS_TAP0.6/chain_2022-04-28T10%3A39%3A42.237.csv')\n",
    "DES_cosmo = pd.read_csv(path+'DES_full3_NUTS_TAP0.6/chain_2022-04-28T14%3A42%3A24.798.csv')"
   ]
  },
  {
   "cell_type": "code",
   "execution_count": 10,
   "id": "c4bb13be",
   "metadata": {},
   "outputs": [],
   "source": [
    "labels_dict = {'b1': 'b_1',\n",
    "               'b2': 'b_2',\n",
    "               'b3': 'b_3',\n",
    "               'b4': 'b_4',\n",
    "               'b5': 'b_5',\n",
    "               'ns': 'n_s',\n",
    "               'h': 'h',\n",
    "               'Ωm': '\\Omega_m',\n",
    "               'Ωb': '\\Omega_b',\n",
    "               's8': '\\sigma_8',\n",
    "               'S8': 'S_8'}\n",
    "names_All = ['b1', 'b2', 'b3', 'b4', 'b5', 'ns', 'h', 'Omega_m', 'Omega_b', 's80', 'S80']\n",
    "ranges = None #{'h': (0.6, 0.8), 'Ωm':(0.1, 0.5),  's8': (0.7, 1.0)}"
   ]
  },
  {
   "cell_type": "code",
   "execution_count": 11,
   "id": "622d7258",
   "metadata": {},
   "outputs": [],
   "source": [
    "def make_samples(file, names, rangess, label):\n",
    "    namess = []\n",
    "    labels = []\n",
    "    samples = []\n",
    "    for name in names:\n",
    "        if name in np.array(file.keys()):\n",
    "            namess.append(name) \n",
    "            labels.append(labels_dict[name]) \n",
    "            samples.append(np.array(file[name]))\n",
    "    return MCSamples(samples=samples, names=namess, labels=labels, label=label, ranges=rangess,\n",
    "                    settings={'mult_bias_correction_order':0,'smooth_scale_2D':0.2, 'smooth_scale_1D':0.2})"
   ]
  },
  {
   "cell_type": "code",
   "execution_count": 12,
   "id": "468a1b64",
   "metadata": {},
   "outputs": [
    {
     "name": "stdout",
     "output_type": "stream",
     "text": [
      "Removed no burn in\n",
      "Removed no burn in\n",
      "Removed no burn in\n",
      "Removed no burn in\n"
     ]
    }
   ],
   "source": [
    "DES_Wms8__1_samples = make_samples(DES_Wms8__1, ['Ωm', 's8'], \n",
    "                                   ranges, 'DES_Wms8__1')\n",
    "DES_Wms8__2_samples = make_samples(DES_Wms8__2, ['Ωm', 's8'], \n",
    "                                   ranges, 'DES_Wms8__2')\n",
    "DES_bias_samples = make_samples(DES_Wm_s8_bias, ['b1', 'b2', 'b3', 'b4', 'b5', 'Ωm', 's8'], \n",
    "                                   ranges, 'DES_Wm_s8_bias')\n",
    "DES_cosmo_samples = make_samples(DES_cosmo, ['ns', 'h', 'Ωm', 'Ωb', 's8'], \n",
    "                                   ranges, 'DES_cosmo')"
   ]
  },
  {
   "cell_type": "code",
   "execution_count": 14,
   "id": "4165c2e1",
   "metadata": {},
   "outputs": [
    {
     "data": {
      "image/png": "[encoded data removed]",
      "text/plain": [
       "<Figure size 360x360 with 3 Axes>"
      ]
     },
     "metadata": {
      "needs_background": "light"
     },
     "output_type": "display_data"
    }
   ],
   "source": [
    "g = plots.getSubplotPlotter(subplot_size=2.5)\n",
    "g.triangle_plot([DES_ref_samples, DES_bias_samples, DES_Wms8__1_samples, DES_Wms8__2_samples], ['Ωm', 's8'], filled=True,\n",
    "                markers={'h': 0.67,\n",
    "                         'Ωm': 0.25,\n",
    "                         's8': 0.81})"
   ]
  },
  {
   "cell_type": "code",
   "execution_count": null,
   "id": "239c0831",
   "metadata": {},
   "outputs": [],
   "source": [
    "g = plots.getSubplotPlotter(subplot_size=2.5)\n",
    "g.triangle_plot([DES_ref_samples, DES_bias_samples], filled=True, \n",
    "               markers={'ns': 0.96,\n",
    "                        'h': 0.67,\n",
    "                        'Ωm': 0.25,\n",
    "                        'Ωb': 0.05,\n",
    "                        's8': 0.81, \n",
    "                        'b0': 1.41,\n",
    "                        'b1': 1.62,\n",
    "                        'b2': 1.60,\n",
    "                        'b3': 1.92,\n",
    "                        'b4': 2.00})"
   ]
  },
  {
   "cell_type": "code",
   "execution_count": null,
   "id": "91207daf",
   "metadata": {},
   "outputs": [],
   "source": [
    "    b0 = 1.69 #1.41 #~ Uniform(1.0, 3.0)\n",
    "    b1 = 2.05 #1.62 #~ Uniform(1.0, 3.0)\n",
    "    b2 = 2.01 #1.60 #~ Uniform(1.0, 3.0)\n",
    "    b3 = 2.46 #1.92 #~ Uniform(1.0, 3.0)\n",
    "    b4 = 2.54 #2.00 #~ Uniform(1.0, 3.0)"
   ]
  }
 ],
 "metadata": {
  "kernelspec": {
   "display_name": "Python 3 (ipykernel)",
   "language": "python",
   "name": "python3"
  },
  "language_info": {
   "codemirror_mode": {
    "name": "ipython",
    "version": 3
   },
   "file_extension": ".py",
   "mimetype": "text/x-python",
   "name": "python",
   "nbconvert_exporter": "python",
   "pygments_lexer": "ipython3",
   "version": "3.9.7"
  }
 },
 "nbformat": 4,
 "nbformat_minor": 5
}
