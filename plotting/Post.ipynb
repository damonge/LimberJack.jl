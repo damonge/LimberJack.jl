{
 "cells": [
  {
   "cell_type": "code",
   "execution_count": 1,
   "id": "fa30ae82",
   "metadata": {},
   "outputs": [
    {
     "name": "stderr",
     "output_type": "stream",
     "text": [
      "\u001b[36m\u001b[1m[ \u001b[22m\u001b[39m\u001b[36m\u001b[1mInfo: \u001b[22m\u001b[39mPrecompiling DataFrames [a93c6f00-e57d-5684-b7b6-d8193f3e46c0]\n",
      "\u001b[91m\u001b[1mERROR: \u001b[22m\u001b[39mLoadError: UndefVarError: ByRow not defined\n",
      "Stacktrace:\n",
      " [1] \u001b[0m\u001b[1minclude\u001b[22m\n",
      "\u001b[90m   @ \u001b[39m\u001b[90m./\u001b[39m\u001b[90m\u001b[4mBase.jl:418\u001b[24m\u001b[39m\u001b[90m [inlined]\u001b[39m\n",
      " [2] \u001b[0m\u001b[1minclude_package_for_output\u001b[22m\u001b[0m\u001b[1m(\u001b[22m\u001b[90mpkg\u001b[39m::\u001b[0mBase.PkgId, \u001b[90minput\u001b[39m::\u001b[0mString, \u001b[90mdepot_path\u001b[39m::\u001b[0mVector\u001b[90m{String}\u001b[39m, \u001b[90mdl_load_path\u001b[39m::\u001b[0mVector\u001b[90m{String}\u001b[39m, \u001b[90mload_path\u001b[39m::\u001b[0mVector\u001b[90m{String}\u001b[39m, \u001b[90mconcrete_deps\u001b[39m::\u001b[0mVector\u001b[90m{Pair{Base.PkgId, UInt64}}\u001b[39m, \u001b[90msource\u001b[39m::\u001b[0mNothing\u001b[0m\u001b[1m)\u001b[22m\n",
      "\u001b[90m   @ \u001b[39m\u001b[90mBase\u001b[39m \u001b[90m./\u001b[39m\u001b[90m\u001b[4mloading.jl:1318\u001b[24m\u001b[39m\n",
      " [3] top-level scope\n",
      "\u001b[90m   @ \u001b[39m\u001b[90m\u001b[4mnone:1\u001b[24m\u001b[39m\n",
      " [4] \u001b[0m\u001b[1meval\u001b[22m\n",
      "\u001b[90m   @ \u001b[39m\u001b[90m./\u001b[39m\u001b[90m\u001b[4mboot.jl:373\u001b[24m\u001b[39m\u001b[90m [inlined]\u001b[39m\n",
      " [5] \u001b[0m\u001b[1meval\u001b[22m\u001b[0m\u001b[1m(\u001b[22m\u001b[90mx\u001b[39m::\u001b[0mExpr\u001b[0m\u001b[1m)\u001b[22m\n",
      "\u001b[90m   @ \u001b[39m\u001b[90mBase.MainInclude\u001b[39m \u001b[90m./\u001b[39m\u001b[90m\u001b[4mclient.jl:453\u001b[24m\u001b[39m\n",
      " [6] top-level scope\n",
      "\u001b[90m   @ \u001b[39m\u001b[90m\u001b[4mnone:1\u001b[24m\u001b[39m\n",
      "in expression starting at /home/jaimerz/.julia/packages/DataFrames/dgZn3/src/DataFrames.jl:1\n"
     ]
    },
    {
     "ename": "LoadError",
     "evalue": "Failed to precompile DataFrames [a93c6f00-e57d-5684-b7b6-d8193f3e46c0] to /home/jaimerz/.julia/compiled/v1.7/DataFrames/jl_v4mApm.",
     "output_type": "error",
     "traceback": [
      "Failed to precompile DataFrames [a93c6f00-e57d-5684-b7b6-d8193f3e46c0] to /home/jaimerz/.julia/compiled/v1.7/DataFrames/jl_v4mApm.",
      "",
      "Stacktrace:",
      " [1] error(s::String)",
      "   @ Base ./error.jl:33",
      " [2] compilecache(pkg::Base.PkgId, path::String, internal_stderr::IO, internal_stdout::IO, ignore_loaded_modules::Bool)",
      "   @ Base ./loading.jl:1466",
      " [3] compilecache(pkg::Base.PkgId, path::String)",
      "   @ Base ./loading.jl:1410",
      " [4] _require(pkg::Base.PkgId)",
      "   @ Base ./loading.jl:1120",
      " [5] require(uuidkey::Base.PkgId)",
      "   @ Base ./loading.jl:1013",
      " [6] require(into::Module, mod::Symbol)",
      "   @ Base ./loading.jl:997"
     ]
    }
   ],
   "source": [
    "using LimberJack\n",
    "using GaussianProcess\n",
    "using CSV\n",
    "using DataFrames\n",
    "using NPZ\n",
    "using FITSIO\n",
    "using PythonCall\n",
    "using Interpolations\n",
    "np = pyimport(\"numpy\")"
   ]
  },
  {
   "cell_type": "code",
   "execution_count": 2,
   "id": "f7bb7c27",
   "metadata": {},
   "outputs": [
    {
     "data": {
      "text/plain": [
       "get_gp_hp (generic function with 1 method)"
      ]
     },
     "execution_count": 2,
     "metadata": {},
     "output_type": "execute_result"
    }
   ],
   "source": [
    "function get_gp_hp(chain;\n",
    "                fid_cosmo=LimberJack.Cosmology(),\n",
    "                latent_x=Vector(0:0.3:3))\n",
    "    ###\n",
    "    nsamples = length(chain[!, \"h\"])\n",
    "    mu = fid_cosmo.Dz(vec(latent_x))\n",
    "    eta = chain[!, \"eta\"]\n",
    "    l = chain[!, \"l\"]\n",
    "    σ8 = 0.81 * ones(nsamples)\n",
    "    \n",
    "    nx = 11\n",
    "    vs = zeros(Float64, nx, nsamples)\n",
    "    for i in 1:nx\n",
    "        vs[i, :] = chain[!, string(\"v[\", i ,\"]\")]\n",
    "    end\n",
    "    ###\n",
    "    latent_x = Vector(0:0.3:3)\n",
    "    x = Vector(range(0., stop=3., length=100))\n",
    "    d = x[2] - x[1]\n",
    "    gps = similar(vs)\n",
    "    fs8s = zeros(Float64, 100, nsamples)\n",
    "    for i in 1:length(l)\n",
    "        K = sqexp_cov_fn(latent_x; eta=eta[i], l=l[i])\n",
    "        gp = latent_GP(mu, vs[:, i], K)\n",
    "        gps[:, i] = gp\n",
    "        gp_cond = conditional(latent_x, x, gp, sqexp_cov_fn;\n",
    "                              eta=1.0, l=l[i])\n",
    "        Dzi = linear_interpolation(x, gp_cond ./ gp_cond[1], extrapolation_bc=Line())\n",
    "        dDzs_mid = (gp_cond[2:end].-gp_cond[1:end-1])/d\n",
    "        zs_mid = (x[2:end].+x[1:end-1])./2\n",
    "        dDzi = linear_interpolation(zs_mid, dDzs_mid, extrapolation_bc=Line())\n",
    "        dDzs_c = dDzi(x)\n",
    "        fs8 = -σ8[i] .* (1 .+ x) .* dDzs_c\n",
    "        fs8s[:, i] = fs8\n",
    "    end\n",
    "    \n",
    "    return gps, fs8s\n",
    "end"
   ]
  },
  {
   "cell_type": "code",
   "execution_count": 3,
   "id": "1812f2d0",
   "metadata": {},
   "outputs": [
    {
     "data": {
      "text/plain": [
       "get_lcdm_prods (generic function with 1 method)"
      ]
     },
     "execution_count": 3,
     "metadata": {},
     "output_type": "execute_result"
    }
   ],
   "source": [
    "function get_lcdm_prods(chain)\n",
    "    ###\n",
    "    nsamples = length(chain[!, \"h\"])\n",
    "    Ωm = chain[!, \"Ωm\"]\n",
    "    Ωb = chain[!, \"Ωb\"]\n",
    "    h = chain[!, \"h\"]\n",
    "    s8 = chain[!, \"s8\"]\n",
    "    ns = chain[!, \"ns\"]\n",
    "    ###\n",
    "    x = Vector(range(0., stop=3., length=100))\n",
    "    Dzs = zeros(Float64, 100, nsamples)\n",
    "    fs8s = zeros(Float64, 100, nsamples)\n",
    "    for i in 1:nsamples\n",
    "        cosmology = LimberJack.Cosmology(Ωm[i], Ωb[i], h[i], ns[i], s8[i],\n",
    "                                         tk_mode=\"emulator\",\n",
    "                                         Pk_mode=\"Halofit\")\n",
    "        Dzs[:, i] = LimberJack.growth_factor(cosmology, x)\n",
    "        fs8s[:, i] = LimberJack.fs8(cosmology, x)\n",
    "    end\n",
    "    \n",
    "    return Dzs, fs8s\n",
    "end"
   ]
  },
  {
   "cell_type": "code",
   "execution_count": 4,
   "id": "5e5d6364",
   "metadata": {},
   "outputs": [
    {
     "data": {
      "text/plain": [
       "get_gp (generic function with 1 method)"
      ]
     },
     "execution_count": 4,
     "metadata": {},
     "output_type": "execute_result"
    }
   ],
   "source": [
    "function get_gp(chain;\n",
    "                   fid_cosmo=LimberJack.Cosmology(),\n",
    "                   latent_x=Vector(0:0.3:3))\n",
    "    ###\n",
    "    nsamples = length(chain[!, \"h\"])\n",
    "    mu = fid_cosmo.Dz(vec(latent_x))\n",
    "    eta = 0.2 * ones(nsamples)\n",
    "    l = 0.3 * ones(nsamples)\n",
    "    σ8 = 0.81 * ones(nsamples)\n",
    "    \n",
    "    nx = 11\n",
    "    vs = zeros(Float64, nx, nsamples)\n",
    "    for i in 1:nx\n",
    "        vs[i, :] = chain[!, string(\"v[\", i ,\"]\")]\n",
    "    end\n",
    "    ###\n",
    "    latent_x = Vector(0:0.3:3)\n",
    "    x = Vector(range(0., stop=3., length=100))\n",
    "    d = x[2] - x[1]\n",
    "    gps = similar(vs)\n",
    "    fs8s = zeros(Float64, 100, nsamples)\n",
    "    for i in 1:length(l)\n",
    "        K = sqexp_cov_fn(latent_x; eta=eta[i], l=l[i])\n",
    "        gp = latent_GP(mu, vs[:, i], K)\n",
    "        gps[:, i] = gp\n",
    "        gp_cond = conditional(latent_x, x, gp, sqexp_cov_fn;\n",
    "                              eta=1.0, l=l[i])\n",
    "        Dzi = linear_interpolation(x, gp_cond ./ gp_cond[1], extrapolation_bc=Line())\n",
    "        dDzs_mid = (gp_cond[2:end].-gp_cond[1:end-1])/d\n",
    "        zs_mid = (x[2:end].+x[1:end-1])./2\n",
    "        dDzi = linear_interpolation(zs_mid, dDzs_mid, extrapolation_bc=Line())\n",
    "        dDzs_c = dDzi(x)\n",
    "        fs8 = -σ8[i] .* (1 .+ x) .* dDzs_c\n",
    "        fs8s[:, i] = fs8\n",
    "    end\n",
    "    \n",
    "    return gps, fs8s\n",
    "end"
   ]
  },
  {
   "cell_type": "code",
   "execution_count": 5,
   "id": "59493504",
   "metadata": {},
   "outputs": [],
   "source": [
    "function get_cls_SD(chain)\n",
    "\n",
    "    data_set = \"SD\"\n",
    "    meta = np.load(string(\"../data/\", data_set, \"/\", data_set, \"_meta.npz\"))\n",
    "    files = npzread(string(\"../data/\", data_set, \"/\", data_set, \"_files.npz\"))\n",
    "\n",
    "    tracers_names = pyconvert(Vector{String}, meta[\"tracers\"])\n",
    "    pairs = pyconvert(Vector{Vector{String}}, meta[\"pairs\"])\n",
    "    idx = pyconvert(Vector{Int}, meta[\"idx\"])\n",
    "    data_vector = pyconvert(Vector{Float64}, meta[\"cls\"])\n",
    "    cov_tot = pyconvert(Matrix{Float64}, meta[\"cov\"]);\n",
    "    \n",
    "    #KiDS priors\n",
    "    Ωm = chain[!, \"Ωm\"]\n",
    "    Ωb = chain[!, \"Ωb\"]\n",
    "    h = chain[!, \"h\"]\n",
    "    s8 = chain[!, \"s8\"]\n",
    "    ns = chain[!, \"ns\"]\n",
    "    \n",
    "    A_IA = chain[!, \"A_IA\"] \n",
    "    alpha_IA = chain[!, \"alpha_IA\"]\n",
    "\n",
    "    eBOSS__0_0_b = chain[!, \"eBOSS__0_0_b\"]\n",
    "    eBOSS__1_0_b = chain[!, \"eBOSS__1_0_b\"]\n",
    "    \n",
    "    DECALS__0_0_b = chain[!, \"DECALS__0_0_b\"]\n",
    "    DECALS__1_0_b = chain[!, \"DECALS__1_0_b\"]\n",
    "    DECALS__2_0_b = chain[!, \"DECALS__2_0_b\"]\n",
    "    DECALS__3_0_b = chain[!, \"DECALS__3_0_b\"]\n",
    "    DECALS__0_0_dz = chain[!, \"DECALS__0_0_dz\"]\n",
    "    DECALS__1_0_dz = chain[!, \"DECALS__1_0_dz\"]\n",
    "    DECALS__2_0_dz = chain[!, \"DECALS__2_0_dz\"]\n",
    "    DECALS__3_0_dz = chain[!, \"DECALS__3_0_dz\"]\n",
    "    \n",
    "    KiDS1000__0_e_dz = chain[!, \"KiDS1000__0_e_dz\"]\n",
    "    KiDS1000__1_e_dz = chain[!, \"KiDS1000__1_e_dz\"]\n",
    "    KiDS1000__2_e_dz = chain[!, \"KiDS1000__2_e_dz\"]\n",
    "    KiDS1000__3_e_dz = chain[!, \"KiDS1000__3_e_dz\"]\n",
    "    KiDS1000__4_e_dz = chain[!, \"KiDS1000__4_e_dz\"]\n",
    "    KiDS1000__0_e_m = chain[!, \"KiDS1000__0_e_m\"]\n",
    "    KiDS1000__1_e_m = chain[!, \"KiDS1000__1_e_m\"]\n",
    "    KiDS1000__2_e_m = chain[!, \"KiDS1000__2_e_m\"]\n",
    "    KiDS1000__3_e_m = chain[!, \"KiDS1000__3_e_m\"]\n",
    "    KiDS1000__4_e_m = chain[!, \"KiDS1000__4_e_m\"]\n",
    "\n",
    "    cls = zeros(Float64, 610, length(h))\n",
    "    for i in 1:length(h)\n",
    "        nuisances = Dict(\"A_IA\" => A_IA[i],\n",
    "                         \"alpha_IA\" => alpha_IA[i],\n",
    "\n",
    "                         \"eBOSS__0_0_b\" => eBOSS__0_0_b[i],\n",
    "                         \"eBOSS__1_0_b\" => eBOSS__1_0_b[i],\n",
    "\n",
    "                         \"DECALS__0_0_b\" => DECALS__0_0_b[i],\n",
    "                         \"DECALS__1_0_b\" => DECALS__1_0_b[i],\n",
    "                         \"DECALS__2_0_b\" => DECALS__2_0_b[i],\n",
    "                         \"DECALS__3_0_b\" => DECALS__3_0_b[i],\n",
    "                         \"DECALS__0_0_dz\" => DECALS__0_0_dz[i],\n",
    "                         \"DECALS__1_0_dz\" => DECALS__1_0_dz[i],\n",
    "                         \"DECALS__2_0_dz\" => DECALS__2_0_dz[i],\n",
    "                         \"DECALS__3_0_dz\" => DECALS__3_0_dz[i],\n",
    "\n",
    "                         \"KiDS1000__0_e_dz\" => KiDS1000__0_e_dz[i],\n",
    "                         \"KiDS1000__1_e_dz\" => KiDS1000__1_e_dz[i],\n",
    "                         \"KiDS1000__2_e_dz\" => KiDS1000__2_e_dz[i],\n",
    "                         \"KiDS1000__3_e_dz\" => KiDS1000__3_e_dz[i],\n",
    "                         \"KiDS1000__4_e_dz\" => KiDS1000__4_e_dz[i],\n",
    "                         \"KiDS1000__0_e_m\" => KiDS1000__0_e_m[i],\n",
    "                         \"KiDS1000__1_e_m\" => KiDS1000__1_e_m[i],\n",
    "                         \"KiDS1000__2_e_m\" => KiDS1000__2_e_m[i],\n",
    "                         \"KiDS1000__3_e_m\" => KiDS1000__3_e_m[i],\n",
    "                         \"KiDS1000__4_e_m\" => KiDS1000__4_e_m[i])\n",
    "\n",
    "\n",
    "        cosmology = LimberJack.Cosmology(Ωm[i], Ωb[i], h[i], ns[i], s8[i],\n",
    "                                         tk_mode=\"emulator\",\n",
    "                                         Pk_mode=\"Halofit\")\n",
    "        cls[:, i] = Theory(cosmology, tracers_names, pairs,\n",
    "                        idx, files; Nuisances=nuisances)\n",
    "    end\n",
    "    \n",
    "    return cls\n",
    "end;"
   ]
  },
  {
   "cell_type": "code",
   "execution_count": 6,
   "id": "057d39f8",
   "metadata": {},
   "outputs": [],
   "source": [
    "function get_cls_SD_cosmo(chain)\n",
    "\n",
    "    data_set = \"SD\"\n",
    "    meta = np.load(string(\"../data/\", data_set, \"/\", data_set, \"_meta.npz\"))\n",
    "    files = npzread(string(\"../data/\", data_set, \"/\", data_set, \"_files.npz\"))\n",
    "\n",
    "    tracers_names = pyconvert(Vector{String}, meta[\"tracers\"])\n",
    "    pairs = pyconvert(Vector{Vector{String}}, meta[\"pairs\"])\n",
    "    idx = pyconvert(Vector{Int}, meta[\"idx\"])\n",
    "    data_vector = pyconvert(Vector{Float64}, meta[\"cls\"])\n",
    "    cov_tot = pyconvert(Matrix{Float64}, meta[\"cov\"]);\n",
    "    \n",
    "    #KiDS priors\n",
    "    Ωm = chain[!, \"Ωm\"]\n",
    "    Ωb = chain[!, \"Ωb\"]\n",
    "    h = chain[!, \"h\"]\n",
    "    s8 = chain[!, \"s8\"]\n",
    "    ns = chain[!, \"ns\"]\n",
    "    \n",
    "\n",
    "    cls = zeros(Float64, 610, length(h))\n",
    "    for i in 1:length(h)\n",
    "\n",
    "        cosmology = LimberJack.Cosmology(Ωm[i], Ωb[i], h[i], ns[i], s8[i],\n",
    "                                         tk_mode=\"emulator\",\n",
    "                                         Pk_mode=\"Halofit\")\n",
    "        cls[:, i] = Theory(cosmology, tracers_names, pairs,\n",
    "                        idx, files)\n",
    "    end\n",
    "    \n",
    "    return cls\n",
    "end;"
   ]
  },
  {
   "cell_type": "code",
   "execution_count": 7,
   "id": "9ce2ca2f",
   "metadata": {},
   "outputs": [
    {
     "data": {
      "text/plain": [
       "post_gp (generic function with 1 method)"
      ]
     },
     "execution_count": 7,
     "metadata": {},
     "output_type": "execute_result"
    }
   ],
   "source": [
    "function post_gp(fol_path)\n",
    "    i = 1 \n",
    "    while isfile(string(fol_path, \"chain_\", i, \".csv\"))\n",
    "        file_path = string(fol_path, \"chain_\", i, \".csv\")\n",
    "        chain = CSV.read(file_path, DataFrame)\n",
    "        gp, fs8 = get_gp(chain)\n",
    "        println(i)\n",
    "        npzwrite(string(fol_path, \"gp_\", i ,\".npz\"), gp)\n",
    "        npzwrite(string(fol_path, \"fs8_\", i ,\".npz\"), fs8)\n",
    "        i += 1\n",
    "    end    \n",
    "end"
   ]
  },
  {
   "cell_type": "code",
   "execution_count": 8,
   "id": "3048fa15",
   "metadata": {},
   "outputs": [
    {
     "data": {
      "text/plain": [
       "post_gp_hp (generic function with 1 method)"
      ]
     },
     "execution_count": 8,
     "metadata": {},
     "output_type": "execute_result"
    }
   ],
   "source": [
    "function post_gp_hp(fol_path)\n",
    "    i = 1 \n",
    "    while isfile(string(fol_path, \"chain_\", i, \".csv\"))\n",
    "        file_path = string(fol_path, \"chain_\", i, \".csv\")\n",
    "        chain = CSV.read(file_path, DataFrame)\n",
    "        gp, fs8 = get_gp_hp(chain)\n",
    "        println(i)\n",
    "        npzwrite(string(fol_path, \"gp_\", i ,\".npz\"), gp)\n",
    "        npzwrite(string(fol_path, \"fs8_\", i ,\".npz\"), fs8)\n",
    "        i += 1\n",
    "    end    \n",
    "end"
   ]
  },
  {
   "cell_type": "code",
   "execution_count": 9,
   "id": "197a7066",
   "metadata": {},
   "outputs": [
    {
     "data": {
      "text/plain": [
       "post_lcdm (generic function with 1 method)"
      ]
     },
     "execution_count": 9,
     "metadata": {},
     "output_type": "execute_result"
    }
   ],
   "source": [
    "function post_lcdm(fol_path)\n",
    "    i = 1 \n",
    "    while isfile(string(fol_path, \"chain_\", i, \".csv\"))\n",
    "        file_path = string(fol_path, \"chain_\", i, \".csv\")\n",
    "        chain = CSV.read(file_path, DataFrame)\n",
    "        Dz, fs8 = get_lcdm_prods(chain)\n",
    "        println(i)\n",
    "        npzwrite(string(fol_path, \"Dz_\", i ,\".npz\"), Dz)\n",
    "        npzwrite(string(fol_path, \"fs8_\", i ,\".npz\"), fs8)\n",
    "        i += 1\n",
    "    end    \n",
    "end"
   ]
  },
  {
   "cell_type": "code",
   "execution_count": 10,
   "id": "068b8acc",
   "metadata": {},
   "outputs": [
    {
     "data": {
      "text/plain": [
       "post_cls_SD (generic function with 1 method)"
      ]
     },
     "execution_count": 10,
     "metadata": {},
     "output_type": "execute_result"
    }
   ],
   "source": [
    "function post_cls_SD(fol_path)\n",
    "    i = 1 \n",
    "    while isfile(string(fol_path, \"chain_\", i, \".csv\"))\n",
    "        file_path = string(fol_path, \"chain_\", i, \".csv\")\n",
    "        chain = CSV.read(file_path, DataFrame)\n",
    "        cls = get_cls_SD(chain)\n",
    "        println(i)\n",
    "        npzwrite(string(fol_path, \"cls_\", i ,\".npz\"), cls)\n",
    "        i += 1\n",
    "    end    \n",
    "end"
   ]
  },
  {
   "cell_type": "code",
   "execution_count": 11,
   "id": "0839f4a1",
   "metadata": {},
   "outputs": [
    {
     "data": {
      "text/plain": [
       "post_cls_SD_cosmo (generic function with 1 method)"
      ]
     },
     "execution_count": 11,
     "metadata": {},
     "output_type": "execute_result"
    }
   ],
   "source": [
    "function post_cls_SD_cosmo(fol_path)\n",
    "    i = 1 \n",
    "    while isfile(string(fol_path, \"chain_\", i, \".csv\"))\n",
    "        file_path = string(fol_path, \"chain_\", i, \".csv\")\n",
    "        chain = CSV.read(file_path, DataFrame)\n",
    "        cls = get_cls_SD_cosmo(chain)\n",
    "        println(i)\n",
    "        npzwrite(string(fol_path, \"cls_\", i ,\".npz\"), cls)\n",
    "        i += 1\n",
    "    end    \n",
    "end"
   ]
  },
  {
   "cell_type": "code",
   "execution_count": 23,
   "id": "ca5ab887",
   "metadata": {},
   "outputs": [
    {
     "name": "stdout",
     "output_type": "stream",
     "text": [
      "1\n",
      "2\n"
     ]
    }
   ],
   "source": [
    "post_cls_SD(\"SD_TAP_0.6/\")"
   ]
  },
  {
   "cell_type": "code",
   "execution_count": 32,
   "id": "abdf9a18",
   "metadata": {},
   "outputs": [
    {
     "name": "stdout",
     "output_type": "stream",
     "text": [
      "1\n",
      "2\n",
      "3\n",
      "4\n",
      "5\n",
      "6\n"
     ]
    }
   ],
   "source": [
    "post_cls_SD_cosmo(\"SD_cosmo_TAP_0.6/\")"
   ]
  },
  {
   "cell_type": "code",
   "execution_count": 14,
   "id": "814d261a",
   "metadata": {},
   "outputs": [
    {
     "name": "stdout",
     "output_type": "stream",
     "text": [
      "1\n",
      "2\n",
      "3\n",
      "4\n",
      "5\n"
     ]
    }
   ],
   "source": [
    "post_lcdm(\"ND_TAP_0.6/\")"
   ]
  },
  {
   "cell_type": "code",
   "execution_count": 15,
   "id": "1b30161f",
   "metadata": {},
   "outputs": [
    {
     "name": "stdout",
     "output_type": "stream",
     "text": [
      "1\n",
      "2\n",
      "3\n",
      "4\n",
      "5\n",
      "6\n"
     ]
    }
   ],
   "source": [
    "post_lcdm(\"ND_RSD_TAP_0.6/\")"
   ]
  },
  {
   "cell_type": "code",
   "execution_count": 12,
   "id": "8a693d5e",
   "metadata": {},
   "outputs": [
    {
     "ename": "LoadError",
     "evalue": "UndefVarError: DataFrame not defined",
     "output_type": "error",
     "traceback": [
      "UndefVarError: DataFrame not defined",
      "",
      "Stacktrace:",
      " [1] post_gp(fol_path::String)",
      "   @ Main ./In[7]:5",
      " [2] top-level scope",
      "   @ In[12]:1"
     ]
    }
   ],
   "source": [
    "post_gp(\"../chains/ND_super_gp_Gibbs_TAP_0.6/\")"
   ]
  },
  {
   "cell_type": "code",
   "execution_count": 25,
   "id": "6589bbbe",
   "metadata": {},
   "outputs": [
    {
     "name": "stdout",
     "output_type": "stream",
     "text": [
      "1\n",
      "2\n",
      "3\n",
      "4\n"
     ]
    }
   ],
   "source": [
    "post_gp_hp(\"ND_RSD_gp_hp_TAP_0.6/\")"
   ]
  },
  {
   "cell_type": "code",
   "execution_count": 18,
   "id": "65f8200f",
   "metadata": {},
   "outputs": [
    {
     "name": "stdout",
     "output_type": "stream",
     "text": [
      "1\n"
     ]
    }
   ],
   "source": [
    "post2(\"ND_gp_hp_TAP_0.6/\")"
   ]
  },
  {
   "cell_type": "code",
   "execution_count": 70,
   "id": "694506b7",
   "metadata": {},
   "outputs": [
    {
     "name": "stdout",
     "output_type": "stream",
     "text": [
      "1\n",
      "2\n"
     ]
    }
   ],
   "source": [
    "post2(\"DES_full_gp_nos8_2_TAP_0.6/\")"
   ]
  },
  {
   "cell_type": "code",
   "execution_count": null,
   "id": "9f5e535f",
   "metadata": {},
   "outputs": [],
   "source": []
  }
 ],
 "metadata": {
  "kernelspec": {
   "display_name": "Julia 1.7.1",
   "language": "julia",
   "name": "julia-1.7"
  },
  "language_info": {
   "file_extension": ".jl",
   "mimetype": "application/julia",
   "name": "julia",
   "version": "1.7.1"
  }
 },
 "nbformat": 4,
 "nbformat_minor": 5
}
