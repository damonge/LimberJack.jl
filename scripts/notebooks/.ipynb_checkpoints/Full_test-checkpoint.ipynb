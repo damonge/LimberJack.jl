{
 "cells": [
  {
   "cell_type": "markdown",
   "id": "038cf129",
   "metadata": {},
   "source": [
    "# Tests"
   ]
  },
  {
   "cell_type": "code",
   "execution_count": 31,
   "id": "43175cd7",
   "metadata": {},
   "outputs": [
    {
     "data": {
      "text/plain": [
       "4"
      ]
     },
     "execution_count": 31,
     "metadata": {},
     "output_type": "execute_result"
    }
   ],
   "source": [
    "Threads.nthreads()"
   ]
  },
  {
   "cell_type": "code",
   "execution_count": 32,
   "id": "02df9ee7",
   "metadata": {},
   "outputs": [],
   "source": [
    "using LinearAlgebra\n",
    "using Turing\n",
    "using LimberJack\n",
    "using PythonCall\n",
    "using NPZ\n",
    "using BenchmarkTools;"
   ]
  },
  {
   "cell_type": "code",
   "execution_count": 33,
   "id": "a74170be",
   "metadata": {},
   "outputs": [],
   "source": [
    "np = pyimport(\"numpy\");"
   ]
  },
  {
   "cell_type": "code",
   "execution_count": 34,
   "id": "9f10e109",
   "metadata": {},
   "outputs": [],
   "source": [
    "meta = np.load(\"../data/FD/FD_meta.npz\")\n",
    "tracers_names = pyconvert(Vector{String}, meta[\"tracers\"])\n",
    "pairs = pyconvert(Vector{Vector{String}}, meta[\"pairs\"])\n",
    "pairs_ids = pyconvert(Vector{Vector{Int}}, meta[\"pairs_ids\"])\n",
    "idx = pyconvert(Vector{Int}, meta[\"idx\"])\n",
    "data_vector = pyconvert(Vector{Float64}, meta[\"cls\"])\n",
    "cov_tot = pyconvert(Matrix{Float64}, meta[\"cov\"])\n",
    "inv_cov_tot = pyconvert(Matrix{Float64}, meta[\"inv_cov\"]);"
   ]
  },
  {
   "cell_type": "code",
   "execution_count": 35,
   "id": "35b3fa65",
   "metadata": {},
   "outputs": [],
   "source": [
    "files = npzread(\"../data/FD/FD_files.npz\");"
   ]
  },
  {
   "cell_type": "code",
   "execution_count": 36,
   "id": "1f92d459",
   "metadata": {},
   "outputs": [],
   "source": [
    "path = \"/home/jaime/PhD/LimberJack.jl/chains/carlos_chains/cl_cross_corr_v3_DES_K1000_all_mag_correctMag/\"\n",
    "pars = np.loadtxt(string(path, \"cl_cross_corr_v3_DES_K1000_all_mag_correctMag.bestfit\"))\n",
    "pars = pyconvert(Vector{Float64}, pars);\n"
   ]
  },
  {
   "cell_type": "code",
   "execution_count": 37,
   "id": "a43f42a9",
   "metadata": {},
   "outputs": [],
   "source": [
    "cls_carlos_ND = np.load(string(path, \"cl_cross_corr_bestfit_info.npz\"))\n",
    "cls_carlos_SD = np.load(string(path, \"cl_cross_corr_bestfit_info_copy.npz\"))\n",
    "cls_carlos_FD = np.append(cls_carlos_SD[\"cls\"], cls_carlos_ND[\"cls\"])\n",
    "cls_carlos_FD = pyconvert(Vector{Float64}, cls_carlos_FD)\n",
    "carlos_chi = pyconvert(Float64, - (cls_carlos_ND[\"chi2\"] +  cls_carlos_SD[\"chi2\"]));"
   ]
  },
  {
   "cell_type": "code",
   "execution_count": 8,
   "id": "81b7ac69",
   "metadata": {},
   "outputs": [
    {
     "data": {
      "text/plain": [
       "make_cls (generic function with 1 method)"
      ]
     },
     "execution_count": 8,
     "metadata": {},
     "output_type": "execute_result"
    }
   ],
   "source": [
    "Ωm = pars[1] + pars[2]\n",
    "s8 = pars[46]\n",
    "function make_cls(pars; Ωm=Ωm, s8=s8)\n",
    "    nuisances = Dict(\"DESgc__0_0_b\" => pars[6],\n",
    "                     \"DESgc__1_0_b\" => pars[7],\n",
    "                     \"DESgc__2_0_b\" => pars[8],\n",
    "                     \"DESgc__3_0_b\" => pars[9],\n",
    "                     \"DESgc__4_0_b\" => pars[10],\n",
    "                     \"DESgc__0_0_dz\" => pars[11],\n",
    "                     \"DESgc__1_0_dz\" => pars[12],\n",
    "                     \"DESgc__2_0_dz\" => pars[13],\n",
    "                     \"DESgc__3_0_dz\" => pars[14],\n",
    "                     \"DESgc__4_0_dz\" => pars[15],\n",
    "        \n",
    "                     \"A_IA\" => pars[16],\n",
    "                     \"alpha_IA\" => pars[17],\n",
    "        \n",
    "                     \"DESwl__0_e_m\" => pars[18],\n",
    "                     \"DESwl__1_e_m\" => pars[19],\n",
    "                     \"DESwl__2_e_m\" => pars[20],\n",
    "                     \"DESwl__3_e_m\" => pars[21],\n",
    "                     \"DESwl__0_e_dz\" => pars[22],\n",
    "                     \"DESwl__1_e_dz\" => pars[23],\n",
    "                     \"DESwl__2_e_dz\" => pars[24],\n",
    "                     \"DESwl__3_e_dz\" => pars[25],\n",
    "        \n",
    "                     \"eBOSS__0_0_b\" => pars[26],\n",
    "                     \"eBOSS__1_0_b\" => pars[27],\n",
    "\n",
    "                     \"DECALS__0_0_b\" => pars[28],\n",
    "                     \"DECALS__1_0_b\" => pars[29],\n",
    "                     \"DECALS__2_0_b\" => pars[30],\n",
    "                     \"DECALS__3_0_b\" => pars[31],\n",
    "                     \"DECALS__0_0_dz\" => pars[32],\n",
    "                     \"DECALS__1_0_dz\" => pars[33],\n",
    "                     \"DECALS__2_0_dz\" => pars[34],\n",
    "                     \"DECALS__3_0_dz\" => pars[35],\n",
    "                    \n",
    "                     \"KiDS1000__0_e_m\" => pars[36],\n",
    "                     \"KiDS1000__1_e_m\" => pars[37],\n",
    "                     \"KiDS1000__2_e_m\" => pars[38],\n",
    "                     \"KiDS1000__3_e_m\" => pars[39],\n",
    "                     \"KiDS1000__4_e_m\" => pars[40],\n",
    "                     \"KiDS1000__0_e_dz\" => pars[41],\n",
    "                     \"KiDS1000__1_e_dz\" => pars[42],\n",
    "                     \"KiDS1000__2_e_dz\" => pars[43],\n",
    "                     \"KiDS1000__3_e_dz\" => pars[44],\n",
    "                     \"KiDS1000__4_e_dz\" => pars[45])\n",
    "\n",
    "    Ωb = pars[1]\n",
    "    h = pars[5]\n",
    "    ns = pars[4]\n",
    "    \n",
    "    cosmology = LimberJack.Cosmology(Ωm, Ωb, h, ns, s8, \n",
    "                                     tk_mode=\"EisHu\",\n",
    "                                     Pk_mode=\"Halofit\")\n",
    "\n",
    "    return Theory(cosmology,\n",
    "                  tracers_names, pairs,\n",
    "                  idx, files;\n",
    "                  Nuisances=nuisances)\n",
    "\n",
    "end"
   ]
  },
  {
   "cell_type": "code",
   "execution_count": 9,
   "id": "0212b8fd",
   "metadata": {},
   "outputs": [
    {
     "data": {
      "text/plain": [
       "BenchmarkTools.Trial: 52 samples with 1 evaluation.\n",
       " Range \u001b[90m(\u001b[39m\u001b[36m\u001b[1mmin\u001b[22m\u001b[39m … \u001b[35mmax\u001b[39m\u001b[90m):  \u001b[39m\u001b[36m\u001b[1m53.419 ms\u001b[22m\u001b[39m … \u001b[35m176.514 ms\u001b[39m  \u001b[90m┊\u001b[39m GC \u001b[90m(\u001b[39mmin … max\u001b[90m): \u001b[39m 0.00% … 50.66%\n",
       " Time  \u001b[90m(\u001b[39m\u001b[34m\u001b[1mmedian\u001b[22m\u001b[39m\u001b[90m):     \u001b[39m\u001b[34m\u001b[1m89.314 ms               \u001b[22m\u001b[39m\u001b[90m┊\u001b[39m GC \u001b[90m(\u001b[39mmedian\u001b[90m):    \u001b[39m 0.00%\n",
       " Time  \u001b[90m(\u001b[39m\u001b[32m\u001b[1mmean\u001b[22m\u001b[39m ± \u001b[32mσ\u001b[39m\u001b[90m):   \u001b[39m\u001b[32m\u001b[1m97.451 ms\u001b[22m\u001b[39m ± \u001b[32m 32.350 ms\u001b[39m  \u001b[90m┊\u001b[39m GC \u001b[90m(\u001b[39mmean ± σ\u001b[90m):  \u001b[39m13.49% ± 18.74%\n",
       "\n",
       "  \u001b[39m \u001b[39m \u001b[39m \u001b[39m \u001b[39m \u001b[39m \u001b[39m \u001b[39m \u001b[39m \u001b[39m \u001b[39m \u001b[39m▁\u001b[39m▆\u001b[39m \u001b[39m \u001b[39m \u001b[39m \u001b[39m▃\u001b[34m█\u001b[39m\u001b[39m \u001b[39m \u001b[39m▁\u001b[39m▃\u001b[32m▁\u001b[39m\u001b[39m \u001b[39m \u001b[39m \u001b[39m \u001b[39m \u001b[39m \u001b[39m \u001b[39m \u001b[39m \u001b[39m \u001b[39m \u001b[39m \u001b[39m \u001b[39m \u001b[39m \u001b[39m \u001b[39m \u001b[39m \u001b[39m \u001b[39m \u001b[39m \u001b[39m \u001b[39m \u001b[39m \u001b[39m \u001b[39m \u001b[39m \u001b[39m \u001b[39m \u001b[39m \u001b[39m \u001b[39m▁\u001b[39m \u001b[39m \u001b[39m \u001b[39m \u001b[39m \u001b[39m \n",
       "  \u001b[39m▇\u001b[39m▁\u001b[39m▄\u001b[39m▁\u001b[39m▄\u001b[39m▁\u001b[39m▄\u001b[39m▄\u001b[39m▄\u001b[39m▄\u001b[39m▁\u001b[39m█\u001b[39m█\u001b[39m▁\u001b[39m▄\u001b[39m▇\u001b[39m▁\u001b[39m█\u001b[34m█\u001b[39m\u001b[39m▇\u001b[39m▁\u001b[39m█\u001b[39m█\u001b[32m█\u001b[39m\u001b[39m▁\u001b[39m▁\u001b[39m▄\u001b[39m▁\u001b[39m▄\u001b[39m▄\u001b[39m▁\u001b[39m▁\u001b[39m▁\u001b[39m▁\u001b[39m▁\u001b[39m▁\u001b[39m▁\u001b[39m▁\u001b[39m▁\u001b[39m▁\u001b[39m▁\u001b[39m▁\u001b[39m▁\u001b[39m▁\u001b[39m▁\u001b[39m▁\u001b[39m▁\u001b[39m▁\u001b[39m▁\u001b[39m▁\u001b[39m▁\u001b[39m▁\u001b[39m▁\u001b[39m▁\u001b[39m▁\u001b[39m█\u001b[39m▁\u001b[39m▄\u001b[39m▇\u001b[39m▄\u001b[39m \u001b[39m▁\n",
       "  53.4 ms\u001b[90m         Histogram: frequency by time\u001b[39m          170 ms \u001b[0m\u001b[1m<\u001b[22m\n",
       "\n",
       " Memory estimate\u001b[90m: \u001b[39m\u001b[33m51.95 MiB\u001b[39m, allocs estimate\u001b[90m: \u001b[39m\u001b[33m96506\u001b[39m."
      ]
     },
     "execution_count": 9,
     "metadata": {},
     "output_type": "execute_result"
    }
   ],
   "source": [
    "@benchmark make_cls(pars)"
   ]
  },
  {
   "cell_type": "code",
   "execution_count": 77,
   "id": "33748772",
   "metadata": {},
   "outputs": [
    {
     "data": {
      "text/plain": [
       "TTheory (generic function with 2 methods)"
      ]
     },
     "execution_count": 77,
     "metadata": {},
     "output_type": "execute_result"
    }
   ],
   "source": [
    "function TTheory(cosmology::Cosmology,\n",
    "                tracers_names, pairs,\n",
    "                idx, files;\n",
    "                Nuisances=Dict())\n",
    "\n",
    "    ntracers = length(tracers_names)\n",
    "    tracers = []\n",
    "    \n",
    "    nui_type =  eltype(valtype(Nuisances))\n",
    "    if !(nui_type <: Float64) & (nui_type != Any)\n",
    "        if nui_type != Real\n",
    "            cosmology.settings.cosmo_type = nui_type\n",
    "        end\n",
    "    end\n",
    "    \n",
    "    tracers =  Dict{String}{LimberJack.Tracer}()\n",
    "    \n",
    "    for name in tracers_names\n",
    "        n = length(name)\n",
    "        t_type = name[n:n]\n",
    "        if t_type == \"0\"\n",
    "            nzs = files[string(\"nz_\", name)]\n",
    "            nzs = [nzs[i,:] for i in 1:size(nzs,1)]\n",
    "            zs_mean, nz_mean = nzs[1], nzs[2]\n",
    "\n",
    "            b = get(Nuisances, string(name, \"_\", \"b\"), 1.0)\n",
    "            nz = get(Nuisances, string(name, \"_\", \"nz\"), nz_mean)\n",
    "            dzi = get(Nuisances, string(name, \"_\", \"dz\"), 0.0)\n",
    "            zs = zs_mean .+ dzi  # Opposite sign in KiDS\n",
    "            tracer = NumberCountsTracer(cosmology, zs, nz;\n",
    "                                        b=b)\n",
    "        elseif t_type == \"e\"\n",
    "            nzs = files[string(\"nz_\", name)]\n",
    "            nzs = [nzs[i,:] for i in 1:size(nzs,1)]\n",
    "            zs_mean, nz_mean = nzs[1], nzs[2]\n",
    "\n",
    "            mb = get(Nuisances, string(name, \"_\", \"mb\"), 0.0)\n",
    "            IA_params = [get(Nuisances, \"A_IA\", 0.0),\n",
    "                         get(Nuisances, \"alpha_IA\", 0.0)]\n",
    "            nz = get(Nuisances, string(name, \"_\", \"nz\"), nz_mean)\n",
    "            dzi = get(Nuisances, string(name, \"_\", \"dz\"), 0.0)\n",
    "            zs = zs_mean .+ dzi  # Opposite sign in KiDS\n",
    "            tracer = WeakLensingTracer(cosmology, zs, nz;\n",
    "                                       mb=mb, IA_params=IA_params)\n",
    "            \n",
    "        elseif t_type == \"k\"\n",
    "            tracer = CMBLensingTracer(cosmology)\n",
    "\n",
    "        else\n",
    "            print(\"Not implemented\")\n",
    "            trancer = nothing\n",
    "        end\n",
    "        merge!(tracers, Dict(name => tracer))\n",
    "\n",
    "    end\n",
    "\n",
    "    npairs = length(pairs)\n",
    "    total_len = last(idx)\n",
    "    cls = zeros(cosmology.settings.cosmo_type, total_len)\n",
    "    for i in 1:npairs\n",
    "        name1, name2 = pairs[i]\n",
    "        ls = files[string(\"ls_\", name1, \"_\", name2)]\n",
    "        tracer1 = tracers[name1]\n",
    "        tracer2 = tracers[name2]\n",
    "        cls[idx[i]+1:idx[i+1]] = angularCℓs(cosmology, tracer1, tracer2, ls)\n",
    "    end\n",
    "    \n",
    "    return cls\n",
    "end"
   ]
  },
  {
   "cell_type": "code",
   "execution_count": 89,
   "id": "0729aeff",
   "metadata": {},
   "outputs": [
    {
     "data": {
      "text/plain": [
       "diff_cls (generic function with 1 method)"
      ]
     },
     "execution_count": 89,
     "metadata": {},
     "output_type": "execute_result"
    }
   ],
   "source": [
    "function diff_cls(pars;\n",
    "                  tracers_names=tracers_names,\n",
    "                  pairs=pairs,\n",
    "                  idx=idx,\n",
    "                  files=files,\n",
    "                  data_vector=data_vector,\n",
    "                  inv_cov=inv_cov_tot)\n",
    "\n",
    "    Ωm = pars[1] + pars[2]\n",
    "    s8 = pars[46]\n",
    "    Ωb = pars[1]\n",
    "    h = pars[5]\n",
    "    ns = pars[4]\n",
    "    \n",
    "    cosmology = LimberJack.Cosmology(Ωm, Ωb, h, ns, s8, \n",
    "                                     tk_mode=\"emulator\",\n",
    "                                     Pk_mode=\"Halofit\")\n",
    "    return TTheory(cosmology, tracers_names, pairs,\n",
    "                    idx, files)\n",
    "end"
   ]
  },
  {
   "cell_type": "code",
   "execution_count": 81,
   "id": "832fc6f6",
   "metadata": {},
   "outputs": [
    {
     "data": {
      "text/plain": [
       "diff_Xi2 (generic function with 1 method)"
      ]
     },
     "execution_count": 81,
     "metadata": {},
     "output_type": "execute_result"
    }
   ],
   "source": [
    "function diff_Xi2(pars; data_vector=data_vector, inv_cov=inv_cov_tot)\n",
    "    nuisances = Dict(\"DESgc__0_0_b\" => pars[6],\n",
    "                     \"DESgc__1_0_b\" => pars[7],\n",
    "                     \"DESgc__2_0_b\" => pars[8],\n",
    "                     \"DESgc__3_0_b\" => pars[9],\n",
    "                     \"DESgc__4_0_b\" => pars[10],\n",
    "                     \"DESgc__0_0_dz\" => pars[11],\n",
    "                     \"DESgc__1_0_dz\" => pars[12],\n",
    "                     \"DESgc__2_0_dz\" => pars[13],\n",
    "                     \"DESgc__3_0_dz\" => pars[14],\n",
    "                     \"DESgc__4_0_dz\" => pars[15],\n",
    "        \n",
    "                     \"A_IA\" => pars[16],\n",
    "                     \"alpha_IA\" => pars[17],\n",
    "        \n",
    "                     \"DESwl__0_e_m\" => pars[18],\n",
    "                     \"DESwl__1_e_m\" => pars[19],\n",
    "                     \"DESwl__2_e_m\" => pars[20],\n",
    "                     \"DESwl__3_e_m\" => pars[21],\n",
    "                     \"DESwl__0_e_dz\" => pars[22],\n",
    "                     \"DESwl__1_e_dz\" => pars[23],\n",
    "                     \"DESwl__2_e_dz\" => pars[24],\n",
    "                     \"DESwl__3_e_dz\" => pars[25],\n",
    "        \n",
    "                     \"eBOSS__0_0_b\" => pars[26],\n",
    "                     \"eBOSS__1_0_b\" => pars[27],\n",
    "\n",
    "                     \"DECALS__0_0_b\" => pars[28],\n",
    "                     \"DECALS__1_0_b\" => pars[29],\n",
    "                     \"DECALS__2_0_b\" => pars[30],\n",
    "                     \"DECALS__3_0_b\" => pars[31],\n",
    "                     \"DECALS__0_0_dz\" => pars[32],\n",
    "                     \"DECALS__1_0_dz\" => pars[33],\n",
    "                     \"DECALS__2_0_dz\" => pars[34],\n",
    "                     \"DECALS__3_0_dz\" => pars[35],\n",
    "                    \n",
    "                     \"KiDS1000__0_e_m\" => pars[36],\n",
    "                     \"KiDS1000__1_e_m\" => pars[37],\n",
    "                     \"KiDS1000__2_e_m\" => pars[38],\n",
    "                     \"KiDS1000__3_e_m\" => pars[39],\n",
    "                     \"KiDS1000__4_e_m\" => pars[40],\n",
    "                     \"KiDS1000__0_e_dz\" => pars[41],\n",
    "                     \"KiDS1000__1_e_dz\" => pars[42],\n",
    "                     \"KiDS1000__2_e_dz\" => pars[43],\n",
    "                     \"KiDS1000__3_e_dz\" => pars[44],\n",
    "                     \"KiDS1000__4_e_dz\" => pars[45])\n",
    "    \n",
    "    Ωm = pars[1] + pars[2]\n",
    "    s8 = pars[46]\n",
    "    Ωb = pars[1]\n",
    "    h = pars[5]\n",
    "    ns = pars[4]\n",
    "    \n",
    "    cosmology = LimberJack.Cosmology(Ωm, Ωb, h, ns, s8, \n",
    "                                     tk_mode=\"emulator\",\n",
    "                                     Pk_mode=\"Halofit\")\n",
    "    \n",
    "    theory = TTheory(cosmology, tracers_names, pairs,\n",
    "                    idx, files; Nuisances=nuisances)\n",
    "    \n",
    "    diff = @.(theory-data_vector)\n",
    "    return dot(diff, inv_cov_tot  * diff)\n",
    "\n",
    "end"
   ]
  },
  {
   "cell_type": "code",
   "execution_count": 84,
   "id": "9d406413",
   "metadata": {},
   "outputs": [
    {
     "data": {
      "text/plain": [
       "BenchmarkTools.Trial: 3 samples with 1 evaluation.\n",
       " Range \u001b[90m(\u001b[39m\u001b[36m\u001b[1mmin\u001b[22m\u001b[39m … \u001b[35mmax\u001b[39m\u001b[90m):  \u001b[39m\u001b[36m\u001b[1m1.969 s\u001b[22m\u001b[39m … \u001b[35m  2.011 s\u001b[39m  \u001b[90m┊\u001b[39m GC \u001b[90m(\u001b[39mmin … max\u001b[90m): \u001b[39m9.26% … 8.97%\n",
       " Time  \u001b[90m(\u001b[39m\u001b[34m\u001b[1mmedian\u001b[22m\u001b[39m\u001b[90m):     \u001b[39m\u001b[34m\u001b[1m1.971 s              \u001b[22m\u001b[39m\u001b[90m┊\u001b[39m GC \u001b[90m(\u001b[39mmedian\u001b[90m):    \u001b[39m9.15%\n",
       " Time  \u001b[90m(\u001b[39m\u001b[32m\u001b[1mmean\u001b[22m\u001b[39m ± \u001b[32mσ\u001b[39m\u001b[90m):   \u001b[39m\u001b[32m\u001b[1m1.984 s\u001b[22m\u001b[39m ± \u001b[32m23.398 ms\u001b[39m  \u001b[90m┊\u001b[39m GC \u001b[90m(\u001b[39mmean ± σ\u001b[90m):  \u001b[39m9.06% ± 0.17%\n",
       "\n",
       "  \u001b[34m█\u001b[39m\u001b[39m \u001b[39m█\u001b[39m \u001b[39m \u001b[39m \u001b[39m \u001b[39m \u001b[39m \u001b[39m \u001b[39m \u001b[39m \u001b[39m \u001b[39m \u001b[39m \u001b[39m \u001b[39m \u001b[39m \u001b[39m \u001b[39m \u001b[32m \u001b[39m\u001b[39m \u001b[39m \u001b[39m \u001b[39m \u001b[39m \u001b[39m \u001b[39m \u001b[39m \u001b[39m \u001b[39m \u001b[39m \u001b[39m \u001b[39m \u001b[39m \u001b[39m \u001b[39m \u001b[39m \u001b[39m \u001b[39m \u001b[39m \u001b[39m \u001b[39m \u001b[39m \u001b[39m \u001b[39m \u001b[39m \u001b[39m \u001b[39m \u001b[39m \u001b[39m \u001b[39m \u001b[39m \u001b[39m \u001b[39m \u001b[39m \u001b[39m█\u001b[39m \u001b[39m \n",
       "  \u001b[34m█\u001b[39m\u001b[39m▁\u001b[39m█\u001b[39m▁\u001b[39m▁\u001b[39m▁\u001b[39m▁\u001b[39m▁\u001b[39m▁\u001b[39m▁\u001b[39m▁\u001b[39m▁\u001b[39m▁\u001b[39m▁\u001b[39m▁\u001b[39m▁\u001b[39m▁\u001b[39m▁\u001b[39m▁\u001b[39m▁\u001b[32m▁\u001b[39m\u001b[39m▁\u001b[39m▁\u001b[39m▁\u001b[39m▁\u001b[39m▁\u001b[39m▁\u001b[39m▁\u001b[39m▁\u001b[39m▁\u001b[39m▁\u001b[39m▁\u001b[39m▁\u001b[39m▁\u001b[39m▁\u001b[39m▁\u001b[39m▁\u001b[39m▁\u001b[39m▁\u001b[39m▁\u001b[39m▁\u001b[39m▁\u001b[39m▁\u001b[39m▁\u001b[39m▁\u001b[39m▁\u001b[39m▁\u001b[39m▁\u001b[39m▁\u001b[39m▁\u001b[39m▁\u001b[39m▁\u001b[39m▁\u001b[39m▁\u001b[39m▁\u001b[39m▁\u001b[39m█\u001b[39m \u001b[39m▁\n",
       "  1.97 s\u001b[90m         Histogram: frequency by time\u001b[39m        2.01 s \u001b[0m\u001b[1m<\u001b[22m\n",
       "\n",
       " Memory estimate\u001b[90m: \u001b[39m\u001b[33m3.81 GiB\u001b[39m, allocs estimate\u001b[90m: \u001b[39m\u001b[33m1128034\u001b[39m."
      ]
     },
     "execution_count": 84,
     "metadata": {},
     "output_type": "execute_result"
    }
   ],
   "source": [
    "using ForwardDiff\n",
    "@benchmark ForwardDiff.gradient(diff_Xi2, pars)"
   ]
  },
  {
   "cell_type": "code",
   "execution_count": 91,
   "id": "6e4abbb9",
   "metadata": {},
   "outputs": [
    {
     "ename": "LoadError",
     "evalue": "DimensionMismatch(\"jacobian(f, x) expects that f(x) is an array. Perhaps you meant gradient(f, x)?\")",
     "output_type": "error",
     "traceback": [
      "DimensionMismatch(\"jacobian(f, x) expects that f(x) is an array. Perhaps you meant gradient(f, x)?\")",
      "",
      "Stacktrace:",
      "  [1] chunk_mode_jacobian(f::typeof(diff_cls), x::Vector{Float64}, cfg::ForwardDiff.JacobianConfig{ForwardDiff.Tag{typeof(diff_cls), Float64}, Float64, 12, Vector{ForwardDiff.Dual{ForwardDiff.Tag{typeof(diff_cls), Float64}, Float64, 12}}})",
      "    @ ForwardDiff ~/.julia/packages/ForwardDiff/pDtsf/src/jacobian.jl:228",
      "  [2] jacobian(f::Function, x::Vector{Float64}, cfg::ForwardDiff.JacobianConfig{ForwardDiff.Tag{typeof(diff_cls), Float64}, Float64, 12, Vector{ForwardDiff.Dual{ForwardDiff.Tag{typeof(diff_cls), Float64}, Float64, 12}}}, ::Val{true})",
      "    @ ForwardDiff ~/.julia/packages/ForwardDiff/pDtsf/src/jacobian.jl:23",
      "  [3] jacobian(f::Function, x::Vector{Float64}, cfg::ForwardDiff.JacobianConfig{ForwardDiff.Tag{typeof(diff_cls), Float64}, Float64, 12, Vector{ForwardDiff.Dual{ForwardDiff.Tag{typeof(diff_cls), Float64}, Float64, 12}}}) (repeats 2 times)",
      "    @ ForwardDiff ~/.julia/packages/ForwardDiff/pDtsf/src/jacobian.jl:19",
      "  [4] var\"##core#510\"()",
      "    @ Main ~/.julia/packages/BenchmarkTools/7xSXH/src/execution.jl:489",
      "  [5] var\"##sample#511\"(::Tuple{}, __params::BenchmarkTools.Parameters)",
      "    @ Main ~/.julia/packages/BenchmarkTools/7xSXH/src/execution.jl:495",
      "  [6] _run(b::BenchmarkTools.Benchmark, p::BenchmarkTools.Parameters; verbose::Bool, pad::String, kwargs::Base.Pairs{Symbol, Integer, NTuple{4, Symbol}, NamedTuple{(:samples, :evals, :gctrial, :gcsample), Tuple{Int64, Int64, Bool, Bool}}})",
      "    @ BenchmarkTools ~/.julia/packages/BenchmarkTools/7xSXH/src/execution.jl:99",
      "  [7] #invokelatest#2",
      "    @ ./essentials.jl:718 [inlined]",
      "  [8] #run_result#45",
      "    @ ~/.julia/packages/BenchmarkTools/7xSXH/src/execution.jl:34 [inlined]",
      "  [9] run(b::BenchmarkTools.Benchmark, p::BenchmarkTools.Parameters; progressid::Nothing, nleaves::Float64, ndone::Float64, kwargs::Base.Pairs{Symbol, Integer, NTuple{5, Symbol}, NamedTuple{(:verbose, :samples, :evals, :gctrial, :gcsample), Tuple{Bool, Int64, Int64, Bool, Bool}}})",
      "    @ BenchmarkTools ~/.julia/packages/BenchmarkTools/7xSXH/src/execution.jl:117",
      " [10] #warmup#54",
      "    @ ~/.julia/packages/BenchmarkTools/7xSXH/src/execution.jl:169 [inlined]",
      " [11] warmup(item::BenchmarkTools.Benchmark)",
      "    @ BenchmarkTools ~/.julia/packages/BenchmarkTools/7xSXH/src/execution.jl:169",
      " [12] top-level scope",
      "    @ ~/.julia/packages/BenchmarkTools/7xSXH/src/execution.jl:393",
      " [13] eval",
      "    @ ./boot.jl:373 [inlined]",
      " [14] include_string(mapexpr::typeof(REPL.softscope), mod::Module, code::String, filename::String)",
      "    @ Base ./loading.jl:1196"
     ]
    }
   ],
   "source": [
    "using ForwardDiff\n",
    "@benchmark ForwardDiff.jacobian(diff_cls, pars)"
   ]
  },
  {
   "cell_type": "code",
   "execution_count": null,
   "id": "b3568c2c",
   "metadata": {},
   "outputs": [],
   "source": [
    "using ReverseDiff\n",
    "@benchmark ReverseDiff.gradient(diff_Xi2, pars)"
   ]
  },
  {
   "cell_type": "markdown",
   "id": "7ca01ddd",
   "metadata": {},
   "source": [
    "## Xi2"
   ]
  },
  {
   "cell_type": "code",
   "execution_count": 11,
   "id": "78e357ab",
   "metadata": {},
   "outputs": [],
   "source": [
    "best_pred = make_cls(pars);"
   ]
  },
  {
   "cell_type": "code",
   "execution_count": 12,
   "id": "870a89d4",
   "metadata": {},
   "outputs": [
    {
     "data": {
      "text/plain": [
       "1413.3592226701633"
      ]
     },
     "execution_count": 12,
     "metadata": {},
     "output_type": "execute_result"
    }
   ],
   "source": [
    "best_Xi = dot((best_pred .- data_vector), inv_cov_tot  * (best_pred .- data_vector))"
   ]
  },
  {
   "cell_type": "code",
   "execution_count": 13,
   "id": "8b83e05b",
   "metadata": {},
   "outputs": [
    {
     "data": {
      "text/plain": [
       "1.147"
      ]
     },
     "execution_count": 13,
     "metadata": {},
     "output_type": "execute_result"
    }
   ],
   "source": [
    "reduced_best_Xi = round(best_Xi/(length(data_vector)-43), digits=3)"
   ]
  },
  {
   "cell_type": "markdown",
   "id": "6fca07c1",
   "metadata": {},
   "source": [
    "## Prior sampling"
   ]
  },
  {
   "cell_type": "code",
   "execution_count": 21,
   "id": "5383d836",
   "metadata": {},
   "outputs": [],
   "source": [
    "N_samples = 100\n",
    "cls_preds = zeros(N_samples, length(data_vector))\n",
    "for i in 1:N_samples\n",
    "    Ωm = rand(Uniform(0.1, 0.6))\n",
    "    s8 = rand(Uniform(0.6, 0.9))\n",
    "    cls_preds[i,:] = make_cls(pars; Ωm=Ωm, s8=s8)\n",
    "end"
   ]
  },
  {
   "cell_type": "code",
   "execution_count": 22,
   "id": "4d316b98",
   "metadata": {},
   "outputs": [],
   "source": [
    "cls_preds_m, cls_preds_s = mean(cls_preds, dims=1), std(cls_preds, dims=1);"
   ]
  },
  {
   "cell_type": "code",
   "execution_count": 23,
   "id": "99ac07d0",
   "metadata": {},
   "outputs": [],
   "source": [
    "npzwrite(\"jaime_cls.npz\", Dict(\"cls_best\" => best_pred,\n",
    "                               \"cls_m\" => cls_preds_m,\n",
    "                               \"cls_s\" => cls_preds_s))"
   ]
  },
  {
   "cell_type": "markdown",
   "id": "0f0ba5f7",
   "metadata": {},
   "source": [
    "## Turing"
   ]
  },
  {
   "cell_type": "code",
   "execution_count": 15,
   "id": "7325f732",
   "metadata": {},
   "outputs": [],
   "source": [
    "@model function model(data_vector::Vector{Float64})\n",
    "    Ωm ~ Uniform(0.1, 0.6)\n",
    "    Ωb = 0.05 #~ Uniform(0.03, 0.07)\n",
    "    h = 0.67 #~ Uniform(0.6, 0.9)\n",
    "    s8 = 0.81 #~ Uniform(0.6, 1.0)\n",
    "    ns = 0.96 #~ Uniform(0.87, 1.07)\n",
    "\n",
    "    cosmology = LimberJack.Cosmology(Ωm, Ωb, h, s8, s8,\n",
    "                                     tk_mode=\"emulator\",\n",
    "                                     Pk_mode=\"Halofit\")\n",
    "    theory = Theory(cosmology,\n",
    "                    tracers_names, pairs,\n",
    "                    pairs_ids, idx, files)\n",
    "    data_vector ~ MvNormal(theory, cov_tot)\n",
    "    return data_vector\n",
    "end;"
   ]
  },
  {
   "cell_type": "code",
   "execution_count": 11,
   "id": "4a0dba7f",
   "metadata": {},
   "outputs": [],
   "source": [
    "iterations = 300\n",
    "nadapts = 100;"
   ]
  },
  {
   "cell_type": "code",
   "execution_count": 10,
   "id": "acc3c742",
   "metadata": {},
   "outputs": [
    {
     "name": "stderr",
     "output_type": "stream",
     "text": [
      "┌ Warning: The current proposal will be rejected due to numerical error(s).\n",
      "│   isfinite.((θ, r, ℓπ, ℓκ)) = (true, false, false, false)\n",
      "└ @ AdvancedHMC /home/jaime/.julia/packages/AdvancedHMC/51xgc/src/hamiltonian.jl:47\n",
      "\u001b[32mSampling:   1%|▌                                        |  ETA: 0:08:52\u001b[39m┌ Warning: The current proposal will be rejected due to numerical error(s).\n",
      "│   isfinite.((θ, r, ℓπ, ℓκ)) = (true, false, false, false)\n",
      "└ @ AdvancedHMC /home/jaime/.julia/packages/AdvancedHMC/51xgc/src/hamiltonian.jl:47\n",
      "\u001b[32mSampling: 100%|█████████████████████████████████████████| Time: 0:01:01\u001b[39m\n"
     ]
    },
    {
     "ename": "LoadError",
     "evalue": "InterruptException:",
     "output_type": "error",
     "traceback": [
      "InterruptException:",
      "",
      "Stacktrace:",
      "  [1] Array",
      "    @ ./boot.jl:457 [inlined]",
      "  [2] Array",
      "    @ ./boot.jl:466 [inlined]",
      "  [3] Array",
      "    @ ./boot.jl:474 [inlined]",
      "  [4] similar",
      "    @ ./abstractarray.jl:829 [inlined]",
      "  [5] similar",
      "    @ ./abstractarray.jl:828 [inlined]",
      "  [6] similar",
      "    @ ./broadcast.jl:212 [inlined]",
      "  [7] similar",
      "    @ ./broadcast.jl:211 [inlined]",
      "  [8] copy",
      "    @ ./broadcast.jl:885 [inlined]",
      "  [9] materialize(bc::Base.Broadcast.Broadcasted{Base.Broadcast.DefaultArrayStyle{1}, Nothing, typeof(/), Tuple{Vector{ForwardDiff.Dual{ForwardDiff.Tag{Turing.TuringTag, Float64}, Float64, 1}}, Base.Broadcast.Broadcasted{Base.Broadcast.DefaultArrayStyle{1}, Nothing, typeof(+), Tuple{Float64, Base.Broadcast.Broadcasted{Base.Broadcast.DefaultArrayStyle{1}, Nothing, typeof(/), Tuple{ForwardDiff.Dual{ForwardDiff.Tag{Turing.TuringTag, Float64}, Float64, 1}, Vector{ForwardDiff.Dual{ForwardDiff.Tag{Turing.TuringTag, Float64}, Float64, 1}}}}}}}})",
      "    @ Base.Broadcast ./broadcast.jl:860",
      " [10] _power_spectrum_nonlin(cpar::CosmoPar{Real}, PkL::Vector{ForwardDiff.Dual{ForwardDiff.Tag{Turing.TuringTag, Float64}, Float64, 1}}, k::Vector{Float64}, z::Float64, rsig::ForwardDiff.Dual{ForwardDiff.Tag{Turing.TuringTag, Float64}, Float64, 1}, neff::ForwardDiff.Dual{ForwardDiff.Tag{Turing.TuringTag, Float64}, Float64, 1}, C::ForwardDiff.Dual{ForwardDiff.Tag{Turing.TuringTag, Float64}, Float64, 1})",
      "    @ LimberJack ~/.julia/packages/LimberJack/yaBAN/src/halofit.jl:172",
      " [11] get_PKnonlin(cosmo::CosmoPar{Real}, z::StepRangeLen{Float64, Base.TwicePrecision{Float64}, Base.TwicePrecision{Float64}, Int64}, k::Vector{Float64}, PkLz0::Vector{ForwardDiff.Dual{ForwardDiff.Tag{Turing.TuringTag, Float64}, Float64, 1}}, Dzs::Vector{ForwardDiff.Dual{ForwardDiff.Tag{Turing.TuringTag, Float64}, Float64, 1}}, cosmo_type::DataType)",
      "    @ LimberJack ~/.julia/packages/LimberJack/yaBAN/src/halofit.jl:70",
      " [12] Cosmology(cpar::CosmoPar{Real}, settings::Settings)",
      "    @ LimberJack ~/.julia/packages/LimberJack/yaBAN/src/core.jl:273",
      " [13] Cosmology(Ωm::ForwardDiff.Dual{ForwardDiff.Tag{Turing.TuringTag, Float64}, Float64, 1}, Ωb::Float64, h::Float64, n_s::Float64, σ8::Float64; θCMB::Float64, nz::Int64, nz_pk::Int64, nk::Int64, tk_mode::String, Pk_mode::String, custom_Dz::Nothing)",
      "    @ LimberJack ~/.julia/packages/LimberJack/yaBAN/src/core.jl:322",
      " [14] model(__model__::DynamicPPL.Model{typeof(model), (:data_vector,), (), (), Tuple{Vector{Float64}}, Tuple{}, DynamicPPL.DefaultContext}, __varinfo__::DynamicPPL.ThreadSafeVarInfo{DynamicPPL.TypedVarInfo{NamedTuple{(:Ωm,), Tuple{DynamicPPL.Metadata{Dict{AbstractPPL.VarName{:Ωm, Setfield.IdentityLens}, Int64}, Vector{Uniform{Float64}}, Vector{AbstractPPL.VarName{:Ωm, Setfield.IdentityLens}}, Vector{ForwardDiff.Dual{ForwardDiff.Tag{Turing.TuringTag, Float64}, Float64, 1}}, Vector{Set{DynamicPPL.Selector}}}}}, ForwardDiff.Dual{ForwardDiff.Tag{Turing.TuringTag, Float64}, Float64, 1}}, Vector{Base.RefValue{ForwardDiff.Dual{ForwardDiff.Tag{Turing.TuringTag, Float64}, Float64, 1}}}}, __context__::DynamicPPL.SamplingContext{DynamicPPL.Sampler{NUTS{Turing.Essential.ForwardDiffAD{0}, (), AdvancedHMC.DiagEuclideanMetric}}, DynamicPPL.DefaultContext, Random._GLOBAL_RNG}, data_vector::Vector{Float64})",
      "    @ Main ./In[7]:8",
      " [15] macro expansion",
      "    @ ~/.julia/packages/DynamicPPL/1qg3U/src/model.jl:493 [inlined]",
      " [16] _evaluate!!",
      "    @ ~/.julia/packages/DynamicPPL/1qg3U/src/model.jl:476 [inlined]",
      " [17] evaluate_threadsafe!!",
      "    @ ~/.julia/packages/DynamicPPL/1qg3U/src/model.jl:467 [inlined]",
      " [18] evaluate!!",
      "    @ ~/.julia/packages/DynamicPPL/1qg3U/src/model.jl:402 [inlined]",
      " [19] evaluate!!",
      "    @ ~/.julia/packages/DynamicPPL/1qg3U/src/model.jl:415 [inlined]",
      " [20] evaluate!!",
      "    @ ~/.julia/packages/DynamicPPL/1qg3U/src/model.jl:423 [inlined]",
      " [21] (::Turing.LogDensityFunction{DynamicPPL.TypedVarInfo{NamedTuple{(:Ωm,), Tuple{DynamicPPL.Metadata{Dict{AbstractPPL.VarName{:Ωm, Setfield.IdentityLens}, Int64}, Vector{Uniform{Float64}}, Vector{AbstractPPL.VarName{:Ωm, Setfield.IdentityLens}}, Vector{Float64}, Vector{Set{DynamicPPL.Selector}}}}}, Float64}, DynamicPPL.Model{typeof(model), (:data_vector,), (), (), Tuple{Vector{Float64}}, Tuple{}, DynamicPPL.DefaultContext}, DynamicPPL.Sampler{NUTS{Turing.Essential.ForwardDiffAD{0}, (), AdvancedHMC.DiagEuclideanMetric}}, DynamicPPL.DefaultContext})(θ::Vector{ForwardDiff.Dual{ForwardDiff.Tag{Turing.TuringTag, Float64}, Float64, 1}})",
      "    @ Turing ~/.julia/packages/Turing/szPqN/src/Turing.jl:38",
      " [22] logdensity",
      "    @ ~/.julia/packages/Turing/szPqN/src/Turing.jl:42 [inlined]",
      " [23] Fix1",
      "    @ ./operators.jl:1136 [inlined]",
      " [24] vector_mode_dual_eval!",
      "    @ ~/.julia/packages/ForwardDiff/pDtsf/src/apiutils.jl:37 [inlined]",
      " [25] vector_mode_gradient!",
      "    @ ~/.julia/packages/ForwardDiff/pDtsf/src/gradient.jl:113 [inlined]",
      " [26] gradient!(result::DiffResults.MutableDiffResult{1, Float64, Tuple{Vector{Float64}}}, f::Base.Fix1{typeof(LogDensityProblems.logdensity), Turing.LogDensityFunction{DynamicPPL.TypedVarInfo{NamedTuple{(:Ωm,), Tuple{DynamicPPL.Metadata{Dict{AbstractPPL.VarName{:Ωm, Setfield.IdentityLens}, Int64}, Vector{Uniform{Float64}}, Vector{AbstractPPL.VarName{:Ωm, Setfield.IdentityLens}}, Vector{Float64}, Vector{Set{DynamicPPL.Selector}}}}}, Float64}, DynamicPPL.Model{typeof(model), (:data_vector,), (), (), Tuple{Vector{Float64}}, Tuple{}, DynamicPPL.DefaultContext}, DynamicPPL.Sampler{NUTS{Turing.Essential.ForwardDiffAD{0}, (), AdvancedHMC.DiagEuclideanMetric}}, DynamicPPL.DefaultContext}}, x::Vector{Float64}, cfg::ForwardDiff.GradientConfig{ForwardDiff.Tag{Turing.TuringTag, Float64}, Float64, 1, Vector{ForwardDiff.Dual{ForwardDiff.Tag{Turing.TuringTag, Float64}, Float64, 1}}}, ::Val{true})",
      "    @ ForwardDiff ~/.julia/packages/ForwardDiff/pDtsf/src/gradient.jl:37",
      " [27] gradient!",
      "    @ ~/.julia/packages/ForwardDiff/pDtsf/src/gradient.jl:35 [inlined]",
      " [28] logdensity_and_gradient",
      "    @ ~/.julia/packages/LogDensityProblems/b1j6d/src/AD_ForwardDiff.jl:47 [inlined]",
      " [29] ∂logπ∂θ",
      "    @ ~/.julia/packages/Turing/szPqN/src/inference/hmc.jl:166 [inlined]",
      " [30] ∂H∂θ",
      "    @ ~/.julia/packages/AdvancedHMC/51xgc/src/hamiltonian.jl:31 [inlined]",
      " [31] phasepoint(h::AdvancedHMC.Hamiltonian{AdvancedHMC.DiagEuclideanMetric{Float64, Vector{Float64}}, Base.Fix1{typeof(LogDensityProblems.logdensity), LogDensityProblems.ForwardDiffLogDensity{Turing.LogDensityFunction{DynamicPPL.TypedVarInfo{NamedTuple{(:Ωm,), Tuple{DynamicPPL.Metadata{Dict{AbstractPPL.VarName{:Ωm, Setfield.IdentityLens}, Int64}, Vector{Uniform{Float64}}, Vector{AbstractPPL.VarName{:Ωm, Setfield.IdentityLens}}, Vector{Float64}, Vector{Set{DynamicPPL.Selector}}}}}, Float64}, DynamicPPL.Model{typeof(model), (:data_vector,), (), (), Tuple{Vector{Float64}}, Tuple{}, DynamicPPL.DefaultContext}, DynamicPPL.Sampler{NUTS{Turing.Essential.ForwardDiffAD{0}, (), AdvancedHMC.DiagEuclideanMetric}}, DynamicPPL.DefaultContext}, ForwardDiff.GradientConfig{ForwardDiff.Tag{Turing.TuringTag, Float64}, Float64, 1, Vector{ForwardDiff.Dual{ForwardDiff.Tag{Turing.TuringTag, Float64}, Float64, 1}}}}}, Turing.Inference.var\"#∂logπ∂θ#44\"{LogDensityProblems.ForwardDiffLogDensity{Turing.LogDensityFunction{DynamicPPL.TypedVarInfo{NamedTuple{(:Ωm,), Tuple{DynamicPPL.Metadata{Dict{AbstractPPL.VarName{:Ωm, Setfield.IdentityLens}, Int64}, Vector{Uniform{Float64}}, Vector{AbstractPPL.VarName{:Ωm, Setfield.IdentityLens}}, Vector{Float64}, Vector{Set{DynamicPPL.Selector}}}}}, Float64}, DynamicPPL.Model{typeof(model), (:data_vector,), (), (), Tuple{Vector{Float64}}, Tuple{}, DynamicPPL.DefaultContext}, DynamicPPL.Sampler{NUTS{Turing.Essential.ForwardDiffAD{0}, (), AdvancedHMC.DiagEuclideanMetric}}, DynamicPPL.DefaultContext}, ForwardDiff.GradientConfig{ForwardDiff.Tag{Turing.TuringTag, Float64}, Float64, 1, Vector{ForwardDiff.Dual{ForwardDiff.Tag{Turing.TuringTag, Float64}, Float64, 1}}}}}}, θ::Vector{Float64}, r::Vector{Float64})",
      "    @ AdvancedHMC ~/.julia/packages/AdvancedHMC/51xgc/src/hamiltonian.jl:76",
      " [32] refresh",
      "    @ ~/.julia/packages/AdvancedHMC/51xgc/src/hamiltonian.jl:165 [inlined]",
      " [33] transition",
      "    @ ~/.julia/packages/AdvancedHMC/51xgc/src/sampler.jl:56 [inlined]",
      " [34] step(rng::Random._GLOBAL_RNG, model::DynamicPPL.Model{typeof(model), (:data_vector,), (), (), Tuple{Vector{Float64}}, Tuple{}, DynamicPPL.DefaultContext}, spl::DynamicPPL.Sampler{NUTS{Turing.Essential.ForwardDiffAD{0}, (), AdvancedHMC.DiagEuclideanMetric}}, state::Turing.Inference.HMCState{DynamicPPL.TypedVarInfo{NamedTuple{(:Ωm,), Tuple{DynamicPPL.Metadata{Dict{AbstractPPL.VarName{:Ωm, Setfield.IdentityLens}, Int64}, Vector{Uniform{Float64}}, Vector{AbstractPPL.VarName{:Ωm, Setfield.IdentityLens}}, Vector{Float64}, Vector{Set{DynamicPPL.Selector}}}}}, Float64}, AdvancedHMC.HMCKernel{AdvancedHMC.FullMomentumRefreshment, AdvancedHMC.Trajectory{AdvancedHMC.MultinomialTS, AdvancedHMC.Leapfrog{Float64}, AdvancedHMC.GeneralisedNoUTurn{Float64}}}, AdvancedHMC.Hamiltonian{AdvancedHMC.DiagEuclideanMetric{Float64, Vector{Float64}}, Base.Fix1{typeof(LogDensityProblems.logdensity), LogDensityProblems.ForwardDiffLogDensity{Turing.LogDensityFunction{DynamicPPL.TypedVarInfo{NamedTuple{(:Ωm,), Tuple{DynamicPPL.Metadata{Dict{AbstractPPL.VarName{:Ωm, Setfield.IdentityLens}, Int64}, Vector{Uniform{Float64}}, Vector{AbstractPPL.VarName{:Ωm, Setfield.IdentityLens}}, Vector{Float64}, Vector{Set{DynamicPPL.Selector}}}}}, Float64}, DynamicPPL.Model{typeof(model), (:data_vector,), (), (), Tuple{Vector{Float64}}, Tuple{}, DynamicPPL.DefaultContext}, DynamicPPL.Sampler{NUTS{Turing.Essential.ForwardDiffAD{0}, (), AdvancedHMC.DiagEuclideanMetric}}, DynamicPPL.DefaultContext}, ForwardDiff.GradientConfig{ForwardDiff.Tag{Turing.TuringTag, Float64}, Float64, 1, Vector{ForwardDiff.Dual{ForwardDiff.Tag{Turing.TuringTag, Float64}, Float64, 1}}}}}, Turing.Inference.var\"#∂logπ∂θ#44\"{LogDensityProblems.ForwardDiffLogDensity{Turing.LogDensityFunction{DynamicPPL.TypedVarInfo{NamedTuple{(:Ωm,), Tuple{DynamicPPL.Metadata{Dict{AbstractPPL.VarName{:Ωm, Setfield.IdentityLens}, Int64}, Vector{Uniform{Float64}}, Vector{AbstractPPL.VarName{:Ωm, Setfield.IdentityLens}}, Vector{Float64}, Vector{Set{DynamicPPL.Selector}}}}}, Float64}, DynamicPPL.Model{typeof(model), (:data_vector,), (), (), Tuple{Vector{Float64}}, Tuple{}, DynamicPPL.DefaultContext}, DynamicPPL.Sampler{NUTS{Turing.Essential.ForwardDiffAD{0}, (), AdvancedHMC.DiagEuclideanMetric}}, DynamicPPL.DefaultContext}, ForwardDiff.GradientConfig{ForwardDiff.Tag{Turing.TuringTag, Float64}, Float64, 1, Vector{ForwardDiff.Dual{ForwardDiff.Tag{Turing.TuringTag, Float64}, Float64, 1}}}}}}, AdvancedHMC.PhasePoint{Vector{Float64}, AdvancedHMC.DualValue{Float64, Vector{Float64}}}, AdvancedHMC.Adaptation.StanHMCAdaptor{AdvancedHMC.Adaptation.WelfordVar{Float64, Vector{Float64}}, AdvancedHMC.Adaptation.NesterovDualAveraging{Float64}}}; nadapts::Int64, kwargs::Base.Pairs{Symbol, Bool, Tuple{Symbol}, NamedTuple{(:save_state,), Tuple{Bool}}})",
      "    @ Turing.Inference ~/.julia/packages/Turing/szPqN/src/inference/hmc.jl:240",
      " [35] macro expansion",
      "    @ ~/.julia/packages/AbstractMCMC/fnRmh/src/sample.jl:163 [inlined]",
      " [36] macro expansion",
      "    @ ~/.julia/packages/ProgressLogging/6KXlp/src/ProgressLogging.jl:328 [inlined]",
      " [37] (::AbstractMCMC.var\"#21#22\"{Bool, String, Nothing, Int64, Int64, Base.Pairs{Symbol, Integer, Tuple{Symbol, Symbol}, NamedTuple{(:nadapts, :save_state), Tuple{Int64, Bool}}}, Random._GLOBAL_RNG, DynamicPPL.Model{typeof(model), (:data_vector,), (), (), Tuple{Vector{Float64}}, Tuple{}, DynamicPPL.DefaultContext}, DynamicPPL.Sampler{NUTS{Turing.Essential.ForwardDiffAD{0}, (), AdvancedHMC.DiagEuclideanMetric}}, Int64, Int64})()",
      "    @ AbstractMCMC ~/.julia/packages/AbstractMCMC/fnRmh/src/logging.jl:12",
      " [38] with_logstate(f::Function, logstate::Any)",
      "    @ Base.CoreLogging ./logging.jl:511",
      " [39] with_logger(f::Function, logger::LoggingExtras.TeeLogger{Tuple{LoggingExtras.EarlyFilteredLogger{ConsoleProgressMonitor.ProgressLogger, AbstractMCMC.var\"#1#3\"{Module}}, LoggingExtras.EarlyFilteredLogger{Base.CoreLogging.SimpleLogger, AbstractMCMC.var\"#2#4\"{Module}}}})",
      "    @ Base.CoreLogging ./logging.jl:623",
      " [40] with_progresslogger(f::Function, _module::Module, logger::Base.CoreLogging.SimpleLogger)",
      "    @ AbstractMCMC ~/.julia/packages/AbstractMCMC/fnRmh/src/logging.jl:36",
      " [41] macro expansion",
      "    @ ~/.julia/packages/AbstractMCMC/fnRmh/src/logging.jl:11 [inlined]",
      " [42] mcmcsample(rng::Random._GLOBAL_RNG, model::DynamicPPL.Model{typeof(model), (:data_vector,), (), (), Tuple{Vector{Float64}}, Tuple{}, DynamicPPL.DefaultContext}, sampler::DynamicPPL.Sampler{NUTS{Turing.Essential.ForwardDiffAD{0}, (), AdvancedHMC.DiagEuclideanMetric}}, N::Int64; progress::Bool, progressname::String, callback::Nothing, discard_initial::Int64, thinning::Int64, chain_type::Type, kwargs::Base.Pairs{Symbol, Integer, Tuple{Symbol, Symbol}, NamedTuple{(:nadapts, :save_state), Tuple{Int64, Bool}}})",
      "    @ AbstractMCMC ~/.julia/packages/AbstractMCMC/fnRmh/src/sample.jl:111",
      " [43] sample(rng::Random._GLOBAL_RNG, model::DynamicPPL.Model{typeof(model), (:data_vector,), (), (), Tuple{Vector{Float64}}, Tuple{}, DynamicPPL.DefaultContext}, sampler::DynamicPPL.Sampler{NUTS{Turing.Essential.ForwardDiffAD{0}, (), AdvancedHMC.DiagEuclideanMetric}}, N::Int64; chain_type::Type, resume_from::Nothing, progress::Bool, nadapts::Int64, discard_adapt::Bool, discard_initial::Int64, kwargs::Base.Pairs{Symbol, Bool, Tuple{Symbol}, NamedTuple{(:save_state,), Tuple{Bool}}})",
      "    @ Turing.Inference ~/.julia/packages/Turing/szPqN/src/inference/hmc.jl:133",
      " [44] #sample#2",
      "    @ ~/.julia/packages/Turing/szPqN/src/inference/Inference.jl:145 [inlined]",
      " [45] #sample#1",
      "    @ ~/.julia/packages/Turing/szPqN/src/inference/Inference.jl:135 [inlined]",
      " [46] top-level scope",
      "    @ In[10]:1",
      " [47] eval",
      "    @ ./boot.jl:373 [inlined]",
      " [48] include_string(mapexpr::typeof(REPL.softscope), mod::Module, code::String, filename::String)",
      "    @ Base ./loading.jl:1196"
     ]
    }
   ],
   "source": [
    "chain3 = sample(model(data_vector), NUTS(5, 0.1; init_ϵ=0.03), iterations,\n",
    "                progress=true; save_state=true);"
   ]
  },
  {
   "cell_type": "code",
   "execution_count": 12,
   "id": "d81943ea",
   "metadata": {
    "scrolled": false
   },
   "outputs": [
    {
     "name": "stderr",
     "output_type": "stream",
     "text": [
      "\u001b[32mSampling: 100%|█████████████████████████████████████████| Time: 0:00:24\u001b[39m\n"
     ]
    },
    {
     "ename": "LoadError",
     "evalue": "InterruptException:",
     "output_type": "error",
     "traceback": [
      "InterruptException:",
      "",
      "Stacktrace:",
      "  [1] broadcasted",
      "    @ ./broadcast.jl:1305 [inlined]",
      "  [2] broadcasted(::Function, ::Float64, ::Float64)",
      "    @ Base.Broadcast ./broadcast.jl:1303",
      "  [3] _power_spectrum_nonlin(cpar::CosmoPar{Real}, PkL::Vector{Float64}, k::Vector{Float64}, z::Float64, rsig::Float64, neff::Float64, C::Float64)",
      "    @ LimberJack ~/.julia/packages/LimberJack/VqHfc/src/halofit.jl:166",
      "  [4] get_PKnonlin(cosmo::CosmoPar{Real}, z::StepRangeLen{Float64, Base.TwicePrecision{Float64}, Base.TwicePrecision{Float64}, Int64}, k::Vector{Float64}, PkLz0::Vector{Float64}, Dzs::Vector{Float64}, cosmo_type::DataType)",
      "    @ LimberJack ~/.julia/packages/LimberJack/VqHfc/src/halofit.jl:70",
      "  [5] Cosmology(cpar::CosmoPar{Real}, settings::Settings)",
      "    @ LimberJack ~/.julia/packages/LimberJack/VqHfc/src/core.jl:273",
      "  [6] Cosmology(Ωm::Float64, Ωb::Float64, h::Float64, n_s::Float64, σ8::Float64; θCMB::Float64, nz::Int64, nz_pk::Int64, nk::Int64, tk_mode::String, Pk_mode::String, custom_Dz::Nothing)",
      "    @ LimberJack ~/.julia/packages/LimberJack/VqHfc/src/core.jl:322",
      "  [7] model(__model__::DynamicPPL.Model{typeof(model), (:data_vector,), (), (), Tuple{Vector{Float64}}, Tuple{}, DynamicPPL.DefaultContext}, __varinfo__::DynamicPPL.ThreadSafeVarInfo{DynamicPPL.TypedVarInfo{NamedTuple{(:Ωm,), Tuple{DynamicPPL.Metadata{Dict{AbstractPPL.VarName{:Ωm, Setfield.IdentityLens}, Int64}, Vector{Uniform{Float64}}, Vector{AbstractPPL.VarName{:Ωm, Setfield.IdentityLens}}, Vector{Float64}, Vector{Set{DynamicPPL.Selector}}}}}, Float64}, Vector{Base.RefValue{Float64}}}, __context__::DynamicPPL.DefaultContext, data_vector::Vector{Float64})",
      "    @ Main ./In[10]:8",
      "  [8] macro expansion",
      "    @ ~/.julia/packages/DynamicPPL/1qg3U/src/model.jl:493 [inlined]",
      "  [9] _evaluate!!",
      "    @ ~/.julia/packages/DynamicPPL/1qg3U/src/model.jl:476 [inlined]",
      " [10] evaluate_threadsafe!!",
      "    @ ~/.julia/packages/DynamicPPL/1qg3U/src/model.jl:467 [inlined]",
      " [11] evaluate!!",
      "    @ ~/.julia/packages/DynamicPPL/1qg3U/src/model.jl:402 [inlined]",
      " [12] (::Turing.LogDensityFunction{DynamicPPL.TypedVarInfo{NamedTuple{(:Ωm,), Tuple{DynamicPPL.Metadata{Dict{AbstractPPL.VarName{:Ωm, Setfield.IdentityLens}, Int64}, Vector{Uniform{Float64}}, Vector{AbstractPPL.VarName{:Ωm, Setfield.IdentityLens}}, Vector{Float64}, Vector{Set{DynamicPPL.Selector}}}}}, Float64}, DynamicPPL.Model{typeof(model), (:data_vector,), (), (), Tuple{Vector{Float64}}, Tuple{}, DynamicPPL.DefaultContext}, DynamicPPL.Sampler{MH{(), NamedTuple{(), Tuple{}}}}, DynamicPPL.DefaultContext})(x::NamedTuple{(:Ωm,), Tuple{Float64}})",
      "    @ Turing.Inference ~/.julia/packages/Turing/szPqN/src/inference/mh.jl:253",
      " [13] logdensity",
      "    @ ~/.julia/packages/AdvancedMH/rD4EE/src/AdvancedMH.jl:62 [inlined]",
      " [14] step(rng::Random._GLOBAL_RNG, model::AdvancedMH.DensityModel{Turing.LogDensityFunction{DynamicPPL.TypedVarInfo{NamedTuple{(:Ωm,), Tuple{DynamicPPL.Metadata{Dict{AbstractPPL.VarName{:Ωm, Setfield.IdentityLens}, Int64}, Vector{Uniform{Float64}}, Vector{AbstractPPL.VarName{:Ωm, Setfield.IdentityLens}}, Vector{Float64}, Vector{Set{DynamicPPL.Selector}}}}}, Float64}, DynamicPPL.Model{typeof(model), (:data_vector,), (), (), Tuple{Vector{Float64}}, Tuple{}, DynamicPPL.DefaultContext}, DynamicPPL.Sampler{MH{(), NamedTuple{(), Tuple{}}}}, DynamicPPL.DefaultContext}}, sampler::AdvancedMH.MetropolisHastings{NamedTuple{(:Ωm,), Tuple{AdvancedMH.StaticProposal{false, Uniform{Float64}}}}}, transition_prev::AdvancedMH.Transition{NamedTuple{(:Ωm,), Tuple{Float64}}, Float64}; kwargs::Base.Pairs{Symbol, Union{}, Tuple{}, NamedTuple{(), Tuple{}}})",
      "    @ AdvancedMH ~/.julia/packages/AdvancedMH/rD4EE/src/mh-core.jl:101",
      " [15] step(rng::Random._GLOBAL_RNG, model::AdvancedMH.DensityModel{Turing.LogDensityFunction{DynamicPPL.TypedVarInfo{NamedTuple{(:Ωm,), Tuple{DynamicPPL.Metadata{Dict{AbstractPPL.VarName{:Ωm, Setfield.IdentityLens}, Int64}, Vector{Uniform{Float64}}, Vector{AbstractPPL.VarName{:Ωm, Setfield.IdentityLens}}, Vector{Float64}, Vector{Set{DynamicPPL.Selector}}}}}, Float64}, DynamicPPL.Model{typeof(model), (:data_vector,), (), (), Tuple{Vector{Float64}}, Tuple{}, DynamicPPL.DefaultContext}, DynamicPPL.Sampler{MH{(), NamedTuple{(), Tuple{}}}}, DynamicPPL.DefaultContext}}, sampler::AdvancedMH.MetropolisHastings{NamedTuple{(:Ωm,), Tuple{AdvancedMH.StaticProposal{false, Uniform{Float64}}}}}, transition_prev::AdvancedMH.Transition{NamedTuple{(:Ωm,), Tuple{Float64}}, Float64})",
      "    @ AdvancedMH ~/.julia/packages/AdvancedMH/rD4EE/src/mh-core.jl:98",
      " [16] propose!(rng::Random._GLOBAL_RNG, vi::DynamicPPL.TypedVarInfo{NamedTuple{(:Ωm,), Tuple{DynamicPPL.Metadata{Dict{AbstractPPL.VarName{:Ωm, Setfield.IdentityLens}, Int64}, Vector{Uniform{Float64}}, Vector{AbstractPPL.VarName{:Ωm, Setfield.IdentityLens}}, Vector{Float64}, Vector{Set{DynamicPPL.Selector}}}}}, Float64}, model::DynamicPPL.Model{typeof(model), (:data_vector,), (), (), Tuple{Vector{Float64}}, Tuple{}, DynamicPPL.DefaultContext}, spl::DynamicPPL.Sampler{MH{(), NamedTuple{(), Tuple{}}}}, proposal::NamedTuple{(), Tuple{}})",
      "    @ Turing.Inference ~/.julia/packages/Turing/szPqN/src/inference/mh.jl:376",
      " [17] #step#62",
      "    @ ~/.julia/packages/Turing/szPqN/src/inference/mh.jl:438 [inlined]",
      " [18] macro expansion",
      "    @ ~/.julia/packages/AbstractMCMC/fnRmh/src/sample.jl:163 [inlined]",
      " [19] macro expansion",
      "    @ ~/.julia/packages/ProgressLogging/6KXlp/src/ProgressLogging.jl:328 [inlined]",
      " [20] (::AbstractMCMC.var\"#21#22\"{Bool, String, Nothing, Int64, Int64, Base.Pairs{Symbol, Integer, Tuple{Symbol, Symbol}, NamedTuple{(:nadapt, :save_state), Tuple{Int64, Bool}}}, Random._GLOBAL_RNG, DynamicPPL.Model{typeof(model), (:data_vector,), (), (), Tuple{Vector{Float64}}, Tuple{}, DynamicPPL.DefaultContext}, DynamicPPL.Sampler{MH{(), NamedTuple{(), Tuple{}}}}, Int64, Int64})()",
      "    @ AbstractMCMC ~/.julia/packages/AbstractMCMC/fnRmh/src/logging.jl:12",
      " [21] with_logstate(f::Function, logstate::Any)",
      "    @ Base.CoreLogging ./logging.jl:511",
      " [22] with_logger(f::Function, logger::LoggingExtras.TeeLogger{Tuple{LoggingExtras.EarlyFilteredLogger{ConsoleProgressMonitor.ProgressLogger, AbstractMCMC.var\"#1#3\"{Module}}, LoggingExtras.EarlyFilteredLogger{Base.CoreLogging.SimpleLogger, AbstractMCMC.var\"#2#4\"{Module}}}})",
      "    @ Base.CoreLogging ./logging.jl:623",
      " [23] with_progresslogger(f::Function, _module::Module, logger::Base.CoreLogging.SimpleLogger)",
      "    @ AbstractMCMC ~/.julia/packages/AbstractMCMC/fnRmh/src/logging.jl:36",
      " [24] macro expansion",
      "    @ ~/.julia/packages/AbstractMCMC/fnRmh/src/logging.jl:11 [inlined]",
      " [25] mcmcsample(rng::Random._GLOBAL_RNG, model::DynamicPPL.Model{typeof(model), (:data_vector,), (), (), Tuple{Vector{Float64}}, Tuple{}, DynamicPPL.DefaultContext}, sampler::DynamicPPL.Sampler{MH{(), NamedTuple{(), Tuple{}}}}, N::Int64; progress::Bool, progressname::String, callback::Nothing, discard_initial::Int64, thinning::Int64, chain_type::Type, kwargs::Base.Pairs{Symbol, Integer, Tuple{Symbol, Symbol}, NamedTuple{(:nadapt, :save_state), Tuple{Int64, Bool}}})",
      "    @ AbstractMCMC ~/.julia/packages/AbstractMCMC/fnRmh/src/sample.jl:111",
      " [26] sample(rng::Random._GLOBAL_RNG, model::DynamicPPL.Model{typeof(model), (:data_vector,), (), (), Tuple{Vector{Float64}}, Tuple{}, DynamicPPL.DefaultContext}, sampler::DynamicPPL.Sampler{MH{(), NamedTuple{(), Tuple{}}}}, N::Int64; chain_type::Type, resume_from::Nothing, progress::Bool, kwargs::Base.Pairs{Symbol, Integer, Tuple{Symbol, Symbol}, NamedTuple{(:nadapt, :save_state), Tuple{Int64, Bool}}})",
      "    @ Turing.Inference ~/.julia/packages/Turing/szPqN/src/inference/Inference.jl:159",
      " [27] #sample#2",
      "    @ ~/.julia/packages/Turing/szPqN/src/inference/Inference.jl:145 [inlined]",
      " [28] #sample#1",
      "    @ ~/.julia/packages/Turing/szPqN/src/inference/Inference.jl:135 [inlined]",
      " [29] top-level scope",
      "    @ In[12]:1",
      " [30] eval",
      "    @ ./boot.jl:373 [inlined]",
      " [31] include_string(mapexpr::typeof(REPL.softscope), mod::Module, code::String, filename::String)",
      "    @ Base ./loading.jl:1196"
     ]
    }
   ],
   "source": [
    "chain1 = sample(model(data_vector), MH(), iterations,\n",
    "            nadapt=nadapts, progress=true; save_state=true);"
   ]
  },
  {
   "cell_type": "code",
   "execution_count": 4,
   "id": "c12bc5c9",
   "metadata": {},
   "outputs": [
    {
     "data": {
      "text/plain": [
       "Dict{String, Array} with 5 entries:\n",
       "  \"idx\"         => [0, 5, 13, 23, 34, 47, 52, 57, 62, 67  …  1077, 1099, 1121, …\n",
       "  \"cls_m\"       => [0.000229969 7.55142e-5 … 3.71104e-10 3.14893e-10]\n",
       "  \"err\"         => [5.919e-5, 1.57008e-5, 6.64192e-6, 3.82552e-6, 2.56294e-6, 2…\n",
       "  \"cls_s\"       => [0.000216359 3.16836e-5 … 2.44088e-10 2.0759e-10]\n",
       "  \"data_vector\" => [0.000190242, 7.39128e-5, 4.26125e-5, 2.22966e-5, 2.17688e-5…"
      ]
     },
     "execution_count": 4,
     "metadata": {},
     "output_type": "execute_result"
    }
   ],
   "source": [
    "files = npzread(\"../data/FD/K1K_DELS_DESY1_eBOSS_CMBk_files.npz\")\n",
    "products = npzread(\"products.npz\")"
   ]
  },
  {
   "cell_type": "code",
   "execution_count": 3,
   "id": "003b7848",
   "metadata": {},
   "outputs": [
    {
     "ename": "LoadError",
     "evalue": "UndefVarError: files not defined",
     "output_type": "error",
     "traceback": [
      "UndefVarError: files not defined",
      "",
      "Stacktrace:",
      " [1] top-level scope",
      "   @ ./In[3]:4",
      " [2] eval",
      "   @ ./boot.jl:373 [inlined]",
      " [3] include_string(mapexpr::typeof(REPL.softscope), mod::Module, code::String, filename::String)",
      "   @ Base ./loading.jl:1196"
     ]
    }
   ],
   "source": [
    "figure, axis = plt.subplots(5, figsize=(5,14))\n",
    "l = 1\n",
    "for i in 0:4\n",
    "    axis[i+1].errorbar(files[string(\"ls_1\", i, \"1\", i)], \n",
    "                     data[idx[l]:idx[l+1]-1], \n",
    "                     yerr=err[idx[l]:idx[l+1]-1], fmt=\"gs\", label=\"Data\")\n",
    "    axis[i+1].plot(files[string(\"ls_1\", i, \"1\", i)],\n",
    "                   cls_preds_m[idx[l]:idx[l+1]-1],\n",
    "                   \"bo-\", label=\"Preds\")\n",
    "    axis[i+1].fill_between(files[string(\"ls_1\", i, \"1\", i)],\n",
    "                   cls_preds_m[idx[l]:idx[l+1]-1].+cls_preds_s[idx[l]:idx[l+1]-1],\n",
    "                   cls_preds_m[idx[l]:idx[l+1]-1].-cls_preds_s[idx[l]:idx[l+1]-1],\n",
    "                   color=\"b\", alpha=.5)\n",
    "    axis[i+1].set_title(string(\"GC\", i, \"GC\", i))\n",
    "    l += 1\n",
    "end\n",
    "plt.legend()\n",
    "plt.show()\n",
    "print(l)"
   ]
  },
  {
   "cell_type": "code",
   "execution_count": null,
   "id": "ee419f70",
   "metadata": {},
   "outputs": [],
   "source": []
  },
  {
   "cell_type": "markdown",
   "id": "c08817c5",
   "metadata": {},
   "source": [
    "# New heading"
   ]
  }
 ],
 "metadata": {
  "kernelspec": {
   "display_name": "Julia 4 Threads 1.7.0",
   "language": "julia",
   "name": "julia-4-threads-1.7"
  },
  "language_info": {
   "file_extension": ".jl",
   "mimetype": "application/julia",
   "name": "julia",
   "version": "1.7.0"
  }
 },
 "nbformat": 4,
 "nbformat_minor": 5
}
