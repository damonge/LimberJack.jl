{
 "cells": [
  {
   "cell_type": "code",
   "execution_count": 1,
   "id": "b5747721",
   "metadata": {},
   "outputs": [
    {
     "name": "stderr",
     "output_type": "stream",
     "text": [
      "┌ Info: Precompiling LimberJack [6b86205d-155a-4b14-b82d-b6a149ea78f2]\n",
      "└ @ Base loading.jl:1423\n",
      "\u001b[33m\u001b[1m┌ \u001b[22m\u001b[39m\u001b[33m\u001b[1mWarning: \u001b[22m\u001b[39mPackage LimberJack does not have NPZ in its dependencies:\n",
      "\u001b[33m\u001b[1m│ \u001b[22m\u001b[39m- If you have LimberJack checked out for development and have\n",
      "\u001b[33m\u001b[1m│ \u001b[22m\u001b[39m  added NPZ as a dependency but haven't updated your primary\n",
      "\u001b[33m\u001b[1m│ \u001b[22m\u001b[39m  environment's manifest file, try `Pkg.resolve()`.\n",
      "\u001b[33m\u001b[1m│ \u001b[22m\u001b[39m- Otherwise you may need to report an issue with LimberJack\n",
      "\u001b[33m\u001b[1m└ \u001b[22m\u001b[39mLoading NPZ into LimberJack from project dependency, future warnings for LimberJack are suppressed.\n"
     ]
    }
   ],
   "source": [
    "using LimberJack"
   ]
  },
  {
   "cell_type": "code",
   "execution_count": 2,
   "id": "1c67d6fa",
   "metadata": {},
   "outputs": [],
   "source": [
    "path = \"/home/jaime/PhD/LimberJack.jl/test/data/\"\n",
    "datas = [Data(\"Dmygc\", \"Dmygc\", 1 , 1, path=path),\n",
    "         Data(\"Dmywl\", \"Dmywl\", 2 , 2, path=path),\n",
    "         Data(\"Dmygc\", \"Dmywl\", 1 , 2, path=path)];\n",
    "Cls_metas = Cls_meta(datas, path=path);"
   ]
  },
  {
   "cell_type": "code",
   "execution_count": 5,
   "id": "7f8e3fa1",
   "metadata": {},
   "outputs": [
    {
     "data": {
      "text/plain": [
       "3×3 LinearAlgebra.Symmetric{Float64, Matrix{Float64}}:\n",
       " 11.0  12.0  13.0\n",
       " 12.0  22.0  23.0\n",
       " 13.0  23.0  33.0"
      ]
     },
     "execution_count": 5,
     "metadata": {},
     "output_type": "execute_result"
    }
   ],
   "source": [
    "cov_tot = Cls_metas.cov_tot"
   ]
  },
  {
   "cell_type": "code",
   "execution_count": 6,
   "id": "70e34583",
   "metadata": {},
   "outputs": [
    {
     "data": {
      "text/plain": [
       "3-element Vector{Int64}:\n",
       " 1\n",
       " 2\n",
       " 3"
      ]
     },
     "execution_count": 6,
     "metadata": {},
     "output_type": "execute_result"
    }
   ],
   "source": [
    "data_vector = Cls_metas.data_vector"
   ]
  },
  {
   "cell_type": "code",
   "execution_count": 7,
   "id": "888c602a",
   "metadata": {},
   "outputs": [
    {
     "data": {
      "text/plain": [
       "true"
      ]
     },
     "execution_count": 7,
     "metadata": {},
     "output_type": "execute_result"
    }
   ],
   "source": [
    "data_vector == [1, 2, 3]"
   ]
  },
  {
   "cell_type": "code",
   "execution_count": 10,
   "id": "ae371a7b",
   "metadata": {},
   "outputs": [
    {
     "data": {
      "text/plain": [
       "true"
      ]
     },
     "execution_count": 10,
     "metadata": {},
     "output_type": "execute_result"
    }
   ],
   "source": [
    "cov_tot == [[11] [12] [13]; [12] [22] [23]; [13] [23] [33]]"
   ]
  },
  {
   "cell_type": "code",
   "execution_count": null,
   "id": "20b8e4ae",
   "metadata": {},
   "outputs": [],
   "source": []
  }
 ],
 "metadata": {
  "kernelspec": {
   "display_name": "Julia 1.7.0",
   "language": "julia",
   "name": "julia-1.7"
  },
  "language_info": {
   "file_extension": ".jl",
   "mimetype": "application/julia",
   "name": "julia",
   "version": "1.7.0"
  }
 },
 "nbformat": 4,
 "nbformat_minor": 5
}
