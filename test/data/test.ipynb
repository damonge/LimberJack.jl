{
 "cells": [
  {
   "cell_type": "code",
   "execution_count": 1,
   "id": "b5747721",
   "metadata": {},
   "outputs": [
    {
     "name": "stderr",
     "output_type": "stream",
     "text": [
      "┌ Info: Precompiling LimberJack [6b86205d-155a-4b14-b82d-b6a149ea78f2]\n",
      "└ @ Base loading.jl:1423\n"
     ]
    }
   ],
   "source": [
    "using LimberJack"
   ]
  },
  {
   "cell_type": "code",
   "execution_count": 3,
   "id": "20b8e4ae",
   "metadata": {},
   "outputs": [
    {
     "name": "stdout",
     "output_type": "stream",
     "text": [
      "\u001b[0m\u001b[1mTest Summary: | \u001b[22m\u001b[32m\u001b[1mPass  \u001b[22m\u001b[39m\u001b[36m\u001b[1mTotal\u001b[22m\u001b[39m\n",
      "data          | \u001b[32m   2  \u001b[39m\u001b[36m    2\u001b[39m\n"
     ]
    },
    {
     "data": {
      "text/plain": [
       "Test.DefaultTestSet(\"data\", Any[], 2, false, false)"
      ]
     },
     "execution_count": 3,
     "metadata": {},
     "output_type": "execute_result"
    }
   ],
   "source": [
    "using Test \n",
    "@testset \"data\" begin\n",
    "        path = \"/home/jaime/PhD/LimberJack.jl/test/data/\"\n",
    "        datas = [Data(\"Dmygc\", \"Dmygc\", 1 , 1, path=path),\n",
    "                 Data(\"Dmywl\", \"Dmywl\", 2 , 2, path=path),\n",
    "                 Data(\"Dmygc\", \"Dmywl\", 1 , 2, path=path)]\n",
    "        Cls_metas = Cls_meta(datas, path=path)\n",
    "        @test Cls_metas.data_vector == [1, 2, 3]\n",
    "        @test Cls_metas.cov_tot == [[11] [12] [13]; [12] [22] [23]; [13] [23] [33]]\n",
    "    end"
   ]
  },
  {
   "cell_type": "code",
   "execution_count": null,
   "id": "e621a5ae",
   "metadata": {},
   "outputs": [],
   "source": []
  }
 ],
 "metadata": {
  "kernelspec": {
   "display_name": "Julia 1.7.0",
   "language": "julia",
   "name": "julia-1.7"
  },
  "language_info": {
   "file_extension": ".jl",
   "mimetype": "application/julia",
   "name": "julia",
   "version": "1.7.0"
  }
 },
 "nbformat": 4,
 "nbformat_minor": 5
}
