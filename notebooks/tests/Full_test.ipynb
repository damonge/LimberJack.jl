{
 "cells": [
  {
   "cell_type": "markdown",
   "id": "038cf129",
   "metadata": {},
   "source": [
    "# Tests"
   ]
  },
  {
   "cell_type": "code",
   "execution_count": 1,
   "id": "43175cd7",
   "metadata": {},
   "outputs": [
    {
     "data": {
      "text/plain": [
       "1"
      ]
     },
     "execution_count": 1,
     "metadata": {},
     "output_type": "execute_result"
    }
   ],
   "source": [
    "Threads.nthreads()"
   ]
  },
  {
   "cell_type": "code",
   "execution_count": 2,
   "id": "02df9ee7",
   "metadata": {},
   "outputs": [],
   "source": [
    "using LinearAlgebra\n",
    "using Turing\n",
    "using LimberJack\n",
    "using NPZ\n",
    "using ForwardDiff\n",
    "using BenchmarkTools;\n",
    "using Interpolations"
   ]
  },
  {
   "cell_type": "code",
   "execution_count": 3,
   "id": "a74170be",
   "metadata": {},
   "outputs": [
    {
     "name": "stderr",
     "output_type": "stream",
     "text": [
      "\u001b[32m\u001b[1m    CondaPkg \u001b[22m\u001b[39m\u001b[0mFound dependencies: /home/jaimerz/.julia/environments/v1.7/CondaPkg.toml\n",
      "\u001b[32m\u001b[1m    CondaPkg \u001b[22m\u001b[39m\u001b[0mResolving changes\n",
      "\u001b[32m\u001b[1m             \u001b[22m\u001b[39m\u001b[31m- libstdcxx-ng\u001b[39m\n",
      "\u001b[32m\u001b[1m             \u001b[22m\u001b[39m\u001b[31m- python\u001b[39m\n",
      "\u001b[32m\u001b[1m    CondaPkg \u001b[22m\u001b[39m\u001b[0mRemoving packages\n",
      "\u001b[32m\u001b[1m             \u001b[22m\u001b[39m│ \u001b[90m/home/jaimerz/.julia/artifacts/134b3f7254989e369343bab626bc7e0c77a9cc1a/bin/micromamba\u001b[39m\n",
      "\u001b[32m\u001b[1m             \u001b[22m\u001b[39m│ \u001b[90m-r /home/jaimerz/.julia/scratchspaces/0b3b1443-0f03-428d-bdfb-f27f9c1191ea/root\u001b[39m\n",
      "\u001b[32m\u001b[1m             \u001b[22m\u001b[39m│ \u001b[90mremove\u001b[39m\n",
      "\u001b[32m\u001b[1m             \u001b[22m\u001b[39m│ \u001b[90m-y\u001b[39m\n",
      "\u001b[32m\u001b[1m             \u001b[22m\u001b[39m│ \u001b[90m-p /home/jaimerz/.julia/environments/v1.7/.CondaPkg/env\u001b[39m\n",
      "\u001b[32m\u001b[1m             \u001b[22m\u001b[39m│ \u001b[90mlibstdcxx-ng\u001b[39m\n",
      "\u001b[32m\u001b[1m             \u001b[22m\u001b[39m└ \u001b[90mpython\u001b[39m\n",
      "\u001b[32m\u001b[1m    CondaPkg \u001b[22m\u001b[39m\u001b[0mInstalling packages\n",
      "\u001b[32m\u001b[1m             \u001b[22m\u001b[39m│ \u001b[90m/home/jaimerz/.julia/artifacts/134b3f7254989e369343bab626bc7e0c77a9cc1a/bin/micromamba\u001b[39m\n",
      "\u001b[32m\u001b[1m             \u001b[22m\u001b[39m│ \u001b[90m-r /home/jaimerz/.julia/scratchspaces/0b3b1443-0f03-428d-bdfb-f27f9c1191ea/root\u001b[39m\n",
      "\u001b[32m\u001b[1m             \u001b[22m\u001b[39m│ \u001b[90minstall\u001b[39m\n",
      "\u001b[32m\u001b[1m             \u001b[22m\u001b[39m│ \u001b[90m-y\u001b[39m\n",
      "\u001b[32m\u001b[1m             \u001b[22m\u001b[39m│ \u001b[90m-p /home/jaimerz/.julia/environments/v1.7/.CondaPkg/env\u001b[39m\n",
      "\u001b[32m\u001b[1m             \u001b[22m\u001b[39m│ \u001b[90m--override-channels\u001b[39m\n",
      "\u001b[32m\u001b[1m             \u001b[22m\u001b[39m│ \u001b[90m--no-channel-priority\u001b[39m\n",
      "\u001b[32m\u001b[1m             \u001b[22m\u001b[39m│ \u001b[90mnumpy[version='*']\u001b[39m\n",
      "\u001b[32m\u001b[1m             \u001b[22m\u001b[39m└ \u001b[90m-c conda-forge\u001b[39m\n"
     ]
    },
    {
     "name": "stdout",
     "output_type": "stream",
     "text": [
      "\n",
      "                                           __\n",
      "          __  ______ ___  ____ _____ ___  / /_  ____ _\n",
      "         / / / / __ `__ \\/ __ `/ __ `__ \\/ __ \\/ __ `/\n",
      "        / /_/ / / / / / / /_/ / / / / / / /_/ / /_/ /\n",
      "       / .___/_/ /_/ /_/\\__,_/_/ /_/ /_/_.___/\\__,_/\n",
      "      /_/\n",
      "\n",
      "Transaction\n",
      "\n",
      "  Prefix: /home/jaimerz/.julia/environments/v1.7/.CondaPkg/env\n",
      "\n",
      "  Removing specs:\n",
      "\n",
      "   - libstdcxx-ng\n",
      "   - python\n",
      "\n",
      "\n",
      "  Package               Version  Build                Channel           Size\n",
      "──────────────────────────────────────────────────────────────────────────────\n",
      "  Remove:\n",
      "──────────────────────────────────────────────────────────────────────────────\n",
      "\n",
      "  - _libgcc_mutex           0.1  conda_forge          conda-forge     Cached\n",
      "  - _openmp_mutex           4.5  2_gnu                conda-forge     Cached\n",
      "  - bzip2                 1.0.8  h7f98852_4           conda-forge     Cached\n",
      "  - ca-certificates   2022.12.7  ha878542_0           conda-forge     Cached\n",
      "  - ld_impl_linux-64       2.39  hcc3a1bd_1           conda-forge     Cached\n",
      "  - libblas               3.9.0  16_linux64_openblas  conda-forge     Cached\n",
      "  - libcblas              3.9.0  16_linux64_openblas  conda-forge     Cached\n",
      "  - libffi                3.4.2  h7f98852_5           conda-forge     Cached\n",
      "  - libgcc-ng            12.2.0  h65d4601_19          conda-forge     Cached\n",
      "  - libgfortran-ng       12.2.0  h69a702a_19          conda-forge     Cached\n",
      "  - libgfortran5         12.2.0  h337968e_19          conda-forge     Cached\n",
      "  - libgomp              12.2.0  h65d4601_19          conda-forge     Cached\n",
      "  - liblapack             3.9.0  16_linux64_openblas  conda-forge     Cached\n",
      "  - libnsl                2.0.0  h7f98852_0           conda-forge     Cached\n",
      "  - libopenblas          0.3.21  pthreads_h78a6416_3  conda-forge     Cached\n",
      "  - libsqlite            3.40.0  h753d276_0           conda-forge     Cached\n",
      "  - libstdcxx-ng         11.3.0  h239ccf8_19          conda-forge     Cached\n",
      "  - libuuid              2.32.1  h7f98852_1000        conda-forge     Cached\n",
      "  - libzlib              1.2.13  h166bdaf_4           conda-forge     Cached\n",
      "  - ncurses                 6.3  h27087fc_1           conda-forge     Cached\n",
      "  - numpy                1.22.3  py310h4ef5377_2      conda-forge     Cached\n",
      "  - openssl               3.0.7  h0b41bf4_1           conda-forge     Cached\n",
      "  - pip                  22.3.1  pyhd8ed1ab_0         conda-forge     Cached\n",
      "  - python               3.10.8  h4a9ceb5_0_cpython   conda-forge     Cached\n",
      "  - python_abi             3.10  3_cp310              conda-forge     Cached\n",
      "  - readline              8.1.2  h0f457ee_0           conda-forge     Cached\n",
      "  - setuptools           65.5.1  pyhd8ed1ab_0         conda-forge     Cached\n",
      "  - tk                   8.6.12  h27826a3_0           conda-forge     Cached\n",
      "  - tzdata                2022g  h191b570_0           conda-forge     Cached\n",
      "  - wheel                0.38.4  pyhd8ed1ab_0         conda-forge     Cached\n",
      "  - xz                    5.2.6  h166bdaf_0           conda-forge     Cached\n",
      "\n",
      "  Summary:\n",
      "\n",
      "  Remove: 31 packages\n",
      "\n",
      "  Total download: 0 B\n",
      "\n",
      "──────────────────────────────────────────────────────────────────────────────\n",
      "\n",
      "\n",
      "Transaction starting\n",
      "Unlinking numpy-1.22.3-py310h4ef5377_2\n",
      "Unlinking python_abi-3.10-3_cp310\n",
      "Unlinking pip-22.3.1-pyhd8ed1ab_0\n",
      "Unlinking libstdcxx-ng-11.3.0-h239ccf8_19\n",
      "Unlinking liblapack-3.9.0-16_linux64_openblas\n",
      "Unlinking libcblas-3.9.0-16_linux64_openblas\n",
      "Unlinking python-3.10.8-h4a9ceb5_0_cpython\n",
      "Unlinking libblas-3.9.0-16_linux64_openblas\n",
      "Unlinking setuptools-65.5.1-pyhd8ed1ab_0\n",
      "Unlinking libopenblas-0.3.21-pthreads_h78a6416_3\n",
      "Unlinking wheel-0.38.4-pyhd8ed1ab_0\n",
      "Unlinking libgfortran-ng-12.2.0-h69a702a_19\n",
      "Unlinking xz-5.2.6-h166bdaf_0\n",
      "Unlinking tzdata-2022g-h191b570_0\n",
      "Unlinking tk-8.6.12-h27826a3_0\n",
      "Unlinking readline-8.1.2-h0f457ee_0\n",
      "Unlinking openssl-3.0.7-h0b41bf4_1\n",
      "Unlinking libuuid-2.32.1-h7f98852_1000\n",
      "Unlinking libsqlite-3.40.0-h753d276_0\n",
      "Unlinking libnsl-2.0.0-h7f98852_0\n",
      "Unlinking libffi-3.4.2-h7f98852_5\n",
      "Unlinking ld_impl_linux-64-2.39-hcc3a1bd_1\n",
      "Unlinking bzip2-1.0.8-h7f98852_4\n",
      "Unlinking libgfortran5-12.2.0-h337968e_19\n",
      "Unlinking ncurses-6.3-h27087fc_1\n",
      "Unlinking ca-certificates-2022.12.7-ha878542_0\n",
      "Unlinking libzlib-1.2.13-h166bdaf_4\n",
      "Unlinking libgcc-ng-12.2.0-h65d4601_19\n",
      "Unlinking _openmp_mutex-4.5-2_gnu\n",
      "Unlinking libgomp-12.2.0-h65d4601_19\n",
      "Unlinking _libgcc_mutex-0.1-conda_forge\n",
      "Transaction finished\n",
      "\n",
      "                                           __\n",
      "          __  ______ ___  ____ _____ ___  / /_  ____ _\n",
      "         / / / / __ `__ \\/ __ `/ __ `__ \\/ __ \\/ __ `/\n",
      "        / /_/ / / / / / / /_/ / / / / / / /_/ / /_/ /\n",
      "       / .___/_/ /_/ /_/\\__,_/_/ /_/ /_/_.___/\\__,_/\n",
      "      /_/\n",
      "\n",
      "\n",
      "Transaction\n",
      "\n",
      "  Prefix: /home/jaimerz/.julia/environments/v1.7/.CondaPkg/env\n",
      "\n",
      "  Updating specs:\n",
      "\n",
      "   - numpy=*\n",
      "\n",
      "\n",
      "  Package               Version  Build                Channel                    Size\n",
      "───────────────────────────────────────────────────────────────────────────────────────\n",
      "  Install:\n",
      "───────────────────────────────────────────────────────────────────────────────────────\n",
      "\n",
      "  + _libgcc_mutex           0.1  conda_forge          conda-forge/linux-64     Cached\n",
      "  + _openmp_mutex           4.5  2_gnu                conda-forge/linux-64     Cached\n",
      "  + bzip2                 1.0.8  h7f98852_4           conda-forge/linux-64     Cached\n",
      "  + ca-certificates   2022.12.7  ha878542_0           conda-forge/linux-64     Cached\n",
      "  + ld_impl_linux-64       2.39  hcc3a1bd_1           conda-forge/linux-64     Cached\n",
      "  + libblas               3.9.0  16_linux64_openblas  conda-forge/linux-64     Cached\n",
      "  + libcblas              3.9.0  16_linux64_openblas  conda-forge/linux-64     Cached\n",
      "  + libffi                3.4.2  h7f98852_5           conda-forge/linux-64     Cached\n",
      "  + libgcc-ng            12.2.0  h65d4601_19          conda-forge/linux-64     Cached\n",
      "  + libgfortran-ng       12.2.0  h69a702a_19          conda-forge/linux-64     Cached\n",
      "  + libgfortran5         12.2.0  h337968e_19          conda-forge/linux-64     Cached\n",
      "  + libgomp              12.2.0  h65d4601_19          conda-forge/linux-64     Cached\n",
      "  + liblapack             3.9.0  16_linux64_openblas  conda-forge/linux-64     Cached\n",
      "  + libnsl                2.0.0  h7f98852_0           conda-forge/linux-64     Cached\n",
      "  + libopenblas          0.3.21  pthreads_h78a6416_3  conda-forge/linux-64     Cached\n",
      "  + libsqlite            3.40.0  h753d276_0           conda-forge/linux-64     Cached\n",
      "  + libstdcxx-ng         12.2.0  h46fd767_19          conda-forge/linux-64     Cached\n",
      "  + libuuid              2.32.1  h7f98852_1000        conda-forge/linux-64     Cached\n",
      "  + libzlib              1.2.13  h166bdaf_4           conda-forge/linux-64     Cached\n",
      "  + ncurses                 6.3  h27087fc_1           conda-forge/linux-64     Cached\n",
      "  + numpy                1.23.5  py311h7d28db0_0      conda-forge/linux-64     Cached\n",
      "  + openssl               3.0.7  h0b41bf4_1           conda-forge/linux-64     Cached\n",
      "  + pip                  22.3.1  pyhd8ed1ab_0         conda-forge/noarch       Cached\n",
      "  + python               3.11.0  ha86cf86_0_cpython   conda-forge/linux-64     Cached\n",
      "  + python_abi             3.11  3_cp311              conda-forge/linux-64     Cached\n",
      "  + readline              8.1.2  h0f457ee_0           conda-forge/linux-64     Cached\n",
      "  + setuptools           65.5.1  pyhd8ed1ab_0         conda-forge/noarch       Cached\n",
      "  + tk                   8.6.12  h27826a3_0           conda-forge/linux-64     Cached\n",
      "  + tzdata                2022g  h191b570_0           conda-forge/noarch       Cached\n",
      "  + wheel                0.38.4  pyhd8ed1ab_0         conda-forge/noarch       Cached\n",
      "  + xz                    5.2.6  h166bdaf_0           conda-forge/linux-64     Cached\n",
      "\n",
      "  Summary:\n",
      "\n",
      "  Install: 31 packages\n",
      "\n",
      "  Total download: 0 B\n",
      "\n",
      "───────────────────────────────────────────────────────────────────────────────────────\n",
      "\n",
      "\n",
      "Transaction starting\n",
      "Linking _libgcc_mutex-0.1-conda_forge\n",
      "Linking libstdcxx-ng-12.2.0-h46fd767_19\n",
      "Linking python_abi-3.11-3_cp311\n",
      "Linking libgfortran5-12.2.0-h337968e_19\n",
      "Linking ld_impl_linux-64-2.39-hcc3a1bd_1\n",
      "Linking ca-certificates-2022.12.7-ha878542_0\n",
      "Linking libgomp-12.2.0-h65d4601_19\n",
      "Linking libgfortran-ng-12.2.0-h69a702a_19\n",
      "Linking _openmp_mutex-4.5-2_gnu\n",
      "Linking libgcc-ng-12.2.0-h65d4601_19\n",
      "Linking openssl-3.0.7-h0b41bf4_1\n",
      "Linking libuuid-2.32.1-h7f98852_1000\n",
      "Linking libffi-3.4.2-h7f98852_5\n",
      "Linking bzip2-1.0.8-h7f98852_4\n",
      "Linking ncurses-6.3-h27087fc_1\n",
      "Linking xz-5.2.6-h166bdaf_0\n",
      "Linking libzlib-1.2.13-h166bdaf_4\n",
      "Linking libnsl-2.0.0-h7f98852_0\n",
      "Linking libopenblas-0.3.21-pthreads_h78a6416_3\n",
      "Linking readline-8.1.2-h0f457ee_0\n",
      "Linking libsqlite-3.40.0-h753d276_0\n",
      "Linking tk-8.6.12-h27826a3_0\n",
      "Linking libblas-3.9.0-16_linux64_openblas\n",
      "Linking libcblas-3.9.0-16_linux64_openblas\n",
      "Linking liblapack-3.9.0-16_linux64_openblas\n",
      "Linking tzdata-2022g-h191b570_0\n",
      "Linking python-3.11.0-ha86cf86_0_cpython\n",
      "Linking wheel-0.38.4-pyhd8ed1ab_0\n",
      "Linking setuptools-65.5.1-pyhd8ed1ab_0\n",
      "Linking pip-22.3.1-pyhd8ed1ab_0\n",
      "Linking numpy-1.23.5-py311h7d28db0_0\n",
      "Transaction finished\n"
     ]
    }
   ],
   "source": [
    "using PythonCall\n",
    "np = pyimport(\"numpy\");"
   ]
  },
  {
   "cell_type": "code",
   "execution_count": 4,
   "id": "9f10e109",
   "metadata": {},
   "outputs": [],
   "source": [
    "meta = np.load(\"../../data/ND/ND_meta.npz\")\n",
    "names = pyconvert(Vector{String}, meta[\"names\"])\n",
    "types = pyconvert(Vector{String}, meta[\"types\"])\n",
    "pairs = pyconvert(Vector{Vector{String}}, meta[\"pairs\"])\n",
    "idx = pyconvert(Vector{Int}, meta[\"idx\"])\n",
    "data_vector = pyconvert(Vector{Float64}, meta[\"cls\"])\n",
    "cov_tot = pyconvert(Matrix{Float64}, meta[\"cov\"])\n",
    "inv_cov_tot = pyconvert(Matrix{Float64}, meta[\"inv_cov\"]);"
   ]
  },
  {
   "cell_type": "code",
   "execution_count": 5,
   "id": "46b29ff8",
   "metadata": {},
   "outputs": [
    {
     "name": "stdout",
     "output_type": "stream",
     "text": [
      "665"
     ]
    }
   ],
   "source": [
    "print(length(data_vector))"
   ]
  },
  {
   "cell_type": "code",
   "execution_count": 6,
   "id": "35b3fa65",
   "metadata": {},
   "outputs": [],
   "source": [
    "files = npzread(\"../../data/ND/ND_files.npz\");"
   ]
  },
  {
   "cell_type": "code",
   "execution_count": 7,
   "id": "1f92d459",
   "metadata": {},
   "outputs": [],
   "source": [
    "path = \"/home/jaimerz/PhD/LimberJack.jl/chains/carlos_chains/cl_cross_corr_v3_DES_K1000_all_mag_correctMag/\"\n",
    "pars = np.loadtxt(string(path, \"cl_cross_corr_v3_DES_K1000_all_mag_correctMag.bestfit\"))\n",
    "pars = pyconvert(Vector{Float64}, pars);\n"
   ]
  },
  {
   "cell_type": "code",
   "execution_count": 8,
   "id": "a43f42a9",
   "metadata": {},
   "outputs": [],
   "source": [
    "cls_carlos_ND = np.load(string(path, \"cl_cross_corr_bestfit_info.npz\"))\n",
    "cls_carlos_SD = np.load(string(path, \"cl_cross_corr_bestfit_info_copy.npz\"))\n",
    "cls_carlos_FD = np.append(cls_carlos_SD[\"cls\"], cls_carlos_ND[\"cls\"])\n",
    "cls_carlos_FD = pyconvert(Vector{Float64}, cls_carlos_FD)\n",
    "carlos_chi = pyconvert(Float64, - (cls_carlos_ND[\"chi2\"] +  cls_carlos_SD[\"chi2\"]));"
   ]
  },
  {
   "cell_type": "markdown",
   "id": "4049adec",
   "metadata": {},
   "source": [
    "## Timings"
   ]
  },
  {
   "cell_type": "code",
   "execution_count": 9,
   "id": "b8c2f0ac",
   "metadata": {
    "code_folding": []
   },
   "outputs": [
    {
     "data": {
      "text/plain": [
       "diff_Xi2 (generic function with 1 method)"
      ]
     },
     "execution_count": 9,
     "metadata": {},
     "output_type": "execute_result"
    }
   ],
   "source": [
    "function diff_Xi2(pars; data_vector=data_vector, inv_cov=inv_cov_tot)\n",
    "    nuisances = Dict(\"DESgc__0_0_b\" => pars[6],\n",
    "                     \"DESgc__1_0_b\" => pars[7],\n",
    "                     \"DESgc__2_0_b\" => pars[8],\n",
    "                     \"DESgc__3_0_b\" => pars[9],\n",
    "                     \"DESgc__4_0_b\" => pars[10],\n",
    "                     \"DESgc__0_0_dz\" => pars[11],\n",
    "                     \"DESgc__1_0_dz\" => pars[12],\n",
    "                     \"DESgc__2_0_dz\" => pars[13],\n",
    "                     \"DESgc__3_0_dz\" => pars[14],\n",
    "                     \"DESgc__4_0_dz\" => pars[15],\n",
    "        \n",
    "                     \"A_IA\" => pars[16],\n",
    "                     \"alpha_IA\" => pars[17],\n",
    "        \n",
    "                     \"DESwl__0_e_m\" => pars[18],\n",
    "                     \"DESwl__1_e_m\" => pars[19],\n",
    "                     \"DESwl__2_e_m\" => pars[20],\n",
    "                     \"DESwl__3_e_m\" => pars[21],\n",
    "                     \"DESwl__0_e_dz\" => pars[22],\n",
    "                     \"DESwl__1_e_dz\" => pars[23],\n",
    "                     \"DESwl__2_e_dz\" => pars[24],\n",
    "                     \"DESwl__3_e_dz\" => pars[25],\n",
    "        \n",
    "                     \"eBOSS__0_0_b\" => pars[26],\n",
    "                     \"eBOSS__1_0_b\" => pars[27],\n",
    "\n",
    "                     \"DECALS__0_0_b\" => pars[28],\n",
    "                     \"DECALS__1_0_b\" => pars[29],\n",
    "                     \"DECALS__2_0_b\" => pars[30],\n",
    "                     \"DECALS__3_0_b\" => pars[31],\n",
    "                     \"DECALS__0_0_dz\" => pars[32],\n",
    "                     \"DECALS__1_0_dz\" => pars[33],\n",
    "                     \"DECALS__2_0_dz\" => pars[34],\n",
    "                     \"DECALS__3_0_dz\" => pars[35],\n",
    "                    \n",
    "                     \"KiDS1000__0_e_m\" => pars[36],\n",
    "                     \"KiDS1000__1_e_m\" => pars[37],\n",
    "                     \"KiDS1000__2_e_m\" => pars[38],\n",
    "                     \"KiDS1000__3_e_m\" => pars[39],\n",
    "                     \"KiDS1000__4_e_m\" => pars[40],\n",
    "                     \"KiDS1000__0_e_dz\" => pars[41],\n",
    "                     \"KiDS1000__1_e_dz\" => pars[42],\n",
    "                     \"KiDS1000__2_e_dz\" => pars[43],\n",
    "                     \"KiDS1000__3_e_dz\" => pars[44],\n",
    "                     \"KiDS1000__4_e_dz\" => pars[45])\n",
    "    \n",
    "    Ωm = pars[1] + pars[2]\n",
    "    s8 = pars[46]\n",
    "    Ωb = pars[1]\n",
    "    h = pars[5]\n",
    "    ns = pars[4]\n",
    "    \n",
    "    cosmology = LimberJack.Cosmology(Ωm, Ωb, h, ns, s8, \n",
    "                                     tk_mode=\"emulator\",\n",
    "                                     Pk_mode=\"Halofit\", \n",
    "                                     emul_path= \"../../emulator/files.npz\")\n",
    "    \n",
    "    theory = Theory(cosmology, names, types, pairs,\n",
    "                    idx, files; Nuisances=nuisances)\n",
    "    diff = @.(theory-data_vector)\n",
    "    return dot(diff, inv_cov_tot  * diff)\n",
    "\n",
    "end"
   ]
  },
  {
   "cell_type": "code",
   "execution_count": 10,
   "id": "5fb2c0b0",
   "metadata": {},
   "outputs": [
    {
     "data": {
      "text/plain": [
       "fd (generic function with 1 method)"
      ]
     },
     "execution_count": 10,
     "metadata": {},
     "output_type": "execute_result"
    }
   ],
   "source": [
    "function fd(pars)\n",
    "    n = length(pars)\n",
    "    grad  = zeros(length(pars))\n",
    "    for i in 1:n\n",
    "        d = zeros(n)\n",
    "        e = 0.005\n",
    "        d[i] +=  e\n",
    "        grad[i] = (diff_Xi2(pars .+ d) .- diff_Xi2(pars .- d)) ./ (2*e)\n",
    "    end\n",
    "    return grad\n",
    "end"
   ]
  },
  {
   "cell_type": "code",
   "execution_count": 11,
   "id": "7226d9b3",
   "metadata": {},
   "outputs": [
    {
     "data": {
      "text/plain": [
       "BenchmarkTools.Trial: 1 sample with 1 evaluation.\n",
       " Single result which took \u001b[34m14.071 s\u001b[39m (5.44% GC) to evaluate,\n",
       " with a memory estimate of \u001b[33m9.43 GiB\u001b[39m, over \u001b[33m34348666\u001b[39m allocations."
      ]
     },
     "execution_count": 11,
     "metadata": {},
     "output_type": "execute_result"
    }
   ],
   "source": [
    "@benchmark fd(pars)"
   ]
  },
  {
   "cell_type": "code",
   "execution_count": null,
   "id": "9d406413",
   "metadata": {},
   "outputs": [],
   "source": [
    "@benchmark ForwardDiff.gradient(diff_Xi2, pars)"
   ]
  },
  {
   "cell_type": "code",
   "execution_count": 12,
   "id": "7c42827b",
   "metadata": {},
   "outputs": [
    {
     "data": {
      "text/plain": [
       "BenchmarkTools.Trial: 176 samples with 1 evaluation.\n",
       " Range \u001b[90m(\u001b[39m\u001b[36m\u001b[1mmin\u001b[22m\u001b[39m … \u001b[35mmax\u001b[39m\u001b[90m):  \u001b[39m\u001b[36m\u001b[1m19.948 ms\u001b[22m\u001b[39m … \u001b[35m51.473 ms\u001b[39m  \u001b[90m┊\u001b[39m GC \u001b[90m(\u001b[39mmin … max\u001b[90m): \u001b[39m0.00% … 26.49%\n",
       " Time  \u001b[90m(\u001b[39m\u001b[34m\u001b[1mmedian\u001b[22m\u001b[39m\u001b[90m):     \u001b[39m\u001b[34m\u001b[1m24.011 ms              \u001b[22m\u001b[39m\u001b[90m┊\u001b[39m GC \u001b[90m(\u001b[39mmedian\u001b[90m):    \u001b[39m0.00%\n",
       " Time  \u001b[90m(\u001b[39m\u001b[32m\u001b[1mmean\u001b[22m\u001b[39m ± \u001b[32mσ\u001b[39m\u001b[90m):   \u001b[39m\u001b[32m\u001b[1m28.390 ms\u001b[22m\u001b[39m ± \u001b[32m 6.781 ms\u001b[39m  \u001b[90m┊\u001b[39m GC \u001b[90m(\u001b[39mmean ± σ\u001b[90m):  \u001b[39m6.83% ± 11.92%\n",
       "\n",
       "  \u001b[39m \u001b[39m \u001b[39m \u001b[39m \u001b[39m \u001b[39m \u001b[39m█\u001b[39m▂\u001b[39m \u001b[34m \u001b[39m\u001b[39m \u001b[39m \u001b[39m \u001b[39m \u001b[39m \u001b[39m \u001b[39m \u001b[39m \u001b[39m \u001b[32m \u001b[39m\u001b[39m \u001b[39m \u001b[39m \u001b[39m \u001b[39m \u001b[39m \u001b[39m \u001b[39m \u001b[39m \u001b[39m \u001b[39m \u001b[39m \u001b[39m \u001b[39m \u001b[39m \u001b[39m \u001b[39m \u001b[39m \u001b[39m \u001b[39m \u001b[39m \u001b[39m \u001b[39m \u001b[39m \u001b[39m \u001b[39m \u001b[39m \u001b[39m \u001b[39m \u001b[39m \u001b[39m \u001b[39m \u001b[39m \u001b[39m \u001b[39m \u001b[39m \u001b[39m \u001b[39m \u001b[39m \u001b[39m \u001b[39m \n",
       "  \u001b[39m▂\u001b[39m▂\u001b[39m▁\u001b[39m▄\u001b[39m▄\u001b[39m▆\u001b[39m█\u001b[39m█\u001b[39m█\u001b[34m▄\u001b[39m\u001b[39m▄\u001b[39m▃\u001b[39m▁\u001b[39m▁\u001b[39m▂\u001b[39m▂\u001b[39m▁\u001b[39m▁\u001b[39m▁\u001b[32m▁\u001b[39m\u001b[39m▃\u001b[39m▃\u001b[39m▃\u001b[39m▄\u001b[39m▃\u001b[39m▂\u001b[39m▄\u001b[39m▃\u001b[39m▂\u001b[39m▄\u001b[39m▂\u001b[39m▃\u001b[39m▄\u001b[39m▄\u001b[39m▃\u001b[39m▄\u001b[39m▄\u001b[39m▅\u001b[39m▃\u001b[39m▁\u001b[39m▃\u001b[39m▁\u001b[39m▃\u001b[39m▁\u001b[39m▁\u001b[39m▂\u001b[39m▂\u001b[39m▁\u001b[39m▁\u001b[39m▁\u001b[39m▂\u001b[39m▂\u001b[39m▁\u001b[39m▂\u001b[39m▁\u001b[39m▁\u001b[39m▁\u001b[39m▂\u001b[39m▂\u001b[39m \u001b[39m▂\n",
       "  19.9 ms\u001b[90m         Histogram: frequency by time\u001b[39m        46.5 ms \u001b[0m\u001b[1m<\u001b[22m\n",
       "\n",
       " Memory estimate\u001b[90m: \u001b[39m\u001b[33m43.50 MiB\u001b[39m, allocs estimate\u001b[90m: \u001b[39m\u001b[33m155416\u001b[39m."
      ]
     },
     "execution_count": 12,
     "metadata": {},
     "output_type": "execute_result"
    }
   ],
   "source": [
    "@benchmark diff_Xi2(pars)"
   ]
  },
  {
   "cell_type": "code",
   "execution_count": null,
   "id": "14eb564f",
   "metadata": {},
   "outputs": [],
   "source": [
    "npzwrite(string(, \".npz\"), [evall, diff])"
   ]
  },
  {
   "cell_type": "code",
   "execution_count": 16,
   "id": "9acc3189",
   "metadata": {},
   "outputs": [
    {
     "data": {
      "text/plain": [
       "typename(ReverseDiff.CompiledTape)(diff_Xi2)"
      ]
     },
     "execution_count": 16,
     "metadata": {},
     "output_type": "execute_result"
    }
   ],
   "source": [
    "using ReverseDiff\n",
    "ftape_diff_Xi2 = ReverseDiff.GradientTape(diff_Xi2, pars)\n",
    "compiled_ftape_diff_Xi2 = ReverseDiff.compile(ftape_diff_Xi2)"
   ]
  },
  {
   "cell_type": "code",
   "execution_count": 17,
   "id": "89a74bca",
   "metadata": {},
   "outputs": [],
   "source": [
    "Xi2 = similar(pars);"
   ]
  },
  {
   "cell_type": "code",
   "execution_count": 18,
   "id": "9eb913e2",
   "metadata": {},
   "outputs": [
    {
     "ename": "LoadError",
     "evalue": "InterruptException:",
     "output_type": "error",
     "traceback": [
      "InterruptException:",
      "",
      "Stacktrace:",
      "  [1] Array",
      "    @ ./boot.jl:457 [inlined]",
      "  [2] Array",
      "    @ ./boot.jl:466 [inlined]",
      "  [3] Array",
      "    @ ./boot.jl:474 [inlined]",
      "  [4] similar",
      "    @ ./abstractarray.jl:829 [inlined]",
      "  [5] similar",
      "    @ ./abstractarray.jl:828 [inlined]",
      "  [6] similar",
      "    @ ./broadcast.jl:212 [inlined]",
      "  [7] similar",
      "    @ ./broadcast.jl:211 [inlined]",
      "  [8] copy",
      "    @ ./broadcast.jl:885 [inlined]",
      "  [9] materialize",
      "    @ ./broadcast.jl:860 [inlined]",
      " [10] macro expansion",
      "    @ ~/.julia/packages/ReverseDiff/GtPeW/src/derivatives/broadcast.jl:0 [inlined]",
      " [11] _derivs(::Base.Broadcast.var\"#10#12\"{Base.Broadcast.var\"#16#18\"{Base.Broadcast.var\"#13#14\"{Base.Broadcast.var\"#9#11\"}, Base.Broadcast.var\"#13#14\"{Base.Broadcast.var\"#13#14\"{Base.Broadcast.var\"#15#17\"}}, Base.Broadcast.var\"#23#24\"{Base.Broadcast.var\"#23#24\"{Base.Broadcast.var\"#25#26\"}}, Base.Broadcast.var\"#19#20\"{Base.Broadcast.var\"#19#20\"{Base.Broadcast.var\"#21#22\"}}, typeof(*)}, typeof(/)}, ::Vector{Float64}, ::Vector{Float64}, ::Vector{Float64}, ::Float64)",
      "    @ ReverseDiff ~/.julia/packages/ReverseDiff/GtPeW/src/derivatives/broadcast.jl:226",
      " [12] special_reverse_exec!(instruction::ReverseDiff.SpecialInstruction{typeof(ReverseDiff.tracker_∇broadcast), Tuple{Vector{Float64}, ReverseDiff.TrackedArray{Float64, Float64, 1, Vector{Float64}, Vector{Float64}}, Float64}, ReverseDiff.TrackedArray{Float64, Float64, 1, Vector{Float64}, Vector{Float64}}, Tuple{Base.Broadcast.var\"#10#12\"{Base.Broadcast.var\"#16#18\"{Base.Broadcast.var\"#13#14\"{Base.Broadcast.var\"#9#11\"}, Base.Broadcast.var\"#13#14\"{Base.Broadcast.var\"#13#14\"{Base.Broadcast.var\"#15#17\"}}, Base.Broadcast.var\"#23#24\"{Base.Broadcast.var\"#23#24\"{Base.Broadcast.var\"#25#26\"}}, Base.Broadcast.var\"#19#20\"{Base.Broadcast.var\"#19#20\"{Base.Broadcast.var\"#21#22\"}}, typeof(*)}, typeof(/)}}})",
      "    @ ReverseDiff ~/.julia/packages/ReverseDiff/GtPeW/src/derivatives/broadcast.jl:255",
      " [13] reverse_exec!(instruction::ReverseDiff.SpecialInstruction{typeof(ReverseDiff.tracker_∇broadcast), Tuple{Vector{Float64}, ReverseDiff.TrackedArray{Float64, Float64, 1, Vector{Float64}, Vector{Float64}}, Float64}, ReverseDiff.TrackedArray{Float64, Float64, 1, Vector{Float64}, Vector{Float64}}, Tuple{Base.Broadcast.var\"#10#12\"{Base.Broadcast.var\"#16#18\"{Base.Broadcast.var\"#13#14\"{Base.Broadcast.var\"#9#11\"}, Base.Broadcast.var\"#13#14\"{Base.Broadcast.var\"#13#14\"{Base.Broadcast.var\"#15#17\"}}, Base.Broadcast.var\"#23#24\"{Base.Broadcast.var\"#23#24\"{Base.Broadcast.var\"#25#26\"}}, Base.Broadcast.var\"#19#20\"{Base.Broadcast.var\"#19#20\"{Base.Broadcast.var\"#21#22\"}}, typeof(*)}, typeof(/)}}})",
      "    @ ReverseDiff ~/.julia/packages/ReverseDiff/GtPeW/src/tape.jl:93",
      " [14] ReverseExecutor",
      "    @ ~/.julia/packages/ReverseDiff/GtPeW/src/api/tape.jl:93 [inlined]",
      " [15] (::FunctionWrappers.CallWrapper{Nothing})(f::ReverseDiff.ReverseExecutor{ReverseDiff.SpecialInstruction{typeof(ReverseDiff.tracker_∇broadcast), Tuple{Vector{Float64}, ReverseDiff.TrackedArray{Float64, Float64, 1, Vector{Float64}, Vector{Float64}}, Float64}, ReverseDiff.TrackedArray{Float64, Float64, 1, Vector{Float64}, Vector{Float64}}, Tuple{Base.Broadcast.var\"#10#12\"{Base.Broadcast.var\"#16#18\"{Base.Broadcast.var\"#13#14\"{Base.Broadcast.var\"#9#11\"}, Base.Broadcast.var\"#13#14\"{Base.Broadcast.var\"#13#14\"{Base.Broadcast.var\"#15#17\"}}, Base.Broadcast.var\"#23#24\"{Base.Broadcast.var\"#23#24\"{Base.Broadcast.var\"#25#26\"}}, Base.Broadcast.var\"#19#20\"{Base.Broadcast.var\"#19#20\"{Base.Broadcast.var\"#21#22\"}}, typeof(*)}, typeof(/)}}}})",
      "    @ FunctionWrappers ~/.julia/packages/FunctionWrappers/8xdVB/src/FunctionWrappers.jl:58",
      " [16] macro expansion",
      "    @ ~/.julia/packages/FunctionWrappers/8xdVB/src/FunctionWrappers.jl:130 [inlined]",
      " [17] do_ccall",
      "    @ ~/.julia/packages/FunctionWrappers/8xdVB/src/FunctionWrappers.jl:118 [inlined]",
      " [18] FunctionWrapper",
      "    @ ~/.julia/packages/FunctionWrappers/8xdVB/src/FunctionWrappers.jl:137 [inlined]",
      " [19] reverse_pass!(compiled_tape::ReverseDiff.CompiledTape{ReverseDiff.GradientTape{typeof(diff_Xi2), ReverseDiff.TrackedArray{Float64, Float64, 1, Vector{Float64}, Vector{Float64}}, ReverseDiff.TrackedReal{Float64, Float64, Nothing}}})",
      "    @ ReverseDiff ~/.julia/packages/ReverseDiff/GtPeW/src/api/tape.jl:131",
      " [20] seeded_reverse_pass!(result::Vector{Float64}, output::ReverseDiff.TrackedReal{Float64, Float64, Nothing}, input::ReverseDiff.TrackedArray{Float64, Float64, 1, Vector{Float64}, Vector{Float64}}, tape::ReverseDiff.CompiledTape{ReverseDiff.GradientTape{typeof(diff_Xi2), ReverseDiff.TrackedArray{Float64, Float64, 1, Vector{Float64}, Vector{Float64}}, ReverseDiff.TrackedReal{Float64, Float64, Nothing}}})",
      "    @ ReverseDiff ~/.julia/packages/ReverseDiff/GtPeW/src/api/utils.jl:31",
      " [21] seeded_reverse_pass!",
      "    @ ~/.julia/packages/ReverseDiff/GtPeW/src/api/tape.jl:47 [inlined]",
      " [22] gradient!(result::Vector{Float64}, tape::ReverseDiff.CompiledTape{ReverseDiff.GradientTape{typeof(diff_Xi2), ReverseDiff.TrackedArray{Float64, Float64, 1, Vector{Float64}, Vector{Float64}}, ReverseDiff.TrackedReal{Float64, Float64, Nothing}}}, input::Vector{Float64})",
      "    @ ReverseDiff ~/.julia/packages/ReverseDiff/GtPeW/src/api/gradients.jl:80",
      " [23] var\"##core#455\"()",
      "    @ Main ~/.julia/packages/BenchmarkTools/7xSXH/src/execution.jl:489",
      " [24] var\"##sample#456\"(::Tuple{}, __params::BenchmarkTools.Parameters)",
      "    @ Main ~/.julia/packages/BenchmarkTools/7xSXH/src/execution.jl:495",
      " [25] _lineartrial(b::BenchmarkTools.Benchmark, p::BenchmarkTools.Parameters; maxevals::Int64, kwargs::Base.Pairs{Symbol, Union{}, Tuple{}, NamedTuple{(), Tuple{}}})",
      "    @ BenchmarkTools ~/.julia/packages/BenchmarkTools/7xSXH/src/execution.jl:161",
      " [26] _lineartrial(b::BenchmarkTools.Benchmark, p::BenchmarkTools.Parameters)",
      "    @ BenchmarkTools ~/.julia/packages/BenchmarkTools/7xSXH/src/execution.jl:153",
      " [27] #invokelatest#2",
      "    @ ./essentials.jl:716 [inlined]",
      " [28] invokelatest",
      "    @ ./essentials.jl:714 [inlined]",
      " [29] #lineartrial#46",
      "    @ ~/.julia/packages/BenchmarkTools/7xSXH/src/execution.jl:35 [inlined]",
      " [30] lineartrial",
      "    @ ~/.julia/packages/BenchmarkTools/7xSXH/src/execution.jl:35 [inlined]",
      " [31] tune!(b::BenchmarkTools.Benchmark, p::BenchmarkTools.Parameters; progressid::Nothing, nleaves::Float64, ndone::Float64, verbose::Bool, pad::String, kwargs::Base.Pairs{Symbol, Union{}, Tuple{}, NamedTuple{(), Tuple{}}})",
      "    @ BenchmarkTools ~/.julia/packages/BenchmarkTools/7xSXH/src/execution.jl:251",
      " [32] tune! (repeats 2 times)",
      "    @ ~/.julia/packages/BenchmarkTools/7xSXH/src/execution.jl:250 [inlined]",
      " [33] top-level scope",
      "    @ ~/.julia/packages/BenchmarkTools/7xSXH/src/execution.jl:394",
      " [34] eval",
      "    @ ./boot.jl:373 [inlined]",
      " [35] include_string(mapexpr::typeof(REPL.softscope), mod::Module, code::String, filename::String)",
      "    @ Base ./loading.jl:1196"
     ]
    }
   ],
   "source": [
    "@benchmark ReverseDiff.gradient!(Xi2, compiled_ftape_diff_Xi2, pars)"
   ]
  },
  {
   "cell_type": "code",
   "execution_count": 15,
   "id": "0f025cdd",
   "metadata": {},
   "outputs": [
    {
     "data": {
      "text/plain": [
       "BenchmarkTools.Trial: 3 samples with 1 evaluation.\n",
       " Range \u001b[90m(\u001b[39m\u001b[36m\u001b[1mmin\u001b[22m\u001b[39m … \u001b[35mmax\u001b[39m\u001b[90m):  \u001b[39m\u001b[36m\u001b[1m2.305 s\u001b[22m\u001b[39m … \u001b[35m  2.404 s\u001b[39m  \u001b[90m┊\u001b[39m GC \u001b[90m(\u001b[39mmin … max\u001b[90m): \u001b[39m8.40% … 8.07%\n",
       " Time  \u001b[90m(\u001b[39m\u001b[34m\u001b[1mmedian\u001b[22m\u001b[39m\u001b[90m):     \u001b[39m\u001b[34m\u001b[1m2.340 s              \u001b[22m\u001b[39m\u001b[90m┊\u001b[39m GC \u001b[90m(\u001b[39mmedian\u001b[90m):    \u001b[39m8.29%\n",
       " Time  \u001b[90m(\u001b[39m\u001b[32m\u001b[1mmean\u001b[22m\u001b[39m ± \u001b[32mσ\u001b[39m\u001b[90m):   \u001b[39m\u001b[32m\u001b[1m2.350 s\u001b[22m\u001b[39m ± \u001b[32m50.542 ms\u001b[39m  \u001b[90m┊\u001b[39m GC \u001b[90m(\u001b[39mmean ± σ\u001b[90m):  \u001b[39m8.35% ± 0.26%\n",
       "\n",
       "  \u001b[34m█\u001b[39m\u001b[39m \u001b[39m \u001b[39m \u001b[39m \u001b[39m \u001b[39m \u001b[39m \u001b[39m \u001b[39m \u001b[39m \u001b[39m \u001b[39m \u001b[39m \u001b[39m \u001b[39m \u001b[39m \u001b[39m \u001b[39m \u001b[39m \u001b[39m█\u001b[39m \u001b[39m \u001b[39m \u001b[39m \u001b[39m \u001b[32m \u001b[39m\u001b[39m \u001b[39m \u001b[39m \u001b[39m \u001b[39m \u001b[39m \u001b[39m \u001b[39m \u001b[39m \u001b[39m \u001b[39m \u001b[39m \u001b[39m \u001b[39m \u001b[39m \u001b[39m \u001b[39m \u001b[39m \u001b[39m \u001b[39m \u001b[39m \u001b[39m \u001b[39m \u001b[39m \u001b[39m \u001b[39m \u001b[39m \u001b[39m \u001b[39m \u001b[39m█\u001b[39m \u001b[39m \n",
       "  \u001b[34m█\u001b[39m\u001b[39m▁\u001b[39m▁\u001b[39m▁\u001b[39m▁\u001b[39m▁\u001b[39m▁\u001b[39m▁\u001b[39m▁\u001b[39m▁\u001b[39m▁\u001b[39m▁\u001b[39m▁\u001b[39m▁\u001b[39m▁\u001b[39m▁\u001b[39m▁\u001b[39m▁\u001b[39m▁\u001b[39m▁\u001b[39m█\u001b[39m▁\u001b[39m▁\u001b[39m▁\u001b[39m▁\u001b[39m▁\u001b[32m▁\u001b[39m\u001b[39m▁\u001b[39m▁\u001b[39m▁\u001b[39m▁\u001b[39m▁\u001b[39m▁\u001b[39m▁\u001b[39m▁\u001b[39m▁\u001b[39m▁\u001b[39m▁\u001b[39m▁\u001b[39m▁\u001b[39m▁\u001b[39m▁\u001b[39m▁\u001b[39m▁\u001b[39m▁\u001b[39m▁\u001b[39m▁\u001b[39m▁\u001b[39m▁\u001b[39m▁\u001b[39m▁\u001b[39m▁\u001b[39m▁\u001b[39m▁\u001b[39m▁\u001b[39m▁\u001b[39m█\u001b[39m \u001b[39m▁\n",
       "  2.3 s\u001b[90m          Histogram: frequency by time\u001b[39m         2.4 s \u001b[0m\u001b[1m<\u001b[22m\n",
       "\n",
       " Memory estimate\u001b[90m: \u001b[39m\u001b[33m3.76 GiB\u001b[39m, allocs estimate\u001b[90m: \u001b[39m\u001b[33m1122396\u001b[39m."
      ]
     },
     "execution_count": 15,
     "metadata": {},
     "output_type": "execute_result"
    }
   ],
   "source": [
    "@benchmark ForwardDiff.jacobian(diff_cls, pars)"
   ]
  },
  {
   "cell_type": "code",
   "execution_count": null,
   "id": "af976833",
   "metadata": {},
   "outputs": [],
   "source": [
    "@benchmark ReverseDiff.jacobian(diff_cls, pars)"
   ]
  },
  {
   "cell_type": "markdown",
   "id": "7ca01ddd",
   "metadata": {},
   "source": [
    "## Xi2"
   ]
  },
  {
   "cell_type": "code",
   "execution_count": 43,
   "id": "78e357ab",
   "metadata": {},
   "outputs": [
    {
     "data": {
      "text/plain": [
       "610-element Vector{Float64}:\n",
       " 3.729976949631498e-5\n",
       " 1.924863264546964e-5\n",
       " 1.2198839863768642e-5\n",
       " 2.7338998158421804e-5\n",
       " 1.8302492387509104e-5\n",
       " 1.1697676470225297e-5\n",
       " 8.461577277803604e-6\n",
       " 6.2847518106000625e-6\n",
       " 4.953759872071052e-6\n",
       " 4.0277958603799074e-6\n",
       " 2.0247593758184622e-5\n",
       " 1.3879505201281076e-5\n",
       " 1.0208564507478019e-5\n",
       " ⋮\n",
       " 1.481014723350936e-9\n",
       " 1.2597256449462859e-9\n",
       " 1.073704667701235e-9\n",
       " 9.174815729181471e-10\n",
       " 7.858916381457959e-10\n",
       " 6.74149817464629e-10\n",
       " 5.784141317368861e-10\n",
       " 4.954936101687788e-10\n",
       " 4.234671163674685e-10\n",
       " 3.6091137647921583e-10\n",
       " 3.0662205257958187e-10\n",
       " 2.5945231667605537e-10"
      ]
     },
     "execution_count": 43,
     "metadata": {},
     "output_type": "execute_result"
    }
   ],
   "source": [
    "best_pred = make_cls(pars)"
   ]
  },
  {
   "cell_type": "code",
   "execution_count": 44,
   "id": "870a89d4",
   "metadata": {},
   "outputs": [
    {
     "data": {
      "text/plain": [
       "726.9778969921368"
      ]
     },
     "execution_count": 44,
     "metadata": {},
     "output_type": "execute_result"
    }
   ],
   "source": [
    "best_Xi = dot((best_pred .- data_vector), inv_cov_tot  * (best_pred .- data_vector))"
   ]
  },
  {
   "cell_type": "code",
   "execution_count": 45,
   "id": "8b83e05b",
   "metadata": {},
   "outputs": [
    {
     "data": {
      "text/plain": [
       "1.282"
      ]
     },
     "execution_count": 45,
     "metadata": {},
     "output_type": "execute_result"
    }
   ],
   "source": [
    "reduced_best_Xi = round(best_Xi/(length(data_vector)-43), digits=3)"
   ]
  },
  {
   "cell_type": "markdown",
   "id": "6fca07c1",
   "metadata": {},
   "source": [
    "## Prior sampling"
   ]
  },
  {
   "cell_type": "code",
   "execution_count": 21,
   "id": "5383d836",
   "metadata": {},
   "outputs": [],
   "source": [
    "N_samples = 100\n",
    "cls_preds = zeros(N_samples, length(data_vector))\n",
    "for i in 1:N_samples\n",
    "    Ωm = rand(Uniform(0.1, 0.6))\n",
    "    s8 = rand(Uniform(0.6, 0.9))\n",
    "    cls_preds[i,:] = make_cls(pars; Ωm=Ωm, s8=s8)\n",
    "end"
   ]
  },
  {
   "cell_type": "code",
   "execution_count": 22,
   "id": "4d316b98",
   "metadata": {},
   "outputs": [],
   "source": [
    "cls_preds_m, cls_preds_s = mean(cls_preds, dims=1), std(cls_preds, dims=1);"
   ]
  },
  {
   "cell_type": "code",
   "execution_count": 23,
   "id": "99ac07d0",
   "metadata": {},
   "outputs": [],
   "source": [
    "npzwrite(\"jaime_cls.npz\", Dict(\"cls_best\" => best_pred,\n",
    "                               \"cls_m\" => cls_preds_m,\n",
    "                               \"cls_s\" => cls_preds_s))"
   ]
  },
  {
   "cell_type": "markdown",
   "id": "0f0ba5f7",
   "metadata": {},
   "source": [
    "## Turing"
   ]
  },
  {
   "cell_type": "code",
   "execution_count": 9,
   "id": "7325f732",
   "metadata": {},
   "outputs": [],
   "source": [
    "@model function model(data_vector::Vector{Float64})\n",
    "    Ωm ~ Uniform(0.1, 0.6)\n",
    "    Ωb = 0.05 #~ Uniform(0.03, 0.07)\n",
    "    h = 0.67 #~ Uniform(0.6, 0.9)\n",
    "    s8 = 0.81 #~ Uniform(0.6, 1.0)\n",
    "    ns = 0.96 #~ Uniform(0.87, 1.07)\n",
    "\n",
    "    cosmology = LimberJack.Cosmology(Ωm, Ωb, h, s8, s8,\n",
    "                                     tk_mode=\"emulator\",\n",
    "                                     Pk_mode=\"Halofit\")\n",
    "    theory = Theory(cosmology,\n",
    "                    tracers_names, pairs,\n",
    "                    idx, files)\n",
    "    data_vector ~ MvNormal(theory, cov_tot)\n",
    "    return data_vector\n",
    "end;"
   ]
  },
  {
   "cell_type": "code",
   "execution_count": 10,
   "id": "4a0dba7f",
   "metadata": {},
   "outputs": [],
   "source": [
    "iterations = 300\n",
    "nadapts = 100;"
   ]
  },
  {
   "cell_type": "code",
   "execution_count": 11,
   "id": "acc3c742",
   "metadata": {},
   "outputs": [
    {
     "name": "stderr",
     "output_type": "stream",
     "text": [
      "┌ Warning: The current proposal will be rejected due to numerical error(s).\n",
      "│   isfinite.((θ, r, ℓπ, ℓκ)) = (true, false, false, false)\n",
      "└ @ AdvancedHMC /home/jaime/.julia/packages/AdvancedHMC/iWHPQ/src/hamiltonian.jl:47\n",
      "┌ Warning: The current proposal will be rejected due to numerical error(s).\n",
      "│   isfinite.((θ, r, ℓπ, ℓκ)) = (true, false, false, false)\n",
      "└ @ AdvancedHMC /home/jaime/.julia/packages/AdvancedHMC/iWHPQ/src/hamiltonian.jl:47\n",
      "\u001b[32mSampling:   1%|▍                                        |  ETA: 0:07:02\u001b[39m┌ Warning: The current proposal will be rejected due to numerical error(s).\n",
      "│   isfinite.((θ, r, ℓπ, ℓκ)) = (true, false, false, false)\n",
      "└ @ AdvancedHMC /home/jaime/.julia/packages/AdvancedHMC/iWHPQ/src/hamiltonian.jl:47\n",
      "\u001b[32mSampling: 100%|█████████████████████████████████████████| Time: 0:01:28\u001b[39m\n"
     ]
    },
    {
     "ename": "LoadError",
     "evalue": "InterruptException:",
     "output_type": "error",
     "traceback": [
      "InterruptException:",
      "",
      "Stacktrace:",
      "  [1] model(__model__::DynamicPPL.Model{typeof(model), (:data_vector,), (), (), Tuple{Vector{Float64}}, Tuple{}, DynamicPPL.DefaultContext}, __varinfo__::DynamicPPL.ThreadSafeVarInfo{DynamicPPL.TypedVarInfo{NamedTuple{(:Ωm,), Tuple{DynamicPPL.Metadata{Dict{AbstractPPL.VarName{:Ωm, Setfield.IdentityLens}, Int64}, Vector{Uniform{Float64}}, Vector{AbstractPPL.VarName{:Ωm, Setfield.IdentityLens}}, Vector{ForwardDiff.Dual{ForwardDiff.Tag{Turing.TuringTag, Float64}, Float64, 1}}, Vector{Set{DynamicPPL.Selector}}}}}, ForwardDiff.Dual{ForwardDiff.Tag{Turing.TuringTag, Float64}, Float64, 1}}, Vector{Base.RefValue{ForwardDiff.Dual{ForwardDiff.Tag{Turing.TuringTag, Float64}, Float64, 1}}}}, __context__::DynamicPPL.SamplingContext{DynamicPPL.Sampler{NUTS{Turing.Essential.ForwardDiffAD{0}, (), AdvancedHMC.DiagEuclideanMetric}}, DynamicPPL.DefaultContext, Random._GLOBAL_RNG}, data_vector::Vector{Float64})",
      "    @ Main ./In[9]:14",
      "  [2] macro expansion",
      "    @ ~/.julia/packages/DynamicPPL/zPOYL/src/model.jl:593 [inlined]",
      "  [3] _evaluate!!",
      "    @ ~/.julia/packages/DynamicPPL/zPOYL/src/model.jl:576 [inlined]",
      "  [4] evaluate_threadsafe!!",
      "    @ ~/.julia/packages/DynamicPPL/zPOYL/src/model.jl:567 [inlined]",
      "  [5] evaluate!!",
      "    @ ~/.julia/packages/DynamicPPL/zPOYL/src/model.jl:502 [inlined]",
      "  [6] evaluate!!",
      "    @ ~/.julia/packages/DynamicPPL/zPOYL/src/model.jl:515 [inlined]",
      "  [7] evaluate!!",
      "    @ ~/.julia/packages/DynamicPPL/zPOYL/src/model.jl:523 [inlined]",
      "  [8] (::Turing.LogDensityFunction{DynamicPPL.TypedVarInfo{NamedTuple{(:Ωm,), Tuple{DynamicPPL.Metadata{Dict{AbstractPPL.VarName{:Ωm, Setfield.IdentityLens}, Int64}, Vector{Uniform{Float64}}, Vector{AbstractPPL.VarName{:Ωm, Setfield.IdentityLens}}, Vector{Float64}, Vector{Set{DynamicPPL.Selector}}}}}, Float64}, DynamicPPL.Model{typeof(model), (:data_vector,), (), (), Tuple{Vector{Float64}}, Tuple{}, DynamicPPL.DefaultContext}, DynamicPPL.Sampler{NUTS{Turing.Essential.ForwardDiffAD{0}, (), AdvancedHMC.DiagEuclideanMetric}}, DynamicPPL.DefaultContext})(θ::Vector{ForwardDiff.Dual{ForwardDiff.Tag{Turing.TuringTag, Float64}, Float64, 1}})",
      "    @ Turing ~/.julia/packages/Turing/Tpj0b/src/Turing.jl:37",
      "  [9] vector_mode_dual_eval!",
      "    @ ~/.julia/packages/ForwardDiff/pDtsf/src/apiutils.jl:37 [inlined]",
      " [10] vector_mode_gradient!",
      "    @ ~/.julia/packages/ForwardDiff/pDtsf/src/gradient.jl:113 [inlined]",
      " [11] gradient!(result::DiffResults.MutableDiffResult{1, Float64, Tuple{Vector{Float64}}}, f::Turing.LogDensityFunction{DynamicPPL.TypedVarInfo{NamedTuple{(:Ωm,), Tuple{DynamicPPL.Metadata{Dict{AbstractPPL.VarName{:Ωm, Setfield.IdentityLens}, Int64}, Vector{Uniform{Float64}}, Vector{AbstractPPL.VarName{:Ωm, Setfield.IdentityLens}}, Vector{Float64}, Vector{Set{DynamicPPL.Selector}}}}}, Float64}, DynamicPPL.Model{typeof(model), (:data_vector,), (), (), Tuple{Vector{Float64}}, Tuple{}, DynamicPPL.DefaultContext}, DynamicPPL.Sampler{NUTS{Turing.Essential.ForwardDiffAD{0}, (), AdvancedHMC.DiagEuclideanMetric}}, DynamicPPL.DefaultContext}, x::Vector{Float64}, cfg::ForwardDiff.GradientConfig{ForwardDiff.Tag{Turing.TuringTag, Float64}, Float64, 1, Vector{ForwardDiff.Dual{ForwardDiff.Tag{Turing.TuringTag, Float64}, Float64, 1}}}, ::Val{true})",
      "    @ ForwardDiff ~/.julia/packages/ForwardDiff/pDtsf/src/gradient.jl:37",
      " [12] gradient!(result::DiffResults.MutableDiffResult{1, Float64, Tuple{Vector{Float64}}}, f::Turing.LogDensityFunction{DynamicPPL.TypedVarInfo{NamedTuple{(:Ωm,), Tuple{DynamicPPL.Metadata{Dict{AbstractPPL.VarName{:Ωm, Setfield.IdentityLens}, Int64}, Vector{Uniform{Float64}}, Vector{AbstractPPL.VarName{:Ωm, Setfield.IdentityLens}}, Vector{Float64}, Vector{Set{DynamicPPL.Selector}}}}}, Float64}, DynamicPPL.Model{typeof(model), (:data_vector,), (), (), Tuple{Vector{Float64}}, Tuple{}, DynamicPPL.DefaultContext}, DynamicPPL.Sampler{NUTS{Turing.Essential.ForwardDiffAD{0}, (), AdvancedHMC.DiagEuclideanMetric}}, DynamicPPL.DefaultContext}, x::Vector{Float64}, cfg::ForwardDiff.GradientConfig{ForwardDiff.Tag{Turing.TuringTag, Float64}, Float64, 1, Vector{ForwardDiff.Dual{ForwardDiff.Tag{Turing.TuringTag, Float64}, Float64, 1}}})",
      "    @ ForwardDiff ~/.julia/packages/ForwardDiff/pDtsf/src/gradient.jl:35",
      " [13] gradient_logp(ad::Turing.Essential.ForwardDiffAD{0, true}, θ::Vector{Float64}, vi::DynamicPPL.TypedVarInfo{NamedTuple{(:Ωm,), Tuple{DynamicPPL.Metadata{Dict{AbstractPPL.VarName{:Ωm, Setfield.IdentityLens}, Int64}, Vector{Uniform{Float64}}, Vector{AbstractPPL.VarName{:Ωm, Setfield.IdentityLens}}, Vector{Float64}, Vector{Set{DynamicPPL.Selector}}}}}, Float64}, model::DynamicPPL.Model{typeof(model), (:data_vector,), (), (), Tuple{Vector{Float64}}, Tuple{}, DynamicPPL.DefaultContext}, sampler::DynamicPPL.Sampler{NUTS{Turing.Essential.ForwardDiffAD{0}, (), AdvancedHMC.DiagEuclideanMetric}}, context::DynamicPPL.DefaultContext)",
      "    @ Turing.Essential ~/.julia/packages/Turing/Tpj0b/src/essential/ad.jl:130",
      " [14] gradient_logp (repeats 2 times)",
      "    @ ~/.julia/packages/Turing/Tpj0b/src/essential/ad.jl:88 [inlined]",
      " [15] ∂logπ∂θ",
      "    @ ~/.julia/packages/Turing/Tpj0b/src/inference/hmc.jl:433 [inlined]",
      " [16] ∂H∂θ",
      "    @ ~/.julia/packages/AdvancedHMC/iWHPQ/src/hamiltonian.jl:31 [inlined]",
      " [17] macro expansion",
      "    @ ~/.julia/packages/UnPack/EkESO/src/UnPack.jl:100 [inlined]",
      " [18] step(lf::AdvancedHMC.Leapfrog{Float64}, h::AdvancedHMC.Hamiltonian{AdvancedHMC.DiagEuclideanMetric{Float64, Vector{Float64}}, Turing.LogDensityFunction{DynamicPPL.TypedVarInfo{NamedTuple{(:Ωm,), Tuple{DynamicPPL.Metadata{Dict{AbstractPPL.VarName{:Ωm, Setfield.IdentityLens}, Int64}, Vector{Uniform{Float64}}, Vector{AbstractPPL.VarName{:Ωm, Setfield.IdentityLens}}, Vector{Float64}, Vector{Set{DynamicPPL.Selector}}}}}, Float64}, DynamicPPL.Model{typeof(model), (:data_vector,), (), (), Tuple{Vector{Float64}}, Tuple{}, DynamicPPL.DefaultContext}, DynamicPPL.Sampler{NUTS{Turing.Essential.ForwardDiffAD{0}, (), AdvancedHMC.DiagEuclideanMetric}}, DynamicPPL.DefaultContext}, Turing.Inference.var\"#∂logπ∂θ#53\"{DynamicPPL.TypedVarInfo{NamedTuple{(:Ωm,), Tuple{DynamicPPL.Metadata{Dict{AbstractPPL.VarName{:Ωm, Setfield.IdentityLens}, Int64}, Vector{Uniform{Float64}}, Vector{AbstractPPL.VarName{:Ωm, Setfield.IdentityLens}}, Vector{Float64}, Vector{Set{DynamicPPL.Selector}}}}}, Float64}, DynamicPPL.Sampler{NUTS{Turing.Essential.ForwardDiffAD{0}, (), AdvancedHMC.DiagEuclideanMetric}}, DynamicPPL.Model{typeof(model), (:data_vector,), (), (), Tuple{Vector{Float64}}, Tuple{}, DynamicPPL.DefaultContext}}}, z::AdvancedHMC.PhasePoint{Vector{Float64}, AdvancedHMC.DualValue{Float64, Vector{Float64}}}, n_steps::Int64; fwd::Bool, full_trajectory::Val{false})",
      "    @ AdvancedHMC ~/.julia/packages/AdvancedHMC/iWHPQ/src/integrator.jl:88",
      " [19] step",
      "    @ ~/.julia/packages/AdvancedHMC/iWHPQ/src/integrator.jl:66 [inlined]",
      " [20] build_tree(rng::Random._GLOBAL_RNG, nt::AdvancedHMC.Trajectory{AdvancedHMC.MultinomialTS, AdvancedHMC.Leapfrog{Float64}, AdvancedHMC.GeneralisedNoUTurn{Float64}}, h::AdvancedHMC.Hamiltonian{AdvancedHMC.DiagEuclideanMetric{Float64, Vector{Float64}}, Turing.LogDensityFunction{DynamicPPL.TypedVarInfo{NamedTuple{(:Ωm,), Tuple{DynamicPPL.Metadata{Dict{AbstractPPL.VarName{:Ωm, Setfield.IdentityLens}, Int64}, Vector{Uniform{Float64}}, Vector{AbstractPPL.VarName{:Ωm, Setfield.IdentityLens}}, Vector{Float64}, Vector{Set{DynamicPPL.Selector}}}}}, Float64}, DynamicPPL.Model{typeof(model), (:data_vector,), (), (), Tuple{Vector{Float64}}, Tuple{}, DynamicPPL.DefaultContext}, DynamicPPL.Sampler{NUTS{Turing.Essential.ForwardDiffAD{0}, (), AdvancedHMC.DiagEuclideanMetric}}, DynamicPPL.DefaultContext}, Turing.Inference.var\"#∂logπ∂θ#53\"{DynamicPPL.TypedVarInfo{NamedTuple{(:Ωm,), Tuple{DynamicPPL.Metadata{Dict{AbstractPPL.VarName{:Ωm, Setfield.IdentityLens}, Int64}, Vector{Uniform{Float64}}, Vector{AbstractPPL.VarName{:Ωm, Setfield.IdentityLens}}, Vector{Float64}, Vector{Set{DynamicPPL.Selector}}}}}, Float64}, DynamicPPL.Sampler{NUTS{Turing.Essential.ForwardDiffAD{0}, (), AdvancedHMC.DiagEuclideanMetric}}, DynamicPPL.Model{typeof(model), (:data_vector,), (), (), Tuple{Vector{Float64}}, Tuple{}, DynamicPPL.DefaultContext}}}, z::AdvancedHMC.PhasePoint{Vector{Float64}, AdvancedHMC.DualValue{Float64, Vector{Float64}}}, sampler::AdvancedHMC.MultinomialTS{Float64}, v::Int64, j::Int64, H0::Float64)",
      "    @ AdvancedHMC ~/.julia/packages/AdvancedHMC/iWHPQ/src/trajectory.jl:595",
      " [21] transition(rng::Random._GLOBAL_RNG, τ::AdvancedHMC.Trajectory{AdvancedHMC.MultinomialTS, AdvancedHMC.Leapfrog{Float64}, AdvancedHMC.GeneralisedNoUTurn{Float64}}, h::AdvancedHMC.Hamiltonian{AdvancedHMC.DiagEuclideanMetric{Float64, Vector{Float64}}, Turing.LogDensityFunction{DynamicPPL.TypedVarInfo{NamedTuple{(:Ωm,), Tuple{DynamicPPL.Metadata{Dict{AbstractPPL.VarName{:Ωm, Setfield.IdentityLens}, Int64}, Vector{Uniform{Float64}}, Vector{AbstractPPL.VarName{:Ωm, Setfield.IdentityLens}}, Vector{Float64}, Vector{Set{DynamicPPL.Selector}}}}}, Float64}, DynamicPPL.Model{typeof(model), (:data_vector,), (), (), Tuple{Vector{Float64}}, Tuple{}, DynamicPPL.DefaultContext}, DynamicPPL.Sampler{NUTS{Turing.Essential.ForwardDiffAD{0}, (), AdvancedHMC.DiagEuclideanMetric}}, DynamicPPL.DefaultContext}, Turing.Inference.var\"#∂logπ∂θ#53\"{DynamicPPL.TypedVarInfo{NamedTuple{(:Ωm,), Tuple{DynamicPPL.Metadata{Dict{AbstractPPL.VarName{:Ωm, Setfield.IdentityLens}, Int64}, Vector{Uniform{Float64}}, Vector{AbstractPPL.VarName{:Ωm, Setfield.IdentityLens}}, Vector{Float64}, Vector{Set{DynamicPPL.Selector}}}}}, Float64}, DynamicPPL.Sampler{NUTS{Turing.Essential.ForwardDiffAD{0}, (), AdvancedHMC.DiagEuclideanMetric}}, DynamicPPL.Model{typeof(model), (:data_vector,), (), (), Tuple{Vector{Float64}}, Tuple{}, DynamicPPL.DefaultContext}}}, z0::AdvancedHMC.PhasePoint{Vector{Float64}, AdvancedHMC.DualValue{Float64, Vector{Float64}}})",
      "    @ AdvancedHMC ~/.julia/packages/AdvancedHMC/iWHPQ/src/trajectory.jl:641",
      " [22] transition",
      "    @ ~/.julia/packages/AdvancedHMC/iWHPQ/src/sampler.jl:57 [inlined]",
      " [23] step(rng::Random._GLOBAL_RNG, model::DynamicPPL.Model{typeof(model), (:data_vector,), (), (), Tuple{Vector{Float64}}, Tuple{}, DynamicPPL.DefaultContext}, spl::DynamicPPL.Sampler{NUTS{Turing.Essential.ForwardDiffAD{0}, (), AdvancedHMC.DiagEuclideanMetric}}, state::Turing.Inference.HMCState{DynamicPPL.TypedVarInfo{NamedTuple{(:Ωm,), Tuple{DynamicPPL.Metadata{Dict{AbstractPPL.VarName{:Ωm, Setfield.IdentityLens}, Int64}, Vector{Uniform{Float64}}, Vector{AbstractPPL.VarName{:Ωm, Setfield.IdentityLens}}, Vector{Float64}, Vector{Set{DynamicPPL.Selector}}}}}, Float64}, AdvancedHMC.HMCKernel{AdvancedHMC.FullMomentumRefreshment, AdvancedHMC.Trajectory{AdvancedHMC.MultinomialTS, AdvancedHMC.Leapfrog{Float64}, AdvancedHMC.GeneralisedNoUTurn{Float64}}}, AdvancedHMC.Hamiltonian{AdvancedHMC.DiagEuclideanMetric{Float64, Vector{Float64}}, Turing.LogDensityFunction{DynamicPPL.TypedVarInfo{NamedTuple{(:Ωm,), Tuple{DynamicPPL.Metadata{Dict{AbstractPPL.VarName{:Ωm, Setfield.IdentityLens}, Int64}, Vector{Uniform{Float64}}, Vector{AbstractPPL.VarName{:Ωm, Setfield.IdentityLens}}, Vector{Float64}, Vector{Set{DynamicPPL.Selector}}}}}, Float64}, DynamicPPL.Model{typeof(model), (:data_vector,), (), (), Tuple{Vector{Float64}}, Tuple{}, DynamicPPL.DefaultContext}, DynamicPPL.Sampler{NUTS{Turing.Essential.ForwardDiffAD{0}, (), AdvancedHMC.DiagEuclideanMetric}}, DynamicPPL.DefaultContext}, Turing.Inference.var\"#∂logπ∂θ#53\"{DynamicPPL.TypedVarInfo{NamedTuple{(:Ωm,), Tuple{DynamicPPL.Metadata{Dict{AbstractPPL.VarName{:Ωm, Setfield.IdentityLens}, Int64}, Vector{Uniform{Float64}}, Vector{AbstractPPL.VarName{:Ωm, Setfield.IdentityLens}}, Vector{Float64}, Vector{Set{DynamicPPL.Selector}}}}}, Float64}, DynamicPPL.Sampler{NUTS{Turing.Essential.ForwardDiffAD{0}, (), AdvancedHMC.DiagEuclideanMetric}}, DynamicPPL.Model{typeof(model), (:data_vector,), (), (), Tuple{Vector{Float64}}, Tuple{}, DynamicPPL.DefaultContext}}}, AdvancedHMC.PhasePoint{Vector{Float64}, AdvancedHMC.DualValue{Float64, Vector{Float64}}}, AdvancedHMC.Adaptation.StanHMCAdaptor{AdvancedHMC.Adaptation.WelfordVar{Float64, Vector{Float64}}, AdvancedHMC.Adaptation.NesterovDualAveraging{Float64}}}; nadapts::Int64, kwargs::Base.Pairs{Symbol, Bool, Tuple{Symbol}, NamedTuple{(:save_state,), Tuple{Bool}}})",
      "    @ Turing.Inference ~/.julia/packages/Turing/Tpj0b/src/inference/hmc.jl:237",
      " [24] macro expansion",
      "    @ ~/.julia/packages/AbstractMCMC/fnRmh/src/sample.jl:163 [inlined]",
      " [25] macro expansion",
      "    @ ~/.julia/packages/ProgressLogging/6KXlp/src/ProgressLogging.jl:328 [inlined]",
      " [26] (::AbstractMCMC.var\"#21#22\"{Bool, String, Nothing, Int64, Int64, Base.Pairs{Symbol, Integer, Tuple{Symbol, Symbol}, NamedTuple{(:nadapts, :save_state), Tuple{Int64, Bool}}}, Random._GLOBAL_RNG, DynamicPPL.Model{typeof(model), (:data_vector,), (), (), Tuple{Vector{Float64}}, Tuple{}, DynamicPPL.DefaultContext}, DynamicPPL.Sampler{NUTS{Turing.Essential.ForwardDiffAD{0}, (), AdvancedHMC.DiagEuclideanMetric}}, Int64, Int64})()",
      "    @ AbstractMCMC ~/.julia/packages/AbstractMCMC/fnRmh/src/logging.jl:12",
      " [27] with_logstate(f::Function, logstate::Any)",
      "    @ Base.CoreLogging ./logging.jl:511",
      " [28] with_logger(f::Function, logger::LoggingExtras.TeeLogger{Tuple{LoggingExtras.EarlyFilteredLogger{ConsoleProgressMonitor.ProgressLogger, AbstractMCMC.var\"#1#3\"{Module}}, LoggingExtras.EarlyFilteredLogger{Base.CoreLogging.SimpleLogger, AbstractMCMC.var\"#2#4\"{Module}}}})",
      "    @ Base.CoreLogging ./logging.jl:623",
      " [29] with_progresslogger(f::Function, _module::Module, logger::Base.CoreLogging.SimpleLogger)",
      "    @ AbstractMCMC ~/.julia/packages/AbstractMCMC/fnRmh/src/logging.jl:36",
      " [30] macro expansion",
      "    @ ~/.julia/packages/AbstractMCMC/fnRmh/src/logging.jl:11 [inlined]",
      " [31] mcmcsample(rng::Random._GLOBAL_RNG, model::DynamicPPL.Model{typeof(model), (:data_vector,), (), (), Tuple{Vector{Float64}}, Tuple{}, DynamicPPL.DefaultContext}, sampler::DynamicPPL.Sampler{NUTS{Turing.Essential.ForwardDiffAD{0}, (), AdvancedHMC.DiagEuclideanMetric}}, N::Int64; progress::Bool, progressname::String, callback::Nothing, discard_initial::Int64, thinning::Int64, chain_type::Type, kwargs::Base.Pairs{Symbol, Integer, Tuple{Symbol, Symbol}, NamedTuple{(:nadapts, :save_state), Tuple{Int64, Bool}}})",
      "    @ AbstractMCMC ~/.julia/packages/AbstractMCMC/fnRmh/src/sample.jl:111",
      " [32] sample(rng::Random._GLOBAL_RNG, model::DynamicPPL.Model{typeof(model), (:data_vector,), (), (), Tuple{Vector{Float64}}, Tuple{}, DynamicPPL.DefaultContext}, sampler::DynamicPPL.Sampler{NUTS{Turing.Essential.ForwardDiffAD{0}, (), AdvancedHMC.DiagEuclideanMetric}}, N::Int64; chain_type::Type, resume_from::Nothing, progress::Bool, nadapts::Int64, discard_adapt::Bool, discard_initial::Int64, kwargs::Base.Pairs{Symbol, Bool, Tuple{Symbol}, NamedTuple{(:save_state,), Tuple{Bool}}})",
      "    @ Turing.Inference ~/.julia/packages/Turing/Tpj0b/src/inference/hmc.jl:133",
      " [33] #sample#2",
      "    @ ~/.julia/packages/Turing/Tpj0b/src/inference/Inference.jl:145 [inlined]",
      " [34] #sample#1",
      "    @ ~/.julia/packages/Turing/Tpj0b/src/inference/Inference.jl:135 [inlined]",
      " [35] top-level scope",
      "    @ In[11]:1",
      " [36] eval",
      "    @ ./boot.jl:373 [inlined]",
      " [37] include_string(mapexpr::typeof(REPL.softscope), mod::Module, code::String, filename::String)",
      "    @ Base ./loading.jl:1196"
     ]
    }
   ],
   "source": [
    "chain3 = sample(model(data_vector), NUTS(5, 0.1; init_ϵ=0.03), iterations,\n",
    "                progress=true; save_state=true);"
   ]
  },
  {
   "cell_type": "code",
   "execution_count": 12,
   "id": "d81943ea",
   "metadata": {
    "scrolled": false
   },
   "outputs": [
    {
     "name": "stderr",
     "output_type": "stream",
     "text": [
      "\u001b[32mSampling: 100%|█████████████████████████████████████████| Time: 0:00:24\u001b[39m\n"
     ]
    },
    {
     "ename": "LoadError",
     "evalue": "InterruptException:",
     "output_type": "error",
     "traceback": [
      "InterruptException:",
      "",
      "Stacktrace:",
      "  [1] broadcasted",
      "    @ ./broadcast.jl:1305 [inlined]",
      "  [2] broadcasted(::Function, ::Float64, ::Float64)",
      "    @ Base.Broadcast ./broadcast.jl:1303",
      "  [3] _power_spectrum_nonlin(cpar::CosmoPar{Real}, PkL::Vector{Float64}, k::Vector{Float64}, z::Float64, rsig::Float64, neff::Float64, C::Float64)",
      "    @ LimberJack ~/.julia/packages/LimberJack/VqHfc/src/halofit.jl:166",
      "  [4] get_PKnonlin(cosmo::CosmoPar{Real}, z::StepRangeLen{Float64, Base.TwicePrecision{Float64}, Base.TwicePrecision{Float64}, Int64}, k::Vector{Float64}, PkLz0::Vector{Float64}, Dzs::Vector{Float64}, cosmo_type::DataType)",
      "    @ LimberJack ~/.julia/packages/LimberJack/VqHfc/src/halofit.jl:70",
      "  [5] Cosmology(cpar::CosmoPar{Real}, settings::Settings)",
      "    @ LimberJack ~/.julia/packages/LimberJack/VqHfc/src/core.jl:273",
      "  [6] Cosmology(Ωm::Float64, Ωb::Float64, h::Float64, n_s::Float64, σ8::Float64; θCMB::Float64, nz::Int64, nz_pk::Int64, nk::Int64, tk_mode::String, Pk_mode::String, custom_Dz::Nothing)",
      "    @ LimberJack ~/.julia/packages/LimberJack/VqHfc/src/core.jl:322",
      "  [7] model(__model__::DynamicPPL.Model{typeof(model), (:data_vector,), (), (), Tuple{Vector{Float64}}, Tuple{}, DynamicPPL.DefaultContext}, __varinfo__::DynamicPPL.ThreadSafeVarInfo{DynamicPPL.TypedVarInfo{NamedTuple{(:Ωm,), Tuple{DynamicPPL.Metadata{Dict{AbstractPPL.VarName{:Ωm, Setfield.IdentityLens}, Int64}, Vector{Uniform{Float64}}, Vector{AbstractPPL.VarName{:Ωm, Setfield.IdentityLens}}, Vector{Float64}, Vector{Set{DynamicPPL.Selector}}}}}, Float64}, Vector{Base.RefValue{Float64}}}, __context__::DynamicPPL.DefaultContext, data_vector::Vector{Float64})",
      "    @ Main ./In[10]:8",
      "  [8] macro expansion",
      "    @ ~/.julia/packages/DynamicPPL/1qg3U/src/model.jl:493 [inlined]",
      "  [9] _evaluate!!",
      "    @ ~/.julia/packages/DynamicPPL/1qg3U/src/model.jl:476 [inlined]",
      " [10] evaluate_threadsafe!!",
      "    @ ~/.julia/packages/DynamicPPL/1qg3U/src/model.jl:467 [inlined]",
      " [11] evaluate!!",
      "    @ ~/.julia/packages/DynamicPPL/1qg3U/src/model.jl:402 [inlined]",
      " [12] (::Turing.LogDensityFunction{DynamicPPL.TypedVarInfo{NamedTuple{(:Ωm,), Tuple{DynamicPPL.Metadata{Dict{AbstractPPL.VarName{:Ωm, Setfield.IdentityLens}, Int64}, Vector{Uniform{Float64}}, Vector{AbstractPPL.VarName{:Ωm, Setfield.IdentityLens}}, Vector{Float64}, Vector{Set{DynamicPPL.Selector}}}}}, Float64}, DynamicPPL.Model{typeof(model), (:data_vector,), (), (), Tuple{Vector{Float64}}, Tuple{}, DynamicPPL.DefaultContext}, DynamicPPL.Sampler{MH{(), NamedTuple{(), Tuple{}}}}, DynamicPPL.DefaultContext})(x::NamedTuple{(:Ωm,), Tuple{Float64}})",
      "    @ Turing.Inference ~/.julia/packages/Turing/szPqN/src/inference/mh.jl:253",
      " [13] logdensity",
      "    @ ~/.julia/packages/AdvancedMH/rD4EE/src/AdvancedMH.jl:62 [inlined]",
      " [14] step(rng::Random._GLOBAL_RNG, model::AdvancedMH.DensityModel{Turing.LogDensityFunction{DynamicPPL.TypedVarInfo{NamedTuple{(:Ωm,), Tuple{DynamicPPL.Metadata{Dict{AbstractPPL.VarName{:Ωm, Setfield.IdentityLens}, Int64}, Vector{Uniform{Float64}}, Vector{AbstractPPL.VarName{:Ωm, Setfield.IdentityLens}}, Vector{Float64}, Vector{Set{DynamicPPL.Selector}}}}}, Float64}, DynamicPPL.Model{typeof(model), (:data_vector,), (), (), Tuple{Vector{Float64}}, Tuple{}, DynamicPPL.DefaultContext}, DynamicPPL.Sampler{MH{(), NamedTuple{(), Tuple{}}}}, DynamicPPL.DefaultContext}}, sampler::AdvancedMH.MetropolisHastings{NamedTuple{(:Ωm,), Tuple{AdvancedMH.StaticProposal{false, Uniform{Float64}}}}}, transition_prev::AdvancedMH.Transition{NamedTuple{(:Ωm,), Tuple{Float64}}, Float64}; kwargs::Base.Pairs{Symbol, Union{}, Tuple{}, NamedTuple{(), Tuple{}}})",
      "    @ AdvancedMH ~/.julia/packages/AdvancedMH/rD4EE/src/mh-core.jl:101",
      " [15] step(rng::Random._GLOBAL_RNG, model::AdvancedMH.DensityModel{Turing.LogDensityFunction{DynamicPPL.TypedVarInfo{NamedTuple{(:Ωm,), Tuple{DynamicPPL.Metadata{Dict{AbstractPPL.VarName{:Ωm, Setfield.IdentityLens}, Int64}, Vector{Uniform{Float64}}, Vector{AbstractPPL.VarName{:Ωm, Setfield.IdentityLens}}, Vector{Float64}, Vector{Set{DynamicPPL.Selector}}}}}, Float64}, DynamicPPL.Model{typeof(model), (:data_vector,), (), (), Tuple{Vector{Float64}}, Tuple{}, DynamicPPL.DefaultContext}, DynamicPPL.Sampler{MH{(), NamedTuple{(), Tuple{}}}}, DynamicPPL.DefaultContext}}, sampler::AdvancedMH.MetropolisHastings{NamedTuple{(:Ωm,), Tuple{AdvancedMH.StaticProposal{false, Uniform{Float64}}}}}, transition_prev::AdvancedMH.Transition{NamedTuple{(:Ωm,), Tuple{Float64}}, Float64})",
      "    @ AdvancedMH ~/.julia/packages/AdvancedMH/rD4EE/src/mh-core.jl:98",
      " [16] propose!(rng::Random._GLOBAL_RNG, vi::DynamicPPL.TypedVarInfo{NamedTuple{(:Ωm,), Tuple{DynamicPPL.Metadata{Dict{AbstractPPL.VarName{:Ωm, Setfield.IdentityLens}, Int64}, Vector{Uniform{Float64}}, Vector{AbstractPPL.VarName{:Ωm, Setfield.IdentityLens}}, Vector{Float64}, Vector{Set{DynamicPPL.Selector}}}}}, Float64}, model::DynamicPPL.Model{typeof(model), (:data_vector,), (), (), Tuple{Vector{Float64}}, Tuple{}, DynamicPPL.DefaultContext}, spl::DynamicPPL.Sampler{MH{(), NamedTuple{(), Tuple{}}}}, proposal::NamedTuple{(), Tuple{}})",
      "    @ Turing.Inference ~/.julia/packages/Turing/szPqN/src/inference/mh.jl:376",
      " [17] #step#62",
      "    @ ~/.julia/packages/Turing/szPqN/src/inference/mh.jl:438 [inlined]",
      " [18] macro expansion",
      "    @ ~/.julia/packages/AbstractMCMC/fnRmh/src/sample.jl:163 [inlined]",
      " [19] macro expansion",
      "    @ ~/.julia/packages/ProgressLogging/6KXlp/src/ProgressLogging.jl:328 [inlined]",
      " [20] (::AbstractMCMC.var\"#21#22\"{Bool, String, Nothing, Int64, Int64, Base.Pairs{Symbol, Integer, Tuple{Symbol, Symbol}, NamedTuple{(:nadapt, :save_state), Tuple{Int64, Bool}}}, Random._GLOBAL_RNG, DynamicPPL.Model{typeof(model), (:data_vector,), (), (), Tuple{Vector{Float64}}, Tuple{}, DynamicPPL.DefaultContext}, DynamicPPL.Sampler{MH{(), NamedTuple{(), Tuple{}}}}, Int64, Int64})()",
      "    @ AbstractMCMC ~/.julia/packages/AbstractMCMC/fnRmh/src/logging.jl:12",
      " [21] with_logstate(f::Function, logstate::Any)",
      "    @ Base.CoreLogging ./logging.jl:511",
      " [22] with_logger(f::Function, logger::LoggingExtras.TeeLogger{Tuple{LoggingExtras.EarlyFilteredLogger{ConsoleProgressMonitor.ProgressLogger, AbstractMCMC.var\"#1#3\"{Module}}, LoggingExtras.EarlyFilteredLogger{Base.CoreLogging.SimpleLogger, AbstractMCMC.var\"#2#4\"{Module}}}})",
      "    @ Base.CoreLogging ./logging.jl:623",
      " [23] with_progresslogger(f::Function, _module::Module, logger::Base.CoreLogging.SimpleLogger)",
      "    @ AbstractMCMC ~/.julia/packages/AbstractMCMC/fnRmh/src/logging.jl:36",
      " [24] macro expansion",
      "    @ ~/.julia/packages/AbstractMCMC/fnRmh/src/logging.jl:11 [inlined]",
      " [25] mcmcsample(rng::Random._GLOBAL_RNG, model::DynamicPPL.Model{typeof(model), (:data_vector,), (), (), Tuple{Vector{Float64}}, Tuple{}, DynamicPPL.DefaultContext}, sampler::DynamicPPL.Sampler{MH{(), NamedTuple{(), Tuple{}}}}, N::Int64; progress::Bool, progressname::String, callback::Nothing, discard_initial::Int64, thinning::Int64, chain_type::Type, kwargs::Base.Pairs{Symbol, Integer, Tuple{Symbol, Symbol}, NamedTuple{(:nadapt, :save_state), Tuple{Int64, Bool}}})",
      "    @ AbstractMCMC ~/.julia/packages/AbstractMCMC/fnRmh/src/sample.jl:111",
      " [26] sample(rng::Random._GLOBAL_RNG, model::DynamicPPL.Model{typeof(model), (:data_vector,), (), (), Tuple{Vector{Float64}}, Tuple{}, DynamicPPL.DefaultContext}, sampler::DynamicPPL.Sampler{MH{(), NamedTuple{(), Tuple{}}}}, N::Int64; chain_type::Type, resume_from::Nothing, progress::Bool, kwargs::Base.Pairs{Symbol, Integer, Tuple{Symbol, Symbol}, NamedTuple{(:nadapt, :save_state), Tuple{Int64, Bool}}})",
      "    @ Turing.Inference ~/.julia/packages/Turing/szPqN/src/inference/Inference.jl:159",
      " [27] #sample#2",
      "    @ ~/.julia/packages/Turing/szPqN/src/inference/Inference.jl:145 [inlined]",
      " [28] #sample#1",
      "    @ ~/.julia/packages/Turing/szPqN/src/inference/Inference.jl:135 [inlined]",
      " [29] top-level scope",
      "    @ In[12]:1",
      " [30] eval",
      "    @ ./boot.jl:373 [inlined]",
      " [31] include_string(mapexpr::typeof(REPL.softscope), mod::Module, code::String, filename::String)",
      "    @ Base ./loading.jl:1196"
     ]
    }
   ],
   "source": [
    "chain1 = sample(model(data_vector), MH(), iterations,\n",
    "            nadapt=nadapts, progress=true; save_state=true);"
   ]
  },
  {
   "cell_type": "code",
   "execution_count": 4,
   "id": "c12bc5c9",
   "metadata": {},
   "outputs": [
    {
     "data": {
      "text/plain": [
       "Dict{String, Array} with 5 entries:\n",
       "  \"idx\"         => [0, 5, 13, 23, 34, 47, 52, 57, 62, 67  …  1077, 1099, 1121, …\n",
       "  \"cls_m\"       => [0.000229969 7.55142e-5 … 3.71104e-10 3.14893e-10]\n",
       "  \"err\"         => [5.919e-5, 1.57008e-5, 6.64192e-6, 3.82552e-6, 2.56294e-6, 2…\n",
       "  \"cls_s\"       => [0.000216359 3.16836e-5 … 2.44088e-10 2.0759e-10]\n",
       "  \"data_vector\" => [0.000190242, 7.39128e-5, 4.26125e-5, 2.22966e-5, 2.17688e-5…"
      ]
     },
     "execution_count": 4,
     "metadata": {},
     "output_type": "execute_result"
    }
   ],
   "source": [
    "files = npzread(\"../data/FD/K1K_DELS_DESY1_eBOSS_CMBk_files.npz\")\n",
    "products = npzread(\"products.npz\")"
   ]
  },
  {
   "cell_type": "code",
   "execution_count": 3,
   "id": "003b7848",
   "metadata": {},
   "outputs": [
    {
     "ename": "LoadError",
     "evalue": "UndefVarError: files not defined",
     "output_type": "error",
     "traceback": [
      "UndefVarError: files not defined",
      "",
      "Stacktrace:",
      " [1] top-level scope",
      "   @ ./In[3]:4",
      " [2] eval",
      "   @ ./boot.jl:373 [inlined]",
      " [3] include_string(mapexpr::typeof(REPL.softscope), mod::Module, code::String, filename::String)",
      "   @ Base ./loading.jl:1196"
     ]
    }
   ],
   "source": [
    "figure, axis = plt.subplots(5, figsize=(5,14))\n",
    "l = 1\n",
    "for i in 0:4\n",
    "    axis[i+1].errorbar(files[string(\"ls_1\", i, \"1\", i)], \n",
    "                     data[idx[l]:idx[l+1]-1], \n",
    "                     yerr=err[idx[l]:idx[l+1]-1], fmt=\"gs\", label=\"Data\")\n",
    "    axis[i+1].plot(files[string(\"ls_1\", i, \"1\", i)],\n",
    "                   cls_preds_m[idx[l]:idx[l+1]-1],\n",
    "                   \"bo-\", label=\"Preds\")\n",
    "    axis[i+1].fill_between(files[string(\"ls_1\", i, \"1\", i)],\n",
    "                   cls_preds_m[idx[l]:idx[l+1]-1].+cls_preds_s[idx[l]:idx[l+1]-1],\n",
    "                   cls_preds_m[idx[l]:idx[l+1]-1].-cls_preds_s[idx[l]:idx[l+1]-1],\n",
    "                   color=\"b\", alpha=.5)\n",
    "    axis[i+1].set_title(string(\"GC\", i, \"GC\", i))\n",
    "    l += 1\n",
    "end\n",
    "plt.legend()\n",
    "plt.show()\n",
    "print(l)"
   ]
  }
 ],
 "metadata": {
  "kernelspec": {
   "display_name": "Julia 1.7.1",
   "language": "julia",
   "name": "julia-1.7"
  },
  "language_info": {
   "file_extension": ".jl",
   "mimetype": "application/julia",
   "name": "julia",
   "version": "1.7.1"
  }
 },
 "nbformat": 4,
 "nbformat_minor": 5
}
