{
 "cells": [
  {
   "cell_type": "code",
   "execution_count": 1,
   "id": "84d0eb01",
   "metadata": {},
   "outputs": [],
   "source": [
    "using Zygote\n",
    "using OrdinaryDiffEq\n",
    "using Interpolations"
   ]
  },
  {
   "cell_type": "code",
   "execution_count": 2,
   "id": "36b87053",
   "metadata": {},
   "outputs": [],
   "source": [
    "struct CosmoPar{T}\n",
    "    Ωm::T\n",
    "    Ωb::T\n",
    "    h::T\n",
    "    n_s::T\n",
    "    σ8::T\n",
    "end\n",
    "\n",
    "mutable struct Settings\n",
    "    nz::Int\n",
    "    nz_pk::Int\n",
    "    nk::Int\n",
    "end"
   ]
  },
  {
   "cell_type": "code",
   "execution_count": 13,
   "id": "d0b6fc6d",
   "metadata": {},
   "outputs": [
    {
     "data": {
      "text/plain": [
       "cosmology (generic function with 1 method)"
      ]
     },
     "execution_count": 13,
     "metadata": {},
     "output_type": "execute_result"
    }
   ],
   "source": [
    "function _dgrowth!(dd, d, cosmo::CosmoPar, a)\n",
    "    ez = _Ez(cosmo, 1.0/a-1.0)\n",
    "    dd[1] = d[2] * 1.5 * cosmo.Ωm / (a^2*ez)\n",
    "    dd[2] = d[1] / (a^3*ez)\n",
    "end\n",
    "\n",
    "function _Ez(cosmo::CosmoPar, z)\n",
    "    E2 = @. (cosmo.Ωm*(1+z)^3+(1-cosmo.Ωm))\n",
    "    return sqrt.(E2)\n",
    "end\n",
    "\n",
    "function cosmology(Wm, s8, settings, z)\n",
    "    cpar = CosmoPar(Wm, 0.05, 0.67, 0.96, s8)\n",
    "    # Load settings\n",
    "    nk = settings.nk\n",
    "    nz = settings.nz\n",
    "    nz_pk = settings.nz_pk\n",
    "    zs_pk = LinRange(0., 3.0, nz_pk)\n",
    "    zs = LinRange(0., 3.0, nz)\n",
    "    # Compute linear power spectrum at z=0.\n",
    "    logk = range(log(0.0001), stop=log(7.0), length=nk)\n",
    "    ks = exp.(logk)\n",
    "    dlogk = log(ks[2]/ks[1])\n",
    "\n",
    "    z_ini = 1000.0\n",
    "    a_ini = 1.0/(1.0+z_ini)\n",
    "    ez_ini = _Ez(cpar, z_ini)\n",
    "    d0 = [a_ini^3*ez_ini, a_ini]\n",
    "    a_s = reverse(@. 1.0 / (1.0 + zs))\n",
    "    prob = ODEProblem(_dgrowth!, d0, (a_ini, 1.0), cpar)\n",
    "    sol = solve(prob, Tsit5(), reltol=1E-6,\n",
    "                abstol=1E-8, saveat=a_s)\n",
    "    # OPT: interpolation (see below), ODE method, tolerances\n",
    "    # Note that sol already includes some kind of interpolation,\n",
    "    # so it may be possible to optimize this by just using\n",
    "    # sol directly.\n",
    "    s = vcat(sol.u'...)\n",
    "    Dzs = reverse(s[:, 2] / s[end, 2])\n",
    "    # OPT: interpolation method\n",
    "    Dzi = LinearInterpolation(zs, Dzs)\n",
    "\n",
    "    return Dzs[2]\n",
    "end\n"
   ]
  },
  {
   "cell_type": "code",
   "execution_count": 14,
   "id": "3bc884ed",
   "metadata": {},
   "outputs": [
    {
     "data": {
      "text/plain": [
       "Settings(100, 100, 100)"
      ]
     },
     "execution_count": 14,
     "metadata": {},
     "output_type": "execute_result"
    }
   ],
   "source": [
    "settings = Settings(100, 100, 100)"
   ]
  },
  {
   "cell_type": "code",
   "execution_count": 15,
   "id": "67e9a971",
   "metadata": {},
   "outputs": [
    {
     "data": {
      "text/plain": [
       "0.9845408965169671"
      ]
     },
     "execution_count": 15,
     "metadata": {},
     "output_type": "execute_result"
    }
   ],
   "source": [
    "cosmology(0.3, 0.81, settings, 0.1)"
   ]
  },
  {
   "cell_type": "code",
   "execution_count": null,
   "id": "d2aaa704",
   "metadata": {},
   "outputs": [],
   "source": [
    "Zygote.gradient((Wm, s8) -> cosmology(Wm, s8, settings, 0.1), 0.3, 0.81)"
   ]
  },
  {
   "cell_type": "code",
   "execution_count": null,
   "id": "3a6013f9",
   "metadata": {},
   "outputs": [],
   "source": []
  }
 ],
 "metadata": {
  "kernelspec": {
   "display_name": "Julia 1.8.3",
   "language": "julia",
   "name": "julia-1.8"
  },
  "language_info": {
   "file_extension": ".jl",
   "mimetype": "application/julia",
   "name": "julia",
   "version": "1.8.3"
  }
 },
 "nbformat": 4,
 "nbformat_minor": 5
}
