{
 "cells": [
  {
   "cell_type": "code",
   "execution_count": 44,
   "id": "02df9ee7",
   "metadata": {},
   "outputs": [],
   "source": [
    "using Turing\n",
    "using LimberJack\n",
    "using LinearAlgebra\n",
    "using CSV\n",
    "using NPZ\n",
    "using YAML\n",
    "using ForwardDiff\n",
    "using BenchmarkTools;"
   ]
  },
  {
   "cell_type": "code",
   "execution_count": 67,
   "id": "9a3be2b4",
   "metadata": {},
   "outputs": [
    {
     "data": {
      "text/plain": [
       "\u001b[0m\u001b[1mPython module: \u001b[22m<module 'numpy' from '/home/jaimerz/PhD/LimberJack.jl/.CondaPkg/env/lib/python3.10/site-packages/numpy/__init__.py'>"
      ]
     },
     "execution_count": 67,
     "metadata": {},
     "output_type": "execute_result"
    }
   ],
   "source": [
    "using PythonCall\n",
    "sacc = pyimport(\"sacc\")\n",
    "np = pyimport(\"numpy\")"
   ]
  },
  {
   "cell_type": "code",
   "execution_count": 46,
   "id": "ec70eed2",
   "metadata": {},
   "outputs": [
    {
     "name": "stdout",
     "output_type": "stream",
     "text": [
      "DESgc__0 DESgc__0 5\n",
      "DESgc__1 DESgc__1 8\n",
      "DESgc__2 DESgc__2 10\n",
      "DESgc__3 DESgc__3 11\n",
      "DESgc__4 DESgc__4 13\n",
      "DESgc__0 DESwl__0 5\n",
      "DESgc__0 DESwl__1 5\n",
      "DESgc__0 DESwl__2 5\n",
      "DESgc__0 DESwl__3 5\n",
      "DESgc__1 DESwl__0 8\n",
      "DESgc__1 DESwl__1 8\n",
      "DESgc__1 DESwl__2 8\n",
      "DESgc__1 DESwl__3 8\n",
      "DESgc__2 DESwl__0 10\n",
      "DESgc__2 DESwl__1 10\n",
      "DESgc__2 DESwl__2 10\n",
      "DESgc__2 DESwl__3 10\n",
      "DESgc__3 DESwl__0 11\n",
      "DESgc__3 DESwl__1 11\n",
      "DESgc__3 DESwl__2 11\n",
      "DESgc__3 DESwl__3 11\n",
      "DESgc__4 DESwl__0 13\n",
      "DESgc__4 DESwl__1 13\n",
      "DESgc__4 DESwl__2 13\n",
      "DESgc__4 DESwl__3 13\n",
      "DESwl__0 DESwl__0 24\n",
      "DESwl__0 DESwl__1 24\n",
      "DESwl__0 DESwl__2 24\n",
      "DESwl__0 DESwl__3 24\n",
      "DESwl__1 DESwl__1 24\n",
      "DESwl__1 DESwl__2 24\n",
      "DESwl__1 DESwl__3 24\n",
      "DESwl__2 DESwl__2 24\n",
      "DESwl__2 DESwl__3 24\n",
      "DESwl__3 DESwl__3 24\n"
     ]
    }
   ],
   "source": [
    "np = pyimport(\"numpy\")\n",
    "\n",
    "fol = \"DESY1\"\n",
    "data_set = \"gcgc_gcwl_wlwl\"\n",
    "old_meta = np.load(string(\"../../data/\", fol, \"/\", data_set, \"_meta.npz\"))\n",
    "old_files = npzread(string(\"../../data/\", fol, \"/\", data_set, \"_files.npz\"))\n",
    "\n",
    "sacc_path = \"../../data/FD/cls_FD_covG.fits\" \n",
    "yaml_path = \"../../data/DESY1/gcgc_gcwl_wlwl.yml\"\n",
    "sacc_file = sacc.Sacc().load_fits(sacc_path)\n",
    "yaml_file = YAML.load_file(yaml_path)\n",
    "meta, files = make_data(sacc_file, yaml_file);"
   ]
  },
  {
   "cell_type": "code",
   "execution_count": 86,
   "id": "947fcf93",
   "metadata": {},
   "outputs": [
    {
     "ename": "LoadError",
     "evalue": "ArgumentError: cannot reinterpret `Vector{Float64}` as `UInt8`, type `Vector{Float64}` is not a bits type",
     "output_type": "error",
     "traceback": [
      "ArgumentError: cannot reinterpret `Vector{Float64}` as `UInt8`, type `Vector{Float64}` is not a bits type",
      "",
      "Stacktrace:",
      " [1] (::Base.var\"#throwbits#277\")(S::Type, T::Type, U::Type)",
      "   @ Base ./reinterpretarray.jl:16",
      " [2] reinterpret(#unused#::Type{UInt8}, a::Vector{Vector{Float64}})",
      "   @ Base ./reinterpretarray.jl:37",
      " [3] npzwritearray(f::ZipFile.WritableFile, x::Vector{Vector{Float64}})",
      "   @ NPZ ~/.julia/packages/NPZ/uRQRY/src/NPZ.jl:379",
      " [4] npzwrite(filename::String, vars::Dict{String, Any})",
      "   @ NPZ ~/.julia/packages/NPZ/uRQRY/src/NPZ.jl:456",
      " [5] top-level scope",
      "   @ In[86]:1",
      " [6] eval",
      "   @ ./boot.jl:373 [inlined]",
      " [7] include_string(mapexpr::typeof(REPL.softscope), mod::Module, code::String, filename::String)",
      "   @ Base ./loading.jl:1196"
     ]
    }
   ],
   "source": [
    "npzwrite(\"test_cls_files\", convert(Dict{String, Any}, files))"
   ]
  },
  {
   "cell_type": "code",
   "execution_count": 92,
   "id": "a0076838",
   "metadata": {},
   "outputs": [
    {
     "data": {
      "text/plain": [
       "400-element Vector{Float64}:\n",
       " 0.0\n",
       " 0.0\n",
       " 0.0\n",
       " 0.0\n",
       " 0.0\n",
       " 0.0\n",
       " 0.0\n",
       " 0.0\n",
       " 0.0\n",
       " 0.0\n",
       " 0.0\n",
       " 0.0017635287638797378\n",
       " 0.021866062223461404\n",
       " ⋮\n",
       " 0.0\n",
       " 0.0\n",
       " 0.0\n",
       " 0.0\n",
       " 0.0\n",
       " 0.0\n",
       " 0.0\n",
       " 0.0\n",
       " 0.0\n",
       " 0.0\n",
       " 0.0\n",
       " 0.0"
      ]
     },
     "execution_count": 92,
     "metadata": {},
     "output_type": "execute_result"
    }
   ],
   "source": [
    "old_files[\"nz_DESgc__0\"][2,:]"
   ]
  },
  {
   "cell_type": "code",
   "execution_count": 52,
   "id": "9681a686",
   "metadata": {},
   "outputs": [],
   "source": [
    "data_old = pyconvert(Vector{Float64}, old_meta[\"cls\"])\n",
    "inv_cov_old = Hermitian(pyconvert(Matrix{Float64}, old_meta[\"inv_cov\"]));"
   ]
  },
  {
   "cell_type": "code",
   "execution_count": 53,
   "id": "57fb0a36",
   "metadata": {},
   "outputs": [],
   "source": [
    "#       Omega_b,           Omega_c          n_s,                 h,\n",
    "#       DESgc__0_gc_b,     DESgc__1_gc_b,   DESgc__2_gc_b,    DESgc__3_gc_b,    DESgc__4_gc_b,\n",
    "#       DESgc__0_dz,      DESgc__1_dz,      DESgc__2_dz,      DESgc__3_dz,      DESgc__4_dz,\n",
    "#       wl_ia_A,          wl_ia_eta, \n",
    "#       DESwl__0_wl_m,    DESwl__1_wl_m,    DESwl__2_wl_m,    DESwl__3_wl_m,\n",
    "#       DESwl__0_dz,      DESwl__1_dz,      DESwl__2_dz,      DESwl__3_dz,\n",
    "#       sigma_8,          Omega_m\n",
    "pars = [4.426868e-02,     2.093138e-01,     8.963611e-01,     8.495440e-01,\n",
    "         1.343888e+00,    1.639047e+00,      1.597174e+00,     1.944583e+00,     2.007245e+00,\n",
    "        -4.679383e-03,   -2.839996e-03,      1.771571e-03,     1.197051e-03,    -5.199799e-03,\n",
    "         2.389208e-01,   -6.435288e-01, \n",
    "         1.802722e-03,   -5.508994e-03,     1.952514e-02,    -1.117726e-03,\n",
    "        -1.744083e-02,    6.777779e-03,    -1.097939e-03,    -4.912315e-03,\n",
    "         8.536883e-01,    2.535825e-01];"
   ]
  },
  {
   "cell_type": "code",
   "execution_count": 54,
   "id": "7d1a182c",
   "metadata": {},
   "outputs": [],
   "source": [
    "cls_carlos = npzread(\"../../chains/carlos_chains/cl_cross_corr_v3_DES_2/cl_cross_corr_bestfit_info.npz\");\n",
    "cls_carlos2 = npzread(\"../../chains/carlos_chains/cl_cross_corr_v3_DES_2/cl_cross_corr_bestfit_info_nointerp.npz\");\n",
    "cls_carlos3 = npzread(\"../../chains/carlos_chains/cl_cross_corr_v3_DES_2/cl_cross_corr_bestfit_info_nointerp_EH.npz\");\n",
    "cls_carlos4 = npzread(\"../../chains/carlos_chains/cl_cross_corr_v3_DES_2/cl_cross_corr_bestfit_info_nointerp_EH_noconv.npz\");"
   ]
  },
  {
   "cell_type": "code",
   "execution_count": 55,
   "id": "f85b294e",
   "metadata": {},
   "outputs": [],
   "source": [
    "npzwrite(\"test_cls.npz\", Dict(\"cls\"=>cls_carlos4[\"cls\"]))"
   ]
  },
  {
   "cell_type": "code",
   "execution_count": 56,
   "id": "417c990f",
   "metadata": {},
   "outputs": [],
   "source": [
    "nuisances = Dict(\"DESgc__0_b\" => pars[5],\n",
    "                 \"DESgc__1_b\" => pars[6],\n",
    "                 \"DESgc__2_b\" => pars[7],\n",
    "                 \"DESgc__3_b\" => pars[8],\n",
    "                 \"DESgc__4_b\" => pars[9],\n",
    "                 \"DESgc__0_dz\" => pars[10],\n",
    "                 \"DESgc__1_dz\" => pars[11],\n",
    "                 \"DESgc__2_dz\" => pars[12],\n",
    "                 \"DESgc__3_dz\" => pars[13],\n",
    "                 \"DESgc__4_dz\" => pars[14],\n",
    "\n",
    "                 \"A_IA\" => pars[15],\n",
    "                 \"alpha_IA\" => pars[16],\n",
    "\n",
    "                 \"DESwl__0_dz\" => pars[21],\n",
    "                 \"DESwl__1_dz\" => pars[22],\n",
    "                 \"DESwl__2_dz\" => pars[23],\n",
    "                 \"DESwl__3_dz\" => pars[24],\n",
    "                 \"DESwl__0_m\" => pars[17],\n",
    "                 \"DESwl__1_m\" => pars[18],\n",
    "                 \"DESwl__2_m\" => pars[19],\n",
    "                 \"DESwl__3_m\" => pars[20]);"
   ]
  },
  {
   "cell_type": "code",
   "execution_count": 58,
   "id": "81b7ac69",
   "metadata": {},
   "outputs": [
    {
     "data": {
      "text/plain": [
       "make_cls (generic function with 1 method)"
      ]
     },
     "execution_count": 58,
     "metadata": {},
     "output_type": "execute_result"
    }
   ],
   "source": [
    "function make_cls(Ωm, s8; mode=\"EisHu\", nuisances=nuisances)\n",
    "\n",
    "    Ωb = pars[1]\n",
    "    h = pars[4]\n",
    "    ns = pars[3]\n",
    "\n",
    "    cosmology = LimberJack.Cosmology(Ωm, Ωb, h, ns, s8, \n",
    "                                     tk_mode=mode,\n",
    "                                    Pk_mode=\"Halofit\",\n",
    "                                    emul_path=\"../../emulator/files.npz\")\n",
    "\n",
    "    return Theory(cosmology, meta, old_files;\n",
    "                  Nuisances=nuisances)\n",
    "\n",
    "end"
   ]
  },
  {
   "cell_type": "code",
   "execution_count": 59,
   "id": "92ffe919",
   "metadata": {
    "scrolled": true
   },
   "outputs": [
    {
     "ename": "LoadError",
     "evalue": "MethodError: no method matching cubic_spline_interpolation(::StepRangeLen{Float64, Base.TwicePrecision{Float64}, Base.TwicePrecision{Float64}, Int64}, ::Float64; extrapolation_bc=0)\n\u001b[0mClosest candidates are:\n\u001b[0m  cubic_spline_interpolation(::AbstractRange, \u001b[91m::AbstractVector\u001b[39m; bc, extrapolation_bc) at ~/.julia/packages/Interpolations/jPlKV/src/convenience-constructors.jl:12",
     "output_type": "error",
     "traceback": [
      "MethodError: no method matching cubic_spline_interpolation(::StepRangeLen{Float64, Base.TwicePrecision{Float64}, Base.TwicePrecision{Float64}, Int64}, ::Float64; extrapolation_bc=0)\n\u001b[0mClosest candidates are:\n\u001b[0m  cubic_spline_interpolation(::AbstractRange, \u001b[91m::AbstractVector\u001b[39m; bc, extrapolation_bc) at ~/.julia/packages/Interpolations/jPlKV/src/convenience-constructors.jl:12",
      "",
      "Stacktrace:",
      " [1] NumberCountsTracer(cosmo::Cosmology, z_n::Float64, nz::Float64; kwargs::Base.Pairs{Symbol, Float64, Tuple{Symbol}, NamedTuple{(:b,), Tuple{Float64}}})",
      "   @ LimberJack ~/PhD/LimberJack.jl/src/tracers.jl:32",
      " [2] Theory(cosmology::Cosmology, names::Vector{String}, types::Vector{String}, pairs::Vector{Any}, idx::Vector{Int64}, files::Dict{String, Array{Float64}}; Nuisances::Dict{String, Float64})",
      "   @ LimberJack ~/PhD/LimberJack.jl/src/turing_utils.jl:32",
      " [3] Theory(cosmology::Cosmology, instructions::LimberJack.Meta, files::Dict{String, Array{Float64}}; Nuisances::Dict{String, Float64})",
      "   @ LimberJack ~/PhD/LimberJack.jl/src/turing_utils.jl:78",
      " [4] make_cls(Ωm::Float64, s8::Float64; mode::String, nuisances::Dict{String, Float64})",
      "   @ Main ./In[58]:12",
      " [5] make_cls(Ωm::Float64, s8::Float64)",
      "   @ Main ./In[58]:3",
      " [6] top-level scope",
      "   @ In[59]:1",
      " [7] eval",
      "   @ ./boot.jl:373 [inlined]",
      " [8] include_string(mapexpr::typeof(REPL.softscope), mod::Module, code::String, filename::String)",
      "   @ Base ./loading.jl:1196"
     ]
    }
   ],
   "source": [
    "cls_jaime1 = make_cls(pars[end], pars[end-1]);\n",
    "cls_jaime2 = make_cls(pars[end], pars[end-1];\n",
    "                      mode=\"emulator\");"
   ]
  },
  {
   "cell_type": "code",
   "execution_count": 60,
   "id": "31cc78f6",
   "metadata": {},
   "outputs": [],
   "source": [
    "npzwrite(\"jaime_cls.npz\", Dict(\"DESY1_cls_EisHu\" => cls_jaime1,\n",
    "                               \"DESY1_cls_emul\" => cls_jaime2))"
   ]
  },
  {
   "cell_type": "code",
   "execution_count": 21,
   "id": "8b5275bf",
   "metadata": {},
   "outputs": [
    {
     "name": "stdout",
     "output_type": "stream",
     "text": [
      "Mean discrepancy default          0.022678894917215305\n",
      "Mean discrepancy default          0.03273133474055787\n",
      "Mean discrepancy no itp           0.018845935497896715\n",
      "Mean discrepancy no itp+EH        0.01276471256670563\n",
      "Mean discrepancy no itp+EH+noconv 0.008015801342369762\n"
     ]
    }
   ],
   "source": [
    "compa1 = @. abs(cls_carlos[\"cls\"]-cls_jaime1)/cls_carlos[\"cls\"];\n",
    "compa12 = @. abs(cls_carlos[\"cls\"]-cls_jaime2)/cls_carlos[\"cls\"];\n",
    "compa2 = @. abs(cls_carlos2[\"cls\"]-cls_jaime1)/cls_carlos2[\"cls\"];\n",
    "compa3 = @. abs(cls_carlos3[\"cls\"]-cls_jaime1)/cls_carlos3[\"cls\"];\n",
    "compa4 = @. abs(cls_carlos4[\"cls\"]-cls_jaime1)/cls_carlos4[\"cls\"];\n",
    "\n",
    "println(\"Mean discrepancy default          \", mean(compa1))\n",
    "println(\"Mean discrepancy default          \", mean(compa12))\n",
    "println(\"Mean discrepancy no itp           \", mean(compa2))\n",
    "println(\"Mean discrepancy no itp+EH        \", mean(compa3))\n",
    "println(\"Mean discrepancy no itp+EH+noconv \", mean(compa4))"
   ]
  },
  {
   "cell_type": "code",
   "execution_count": 39,
   "id": "b7f95b01",
   "metadata": {},
   "outputs": [
    {
     "data": {
      "text/plain": [
       "0.0027658583068866016"
      ]
     },
     "execution_count": 39,
     "metadata": {},
     "output_type": "execute_result"
    }
   ],
   "source": [
    "median(compa4)"
   ]
  },
  {
   "cell_type": "code",
   "execution_count": 22,
   "id": "b2c1075a",
   "metadata": {},
   "outputs": [
    {
     "name": "stdout",
     "output_type": "stream",
     "text": [
      "495.62231927779936\n",
      "495.00947244084654\n",
      "495.89420547809317\n",
      "497.2051355000593\n"
     ]
    }
   ],
   "source": [
    "chi2_carlos = cls_carlos[\"chi2_nolp\"]\n",
    "chi2_carlos2 = cls_carlos2[\"chi2_nolp\"]\n",
    "chi2_carlos3 = cls_carlos3[\"chi2_nolp\"]\n",
    "chi2_carlos4 = cls_carlos4[\"chi2_nolp\"]\n",
    "println(chi2_carlos)\n",
    "println(chi2_carlos2)\n",
    "println(chi2_carlos3)\n",
    "println(chi2_carlos4)"
   ]
  },
  {
   "cell_type": "code",
   "execution_count": 14,
   "id": "c88c3ef3",
   "metadata": {},
   "outputs": [
    {
     "data": {
      "text/plain": [
       "512.4810406196506"
      ]
     },
     "execution_count": 14,
     "metadata": {},
     "output_type": "execute_result"
    }
   ],
   "source": [
    "chi2_jaime1 = dot((cls_jaime1 .- meta.data), meta.inv_cov  * (cls_jaime1 .- meta.data))"
   ]
  },
  {
   "cell_type": "code",
   "execution_count": 15,
   "id": "6843ba75",
   "metadata": {},
   "outputs": [
    {
     "data": {
      "text/plain": [
       "526.1253362365111"
      ]
     },
     "execution_count": 15,
     "metadata": {},
     "output_type": "execute_result"
    }
   ],
   "source": [
    "chi2_jaime2 = dot((cls_jaime2 .- data_old), inv_cov_old  * (cls_jaime2 .- data_old))"
   ]
  },
  {
   "cell_type": "code",
   "execution_count": 16,
   "id": "e15bf5c5",
   "metadata": {},
   "outputs": [
    {
     "data": {
      "text/plain": [
       "0.030723546538246528"
      ]
     },
     "execution_count": 16,
     "metadata": {},
     "output_type": "execute_result"
    }
   ],
   "source": [
    "(chi2_jaime1-chi2_carlos4)/chi2_carlos4"
   ]
  },
  {
   "cell_type": "code",
   "execution_count": 16,
   "id": "32c85db8",
   "metadata": {},
   "outputs": [],
   "source": [
    "cls = [make_cls(rand(Uniform(0.2, 0.6)), rand(Uniform(0.6, 0.9))) for i in 1:1000];"
   ]
  },
  {
   "cell_type": "code",
   "execution_count": 14,
   "id": "698c6d0d",
   "metadata": {},
   "outputs": [],
   "source": [
    "cls_m = mean(cls)\n",
    "cls_s = std(cls)\n",
    "npzwrite(\"DES_jaime_cls.npz\", Dict(\"cls_best\" => make_cls(pars[end], pars[end-1]),\n",
    "                               \"cls_m\" => cls_m,\n",
    "                               \"cls_s\" => cls_s))"
   ]
  },
  {
   "cell_type": "markdown",
   "id": "3dcf3e15",
   "metadata": {
    "heading_collapsed": true
   },
   "source": [
    "## plot lkl"
   ]
  },
  {
   "cell_type": "code",
   "execution_count": 13,
   "id": "84e2d337",
   "metadata": {
    "hidden": true
   },
   "outputs": [
    {
     "data": {
      "text/plain": [
       "make_Xi (generic function with 1 method)"
      ]
     },
     "execution_count": 13,
     "metadata": {},
     "output_type": "execute_result"
    }
   ],
   "source": [
    "#using Plots\n",
    "function make_Xi(Ωm, s8;\n",
    "                 pars=pars, mode=\"EisHu\", nuisances=nuisances, \n",
    "                 data=meta.data, inv_cov=meta.inv_cov)\n",
    "    Ωb = pars[1]\n",
    "    h = pars[4]\n",
    "    ns = pars[3]\n",
    "    cosmology = LimberJack.Cosmology(Ωm, Ωb, h, ns, s8, \n",
    "                                     tk_mode=mode,\n",
    "                                     Pk_mode=\"Halofit\",\n",
    "                                     emul_path=\"../../emulator/files.npz\")\n",
    "\n",
    "    theory = Theory(cosmology, meta, files;\n",
    "                    Nuisances=nuisances)\n",
    "    return dot((theory .- data), inv_cov  * (theory .- data))\n",
    "end"
   ]
  },
  {
   "cell_type": "code",
   "execution_count": 14,
   "id": "bae23a9a",
   "metadata": {
    "hidden": true
   },
   "outputs": [
    {
     "data": {
      "text/plain": [
       "30-element LinRange{Float64, Int64}:\n",
       " 0.6,0.610345,0.62069,0.631034,0.641379,…,0.868966,0.87931,0.889655,0.9"
      ]
     },
     "execution_count": 14,
     "metadata": {},
     "output_type": "execute_result"
    }
   ],
   "source": [
    "Ωms = LinRange(0.2, 0.6, 30)\n",
    "s8s = LinRange(0.6, 0.9, 30)"
   ]
  },
  {
   "cell_type": "code",
   "execution_count": 15,
   "id": "291c8884",
   "metadata": {
    "hidden": true
   },
   "outputs": [],
   "source": [
    "Xi2s = zeros(length(Ωms), length(s8s))\n",
    "for i in 1:length(Ωms)\n",
    "    for j in 1:length(s8s)\n",
    "        Xi2s[i, j] = make_Xi(Ωms[i], s8s[j])\n",
    "    end\n",
    "end"
   ]
  },
  {
   "cell_type": "code",
   "execution_count": 16,
   "id": "f499fd12",
   "metadata": {
    "hidden": true
   },
   "outputs": [
    {
     "ename": "LoadError",
     "evalue": "UndefVarError: old_inv_cov not defined",
     "output_type": "error",
     "traceback": [
      "UndefVarError: old_inv_cov not defined",
      "",
      "Stacktrace:",
      " [1] top-level scope",
      "   @ ./In[16]:4",
      " [2] eval",
      "   @ ./boot.jl:373 [inlined]",
      " [3] include_string(mapexpr::typeof(REPL.softscope), mod::Module, code::String, filename::String)",
      "   @ Base ./loading.jl:1196"
     ]
    }
   ],
   "source": [
    "Xi2s_old = zeros(length(Ωms), length(s8s))\n",
    "for i in 1:length(Ωms)\n",
    "    for j in 1:length(s8s)\n",
    "        Xi2s_old[i, j] = make_Xi(Ωms[i], s8s[j];\n",
    "                                 inv_cov=old_inv_cov)\n",
    "    end\n",
    "end"
   ]
  },
  {
   "cell_type": "code",
   "execution_count": 17,
   "id": "ae4c7078",
   "metadata": {
    "hidden": true
   },
   "outputs": [],
   "source": [
    "npzwrite(\"DES_jaime_Xi2s.npz\", Dict(\"Xi2s\" =>Xi2s, \"Xi2s_old\" =>Xi2s_old))"
   ]
  },
  {
   "cell_type": "markdown",
   "id": "7551813f",
   "metadata": {},
   "source": [
    "# Turing model"
   ]
  },
  {
   "cell_type": "code",
   "execution_count": 25,
   "id": "7325f732",
   "metadata": {},
   "outputs": [],
   "source": [
    "@model function model(data_vector;\n",
    "                      tracers_names=tracers_names,\n",
    "                      pairs=pairs,\n",
    "                      idx=idx,\n",
    "                      cov_tot=cov_tot, \n",
    "                      files=files)\n",
    "    \n",
    "    #DESY1 priors\n",
    "    Ωm ~ Uniform(0.1, 0.6)\n",
    "    Ωb = 0.05 #~ Uniform(0.03, 0.045)\n",
    "    h  = 0.67 #~ Uniform(0.60, 0.91)\n",
    "    ns = 0.96 #~ Uniform(0.87, 1.07)\n",
    "    s8 = 0.811 #~ Uniform(0.6, 0.9)\n",
    "    \n",
    "    cosmology = LimberJack.Cosmology(Ωm, Ωb, h, ns, s8,\n",
    "                                     tk_mode=\"EisHu\",\n",
    "                                     Pk_mode=\"Halofit\")\n",
    "    \n",
    "    theory = Theory(cosmology, tracers_names, pairs, idx, files)\n",
    "    data_vector ~ MvNormal(theory, cov_tot)\n",
    "end;"
   ]
  },
  {
   "cell_type": "code",
   "execution_count": 26,
   "id": "4a0dba7f",
   "metadata": {},
   "outputs": [],
   "source": [
    "iterations = 300\n",
    "nadapts = 100;"
   ]
  },
  {
   "cell_type": "code",
   "execution_count": 27,
   "id": "54da0b16",
   "metadata": {},
   "outputs": [
    {
     "ename": "LoadError",
     "evalue": "UndefVarError: data_vector not defined",
     "output_type": "error",
     "traceback": [
      "UndefVarError: data_vector not defined",
      "",
      "Stacktrace:",
      " [1] top-level scope",
      "   @ In[27]:1",
      " [2] eval",
      "   @ ./boot.jl:373 [inlined]",
      " [3] include_string(mapexpr::typeof(REPL.softscope), mod::Module, code::String, filename::String)",
      "   @ Base ./loading.jl:1196"
     ]
    }
   ],
   "source": [
    "chain3 = sample(model(data_vector), DynamicNUTS(), iterations,\n",
    "                progress=true; save_state=true);"
   ]
  },
  {
   "cell_type": "code",
   "execution_count": 28,
   "id": "e022fe63",
   "metadata": {},
   "outputs": [
    {
     "ename": "LoadError",
     "evalue": "UndefVarError: chain3 not defined",
     "output_type": "error",
     "traceback": [
      "UndefVarError: chain3 not defined",
      "",
      "Stacktrace:",
      " [1] top-level scope",
      "   @ :0",
      " [2] eval",
      "   @ ./boot.jl:373 [inlined]",
      " [3] include_string(mapexpr::typeof(REPL.softscope), mod::Module, code::String, filename::String)",
      "   @ Base ./loading.jl:1196"
     ]
    }
   ],
   "source": [
    "chain3"
   ]
  },
  {
   "cell_type": "code",
   "execution_count": 29,
   "id": "64abea06",
   "metadata": {},
   "outputs": [
    {
     "ename": "LoadError",
     "evalue": "UndefVarError: data_vector not defined",
     "output_type": "error",
     "traceback": [
      "UndefVarError: data_vector not defined",
      "",
      "Stacktrace:",
      " [1] top-level scope",
      "   @ In[29]:1",
      " [2] eval",
      "   @ ./boot.jl:373 [inlined]",
      " [3] include_string(mapexpr::typeof(REPL.softscope), mod::Module, code::String, filename::String)",
      "   @ Base ./loading.jl:1196"
     ]
    }
   ],
   "source": [
    "chain1 = sample(model(data_vector), MH(), iterations,\n",
    "            nadapt=nadapts, progress=true; save_state=true);"
   ]
  },
  {
   "cell_type": "code",
   "execution_count": null,
   "id": "a94c9c61",
   "metadata": {},
   "outputs": [],
   "source": []
  }
 ],
 "metadata": {
  "kernelspec": {
   "display_name": "Julia 1.7.1",
   "language": "julia",
   "name": "julia-1.7"
  },
  "language_info": {
   "file_extension": ".jl",
   "mimetype": "application/julia",
   "name": "julia",
   "version": "1.7.1"
  }
 },
 "nbformat": 4,
 "nbformat_minor": 5
}
