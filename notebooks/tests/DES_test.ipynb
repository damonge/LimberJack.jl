{
 "cells": [
  {
   "cell_type": "code",
   "execution_count": 19,
   "id": "02df9ee7",
   "metadata": {},
   "outputs": [],
   "source": [
    "using Turing\n",
    "using LimberJack\n",
    "using LinearAlgebra\n",
    "using CSV\n",
    "using NPZ\n",
    "using YAML\n",
    "using ForwardDiff\n",
    "using BenchmarkTools;"
   ]
  },
  {
   "cell_type": "code",
   "execution_count": 20,
   "id": "09e8c4e3",
   "metadata": {},
   "outputs": [
    {
     "data": {
      "text/plain": [
       "\u001b[0m\u001b[1mPython module: \u001b[22m<module 'numpy' from '/home/jaimerz/PhD/LimberJack.jl/.CondaPkg/env/lib/python3.10/site-packages/numpy/__init__.py'>"
      ]
     },
     "execution_count": 20,
     "metadata": {},
     "output_type": "execute_result"
    }
   ],
   "source": [
    "using PythonCall\n",
    "sacc = pyimport(\"sacc\")\n",
    "np = pyimport(\"numpy\")"
   ]
  },
  {
   "cell_type": "code",
   "execution_count": 21,
   "id": "ec70eed2",
   "metadata": {},
   "outputs": [
    {
     "name": "stdout",
     "output_type": "stream",
     "text": [
      "DESgc__0 DESgc__0 5\n",
      "DESgc__1 DESgc__1 8\n",
      "DESgc__2 DESgc__2 10\n",
      "DESgc__3 DESgc__3 11\n",
      "DESgc__4 DESgc__4 13\n",
      "DESgc__0 DESwl__0 5\n",
      "DESgc__0 DESwl__1 5\n",
      "DESgc__0 DESwl__2 5\n",
      "DESgc__0 DESwl__3 5\n",
      "DESgc__1 DESwl__0 8\n",
      "DESgc__1 DESwl__1 8\n",
      "DESgc__1 DESwl__2 8\n",
      "DESgc__1 DESwl__3 8\n",
      "DESgc__2 DESwl__0 10\n",
      "DESgc__2 DESwl__1 10\n",
      "DESgc__2 DESwl__2 10\n",
      "DESgc__2 DESwl__3 10\n",
      "DESgc__3 DESwl__0 11\n",
      "DESgc__3 DESwl__1 11\n",
      "DESgc__3 DESwl__2 11\n",
      "DESgc__3 DESwl__3 11\n",
      "DESgc__4 DESwl__0 13\n",
      "DESgc__4 DESwl__1 13\n",
      "DESgc__4 DESwl__2 13\n",
      "DESgc__4 DESwl__3 13\n",
      "DESwl__0 DESwl__0 24\n",
      "DESwl__0 DESwl__1 24\n",
      "DESwl__0 DESwl__2 24\n",
      "DESwl__0 DESwl__3 24\n",
      "DESwl__1 DESwl__1 24\n",
      "DESwl__1 DESwl__2 24\n",
      "DESwl__1 DESwl__3 24\n",
      "DESwl__2 DESwl__2 24\n",
      "DESwl__2 DESwl__3 24\n",
      "DESwl__3 DESwl__3 24\n"
     ]
    }
   ],
   "source": [
    "np = pyimport(\"numpy\")\n",
    "\n",
    "fol = \"DESY1\"\n",
    "data_set = \"gcgc_gcwl_wlwl\"\n",
    "old_meta = np.load(string(\"../../data/\", fol, \"/\", data_set, \"_meta.npz\"))\n",
    "old_files = npzread(string(\"../../data/\", fol, \"/\", data_set, \"_files.npz\"))\n",
    "\n",
    "sacc_path = \"../../data/FD/cls_FD_covG.fits\" \n",
    "yaml_path = \"../../data/DESY1/gcgc_gcwl_wlwl.yml\"\n",
    "sacc_file = sacc.Sacc().load_fits(sacc_path)\n",
    "yaml_file = YAML.load_file(yaml_path)\n",
    "meta, files = make_data(sacc_file, yaml_file);"
   ]
  },
  {
   "cell_type": "code",
   "execution_count": 22,
   "id": "7cea1697",
   "metadata": {},
   "outputs": [],
   "source": [
    "data_old = pyconvert(Vector{Float64}, old_meta[\"cls\"])\n",
    "inv_cov_old = Hermitian(pyconvert(Matrix{Float64}, old_meta[\"inv_cov\"]));"
   ]
  },
  {
   "cell_type": "code",
   "execution_count": 23,
   "id": "57fb0a36",
   "metadata": {},
   "outputs": [],
   "source": [
    "#       Omega_b,           Omega_c          n_s,                 h,\n",
    "#       DESgc__0_gc_b,     DESgc__1_gc_b,   DESgc__2_gc_b,    DESgc__3_gc_b,    DESgc__4_gc_b,\n",
    "#       DESgc__0_dz,      DESgc__1_dz,      DESgc__2_dz,      DESgc__3_dz,      DESgc__4_dz,\n",
    "#       wl_ia_A,          wl_ia_eta, \n",
    "#       DESwl__0_wl_m,    DESwl__1_wl_m,    DESwl__2_wl_m,    DESwl__3_wl_m,\n",
    "#       DESwl__0_dz,      DESwl__1_dz,      DESwl__2_dz,      DESwl__3_dz,\n",
    "#       sigma_8,          Omega_m\n",
    "pars = [4.426868e-02,     2.093138e-01,     8.963611e-01,     8.495440e-01,\n",
    "         1.343888e+00,    1.639047e+00,      1.597174e+00,     1.944583e+00,     2.007245e+00,\n",
    "        -4.679383e-03,   -2.839996e-03,      1.771571e-03,     1.197051e-03,    -5.199799e-03,\n",
    "         2.389208e-01,   -6.435288e-01, \n",
    "         1.802722e-03,   -5.508994e-03,     1.952514e-02,    -1.117726e-03,\n",
    "        -1.744083e-02,    6.777779e-03,    -1.097939e-03,    -4.912315e-03,\n",
    "         8.536883e-01,    2.535825e-01];"
   ]
  },
  {
   "cell_type": "code",
   "execution_count": 24,
   "id": "7d1a182c",
   "metadata": {},
   "outputs": [],
   "source": [
    "cls_carlos = npzread(\"../../chains/carlos_chains/cl_cross_corr_v3_DES_2/cl_cross_corr_bestfit_info.npz\");\n",
    "cls_carlos2 = npzread(\"../../chains/carlos_chains/cl_cross_corr_v3_DES_2/cl_cross_corr_bestfit_info_nointerp.npz\");\n",
    "cls_carlos3 = npzread(\"../../chains/carlos_chains/cl_cross_corr_v3_DES_2/cl_cross_corr_bestfit_info_nointerp_EH.npz\");\n",
    "cls_carlos4 = npzread(\"../../chains/carlos_chains/cl_cross_corr_v3_DES_2/cl_cross_corr_bestfit_info_nointerp_EH_noconv.npz\");"
   ]
  },
  {
   "cell_type": "code",
   "execution_count": 25,
   "id": "b6bf1fd4",
   "metadata": {},
   "outputs": [],
   "source": [
    "npzwrite(\"test_cls.npz\", Dict(\"cls\"=>cls_carlos4[\"cls\"]))"
   ]
  },
  {
   "cell_type": "code",
   "execution_count": 26,
   "id": "417c990f",
   "metadata": {},
   "outputs": [],
   "source": [
    "nuisances = Dict(\"DESgc__0_b\" => pars[5],\n",
    "                 \"DESgc__1_b\" => pars[6],\n",
    "                 \"DESgc__2_b\" => pars[7],\n",
    "                 \"DESgc__3_b\" => pars[8],\n",
    "                 \"DESgc__4_b\" => pars[9],\n",
    "                 \"DESgc__0_dz\" => pars[10],\n",
    "                 \"DESgc__1_dz\" => pars[11],\n",
    "                 \"DESgc__2_dz\" => pars[12],\n",
    "                 \"DESgc__3_dz\" => pars[13],\n",
    "                 \"DESgc__4_dz\" => pars[14],\n",
    "\n",
    "                 \"A_IA\" => pars[15],\n",
    "                 \"alpha_IA\" => pars[16],\n",
    "\n",
    "                 \"DESwl__0_dz\" => pars[21],\n",
    "                 \"DESwl__1_dz\" => pars[22],\n",
    "                 \"DESwl__2_dz\" => pars[23],\n",
    "                 \"DESwl__3_dz\" => pars[24],\n",
    "                 \"DESwl__0_m\" => pars[17],\n",
    "                 \"DESwl__1_m\" => pars[18],\n",
    "                 \"DESwl__2_m\" => pars[19],\n",
    "                 \"DESwl__3_m\" => pars[20]);"
   ]
  },
  {
   "cell_type": "code",
   "execution_count": 27,
   "id": "81b7ac69",
   "metadata": {},
   "outputs": [
    {
     "data": {
      "text/plain": [
       "make_cls (generic function with 1 method)"
      ]
     },
     "execution_count": 27,
     "metadata": {},
     "output_type": "execute_result"
    }
   ],
   "source": [
    "function make_cls(Ωm, s8; mode=\"EisHu\", nuisances=nuisances)\n",
    "\n",
    "    Ωb = pars[1]\n",
    "    h = pars[4]\n",
    "    ns = pars[3]\n",
    "\n",
    "    cosmology = LimberJack.Cosmology(Ωm, Ωb, h, ns, s8, \n",
    "                                     tk_mode=mode,\n",
    "                                    Pk_mode=\"Halofit\",\n",
    "                                    emul_path=\"../../emulator/files.npz\")\n",
    "\n",
    "    return Theory(cosmology, meta, old_files;\n",
    "                  Nuisances=nuisances)\n",
    "\n",
    "end"
   ]
  },
  {
   "cell_type": "code",
   "execution_count": 37,
   "id": "cfb58f5f",
   "metadata": {},
   "outputs": [],
   "source": [
    "using Interpolations"
   ]
  },
  {
   "cell_type": "code",
   "execution_count": 38,
   "id": "c6c71196",
   "metadata": {},
   "outputs": [
    {
     "ename": "LoadError",
     "evalue": "UndefVarError: linear_interpolation not defined",
     "output_type": "error",
     "traceback": [
      "UndefVarError: linear_interpolation not defined",
      "",
      "Stacktrace:",
      " [1] top-level scope",
      "   @ In[38]:1",
      " [2] eval",
      "   @ ./boot.jl:373 [inlined]",
      " [3] include_string(mapexpr::typeof(REPL.softscope), mod::Module, code::String, filename::String)",
      "   @ Base ./loading.jl:1196"
     ]
    }
   ],
   "source": []
  },
  {
   "cell_type": "code",
   "execution_count": 30,
   "id": "85657c40",
   "metadata": {
    "scrolled": true
   },
   "outputs": [
    {
     "ename": "LoadError",
     "evalue": "UndefVarError: cubic_spline_interpolation not defined",
     "output_type": "error",
     "traceback": [
      "UndefVarError: cubic_spline_interpolation not defined",
      "",
      "Stacktrace:",
      " [1] Cosmology(cpar::CosmoPar{Real}, settings::Settings)",
      "   @ LimberJack ~/PhD/LimberJack.jl/src/core.jl:229",
      " [2] Cosmology(Ωm::Float64, Ωb::Float64, h::Float64, n_s::Float64, σ8::Float64; θCMB::Float64, nk::Int64, nz::Int64, nz_pk::Int64, nz_t::Int64, tk_mode::String, Pk_mode::String, emul_path::String, custom_Dz::Nothing)",
      "   @ LimberJack ~/PhD/LimberJack.jl/src/core.jl:358",
      " [3] make_cls(Ωm::Float64, s8::Float64; mode::String, nuisances::Dict{String, Float64})",
      "   @ Main ./In[27]:7",
      " [4] make_cls(Ωm::Float64, s8::Float64)",
      "   @ Main ./In[27]:3",
      " [5] top-level scope",
      "   @ In[30]:1",
      " [6] eval",
      "   @ ./boot.jl:373 [inlined]",
      " [7] include_string(mapexpr::typeof(REPL.softscope), mod::Module, code::String, filename::String)",
      "   @ Base ./loading.jl:1196"
     ]
    }
   ],
   "source": [
    "cls_jaime1 = make_cls(pars[end], pars[end-1]);\n",
    "cls_jaime2 = make_cls(pars[end], pars[end-1];\n",
    "                      mode=\"emulator\");"
   ]
  },
  {
   "cell_type": "code",
   "execution_count": 13,
   "id": "a29af1ba",
   "metadata": {},
   "outputs": [
    {
     "ename": "LoadError",
     "evalue": "UndefVarError: cls_jaime1 not defined",
     "output_type": "error",
     "traceback": [
      "UndefVarError: cls_jaime1 not defined",
      "",
      "Stacktrace:",
      " [1] top-level scope",
      "   @ In[13]:1",
      " [2] eval",
      "   @ ./boot.jl:373 [inlined]",
      " [3] include_string(mapexpr::typeof(REPL.softscope), mod::Module, code::String, filename::String)",
      "   @ Base ./loading.jl:1196"
     ]
    }
   ],
   "source": [
    "npzwrite(\"jaime_cls.npz\", Dict(\"DESY1_cls_EisHu\" => cls_jaime1,\n",
    "                               \"DESY1_cls_emul\" => cls_jaime2))"
   ]
  },
  {
   "cell_type": "code",
   "execution_count": 14,
   "id": "75a5342d",
   "metadata": {},
   "outputs": [
    {
     "ename": "LoadError",
     "evalue": "UndefVarError: cls_jaime1 not defined",
     "output_type": "error",
     "traceback": [
      "UndefVarError: cls_jaime1 not defined",
      "",
      "Stacktrace:",
      " [1] top-level scope",
      "   @ In[14]:1",
      " [2] eval",
      "   @ ./boot.jl:373 [inlined]",
      " [3] include_string(mapexpr::typeof(REPL.softscope), mod::Module, code::String, filename::String)",
      "   @ Base ./loading.jl:1196"
     ]
    }
   ],
   "source": [
    "compa1 = @. abs(cls_carlos[\"cls\"]-cls_jaime1)/cls_carlos[\"cls\"];\n",
    "compa12 = @. abs(cls_carlos[\"cls\"]-cls_jaime2)/cls_carlos[\"cls\"];\n",
    "compa2 = @. abs(cls_carlos2[\"cls\"]-cls_jaime1)/cls_carlos2[\"cls\"];\n",
    "compa3 = @. abs(cls_carlos3[\"cls\"]-cls_jaime1)/cls_carlos3[\"cls\"];\n",
    "compa4 = @. abs(cls_carlos4[\"cls\"]-cls_jaime1)/cls_carlos4[\"cls\"];\n",
    "\n",
    "println(\"Mean discrepancy default          \", mean(compa1))\n",
    "println(\"Mean discrepancy default          \", mean(compa12))\n",
    "println(\"Mean discrepancy no itp           \", mean(compa2))\n",
    "println(\"Mean discrepancy no itp+EH        \", mean(compa3))\n",
    "println(\"Mean discrepancy no itp+EH+noconv \", mean(compa4))"
   ]
  },
  {
   "cell_type": "code",
   "execution_count": 15,
   "id": "bcb48c7f",
   "metadata": {},
   "outputs": [
    {
     "ename": "LoadError",
     "evalue": "UndefVarError: compa4 not defined",
     "output_type": "error",
     "traceback": [
      "UndefVarError: compa4 not defined",
      "",
      "Stacktrace:",
      " [1] top-level scope",
      "   @ In[15]:1",
      " [2] eval",
      "   @ ./boot.jl:373 [inlined]",
      " [3] include_string(mapexpr::typeof(REPL.softscope), mod::Module, code::String, filename::String)",
      "   @ Base ./loading.jl:1196"
     ]
    }
   ],
   "source": [
    "median(compa4)"
   ]
  },
  {
   "cell_type": "code",
   "execution_count": 16,
   "id": "6a6fb0af",
   "metadata": {},
   "outputs": [
    {
     "name": "stdout",
     "output_type": "stream",
     "text": [
      "495.62231927779936\n",
      "495.00947244084654\n",
      "495.89420547809317\n",
      "497.2051355000593\n"
     ]
    }
   ],
   "source": [
    "chi2_carlos = cls_carlos[\"chi2_nolp\"]\n",
    "chi2_carlos2 = cls_carlos2[\"chi2_nolp\"]\n",
    "chi2_carlos3 = cls_carlos3[\"chi2_nolp\"]\n",
    "chi2_carlos4 = cls_carlos4[\"chi2_nolp\"]\n",
    "println(chi2_carlos)\n",
    "println(chi2_carlos2)\n",
    "println(chi2_carlos3)\n",
    "println(chi2_carlos4)"
   ]
  },
  {
   "cell_type": "code",
   "execution_count": 17,
   "id": "d1ccd157",
   "metadata": {},
   "outputs": [
    {
     "ename": "LoadError",
     "evalue": "UndefVarError: cls_jaime1 not defined",
     "output_type": "error",
     "traceback": [
      "UndefVarError: cls_jaime1 not defined",
      "",
      "Stacktrace:",
      " [1] top-level scope",
      "   @ In[17]:1",
      " [2] eval",
      "   @ ./boot.jl:373 [inlined]",
      " [3] include_string(mapexpr::typeof(REPL.softscope), mod::Module, code::String, filename::String)",
      "   @ Base ./loading.jl:1196"
     ]
    }
   ],
   "source": [
    "chi2_jaime1 = dot((cls_jaime1 .- meta.data), meta.inv_cov  * (cls_jaime1 .- meta.data))"
   ]
  },
  {
   "cell_type": "code",
   "execution_count": 18,
   "id": "70520493",
   "metadata": {},
   "outputs": [
    {
     "ename": "LoadError",
     "evalue": "UndefVarError: cls_jaime2 not defined",
     "output_type": "error",
     "traceback": [
      "UndefVarError: cls_jaime2 not defined",
      "",
      "Stacktrace:",
      " [1] top-level scope",
      "   @ In[18]:1",
      " [2] eval",
      "   @ ./boot.jl:373 [inlined]",
      " [3] include_string(mapexpr::typeof(REPL.softscope), mod::Module, code::String, filename::String)",
      "   @ Base ./loading.jl:1196"
     ]
    }
   ],
   "source": [
    "chi2_jaime2 = dot((cls_jaime2 .- data_old), inv_cov_old  * (cls_jaime2 .- data_old))"
   ]
  },
  {
   "cell_type": "code",
   "execution_count": 16,
   "id": "3624d102",
   "metadata": {},
   "outputs": [
    {
     "data": {
      "text/plain": [
       "0.030723546538246528"
      ]
     },
     "execution_count": 16,
     "metadata": {},
     "output_type": "execute_result"
    }
   ],
   "source": [
    "(chi2_jaime1-chi2_carlos4)/chi2_carlos4"
   ]
  },
  {
   "cell_type": "code",
   "execution_count": 16,
   "id": "32c85db8",
   "metadata": {},
   "outputs": [],
   "source": [
    "cls = [make_cls(rand(Uniform(0.2, 0.6)), rand(Uniform(0.6, 0.9))) for i in 1:1000];"
   ]
  },
  {
   "cell_type": "code",
   "execution_count": 14,
   "id": "698c6d0d",
   "metadata": {},
   "outputs": [],
   "source": [
    "cls_m = mean(cls)\n",
    "cls_s = std(cls)\n",
    "npzwrite(\"DES_jaime_cls.npz\", Dict(\"cls_best\" => make_cls(pars[end], pars[end-1]),\n",
    "                               \"cls_m\" => cls_m,\n",
    "                               \"cls_s\" => cls_s))"
   ]
  },
  {
   "cell_type": "markdown",
   "id": "3dcf3e15",
   "metadata": {
    "heading_collapsed": true
   },
   "source": [
    "## plot lkl"
   ]
  },
  {
   "cell_type": "code",
   "execution_count": 13,
   "id": "84e2d337",
   "metadata": {
    "hidden": true
   },
   "outputs": [
    {
     "data": {
      "text/plain": [
       "make_Xi (generic function with 1 method)"
      ]
     },
     "execution_count": 13,
     "metadata": {},
     "output_type": "execute_result"
    }
   ],
   "source": [
    "#using Plots\n",
    "function make_Xi(Ωm, s8;\n",
    "                 pars=pars, mode=\"EisHu\", nuisances=nuisances, \n",
    "                 data=meta.data, inv_cov=meta.inv_cov)\n",
    "    Ωb = pars[1]\n",
    "    h = pars[4]\n",
    "    ns = pars[3]\n",
    "    cosmology = LimberJack.Cosmology(Ωm, Ωb, h, ns, s8, \n",
    "                                     tk_mode=mode,\n",
    "                                     Pk_mode=\"Halofit\",\n",
    "                                     emul_path=\"../../emulator/files.npz\")\n",
    "\n",
    "    theory = Theory(cosmology, meta, files;\n",
    "                    Nuisances=nuisances)\n",
    "    return dot((theory .- data), inv_cov  * (theory .- data))\n",
    "end"
   ]
  },
  {
   "cell_type": "code",
   "execution_count": 14,
   "id": "bae23a9a",
   "metadata": {
    "hidden": true
   },
   "outputs": [
    {
     "data": {
      "text/plain": [
       "30-element LinRange{Float64, Int64}:\n",
       " 0.6,0.610345,0.62069,0.631034,0.641379,…,0.868966,0.87931,0.889655,0.9"
      ]
     },
     "execution_count": 14,
     "metadata": {},
     "output_type": "execute_result"
    }
   ],
   "source": [
    "Ωms = LinRange(0.2, 0.6, 30)\n",
    "s8s = LinRange(0.6, 0.9, 30)"
   ]
  },
  {
   "cell_type": "code",
   "execution_count": 15,
   "id": "291c8884",
   "metadata": {
    "hidden": true
   },
   "outputs": [],
   "source": [
    "Xi2s = zeros(length(Ωms), length(s8s))\n",
    "for i in 1:length(Ωms)\n",
    "    for j in 1:length(s8s)\n",
    "        Xi2s[i, j] = make_Xi(Ωms[i], s8s[j])\n",
    "    end\n",
    "end"
   ]
  },
  {
   "cell_type": "code",
   "execution_count": 16,
   "id": "6c910caa",
   "metadata": {
    "hidden": true
   },
   "outputs": [
    {
     "ename": "LoadError",
     "evalue": "UndefVarError: old_inv_cov not defined",
     "output_type": "error",
     "traceback": [
      "UndefVarError: old_inv_cov not defined",
      "",
      "Stacktrace:",
      " [1] top-level scope",
      "   @ ./In[16]:4",
      " [2] eval",
      "   @ ./boot.jl:373 [inlined]",
      " [3] include_string(mapexpr::typeof(REPL.softscope), mod::Module, code::String, filename::String)",
      "   @ Base ./loading.jl:1196"
     ]
    }
   ],
   "source": [
    "Xi2s_old = zeros(length(Ωms), length(s8s))\n",
    "for i in 1:length(Ωms)\n",
    "    for j in 1:length(s8s)\n",
    "        Xi2s_old[i, j] = make_Xi(Ωms[i], s8s[j];\n",
    "                                 inv_cov=old_inv_cov)\n",
    "    end\n",
    "end"
   ]
  },
  {
   "cell_type": "code",
   "execution_count": 17,
   "id": "c32df37f",
   "metadata": {
    "hidden": true
   },
   "outputs": [],
   "source": [
    "npzwrite(\"DES_jaime_Xi2s.npz\", Dict(\"Xi2s\" =>Xi2s, \"Xi2s_old\" =>Xi2s_old))"
   ]
  },
  {
   "cell_type": "markdown",
   "id": "7551813f",
   "metadata": {},
   "source": [
    "# Turing model"
   ]
  },
  {
   "cell_type": "code",
   "execution_count": 25,
   "id": "7325f732",
   "metadata": {},
   "outputs": [],
   "source": [
    "@model function model(data_vector;\n",
    "                      tracers_names=tracers_names,\n",
    "                      pairs=pairs,\n",
    "                      idx=idx,\n",
    "                      cov_tot=cov_tot, \n",
    "                      files=files)\n",
    "    \n",
    "    #DESY1 priors\n",
    "    Ωm ~ Uniform(0.1, 0.6)\n",
    "    Ωb = 0.05 #~ Uniform(0.03, 0.045)\n",
    "    h  = 0.67 #~ Uniform(0.60, 0.91)\n",
    "    ns = 0.96 #~ Uniform(0.87, 1.07)\n",
    "    s8 = 0.811 #~ Uniform(0.6, 0.9)\n",
    "    \n",
    "    cosmology = LimberJack.Cosmology(Ωm, Ωb, h, ns, s8,\n",
    "                                     tk_mode=\"EisHu\",\n",
    "                                     Pk_mode=\"Halofit\")\n",
    "    \n",
    "    theory = Theory(cosmology, tracers_names, pairs, idx, files)\n",
    "    data_vector ~ MvNormal(theory, cov_tot)\n",
    "end;"
   ]
  },
  {
   "cell_type": "code",
   "execution_count": 26,
   "id": "4a0dba7f",
   "metadata": {},
   "outputs": [],
   "source": [
    "iterations = 300\n",
    "nadapts = 100;"
   ]
  },
  {
   "cell_type": "code",
   "execution_count": 27,
   "id": "54da0b16",
   "metadata": {},
   "outputs": [
    {
     "ename": "LoadError",
     "evalue": "UndefVarError: data_vector not defined",
     "output_type": "error",
     "traceback": [
      "UndefVarError: data_vector not defined",
      "",
      "Stacktrace:",
      " [1] top-level scope",
      "   @ In[27]:1",
      " [2] eval",
      "   @ ./boot.jl:373 [inlined]",
      " [3] include_string(mapexpr::typeof(REPL.softscope), mod::Module, code::String, filename::String)",
      "   @ Base ./loading.jl:1196"
     ]
    }
   ],
   "source": [
    "chain3 = sample(model(data_vector), DynamicNUTS(), iterations,\n",
    "                progress=true; save_state=true);"
   ]
  },
  {
   "cell_type": "code",
   "execution_count": 28,
   "id": "e022fe63",
   "metadata": {},
   "outputs": [
    {
     "ename": "LoadError",
     "evalue": "UndefVarError: chain3 not defined",
     "output_type": "error",
     "traceback": [
      "UndefVarError: chain3 not defined",
      "",
      "Stacktrace:",
      " [1] top-level scope",
      "   @ :0",
      " [2] eval",
      "   @ ./boot.jl:373 [inlined]",
      " [3] include_string(mapexpr::typeof(REPL.softscope), mod::Module, code::String, filename::String)",
      "   @ Base ./loading.jl:1196"
     ]
    }
   ],
   "source": [
    "chain3"
   ]
  },
  {
   "cell_type": "code",
   "execution_count": 29,
   "id": "64abea06",
   "metadata": {},
   "outputs": [
    {
     "ename": "LoadError",
     "evalue": "UndefVarError: data_vector not defined",
     "output_type": "error",
     "traceback": [
      "UndefVarError: data_vector not defined",
      "",
      "Stacktrace:",
      " [1] top-level scope",
      "   @ In[29]:1",
      " [2] eval",
      "   @ ./boot.jl:373 [inlined]",
      " [3] include_string(mapexpr::typeof(REPL.softscope), mod::Module, code::String, filename::String)",
      "   @ Base ./loading.jl:1196"
     ]
    }
   ],
   "source": [
    "chain1 = sample(model(data_vector), MH(), iterations,\n",
    "            nadapt=nadapts, progress=true; save_state=true);"
   ]
  },
  {
   "cell_type": "code",
   "execution_count": null,
   "id": "a94c9c61",
   "metadata": {},
   "outputs": [],
   "source": []
  }
 ],
 "metadata": {
  "kernelspec": {
   "display_name": "Julia 1.7.1",
   "language": "julia",
   "name": "julia-1.7"
  },
  "language_info": {
   "file_extension": ".jl",
   "mimetype": "application/julia",
   "name": "julia",
   "version": "1.7.1"
  }
 },
 "nbformat": 4,
 "nbformat_minor": 5
}
