{
 "cells": [
  {
   "cell_type": "code",
   "execution_count": 1,
   "id": "10e5764a",
   "metadata": {},
   "outputs": [
    {
     "name": "stderr",
     "output_type": "stream",
     "text": [
      "\u001b[32m\u001b[1m  Activating\u001b[22m\u001b[39m project at `~/Glamdring/LimberJack.jl`\n"
     ]
    }
   ],
   "source": [
    "using Pkg\n",
    "Pkg.activate(\".../../../../\")"
   ]
  },
  {
   "cell_type": "code",
   "execution_count": 2,
   "id": "02df9ee7",
   "metadata": {},
   "outputs": [
    {
     "data": {
      "text/plain": [
       "\u001b[0m\u001b[1mPython module: \u001b[22m<module 'sacc' from '/home/jaimerz/Glamdring/LimberJack.jl/.CondaPkg/env/lib/python3.11/site-packages/sacc/__init__.py'>"
      ]
     },
     "execution_count": 2,
     "metadata": {},
     "output_type": "execute_result"
    }
   ],
   "source": [
    "#using Turing\n",
    "using LimberJack\n",
    "using CSV\n",
    "using NPZ\n",
    "using YAML\n",
    "using LinearAlgebra\n",
    "using PythonCall\n",
    "using ForwardDiff\n",
    "using Plots\n",
    "np = pyimport(\"numpy\")\n",
    "sacc = pyimport(\"sacc\")"
   ]
  },
  {
   "cell_type": "markdown",
   "id": "6dbb0ba5",
   "metadata": {},
   "source": [
    "# Analytic Margninalization"
   ]
  },
  {
   "cell_type": "code",
   "execution_count": 3,
   "id": "9a104e2f",
   "metadata": {},
   "outputs": [
    {
     "data": {
      "text/plain": [
       "\u001b[0m\u001b[1mPython NpzFile: \u001b[22m<numpy.lib.npyio.NpzFile object at 0x7f571f65aad0>"
      ]
     },
     "execution_count": 3,
     "metadata": {},
     "output_type": "execute_result"
    }
   ],
   "source": [
    "sacc_path = \"/home/jaimerz/PhD/LimberJack.jl/data/FD/cls_FD_covG.fits\"\n",
    "wlwl_yaml_path = \"/home/jaimerz/PhD/LimberJack.jl/data/DESY1/wlwl.yml\"\n",
    "gcgc_yaml_path = \"/home/jaimerz/PhD/LimberJack.jl/data/DESY1/gcgc.yml\"\n",
    "nzs_path = \"/home/jaimerz/Glamdring/LimberJack.jl/data/DESY1/nzs/\"\n",
    "\n",
    "wlwl_sacc_file = sacc.Sacc().load_fits(sacc_path)\n",
    "gcgc_sacc_file = sacc.Sacc().load_fits(sacc_path)\n",
    "wlwl_yaml_file = YAML.load_file(wlwl_yaml_path)\n",
    "gcgc_yaml_file = YAML.load_file(gcgc_yaml_path)\n",
    "\n",
    "nz_DESwl__0 = np.load(string(nzs_path, \"nz_DESwl__0.npz\"))\n",
    "nz_DESwl__1 = np.load(string(nzs_path, \"nz_DESwl__1.npz\"))\n",
    "nz_DESwl__2 = np.load(string(nzs_path, \"nz_DESwl__2.npz\"))\n",
    "nz_DESwl__3 = np.load(string(nzs_path, \"nz_DESwl__3.npz\"))\n",
    "                \n",
    "nz_DESgc__0 = np.load(string(nzs_path, \"nz_DESgc__0.npz\"))\n",
    "nz_DESgc__1 = np.load(string(nzs_path, \"nz_DESgc__1.npz\"))\n",
    "nz_DESgc__2 = np.load(string(nzs_path, \"nz_DESgc__2.npz\"))\n",
    "nz_DESgc__3 = np.load(string(nzs_path, \"nz_DESgc__3.npz\"))\n",
    "nz_DESgc__4 = np.load(string(nzs_path, \"nz_DESgc__4.npz\"))                "
   ]
  },
  {
   "cell_type": "code",
   "execution_count": 4,
   "id": "253abca5",
   "metadata": {},
   "outputs": [
    {
     "name": "stdout",
     "output_type": "stream",
     "text": [
      "DESgc__0 DESgc__0 5\n",
      "DESgc__1 DESgc__1 8\n",
      "DESgc__2 DESgc__2 10\n",
      "DESgc__3 DESgc__3 11\n",
      "DESgc__4 DESgc__4 13\n",
      "using custom nz for nz_DESgc__0\n",
      "using custom nz for nz_DESgc__1\n",
      "using custom nz for nz_DESgc__2\n",
      "using custom nz for nz_DESgc__3\n",
      "using custom nz for nz_DESgc__4\n"
     ]
    }
   ],
   "source": [
    "gcgc_meta, gcgc_files = make_data(gcgc_sacc_file, gcgc_yaml_file;\n",
    "                                  nz_DESgc__0=nz_DESgc__0,\n",
    "                                  nz_DESgc__1=nz_DESgc__1,\n",
    "                                  nz_DESgc__2=nz_DESgc__2,\n",
    "                                  nz_DESgc__3=nz_DESgc__3,\n",
    "                                  nz_DESgc__4=nz_DESgc__4);"
   ]
  },
  {
   "cell_type": "code",
   "execution_count": 5,
   "id": "6dfa6cc5",
   "metadata": {},
   "outputs": [
    {
     "name": "stdout",
     "output_type": "stream",
     "text": [
      "DESwl__0 DESwl__0 24\n",
      "DESwl__0 DESwl__1 24\n",
      "DESwl__0 DESwl__2 24\n",
      "DESwl__0 DESwl__3 24\n",
      "DESwl__1 DESwl__1 24\n",
      "DESwl__1 DESwl__2 24\n",
      "DESwl__1 DESwl__3 24\n",
      "DESwl__2 DESwl__2 24\n",
      "DESwl__2 DESwl__3 24\n",
      "DESwl__3 DESwl__3 24\n",
      "using custom nz for nz_DESwl__0\n",
      "using custom nz for nz_DESwl__1\n",
      "using custom nz for nz_DESwl__2\n",
      "using custom nz for nz_DESwl__3\n"
     ]
    }
   ],
   "source": [
    "wlwl_meta, wlwl_files = make_data(wlwl_sacc_file, wlwl_yaml_file;\n",
    "                                  nz_DESwl__0=nz_DESwl__0,\n",
    "                                  nz_DESwl__1=nz_DESwl__1,\n",
    "                                  nz_DESwl__2=nz_DESwl__2,\n",
    "                                  nz_DESwl__3=nz_DESwl__3);"
   ]
  },
  {
   "cell_type": "markdown",
   "id": "f9417557",
   "metadata": {},
   "source": [
    "## T-Matrices wlwl"
   ]
  },
  {
   "cell_type": "code",
   "execution_count": 6,
   "id": "61096a4b",
   "metadata": {},
   "outputs": [],
   "source": [
    "function model_cov_dz(x; meta=wlwl_meta, files=wlwl_files, cosmo=cosmo) \n",
    "\n",
    "    #cosmology.settings.cosmo_type = Real\n",
    "    nuisances = Dict(\"A_IA\" => 0,\n",
    "                     \"alpha_IA\" => 0,\n",
    "\n",
    "                     \"DESwl__0_dz\" => x[1],\n",
    "                     \"DESwl__1_dz\" => x[2],\n",
    "                     \"DESwl__2_dz\" => x[3],\n",
    "                     \"DESwl__3_dz\" => x[4],\n",
    "        \n",
    "                     \"DESwl__0_m\" => 0.012,\n",
    "                     \"DESwl__1_m\" => 0.012,\n",
    "                     \"DESwl__2_m\" => 0.012,\n",
    "                     \"DESwl__3_m\" => 0.012)\n",
    "    \n",
    "    return Theory(cosmo, meta, files; Nuisances=nuisances)\n",
    "end;"
   ]
  },
  {
   "cell_type": "code",
   "execution_count": 7,
   "id": "6802b8c7",
   "metadata": {},
   "outputs": [],
   "source": [
    "function model_cov_nz(DESwl__0_nz, DESwl__1_nz, DESwl__2_nz, DESwl__3_nz;\n",
    "                      meta=wlwl_meta, files=wlwl_files, cosmo=cosmo) \n",
    "\n",
    "    #cosmology.settings.cosmo_type = Real\n",
    "    nuisances = Dict(\"A_IA\" => 0,\n",
    "                     \"alpha_IA\" => 0,\n",
    "\n",
    "                     \"DESwl__0_nz\" => DESwl__0_nz,\n",
    "                     \"DESwl__1_nz\" => DESwl__1_nz,\n",
    "                     \"DESwl__2_nz\" => DESwl__2_nz,\n",
    "                     \"DESwl__3_nz\" => DESwl__3_nz,\n",
    "        \n",
    "                     \"DESwl__0_m\" => 0.012,\n",
    "                     \"DESwl__1_m\" => 0.012,\n",
    "                     \"DESwl__2_m\" => 0.012,\n",
    "                     \"DESwl__3_m\" => 0.012)\n",
    "    \n",
    "    return Theory(cosmo, meta, files; Nuisances=nuisances)\n",
    "end;"
   ]
  },
  {
   "cell_type": "code",
   "execution_count": 8,
   "id": "d443d338",
   "metadata": {},
   "outputs": [
    {
     "data": {
      "text/plain": [
       "make_Cmod_dz (generic function with 1 method)"
      ]
     },
     "execution_count": 8,
     "metadata": {},
     "output_type": "execute_result"
    }
   ],
   "source": [
    "function make_Cmod_dz(dz_cov; cosmo=cosmo)\n",
    "    d = 0.00005\n",
    "    n_cls = 240\n",
    "    m  = 4\n",
    "    T = zeros(n_cls, m)\n",
    "\n",
    "    for i in 1:m\n",
    "        dz = zeros(m)\n",
    "        e = zeros(m)\n",
    "        e[i] = d\n",
    "        T[:, i] = (model_cov_dz(dz.+e; cosmo=cosmo) .- model_cov_dz(dz.-e; cosmo=cosmo)) ./ (2*d)\n",
    "    end\n",
    "    TPT = T * dz_cov * T'\n",
    "    Cmod = Symmetric(wlwl_meta.cov + TPT)\n",
    "    return Cmod\n",
    "end"
   ]
  },
  {
   "cell_type": "code",
   "execution_count": 9,
   "id": "444d0464",
   "metadata": {},
   "outputs": [
    {
     "data": {
      "text/plain": [
       "make_Cmod_Nz (generic function with 1 method)"
      ]
     },
     "execution_count": 9,
     "metadata": {},
     "output_type": "execute_result"
    }
   ],
   "source": [
    "function make_Cmod_Nz(cov_k0, cov_k1, cov_k2, cov_k3; cosmo=cosmo)\n",
    "    d = 0.005\n",
    "    n_cls = 240\n",
    "    m  = length(nz_0)\n",
    "    println(m)\n",
    "    T0 = zeros(n_cls, m)\n",
    "    T1 = zeros(n_cls, m)\n",
    "    T2 = zeros(n_cls, m)\n",
    "    T3 = zeros(n_cls, m)\n",
    "\n",
    "    for i in 1:m\n",
    "        e = zeros(m)\n",
    "        e[i] = d\n",
    "        T0[:, i] = (model_cov_nz(nz_0.+e, nz_1, nz_2, nz_3; cosmo=cosmo) .- model_cov_nz(nz_0.-e, nz_1, nz_2, nz_3; cosmo=cosmo)) ./ (2*d)\n",
    "        T1[:, i] = (model_cov_nz(nz_0, nz_1.+e, nz_2, nz_3; cosmo=cosmo) .- model_cov_nz(nz_0, nz_1.-e, nz_2, nz_3; cosmo=cosmo)) ./ (2*d)\n",
    "        T2[:, i] = (model_cov_nz(nz_0, nz_1, nz_2.+e, nz_3; cosmo=cosmo) .- model_cov_nz(nz_0, nz_1, nz_2.-e, nz_3; cosmo=cosmo)) ./ (2*d)\n",
    "        T3[:, i] = (model_cov_nz(nz_0, nz_1, nz_2, nz_3.+e; cosmo=cosmo) .- model_cov_nz(nz_0, nz_1, nz_2, nz_3.-e; cosmo=cosmo)) ./ (2*d)\n",
    "    end\n",
    "    TT0 = T0 * (cov_k0) * T0'\n",
    "    TT1 = T1 * (cov_k1) * T1'\n",
    "    TT2 = T2 * (cov_k2) * T2'\n",
    "    TT3 = T3 * (cov_k3) * T3';\n",
    "    Cmod = Symmetric(wlwl_meta.cov + TT0 + TT1 + TT2 + TT3)\n",
    "    return Cmod\n",
    "end"
   ]
  },
  {
   "cell_type": "code",
   "execution_count": 10,
   "id": "e8c4ac5e",
   "metadata": {},
   "outputs": [],
   "source": [
    "nz_0 = pyconvert(Vector{Float64}, nz_DESwl__0[\"dndz\"])\n",
    "nz_1 = pyconvert(Vector{Float64}, nz_DESwl__1[\"dndz\"])\n",
    "nz_2 = pyconvert(Vector{Float64}, nz_DESwl__2[\"dndz\"])\n",
    "nz_3 = pyconvert(Vector{Float64}, nz_DESwl__3[\"dndz\"]);"
   ]
  },
  {
   "cell_type": "code",
   "execution_count": 11,
   "id": "bb78e5b6",
   "metadata": {},
   "outputs": [],
   "source": [
    "cov_k0 = pyconvert(Vector{Vector{Float64}}, nz_DESwl__0[\"cov\"])\n",
    "cov_k0 = Diagonal(permutedims(hcat(cov_k0...)))\n",
    "\n",
    "cov_k1 = pyconvert(Vector{Vector{Float64}}, nz_DESwl__1[\"cov\"])\n",
    "cov_k1 = Diagonal(permutedims(hcat(cov_k1...)))\n",
    "\n",
    "cov_k2 = pyconvert(Vector{Vector{Float64}}, nz_DESwl__2[\"cov\"])\n",
    "cov_k2 = Diagonal(permutedims(hcat(cov_k2...)))\n",
    "    \n",
    "cov_k3 = pyconvert(Vector{Vector{Float64}}, nz_DESwl__3[\"cov\"])\n",
    "cov_k3 = Diagonal(permutedims(hcat(cov_k3...)));"
   ]
  },
  {
   "cell_type": "code",
   "execution_count": 12,
   "id": "5716117e",
   "metadata": {},
   "outputs": [],
   "source": [
    "cosmo = Cosmology(0.30, 0.05, 0.67, 0.96, 0.81,\n",
    "                  tk_mode=\"EisHu\", \n",
    "                  Pk_mode=\"Halofit\");"
   ]
  },
  {
   "cell_type": "code",
   "execution_count": 13,
   "id": "a47da719",
   "metadata": {
    "scrolled": true
   },
   "outputs": [],
   "source": [
    "dz_cov = [0.017^2 0 0 0; \n",
    "          0 0.017^2 0 0;\n",
    "          0 0 0.013^2 0;\n",
    "          0 0 0 0.015^2]\n",
    "C_mod = make_Cmod_dz(dz_cov; cosmo=cosmo)\n",
    "inv_C_mod = inv(C_mod);"
   ]
  },
  {
   "cell_type": "code",
   "execution_count": 14,
   "id": "4bfd0a70",
   "metadata": {
    "scrolled": false
   },
   "outputs": [
    {
     "data": {
      "image/svg+xml": [
       "<?xml version=\"1.0\" encoding=\"utf-8\"?>\n",
       "<svg xmlns=\"http://www.w3.org/2000/svg\" xmlns:xlink=\"http://www.w3.org/1999/xlink\" width=\"600\" height=\"400\" viewBox=\"0 0 2400 1600\">\n",
       "<defs>\n",
       "  <clipPath id=\"clip850\">\n",
       "    <rect x=\"0\" y=\"0\" width=\"2400\" height=\"1600\"/>\n",
       "  </clipPath>\n",
       "</defs>\n",
       "<path clip-path=\"url(#clip850)\" d=\"M0 1600 L2400 1600 L2400 0 L0 0  Z\" fill=\"#ffffff\" fill-rule=\"evenodd\" fill-opacity=\"1\"/>\n",
       "<defs>\n",
       "  <clipPath id=\"clip851\">\n",
       "    <rect x=\"480\" y=\"0\" width=\"1681\" height=\"1600\"/>\n",
       "  </clipPath>\n",
       "</defs>\n",
       "<path clip-path=\"url(#clip850)\" d=\"M186.76 1486.45 L2352.76 1486.45 L2352.76 123.472 L186.76 123.472  Z\" fill=\"#ffffff\" fill-rule=\"evenodd\" fill-opacity=\"1\"/>\n",
       "<defs>\n",
       "  <clipPath id=\"clip852\">\n",
       "    <rect x=\"186\" y=\"123\" width=\"2167\" height=\"1364\"/>\n",
       "  </clipPath>\n",
       "</defs>\n",
       "<polyline clip-path=\"url(#clip852)\" style=\"stroke:#000000; stroke-linecap:round; stroke-linejoin:round; stroke-width:2; stroke-opacity:0.1; fill:none\" points=\"239.512,1486.45 239.512,123.472 \"/>\n",
       "<polyline clip-path=\"url(#clip852)\" style=\"stroke:#000000; stroke-linecap:round; stroke-linejoin:round; stroke-width:2; stroke-opacity:0.1; fill:none\" points=\"667,1486.45 667,123.472 \"/>\n",
       "<polyline clip-path=\"url(#clip852)\" style=\"stroke:#000000; stroke-linecap:round; stroke-linejoin:round; stroke-width:2; stroke-opacity:0.1; fill:none\" points=\"1094.49,1486.45 1094.49,123.472 \"/>\n",
       "<polyline clip-path=\"url(#clip852)\" style=\"stroke:#000000; stroke-linecap:round; stroke-linejoin:round; stroke-width:2; stroke-opacity:0.1; fill:none\" points=\"1521.98,1486.45 1521.98,123.472 \"/>\n",
       "<polyline clip-path=\"url(#clip852)\" style=\"stroke:#000000; stroke-linecap:round; stroke-linejoin:round; stroke-width:2; stroke-opacity:0.1; fill:none\" points=\"1949.46,1486.45 1949.46,123.472 \"/>\n",
       "<polyline clip-path=\"url(#clip850)\" style=\"stroke:#000000; stroke-linecap:round; stroke-linejoin:round; stroke-width:4; stroke-opacity:1; fill:none\" points=\"186.76,1486.45 2352.76,1486.45 \"/>\n",
       "<polyline clip-path=\"url(#clip850)\" style=\"stroke:#000000; stroke-linecap:round; stroke-linejoin:round; stroke-width:4; stroke-opacity:1; fill:none\" points=\"239.512,1486.45 239.512,1467.55 \"/>\n",
       "<polyline clip-path=\"url(#clip850)\" style=\"stroke:#000000; stroke-linecap:round; stroke-linejoin:round; stroke-width:4; stroke-opacity:1; fill:none\" points=\"667,1486.45 667,1467.55 \"/>\n",
       "<polyline clip-path=\"url(#clip850)\" style=\"stroke:#000000; stroke-linecap:round; stroke-linejoin:round; stroke-width:4; stroke-opacity:1; fill:none\" points=\"1094.49,1486.45 1094.49,1467.55 \"/>\n",
       "<polyline clip-path=\"url(#clip850)\" style=\"stroke:#000000; stroke-linecap:round; stroke-linejoin:round; stroke-width:4; stroke-opacity:1; fill:none\" points=\"1521.98,1486.45 1521.98,1467.55 \"/>\n",
       "<polyline clip-path=\"url(#clip850)\" style=\"stroke:#000000; stroke-linecap:round; stroke-linejoin:round; stroke-width:4; stroke-opacity:1; fill:none\" points=\"1949.46,1486.45 1949.46,1467.55 \"/>\n",
       "<path clip-path=\"url(#clip850)\" d=\"M239.512 1517.37 Q235.901 1517.37 234.072 1520.93 Q232.267 1524.47 232.267 1531.6 Q232.267 1538.71 234.072 1542.27 Q235.901 1545.82 239.512 1545.82 Q243.146 1545.82 244.952 1542.27 Q246.781 1538.71 246.781 1531.6 Q246.781 1524.47 244.952 1520.93 Q243.146 1517.37 239.512 1517.37 M239.512 1513.66 Q245.322 1513.66 248.378 1518.27 Q251.456 1522.85 251.456 1531.6 Q251.456 1540.33 248.378 1544.94 Q245.322 1549.52 239.512 1549.52 Q233.702 1549.52 230.623 1544.94 Q227.568 1540.33 227.568 1531.6 Q227.568 1522.85 230.623 1518.27 Q233.702 1513.66 239.512 1513.66 Z\" fill=\"#000000\" fill-rule=\"evenodd\" fill-opacity=\"1\" /><path clip-path=\"url(#clip850)\" d=\"M641.699 1514.29 L660.056 1514.29 L660.056 1518.22 L645.982 1518.22 L645.982 1526.7 Q647 1526.35 648.019 1526.19 Q649.037 1526 650.056 1526 Q655.843 1526 659.222 1529.17 Q662.602 1532.34 662.602 1537.76 Q662.602 1543.34 659.13 1546.44 Q655.658 1549.52 649.338 1549.52 Q647.162 1549.52 644.894 1549.15 Q642.648 1548.78 640.241 1548.04 L640.241 1543.34 Q642.324 1544.47 644.546 1545.03 Q646.769 1545.58 649.246 1545.58 Q653.25 1545.58 655.588 1543.48 Q657.926 1541.37 657.926 1537.76 Q657.926 1534.15 655.588 1532.04 Q653.25 1529.94 649.246 1529.94 Q647.371 1529.94 645.496 1530.35 Q643.644 1530.77 641.699 1531.65 L641.699 1514.29 Z\" fill=\"#000000\" fill-rule=\"evenodd\" fill-opacity=\"1\" /><path clip-path=\"url(#clip850)\" d=\"M681.815 1517.37 Q678.204 1517.37 676.375 1520.93 Q674.569 1524.47 674.569 1531.6 Q674.569 1538.71 676.375 1542.27 Q678.204 1545.82 681.815 1545.82 Q685.449 1545.82 687.255 1542.27 Q689.083 1538.71 689.083 1531.6 Q689.083 1524.47 687.255 1520.93 Q685.449 1517.37 681.815 1517.37 M681.815 1513.66 Q687.625 1513.66 690.68 1518.27 Q693.759 1522.85 693.759 1531.6 Q693.759 1540.33 690.68 1544.94 Q687.625 1549.52 681.815 1549.52 Q676.005 1549.52 672.926 1544.94 Q669.87 1540.33 669.87 1531.6 Q669.87 1522.85 672.926 1518.27 Q676.005 1513.66 681.815 1513.66 Z\" fill=\"#000000\" fill-rule=\"evenodd\" fill-opacity=\"1\" /><path clip-path=\"url(#clip850)\" d=\"M1054.09 1544.91 L1061.73 1544.91 L1061.73 1518.55 L1053.42 1520.21 L1053.42 1515.95 L1061.69 1514.29 L1066.36 1514.29 L1066.36 1544.91 L1074 1544.91 L1074 1548.85 L1054.09 1548.85 L1054.09 1544.91 Z\" fill=\"#000000\" fill-rule=\"evenodd\" fill-opacity=\"1\" /><path clip-path=\"url(#clip850)\" d=\"M1093.45 1517.37 Q1089.84 1517.37 1088.01 1520.93 Q1086.2 1524.47 1086.2 1531.6 Q1086.2 1538.71 1088.01 1542.27 Q1089.84 1545.82 1093.45 1545.82 Q1097.08 1545.82 1098.89 1542.27 Q1100.71 1538.71 1100.71 1531.6 Q1100.71 1524.47 1098.89 1520.93 Q1097.08 1517.37 1093.45 1517.37 M1093.45 1513.66 Q1099.26 1513.66 1102.31 1518.27 Q1105.39 1522.85 1105.39 1531.6 Q1105.39 1540.33 1102.31 1544.94 Q1099.26 1549.52 1093.45 1549.52 Q1087.64 1549.52 1084.56 1544.94 Q1081.5 1540.33 1081.5 1531.6 Q1081.5 1522.85 1084.56 1518.27 Q1087.64 1513.66 1093.45 1513.66 Z\" fill=\"#000000\" fill-rule=\"evenodd\" fill-opacity=\"1\" /><path clip-path=\"url(#clip850)\" d=\"M1123.61 1517.37 Q1120 1517.37 1118.17 1520.93 Q1116.36 1524.47 1116.36 1531.6 Q1116.36 1538.71 1118.17 1542.27 Q1120 1545.82 1123.61 1545.82 Q1127.24 1545.82 1129.05 1542.27 Q1130.88 1538.71 1130.88 1531.6 Q1130.88 1524.47 1129.05 1520.93 Q1127.24 1517.37 1123.61 1517.37 M1123.61 1513.66 Q1129.42 1513.66 1132.47 1518.27 Q1135.55 1522.85 1135.55 1531.6 Q1135.55 1540.33 1132.47 1544.94 Q1129.42 1549.52 1123.61 1549.52 Q1117.8 1549.52 1114.72 1544.94 Q1111.66 1540.33 1111.66 1531.6 Q1111.66 1522.85 1114.72 1518.27 Q1117.8 1513.66 1123.61 1513.66 Z\" fill=\"#000000\" fill-rule=\"evenodd\" fill-opacity=\"1\" /><path clip-path=\"url(#clip850)\" d=\"M1481.58 1544.91 L1489.22 1544.91 L1489.22 1518.55 L1480.91 1520.21 L1480.91 1515.95 L1489.18 1514.29 L1493.85 1514.29 L1493.85 1544.91 L1501.49 1544.91 L1501.49 1548.85 L1481.58 1548.85 L1481.58 1544.91 Z\" fill=\"#000000\" fill-rule=\"evenodd\" fill-opacity=\"1\" /><path clip-path=\"url(#clip850)\" d=\"M1510.98 1514.29 L1529.34 1514.29 L1529.34 1518.22 L1515.26 1518.22 L1515.26 1526.7 Q1516.28 1526.35 1517.3 1526.19 Q1518.32 1526 1519.34 1526 Q1525.12 1526 1528.5 1529.17 Q1531.88 1532.34 1531.88 1537.76 Q1531.88 1543.34 1528.41 1546.44 Q1524.94 1549.52 1518.62 1549.52 Q1516.44 1549.52 1514.17 1549.15 Q1511.93 1548.78 1509.52 1548.04 L1509.52 1543.34 Q1511.61 1544.47 1513.83 1545.03 Q1516.05 1545.58 1518.53 1545.58 Q1522.53 1545.58 1524.87 1543.48 Q1527.21 1541.37 1527.21 1537.76 Q1527.21 1534.15 1524.87 1532.04 Q1522.53 1529.94 1518.53 1529.94 Q1516.65 1529.94 1514.78 1530.35 Q1512.93 1530.77 1510.98 1531.65 L1510.98 1514.29 Z\" fill=\"#000000\" fill-rule=\"evenodd\" fill-opacity=\"1\" /><path clip-path=\"url(#clip850)\" d=\"M1551.1 1517.37 Q1547.49 1517.37 1545.66 1520.93 Q1543.85 1524.47 1543.85 1531.6 Q1543.85 1538.71 1545.66 1542.27 Q1547.49 1545.82 1551.1 1545.82 Q1554.73 1545.82 1556.54 1542.27 Q1558.36 1538.71 1558.36 1531.6 Q1558.36 1524.47 1556.54 1520.93 Q1554.73 1517.37 1551.1 1517.37 M1551.1 1513.66 Q1556.91 1513.66 1559.96 1518.27 Q1563.04 1522.85 1563.04 1531.6 Q1563.04 1540.33 1559.96 1544.94 Q1556.91 1549.52 1551.1 1549.52 Q1545.29 1549.52 1542.21 1544.94 Q1539.15 1540.33 1539.15 1531.6 Q1539.15 1522.85 1542.21 1518.27 Q1545.29 1513.66 1551.1 1513.66 Z\" fill=\"#000000\" fill-rule=\"evenodd\" fill-opacity=\"1\" /><path clip-path=\"url(#clip850)\" d=\"M1913.16 1544.91 L1929.48 1544.91 L1929.48 1548.85 L1907.53 1548.85 L1907.53 1544.91 Q1910.19 1542.16 1914.78 1537.53 Q1919.38 1532.88 1920.56 1531.53 Q1922.81 1529.01 1923.69 1527.27 Q1924.59 1525.51 1924.59 1523.82 Q1924.59 1521.07 1922.65 1519.33 Q1920.73 1517.6 1917.62 1517.6 Q1915.42 1517.6 1912.97 1518.36 Q1910.54 1519.13 1907.76 1520.68 L1907.76 1515.95 Q1910.59 1514.82 1913.04 1514.24 Q1915.49 1513.66 1917.53 1513.66 Q1922.9 1513.66 1926.1 1516.35 Q1929.29 1519.03 1929.29 1523.52 Q1929.29 1525.65 1928.48 1527.57 Q1927.69 1529.47 1925.59 1532.07 Q1925.01 1532.74 1921.91 1535.95 Q1918.8 1539.15 1913.16 1544.91 Z\" fill=\"#000000\" fill-rule=\"evenodd\" fill-opacity=\"1\" /><path clip-path=\"url(#clip850)\" d=\"M1949.29 1517.37 Q1945.68 1517.37 1943.85 1520.93 Q1942.04 1524.47 1942.04 1531.6 Q1942.04 1538.71 1943.85 1542.27 Q1945.68 1545.82 1949.29 1545.82 Q1952.92 1545.82 1954.73 1542.27 Q1956.56 1538.71 1956.56 1531.6 Q1956.56 1524.47 1954.73 1520.93 Q1952.92 1517.37 1949.29 1517.37 M1949.29 1513.66 Q1955.1 1513.66 1958.16 1518.27 Q1961.23 1522.85 1961.23 1531.6 Q1961.23 1540.33 1958.16 1544.94 Q1955.1 1549.52 1949.29 1549.52 Q1943.48 1549.52 1940.4 1544.94 Q1937.35 1540.33 1937.35 1531.6 Q1937.35 1522.85 1940.4 1518.27 Q1943.48 1513.66 1949.29 1513.66 Z\" fill=\"#000000\" fill-rule=\"evenodd\" fill-opacity=\"1\" /><path clip-path=\"url(#clip850)\" d=\"M1979.45 1517.37 Q1975.84 1517.37 1974.01 1520.93 Q1972.21 1524.47 1972.21 1531.6 Q1972.21 1538.71 1974.01 1542.27 Q1975.84 1545.82 1979.45 1545.82 Q1983.09 1545.82 1984.89 1542.27 Q1986.72 1538.71 1986.72 1531.6 Q1986.72 1524.47 1984.89 1520.93 Q1983.09 1517.37 1979.45 1517.37 M1979.45 1513.66 Q1985.26 1513.66 1988.32 1518.27 Q1991.4 1522.85 1991.4 1531.6 Q1991.4 1540.33 1988.32 1544.94 Q1985.26 1549.52 1979.45 1549.52 Q1973.64 1549.52 1970.56 1544.94 Q1967.51 1540.33 1967.51 1531.6 Q1967.51 1522.85 1970.56 1518.27 Q1973.64 1513.66 1979.45 1513.66 Z\" fill=\"#000000\" fill-rule=\"evenodd\" fill-opacity=\"1\" /><polyline clip-path=\"url(#clip852)\" style=\"stroke:#000000; stroke-linecap:round; stroke-linejoin:round; stroke-width:2; stroke-opacity:0.1; fill:none\" points=\"186.76,1277.09 2352.76,1277.09 \"/>\n",
       "<polyline clip-path=\"url(#clip852)\" style=\"stroke:#000000; stroke-linecap:round; stroke-linejoin:round; stroke-width:2; stroke-opacity:0.1; fill:none\" points=\"186.76,1036.63 2352.76,1036.63 \"/>\n",
       "<polyline clip-path=\"url(#clip852)\" style=\"stroke:#000000; stroke-linecap:round; stroke-linejoin:round; stroke-width:2; stroke-opacity:0.1; fill:none\" points=\"186.76,796.172 2352.76,796.172 \"/>\n",
       "<polyline clip-path=\"url(#clip852)\" style=\"stroke:#000000; stroke-linecap:round; stroke-linejoin:round; stroke-width:2; stroke-opacity:0.1; fill:none\" points=\"186.76,555.715 2352.76,555.715 \"/>\n",
       "<polyline clip-path=\"url(#clip852)\" style=\"stroke:#000000; stroke-linecap:round; stroke-linejoin:round; stroke-width:2; stroke-opacity:0.1; fill:none\" points=\"186.76,315.258 2352.76,315.258 \"/>\n",
       "<polyline clip-path=\"url(#clip850)\" style=\"stroke:#000000; stroke-linecap:round; stroke-linejoin:round; stroke-width:4; stroke-opacity:1; fill:none\" points=\"186.76,1486.45 186.76,123.472 \"/>\n",
       "<polyline clip-path=\"url(#clip850)\" style=\"stroke:#000000; stroke-linecap:round; stroke-linejoin:round; stroke-width:4; stroke-opacity:1; fill:none\" points=\"186.76,1277.09 205.658,1277.09 \"/>\n",
       "<polyline clip-path=\"url(#clip850)\" style=\"stroke:#000000; stroke-linecap:round; stroke-linejoin:round; stroke-width:4; stroke-opacity:1; fill:none\" points=\"186.76,1036.63 205.658,1036.63 \"/>\n",
       "<polyline clip-path=\"url(#clip850)\" style=\"stroke:#000000; stroke-linecap:round; stroke-linejoin:round; stroke-width:4; stroke-opacity:1; fill:none\" points=\"186.76,796.172 205.658,796.172 \"/>\n",
       "<polyline clip-path=\"url(#clip850)\" style=\"stroke:#000000; stroke-linecap:round; stroke-linejoin:round; stroke-width:4; stroke-opacity:1; fill:none\" points=\"186.76,555.715 205.658,555.715 \"/>\n",
       "<polyline clip-path=\"url(#clip850)\" style=\"stroke:#000000; stroke-linecap:round; stroke-linejoin:round; stroke-width:4; stroke-opacity:1; fill:none\" points=\"186.76,315.258 205.658,315.258 \"/>\n",
       "<path clip-path=\"url(#clip850)\" d=\"M64.6495 1262.89 Q61.0384 1262.89 59.2097 1266.45 Q57.4041 1269.99 57.4041 1277.12 Q57.4041 1284.23 59.2097 1287.79 Q61.0384 1291.33 64.6495 1291.33 Q68.2837 1291.33 70.0892 1287.79 Q71.9179 1284.23 71.9179 1277.12 Q71.9179 1269.99 70.0892 1266.45 Q68.2837 1262.89 64.6495 1262.89 M64.6495 1259.18 Q70.4596 1259.18 73.5152 1263.79 Q76.5938 1268.37 76.5938 1277.12 Q76.5938 1285.85 73.5152 1290.45 Q70.4596 1295.04 64.6495 1295.04 Q58.8393 1295.04 55.7606 1290.45 Q52.7051 1285.85 52.7051 1277.12 Q52.7051 1268.37 55.7606 1263.79 Q58.8393 1259.18 64.6495 1259.18 Z\" fill=\"#000000\" fill-rule=\"evenodd\" fill-opacity=\"1\" /><path clip-path=\"url(#clip850)\" d=\"M84.8114 1288.49 L89.6956 1288.49 L89.6956 1294.37 L84.8114 1294.37 L84.8114 1288.49 Z\" fill=\"#000000\" fill-rule=\"evenodd\" fill-opacity=\"1\" /><path clip-path=\"url(#clip850)\" d=\"M109.881 1262.89 Q106.27 1262.89 104.441 1266.45 Q102.635 1269.99 102.635 1277.12 Q102.635 1284.23 104.441 1287.79 Q106.27 1291.33 109.881 1291.33 Q113.515 1291.33 115.32 1287.79 Q117.149 1284.23 117.149 1277.12 Q117.149 1269.99 115.32 1266.45 Q113.515 1262.89 109.881 1262.89 M109.881 1259.18 Q115.691 1259.18 118.746 1263.79 Q121.825 1268.37 121.825 1277.12 Q121.825 1285.85 118.746 1290.45 Q115.691 1295.04 109.881 1295.04 Q104.071 1295.04 100.992 1290.45 Q97.9363 1285.85 97.9363 1277.12 Q97.9363 1268.37 100.992 1263.79 Q104.071 1259.18 109.881 1259.18 Z\" fill=\"#000000\" fill-rule=\"evenodd\" fill-opacity=\"1\" /><path clip-path=\"url(#clip850)\" d=\"M130.853 1290.43 L138.492 1290.43 L138.492 1264.07 L130.182 1265.73 L130.182 1261.47 L138.445 1259.81 L143.121 1259.81 L143.121 1290.43 L150.76 1290.43 L150.76 1294.37 L130.853 1294.37 L130.853 1290.43 Z\" fill=\"#000000\" fill-rule=\"evenodd\" fill-opacity=\"1\" /><path clip-path=\"url(#clip850)\" d=\"M65.0198 1022.43 Q61.4087 1022.43 59.58 1025.99 Q57.7745 1029.53 57.7745 1036.66 Q57.7745 1043.77 59.58 1047.34 Q61.4087 1050.88 65.0198 1050.88 Q68.6541 1050.88 70.4596 1047.34 Q72.2883 1043.77 72.2883 1036.66 Q72.2883 1029.53 70.4596 1025.99 Q68.6541 1022.43 65.0198 1022.43 M65.0198 1018.72 Q70.83 1018.72 73.8855 1023.33 Q76.9642 1027.91 76.9642 1036.66 Q76.9642 1045.39 73.8855 1050 Q70.83 1054.58 65.0198 1054.58 Q59.2097 1054.58 56.131 1050 Q53.0754 1045.39 53.0754 1036.66 Q53.0754 1027.91 56.131 1023.33 Q59.2097 1018.72 65.0198 1018.72 Z\" fill=\"#000000\" fill-rule=\"evenodd\" fill-opacity=\"1\" /><path clip-path=\"url(#clip850)\" d=\"M85.1818 1048.03 L90.066 1048.03 L90.066 1053.91 L85.1818 1053.91 L85.1818 1048.03 Z\" fill=\"#000000\" fill-rule=\"evenodd\" fill-opacity=\"1\" /><path clip-path=\"url(#clip850)\" d=\"M110.251 1022.43 Q106.64 1022.43 104.811 1025.99 Q103.006 1029.53 103.006 1036.66 Q103.006 1043.77 104.811 1047.34 Q106.64 1050.88 110.251 1050.88 Q113.885 1050.88 115.691 1047.34 Q117.52 1043.77 117.52 1036.66 Q117.52 1029.53 115.691 1025.99 Q113.885 1022.43 110.251 1022.43 M110.251 1018.72 Q116.061 1018.72 119.117 1023.33 Q122.195 1027.91 122.195 1036.66 Q122.195 1045.39 119.117 1050 Q116.061 1054.58 110.251 1054.58 Q104.441 1054.58 101.362 1050 Q98.3067 1045.39 98.3067 1036.66 Q98.3067 1027.91 101.362 1023.33 Q104.441 1018.72 110.251 1018.72 Z\" fill=\"#000000\" fill-rule=\"evenodd\" fill-opacity=\"1\" /><path clip-path=\"url(#clip850)\" d=\"M134.441 1049.97 L150.76 1049.97 L150.76 1053.91 L128.816 1053.91 L128.816 1049.97 Q131.478 1047.22 136.061 1042.59 Q140.668 1037.94 141.848 1036.59 Q144.093 1034.07 144.973 1032.34 Q145.876 1030.58 145.876 1028.89 Q145.876 1026.13 143.931 1024.4 Q142.01 1022.66 138.908 1022.66 Q136.709 1022.66 134.256 1023.42 Q131.825 1024.19 129.047 1025.74 L129.047 1021.02 Q131.871 1019.88 134.325 1019.3 Q136.779 1018.72 138.816 1018.72 Q144.186 1018.72 147.38 1021.41 Q150.575 1024.09 150.575 1028.59 Q150.575 1030.71 149.765 1032.64 Q148.978 1034.53 146.871 1037.13 Q146.293 1037.8 143.191 1041.02 Q140.089 1044.21 134.441 1049.97 Z\" fill=\"#000000\" fill-rule=\"evenodd\" fill-opacity=\"1\" /><path clip-path=\"url(#clip850)\" d=\"M64.0708 781.971 Q60.4597 781.971 58.631 785.536 Q56.8254 789.077 56.8254 796.207 Q56.8254 803.313 58.631 806.878 Q60.4597 810.42 64.0708 810.42 Q67.705 810.42 69.5105 806.878 Q71.3392 803.313 71.3392 796.207 Q71.3392 789.077 69.5105 785.536 Q67.705 781.971 64.0708 781.971 M64.0708 778.267 Q69.8809 778.267 72.9365 782.874 Q76.0151 787.457 76.0151 796.207 Q76.0151 804.934 72.9365 809.54 Q69.8809 814.123 64.0708 814.123 Q58.2606 814.123 55.1819 809.54 Q52.1264 804.934 52.1264 796.207 Q52.1264 787.457 55.1819 782.874 Q58.2606 778.267 64.0708 778.267 Z\" fill=\"#000000\" fill-rule=\"evenodd\" fill-opacity=\"1\" /><path clip-path=\"url(#clip850)\" d=\"M84.2327 807.573 L89.1169 807.573 L89.1169 813.452 L84.2327 813.452 L84.2327 807.573 Z\" fill=\"#000000\" fill-rule=\"evenodd\" fill-opacity=\"1\" /><path clip-path=\"url(#clip850)\" d=\"M109.302 781.971 Q105.691 781.971 103.862 785.536 Q102.057 789.077 102.057 796.207 Q102.057 803.313 103.862 806.878 Q105.691 810.42 109.302 810.42 Q112.936 810.42 114.742 806.878 Q116.57 803.313 116.57 796.207 Q116.57 789.077 114.742 785.536 Q112.936 781.971 109.302 781.971 M109.302 778.267 Q115.112 778.267 118.168 782.874 Q121.246 787.457 121.246 796.207 Q121.246 804.934 118.168 809.54 Q115.112 814.123 109.302 814.123 Q103.492 814.123 100.413 809.54 Q97.3576 804.934 97.3576 796.207 Q97.3576 787.457 100.413 782.874 Q103.492 778.267 109.302 778.267 Z\" fill=\"#000000\" fill-rule=\"evenodd\" fill-opacity=\"1\" /><path clip-path=\"url(#clip850)\" d=\"M143.631 794.818 Q146.987 795.536 148.862 797.804 Q150.76 800.073 150.76 803.406 Q150.76 808.522 147.242 811.323 Q143.723 814.123 137.242 814.123 Q135.066 814.123 132.751 813.684 Q130.459 813.267 128.006 812.41 L128.006 807.897 Q129.95 809.031 132.265 809.61 Q134.58 810.188 137.103 810.188 Q141.501 810.188 143.793 808.452 Q146.107 806.716 146.107 803.406 Q146.107 800.35 143.955 798.637 Q141.825 796.901 138.006 796.901 L133.978 796.901 L133.978 793.059 L138.191 793.059 Q141.64 793.059 143.468 791.693 Q145.297 790.304 145.297 787.712 Q145.297 785.049 143.399 783.637 Q141.524 782.202 138.006 782.202 Q136.084 782.202 133.885 782.619 Q131.686 783.036 129.047 783.915 L129.047 779.749 Q131.709 779.008 134.024 778.637 Q136.362 778.267 138.422 778.267 Q143.746 778.267 146.848 780.698 Q149.95 783.105 149.95 787.225 Q149.95 790.096 148.306 792.086 Q146.663 794.054 143.631 794.818 Z\" fill=\"#000000\" fill-rule=\"evenodd\" fill-opacity=\"1\" /><path clip-path=\"url(#clip850)\" d=\"M62.9365 541.514 Q59.3254 541.514 57.4967 545.078 Q55.6912 548.62 55.6912 555.75 Q55.6912 562.856 57.4967 566.421 Q59.3254 569.963 62.9365 569.963 Q66.5707 569.963 68.3763 566.421 Q70.205 562.856 70.205 555.75 Q70.205 548.62 68.3763 545.078 Q66.5707 541.514 62.9365 541.514 M62.9365 537.81 Q68.7467 537.81 71.8022 542.416 Q74.8809 547 74.8809 555.75 Q74.8809 564.477 71.8022 569.083 Q68.7467 573.666 62.9365 573.666 Q57.1264 573.666 54.0477 569.083 Q50.9921 564.477 50.9921 555.75 Q50.9921 547 54.0477 542.416 Q57.1264 537.81 62.9365 537.81 Z\" fill=\"#000000\" fill-rule=\"evenodd\" fill-opacity=\"1\" /><path clip-path=\"url(#clip850)\" d=\"M83.0984 567.115 L87.9827 567.115 L87.9827 572.995 L83.0984 572.995 L83.0984 567.115 Z\" fill=\"#000000\" fill-rule=\"evenodd\" fill-opacity=\"1\" /><path clip-path=\"url(#clip850)\" d=\"M108.168 541.514 Q104.557 541.514 102.728 545.078 Q100.922 548.62 100.922 555.75 Q100.922 562.856 102.728 566.421 Q104.557 569.963 108.168 569.963 Q111.802 569.963 113.608 566.421 Q115.436 562.856 115.436 555.75 Q115.436 548.62 113.608 545.078 Q111.802 541.514 108.168 541.514 M108.168 537.81 Q113.978 537.81 117.033 542.416 Q120.112 547 120.112 555.75 Q120.112 564.477 117.033 569.083 Q113.978 573.666 108.168 573.666 Q102.358 573.666 99.2789 569.083 Q96.2234 564.477 96.2234 555.75 Q96.2234 547 99.2789 542.416 Q102.358 537.81 108.168 537.81 Z\" fill=\"#000000\" fill-rule=\"evenodd\" fill-opacity=\"1\" /><path clip-path=\"url(#clip850)\" d=\"M141.177 542.509 L129.371 560.958 L141.177 560.958 L141.177 542.509 M139.95 538.435 L145.83 538.435 L145.83 560.958 L150.76 560.958 L150.76 564.847 L145.83 564.847 L145.83 572.995 L141.177 572.995 L141.177 564.847 L125.575 564.847 L125.575 560.333 L139.95 538.435 Z\" fill=\"#000000\" fill-rule=\"evenodd\" fill-opacity=\"1\" /><path clip-path=\"url(#clip850)\" d=\"M64.418 301.057 Q60.8069 301.057 58.9782 304.621 Q57.1726 308.163 57.1726 315.293 Q57.1726 322.399 58.9782 325.964 Q60.8069 329.505 64.418 329.505 Q68.0522 329.505 69.8578 325.964 Q71.6865 322.399 71.6865 315.293 Q71.6865 308.163 69.8578 304.621 Q68.0522 301.057 64.418 301.057 M64.418 297.353 Q70.2281 297.353 73.2837 301.959 Q76.3624 306.543 76.3624 315.293 Q76.3624 324.019 73.2837 328.626 Q70.2281 333.209 64.418 333.209 Q58.6078 333.209 55.5291 328.626 Q52.4736 324.019 52.4736 315.293 Q52.4736 306.543 55.5291 301.959 Q58.6078 297.353 64.418 297.353 Z\" fill=\"#000000\" fill-rule=\"evenodd\" fill-opacity=\"1\" /><path clip-path=\"url(#clip850)\" d=\"M84.5799 326.658 L89.4641 326.658 L89.4641 332.538 L84.5799 332.538 L84.5799 326.658 Z\" fill=\"#000000\" fill-rule=\"evenodd\" fill-opacity=\"1\" /><path clip-path=\"url(#clip850)\" d=\"M109.649 301.057 Q106.038 301.057 104.209 304.621 Q102.404 308.163 102.404 315.293 Q102.404 322.399 104.209 325.964 Q106.038 329.505 109.649 329.505 Q113.283 329.505 115.089 325.964 Q116.918 322.399 116.918 315.293 Q116.918 308.163 115.089 304.621 Q113.283 301.057 109.649 301.057 M109.649 297.353 Q115.459 297.353 118.515 301.959 Q121.594 306.543 121.594 315.293 Q121.594 324.019 118.515 328.626 Q115.459 333.209 109.649 333.209 Q103.839 333.209 100.76 328.626 Q97.7048 324.019 97.7048 315.293 Q97.7048 306.543 100.76 301.959 Q103.839 297.353 109.649 297.353 Z\" fill=\"#000000\" fill-rule=\"evenodd\" fill-opacity=\"1\" /><path clip-path=\"url(#clip850)\" d=\"M129.857 297.978 L148.214 297.978 L148.214 301.913 L134.14 301.913 L134.14 310.385 Q135.158 310.038 136.177 309.876 Q137.195 309.691 138.214 309.691 Q144.001 309.691 147.38 312.862 Q150.76 316.033 150.76 321.45 Q150.76 327.029 147.288 330.13 Q143.816 333.209 137.496 333.209 Q135.32 333.209 133.052 332.839 Q130.807 332.468 128.399 331.728 L128.399 327.029 Q130.482 328.163 132.705 328.718 Q134.927 329.274 137.404 329.274 Q141.408 329.274 143.746 327.168 Q146.084 325.061 146.084 321.45 Q146.084 317.839 143.746 315.732 Q141.408 313.626 137.404 313.626 Q135.529 313.626 133.654 314.043 Q131.802 314.459 129.857 315.339 L129.857 297.978 Z\" fill=\"#000000\" fill-rule=\"evenodd\" fill-opacity=\"1\" /><path clip-path=\"url(#clip850)\" d=\"M928.672 34.0924 L928.672 9.54393 L936.126 9.54393 L936.126 72.576 L928.672 72.576 L928.672 65.7705 Q926.322 69.8214 922.717 71.8063 Q919.152 73.7508 914.129 73.7508 Q905.906 73.7508 900.721 67.1883 Q895.576 60.6258 895.576 49.9314 Q895.576 39.2371 900.721 32.6746 Q905.906 26.1121 914.129 26.1121 Q919.152 26.1121 922.717 28.0971 Q926.322 30.0415 928.672 34.0924 M903.273 49.9314 Q903.273 58.1548 906.635 62.8538 Q910.038 67.5124 915.952 67.5124 Q921.866 67.5124 925.269 62.8538 Q928.672 58.1548 928.672 49.9314 Q928.672 41.7081 925.269 37.0496 Q921.866 32.3505 915.952 32.3505 Q910.038 32.3505 906.635 37.0496 Q903.273 41.7081 903.273 49.9314 Z\" fill=\"#000000\" fill-rule=\"evenodd\" fill-opacity=\"1\" /><path clip-path=\"url(#clip850)\" d=\"M948.238 27.2059 L983.643 27.2059 L983.643 34.0114 L955.61 66.6212 L983.643 66.6212 L983.643 72.576 L947.225 72.576 L947.225 65.7705 L975.257 33.1607 L948.238 33.1607 L948.238 27.2059 Z\" fill=\"#000000\" fill-rule=\"evenodd\" fill-opacity=\"1\" /><path clip-path=\"url(#clip850)\" d=\"M1017.63 46.5287 L1039.46 46.5287 L1039.46 53.1722 L1017.63 53.1722 L1017.63 46.5287 Z\" fill=\"#000000\" fill-rule=\"evenodd\" fill-opacity=\"1\" /><path clip-path=\"url(#clip850)\" d=\"M1047.57 46.5287 L1069.4 46.5287 L1069.4 53.1722 L1047.57 53.1722 L1047.57 46.5287 Z\" fill=\"#000000\" fill-rule=\"evenodd\" fill-opacity=\"1\" /><path clip-path=\"url(#clip850)\" d=\"M1077.5 46.5287 L1099.34 46.5287 L1099.34 53.1722 L1077.5 53.1722 L1077.5 46.5287 Z\" fill=\"#000000\" fill-rule=\"evenodd\" fill-opacity=\"1\" /><path clip-path=\"url(#clip850)\" d=\"M1158.2 49.7694 Q1149.16 49.7694 1145.68 51.8354 Q1142.2 53.9013 1142.2 58.8839 Q1142.2 62.8538 1144.79 65.2034 Q1147.42 67.5124 1151.92 67.5124 Q1158.12 67.5124 1161.84 63.1374 Q1165.61 58.7219 1165.61 51.4303 L1165.61 49.7694 L1158.2 49.7694 M1173.06 46.6907 L1173.06 72.576 L1165.61 72.576 L1165.61 65.6895 Q1163.06 69.8214 1159.25 71.8063 Q1155.44 73.7508 1149.93 73.7508 Q1142.96 73.7508 1138.83 69.8619 Q1134.74 65.9325 1134.74 59.3701 Q1134.74 51.7138 1139.85 47.825 Q1144.99 43.9361 1155.16 43.9361 L1165.61 43.9361 L1165.61 43.2069 Q1165.61 38.0623 1162.21 35.2672 Q1158.84 32.4315 1152.73 32.4315 Q1148.84 32.4315 1145.15 33.3632 Q1141.47 34.295 1138.06 36.1584 L1138.06 29.2718 Q1142.15 27.692 1146 26.9223 Q1149.85 26.1121 1153.5 26.1121 Q1163.34 26.1121 1168.2 31.2163 Q1173.06 36.3204 1173.06 46.6907 Z\" fill=\"#000000\" fill-rule=\"evenodd\" fill-opacity=\"1\" /><path clip-path=\"url(#clip850)\" d=\"M1220.99 49.9314 Q1220.99 41.7081 1217.58 37.0496 Q1214.22 32.3505 1208.31 32.3505 Q1202.39 32.3505 1198.99 37.0496 Q1195.63 41.7081 1195.63 49.9314 Q1195.63 58.1548 1198.99 62.8538 Q1202.39 67.5124 1208.31 67.5124 Q1214.22 67.5124 1217.58 62.8538 Q1220.99 58.1548 1220.99 49.9314 M1195.63 34.0924 Q1197.98 30.0415 1201.54 28.0971 Q1205.15 26.1121 1210.13 26.1121 Q1218.39 26.1121 1223.54 32.6746 Q1228.72 39.2371 1228.72 49.9314 Q1228.72 60.6258 1223.54 67.1883 Q1218.39 73.7508 1210.13 73.7508 Q1205.15 73.7508 1201.54 71.8063 Q1197.98 69.8214 1195.63 65.7705 L1195.63 72.576 L1188.13 72.576 L1188.13 9.54393 L1195.63 9.54393 L1195.63 34.0924 Z\" fill=\"#000000\" fill-rule=\"evenodd\" fill-opacity=\"1\" /><path clip-path=\"url(#clip850)\" d=\"M1270 28.5427 L1270 35.5912 Q1266.84 33.9709 1263.44 33.1607 Q1260.04 32.3505 1256.39 32.3505 Q1250.84 32.3505 1248.05 34.0519 Q1245.29 35.7533 1245.29 39.156 Q1245.29 41.7486 1247.28 43.2475 Q1249.26 44.7058 1255.26 46.0426 L1257.81 46.6097 Q1265.75 48.3111 1269.07 51.4303 Q1272.43 54.509 1272.43 60.0587 Q1272.43 66.3781 1267.41 70.0644 Q1262.43 73.7508 1253.68 73.7508 Q1250.03 73.7508 1246.06 73.0216 Q1242.13 72.3329 1237.76 70.9151 L1237.76 63.2184 Q1241.89 65.3654 1245.9 66.4591 Q1249.91 67.5124 1253.84 67.5124 Q1259.1 67.5124 1261.94 65.73 Q1264.78 63.9071 1264.78 60.6258 Q1264.78 57.5877 1262.71 55.9673 Q1260.68 54.3469 1253.76 52.8481 L1251.16 52.2405 Q1244.24 50.7821 1241.16 47.7845 Q1238.08 44.7463 1238.08 39.4801 Q1238.08 33.0797 1242.62 29.5959 Q1247.15 26.1121 1255.5 26.1121 Q1259.63 26.1121 1263.28 26.7198 Q1266.92 27.3274 1270 28.5427 Z\" fill=\"#000000\" fill-rule=\"evenodd\" fill-opacity=\"1\" /><path clip-path=\"url(#clip850)\" d=\"M1302.21 9.62495 Q1296.78 18.942 1294.14 28.0566 Q1291.51 37.1711 1291.51 46.5287 Q1291.51 55.8863 1294.14 65.0818 Q1296.82 74.2369 1302.21 83.5134 L1295.72 83.5134 Q1289.65 73.9938 1286.61 64.7983 Q1283.61 55.6027 1283.61 46.5287 Q1283.61 37.4952 1286.61 28.3401 Q1289.61 19.1851 1295.72 9.62495 L1302.21 9.62495 Z\" fill=\"#000000\" fill-rule=\"evenodd\" fill-opacity=\"1\" /><path clip-path=\"url(#clip850)\" d=\"M1362.28 16.7545 L1362.28 25.383 Q1358.15 21.5346 1353.45 19.6307 Q1348.79 17.7268 1343.52 17.7268 Q1333.15 17.7268 1327.65 24.0867 Q1322.14 30.4061 1322.14 42.3968 Q1322.14 54.3469 1327.65 60.7069 Q1333.15 67.0263 1343.52 67.0263 Q1348.79 67.0263 1353.45 65.1223 Q1358.15 63.2184 1362.28 59.3701 L1362.28 67.9175 Q1357.99 70.8341 1353.17 72.2924 Q1348.39 73.7508 1343.04 73.7508 Q1329.31 73.7508 1321.41 65.3654 Q1313.51 56.9395 1313.51 42.3968 Q1313.51 27.8135 1321.41 19.4281 Q1329.31 11.0023 1343.04 11.0023 Q1348.47 11.0023 1353.25 12.4606 Q1358.07 13.8784 1362.28 16.7545 Z\" fill=\"#000000\" fill-rule=\"evenodd\" fill-opacity=\"1\" /><path clip-path=\"url(#clip850)\" d=\"M1381.64 12.096 L1381.64 34.5785 L1374.76 34.5785 L1374.76 12.096 L1381.64 12.096 Z\" fill=\"#000000\" fill-rule=\"evenodd\" fill-opacity=\"1\" /><path clip-path=\"url(#clip850)\" d=\"M1393.63 46.5287 L1415.47 46.5287 L1415.47 53.1722 L1393.63 53.1722 L1393.63 46.5287 Z\" fill=\"#000000\" fill-rule=\"evenodd\" fill-opacity=\"1\" /><path clip-path=\"url(#clip850)\" d=\"M1472.95 16.7545 L1472.95 25.383 Q1468.82 21.5346 1464.12 19.6307 Q1459.46 17.7268 1454.2 17.7268 Q1443.83 17.7268 1438.32 24.0867 Q1432.81 30.4061 1432.81 42.3968 Q1432.81 54.3469 1438.32 60.7069 Q1443.83 67.0263 1454.2 67.0263 Q1459.46 67.0263 1464.12 65.1223 Q1468.82 63.2184 1472.95 59.3701 L1472.95 67.9175 Q1468.66 70.8341 1463.84 72.2924 Q1459.06 73.7508 1453.71 73.7508 Q1439.98 73.7508 1432.08 65.3654 Q1424.18 56.9395 1424.18 42.3968 Q1424.18 27.8135 1432.08 19.4281 Q1439.98 11.0023 1453.71 11.0023 Q1459.14 11.0023 1463.92 12.4606 Q1468.74 13.8784 1472.95 16.7545 Z\" fill=\"#000000\" fill-rule=\"evenodd\" fill-opacity=\"1\" /><path clip-path=\"url(#clip850)\" d=\"M1484.09 9.62495 L1490.57 9.62495 Q1496.65 19.1851 1499.65 28.3401 Q1502.69 37.4952 1502.69 46.5287 Q1502.69 55.6027 1499.65 64.7983 Q1496.65 73.9938 1490.57 83.5134 L1484.09 83.5134 Q1489.48 74.2369 1492.11 65.0818 Q1494.79 55.8863 1494.79 46.5287 Q1494.79 37.1711 1492.11 28.0566 Q1489.48 18.942 1484.09 9.62495 Z\" fill=\"#000000\" fill-rule=\"evenodd\" fill-opacity=\"1\" /><path clip-path=\"url(#clip850)\" d=\"M1557.25 12.096 L1564.14 12.096 L1543.07 80.2727 L1536.19 80.2727 L1557.25 12.096 Z\" fill=\"#000000\" fill-rule=\"evenodd\" fill-opacity=\"1\" /><path clip-path=\"url(#clip850)\" d=\"M1643.94 16.7545 L1643.94 25.383 Q1639.81 21.5346 1635.11 19.6307 Q1630.45 17.7268 1625.18 17.7268 Q1614.81 17.7268 1609.3 24.0867 Q1603.8 30.4061 1603.8 42.3968 Q1603.8 54.3469 1609.3 60.7069 Q1614.81 67.0263 1625.18 67.0263 Q1630.45 67.0263 1635.11 65.1223 Q1639.81 63.2184 1643.94 59.3701 L1643.94 67.9175 Q1639.65 70.8341 1634.83 72.2924 Q1630.05 73.7508 1624.7 73.7508 Q1610.97 73.7508 1603.07 65.3654 Q1595.17 56.9395 1595.17 42.3968 Q1595.17 27.8135 1603.07 19.4281 Q1610.97 11.0023 1624.7 11.0023 Q1630.13 11.0023 1634.91 12.4606 Q1639.73 13.8784 1643.94 16.7545 Z\" fill=\"#000000\" fill-rule=\"evenodd\" fill-opacity=\"1\" /><polyline clip-path=\"url(#clip852)\" style=\"stroke:#009af9; stroke-linecap:round; stroke-linejoin:round; stroke-width:4; stroke-opacity:1; fill:none\" points=\"248.062,407.214 256.612,672.449 265.161,940.87 273.711,1097.22 282.261,1191.47 290.811,1253.25 299.36,1294.23 307.91,1309.58 316.46,1302.52 325.01,1300.89 333.559,1302.35 342.109,1298.39 350.659,1299.76 359.209,1301.38 367.758,1303.15 376.308,1310.7 384.858,1316.54 393.408,1328.84 401.958,1340.32 410.507,1354.98 419.057,1371.01 427.607,1388.01 436.157,1405.18 444.706,1421.84 453.256,596.738 461.806,678.597 470.356,906.504 478.905,1060.24 487.455,1160.13 496.005,1227.85 504.555,1273.68 513.104,1291.02 521.654,1284.31 530.204,1282.95 538.754,1284.7 547.303,1280.2 555.853,1280.63 564.403,1281.37 572.953,1281.23 581.502,1287.16 590.052,1291.19 598.602,1301.86 607.152,1312.08 615.701,1325.65 624.251,1341.42 632.801,1358.83 641.351,1376.85 649.901,1395.15 658.45,235.059 667,162.047 675.55,426.541 684.1,645.777 692.649,806.781 701.199,926.766 709.749,1011.95 718.299,1042.67 726.848,1023.5 735.398,1016.1 743.948,1015.96 752.498,1001.76 761.047,998.795 769.597,994.537 778.147,988.141 786.697,994.978 795.246,996.531 803.796,1014.24 812.346,1029.63 820.896,1053.71 829.445,1084.13 837.995,1119.38 846.545,1158.39 855.095,1198.6 863.644,519.142 872.194,539.396 880.744,769.972 889.294,941.549 897.844,1058.87 906.393,1143.39 914.943,1202.22 923.493,1225.07 932.043,1216.54 940.592,1215.01 949.142,1217.64 957.692,1211.46 966.242,1211.76 974.791,1210.85 983.341,1208.32 991.891,1213.21 1000.44,1214.71 1008.99,1225.38 1017.54,1234.32 1026.09,1248.06 1034.64,1265.37 1043.19,1285.34 1051.74,1307.59 1060.29,1330.46 1068.84,688.07 1077.39,736.446 1085.94,940.058 1094.49,1089.68 1103.04,1185.96 1111.59,1251.65 1120.14,1297.19 1128.69,1314.87 1137.24,1312.08 1145.79,1313.18 1154.34,1316.46 1162.89,1314.11 1171.44,1314.38 1179.99,1315.88 1188.54,1314.86 1197.09,1318.38 1205.63,1320.64 1214.18,1326.93 1222.73,1334.22 1231.28,1343.44 1239.83,1355.03 1248.38,1368.58 1256.93,1382.5 1265.48,1398.22 1274.03,728.048 1282.58,541.723 1291.13,645.42 1299.68,807.517 1308.23,933.929 1316.78,1031.04 1325.33,1106.68 1333.88,1135.92 1342.43,1127.3 1350.98,1127.74 1359.53,1133.07 1368.08,1127.1 1376.63,1126.8 1385.18,1127.17 1393.73,1122.33 1402.28,1125.31 1410.83,1124.48 1419.38,1131.62 1427.93,1139.26 1436.48,1150.98 1445.03,1167.59 1453.58,1188.52 1462.13,1211.67 1470.68,1239.34 1479.23,827.365 1487.78,721.261 1496.33,832.77 1504.88,979.457 1513.43,1087.36 1521.98,1165.19 1530.53,1224.86 1539.08,1250.05 1547.63,1247.45 1556.17,1251.25 1564.72,1258.25 1573.27,1257.01 1581.82,1259.55 1590.37,1261.75 1598.92,1260.4 1607.47,1263.68 1616.02,1263.96 1624.57,1269.19 1633.12,1274.04 1641.67,1281.4 1650.22,1291.58 1658.77,1304.28 1667.32,1318.5 1675.87,1335.39 1684.42,1038.81 1692.97,874.916 1701.52,861.376 1710.07,955.223 1718.62,1051.27 1727.17,1122.79 1735.72,1182.29 1744.27,1209.46 1752.82,1206.83 1761.37,1211.97 1769.92,1220.74 1778.47,1220.76 1787.02,1226.36 1795.57,1230.68 1804.12,1229.96 1812.67,1233.2 1821.22,1231.38 1829.77,1235.85 1838.32,1238.65 1846.87,1243.18 1855.42,1250.22 1863.97,1259.32 1872.52,1271.89 1881.07,1287.92 1889.62,1255.64 1898.17,1146.43 1906.72,1112.96 1915.26,1151.59 1923.81,1210.72 1932.36,1257.57 1940.91,1295.1 1949.46,1313.1 1958.01,1313.08 1966.56,1318.19 1975.11,1325.72 1983.66,1328.01 1992.21,1333.84 2000.76,1338.64 2009.31,1340.17 2017.86,1343.81 2026.41,1343.92 2034.96,1347.52 2043.51,1349.58 2052.06,1352.3 2060.61,1356.07 2069.16,1360.65 2077.71,1367.08 2086.26,1375.39 2094.81,1279.57 2103.36,1224.69 2111.91,1226.41 2120.46,1259.72 2129.01,1307.62 2137.56,1348.44 2146.11,1376.48 2154.66,1389.02 2163.21,1391.78 2171.76,1398.12 2180.31,1404.85 2188.86,1408.64 2197.41,1414.09 2205.96,1419.13 2214.51,1421.86 2223.06,1425.67 2231.61,1427.38 2240.16,1430.41 2248.71,1432.77 2257.26,1434.89 2265.8,1437.47 2274.35,1440.23 2282.9,1443.5 2291.45,1447.87 \"/>\n",
       "<path clip-path=\"url(#clip850)\" d=\"M1885.83 272.585 L2280.56 272.585 L2280.56 168.905 L1885.83 168.905  Z\" fill=\"#ffffff\" fill-rule=\"evenodd\" fill-opacity=\"1\"/>\n",
       "<polyline clip-path=\"url(#clip850)\" style=\"stroke:#000000; stroke-linecap:round; stroke-linejoin:round; stroke-width:4; stroke-opacity:1; fill:none\" points=\"1885.83,272.585 2280.56,272.585 2280.56,168.905 1885.83,168.905 1885.83,272.585 \"/>\n",
       "<polyline clip-path=\"url(#clip850)\" style=\"stroke:#009af9; stroke-linecap:round; stroke-linejoin:round; stroke-width:4; stroke-opacity:1; fill:none\" points=\"1909.9,220.745 2054.3,220.745 \"/>\n",
       "<path clip-path=\"url(#clip850)\" d=\"M2098.87 213.094 L2098.87 217.076 Q2097.07 216.08 2095.24 215.594 Q2093.43 215.085 2091.58 215.085 Q2087.44 215.085 2085.15 217.724 Q2082.86 220.34 2082.86 225.085 Q2082.86 229.83 2085.15 232.469 Q2087.44 235.085 2091.58 235.085 Q2093.43 235.085 2095.24 234.599 Q2097.07 234.089 2098.87 233.094 L2098.87 237.029 Q2097.09 237.863 2095.17 238.279 Q2093.27 238.696 2091.12 238.696 Q2085.26 238.696 2081.81 235.015 Q2078.37 231.335 2078.37 225.085 Q2078.37 218.742 2081.84 215.108 Q2085.33 211.474 2091.4 211.474 Q2093.37 211.474 2095.24 211.891 Q2097.12 212.284 2098.87 213.094 Z\" fill=\"#000000\" fill-rule=\"evenodd\" fill-opacity=\"1\" /><path clip-path=\"url(#clip850)\" d=\"M2116.33 215.085 Q2112.9 215.085 2110.91 217.77 Q2108.92 220.432 2108.92 225.085 Q2108.92 229.738 2110.89 232.423 Q2112.88 235.085 2116.33 235.085 Q2119.73 235.085 2121.72 232.4 Q2123.71 229.715 2123.71 225.085 Q2123.71 220.478 2121.72 217.793 Q2119.73 215.085 2116.33 215.085 M2116.33 211.474 Q2121.88 211.474 2125.05 215.085 Q2128.23 218.696 2128.23 225.085 Q2128.23 231.451 2125.05 235.085 Q2121.88 238.696 2116.33 238.696 Q2110.75 238.696 2107.58 235.085 Q2104.43 231.451 2104.43 225.085 Q2104.43 218.696 2107.58 215.085 Q2110.75 211.474 2116.33 211.474 Z\" fill=\"#000000\" fill-rule=\"evenodd\" fill-opacity=\"1\" /><path clip-path=\"url(#clip850)\" d=\"M2151.81 212.863 L2151.81 216.891 Q2150.01 215.965 2148.06 215.502 Q2146.12 215.039 2144.04 215.039 Q2140.87 215.039 2139.27 216.011 Q2137.69 216.983 2137.69 218.928 Q2137.69 220.409 2138.83 221.265 Q2139.96 222.099 2143.39 222.863 L2144.85 223.187 Q2149.38 224.159 2151.28 225.941 Q2153.2 227.701 2153.2 230.872 Q2153.2 234.483 2150.33 236.589 Q2147.49 238.696 2142.49 238.696 Q2140.4 238.696 2138.13 238.279 Q2135.89 237.886 2133.39 237.076 L2133.39 232.677 Q2135.75 233.904 2138.04 234.529 Q2140.33 235.131 2142.58 235.131 Q2145.59 235.131 2147.21 234.113 Q2148.83 233.071 2148.83 231.196 Q2148.83 229.46 2147.65 228.534 Q2146.49 227.608 2142.53 226.752 L2141.05 226.404 Q2137.09 225.571 2135.33 223.858 Q2133.57 222.122 2133.57 219.113 Q2133.57 215.455 2136.17 213.465 Q2138.76 211.474 2143.53 211.474 Q2145.89 211.474 2147.97 211.821 Q2150.05 212.168 2151.81 212.863 Z\" fill=\"#000000\" fill-rule=\"evenodd\" fill-opacity=\"1\" /><path clip-path=\"url(#clip850)\" d=\"M2180.17 217.076 Q2181.77 214.205 2183.99 212.84 Q2186.21 211.474 2189.22 211.474 Q2193.27 211.474 2195.47 214.321 Q2197.67 217.145 2197.67 222.377 L2197.67 238.025 L2193.39 238.025 L2193.39 222.515 Q2193.39 218.789 2192.07 216.983 Q2190.75 215.178 2188.04 215.178 Q2184.73 215.178 2182.81 217.377 Q2180.89 219.576 2180.89 223.372 L2180.89 238.025 L2176.61 238.025 L2176.61 222.515 Q2176.61 218.765 2175.29 216.983 Q2173.97 215.178 2171.21 215.178 Q2167.95 215.178 2166.03 217.4 Q2164.11 219.599 2164.11 223.372 L2164.11 238.025 L2159.82 238.025 L2159.82 212.099 L2164.11 212.099 L2164.11 216.127 Q2165.56 213.742 2167.6 212.608 Q2169.64 211.474 2172.44 211.474 Q2175.26 211.474 2177.23 212.909 Q2179.22 214.344 2180.17 217.076 Z\" fill=\"#000000\" fill-rule=\"evenodd\" fill-opacity=\"1\" /><path clip-path=\"url(#clip850)\" d=\"M2216.21 215.085 Q2212.79 215.085 2210.8 217.77 Q2208.8 220.432 2208.8 225.085 Q2208.8 229.738 2210.77 232.423 Q2212.76 235.085 2216.21 235.085 Q2219.61 235.085 2221.61 232.4 Q2223.6 229.715 2223.6 225.085 Q2223.6 220.478 2221.61 217.793 Q2219.61 215.085 2216.21 215.085 M2216.21 211.474 Q2221.77 211.474 2224.94 215.085 Q2228.11 218.696 2228.11 225.085 Q2228.11 231.451 2224.94 235.085 Q2221.77 238.696 2216.21 238.696 Q2210.63 238.696 2207.46 235.085 Q2204.31 231.451 2204.31 225.085 Q2204.31 218.696 2207.46 215.085 Q2210.63 211.474 2216.21 211.474 Z\" fill=\"#000000\" fill-rule=\"evenodd\" fill-opacity=\"1\" /><path clip-path=\"url(#clip850)\" d=\"M2236.58 234.089 L2244.22 234.089 L2244.22 207.724 L2235.91 209.391 L2235.91 205.131 L2244.17 203.465 L2248.85 203.465 L2248.85 234.089 L2256.49 234.089 L2256.49 238.025 L2236.58 238.025 L2236.58 234.089 Z\" fill=\"#000000\" fill-rule=\"evenodd\" fill-opacity=\"1\" /></svg>\n"
      ]
     },
     "execution_count": 14,
     "metadata": {},
     "output_type": "execute_result"
    }
   ],
   "source": [
    "plot(abs.(diag(wlwl_meta.cov) .- diag(C_mod)) ./ diag(wlwl_meta.cov), label=\"cosmo1\", title=\"dz --- abs(C'-C) / C\")\n"
   ]
  },
  {
   "cell_type": "code",
   "execution_count": 15,
   "id": "24092f5f",
   "metadata": {},
   "outputs": [],
   "source": [
    "npzwrite(\"../../data/DESY1/nzs/wlwl_dz_cov_marg.npz\",\n",
    "        Dict(\"cov_marg\" => C_mod,\n",
    "             \"inv_cov_marg\" => inv_C_mod))"
   ]
  },
  {
   "cell_type": "code",
   "execution_count": 16,
   "id": "bbbd999c",
   "metadata": {},
   "outputs": [
    {
     "name": "stdout",
     "output_type": "stream",
     "text": [
      "40\n"
     ]
    }
   ],
   "source": [
    "C_mod = make_Cmod_Nz(cov_k0, cov_k1, cov_k2, cov_k3; cosmo=cosmo)\n",
    "inv_C_mod = inv(C_mod);"
   ]
  },
  {
   "cell_type": "code",
   "execution_count": 17,
   "id": "214e6089",
   "metadata": {},
   "outputs": [
    {
     "data": {
      "image/svg+xml": [
       "<?xml version=\"1.0\" encoding=\"utf-8\"?>\n",
       "<svg xmlns=\"http://www.w3.org/2000/svg\" xmlns:xlink=\"http://www.w3.org/1999/xlink\" width=\"600\" height=\"400\" viewBox=\"0 0 2400 1600\">\n",
       "<defs>\n",
       "  <clipPath id=\"clip890\">\n",
       "    <rect x=\"0\" y=\"0\" width=\"2400\" height=\"1600\"/>\n",
       "  </clipPath>\n",
       "</defs>\n",
       "<path clip-path=\"url(#clip890)\" d=\"M0 1600 L2400 1600 L2400 0 L0 0  Z\" fill=\"#ffffff\" fill-rule=\"evenodd\" fill-opacity=\"1\"/>\n",
       "<defs>\n",
       "  <clipPath id=\"clip891\">\n",
       "    <rect x=\"480\" y=\"0\" width=\"1681\" height=\"1600\"/>\n",
       "  </clipPath>\n",
       "</defs>\n",
       "<path clip-path=\"url(#clip890)\" d=\"M186.76 1486.45 L2352.76 1486.45 L2352.76 123.472 L186.76 123.472  Z\" fill=\"#ffffff\" fill-rule=\"evenodd\" fill-opacity=\"1\"/>\n",
       "<defs>\n",
       "  <clipPath id=\"clip892\">\n",
       "    <rect x=\"186\" y=\"123\" width=\"2167\" height=\"1364\"/>\n",
       "  </clipPath>\n",
       "</defs>\n",
       "<polyline clip-path=\"url(#clip892)\" style=\"stroke:#000000; stroke-linecap:round; stroke-linejoin:round; stroke-width:2; stroke-opacity:0.1; fill:none\" points=\"239.512,1486.45 239.512,123.472 \"/>\n",
       "<polyline clip-path=\"url(#clip892)\" style=\"stroke:#000000; stroke-linecap:round; stroke-linejoin:round; stroke-width:2; stroke-opacity:0.1; fill:none\" points=\"667,1486.45 667,123.472 \"/>\n",
       "<polyline clip-path=\"url(#clip892)\" style=\"stroke:#000000; stroke-linecap:round; stroke-linejoin:round; stroke-width:2; stroke-opacity:0.1; fill:none\" points=\"1094.49,1486.45 1094.49,123.472 \"/>\n",
       "<polyline clip-path=\"url(#clip892)\" style=\"stroke:#000000; stroke-linecap:round; stroke-linejoin:round; stroke-width:2; stroke-opacity:0.1; fill:none\" points=\"1521.98,1486.45 1521.98,123.472 \"/>\n",
       "<polyline clip-path=\"url(#clip892)\" style=\"stroke:#000000; stroke-linecap:round; stroke-linejoin:round; stroke-width:2; stroke-opacity:0.1; fill:none\" points=\"1949.46,1486.45 1949.46,123.472 \"/>\n",
       "<polyline clip-path=\"url(#clip890)\" style=\"stroke:#000000; stroke-linecap:round; stroke-linejoin:round; stroke-width:4; stroke-opacity:1; fill:none\" points=\"186.76,1486.45 2352.76,1486.45 \"/>\n",
       "<polyline clip-path=\"url(#clip890)\" style=\"stroke:#000000; stroke-linecap:round; stroke-linejoin:round; stroke-width:4; stroke-opacity:1; fill:none\" points=\"239.512,1486.45 239.512,1467.55 \"/>\n",
       "<polyline clip-path=\"url(#clip890)\" style=\"stroke:#000000; stroke-linecap:round; stroke-linejoin:round; stroke-width:4; stroke-opacity:1; fill:none\" points=\"667,1486.45 667,1467.55 \"/>\n",
       "<polyline clip-path=\"url(#clip890)\" style=\"stroke:#000000; stroke-linecap:round; stroke-linejoin:round; stroke-width:4; stroke-opacity:1; fill:none\" points=\"1094.49,1486.45 1094.49,1467.55 \"/>\n",
       "<polyline clip-path=\"url(#clip890)\" style=\"stroke:#000000; stroke-linecap:round; stroke-linejoin:round; stroke-width:4; stroke-opacity:1; fill:none\" points=\"1521.98,1486.45 1521.98,1467.55 \"/>\n",
       "<polyline clip-path=\"url(#clip890)\" style=\"stroke:#000000; stroke-linecap:round; stroke-linejoin:round; stroke-width:4; stroke-opacity:1; fill:none\" points=\"1949.46,1486.45 1949.46,1467.55 \"/>\n",
       "<path clip-path=\"url(#clip890)\" d=\"M239.512 1517.37 Q235.901 1517.37 234.072 1520.93 Q232.267 1524.47 232.267 1531.6 Q232.267 1538.71 234.072 1542.27 Q235.901 1545.82 239.512 1545.82 Q243.146 1545.82 244.952 1542.27 Q246.781 1538.71 246.781 1531.6 Q246.781 1524.47 244.952 1520.93 Q243.146 1517.37 239.512 1517.37 M239.512 1513.66 Q245.322 1513.66 248.378 1518.27 Q251.456 1522.85 251.456 1531.6 Q251.456 1540.33 248.378 1544.94 Q245.322 1549.52 239.512 1549.52 Q233.702 1549.52 230.623 1544.94 Q227.568 1540.33 227.568 1531.6 Q227.568 1522.85 230.623 1518.27 Q233.702 1513.66 239.512 1513.66 Z\" fill=\"#000000\" fill-rule=\"evenodd\" fill-opacity=\"1\" /><path clip-path=\"url(#clip890)\" d=\"M641.699 1514.29 L660.056 1514.29 L660.056 1518.22 L645.982 1518.22 L645.982 1526.7 Q647 1526.35 648.019 1526.19 Q649.037 1526 650.056 1526 Q655.843 1526 659.222 1529.17 Q662.602 1532.34 662.602 1537.76 Q662.602 1543.34 659.13 1546.44 Q655.658 1549.52 649.338 1549.52 Q647.162 1549.52 644.894 1549.15 Q642.648 1548.78 640.241 1548.04 L640.241 1543.34 Q642.324 1544.47 644.546 1545.03 Q646.769 1545.58 649.246 1545.58 Q653.25 1545.58 655.588 1543.48 Q657.926 1541.37 657.926 1537.76 Q657.926 1534.15 655.588 1532.04 Q653.25 1529.94 649.246 1529.94 Q647.371 1529.94 645.496 1530.35 Q643.644 1530.77 641.699 1531.65 L641.699 1514.29 Z\" fill=\"#000000\" fill-rule=\"evenodd\" fill-opacity=\"1\" /><path clip-path=\"url(#clip890)\" d=\"M681.815 1517.37 Q678.204 1517.37 676.375 1520.93 Q674.569 1524.47 674.569 1531.6 Q674.569 1538.71 676.375 1542.27 Q678.204 1545.82 681.815 1545.82 Q685.449 1545.82 687.255 1542.27 Q689.083 1538.71 689.083 1531.6 Q689.083 1524.47 687.255 1520.93 Q685.449 1517.37 681.815 1517.37 M681.815 1513.66 Q687.625 1513.66 690.68 1518.27 Q693.759 1522.85 693.759 1531.6 Q693.759 1540.33 690.68 1544.94 Q687.625 1549.52 681.815 1549.52 Q676.005 1549.52 672.926 1544.94 Q669.87 1540.33 669.87 1531.6 Q669.87 1522.85 672.926 1518.27 Q676.005 1513.66 681.815 1513.66 Z\" fill=\"#000000\" fill-rule=\"evenodd\" fill-opacity=\"1\" /><path clip-path=\"url(#clip890)\" d=\"M1054.09 1544.91 L1061.73 1544.91 L1061.73 1518.55 L1053.42 1520.21 L1053.42 1515.95 L1061.69 1514.29 L1066.36 1514.29 L1066.36 1544.91 L1074 1544.91 L1074 1548.85 L1054.09 1548.85 L1054.09 1544.91 Z\" fill=\"#000000\" fill-rule=\"evenodd\" fill-opacity=\"1\" /><path clip-path=\"url(#clip890)\" d=\"M1093.45 1517.37 Q1089.84 1517.37 1088.01 1520.93 Q1086.2 1524.47 1086.2 1531.6 Q1086.2 1538.71 1088.01 1542.27 Q1089.84 1545.82 1093.45 1545.82 Q1097.08 1545.82 1098.89 1542.27 Q1100.71 1538.71 1100.71 1531.6 Q1100.71 1524.47 1098.89 1520.93 Q1097.08 1517.37 1093.45 1517.37 M1093.45 1513.66 Q1099.26 1513.66 1102.31 1518.27 Q1105.39 1522.85 1105.39 1531.6 Q1105.39 1540.33 1102.31 1544.94 Q1099.26 1549.52 1093.45 1549.52 Q1087.64 1549.52 1084.56 1544.94 Q1081.5 1540.33 1081.5 1531.6 Q1081.5 1522.85 1084.56 1518.27 Q1087.64 1513.66 1093.45 1513.66 Z\" fill=\"#000000\" fill-rule=\"evenodd\" fill-opacity=\"1\" /><path clip-path=\"url(#clip890)\" d=\"M1123.61 1517.37 Q1120 1517.37 1118.17 1520.93 Q1116.36 1524.47 1116.36 1531.6 Q1116.36 1538.71 1118.17 1542.27 Q1120 1545.82 1123.61 1545.82 Q1127.24 1545.82 1129.05 1542.27 Q1130.88 1538.71 1130.88 1531.6 Q1130.88 1524.47 1129.05 1520.93 Q1127.24 1517.37 1123.61 1517.37 M1123.61 1513.66 Q1129.42 1513.66 1132.47 1518.27 Q1135.55 1522.85 1135.55 1531.6 Q1135.55 1540.33 1132.47 1544.94 Q1129.42 1549.52 1123.61 1549.52 Q1117.8 1549.52 1114.72 1544.94 Q1111.66 1540.33 1111.66 1531.6 Q1111.66 1522.85 1114.72 1518.27 Q1117.8 1513.66 1123.61 1513.66 Z\" fill=\"#000000\" fill-rule=\"evenodd\" fill-opacity=\"1\" /><path clip-path=\"url(#clip890)\" d=\"M1481.58 1544.91 L1489.22 1544.91 L1489.22 1518.55 L1480.91 1520.21 L1480.91 1515.95 L1489.18 1514.29 L1493.85 1514.29 L1493.85 1544.91 L1501.49 1544.91 L1501.49 1548.85 L1481.58 1548.85 L1481.58 1544.91 Z\" fill=\"#000000\" fill-rule=\"evenodd\" fill-opacity=\"1\" /><path clip-path=\"url(#clip890)\" d=\"M1510.98 1514.29 L1529.34 1514.29 L1529.34 1518.22 L1515.26 1518.22 L1515.26 1526.7 Q1516.28 1526.35 1517.3 1526.19 Q1518.32 1526 1519.34 1526 Q1525.12 1526 1528.5 1529.17 Q1531.88 1532.34 1531.88 1537.76 Q1531.88 1543.34 1528.41 1546.44 Q1524.94 1549.52 1518.62 1549.52 Q1516.44 1549.52 1514.17 1549.15 Q1511.93 1548.78 1509.52 1548.04 L1509.52 1543.34 Q1511.61 1544.47 1513.83 1545.03 Q1516.05 1545.58 1518.53 1545.58 Q1522.53 1545.58 1524.87 1543.48 Q1527.21 1541.37 1527.21 1537.76 Q1527.21 1534.15 1524.87 1532.04 Q1522.53 1529.94 1518.53 1529.94 Q1516.65 1529.94 1514.78 1530.35 Q1512.93 1530.77 1510.98 1531.65 L1510.98 1514.29 Z\" fill=\"#000000\" fill-rule=\"evenodd\" fill-opacity=\"1\" /><path clip-path=\"url(#clip890)\" d=\"M1551.1 1517.37 Q1547.49 1517.37 1545.66 1520.93 Q1543.85 1524.47 1543.85 1531.6 Q1543.85 1538.71 1545.66 1542.27 Q1547.49 1545.82 1551.1 1545.82 Q1554.73 1545.82 1556.54 1542.27 Q1558.36 1538.71 1558.36 1531.6 Q1558.36 1524.47 1556.54 1520.93 Q1554.73 1517.37 1551.1 1517.37 M1551.1 1513.66 Q1556.91 1513.66 1559.96 1518.27 Q1563.04 1522.85 1563.04 1531.6 Q1563.04 1540.33 1559.96 1544.94 Q1556.91 1549.52 1551.1 1549.52 Q1545.29 1549.52 1542.21 1544.94 Q1539.15 1540.33 1539.15 1531.6 Q1539.15 1522.85 1542.21 1518.27 Q1545.29 1513.66 1551.1 1513.66 Z\" fill=\"#000000\" fill-rule=\"evenodd\" fill-opacity=\"1\" /><path clip-path=\"url(#clip890)\" d=\"M1913.16 1544.91 L1929.48 1544.91 L1929.48 1548.85 L1907.53 1548.85 L1907.53 1544.91 Q1910.19 1542.16 1914.78 1537.53 Q1919.38 1532.88 1920.56 1531.53 Q1922.81 1529.01 1923.69 1527.27 Q1924.59 1525.51 1924.59 1523.82 Q1924.59 1521.07 1922.65 1519.33 Q1920.73 1517.6 1917.62 1517.6 Q1915.42 1517.6 1912.97 1518.36 Q1910.54 1519.13 1907.76 1520.68 L1907.76 1515.95 Q1910.59 1514.82 1913.04 1514.24 Q1915.49 1513.66 1917.53 1513.66 Q1922.9 1513.66 1926.1 1516.35 Q1929.29 1519.03 1929.29 1523.52 Q1929.29 1525.65 1928.48 1527.57 Q1927.69 1529.47 1925.59 1532.07 Q1925.01 1532.74 1921.91 1535.95 Q1918.8 1539.15 1913.16 1544.91 Z\" fill=\"#000000\" fill-rule=\"evenodd\" fill-opacity=\"1\" /><path clip-path=\"url(#clip890)\" d=\"M1949.29 1517.37 Q1945.68 1517.37 1943.85 1520.93 Q1942.04 1524.47 1942.04 1531.6 Q1942.04 1538.71 1943.85 1542.27 Q1945.68 1545.82 1949.29 1545.82 Q1952.92 1545.82 1954.73 1542.27 Q1956.56 1538.71 1956.56 1531.6 Q1956.56 1524.47 1954.73 1520.93 Q1952.92 1517.37 1949.29 1517.37 M1949.29 1513.66 Q1955.1 1513.66 1958.16 1518.27 Q1961.23 1522.85 1961.23 1531.6 Q1961.23 1540.33 1958.16 1544.94 Q1955.1 1549.52 1949.29 1549.52 Q1943.48 1549.52 1940.4 1544.94 Q1937.35 1540.33 1937.35 1531.6 Q1937.35 1522.85 1940.4 1518.27 Q1943.48 1513.66 1949.29 1513.66 Z\" fill=\"#000000\" fill-rule=\"evenodd\" fill-opacity=\"1\" /><path clip-path=\"url(#clip890)\" d=\"M1979.45 1517.37 Q1975.84 1517.37 1974.01 1520.93 Q1972.21 1524.47 1972.21 1531.6 Q1972.21 1538.71 1974.01 1542.27 Q1975.84 1545.82 1979.45 1545.82 Q1983.09 1545.82 1984.89 1542.27 Q1986.72 1538.71 1986.72 1531.6 Q1986.72 1524.47 1984.89 1520.93 Q1983.09 1517.37 1979.45 1517.37 M1979.45 1513.66 Q1985.26 1513.66 1988.32 1518.27 Q1991.4 1522.85 1991.4 1531.6 Q1991.4 1540.33 1988.32 1544.94 Q1985.26 1549.52 1979.45 1549.52 Q1973.64 1549.52 1970.56 1544.94 Q1967.51 1540.33 1967.51 1531.6 Q1967.51 1522.85 1970.56 1518.27 Q1973.64 1513.66 1979.45 1513.66 Z\" fill=\"#000000\" fill-rule=\"evenodd\" fill-opacity=\"1\" /><polyline clip-path=\"url(#clip892)\" style=\"stroke:#000000; stroke-linecap:round; stroke-linejoin:round; stroke-width:2; stroke-opacity:0.1; fill:none\" points=\"186.76,1249.54 2352.76,1249.54 \"/>\n",
       "<polyline clip-path=\"url(#clip892)\" style=\"stroke:#000000; stroke-linecap:round; stroke-linejoin:round; stroke-width:2; stroke-opacity:0.1; fill:none\" points=\"186.76,951.391 2352.76,951.391 \"/>\n",
       "<polyline clip-path=\"url(#clip892)\" style=\"stroke:#000000; stroke-linecap:round; stroke-linejoin:round; stroke-width:2; stroke-opacity:0.1; fill:none\" points=\"186.76,653.245 2352.76,653.245 \"/>\n",
       "<polyline clip-path=\"url(#clip892)\" style=\"stroke:#000000; stroke-linecap:round; stroke-linejoin:round; stroke-width:2; stroke-opacity:0.1; fill:none\" points=\"186.76,355.1 2352.76,355.1 \"/>\n",
       "<polyline clip-path=\"url(#clip890)\" style=\"stroke:#000000; stroke-linecap:round; stroke-linejoin:round; stroke-width:4; stroke-opacity:1; fill:none\" points=\"186.76,1486.45 186.76,123.472 \"/>\n",
       "<polyline clip-path=\"url(#clip890)\" style=\"stroke:#000000; stroke-linecap:round; stroke-linejoin:round; stroke-width:4; stroke-opacity:1; fill:none\" points=\"186.76,1249.54 205.658,1249.54 \"/>\n",
       "<polyline clip-path=\"url(#clip890)\" style=\"stroke:#000000; stroke-linecap:round; stroke-linejoin:round; stroke-width:4; stroke-opacity:1; fill:none\" points=\"186.76,951.391 205.658,951.391 \"/>\n",
       "<polyline clip-path=\"url(#clip890)\" style=\"stroke:#000000; stroke-linecap:round; stroke-linejoin:round; stroke-width:4; stroke-opacity:1; fill:none\" points=\"186.76,653.245 205.658,653.245 \"/>\n",
       "<polyline clip-path=\"url(#clip890)\" style=\"stroke:#000000; stroke-linecap:round; stroke-linejoin:round; stroke-width:4; stroke-opacity:1; fill:none\" points=\"186.76,355.1 205.658,355.1 \"/>\n",
       "<path clip-path=\"url(#clip890)\" d=\"M64.6495 1235.34 Q61.0384 1235.34 59.2097 1238.9 Q57.4041 1242.44 57.4041 1249.57 Q57.4041 1256.68 59.2097 1260.24 Q61.0384 1263.78 64.6495 1263.78 Q68.2837 1263.78 70.0892 1260.24 Q71.9179 1256.68 71.9179 1249.57 Q71.9179 1242.44 70.0892 1238.9 Q68.2837 1235.34 64.6495 1235.34 M64.6495 1231.63 Q70.4596 1231.63 73.5152 1236.24 Q76.5938 1240.82 76.5938 1249.57 Q76.5938 1258.3 73.5152 1262.91 Q70.4596 1267.49 64.6495 1267.49 Q58.8393 1267.49 55.7606 1262.91 Q52.7051 1258.3 52.7051 1249.57 Q52.7051 1240.82 55.7606 1236.24 Q58.8393 1231.63 64.6495 1231.63 Z\" fill=\"#000000\" fill-rule=\"evenodd\" fill-opacity=\"1\" /><path clip-path=\"url(#clip890)\" d=\"M84.8114 1260.94 L89.6956 1260.94 L89.6956 1266.82 L84.8114 1266.82 L84.8114 1260.94 Z\" fill=\"#000000\" fill-rule=\"evenodd\" fill-opacity=\"1\" /><path clip-path=\"url(#clip890)\" d=\"M109.881 1235.34 Q106.27 1235.34 104.441 1238.9 Q102.635 1242.44 102.635 1249.57 Q102.635 1256.68 104.441 1260.24 Q106.27 1263.78 109.881 1263.78 Q113.515 1263.78 115.32 1260.24 Q117.149 1256.68 117.149 1249.57 Q117.149 1242.44 115.32 1238.9 Q113.515 1235.34 109.881 1235.34 M109.881 1231.63 Q115.691 1231.63 118.746 1236.24 Q121.825 1240.82 121.825 1249.57 Q121.825 1258.3 118.746 1262.91 Q115.691 1267.49 109.881 1267.49 Q104.071 1267.49 100.992 1262.91 Q97.9363 1258.3 97.9363 1249.57 Q97.9363 1240.82 100.992 1236.24 Q104.071 1231.63 109.881 1231.63 Z\" fill=\"#000000\" fill-rule=\"evenodd\" fill-opacity=\"1\" /><path clip-path=\"url(#clip890)\" d=\"M130.853 1262.88 L138.492 1262.88 L138.492 1236.52 L130.182 1238.18 L130.182 1233.92 L138.445 1232.26 L143.121 1232.26 L143.121 1262.88 L150.76 1262.88 L150.76 1266.82 L130.853 1266.82 L130.853 1262.88 Z\" fill=\"#000000\" fill-rule=\"evenodd\" fill-opacity=\"1\" /><path clip-path=\"url(#clip890)\" d=\"M65.0198 937.19 Q61.4087 937.19 59.58 940.755 Q57.7745 944.296 57.7745 951.426 Q57.7745 958.532 59.58 962.097 Q61.4087 965.639 65.0198 965.639 Q68.6541 965.639 70.4596 962.097 Q72.2883 958.532 72.2883 951.426 Q72.2883 944.296 70.4596 940.755 Q68.6541 937.19 65.0198 937.19 M65.0198 933.486 Q70.83 933.486 73.8855 938.093 Q76.9642 942.676 76.9642 951.426 Q76.9642 960.153 73.8855 964.759 Q70.83 969.343 65.0198 969.343 Q59.2097 969.343 56.131 964.759 Q53.0754 960.153 53.0754 951.426 Q53.0754 942.676 56.131 938.093 Q59.2097 933.486 65.0198 933.486 Z\" fill=\"#000000\" fill-rule=\"evenodd\" fill-opacity=\"1\" /><path clip-path=\"url(#clip890)\" d=\"M85.1818 962.792 L90.066 962.792 L90.066 968.671 L85.1818 968.671 L85.1818 962.792 Z\" fill=\"#000000\" fill-rule=\"evenodd\" fill-opacity=\"1\" /><path clip-path=\"url(#clip890)\" d=\"M110.251 937.19 Q106.64 937.19 104.811 940.755 Q103.006 944.296 103.006 951.426 Q103.006 958.532 104.811 962.097 Q106.64 965.639 110.251 965.639 Q113.885 965.639 115.691 962.097 Q117.52 958.532 117.52 951.426 Q117.52 944.296 115.691 940.755 Q113.885 937.19 110.251 937.19 M110.251 933.486 Q116.061 933.486 119.117 938.093 Q122.195 942.676 122.195 951.426 Q122.195 960.153 119.117 964.759 Q116.061 969.343 110.251 969.343 Q104.441 969.343 101.362 964.759 Q98.3067 960.153 98.3067 951.426 Q98.3067 942.676 101.362 938.093 Q104.441 933.486 110.251 933.486 Z\" fill=\"#000000\" fill-rule=\"evenodd\" fill-opacity=\"1\" /><path clip-path=\"url(#clip890)\" d=\"M134.441 964.736 L150.76 964.736 L150.76 968.671 L128.816 968.671 L128.816 964.736 Q131.478 961.981 136.061 957.352 Q140.668 952.699 141.848 951.357 Q144.093 948.833 144.973 947.097 Q145.876 945.338 145.876 943.648 Q145.876 940.894 143.931 939.157 Q142.01 937.421 138.908 937.421 Q136.709 937.421 134.256 938.185 Q131.825 938.949 129.047 940.5 L129.047 935.778 Q131.871 934.644 134.325 934.065 Q136.779 933.486 138.816 933.486 Q144.186 933.486 147.38 936.171 Q150.575 938.857 150.575 943.347 Q150.575 945.477 149.765 947.398 Q148.978 949.296 146.871 951.889 Q146.293 952.56 143.191 955.778 Q140.089 958.972 134.441 964.736 Z\" fill=\"#000000\" fill-rule=\"evenodd\" fill-opacity=\"1\" /><path clip-path=\"url(#clip890)\" d=\"M64.0708 639.044 Q60.4597 639.044 58.631 642.609 Q56.8254 646.151 56.8254 653.28 Q56.8254 660.387 58.631 663.951 Q60.4597 667.493 64.0708 667.493 Q67.705 667.493 69.5105 663.951 Q71.3392 660.387 71.3392 653.28 Q71.3392 646.151 69.5105 642.609 Q67.705 639.044 64.0708 639.044 M64.0708 635.34 Q69.8809 635.34 72.9365 639.947 Q76.0151 644.53 76.0151 653.28 Q76.0151 662.007 72.9365 666.613 Q69.8809 671.197 64.0708 671.197 Q58.2606 671.197 55.1819 666.613 Q52.1264 662.007 52.1264 653.28 Q52.1264 644.53 55.1819 639.947 Q58.2606 635.34 64.0708 635.34 Z\" fill=\"#000000\" fill-rule=\"evenodd\" fill-opacity=\"1\" /><path clip-path=\"url(#clip890)\" d=\"M84.2327 664.646 L89.1169 664.646 L89.1169 670.525 L84.2327 670.525 L84.2327 664.646 Z\" fill=\"#000000\" fill-rule=\"evenodd\" fill-opacity=\"1\" /><path clip-path=\"url(#clip890)\" d=\"M109.302 639.044 Q105.691 639.044 103.862 642.609 Q102.057 646.151 102.057 653.28 Q102.057 660.387 103.862 663.951 Q105.691 667.493 109.302 667.493 Q112.936 667.493 114.742 663.951 Q116.57 660.387 116.57 653.28 Q116.57 646.151 114.742 642.609 Q112.936 639.044 109.302 639.044 M109.302 635.34 Q115.112 635.34 118.168 639.947 Q121.246 644.53 121.246 653.28 Q121.246 662.007 118.168 666.613 Q115.112 671.197 109.302 671.197 Q103.492 671.197 100.413 666.613 Q97.3576 662.007 97.3576 653.28 Q97.3576 644.53 100.413 639.947 Q103.492 635.34 109.302 635.34 Z\" fill=\"#000000\" fill-rule=\"evenodd\" fill-opacity=\"1\" /><path clip-path=\"url(#clip890)\" d=\"M143.631 651.891 Q146.987 652.609 148.862 654.877 Q150.76 657.146 150.76 660.479 Q150.76 665.595 147.242 668.396 Q143.723 671.197 137.242 671.197 Q135.066 671.197 132.751 670.757 Q130.459 670.34 128.006 669.484 L128.006 664.97 Q129.95 666.104 132.265 666.683 Q134.58 667.262 137.103 667.262 Q141.501 667.262 143.793 665.525 Q146.107 663.789 146.107 660.479 Q146.107 657.424 143.955 655.711 Q141.825 653.975 138.006 653.975 L133.978 653.975 L133.978 650.132 L138.191 650.132 Q141.64 650.132 143.468 648.766 Q145.297 647.377 145.297 644.785 Q145.297 642.123 143.399 640.711 Q141.524 639.276 138.006 639.276 Q136.084 639.276 133.885 639.692 Q131.686 640.109 129.047 640.988 L129.047 636.822 Q131.709 636.081 134.024 635.711 Q136.362 635.34 138.422 635.34 Q143.746 635.34 146.848 637.771 Q149.95 640.178 149.95 644.299 Q149.95 647.169 148.306 649.16 Q146.663 651.127 143.631 651.891 Z\" fill=\"#000000\" fill-rule=\"evenodd\" fill-opacity=\"1\" /><path clip-path=\"url(#clip890)\" d=\"M62.9365 340.898 Q59.3254 340.898 57.4967 344.463 Q55.6912 348.005 55.6912 355.134 Q55.6912 362.241 57.4967 365.805 Q59.3254 369.347 62.9365 369.347 Q66.5707 369.347 68.3763 365.805 Q70.205 362.241 70.205 355.134 Q70.205 348.005 68.3763 344.463 Q66.5707 340.898 62.9365 340.898 M62.9365 337.195 Q68.7467 337.195 71.8022 341.801 Q74.8809 346.384 74.8809 355.134 Q74.8809 363.861 71.8022 368.468 Q68.7467 373.051 62.9365 373.051 Q57.1264 373.051 54.0477 368.468 Q50.9921 363.861 50.9921 355.134 Q50.9921 346.384 54.0477 341.801 Q57.1264 337.195 62.9365 337.195 Z\" fill=\"#000000\" fill-rule=\"evenodd\" fill-opacity=\"1\" /><path clip-path=\"url(#clip890)\" d=\"M83.0984 366.5 L87.9827 366.5 L87.9827 372.38 L83.0984 372.38 L83.0984 366.5 Z\" fill=\"#000000\" fill-rule=\"evenodd\" fill-opacity=\"1\" /><path clip-path=\"url(#clip890)\" d=\"M108.168 340.898 Q104.557 340.898 102.728 344.463 Q100.922 348.005 100.922 355.134 Q100.922 362.241 102.728 365.805 Q104.557 369.347 108.168 369.347 Q111.802 369.347 113.608 365.805 Q115.436 362.241 115.436 355.134 Q115.436 348.005 113.608 344.463 Q111.802 340.898 108.168 340.898 M108.168 337.195 Q113.978 337.195 117.033 341.801 Q120.112 346.384 120.112 355.134 Q120.112 363.861 117.033 368.468 Q113.978 373.051 108.168 373.051 Q102.358 373.051 99.2789 368.468 Q96.2234 363.861 96.2234 355.134 Q96.2234 346.384 99.2789 341.801 Q102.358 337.195 108.168 337.195 Z\" fill=\"#000000\" fill-rule=\"evenodd\" fill-opacity=\"1\" /><path clip-path=\"url(#clip890)\" d=\"M141.177 341.894 L129.371 360.343 L141.177 360.343 L141.177 341.894 M139.95 337.82 L145.83 337.82 L145.83 360.343 L150.76 360.343 L150.76 364.231 L145.83 364.231 L145.83 372.38 L141.177 372.38 L141.177 364.231 L125.575 364.231 L125.575 359.718 L139.95 337.82 Z\" fill=\"#000000\" fill-rule=\"evenodd\" fill-opacity=\"1\" /><path clip-path=\"url(#clip890)\" d=\"M922.596 12.096 L933.614 12.096 L960.431 62.6918 L960.431 12.096 L968.371 12.096 L968.371 72.576 L957.352 72.576 L930.535 21.9802 L930.535 72.576 L922.596 72.576 L922.596 12.096 Z\" fill=\"#000000\" fill-rule=\"evenodd\" fill-opacity=\"1\" /><path clip-path=\"url(#clip890)\" d=\"M981.091 27.2059 L1016.5 27.2059 L1016.5 34.0114 L988.463 66.6212 L1016.5 66.6212 L1016.5 72.576 L980.078 72.576 L980.078 65.7705 L1008.11 33.1607 L981.091 33.1607 L981.091 27.2059 Z\" fill=\"#000000\" fill-rule=\"evenodd\" fill-opacity=\"1\" /><path clip-path=\"url(#clip890)\" d=\"M1050.48 46.5287 L1072.32 46.5287 L1072.32 53.1722 L1050.48 53.1722 L1050.48 46.5287 Z\" fill=\"#000000\" fill-rule=\"evenodd\" fill-opacity=\"1\" /><path clip-path=\"url(#clip890)\" d=\"M1131.18 49.7694 Q1122.14 49.7694 1118.66 51.8354 Q1115.18 53.9013 1115.18 58.8839 Q1115.18 62.8538 1117.77 65.2034 Q1120.4 67.5124 1124.9 67.5124 Q1131.1 67.5124 1134.82 63.1374 Q1138.59 58.7219 1138.59 51.4303 L1138.59 49.7694 L1131.18 49.7694 M1146.04 46.6907 L1146.04 72.576 L1138.59 72.576 L1138.59 65.6895 Q1136.04 69.8214 1132.23 71.8063 Q1128.42 73.7508 1122.91 73.7508 Q1115.95 73.7508 1111.81 69.8619 Q1107.72 65.9325 1107.72 59.3701 Q1107.72 51.7138 1112.83 47.825 Q1117.97 43.9361 1128.14 43.9361 L1138.59 43.9361 L1138.59 43.2069 Q1138.59 38.0623 1135.19 35.2672 Q1131.82 32.4315 1125.71 32.4315 Q1121.82 32.4315 1118.13 33.3632 Q1114.45 34.295 1111.04 36.1584 L1111.04 29.2718 Q1115.13 27.692 1118.98 26.9223 Q1122.83 26.1121 1126.48 26.1121 Q1136.32 26.1121 1141.18 31.2163 Q1146.04 36.3204 1146.04 46.6907 Z\" fill=\"#000000\" fill-rule=\"evenodd\" fill-opacity=\"1\" /><path clip-path=\"url(#clip890)\" d=\"M1193.97 49.9314 Q1193.97 41.7081 1190.56 37.0496 Q1187.2 32.3505 1181.29 32.3505 Q1175.37 32.3505 1171.97 37.0496 Q1168.61 41.7081 1168.61 49.9314 Q1168.61 58.1548 1171.97 62.8538 Q1175.37 67.5124 1181.29 67.5124 Q1187.2 67.5124 1190.56 62.8538 Q1193.97 58.1548 1193.97 49.9314 M1168.61 34.0924 Q1170.96 30.0415 1174.52 28.0971 Q1178.13 26.1121 1183.11 26.1121 Q1191.37 26.1121 1196.52 32.6746 Q1201.7 39.2371 1201.7 49.9314 Q1201.7 60.6258 1196.52 67.1883 Q1191.37 73.7508 1183.11 73.7508 Q1178.13 73.7508 1174.52 71.8063 Q1170.96 69.8214 1168.61 65.7705 L1168.61 72.576 L1161.11 72.576 L1161.11 9.54393 L1168.61 9.54393 L1168.61 34.0924 Z\" fill=\"#000000\" fill-rule=\"evenodd\" fill-opacity=\"1\" /><path clip-path=\"url(#clip890)\" d=\"M1242.98 28.5427 L1242.98 35.5912 Q1239.82 33.9709 1236.42 33.1607 Q1233.02 32.3505 1229.37 32.3505 Q1223.82 32.3505 1221.03 34.0519 Q1218.27 35.7533 1218.27 39.156 Q1218.27 41.7486 1220.26 43.2475 Q1222.24 44.7058 1228.24 46.0426 L1230.79 46.6097 Q1238.73 48.3111 1242.05 51.4303 Q1245.41 54.509 1245.41 60.0587 Q1245.41 66.3781 1240.39 70.0644 Q1235.41 73.7508 1226.66 73.7508 Q1223.01 73.7508 1219.04 73.0216 Q1215.11 72.3329 1210.74 70.9151 L1210.74 63.2184 Q1214.87 65.3654 1218.88 66.4591 Q1222.89 67.5124 1226.82 67.5124 Q1232.08 67.5124 1234.92 65.73 Q1237.76 63.9071 1237.76 60.6258 Q1237.76 57.5877 1235.69 55.9673 Q1233.66 54.3469 1226.74 52.8481 L1224.14 52.2405 Q1217.22 50.7821 1214.14 47.7845 Q1211.06 44.7463 1211.06 39.4801 Q1211.06 33.0797 1215.6 29.5959 Q1220.13 26.1121 1228.48 26.1121 Q1232.61 26.1121 1236.26 26.7198 Q1239.9 27.3274 1242.98 28.5427 Z\" fill=\"#000000\" fill-rule=\"evenodd\" fill-opacity=\"1\" /><path clip-path=\"url(#clip890)\" d=\"M1275.19 9.62495 Q1269.76 18.942 1267.12 28.0566 Q1264.49 37.1711 1264.49 46.5287 Q1264.49 55.8863 1267.12 65.0818 Q1269.8 74.2369 1275.19 83.5134 L1268.7 83.5134 Q1262.63 73.9938 1259.59 64.7983 Q1256.59 55.6027 1256.59 46.5287 Q1256.59 37.4952 1259.59 28.3401 Q1262.59 19.1851 1268.7 9.62495 L1275.19 9.62495 Z\" fill=\"#000000\" fill-rule=\"evenodd\" fill-opacity=\"1\" /><path clip-path=\"url(#clip890)\" d=\"M1335.26 16.7545 L1335.26 25.383 Q1331.13 21.5346 1326.43 19.6307 Q1321.77 17.7268 1316.51 17.7268 Q1306.14 17.7268 1300.63 24.0867 Q1295.12 30.4061 1295.12 42.3968 Q1295.12 54.3469 1300.63 60.7069 Q1306.14 67.0263 1316.51 67.0263 Q1321.77 67.0263 1326.43 65.1223 Q1331.13 63.2184 1335.26 59.3701 L1335.26 67.9175 Q1330.97 70.8341 1326.15 72.2924 Q1321.37 73.7508 1316.02 73.7508 Q1302.29 73.7508 1294.39 65.3654 Q1286.49 56.9395 1286.49 42.3968 Q1286.49 27.8135 1294.39 19.4281 Q1302.29 11.0023 1316.02 11.0023 Q1321.45 11.0023 1326.23 12.4606 Q1331.05 13.8784 1335.26 16.7545 Z\" fill=\"#000000\" fill-rule=\"evenodd\" fill-opacity=\"1\" /><path clip-path=\"url(#clip890)\" d=\"M1354.62 12.096 L1354.62 34.5785 L1347.74 34.5785 L1347.74 12.096 L1354.62 12.096 Z\" fill=\"#000000\" fill-rule=\"evenodd\" fill-opacity=\"1\" /><path clip-path=\"url(#clip890)\" d=\"M1366.62 46.5287 L1388.45 46.5287 L1388.45 53.1722 L1366.62 53.1722 L1366.62 46.5287 Z\" fill=\"#000000\" fill-rule=\"evenodd\" fill-opacity=\"1\" /><path clip-path=\"url(#clip890)\" d=\"M1445.93 16.7545 L1445.93 25.383 Q1441.8 21.5346 1437.1 19.6307 Q1432.44 17.7268 1427.18 17.7268 Q1416.81 17.7268 1411.3 24.0867 Q1405.79 30.4061 1405.79 42.3968 Q1405.79 54.3469 1411.3 60.7069 Q1416.81 67.0263 1427.18 67.0263 Q1432.44 67.0263 1437.1 65.1223 Q1441.8 63.2184 1445.93 59.3701 L1445.93 67.9175 Q1441.64 70.8341 1436.82 72.2924 Q1432.04 73.7508 1426.69 73.7508 Q1412.96 73.7508 1405.06 65.3654 Q1397.16 56.9395 1397.16 42.3968 Q1397.16 27.8135 1405.06 19.4281 Q1412.96 11.0023 1426.69 11.0023 Q1432.12 11.0023 1436.9 12.4606 Q1441.72 13.8784 1445.93 16.7545 Z\" fill=\"#000000\" fill-rule=\"evenodd\" fill-opacity=\"1\" /><path clip-path=\"url(#clip890)\" d=\"M1457.07 9.62495 L1463.55 9.62495 Q1469.63 19.1851 1472.63 28.3401 Q1475.67 37.4952 1475.67 46.5287 Q1475.67 55.6027 1472.63 64.7983 Q1469.63 73.9938 1463.55 83.5134 L1457.07 83.5134 Q1462.46 74.2369 1465.09 65.0818 Q1467.77 55.8863 1467.77 46.5287 Q1467.77 37.1711 1465.09 28.0566 Q1462.46 18.942 1457.07 9.62495 Z\" fill=\"#000000\" fill-rule=\"evenodd\" fill-opacity=\"1\" /><path clip-path=\"url(#clip890)\" d=\"M1530.23 12.096 L1537.12 12.096 L1516.05 80.2727 L1509.17 80.2727 L1530.23 12.096 Z\" fill=\"#000000\" fill-rule=\"evenodd\" fill-opacity=\"1\" /><path clip-path=\"url(#clip890)\" d=\"M1616.92 16.7545 L1616.92 25.383 Q1612.79 21.5346 1608.09 19.6307 Q1603.43 17.7268 1598.16 17.7268 Q1587.79 17.7268 1582.29 24.0867 Q1576.78 30.4061 1576.78 42.3968 Q1576.78 54.3469 1582.29 60.7069 Q1587.79 67.0263 1598.16 67.0263 Q1603.43 67.0263 1608.09 65.1223 Q1612.79 63.2184 1616.92 59.3701 L1616.92 67.9175 Q1612.63 70.8341 1607.81 72.2924 Q1603.03 73.7508 1597.68 73.7508 Q1583.95 73.7508 1576.05 65.3654 Q1568.15 56.9395 1568.15 42.3968 Q1568.15 27.8135 1576.05 19.4281 Q1583.95 11.0023 1597.68 11.0023 Q1603.11 11.0023 1607.89 12.4606 Q1612.71 13.8784 1616.92 16.7545 Z\" fill=\"#000000\" fill-rule=\"evenodd\" fill-opacity=\"1\" /><polyline clip-path=\"url(#clip892)\" style=\"stroke:#009af9; stroke-linecap:round; stroke-linejoin:round; stroke-width:4; stroke-opacity:1; fill:none\" points=\"248.062,354.917 256.612,652.877 265.161,939.461 273.711,1106.15 282.261,1206.37 290.811,1270.28 299.36,1313.38 307.91,1328.81 316.46,1321.39 325.01,1318.8 333.559,1319.8 342.109,1314.73 350.659,1315.17 359.209,1316.9 367.758,1317.8 376.308,1325.12 384.858,1331.21 393.408,1343.68 401.958,1356.4 410.507,1371.71 419.057,1389.08 427.607,1407.2 436.157,1425.61 444.706,1443.88 453.256,495.819 461.806,600.099 470.356,861.464 478.905,1035.37 487.455,1148.82 496.005,1223.83 504.555,1275.06 513.104,1294.07 521.654,1286.42 530.204,1284.12 538.754,1285.59 547.303,1279.43 555.853,1279.12 564.403,1279.64 572.953,1278.59 581.502,1284.63 590.052,1288.7 598.602,1300.27 607.152,1312.09 615.701,1327.22 624.251,1345.38 632.801,1364.92 641.351,1385.58 649.901,1406.82 658.45,225.404 667,162.541 675.55,443.676 684.1,666.921 692.649,833.396 701.199,953.62 709.749,1039.14 718.299,1069.09 726.848,1050.04 735.398,1041.34 743.948,1039.95 752.498,1023.4 761.047,1017.7 769.597,1013.04 778.147,1004.47 786.697,1009.53 795.246,1010.1 803.796,1025.98 812.346,1042.51 820.896,1066.6 829.445,1098.06 837.995,1133.81 846.545,1173.5 855.095,1216.16 863.644,520.844 872.194,548.474 880.744,792.147 889.294,965.877 897.844,1086.78 906.393,1171.75 914.943,1230.79 923.493,1253.16 932.043,1244.87 940.592,1242.75 949.142,1244.68 957.692,1237.23 966.242,1235.92 974.791,1234.84 983.341,1231.14 991.891,1235.05 1000.44,1235.99 1008.99,1245.51 1017.54,1255.1 1026.09,1268.86 1034.64,1286.7 1043.19,1306.91 1051.74,1329.39 1060.29,1353.62 1068.84,308.117 1077.39,384.056 1085.94,697.527 1094.49,916.648 1103.04,1059.53 1111.59,1156.87 1120.14,1223.51 1128.69,1250.13 1137.24,1245.19 1145.79,1246.23 1154.34,1250.88 1162.89,1245.99 1171.44,1246.87 1179.99,1247.61 1188.54,1245.62 1197.09,1250.67 1205.63,1252.61 1214.18,1262.55 1222.73,1272.4 1231.28,1286.06 1239.83,1303.51 1248.38,1323.06 1256.93,1344.77 1265.48,1368.04 1274.03,424.697 1282.58,162.047 1291.13,333.876 1299.68,559.473 1308.23,734.27 1316.78,872.485 1325.33,977.194 1333.88,1017.58 1342.43,1004.35 1350.98,1003.65 1359.53,1009.8 1368.08,998.747 1376.63,997.609 1385.18,995.381 1393.73,986.875 1402.28,990.123 1410.83,986.213 1419.38,996.486 1427.93,1005.8 1436.48,1022.17 1445.03,1046.22 1453.58,1075.22 1462.13,1109.83 1470.68,1149.45 1479.23,581.382 1487.78,435.725 1496.33,614.711 1504.88,816.908 1513.43,960.895 1521.98,1069.48 1530.53,1150.69 1539.08,1184.03 1547.63,1179.59 1556.17,1183.74 1564.72,1191.89 1573.27,1188.21 1581.82,1190.62 1590.37,1191.8 1598.92,1188.43 1607.47,1192.1 1616.02,1190.67 1624.57,1197.79 1633.12,1203.82 1641.67,1213.93 1650.22,1228.59 1658.77,1246.15 1667.32,1267.17 1675.87,1291.38 1684.42,929.018 1692.97,728.394 1701.52,718.492 1710.07,834.47 1718.62,957.268 1727.17,1047.25 1735.72,1121.2 1744.27,1156.16 1752.82,1151.8 1761.37,1156.53 1769.92,1168.22 1778.47,1167.57 1787.02,1173.35 1795.57,1177.27 1804.12,1175.62 1812.67,1180 1821.22,1177.91 1829.77,1183.24 1838.32,1186.21 1846.87,1192.39 1855.42,1202.6 1863.97,1215.62 1872.52,1232.44 1881.07,1253.19 1889.62,1181.69 1898.17,1040.9 1906.72,1005.21 1915.26,1058.02 1923.81,1137.86 1932.36,1199.44 1940.91,1248.33 1949.46,1272.46 1958.01,1271.29 1966.56,1276.1 1975.11,1285.92 1983.66,1287.86 1992.21,1294.04 2000.76,1298.95 2009.31,1299.89 2017.86,1304.59 2026.41,1304.64 2034.96,1309.18 2043.51,1311.71 2052.06,1315.87 2060.61,1322.2 2069.16,1329.92 2077.71,1339.75 2086.26,1351.89 2094.81,1198.05 2103.36,1138.65 2111.91,1160.57 2120.46,1215.79 2129.01,1278.23 2137.56,1328.23 2146.11,1364.16 2154.66,1380.23 2163.21,1381.4 2171.76,1387.36 2180.31,1394.91 2188.86,1397.73 2197.41,1403.15 2205.96,1407.53 2214.51,1409.65 2223.06,1413.77 2231.61,1415.23 2240.16,1419.05 2248.71,1421.68 2257.26,1425.1 2265.8,1429.56 2274.35,1434.64 2282.9,1440.72 2291.45,1447.87 \"/>\n",
       "<path clip-path=\"url(#clip890)\" d=\"M1885.83 272.585 L2280.56 272.585 L2280.56 168.905 L1885.83 168.905  Z\" fill=\"#ffffff\" fill-rule=\"evenodd\" fill-opacity=\"1\"/>\n",
       "<polyline clip-path=\"url(#clip890)\" style=\"stroke:#000000; stroke-linecap:round; stroke-linejoin:round; stroke-width:4; stroke-opacity:1; fill:none\" points=\"1885.83,272.585 2280.56,272.585 2280.56,168.905 1885.83,168.905 1885.83,272.585 \"/>\n",
       "<polyline clip-path=\"url(#clip890)\" style=\"stroke:#009af9; stroke-linecap:round; stroke-linejoin:round; stroke-width:4; stroke-opacity:1; fill:none\" points=\"1909.9,220.745 2054.3,220.745 \"/>\n",
       "<path clip-path=\"url(#clip890)\" d=\"M2098.87 213.094 L2098.87 217.076 Q2097.07 216.08 2095.24 215.594 Q2093.43 215.085 2091.58 215.085 Q2087.44 215.085 2085.15 217.724 Q2082.86 220.34 2082.86 225.085 Q2082.86 229.83 2085.15 232.469 Q2087.44 235.085 2091.58 235.085 Q2093.43 235.085 2095.24 234.599 Q2097.07 234.089 2098.87 233.094 L2098.87 237.029 Q2097.09 237.863 2095.17 238.279 Q2093.27 238.696 2091.12 238.696 Q2085.26 238.696 2081.81 235.015 Q2078.37 231.335 2078.37 225.085 Q2078.37 218.742 2081.84 215.108 Q2085.33 211.474 2091.4 211.474 Q2093.37 211.474 2095.24 211.891 Q2097.12 212.284 2098.87 213.094 Z\" fill=\"#000000\" fill-rule=\"evenodd\" fill-opacity=\"1\" /><path clip-path=\"url(#clip890)\" d=\"M2116.33 215.085 Q2112.9 215.085 2110.91 217.77 Q2108.92 220.432 2108.92 225.085 Q2108.92 229.738 2110.89 232.423 Q2112.88 235.085 2116.33 235.085 Q2119.73 235.085 2121.72 232.4 Q2123.71 229.715 2123.71 225.085 Q2123.71 220.478 2121.72 217.793 Q2119.73 215.085 2116.33 215.085 M2116.33 211.474 Q2121.88 211.474 2125.05 215.085 Q2128.23 218.696 2128.23 225.085 Q2128.23 231.451 2125.05 235.085 Q2121.88 238.696 2116.33 238.696 Q2110.75 238.696 2107.58 235.085 Q2104.43 231.451 2104.43 225.085 Q2104.43 218.696 2107.58 215.085 Q2110.75 211.474 2116.33 211.474 Z\" fill=\"#000000\" fill-rule=\"evenodd\" fill-opacity=\"1\" /><path clip-path=\"url(#clip890)\" d=\"M2151.81 212.863 L2151.81 216.891 Q2150.01 215.965 2148.06 215.502 Q2146.12 215.039 2144.04 215.039 Q2140.87 215.039 2139.27 216.011 Q2137.69 216.983 2137.69 218.928 Q2137.69 220.409 2138.83 221.265 Q2139.96 222.099 2143.39 222.863 L2144.85 223.187 Q2149.38 224.159 2151.28 225.941 Q2153.2 227.701 2153.2 230.872 Q2153.2 234.483 2150.33 236.589 Q2147.49 238.696 2142.49 238.696 Q2140.4 238.696 2138.13 238.279 Q2135.89 237.886 2133.39 237.076 L2133.39 232.677 Q2135.75 233.904 2138.04 234.529 Q2140.33 235.131 2142.58 235.131 Q2145.59 235.131 2147.21 234.113 Q2148.83 233.071 2148.83 231.196 Q2148.83 229.46 2147.65 228.534 Q2146.49 227.608 2142.53 226.752 L2141.05 226.404 Q2137.09 225.571 2135.33 223.858 Q2133.57 222.122 2133.57 219.113 Q2133.57 215.455 2136.17 213.465 Q2138.76 211.474 2143.53 211.474 Q2145.89 211.474 2147.97 211.821 Q2150.05 212.168 2151.81 212.863 Z\" fill=\"#000000\" fill-rule=\"evenodd\" fill-opacity=\"1\" /><path clip-path=\"url(#clip890)\" d=\"M2180.17 217.076 Q2181.77 214.205 2183.99 212.84 Q2186.21 211.474 2189.22 211.474 Q2193.27 211.474 2195.47 214.321 Q2197.67 217.145 2197.67 222.377 L2197.67 238.025 L2193.39 238.025 L2193.39 222.515 Q2193.39 218.789 2192.07 216.983 Q2190.75 215.178 2188.04 215.178 Q2184.73 215.178 2182.81 217.377 Q2180.89 219.576 2180.89 223.372 L2180.89 238.025 L2176.61 238.025 L2176.61 222.515 Q2176.61 218.765 2175.29 216.983 Q2173.97 215.178 2171.21 215.178 Q2167.95 215.178 2166.03 217.4 Q2164.11 219.599 2164.11 223.372 L2164.11 238.025 L2159.82 238.025 L2159.82 212.099 L2164.11 212.099 L2164.11 216.127 Q2165.56 213.742 2167.6 212.608 Q2169.64 211.474 2172.44 211.474 Q2175.26 211.474 2177.23 212.909 Q2179.22 214.344 2180.17 217.076 Z\" fill=\"#000000\" fill-rule=\"evenodd\" fill-opacity=\"1\" /><path clip-path=\"url(#clip890)\" d=\"M2216.21 215.085 Q2212.79 215.085 2210.8 217.77 Q2208.8 220.432 2208.8 225.085 Q2208.8 229.738 2210.77 232.423 Q2212.76 235.085 2216.21 235.085 Q2219.61 235.085 2221.61 232.4 Q2223.6 229.715 2223.6 225.085 Q2223.6 220.478 2221.61 217.793 Q2219.61 215.085 2216.21 215.085 M2216.21 211.474 Q2221.77 211.474 2224.94 215.085 Q2228.11 218.696 2228.11 225.085 Q2228.11 231.451 2224.94 235.085 Q2221.77 238.696 2216.21 238.696 Q2210.63 238.696 2207.46 235.085 Q2204.31 231.451 2204.31 225.085 Q2204.31 218.696 2207.46 215.085 Q2210.63 211.474 2216.21 211.474 Z\" fill=\"#000000\" fill-rule=\"evenodd\" fill-opacity=\"1\" /><path clip-path=\"url(#clip890)\" d=\"M2236.58 234.089 L2244.22 234.089 L2244.22 207.724 L2235.91 209.391 L2235.91 205.131 L2244.17 203.465 L2248.85 203.465 L2248.85 234.089 L2256.49 234.089 L2256.49 238.025 L2236.58 238.025 L2236.58 234.089 Z\" fill=\"#000000\" fill-rule=\"evenodd\" fill-opacity=\"1\" /></svg>\n"
      ]
     },
     "execution_count": 17,
     "metadata": {},
     "output_type": "execute_result"
    }
   ],
   "source": [
    "plot(abs.(diag(wlwl_meta.cov) .- diag(C_mod)) ./ diag(wlwl_meta.cov), label=\"cosmo1\", title=\"Nz - abs(C'-C) / C\")"
   ]
  },
  {
   "cell_type": "code",
   "execution_count": 18,
   "id": "e452258d",
   "metadata": {},
   "outputs": [],
   "source": [
    "npzwrite(\"../../data/DESY1/nzs/wlwl_nz_cov_marg.npz\",\n",
    "        Dict(\"cov_marg\" => C_mod,\n",
    "             \"inv_cov_marg\" => inv_C_mod))"
   ]
  },
  {
   "cell_type": "markdown",
   "id": "07c89a23",
   "metadata": {},
   "source": [
    "## T-Matrices gcgc"
   ]
  },
  {
   "cell_type": "code",
   "execution_count": 19,
   "id": "6fc61eb2",
   "metadata": {},
   "outputs": [],
   "source": [
    "function model_cov_dz_gc(x; meta=gcgc_meta, files=gcgc_files, cosmo=cosmo) \n",
    "    #cosmology.settings.cosmo_type = Real\n",
    "    nuisances = Dict(\"DESgc__0_b\" => 1.49,\n",
    "                     \"DESgc__1_b\" => 1.81,\n",
    "                     \"DESgc__2_b\" => 1.79,\n",
    "                     \"DESgc__3_b\" => 2.18,\n",
    "                     \"DESgc__4_b\" => 2.24,\n",
    "                     \"DESgc__0_dz\" => x[1],\n",
    "                     \"DESgc__1_dz\" => x[2],\n",
    "                     \"DESgc__2_dz\" => x[3],\n",
    "                     \"DESgc__3_dz\" => x[4],\n",
    "                     \"DESgc__4_dz\" => x[5])    \n",
    "    return Theory(cosmo, meta, files; Nuisances=nuisances)\n",
    "end;"
   ]
  },
  {
   "cell_type": "code",
   "execution_count": 20,
   "id": "f6a96f09",
   "metadata": {},
   "outputs": [],
   "source": [
    "function model_cov_nz_gc(DESgc__0_nz, DESgc__1_nz, DESgc__2_nz, DESgc__3_nz, DESgc__4_nz;\n",
    "                      meta=gcgc_meta, files=gcgc_files, cosmo=cosmo) \n",
    "    #cosmology.settings.cosmo_type = Real\n",
    "    nuisances = Dict(\"DESgc__0_b\" => 1.49,\n",
    "                     \"DESgc__1_b\" => 1.81,\n",
    "                     \"DESgc__2_b\" => 1.79,\n",
    "                     \"DESgc__3_b\" => 2.18,\n",
    "                     \"DESgc__4_b\" => 2.24,   \n",
    "                     \"DESgc__0_nz\" => DESgc__0_nz,\n",
    "                     \"DESgc__1_nz\" => DESgc__1_nz,\n",
    "                     \"DESgc__2_nz\" => DESgc__2_nz,\n",
    "                     \"DESgc__3_nz\" => DESgc__3_nz,\n",
    "                     \"DESgc__4_nz\" => DESgc__4_nz)  \n",
    "    return Theory(cosmo, meta, files; Nuisances=nuisances)\n",
    "end;"
   ]
  },
  {
   "cell_type": "code",
   "execution_count": 21,
   "id": "f2a2a674",
   "metadata": {},
   "outputs": [
    {
     "data": {
      "text/plain": [
       "make_Cmod_dz_gc (generic function with 1 method)"
      ]
     },
     "execution_count": 21,
     "metadata": {},
     "output_type": "execute_result"
    }
   ],
   "source": [
    "function make_Cmod_dz_gc(dz_cov; cosmo=cosmo, meta=gcgc_meta)\n",
    "    d = 0.00005\n",
    "    n_cls = 47\n",
    "    m  = 5\n",
    "    T = zeros(n_cls, m)\n",
    "    for i in 1:m\n",
    "        dz = zeros(m)\n",
    "        e = zeros(m)\n",
    "        e[i] = d\n",
    "        T[:, i] = (model_cov_dz_gc(dz.+e; cosmo=cosmo) .- model_cov_dz_gc(dz.-e; cosmo=cosmo)) ./ (2*d)\n",
    "    end\n",
    "    TPT = T * dz_cov * T'\n",
    "    Cmod = Symmetric(meta.cov + TPT)\n",
    "    return Cmod\n",
    "end"
   ]
  },
  {
   "cell_type": "code",
   "execution_count": 22,
   "id": "dedd841c",
   "metadata": {},
   "outputs": [
    {
     "data": {
      "text/plain": [
       "make_Cmod_Nz_gc (generic function with 1 method)"
      ]
     },
     "execution_count": 22,
     "metadata": {},
     "output_type": "execute_result"
    }
   ],
   "source": [
    "function make_Cmod_Nz_gc(cov_k0, cov_k1, cov_k2, cov_k3, cov_k4; cosmo=cosmo, meta=gcgc_meta)\n",
    "    d = 0.005\n",
    "    n_cls = 47\n",
    "    m  = length(nz_0)\n",
    "    println(m)\n",
    "    T0 = zeros(n_cls, m)\n",
    "    T1 = zeros(n_cls, m)\n",
    "    T2 = zeros(n_cls, m)\n",
    "    T3 = zeros(n_cls, m)\n",
    "    T4 = zeros(n_cls, m)\n",
    "\n",
    "    for i in 1:m\n",
    "        e = zeros(m)\n",
    "        e[i] = d\n",
    "        T0[:, i] = (model_cov_nz_gc(nz_0.+e, nz_1, nz_2, nz_3, nz_4; cosmo=cosmo) .- model_cov_nz_gc(nz_0.-e, nz_1, nz_2, nz_3, nz_4; cosmo=cosmo)) ./ (2*d)\n",
    "        T1[:, i] = (model_cov_nz_gc(nz_0, nz_1.+e, nz_2, nz_3, nz_4; cosmo=cosmo) .- model_cov_nz_gc(nz_0, nz_1.-e, nz_2, nz_3, nz_4; cosmo=cosmo)) ./ (2*d)\n",
    "        T2[:, i] = (model_cov_nz_gc(nz_0, nz_1, nz_2.+e, nz_3, nz_4; cosmo=cosmo) .- model_cov_nz_gc(nz_0, nz_1, nz_2.-e, nz_3, nz_4; cosmo=cosmo)) ./ (2*d)\n",
    "        T3[:, i] = (model_cov_nz_gc(nz_0, nz_1, nz_2, nz_3.+e, nz_4; cosmo=cosmo) .- model_cov_nz_gc(nz_0, nz_1, nz_2, nz_3.-e, nz_4; cosmo=cosmo)) ./ (2*d)\n",
    "        T4[:, i] = (model_cov_nz_gc(nz_0, nz_1, nz_2, nz_3, nz_4.+e; cosmo=cosmo) .- model_cov_nz_gc(nz_0, nz_1, nz_2, nz_3, nz_4.+e; cosmo=cosmo)) ./ (2*d)\n",
    "    end\n",
    "    TT0 = T0 * (cov_k0) * T0'\n",
    "    TT1 = T1 * (cov_k1) * T1'\n",
    "    TT2 = T2 * (cov_k2) * T2'\n",
    "    TT3 = T3 * (cov_k3) * T3'\n",
    "    TT4 = T4 * (cov_k4) * T4';\n",
    "    Cmod = Symmetric(meta.cov + TT0 + TT1 + TT2 + TT3 + TT4)\n",
    "    return Cmod\n",
    "end"
   ]
  },
  {
   "cell_type": "code",
   "execution_count": 23,
   "id": "376033fe",
   "metadata": {},
   "outputs": [],
   "source": [
    "nz_0 = pyconvert(Vector{Float64}, nz_DESgc__0[\"dndz\"])\n",
    "nz_1 = pyconvert(Vector{Float64}, nz_DESgc__1[\"dndz\"])\n",
    "nz_2 = pyconvert(Vector{Float64}, nz_DESgc__2[\"dndz\"])\n",
    "nz_3 = pyconvert(Vector{Float64}, nz_DESgc__3[\"dndz\"])\n",
    "nz_4 = pyconvert(Vector{Float64}, nz_DESgc__4[\"dndz\"]);"
   ]
  },
  {
   "cell_type": "code",
   "execution_count": 24,
   "id": "0d2b99e6",
   "metadata": {},
   "outputs": [],
   "source": [
    "cov_k0 = pyconvert(Vector{Vector{Float64}}, nz_DESgc__0[\"cov\"])\n",
    "cov_k0 = Diagonal(permutedims(hcat(cov_k0...)))\n",
    "\n",
    "cov_k1 = pyconvert(Vector{Vector{Float64}}, nz_DESgc__1[\"cov\"])\n",
    "cov_k1 = Diagonal(permutedims(hcat(cov_k1...)))\n",
    "\n",
    "cov_k2 = pyconvert(Vector{Vector{Float64}}, nz_DESgc__2[\"cov\"])\n",
    "cov_k2 = Diagonal(permutedims(hcat(cov_k2...)))\n",
    "    \n",
    "cov_k3 = pyconvert(Vector{Vector{Float64}}, nz_DESgc__3[\"cov\"])\n",
    "cov_k3 = Diagonal(permutedims(hcat(cov_k3...)))\n",
    "\n",
    "cov_k4 = pyconvert(Vector{Vector{Float64}}, nz_DESgc__4[\"cov\"])\n",
    "cov_k4 = Diagonal(permutedims(hcat(cov_k4...)));"
   ]
  },
  {
   "cell_type": "code",
   "execution_count": 25,
   "id": "b683b9ac",
   "metadata": {},
   "outputs": [],
   "source": [
    "cosmo = Cosmology(0.30, 0.05, 0.67, 0.96, 0.81,\n",
    "                  tk_mode=\"EisHu\", \n",
    "                  Pk_mode=\"Halofit\");"
   ]
  },
  {
   "cell_type": "code",
   "execution_count": 26,
   "id": "da7617ec",
   "metadata": {
    "scrolled": true
   },
   "outputs": [],
   "source": [
    "dz_cov = [0.007^2 0 0 0 0; \n",
    "          0 0.007^2 0 0 0;\n",
    "          0 0 0.006^2 0 0;\n",
    "          0 0 0 0.010^2 0;\n",
    "          0 0 0 0 0.010^2]\n",
    "C_mod = make_Cmod_dz_gc(dz_cov; cosmo=cosmo)\n",
    "inv_C_mod = inv(C_mod);"
   ]
  },
  {
   "cell_type": "code",
   "execution_count": 27,
   "id": "bb866ceb",
   "metadata": {
    "scrolled": false
   },
   "outputs": [
    {
     "data": {
      "image/svg+xml": [
       "<?xml version=\"1.0\" encoding=\"utf-8\"?>\n",
       "<svg xmlns=\"http://www.w3.org/2000/svg\" xmlns:xlink=\"http://www.w3.org/1999/xlink\" width=\"600\" height=\"400\" viewBox=\"0 0 2400 1600\">\n",
       "<defs>\n",
       "  <clipPath id=\"clip930\">\n",
       "    <rect x=\"0\" y=\"0\" width=\"2400\" height=\"1600\"/>\n",
       "  </clipPath>\n",
       "</defs>\n",
       "<path clip-path=\"url(#clip930)\" d=\"M0 1600 L2400 1600 L2400 0 L0 0  Z\" fill=\"#ffffff\" fill-rule=\"evenodd\" fill-opacity=\"1\"/>\n",
       "<defs>\n",
       "  <clipPath id=\"clip931\">\n",
       "    <rect x=\"480\" y=\"0\" width=\"1681\" height=\"1600\"/>\n",
       "  </clipPath>\n",
       "</defs>\n",
       "<path clip-path=\"url(#clip930)\" d=\"M186.76 1486.45 L2352.76 1486.45 L2352.76 123.472 L186.76 123.472  Z\" fill=\"#ffffff\" fill-rule=\"evenodd\" fill-opacity=\"1\"/>\n",
       "<defs>\n",
       "  <clipPath id=\"clip932\">\n",
       "    <rect x=\"186\" y=\"123\" width=\"2167\" height=\"1364\"/>\n",
       "  </clipPath>\n",
       "</defs>\n",
       "<polyline clip-path=\"url(#clip932)\" style=\"stroke:#000000; stroke-linecap:round; stroke-linejoin:round; stroke-width:2; stroke-opacity:0.1; fill:none\" points=\"203.64,1486.45 203.64,123.472 \"/>\n",
       "<polyline clip-path=\"url(#clip932)\" style=\"stroke:#000000; stroke-linecap:round; stroke-linejoin:round; stroke-width:2; stroke-opacity:0.1; fill:none\" points=\"647.856,1486.45 647.856,123.472 \"/>\n",
       "<polyline clip-path=\"url(#clip932)\" style=\"stroke:#000000; stroke-linecap:round; stroke-linejoin:round; stroke-width:2; stroke-opacity:0.1; fill:none\" points=\"1092.07,1486.45 1092.07,123.472 \"/>\n",
       "<polyline clip-path=\"url(#clip932)\" style=\"stroke:#000000; stroke-linecap:round; stroke-linejoin:round; stroke-width:2; stroke-opacity:0.1; fill:none\" points=\"1536.29,1486.45 1536.29,123.472 \"/>\n",
       "<polyline clip-path=\"url(#clip932)\" style=\"stroke:#000000; stroke-linecap:round; stroke-linejoin:round; stroke-width:2; stroke-opacity:0.1; fill:none\" points=\"1980.5,1486.45 1980.5,123.472 \"/>\n",
       "<polyline clip-path=\"url(#clip930)\" style=\"stroke:#000000; stroke-linecap:round; stroke-linejoin:round; stroke-width:4; stroke-opacity:1; fill:none\" points=\"186.76,1486.45 2352.76,1486.45 \"/>\n",
       "<polyline clip-path=\"url(#clip930)\" style=\"stroke:#000000; stroke-linecap:round; stroke-linejoin:round; stroke-width:4; stroke-opacity:1; fill:none\" points=\"203.64,1486.45 203.64,1467.55 \"/>\n",
       "<polyline clip-path=\"url(#clip930)\" style=\"stroke:#000000; stroke-linecap:round; stroke-linejoin:round; stroke-width:4; stroke-opacity:1; fill:none\" points=\"647.856,1486.45 647.856,1467.55 \"/>\n",
       "<polyline clip-path=\"url(#clip930)\" style=\"stroke:#000000; stroke-linecap:round; stroke-linejoin:round; stroke-width:4; stroke-opacity:1; fill:none\" points=\"1092.07,1486.45 1092.07,1467.55 \"/>\n",
       "<polyline clip-path=\"url(#clip930)\" style=\"stroke:#000000; stroke-linecap:round; stroke-linejoin:round; stroke-width:4; stroke-opacity:1; fill:none\" points=\"1536.29,1486.45 1536.29,1467.55 \"/>\n",
       "<polyline clip-path=\"url(#clip930)\" style=\"stroke:#000000; stroke-linecap:round; stroke-linejoin:round; stroke-width:4; stroke-opacity:1; fill:none\" points=\"1980.5,1486.45 1980.5,1467.55 \"/>\n",
       "<path clip-path=\"url(#clip930)\" d=\"M203.64 1517.37 Q200.029 1517.37 198.201 1520.93 Q196.395 1524.47 196.395 1531.6 Q196.395 1538.71 198.201 1542.27 Q200.029 1545.82 203.64 1545.82 Q207.275 1545.82 209.08 1542.27 Q210.909 1538.71 210.909 1531.6 Q210.909 1524.47 209.08 1520.93 Q207.275 1517.37 203.64 1517.37 M203.64 1513.66 Q209.45 1513.66 212.506 1518.27 Q215.585 1522.85 215.585 1531.6 Q215.585 1540.33 212.506 1544.94 Q209.45 1549.52 203.64 1549.52 Q197.83 1549.52 194.751 1544.94 Q191.696 1540.33 191.696 1531.6 Q191.696 1522.85 194.751 1518.27 Q197.83 1513.66 203.64 1513.66 Z\" fill=\"#000000\" fill-rule=\"evenodd\" fill-opacity=\"1\" /><path clip-path=\"url(#clip930)\" d=\"M622.544 1544.91 L630.182 1544.91 L630.182 1518.55 L621.872 1520.21 L621.872 1515.95 L630.136 1514.29 L634.812 1514.29 L634.812 1544.91 L642.451 1544.91 L642.451 1548.85 L622.544 1548.85 L622.544 1544.91 Z\" fill=\"#000000\" fill-rule=\"evenodd\" fill-opacity=\"1\" /><path clip-path=\"url(#clip930)\" d=\"M661.895 1517.37 Q658.284 1517.37 656.456 1520.93 Q654.65 1524.47 654.65 1531.6 Q654.65 1538.71 656.456 1542.27 Q658.284 1545.82 661.895 1545.82 Q665.53 1545.82 667.335 1542.27 Q669.164 1538.71 669.164 1531.6 Q669.164 1524.47 667.335 1520.93 Q665.53 1517.37 661.895 1517.37 M661.895 1513.66 Q667.705 1513.66 670.761 1518.27 Q673.84 1522.85 673.84 1531.6 Q673.84 1540.33 670.761 1544.94 Q667.705 1549.52 661.895 1549.52 Q656.085 1549.52 653.006 1544.94 Q649.951 1540.33 649.951 1531.6 Q649.951 1522.85 653.006 1518.27 Q656.085 1513.66 661.895 1513.66 Z\" fill=\"#000000\" fill-rule=\"evenodd\" fill-opacity=\"1\" /><path clip-path=\"url(#clip930)\" d=\"M1070.84 1544.91 L1087.16 1544.91 L1087.16 1548.85 L1065.22 1548.85 L1065.22 1544.91 Q1067.88 1542.16 1072.47 1537.53 Q1077.07 1532.88 1078.25 1531.53 Q1080.5 1529.01 1081.38 1527.27 Q1082.28 1525.51 1082.28 1523.82 Q1082.28 1521.07 1080.34 1519.33 Q1078.41 1517.6 1075.31 1517.6 Q1073.11 1517.6 1070.66 1518.36 Q1068.23 1519.13 1065.45 1520.68 L1065.45 1515.95 Q1068.28 1514.82 1070.73 1514.24 Q1073.18 1513.66 1075.22 1513.66 Q1080.59 1513.66 1083.78 1516.35 Q1086.98 1519.03 1086.98 1523.52 Q1086.98 1525.65 1086.17 1527.57 Q1085.38 1529.47 1083.28 1532.07 Q1082.7 1532.74 1079.59 1535.95 Q1076.49 1539.15 1070.84 1544.91 Z\" fill=\"#000000\" fill-rule=\"evenodd\" fill-opacity=\"1\" /><path clip-path=\"url(#clip930)\" d=\"M1106.98 1517.37 Q1103.37 1517.37 1101.54 1520.93 Q1099.73 1524.47 1099.73 1531.6 Q1099.73 1538.71 1101.54 1542.27 Q1103.37 1545.82 1106.98 1545.82 Q1110.61 1545.82 1112.42 1542.27 Q1114.25 1538.71 1114.25 1531.6 Q1114.25 1524.47 1112.42 1520.93 Q1110.61 1517.37 1106.98 1517.37 M1106.98 1513.66 Q1112.79 1513.66 1115.84 1518.27 Q1118.92 1522.85 1118.92 1531.6 Q1118.92 1540.33 1115.84 1544.94 Q1112.79 1549.52 1106.98 1549.52 Q1101.17 1549.52 1098.09 1544.94 Q1095.03 1540.33 1095.03 1531.6 Q1095.03 1522.85 1098.09 1518.27 Q1101.17 1513.66 1106.98 1513.66 Z\" fill=\"#000000\" fill-rule=\"evenodd\" fill-opacity=\"1\" /><path clip-path=\"url(#clip930)\" d=\"M1525.13 1530.21 Q1528.49 1530.93 1530.36 1533.2 Q1532.26 1535.47 1532.26 1538.8 Q1532.26 1543.92 1528.74 1546.72 Q1525.22 1549.52 1518.74 1549.52 Q1516.57 1549.52 1514.25 1549.08 Q1511.96 1548.66 1509.51 1547.81 L1509.51 1543.29 Q1511.45 1544.43 1513.76 1545.01 Q1516.08 1545.58 1518.6 1545.58 Q1523 1545.58 1525.29 1543.85 Q1527.61 1542.11 1527.61 1538.8 Q1527.61 1535.75 1525.45 1534.03 Q1523.32 1532.3 1519.51 1532.3 L1515.48 1532.3 L1515.48 1528.45 L1519.69 1528.45 Q1523.14 1528.45 1524.97 1527.09 Q1526.8 1525.7 1526.8 1523.11 Q1526.8 1520.45 1524.9 1519.03 Q1523.02 1517.6 1519.51 1517.6 Q1517.58 1517.6 1515.38 1518.01 Q1513.19 1518.43 1510.55 1519.31 L1510.55 1515.14 Q1513.21 1514.4 1515.52 1514.03 Q1517.86 1513.66 1519.92 1513.66 Q1525.25 1513.66 1528.35 1516.09 Q1531.45 1518.5 1531.45 1522.62 Q1531.45 1525.49 1529.81 1527.48 Q1528.16 1529.45 1525.13 1530.21 Z\" fill=\"#000000\" fill-rule=\"evenodd\" fill-opacity=\"1\" /><path clip-path=\"url(#clip930)\" d=\"M1551.13 1517.37 Q1547.51 1517.37 1545.69 1520.93 Q1543.88 1524.47 1543.88 1531.6 Q1543.88 1538.71 1545.69 1542.27 Q1547.51 1545.82 1551.13 1545.82 Q1554.76 1545.82 1556.57 1542.27 Q1558.39 1538.71 1558.39 1531.6 Q1558.39 1524.47 1556.57 1520.93 Q1554.76 1517.37 1551.13 1517.37 M1551.13 1513.66 Q1556.94 1513.66 1559.99 1518.27 Q1563.07 1522.85 1563.07 1531.6 Q1563.07 1540.33 1559.99 1544.94 Q1556.94 1549.52 1551.13 1549.52 Q1545.32 1549.52 1542.24 1544.94 Q1539.18 1540.33 1539.18 1531.6 Q1539.18 1522.85 1542.24 1518.27 Q1545.32 1513.66 1551.13 1513.66 Z\" fill=\"#000000\" fill-rule=\"evenodd\" fill-opacity=\"1\" /><path clip-path=\"url(#clip930)\" d=\"M1968.67 1518.36 L1956.87 1536.81 L1968.67 1536.81 L1968.67 1518.36 M1967.45 1514.29 L1973.33 1514.29 L1973.33 1536.81 L1978.26 1536.81 L1978.26 1540.7 L1973.33 1540.7 L1973.33 1548.85 L1968.67 1548.85 L1968.67 1540.7 L1953.07 1540.7 L1953.07 1536.19 L1967.45 1514.29 Z\" fill=\"#000000\" fill-rule=\"evenodd\" fill-opacity=\"1\" /><path clip-path=\"url(#clip930)\" d=\"M1995.99 1517.37 Q1992.38 1517.37 1990.55 1520.93 Q1988.74 1524.47 1988.74 1531.6 Q1988.74 1538.71 1990.55 1542.27 Q1992.38 1545.82 1995.99 1545.82 Q1999.62 1545.82 2001.43 1542.27 Q2003.26 1538.71 2003.26 1531.6 Q2003.26 1524.47 2001.43 1520.93 Q1999.62 1517.37 1995.99 1517.37 M1995.99 1513.66 Q2001.8 1513.66 2004.85 1518.27 Q2007.93 1522.85 2007.93 1531.6 Q2007.93 1540.33 2004.85 1544.94 Q2001.8 1549.52 1995.99 1549.52 Q1990.18 1549.52 1987.1 1544.94 Q1984.04 1540.33 1984.04 1531.6 Q1984.04 1522.85 1987.1 1518.27 Q1990.18 1513.66 1995.99 1513.66 Z\" fill=\"#000000\" fill-rule=\"evenodd\" fill-opacity=\"1\" /><polyline clip-path=\"url(#clip932)\" style=\"stroke:#000000; stroke-linecap:round; stroke-linejoin:round; stroke-width:2; stroke-opacity:0.1; fill:none\" points=\"186.76,1447.87 2352.76,1447.87 \"/>\n",
       "<polyline clip-path=\"url(#clip932)\" style=\"stroke:#000000; stroke-linecap:round; stroke-linejoin:round; stroke-width:2; stroke-opacity:0.1; fill:none\" points=\"186.76,1250.39 2352.76,1250.39 \"/>\n",
       "<polyline clip-path=\"url(#clip932)\" style=\"stroke:#000000; stroke-linecap:round; stroke-linejoin:round; stroke-width:2; stroke-opacity:0.1; fill:none\" points=\"186.76,1052.9 2352.76,1052.9 \"/>\n",
       "<polyline clip-path=\"url(#clip932)\" style=\"stroke:#000000; stroke-linecap:round; stroke-linejoin:round; stroke-width:2; stroke-opacity:0.1; fill:none\" points=\"186.76,855.414 2352.76,855.414 \"/>\n",
       "<polyline clip-path=\"url(#clip932)\" style=\"stroke:#000000; stroke-linecap:round; stroke-linejoin:round; stroke-width:2; stroke-opacity:0.1; fill:none\" points=\"186.76,657.927 2352.76,657.927 \"/>\n",
       "<polyline clip-path=\"url(#clip932)\" style=\"stroke:#000000; stroke-linecap:round; stroke-linejoin:round; stroke-width:2; stroke-opacity:0.1; fill:none\" points=\"186.76,460.441 2352.76,460.441 \"/>\n",
       "<polyline clip-path=\"url(#clip932)\" style=\"stroke:#000000; stroke-linecap:round; stroke-linejoin:round; stroke-width:2; stroke-opacity:0.1; fill:none\" points=\"186.76,262.954 2352.76,262.954 \"/>\n",
       "<polyline clip-path=\"url(#clip930)\" style=\"stroke:#000000; stroke-linecap:round; stroke-linejoin:round; stroke-width:4; stroke-opacity:1; fill:none\" points=\"186.76,1486.45 186.76,123.472 \"/>\n",
       "<polyline clip-path=\"url(#clip930)\" style=\"stroke:#000000; stroke-linecap:round; stroke-linejoin:round; stroke-width:4; stroke-opacity:1; fill:none\" points=\"186.76,1447.87 205.658,1447.87 \"/>\n",
       "<polyline clip-path=\"url(#clip930)\" style=\"stroke:#000000; stroke-linecap:round; stroke-linejoin:round; stroke-width:4; stroke-opacity:1; fill:none\" points=\"186.76,1250.39 205.658,1250.39 \"/>\n",
       "<polyline clip-path=\"url(#clip930)\" style=\"stroke:#000000; stroke-linecap:round; stroke-linejoin:round; stroke-width:4; stroke-opacity:1; fill:none\" points=\"186.76,1052.9 205.658,1052.9 \"/>\n",
       "<polyline clip-path=\"url(#clip930)\" style=\"stroke:#000000; stroke-linecap:round; stroke-linejoin:round; stroke-width:4; stroke-opacity:1; fill:none\" points=\"186.76,855.414 205.658,855.414 \"/>\n",
       "<polyline clip-path=\"url(#clip930)\" style=\"stroke:#000000; stroke-linecap:round; stroke-linejoin:round; stroke-width:4; stroke-opacity:1; fill:none\" points=\"186.76,657.927 205.658,657.927 \"/>\n",
       "<polyline clip-path=\"url(#clip930)\" style=\"stroke:#000000; stroke-linecap:round; stroke-linejoin:round; stroke-width:4; stroke-opacity:1; fill:none\" points=\"186.76,460.441 205.658,460.441 \"/>\n",
       "<polyline clip-path=\"url(#clip930)\" style=\"stroke:#000000; stroke-linecap:round; stroke-linejoin:round; stroke-width:4; stroke-opacity:1; fill:none\" points=\"186.76,262.954 205.658,262.954 \"/>\n",
       "<path clip-path=\"url(#clip930)\" d=\"M63.4226 1433.67 Q59.8115 1433.67 57.9828 1437.24 Q56.1773 1440.78 56.1773 1447.91 Q56.1773 1455.01 57.9828 1458.58 Q59.8115 1462.12 63.4226 1462.12 Q67.0569 1462.12 68.8624 1458.58 Q70.6911 1455.01 70.6911 1447.91 Q70.6911 1440.78 68.8624 1437.24 Q67.0569 1433.67 63.4226 1433.67 M63.4226 1429.97 Q69.2328 1429.97 72.2883 1434.57 Q75.367 1439.16 75.367 1447.91 Q75.367 1456.63 72.2883 1461.24 Q69.2328 1465.82 63.4226 1465.82 Q57.6125 1465.82 54.5338 1461.24 Q51.4782 1456.63 51.4782 1447.91 Q51.4782 1439.16 54.5338 1434.57 Q57.6125 1429.97 63.4226 1429.97 Z\" fill=\"#000000\" fill-rule=\"evenodd\" fill-opacity=\"1\" /><path clip-path=\"url(#clip930)\" d=\"M83.5845 1459.27 L88.4688 1459.27 L88.4688 1465.15 L83.5845 1465.15 L83.5845 1459.27 Z\" fill=\"#000000\" fill-rule=\"evenodd\" fill-opacity=\"1\" /><path clip-path=\"url(#clip930)\" d=\"M108.654 1433.67 Q105.043 1433.67 103.214 1437.24 Q101.409 1440.78 101.409 1447.91 Q101.409 1455.01 103.214 1458.58 Q105.043 1462.12 108.654 1462.12 Q112.288 1462.12 114.094 1458.58 Q115.922 1455.01 115.922 1447.91 Q115.922 1440.78 114.094 1437.24 Q112.288 1433.67 108.654 1433.67 M108.654 1429.97 Q114.464 1429.97 117.52 1434.57 Q120.598 1439.16 120.598 1447.91 Q120.598 1456.63 117.52 1461.24 Q114.464 1465.82 108.654 1465.82 Q102.844 1465.82 99.765 1461.24 Q96.7095 1456.63 96.7095 1447.91 Q96.7095 1439.16 99.765 1434.57 Q102.844 1429.97 108.654 1429.97 Z\" fill=\"#000000\" fill-rule=\"evenodd\" fill-opacity=\"1\" /><path clip-path=\"url(#clip930)\" d=\"M138.816 1433.67 Q135.205 1433.67 133.376 1437.24 Q131.57 1440.78 131.57 1447.91 Q131.57 1455.01 133.376 1458.58 Q135.205 1462.12 138.816 1462.12 Q142.45 1462.12 144.256 1458.58 Q146.084 1455.01 146.084 1447.91 Q146.084 1440.78 144.256 1437.24 Q142.45 1433.67 138.816 1433.67 M138.816 1429.97 Q144.626 1429.97 147.681 1434.57 Q150.76 1439.16 150.76 1447.91 Q150.76 1456.63 147.681 1461.24 Q144.626 1465.82 138.816 1465.82 Q133.006 1465.82 129.927 1461.24 Q126.871 1456.63 126.871 1447.91 Q126.871 1439.16 129.927 1434.57 Q133.006 1429.97 138.816 1429.97 Z\" fill=\"#000000\" fill-rule=\"evenodd\" fill-opacity=\"1\" /><path clip-path=\"url(#clip930)\" d=\"M65.0198 1236.19 Q61.4087 1236.19 59.58 1239.75 Q57.7745 1243.29 57.7745 1250.42 Q57.7745 1257.53 59.58 1261.09 Q61.4087 1264.63 65.0198 1264.63 Q68.6541 1264.63 70.4596 1261.09 Q72.2883 1257.53 72.2883 1250.42 Q72.2883 1243.29 70.4596 1239.75 Q68.6541 1236.19 65.0198 1236.19 M65.0198 1232.48 Q70.83 1232.48 73.8855 1237.09 Q76.9642 1241.67 76.9642 1250.42 Q76.9642 1259.15 73.8855 1263.75 Q70.83 1268.34 65.0198 1268.34 Q59.2097 1268.34 56.131 1263.75 Q53.0754 1259.15 53.0754 1250.42 Q53.0754 1241.67 56.131 1237.09 Q59.2097 1232.48 65.0198 1232.48 Z\" fill=\"#000000\" fill-rule=\"evenodd\" fill-opacity=\"1\" /><path clip-path=\"url(#clip930)\" d=\"M85.1818 1261.79 L90.066 1261.79 L90.066 1267.67 L85.1818 1267.67 L85.1818 1261.79 Z\" fill=\"#000000\" fill-rule=\"evenodd\" fill-opacity=\"1\" /><path clip-path=\"url(#clip930)\" d=\"M110.251 1236.19 Q106.64 1236.19 104.811 1239.75 Q103.006 1243.29 103.006 1250.42 Q103.006 1257.53 104.811 1261.09 Q106.64 1264.63 110.251 1264.63 Q113.885 1264.63 115.691 1261.09 Q117.52 1257.53 117.52 1250.42 Q117.52 1243.29 115.691 1239.75 Q113.885 1236.19 110.251 1236.19 M110.251 1232.48 Q116.061 1232.48 119.117 1237.09 Q122.195 1241.67 122.195 1250.42 Q122.195 1259.15 119.117 1263.75 Q116.061 1268.34 110.251 1268.34 Q104.441 1268.34 101.362 1263.75 Q98.3067 1259.15 98.3067 1250.42 Q98.3067 1241.67 101.362 1237.09 Q104.441 1232.48 110.251 1232.48 Z\" fill=\"#000000\" fill-rule=\"evenodd\" fill-opacity=\"1\" /><path clip-path=\"url(#clip930)\" d=\"M134.441 1263.73 L150.76 1263.73 L150.76 1267.67 L128.816 1267.67 L128.816 1263.73 Q131.478 1260.98 136.061 1256.35 Q140.668 1251.69 141.848 1250.35 Q144.093 1247.83 144.973 1246.09 Q145.876 1244.33 145.876 1242.64 Q145.876 1239.89 143.931 1238.15 Q142.01 1236.42 138.908 1236.42 Q136.709 1236.42 134.256 1237.18 Q131.825 1237.94 129.047 1239.5 L129.047 1234.77 Q131.871 1233.64 134.325 1233.06 Q136.779 1232.48 138.816 1232.48 Q144.186 1232.48 147.38 1235.17 Q150.575 1237.85 150.575 1242.34 Q150.575 1244.47 149.765 1246.39 Q148.978 1248.29 146.871 1250.88 Q146.293 1251.56 143.191 1254.77 Q140.089 1257.97 134.441 1263.73 Z\" fill=\"#000000\" fill-rule=\"evenodd\" fill-opacity=\"1\" /><path clip-path=\"url(#clip930)\" d=\"M62.9365 1038.7 Q59.3254 1038.7 57.4967 1042.26 Q55.6912 1045.81 55.6912 1052.93 Q55.6912 1060.04 57.4967 1063.61 Q59.3254 1067.15 62.9365 1067.15 Q66.5707 1067.15 68.3763 1063.61 Q70.205 1060.04 70.205 1052.93 Q70.205 1045.81 68.3763 1042.26 Q66.5707 1038.7 62.9365 1038.7 M62.9365 1035 Q68.7467 1035 71.8022 1039.6 Q74.8809 1044.18 74.8809 1052.93 Q74.8809 1061.66 71.8022 1066.27 Q68.7467 1070.85 62.9365 1070.85 Q57.1264 1070.85 54.0477 1066.27 Q50.9921 1061.66 50.9921 1052.93 Q50.9921 1044.18 54.0477 1039.6 Q57.1264 1035 62.9365 1035 Z\" fill=\"#000000\" fill-rule=\"evenodd\" fill-opacity=\"1\" /><path clip-path=\"url(#clip930)\" d=\"M83.0984 1064.3 L87.9827 1064.3 L87.9827 1070.18 L83.0984 1070.18 L83.0984 1064.3 Z\" fill=\"#000000\" fill-rule=\"evenodd\" fill-opacity=\"1\" /><path clip-path=\"url(#clip930)\" d=\"M108.168 1038.7 Q104.557 1038.7 102.728 1042.26 Q100.922 1045.81 100.922 1052.93 Q100.922 1060.04 102.728 1063.61 Q104.557 1067.15 108.168 1067.15 Q111.802 1067.15 113.608 1063.61 Q115.436 1060.04 115.436 1052.93 Q115.436 1045.81 113.608 1042.26 Q111.802 1038.7 108.168 1038.7 M108.168 1035 Q113.978 1035 117.033 1039.6 Q120.112 1044.18 120.112 1052.93 Q120.112 1061.66 117.033 1066.27 Q113.978 1070.85 108.168 1070.85 Q102.358 1070.85 99.2789 1066.27 Q96.2234 1061.66 96.2234 1052.93 Q96.2234 1044.18 99.2789 1039.6 Q102.358 1035 108.168 1035 Z\" fill=\"#000000\" fill-rule=\"evenodd\" fill-opacity=\"1\" /><path clip-path=\"url(#clip930)\" d=\"M141.177 1039.69 L129.371 1058.14 L141.177 1058.14 L141.177 1039.69 M139.95 1035.62 L145.83 1035.62 L145.83 1058.14 L150.76 1058.14 L150.76 1062.03 L145.83 1062.03 L145.83 1070.18 L141.177 1070.18 L141.177 1062.03 L125.575 1062.03 L125.575 1057.52 L139.95 1035.62 Z\" fill=\"#000000\" fill-rule=\"evenodd\" fill-opacity=\"1\" /><path clip-path=\"url(#clip930)\" d=\"M63.2606 841.212 Q59.6495 841.212 57.8208 844.777 Q56.0152 848.319 56.0152 855.448 Q56.0152 862.555 57.8208 866.12 Q59.6495 869.661 63.2606 869.661 Q66.8948 869.661 68.7004 866.12 Q70.5291 862.555 70.5291 855.448 Q70.5291 848.319 68.7004 844.777 Q66.8948 841.212 63.2606 841.212 M63.2606 837.509 Q69.0707 837.509 72.1263 842.115 Q75.205 846.699 75.205 855.448 Q75.205 864.175 72.1263 868.782 Q69.0707 873.365 63.2606 873.365 Q57.4504 873.365 54.3717 868.782 Q51.3162 864.175 51.3162 855.448 Q51.3162 846.699 54.3717 842.115 Q57.4504 837.509 63.2606 837.509 Z\" fill=\"#000000\" fill-rule=\"evenodd\" fill-opacity=\"1\" /><path clip-path=\"url(#clip930)\" d=\"M83.4225 866.814 L88.3067 866.814 L88.3067 872.694 L83.4225 872.694 L83.4225 866.814 Z\" fill=\"#000000\" fill-rule=\"evenodd\" fill-opacity=\"1\" /><path clip-path=\"url(#clip930)\" d=\"M108.492 841.212 Q104.881 841.212 103.052 844.777 Q101.246 848.319 101.246 855.448 Q101.246 862.555 103.052 866.12 Q104.881 869.661 108.492 869.661 Q112.126 869.661 113.932 866.12 Q115.76 862.555 115.76 855.448 Q115.76 848.319 113.932 844.777 Q112.126 841.212 108.492 841.212 M108.492 837.509 Q114.302 837.509 117.358 842.115 Q120.436 846.699 120.436 855.448 Q120.436 864.175 117.358 868.782 Q114.302 873.365 108.492 873.365 Q102.682 873.365 99.603 868.782 Q96.5474 864.175 96.5474 855.448 Q96.5474 846.699 99.603 842.115 Q102.682 837.509 108.492 837.509 Z\" fill=\"#000000\" fill-rule=\"evenodd\" fill-opacity=\"1\" /><path clip-path=\"url(#clip930)\" d=\"M139.232 853.55 Q136.084 853.55 134.232 855.703 Q132.404 857.856 132.404 861.606 Q132.404 865.333 134.232 867.509 Q136.084 869.661 139.232 869.661 Q142.381 869.661 144.209 867.509 Q146.061 865.333 146.061 861.606 Q146.061 857.856 144.209 855.703 Q142.381 853.55 139.232 853.55 M148.515 838.898 L148.515 843.157 Q146.756 842.324 144.95 841.884 Q143.168 841.444 141.408 841.444 Q136.779 841.444 134.325 844.569 Q131.894 847.694 131.547 854.013 Q132.913 851.999 134.973 850.935 Q137.033 849.847 139.51 849.847 Q144.718 849.847 147.728 853.018 Q150.76 856.166 150.76 861.606 Q150.76 866.93 147.612 870.147 Q144.464 873.365 139.232 873.365 Q133.237 873.365 130.066 868.782 Q126.894 864.175 126.894 855.448 Q126.894 847.254 130.783 842.393 Q134.672 837.509 141.223 837.509 Q142.982 837.509 144.765 837.856 Q146.57 838.203 148.515 838.898 Z\" fill=\"#000000\" fill-rule=\"evenodd\" fill-opacity=\"1\" /><path clip-path=\"url(#clip930)\" d=\"M63.5152 643.726 Q59.9041 643.726 58.0754 647.291 Q56.2699 650.832 56.2699 657.962 Q56.2699 665.068 58.0754 668.633 Q59.9041 672.175 63.5152 672.175 Q67.1494 672.175 68.955 668.633 Q70.7837 665.068 70.7837 657.962 Q70.7837 650.832 68.955 647.291 Q67.1494 643.726 63.5152 643.726 M63.5152 640.022 Q69.3254 640.022 72.3809 644.629 Q75.4596 649.212 75.4596 657.962 Q75.4596 666.689 72.3809 671.295 Q69.3254 675.879 63.5152 675.879 Q57.7051 675.879 54.6264 671.295 Q51.5708 666.689 51.5708 657.962 Q51.5708 649.212 54.6264 644.629 Q57.7051 640.022 63.5152 640.022 Z\" fill=\"#000000\" fill-rule=\"evenodd\" fill-opacity=\"1\" /><path clip-path=\"url(#clip930)\" d=\"M83.6771 669.328 L88.5614 669.328 L88.5614 675.207 L83.6771 675.207 L83.6771 669.328 Z\" fill=\"#000000\" fill-rule=\"evenodd\" fill-opacity=\"1\" /><path clip-path=\"url(#clip930)\" d=\"M108.746 643.726 Q105.135 643.726 103.307 647.291 Q101.501 650.832 101.501 657.962 Q101.501 665.068 103.307 668.633 Q105.135 672.175 108.746 672.175 Q112.381 672.175 114.186 668.633 Q116.015 665.068 116.015 657.962 Q116.015 650.832 114.186 647.291 Q112.381 643.726 108.746 643.726 M108.746 640.022 Q114.557 640.022 117.612 644.629 Q120.691 649.212 120.691 657.962 Q120.691 666.689 117.612 671.295 Q114.557 675.879 108.746 675.879 Q102.936 675.879 99.8576 671.295 Q96.8021 666.689 96.8021 657.962 Q96.8021 649.212 99.8576 644.629 Q102.936 640.022 108.746 640.022 Z\" fill=\"#000000\" fill-rule=\"evenodd\" fill-opacity=\"1\" /><path clip-path=\"url(#clip930)\" d=\"M138.908 658.795 Q135.575 658.795 133.654 660.578 Q131.756 662.36 131.756 665.485 Q131.756 668.61 133.654 670.393 Q135.575 672.175 138.908 672.175 Q142.242 672.175 144.163 670.393 Q146.084 668.587 146.084 665.485 Q146.084 662.36 144.163 660.578 Q142.265 658.795 138.908 658.795 M134.232 656.805 Q131.223 656.064 129.533 654.004 Q127.867 651.944 127.867 648.981 Q127.867 644.837 130.807 642.43 Q133.769 640.022 138.908 640.022 Q144.07 640.022 147.01 642.43 Q149.95 644.837 149.95 648.981 Q149.95 651.944 148.26 654.004 Q146.593 656.064 143.607 656.805 Q146.987 657.592 148.862 659.883 Q150.76 662.175 150.76 665.485 Q150.76 670.508 147.681 673.193 Q144.626 675.879 138.908 675.879 Q133.191 675.879 130.112 673.193 Q127.057 670.508 127.057 665.485 Q127.057 662.175 128.955 659.883 Q130.853 657.592 134.232 656.805 M132.519 649.42 Q132.519 652.106 134.186 653.61 Q135.876 655.115 138.908 655.115 Q141.918 655.115 143.607 653.61 Q145.32 652.106 145.32 649.42 Q145.32 646.735 143.607 645.231 Q141.918 643.726 138.908 643.726 Q135.876 643.726 134.186 645.231 Q132.519 646.735 132.519 649.42 Z\" fill=\"#000000\" fill-rule=\"evenodd\" fill-opacity=\"1\" /><path clip-path=\"url(#clip930)\" d=\"M63.4226 446.24 Q59.8115 446.24 57.9828 449.804 Q56.1773 453.346 56.1773 460.476 Q56.1773 467.582 57.9828 471.147 Q59.8115 474.688 63.4226 474.688 Q67.0569 474.688 68.8624 471.147 Q70.6911 467.582 70.6911 460.476 Q70.6911 453.346 68.8624 449.804 Q67.0569 446.24 63.4226 446.24 M63.4226 442.536 Q69.2328 442.536 72.2883 447.142 Q75.367 451.726 75.367 460.476 Q75.367 469.202 72.2883 473.809 Q69.2328 478.392 63.4226 478.392 Q57.6125 478.392 54.5338 473.809 Q51.4782 469.202 51.4782 460.476 Q51.4782 451.726 54.5338 447.142 Q57.6125 442.536 63.4226 442.536 Z\" fill=\"#000000\" fill-rule=\"evenodd\" fill-opacity=\"1\" /><path clip-path=\"url(#clip930)\" d=\"M83.5845 471.841 L88.4688 471.841 L88.4688 477.721 L83.5845 477.721 L83.5845 471.841 Z\" fill=\"#000000\" fill-rule=\"evenodd\" fill-opacity=\"1\" /><path clip-path=\"url(#clip930)\" d=\"M99.4641 473.786 L107.103 473.786 L107.103 447.42 L98.7928 449.087 L98.7928 444.828 L107.057 443.161 L111.733 443.161 L111.733 473.786 L119.371 473.786 L119.371 477.721 L99.4641 477.721 L99.4641 473.786 Z\" fill=\"#000000\" fill-rule=\"evenodd\" fill-opacity=\"1\" /><path clip-path=\"url(#clip930)\" d=\"M138.816 446.24 Q135.205 446.24 133.376 449.804 Q131.57 453.346 131.57 460.476 Q131.57 467.582 133.376 471.147 Q135.205 474.688 138.816 474.688 Q142.45 474.688 144.256 471.147 Q146.084 467.582 146.084 460.476 Q146.084 453.346 144.256 449.804 Q142.45 446.24 138.816 446.24 M138.816 442.536 Q144.626 442.536 147.681 447.142 Q150.76 451.726 150.76 460.476 Q150.76 469.202 147.681 473.809 Q144.626 478.392 138.816 478.392 Q133.006 478.392 129.927 473.809 Q126.871 469.202 126.871 460.476 Q126.871 451.726 129.927 447.142 Q133.006 442.536 138.816 442.536 Z\" fill=\"#000000\" fill-rule=\"evenodd\" fill-opacity=\"1\" /><path clip-path=\"url(#clip930)\" d=\"M65.0198 248.753 Q61.4087 248.753 59.58 252.318 Q57.7745 255.86 57.7745 262.989 Q57.7745 270.096 59.58 273.66 Q61.4087 277.202 65.0198 277.202 Q68.6541 277.202 70.4596 273.66 Q72.2883 270.096 72.2883 262.989 Q72.2883 255.86 70.4596 252.318 Q68.6541 248.753 65.0198 248.753 M65.0198 245.049 Q70.83 245.049 73.8855 249.656 Q76.9642 254.239 76.9642 262.989 Q76.9642 271.716 73.8855 276.322 Q70.83 280.906 65.0198 280.906 Q59.2097 280.906 56.131 276.322 Q53.0754 271.716 53.0754 262.989 Q53.0754 254.239 56.131 249.656 Q59.2097 245.049 65.0198 245.049 Z\" fill=\"#000000\" fill-rule=\"evenodd\" fill-opacity=\"1\" /><path clip-path=\"url(#clip930)\" d=\"M85.1818 274.355 L90.066 274.355 L90.066 280.234 L85.1818 280.234 L85.1818 274.355 Z\" fill=\"#000000\" fill-rule=\"evenodd\" fill-opacity=\"1\" /><path clip-path=\"url(#clip930)\" d=\"M101.061 276.299 L108.7 276.299 L108.7 249.934 L100.39 251.6 L100.39 247.341 L108.654 245.674 L113.33 245.674 L113.33 276.299 L120.969 276.299 L120.969 280.234 L101.061 280.234 L101.061 276.299 Z\" fill=\"#000000\" fill-rule=\"evenodd\" fill-opacity=\"1\" /><path clip-path=\"url(#clip930)\" d=\"M134.441 276.299 L150.76 276.299 L150.76 280.234 L128.816 280.234 L128.816 276.299 Q131.478 273.545 136.061 268.915 Q140.668 264.262 141.848 262.92 Q144.093 260.397 144.973 258.66 Q145.876 256.901 145.876 255.211 Q145.876 252.457 143.931 250.721 Q142.01 248.985 138.908 248.985 Q136.709 248.985 134.256 249.749 Q131.825 250.512 129.047 252.063 L129.047 247.341 Q131.871 246.207 134.325 245.628 Q136.779 245.049 138.816 245.049 Q144.186 245.049 147.38 247.735 Q150.575 250.42 150.575 254.911 Q150.575 257.04 149.765 258.961 Q148.978 260.86 146.871 263.452 Q146.293 264.123 143.191 267.341 Q140.089 270.535 134.441 276.299 Z\" fill=\"#000000\" fill-rule=\"evenodd\" fill-opacity=\"1\" /><path clip-path=\"url(#clip930)\" d=\"M928.672 34.0924 L928.672 9.54393 L936.126 9.54393 L936.126 72.576 L928.672 72.576 L928.672 65.7705 Q926.322 69.8214 922.717 71.8063 Q919.152 73.7508 914.129 73.7508 Q905.906 73.7508 900.721 67.1883 Q895.576 60.6258 895.576 49.9314 Q895.576 39.2371 900.721 32.6746 Q905.906 26.1121 914.129 26.1121 Q919.152 26.1121 922.717 28.0971 Q926.322 30.0415 928.672 34.0924 M903.273 49.9314 Q903.273 58.1548 906.635 62.8538 Q910.038 67.5124 915.952 67.5124 Q921.866 67.5124 925.269 62.8538 Q928.672 58.1548 928.672 49.9314 Q928.672 41.7081 925.269 37.0496 Q921.866 32.3505 915.952 32.3505 Q910.038 32.3505 906.635 37.0496 Q903.273 41.7081 903.273 49.9314 Z\" fill=\"#000000\" fill-rule=\"evenodd\" fill-opacity=\"1\" /><path clip-path=\"url(#clip930)\" d=\"M948.238 27.2059 L983.643 27.2059 L983.643 34.0114 L955.61 66.6212 L983.643 66.6212 L983.643 72.576 L947.225 72.576 L947.225 65.7705 L975.257 33.1607 L948.238 33.1607 L948.238 27.2059 Z\" fill=\"#000000\" fill-rule=\"evenodd\" fill-opacity=\"1\" /><path clip-path=\"url(#clip930)\" d=\"M1017.63 46.5287 L1039.46 46.5287 L1039.46 53.1722 L1017.63 53.1722 L1017.63 46.5287 Z\" fill=\"#000000\" fill-rule=\"evenodd\" fill-opacity=\"1\" /><path clip-path=\"url(#clip930)\" d=\"M1047.57 46.5287 L1069.4 46.5287 L1069.4 53.1722 L1047.57 53.1722 L1047.57 46.5287 Z\" fill=\"#000000\" fill-rule=\"evenodd\" fill-opacity=\"1\" /><path clip-path=\"url(#clip930)\" d=\"M1077.5 46.5287 L1099.34 46.5287 L1099.34 53.1722 L1077.5 53.1722 L1077.5 46.5287 Z\" fill=\"#000000\" fill-rule=\"evenodd\" fill-opacity=\"1\" /><path clip-path=\"url(#clip930)\" d=\"M1158.2 49.7694 Q1149.16 49.7694 1145.68 51.8354 Q1142.2 53.9013 1142.2 58.8839 Q1142.2 62.8538 1144.79 65.2034 Q1147.42 67.5124 1151.92 67.5124 Q1158.12 67.5124 1161.84 63.1374 Q1165.61 58.7219 1165.61 51.4303 L1165.61 49.7694 L1158.2 49.7694 M1173.06 46.6907 L1173.06 72.576 L1165.61 72.576 L1165.61 65.6895 Q1163.06 69.8214 1159.25 71.8063 Q1155.44 73.7508 1149.93 73.7508 Q1142.96 73.7508 1138.83 69.8619 Q1134.74 65.9325 1134.74 59.3701 Q1134.74 51.7138 1139.85 47.825 Q1144.99 43.9361 1155.16 43.9361 L1165.61 43.9361 L1165.61 43.2069 Q1165.61 38.0623 1162.21 35.2672 Q1158.84 32.4315 1152.73 32.4315 Q1148.84 32.4315 1145.15 33.3632 Q1141.47 34.295 1138.06 36.1584 L1138.06 29.2718 Q1142.15 27.692 1146 26.9223 Q1149.85 26.1121 1153.5 26.1121 Q1163.34 26.1121 1168.2 31.2163 Q1173.06 36.3204 1173.06 46.6907 Z\" fill=\"#000000\" fill-rule=\"evenodd\" fill-opacity=\"1\" /><path clip-path=\"url(#clip930)\" d=\"M1220.99 49.9314 Q1220.99 41.7081 1217.58 37.0496 Q1214.22 32.3505 1208.31 32.3505 Q1202.39 32.3505 1198.99 37.0496 Q1195.63 41.7081 1195.63 49.9314 Q1195.63 58.1548 1198.99 62.8538 Q1202.39 67.5124 1208.31 67.5124 Q1214.22 67.5124 1217.58 62.8538 Q1220.99 58.1548 1220.99 49.9314 M1195.63 34.0924 Q1197.98 30.0415 1201.54 28.0971 Q1205.15 26.1121 1210.13 26.1121 Q1218.39 26.1121 1223.54 32.6746 Q1228.72 39.2371 1228.72 49.9314 Q1228.72 60.6258 1223.54 67.1883 Q1218.39 73.7508 1210.13 73.7508 Q1205.15 73.7508 1201.54 71.8063 Q1197.98 69.8214 1195.63 65.7705 L1195.63 72.576 L1188.13 72.576 L1188.13 9.54393 L1195.63 9.54393 L1195.63 34.0924 Z\" fill=\"#000000\" fill-rule=\"evenodd\" fill-opacity=\"1\" /><path clip-path=\"url(#clip930)\" d=\"M1270 28.5427 L1270 35.5912 Q1266.84 33.9709 1263.44 33.1607 Q1260.04 32.3505 1256.39 32.3505 Q1250.84 32.3505 1248.05 34.0519 Q1245.29 35.7533 1245.29 39.156 Q1245.29 41.7486 1247.28 43.2475 Q1249.26 44.7058 1255.26 46.0426 L1257.81 46.6097 Q1265.75 48.3111 1269.07 51.4303 Q1272.43 54.509 1272.43 60.0587 Q1272.43 66.3781 1267.41 70.0644 Q1262.43 73.7508 1253.68 73.7508 Q1250.03 73.7508 1246.06 73.0216 Q1242.13 72.3329 1237.76 70.9151 L1237.76 63.2184 Q1241.89 65.3654 1245.9 66.4591 Q1249.91 67.5124 1253.84 67.5124 Q1259.1 67.5124 1261.94 65.73 Q1264.78 63.9071 1264.78 60.6258 Q1264.78 57.5877 1262.71 55.9673 Q1260.68 54.3469 1253.76 52.8481 L1251.16 52.2405 Q1244.24 50.7821 1241.16 47.7845 Q1238.08 44.7463 1238.08 39.4801 Q1238.08 33.0797 1242.62 29.5959 Q1247.15 26.1121 1255.5 26.1121 Q1259.63 26.1121 1263.28 26.7198 Q1266.92 27.3274 1270 28.5427 Z\" fill=\"#000000\" fill-rule=\"evenodd\" fill-opacity=\"1\" /><path clip-path=\"url(#clip930)\" d=\"M1302.21 9.62495 Q1296.78 18.942 1294.14 28.0566 Q1291.51 37.1711 1291.51 46.5287 Q1291.51 55.8863 1294.14 65.0818 Q1296.82 74.2369 1302.21 83.5134 L1295.72 83.5134 Q1289.65 73.9938 1286.61 64.7983 Q1283.61 55.6027 1283.61 46.5287 Q1283.61 37.4952 1286.61 28.3401 Q1289.61 19.1851 1295.72 9.62495 L1302.21 9.62495 Z\" fill=\"#000000\" fill-rule=\"evenodd\" fill-opacity=\"1\" /><path clip-path=\"url(#clip930)\" d=\"M1362.28 16.7545 L1362.28 25.383 Q1358.15 21.5346 1353.45 19.6307 Q1348.79 17.7268 1343.52 17.7268 Q1333.15 17.7268 1327.65 24.0867 Q1322.14 30.4061 1322.14 42.3968 Q1322.14 54.3469 1327.65 60.7069 Q1333.15 67.0263 1343.52 67.0263 Q1348.79 67.0263 1353.45 65.1223 Q1358.15 63.2184 1362.28 59.3701 L1362.28 67.9175 Q1357.99 70.8341 1353.17 72.2924 Q1348.39 73.7508 1343.04 73.7508 Q1329.31 73.7508 1321.41 65.3654 Q1313.51 56.9395 1313.51 42.3968 Q1313.51 27.8135 1321.41 19.4281 Q1329.31 11.0023 1343.04 11.0023 Q1348.47 11.0023 1353.25 12.4606 Q1358.07 13.8784 1362.28 16.7545 Z\" fill=\"#000000\" fill-rule=\"evenodd\" fill-opacity=\"1\" /><path clip-path=\"url(#clip930)\" d=\"M1381.64 12.096 L1381.64 34.5785 L1374.76 34.5785 L1374.76 12.096 L1381.64 12.096 Z\" fill=\"#000000\" fill-rule=\"evenodd\" fill-opacity=\"1\" /><path clip-path=\"url(#clip930)\" d=\"M1393.63 46.5287 L1415.47 46.5287 L1415.47 53.1722 L1393.63 53.1722 L1393.63 46.5287 Z\" fill=\"#000000\" fill-rule=\"evenodd\" fill-opacity=\"1\" /><path clip-path=\"url(#clip930)\" d=\"M1472.95 16.7545 L1472.95 25.383 Q1468.82 21.5346 1464.12 19.6307 Q1459.46 17.7268 1454.2 17.7268 Q1443.83 17.7268 1438.32 24.0867 Q1432.81 30.4061 1432.81 42.3968 Q1432.81 54.3469 1438.32 60.7069 Q1443.83 67.0263 1454.2 67.0263 Q1459.46 67.0263 1464.12 65.1223 Q1468.82 63.2184 1472.95 59.3701 L1472.95 67.9175 Q1468.66 70.8341 1463.84 72.2924 Q1459.06 73.7508 1453.71 73.7508 Q1439.98 73.7508 1432.08 65.3654 Q1424.18 56.9395 1424.18 42.3968 Q1424.18 27.8135 1432.08 19.4281 Q1439.98 11.0023 1453.71 11.0023 Q1459.14 11.0023 1463.92 12.4606 Q1468.74 13.8784 1472.95 16.7545 Z\" fill=\"#000000\" fill-rule=\"evenodd\" fill-opacity=\"1\" /><path clip-path=\"url(#clip930)\" d=\"M1484.09 9.62495 L1490.57 9.62495 Q1496.65 19.1851 1499.65 28.3401 Q1502.69 37.4952 1502.69 46.5287 Q1502.69 55.6027 1499.65 64.7983 Q1496.65 73.9938 1490.57 83.5134 L1484.09 83.5134 Q1489.48 74.2369 1492.11 65.0818 Q1494.79 55.8863 1494.79 46.5287 Q1494.79 37.1711 1492.11 28.0566 Q1489.48 18.942 1484.09 9.62495 Z\" fill=\"#000000\" fill-rule=\"evenodd\" fill-opacity=\"1\" /><path clip-path=\"url(#clip930)\" d=\"M1557.25 12.096 L1564.14 12.096 L1543.07 80.2727 L1536.19 80.2727 L1557.25 12.096 Z\" fill=\"#000000\" fill-rule=\"evenodd\" fill-opacity=\"1\" /><path clip-path=\"url(#clip930)\" d=\"M1643.94 16.7545 L1643.94 25.383 Q1639.81 21.5346 1635.11 19.6307 Q1630.45 17.7268 1625.18 17.7268 Q1614.81 17.7268 1609.3 24.0867 Q1603.8 30.4061 1603.8 42.3968 Q1603.8 54.3469 1609.3 60.7069 Q1614.81 67.0263 1625.18 67.0263 Q1630.45 67.0263 1635.11 65.1223 Q1639.81 63.2184 1643.94 59.3701 L1643.94 67.9175 Q1639.65 70.8341 1634.83 72.2924 Q1630.05 73.7508 1624.7 73.7508 Q1610.97 73.7508 1603.07 65.3654 Q1595.17 56.9395 1595.17 42.3968 Q1595.17 27.8135 1603.07 19.4281 Q1610.97 11.0023 1624.7 11.0023 Q1630.13 11.0023 1634.91 12.4606 Q1639.73 13.8784 1643.94 16.7545 Z\" fill=\"#000000\" fill-rule=\"evenodd\" fill-opacity=\"1\" /><polyline clip-path=\"url(#clip932)\" style=\"stroke:#009af9; stroke-linecap:round; stroke-linejoin:round; stroke-width:4; stroke-opacity:1; fill:none\" points=\"248.062,1150.14 292.483,1108.83 336.905,1289.26 381.327,1280.38 425.748,1157.12 470.17,1198.38 514.591,1264.76 559.013,1238.09 603.434,1365.72 647.856,1286.65 692.278,1344.88 736.699,1332.4 781.121,1283.34 825.542,1284.32 869.964,1377.1 914.385,983.395 958.807,935.521 1003.23,1446.82 1047.65,930.102 1092.07,1393.48 1136.49,1422.4 1180.91,944.949 1225.34,1374.08 1269.76,1330.24 1314.18,1213.03 1358.6,1263.56 1403.02,1132.07 1447.44,1445.4 1491.87,1376.12 1536.29,1416.15 1580.71,1264.31 1625.13,1433.94 1669.55,1239.22 1713.97,1398.93 1758.4,1234.26 1802.82,1447.73 1847.24,451.017 1891.66,162.047 1936.08,1364.38 1980.5,1393.09 2024.92,1431.46 2069.35,1441.28 2113.77,779.712 2158.19,1377.49 2202.61,1355.2 2247.03,1064.99 2291.45,1444.41 \"/>\n",
       "<circle clip-path=\"url(#clip932)\" cx=\"425.748\" cy=\"1447.87\" r=\"14.4\" fill=\"#e26f46\" fill-rule=\"evenodd\" fill-opacity=\"1\" stroke=\"#000000\" stroke-opacity=\"1\" stroke-width=\"3.2\"/>\n",
       "<circle clip-path=\"url(#clip932)\" cx=\"781.121\" cy=\"1447.87\" r=\"14.4\" fill=\"#e26f46\" fill-rule=\"evenodd\" fill-opacity=\"1\" stroke=\"#000000\" stroke-opacity=\"1\" stroke-width=\"3.2\"/>\n",
       "<circle clip-path=\"url(#clip932)\" cx=\"1225.34\" cy=\"1447.87\" r=\"14.4\" fill=\"#e26f46\" fill-rule=\"evenodd\" fill-opacity=\"1\" stroke=\"#000000\" stroke-opacity=\"1\" stroke-width=\"3.2\"/>\n",
       "<circle clip-path=\"url(#clip932)\" cx=\"1713.97\" cy=\"1447.87\" r=\"14.4\" fill=\"#e26f46\" fill-rule=\"evenodd\" fill-opacity=\"1\" stroke=\"#000000\" stroke-opacity=\"1\" stroke-width=\"3.2\"/>\n",
       "<circle clip-path=\"url(#clip932)\" cx=\"2291.45\" cy=\"1447.87\" r=\"14.4\" fill=\"#e26f46\" fill-rule=\"evenodd\" fill-opacity=\"1\" stroke=\"#000000\" stroke-opacity=\"1\" stroke-width=\"3.2\"/>\n",
       "<path clip-path=\"url(#clip930)\" d=\"M258.96 324.425 L653.684 324.425 L653.684 168.905 L258.96 168.905  Z\" fill=\"#ffffff\" fill-rule=\"evenodd\" fill-opacity=\"1\"/>\n",
       "<polyline clip-path=\"url(#clip930)\" style=\"stroke:#000000; stroke-linecap:round; stroke-linejoin:round; stroke-width:4; stroke-opacity:1; fill:none\" points=\"258.96,324.425 653.684,324.425 653.684,168.905 258.96,168.905 258.96,324.425 \"/>\n",
       "<polyline clip-path=\"url(#clip930)\" style=\"stroke:#009af9; stroke-linecap:round; stroke-linejoin:round; stroke-width:4; stroke-opacity:1; fill:none\" points=\"283.027,220.745 427.426,220.745 \"/>\n",
       "<path clip-path=\"url(#clip930)\" d=\"M472.002 213.094 L472.002 217.076 Q470.197 216.08 468.368 215.594 Q466.562 215.085 464.71 215.085 Q460.567 215.085 458.275 217.724 Q455.984 220.34 455.984 225.085 Q455.984 229.83 458.275 232.469 Q460.567 235.085 464.71 235.085 Q466.562 235.085 468.368 234.599 Q470.197 234.089 472.002 233.094 L472.002 237.029 Q470.22 237.863 468.298 238.279 Q466.4 238.696 464.247 238.696 Q458.391 238.696 454.942 235.015 Q451.493 231.335 451.493 225.085 Q451.493 218.742 454.965 215.108 Q458.46 211.474 464.525 211.474 Q466.493 211.474 468.368 211.891 Q470.243 212.284 472.002 213.094 Z\" fill=\"#000000\" fill-rule=\"evenodd\" fill-opacity=\"1\" /><path clip-path=\"url(#clip930)\" d=\"M489.456 215.085 Q486.03 215.085 484.039 217.77 Q482.048 220.432 482.048 225.085 Q482.048 229.738 484.016 232.423 Q486.007 235.085 489.456 235.085 Q492.858 235.085 494.849 232.4 Q496.84 229.715 496.84 225.085 Q496.84 220.478 494.849 217.793 Q492.858 215.085 489.456 215.085 M489.456 211.474 Q495.011 211.474 498.182 215.085 Q501.354 218.696 501.354 225.085 Q501.354 231.451 498.182 235.085 Q495.011 238.696 489.456 238.696 Q483.877 238.696 480.706 235.085 Q477.558 231.451 477.558 225.085 Q477.558 218.696 480.706 215.085 Q483.877 211.474 489.456 211.474 Z\" fill=\"#000000\" fill-rule=\"evenodd\" fill-opacity=\"1\" /><path clip-path=\"url(#clip930)\" d=\"M524.942 212.863 L524.942 216.891 Q523.136 215.965 521.192 215.502 Q519.247 215.039 517.164 215.039 Q513.993 215.039 512.395 216.011 Q510.821 216.983 510.821 218.928 Q510.821 220.409 511.956 221.265 Q513.09 222.099 516.516 222.863 L517.974 223.187 Q522.511 224.159 524.409 225.941 Q526.33 227.701 526.33 230.872 Q526.33 234.483 523.46 236.589 Q520.613 238.696 515.613 238.696 Q513.53 238.696 511.261 238.279 Q509.016 237.886 506.516 237.076 L506.516 232.677 Q508.877 233.904 511.169 234.529 Q513.46 235.131 515.706 235.131 Q518.715 235.131 520.335 234.113 Q521.956 233.071 521.956 231.196 Q521.956 229.46 520.775 228.534 Q519.618 227.608 515.659 226.752 L514.178 226.404 Q510.219 225.571 508.46 223.858 Q506.701 222.122 506.701 219.113 Q506.701 215.455 509.294 213.465 Q511.886 211.474 516.655 211.474 Q519.016 211.474 521.099 211.821 Q523.182 212.168 524.942 212.863 Z\" fill=\"#000000\" fill-rule=\"evenodd\" fill-opacity=\"1\" /><path clip-path=\"url(#clip930)\" d=\"M553.298 217.076 Q554.895 214.205 557.117 212.84 Q559.34 211.474 562.349 211.474 Q566.4 211.474 568.599 214.321 Q570.798 217.145 570.798 222.377 L570.798 238.025 L566.515 238.025 L566.515 222.515 Q566.515 218.789 565.196 216.983 Q563.877 215.178 561.168 215.178 Q557.858 215.178 555.937 217.377 Q554.016 219.576 554.016 223.372 L554.016 238.025 L549.733 238.025 L549.733 222.515 Q549.733 218.765 548.414 216.983 Q547.094 215.178 544.34 215.178 Q541.076 215.178 539.154 217.4 Q537.233 219.599 537.233 223.372 L537.233 238.025 L532.951 238.025 L532.951 212.099 L537.233 212.099 L537.233 216.127 Q538.692 213.742 540.729 212.608 Q542.766 211.474 545.566 211.474 Q548.391 211.474 550.358 212.909 Q552.349 214.344 553.298 217.076 Z\" fill=\"#000000\" fill-rule=\"evenodd\" fill-opacity=\"1\" /><path clip-path=\"url(#clip930)\" d=\"M589.339 215.085 Q585.914 215.085 583.923 217.77 Q581.932 220.432 581.932 225.085 Q581.932 229.738 583.9 232.423 Q585.89 235.085 589.339 235.085 Q592.742 235.085 594.733 232.4 Q596.724 229.715 596.724 225.085 Q596.724 220.478 594.733 217.793 Q592.742 215.085 589.339 215.085 M589.339 211.474 Q594.895 211.474 598.066 215.085 Q601.237 218.696 601.237 225.085 Q601.237 231.451 598.066 235.085 Q594.895 238.696 589.339 238.696 Q583.761 238.696 580.589 235.085 Q577.441 231.451 577.441 225.085 Q577.441 218.696 580.589 215.085 Q583.761 211.474 589.339 211.474 Z\" fill=\"#000000\" fill-rule=\"evenodd\" fill-opacity=\"1\" /><path clip-path=\"url(#clip930)\" d=\"M609.71 234.089 L617.349 234.089 L617.349 207.724 L609.038 209.391 L609.038 205.131 L617.302 203.465 L621.978 203.465 L621.978 234.089 L629.617 234.089 L629.617 238.025 L609.71 238.025 L609.71 234.089 Z\" fill=\"#000000\" fill-rule=\"evenodd\" fill-opacity=\"1\" /><circle clip-path=\"url(#clip930)\" cx=\"355.226\" cy=\"272.585\" r=\"23.04\" fill=\"#e26f46\" fill-rule=\"evenodd\" fill-opacity=\"1\" stroke=\"#000000\" stroke-opacity=\"1\" stroke-width=\"5.12\"/>\n",
       "<path clip-path=\"url(#clip930)\" d=\"M465.335 292.272 Q463.53 296.902 461.817 298.314 Q460.104 299.726 457.234 299.726 L453.831 299.726 L453.831 296.161 L456.331 296.161 Q458.09 296.161 459.062 295.328 Q460.035 294.494 461.215 291.392 L461.979 289.448 L451.493 263.939 L456.007 263.939 L464.109 284.217 L472.21 263.939 L476.724 263.939 L465.335 292.272 Z\" fill=\"#000000\" fill-rule=\"evenodd\" fill-opacity=\"1\" /><path clip-path=\"url(#clip930)\" d=\"M487.233 285.929 L503.553 285.929 L503.553 289.865 L481.609 289.865 L481.609 285.929 Q484.271 283.175 488.854 278.545 Q493.46 273.893 494.641 272.55 Q496.886 270.027 497.766 268.291 Q498.669 266.531 498.669 264.842 Q498.669 262.087 496.724 260.351 Q494.803 258.615 491.701 258.615 Q489.502 258.615 487.048 259.379 Q484.618 260.143 481.84 261.694 L481.84 256.971 Q484.664 255.837 487.118 255.258 Q489.571 254.68 491.608 254.68 Q496.979 254.68 500.173 257.365 Q503.368 260.05 503.368 264.541 Q503.368 266.67 502.557 268.592 Q501.77 270.49 499.664 273.082 Q499.085 273.754 495.983 276.971 Q492.882 280.166 487.233 285.929 Z\" fill=\"#000000\" fill-rule=\"evenodd\" fill-opacity=\"1\" /></svg>\n"
      ]
     },
     "execution_count": 27,
     "metadata": {},
     "output_type": "execute_result"
    }
   ],
   "source": [
    "plot(abs.(diag(gcgc_meta.cov) .- diag(C_mod)) ./ diag(gcgc_meta.cov), label=\"cosmo1\", title=\"dz --- abs(C'-C) / C\")\n",
    "plot!([5, 13, 23, 34, 47], [0, 0, 0, 0, 0], seriestype=:scatter)\n"
   ]
  },
  {
   "cell_type": "code",
   "execution_count": 28,
   "id": "24f6d9c0",
   "metadata": {},
   "outputs": [],
   "source": [
    "npzwrite(\"../../data/DESY1/nzs/gcgc_dz_cov_marg.npz\",\n",
    "        Dict(\"cov_marg\" => C_mod,\n",
    "             \"inv_cov_marg\" => inv_C_mod))"
   ]
  },
  {
   "cell_type": "code",
   "execution_count": 29,
   "id": "29d4c404",
   "metadata": {},
   "outputs": [
    {
     "name": "stdout",
     "output_type": "stream",
     "text": [
      "40\n"
     ]
    }
   ],
   "source": [
    "C_mod = make_Cmod_Nz_gc(cov_k0, cov_k1, cov_k2, cov_k3, cov_k4; cosmo=cosmo)\n",
    "inv_C_mod = inv(C_mod);"
   ]
  },
  {
   "cell_type": "code",
   "execution_count": 30,
   "id": "d2c28b4d",
   "metadata": {},
   "outputs": [
    {
     "data": {
      "image/svg+xml": [
       "<?xml version=\"1.0\" encoding=\"utf-8\"?>\n",
       "<svg xmlns=\"http://www.w3.org/2000/svg\" xmlns:xlink=\"http://www.w3.org/1999/xlink\" width=\"600\" height=\"400\" viewBox=\"0 0 2400 1600\">\n",
       "<defs>\n",
       "  <clipPath id=\"clip970\">\n",
       "    <rect x=\"0\" y=\"0\" width=\"2400\" height=\"1600\"/>\n",
       "  </clipPath>\n",
       "</defs>\n",
       "<path clip-path=\"url(#clip970)\" d=\"M0 1600 L2400 1600 L2400 0 L0 0  Z\" fill=\"#ffffff\" fill-rule=\"evenodd\" fill-opacity=\"1\"/>\n",
       "<defs>\n",
       "  <clipPath id=\"clip971\">\n",
       "    <rect x=\"480\" y=\"0\" width=\"1681\" height=\"1600\"/>\n",
       "  </clipPath>\n",
       "</defs>\n",
       "<path clip-path=\"url(#clip970)\" d=\"M156.598 1486.45 L2352.76 1486.45 L2352.76 123.472 L156.598 123.472  Z\" fill=\"#ffffff\" fill-rule=\"evenodd\" fill-opacity=\"1\"/>\n",
       "<defs>\n",
       "  <clipPath id=\"clip972\">\n",
       "    <rect x=\"156\" y=\"123\" width=\"2197\" height=\"1364\"/>\n",
       "  </clipPath>\n",
       "</defs>\n",
       "<polyline clip-path=\"url(#clip972)\" style=\"stroke:#000000; stroke-linecap:round; stroke-linejoin:round; stroke-width:2; stroke-opacity:0.1; fill:none\" points=\"173.713,1486.45 173.713,123.472 \"/>\n",
       "<polyline clip-path=\"url(#clip972)\" style=\"stroke:#000000; stroke-linecap:round; stroke-linejoin:round; stroke-width:2; stroke-opacity:0.1; fill:none\" points=\"624.115,1486.45 624.115,123.472 \"/>\n",
       "<polyline clip-path=\"url(#clip972)\" style=\"stroke:#000000; stroke-linecap:round; stroke-linejoin:round; stroke-width:2; stroke-opacity:0.1; fill:none\" points=\"1074.52,1486.45 1074.52,123.472 \"/>\n",
       "<polyline clip-path=\"url(#clip972)\" style=\"stroke:#000000; stroke-linecap:round; stroke-linejoin:round; stroke-width:2; stroke-opacity:0.1; fill:none\" points=\"1524.92,1486.45 1524.92,123.472 \"/>\n",
       "<polyline clip-path=\"url(#clip972)\" style=\"stroke:#000000; stroke-linecap:round; stroke-linejoin:round; stroke-width:2; stroke-opacity:0.1; fill:none\" points=\"1975.32,1486.45 1975.32,123.472 \"/>\n",
       "<polyline clip-path=\"url(#clip970)\" style=\"stroke:#000000; stroke-linecap:round; stroke-linejoin:round; stroke-width:4; stroke-opacity:1; fill:none\" points=\"156.598,1486.45 2352.76,1486.45 \"/>\n",
       "<polyline clip-path=\"url(#clip970)\" style=\"stroke:#000000; stroke-linecap:round; stroke-linejoin:round; stroke-width:4; stroke-opacity:1; fill:none\" points=\"173.713,1486.45 173.713,1467.55 \"/>\n",
       "<polyline clip-path=\"url(#clip970)\" style=\"stroke:#000000; stroke-linecap:round; stroke-linejoin:round; stroke-width:4; stroke-opacity:1; fill:none\" points=\"624.115,1486.45 624.115,1467.55 \"/>\n",
       "<polyline clip-path=\"url(#clip970)\" style=\"stroke:#000000; stroke-linecap:round; stroke-linejoin:round; stroke-width:4; stroke-opacity:1; fill:none\" points=\"1074.52,1486.45 1074.52,1467.55 \"/>\n",
       "<polyline clip-path=\"url(#clip970)\" style=\"stroke:#000000; stroke-linecap:round; stroke-linejoin:round; stroke-width:4; stroke-opacity:1; fill:none\" points=\"1524.92,1486.45 1524.92,1467.55 \"/>\n",
       "<polyline clip-path=\"url(#clip970)\" style=\"stroke:#000000; stroke-linecap:round; stroke-linejoin:round; stroke-width:4; stroke-opacity:1; fill:none\" points=\"1975.32,1486.45 1975.32,1467.55 \"/>\n",
       "<path clip-path=\"url(#clip970)\" d=\"M173.713 1517.37 Q170.102 1517.37 168.274 1520.93 Q166.468 1524.47 166.468 1531.6 Q166.468 1538.71 168.274 1542.27 Q170.102 1545.82 173.713 1545.82 Q177.348 1545.82 179.153 1542.27 Q180.982 1538.71 180.982 1531.6 Q180.982 1524.47 179.153 1520.93 Q177.348 1517.37 173.713 1517.37 M173.713 1513.66 Q179.524 1513.66 182.579 1518.27 Q185.658 1522.85 185.658 1531.6 Q185.658 1540.33 182.579 1544.94 Q179.524 1549.52 173.713 1549.52 Q167.903 1549.52 164.825 1544.94 Q161.769 1540.33 161.769 1531.6 Q161.769 1522.85 164.825 1518.27 Q167.903 1513.66 173.713 1513.66 Z\" fill=\"#000000\" fill-rule=\"evenodd\" fill-opacity=\"1\" /><path clip-path=\"url(#clip970)\" d=\"M598.803 1544.91 L606.441 1544.91 L606.441 1518.55 L598.131 1520.21 L598.131 1515.95 L606.395 1514.29 L611.071 1514.29 L611.071 1544.91 L618.71 1544.91 L618.71 1548.85 L598.803 1548.85 L598.803 1544.91 Z\" fill=\"#000000\" fill-rule=\"evenodd\" fill-opacity=\"1\" /><path clip-path=\"url(#clip970)\" d=\"M638.154 1517.37 Q634.543 1517.37 632.714 1520.93 Q630.909 1524.47 630.909 1531.6 Q630.909 1538.71 632.714 1542.27 Q634.543 1545.82 638.154 1545.82 Q641.788 1545.82 643.594 1542.27 Q645.423 1538.71 645.423 1531.6 Q645.423 1524.47 643.594 1520.93 Q641.788 1517.37 638.154 1517.37 M638.154 1513.66 Q643.964 1513.66 647.02 1518.27 Q650.099 1522.85 650.099 1531.6 Q650.099 1540.33 647.02 1544.94 Q643.964 1549.52 638.154 1549.52 Q632.344 1549.52 629.265 1544.94 Q626.21 1540.33 626.21 1531.6 Q626.21 1522.85 629.265 1518.27 Q632.344 1513.66 638.154 1513.66 Z\" fill=\"#000000\" fill-rule=\"evenodd\" fill-opacity=\"1\" /><path clip-path=\"url(#clip970)\" d=\"M1053.29 1544.91 L1069.61 1544.91 L1069.61 1548.85 L1047.66 1548.85 L1047.66 1544.91 Q1050.33 1542.16 1054.91 1537.53 Q1059.52 1532.88 1060.7 1531.53 Q1062.94 1529.01 1063.82 1527.27 Q1064.72 1525.51 1064.72 1523.82 Q1064.72 1521.07 1062.78 1519.33 Q1060.86 1517.6 1057.76 1517.6 Q1055.56 1517.6 1053.1 1518.36 Q1050.67 1519.13 1047.9 1520.68 L1047.9 1515.95 Q1050.72 1514.82 1053.17 1514.24 Q1055.63 1513.66 1057.66 1513.66 Q1063.04 1513.66 1066.23 1516.35 Q1069.42 1519.03 1069.42 1523.52 Q1069.42 1525.65 1068.61 1527.57 Q1067.83 1529.47 1065.72 1532.07 Q1065.14 1532.74 1062.04 1535.95 Q1058.94 1539.15 1053.29 1544.91 Z\" fill=\"#000000\" fill-rule=\"evenodd\" fill-opacity=\"1\" /><path clip-path=\"url(#clip970)\" d=\"M1089.42 1517.37 Q1085.81 1517.37 1083.98 1520.93 Q1082.18 1524.47 1082.18 1531.6 Q1082.18 1538.71 1083.98 1542.27 Q1085.81 1545.82 1089.42 1545.82 Q1093.06 1545.82 1094.86 1542.27 Q1096.69 1538.71 1096.69 1531.6 Q1096.69 1524.47 1094.86 1520.93 Q1093.06 1517.37 1089.42 1517.37 M1089.42 1513.66 Q1095.23 1513.66 1098.29 1518.27 Q1101.37 1522.85 1101.37 1531.6 Q1101.37 1540.33 1098.29 1544.94 Q1095.23 1549.52 1089.42 1549.52 Q1083.61 1549.52 1080.53 1544.94 Q1077.48 1540.33 1077.48 1531.6 Q1077.48 1522.85 1080.53 1518.27 Q1083.61 1513.66 1089.42 1513.66 Z\" fill=\"#000000\" fill-rule=\"evenodd\" fill-opacity=\"1\" /><path clip-path=\"url(#clip970)\" d=\"M1513.76 1530.21 Q1517.12 1530.93 1518.99 1533.2 Q1520.89 1535.47 1520.89 1538.8 Q1520.89 1543.92 1517.37 1546.72 Q1513.85 1549.52 1507.37 1549.52 Q1505.2 1549.52 1502.88 1549.08 Q1500.59 1548.66 1498.14 1547.81 L1498.14 1543.29 Q1500.08 1544.43 1502.39 1545.01 Q1504.71 1545.58 1507.23 1545.58 Q1511.63 1545.58 1513.92 1543.85 Q1516.24 1542.11 1516.24 1538.8 Q1516.24 1535.75 1514.08 1534.03 Q1511.96 1532.3 1508.14 1532.3 L1504.11 1532.3 L1504.11 1528.45 L1508.32 1528.45 Q1511.77 1528.45 1513.6 1527.09 Q1515.43 1525.7 1515.43 1523.11 Q1515.43 1520.45 1513.53 1519.03 Q1511.65 1517.6 1508.14 1517.6 Q1506.21 1517.6 1504.02 1518.01 Q1501.82 1518.43 1499.18 1519.31 L1499.18 1515.14 Q1501.84 1514.4 1504.15 1514.03 Q1506.49 1513.66 1508.55 1513.66 Q1513.88 1513.66 1516.98 1516.09 Q1520.08 1518.5 1520.08 1522.62 Q1520.08 1525.49 1518.44 1527.48 Q1516.79 1529.45 1513.76 1530.21 Z\" fill=\"#000000\" fill-rule=\"evenodd\" fill-opacity=\"1\" /><path clip-path=\"url(#clip970)\" d=\"M1539.76 1517.37 Q1536.14 1517.37 1534.32 1520.93 Q1532.51 1524.47 1532.51 1531.6 Q1532.51 1538.71 1534.32 1542.27 Q1536.14 1545.82 1539.76 1545.82 Q1543.39 1545.82 1545.2 1542.27 Q1547.02 1538.71 1547.02 1531.6 Q1547.02 1524.47 1545.2 1520.93 Q1543.39 1517.37 1539.76 1517.37 M1539.76 1513.66 Q1545.57 1513.66 1548.62 1518.27 Q1551.7 1522.85 1551.7 1531.6 Q1551.7 1540.33 1548.62 1544.94 Q1545.57 1549.52 1539.76 1549.52 Q1533.95 1549.52 1530.87 1544.94 Q1527.81 1540.33 1527.81 1531.6 Q1527.81 1522.85 1530.87 1518.27 Q1533.95 1513.66 1539.76 1513.66 Z\" fill=\"#000000\" fill-rule=\"evenodd\" fill-opacity=\"1\" /><path clip-path=\"url(#clip970)\" d=\"M1963.49 1518.36 L1951.69 1536.81 L1963.49 1536.81 L1963.49 1518.36 M1962.26 1514.29 L1968.14 1514.29 L1968.14 1536.81 L1973.07 1536.81 L1973.07 1540.7 L1968.14 1540.7 L1968.14 1548.85 L1963.49 1548.85 L1963.49 1540.7 L1947.89 1540.7 L1947.89 1536.19 L1962.26 1514.29 Z\" fill=\"#000000\" fill-rule=\"evenodd\" fill-opacity=\"1\" /><path clip-path=\"url(#clip970)\" d=\"M1990.81 1517.37 Q1987.19 1517.37 1985.37 1520.93 Q1983.56 1524.47 1983.56 1531.6 Q1983.56 1538.71 1985.37 1542.27 Q1987.19 1545.82 1990.81 1545.82 Q1994.44 1545.82 1996.25 1542.27 Q1998.07 1538.71 1998.07 1531.6 Q1998.07 1524.47 1996.25 1520.93 Q1994.44 1517.37 1990.81 1517.37 M1990.81 1513.66 Q1996.62 1513.66 1999.67 1518.27 Q2002.75 1522.85 2002.75 1531.6 Q2002.75 1540.33 1999.67 1544.94 Q1996.62 1549.52 1990.81 1549.52 Q1985 1549.52 1981.92 1544.94 Q1978.86 1540.33 1978.86 1531.6 Q1978.86 1522.85 1981.92 1518.27 Q1985 1513.66 1990.81 1513.66 Z\" fill=\"#000000\" fill-rule=\"evenodd\" fill-opacity=\"1\" /><polyline clip-path=\"url(#clip972)\" style=\"stroke:#000000; stroke-linecap:round; stroke-linejoin:round; stroke-width:2; stroke-opacity:0.1; fill:none\" points=\"156.598,1447.87 2352.76,1447.87 \"/>\n",
       "<polyline clip-path=\"url(#clip972)\" style=\"stroke:#000000; stroke-linecap:round; stroke-linejoin:round; stroke-width:2; stroke-opacity:0.1; fill:none\" points=\"156.598,1229.06 2352.76,1229.06 \"/>\n",
       "<polyline clip-path=\"url(#clip972)\" style=\"stroke:#000000; stroke-linecap:round; stroke-linejoin:round; stroke-width:2; stroke-opacity:0.1; fill:none\" points=\"156.598,1010.26 2352.76,1010.26 \"/>\n",
       "<polyline clip-path=\"url(#clip972)\" style=\"stroke:#000000; stroke-linecap:round; stroke-linejoin:round; stroke-width:2; stroke-opacity:0.1; fill:none\" points=\"156.598,791.446 2352.76,791.446 \"/>\n",
       "<polyline clip-path=\"url(#clip972)\" style=\"stroke:#000000; stroke-linecap:round; stroke-linejoin:round; stroke-width:2; stroke-opacity:0.1; fill:none\" points=\"156.598,572.637 2352.76,572.637 \"/>\n",
       "<polyline clip-path=\"url(#clip972)\" style=\"stroke:#000000; stroke-linecap:round; stroke-linejoin:round; stroke-width:2; stroke-opacity:0.1; fill:none\" points=\"156.598,353.828 2352.76,353.828 \"/>\n",
       "<polyline clip-path=\"url(#clip972)\" style=\"stroke:#000000; stroke-linecap:round; stroke-linejoin:round; stroke-width:2; stroke-opacity:0.1; fill:none\" points=\"156.598,135.019 2352.76,135.019 \"/>\n",
       "<polyline clip-path=\"url(#clip970)\" style=\"stroke:#000000; stroke-linecap:round; stroke-linejoin:round; stroke-width:4; stroke-opacity:1; fill:none\" points=\"156.598,1486.45 156.598,123.472 \"/>\n",
       "<polyline clip-path=\"url(#clip970)\" style=\"stroke:#000000; stroke-linecap:round; stroke-linejoin:round; stroke-width:4; stroke-opacity:1; fill:none\" points=\"156.598,1447.87 175.496,1447.87 \"/>\n",
       "<polyline clip-path=\"url(#clip970)\" style=\"stroke:#000000; stroke-linecap:round; stroke-linejoin:round; stroke-width:4; stroke-opacity:1; fill:none\" points=\"156.598,1229.06 175.496,1229.06 \"/>\n",
       "<polyline clip-path=\"url(#clip970)\" style=\"stroke:#000000; stroke-linecap:round; stroke-linejoin:round; stroke-width:4; stroke-opacity:1; fill:none\" points=\"156.598,1010.26 175.496,1010.26 \"/>\n",
       "<polyline clip-path=\"url(#clip970)\" style=\"stroke:#000000; stroke-linecap:round; stroke-linejoin:round; stroke-width:4; stroke-opacity:1; fill:none\" points=\"156.598,791.446 175.496,791.446 \"/>\n",
       "<polyline clip-path=\"url(#clip970)\" style=\"stroke:#000000; stroke-linecap:round; stroke-linejoin:round; stroke-width:4; stroke-opacity:1; fill:none\" points=\"156.598,572.637 175.496,572.637 \"/>\n",
       "<polyline clip-path=\"url(#clip970)\" style=\"stroke:#000000; stroke-linecap:round; stroke-linejoin:round; stroke-width:4; stroke-opacity:1; fill:none\" points=\"156.598,353.828 175.496,353.828 \"/>\n",
       "<polyline clip-path=\"url(#clip970)\" style=\"stroke:#000000; stroke-linecap:round; stroke-linejoin:round; stroke-width:4; stroke-opacity:1; fill:none\" points=\"156.598,135.019 175.496,135.019 \"/>\n",
       "<path clip-path=\"url(#clip970)\" d=\"M63.4226 1433.67 Q59.8115 1433.67 57.9828 1437.24 Q56.1773 1440.78 56.1773 1447.91 Q56.1773 1455.01 57.9828 1458.58 Q59.8115 1462.12 63.4226 1462.12 Q67.0569 1462.12 68.8624 1458.58 Q70.6911 1455.01 70.6911 1447.91 Q70.6911 1440.78 68.8624 1437.24 Q67.0569 1433.67 63.4226 1433.67 M63.4226 1429.97 Q69.2328 1429.97 72.2883 1434.57 Q75.367 1439.16 75.367 1447.91 Q75.367 1456.63 72.2883 1461.24 Q69.2328 1465.82 63.4226 1465.82 Q57.6125 1465.82 54.5338 1461.24 Q51.4782 1456.63 51.4782 1447.91 Q51.4782 1439.16 54.5338 1434.57 Q57.6125 1429.97 63.4226 1429.97 Z\" fill=\"#000000\" fill-rule=\"evenodd\" fill-opacity=\"1\" /><path clip-path=\"url(#clip970)\" d=\"M83.5845 1459.27 L88.4688 1459.27 L88.4688 1465.15 L83.5845 1465.15 L83.5845 1459.27 Z\" fill=\"#000000\" fill-rule=\"evenodd\" fill-opacity=\"1\" /><path clip-path=\"url(#clip970)\" d=\"M108.654 1433.67 Q105.043 1433.67 103.214 1437.24 Q101.409 1440.78 101.409 1447.91 Q101.409 1455.01 103.214 1458.58 Q105.043 1462.12 108.654 1462.12 Q112.288 1462.12 114.094 1458.58 Q115.922 1455.01 115.922 1447.91 Q115.922 1440.78 114.094 1437.24 Q112.288 1433.67 108.654 1433.67 M108.654 1429.97 Q114.464 1429.97 117.52 1434.57 Q120.598 1439.16 120.598 1447.91 Q120.598 1456.63 117.52 1461.24 Q114.464 1465.82 108.654 1465.82 Q102.844 1465.82 99.765 1461.24 Q96.7095 1456.63 96.7095 1447.91 Q96.7095 1439.16 99.765 1434.57 Q102.844 1429.97 108.654 1429.97 Z\" fill=\"#000000\" fill-rule=\"evenodd\" fill-opacity=\"1\" /><path clip-path=\"url(#clip970)\" d=\"M64.6495 1214.86 Q61.0384 1214.86 59.2097 1218.43 Q57.4041 1221.97 57.4041 1229.1 Q57.4041 1236.21 59.2097 1239.77 Q61.0384 1243.31 64.6495 1243.31 Q68.2837 1243.31 70.0892 1239.77 Q71.9179 1236.21 71.9179 1229.1 Q71.9179 1221.97 70.0892 1218.43 Q68.2837 1214.86 64.6495 1214.86 M64.6495 1211.16 Q70.4596 1211.16 73.5152 1215.77 Q76.5938 1220.35 76.5938 1229.1 Q76.5938 1237.83 73.5152 1242.43 Q70.4596 1247.02 64.6495 1247.02 Q58.8393 1247.02 55.7606 1242.43 Q52.7051 1237.83 52.7051 1229.1 Q52.7051 1220.35 55.7606 1215.77 Q58.8393 1211.16 64.6495 1211.16 Z\" fill=\"#000000\" fill-rule=\"evenodd\" fill-opacity=\"1\" /><path clip-path=\"url(#clip970)\" d=\"M84.8114 1240.46 L89.6956 1240.46 L89.6956 1246.34 L84.8114 1246.34 L84.8114 1240.46 Z\" fill=\"#000000\" fill-rule=\"evenodd\" fill-opacity=\"1\" /><path clip-path=\"url(#clip970)\" d=\"M100.691 1242.41 L108.33 1242.41 L108.33 1216.04 L100.02 1217.71 L100.02 1213.45 L108.283 1211.78 L112.959 1211.78 L112.959 1242.41 L120.598 1242.41 L120.598 1246.34 L100.691 1246.34 L100.691 1242.41 Z\" fill=\"#000000\" fill-rule=\"evenodd\" fill-opacity=\"1\" /><path clip-path=\"url(#clip970)\" d=\"M65.0198 996.054 Q61.4087 996.054 59.58 999.619 Q57.7745 1003.16 57.7745 1010.29 Q57.7745 1017.4 59.58 1020.96 Q61.4087 1024.5 65.0198 1024.5 Q68.6541 1024.5 70.4596 1020.96 Q72.2883 1017.4 72.2883 1010.29 Q72.2883 1003.16 70.4596 999.619 Q68.6541 996.054 65.0198 996.054 M65.0198 992.35 Q70.83 992.35 73.8855 996.956 Q76.9642 1001.54 76.9642 1010.29 Q76.9642 1019.02 73.8855 1023.62 Q70.83 1028.21 65.0198 1028.21 Q59.2097 1028.21 56.131 1023.62 Q53.0754 1019.02 53.0754 1010.29 Q53.0754 1001.54 56.131 996.956 Q59.2097 992.35 65.0198 992.35 Z\" fill=\"#000000\" fill-rule=\"evenodd\" fill-opacity=\"1\" /><path clip-path=\"url(#clip970)\" d=\"M85.1818 1021.66 L90.066 1021.66 L90.066 1027.54 L85.1818 1027.54 L85.1818 1021.66 Z\" fill=\"#000000\" fill-rule=\"evenodd\" fill-opacity=\"1\" /><path clip-path=\"url(#clip970)\" d=\"M104.279 1023.6 L120.598 1023.6 L120.598 1027.54 L98.6539 1027.54 L98.6539 1023.6 Q101.316 1020.85 105.899 1016.22 Q110.506 1011.56 111.686 1010.22 Q113.932 1007.7 114.811 1005.96 Q115.714 1004.2 115.714 1002.51 Q115.714 999.757 113.77 998.021 Q111.848 996.285 108.746 996.285 Q106.547 996.285 104.094 997.049 Q101.663 997.813 98.8854 999.364 L98.8854 994.642 Q101.709 993.507 104.163 992.929 Q106.617 992.35 108.654 992.35 Q114.024 992.35 117.219 995.035 Q120.413 997.72 120.413 1002.21 Q120.413 1004.34 119.603 1006.26 Q118.816 1008.16 116.709 1010.75 Q116.131 1011.42 113.029 1014.64 Q109.927 1017.84 104.279 1023.6 Z\" fill=\"#000000\" fill-rule=\"evenodd\" fill-opacity=\"1\" /><path clip-path=\"url(#clip970)\" d=\"M64.0708 777.245 Q60.4597 777.245 58.631 780.809 Q56.8254 784.351 56.8254 791.481 Q56.8254 798.587 58.631 802.152 Q60.4597 805.694 64.0708 805.694 Q67.705 805.694 69.5105 802.152 Q71.3392 798.587 71.3392 791.481 Q71.3392 784.351 69.5105 780.809 Q67.705 777.245 64.0708 777.245 M64.0708 773.541 Q69.8809 773.541 72.9365 778.147 Q76.0151 782.731 76.0151 791.481 Q76.0151 800.208 72.9365 804.814 Q69.8809 809.397 64.0708 809.397 Q58.2606 809.397 55.1819 804.814 Q52.1264 800.208 52.1264 791.481 Q52.1264 782.731 55.1819 778.147 Q58.2606 773.541 64.0708 773.541 Z\" fill=\"#000000\" fill-rule=\"evenodd\" fill-opacity=\"1\" /><path clip-path=\"url(#clip970)\" d=\"M84.2327 802.846 L89.1169 802.846 L89.1169 808.726 L84.2327 808.726 L84.2327 802.846 Z\" fill=\"#000000\" fill-rule=\"evenodd\" fill-opacity=\"1\" /><path clip-path=\"url(#clip970)\" d=\"M113.469 790.092 Q116.825 790.809 118.7 793.078 Q120.598 795.346 120.598 798.68 Q120.598 803.795 117.08 806.596 Q113.561 809.397 107.08 809.397 Q104.904 809.397 102.589 808.957 Q100.297 808.541 97.8437 807.684 L97.8437 803.17 Q99.7882 804.305 102.103 804.883 Q104.418 805.462 106.941 805.462 Q111.339 805.462 113.631 803.726 Q115.945 801.99 115.945 798.68 Q115.945 795.624 113.793 793.911 Q111.663 792.175 107.844 792.175 L103.816 792.175 L103.816 788.333 L108.029 788.333 Q111.478 788.333 113.307 786.967 Q115.135 785.578 115.135 782.985 Q115.135 780.323 113.237 778.911 Q111.362 777.476 107.844 777.476 Q105.922 777.476 103.723 777.893 Q101.524 778.31 98.8854 779.189 L98.8854 775.022 Q101.547 774.282 103.862 773.911 Q106.2 773.541 108.26 773.541 Q113.584 773.541 116.686 775.972 Q119.788 778.379 119.788 782.499 Q119.788 785.37 118.145 787.36 Q116.501 789.328 113.469 790.092 Z\" fill=\"#000000\" fill-rule=\"evenodd\" fill-opacity=\"1\" /><path clip-path=\"url(#clip970)\" d=\"M62.9365 558.436 Q59.3254 558.436 57.4967 562 Q55.6912 565.542 55.6912 572.672 Q55.6912 579.778 57.4967 583.343 Q59.3254 586.885 62.9365 586.885 Q66.5707 586.885 68.3763 583.343 Q70.205 579.778 70.205 572.672 Q70.205 565.542 68.3763 562 Q66.5707 558.436 62.9365 558.436 M62.9365 554.732 Q68.7467 554.732 71.8022 559.338 Q74.8809 563.922 74.8809 572.672 Q74.8809 581.399 71.8022 586.005 Q68.7467 590.588 62.9365 590.588 Q57.1264 590.588 54.0477 586.005 Q50.9921 581.399 50.9921 572.672 Q50.9921 563.922 54.0477 559.338 Q57.1264 554.732 62.9365 554.732 Z\" fill=\"#000000\" fill-rule=\"evenodd\" fill-opacity=\"1\" /><path clip-path=\"url(#clip970)\" d=\"M83.0984 584.037 L87.9827 584.037 L87.9827 589.917 L83.0984 589.917 L83.0984 584.037 Z\" fill=\"#000000\" fill-rule=\"evenodd\" fill-opacity=\"1\" /><path clip-path=\"url(#clip970)\" d=\"M111.015 559.431 L99.2095 577.88 L111.015 577.88 L111.015 559.431 M109.788 555.357 L115.668 555.357 L115.668 577.88 L120.598 577.88 L120.598 581.769 L115.668 581.769 L115.668 589.917 L111.015 589.917 L111.015 581.769 L95.4132 581.769 L95.4132 577.255 L109.788 555.357 Z\" fill=\"#000000\" fill-rule=\"evenodd\" fill-opacity=\"1\" /><path clip-path=\"url(#clip970)\" d=\"M64.418 339.627 Q60.8069 339.627 58.9782 343.191 Q57.1726 346.733 57.1726 353.863 Q57.1726 360.969 58.9782 364.534 Q60.8069 368.076 64.418 368.076 Q68.0522 368.076 69.8578 364.534 Q71.6865 360.969 71.6865 353.863 Q71.6865 346.733 69.8578 343.191 Q68.0522 339.627 64.418 339.627 M64.418 335.923 Q70.2281 335.923 73.2837 340.529 Q76.3624 345.113 76.3624 353.863 Q76.3624 362.589 73.2837 367.196 Q70.2281 371.779 64.418 371.779 Q58.6078 371.779 55.5291 367.196 Q52.4736 362.589 52.4736 353.863 Q52.4736 345.113 55.5291 340.529 Q58.6078 335.923 64.418 335.923 Z\" fill=\"#000000\" fill-rule=\"evenodd\" fill-opacity=\"1\" /><path clip-path=\"url(#clip970)\" d=\"M84.5799 365.228 L89.4641 365.228 L89.4641 371.108 L84.5799 371.108 L84.5799 365.228 Z\" fill=\"#000000\" fill-rule=\"evenodd\" fill-opacity=\"1\" /><path clip-path=\"url(#clip970)\" d=\"M99.6956 336.548 L118.052 336.548 L118.052 340.483 L103.978 340.483 L103.978 348.955 Q104.996 348.608 106.015 348.446 Q107.033 348.261 108.052 348.261 Q113.839 348.261 117.219 351.432 Q120.598 354.603 120.598 360.02 Q120.598 365.599 117.126 368.701 Q113.654 371.779 107.334 371.779 Q105.159 371.779 102.89 371.409 Q100.645 371.039 98.2372 370.298 L98.2372 365.599 Q100.321 366.733 102.543 367.289 Q104.765 367.844 107.242 367.844 Q111.246 367.844 113.584 365.738 Q115.922 363.631 115.922 360.02 Q115.922 356.409 113.584 354.303 Q111.246 352.196 107.242 352.196 Q105.367 352.196 103.492 352.613 Q101.64 353.029 99.6956 353.909 L99.6956 336.548 Z\" fill=\"#000000\" fill-rule=\"evenodd\" fill-opacity=\"1\" /><path clip-path=\"url(#clip970)\" d=\"M63.2606 120.818 Q59.6495 120.818 57.8208 124.382 Q56.0152 127.924 56.0152 135.054 Q56.0152 142.16 57.8208 145.725 Q59.6495 149.267 63.2606 149.267 Q66.8948 149.267 68.7004 145.725 Q70.5291 142.16 70.5291 135.054 Q70.5291 127.924 68.7004 124.382 Q66.8948 120.818 63.2606 120.818 M63.2606 117.114 Q69.0707 117.114 72.1263 121.72 Q75.205 126.304 75.205 135.054 Q75.205 143.78 72.1263 148.387 Q69.0707 152.97 63.2606 152.97 Q57.4504 152.97 54.3717 148.387 Q51.3162 143.78 51.3162 135.054 Q51.3162 126.304 54.3717 121.72 Q57.4504 117.114 63.2606 117.114 Z\" fill=\"#000000\" fill-rule=\"evenodd\" fill-opacity=\"1\" /><path clip-path=\"url(#clip970)\" d=\"M83.4225 146.419 L88.3067 146.419 L88.3067 152.299 L83.4225 152.299 L83.4225 146.419 Z\" fill=\"#000000\" fill-rule=\"evenodd\" fill-opacity=\"1\" /><path clip-path=\"url(#clip970)\" d=\"M109.071 133.156 Q105.922 133.156 104.071 135.308 Q102.242 137.461 102.242 141.211 Q102.242 144.938 104.071 147.114 Q105.922 149.267 109.071 149.267 Q112.219 149.267 114.047 147.114 Q115.899 144.938 115.899 141.211 Q115.899 137.461 114.047 135.308 Q112.219 133.156 109.071 133.156 M118.353 118.503 L118.353 122.762 Q116.594 121.929 114.788 121.489 Q113.006 121.049 111.246 121.049 Q106.617 121.049 104.163 124.174 Q101.733 127.299 101.385 133.618 Q102.751 131.605 104.811 130.54 Q106.871 129.452 109.348 129.452 Q114.557 129.452 117.566 132.623 Q120.598 135.771 120.598 141.211 Q120.598 146.535 117.45 149.753 Q114.302 152.97 109.071 152.97 Q103.075 152.97 99.9039 148.387 Q96.7326 143.78 96.7326 135.054 Q96.7326 126.859 100.621 121.998 Q104.51 117.114 111.061 117.114 Q112.82 117.114 114.603 117.461 Q116.408 117.808 118.353 118.503 Z\" fill=\"#000000\" fill-rule=\"evenodd\" fill-opacity=\"1\" /><path clip-path=\"url(#clip970)\" d=\"M907.515 12.096 L918.533 12.096 L945.35 62.6918 L945.35 12.096 L953.29 12.096 L953.29 72.576 L942.271 72.576 L915.454 21.9802 L915.454 72.576 L907.515 72.576 L907.515 12.096 Z\" fill=\"#000000\" fill-rule=\"evenodd\" fill-opacity=\"1\" /><path clip-path=\"url(#clip970)\" d=\"M966.01 27.2059 L1001.41 27.2059 L1001.41 34.0114 L973.382 66.6212 L1001.41 66.6212 L1001.41 72.576 L964.997 72.576 L964.997 65.7705 L993.029 33.1607 L966.01 33.1607 L966.01 27.2059 Z\" fill=\"#000000\" fill-rule=\"evenodd\" fill-opacity=\"1\" /><path clip-path=\"url(#clip970)\" d=\"M1035.4 46.5287 L1057.24 46.5287 L1057.24 53.1722 L1035.4 53.1722 L1035.4 46.5287 Z\" fill=\"#000000\" fill-rule=\"evenodd\" fill-opacity=\"1\" /><path clip-path=\"url(#clip970)\" d=\"M1116.1 49.7694 Q1107.06 49.7694 1103.58 51.8354 Q1100.09 53.9013 1100.09 58.8839 Q1100.09 62.8538 1102.69 65.2034 Q1105.32 67.5124 1109.82 67.5124 Q1116.01 67.5124 1119.74 63.1374 Q1123.51 58.7219 1123.51 51.4303 L1123.51 49.7694 L1116.1 49.7694 M1130.96 46.6907 L1130.96 72.576 L1123.51 72.576 L1123.51 65.6895 Q1120.96 69.8214 1117.15 71.8063 Q1113.34 73.7508 1107.83 73.7508 Q1100.86 73.7508 1096.73 69.8619 Q1092.64 65.9325 1092.64 59.3701 Q1092.64 51.7138 1097.75 47.825 Q1102.89 43.9361 1113.06 43.9361 L1123.51 43.9361 L1123.51 43.2069 Q1123.51 38.0623 1120.11 35.2672 Q1116.74 32.4315 1110.63 32.4315 Q1106.74 32.4315 1103.05 33.3632 Q1099.37 34.295 1095.96 36.1584 L1095.96 29.2718 Q1100.05 27.692 1103.9 26.9223 Q1107.75 26.1121 1111.4 26.1121 Q1121.24 26.1121 1126.1 31.2163 Q1130.96 36.3204 1130.96 46.6907 Z\" fill=\"#000000\" fill-rule=\"evenodd\" fill-opacity=\"1\" /><path clip-path=\"url(#clip970)\" d=\"M1178.88 49.9314 Q1178.88 41.7081 1175.48 37.0496 Q1172.12 32.3505 1166.21 32.3505 Q1160.29 32.3505 1156.89 37.0496 Q1153.53 41.7081 1153.53 49.9314 Q1153.53 58.1548 1156.89 62.8538 Q1160.29 67.5124 1166.21 67.5124 Q1172.12 67.5124 1175.48 62.8538 Q1178.88 58.1548 1178.88 49.9314 M1153.53 34.0924 Q1155.88 30.0415 1159.44 28.0971 Q1163.05 26.1121 1168.03 26.1121 Q1176.29 26.1121 1181.44 32.6746 Q1186.62 39.2371 1186.62 49.9314 Q1186.62 60.6258 1181.44 67.1883 Q1176.29 73.7508 1168.03 73.7508 Q1163.05 73.7508 1159.44 71.8063 Q1155.88 69.8214 1153.53 65.7705 L1153.53 72.576 L1146.03 72.576 L1146.03 9.54393 L1153.53 9.54393 L1153.53 34.0924 Z\" fill=\"#000000\" fill-rule=\"evenodd\" fill-opacity=\"1\" /><path clip-path=\"url(#clip970)\" d=\"M1227.9 28.5427 L1227.9 35.5912 Q1224.74 33.9709 1221.34 33.1607 Q1217.94 32.3505 1214.29 32.3505 Q1208.74 32.3505 1205.94 34.0519 Q1203.19 35.7533 1203.19 39.156 Q1203.19 41.7486 1205.18 43.2475 Q1207.16 44.7058 1213.16 46.0426 L1215.71 46.6097 Q1223.65 48.3111 1226.97 51.4303 Q1230.33 54.509 1230.33 60.0587 Q1230.33 66.3781 1225.31 70.0644 Q1220.33 73.7508 1211.58 73.7508 Q1207.93 73.7508 1203.96 73.0216 Q1200.03 72.3329 1195.66 70.9151 L1195.66 63.2184 Q1199.79 65.3654 1203.8 66.4591 Q1207.81 67.5124 1211.74 67.5124 Q1217 67.5124 1219.84 65.73 Q1222.67 63.9071 1222.67 60.6258 Q1222.67 57.5877 1220.61 55.9673 Q1218.58 54.3469 1211.66 52.8481 L1209.06 52.2405 Q1202.14 50.7821 1199.06 47.7845 Q1195.98 44.7463 1195.98 39.4801 Q1195.98 33.0797 1200.52 29.5959 Q1205.05 26.1121 1213.4 26.1121 Q1217.53 26.1121 1221.18 26.7198 Q1224.82 27.3274 1227.9 28.5427 Z\" fill=\"#000000\" fill-rule=\"evenodd\" fill-opacity=\"1\" /><path clip-path=\"url(#clip970)\" d=\"M1260.11 9.62495 Q1254.68 18.942 1252.04 28.0566 Q1249.41 37.1711 1249.41 46.5287 Q1249.41 55.8863 1252.04 65.0818 Q1254.72 74.2369 1260.11 83.5134 L1253.62 83.5134 Q1247.55 73.9938 1244.51 64.7983 Q1241.51 55.6027 1241.51 46.5287 Q1241.51 37.4952 1244.51 28.3401 Q1247.51 19.1851 1253.62 9.62495 L1260.11 9.62495 Z\" fill=\"#000000\" fill-rule=\"evenodd\" fill-opacity=\"1\" /><path clip-path=\"url(#clip970)\" d=\"M1320.18 16.7545 L1320.18 25.383 Q1316.05 21.5346 1311.35 19.6307 Q1306.69 17.7268 1301.42 17.7268 Q1291.05 17.7268 1285.54 24.0867 Q1280.04 30.4061 1280.04 42.3968 Q1280.04 54.3469 1285.54 60.7069 Q1291.05 67.0263 1301.42 67.0263 Q1306.69 67.0263 1311.35 65.1223 Q1316.05 63.2184 1320.18 59.3701 L1320.18 67.9175 Q1315.89 70.8341 1311.07 72.2924 Q1306.29 73.7508 1300.94 73.7508 Q1287.21 73.7508 1279.31 65.3654 Q1271.41 56.9395 1271.41 42.3968 Q1271.41 27.8135 1279.31 19.4281 Q1287.21 11.0023 1300.94 11.0023 Q1306.37 11.0023 1311.15 12.4606 Q1315.97 13.8784 1320.18 16.7545 Z\" fill=\"#000000\" fill-rule=\"evenodd\" fill-opacity=\"1\" /><path clip-path=\"url(#clip970)\" d=\"M1339.54 12.096 L1339.54 34.5785 L1332.66 34.5785 L1332.66 12.096 L1339.54 12.096 Z\" fill=\"#000000\" fill-rule=\"evenodd\" fill-opacity=\"1\" /><path clip-path=\"url(#clip970)\" d=\"M1351.53 46.5287 L1373.37 46.5287 L1373.37 53.1722 L1351.53 53.1722 L1351.53 46.5287 Z\" fill=\"#000000\" fill-rule=\"evenodd\" fill-opacity=\"1\" /><path clip-path=\"url(#clip970)\" d=\"M1430.85 16.7545 L1430.85 25.383 Q1426.72 21.5346 1422.02 19.6307 Q1417.36 17.7268 1412.1 17.7268 Q1401.72 17.7268 1396.22 24.0867 Q1390.71 30.4061 1390.71 42.3968 Q1390.71 54.3469 1396.22 60.7069 Q1401.72 67.0263 1412.1 67.0263 Q1417.36 67.0263 1422.02 65.1223 Q1426.72 63.2184 1430.85 59.3701 L1430.85 67.9175 Q1426.56 70.8341 1421.74 72.2924 Q1416.96 73.7508 1411.61 73.7508 Q1397.88 73.7508 1389.98 65.3654 Q1382.08 56.9395 1382.08 42.3968 Q1382.08 27.8135 1389.98 19.4281 Q1397.88 11.0023 1411.61 11.0023 Q1417.04 11.0023 1421.82 12.4606 Q1426.64 13.8784 1430.85 16.7545 Z\" fill=\"#000000\" fill-rule=\"evenodd\" fill-opacity=\"1\" /><path clip-path=\"url(#clip970)\" d=\"M1441.99 9.62495 L1448.47 9.62495 Q1454.55 19.1851 1457.55 28.3401 Q1460.58 37.4952 1460.58 46.5287 Q1460.58 55.6027 1457.55 64.7983 Q1454.55 73.9938 1448.47 83.5134 L1441.99 83.5134 Q1447.38 74.2369 1450.01 65.0818 Q1452.69 55.8863 1452.69 46.5287 Q1452.69 37.1711 1450.01 28.0566 Q1447.38 18.942 1441.99 9.62495 Z\" fill=\"#000000\" fill-rule=\"evenodd\" fill-opacity=\"1\" /><path clip-path=\"url(#clip970)\" d=\"M1515.15 12.096 L1522.04 12.096 L1500.97 80.2727 L1494.09 80.2727 L1515.15 12.096 Z\" fill=\"#000000\" fill-rule=\"evenodd\" fill-opacity=\"1\" /><path clip-path=\"url(#clip970)\" d=\"M1601.84 16.7545 L1601.84 25.383 Q1597.71 21.5346 1593.01 19.6307 Q1588.35 17.7268 1583.08 17.7268 Q1572.71 17.7268 1567.2 24.0867 Q1561.7 30.4061 1561.7 42.3968 Q1561.7 54.3469 1567.2 60.7069 Q1572.71 67.0263 1583.08 67.0263 Q1588.35 67.0263 1593.01 65.1223 Q1597.71 63.2184 1601.84 59.3701 L1601.84 67.9175 Q1597.55 70.8341 1592.73 72.2924 Q1587.94 73.7508 1582.6 73.7508 Q1568.87 73.7508 1560.97 65.3654 Q1553.07 56.9395 1553.07 42.3968 Q1553.07 27.8135 1560.97 19.4281 Q1568.87 11.0023 1582.6 11.0023 Q1588.03 11.0023 1592.81 12.4606 Q1597.63 13.8784 1601.84 16.7545 Z\" fill=\"#000000\" fill-rule=\"evenodd\" fill-opacity=\"1\" /><polyline clip-path=\"url(#clip972)\" style=\"stroke:#009af9; stroke-linecap:round; stroke-linejoin:round; stroke-width:4; stroke-opacity:1; fill:none\" points=\"218.754,1442.03 263.794,1434.25 308.834,1432.82 353.874,1427.63 398.914,1426.01 443.954,1434.24 488.995,1422.75 534.035,1391.49 579.075,1381.64 624.115,1389.17 669.155,1388.37 714.195,1378.97 759.235,1330.24 804.276,1347.6 849.316,1205.09 894.356,1039.48 939.396,847.905 984.436,906.395 1029.48,832.19 1074.52,662.611 1119.56,648.673 1164.6,569.506 1209.64,540.778 1254.68,1294.53 1299.72,1066.05 1344.76,920.236 1389.8,777.929 1434.84,663.536 1479.88,543.782 1524.92,577.9 1569.96,543.573 1615,418.276 1660.04,290.326 1705.08,162.047 1750.12,1447.87 1795.16,1447.87 1840.2,1447.87 1885.24,1447.87 1930.28,1447.87 1975.32,1447.87 2020.36,1447.87 2065.4,1447.87 2110.44,1447.87 2155.48,1447.87 2200.52,1447.87 2245.56,1447.87 2290.6,1447.87 \"/>\n",
       "<circle clip-path=\"url(#clip972)\" cx=\"398.914\" cy=\"1447.87\" r=\"14.4\" fill=\"#e26f46\" fill-rule=\"evenodd\" fill-opacity=\"1\" stroke=\"#000000\" stroke-opacity=\"1\" stroke-width=\"3.2\"/>\n",
       "<circle clip-path=\"url(#clip972)\" cx=\"759.235\" cy=\"1447.87\" r=\"14.4\" fill=\"#e26f46\" fill-rule=\"evenodd\" fill-opacity=\"1\" stroke=\"#000000\" stroke-opacity=\"1\" stroke-width=\"3.2\"/>\n",
       "<circle clip-path=\"url(#clip972)\" cx=\"1209.64\" cy=\"1447.87\" r=\"14.4\" fill=\"#e26f46\" fill-rule=\"evenodd\" fill-opacity=\"1\" stroke=\"#000000\" stroke-opacity=\"1\" stroke-width=\"3.2\"/>\n",
       "<circle clip-path=\"url(#clip972)\" cx=\"1705.08\" cy=\"1447.87\" r=\"14.4\" fill=\"#e26f46\" fill-rule=\"evenodd\" fill-opacity=\"1\" stroke=\"#000000\" stroke-opacity=\"1\" stroke-width=\"3.2\"/>\n",
       "<circle clip-path=\"url(#clip972)\" cx=\"2290.6\" cy=\"1447.87\" r=\"14.4\" fill=\"#e26f46\" fill-rule=\"evenodd\" fill-opacity=\"1\" stroke=\"#000000\" stroke-opacity=\"1\" stroke-width=\"3.2\"/>\n",
       "<path clip-path=\"url(#clip970)\" d=\"M1881.81 324.425 L2279.55 324.425 L2279.55 168.905 L1881.81 168.905  Z\" fill=\"#ffffff\" fill-rule=\"evenodd\" fill-opacity=\"1\"/>\n",
       "<polyline clip-path=\"url(#clip970)\" style=\"stroke:#000000; stroke-linecap:round; stroke-linejoin:round; stroke-width:4; stroke-opacity:1; fill:none\" points=\"1881.81,324.425 2279.55,324.425 2279.55,168.905 1881.81,168.905 1881.81,324.425 \"/>\n",
       "<polyline clip-path=\"url(#clip970)\" style=\"stroke:#009af9; stroke-linecap:round; stroke-linejoin:round; stroke-width:4; stroke-opacity:1; fill:none\" points=\"1906.21,220.745 2052.62,220.745 \"/>\n",
       "<path clip-path=\"url(#clip970)\" d=\"M2097.53 213.094 L2097.53 217.076 Q2095.73 216.08 2093.9 215.594 Q2092.09 215.085 2090.24 215.085 Q2086.1 215.085 2083.81 217.724 Q2081.52 220.34 2081.52 225.085 Q2081.52 229.83 2083.81 232.469 Q2086.1 235.085 2090.24 235.085 Q2092.09 235.085 2093.9 234.599 Q2095.73 234.089 2097.53 233.094 L2097.53 237.029 Q2095.75 237.863 2093.83 238.279 Q2091.93 238.696 2089.78 238.696 Q2083.92 238.696 2080.47 235.015 Q2077.02 231.335 2077.02 225.085 Q2077.02 218.742 2080.5 215.108 Q2083.99 211.474 2090.06 211.474 Q2092.02 211.474 2093.9 211.891 Q2095.77 212.284 2097.53 213.094 Z\" fill=\"#000000\" fill-rule=\"evenodd\" fill-opacity=\"1\" /><path clip-path=\"url(#clip970)\" d=\"M2114.99 215.085 Q2111.56 215.085 2109.57 217.77 Q2107.58 220.432 2107.58 225.085 Q2107.58 229.738 2109.55 232.423 Q2111.54 235.085 2114.99 235.085 Q2118.39 235.085 2120.38 232.4 Q2122.37 229.715 2122.37 225.085 Q2122.37 220.478 2120.38 217.793 Q2118.39 215.085 2114.99 215.085 M2114.99 211.474 Q2120.54 211.474 2123.71 215.085 Q2126.89 218.696 2126.89 225.085 Q2126.89 231.451 2123.71 235.085 Q2120.54 238.696 2114.99 238.696 Q2109.41 238.696 2106.24 235.085 Q2103.09 231.451 2103.09 225.085 Q2103.09 218.696 2106.24 215.085 Q2109.41 211.474 2114.99 211.474 Z\" fill=\"#000000\" fill-rule=\"evenodd\" fill-opacity=\"1\" /><path clip-path=\"url(#clip970)\" d=\"M2150.47 212.863 L2150.47 216.891 Q2148.67 215.965 2146.72 215.502 Q2144.78 215.039 2142.7 215.039 Q2139.52 215.039 2137.93 216.011 Q2136.35 216.983 2136.35 218.928 Q2136.35 220.409 2137.49 221.265 Q2138.62 222.099 2142.05 222.863 L2143.51 223.187 Q2148.04 224.159 2149.94 225.941 Q2151.86 227.701 2151.86 230.872 Q2151.86 234.483 2148.99 236.589 Q2146.14 238.696 2141.14 238.696 Q2139.06 238.696 2136.79 238.279 Q2134.55 237.886 2132.05 237.076 L2132.05 232.677 Q2134.41 233.904 2136.7 234.529 Q2138.99 235.131 2141.24 235.131 Q2144.25 235.131 2145.87 234.113 Q2147.49 233.071 2147.49 231.196 Q2147.49 229.46 2146.31 228.534 Q2145.15 227.608 2141.19 226.752 L2139.71 226.404 Q2135.75 225.571 2133.99 223.858 Q2132.23 222.122 2132.23 219.113 Q2132.23 215.455 2134.83 213.465 Q2137.42 211.474 2142.19 211.474 Q2144.55 211.474 2146.63 211.821 Q2148.71 212.168 2150.47 212.863 Z\" fill=\"#000000\" fill-rule=\"evenodd\" fill-opacity=\"1\" /><path clip-path=\"url(#clip970)\" d=\"M2178.83 217.076 Q2180.43 214.205 2182.65 212.84 Q2184.87 211.474 2187.88 211.474 Q2191.93 211.474 2194.13 214.321 Q2196.33 217.145 2196.33 222.377 L2196.33 238.025 L2192.05 238.025 L2192.05 222.515 Q2192.05 218.789 2190.73 216.983 Q2189.41 215.178 2186.7 215.178 Q2183.39 215.178 2181.47 217.377 Q2179.55 219.576 2179.55 223.372 L2179.55 238.025 L2175.27 238.025 L2175.27 222.515 Q2175.27 218.765 2173.95 216.983 Q2172.63 215.178 2169.87 215.178 Q2166.61 215.178 2164.69 217.4 Q2162.77 219.599 2162.77 223.372 L2162.77 238.025 L2158.48 238.025 L2158.48 212.099 L2162.77 212.099 L2162.77 216.127 Q2164.22 213.742 2166.26 212.608 Q2168.3 211.474 2171.1 211.474 Q2173.92 211.474 2175.89 212.909 Q2177.88 214.344 2178.83 217.076 Z\" fill=\"#000000\" fill-rule=\"evenodd\" fill-opacity=\"1\" /><path clip-path=\"url(#clip970)\" d=\"M2214.87 215.085 Q2211.45 215.085 2209.45 217.77 Q2207.46 220.432 2207.46 225.085 Q2207.46 229.738 2209.43 232.423 Q2211.42 235.085 2214.87 235.085 Q2218.27 235.085 2220.26 232.4 Q2222.26 229.715 2222.26 225.085 Q2222.26 220.478 2220.26 217.793 Q2218.27 215.085 2214.87 215.085 M2214.87 211.474 Q2220.43 211.474 2223.6 215.085 Q2226.77 218.696 2226.77 225.085 Q2226.77 231.451 2223.6 235.085 Q2220.43 238.696 2214.87 238.696 Q2209.29 238.696 2206.12 235.085 Q2202.97 231.451 2202.97 225.085 Q2202.97 218.696 2206.12 215.085 Q2209.29 211.474 2214.87 211.474 Z\" fill=\"#000000\" fill-rule=\"evenodd\" fill-opacity=\"1\" /><path clip-path=\"url(#clip970)\" d=\"M2235.24 234.089 L2242.88 234.089 L2242.88 207.724 L2234.57 209.391 L2234.57 205.131 L2242.83 203.465 L2247.51 203.465 L2247.51 234.089 L2255.15 234.089 L2255.15 238.025 L2235.24 238.025 L2235.24 234.089 Z\" fill=\"#000000\" fill-rule=\"evenodd\" fill-opacity=\"1\" /><circle clip-path=\"url(#clip970)\" cx=\"1979.42\" cy=\"272.585\" r=\"23.04\" fill=\"#e26f46\" fill-rule=\"evenodd\" fill-opacity=\"1\" stroke=\"#000000\" stroke-opacity=\"1\" stroke-width=\"5.12\"/>\n",
       "<path clip-path=\"url(#clip970)\" d=\"M2090.87 292.272 Q2089.06 296.902 2087.35 298.314 Q2085.64 299.726 2082.77 299.726 L2079.36 299.726 L2079.36 296.161 L2081.86 296.161 Q2083.62 296.161 2084.59 295.328 Q2085.57 294.494 2086.75 291.392 L2087.51 289.448 L2077.02 263.939 L2081.54 263.939 L2089.64 284.217 L2097.74 263.939 L2102.26 263.939 L2090.87 292.272 Z\" fill=\"#000000\" fill-rule=\"evenodd\" fill-opacity=\"1\" /><path clip-path=\"url(#clip970)\" d=\"M2112.77 285.929 L2129.08 285.929 L2129.08 289.865 L2107.14 289.865 L2107.14 285.929 Q2109.8 283.175 2114.39 278.545 Q2118.99 273.893 2120.17 272.55 Q2122.42 270.027 2123.3 268.291 Q2124.2 266.531 2124.2 264.842 Q2124.2 262.087 2122.26 260.351 Q2120.33 258.615 2117.23 258.615 Q2115.03 258.615 2112.58 259.379 Q2110.15 260.143 2107.37 261.694 L2107.37 256.971 Q2110.2 255.837 2112.65 255.258 Q2115.1 254.68 2117.14 254.68 Q2122.51 254.68 2125.71 257.365 Q2128.9 260.05 2128.9 264.541 Q2128.9 266.67 2128.09 268.592 Q2127.3 270.49 2125.2 273.082 Q2124.62 273.754 2121.52 276.971 Q2118.41 280.166 2112.77 285.929 Z\" fill=\"#000000\" fill-rule=\"evenodd\" fill-opacity=\"1\" /></svg>\n"
      ]
     },
     "execution_count": 30,
     "metadata": {},
     "output_type": "execute_result"
    }
   ],
   "source": [
    "plot(abs.(diag(gcgc_meta.cov) .- diag(C_mod)) ./ diag(gcgc_meta.cov), label=\"cosmo1\", title=\"Nz - abs(C'-C) / C\")\n",
    "plot!([5, 13, 23, 34, 47], [0, 0, 0, 0, 0], seriestype=:scatter)\n"
   ]
  },
  {
   "cell_type": "code",
   "execution_count": 31,
   "id": "9f9f5611",
   "metadata": {},
   "outputs": [],
   "source": [
    "npzwrite(\"../../data/DESY1/nzs/gcgc_nz_cov_marg_lsst.npz\",\n",
    "        Dict(\"cov_marg\" => C_mod,\n",
    "             \"inv_cov_marg\" => inv_C_mod))"
   ]
  },
  {
   "cell_type": "code",
   "execution_count": null,
   "id": "9c5b0e4b",
   "metadata": {},
   "outputs": [],
   "source": []
  }
 ],
 "metadata": {
  "kernelspec": {
   "display_name": "Julia (10 threads) 1.9.0-rc2",
   "language": "julia",
   "name": "julia-_10-threads_-1.9"
  },
  "language_info": {
   "file_extension": ".jl",
   "mimetype": "application/julia",
   "name": "julia",
   "version": "1.9.0"
  }
 },
 "nbformat": 4,
 "nbformat_minor": 5
}
