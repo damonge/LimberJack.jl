{
 "cells": [
  {
   "cell_type": "markdown",
   "id": "28bc8f1c",
   "metadata": {},
   "source": [
    "# Calling LimberJack from Python"
   ]
  },
  {
   "cell_type": "markdown",
   "id": "6daa532d",
   "metadata": {},
   "source": [
    "Install ```pip3 install juliacall``` and then:"
   ]
  },
  {
   "cell_type": "code",
   "execution_count": null,
   "id": "f25aa23b",
   "metadata": {},
   "outputs": [],
   "source": [
    "from juliacall import Main as jl\n",
    "jl.seval(\"using LimberJack\")\n",
    "jl.Cosmology()"
   ]
  }
 ],
 "metadata": {
  "kernelspec": {
   "display_name": "Python 3 (ipykernel)",
   "language": "python",
   "name": "python3"
  },
  "language_info": {
   "codemirror_mode": {
    "name": "ipython",
    "version": 3
   },
   "file_extension": ".py",
   "mimetype": "text/x-python",
   "name": "python",
   "nbconvert_exporter": "python",
   "pygments_lexer": "ipython3",
   "version": "3.8.10"
  }
 },
 "nbformat": 4,
 "nbformat_minor": 5
}
